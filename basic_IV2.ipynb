{
 "cells": [
  {
   "cell_type": "code",
   "execution_count": 1640,
   "metadata": {
    "ExecuteTime": {
     "end_time": "2018-10-08T01:36:51.815633Z",
     "start_time": "2018-10-08T01:36:50.219308Z"
    }
   },
   "outputs": [],
   "source": [
    "# imports\n",
    "%reload_ext autoreload\n",
    "%autoreload 2\n",
    "%matplotlib inline \n",
    "\n",
    "from basic_utils import *\n",
    "import numpy as np\n",
    "\n",
    "pd.set_option('display.max_rows', 20)"
   ]
  },
  {
   "cell_type": "code",
   "execution_count": 2070,
   "metadata": {
    "code_folding": [
     3,
     6,
     11,
     19,
     23,
     24
    ]
   },
   "outputs": [],
   "source": [
    "def fromts_todate(df, column):\n",
    "    return [date.fromtimestamp(x) for x in df[column].values]\n",
    "\n",
    "def if_col_value(df, col_name):\n",
    "    return df[col_name] if (df.columns.contains(col_name)) else 0\n",
    "\n",
    "def fs_total_subset(df, columns):\n",
    "    \"\"\"Sums a subset of columns\"\"\"\n",
    "    fin_section = df[columns]\n",
    "    return fin_section.sum(axis=1).sort_index(ascending=True)\n",
    "\n",
    "def fs_append_ltm(last4A, last4Q):\n",
    "    \"\"\"Calculates LTM (sum of last four quarters) and returns appended DataFrame\"\"\"\n",
    "    last4Q.sort_index(ascending=True, inplace=True)\n",
    "    last4A.sort_index(ascending=True, inplace=True)\n",
    "    if last4A.index[-1] != last4Q.index[-1]:\n",
    "        last4A.loc[last4Q.index[-1]] = last4Q.sum()\n",
    "    return last4A.sort_index()\n",
    "\n",
    "def fs_available_labels(df, labels):\n",
    "    \"\"\"Returns the labels contained in the DataFrame\"\"\"\n",
    "    return [x for x in labels if df.columns.contains(x)]\n",
    "\n",
    "def convert_dates(df, dateCols, sortCol):\n",
    "    for x in dateCols:\n",
    "        df[x] = fromts_todate(df, x)\n",
    "    df = df.sort_values(sortCol)\n",
    "    df = df.set_index(sortCol, drop=True)\n",
    "    return df\n",
    "\n",
    "def fs_append_ltm(dfA, dfQ, isBs, exclCols):\n",
    "    \"\"\"Calculates LTM (sum of last four quarters) and returns appended DataFrame\"\"\"\n",
    "    if dfQ.index[-1] > dfA.index[-1]:\n",
    "        dfA.loc[dfQ.index[-1]] = dfQ.loc[dfQ.index[-1]]\n",
    "        if not isBs:\n",
    "            sum_cols = [x for x in dfQ.columns.tolist() if x not in excl_cols]\n",
    "            sum_cols = [x for x in dfQ.columns.tolist() if x not in excl_cols]\n",
    "            dfA.loc[dfQ.index[-1], sum_cols] = dfQ[sum_cols].sum()\n",
    "    return dfA.sort_index()\n",
    "\n",
    "def list_cols_excl(allCols, exclCols):\n",
    "    return [x for x in allCols if x not in exclCols]"
   ]
  },
  {
   "cell_type": "code",
   "execution_count": 2068,
   "metadata": {
    "ExecuteTime": {
     "end_time": "2018-10-08T01:36:52.340532Z",
     "start_time": "2018-10-08T01:36:51.819058Z"
    }
   },
   "outputs": [],
   "source": [
    "date_cols = ['endDate', 'storeDate']\n",
    "excl_cols = ['maxAge', 'symbol', 'period', 'storeDate']\n",
    "dates = read_dates('quote') "
   ]
  },
  {
   "cell_type": "code",
   "execution_count": 1643,
   "metadata": {
    "ExecuteTime": {
     "end_time": "2018-10-08T01:36:52.374611Z",
     "start_time": "2018-10-08T01:36:52.343846Z"
    }
   },
   "outputs": [
    {
     "data": {
      "text/plain": [
       "['2019-02-01']"
      ]
     },
     "execution_count": 1643,
     "metadata": {},
     "output_type": "execute_result"
    }
   ],
   "source": [
    "UNIT_SCALE = 10**9\n",
    "tgt_date = ['2019-02-01'] # hardcoded for now\n",
    "tgt_date"
   ]
  },
  {
   "cell_type": "markdown",
   "metadata": {},
   "source": [
    "### Load data from S3"
   ]
  },
  {
   "cell_type": "code",
   "execution_count": 1958,
   "metadata": {
    "ExecuteTime": {
     "end_time": "2018-10-08T01:36:56.144122Z",
     "start_time": "2018-10-08T01:36:54.313254Z"
    },
    "scrolled": true
   },
   "outputs": [
    {
     "name": "stdout",
     "output_type": "stream",
     "text": [
      "Loading file quote/csv/2019-02-01\n",
      "Loading file summary-categories/assetProfile\n",
      "Loading file summary-categories/defaultKeyStatistics/2019-02-01\n",
      "Loading file summary-categories/financialData/2019-02-01\n"
     ]
    }
   ],
   "source": [
    "latest_quotes = load_csvs('quote_consol', tgt_date)\n",
    "profile = load_csvs('summary_detail', ['assetProfile'])\n",
    "latest_keystats = load_csvs('summary_detail', ['defaultKeyStatistics/' + str(tgt_date[0])])\n",
    "latest_finstats = load_csvs('summary_detail', ['financialData/' + str(tgt_date[0])])"
   ]
  },
  {
   "cell_type": "code",
   "execution_count": 1959,
   "metadata": {},
   "outputs": [
    {
     "name": "stdout",
     "output_type": "stream",
     "text": [
      "Loading file summary-categories/financials-BS\n",
      "Loading file summary-categories/financials-IS\n",
      "Loading file summary-categories/financials-CF\n"
     ]
    }
   ],
   "source": [
    "latest_finBS = load_csvs('summary_detail', ['financials-BS'])\n",
    "latest_finIS = load_csvs('summary_detail', ['financials-IS'])\n",
    "latest_finCF = load_csvs('summary_detail', ['financials-CF'])"
   ]
  },
  {
   "cell_type": "markdown",
   "metadata": {},
   "source": [
    "### Select company"
   ]
  },
  {
   "cell_type": "code",
   "execution_count": 2071,
   "metadata": {},
   "outputs": [
    {
     "data": {
      "text/plain": [
       "<matplotlib.axes._subplots.AxesSubplot at 0x1255b95f8>"
      ]
     },
     "execution_count": 2071,
     "metadata": {},
     "output_type": "execute_result"
    },
    {
     "data": {
      "image/png": "[encoded data removed]",
      "text/plain": [
       "<Figure size 432x288 with 1 Axes>"
      ]
     },
     "metadata": {
      "needs_background": "light"
     },
     "output_type": "display_data"
    }
   ],
   "source": [
    "# Show how many companies have updates financials\n",
    "field = 'cash'\n",
    "fil_period = latest_finBS[(latest_finBS.period == 'Q')]\n",
    "date_count_df = fil_period[['symbol','endDate', field]]\\\n",
    "    .groupby('endDate').count()\\\n",
    "    .sort_values(by=field, ascending=False).head(10)\n",
    "date_count_df['endDate'] = fromts_todate(\n",
    "    date_count_df.reset_index(), 'endDate')\n",
    "date_count_df.set_index('endDate').sort_index(ascending=True)[field].plot.barh()"
   ]
  },
  {
   "cell_type": "code",
   "execution_count": 1942,
   "metadata": {},
   "outputs": [
    {
     "data": {
      "text/plain": [
       "array(['A', 'AAPL', 'ADBE', 'ADP', 'ADSK', 'AEIS', 'AEO', 'AKAM', 'ALGN',\n",
       "       'ALRM', 'AMAT', 'AMD', 'AME', 'AMZN', 'ANET', 'ANSS', 'ANTM',\n",
       "       'APPF', 'APTV', 'AQB', 'ARCT', 'ARNC', 'ATGE', 'ATHN', 'ATTU',\n",
       "       'ATVI', 'AVAV', 'AVX', 'AYX', 'BABA', 'BBY', 'BC', 'BGNE', 'BIDU',\n",
       "       'BIIB', 'BKNG', 'BL', 'BLCM', 'BLUE', 'BMY', 'BOX', 'BRKR', 'BRKS',\n",
       "       'CAMT', 'CBM', 'CCMP', 'CDNS', 'CELG', 'CERN', 'CERS', 'CGEN',\n",
       "       'CGNX', 'CHGG', 'CHKP', 'CI', 'CLLS', 'CNC', 'COLM', 'COUP',\n",
       "       'CREE', 'CRM', 'CRNT', 'CRSP', 'CRUS', 'CSCO', 'CSOD', 'CTSH',\n",
       "       'CVLT', 'CYBR', 'DATA', 'DBX', 'DDD', 'DECK', 'DLB', 'DMLRY',\n",
       "       'DORM', 'DOX', 'DSW', 'DXCM', 'EA', 'EBS', 'EDIT', 'EDU', 'EEFT',\n",
       "       'ELLI', 'EPAM', 'ESLT', 'ETSY', 'EVGN', 'EVLO', 'EW', 'EXEL',\n",
       "       'EXLS', 'EXPE', 'F', 'FARO', 'FB', 'FFIV', 'FIVE', 'FIVN', 'FL',\n",
       "       'FLIR', 'FOMX', 'FTNT', 'GHC', 'GILD', 'GILT', 'GLMD', 'GM',\n",
       "       'GMED', 'GNTX', 'GOOG', 'GPS', 'GRUB', 'GSKY', 'GWRE', 'HALO',\n",
       "       'HDP', 'HPQ', 'HQY', 'HUBS', 'HUM', 'HXL', 'ICE', 'ICUI', 'IFNNY',\n",
       "       'ILMN', 'INCY', 'INO', 'INTU', 'IONS', 'IOVA', 'IPGP', 'IRBT',\n",
       "       'ISRG', 'ITRN', 'JD', 'JNPR', 'KLAC', 'KMDA', 'LGND', 'LOGM',\n",
       "       'LOPE', 'LULU', 'MA', 'MANH', 'MASI', 'MDSO', 'MIME', 'MKSI',\n",
       "       'MOH', 'MPWR', 'MRVL', 'MSFT', 'MSG', 'MU', 'MXIM', 'MYGN', 'NATI',\n",
       "       'NEOG', 'NEWR', 'NKE', 'NOW', 'NTAP', 'NTGR', 'NVDA', 'NWS',\n",
       "       'NWSA', 'OLED', 'OLLI', 'ORCL', 'PANW', 'PAYC', 'PAYX', 'PCTY',\n",
       "       'PEGA', 'PLCE', 'PLT', 'POWI', 'PSTG', 'QCOM', 'QLYS', 'RGEN',\n",
       "       'RHT', 'RL', 'RNG', 'ROG', 'ROST', 'SHOO', 'SKX', 'SLAB', 'SMTC',\n",
       "       'SNPS', 'SPLK', 'SQ', 'STMP', 'SUPN', 'SWKS', 'TAL', 'TDC', 'TER',\n",
       "       'TIF', 'TJX', 'TRIP', 'TTD', 'TTWO', 'TWTR', 'TXN', 'TYL', 'UBNT',\n",
       "       'ULTA', 'ULTI', 'URBN', 'UTHR', 'V', 'VAR', 'VC', 'VEEV', 'VRTX',\n",
       "       'VSH', 'WAT', 'WCG', 'WDAY', 'WST', 'WWE', 'XLNX', 'YELP', 'ZEN',\n",
       "       'ZNGA'], dtype=object)"
      ]
     },
     "execution_count": 1942,
     "metadata": {},
     "output_type": "execute_result"
    }
   ],
   "source": [
    "latest_finBS.symbol.unique()"
   ]
  },
  {
   "cell_type": "code",
   "execution_count": 2072,
   "metadata": {},
   "outputs": [
    {
     "data": {
      "text/plain": [
       "79    302128992\n",
       "Name: sharesOutstanding, dtype: int64"
      ]
     },
     "execution_count": 2072,
     "metadata": {},
     "output_type": "execute_result"
    }
   ],
   "source": [
    "symbol = 'EA'\n",
    "ks_df = latest_keystats[latest_keystats.symbol == symbol]\n",
    "ks_df.sharesOutstanding"
   ]
  },
  {
   "cell_type": "code",
   "execution_count": 2073,
   "metadata": {
    "ExecuteTime": {
     "end_time": "2018-09-28T00:57:02.390090Z",
     "start_time": "2018-09-28T00:57:02.283556Z"
    }
   },
   "outputs": [],
   "source": [
    "# Show basic structure of the loaded dataframe\n",
    "# profile.info()\n",
    "# latest_quotes.info()\n",
    "# latest_keystats.info()\n",
    "# latest_finstats.info()\n",
    "# latest_finBS.info()\n",
    "# latest_finIS.info()\n",
    "# latest_finCF.info()"
   ]
  },
  {
   "cell_type": "markdown",
   "metadata": {},
   "source": [
    "### Perform analysis"
   ]
  },
  {
   "cell_type": "code",
   "execution_count": 2074,
   "metadata": {},
   "outputs": [
    {
     "name": "stdout",
     "output_type": "stream",
     "text": [
      "Balance Sheet labels:\n",
      " Index(['maxAge', 'cash', 'netReceivables', 'inventory', 'otherCurrentAssets',\n",
      "       'totalCurrentAssets', 'longTermInvestments', 'propertyPlantEquipment',\n",
      "       'goodWill', 'intangibleAssets', 'otherAssets',\n",
      "       'deferredLongTermAssetCharges', 'totalAssets', 'accountsPayable',\n",
      "       'otherCurrentLiab', 'longTermDebt', 'otherLiab', 'minorityInterest',\n",
      "       'totalCurrentLiabilities', 'totalLiab', 'commonStock',\n",
      "       'retainedEarnings', 'treasuryStock', 'capitalSurplus',\n",
      "       'otherStockholderEquity', 'totalStockholderEquity', 'netTangibleAssets',\n",
      "       'symbol', 'period', 'shortTermInvestments', 'shortLongTermDebt',\n",
      "       'deferredLongTermLiab', 'storeDate'],\n",
      "      dtype='object')\n"
     ]
    },
    {
     "name": "stderr",
     "output_type": "stream",
     "text": [
      "/Users/vveiga/miniconda3/envs/inception/lib/python3.7/site-packages/ipykernel_launcher.py:34: SettingWithCopyWarning: \n",
      "A value is trying to be set on a copy of a slice from a DataFrame\n",
      "\n",
      "See the caveats in the documentation: http://pandas.pydata.org/pandas-docs/stable/indexing.html#indexing-view-versus-copy\n"
     ]
    },
    {
     "data": {
      "text/html": [
       "<div>\n",
       "<style scoped>\n",
       "    .dataframe tbody tr th:only-of-type {\n",
       "        vertical-align: middle;\n",
       "    }\n",
       "\n",
       "    .dataframe tbody tr th {\n",
       "        vertical-align: top;\n",
       "    }\n",
       "\n",
       "    .dataframe thead th {\n",
       "        text-align: right;\n",
       "    }\n",
       "</style>\n",
       "<table border=\"1\" class=\"dataframe\">\n",
       "  <thead>\n",
       "    <tr style=\"text-align: right;\">\n",
       "      <th>endDate</th>\n",
       "      <th>2015-03-30</th>\n",
       "      <th>2016-03-30</th>\n",
       "      <th>2017-03-30</th>\n",
       "      <th>2018-03-30</th>\n",
       "      <th>2018-09-29</th>\n",
       "    </tr>\n",
       "  </thead>\n",
       "  <tbody>\n",
       "    <tr>\n",
       "      <th>totalAssets</th>\n",
       "      <td>6.1</td>\n",
       "      <td>7.0</td>\n",
       "      <td>7.7</td>\n",
       "      <td>8.6</td>\n",
       "      <td>8.4</td>\n",
       "    </tr>\n",
       "    <tr>\n",
       "      <th>workingCapital</th>\n",
       "      <td>0.3</td>\n",
       "      <td>0.1</td>\n",
       "      <td>0.3</td>\n",
       "      <td>0.3</td>\n",
       "      <td>0.8</td>\n",
       "    </tr>\n",
       "    <tr>\n",
       "      <th>adjAssetBase</th>\n",
       "      <td>6.1</td>\n",
       "      <td>7.0</td>\n",
       "      <td>7.7</td>\n",
       "      <td>8.6</td>\n",
       "      <td>8.4</td>\n",
       "    </tr>\n",
       "    <tr>\n",
       "      <th>totalCash</th>\n",
       "      <td>3.0</td>\n",
       "      <td>3.8</td>\n",
       "      <td>4.5</td>\n",
       "      <td>5.3</td>\n",
       "      <td>4.5</td>\n",
       "    </tr>\n",
       "    <tr>\n",
       "      <th>adjAssetBaseLessCash</th>\n",
       "      <td>3.7</td>\n",
       "      <td>3.4</td>\n",
       "      <td>3.2</td>\n",
       "      <td>3.3</td>\n",
       "      <td>4.9</td>\n",
       "    </tr>\n",
       "    <tr>\n",
       "      <th>netDebt</th>\n",
       "      <td>-2.4</td>\n",
       "      <td>-3.7</td>\n",
       "      <td>-4.5</td>\n",
       "      <td>-5.3</td>\n",
       "      <td>-3.6</td>\n",
       "    </tr>\n",
       "  </tbody>\n",
       "</table>\n",
       "</div>"
      ],
      "text/plain": [
       "endDate               2015-03-30  2016-03-30  2017-03-30  2018-03-30  \\\n",
       "totalAssets                  6.1         7.0         7.7         8.6   \n",
       "workingCapital               0.3         0.1         0.3         0.3   \n",
       "adjAssetBase                 6.1         7.0         7.7         8.6   \n",
       "totalCash                    3.0         3.8         4.5         5.3   \n",
       "adjAssetBaseLessCash         3.7         3.4         3.2         3.3   \n",
       "netDebt                     -2.4        -3.7        -4.5        -5.3   \n",
       "\n",
       "endDate               2018-09-29  \n",
       "totalAssets                  8.4  \n",
       "workingCapital               0.8  \n",
       "adjAssetBase                 8.4  \n",
       "totalCash                    4.5  \n",
       "adjAssetBaseLessCash         4.9  \n",
       "netDebt                     -3.6  "
      ]
     },
     "execution_count": 2074,
     "metadata": {},
     "output_type": "execute_result"
    }
   ],
   "source": [
    "# Balance sheet calculations\n",
    "df = latest_finBS.copy()\n",
    "df = convert_dates(df, date_cols, 'endDate')\n",
    "mask_perQ = (df.period == 'Q')\n",
    "mask_perA = (df.period == 'A')\n",
    "\n",
    "mask_symbol = (df.symbol == symbol) \n",
    "df = df[mask_symbol]\n",
    "print(\"Balance Sheet labels:\\n\", df.T.index)\n",
    "\n",
    "# Balance Sheet\n",
    "wc_assets = ['netReceivables', 'inventory']\n",
    "wc_liabs = ['accountsPayable']\n",
    "total_cash = ['cash', 'shortTermInvestments', 'longTermInvestments']\n",
    "total_debt = ['shortLongTermDebt', 'longTermDebt']\n",
    "bs_summary = ['totalAssets', 'workingCapital', 'adjAssetBase','totalCash', \n",
    "              'adjAssetBaseLessCash', 'netDebt']\n",
    "\n",
    "dfA = df[(df.period == 'A')]\n",
    "dfQ = df[(df.period == 'Q')]\n",
    "dfA = fs_append_ltm(dfA, dfQ, True, excl_cols)\n",
    "dfA.loc[:, 'workingCapital'] = fs_total_subset(dfA, wc_assets) - fs_total_subset(dfA, wc_liabs)\n",
    "dfA.loc[:, 'adjAssetBase'] = dfA['totalAssets'] + dfA['workingCapital'].apply(min, args=(0,))\n",
    "dfA.loc[:, 'totalCash'] = fs_total_subset(dfA, total_cash)\n",
    "dfA.loc[:, 'totalDebt'] = fs_total_subset(dfA, total_debt)\n",
    "dfA.loc[:, 'netDebt'] = dfA['totalDebt'] - dfA['totalCash']\n",
    "dfA.loc[:, 'adjAssetBaseLessCash'] = dfA['adjAssetBase'] + dfA['netDebt'].apply(min, args=(0,))\n",
    "bs_sum = dfA[bs_summary].copy()\n",
    "(bs_sum / UNIT_SCALE).T.round(1)"
   ]
  },
  {
   "cell_type": "code",
   "execution_count": 2075,
   "metadata": {},
   "outputs": [
    {
     "name": "stdout",
     "output_type": "stream",
     "text": [
      "Cash Flow Statement labels:\n",
      " Index(['maxAge', 'netIncome', 'depreciation', 'changeToNetincome',\n",
      "       'changeToAccountReceivables', 'changeToLiabilities',\n",
      "       'changeToInventory', 'changeToOperatingActivities',\n",
      "       'totalCashFromOperatingActivities', 'capitalExpenditures',\n",
      "       'investments', 'otherCashflowsFromInvestingActivities',\n",
      "       'totalCashflowsFromInvestingActivities', 'dividendsPaid',\n",
      "       'netBorrowings', 'otherCashflowsFromFinancingActivities',\n",
      "       'totalCashFromFinancingActivities', 'effectOfExchangeRate',\n",
      "       'changeInCash', 'repurchaseOfStock', 'issuanceOfStock', 'symbol',\n",
      "       'period', 'storeDate'],\n",
      "      dtype='object')\n"
     ]
    },
    {
     "name": "stderr",
     "output_type": "stream",
     "text": [
      "/Users/vveiga/miniconda3/envs/inception/lib/python3.7/site-packages/ipykernel_launcher.py:34: SettingWithCopyWarning: \n",
      "A value is trying to be set on a copy of a slice from a DataFrame\n",
      "\n",
      "See the caveats in the documentation: http://pandas.pydata.org/pandas-docs/stable/indexing.html#indexing-view-versus-copy\n",
      "/Users/vveiga/miniconda3/envs/inception/lib/python3.7/site-packages/pandas/core/indexing.py:543: SettingWithCopyWarning: \n",
      "A value is trying to be set on a copy of a slice from a DataFrame.\n",
      "Try using .loc[row_indexer,col_indexer] = value instead\n",
      "\n",
      "See the caveats in the documentation: http://pandas.pydata.org/pandas-docs/stable/indexing.html#indexing-view-versus-copy\n",
      "  self.obj[item] = s\n"
     ]
    },
    {
     "data": {
      "text/html": [
       "<div>\n",
       "<style scoped>\n",
       "    .dataframe tbody tr th:only-of-type {\n",
       "        vertical-align: middle;\n",
       "    }\n",
       "\n",
       "    .dataframe tbody tr th {\n",
       "        vertical-align: top;\n",
       "    }\n",
       "\n",
       "    .dataframe thead th {\n",
       "        text-align: right;\n",
       "    }\n",
       "</style>\n",
       "<table border=\"1\" class=\"dataframe\">\n",
       "  <thead>\n",
       "    <tr style=\"text-align: right;\">\n",
       "      <th>endDate</th>\n",
       "      <th>2015-03-30</th>\n",
       "      <th>2016-03-30</th>\n",
       "      <th>2017-03-30</th>\n",
       "      <th>2018-03-30</th>\n",
       "      <th>2018-09-29</th>\n",
       "    </tr>\n",
       "  </thead>\n",
       "  <tbody>\n",
       "    <tr>\n",
       "      <th>totalCashFromOperatingActivities</th>\n",
       "      <td>1.1</td>\n",
       "      <td>1.5</td>\n",
       "      <td>1.6</td>\n",
       "      <td>1.7</td>\n",
       "      <td>1.5</td>\n",
       "    </tr>\n",
       "    <tr>\n",
       "      <th>depreciation</th>\n",
       "      <td>0.2</td>\n",
       "      <td>0.2</td>\n",
       "      <td>0.2</td>\n",
       "      <td>0.1</td>\n",
       "      <td>0.1</td>\n",
       "    </tr>\n",
       "    <tr>\n",
       "      <th>steadyCF</th>\n",
       "      <td>0.9</td>\n",
       "      <td>1.3</td>\n",
       "      <td>1.4</td>\n",
       "      <td>1.6</td>\n",
       "      <td>1.3</td>\n",
       "    </tr>\n",
       "    <tr>\n",
       "      <th>capitalExpenditures</th>\n",
       "      <td>-0.1</td>\n",
       "      <td>-0.1</td>\n",
       "      <td>-0.1</td>\n",
       "      <td>-0.1</td>\n",
       "      <td>-0.1</td>\n",
       "    </tr>\n",
       "    <tr>\n",
       "      <th>netBorrowings</th>\n",
       "      <td>0.5</td>\n",
       "      <td>0.5</td>\n",
       "      <td>-0.2</td>\n",
       "      <td>NaN</td>\n",
       "      <td>0.0</td>\n",
       "    </tr>\n",
       "    <tr>\n",
       "      <th>steadyFCF</th>\n",
       "      <td>0.9</td>\n",
       "      <td>1.3</td>\n",
       "      <td>1.2</td>\n",
       "      <td>NaN</td>\n",
       "      <td>1.3</td>\n",
       "    </tr>\n",
       "    <tr>\n",
       "      <th>growthCapex</th>\n",
       "      <td>-0.1</td>\n",
       "      <td>-0.1</td>\n",
       "      <td>-0.0</td>\n",
       "      <td>-0.0</td>\n",
       "      <td>-0.0</td>\n",
       "    </tr>\n",
       "    <tr>\n",
       "      <th>repurchaseOfStock</th>\n",
       "      <td>-0.3</td>\n",
       "      <td>-1.2</td>\n",
       "      <td>-0.6</td>\n",
       "      <td>-0.7</td>\n",
       "      <td>-1.0</td>\n",
       "    </tr>\n",
       "    <tr>\n",
       "      <th>dividendsPaid</th>\n",
       "      <td>NaN</td>\n",
       "      <td>NaN</td>\n",
       "      <td>NaN</td>\n",
       "      <td>NaN</td>\n",
       "      <td>0.0</td>\n",
       "    </tr>\n",
       "    <tr>\n",
       "      <th>sbcAddbacks</th>\n",
       "      <td>0.3</td>\n",
       "      <td>0.2</td>\n",
       "      <td>0.4</td>\n",
       "      <td>0.3</td>\n",
       "      <td>0.2</td>\n",
       "    </tr>\n",
       "  </tbody>\n",
       "</table>\n",
       "</div>"
      ],
      "text/plain": [
       "endDate                           2015-03-30  2016-03-30  2017-03-30  \\\n",
       "totalCashFromOperatingActivities         1.1         1.5         1.6   \n",
       "depreciation                             0.2         0.2         0.2   \n",
       "steadyCF                                 0.9         1.3         1.4   \n",
       "capitalExpenditures                     -0.1        -0.1        -0.1   \n",
       "netBorrowings                            0.5         0.5        -0.2   \n",
       "steadyFCF                                0.9         1.3         1.2   \n",
       "growthCapex                             -0.1        -0.1        -0.0   \n",
       "repurchaseOfStock                       -0.3        -1.2        -0.6   \n",
       "dividendsPaid                            NaN         NaN         NaN   \n",
       "sbcAddbacks                              0.3         0.2         0.4   \n",
       "\n",
       "endDate                           2018-03-30  2018-09-29  \n",
       "totalCashFromOperatingActivities         1.7         1.5  \n",
       "depreciation                             0.1         0.1  \n",
       "steadyCF                                 1.6         1.3  \n",
       "capitalExpenditures                     -0.1        -0.1  \n",
       "netBorrowings                            NaN         0.0  \n",
       "steadyFCF                                NaN         1.3  \n",
       "growthCapex                             -0.0        -0.0  \n",
       "repurchaseOfStock                       -0.7        -1.0  \n",
       "dividendsPaid                            NaN         0.0  \n",
       "sbcAddbacks                              0.3         0.2  "
      ]
     },
     "execution_count": 2075,
     "metadata": {},
     "output_type": "execute_result"
    }
   ],
   "source": [
    "# Cash flow items\n",
    "df = latest_finCF.copy()\n",
    "df = convert_dates(df, date_cols, 'endDate')\n",
    "mask_symbol = (df.symbol == symbol) \n",
    "df = df[mask_symbol]\n",
    "\n",
    "print(\"Cash Flow Statement labels:\\n\", df.T.index)\n",
    "\n",
    "cf_summary = ['totalCashFromOperatingActivities', 'depreciation', \n",
    "              'steadyCF', 'capitalExpenditures', \n",
    "              'netBorrowings', 'steadyFCF', 'growthCapex', \n",
    "              'repurchaseOfStock', 'dividendsPaid', 'sbcAddbacks']\n",
    "\n",
    "dfA = df[(df.period == 'A')]\n",
    "dfQ = df[(df.period == 'Q')]\n",
    "dfA = fs_append_ltm(dfA, dfQ, False, excl_cols)\n",
    "dfA.loc[:, 'steadyCF'] = dfA.totalCashFromOperatingActivities - dfA['depreciation']\n",
    "dfA.loc[:, 'steadyFCF'] = dfA['steadyCF'] + dfA['netBorrowings'].apply(min, args=(0,))\n",
    "dfA.loc[:, 'growthCapex'] = np.abs(dfA.capitalExpenditures) - dfA.depreciation\n",
    "dfA.loc[:, 'sbcAddbacks'] = fs_total_subset(\n",
    "    dfA, ['changeToNetincome', 'changeToOperatingActivities'])\n",
    "cf_sum = dfA[cf_summary].copy()\n",
    "(cf_sum / UNIT_SCALE).T.round(1)"
   ]
  },
  {
   "cell_type": "code",
   "execution_count": 2076,
   "metadata": {},
   "outputs": [],
   "source": [
    "# plt_lineitems = ['steadyCF', 'steadyFCF', 'growthCapex']\n",
    "# (cf_sum[plt_lineitems] / UNIT_SCALE).plot.bar()"
   ]
  },
  {
   "cell_type": "code",
   "execution_count": 2077,
   "metadata": {},
   "outputs": [
    {
     "data": {
      "text/html": [
       "<div>\n",
       "<style scoped>\n",
       "    .dataframe tbody tr th:only-of-type {\n",
       "        vertical-align: middle;\n",
       "    }\n",
       "\n",
       "    .dataframe tbody tr th {\n",
       "        vertical-align: top;\n",
       "    }\n",
       "\n",
       "    .dataframe thead th {\n",
       "        text-align: right;\n",
       "    }\n",
       "</style>\n",
       "<table border=\"1\" class=\"dataframe\">\n",
       "  <thead>\n",
       "    <tr style=\"text-align: right;\">\n",
       "      <th>endDate</th>\n",
       "      <th>2015-03-30</th>\n",
       "      <th>2016-03-30</th>\n",
       "      <th>2017-03-30</th>\n",
       "      <th>2018-03-30</th>\n",
       "      <th>2018-09-29</th>\n",
       "    </tr>\n",
       "  </thead>\n",
       "  <tbody>\n",
       "    <tr>\n",
       "      <th>netIncome</th>\n",
       "      <td>0.9</td>\n",
       "      <td>1.2</td>\n",
       "      <td>1.0</td>\n",
       "      <td>1.0</td>\n",
       "      <td>1.0</td>\n",
       "    </tr>\n",
       "    <tr>\n",
       "      <th>depreciation</th>\n",
       "      <td>0.2</td>\n",
       "      <td>0.2</td>\n",
       "      <td>0.2</td>\n",
       "      <td>0.1</td>\n",
       "      <td>0.1</td>\n",
       "    </tr>\n",
       "    <tr>\n",
       "      <th>changeToNetincome</th>\n",
       "      <td>0.1</td>\n",
       "      <td>0.2</td>\n",
       "      <td>0.2</td>\n",
       "      <td>0.2</td>\n",
       "      <td>0.3</td>\n",
       "    </tr>\n",
       "    <tr>\n",
       "      <th>changeToAccountReceivables</th>\n",
       "      <td>-0.1</td>\n",
       "      <td>0.1</td>\n",
       "      <td>-0.1</td>\n",
       "      <td>-0.0</td>\n",
       "      <td>0.0</td>\n",
       "    </tr>\n",
       "    <tr>\n",
       "      <th>changeToLiabilities</th>\n",
       "      <td>-0.3</td>\n",
       "      <td>-0.2</td>\n",
       "      <td>0.2</td>\n",
       "      <td>0.2</td>\n",
       "      <td>0.2</td>\n",
       "    </tr>\n",
       "    <tr>\n",
       "      <th>changeToInventory</th>\n",
       "      <td>NaN</td>\n",
       "      <td>NaN</td>\n",
       "      <td>NaN</td>\n",
       "      <td>NaN</td>\n",
       "      <td>0.0</td>\n",
       "    </tr>\n",
       "    <tr>\n",
       "      <th>changeToOperatingActivities</th>\n",
       "      <td>0.1</td>\n",
       "      <td>0.0</td>\n",
       "      <td>0.2</td>\n",
       "      <td>0.1</td>\n",
       "      <td>-0.1</td>\n",
       "    </tr>\n",
       "    <tr>\n",
       "      <th>totalCashFromOperatingActivities</th>\n",
       "      <td>1.1</td>\n",
       "      <td>1.5</td>\n",
       "      <td>1.6</td>\n",
       "      <td>1.7</td>\n",
       "      <td>1.5</td>\n",
       "    </tr>\n",
       "    <tr>\n",
       "      <th>capitalExpenditures</th>\n",
       "      <td>-0.1</td>\n",
       "      <td>-0.1</td>\n",
       "      <td>-0.1</td>\n",
       "      <td>-0.1</td>\n",
       "      <td>-0.1</td>\n",
       "    </tr>\n",
       "    <tr>\n",
       "      <th>investments</th>\n",
       "      <td>-0.4</td>\n",
       "      <td>-0.4</td>\n",
       "      <td>-0.6</td>\n",
       "      <td>0.9</td>\n",
       "      <td>0.6</td>\n",
       "    </tr>\n",
       "    <tr>\n",
       "      <th>...</th>\n",
       "      <td>...</td>\n",
       "      <td>...</td>\n",
       "      <td>...</td>\n",
       "      <td>...</td>\n",
       "      <td>...</td>\n",
       "    </tr>\n",
       "    <tr>\n",
       "      <th>netBorrowings</th>\n",
       "      <td>0.5</td>\n",
       "      <td>0.5</td>\n",
       "      <td>-0.2</td>\n",
       "      <td>NaN</td>\n",
       "      <td>0.0</td>\n",
       "    </tr>\n",
       "    <tr>\n",
       "      <th>otherCashflowsFromFinancingActivities</th>\n",
       "      <td>0.0</td>\n",
       "      <td>NaN</td>\n",
       "      <td>NaN</td>\n",
       "      <td>NaN</td>\n",
       "      <td>0.0</td>\n",
       "    </tr>\n",
       "    <tr>\n",
       "      <th>totalCashFromFinancingActivities</th>\n",
       "      <td>-0.3</td>\n",
       "      <td>-0.5</td>\n",
       "      <td>-0.7</td>\n",
       "      <td>-0.6</td>\n",
       "      <td>-1.0</td>\n",
       "    </tr>\n",
       "    <tr>\n",
       "      <th>effectOfExchangeRate</th>\n",
       "      <td>-0.1</td>\n",
       "      <td>-0.0</td>\n",
       "      <td>-0.0</td>\n",
       "      <td>0.0</td>\n",
       "      <td>-0.0</td>\n",
       "    </tr>\n",
       "    <tr>\n",
       "      <th>changeInCash</th>\n",
       "      <td>0.3</td>\n",
       "      <td>0.4</td>\n",
       "      <td>0.1</td>\n",
       "      <td>1.7</td>\n",
       "      <td>0.8</td>\n",
       "    </tr>\n",
       "    <tr>\n",
       "      <th>repurchaseOfStock</th>\n",
       "      <td>-0.3</td>\n",
       "      <td>-1.2</td>\n",
       "      <td>-0.6</td>\n",
       "      <td>-0.7</td>\n",
       "      <td>-1.0</td>\n",
       "    </tr>\n",
       "    <tr>\n",
       "      <th>issuanceOfStock</th>\n",
       "      <td>0.1</td>\n",
       "      <td>0.1</td>\n",
       "      <td>0.1</td>\n",
       "      <td>0.1</td>\n",
       "      <td>0.1</td>\n",
       "    </tr>\n",
       "    <tr>\n",
       "      <th>steadyCF</th>\n",
       "      <td>0.9</td>\n",
       "      <td>1.3</td>\n",
       "      <td>1.4</td>\n",
       "      <td>1.6</td>\n",
       "      <td>1.3</td>\n",
       "    </tr>\n",
       "    <tr>\n",
       "      <th>steadyFCF</th>\n",
       "      <td>0.9</td>\n",
       "      <td>1.3</td>\n",
       "      <td>1.2</td>\n",
       "      <td>NaN</td>\n",
       "      <td>1.3</td>\n",
       "    </tr>\n",
       "    <tr>\n",
       "      <th>growthCapex</th>\n",
       "      <td>-0.1</td>\n",
       "      <td>-0.1</td>\n",
       "      <td>-0.0</td>\n",
       "      <td>-0.0</td>\n",
       "      <td>-0.0</td>\n",
       "    </tr>\n",
       "  </tbody>\n",
       "</table>\n",
       "<p>23 rows × 5 columns</p>\n",
       "</div>"
      ],
      "text/plain": [
       "endDate                                2015-03-30  2016-03-30  2017-03-30  \\\n",
       "netIncome                                     0.9         1.2         1.0   \n",
       "depreciation                                  0.2         0.2         0.2   \n",
       "changeToNetincome                             0.1         0.2         0.2   \n",
       "changeToAccountReceivables                   -0.1         0.1        -0.1   \n",
       "changeToLiabilities                          -0.3        -0.2         0.2   \n",
       "changeToInventory                             NaN         NaN         NaN   \n",
       "changeToOperatingActivities                   0.1         0.0         0.2   \n",
       "totalCashFromOperatingActivities              1.1         1.5         1.6   \n",
       "capitalExpenditures                          -0.1        -0.1        -0.1   \n",
       "investments                                  -0.4        -0.4        -0.6   \n",
       "...                                           ...         ...         ...   \n",
       "netBorrowings                                 0.5         0.5        -0.2   \n",
       "otherCashflowsFromFinancingActivities         0.0         NaN         NaN   \n",
       "totalCashFromFinancingActivities             -0.3        -0.5        -0.7   \n",
       "effectOfExchangeRate                         -0.1        -0.0        -0.0   \n",
       "changeInCash                                  0.3         0.4         0.1   \n",
       "repurchaseOfStock                            -0.3        -1.2        -0.6   \n",
       "issuanceOfStock                               0.1         0.1         0.1   \n",
       "steadyCF                                      0.9         1.3         1.4   \n",
       "steadyFCF                                     0.9         1.3         1.2   \n",
       "growthCapex                                  -0.1        -0.1        -0.0   \n",
       "\n",
       "endDate                                2018-03-30  2018-09-29  \n",
       "netIncome                                     1.0         1.0  \n",
       "depreciation                                  0.1         0.1  \n",
       "changeToNetincome                             0.2         0.3  \n",
       "changeToAccountReceivables                   -0.0         0.0  \n",
       "changeToLiabilities                           0.2         0.2  \n",
       "changeToInventory                             NaN         0.0  \n",
       "changeToOperatingActivities                   0.1        -0.1  \n",
       "totalCashFromOperatingActivities              1.7         1.5  \n",
       "capitalExpenditures                          -0.1        -0.1  \n",
       "investments                                   0.9         0.6  \n",
       "...                                           ...         ...  \n",
       "netBorrowings                                 NaN         0.0  \n",
       "otherCashflowsFromFinancingActivities         NaN         0.0  \n",
       "totalCashFromFinancingActivities             -0.6        -1.0  \n",
       "effectOfExchangeRate                          0.0        -0.0  \n",
       "changeInCash                                  1.7         0.8  \n",
       "repurchaseOfStock                            -0.7        -1.0  \n",
       "issuanceOfStock                               0.1         0.1  \n",
       "steadyCF                                      1.6         1.3  \n",
       "steadyFCF                                     NaN         1.3  \n",
       "growthCapex                                  -0.0        -0.0  \n",
       "\n",
       "[23 rows x 5 columns]"
      ]
     },
     "execution_count": 2077,
     "metadata": {},
     "output_type": "execute_result"
    }
   ],
   "source": [
    "# num_cols = list_cols_excl(dfA.columns, excl_cols)\n",
    "(dfA[num_cols].T / UNIT_SCALE).round(1)"
   ]
  },
  {
   "cell_type": "code",
   "execution_count": 2078,
   "metadata": {},
   "outputs": [
    {
     "name": "stdout",
     "output_type": "stream",
     "text": [
      "Income Statement labels:\n",
      " Index(['maxAge', 'totalRevenue', 'costOfRevenue', 'grossProfit',\n",
      "       'researchDevelopment', 'sellingGeneralAdministrative',\n",
      "       'totalOperatingExpenses', 'operatingIncome',\n",
      "       'totalOtherIncomeExpenseNet', 'ebit', 'interestExpense',\n",
      "       'incomeBeforeTax', 'incomeTaxExpense', 'minorityInterest',\n",
      "       'netIncomeFromContinuingOps', 'discontinuedOperations', 'netIncome',\n",
      "       'netIncomeApplicableToCommonShares', 'symbol', 'period',\n",
      "       'otherOperatingExpenses', 'storeDate'],\n",
      "      dtype='object')\n"
     ]
    },
    {
     "name": "stderr",
     "output_type": "stream",
     "text": [
      "/Users/vveiga/miniconda3/envs/inception/lib/python3.7/site-packages/ipykernel_launcher.py:34: SettingWithCopyWarning: \n",
      "A value is trying to be set on a copy of a slice from a DataFrame\n",
      "\n",
      "See the caveats in the documentation: http://pandas.pydata.org/pandas-docs/stable/indexing.html#indexing-view-versus-copy\n"
     ]
    },
    {
     "data": {
      "text/html": [
       "<div>\n",
       "<style scoped>\n",
       "    .dataframe tbody tr th:only-of-type {\n",
       "        vertical-align: middle;\n",
       "    }\n",
       "\n",
       "    .dataframe tbody tr th {\n",
       "        vertical-align: top;\n",
       "    }\n",
       "\n",
       "    .dataframe thead th {\n",
       "        text-align: right;\n",
       "    }\n",
       "</style>\n",
       "<table border=\"1\" class=\"dataframe\">\n",
       "  <thead>\n",
       "    <tr style=\"text-align: right;\">\n",
       "      <th>endDate</th>\n",
       "      <th>2015-03-30</th>\n",
       "      <th>2016-03-30</th>\n",
       "      <th>2017-03-30</th>\n",
       "      <th>2018-03-30</th>\n",
       "      <th>2018-09-29</th>\n",
       "    </tr>\n",
       "  </thead>\n",
       "  <tbody>\n",
       "    <tr>\n",
       "      <th>totalRevenue</th>\n",
       "      <td>4.5</td>\n",
       "      <td>4.4</td>\n",
       "      <td>4.8</td>\n",
       "      <td>5.2</td>\n",
       "      <td>5.2</td>\n",
       "    </tr>\n",
       "    <tr>\n",
       "      <th>growthCost</th>\n",
       "      <td>NaN</td>\n",
       "      <td>0.0</td>\n",
       "      <td>0.2</td>\n",
       "      <td>0.1</td>\n",
       "      <td>0.1</td>\n",
       "    </tr>\n",
       "  </tbody>\n",
       "</table>\n",
       "</div>"
      ],
      "text/plain": [
       "endDate       2015-03-30  2016-03-30  2017-03-30  2018-03-30  2018-09-29\n",
       "totalRevenue         4.5         4.4         4.8         5.2         5.2\n",
       "growthCost           NaN         0.0         0.2         0.1         0.1"
      ]
     },
     "execution_count": 2078,
     "metadata": {},
     "output_type": "execute_result"
    }
   ],
   "source": [
    "# Income statement calcs\n",
    "df = latest_finIS.copy()\n",
    "df = convert_dates(df, date_cols, 'endDate')\n",
    "mask_symbol = (df.symbol == symbol) \n",
    "df = df[mask_symbol]\n",
    "print(\"Income Statement labels:\\n\", df.T.index)\n",
    "\n",
    "cash_cost_growth = ['researchDevelopment',\n",
    "                    'sellingGeneralAdministrative']\n",
    "is_summary = ['totalRevenue','growthCost']\n",
    "\n",
    "dfA = df[(df.period == 'A')]\n",
    "dfQ = df[(df.period == 'Q')]\n",
    "dfA = fs_append_ltm(dfA, dfQ, False, excl_cols)\n",
    "cost_gr_df = fs_total_subset(dfA, cash_cost_growth)\n",
    "dfA.loc[:, 'growthCost'] = (cost_gr_df - cost_gr_df.shift(1)) \\\n",
    "    - cf_sum.sbcAddbacks.apply(min, args=(0,))\n",
    "is_sum = dfA[is_summary].copy()\n",
    "\n",
    "(is_sum / UNIT_SCALE).T.round(1)"
   ]
  },
  {
   "cell_type": "code",
   "execution_count": 2079,
   "metadata": {},
   "outputs": [
    {
     "data": {
      "text/html": [
       "<div>\n",
       "<style scoped>\n",
       "    .dataframe tbody tr th:only-of-type {\n",
       "        vertical-align: middle;\n",
       "    }\n",
       "\n",
       "    .dataframe tbody tr th {\n",
       "        vertical-align: top;\n",
       "    }\n",
       "\n",
       "    .dataframe thead th {\n",
       "        text-align: right;\n",
       "    }\n",
       "</style>\n",
       "<table border=\"1\" class=\"dataframe\">\n",
       "  <thead>\n",
       "    <tr style=\"text-align: right;\">\n",
       "      <th>endDate</th>\n",
       "      <th>2015-03-30</th>\n",
       "      <th>2016-03-30</th>\n",
       "      <th>2017-03-30</th>\n",
       "      <th>2018-03-30</th>\n",
       "      <th>2018-09-29</th>\n",
       "    </tr>\n",
       "  </thead>\n",
       "  <tbody>\n",
       "    <tr>\n",
       "      <th>totalAssets</th>\n",
       "      <td>6.1</td>\n",
       "      <td>7.0</td>\n",
       "      <td>7.7</td>\n",
       "      <td>8.6</td>\n",
       "      <td>8.4</td>\n",
       "    </tr>\n",
       "    <tr>\n",
       "      <th>adjAssetBaseLessCash</th>\n",
       "      <td>3.7</td>\n",
       "      <td>3.4</td>\n",
       "      <td>3.2</td>\n",
       "      <td>3.3</td>\n",
       "      <td>4.9</td>\n",
       "    </tr>\n",
       "    <tr>\n",
       "      <th>netDebt</th>\n",
       "      <td>-2.4</td>\n",
       "      <td>-3.7</td>\n",
       "      <td>-4.5</td>\n",
       "      <td>-5.3</td>\n",
       "      <td>-3.6</td>\n",
       "    </tr>\n",
       "    <tr>\n",
       "      <th>totalRevenue</th>\n",
       "      <td>4.5</td>\n",
       "      <td>4.4</td>\n",
       "      <td>4.8</td>\n",
       "      <td>5.2</td>\n",
       "      <td>5.2</td>\n",
       "    </tr>\n",
       "    <tr>\n",
       "      <th>steadyCF</th>\n",
       "      <td>0.9</td>\n",
       "      <td>1.3</td>\n",
       "      <td>1.4</td>\n",
       "      <td>1.6</td>\n",
       "      <td>1.3</td>\n",
       "    </tr>\n",
       "    <tr>\n",
       "      <th>steadyFCF</th>\n",
       "      <td>0.9</td>\n",
       "      <td>1.3</td>\n",
       "      <td>1.2</td>\n",
       "      <td>NaN</td>\n",
       "      <td>1.3</td>\n",
       "    </tr>\n",
       "    <tr>\n",
       "      <th>reinvCapital</th>\n",
       "      <td>NaN</td>\n",
       "      <td>0.0</td>\n",
       "      <td>0.1</td>\n",
       "      <td>0.1</td>\n",
       "      <td>0.0</td>\n",
       "    </tr>\n",
       "  </tbody>\n",
       "</table>\n",
       "</div>"
      ],
      "text/plain": [
       "endDate               2015-03-30  2016-03-30  2017-03-30  2018-03-30  \\\n",
       "totalAssets                  6.1         7.0         7.7         8.6   \n",
       "adjAssetBaseLessCash         3.7         3.4         3.2         3.3   \n",
       "netDebt                     -2.4        -3.7        -4.5        -5.3   \n",
       "totalRevenue                 4.5         4.4         4.8         5.2   \n",
       "steadyCF                     0.9         1.3         1.4         1.6   \n",
       "steadyFCF                    0.9         1.3         1.2         NaN   \n",
       "reinvCapital                 NaN         0.0         0.1         0.1   \n",
       "\n",
       "endDate               2018-09-29  \n",
       "totalAssets                  8.4  \n",
       "adjAssetBaseLessCash         4.9  \n",
       "netDebt                     -3.6  \n",
       "totalRevenue                 5.2  \n",
       "steadyCF                     1.3  \n",
       "steadyFCF                    1.3  \n",
       "reinvCapital                 0.0  "
      ]
     },
     "execution_count": 2079,
     "metadata": {},
     "output_type": "execute_result"
    }
   ],
   "source": [
    "# Valuation calculations\n",
    "key_cols = ['totalAssets','adjAssetBaseLessCash', 'netDebt',\n",
    "           'totalRevenue', 'steadyCF', 'steadyFCF', 'reinvCapital',\n",
    "           'ROA', 'ROE', 'AT', 'AAT']\n",
    "\n",
    "val_df = bs_sum.copy()\n",
    "val_df[cf_sum.columns] = cf_sum\n",
    "val_df[is_sum.columns] = is_sum\n",
    "val_df['avgTotalAssets'] = val_df['totalAssets'].rolling(2).mean() # avg asset base\n",
    "val_df['avgAssetBaseLC'] = val_df['adjAssetBaseLessCash'].rolling(2).mean() # avg asset base\n",
    "val_df.avgTotalAssets[0] = val_df.totalAssets[0]\n",
    "val_df.avgAssetBaseLC[0] = val_df.adjAssetBaseLessCash[0]\n",
    "val_df['reinvCapital'] = (val_df['growthCapex'] + val_df['growthCost']).apply(max, args=(0,))\n",
    "val_df['ROA'] = (val_df.steadyCF / val_df.avgTotalAssets)\n",
    "val_df['ROE'] = (val_df.steadyFCF / val_df.avgAssetBaseLC)\n",
    "val_df['AT'] = (val_df.totalRevenue / val_df.avgTotalAssets)\n",
    "val_df['AAT'] = (val_df.totalRevenue / val_df.avgAssetBaseLC)\n",
    "ROA.mean().round(2), ROE.mean().round(2), AT.mean().round(2), AAT.mean().round(2)\n",
    "(val_df[key_cols[:-4]] / UNIT_SCALE).T.round(1)"
   ]
  },
  {
   "cell_type": "code",
   "execution_count": 2080,
   "metadata": {},
   "outputs": [
    {
     "data": {
      "text/plain": [
       "0.12365042886280264"
      ]
     },
     "execution_count": 2080,
     "metadata": {},
     "output_type": "execute_result"
    }
   ],
   "source": [
    "years = (val_df.index[-1] -   val_df.index[0]).days / 365\n",
    "cagr_series = pow(val_df.iloc[-1] / val_df.iloc[0], (1 / years)) - 1\n",
    "cagr_series['steadyFCF']"
   ]
  },
  {
   "cell_type": "code",
   "execution_count": 2081,
   "metadata": {},
   "outputs": [
    {
     "data": {
      "text/plain": [
       "(steadyFCF    0.12365\n",
       " dtype: float64, 0.12365042886280264)"
      ]
     },
     "execution_count": 2081,
     "metadata": {},
     "output_type": "execute_result"
    }
   ],
   "source": [
    "# historical growth rates\n",
    "# growth_cols = ['totalRevenue','totalAssets', 'totalCashFromOperatingActivities', 'steadyCF', 'steadyFCF', 'capitalExpenditures', 'reinvCapital']\n",
    "growth_cols = ['steadyFCF']\n",
    "cagr_series[growth_cols].median()\n",
    "growth_rate = max(cagr_series[growth_cols].median(), 0)\n",
    "cagr_series[growth_cols], growth_rate"
   ]
  },
  {
   "cell_type": "code",
   "execution_count": 2082,
   "metadata": {},
   "outputs": [
    {
     "data": {
      "text/html": [
       "<div>\n",
       "<style scoped>\n",
       "    .dataframe tbody tr th:only-of-type {\n",
       "        vertical-align: middle;\n",
       "    }\n",
       "\n",
       "    .dataframe tbody tr th {\n",
       "        vertical-align: top;\n",
       "    }\n",
       "\n",
       "    .dataframe thead th {\n",
       "        text-align: right;\n",
       "    }\n",
       "</style>\n",
       "<table border=\"1\" class=\"dataframe\">\n",
       "  <thead>\n",
       "    <tr style=\"text-align: right;\">\n",
       "      <th>endDate</th>\n",
       "      <th>2015-03-30</th>\n",
       "      <th>2016-03-30</th>\n",
       "      <th>2017-03-30</th>\n",
       "      <th>2018-03-30</th>\n",
       "      <th>2018-09-29</th>\n",
       "    </tr>\n",
       "  </thead>\n",
       "  <tbody>\n",
       "    <tr>\n",
       "      <th>ROA</th>\n",
       "      <td>0.14</td>\n",
       "      <td>0.20</td>\n",
       "      <td>0.19</td>\n",
       "      <td>0.19</td>\n",
       "      <td>0.15</td>\n",
       "    </tr>\n",
       "    <tr>\n",
       "      <th>ROE</th>\n",
       "      <td>0.23</td>\n",
       "      <td>0.36</td>\n",
       "      <td>0.38</td>\n",
       "      <td>NaN</td>\n",
       "      <td>0.32</td>\n",
       "    </tr>\n",
       "    <tr>\n",
       "      <th>AT</th>\n",
       "      <td>0.73</td>\n",
       "      <td>0.67</td>\n",
       "      <td>0.66</td>\n",
       "      <td>0.63</td>\n",
       "      <td>0.61</td>\n",
       "    </tr>\n",
       "    <tr>\n",
       "      <th>AAT</th>\n",
       "      <td>1.21</td>\n",
       "      <td>1.24</td>\n",
       "      <td>1.48</td>\n",
       "      <td>1.60</td>\n",
       "      <td>1.27</td>\n",
       "    </tr>\n",
       "  </tbody>\n",
       "</table>\n",
       "</div>"
      ],
      "text/plain": [
       "endDate  2015-03-30  2016-03-30  2017-03-30  2018-03-30  2018-09-29\n",
       "ROA            0.14        0.20        0.19        0.19        0.15\n",
       "ROE            0.23        0.36        0.38         NaN        0.32\n",
       "AT             0.73        0.67        0.66        0.63        0.61\n",
       "AAT            1.21        1.24        1.48        1.60        1.27"
      ]
     },
     "execution_count": 2082,
     "metadata": {},
     "output_type": "execute_result"
    }
   ],
   "source": [
    "(val_df[val_df.columns[-4:]]).T.round(2)"
   ]
  },
  {
   "cell_type": "code",
   "execution_count": 2083,
   "metadata": {},
   "outputs": [
    {
     "data": {
      "text/plain": [
       "ROA    0.15\n",
       "ROE    0.32\n",
       "AT     0.61\n",
       "AAT    1.27\n",
       "Name: 2018-09-29, dtype: float64"
      ]
     },
     "execution_count": 2083,
     "metadata": {},
     "output_type": "execute_result"
    }
   ],
   "source": [
    "ROE = val_df.iloc[-1]['ROE']\n",
    "val_df.iloc[-1][['ROA', 'ROE','AT', 'AAT']].round(2)"
   ]
  },
  {
   "cell_type": "code",
   "execution_count": 2084,
   "metadata": {},
   "outputs": [
    {
     "data": {
      "text/plain": [
       "(12.05, 15.75951286588408)"
      ]
     },
     "execution_count": 2084,
     "metadata": {},
     "output_type": "execute_result"
    }
   ],
   "source": [
    "discount = 0.028 + 0.05 + 0.005\n",
    "gr_discount = discount * 1\n",
    "# models fails to incorporate future growth\n",
    "# consider discount rate - actual growth * capitalization factor of [0.3] \n",
    "growth = growth_rate * 0.3\n",
    "mult, gr_mult = round(1/discount, 2), mult + growth * 100\n",
    "mult, gr_mult"
   ]
  },
  {
   "cell_type": "code",
   "execution_count": 2085,
   "metadata": {},
   "outputs": [
    {
     "data": {
      "text/plain": [
       "[15.81, 3.55, 1.22]"
      ]
     },
     "execution_count": 2085,
     "metadata": {},
     "output_type": "execute_result"
    }
   ],
   "source": [
    "npv_CF = val_df.steadyCF[-1] * mult\n",
    "npv_GR = (val_df.reinvCapital.sum() * ROE * gr_mult) \\\n",
    "    if val_df.reinvCapital.sum() > 0 else 0\n",
    "[round(x/UNIT_SCALE,2) for x in [npv_CF, -val_df.netDebt[-1], npv_GR]]"
   ]
  },
  {
   "cell_type": "code",
   "execution_count": 2086,
   "metadata": {},
   "outputs": [
    {
     "data": {
      "text/plain": [
       "79    68.113975\n",
       "Name: sharesOutstanding, dtype: float64"
      ]
     },
     "execution_count": 2086,
     "metadata": {},
     "output_type": "execute_result"
    }
   ],
   "source": [
    "equityVal = npv_CF - val_df.netDebt[-1] + npv_GR\n",
    "equityVal / ks_df.sharesOutstanding"
   ]
  },
  {
   "cell_type": "code",
   "execution_count": null,
   "metadata": {},
   "outputs": [],
   "source": []
  }
 ],
 "metadata": {
  "kernelspec": {
   "display_name": "Python 3",
   "language": "python",
   "name": "python3"
  },
  "language_info": {
   "codemirror_mode": {
    "name": "ipython",
    "version": 3
   },
   "file_extension": ".py",
   "mimetype": "text/x-python",
   "name": "python",
   "nbconvert_exporter": "python",
   "pygments_lexer": "ipython3",
   "version": "3.7.0"
  },
  "toc": {
   "base_numbering": 1,
   "nav_menu": {},
   "number_sections": true,
   "sideBar": true,
   "skip_h1_title": false,
   "title_cell": "Table of Contents",
   "title_sidebar": "Contents",
   "toc_cell": false,
   "toc_position": {},
   "toc_section_display": true,
   "toc_window_display": false
  }
 },
 "nbformat": 4,
 "nbformat_minor": 2
}
