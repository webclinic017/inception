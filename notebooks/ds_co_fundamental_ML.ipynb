{
 "cells": [
  {
   "cell_type": "code",
   "execution_count": 1,
   "metadata": {},
   "outputs": [
    {
     "name": "stdout",
     "output_type": "stream",
     "text": [
      "Loading utils/config.json\n"
     ]
    }
   ],
   "source": [
    "# imports\n",
    "%reload_ext autoreload\n",
    "%autoreload 2\n",
    "%matplotlib inline \n",
    "\n",
    "from utils.basic_utils import *\n",
    "from utils.pricing import *\n",
    "from utils.imports import *\n",
    "from utils.structured import *\n",
    "\n",
    "pd.options.display.float_format = '{:,.2f}'.format"
   ]
  },
  {
   "cell_type": "code",
   "execution_count": 2,
   "metadata": {
    "code_folding": [
     0
    ]
   },
   "outputs": [],
   "source": [
    "# imports\n",
    "from sklearn import preprocessing\n",
    "from sklearn.impute import SimpleImputer\n",
    "from sklearn.model_selection import cross_val_score, cross_validate, train_test_split\n",
    "from sklearn.model_selection import GridSearchCV\n",
    "from sklearn.feature_selection import SelectFromModel\n",
    "from sklearn.utils.validation import column_or_1d\n",
    "from sklearn.utils.multiclass import unique_labels\n",
    "from sklearn.metrics import confusion_matrix, classification_report\n",
    "from sklearn.metrics import accuracy_score, log_loss, precision_recall_fscore_support\n",
    "from sklearn.metrics import precision_score, roc_auc_score\n",
    "\n",
    "from sklearn.tree import DecisionTreeClassifier\n",
    "from sklearn.ensemble import AdaBoostClassifier\n",
    "from sklearn.ensemble import RandomForestClassifier\n",
    "from sklearn.ensemble import ExtraTreesClassifier\n",
    "from sklearn.ensemble import GradientBoostingClassifier\n",
    "from sklearn.neural_network import MLPClassifier"
   ]
  },
  {
   "cell_type": "code",
   "execution_count": 3,
   "metadata": {},
   "outputs": [],
   "source": [
    "bench = '^GSPC'\n",
    "sec_windows, stds = [5, 20, 60], 1\n",
    "pred_fwd_windows = [60]\n",
    "inv = incl_px = incl_name = False\n",
    "y_col = 'fwdReturn'"
   ]
  },
  {
   "cell_type": "code",
   "execution_count": 4,
   "metadata": {},
   "outputs": [
    {
     "name": "stdout",
     "output_type": "stream",
     "text": [
      "Loading file quote/csv/2019-03-13\n",
      "Loading file summary-categories/assetProfile\n",
      "CPU times: user 170 ms, sys: 37.8 ms, total: 208 ms\n",
      "Wall time: 2.82 s\n"
     ]
    }
   ],
   "source": [
    "%%time\n",
    "# use the latest saved data for profile and quote info\n",
    "dates = read_dates('quote')\n",
    "tgt_date = [dates[-1]] # last date saved in S3\n",
    "\n",
    "quotes = load_csvs('quote_consol', dates[-1:])\n",
    "quotes.set_index('symbol', drop=False, inplace=True)\n",
    "\n",
    "profile = load_csvs('summary_detail', ['assetProfile'])\n",
    "profile.set_index('symbol', drop=False, inplace=True)"
   ]
  },
  {
   "cell_type": "code",
   "execution_count": 398,
   "metadata": {
    "code_folding": [
     5,
     14,
     61,
     65
    ]
   },
   "outputs": [],
   "source": [
    "# utility functions\n",
    "numeric_cols = lambda df: list(df.columns[df.dtypes.apply(is_numeric_dtype).values])\n",
    "col_mapper = lambda pre, fields, period: {x:'_'.join([pre,x,period]) for x in fields} \n",
    "filter_cols = lambda columns, c: [x for x in columns if c in x]\n",
    "day_delta = lambda df, d: df - df.shift(d)\n",
    "\n",
    "def get_daily_ts(key, ds_dict, lookback=5):\n",
    "    path = ds_dict[key]['path']\n",
    "    index_col = ds_dict[key]['index']\n",
    "    features = ds_dict[key]['features']\n",
    "    dates = read_dates(path, '.csv')\n",
    "    df = load_csvs(path, dates[-lookback:])\n",
    "    df.loc[:, index_col] = pd.to_datetime(df[index_col], unit='s')\n",
    "    return df.set_index(index_col, drop=True)[features]\n",
    "\n",
    "def df_wide_transform(df, context):\n",
    "    ds_dict, key = context['ds_dict'], context['key']\n",
    "    periods = context['periods']\n",
    "    pre = context['pre']\n",
    "    \n",
    "    # applies only to numeric fields\n",
    "    fields = df.columns[df.dtypes.apply(is_numeric_dtype).values]\n",
    "    super_list = []\n",
    "    for p in periods:\n",
    "        filered_df = df[df.period == p][fields]\n",
    "        filered_df = filered_df.rename(columns=col_mapper(pre, fields, p))\n",
    "        super_list.append(filered_df)\n",
    "    return pd.concat(super_list, axis=1, sort=True).dropna(axis=1)\n",
    "\n",
    "# pre-processing functions\n",
    "def preproc_perc_price(df, context):\n",
    "    ds_dict, key = context['ds_dict'], context['key']\n",
    "    perc_price_cols = ds_dict[key]['perc_price']\n",
    "    hist_price_df = context['hist_price']\n",
    "    df.loc[:, perc_price_cols] = df[perc_price_cols] / hist_price_df.values\n",
    "    return df\n",
    "\n",
    "def preproc_divide(df, context):\n",
    "    ds_dict, key = context['ds_dict'], context['key']\n",
    "    divide_tuple = ds_dict[key]['divide']\n",
    "    print(divide_tuple[1], divide_tuple[0])\n",
    "    df.loc[:, divide_tuple[1]] =  df[divide_tuple[1]].div(df[divide_tuple[0]], axis=0)\n",
    "    df.drop(columns=divide_tuple[0], inplace=True)\n",
    "    return df\n",
    "\n",
    "def preproc_scale(df, context):\n",
    "    ds_dict, key = context['ds_dict'], context['key']\n",
    "    scale_cols = ds_dict[key]['scale']\n",
    "    # for growth we substract from prior date\n",
    "    df.loc[:, scale_cols] /= df[scale_cols].max()\n",
    "    return df\n",
    "\n",
    "def preproc_eps_estimates(df, context):\n",
    "    fields = df.columns[df.dtypes.apply(is_numeric_dtype).values]\n",
    "    growth_cols = filter_cols(fields, 'growth')\n",
    "    other_cols = excl(fields, growth_cols)\n",
    "    # for growth we substract from prior date\n",
    "    df.loc[:, growth_cols] = day_delta(df[growth_cols], 1)\n",
    "    # shows when there are jumps on low, avg, and high estimates\n",
    "    df.loc[:, other_cols] = df[other_cols].pct_change()\n",
    "    return df\n",
    "\n",
    "def preproc_day_delta(df, context): \n",
    "    fields = df.columns[df.dtypes.apply(is_numeric_dtype).values]\n",
    "    return day_delta(df[fields], 1)\n",
    "\n",
    "def preproc_eps_trend(df, context):\n",
    "    super_list = []\n",
    "    periods = context['periods']\n",
    "    fields = df.columns[df.dtypes.apply(is_numeric_dtype).values]\n",
    "    growth_cols = filter_cols(fields, 'growth')\n",
    "    # for growth we substract from prior date\n",
    "    df.loc[:, growth_cols] = day_delta(df[growth_cols], 1)\n",
    "    for p in periods: \n",
    "        cols = filter_cols(fields, p)\n",
    "        slope_cols = list(filter(lambda x, y='growth': y not in x, cols))\n",
    "        print(cols, slope_cols)\n",
    "        # divide current, -7, -30, and -60 days by -90 days ago for trend\n",
    "        # then substract from prior day, for signal changes\n",
    "        df.loc[:, slope_cols] = day_delta(df[slope_cols].div(df[slope_cols[-1]], axis=0), 1)\n",
    "    return df"
   ]
  },
  {
   "cell_type": "code",
   "execution_count": 403,
   "metadata": {
    "code_folding": [
     12,
     17,
     24,
     31,
     49,
     55,
     61
    ]
   },
   "outputs": [],
   "source": [
    "# feature mapping for different datasets\n",
    "ds_dict = {\n",
    "    'day_quote': {\n",
    "        'path': 'quote/csv/',\n",
    "        'index': 'storeDate',\n",
    "        'features': [\n",
    "            'regularMarketChangePercent',\n",
    "            'averageDailyVolume10Day', 'averageDailyVolume3Month', 'regularMarketVolume', \n",
    "            'fiftyDayAverageChangePercent', 'twoHundredDayAverageChangePercent',\n",
    "            'fiftyTwoWeekHighChangePercent', 'fiftyTwoWeekLowChangePercent', \n",
    "            'forwardPE', 'trailingPE', 'priceToBook', 'marketCap', 'trailingAnnualDividendYield', \n",
    "            'financialCurrency', 'symbol', ],\n",
    "        'scale': ['marketCap', ],\n",
    "        'divide': ('regularMarketVolume', ['averageDailyVolume10Day', 'averageDailyVolume3Month'])},\n",
    "    'key_statistics': {\n",
    "        'path': 'summary-categories/defaultKeyStatistics/',\n",
    "        'index': 'storeDate',\n",
    "        'features': [\n",
    "            '52WeekChange', 'beta', 'earningsQuarterlyGrowth', \n",
    "            'enterpriseToEbitda', 'enterpriseToRevenue', 'enterpriseValue', 'forwardPE', \n",
    "            'netIncomeToCommon', 'pegRatio', 'priceToBook', 'profitMargins', \n",
    "            'shortPercentOfFloat', 'shortRatio', 'heldPercentInsiders', \n",
    "            'heldPercentInstitutions', 'symbol', ],\n",
    "        'scale': ['enterpriseValue', 'netIncomeToCommon', ]},\n",
    "    'eps_estimates': {\n",
    "        'path': 'summary-categories/earningsEstimate/',\n",
    "        'index': 'storeDate',\n",
    "        'features': [\n",
    "            'period', 'growth', 'avg', 'low', 'high', 'symbol', ]},\n",
    "    'eps_revisions': {\n",
    "        'path': 'summary-categories/epsRevisions/',\n",
    "        'index': 'storeDate',\n",
    "        'features': [\n",
    "            'period', 'growth', \n",
    "            'upLast7days', 'upLast30days', 'downLast30days', \n",
    "            'symbol', ]},\n",
    "    'eps_trend': {\n",
    "        'path': 'summary-categories/epsTrend/',\n",
    "        'index': 'storeDate',\n",
    "        'features': [\n",
    "            'period', 'growth', \n",
    "            'current', '7daysAgo', '30daysAgo', '60daysAgo', '90daysAgo', \n",
    "            'symbol', ]},\n",
    "    'financial_data': {\n",
    "        'path': 'summary-categories/financialData/',\n",
    "        'index': 'storeDate',\n",
    "        'features': [\n",
    "            'currentRatio', 'debtToEquity', 'earningsGrowth', 'ebitda', \n",
    "            'ebitdaMargins', 'financialCurrency', 'freeCashflow', 'grossMargins', \n",
    "            'grossProfits', 'operatingCashflow', 'operatingMargins', 'profitMargins', \n",
    "            'quickRatio', 'recommendationKey', 'recommendationMean', \n",
    "            'returnOnAssets', 'returnOnEquity', 'revenueGrowth', \n",
    "            'targetHighPrice', 'targetLowPrice', 'targetMeanPrice', \n",
    "            'targetMedianPrice', 'totalCash', 'totalDebt', 'totalRevenue', \n",
    "            'symbol', ],\n",
    "        'scale': [\n",
    "            'freeCashflow', 'operatingCashflow', 'ebitda', \n",
    "            'totalCash', 'totalDebt', 'totalRevenue', 'grossProfits', ],\n",
    "        'perc_price': [\n",
    "            'targetLowPrice', 'targetMeanPrice', \n",
    "            'targetMedianPrice', 'targetHighPrice', ]},\n",
    "    'index_trend': {\n",
    "        'path': 'summary-categories/indexTrend/',\n",
    "        'index': 'storeDate',\n",
    "        'features': [\n",
    "            '0q', '+1q', '0y', '+1y', '+5y', '-5y', \n",
    "            'peRatio', 'pegRatio', 'symbol', ]},\n",
    "    'net_purchase': {\n",
    "        'path': 'summary-categories/netSharePurchaseActivity/',\n",
    "        'index': 'storeDate',\n",
    "        'features': [\n",
    "            'netPercentInsiderShares', 'buyPercentInsiderShares', 'sellPercentInsiderShares', \n",
    "            'symbol', ]},    \n",
    "    'recomm_trend': {\n",
    "        'path': 'summary-categories/recommendationTrend/',\n",
    "        'index': 'storeDate',\n",
    "        'features': [\n",
    "            'period', \n",
    "            'strongBuy', 'buy', 'hold', 'sell', 'strongSell', \n",
    "            'symbol', ]},\n",
    "}\n",
    "\n"
   ]
  },
  {
   "cell_type": "code",
   "execution_count": 198,
   "metadata": {
    "scrolled": true
   },
   "outputs": [
    {
     "name": "stdout",
     "output_type": "stream",
     "text": [
      "CPU times: user 3 µs, sys: 1 µs, total: 4 µs\n",
      "Wall time: 8.11 µs\n"
     ]
    }
   ],
   "source": [
    "%%time\n",
    "symbols_list = config['companies']\n",
    "# px_close = get_mults_pricing(symbols_list)\n",
    "# save down to drive if refresh pricing\n",
    "# os.makedirs('tmp', exist_ok=True)\n",
    "# px_close.to_parquet('tmp/mult-co-px-ds')"
   ]
  },
  {
   "cell_type": "code",
   "execution_count": 199,
   "metadata": {},
   "outputs": [],
   "source": [
    "px_close = pd.read_parquet('tmp/mult-co-px-ds')\n",
    "px_close.index = px_close.index.date"
   ]
  },
  {
   "cell_type": "markdown",
   "metadata": {},
   "source": [
    "### Feature construction"
   ]
  },
  {
   "cell_type": "code",
   "execution_count": 404,
   "metadata": {},
   "outputs": [],
   "source": [
    "ticker = ['AAPL']\n",
    "key = 'day_quote'\n",
    "pre = key.split('_')[0] # append preffix\n",
    "periods = ['+1q', '+1y',] # forward looking periods only"
   ]
  },
  {
   "cell_type": "code",
   "execution_count": 405,
   "metadata": {
    "scrolled": true
   },
   "outputs": [
    {
     "name": "stdout",
     "output_type": "stream",
     "text": [
      "Loading file quote/csv/2019-02-26\n",
      "Loading file quote/csv/2019-03-04\n",
      "Loading file quote/csv/2019-03-05\n",
      "Loading file quote/csv/2019-03-06\n",
      "Loading file quote/csv/2019-03-07\n",
      "Loading file quote/csv/2019-03-08\n",
      "Loading file quote/csv/2019-03-11\n",
      "Loading file quote/csv/2019-03-12\n",
      "Loading file quote/csv/2019-03-13\n",
      "Loading file quote/csv/2019-03-14\n",
      "CPU times: user 612 ms, sys: 134 ms, total: 746 ms\n",
      "Wall time: 6.8 s\n"
     ]
    }
   ],
   "source": [
    "%%time\n",
    "# retrieves dataset for historical dates\n",
    "daily_df = get_daily_ts(key, ds_dict, 10)\n",
    "# Make index a flat date, easier to index\n",
    "daily_df.index = daily_df.index.date"
   ]
  },
  {
   "cell_type": "code",
   "execution_count": 406,
   "metadata": {},
   "outputs": [
    {
     "data": {
      "text/html": [
       "<div>\n",
       "<style scoped>\n",
       "    .dataframe tbody tr th:only-of-type {\n",
       "        vertical-align: middle;\n",
       "    }\n",
       "\n",
       "    .dataframe tbody tr th {\n",
       "        vertical-align: top;\n",
       "    }\n",
       "\n",
       "    .dataframe thead th {\n",
       "        text-align: right;\n",
       "    }\n",
       "</style>\n",
       "<table border=\"1\" class=\"dataframe\">\n",
       "  <thead>\n",
       "    <tr style=\"text-align: right;\">\n",
       "      <th></th>\n",
       "      <th>count</th>\n",
       "      <th>unique</th>\n",
       "      <th>top</th>\n",
       "      <th>freq</th>\n",
       "      <th>mean</th>\n",
       "      <th>std</th>\n",
       "      <th>min</th>\n",
       "      <th>25%</th>\n",
       "      <th>50%</th>\n",
       "      <th>75%</th>\n",
       "      <th>max</th>\n",
       "    </tr>\n",
       "  </thead>\n",
       "  <tbody>\n",
       "    <tr>\n",
       "      <th>regularMarketChangePercent</th>\n",
       "      <td>12,265.00</td>\n",
       "      <td>NaN</td>\n",
       "      <td>NaN</td>\n",
       "      <td>NaN</td>\n",
       "      <td>-0.40</td>\n",
       "      <td>5.07</td>\n",
       "      <td>-100.00</td>\n",
       "      <td>-0.94</td>\n",
       "      <td>-0.11</td>\n",
       "      <td>0.63</td>\n",
       "      <td>21.91</td>\n",
       "    </tr>\n",
       "    <tr>\n",
       "      <th>fiftyTwoWeekHighChangePercent</th>\n",
       "      <td>12,265.00</td>\n",
       "      <td>NaN</td>\n",
       "      <td>NaN</td>\n",
       "      <td>NaN</td>\n",
       "      <td>-0.18</td>\n",
       "      <td>0.15</td>\n",
       "      <td>-1.00</td>\n",
       "      <td>-0.27</td>\n",
       "      <td>-0.15</td>\n",
       "      <td>-0.06</td>\n",
       "      <td>0.00</td>\n",
       "    </tr>\n",
       "    <tr>\n",
       "      <th>fiftyDayAverageChangePercent</th>\n",
       "      <td>12,265.00</td>\n",
       "      <td>NaN</td>\n",
       "      <td>NaN</td>\n",
       "      <td>NaN</td>\n",
       "      <td>0.01</td>\n",
       "      <td>0.10</td>\n",
       "      <td>-1.00</td>\n",
       "      <td>-0.01</td>\n",
       "      <td>0.02</td>\n",
       "      <td>0.05</td>\n",
       "      <td>1.35</td>\n",
       "    </tr>\n",
       "    <tr>\n",
       "      <th>twoHundredDayAverageChangePercent</th>\n",
       "      <td>12,265.00</td>\n",
       "      <td>NaN</td>\n",
       "      <td>NaN</td>\n",
       "      <td>NaN</td>\n",
       "      <td>0.02</td>\n",
       "      <td>0.14</td>\n",
       "      <td>-1.00</td>\n",
       "      <td>-0.04</td>\n",
       "      <td>0.02</td>\n",
       "      <td>0.08</td>\n",
       "      <td>1.33</td>\n",
       "    </tr>\n",
       "    <tr>\n",
       "      <th>trailingAnnualDividendYield</th>\n",
       "      <td>8,886.00</td>\n",
       "      <td>NaN</td>\n",
       "      <td>NaN</td>\n",
       "      <td>NaN</td>\n",
       "      <td>0.03</td>\n",
       "      <td>0.03</td>\n",
       "      <td>0.00</td>\n",
       "      <td>0.01</td>\n",
       "      <td>0.02</td>\n",
       "      <td>0.03</td>\n",
       "      <td>0.37</td>\n",
       "    </tr>\n",
       "    <tr>\n",
       "      <th>fiftyTwoWeekLowChangePercent</th>\n",
       "      <td>12,265.00</td>\n",
       "      <td>NaN</td>\n",
       "      <td>NaN</td>\n",
       "      <td>NaN</td>\n",
       "      <td>0.33</td>\n",
       "      <td>0.39</td>\n",
       "      <td>-1.00</td>\n",
       "      <td>0.18</td>\n",
       "      <td>0.27</td>\n",
       "      <td>0.38</td>\n",
       "      <td>8.49</td>\n",
       "    </tr>\n",
       "    <tr>\n",
       "      <th>priceToBook</th>\n",
       "      <td>12,265.00</td>\n",
       "      <td>NaN</td>\n",
       "      <td>NaN</td>\n",
       "      <td>NaN</td>\n",
       "      <td>2.59</td>\n",
       "      <td>61.14</td>\n",
       "      <td>-1,940.09</td>\n",
       "      <td>1.51</td>\n",
       "      <td>2.66</td>\n",
       "      <td>5.18</td>\n",
       "      <td>724.99</td>\n",
       "    </tr>\n",
       "    <tr>\n",
       "      <th>forwardPE</th>\n",
       "      <td>11,986.00</td>\n",
       "      <td>NaN</td>\n",
       "      <td>NaN</td>\n",
       "      <td>NaN</td>\n",
       "      <td>21.08</td>\n",
       "      <td>94.78</td>\n",
       "      <td>-3,850.50</td>\n",
       "      <td>10.79</td>\n",
       "      <td>15.56</td>\n",
       "      <td>22.44</td>\n",
       "      <td>3,114.00</td>\n",
       "    </tr>\n",
       "    <tr>\n",
       "      <th>trailingPE</th>\n",
       "      <td>10,819.00</td>\n",
       "      <td>NaN</td>\n",
       "      <td>NaN</td>\n",
       "      <td>NaN</td>\n",
       "      <td>75.41</td>\n",
       "      <td>1,471.59</td>\n",
       "      <td>0.00</td>\n",
       "      <td>13.36</td>\n",
       "      <td>20.80</td>\n",
       "      <td>33.24</td>\n",
       "      <td>52,350.00</td>\n",
       "    </tr>\n",
       "    <tr>\n",
       "      <th>regularMarketVolume</th>\n",
       "      <td>12,265.00</td>\n",
       "      <td>NaN</td>\n",
       "      <td>NaN</td>\n",
       "      <td>NaN</td>\n",
       "      <td>2,589,622.15</td>\n",
       "      <td>6,631,794.36</td>\n",
       "      <td>0.00</td>\n",
       "      <td>397,399.00</td>\n",
       "      <td>934,974.00</td>\n",
       "      <td>2,276,950.00</td>\n",
       "      <td>189,550,652.00</td>\n",
       "    </tr>\n",
       "    <tr>\n",
       "      <th>averageDailyVolume10Day</th>\n",
       "      <td>12,265.00</td>\n",
       "      <td>NaN</td>\n",
       "      <td>NaN</td>\n",
       "      <td>NaN</td>\n",
       "      <td>2,943,948.71</td>\n",
       "      <td>7,240,684.77</td>\n",
       "      <td>0.00</td>\n",
       "      <td>485,520.00</td>\n",
       "      <td>1,125,575.00</td>\n",
       "      <td>2,732,412.00</td>\n",
       "      <td>159,416,633.00</td>\n",
       "    </tr>\n",
       "    <tr>\n",
       "      <th>averageDailyVolume3Month</th>\n",
       "      <td>12,265.00</td>\n",
       "      <td>NaN</td>\n",
       "      <td>NaN</td>\n",
       "      <td>NaN</td>\n",
       "      <td>3,074,182.76</td>\n",
       "      <td>6,934,230.81</td>\n",
       "      <td>26,410.00</td>\n",
       "      <td>559,640.00</td>\n",
       "      <td>1,234,475.00</td>\n",
       "      <td>2,850,463.00</td>\n",
       "      <td>123,835,956.00</td>\n",
       "    </tr>\n",
       "    <tr>\n",
       "      <th>marketCap</th>\n",
       "      <td>12,265.00</td>\n",
       "      <td>NaN</td>\n",
       "      <td>NaN</td>\n",
       "      <td>NaN</td>\n",
       "      <td>41,604,791,292.88</td>\n",
       "      <td>348,344,302,659.07</td>\n",
       "      <td>0.00</td>\n",
       "      <td>3,794,871,552.00</td>\n",
       "      <td>8,586,192,896.00</td>\n",
       "      <td>24,337,354,752.00</td>\n",
       "      <td>11,769,140,477,952.00</td>\n",
       "    </tr>\n",
       "    <tr>\n",
       "      <th>financialCurrency</th>\n",
       "      <td>12265</td>\n",
       "      <td>17</td>\n",
       "      <td>USD</td>\n",
       "      <td>10988</td>\n",
       "      <td>NaN</td>\n",
       "      <td>NaN</td>\n",
       "      <td>NaN</td>\n",
       "      <td>NaN</td>\n",
       "      <td>NaN</td>\n",
       "      <td>NaN</td>\n",
       "      <td>NaN</td>\n",
       "    </tr>\n",
       "    <tr>\n",
       "      <th>symbol</th>\n",
       "      <td>12286</td>\n",
       "      <td>1230</td>\n",
       "      <td>ECL</td>\n",
       "      <td>10</td>\n",
       "      <td>NaN</td>\n",
       "      <td>NaN</td>\n",
       "      <td>NaN</td>\n",
       "      <td>NaN</td>\n",
       "      <td>NaN</td>\n",
       "      <td>NaN</td>\n",
       "      <td>NaN</td>\n",
       "    </tr>\n",
       "  </tbody>\n",
       "</table>\n",
       "</div>"
      ],
      "text/plain": [
       "                                      count unique  top   freq  \\\n",
       "regularMarketChangePercent        12,265.00    NaN  NaN    NaN   \n",
       "fiftyTwoWeekHighChangePercent     12,265.00    NaN  NaN    NaN   \n",
       "fiftyDayAverageChangePercent      12,265.00    NaN  NaN    NaN   \n",
       "twoHundredDayAverageChangePercent 12,265.00    NaN  NaN    NaN   \n",
       "trailingAnnualDividendYield        8,886.00    NaN  NaN    NaN   \n",
       "fiftyTwoWeekLowChangePercent      12,265.00    NaN  NaN    NaN   \n",
       "priceToBook                       12,265.00    NaN  NaN    NaN   \n",
       "forwardPE                         11,986.00    NaN  NaN    NaN   \n",
       "trailingPE                        10,819.00    NaN  NaN    NaN   \n",
       "regularMarketVolume               12,265.00    NaN  NaN    NaN   \n",
       "averageDailyVolume10Day           12,265.00    NaN  NaN    NaN   \n",
       "averageDailyVolume3Month          12,265.00    NaN  NaN    NaN   \n",
       "marketCap                         12,265.00    NaN  NaN    NaN   \n",
       "financialCurrency                     12265     17  USD  10988   \n",
       "symbol                                12286   1230  ECL     10   \n",
       "\n",
       "                                               mean                std  \\\n",
       "regularMarketChangePercent                    -0.40               5.07   \n",
       "fiftyTwoWeekHighChangePercent                 -0.18               0.15   \n",
       "fiftyDayAverageChangePercent                   0.01               0.10   \n",
       "twoHundredDayAverageChangePercent              0.02               0.14   \n",
       "trailingAnnualDividendYield                    0.03               0.03   \n",
       "fiftyTwoWeekLowChangePercent                   0.33               0.39   \n",
       "priceToBook                                    2.59              61.14   \n",
       "forwardPE                                     21.08              94.78   \n",
       "trailingPE                                    75.41           1,471.59   \n",
       "regularMarketVolume                    2,589,622.15       6,631,794.36   \n",
       "averageDailyVolume10Day                2,943,948.71       7,240,684.77   \n",
       "averageDailyVolume3Month               3,074,182.76       6,934,230.81   \n",
       "marketCap                         41,604,791,292.88 348,344,302,659.07   \n",
       "financialCurrency                               NaN                NaN   \n",
       "symbol                                          NaN                NaN   \n",
       "\n",
       "                                        min              25%              50%  \\\n",
       "regularMarketChangePercent          -100.00            -0.94            -0.11   \n",
       "fiftyTwoWeekHighChangePercent         -1.00            -0.27            -0.15   \n",
       "fiftyDayAverageChangePercent          -1.00            -0.01             0.02   \n",
       "twoHundredDayAverageChangePercent     -1.00            -0.04             0.02   \n",
       "trailingAnnualDividendYield            0.00             0.01             0.02   \n",
       "fiftyTwoWeekLowChangePercent          -1.00             0.18             0.27   \n",
       "priceToBook                       -1,940.09             1.51             2.66   \n",
       "forwardPE                         -3,850.50            10.79            15.56   \n",
       "trailingPE                             0.00            13.36            20.80   \n",
       "regularMarketVolume                    0.00       397,399.00       934,974.00   \n",
       "averageDailyVolume10Day                0.00       485,520.00     1,125,575.00   \n",
       "averageDailyVolume3Month          26,410.00       559,640.00     1,234,475.00   \n",
       "marketCap                              0.00 3,794,871,552.00 8,586,192,896.00   \n",
       "financialCurrency                       NaN              NaN              NaN   \n",
       "symbol                                  NaN              NaN              NaN   \n",
       "\n",
       "                                                75%                   max  \n",
       "regularMarketChangePercent                     0.63                 21.91  \n",
       "fiftyTwoWeekHighChangePercent                 -0.06                  0.00  \n",
       "fiftyDayAverageChangePercent                   0.05                  1.35  \n",
       "twoHundredDayAverageChangePercent              0.08                  1.33  \n",
       "trailingAnnualDividendYield                    0.03                  0.37  \n",
       "fiftyTwoWeekLowChangePercent                   0.38                  8.49  \n",
       "priceToBook                                    5.18                724.99  \n",
       "forwardPE                                     22.44              3,114.00  \n",
       "trailingPE                                    33.24             52,350.00  \n",
       "regularMarketVolume                    2,276,950.00        189,550,652.00  \n",
       "averageDailyVolume10Day                2,732,412.00        159,416,633.00  \n",
       "averageDailyVolume3Month               2,850,463.00        123,835,956.00  \n",
       "marketCap                         24,337,354,752.00 11,769,140,477,952.00  \n",
       "financialCurrency                               NaN                   NaN  \n",
       "symbol                                          NaN                   NaN  "
      ]
     },
     "execution_count": 406,
     "metadata": {},
     "output_type": "execute_result"
    }
   ],
   "source": [
    "sel_co = False\n",
    "if sel_co:\n",
    "    active_df = daily_df[daily_df.symbol.isin(ticker)].copy()\n",
    "else: \n",
    "    active_df = daily_df[daily_df.symbol.isin(symbols_list)].copy()\n",
    "active_df.describe(include='all').T.sort_values(by='mean')"
   ]
  },
  {
   "cell_type": "code",
   "execution_count": 407,
   "metadata": {},
   "outputs": [
    {
     "data": {
      "text/html": [
       "<div>\n",
       "<style scoped>\n",
       "    .dataframe tbody tr th:only-of-type {\n",
       "        vertical-align: middle;\n",
       "    }\n",
       "\n",
       "    .dataframe tbody tr th {\n",
       "        vertical-align: top;\n",
       "    }\n",
       "\n",
       "    .dataframe thead th {\n",
       "        text-align: right;\n",
       "    }\n",
       "</style>\n",
       "<table border=\"1\" class=\"dataframe\">\n",
       "  <thead>\n",
       "    <tr style=\"text-align: right;\">\n",
       "      <th></th>\n",
       "      <th>2019-03-14</th>\n",
       "      <th>2019-03-14</th>\n",
       "      <th>2019-03-14</th>\n",
       "      <th>2019-03-14</th>\n",
       "      <th>2019-03-14</th>\n",
       "    </tr>\n",
       "  </thead>\n",
       "  <tbody>\n",
       "    <tr>\n",
       "      <th>regularMarketChangePercent</th>\n",
       "      <td>1.54</td>\n",
       "      <td>-0.08</td>\n",
       "      <td>-0.88</td>\n",
       "      <td>-0.75</td>\n",
       "      <td>-0.55</td>\n",
       "    </tr>\n",
       "    <tr>\n",
       "      <th>averageDailyVolume10Day</th>\n",
       "      <td>2,396,675.00</td>\n",
       "      <td>2,086,987.00</td>\n",
       "      <td>5,495,087.00</td>\n",
       "      <td>2,737,862.00</td>\n",
       "      <td>1,425,987.00</td>\n",
       "    </tr>\n",
       "    <tr>\n",
       "      <th>averageDailyVolume3Month</th>\n",
       "      <td>1,970,688.00</td>\n",
       "      <td>2,672,133.00</td>\n",
       "      <td>3,378,700.00</td>\n",
       "      <td>2,529,250.00</td>\n",
       "      <td>1,306,578.00</td>\n",
       "    </tr>\n",
       "    <tr>\n",
       "      <th>regularMarketVolume</th>\n",
       "      <td>1,409,333.00</td>\n",
       "      <td>2,141,550.00</td>\n",
       "      <td>3,988,799.00</td>\n",
       "      <td>1,734,592.00</td>\n",
       "      <td>1,010,257.00</td>\n",
       "    </tr>\n",
       "    <tr>\n",
       "      <th>fiftyDayAverageChangePercent</th>\n",
       "      <td>0.11</td>\n",
       "      <td>-0.01</td>\n",
       "      <td>0.01</td>\n",
       "      <td>0.06</td>\n",
       "      <td>0.06</td>\n",
       "    </tr>\n",
       "    <tr>\n",
       "      <th>twoHundredDayAverageChangePercent</th>\n",
       "      <td>0.29</td>\n",
       "      <td>0.02</td>\n",
       "      <td>0.11</td>\n",
       "      <td>0.07</td>\n",
       "      <td>0.11</td>\n",
       "    </tr>\n",
       "    <tr>\n",
       "      <th>fiftyTwoWeekHighChangePercent</th>\n",
       "      <td>-0.01</td>\n",
       "      <td>-0.17</td>\n",
       "      <td>-0.16</td>\n",
       "      <td>-0.02</td>\n",
       "      <td>-0.38</td>\n",
       "    </tr>\n",
       "    <tr>\n",
       "      <th>fiftyTwoWeekLowChangePercent</th>\n",
       "      <td>0.87</td>\n",
       "      <td>0.29</td>\n",
       "      <td>0.32</td>\n",
       "      <td>0.25</td>\n",
       "      <td>0.51</td>\n",
       "    </tr>\n",
       "    <tr>\n",
       "      <th>forwardPE</th>\n",
       "      <td>125.70</td>\n",
       "      <td>10.20</td>\n",
       "      <td>19.92</td>\n",
       "      <td>24.79</td>\n",
       "      <td>-53.41</td>\n",
       "    </tr>\n",
       "    <tr>\n",
       "      <th>trailingPE</th>\n",
       "      <td>NaN</td>\n",
       "      <td>12.03</td>\n",
       "      <td>21.34</td>\n",
       "      <td>32.83</td>\n",
       "      <td>NaN</td>\n",
       "    </tr>\n",
       "    <tr>\n",
       "      <th>priceToBook</th>\n",
       "      <td>21.49</td>\n",
       "      <td>1.31</td>\n",
       "      <td>2.99</td>\n",
       "      <td>21.12</td>\n",
       "      <td>16.26</td>\n",
       "    </tr>\n",
       "    <tr>\n",
       "      <th>marketCap</th>\n",
       "      <td>8,989,462,528.00</td>\n",
       "      <td>9,136,733,184.00</td>\n",
       "      <td>15,018,072,064.00</td>\n",
       "      <td>46,057,865,216.00</td>\n",
       "      <td>2,549,820,416.00</td>\n",
       "    </tr>\n",
       "    <tr>\n",
       "      <th>trailingAnnualDividendYield</th>\n",
       "      <td>NaN</td>\n",
       "      <td>0.02</td>\n",
       "      <td>NaN</td>\n",
       "      <td>0.01</td>\n",
       "      <td>NaN</td>\n",
       "    </tr>\n",
       "    <tr>\n",
       "      <th>financialCurrency</th>\n",
       "      <td>USD</td>\n",
       "      <td>USD</td>\n",
       "      <td>CNY</td>\n",
       "      <td>USD</td>\n",
       "      <td>USD</td>\n",
       "    </tr>\n",
       "    <tr>\n",
       "      <th>symbol</th>\n",
       "      <td>ZEN</td>\n",
       "      <td>ZION</td>\n",
       "      <td>ZTO</td>\n",
       "      <td>ZTS</td>\n",
       "      <td>ZUO</td>\n",
       "    </tr>\n",
       "  </tbody>\n",
       "</table>\n",
       "</div>"
      ],
      "text/plain": [
       "                                        2019-03-14       2019-03-14  \\\n",
       "regularMarketChangePercent                    1.54            -0.08   \n",
       "averageDailyVolume10Day               2,396,675.00     2,086,987.00   \n",
       "averageDailyVolume3Month              1,970,688.00     2,672,133.00   \n",
       "regularMarketVolume                   1,409,333.00     2,141,550.00   \n",
       "fiftyDayAverageChangePercent                  0.11            -0.01   \n",
       "twoHundredDayAverageChangePercent             0.29             0.02   \n",
       "fiftyTwoWeekHighChangePercent                -0.01            -0.17   \n",
       "fiftyTwoWeekLowChangePercent                  0.87             0.29   \n",
       "forwardPE                                   125.70            10.20   \n",
       "trailingPE                                     NaN            12.03   \n",
       "priceToBook                                  21.49             1.31   \n",
       "marketCap                         8,989,462,528.00 9,136,733,184.00   \n",
       "trailingAnnualDividendYield                    NaN             0.02   \n",
       "financialCurrency                              USD              USD   \n",
       "symbol                                         ZEN             ZION   \n",
       "\n",
       "                                         2019-03-14        2019-03-14  \\\n",
       "regularMarketChangePercent                    -0.88             -0.75   \n",
       "averageDailyVolume10Day                5,495,087.00      2,737,862.00   \n",
       "averageDailyVolume3Month               3,378,700.00      2,529,250.00   \n",
       "regularMarketVolume                    3,988,799.00      1,734,592.00   \n",
       "fiftyDayAverageChangePercent                   0.01              0.06   \n",
       "twoHundredDayAverageChangePercent              0.11              0.07   \n",
       "fiftyTwoWeekHighChangePercent                 -0.16             -0.02   \n",
       "fiftyTwoWeekLowChangePercent                   0.32              0.25   \n",
       "forwardPE                                     19.92             24.79   \n",
       "trailingPE                                    21.34             32.83   \n",
       "priceToBook                                    2.99             21.12   \n",
       "marketCap                         15,018,072,064.00 46,057,865,216.00   \n",
       "trailingAnnualDividendYield                     NaN              0.01   \n",
       "financialCurrency                               CNY               USD   \n",
       "symbol                                          ZTO               ZTS   \n",
       "\n",
       "                                        2019-03-14  \n",
       "regularMarketChangePercent                   -0.55  \n",
       "averageDailyVolume10Day               1,425,987.00  \n",
       "averageDailyVolume3Month              1,306,578.00  \n",
       "regularMarketVolume                   1,010,257.00  \n",
       "fiftyDayAverageChangePercent                  0.06  \n",
       "twoHundredDayAverageChangePercent             0.11  \n",
       "fiftyTwoWeekHighChangePercent                -0.38  \n",
       "fiftyTwoWeekLowChangePercent                  0.51  \n",
       "forwardPE                                   -53.41  \n",
       "trailingPE                                     NaN  \n",
       "priceToBook                                  16.26  \n",
       "marketCap                         2,549,820,416.00  \n",
       "trailingAnnualDividendYield                    NaN  \n",
       "financialCurrency                              USD  \n",
       "symbol                                         ZUO  "
      ]
     },
     "execution_count": 407,
     "metadata": {},
     "output_type": "execute_result"
    }
   ],
   "source": [
    "# active_df.plot()\n",
    "active_df.tail().T"
   ]
  },
  {
   "cell_type": "code",
   "execution_count": 408,
   "metadata": {},
   "outputs": [
    {
     "name": "stdout",
     "output_type": "stream",
     "text": [
      "['averageDailyVolume10Day', 'averageDailyVolume3Month'] regularMarketVolume\n"
     ]
    },
    {
     "data": {
      "text/html": [
       "<div>\n",
       "<style scoped>\n",
       "    .dataframe tbody tr th:only-of-type {\n",
       "        vertical-align: middle;\n",
       "    }\n",
       "\n",
       "    .dataframe tbody tr th {\n",
       "        vertical-align: top;\n",
       "    }\n",
       "\n",
       "    .dataframe thead th {\n",
       "        text-align: right;\n",
       "    }\n",
       "</style>\n",
       "<table border=\"1\" class=\"dataframe\">\n",
       "  <thead>\n",
       "    <tr style=\"text-align: right;\">\n",
       "      <th></th>\n",
       "      <th>count</th>\n",
       "      <th>unique</th>\n",
       "      <th>top</th>\n",
       "      <th>freq</th>\n",
       "      <th>mean</th>\n",
       "      <th>std</th>\n",
       "      <th>min</th>\n",
       "      <th>25%</th>\n",
       "      <th>50%</th>\n",
       "      <th>75%</th>\n",
       "      <th>max</th>\n",
       "    </tr>\n",
       "  </thead>\n",
       "  <tbody>\n",
       "    <tr>\n",
       "      <th>regularMarketChangePercent</th>\n",
       "      <td>12,265.00</td>\n",
       "      <td>NaN</td>\n",
       "      <td>NaN</td>\n",
       "      <td>NaN</td>\n",
       "      <td>-0.40</td>\n",
       "      <td>5.07</td>\n",
       "      <td>-100.00</td>\n",
       "      <td>-0.94</td>\n",
       "      <td>-0.11</td>\n",
       "      <td>0.63</td>\n",
       "      <td>21.91</td>\n",
       "    </tr>\n",
       "    <tr>\n",
       "      <th>averageDailyVolume10Day</th>\n",
       "      <td>12,259.00</td>\n",
       "      <td>NaN</td>\n",
       "      <td>NaN</td>\n",
       "      <td>NaN</td>\n",
       "      <td>1.32</td>\n",
       "      <td>0.53</td>\n",
       "      <td>0.00</td>\n",
       "      <td>0.97</td>\n",
       "      <td>1.24</td>\n",
       "      <td>1.56</td>\n",
       "      <td>7.46</td>\n",
       "    </tr>\n",
       "    <tr>\n",
       "      <th>averageDailyVolume3Month</th>\n",
       "      <td>12,259.00</td>\n",
       "      <td>NaN</td>\n",
       "      <td>NaN</td>\n",
       "      <td>NaN</td>\n",
       "      <td>1.49</td>\n",
       "      <td>0.76</td>\n",
       "      <td>0.04</td>\n",
       "      <td>1.07</td>\n",
       "      <td>1.39</td>\n",
       "      <td>1.77</td>\n",
       "      <td>17.02</td>\n",
       "    </tr>\n",
       "    <tr>\n",
       "      <th>fiftyDayAverageChangePercent</th>\n",
       "      <td>12,265.00</td>\n",
       "      <td>NaN</td>\n",
       "      <td>NaN</td>\n",
       "      <td>NaN</td>\n",
       "      <td>0.01</td>\n",
       "      <td>0.10</td>\n",
       "      <td>-1.00</td>\n",
       "      <td>-0.01</td>\n",
       "      <td>0.02</td>\n",
       "      <td>0.05</td>\n",
       "      <td>1.35</td>\n",
       "    </tr>\n",
       "    <tr>\n",
       "      <th>twoHundredDayAverageChangePercent</th>\n",
       "      <td>12,265.00</td>\n",
       "      <td>NaN</td>\n",
       "      <td>NaN</td>\n",
       "      <td>NaN</td>\n",
       "      <td>0.02</td>\n",
       "      <td>0.14</td>\n",
       "      <td>-1.00</td>\n",
       "      <td>-0.04</td>\n",
       "      <td>0.02</td>\n",
       "      <td>0.08</td>\n",
       "      <td>1.33</td>\n",
       "    </tr>\n",
       "    <tr>\n",
       "      <th>fiftyTwoWeekHighChangePercent</th>\n",
       "      <td>12,265.00</td>\n",
       "      <td>NaN</td>\n",
       "      <td>NaN</td>\n",
       "      <td>NaN</td>\n",
       "      <td>-0.18</td>\n",
       "      <td>0.15</td>\n",
       "      <td>-1.00</td>\n",
       "      <td>-0.27</td>\n",
       "      <td>-0.15</td>\n",
       "      <td>-0.06</td>\n",
       "      <td>0.00</td>\n",
       "    </tr>\n",
       "    <tr>\n",
       "      <th>fiftyTwoWeekLowChangePercent</th>\n",
       "      <td>12,265.00</td>\n",
       "      <td>NaN</td>\n",
       "      <td>NaN</td>\n",
       "      <td>NaN</td>\n",
       "      <td>0.33</td>\n",
       "      <td>0.39</td>\n",
       "      <td>-1.00</td>\n",
       "      <td>0.18</td>\n",
       "      <td>0.27</td>\n",
       "      <td>0.38</td>\n",
       "      <td>8.49</td>\n",
       "    </tr>\n",
       "    <tr>\n",
       "      <th>forwardPE</th>\n",
       "      <td>11,986.00</td>\n",
       "      <td>NaN</td>\n",
       "      <td>NaN</td>\n",
       "      <td>NaN</td>\n",
       "      <td>21.08</td>\n",
       "      <td>94.78</td>\n",
       "      <td>-3,850.50</td>\n",
       "      <td>10.79</td>\n",
       "      <td>15.56</td>\n",
       "      <td>22.44</td>\n",
       "      <td>3,114.00</td>\n",
       "    </tr>\n",
       "    <tr>\n",
       "      <th>trailingPE</th>\n",
       "      <td>10,819.00</td>\n",
       "      <td>NaN</td>\n",
       "      <td>NaN</td>\n",
       "      <td>NaN</td>\n",
       "      <td>75.41</td>\n",
       "      <td>1,471.59</td>\n",
       "      <td>0.00</td>\n",
       "      <td>13.36</td>\n",
       "      <td>20.80</td>\n",
       "      <td>33.24</td>\n",
       "      <td>52,350.00</td>\n",
       "    </tr>\n",
       "    <tr>\n",
       "      <th>priceToBook</th>\n",
       "      <td>12,265.00</td>\n",
       "      <td>NaN</td>\n",
       "      <td>NaN</td>\n",
       "      <td>NaN</td>\n",
       "      <td>2.59</td>\n",
       "      <td>61.14</td>\n",
       "      <td>-1,940.09</td>\n",
       "      <td>1.51</td>\n",
       "      <td>2.66</td>\n",
       "      <td>5.18</td>\n",
       "      <td>724.99</td>\n",
       "    </tr>\n",
       "    <tr>\n",
       "      <th>marketCap</th>\n",
       "      <td>12,265.00</td>\n",
       "      <td>NaN</td>\n",
       "      <td>NaN</td>\n",
       "      <td>NaN</td>\n",
       "      <td>0.00</td>\n",
       "      <td>0.03</td>\n",
       "      <td>0.00</td>\n",
       "      <td>0.00</td>\n",
       "      <td>0.00</td>\n",
       "      <td>0.00</td>\n",
       "      <td>1.00</td>\n",
       "    </tr>\n",
       "    <tr>\n",
       "      <th>trailingAnnualDividendYield</th>\n",
       "      <td>8,886.00</td>\n",
       "      <td>NaN</td>\n",
       "      <td>NaN</td>\n",
       "      <td>NaN</td>\n",
       "      <td>0.03</td>\n",
       "      <td>0.03</td>\n",
       "      <td>0.00</td>\n",
       "      <td>0.01</td>\n",
       "      <td>0.02</td>\n",
       "      <td>0.03</td>\n",
       "      <td>0.37</td>\n",
       "    </tr>\n",
       "    <tr>\n",
       "      <th>financialCurrency</th>\n",
       "      <td>12265</td>\n",
       "      <td>17</td>\n",
       "      <td>USD</td>\n",
       "      <td>10988</td>\n",
       "      <td>NaN</td>\n",
       "      <td>NaN</td>\n",
       "      <td>NaN</td>\n",
       "      <td>NaN</td>\n",
       "      <td>NaN</td>\n",
       "      <td>NaN</td>\n",
       "      <td>NaN</td>\n",
       "    </tr>\n",
       "    <tr>\n",
       "      <th>symbol</th>\n",
       "      <td>12286</td>\n",
       "      <td>1230</td>\n",
       "      <td>ECL</td>\n",
       "      <td>10</td>\n",
       "      <td>NaN</td>\n",
       "      <td>NaN</td>\n",
       "      <td>NaN</td>\n",
       "      <td>NaN</td>\n",
       "      <td>NaN</td>\n",
       "      <td>NaN</td>\n",
       "      <td>NaN</td>\n",
       "    </tr>\n",
       "  </tbody>\n",
       "</table>\n",
       "</div>"
      ],
      "text/plain": [
       "                                      count unique  top   freq  mean      std  \\\n",
       "regularMarketChangePercent        12,265.00    NaN  NaN    NaN -0.40     5.07   \n",
       "averageDailyVolume10Day           12,259.00    NaN  NaN    NaN  1.32     0.53   \n",
       "averageDailyVolume3Month          12,259.00    NaN  NaN    NaN  1.49     0.76   \n",
       "fiftyDayAverageChangePercent      12,265.00    NaN  NaN    NaN  0.01     0.10   \n",
       "twoHundredDayAverageChangePercent 12,265.00    NaN  NaN    NaN  0.02     0.14   \n",
       "fiftyTwoWeekHighChangePercent     12,265.00    NaN  NaN    NaN -0.18     0.15   \n",
       "fiftyTwoWeekLowChangePercent      12,265.00    NaN  NaN    NaN  0.33     0.39   \n",
       "forwardPE                         11,986.00    NaN  NaN    NaN 21.08    94.78   \n",
       "trailingPE                        10,819.00    NaN  NaN    NaN 75.41 1,471.59   \n",
       "priceToBook                       12,265.00    NaN  NaN    NaN  2.59    61.14   \n",
       "marketCap                         12,265.00    NaN  NaN    NaN  0.00     0.03   \n",
       "trailingAnnualDividendYield        8,886.00    NaN  NaN    NaN  0.03     0.03   \n",
       "financialCurrency                     12265     17  USD  10988   NaN      NaN   \n",
       "symbol                                12286   1230  ECL     10   NaN      NaN   \n",
       "\n",
       "                                        min   25%   50%   75%       max  \n",
       "regularMarketChangePercent          -100.00 -0.94 -0.11  0.63     21.91  \n",
       "averageDailyVolume10Day                0.00  0.97  1.24  1.56      7.46  \n",
       "averageDailyVolume3Month               0.04  1.07  1.39  1.77     17.02  \n",
       "fiftyDayAverageChangePercent          -1.00 -0.01  0.02  0.05      1.35  \n",
       "twoHundredDayAverageChangePercent     -1.00 -0.04  0.02  0.08      1.33  \n",
       "fiftyTwoWeekHighChangePercent         -1.00 -0.27 -0.15 -0.06      0.00  \n",
       "fiftyTwoWeekLowChangePercent          -1.00  0.18  0.27  0.38      8.49  \n",
       "forwardPE                         -3,850.50 10.79 15.56 22.44  3,114.00  \n",
       "trailingPE                             0.00 13.36 20.80 33.24 52,350.00  \n",
       "priceToBook                       -1,940.09  1.51  2.66  5.18    724.99  \n",
       "marketCap                              0.00  0.00  0.00  0.00      1.00  \n",
       "trailingAnnualDividendYield            0.00  0.01  0.02  0.03      0.37  \n",
       "financialCurrency                       NaN   NaN   NaN   NaN       NaN  \n",
       "symbol                                  NaN   NaN   NaN   NaN       NaN  "
      ]
     },
     "execution_count": 408,
     "metadata": {},
     "output_type": "execute_result"
    }
   ],
   "source": [
    "pre_proc_pipeline = {\n",
    "    'day_quote': [preproc_divide, preproc_scale],\n",
    "    'key_statistics': [preproc_scale],\n",
    "    'eps_estimates': [df_wide_transform, preproc_eps_estimates],\n",
    "    'eps_revisions': [df_wide_transform, preproc_day_delta],\n",
    "    'eps_trend': [df_wide_transform, preproc_eps_trend],\n",
    "    'financial_data': [preproc_scale_financials, preproc_perc_price],\n",
    "}\n",
    "\n",
    "context = {\n",
    "    'ds_dict': ds_dict,\n",
    "    'key': key,\n",
    "    'pre': pre,\n",
    "    'periods': periods,\n",
    "    'hist_price': px_close.loc[wide_df.index, ticker]\n",
    "}\n",
    "\n",
    "processed_df = active_df.copy()\n",
    "if key in pre_proc_pipeline:\n",
    "    for fn in pre_proc_pipeline[key]: \n",
    "        processed_df = fn(processed_df, context)\n",
    "processed_df.replace([np.inf, -np.inf], np.nan, inplace=True)\n",
    "\n",
    "processed_df.describe(include='all').T"
   ]
  },
  {
   "cell_type": "code",
   "execution_count": 428,
   "metadata": {},
   "outputs": [],
   "source": []
  },
  {
   "cell_type": "code",
   "execution_count": 438,
   "metadata": {},
   "outputs": [
    {
     "data": {
      "text/html": [
       "<div>\n",
       "<style scoped>\n",
       "    .dataframe tbody tr th:only-of-type {\n",
       "        vertical-align: middle;\n",
       "    }\n",
       "\n",
       "    .dataframe tbody tr th {\n",
       "        vertical-align: top;\n",
       "    }\n",
       "\n",
       "    .dataframe thead th {\n",
       "        text-align: right;\n",
       "    }\n",
       "</style>\n",
       "<table border=\"1\" class=\"dataframe\">\n",
       "  <thead>\n",
       "    <tr style=\"text-align: right;\">\n",
       "      <th></th>\n",
       "      <th>count</th>\n",
       "      <th>mean</th>\n",
       "      <th>std</th>\n",
       "      <th>min</th>\n",
       "      <th>25%</th>\n",
       "      <th>50%</th>\n",
       "      <th>75%</th>\n",
       "      <th>max</th>\n",
       "    </tr>\n",
       "  </thead>\n",
       "  <tbody>\n",
       "    <tr>\n",
       "      <th>regularMarketChangePercent</th>\n",
       "      <td>2,008.00</td>\n",
       "      <td>-1.48</td>\n",
       "      <td>11.87</td>\n",
       "      <td>-100.00</td>\n",
       "      <td>-0.90</td>\n",
       "      <td>-0.02</td>\n",
       "      <td>0.76</td>\n",
       "      <td>19.78</td>\n",
       "    </tr>\n",
       "    <tr>\n",
       "      <th>averageDailyVolume10Day</th>\n",
       "      <td>2,008.00</td>\n",
       "      <td>1.34</td>\n",
       "      <td>0.56</td>\n",
       "      <td>0.00</td>\n",
       "      <td>0.98</td>\n",
       "      <td>1.27</td>\n",
       "      <td>1.63</td>\n",
       "      <td>5.02</td>\n",
       "    </tr>\n",
       "    <tr>\n",
       "      <th>averageDailyVolume3Month</th>\n",
       "      <td>2,008.00</td>\n",
       "      <td>1.48</td>\n",
       "      <td>0.78</td>\n",
       "      <td>0.07</td>\n",
       "      <td>1.02</td>\n",
       "      <td>1.38</td>\n",
       "      <td>1.80</td>\n",
       "      <td>16.13</td>\n",
       "    </tr>\n",
       "    <tr>\n",
       "      <th>fiftyDayAverageChangePercent</th>\n",
       "      <td>2,008.00</td>\n",
       "      <td>0.02</td>\n",
       "      <td>0.14</td>\n",
       "      <td>-1.00</td>\n",
       "      <td>0.00</td>\n",
       "      <td>0.03</td>\n",
       "      <td>0.07</td>\n",
       "      <td>0.36</td>\n",
       "    </tr>\n",
       "    <tr>\n",
       "      <th>twoHundredDayAverageChangePercent</th>\n",
       "      <td>2,008.00</td>\n",
       "      <td>0.06</td>\n",
       "      <td>0.18</td>\n",
       "      <td>-1.00</td>\n",
       "      <td>-0.00</td>\n",
       "      <td>0.07</td>\n",
       "      <td>0.14</td>\n",
       "      <td>0.54</td>\n",
       "    </tr>\n",
       "    <tr>\n",
       "      <th>fiftyTwoWeekHighChangePercent</th>\n",
       "      <td>2,008.00</td>\n",
       "      <td>-0.15</td>\n",
       "      <td>0.16</td>\n",
       "      <td>-1.00</td>\n",
       "      <td>-0.20</td>\n",
       "      <td>-0.10</td>\n",
       "      <td>-0.04</td>\n",
       "      <td>0.00</td>\n",
       "    </tr>\n",
       "    <tr>\n",
       "      <th>fiftyTwoWeekLowChangePercent</th>\n",
       "      <td>2,008.00</td>\n",
       "      <td>0.51</td>\n",
       "      <td>0.69</td>\n",
       "      <td>-1.00</td>\n",
       "      <td>0.25</td>\n",
       "      <td>0.39</td>\n",
       "      <td>0.61</td>\n",
       "      <td>8.49</td>\n",
       "    </tr>\n",
       "    <tr>\n",
       "      <th>forwardPE</th>\n",
       "      <td>1,998.00</td>\n",
       "      <td>49.29</td>\n",
       "      <td>229.12</td>\n",
       "      <td>-3,850.50</td>\n",
       "      <td>19.26</td>\n",
       "      <td>32.14</td>\n",
       "      <td>55.30</td>\n",
       "      <td>3,114.00</td>\n",
       "    </tr>\n",
       "    <tr>\n",
       "      <th>trailingPE</th>\n",
       "      <td>1,635.00</td>\n",
       "      <td>383.17</td>\n",
       "      <td>3,771.61</td>\n",
       "      <td>0.00</td>\n",
       "      <td>51.79</td>\n",
       "      <td>64.35</td>\n",
       "      <td>99.00</td>\n",
       "      <td>52,350.00</td>\n",
       "    </tr>\n",
       "    <tr>\n",
       "      <th>priceToBook</th>\n",
       "      <td>2,008.00</td>\n",
       "      <td>-1.95</td>\n",
       "      <td>150.57</td>\n",
       "      <td>-1,940.09</td>\n",
       "      <td>2.08</td>\n",
       "      <td>5.23</td>\n",
       "      <td>12.47</td>\n",
       "      <td>724.99</td>\n",
       "    </tr>\n",
       "    <tr>\n",
       "      <th>marketCap</th>\n",
       "      <td>2,008.00</td>\n",
       "      <td>0.00</td>\n",
       "      <td>0.02</td>\n",
       "      <td>0.00</td>\n",
       "      <td>0.00</td>\n",
       "      <td>0.00</td>\n",
       "      <td>0.00</td>\n",
       "      <td>0.29</td>\n",
       "    </tr>\n",
       "    <tr>\n",
       "      <th>trailingAnnualDividendYield</th>\n",
       "      <td>830.00</td>\n",
       "      <td>0.02</td>\n",
       "      <td>0.03</td>\n",
       "      <td>0.00</td>\n",
       "      <td>0.01</td>\n",
       "      <td>0.02</td>\n",
       "      <td>0.03</td>\n",
       "      <td>0.29</td>\n",
       "    </tr>\n",
       "  </tbody>\n",
       "</table>\n",
       "</div>"
      ],
      "text/plain": [
       "                                     count   mean      std       min   25%  \\\n",
       "regularMarketChangePercent        2,008.00  -1.48    11.87   -100.00 -0.90   \n",
       "averageDailyVolume10Day           2,008.00   1.34     0.56      0.00  0.98   \n",
       "averageDailyVolume3Month          2,008.00   1.48     0.78      0.07  1.02   \n",
       "fiftyDayAverageChangePercent      2,008.00   0.02     0.14     -1.00  0.00   \n",
       "twoHundredDayAverageChangePercent 2,008.00   0.06     0.18     -1.00 -0.00   \n",
       "fiftyTwoWeekHighChangePercent     2,008.00  -0.15     0.16     -1.00 -0.20   \n",
       "fiftyTwoWeekLowChangePercent      2,008.00   0.51     0.69     -1.00  0.25   \n",
       "forwardPE                         1,998.00  49.29   229.12 -3,850.50 19.26   \n",
       "trailingPE                        1,635.00 383.17 3,771.61      0.00 51.79   \n",
       "priceToBook                       2,008.00  -1.95   150.57 -1,940.09  2.08   \n",
       "marketCap                         2,008.00   0.00     0.02      0.00  0.00   \n",
       "trailingAnnualDividendYield         830.00   0.02     0.03      0.00  0.01   \n",
       "\n",
       "                                    50%   75%       max  \n",
       "regularMarketChangePercent        -0.02  0.76     19.78  \n",
       "averageDailyVolume10Day            1.27  1.63      5.02  \n",
       "averageDailyVolume3Month           1.38  1.80     16.13  \n",
       "fiftyDayAverageChangePercent       0.03  0.07      0.36  \n",
       "twoHundredDayAverageChangePercent  0.07  0.14      0.54  \n",
       "fiftyTwoWeekHighChangePercent     -0.10 -0.04      0.00  \n",
       "fiftyTwoWeekLowChangePercent       0.39  0.61      8.49  \n",
       "forwardPE                         32.14 55.30  3,114.00  \n",
       "trailingPE                        64.35 99.00 52,350.00  \n",
       "priceToBook                        5.23 12.47    724.99  \n",
       "marketCap                          0.00  0.00      0.29  \n",
       "trailingAnnualDividendYield        0.02  0.03      0.29  "
      ]
     },
     "execution_count": 438,
     "metadata": {},
     "output_type": "execute_result"
    }
   ],
   "source": [
    "processed_df[(np.abs(processed_df[numeric_cols(processed_df)]) > 50).any(1)].describe().T"
   ]
  },
  {
   "cell_type": "code",
   "execution_count": 343,
   "metadata": {},
   "outputs": [
    {
     "data": {
      "text/html": [
       "<div>\n",
       "<style scoped>\n",
       "    .dataframe tbody tr th:only-of-type {\n",
       "        vertical-align: middle;\n",
       "    }\n",
       "\n",
       "    .dataframe tbody tr th {\n",
       "        vertical-align: top;\n",
       "    }\n",
       "\n",
       "    .dataframe thead th {\n",
       "        text-align: right;\n",
       "    }\n",
       "</style>\n",
       "<table border=\"1\" class=\"dataframe\">\n",
       "  <thead>\n",
       "    <tr style=\"text-align: right;\">\n",
       "      <th></th>\n",
       "      <th>2019-03-07</th>\n",
       "      <th>2019-03-08</th>\n",
       "      <th>2019-03-11</th>\n",
       "      <th>2019-03-12</th>\n",
       "      <th>2019-03-13</th>\n",
       "    </tr>\n",
       "  </thead>\n",
       "  <tbody>\n",
       "    <tr>\n",
       "      <th>eps_growth_+1q</th>\n",
       "      <td>0.00</td>\n",
       "      <td>0.00</td>\n",
       "      <td>0.00</td>\n",
       "      <td>0.00</td>\n",
       "      <td>0.00</td>\n",
       "    </tr>\n",
       "    <tr>\n",
       "      <th>eps_upLast7days_+1q</th>\n",
       "      <td>0.00</td>\n",
       "      <td>-1.00</td>\n",
       "      <td>0.00</td>\n",
       "      <td>0.00</td>\n",
       "      <td>0.00</td>\n",
       "    </tr>\n",
       "    <tr>\n",
       "      <th>eps_upLast30days_+1q</th>\n",
       "      <td>0.00</td>\n",
       "      <td>0.00</td>\n",
       "      <td>0.00</td>\n",
       "      <td>0.00</td>\n",
       "      <td>0.00</td>\n",
       "    </tr>\n",
       "    <tr>\n",
       "      <th>eps_downLast30days_+1q</th>\n",
       "      <td>0.00</td>\n",
       "      <td>0.00</td>\n",
       "      <td>0.00</td>\n",
       "      <td>1.00</td>\n",
       "      <td>0.00</td>\n",
       "    </tr>\n",
       "    <tr>\n",
       "      <th>eps_growth_+1y</th>\n",
       "      <td>0.00</td>\n",
       "      <td>0.00</td>\n",
       "      <td>0.00</td>\n",
       "      <td>0.00</td>\n",
       "      <td>0.00</td>\n",
       "    </tr>\n",
       "    <tr>\n",
       "      <th>eps_upLast7days_+1y</th>\n",
       "      <td>0.00</td>\n",
       "      <td>0.00</td>\n",
       "      <td>0.00</td>\n",
       "      <td>0.00</td>\n",
       "      <td>0.00</td>\n",
       "    </tr>\n",
       "    <tr>\n",
       "      <th>eps_upLast30days_+1y</th>\n",
       "      <td>0.00</td>\n",
       "      <td>0.00</td>\n",
       "      <td>0.00</td>\n",
       "      <td>0.00</td>\n",
       "      <td>0.00</td>\n",
       "    </tr>\n",
       "    <tr>\n",
       "      <th>eps_downLast30days_+1y</th>\n",
       "      <td>0.00</td>\n",
       "      <td>0.00</td>\n",
       "      <td>0.00</td>\n",
       "      <td>0.00</td>\n",
       "      <td>0.00</td>\n",
       "    </tr>\n",
       "  </tbody>\n",
       "</table>\n",
       "</div>"
      ],
      "text/plain": [
       "                        2019-03-07  2019-03-08  2019-03-11  2019-03-12  \\\n",
       "eps_growth_+1q                0.00        0.00        0.00        0.00   \n",
       "eps_upLast7days_+1q           0.00       -1.00        0.00        0.00   \n",
       "eps_upLast30days_+1q          0.00        0.00        0.00        0.00   \n",
       "eps_downLast30days_+1q        0.00        0.00        0.00        1.00   \n",
       "eps_growth_+1y                0.00        0.00        0.00        0.00   \n",
       "eps_upLast7days_+1y           0.00        0.00        0.00        0.00   \n",
       "eps_upLast30days_+1y          0.00        0.00        0.00        0.00   \n",
       "eps_downLast30days_+1y        0.00        0.00        0.00        0.00   \n",
       "\n",
       "                        2019-03-13  \n",
       "eps_growth_+1q                0.00  \n",
       "eps_upLast7days_+1q           0.00  \n",
       "eps_upLast30days_+1q          0.00  \n",
       "eps_downLast30days_+1q        0.00  \n",
       "eps_growth_+1y                0.00  \n",
       "eps_upLast7days_+1y           0.00  \n",
       "eps_upLast30days_+1y          0.00  \n",
       "eps_downLast30days_+1y        0.00  "
      ]
     },
     "execution_count": 343,
     "metadata": {},
     "output_type": "execute_result"
    }
   ],
   "source": [
    "processed_df.tail().T"
   ]
  },
  {
   "cell_type": "code",
   "execution_count": 342,
   "metadata": {},
   "outputs": [
    {
     "data": {
      "text/plain": [
       "<matplotlib.axes._subplots.AxesSubplot at 0x128683dd8>"
      ]
     },
     "execution_count": 342,
     "metadata": {},
     "output_type": "execute_result"
    },
    {
     "data": {
      "image/png": "[encoded data removed]",
      "text/plain": [
       "<Figure size 432x288 with 1 Axes>"
      ]
     },
     "metadata": {
      "needs_background": "light"
     },
     "output_type": "display_data"
    }
   ],
   "source": [
    "processed_df.plot.hist()"
   ]
  },
  {
   "cell_type": "markdown",
   "metadata": {
    "heading_collapsed": true
   },
   "source": [
    "### Get universe dataset"
   ]
  },
  {
   "cell_type": "code",
   "execution_count": 345,
   "metadata": {
    "hidden": true
   },
   "outputs": [],
   "source": [
    "ticker = ['AAPL']\n",
    "key = 'day_quote'\n",
    "pre = key.split('_')[0] # append preffix\n",
    "periods = ['+1q', '+1y',] # forward looking periods only"
   ]
  },
  {
   "cell_type": "code",
   "execution_count": 347,
   "metadata": {
    "hidden": true
   },
   "outputs": [
    {
     "name": "stdout",
     "output_type": "stream",
     "text": [
      "Loading file quote/csv/2019-02-26\n",
      "Loading file quote/csv/2019-03-04\n",
      "Loading file quote/csv/2019-03-05\n",
      "Loading file quote/csv/2019-03-06\n",
      "Loading file quote/csv/2019-03-07\n",
      "Loading file quote/csv/2019-03-08\n",
      "Loading file quote/csv/2019-03-11\n",
      "Loading file quote/csv/2019-03-12\n",
      "Loading file quote/csv/2019-03-13\n",
      "Loading file quote/csv/2019-03-14\n",
      "CPU times: user 637 ms, sys: 127 ms, total: 763 ms\n",
      "Wall time: 6.62 s\n"
     ]
    }
   ],
   "source": [
    "%%time\n",
    "# retrieves dataset for historical dates\n",
    "daily_df = get_daily_ts(key, ds_dict, 10)\n",
    "# Make index a flat date, easier to index\n",
    "daily_df.index = daily_df.index.date"
   ]
  },
  {
   "cell_type": "code",
   "execution_count": 348,
   "metadata": {
    "hidden": true
   },
   "outputs": [],
   "source": [
    "# pre-processing pipeline\n",
    "pre_proc_pipeline = {\n",
    "    'key_statistics': [preproc_scale_financials],\n",
    "    'eps_estimates': [df_wide_transform, preproc_eps_estimates],\n",
    "    'eps_revisions': [df_wide_transform, preproc_day_delta],\n",
    "    'eps_trend': [df_wide_transform, preproc_eps_trend],\n",
    "    'financial_data': [preproc_scale_financials, preproc_perc_price],\n",
    "}"
   ]
  },
  {
   "cell_type": "code",
   "execution_count": null,
   "metadata": {
    "hidden": true
   },
   "outputs": [],
   "source": [
    "\n",
    "context = {\n",
    "    'ds_dict': ds_dict,\n",
    "    'key': key,\n",
    "    'pre': pre,\n",
    "    'periods': periods,\n",
    "    'hist_price': px_close.loc[wide_df.index, ticker]\n",
    "}\n",
    "\n",
    "processed_df = active_df.copy()\n",
    "if key in pre_proc_pipeline:\n",
    "    for fn in pre_proc_pipeline[key]: \n",
    "        processed_df = fn(processed_df, context)\n",
    "    \n",
    "processed_df"
   ]
  },
  {
   "cell_type": "markdown",
   "metadata": {},
   "source": [
    "### Get universe pricing"
   ]
  },
  {
   "cell_type": "code",
   "execution_count": 30,
   "metadata": {},
   "outputs": [
    {
     "name": "stdout",
     "output_type": "stream",
     "text": [
      "Loading file quote/csv/2019-03-12\n",
      "Loading file summary-categories/assetProfile\n"
     ]
    }
   ],
   "source": [
    "# use the latest saved data for profile and quote info\n",
    "dates = read_dates('quote')\n",
    "tgt_date = [dates[-1]] # last date saved in S3\n",
    "\n",
    "quotes = load_csvs('quote_consol', tgt_date)\n",
    "quotes.set_index('symbol', drop=False, inplace=True)\n",
    "profile = load_csvs('summary_detail', ['assetProfile'])\n",
    "profile.set_index('symbol', drop=False, inplace=True)"
   ]
  },
  {
   "cell_type": "code",
   "execution_count": 31,
   "metadata": {},
   "outputs": [
    {
     "name": "stdout",
     "output_type": "stream",
     "text": [
      "Delta quote:  {'FBR', 'SCG', 'SHPG', 'PD'}\n",
      "Delta reduced set:  {'FBR', 'SCG', 'SHPG', 'PD'}\n",
      "Delta profile:  23 {'ESL', 'SHPG', 'AMED', 'JBT', 'ODFL', 'IBKR', '9984.T', 'REGN', 'CBOE', 'SCG', 'ROP', 'BSTI', 'VVC', 'ABMD', 'PD', 'FBR', 'LRCX', 'DRE', 'KORS', 'DNB', 'WSM', 'TAP', 'NFX'}\n"
     ]
    }
   ],
   "source": [
    "profile.drop(profile[profile.symbol.isin(excl_list)].index, inplace=True)\n",
    "\n",
    "all_equities = quotes[quotes.quoteType == 'EQUITY'].symbol.unique()\n",
    "print('Delta quote: ', set(symbols_list) - set(all_equities))\n",
    "# reduced subset, if any\n",
    "sub_equities = set(px_close.columns.tolist()).intersection(all_equities)\n",
    "print('Delta reduced set: ', set(symbols_list) - set(sub_equities))\n",
    "\n",
    "eqty_symbols = profile[profile.symbol.isin(sub_equities)].symbol.unique().tolist()\n",
    "delta_symb = set(symbols_list) - set(eqty_symbols)\n",
    "print('Delta profile: ', len(delta_symb), delta_symb)"
   ]
  },
  {
   "cell_type": "code",
   "execution_count": 32,
   "metadata": {},
   "outputs": [
    {
     "data": {
      "text/plain": [
       "'Sectors: 11, Industries: 136'"
      ]
     },
     "execution_count": 32,
     "metadata": {},
     "output_type": "execute_result"
    }
   ],
   "source": [
    "# Create a frame of market, sector and industry index (once)\n",
    "# for relative performance calculations\n",
    "sel_profiles = profile[profile.symbol.isin(all_equities)]\n",
    "sel_profiles.groupby(['sector', 'industry'])[['industry']].count()\n",
    "sectors = sel_profiles.sector.unique()\n",
    "industries = sel_profiles.industry.unique()\n",
    "\n",
    "f'Sectors: {sectors.shape[0]}, Industries: {industries.shape[0]}'"
   ]
  },
  {
   "cell_type": "code",
   "execution_count": 33,
   "metadata": {},
   "outputs": [
    {
     "name": "stdout",
     "output_type": "stream",
     "text": [
      "CPU times: user 11 s, sys: 1.7 s, total: 12.7 s\n",
      "Wall time: 3.71 s\n"
     ]
    }
   ],
   "source": [
    "%%time\n",
    "indices_df = pd.concat([\n",
    "    eq_wgt_indices(profile, px_close, 'sector', sectors, subset=eqty_symbols),\n",
    "    eq_wgt_indices(profile, px_close, 'industry', industries, subset=eqty_symbols),\n",
    "    to_index_form(get_symbol_pricing(bench)['close'], bench)\n",
    "], axis=1)"
   ]
  },
  {
   "cell_type": "markdown",
   "metadata": {
    "heading_collapsed": true
   },
   "source": [
    "### Dataset creation"
   ]
  },
  {
   "cell_type": "code",
   "execution_count": 570,
   "metadata": {
    "code_folding": [
     0
    ],
    "hidden": true
   },
   "outputs": [
    {
     "name": "stdout",
     "output_type": "stream",
     "text": [
      "100%|██████████| 200/200 [01:08<00:00,  3.04it/s]\n",
      "CPU times: user 33.6 s, sys: 1.03 s, total: 34.7 s\n",
      "Wall time: 1min 9s\n"
     ]
    }
   ],
   "source": [
    "%%time\n",
    "# Take a while ~40min to run on 1200 companies\n",
    "\n",
    "super_list = []\n",
    "for ticker in tqdm(eqty_symbols[:200]):\n",
    "    \n",
    "    df = get_symbol_pricing(ticker)\n",
    "    ft_df = px_mom_feats(\n",
    "        df, ticker, stds, inv, incl_px, \n",
    "        sec_windows, incl_name)\n",
    "    \n",
    "    ft_df[y_col] = px_fwd_rets(\n",
    "        df.close, ticker, pred_fwd_windows).mean(axis=1)\n",
    "    \n",
    "    co = px_mom_co_feats(\n",
    "        df, indices_df, \n",
    "        [bench] + list(profile.loc[ticker, ['sector', 'industry']]))\n",
    "\n",
    "    ft_df.loc[:, 'country'] = profile.loc[ticker,:].country\n",
    "    ft_df.loc[:, 'currency'] = quotes.loc[ticker,:].currency\n",
    "    \n",
    "    ft_df = pd.concat([ft_df, co], axis=1)\n",
    "    super_list.append(ft_df)\n",
    "\n",
    "df_large = pd.concat(super_list, axis=0)"
   ]
  },
  {
   "cell_type": "code",
   "execution_count": 539,
   "metadata": {
    "hidden": true
   },
   "outputs": [],
   "source": [
    "os.makedirs('tmp', exist_ok=True)\n",
    "df_large.to_parquet('tmp/company-px_mom-large')"
   ]
  },
  {
   "cell_type": "markdown",
   "metadata": {
    "heading_collapsed": true
   },
   "source": [
    "### Old pre-processing"
   ]
  },
  {
   "cell_type": "code",
   "execution_count": 35,
   "metadata": {
    "hidden": true,
    "scrolled": true
   },
   "outputs": [
    {
     "name": "stdout",
     "output_type": "stream",
     "text": [
      "<class 'pandas.core.frame.DataFrame'>\n",
      "DatetimeIndex: 781600 entries, 2004-03-08 00:00:00-05:00 to 2019-03-11 00:00:00-04:00\n",
      "Columns: 29 entries, PctChg1Stds to industry\n",
      "dtypes: float64(24), object(5)\n",
      "memory usage: 178.9+ MB\n",
      "None\n"
     ]
    }
   ],
   "source": [
    "cuts = { '1d': [-1, -0.1, -.02, .02, .1, 1.] }\n",
    "cut_range = cuts['1d']\n",
    "fwd_ret_labels = [\"bear\", \"short\", \"neutral\", \"long\", \"bull\"]\n",
    "\n",
    "df_large = pd.read_parquet('tmp/company-px_mom-large')\n",
    "print(df_large.info(verbose=False))"
   ]
  },
  {
   "cell_type": "code",
   "execution_count": 36,
   "metadata": {
    "hidden": true
   },
   "outputs": [
    {
     "name": "stderr",
     "output_type": "stream",
     "text": [
      "/Users/vveiga/miniconda3/envs/inception/lib/python3.7/site-packages/ipykernel_launcher.py:7: SettingWithCopyWarning: \n",
      "A value is trying to be set on a copy of a slice from a DataFrame\n",
      "\n",
      "See the caveats in the documentation: http://pandas.pydata.org/pandas-docs/stable/indexing.html#indexing-view-versus-copy\n",
      "  import sys\n",
      "/Users/vveiga/miniconda3/envs/inception/lib/python3.7/site-packages/ipykernel_launcher.py:8: SettingWithCopyWarning: \n",
      "A value is trying to be set on a copy of a slice from a DataFrame.\n",
      "Try using .loc[row_indexer,col_indexer] = value instead\n",
      "\n",
      "See the caveats in the documentation: http://pandas.pydata.org/pandas-docs/stable/indexing.html#indexing-view-versus-copy\n",
      "  \n"
     ]
    },
    {
     "data": {
      "text/plain": [
       "bear      0.17\n",
       "short     0.18\n",
       "neutral   0.13\n",
       "long      0.24\n",
       "bull      0.28\n",
       "Name: fwdReturn, dtype: float64"
      ]
     },
     "execution_count": 36,
     "metadata": {},
     "output_type": "execute_result"
    }
   ],
   "source": [
    "# Trims dataset in case it's too large for experimentation\n",
    "# Reduce dataset for experimentation\n",
    "# Note that experiment dataset is not stratified\n",
    "exp_perc = 99e-2\n",
    "_, df_raw = train_test_split(df_large, test_size=exp_perc, shuffle=True, )\n",
    "\n",
    "df_raw.dropna(subset=[y_col],  inplace=True)\n",
    "df_raw[y_col] = discret_rets(df_raw[y_col], cut_range, fwd_ret_labels)\n",
    "\n",
    "# df_raw.loc[:, y_col] = df_raw[y_col].astype(str)\n",
    "\n",
    "y_col_dist = sample_wgts(df_raw[y_col], fwd_ret_labels)\n",
    "(y_col_dist[fwd_ret_labels]).round(3)"
   ]
  },
  {
   "cell_type": "code",
   "execution_count": 37,
   "metadata": {
    "hidden": true
   },
   "outputs": [],
   "source": [
    "# keep_col = ['Pct52WkL', 'RollVol20', 'PctMA200', 'rsBench120', \n",
    "#             'rsSect120', 'Pct52WkH', 'PctChg60', 'rsSect60', \n",
    "#             'PctMA50', 'rsInd60', 'rsInd120', 'rsBench60', 'rsInd20', \n",
    "#             'PctChg20', 'PctChg5', 'rsSect20', 'rsBench20', 'volPctMa10', \n",
    "#             'volPctMa60',  y_col]\n",
    "# df_raw = df_raw[keep_col]\n",
    "\n",
    "# df_raw = df_raw[df_raw.sector.isin(['Healthcare'])][keep_col]\n",
    "# df_raw = df_raw[df_raw.symbol.isin(['AAPL'])]"
   ]
  },
  {
   "cell_type": "code",
   "execution_count": 38,
   "metadata": {
    "hidden": true
   },
   "outputs": [
    {
     "name": "stderr",
     "output_type": "stream",
     "text": [
      "/Users/vveiga/miniconda3/envs/inception/lib/python3.7/site-packages/pandas/core/indexing.py:543: SettingWithCopyWarning: \n",
      "A value is trying to be set on a copy of a slice from a DataFrame.\n",
      "Try using .loc[row_indexer,col_indexer] = value instead\n",
      "\n",
      "See the caveats in the documentation: http://pandas.pydata.org/pandas-docs/stable/indexing.html#indexing-view-versus-copy\n",
      "  self.obj[item] = s\n"
     ]
    },
    {
     "name": "stdout",
     "output_type": "stream",
     "text": [
      "CPU times: user 9.64 s, sys: 1.2 s, total: 10.8 s\n",
      "Wall time: 4.27 s\n"
     ]
    }
   ],
   "source": [
    "%%time\n",
    "# turn sectors into dummies\n",
    "def dummy_col(df, col):\n",
    "    df.loc[:, col] = df[col].apply(shorten_name)\n",
    "    df = pd.concat([df, pd.get_dummies(df[col])], axis=1)\n",
    "    return df\n",
    "    \n",
    "df_raw = dummy_col(df_raw, 'sector')\n",
    "df_raw = dummy_col(df_raw, 'industry')\n",
    "df_raw = dummy_col(df_raw, 'country')\n",
    "df_raw = dummy_col(df_raw, 'currency')"
   ]
  },
  {
   "cell_type": "code",
   "execution_count": 39,
   "metadata": {
    "hidden": true
   },
   "outputs": [
    {
     "name": "stdout",
     "output_type": "stream",
     "text": [
      "CPU times: user 13.4 s, sys: 2.33 s, total: 15.7 s\n",
      "Wall time: 11.6 s\n"
     ]
    }
   ],
   "source": [
    "%%time\n",
    "excl_list = ['symbol', 'country', 'currency', 'industry', 'sector'] # drop unneeded columns\n",
    "df_raw.drop(columns=excl_list, inplace=True, errors='ignore')\n",
    "\n",
    "# train_cats(df_raw) # train categories excluding Y variable\n",
    "# categ_cols = excl(df_raw.dtypes[df_raw.dtypes == 'category'].index, [y_col])\n",
    "# df_raw.loc[:, categ_cols] = df_raw[categ_cols].apply(lambda x: x.cat.codes)\n",
    "\n",
    "# lots of calculations so replace infinity with nan\n",
    "df_raw.replace([np.inf, -np.inf], np.nan, inplace=True)\n",
    "df_raw.shape"
   ]
  },
  {
   "cell_type": "code",
   "execution_count": 40,
   "metadata": {
    "hidden": true
   },
   "outputs": [
    {
     "data": {
      "text/plain": [
       "Index(['PctChg1Stds', 'PctMA50', 'PctMA200', 'RollVol20', 'PctChg5',\n",
       "       'PctChg20', 'PctChg60', 'Pct52WkH', 'Pct52WkL', 'fwdReturn',\n",
       "       ...\n",
       "       '^MEXI', '^PERU', '^SOUT_AFRI', '^SPAI', '^SWIT', '^TAIW', '^UNIT_KING',\n",
       "       '^UNIT_STAT', '^HKD', '^USD'],\n",
       "      dtype='object', length=131)"
      ]
     },
     "execution_count": 40,
     "metadata": {},
     "output_type": "execute_result"
    }
   ],
   "source": [
    "df_raw.columns"
   ]
  },
  {
   "cell_type": "code",
   "execution_count": 41,
   "metadata": {
    "hidden": true
   },
   "outputs": [],
   "source": [
    "drop_dates = True\n",
    "\n",
    "if drop_dates: df_raw.reset_index(drop=True, inplace=True)\n",
    "else: \n",
    "    df_raw.reset_index(inplace=True)\n",
    "    df_raw.rename({'index': 'obsDate'}, axis=1, inplace=True)\n",
    "    add_datepart(df_raw, 'obsDate')\n",
    "    \n",
    "# df_raw[[x for x in df_raw.columns if 'obs' in x]]\n",
    "# exp_log['drop_dates'] = drop_dates"
   ]
  },
  {
   "cell_type": "markdown",
   "metadata": {
    "heading_collapsed": true
   },
   "source": [
    "### Train models"
   ]
  },
  {
   "cell_type": "code",
   "execution_count": 43,
   "metadata": {
    "hidden": true
   },
   "outputs": [
    {
     "name": "stdout",
     "output_type": "stream",
     "text": [
      "CPU times: user 58.8 s, sys: 41.3 s, total: 1min 40s\n",
      "Wall time: 21.6 s\n"
     ]
    }
   ],
   "source": [
    "%%time\n",
    "# Mean based imputer\n",
    "imputer_on, scaler_on = True, False\n",
    "imputer = SimpleImputer(missing_values=np.nan, strategy='mean', copy=False)\n",
    "scaler = StandardScaler()\n",
    "\n",
    "pre_ml_df = df_raw.copy()\n",
    "pre_ml_df.dropna(subset=[y_col], inplace=True)\n",
    "pre_ml_df.loc[:, y_col] = pre_ml_df[y_col].astype(str)\n",
    "X_cols = excl(pre_ml_df.columns, [y_col])\n",
    "\n",
    "if imputer_on: pre_ml_df.loc[:, X_cols] = imputer.fit_transform(pre_ml_df[X_cols])\n",
    "else: pre_ml_df.dropna(inplace=True)\n",
    "if scaler_on: pre_ml_df.loc[:, X_cols] = scaler.fit_transform(pre_ml_df[X_cols])\n",
    "\n",
    "X, y = pre_ml_df.drop(columns=y_col), pre_ml_df[y_col]\n",
    "\n",
    "# sample_weight = np.random.RandomState(42).rand(y.shape[0])\n",
    "# X_train, X_test, y_train, y_test, sw_train, sw_test = train_test_split(X, y, sample_weight, test_size=.20, random_state=42)\n",
    "\n",
    "X_train, X_test, y_train, y_test = train_test_split(X, y, test_size=.20, random_state=42)\n",
    "X_train.shape, X_test.shape, y_train.shape, y_test.shape"
   ]
  },
  {
   "cell_type": "code",
   "execution_count": 44,
   "metadata": {
    "hidden": true
   },
   "outputs": [
    {
     "name": "stdout",
     "output_type": "stream",
     "text": [
      "(0.9996839596941971, 0.7672793547386382)\n",
      "CPU times: user 51min, sys: 13.6 s, total: 51min 14s\n",
      "Wall time: 4min 40s\n"
     ]
    }
   ],
   "source": [
    "%%time\n",
    "\n",
    "from sklearn.calibration import CalibratedClassifierCV\n",
    "from sklearn.metrics import brier_score_loss\n",
    "\n",
    "# RandomForestClassifier\n",
    "params = {\n",
    "    'n_estimators': 100, \n",
    "    'max_features': X.shape[1] // 2, \n",
    "    'random_state': 4,\n",
    "    'max_depth': None, \n",
    "    'min_samples_split': 2, \n",
    "    'n_jobs': -1}\n",
    "\n",
    "clf = RandomForestClassifier(**params)\n",
    "clf.fit(X_train, y_train)\n",
    "\n",
    "scores = clf.score(X_train, y_train), clf.score(X_test, y_test)\n",
    "print(scores)"
   ]
  },
  {
   "cell_type": "code",
   "execution_count": 455,
   "metadata": {
    "hidden": true
   },
   "outputs": [
    {
     "name": "stdout",
     "output_type": "stream",
     "text": [
      "(1.0, 0.6980117261318302)\n",
      "CPU times: user 5min 38s, sys: 9.13 s, total: 5min 48s\n",
      "Wall time: 32.6 s\n"
     ]
    }
   ],
   "source": [
    "%%time\n",
    "# ExtraTreesClassifier\n",
    "clf = ExtraTreesClassifier(\n",
    "    n_estimators=100, max_depth=None, \n",
    "    min_samples_split=2, random_state=0, n_jobs=-1)\n",
    "\n",
    "clf.fit(X_train, y_train)\n",
    "scores = clf.score(X_train, y_train), clf.score(X_test, y_test)\n",
    "print(scores)"
   ]
  },
  {
   "cell_type": "code",
   "execution_count": 546,
   "metadata": {
    "code_folding": [
     0
    ],
    "hidden": true
   },
   "outputs": [
    {
     "name": "stdout",
     "output_type": "stream",
     "text": [
      "(0.3481954484812758, 0.347108784176847)\n",
      "CPU times: user 4min 48s, sys: 29.6 s, total: 5min 17s\n",
      "Wall time: 57.1 s\n"
     ]
    }
   ],
   "source": [
    "%%time\n",
    "# MLPClassifier\n",
    "params = {\n",
    "    'activation': 'relu', \n",
    "    'alpha': 0.01, \n",
    "    'hidden_layer_sizes': (15,), \n",
    "    'learning_rate': 'adaptive', \n",
    "    'max_iter': 200, \n",
    "    'random_state': 3, \n",
    "    'solver': 'lbfgs'}\n",
    "\n",
    "clf = MLPClassifier(**params)\n",
    "\n",
    "clf.fit(X_train, y_train)\n",
    "scores = clf.score(X_train, y_train), clf.score(X_test, y_test)\n",
    "print(scores)"
   ]
  },
  {
   "cell_type": "markdown",
   "metadata": {
    "hidden": true
   },
   "source": [
    "#### Metrics"
   ]
  },
  {
   "cell_type": "code",
   "execution_count": null,
   "metadata": {
    "hidden": true
   },
   "outputs": [],
   "source": []
  },
  {
   "cell_type": "code",
   "execution_count": 533,
   "metadata": {
    "hidden": true
   },
   "outputs": [
    {
     "name": "stdout",
     "output_type": "stream",
     "text": [
      "Loading file quote/csv/2019-03-11\n",
      "Loading file summary-categories/assetProfile\n",
      "Loading file quote/csv/2019-03-11\n",
      "Loading file summary-categories/assetProfile\n",
      "Feature ranking:\n",
      "3 feature RollVol20 (0.055379084768897746)\n",
      "8 feature Pct52WkL (0.05079081328218158)\n",
      "2 feature PctMA200 (0.04847372429599919)\n",
      "7 feature Pct52WkH (0.0480753794115999)\n",
      "15 feature rsBench120 (0.04614337927974544)\n",
      "16 feature rsSect120 (0.04597819379961842)\n",
      "17 feature rsInd120 (0.04590586834716318)\n",
      "6 feature PctChg60 (0.04510817351310645)\n",
      "1 feature PctMA50 (0.044538316880500986)\n",
      "14 feature rsInd60 (0.044258431832974336)\n",
      "12 feature rsBench60 (0.044035389786850926)\n",
      "13 feature rsSect60 (0.043856256652849784)\n",
      "11 feature rsInd20 (0.041575652631080616)\n",
      "5 feature PctChg20 (0.04136692973989873)\n",
      "9 feature rsBench20 (0.04108225365353204)\n",
      "10 feature rsSect20 (0.04096942397498883)\n",
      "4 feature PctChg5 (0.03933564999679525)\n",
      "19 feature volPctMa60 (0.0353012262234468)\n",
      "18 feature volPctMa10 (0.03519117915811156)\n",
      "0 feature PctChg1Stds (0.008887860669801746)\n",
      "20 feature benchPctChgStds (0.008448675989693932)\n",
      "22 feature indPctChgStds (0.008369883087902796)\n",
      "21 feature sectPctChgStds (0.008052314975740405)\n",
      "127 feature ^UNIT_STAT (0.005062626805440674)\n",
      "30 feature ^INDU (0.004132771030686836)\n",
      "29 feature ^HEAL (0.003891739241763717)\n"
     ]
    },
    {
     "data": {
      "image/png": "[encoded data removed]",
      "text/plain": [
       "<Figure size 432x288 with 1 Axes>"
      ]
     },
     "metadata": {
      "needs_background": "light"
     },
     "output_type": "display_data"
    }
   ],
   "source": [
    "show_fi(clf, X, 25)"
   ]
  },
  {
   "cell_type": "code",
   "execution_count": 534,
   "metadata": {
    "hidden": true
   },
   "outputs": [
    {
     "name": "stdout",
     "output_type": "stream",
     "text": [
      "Confussion Matrix\n",
      " [[17098  2047   363   352   218]\n",
      " [ 1755 15847  2658   558   180]\n",
      " [   51  1595  6412  1339    57]\n",
      " [  781  1857  5004 23398  3253]\n",
      " [ 1638  2128  1755  5593 32988]]\n"
     ]
    }
   ],
   "source": [
    "print('Confussion Matrix\\n', confusion_matrix(clf.predict(X_test), y_test, labels=fwd_ret_labels))"
   ]
  },
  {
   "cell_type": "code",
   "execution_count": 535,
   "metadata": {
    "hidden": true
   },
   "outputs": [
    {
     "name": "stdout",
     "output_type": "stream",
     "text": [
      "Classificaton report\n",
      "               precision    recall  f1-score   support\n",
      "\n",
      "        bear       0.80      0.85      0.83     20078\n",
      "       short       0.90      0.75      0.82     44102\n",
      "     neutral       0.75      0.68      0.71     34293\n",
      "        long       0.40      0.68      0.50      9454\n",
      "        bull       0.68      0.75      0.71     20998\n",
      "\n",
      "   micro avg       0.74      0.74      0.74    128925\n",
      "   macro avg       0.70      0.74      0.71    128925\n",
      "weighted avg       0.77      0.74      0.75    128925\n",
      "\n"
     ]
    }
   ],
   "source": [
    "print('Classificaton report\\n', classification_report(clf.predict(X_test), y_test, target_names=fwd_ret_labels))"
   ]
  },
  {
   "cell_type": "code",
   "execution_count": 536,
   "metadata": {
    "hidden": true
   },
   "outputs": [
    {
     "data": {
      "text/plain": [
       "0.945469193272936"
      ]
     },
     "execution_count": 536,
     "metadata": {},
     "output_type": "execute_result"
    }
   ],
   "source": [
    "log_loss(y_test, clf.predict_proba(X_test))"
   ]
  },
  {
   "cell_type": "markdown",
   "metadata": {
    "hidden": true
   },
   "source": [
    "#### Gridsearches"
   ]
  },
  {
   "cell_type": "code",
   "execution_count": 342,
   "metadata": {
    "hidden": true
   },
   "outputs": [
    {
     "data": {
      "text/plain": [
       "array([10, 36, 62, 88])"
      ]
     },
     "execution_count": 342,
     "metadata": {},
     "output_type": "execute_result"
    }
   ],
   "source": [
    "np.arange(10, X.shape[1], int(X.shape[1]*.25))"
   ]
  },
  {
   "cell_type": "code",
   "execution_count": null,
   "metadata": {
    "hidden": true
   },
   "outputs": [],
   "source": [
    "%%time\n",
    "# GridSearchCV for RandomForestClassifier\n",
    "parameters = {\n",
    "    'n_estimators': [10, 20, 40], \n",
    "    'max_features': np.arange(10, X.shape[1], int(X.shape[1]*.25)), \n",
    "    'random_state': np.arange(1, 10, 3)}\n",
    "\n",
    "# parameters = {\n",
    "#     'n_estimators': [80], \n",
    "#     'max_features': [16], \n",
    "#     'random_state': [4]}\n",
    "\n",
    "clf = GridSearchCV(RandomForestClassifier(), parameters, n_jobs=-1, cv=5)\n",
    "clf.fit(X_train, y_train)\n",
    "\n",
    "print(clf.score(X_train, y_train), clf.score(X_test, y_test))\n",
    "print(clf.best_params_)"
   ]
  },
  {
   "cell_type": "markdown",
   "metadata": {
    "heading_collapsed": true
   },
   "source": [
    "### Date and minute based time analysis"
   ]
  },
  {
   "cell_type": "code",
   "execution_count": 1007,
   "metadata": {
    "hidden": true
   },
   "outputs": [],
   "source": [
    "freq = '1d'"
   ]
  },
  {
   "cell_type": "code",
   "execution_count": 1008,
   "metadata": {
    "hidden": true
   },
   "outputs": [
    {
     "data": {
      "text/html": [
       "<div>\n",
       "<style scoped>\n",
       "    .dataframe tbody tr th:only-of-type {\n",
       "        vertical-align: middle;\n",
       "    }\n",
       "\n",
       "    .dataframe tbody tr th {\n",
       "        vertical-align: top;\n",
       "    }\n",
       "\n",
       "    .dataframe thead th {\n",
       "        text-align: right;\n",
       "    }\n",
       "</style>\n",
       "<table border=\"1\" class=\"dataframe\">\n",
       "  <thead>\n",
       "    <tr style=\"text-align: right;\">\n",
       "      <th></th>\n",
       "      <th>close</th>\n",
       "      <th>close</th>\n",
       "    </tr>\n",
       "  </thead>\n",
       "  <tbody>\n",
       "    <tr>\n",
       "      <th>count</th>\n",
       "      <td>164.00</td>\n",
       "      <td>3,775.00</td>\n",
       "    </tr>\n",
       "    <tr>\n",
       "      <th>mean</th>\n",
       "      <td>14.24</td>\n",
       "      <td>66.80</td>\n",
       "    </tr>\n",
       "    <tr>\n",
       "      <th>std</th>\n",
       "      <td>2.88</td>\n",
       "      <td>56.49</td>\n",
       "    </tr>\n",
       "    <tr>\n",
       "      <th>min</th>\n",
       "      <td>9.70</td>\n",
       "      <td>1.81</td>\n",
       "    </tr>\n",
       "    <tr>\n",
       "      <th>25%</th>\n",
       "      <td>12.19</td>\n",
       "      <td>16.67</td>\n",
       "    </tr>\n",
       "    <tr>\n",
       "      <th>50%</th>\n",
       "      <td>13.59</td>\n",
       "      <td>54.28</td>\n",
       "    </tr>\n",
       "    <tr>\n",
       "      <th>75%</th>\n",
       "      <td>16.51</td>\n",
       "      <td>106.82</td>\n",
       "    </tr>\n",
       "    <tr>\n",
       "      <th>max</th>\n",
       "      <td>21.55</td>\n",
       "      <td>232.07</td>\n",
       "    </tr>\n",
       "  </tbody>\n",
       "</table>\n",
       "</div>"
      ],
      "text/plain": [
       "       close    close\n",
       "count 164.00 3,775.00\n",
       "mean   14.24    66.80\n",
       "std     2.88    56.49\n",
       "min     9.70     1.81\n",
       "25%    12.19    16.67\n",
       "50%    13.59    54.28\n",
       "75%    16.51   106.82\n",
       "max    21.55   232.07"
      ]
     },
     "execution_count": 1008,
     "metadata": {},
     "output_type": "execute_result"
    }
   ],
   "source": [
    "# s1, s2 = '1810.HK', 'AAPL'\n",
    "group_pricing = pd.DataFrame()\n",
    "df1 = get_symbol_pricing(s1, freq, ['close'])\n",
    "df2 = get_symbol_pricing(s2, freq, ['close'])\n",
    "group_pricing = pd.DataFrame(df1)\n",
    "# group_pricing.loc[:, s2] = df2\n",
    "group_pricing = pd.concat([group_pricing, df2], axis=1)\n",
    "group_pricing.describe()\n",
    "# group_pricing"
   ]
  },
  {
   "cell_type": "code",
   "execution_count": 850,
   "metadata": {
    "hidden": true
   },
   "outputs": [
    {
     "data": {
      "text/plain": [
       "(dict_keys(['meta', 'timestamp', 'indicators']), dict_keys(['quote']))"
      ]
     },
     "execution_count": 850,
     "metadata": {},
     "output_type": "execute_result"
    }
   ],
   "source": [
    "path = config['pricing_path'].format(freq)\n",
    "data_dict = json_load(path + json_ext.format(ticker))\n",
    "\n",
    "tz = data_dict['meta']['exchangeTimezoneName']\n",
    "df = build_px_struct(data_dict, freq)\n",
    "\n",
    "adjClose = data_dict['indicators']['adjclose'][0] if 'adjclose' in  data_dict['indicators'] else 0\n",
    "close = data_dict['indicators']['quote'][0]\n",
    "data_dict.keys(), data_dict['indicators'].keys()"
   ]
  },
  {
   "cell_type": "code",
   "execution_count": 916,
   "metadata": {
    "hidden": true
   },
   "outputs": [
    {
     "data": {
      "text/plain": [
       "array([datetime.date(2019, 2, 28), datetime.date(2019, 2, 28),\n",
       "       datetime.date(2019, 2, 28), ..., datetime.date(2019, 3, 6),\n",
       "       datetime.date(2019, 3, 6), datetime.date(2019, 3, 6)], dtype=object)"
      ]
     },
     "execution_count": 916,
     "metadata": {},
     "output_type": "execute_result"
    }
   ],
   "source": [
    "df.index.date"
   ]
  },
  {
   "cell_type": "code",
   "execution_count": 851,
   "metadata": {
    "hidden": true
   },
   "outputs": [
    {
     "data": {
      "text/plain": [
       "DatetimeIndex(['2019-02-28 14:30:00', '2019-02-28 14:31:00',\n",
       "               '2019-02-28 14:32:00', '2019-02-28 14:33:00',\n",
       "               '2019-02-28 14:34:00', '2019-02-28 14:35:00',\n",
       "               '2019-02-28 14:36:00', '2019-02-28 14:37:00',\n",
       "               '2019-02-28 14:38:00', '2019-02-28 14:39:00',\n",
       "               ...\n",
       "               '2019-03-06 20:50:00', '2019-03-06 20:51:00',\n",
       "               '2019-03-06 20:52:00', '2019-03-06 20:53:00',\n",
       "               '2019-03-06 20:54:00', '2019-03-06 20:55:00',\n",
       "               '2019-03-06 20:56:00', '2019-03-06 20:57:00',\n",
       "               '2019-03-06 20:58:00', '2019-03-06 20:59:00'],\n",
       "              dtype='datetime64[ns]', length=1950, freq=None)"
      ]
     },
     "execution_count": 851,
     "metadata": {},
     "output_type": "execute_result"
    }
   ],
   "source": [
    "dates = pd.to_datetime(\n",
    "        data_dict['timestamp'], \n",
    "        unit='s', infer_datetime_format=True)\n",
    "# dates = dates.astype(f'datetime64[ns, {tz}]')\n",
    "# dates.tz_convert('America/New_York')\n",
    "# dates = dates.tz_localize('America/New_York')\n",
    "dates.floor('d' if freq == '1d' else 'min')"
   ]
  },
  {
   "cell_type": "code",
   "execution_count": 829,
   "metadata": {
    "hidden": true
   },
   "outputs": [
    {
     "data": {
      "text/html": [
       "<div>\n",
       "<style scoped>\n",
       "    .dataframe tbody tr th:only-of-type {\n",
       "        vertical-align: middle;\n",
       "    }\n",
       "\n",
       "    .dataframe tbody tr th {\n",
       "        vertical-align: top;\n",
       "    }\n",
       "\n",
       "    .dataframe thead th {\n",
       "        text-align: right;\n",
       "    }\n",
       "</style>\n",
       "<table border=\"1\" class=\"dataframe\">\n",
       "  <thead>\n",
       "    <tr style=\"text-align: right;\">\n",
       "      <th></th>\n",
       "      <th>high</th>\n",
       "      <th>low</th>\n",
       "      <th>open</th>\n",
       "      <th>close</th>\n",
       "      <th>adjclose</th>\n",
       "      <th>volume</th>\n",
       "    </tr>\n",
       "  </thead>\n",
       "  <tbody>\n",
       "    <tr>\n",
       "      <th>2019-03-06 20:55:00</th>\n",
       "      <td>174.72</td>\n",
       "      <td>174.60</td>\n",
       "      <td>174.66</td>\n",
       "      <td>174.71</td>\n",
       "      <td>0</td>\n",
       "      <td>148,802.00</td>\n",
       "    </tr>\n",
       "    <tr>\n",
       "      <th>2019-03-06 20:56:00</th>\n",
       "      <td>174.73</td>\n",
       "      <td>174.67</td>\n",
       "      <td>174.67</td>\n",
       "      <td>174.71</td>\n",
       "      <td>0</td>\n",
       "      <td>37,980.00</td>\n",
       "    </tr>\n",
       "    <tr>\n",
       "      <th>2019-03-06 20:57:00</th>\n",
       "      <td>174.72</td>\n",
       "      <td>174.65</td>\n",
       "      <td>174.71</td>\n",
       "      <td>174.65</td>\n",
       "      <td>0</td>\n",
       "      <td>70,312.00</td>\n",
       "    </tr>\n",
       "    <tr>\n",
       "      <th>2019-03-06 20:58:00</th>\n",
       "      <td>174.80</td>\n",
       "      <td>174.64</td>\n",
       "      <td>174.65</td>\n",
       "      <td>174.76</td>\n",
       "      <td>0</td>\n",
       "      <td>105,856.00</td>\n",
       "    </tr>\n",
       "    <tr>\n",
       "      <th>2019-03-06 20:59:00</th>\n",
       "      <td>174.82</td>\n",
       "      <td>174.46</td>\n",
       "      <td>174.74</td>\n",
       "      <td>174.51</td>\n",
       "      <td>0</td>\n",
       "      <td>385,081.00</td>\n",
       "    </tr>\n",
       "  </tbody>\n",
       "</table>\n",
       "</div>"
      ],
      "text/plain": [
       "                      high    low   open  close  adjclose     volume\n",
       "2019-03-06 20:55:00 174.72 174.60 174.66 174.71         0 148,802.00\n",
       "2019-03-06 20:56:00 174.73 174.67 174.67 174.71         0  37,980.00\n",
       "2019-03-06 20:57:00 174.72 174.65 174.71 174.65         0  70,312.00\n",
       "2019-03-06 20:58:00 174.80 174.64 174.65 174.76         0 105,856.00\n",
       "2019-03-06 20:59:00 174.82 174.46 174.74 174.51         0 385,081.00"
      ]
     },
     "execution_count": 829,
     "metadata": {},
     "output_type": "execute_result"
    }
   ],
   "source": [
    "df.tail(5)"
   ]
  },
  {
   "cell_type": "code",
   "execution_count": 1018,
   "metadata": {
    "hidden": true
   },
   "outputs": [],
   "source": [
    "freq = '1d'"
   ]
  },
  {
   "cell_type": "code",
   "execution_count": 1019,
   "metadata": {
    "hidden": true
   },
   "outputs": [
    {
     "name": "stdout",
     "output_type": "stream",
     "text": [
      "Retrieved pricing for 0700.HK\n",
      "Retrieved pricing for 1810.HK\n",
      "Retrieved pricing for 3690.HK\n",
      "Retrieved pricing for 9984.T\n",
      "Retrieved pricing for A\n",
      "Retrieved pricing for AAL\n",
      "Retrieved pricing for AAN\n",
      "Retrieved pricing for AAON\n",
      "Retrieved pricing for AAP\n",
      "Retrieved pricing for AAPL\n",
      "CPU times: user 1.05 s, sys: 45.5 ms, total: 1.1 s\n",
      "Wall time: 3.91 s\n"
     ]
    }
   ],
   "source": [
    "%time px_close = get_mults_pricing(symbols_list[:10], freq);"
   ]
  },
  {
   "cell_type": "code",
   "execution_count": 1022,
   "metadata": {
    "hidden": true
   },
   "outputs": [
    {
     "data": {
      "text/html": [
       "<div>\n",
       "<style scoped>\n",
       "    .dataframe tbody tr th:only-of-type {\n",
       "        vertical-align: middle;\n",
       "    }\n",
       "\n",
       "    .dataframe tbody tr th {\n",
       "        vertical-align: top;\n",
       "    }\n",
       "\n",
       "    .dataframe thead th {\n",
       "        text-align: right;\n",
       "    }\n",
       "</style>\n",
       "<table border=\"1\" class=\"dataframe\">\n",
       "  <thead>\n",
       "    <tr style=\"text-align: right;\">\n",
       "      <th></th>\n",
       "      <th>0700.HK</th>\n",
       "      <th>0700.HK</th>\n",
       "      <th>1810.HK</th>\n",
       "      <th>3690.HK</th>\n",
       "      <th>9984.T</th>\n",
       "      <th>A</th>\n",
       "      <th>AAL</th>\n",
       "      <th>AAN</th>\n",
       "      <th>AAON</th>\n",
       "      <th>AAP</th>\n",
       "      <th>AAPL</th>\n",
       "    </tr>\n",
       "  </thead>\n",
       "  <tbody>\n",
       "    <tr>\n",
       "      <th>count</th>\n",
       "      <td>3,634.00</td>\n",
       "      <td>3,634.00</td>\n",
       "      <td>164.00</td>\n",
       "      <td>111.00</td>\n",
       "      <td>3,743.00</td>\n",
       "      <td>3,775.00</td>\n",
       "      <td>3,382.00</td>\n",
       "      <td>3,775.00</td>\n",
       "      <td>1,258.00</td>\n",
       "      <td>3,775.00</td>\n",
       "      <td>3,775.00</td>\n",
       "    </tr>\n",
       "    <tr>\n",
       "      <th>mean</th>\n",
       "      <td>94.03</td>\n",
       "      <td>94.03</td>\n",
       "      <td>14.24</td>\n",
       "      <td>54.89</td>\n",
       "      <td>4,406.54</td>\n",
       "      <td>33.28</td>\n",
       "      <td>26.97</td>\n",
       "      <td>23.86</td>\n",
       "      <td>28.76</td>\n",
       "      <td>81.72</td>\n",
       "      <td>66.80</td>\n",
       "    </tr>\n",
       "    <tr>\n",
       "      <th>std</th>\n",
       "      <td>115.76</td>\n",
       "      <td>115.76</td>\n",
       "      <td>2.88</td>\n",
       "      <td>7.61</td>\n",
       "      <td>2,785.93</td>\n",
       "      <td>15.49</td>\n",
       "      <td>17.32</td>\n",
       "      <td>10.35</td>\n",
       "      <td>6.93</td>\n",
       "      <td>49.29</td>\n",
       "      <td>56.49</td>\n",
       "    </tr>\n",
       "    <tr>\n",
       "      <th>min</th>\n",
       "      <td>0.68</td>\n",
       "      <td>0.68</td>\n",
       "      <td>9.70</td>\n",
       "      <td>41.20</td>\n",
       "      <td>650.00</td>\n",
       "      <td>8.90</td>\n",
       "      <td>1.76</td>\n",
       "      <td>9.33</td>\n",
       "      <td>16.97</td>\n",
       "      <td>22.10</td>\n",
       "      <td>1.81</td>\n",
       "    </tr>\n",
       "    <tr>\n",
       "      <th>25%</th>\n",
       "      <td>9.51</td>\n",
       "      <td>9.51</td>\n",
       "      <td>12.19</td>\n",
       "      <td>48.45</td>\n",
       "      <td>2,148.00</td>\n",
       "      <td>22.63</td>\n",
       "      <td>9.12</td>\n",
       "      <td>14.67</td>\n",
       "      <td>22.29</td>\n",
       "      <td>39.16</td>\n",
       "      <td>16.67</td>\n",
       "    </tr>\n",
       "    <tr>\n",
       "      <th>50%</th>\n",
       "      <td>40.18</td>\n",
       "      <td>40.18</td>\n",
       "      <td>13.59</td>\n",
       "      <td>55.00</td>\n",
       "      <td>2,960.00</td>\n",
       "      <td>27.83</td>\n",
       "      <td>30.26</td>\n",
       "      <td>23.71</td>\n",
       "      <td>28.15</td>\n",
       "      <td>66.07</td>\n",
       "      <td>54.28</td>\n",
       "    </tr>\n",
       "    <tr>\n",
       "      <th>75%</th>\n",
       "      <td>142.08</td>\n",
       "      <td>142.08</td>\n",
       "      <td>16.51</td>\n",
       "      <td>59.82</td>\n",
       "      <td>7,127.50</td>\n",
       "      <td>40.84</td>\n",
       "      <td>42.34</td>\n",
       "      <td>29.12</td>\n",
       "      <td>35.06</td>\n",
       "      <td>126.80</td>\n",
       "      <td>106.82</td>\n",
       "    </tr>\n",
       "    <tr>\n",
       "      <th>max</th>\n",
       "      <td>474.60</td>\n",
       "      <td>474.60</td>\n",
       "      <td>21.55</td>\n",
       "      <td>72.65</td>\n",
       "      <td>11,470.00</td>\n",
       "      <td>81.24</td>\n",
       "      <td>62.95</td>\n",
       "      <td>55.45</td>\n",
       "      <td>43.83</td>\n",
       "      <td>200.38</td>\n",
       "      <td>232.07</td>\n",
       "    </tr>\n",
       "  </tbody>\n",
       "</table>\n",
       "</div>"
      ],
      "text/plain": [
       "       0700.HK  0700.HK  1810.HK  3690.HK    9984.T        A      AAL  \\\n",
       "count 3,634.00 3,634.00   164.00   111.00  3,743.00 3,775.00 3,382.00   \n",
       "mean     94.03    94.03    14.24    54.89  4,406.54    33.28    26.97   \n",
       "std     115.76   115.76     2.88     7.61  2,785.93    15.49    17.32   \n",
       "min       0.68     0.68     9.70    41.20    650.00     8.90     1.76   \n",
       "25%       9.51     9.51    12.19    48.45  2,148.00    22.63     9.12   \n",
       "50%      40.18    40.18    13.59    55.00  2,960.00    27.83    30.26   \n",
       "75%     142.08   142.08    16.51    59.82  7,127.50    40.84    42.34   \n",
       "max     474.60   474.60    21.55    72.65 11,470.00    81.24    62.95   \n",
       "\n",
       "           AAN     AAON      AAP     AAPL  \n",
       "count 3,775.00 1,258.00 3,775.00 3,775.00  \n",
       "mean     23.86    28.76    81.72    66.80  \n",
       "std      10.35     6.93    49.29    56.49  \n",
       "min       9.33    16.97    22.10     1.81  \n",
       "25%      14.67    22.29    39.16    16.67  \n",
       "50%      23.71    28.15    66.07    54.28  \n",
       "75%      29.12    35.06   126.80   106.82  \n",
       "max      55.45    43.83   200.38   232.07  "
      ]
     },
     "execution_count": 1022,
     "metadata": {},
     "output_type": "execute_result"
    }
   ],
   "source": [
    "# [px_close[x].dropna().tail() for x in px_close.columns]\n",
    "px_close.describe()\n",
    "# px_close.tail()"
   ]
  },
  {
   "cell_type": "code",
   "execution_count": 1023,
   "metadata": {
    "hidden": true
   },
   "outputs": [
    {
     "data": {
      "text/plain": [
       "'Ticker: AAPL'"
      ]
     },
     "execution_count": 1023,
     "metadata": {},
     "output_type": "execute_result"
    }
   ],
   "source": [
    "f'Ticker: {ticker}'"
   ]
  },
  {
   "cell_type": "code",
   "execution_count": 1024,
   "metadata": {
    "hidden": true
   },
   "outputs": [
    {
     "data": {
      "text/plain": [
       "2019-02-28 00:00:00-05:00   173.15\n",
       "2019-03-01 00:00:00-05:00   174.97\n",
       "2019-03-04 00:00:00-05:00   175.85\n",
       "2019-03-05 00:00:00-05:00   175.53\n",
       "2019-03-06 00:00:00-05:00   174.52\n",
       "Name: close, dtype: float64"
      ]
     },
     "execution_count": 1024,
     "metadata": {},
     "output_type": "execute_result"
    }
   ],
   "source": [
    "px = get_symbol_pricing(ticker, freq)\n",
    "px.close.tail()"
   ]
  },
  {
   "cell_type": "markdown",
   "metadata": {
    "heading_collapsed": true
   },
   "source": [
    "### Other"
   ]
  },
  {
   "cell_type": "code",
   "execution_count": 320,
   "metadata": {
    "hidden": true
   },
   "outputs": [],
   "source": [
    "# does the DS need to be transform from long to wide?\n",
    "# made this function part of the pre_processing pipeline\n",
    "if 'period' in active_df.columns:\n",
    "    active_df.groupby(by='period').count()\n",
    "    active_df = df_wide_transform(active_df, periods, pre)\n",
    "active_df.describe().T"
   ]
  },
  {
   "cell_type": "code",
   "execution_count": null,
   "metadata": {
    "hidden": true
   },
   "outputs": [],
   "source": [
    "# divide target Low, Mean, Median, and High by closing price\n",
    "ds_dict, key = context['ds_dict'], context['key']\n",
    "perc_price_cols = ds_dict[key]['perc_price']\n",
    "hist_price_df = px_close.loc[wide_df.index, ticker]\n",
    "(wide_df[perc_price_cols] / hist_price_df.values).plot()"
   ]
  },
  {
   "cell_type": "code",
   "execution_count": null,
   "metadata": {
    "hidden": true
   },
   "outputs": [],
   "source": [
    "# eps_revisions pivot transformations\n",
    "def pivot_frame(df, inds, cols, vals):\n",
    "    pvt_df = df.pivot_table(index=inds, columns=cols, values=vals)\n",
    "    return pvt_df\n",
    "\n",
    "pvt_df = pivot_frame(one_co, ['storeDate', 'symbol'], ['period'], ['avg'])\n",
    "# drop index after numerial operations\n",
    "delta = (pvt_df - pvt_df.shift(1)).dropna()\n",
    "delta.reset_index(level=1, inplace=True)\n",
    "delta.tail(20)"
   ]
  },
  {
   "cell_type": "code",
   "execution_count": 490,
   "metadata": {
    "hidden": true
   },
   "outputs": [],
   "source": [
    "# applies only to numeric fields\n",
    "fields = one_co.columns[one_co.dtypes.apply(is_numeric_dtype).values]\n",
    "super_list = []\n",
    "for p in periods:\n",
    "    p_filter = one_co[one_co.period == p].sort_index()[fields]\n",
    "    df = p_filter.rename(columns=col_mapper(pre, fields, p))\n",
    "    super_list.append(df)\n",
    "wide_df = pd.concat(super_list, axis=1, sort=True)"
   ]
  },
  {
   "cell_type": "code",
   "execution_count": 151,
   "metadata": {
    "hidden": true
   },
   "outputs": [
    {
     "data": {
      "text/plain": [
       "['2018-09-07', '2018-09-10', '2018-09-11', '2018-09-12']"
      ]
     },
     "execution_count": 151,
     "metadata": {},
     "output_type": "execute_result"
    }
   ],
   "source": [
    "dates = ['quote/', 'quote/2018-09-07.json', 'quote/2018-09-10.json', 'quote/2018-09-11.json', 'quote/2018-09-12.json',]\n",
    "# s = 'quote/2018-09-07.json'\n",
    "[s[::-1].split('/')[0][::-1].split(ext)[0] for s in dates if ext in s]"
   ]
  },
  {
   "cell_type": "code",
   "execution_count": null,
   "metadata": {
    "hidden": true
   },
   "outputs": [],
   "source": [
    "s3client = boto3.client('s3', 'us-west-2')\n",
    "ext = '.csv'\n",
    "dataset = 'summary-categories/defaultKeyStatistics/'\n",
    "ds_list = [x['Key'] for x in s3client.list_objects(Bucket=BUCKET_NAME, Prefix=dataset)['Contents']]\n",
    "ds_list = [s[::-1].split('/')[0][::-1].split(ext)[0] for s in ds_list if ext in s]\n",
    "sorted(ds_list)"
   ]
  },
  {
   "cell_type": "code",
   "execution_count": 8,
   "metadata": {
    "code_folding": [],
    "hidden": true
   },
   "outputs": [
    {
     "data": {
      "text/plain": [
       "[<matplotlib.lines.Line2D at 0x111469cf8>]"
      ]
     },
     "execution_count": 8,
     "metadata": {},
     "output_type": "execute_result"
    },
    {
     "data": {
      "image/png": "[encoded data removed]",
      "text/plain": [
       "<Figure size 432x288 with 1 Axes>"
      ]
     },
     "metadata": {
      "needs_background": "light"
     },
     "output_type": "display_data"
    }
   ],
   "source": [
    "# Test cumulative drawdowns and pulls\n",
    "n = 100\n",
    "r_w = np.random.randn(n).cumsum() + 100\n",
    "l_dd, h_dd, l_p, h_p = max_draw_pull(r_w)\n",
    "\n",
    "plt.plot(r_w)\n",
    "plt.plot(\n",
    "    [l_dd, h_dd], \n",
    "    [r_w[l_dd], r_w[h_dd],], \n",
    "    'o', color='Red', markersize=10)\n",
    "plt.plot(\n",
    "    [l_p, h_p], \n",
    "    [r_w[l_p], r_w[h_p]], \n",
    "    'o', color='Green', markersize=10)"
   ]
  },
  {
   "cell_type": "code",
   "execution_count": 1103,
   "metadata": {
    "hidden": true
   },
   "outputs": [],
   "source": [
    "# Retrieves historical pricing\n",
    "secpx = get_symbol_pricing(symbol, freq)\n",
    "secpx.set_index(secpx.index.astype(np.datetime64), inplace=True)"
   ]
  },
  {
   "cell_type": "code",
   "execution_count": 1110,
   "metadata": {
    "hidden": true
   },
   "outputs": [],
   "source": [
    "fwd_ss_ret = lambda x, df, arr: df.loc[[y for y in arr[x-1] if y in df.index.tolist()]].mean()"
   ]
  },
  {
   "cell_type": "code",
   "execution_count": 1111,
   "metadata": {
    "hidden": true
   },
   "outputs": [],
   "source": [
    "# seasonality analysis\n",
    "ss_df = closepx.pct_change().resample('M').sum().to_frame()\n",
    "ss_df['year'], ss_df['month'] = ss_df.index.year, ss_df.index.month\n",
    "ss_df = ss_df.pivot_table(index='year', columns='month').mean()\n",
    "ss_pos = [(x, (x+1) if not (x+1) // 12 else 0, \n",
    "     x+2 if not (x+2) // 12 else x - 10) for x in range(12)]\n",
    "\n",
    "# [fwd_ss_ret(x+1, ss_df['close'], ss_pos) for x in range(12)] # test"
   ]
  },
  {
   "cell_type": "code",
   "execution_count": 1112,
   "metadata": {
    "hidden": true
   },
   "outputs": [],
   "source": [
    "# apply seasonality, mean return of curr month plus next two\n",
    "secpx['month'] = secpx.index.month\n",
    "secpx['fwdSSRet'] = secpx.loc[:].month.apply(\n",
    "    fwd_ss_ret, args=(ss_df['close'], ss_pos,))"
   ]
  },
  {
   "cell_type": "code",
   "execution_count": null,
   "metadata": {
    "hidden": true
   },
   "outputs": [],
   "source": [
    "secpx.columns # all columns"
   ]
  },
  {
   "cell_type": "code",
   "execution_count": null,
   "metadata": {
    "hidden": true
   },
   "outputs": [],
   "source": [
    "# normalized columns for ML training, still has outliers\n",
    "ml_ds_cols = secpx.describe().loc['50%'][secpx.describe().loc['50%'] < 5].index.tolist()\n",
    "ml_ds_cols"
   ]
  },
  {
   "cell_type": "code",
   "execution_count": null,
   "metadata": {
    "hidden": true
   },
   "outputs": [],
   "source": [
    "# prepare ML dataset\n",
    "ml_ds = secpx[ml_ds_cols].copy()\n",
    "\n",
    "class_cols = ['fwdChg1w', 'fwdChg1m', 'fwdChg3m']\n",
    "cut_range = [-1, -0.05, .0, .02, .09, 1.]\n",
    "fwd_ret_labels = [\"bear\", \"short\", \"neutral\", \"long\", \"bull\"]\n",
    "\n",
    "for c in class_cols: ml_ds[c] = pd.cut(secpx[c], cut_range, labels=fwd_ret_labels)\n",
    "ml_ds.info()"
   ]
  },
  {
   "cell_type": "code",
   "execution_count": null,
   "metadata": {
    "hidden": true
   },
   "outputs": [],
   "source": [
    "# drop the predicting class with most nas\n",
    "ml_ds.dropna(inplace=True)\n",
    "ml_ds.info()"
   ]
  },
  {
   "cell_type": "code",
   "execution_count": null,
   "metadata": {
    "hidden": true
   },
   "outputs": [],
   "source": [
    "ml_ds.hist(figsize=(15,15));"
   ]
  },
  {
   "cell_type": "code",
   "execution_count": 622,
   "metadata": {
    "hidden": true
   },
   "outputs": [],
   "source": [
    "ml_ds.to_csv(csv_ext.format('co_price_mom_ds'), index=False)"
   ]
  }
 ],
 "metadata": {
  "kernelspec": {
   "display_name": "Python 3",
   "language": "python",
   "name": "python3"
  },
  "language_info": {
   "codemirror_mode": {
    "name": "ipython",
    "version": 3
   },
   "file_extension": ".py",
   "mimetype": "text/x-python",
   "name": "python",
   "nbconvert_exporter": "python",
   "pygments_lexer": "ipython3",
   "version": "3.7.2"
  }
 },
 "nbformat": 4,
 "nbformat_minor": 2
}
