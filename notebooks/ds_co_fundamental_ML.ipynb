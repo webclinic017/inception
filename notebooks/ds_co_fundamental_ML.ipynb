{
 "cells": [
  {
   "cell_type": "code",
   "execution_count": 1,
   "metadata": {},
   "outputs": [
    {
     "name": "stdout",
     "output_type": "stream",
     "text": [
      "Loading utils/config.json\n"
     ]
    }
   ],
   "source": [
    "# imports\n",
    "%reload_ext autoreload\n",
    "%autoreload 2\n",
    "%matplotlib inline \n",
    "\n",
    "from utils.imports import *\n",
    "from utils.structured import *\n",
    "from utils.basic_utils import *\n",
    "from utils.pricing import *\n",
    "from utils.fundamental import *\n",
    "\n",
    "pd.options.display.float_format = '{:,.2f}'.format"
   ]
  },
  {
   "cell_type": "code",
   "execution_count": 2,
   "metadata": {
    "code_folding": []
   },
   "outputs": [],
   "source": [
    "# imports\n",
    "from sklearn import preprocessing\n",
    "from sklearn.impute import SimpleImputer\n",
    "from sklearn.model_selection import cross_val_score, cross_validate, train_test_split\n",
    "from sklearn.model_selection import GridSearchCV\n",
    "from sklearn.feature_selection import SelectFromModel\n",
    "from sklearn.utils.validation import column_or_1d\n",
    "from sklearn.utils.multiclass import unique_labels\n",
    "from sklearn.metrics import confusion_matrix, classification_report\n",
    "from sklearn.metrics import accuracy_score, log_loss, precision_recall_fscore_support\n",
    "from sklearn.metrics import precision_score, roc_auc_score\n",
    "\n",
    "from sklearn.tree import DecisionTreeClassifier\n",
    "from sklearn.ensemble import AdaBoostClassifier\n",
    "from sklearn.ensemble import RandomForestClassifier\n",
    "from sklearn.ensemble import ExtraTreesClassifier\n",
    "from sklearn.ensemble import GradientBoostingClassifier\n",
    "from sklearn.neural_network import MLPClassifier"
   ]
  },
  {
   "cell_type": "code",
   "execution_count": 3,
   "metadata": {},
   "outputs": [
    {
     "name": "stdout",
     "output_type": "stream",
     "text": [
      "Loading file quote/csv/2019-03-18\n",
      "Loading file summary-categories/assetProfile\n",
      "CPU times: user 163 ms, sys: 42.5 ms, total: 206 ms\n",
      "Wall time: 6.26 s\n"
     ]
    }
   ],
   "source": [
    "%%time\n",
    "# use the latest saved data for profile and quote info\n",
    "dates = read_dates('quote')\n",
    "tgt_date = [dates[-1]] # last date saved in S3\n",
    "\n",
    "quotes = load_csvs('quote_consol', dates[-1:])\n",
    "quotes.set_index('symbol', drop=False, inplace=True)\n",
    "\n",
    "profile = load_csvs('summary_detail', ['assetProfile'])\n",
    "profile.set_index('symbol', drop=False, inplace=True)"
   ]
  },
  {
   "cell_type": "code",
   "execution_count": 4,
   "metadata": {
    "code_folding": [
     2,
     16,
     55,
     75,
     82
    ]
   },
   "outputs": [],
   "source": [
    "# feature mapping for different datasets\n",
    "ds_dict = {\n",
    "    'day_quote': {\n",
    "        'path': 'quote/csv/',\n",
    "        'index': 'storeDate',\n",
    "        'features': [\n",
    "            'regularMarketChangePercent',\n",
    "            'averageDailyVolume10Day', 'averageDailyVolume3Month', 'regularMarketVolume', \n",
    "            'fiftyDayAverageChangePercent', 'twoHundredDayAverageChangePercent',\n",
    "            'fiftyTwoWeekHighChangePercent', 'fiftyTwoWeekLowChangePercent', \n",
    "            'forwardPE', 'trailingPE', 'priceToBook', 'marketCap', 'trailingAnnualDividendYield', \n",
    "            'financialCurrency', 'symbol', ],\n",
    "        'scale': ['marketCap', ],\n",
    "        'divide': ('regularMarketVolume', ['averageDailyVolume10Day', 'averageDailyVolume3Month']),\n",
    "        'outlier': 3, \n",
    "    },\n",
    "    'key_statistics': {\n",
    "        'path': 'summary-categories/defaultKeyStatistics/',\n",
    "        'index': 'storeDate',\n",
    "        'features': [\n",
    "            'beta', 'earningsQuarterlyGrowth', \n",
    "            'enterpriseToEbitda', 'enterpriseToRevenue', 'enterpriseValue', 'forwardPE', \n",
    "            'netIncomeToCommon', 'pegRatio', 'priceToBook', 'profitMargins', \n",
    "            'shortPercentOfFloat', 'shortRatio', 'heldPercentInsiders', \n",
    "            'heldPercentInstitutions', 'symbol', ],\n",
    "        'scale': ['enterpriseValue', 'netIncomeToCommon', ],\n",
    "        'outlier': 4, \n",
    "    },\n",
    "    'eps_estimates': {\n",
    "        'path': 'summary-categories/earningsEstimate/',\n",
    "        'index': 'storeDate',\n",
    "        'periods': ['+1q', '+1y',],\n",
    "        'features': [\n",
    "            'period', 'growth', 'avg', 'low', 'high', 'symbol', ],\n",
    "        'pivot_cols': ['growth', 'avg', 'low', 'high'],\n",
    "        'outlier': 3 },\n",
    "    'eps_revisions': {\n",
    "        'path': 'summary-categories/epsRevisions/',\n",
    "        'index': 'storeDate',\n",
    "        'periods': ['+1q', '+1y',],        \n",
    "        'features': [\n",
    "            'period', 'growth', 'upLast7days', 'upLast30days', 'downLast30days', \n",
    "            'symbol', ],\n",
    "        'pivot_cols': ['growth', 'upLast7days', 'upLast30days', 'downLast30days'],\n",
    "        'outlier': 3, \n",
    "    },\n",
    "    'eps_trend': {\n",
    "        'path': 'summary-categories/epsTrend/',\n",
    "        'index': 'storeDate',\n",
    "        'periods': ['+1q', '+1y',],        \n",
    "        'features': [\n",
    "            'period', 'growth', \n",
    "            'current', '7daysAgo', '30daysAgo', '60daysAgo', '90daysAgo', \n",
    "            'symbol', ],\n",
    "        'pivot_cols': ['growth', 'current', '7daysAgo', '30daysAgo', '60daysAgo', '90daysAgo'],\n",
    "    },\n",
    "    'fin_data': {\n",
    "        'path': 'summary-categories/financialData/',\n",
    "        'index': 'storeDate',\n",
    "        'features': [\n",
    "            'currentRatio', 'debtToEquity', 'earningsGrowth', 'ebitda', \n",
    "            'ebitdaMargins', 'financialCurrency', 'freeCashflow', 'grossMargins', \n",
    "            'grossProfits', 'operatingCashflow', 'operatingMargins', 'profitMargins', \n",
    "            'quickRatio', 'recommendationKey', 'recommendationMean', \n",
    "            'returnOnAssets', 'returnOnEquity', 'revenueGrowth', \n",
    "            'targetHighPrice', 'targetLowPrice', 'targetMeanPrice', \n",
    "            'targetMedianPrice', 'totalCash', 'totalDebt', 'totalRevenue', \n",
    "            'symbol', ],\n",
    "        'scale': [\n",
    "            'freeCashflow', 'operatingCashflow', 'ebitda', \n",
    "            'totalCash', 'totalDebt', 'totalRevenue', 'grossProfits', ],\n",
    "        'perc_price': [\n",
    "            'targetLowPrice', 'targetMeanPrice', \n",
    "            'targetMedianPrice', 'targetHighPrice', ],\n",
    "        'outlier': 20,\n",
    "    },\n",
    "    'spy_trend': {\n",
    "        'path': 'summary-categories/indexTrend/',\n",
    "        'index': 'storeDate',\n",
    "        'features': [\n",
    "            '0q', '+1q', '0y', '+1y', '+5y', '-5y', \n",
    "            'peRatio', 'pegRatio', 'symbol', ]\n",
    "    },\n",
    "    'net_purchase': {\n",
    "        'path': 'summary-categories/netSharePurchaseActivity/',\n",
    "        'index': 'storeDate',\n",
    "        'features': [\n",
    "            'netPercentInsiderShares', 'buyPercentInsiderShares', 'sellPercentInsiderShares', \n",
    "            'symbol', ]\n",
    "    },    \n",
    "    'rec_trend': {\n",
    "        'path': 'summary-categories/recommendationTrend/',\n",
    "        'index': 'storeDate',\n",
    "        'periods': ['-1m', '-2m'],\n",
    "        'features': [\n",
    "            'period', 'strongBuy', 'buy', 'hold', 'sell', 'strongSell', \n",
    "            'symbol', ],\n",
    "        'pivot_cols': ['strongBuy', 'buy', 'hold', 'sell', 'strongSell'],\n",
    "    },\n",
    "}"
   ]
  },
  {
   "cell_type": "code",
   "execution_count": 5,
   "metadata": {
    "scrolled": true
   },
   "outputs": [
    {
     "name": "stdout",
     "output_type": "stream",
     "text": [
      "CPU times: user 4 µs, sys: 1 µs, total: 5 µs\n",
      "Wall time: 6.91 µs\n"
     ]
    }
   ],
   "source": [
    "%%time\n",
    "symbols_list = config['companies']\n",
    "# px_close = get_mults_pricing(symbols_list)\n",
    "# save down to drive if refresh pricing\n",
    "# os.makedirs('tmp', exist_ok=True)\n",
    "# px_close.to_parquet('tmp/mult-co-px-ds')"
   ]
  },
  {
   "cell_type": "code",
   "execution_count": 6,
   "metadata": {},
   "outputs": [],
   "source": [
    "# last saved pricing from local drive\n",
    "px_close = pd.read_parquet('tmp/mult-co-px-ds')\n",
    "px_close.index = px_close.index.date\n",
    "stacked_px = px_close.stack().to_frame().rename(columns={0: 'close'})\n",
    "stacked_px.index.set_names(['storeDate', 'symbol'], inplace=True)\n",
    "\n",
    "look_ahead = 20\n",
    "y_col = 'fwdReturn' + str(look_ahead)\n",
    "Y = px_close.pct_change(look_ahead).shift(-look_ahead)\n",
    "Y = Y[~(Y.isna().all(1))]"
   ]
  },
  {
   "cell_type": "code",
   "execution_count": 7,
   "metadata": {},
   "outputs": [],
   "source": [
    "# Y[Y.columns[:100]].plot.kde(xlim=(-0.5,0.5), legend=False, color='b', alpha=0.1)"
   ]
  },
  {
   "cell_type": "markdown",
   "metadata": {},
   "source": [
    "### Dataset creation"
   ]
  },
  {
   "cell_type": "code",
   "execution_count": 42,
   "metadata": {
    "code_folding": []
   },
   "outputs": [],
   "source": [
    "# pre-processing pipeline\n",
    "pre_proc_pipeline = {\n",
    "    'vectorized': ['day_quote', 'key_statistics', 'eps_estimates'],\n",
    "    'day_quote': [preproc_divide, preproc_scale, preproc_outlier],\n",
    "    'key_statistics': [preproc_scale, preproc_outlier],\n",
    "    'eps_estimates': [df_wide_transform, preproc_eps_estimates, preproc_outlier],\n",
    "    'eps_revisions': [df_wide_transform, preproc_day_delta, preproc_outlier],\n",
    "    'eps_trend': [df_wide_transform, preproc_eps_trend],\n",
    "    'fin_data': [preproc_scale, preproc_perc_price],\n",
    "    'rec_trend': [df_wide_transform],\n",
    "}"
   ]
  },
  {
   "cell_type": "code",
   "execution_count": 43,
   "metadata": {},
   "outputs": [],
   "source": [
    "ticker = ['AAPL']\n",
    "key = 'eps_estimates'\n",
    "pre = key.split('_')[0] # append preffix\n",
    "periods = ['+1q', '+1y',] # forward looking periods only\n",
    "\n",
    "look_back = 252\n",
    "path = ds_dict[key]['path']\n",
    "dates = read_dates(path, '.csv')\n",
    "load_dates = dates[-look_back:]\n",
    "\n",
    "context = {    \n",
    "    'ds_dict': ds_dict[key],\n",
    "    'pre': pre,\n",
    "}"
   ]
  },
  {
   "cell_type": "code",
   "execution_count": 44,
   "metadata": {},
   "outputs": [],
   "source": [
    "# list(set(daily_df.index.unique().date.astype(str)).symmetric_difference(load_dates))"
   ]
  },
  {
   "cell_type": "code",
   "execution_count": 45,
   "metadata": {
    "code_folding": [],
    "scrolled": true
   },
   "outputs": [
    {
     "data": {
      "text/plain": [
       "(328068, 6)"
      ]
     },
     "execution_count": 45,
     "metadata": {},
     "output_type": "execute_result"
    }
   ],
   "source": [
    "# Load data / appending to local mechanism\n",
    "dir_loc = 'tmp/'\n",
    "fname = dir_loc + key\n",
    "if os.path.isfile(fname):\n",
    "    daily_df = pd.read_parquet(fname)\n",
    "    # compare and load missing dates\n",
    "    missing_dates = list(set(daily_df.index.unique().date.astype(str))\\\n",
    "                         .symmetric_difference(load_dates))\n",
    "    if len(missing_dates) > 0: # retrieve missing dates\n",
    "        append_df = get_daily_ts(key, ds_dict, missing_dates)\n",
    "        daily_df = pd.concat([daily_df, append_df], axis=0) # append to daily\n",
    "        # daily_df.drop_duplicates(inplace=True)\n",
    "        daily_df.to_parquet('tmp/' + key) # and persist to drive for next time\n",
    "else:\n",
    "    # file does not exist, retrieves all dates\n",
    "    daily_df = get_daily_ts(key, ds_dict, load_dates)\n",
    "    # Make index a flat date, easier to index\n",
    "    # save down to drive if refresh pricing\n",
    "    os.makedirs(dir_loc, exist_ok=True)\n",
    "#     daily_df.drop_duplicates(inplace=True)\n",
    "    daily_df.to_parquet(fname)\n",
    "daily_df.index = daily_df.index.date\n",
    "daily_df.shape"
   ]
  },
  {
   "cell_type": "code",
   "execution_count": 46,
   "metadata": {},
   "outputs": [],
   "source": [
    "# helps check data integrity / storage related issues\n",
    "# print(date.fromtimestamp(1551139200))\n",
    "# daily_df.groupby(by=daily_df.index)['symbol'].count()"
   ]
  },
  {
   "cell_type": "code",
   "execution_count": 74,
   "metadata": {
    "code_folding": []
   },
   "outputs": [
    {
     "name": "stdout",
     "output_type": "stream",
     "text": [
      "CPU times: user 6.93 s, sys: 1.23 s, total: 8.16 s\n",
      "Wall time: 1.93 s\n"
     ]
    }
   ],
   "source": [
    "%%time\n",
    "# pre-process entire datasets in one shot or by company\n",
    "# applies functions in pipeline to datasets\n",
    "super_list = []\n",
    "\n",
    "if key not in pre_proc_pipeline['vectorized']:\n",
    "    for ticker in symbols_list:\n",
    "#         co_df = daily_df.loc[(slice(None), ticker), :] # for using multi-index\n",
    "        co_df = daily_df.loc[daily_df.symbol == ticker, :]\n",
    "        if not len(co_df): continue\n",
    "        context['hist_price'] = px_close.loc[co_df.index, ticker]\n",
    "        # context['hist_price'] = stacked_px.loc[(co_df.index.levels[0].date, ticker), :] # for using multi-index\n",
    "        proc_df = preproc_df(co_df, key, pre_proc_pipeline, context)\n",
    "        super_list.append(proc_df)\n",
    "    processed_df = pd.concat(super_list, axis=0)\n",
    "else:\n",
    "    processed_df = preproc_df(daily_df, key, pre_proc_pipeline, context)"
   ]
  },
  {
   "cell_type": "code",
   "execution_count": 75,
   "metadata": {},
   "outputs": [
    {
     "data": {
      "text/html": [
       "<div>\n",
       "<style scoped>\n",
       "    .dataframe tbody tr th:only-of-type {\n",
       "        vertical-align: middle;\n",
       "    }\n",
       "\n",
       "    .dataframe tbody tr th {\n",
       "        vertical-align: top;\n",
       "    }\n",
       "\n",
       "    .dataframe thead th {\n",
       "        text-align: right;\n",
       "    }\n",
       "</style>\n",
       "<table border=\"1\" class=\"dataframe\">\n",
       "  <thead>\n",
       "    <tr style=\"text-align: right;\">\n",
       "      <th></th>\n",
       "      <th>count</th>\n",
       "      <th>mean</th>\n",
       "      <th>std</th>\n",
       "      <th>min</th>\n",
       "      <th>25%</th>\n",
       "      <th>50%</th>\n",
       "      <th>75%</th>\n",
       "      <th>max</th>\n",
       "    </tr>\n",
       "  </thead>\n",
       "  <tbody>\n",
       "    <tr>\n",
       "      <th>+1q_avg</th>\n",
       "      <td>48,901.00</td>\n",
       "      <td>nan</td>\n",
       "      <td>nan</td>\n",
       "      <td>-inf</td>\n",
       "      <td>0.00</td>\n",
       "      <td>0.00</td>\n",
       "      <td>0.00</td>\n",
       "      <td>inf</td>\n",
       "    </tr>\n",
       "    <tr>\n",
       "      <th>+1q_growth</th>\n",
       "      <td>46,950.00</td>\n",
       "      <td>-0.00</td>\n",
       "      <td>0.06</td>\n",
       "      <td>-1.60</td>\n",
       "      <td>0.00</td>\n",
       "      <td>0.00</td>\n",
       "      <td>0.00</td>\n",
       "      <td>1.61</td>\n",
       "    </tr>\n",
       "    <tr>\n",
       "      <th>+1q_high</th>\n",
       "      <td>48,940.00</td>\n",
       "      <td>nan</td>\n",
       "      <td>nan</td>\n",
       "      <td>-inf</td>\n",
       "      <td>0.00</td>\n",
       "      <td>0.00</td>\n",
       "      <td>0.00</td>\n",
       "      <td>inf</td>\n",
       "    </tr>\n",
       "    <tr>\n",
       "      <th>+1q_low</th>\n",
       "      <td>48,693.00</td>\n",
       "      <td>nan</td>\n",
       "      <td>nan</td>\n",
       "      <td>-inf</td>\n",
       "      <td>0.00</td>\n",
       "      <td>0.00</td>\n",
       "      <td>0.00</td>\n",
       "      <td>inf</td>\n",
       "    </tr>\n",
       "    <tr>\n",
       "      <th>+1y_avg</th>\n",
       "      <td>49,769.00</td>\n",
       "      <td>nan</td>\n",
       "      <td>nan</td>\n",
       "      <td>-inf</td>\n",
       "      <td>0.00</td>\n",
       "      <td>0.00</td>\n",
       "      <td>0.00</td>\n",
       "      <td>inf</td>\n",
       "    </tr>\n",
       "    <tr>\n",
       "      <th>+1y_growth</th>\n",
       "      <td>48,399.00</td>\n",
       "      <td>0.00</td>\n",
       "      <td>0.06</td>\n",
       "      <td>-2.62</td>\n",
       "      <td>0.00</td>\n",
       "      <td>0.00</td>\n",
       "      <td>0.00</td>\n",
       "      <td>2.51</td>\n",
       "    </tr>\n",
       "    <tr>\n",
       "      <th>+1y_high</th>\n",
       "      <td>49,769.00</td>\n",
       "      <td>nan</td>\n",
       "      <td>nan</td>\n",
       "      <td>-inf</td>\n",
       "      <td>0.00</td>\n",
       "      <td>0.00</td>\n",
       "      <td>0.00</td>\n",
       "      <td>inf</td>\n",
       "    </tr>\n",
       "    <tr>\n",
       "      <th>+1y_low</th>\n",
       "      <td>49,695.00</td>\n",
       "      <td>nan</td>\n",
       "      <td>nan</td>\n",
       "      <td>-inf</td>\n",
       "      <td>0.00</td>\n",
       "      <td>0.00</td>\n",
       "      <td>0.00</td>\n",
       "      <td>inf</td>\n",
       "    </tr>\n",
       "    <tr>\n",
       "      <th>+5y_growth</th>\n",
       "      <td>50,817.00</td>\n",
       "      <td>-0.00</td>\n",
       "      <td>0.01</td>\n",
       "      <td>-0.16</td>\n",
       "      <td>0.00</td>\n",
       "      <td>0.00</td>\n",
       "      <td>0.00</td>\n",
       "      <td>0.16</td>\n",
       "    </tr>\n",
       "    <tr>\n",
       "      <th>-5y_growth</th>\n",
       "      <td>45,168.00</td>\n",
       "      <td>0.00</td>\n",
       "      <td>0.01</td>\n",
       "      <td>-0.15</td>\n",
       "      <td>0.00</td>\n",
       "      <td>0.00</td>\n",
       "      <td>0.00</td>\n",
       "      <td>0.15</td>\n",
       "    </tr>\n",
       "    <tr>\n",
       "      <th>0q_avg</th>\n",
       "      <td>48,925.00</td>\n",
       "      <td>nan</td>\n",
       "      <td>nan</td>\n",
       "      <td>-inf</td>\n",
       "      <td>0.00</td>\n",
       "      <td>0.00</td>\n",
       "      <td>0.00</td>\n",
       "      <td>inf</td>\n",
       "    </tr>\n",
       "    <tr>\n",
       "      <th>0q_growth</th>\n",
       "      <td>46,710.00</td>\n",
       "      <td>-0.00</td>\n",
       "      <td>0.07</td>\n",
       "      <td>-2.00</td>\n",
       "      <td>0.00</td>\n",
       "      <td>0.00</td>\n",
       "      <td>0.00</td>\n",
       "      <td>2.07</td>\n",
       "    </tr>\n",
       "    <tr>\n",
       "      <th>0q_high</th>\n",
       "      <td>48,965.00</td>\n",
       "      <td>nan</td>\n",
       "      <td>nan</td>\n",
       "      <td>-inf</td>\n",
       "      <td>0.00</td>\n",
       "      <td>0.00</td>\n",
       "      <td>0.00</td>\n",
       "      <td>inf</td>\n",
       "    </tr>\n",
       "    <tr>\n",
       "      <th>0q_low</th>\n",
       "      <td>48,728.00</td>\n",
       "      <td>nan</td>\n",
       "      <td>nan</td>\n",
       "      <td>-inf</td>\n",
       "      <td>0.00</td>\n",
       "      <td>0.00</td>\n",
       "      <td>0.00</td>\n",
       "      <td>inf</td>\n",
       "    </tr>\n",
       "    <tr>\n",
       "      <th>0y_avg</th>\n",
       "      <td>49,589.00</td>\n",
       "      <td>nan</td>\n",
       "      <td>nan</td>\n",
       "      <td>-inf</td>\n",
       "      <td>0.00</td>\n",
       "      <td>0.00</td>\n",
       "      <td>0.00</td>\n",
       "      <td>inf</td>\n",
       "    </tr>\n",
       "    <tr>\n",
       "      <th>0y_growth</th>\n",
       "      <td>47,732.00</td>\n",
       "      <td>-0.00</td>\n",
       "      <td>0.10</td>\n",
       "      <td>-7.05</td>\n",
       "      <td>0.00</td>\n",
       "      <td>0.00</td>\n",
       "      <td>0.00</td>\n",
       "      <td>5.71</td>\n",
       "    </tr>\n",
       "    <tr>\n",
       "      <th>0y_high</th>\n",
       "      <td>49,549.00</td>\n",
       "      <td>nan</td>\n",
       "      <td>nan</td>\n",
       "      <td>-inf</td>\n",
       "      <td>0.00</td>\n",
       "      <td>0.00</td>\n",
       "      <td>0.00</td>\n",
       "      <td>inf</td>\n",
       "    </tr>\n",
       "    <tr>\n",
       "      <th>0y_low</th>\n",
       "      <td>49,509.00</td>\n",
       "      <td>nan</td>\n",
       "      <td>nan</td>\n",
       "      <td>-inf</td>\n",
       "      <td>0.00</td>\n",
       "      <td>0.00</td>\n",
       "      <td>0.00</td>\n",
       "      <td>inf</td>\n",
       "    </tr>\n",
       "  </tbody>\n",
       "</table>\n",
       "</div>"
      ],
      "text/plain": [
       "               count  mean  std   min  25%  50%  75%  max\n",
       "+1q_avg    48,901.00   nan  nan  -inf 0.00 0.00 0.00  inf\n",
       "+1q_growth 46,950.00 -0.00 0.06 -1.60 0.00 0.00 0.00 1.61\n",
       "+1q_high   48,940.00   nan  nan  -inf 0.00 0.00 0.00  inf\n",
       "+1q_low    48,693.00   nan  nan  -inf 0.00 0.00 0.00  inf\n",
       "+1y_avg    49,769.00   nan  nan  -inf 0.00 0.00 0.00  inf\n",
       "+1y_growth 48,399.00  0.00 0.06 -2.62 0.00 0.00 0.00 2.51\n",
       "+1y_high   49,769.00   nan  nan  -inf 0.00 0.00 0.00  inf\n",
       "+1y_low    49,695.00   nan  nan  -inf 0.00 0.00 0.00  inf\n",
       "+5y_growth 50,817.00 -0.00 0.01 -0.16 0.00 0.00 0.00 0.16\n",
       "-5y_growth 45,168.00  0.00 0.01 -0.15 0.00 0.00 0.00 0.15\n",
       "0q_avg     48,925.00   nan  nan  -inf 0.00 0.00 0.00  inf\n",
       "0q_growth  46,710.00 -0.00 0.07 -2.00 0.00 0.00 0.00 2.07\n",
       "0q_high    48,965.00   nan  nan  -inf 0.00 0.00 0.00  inf\n",
       "0q_low     48,728.00   nan  nan  -inf 0.00 0.00 0.00  inf\n",
       "0y_avg     49,589.00   nan  nan  -inf 0.00 0.00 0.00  inf\n",
       "0y_growth  47,732.00 -0.00 0.10 -7.05 0.00 0.00 0.00 5.71\n",
       "0y_high    49,549.00   nan  nan  -inf 0.00 0.00 0.00  inf\n",
       "0y_low     49,509.00   nan  nan  -inf 0.00 0.00 0.00  inf"
      ]
     },
     "execution_count": 75,
     "metadata": {},
     "output_type": "execute_result"
    }
   ],
   "source": [
    "# processed_df.loc[(slice(None), 'AAPL'), :].head()\n",
    "# processed_df.loc[processed_df.symbol == 'AAPL', :].duplicated().count()\n",
    "# processed_df.loc[processed_df.symbol == 'AAPL', :].describe().T\n",
    "# processed_df.duplicated().count()\n",
    "processed_df.describe(include='all').T"
   ]
  },
  {
   "cell_type": "code",
   "execution_count": 78,
   "metadata": {},
   "outputs": [],
   "source": [
    "# temporary workaround, should load with with indices\n",
    "if processed_df.index.is_mixed(): processed_df.reset_index(level=1, drop=False, inplace=True)"
   ]
  },
  {
   "cell_type": "code",
   "execution_count": 79,
   "metadata": {},
   "outputs": [
    {
     "name": "stderr",
     "output_type": "stream",
     "text": [
      "/Users/vveiga/miniconda3/envs/inception/lib/python3.7/site-packages/pandas/core/indexing.py:1494: FutureWarning: \n",
      "Passing list-likes to .loc or [] with any missing label will raise\n",
      "KeyError in the future, you can use .reindex() as an alternative.\n",
      "\n",
      "See the documentation here:\n",
      "https://pandas.pydata.org/pandas-docs/stable/indexing.html#deprecate-loc-reindex-listlike\n",
      "  return self._getitem_tuple(key)\n"
     ]
    }
   ],
   "source": [
    "#### shrinks forward returns ds to dates from processed df, faster execution\n",
    "Y_df = Y.loc[processed_df.index.unique().sortlevel()[0], :]\n",
    "Y_df = Y_df[~Y_df.isna().all(1).values]\n",
    "\n",
    "# reshapes to include symbol in index in additional to date\n",
    "Y_df = Y_df.stack().to_frame().rename(columns={0: y_col})\n",
    "Y_df.index.set_names(['storeDate', 'symbol'], inplace=True)\n",
    "# Y_df.loc[(slice(None), 'AAPL'), :].tail() # example to query using multi-index"
   ]
  },
  {
   "cell_type": "code",
   "execution_count": 80,
   "metadata": {},
   "outputs": [],
   "source": [
    "# re-index processed df on storeDate and symbol to have similar indices\n",
    "processed_df.index.set_names(['storeDate'], inplace=True)\n",
    "processed_df.reset_index(inplace=True)\n",
    "processed_df.set_index(['storeDate', 'symbol'], inplace=True)\n",
    "# processed_df.reset_index(level=1) # to get back to date only, if needed\n",
    "\n",
    "# add Y values to processed df fast without having to loop\n",
    "processed_df.loc[:, y_col] = Y_df.loc[:, y_col]\n",
    "\n",
    "# add sectors columns\n",
    "processed_df.loc[:, 'sector'] = processed_df.reset_index()['symbol'].map(\n",
    "    profile.sector.to_dict()).values\n",
    "\n",
    "processed_df.replace([np.inf, -np.inf], np.nan, inplace=True)"
   ]
  },
  {
   "cell_type": "code",
   "execution_count": 81,
   "metadata": {},
   "outputs": [],
   "source": [
    "# saved down processed df\n",
    "os.makedirs('tmp', exist_ok=True)\n",
    "processed_df.to_parquet('tmp/co-fund-processed-' + key)"
   ]
  },
  {
   "cell_type": "code",
   "execution_count": 82,
   "metadata": {},
   "outputs": [
    {
     "name": "stdout",
     "output_type": "stream",
     "text": [
      "<class 'pandas.core.frame.DataFrame'>\n",
      "MultiIndex: 53774 entries, (2019-02-07 00:00:00, 0700) to (2019-03-18 00:00:00, ZUO)\n",
      "Columns: 20 entries, +1q_avg to sector\n",
      "dtypes: float64(19), object(1)\n",
      "memory usage: 8.4+ MB\n",
      "None\n"
     ]
    },
    {
     "data": {
      "text/plain": [
       "(29601, 20)"
      ]
     },
     "execution_count": 82,
     "metadata": {},
     "output_type": "execute_result"
    }
   ],
   "source": [
    "# pick up already processed df\n",
    "processed_df = pd.read_parquet('tmp/co-fund-processed-' + key)\n",
    "print(processed_df.info(verbose=False))\n",
    "\n",
    "# processed_df.drop_duplicates(subset=[y_col]).describe()\n",
    "df_large = processed_df.dropna(subset=[y_col, 'sector'])\n",
    "df_large.shape"
   ]
  },
  {
   "cell_type": "markdown",
   "metadata": {},
   "source": [
    "### Pre-processing"
   ]
  },
  {
   "cell_type": "code",
   "execution_count": 83,
   "metadata": {},
   "outputs": [],
   "source": [
    "cuts = { '1d': [-1, -0.1, -.02, .02, .1, 1.] }\n",
    "cut_range = cuts['1d']\n",
    "fwd_ret_labels = [\"bear\", \"short\", \"neutral\", \"long\", \"bull\"]"
   ]
  },
  {
   "cell_type": "code",
   "execution_count": 84,
   "metadata": {},
   "outputs": [
    {
     "name": "stderr",
     "output_type": "stream",
     "text": [
      "/Users/vveiga/miniconda3/envs/inception/lib/python3.7/site-packages/ipykernel_launcher.py:7: SettingWithCopyWarning: \n",
      "A value is trying to be set on a copy of a slice from a DataFrame\n",
      "\n",
      "See the caveats in the documentation: http://pandas.pydata.org/pandas-docs/stable/indexing.html#indexing-view-versus-copy\n",
      "  import sys\n",
      "/Users/vveiga/miniconda3/envs/inception/lib/python3.7/site-packages/ipykernel_launcher.py:8: SettingWithCopyWarning: \n",
      "A value is trying to be set on a copy of a slice from a DataFrame.\n",
      "Try using .loc[row_indexer,col_indexer] = value instead\n",
      "\n",
      "See the caveats in the documentation: http://pandas.pydata.org/pandas-docs/stable/indexing.html#indexing-view-versus-copy\n",
      "  \n"
     ]
    },
    {
     "data": {
      "text/plain": [
       "bear      0.20\n",
       "short     0.27\n",
       "neutral   0.15\n",
       "long      0.23\n",
       "bull      0.15\n",
       "Name: fwdReturn20, dtype: float64"
      ]
     },
     "execution_count": 84,
     "metadata": {},
     "output_type": "execute_result"
    }
   ],
   "source": [
    "# Trims dataset in case it's too large for experimentation\n",
    "# Reduce dataset for experimentation\n",
    "# Note that experiment dataset is not stratified\n",
    "exp_perc = 99e-2\n",
    "_, df_raw = train_test_split(df_large, test_size=exp_perc, shuffle=False, )\n",
    "\n",
    "df_raw.dropna(subset=[y_col],  inplace=True)\n",
    "df_raw[y_col] = discret_rets(df_raw[y_col], cut_range, fwd_ret_labels)\n",
    "\n",
    "# df_raw.loc[:, y_col] = df_raw[y_col].astype(str)\n",
    "\n",
    "y_col_dist = sample_wgts(df_raw[y_col], fwd_ret_labels)\n",
    "(y_col_dist[fwd_ret_labels]).round(3)"
   ]
  },
  {
   "cell_type": "code",
   "execution_count": 85,
   "metadata": {},
   "outputs": [
    {
     "data": {
      "text/html": [
       "<div>\n",
       "<style scoped>\n",
       "    .dataframe tbody tr th:only-of-type {\n",
       "        vertical-align: middle;\n",
       "    }\n",
       "\n",
       "    .dataframe tbody tr th {\n",
       "        vertical-align: top;\n",
       "    }\n",
       "\n",
       "    .dataframe thead th {\n",
       "        text-align: right;\n",
       "    }\n",
       "</style>\n",
       "<table border=\"1\" class=\"dataframe\">\n",
       "  <thead>\n",
       "    <tr style=\"text-align: right;\">\n",
       "      <th></th>\n",
       "      <th>count</th>\n",
       "      <th>unique</th>\n",
       "      <th>top</th>\n",
       "      <th>freq</th>\n",
       "      <th>mean</th>\n",
       "      <th>std</th>\n",
       "      <th>min</th>\n",
       "      <th>25%</th>\n",
       "      <th>50%</th>\n",
       "      <th>75%</th>\n",
       "      <th>max</th>\n",
       "    </tr>\n",
       "  </thead>\n",
       "  <tbody>\n",
       "    <tr>\n",
       "      <th>+1q_avg</th>\n",
       "      <td>26,391.00</td>\n",
       "      <td>NaN</td>\n",
       "      <td>NaN</td>\n",
       "      <td>NaN</td>\n",
       "      <td>-0.01</td>\n",
       "      <td>0.46</td>\n",
       "      <td>-24.00</td>\n",
       "      <td>0.00</td>\n",
       "      <td>0.00</td>\n",
       "      <td>0.00</td>\n",
       "      <td>41.23</td>\n",
       "    </tr>\n",
       "    <tr>\n",
       "      <th>+1q_growth</th>\n",
       "      <td>25,597.00</td>\n",
       "      <td>NaN</td>\n",
       "      <td>NaN</td>\n",
       "      <td>NaN</td>\n",
       "      <td>-0.00</td>\n",
       "      <td>0.05</td>\n",
       "      <td>-1.53</td>\n",
       "      <td>0.00</td>\n",
       "      <td>0.00</td>\n",
       "      <td>0.00</td>\n",
       "      <td>1.56</td>\n",
       "    </tr>\n",
       "    <tr>\n",
       "      <th>+1q_high</th>\n",
       "      <td>26,425.00</td>\n",
       "      <td>NaN</td>\n",
       "      <td>NaN</td>\n",
       "      <td>NaN</td>\n",
       "      <td>-0.01</td>\n",
       "      <td>0.49</td>\n",
       "      <td>-40.00</td>\n",
       "      <td>0.00</td>\n",
       "      <td>0.00</td>\n",
       "      <td>0.00</td>\n",
       "      <td>45.67</td>\n",
       "    </tr>\n",
       "    <tr>\n",
       "      <th>+1q_low</th>\n",
       "      <td>26,266.00</td>\n",
       "      <td>NaN</td>\n",
       "      <td>NaN</td>\n",
       "      <td>NaN</td>\n",
       "      <td>-0.01</td>\n",
       "      <td>0.53</td>\n",
       "      <td>-19.85</td>\n",
       "      <td>0.00</td>\n",
       "      <td>0.00</td>\n",
       "      <td>0.00</td>\n",
       "      <td>43.75</td>\n",
       "    </tr>\n",
       "    <tr>\n",
       "      <th>+1y_avg</th>\n",
       "      <td>27,064.00</td>\n",
       "      <td>NaN</td>\n",
       "      <td>NaN</td>\n",
       "      <td>NaN</td>\n",
       "      <td>-0.01</td>\n",
       "      <td>0.77</td>\n",
       "      <td>-12.68</td>\n",
       "      <td>0.00</td>\n",
       "      <td>0.00</td>\n",
       "      <td>0.00</td>\n",
       "      <td>112.67</td>\n",
       "    </tr>\n",
       "    <tr>\n",
       "      <th>+1y_growth</th>\n",
       "      <td>26,308.00</td>\n",
       "      <td>NaN</td>\n",
       "      <td>NaN</td>\n",
       "      <td>NaN</td>\n",
       "      <td>-0.00</td>\n",
       "      <td>0.05</td>\n",
       "      <td>-2.61</td>\n",
       "      <td>0.00</td>\n",
       "      <td>0.00</td>\n",
       "      <td>0.00</td>\n",
       "      <td>1.80</td>\n",
       "    </tr>\n",
       "    <tr>\n",
       "      <th>+1y_high</th>\n",
       "      <td>27,064.00</td>\n",
       "      <td>NaN</td>\n",
       "      <td>NaN</td>\n",
       "      <td>NaN</td>\n",
       "      <td>-0.01</td>\n",
       "      <td>0.85</td>\n",
       "      <td>-33.00</td>\n",
       "      <td>0.00</td>\n",
       "      <td>0.00</td>\n",
       "      <td>0.00</td>\n",
       "      <td>125.67</td>\n",
       "    </tr>\n",
       "    <tr>\n",
       "      <th>+1y_low</th>\n",
       "      <td>27,028.00</td>\n",
       "      <td>NaN</td>\n",
       "      <td>NaN</td>\n",
       "      <td>NaN</td>\n",
       "      <td>-0.01</td>\n",
       "      <td>0.69</td>\n",
       "      <td>-10.00</td>\n",
       "      <td>0.00</td>\n",
       "      <td>0.00</td>\n",
       "      <td>0.00</td>\n",
       "      <td>94.00</td>\n",
       "    </tr>\n",
       "    <tr>\n",
       "      <th>+5y_growth</th>\n",
       "      <td>28,396.00</td>\n",
       "      <td>NaN</td>\n",
       "      <td>NaN</td>\n",
       "      <td>NaN</td>\n",
       "      <td>0.00</td>\n",
       "      <td>0.01</td>\n",
       "      <td>-0.16</td>\n",
       "      <td>0.00</td>\n",
       "      <td>0.00</td>\n",
       "      <td>0.00</td>\n",
       "      <td>0.15</td>\n",
       "    </tr>\n",
       "    <tr>\n",
       "      <th>-5y_growth</th>\n",
       "      <td>24,511.00</td>\n",
       "      <td>NaN</td>\n",
       "      <td>NaN</td>\n",
       "      <td>NaN</td>\n",
       "      <td>0.00</td>\n",
       "      <td>0.01</td>\n",
       "      <td>-0.13</td>\n",
       "      <td>0.00</td>\n",
       "      <td>0.00</td>\n",
       "      <td>0.00</td>\n",
       "      <td>0.14</td>\n",
       "    </tr>\n",
       "    <tr>\n",
       "      <th>0q_avg</th>\n",
       "      <td>26,414.00</td>\n",
       "      <td>NaN</td>\n",
       "      <td>NaN</td>\n",
       "      <td>NaN</td>\n",
       "      <td>-0.01</td>\n",
       "      <td>1.29</td>\n",
       "      <td>-35.00</td>\n",
       "      <td>0.00</td>\n",
       "      <td>0.00</td>\n",
       "      <td>0.00</td>\n",
       "      <td>188.00</td>\n",
       "    </tr>\n",
       "    <tr>\n",
       "      <th>0q_growth</th>\n",
       "      <td>25,452.00</td>\n",
       "      <td>NaN</td>\n",
       "      <td>NaN</td>\n",
       "      <td>NaN</td>\n",
       "      <td>0.00</td>\n",
       "      <td>0.06</td>\n",
       "      <td>-1.91</td>\n",
       "      <td>0.00</td>\n",
       "      <td>0.00</td>\n",
       "      <td>0.00</td>\n",
       "      <td>2.07</td>\n",
       "    </tr>\n",
       "    <tr>\n",
       "      <th>0q_high</th>\n",
       "      <td>26,472.00</td>\n",
       "      <td>NaN</td>\n",
       "      <td>NaN</td>\n",
       "      <td>NaN</td>\n",
       "      <td>-0.01</td>\n",
       "      <td>0.71</td>\n",
       "      <td>-13.50</td>\n",
       "      <td>0.00</td>\n",
       "      <td>0.00</td>\n",
       "      <td>0.00</td>\n",
       "      <td>101.00</td>\n",
       "    </tr>\n",
       "    <tr>\n",
       "      <th>0q_low</th>\n",
       "      <td>26,282.00</td>\n",
       "      <td>NaN</td>\n",
       "      <td>NaN</td>\n",
       "      <td>NaN</td>\n",
       "      <td>-0.01</td>\n",
       "      <td>0.78</td>\n",
       "      <td>-59.33</td>\n",
       "      <td>0.00</td>\n",
       "      <td>0.00</td>\n",
       "      <td>0.00</td>\n",
       "      <td>71.00</td>\n",
       "    </tr>\n",
       "    <tr>\n",
       "      <th>0y_avg</th>\n",
       "      <td>26,840.00</td>\n",
       "      <td>NaN</td>\n",
       "      <td>NaN</td>\n",
       "      <td>NaN</td>\n",
       "      <td>-0.01</td>\n",
       "      <td>0.31</td>\n",
       "      <td>-11.27</td>\n",
       "      <td>0.00</td>\n",
       "      <td>0.00</td>\n",
       "      <td>0.00</td>\n",
       "      <td>24.91</td>\n",
       "    </tr>\n",
       "    <tr>\n",
       "      <th>0y_growth</th>\n",
       "      <td>25,965.00</td>\n",
       "      <td>NaN</td>\n",
       "      <td>NaN</td>\n",
       "      <td>NaN</td>\n",
       "      <td>0.00</td>\n",
       "      <td>0.07</td>\n",
       "      <td>-3.31</td>\n",
       "      <td>0.00</td>\n",
       "      <td>0.00</td>\n",
       "      <td>0.00</td>\n",
       "      <td>5.26</td>\n",
       "    </tr>\n",
       "    <tr>\n",
       "      <th>0y_high</th>\n",
       "      <td>26,811.00</td>\n",
       "      <td>NaN</td>\n",
       "      <td>NaN</td>\n",
       "      <td>NaN</td>\n",
       "      <td>-0.01</td>\n",
       "      <td>0.35</td>\n",
       "      <td>-24.50</td>\n",
       "      <td>0.00</td>\n",
       "      <td>0.00</td>\n",
       "      <td>0.00</td>\n",
       "      <td>25.70</td>\n",
       "    </tr>\n",
       "    <tr>\n",
       "      <th>0y_low</th>\n",
       "      <td>26,804.00</td>\n",
       "      <td>NaN</td>\n",
       "      <td>NaN</td>\n",
       "      <td>NaN</td>\n",
       "      <td>-0.01</td>\n",
       "      <td>0.34</td>\n",
       "      <td>-17.90</td>\n",
       "      <td>0.00</td>\n",
       "      <td>0.00</td>\n",
       "      <td>0.00</td>\n",
       "      <td>30.83</td>\n",
       "    </tr>\n",
       "    <tr>\n",
       "      <th>fwdReturn20</th>\n",
       "      <td>29299</td>\n",
       "      <td>5</td>\n",
       "      <td>short</td>\n",
       "      <td>7971</td>\n",
       "      <td>NaN</td>\n",
       "      <td>NaN</td>\n",
       "      <td>NaN</td>\n",
       "      <td>NaN</td>\n",
       "      <td>NaN</td>\n",
       "      <td>NaN</td>\n",
       "      <td>NaN</td>\n",
       "    </tr>\n",
       "    <tr>\n",
       "      <th>sector</th>\n",
       "      <td>29305</td>\n",
       "      <td>8</td>\n",
       "      <td>Technology</td>\n",
       "      <td>13798</td>\n",
       "      <td>NaN</td>\n",
       "      <td>NaN</td>\n",
       "      <td>NaN</td>\n",
       "      <td>NaN</td>\n",
       "      <td>NaN</td>\n",
       "      <td>NaN</td>\n",
       "      <td>NaN</td>\n",
       "    </tr>\n",
       "  </tbody>\n",
       "</table>\n",
       "</div>"
      ],
      "text/plain": [
       "                count unique         top   freq  mean  std    min  25%  50%  \\\n",
       "+1q_avg     26,391.00    NaN         NaN    NaN -0.01 0.46 -24.00 0.00 0.00   \n",
       "+1q_growth  25,597.00    NaN         NaN    NaN -0.00 0.05  -1.53 0.00 0.00   \n",
       "+1q_high    26,425.00    NaN         NaN    NaN -0.01 0.49 -40.00 0.00 0.00   \n",
       "+1q_low     26,266.00    NaN         NaN    NaN -0.01 0.53 -19.85 0.00 0.00   \n",
       "+1y_avg     27,064.00    NaN         NaN    NaN -0.01 0.77 -12.68 0.00 0.00   \n",
       "+1y_growth  26,308.00    NaN         NaN    NaN -0.00 0.05  -2.61 0.00 0.00   \n",
       "+1y_high    27,064.00    NaN         NaN    NaN -0.01 0.85 -33.00 0.00 0.00   \n",
       "+1y_low     27,028.00    NaN         NaN    NaN -0.01 0.69 -10.00 0.00 0.00   \n",
       "+5y_growth  28,396.00    NaN         NaN    NaN  0.00 0.01  -0.16 0.00 0.00   \n",
       "-5y_growth  24,511.00    NaN         NaN    NaN  0.00 0.01  -0.13 0.00 0.00   \n",
       "0q_avg      26,414.00    NaN         NaN    NaN -0.01 1.29 -35.00 0.00 0.00   \n",
       "0q_growth   25,452.00    NaN         NaN    NaN  0.00 0.06  -1.91 0.00 0.00   \n",
       "0q_high     26,472.00    NaN         NaN    NaN -0.01 0.71 -13.50 0.00 0.00   \n",
       "0q_low      26,282.00    NaN         NaN    NaN -0.01 0.78 -59.33 0.00 0.00   \n",
       "0y_avg      26,840.00    NaN         NaN    NaN -0.01 0.31 -11.27 0.00 0.00   \n",
       "0y_growth   25,965.00    NaN         NaN    NaN  0.00 0.07  -3.31 0.00 0.00   \n",
       "0y_high     26,811.00    NaN         NaN    NaN -0.01 0.35 -24.50 0.00 0.00   \n",
       "0y_low      26,804.00    NaN         NaN    NaN -0.01 0.34 -17.90 0.00 0.00   \n",
       "fwdReturn20     29299      5       short   7971   NaN  NaN    NaN  NaN  NaN   \n",
       "sector          29305      8  Technology  13798   NaN  NaN    NaN  NaN  NaN   \n",
       "\n",
       "             75%    max  \n",
       "+1q_avg     0.00  41.23  \n",
       "+1q_growth  0.00   1.56  \n",
       "+1q_high    0.00  45.67  \n",
       "+1q_low     0.00  43.75  \n",
       "+1y_avg     0.00 112.67  \n",
       "+1y_growth  0.00   1.80  \n",
       "+1y_high    0.00 125.67  \n",
       "+1y_low     0.00  94.00  \n",
       "+5y_growth  0.00   0.15  \n",
       "-5y_growth  0.00   0.14  \n",
       "0q_avg      0.00 188.00  \n",
       "0q_growth   0.00   2.07  \n",
       "0q_high     0.00 101.00  \n",
       "0q_low      0.00  71.00  \n",
       "0y_avg      0.00  24.91  \n",
       "0y_growth   0.00   5.26  \n",
       "0y_high     0.00  25.70  \n",
       "0y_low      0.00  30.83  \n",
       "fwdReturn20  NaN    NaN  \n",
       "sector       NaN    NaN  "
      ]
     },
     "execution_count": 85,
     "metadata": {},
     "output_type": "execute_result"
    }
   ],
   "source": [
    "df_raw.describe(include='all').T"
   ]
  },
  {
   "cell_type": "code",
   "execution_count": 87,
   "metadata": {},
   "outputs": [
    {
     "data": {
      "text/plain": [
       "'eps_estimates'"
      ]
     },
     "execution_count": 87,
     "metadata": {},
     "output_type": "execute_result"
    }
   ],
   "source": [
    "key"
   ]
  },
  {
   "cell_type": "code",
   "execution_count": null,
   "metadata": {},
   "outputs": [],
   "source": [
    "# turn categorical fields into one-hot encoder dummies\n",
    "categorical_dict = {\n",
    "    'day_quote': ['financialCurrency', 'sector'],\n",
    "    'key_statistics': ['sector'],\n",
    "    'fin_data': ['financialCurrency', 'recommendationKey', 'sector'],        \n",
    "    'eps_estimates': ['sector'],\n",
    "}\n",
    "\n",
    "if key in categorical_dict:\n",
    "    for col in categorical_dict[key]:\n",
    "        df_raw = dummy_col(df_raw, col, shorten=True)\n",
    "\n",
    "df_raw.describe(include='all').T"
   ]
  },
  {
   "cell_type": "code",
   "execution_count": 89,
   "metadata": {},
   "outputs": [
    {
     "data": {
      "text/plain": [
       "(29305, 27)"
      ]
     },
     "execution_count": 89,
     "metadata": {},
     "output_type": "execute_result"
    }
   ],
   "source": [
    "excl_list = [] # drop unneeded columns\n",
    "df_raw.drop(columns=excl_list, inplace=True, errors='ignore')\n",
    "df_raw.shape"
   ]
  },
  {
   "cell_type": "code",
   "execution_count": 90,
   "metadata": {},
   "outputs": [
    {
     "data": {
      "text/plain": [
       "Index(['+1q_avg', '+1q_growth', '+1q_high', '+1q_low', '+1y_avg', '+1y_growth',\n",
       "       '+1y_high', '+1y_low', '+5y_growth', '-5y_growth', '0q_avg',\n",
       "       '0q_growth', '0q_high', '0q_low', '0y_avg', '0y_growth', '0y_high',\n",
       "       '0y_low', 'fwdReturn20', '^BASI_MATE', '^COMM_SERV', '^CONS_CYCL',\n",
       "       '^CONS_DEFE', '^FINA_SERV', '^HEAL', '^INDU', '^TECH'],\n",
       "      dtype='object')"
      ]
     },
     "execution_count": 90,
     "metadata": {},
     "output_type": "execute_result"
    }
   ],
   "source": [
    "df_raw.columns"
   ]
  },
  {
   "cell_type": "code",
   "execution_count": 91,
   "metadata": {},
   "outputs": [],
   "source": [
    "drop_dates = True\n",
    "\n",
    "if drop_dates: df_raw.reset_index(drop=True, inplace=True)\n",
    "else: \n",
    "    df_raw.reset_index(inplace=True)\n",
    "    df_raw.rename({'index': 'obsDate'}, axis=1, inplace=True)\n",
    "    add_datepart(df_raw, 'obsDate')\n",
    "    \n",
    "# df_raw[[x for x in df_raw.columns if 'obs' in x]]\n",
    "# exp_log['drop_dates'] = drop_dates"
   ]
  },
  {
   "cell_type": "markdown",
   "metadata": {},
   "source": [
    "### Train models"
   ]
  },
  {
   "cell_type": "code",
   "execution_count": 92,
   "metadata": {},
   "outputs": [
    {
     "data": {
      "text/plain": [
       "((23439, 26), (5860, 26), (23439,), (5860,))"
      ]
     },
     "execution_count": 92,
     "metadata": {},
     "output_type": "execute_result"
    }
   ],
   "source": [
    "# Mean based imputer\n",
    "imputer_on, scaler_on = True, True\n",
    "imputer = SimpleImputer(missing_values=np.nan, strategy='mean', copy=False)\n",
    "scaler = StandardScaler()\n",
    "\n",
    "df_raw.replace([np.inf, -np.inf], np.nan, inplace=True)\n",
    "pre_ml_df = df_raw.copy()\n",
    "pre_ml_df.dropna(subset=[y_col], inplace=True)\n",
    "pre_ml_df.loc[:, y_col] = pre_ml_df[y_col].astype(str)\n",
    "X_cols = excl(pre_ml_df.columns, [y_col])\n",
    "\n",
    "if imputer_on: pre_ml_df.loc[:, X_cols] = imputer.fit_transform(pre_ml_df[X_cols])\n",
    "else: pre_ml_df.dropna(inplace=True)\n",
    "if scaler_on: pre_ml_df.loc[:, X_cols] = scaler.fit_transform(pre_ml_df[X_cols])\n",
    "\n",
    "X, y = pre_ml_df.drop(columns=y_col), pre_ml_df[y_col]\n",
    "\n",
    "# sample_weight = np.random.RandomState(42).rand(y.shape[0])\n",
    "# X_train, X_test, y_train, y_test, sw_train, sw_test = train_test_split(X, y, sample_weight, test_size=.20, random_state=42)\n",
    "\n",
    "X_train, X_test, y_train, y_test = train_test_split(X, y, test_size=.20, random_state=42)\n",
    "X_train.shape, X_test.shape, y_train.shape, y_test.shape"
   ]
  },
  {
   "cell_type": "code",
   "execution_count": 96,
   "metadata": {},
   "outputs": [
    {
     "name": "stdout",
     "output_type": "stream",
     "text": [
      "(0.43444686206749433, 0.30255972696245736)\n",
      "CPU times: user 3.89 s, sys: 143 ms, total: 4.04 s\n",
      "Wall time: 735 ms\n"
     ]
    }
   ],
   "source": [
    "%%time\n",
    "\n",
    "from sklearn.calibration import CalibratedClassifierCV\n",
    "from sklearn.metrics import brier_score_loss\n",
    "\n",
    "# RandomForestClassifier\n",
    "params = {\n",
    "    'n_estimators': 100, \n",
    "    'max_features': 'auto', \n",
    "    'random_state': 1,\n",
    "    'max_depth': None, \n",
    "    'min_samples_split': 2, \n",
    "    'n_jobs': -1}\n",
    "\n",
    "clf = RandomForestClassifier(**params)\n",
    "clf.fit(X_train, y_train)\n",
    "\n",
    "scores = clf.score(X_train, y_train), clf.score(X_test, y_test)\n",
    "print(scores)"
   ]
  },
  {
   "cell_type": "code",
   "execution_count": 94,
   "metadata": {},
   "outputs": [
    {
     "name": "stdout",
     "output_type": "stream",
     "text": [
      "(0.43444686206749433, 0.30392491467576793)\n",
      "CPU times: user 6.49 s, sys: 165 ms, total: 6.66 s\n",
      "Wall time: 934 ms\n"
     ]
    }
   ],
   "source": [
    "%%time\n",
    "# ExtraTreesClassifier\n",
    "clf = ExtraTreesClassifier(\n",
    "    n_estimators=100, max_depth=None, \n",
    "    min_samples_split=2, random_state=1, n_jobs=-1)\n",
    "\n",
    "clf.fit(X_train, y_train)\n",
    "scores = clf.score(X_train, y_train), clf.score(X_test, y_test)\n",
    "print(scores)"
   ]
  },
  {
   "cell_type": "code",
   "execution_count": 95,
   "metadata": {},
   "outputs": [
    {
     "name": "stdout",
     "output_type": "stream",
     "text": [
      "(0.30440718460685184, 0.28481228668941977)\n",
      "CPU times: user 14.3 s, sys: 2.05 s, total: 16.4 s\n",
      "Wall time: 2.87 s\n"
     ]
    }
   ],
   "source": [
    "%%time\n",
    "# MLPClassifier\n",
    "params = {\n",
    "    'solver': 'lbfgs', \n",
    "    'max_iter': 200, \n",
    "    'activation': 'relu', \n",
    "    'alpha': 0.01, \n",
    "    'learning_rate' : 'adaptive', # ['constant', 'adaptive']\n",
    "    'hidden_layer_sizes': 45, # np.arange(5, 50, 10)\n",
    "    'random_state': 0 } # np.arange(0, 10, 2)\n",
    "\n",
    "clf = MLPClassifier(**params)\n",
    "\n",
    "clf.fit(X_train, y_train)\n",
    "scores = clf.score(X_train, y_train), clf.score(X_test, y_test)\n",
    "print(scores)"
   ]
  },
  {
   "cell_type": "markdown",
   "metadata": {},
   "source": [
    "#### Metrics"
   ]
  },
  {
   "cell_type": "code",
   "execution_count": 97,
   "metadata": {},
   "outputs": [
    {
     "name": "stdout",
     "output_type": "stream",
     "text": [
      "Feature ranking:\n",
      "4 feature +1y_avg (0.10370985773505606)\n",
      "5 feature +1y_growth (0.08180155892264394)\n",
      "8 feature +5y_growth (0.07456362928381019)\n",
      "9 feature -5y_growth (0.06953807595074372)\n",
      "14 feature 0y_avg (0.05664747673038172)\n",
      "15 feature 0y_growth (0.05148283158771128)\n",
      "0 feature +1q_avg (0.05094621713054244)\n",
      "1 feature +1q_growth (0.0468108533906798)\n",
      "11 feature 0q_growth (0.04342246144148204)\n",
      "10 feature 0q_avg (0.043378082973564026)\n",
      "17 feature 0y_low (0.04151595079350457)\n",
      "16 feature 0y_high (0.04080883871121487)\n",
      "6 feature +1y_high (0.04020802881529201)\n",
      "13 feature 0q_low (0.038598964247975126)\n",
      "7 feature +1y_low (0.038432713183216595)\n",
      "12 feature 0q_high (0.03666802926218479)\n",
      "2 feature +1q_high (0.03559091609858096)\n",
      "3 feature +1q_low (0.03419068488048324)\n",
      "25 feature ^TECH (0.017658745345232808)\n",
      "20 feature ^CONS_CYCL (0.01570214381965799)\n",
      "23 feature ^HEAL (0.01525096912608132)\n",
      "21 feature ^CONS_DEFE (0.008747159077879091)\n",
      "24 feature ^INDU (0.006174216151440201)\n",
      "22 feature ^FINA_SERV (0.005062177038877479)\n",
      "18 feature ^BASI_MATE (0.002001805482506471)\n",
      "19 feature ^COMM_SERV (0.0010876128192573757)\n"
     ]
    },
    {
     "data": {
      "image/png": "[encoded data removed]",
      "text/plain": [
       "<Figure size 432x288 with 1 Axes>"
      ]
     },
     "metadata": {
      "needs_background": "light"
     },
     "output_type": "display_data"
    }
   ],
   "source": [
    "show_fi(clf, X, 25)"
   ]
  },
  {
   "cell_type": "code",
   "execution_count": 98,
   "metadata": {},
   "outputs": [
    {
     "name": "stdout",
     "output_type": "stream",
     "text": [
      "Confussion Matrix\n",
      " [[ 224  172   82  121  116]\n",
      " [ 805 1174  633  911  468]\n",
      " [  19   36   29   35   22]\n",
      " [  51  115   75  145   81]\n",
      " [  71   79   63  132  201]]\n"
     ]
    }
   ],
   "source": [
    "print('Confussion Matrix\\n', confusion_matrix(clf.predict(X_test), y_test, labels=fwd_ret_labels))"
   ]
  },
  {
   "cell_type": "code",
   "execution_count": 99,
   "metadata": {},
   "outputs": [
    {
     "name": "stdout",
     "output_type": "stream",
     "text": [
      "Classificaton report\n",
      "               precision    recall  f1-score   support\n",
      "\n",
      "        bear       0.19      0.31      0.24       715\n",
      "       short       0.23      0.37      0.28       546\n",
      "     neutral       0.11      0.31      0.16       467\n",
      "        long       0.03      0.21      0.06       141\n",
      "        bull       0.74      0.29      0.42      3991\n",
      "\n",
      "   micro avg       0.30      0.30      0.30      5860\n",
      "   macro avg       0.26      0.30      0.23      5860\n",
      "weighted avg       0.56      0.30      0.36      5860\n",
      "\n"
     ]
    }
   ],
   "source": [
    "print('Classificaton report\\n', classification_report(clf.predict(X_test), y_test, target_names=fwd_ret_labels))"
   ]
  },
  {
   "cell_type": "code",
   "execution_count": 100,
   "metadata": {},
   "outputs": [
    {
     "data": {
      "text/plain": [
       "1.7982311948212732"
      ]
     },
     "execution_count": 100,
     "metadata": {},
     "output_type": "execute_result"
    }
   ],
   "source": [
    "log_loss(y_test, clf.predict_proba(X_test))"
   ]
  },
  {
   "cell_type": "markdown",
   "metadata": {},
   "source": [
    "#### Gridsearches"
   ]
  },
  {
   "cell_type": "code",
   "execution_count": 2111,
   "metadata": {},
   "outputs": [
    {
     "data": {
      "text/plain": [
       "array([10, 18, 26])"
      ]
     },
     "execution_count": 2111,
     "metadata": {},
     "output_type": "execute_result"
    }
   ],
   "source": [
    "np.arange(10, X.shape[1], int(X.shape[1]*.25))"
   ]
  },
  {
   "cell_type": "code",
   "execution_count": 2114,
   "metadata": {},
   "outputs": [
    {
     "name": "stdout",
     "output_type": "stream",
     "text": [
      "0.9754060712347071 0.605878423513694\n",
      "{'max_features': 30, 'n_estimators': 40, 'random_state': 1}\n",
      "CPU times: user 6.9 s, sys: 263 ms, total: 7.16 s\n",
      "Wall time: 14 s\n"
     ]
    }
   ],
   "source": [
    "%%time\n",
    "# GridSearchCV for RandomForestClassifier\n",
    "parameters = {\n",
    "    'n_estimators': [10, 40, 80], \n",
    "    'max_features': np.arange(10, X.shape[1], int(X.shape[1]*.25)), \n",
    "    'random_state': np.arange(1, 10, 3)}\n",
    "\n",
    "# parameters = {\n",
    "#     'n_estimators': [40], \n",
    "#     'max_features': [30], \n",
    "#     'random_state': [1]}\n",
    "\n",
    "clf = GridSearchCV(RandomForestClassifier(), parameters, n_jobs=-1, cv=5)\n",
    "clf.fit(X_train, y_train)\n",
    "\n",
    "print(clf.score(X_train, y_train), clf.score(X_test, y_test))\n",
    "print(clf.best_params_)"
   ]
  },
  {
   "cell_type": "code",
   "execution_count": 2137,
   "metadata": {},
   "outputs": [
    {
     "name": "stdout",
     "output_type": "stream",
     "text": [
      "CPU times: user 18.6 s, sys: 2.75 s, total: 21.4 s\n",
      "Wall time: 10.3 s\n"
     ]
    }
   ],
   "source": [
    "%%time\n",
    "# GridSearchCV for MLPClassifier\n",
    "\n",
    "parameters = {\n",
    "    'solver': ['lbfgs'], # ['lbfgs', 'sgd', 'adam']\n",
    "    'max_iter': [200], # [200, 400, 600]\n",
    "    'activation': ['relu'], # ['logistic', 'tanh', 'relu']\n",
    "    'alpha': 10.0 ** -np.arange(2, 5, 1), # 10.0 ** -np.arange(2, 5, 1)\n",
    "    'learning_rate' : ['adaptive'], # ['constant', 'adaptive']\n",
    "    'hidden_layer_sizes': np.arange(5, 50, 10), # np.arange(5, 50, 10)\n",
    "    'random_state': np.arange(0, 10, 3)} # np.arange(0, 10, 2)\n",
    "\n",
    "parameters = {\n",
    "    'solver': ['lbfgs'], \n",
    "    'max_iter': [200], \n",
    "    'activation': ['relu'], \n",
    "    'alpha': [0.01], \n",
    "    'learning_rate' : ['adaptive'], # ['constant', 'adaptive']\n",
    "    'hidden_layer_sizes': [ 45 ], # np.arange(5, 50, 10)\n",
    "    'random_state': [0] } # np.arange(0, 10, 2)\n",
    "\n",
    "clf = GridSearchCV(MLPClassifier(), parameters, n_jobs=-1, cv=5)\n",
    "clf.fit(X_train, y_train)\n",
    "\n",
    "scores = clf.score(X_train, y_train), clf.score(X_test, y_test)\n",
    "print(scores)\n",
    "print(clf.best_params_)"
   ]
  },
  {
   "cell_type": "markdown",
   "metadata": {
    "heading_collapsed": true
   },
   "source": [
    "### Feature construction"
   ]
  },
  {
   "cell_type": "code",
   "execution_count": 538,
   "metadata": {
    "hidden": true
   },
   "outputs": [],
   "source": [
    "ticker = ['AAPL']\n",
    "key = 'key_statistics'\n",
    "pre = key.split('_')[0] # append preffix\n",
    "periods = ['+1q', '+1y',] # forward looking periods only"
   ]
  },
  {
   "cell_type": "code",
   "execution_count": 539,
   "metadata": {
    "hidden": true,
    "scrolled": true
   },
   "outputs": [
    {
     "name": "stdout",
     "output_type": "stream",
     "text": [
      "Loading file summary-categories/defaultKeyStatistics/2019-03-01\n",
      "Loading file summary-categories/defaultKeyStatistics/2019-03-04\n",
      "Loading file summary-categories/defaultKeyStatistics/2019-03-05\n",
      "Loading file summary-categories/defaultKeyStatistics/2019-03-06\n",
      "Loading file summary-categories/defaultKeyStatistics/2019-03-07\n",
      "Loading file summary-categories/defaultKeyStatistics/2019-03-08\n",
      "Loading file summary-categories/defaultKeyStatistics/2019-03-11\n",
      "Loading file summary-categories/defaultKeyStatistics/2019-03-12\n",
      "Loading file summary-categories/defaultKeyStatistics/2019-03-13\n",
      "Loading file summary-categories/defaultKeyStatistics/2019-03-14\n",
      "CPU times: user 385 ms, sys: 58.2 ms, total: 443 ms\n",
      "Wall time: 4.28 s\n"
     ]
    }
   ],
   "source": [
    "%%time\n",
    "# retrieves dataset for historical dates\n",
    "daily_df = get_daily_ts(key, ds_dict, 10)\n",
    "# Make index a flat date, easier to index\n",
    "daily_df.index = daily_df.index.date"
   ]
  },
  {
   "cell_type": "code",
   "execution_count": 540,
   "metadata": {
    "hidden": true
   },
   "outputs": [
    {
     "data": {
      "text/html": [
       "<div>\n",
       "<style scoped>\n",
       "    .dataframe tbody tr th:only-of-type {\n",
       "        vertical-align: middle;\n",
       "    }\n",
       "\n",
       "    .dataframe tbody tr th {\n",
       "        vertical-align: top;\n",
       "    }\n",
       "\n",
       "    .dataframe thead th {\n",
       "        text-align: right;\n",
       "    }\n",
       "</style>\n",
       "<table border=\"1\" class=\"dataframe\">\n",
       "  <thead>\n",
       "    <tr style=\"text-align: right;\">\n",
       "      <th></th>\n",
       "      <th>count</th>\n",
       "      <th>unique</th>\n",
       "      <th>top</th>\n",
       "      <th>freq</th>\n",
       "      <th>mean</th>\n",
       "      <th>std</th>\n",
       "      <th>min</th>\n",
       "      <th>25%</th>\n",
       "      <th>50%</th>\n",
       "      <th>75%</th>\n",
       "      <th>max</th>\n",
       "    </tr>\n",
       "  </thead>\n",
       "  <tbody>\n",
       "    <tr>\n",
       "      <th>pegRatio</th>\n",
       "      <td>11,105.00</td>\n",
       "      <td>NaN</td>\n",
       "      <td>NaN</td>\n",
       "      <td>NaN</td>\n",
       "      <td>-3.50</td>\n",
       "      <td>267.47</td>\n",
       "      <td>-12,573.70</td>\n",
       "      <td>0.98</td>\n",
       "      <td>1.60</td>\n",
       "      <td>2.58</td>\n",
       "      <td>741.48</td>\n",
       "    </tr>\n",
       "    <tr>\n",
       "      <th>heldPercentInsiders</th>\n",
       "      <td>12,050.00</td>\n",
       "      <td>NaN</td>\n",
       "      <td>NaN</td>\n",
       "      <td>NaN</td>\n",
       "      <td>0.05</td>\n",
       "      <td>0.12</td>\n",
       "      <td>0.00</td>\n",
       "      <td>0.00</td>\n",
       "      <td>0.01</td>\n",
       "      <td>0.04</td>\n",
       "      <td>0.93</td>\n",
       "    </tr>\n",
       "    <tr>\n",
       "      <th>shortPercentOfFloat</th>\n",
       "      <td>9,718.00</td>\n",
       "      <td>NaN</td>\n",
       "      <td>NaN</td>\n",
       "      <td>NaN</td>\n",
       "      <td>0.06</td>\n",
       "      <td>0.08</td>\n",
       "      <td>0.00</td>\n",
       "      <td>0.02</td>\n",
       "      <td>0.04</td>\n",
       "      <td>0.07</td>\n",
       "      <td>1.04</td>\n",
       "    </tr>\n",
       "    <tr>\n",
       "      <th>profitMargins</th>\n",
       "      <td>12,071.00</td>\n",
       "      <td>NaN</td>\n",
       "      <td>NaN</td>\n",
       "      <td>NaN</td>\n",
       "      <td>0.11</td>\n",
       "      <td>0.22</td>\n",
       "      <td>-2.80</td>\n",
       "      <td>0.05</td>\n",
       "      <td>0.10</td>\n",
       "      <td>0.19</td>\n",
       "      <td>1.98</td>\n",
       "    </tr>\n",
       "    <tr>\n",
       "      <th>heldPercentInstitutions</th>\n",
       "      <td>12,050.00</td>\n",
       "      <td>NaN</td>\n",
       "      <td>NaN</td>\n",
       "      <td>NaN</td>\n",
       "      <td>0.76</td>\n",
       "      <td>0.32</td>\n",
       "      <td>0.00</td>\n",
       "      <td>0.71</td>\n",
       "      <td>0.87</td>\n",
       "      <td>0.96</td>\n",
       "      <td>2.23</td>\n",
       "    </tr>\n",
       "    <tr>\n",
       "      <th>beta</th>\n",
       "      <td>11,760.00</td>\n",
       "      <td>NaN</td>\n",
       "      <td>NaN</td>\n",
       "      <td>NaN</td>\n",
       "      <td>1.13</td>\n",
       "      <td>0.59</td>\n",
       "      <td>-1.02</td>\n",
       "      <td>0.75</td>\n",
       "      <td>1.10</td>\n",
       "      <td>1.46</td>\n",
       "      <td>4.21</td>\n",
       "    </tr>\n",
       "    <tr>\n",
       "      <th>earningsQuarterlyGrowth</th>\n",
       "      <td>8,116.00</td>\n",
       "      <td>NaN</td>\n",
       "      <td>NaN</td>\n",
       "      <td>NaN</td>\n",
       "      <td>2.85</td>\n",
       "      <td>157.24</td>\n",
       "      <td>-0.99</td>\n",
       "      <td>-0.48</td>\n",
       "      <td>0.02</td>\n",
       "      <td>0.69</td>\n",
       "      <td>14,155.00</td>\n",
       "    </tr>\n",
       "    <tr>\n",
       "      <th>shortRatio</th>\n",
       "      <td>11,861.00</td>\n",
       "      <td>NaN</td>\n",
       "      <td>NaN</td>\n",
       "      <td>NaN</td>\n",
       "      <td>4.80</td>\n",
       "      <td>4.11</td>\n",
       "      <td>0.00</td>\n",
       "      <td>2.22</td>\n",
       "      <td>3.62</td>\n",
       "      <td>5.99</td>\n",
       "      <td>51.73</td>\n",
       "    </tr>\n",
       "    <tr>\n",
       "      <th>enterpriseToRevenue</th>\n",
       "      <td>10,787.00</td>\n",
       "      <td>NaN</td>\n",
       "      <td>NaN</td>\n",
       "      <td>NaN</td>\n",
       "      <td>5.73</td>\n",
       "      <td>23.57</td>\n",
       "      <td>-6.45</td>\n",
       "      <td>1.56</td>\n",
       "      <td>3.15</td>\n",
       "      <td>5.53</td>\n",
       "      <td>569.49</td>\n",
       "    </tr>\n",
       "    <tr>\n",
       "      <th>priceToBook</th>\n",
       "      <td>11,614.00</td>\n",
       "      <td>NaN</td>\n",
       "      <td>NaN</td>\n",
       "      <td>NaN</td>\n",
       "      <td>5.92</td>\n",
       "      <td>21.88</td>\n",
       "      <td>0.02</td>\n",
       "      <td>1.63</td>\n",
       "      <td>2.76</td>\n",
       "      <td>5.39</td>\n",
       "      <td>738.22</td>\n",
       "    </tr>\n",
       "    <tr>\n",
       "      <th>enterpriseToEbitda</th>\n",
       "      <td>9,961.00</td>\n",
       "      <td>NaN</td>\n",
       "      <td>NaN</td>\n",
       "      <td>NaN</td>\n",
       "      <td>15.66</td>\n",
       "      <td>87.08</td>\n",
       "      <td>-1,220.77</td>\n",
       "      <td>8.86</td>\n",
       "      <td>12.62</td>\n",
       "      <td>18.75</td>\n",
       "      <td>1,835.36</td>\n",
       "    </tr>\n",
       "    <tr>\n",
       "      <th>forwardPE</th>\n",
       "      <td>11,316.00</td>\n",
       "      <td>NaN</td>\n",
       "      <td>NaN</td>\n",
       "      <td>NaN</td>\n",
       "      <td>21.48</td>\n",
       "      <td>89.33</td>\n",
       "      <td>-401.42</td>\n",
       "      <td>10.99</td>\n",
       "      <td>15.66</td>\n",
       "      <td>22.60</td>\n",
       "      <td>3,114.00</td>\n",
       "    </tr>\n",
       "    <tr>\n",
       "      <th>netIncomeToCommon</th>\n",
       "      <td>10,818.00</td>\n",
       "      <td>NaN</td>\n",
       "      <td>NaN</td>\n",
       "      <td>NaN</td>\n",
       "      <td>1,279,802,537.98</td>\n",
       "      <td>3,833,920,810.15</td>\n",
       "      <td>-21,083,000,832.00</td>\n",
       "      <td>109,319,000.00</td>\n",
       "      <td>308,875,008.00</td>\n",
       "      <td>973,000,000.00</td>\n",
       "      <td>59,430,998,016.00</td>\n",
       "    </tr>\n",
       "    <tr>\n",
       "      <th>enterpriseValue</th>\n",
       "      <td>12,054.00</td>\n",
       "      <td>NaN</td>\n",
       "      <td>NaN</td>\n",
       "      <td>NaN</td>\n",
       "      <td>35,703,174,818.03</td>\n",
       "      <td>120,437,439,742.64</td>\n",
       "      <td>-231,961,247,744.00</td>\n",
       "      <td>4,765,397,760.00</td>\n",
       "      <td>9,972,922,368.00</td>\n",
       "      <td>30,858,996,736.00</td>\n",
       "      <td>3,421,624,074,240.00</td>\n",
       "    </tr>\n",
       "    <tr>\n",
       "      <th>52WeekChange</th>\n",
       "      <td>12071</td>\n",
       "      <td>11757</td>\n",
       "      <td>Infinity</td>\n",
       "      <td>280</td>\n",
       "      <td>NaN</td>\n",
       "      <td>NaN</td>\n",
       "      <td>NaN</td>\n",
       "      <td>NaN</td>\n",
       "      <td>NaN</td>\n",
       "      <td>NaN</td>\n",
       "      <td>NaN</td>\n",
       "    </tr>\n",
       "    <tr>\n",
       "      <th>symbol</th>\n",
       "      <td>12071</td>\n",
       "      <td>1208</td>\n",
       "      <td>ECL</td>\n",
       "      <td>10</td>\n",
       "      <td>NaN</td>\n",
       "      <td>NaN</td>\n",
       "      <td>NaN</td>\n",
       "      <td>NaN</td>\n",
       "      <td>NaN</td>\n",
       "      <td>NaN</td>\n",
       "      <td>NaN</td>\n",
       "    </tr>\n",
       "  </tbody>\n",
       "</table>\n",
       "</div>"
      ],
      "text/plain": [
       "                            count unique       top freq              mean  \\\n",
       "pegRatio                11,105.00    NaN       NaN  NaN             -3.50   \n",
       "heldPercentInsiders     12,050.00    NaN       NaN  NaN              0.05   \n",
       "shortPercentOfFloat      9,718.00    NaN       NaN  NaN              0.06   \n",
       "profitMargins           12,071.00    NaN       NaN  NaN              0.11   \n",
       "heldPercentInstitutions 12,050.00    NaN       NaN  NaN              0.76   \n",
       "beta                    11,760.00    NaN       NaN  NaN              1.13   \n",
       "earningsQuarterlyGrowth  8,116.00    NaN       NaN  NaN              2.85   \n",
       "shortRatio              11,861.00    NaN       NaN  NaN              4.80   \n",
       "enterpriseToRevenue     10,787.00    NaN       NaN  NaN              5.73   \n",
       "priceToBook             11,614.00    NaN       NaN  NaN              5.92   \n",
       "enterpriseToEbitda       9,961.00    NaN       NaN  NaN             15.66   \n",
       "forwardPE               11,316.00    NaN       NaN  NaN             21.48   \n",
       "netIncomeToCommon       10,818.00    NaN       NaN  NaN  1,279,802,537.98   \n",
       "enterpriseValue         12,054.00    NaN       NaN  NaN 35,703,174,818.03   \n",
       "52WeekChange                12071  11757  Infinity  280               NaN   \n",
       "symbol                      12071   1208       ECL   10               NaN   \n",
       "\n",
       "                                       std                 min  \\\n",
       "pegRatio                            267.47          -12,573.70   \n",
       "heldPercentInsiders                   0.12                0.00   \n",
       "shortPercentOfFloat                   0.08                0.00   \n",
       "profitMargins                         0.22               -2.80   \n",
       "heldPercentInstitutions               0.32                0.00   \n",
       "beta                                  0.59               -1.02   \n",
       "earningsQuarterlyGrowth             157.24               -0.99   \n",
       "shortRatio                            4.11                0.00   \n",
       "enterpriseToRevenue                  23.57               -6.45   \n",
       "priceToBook                          21.88                0.02   \n",
       "enterpriseToEbitda                   87.08           -1,220.77   \n",
       "forwardPE                            89.33             -401.42   \n",
       "netIncomeToCommon         3,833,920,810.15  -21,083,000,832.00   \n",
       "enterpriseValue         120,437,439,742.64 -231,961,247,744.00   \n",
       "52WeekChange                           NaN                 NaN   \n",
       "symbol                                 NaN                 NaN   \n",
       "\n",
       "                                     25%              50%               75%  \\\n",
       "pegRatio                            0.98             1.60              2.58   \n",
       "heldPercentInsiders                 0.00             0.01              0.04   \n",
       "shortPercentOfFloat                 0.02             0.04              0.07   \n",
       "profitMargins                       0.05             0.10              0.19   \n",
       "heldPercentInstitutions             0.71             0.87              0.96   \n",
       "beta                                0.75             1.10              1.46   \n",
       "earningsQuarterlyGrowth            -0.48             0.02              0.69   \n",
       "shortRatio                          2.22             3.62              5.99   \n",
       "enterpriseToRevenue                 1.56             3.15              5.53   \n",
       "priceToBook                         1.63             2.76              5.39   \n",
       "enterpriseToEbitda                  8.86            12.62             18.75   \n",
       "forwardPE                          10.99            15.66             22.60   \n",
       "netIncomeToCommon         109,319,000.00   308,875,008.00    973,000,000.00   \n",
       "enterpriseValue         4,765,397,760.00 9,972,922,368.00 30,858,996,736.00   \n",
       "52WeekChange                         NaN              NaN               NaN   \n",
       "symbol                               NaN              NaN               NaN   \n",
       "\n",
       "                                         max  \n",
       "pegRatio                              741.48  \n",
       "heldPercentInsiders                     0.93  \n",
       "shortPercentOfFloat                     1.04  \n",
       "profitMargins                           1.98  \n",
       "heldPercentInstitutions                 2.23  \n",
       "beta                                    4.21  \n",
       "earningsQuarterlyGrowth            14,155.00  \n",
       "shortRatio                             51.73  \n",
       "enterpriseToRevenue                   569.49  \n",
       "priceToBook                           738.22  \n",
       "enterpriseToEbitda                  1,835.36  \n",
       "forwardPE                           3,114.00  \n",
       "netIncomeToCommon          59,430,998,016.00  \n",
       "enterpriseValue         3,421,624,074,240.00  \n",
       "52WeekChange                             NaN  \n",
       "symbol                                   NaN  "
      ]
     },
     "execution_count": 540,
     "metadata": {},
     "output_type": "execute_result"
    }
   ],
   "source": [
    "sel_co = False\n",
    "if sel_co:\n",
    "    active_df = daily_df[daily_df.symbol.isin(ticker)].copy()\n",
    "else: \n",
    "    active_df = daily_df[daily_df.symbol.isin(symbols_list)].copy()\n",
    "active_df.describe(include='all').T.sort_values(by='mean')"
   ]
  },
  {
   "cell_type": "code",
   "execution_count": 541,
   "metadata": {
    "hidden": true
   },
   "outputs": [
    {
     "data": {
      "text/html": [
       "<div>\n",
       "<style scoped>\n",
       "    .dataframe tbody tr th:only-of-type {\n",
       "        vertical-align: middle;\n",
       "    }\n",
       "\n",
       "    .dataframe tbody tr th {\n",
       "        vertical-align: top;\n",
       "    }\n",
       "\n",
       "    .dataframe thead th {\n",
       "        text-align: right;\n",
       "    }\n",
       "</style>\n",
       "<table border=\"1\" class=\"dataframe\">\n",
       "  <thead>\n",
       "    <tr style=\"text-align: right;\">\n",
       "      <th></th>\n",
       "      <th>2019-03-14</th>\n",
       "      <th>2019-03-14</th>\n",
       "      <th>2019-03-14</th>\n",
       "      <th>2019-03-14</th>\n",
       "      <th>2019-03-14</th>\n",
       "    </tr>\n",
       "  </thead>\n",
       "  <tbody>\n",
       "    <tr>\n",
       "      <th>52WeekChange</th>\n",
       "      <td>0.71638656</td>\n",
       "      <td>-0.102831066</td>\n",
       "      <td>0.2583171</td>\n",
       "      <td>0.14452708</td>\n",
       "      <td>Infinity</td>\n",
       "    </tr>\n",
       "    <tr>\n",
       "      <th>beta</th>\n",
       "      <td>1.51</td>\n",
       "      <td>1.56</td>\n",
       "      <td>0.71</td>\n",
       "      <td>0.67</td>\n",
       "      <td>NaN</td>\n",
       "    </tr>\n",
       "    <tr>\n",
       "      <th>earningsQuarterlyGrowth</th>\n",
       "      <td>NaN</td>\n",
       "      <td>0.84</td>\n",
       "      <td>0.04</td>\n",
       "      <td>3.26</td>\n",
       "      <td>NaN</td>\n",
       "    </tr>\n",
       "    <tr>\n",
       "      <th>enterpriseToEbitda</th>\n",
       "      <td>-85.52</td>\n",
       "      <td>NaN</td>\n",
       "      <td>NaN</td>\n",
       "      <td>23.25</td>\n",
       "      <td>-38.32</td>\n",
       "    </tr>\n",
       "    <tr>\n",
       "      <th>enterpriseToRevenue</th>\n",
       "      <td>14.78</td>\n",
       "      <td>4.89</td>\n",
       "      <td>NaN</td>\n",
       "      <td>8.69</td>\n",
       "      <td>10.83</td>\n",
       "    </tr>\n",
       "    <tr>\n",
       "      <th>enterpriseValue</th>\n",
       "      <td>8,851,857,408.00</td>\n",
       "      <td>13,786,930,176.00</td>\n",
       "      <td>15,180,584,960.00</td>\n",
       "      <td>50,590,412,800.00</td>\n",
       "      <td>2,392,433,152.00</td>\n",
       "    </tr>\n",
       "    <tr>\n",
       "      <th>forwardPE</th>\n",
       "      <td>125.70</td>\n",
       "      <td>10.20</td>\n",
       "      <td>19.92</td>\n",
       "      <td>24.79</td>\n",
       "      <td>-53.41</td>\n",
       "    </tr>\n",
       "    <tr>\n",
       "      <th>netIncomeToCommon</th>\n",
       "      <td>-131,084,000.00</td>\n",
       "      <td>845,000,000.00</td>\n",
       "      <td>NaN</td>\n",
       "      <td>1,428,000,000.00</td>\n",
       "      <td>-70,746,000.00</td>\n",
       "    </tr>\n",
       "    <tr>\n",
       "      <th>pegRatio</th>\n",
       "      <td>5.52</td>\n",
       "      <td>0.86</td>\n",
       "      <td>51.27</td>\n",
       "      <td>1.84</td>\n",
       "      <td>NaN</td>\n",
       "    </tr>\n",
       "    <tr>\n",
       "      <th>priceToBook</th>\n",
       "      <td>21.49</td>\n",
       "      <td>1.31</td>\n",
       "      <td>2.99</td>\n",
       "      <td>21.12</td>\n",
       "      <td>16.26</td>\n",
       "    </tr>\n",
       "    <tr>\n",
       "      <th>profitMargins</th>\n",
       "      <td>-0.22</td>\n",
       "      <td>0.31</td>\n",
       "      <td>0.25</td>\n",
       "      <td>0.25</td>\n",
       "      <td>-0.32</td>\n",
       "    </tr>\n",
       "    <tr>\n",
       "      <th>shortPercentOfFloat</th>\n",
       "      <td>0.07</td>\n",
       "      <td>0.14</td>\n",
       "      <td>NaN</td>\n",
       "      <td>0.01</td>\n",
       "      <td>0.32</td>\n",
       "    </tr>\n",
       "    <tr>\n",
       "      <th>shortRatio</th>\n",
       "      <td>2.88</td>\n",
       "      <td>8.14</td>\n",
       "      <td>4.99</td>\n",
       "      <td>2.02</td>\n",
       "      <td>2.98</td>\n",
       "    </tr>\n",
       "    <tr>\n",
       "      <th>heldPercentInsiders</th>\n",
       "      <td>0.01</td>\n",
       "      <td>0.01</td>\n",
       "      <td>0.00</td>\n",
       "      <td>0.00</td>\n",
       "      <td>0.08</td>\n",
       "    </tr>\n",
       "    <tr>\n",
       "      <th>heldPercentInstitutions</th>\n",
       "      <td>0.00</td>\n",
       "      <td>0.97</td>\n",
       "      <td>0.33</td>\n",
       "      <td>0.95</td>\n",
       "      <td>0.55</td>\n",
       "    </tr>\n",
       "    <tr>\n",
       "      <th>symbol</th>\n",
       "      <td>ZEN</td>\n",
       "      <td>ZION</td>\n",
       "      <td>ZTO</td>\n",
       "      <td>ZTS</td>\n",
       "      <td>ZUO</td>\n",
       "    </tr>\n",
       "  </tbody>\n",
       "</table>\n",
       "</div>"
      ],
      "text/plain": [
       "                              2019-03-14        2019-03-14        2019-03-14  \\\n",
       "52WeekChange                  0.71638656      -0.102831066         0.2583171   \n",
       "beta                                1.51              1.56              0.71   \n",
       "earningsQuarterlyGrowth              NaN              0.84              0.04   \n",
       "enterpriseToEbitda                -85.52               NaN               NaN   \n",
       "enterpriseToRevenue                14.78              4.89               NaN   \n",
       "enterpriseValue         8,851,857,408.00 13,786,930,176.00 15,180,584,960.00   \n",
       "forwardPE                         125.70             10.20             19.92   \n",
       "netIncomeToCommon        -131,084,000.00    845,000,000.00               NaN   \n",
       "pegRatio                            5.52              0.86             51.27   \n",
       "priceToBook                        21.49              1.31              2.99   \n",
       "profitMargins                      -0.22              0.31              0.25   \n",
       "shortPercentOfFloat                 0.07              0.14               NaN   \n",
       "shortRatio                          2.88              8.14              4.99   \n",
       "heldPercentInsiders                 0.01              0.01              0.00   \n",
       "heldPercentInstitutions             0.00              0.97              0.33   \n",
       "symbol                               ZEN              ZION               ZTO   \n",
       "\n",
       "                               2019-03-14       2019-03-14  \n",
       "52WeekChange                   0.14452708         Infinity  \n",
       "beta                                 0.67              NaN  \n",
       "earningsQuarterlyGrowth              3.26              NaN  \n",
       "enterpriseToEbitda                  23.25           -38.32  \n",
       "enterpriseToRevenue                  8.69            10.83  \n",
       "enterpriseValue         50,590,412,800.00 2,392,433,152.00  \n",
       "forwardPE                           24.79           -53.41  \n",
       "netIncomeToCommon        1,428,000,000.00   -70,746,000.00  \n",
       "pegRatio                             1.84              NaN  \n",
       "priceToBook                         21.12            16.26  \n",
       "profitMargins                        0.25            -0.32  \n",
       "shortPercentOfFloat                  0.01             0.32  \n",
       "shortRatio                           2.02             2.98  \n",
       "heldPercentInsiders                  0.00             0.08  \n",
       "heldPercentInstitutions              0.95             0.55  \n",
       "symbol                                ZTS              ZUO  "
      ]
     },
     "execution_count": 541,
     "metadata": {},
     "output_type": "execute_result"
    }
   ],
   "source": [
    "# active_df.plot()\n",
    "active_df.tail().T"
   ]
  },
  {
   "cell_type": "code",
   "execution_count": 542,
   "metadata": {
    "code_folding": [],
    "hidden": true
   },
   "outputs": [
    {
     "data": {
      "text/html": [
       "<div>\n",
       "<style scoped>\n",
       "    .dataframe tbody tr th:only-of-type {\n",
       "        vertical-align: middle;\n",
       "    }\n",
       "\n",
       "    .dataframe tbody tr th {\n",
       "        vertical-align: top;\n",
       "    }\n",
       "\n",
       "    .dataframe thead th {\n",
       "        text-align: right;\n",
       "    }\n",
       "</style>\n",
       "<table border=\"1\" class=\"dataframe\">\n",
       "  <thead>\n",
       "    <tr style=\"text-align: right;\">\n",
       "      <th></th>\n",
       "      <th>count</th>\n",
       "      <th>unique</th>\n",
       "      <th>top</th>\n",
       "      <th>freq</th>\n",
       "      <th>mean</th>\n",
       "      <th>std</th>\n",
       "      <th>min</th>\n",
       "      <th>25%</th>\n",
       "      <th>50%</th>\n",
       "      <th>75%</th>\n",
       "      <th>max</th>\n",
       "    </tr>\n",
       "  </thead>\n",
       "  <tbody>\n",
       "    <tr>\n",
       "      <th>52WeekChange</th>\n",
       "      <td>12071</td>\n",
       "      <td>11757</td>\n",
       "      <td>Infinity</td>\n",
       "      <td>280</td>\n",
       "      <td>NaN</td>\n",
       "      <td>NaN</td>\n",
       "      <td>NaN</td>\n",
       "      <td>NaN</td>\n",
       "      <td>NaN</td>\n",
       "      <td>NaN</td>\n",
       "      <td>NaN</td>\n",
       "    </tr>\n",
       "    <tr>\n",
       "      <th>beta</th>\n",
       "      <td>11,760.00</td>\n",
       "      <td>NaN</td>\n",
       "      <td>NaN</td>\n",
       "      <td>NaN</td>\n",
       "      <td>1.13</td>\n",
       "      <td>0.59</td>\n",
       "      <td>-1.02</td>\n",
       "      <td>0.75</td>\n",
       "      <td>1.10</td>\n",
       "      <td>1.46</td>\n",
       "      <td>4.21</td>\n",
       "    </tr>\n",
       "    <tr>\n",
       "      <th>earningsQuarterlyGrowth</th>\n",
       "      <td>8,116.00</td>\n",
       "      <td>NaN</td>\n",
       "      <td>NaN</td>\n",
       "      <td>NaN</td>\n",
       "      <td>2.85</td>\n",
       "      <td>157.24</td>\n",
       "      <td>-0.99</td>\n",
       "      <td>-0.48</td>\n",
       "      <td>0.02</td>\n",
       "      <td>0.69</td>\n",
       "      <td>14,155.00</td>\n",
       "    </tr>\n",
       "    <tr>\n",
       "      <th>enterpriseToEbitda</th>\n",
       "      <td>9,961.00</td>\n",
       "      <td>NaN</td>\n",
       "      <td>NaN</td>\n",
       "      <td>NaN</td>\n",
       "      <td>15.66</td>\n",
       "      <td>87.08</td>\n",
       "      <td>-1,220.77</td>\n",
       "      <td>8.86</td>\n",
       "      <td>12.62</td>\n",
       "      <td>18.75</td>\n",
       "      <td>1,835.36</td>\n",
       "    </tr>\n",
       "    <tr>\n",
       "      <th>enterpriseToRevenue</th>\n",
       "      <td>10,787.00</td>\n",
       "      <td>NaN</td>\n",
       "      <td>NaN</td>\n",
       "      <td>NaN</td>\n",
       "      <td>5.73</td>\n",
       "      <td>23.57</td>\n",
       "      <td>-6.45</td>\n",
       "      <td>1.56</td>\n",
       "      <td>3.15</td>\n",
       "      <td>5.53</td>\n",
       "      <td>569.49</td>\n",
       "    </tr>\n",
       "    <tr>\n",
       "      <th>enterpriseValue</th>\n",
       "      <td>12,054.00</td>\n",
       "      <td>NaN</td>\n",
       "      <td>NaN</td>\n",
       "      <td>NaN</td>\n",
       "      <td>0.01</td>\n",
       "      <td>0.04</td>\n",
       "      <td>-0.07</td>\n",
       "      <td>0.00</td>\n",
       "      <td>0.00</td>\n",
       "      <td>0.01</td>\n",
       "      <td>1.00</td>\n",
       "    </tr>\n",
       "    <tr>\n",
       "      <th>forwardPE</th>\n",
       "      <td>11,316.00</td>\n",
       "      <td>NaN</td>\n",
       "      <td>NaN</td>\n",
       "      <td>NaN</td>\n",
       "      <td>21.48</td>\n",
       "      <td>89.33</td>\n",
       "      <td>-401.42</td>\n",
       "      <td>10.99</td>\n",
       "      <td>15.66</td>\n",
       "      <td>22.60</td>\n",
       "      <td>3,114.00</td>\n",
       "    </tr>\n",
       "    <tr>\n",
       "      <th>netIncomeToCommon</th>\n",
       "      <td>10,818.00</td>\n",
       "      <td>NaN</td>\n",
       "      <td>NaN</td>\n",
       "      <td>NaN</td>\n",
       "      <td>0.02</td>\n",
       "      <td>0.06</td>\n",
       "      <td>-0.35</td>\n",
       "      <td>0.00</td>\n",
       "      <td>0.01</td>\n",
       "      <td>0.02</td>\n",
       "      <td>1.00</td>\n",
       "    </tr>\n",
       "    <tr>\n",
       "      <th>pegRatio</th>\n",
       "      <td>11,105.00</td>\n",
       "      <td>NaN</td>\n",
       "      <td>NaN</td>\n",
       "      <td>NaN</td>\n",
       "      <td>-3.50</td>\n",
       "      <td>267.47</td>\n",
       "      <td>-12,573.70</td>\n",
       "      <td>0.98</td>\n",
       "      <td>1.60</td>\n",
       "      <td>2.58</td>\n",
       "      <td>741.48</td>\n",
       "    </tr>\n",
       "    <tr>\n",
       "      <th>priceToBook</th>\n",
       "      <td>11,614.00</td>\n",
       "      <td>NaN</td>\n",
       "      <td>NaN</td>\n",
       "      <td>NaN</td>\n",
       "      <td>5.92</td>\n",
       "      <td>21.88</td>\n",
       "      <td>0.02</td>\n",
       "      <td>1.63</td>\n",
       "      <td>2.76</td>\n",
       "      <td>5.39</td>\n",
       "      <td>738.22</td>\n",
       "    </tr>\n",
       "    <tr>\n",
       "      <th>profitMargins</th>\n",
       "      <td>12,071.00</td>\n",
       "      <td>NaN</td>\n",
       "      <td>NaN</td>\n",
       "      <td>NaN</td>\n",
       "      <td>0.11</td>\n",
       "      <td>0.22</td>\n",
       "      <td>-2.80</td>\n",
       "      <td>0.05</td>\n",
       "      <td>0.10</td>\n",
       "      <td>0.19</td>\n",
       "      <td>1.98</td>\n",
       "    </tr>\n",
       "    <tr>\n",
       "      <th>shortPercentOfFloat</th>\n",
       "      <td>9,718.00</td>\n",
       "      <td>NaN</td>\n",
       "      <td>NaN</td>\n",
       "      <td>NaN</td>\n",
       "      <td>0.06</td>\n",
       "      <td>0.08</td>\n",
       "      <td>0.00</td>\n",
       "      <td>0.02</td>\n",
       "      <td>0.04</td>\n",
       "      <td>0.07</td>\n",
       "      <td>1.04</td>\n",
       "    </tr>\n",
       "    <tr>\n",
       "      <th>shortRatio</th>\n",
       "      <td>11,861.00</td>\n",
       "      <td>NaN</td>\n",
       "      <td>NaN</td>\n",
       "      <td>NaN</td>\n",
       "      <td>4.80</td>\n",
       "      <td>4.11</td>\n",
       "      <td>0.00</td>\n",
       "      <td>2.22</td>\n",
       "      <td>3.62</td>\n",
       "      <td>5.99</td>\n",
       "      <td>51.73</td>\n",
       "    </tr>\n",
       "    <tr>\n",
       "      <th>heldPercentInsiders</th>\n",
       "      <td>12,050.00</td>\n",
       "      <td>NaN</td>\n",
       "      <td>NaN</td>\n",
       "      <td>NaN</td>\n",
       "      <td>0.05</td>\n",
       "      <td>0.12</td>\n",
       "      <td>0.00</td>\n",
       "      <td>0.00</td>\n",
       "      <td>0.01</td>\n",
       "      <td>0.04</td>\n",
       "      <td>0.93</td>\n",
       "    </tr>\n",
       "    <tr>\n",
       "      <th>heldPercentInstitutions</th>\n",
       "      <td>12,050.00</td>\n",
       "      <td>NaN</td>\n",
       "      <td>NaN</td>\n",
       "      <td>NaN</td>\n",
       "      <td>0.76</td>\n",
       "      <td>0.32</td>\n",
       "      <td>0.00</td>\n",
       "      <td>0.71</td>\n",
       "      <td>0.87</td>\n",
       "      <td>0.96</td>\n",
       "      <td>2.23</td>\n",
       "    </tr>\n",
       "    <tr>\n",
       "      <th>symbol</th>\n",
       "      <td>12071</td>\n",
       "      <td>1208</td>\n",
       "      <td>ECL</td>\n",
       "      <td>10</td>\n",
       "      <td>NaN</td>\n",
       "      <td>NaN</td>\n",
       "      <td>NaN</td>\n",
       "      <td>NaN</td>\n",
       "      <td>NaN</td>\n",
       "      <td>NaN</td>\n",
       "      <td>NaN</td>\n",
       "    </tr>\n",
       "  </tbody>\n",
       "</table>\n",
       "</div>"
      ],
      "text/plain": [
       "                            count unique       top freq  mean    std  \\\n",
       "52WeekChange                12071  11757  Infinity  280   NaN    NaN   \n",
       "beta                    11,760.00    NaN       NaN  NaN  1.13   0.59   \n",
       "earningsQuarterlyGrowth  8,116.00    NaN       NaN  NaN  2.85 157.24   \n",
       "enterpriseToEbitda       9,961.00    NaN       NaN  NaN 15.66  87.08   \n",
       "enterpriseToRevenue     10,787.00    NaN       NaN  NaN  5.73  23.57   \n",
       "enterpriseValue         12,054.00    NaN       NaN  NaN  0.01   0.04   \n",
       "forwardPE               11,316.00    NaN       NaN  NaN 21.48  89.33   \n",
       "netIncomeToCommon       10,818.00    NaN       NaN  NaN  0.02   0.06   \n",
       "pegRatio                11,105.00    NaN       NaN  NaN -3.50 267.47   \n",
       "priceToBook             11,614.00    NaN       NaN  NaN  5.92  21.88   \n",
       "profitMargins           12,071.00    NaN       NaN  NaN  0.11   0.22   \n",
       "shortPercentOfFloat      9,718.00    NaN       NaN  NaN  0.06   0.08   \n",
       "shortRatio              11,861.00    NaN       NaN  NaN  4.80   4.11   \n",
       "heldPercentInsiders     12,050.00    NaN       NaN  NaN  0.05   0.12   \n",
       "heldPercentInstitutions 12,050.00    NaN       NaN  NaN  0.76   0.32   \n",
       "symbol                      12071   1208       ECL   10   NaN    NaN   \n",
       "\n",
       "                               min   25%   50%   75%       max  \n",
       "52WeekChange                   NaN   NaN   NaN   NaN       NaN  \n",
       "beta                         -1.02  0.75  1.10  1.46      4.21  \n",
       "earningsQuarterlyGrowth      -0.99 -0.48  0.02  0.69 14,155.00  \n",
       "enterpriseToEbitda       -1,220.77  8.86 12.62 18.75  1,835.36  \n",
       "enterpriseToRevenue          -6.45  1.56  3.15  5.53    569.49  \n",
       "enterpriseValue              -0.07  0.00  0.00  0.01      1.00  \n",
       "forwardPE                  -401.42 10.99 15.66 22.60  3,114.00  \n",
       "netIncomeToCommon            -0.35  0.00  0.01  0.02      1.00  \n",
       "pegRatio                -12,573.70  0.98  1.60  2.58    741.48  \n",
       "priceToBook                   0.02  1.63  2.76  5.39    738.22  \n",
       "profitMargins                -2.80  0.05  0.10  0.19      1.98  \n",
       "shortPercentOfFloat           0.00  0.02  0.04  0.07      1.04  \n",
       "shortRatio                    0.00  2.22  3.62  5.99     51.73  \n",
       "heldPercentInsiders           0.00  0.00  0.01  0.04      0.93  \n",
       "heldPercentInstitutions       0.00  0.71  0.87  0.96      2.23  \n",
       "symbol                         NaN   NaN   NaN   NaN       NaN  "
      ]
     },
     "execution_count": 542,
     "metadata": {},
     "output_type": "execute_result"
    }
   ],
   "source": [
    "# pre-processing pipeline\n",
    "pre_proc_pipeline = {\n",
    "    'day_quote': [preproc_divide, preproc_scale, preproc_outlier],\n",
    "    'key_statistics': [preproc_scale, preproc_outlier],\n",
    "    'eps_estimates': [df_wide_transform, preproc_eps_estimates],\n",
    "    'eps_revisions': [df_wide_transform, preproc_day_delta],\n",
    "    'eps_trend': [df_wide_transform, preproc_eps_trend],\n",
    "    'fin_data': [preproc_scale_financials, preproc_perc_price],\n",
    "}\n",
    "\n",
    "context = {\n",
    "    'ds_dict': ds_dict,\n",
    "    'key': key,\n",
    "    'pre': pre,\n",
    "    'periods': periods,\n",
    "    'hist_price': px_close.loc[wide_df.index, ticker]\n",
    "}\n",
    "\n",
    "processed_df = active_df.copy()\n",
    "if key in pre_proc_pipeline:\n",
    "    for fn in pre_proc_pipeline[key]: \n",
    "        processed_df = fn(processed_df, context)\n",
    "processed_df.replace([np.inf, -np.inf], np.nan, inplace=True)\n",
    "\n",
    "processed_df.describe(include='all').T"
   ]
  },
  {
   "cell_type": "code",
   "execution_count": 543,
   "metadata": {
    "hidden": true
   },
   "outputs": [
    {
     "data": {
      "text/html": [
       "<div>\n",
       "<style scoped>\n",
       "    .dataframe tbody tr th:only-of-type {\n",
       "        vertical-align: middle;\n",
       "    }\n",
       "\n",
       "    .dataframe tbody tr th {\n",
       "        vertical-align: top;\n",
       "    }\n",
       "\n",
       "    .dataframe thead th {\n",
       "        text-align: right;\n",
       "    }\n",
       "</style>\n",
       "<table border=\"1\" class=\"dataframe\">\n",
       "  <thead>\n",
       "    <tr style=\"text-align: right;\">\n",
       "      <th></th>\n",
       "      <th>count</th>\n",
       "      <th>mean</th>\n",
       "      <th>std</th>\n",
       "      <th>min</th>\n",
       "      <th>25%</th>\n",
       "      <th>50%</th>\n",
       "      <th>75%</th>\n",
       "      <th>max</th>\n",
       "    </tr>\n",
       "  </thead>\n",
       "  <tbody>\n",
       "    <tr>\n",
       "      <th>beta</th>\n",
       "      <td>11,299.00</td>\n",
       "      <td>1.12</td>\n",
       "      <td>0.58</td>\n",
       "      <td>-1.02</td>\n",
       "      <td>0.74</td>\n",
       "      <td>1.10</td>\n",
       "      <td>1.45</td>\n",
       "      <td>4.21</td>\n",
       "    </tr>\n",
       "    <tr>\n",
       "      <th>earningsQuarterlyGrowth</th>\n",
       "      <td>7,976.00</td>\n",
       "      <td>0.87</td>\n",
       "      <td>4.46</td>\n",
       "      <td>-0.99</td>\n",
       "      <td>-0.48</td>\n",
       "      <td>0.02</td>\n",
       "      <td>0.67</td>\n",
       "      <td>91.70</td>\n",
       "    </tr>\n",
       "    <tr>\n",
       "      <th>enterpriseToEbitda</th>\n",
       "      <td>9,514.00</td>\n",
       "      <td>14.94</td>\n",
       "      <td>13.32</td>\n",
       "      <td>-97.37</td>\n",
       "      <td>9.11</td>\n",
       "      <td>12.58</td>\n",
       "      <td>18.36</td>\n",
       "      <td>99.89</td>\n",
       "    </tr>\n",
       "    <tr>\n",
       "      <th>enterpriseToRevenue</th>\n",
       "      <td>10,340.00</td>\n",
       "      <td>4.24</td>\n",
       "      <td>4.73</td>\n",
       "      <td>-6.45</td>\n",
       "      <td>1.53</td>\n",
       "      <td>3.04</td>\n",
       "      <td>5.11</td>\n",
       "      <td>65.22</td>\n",
       "    </tr>\n",
       "    <tr>\n",
       "      <th>enterpriseValue</th>\n",
       "      <td>11,539.00</td>\n",
       "      <td>0.01</td>\n",
       "      <td>0.04</td>\n",
       "      <td>-0.07</td>\n",
       "      <td>0.00</td>\n",
       "      <td>0.00</td>\n",
       "      <td>0.01</td>\n",
       "      <td>1.00</td>\n",
       "    </tr>\n",
       "    <tr>\n",
       "      <th>forwardPE</th>\n",
       "      <td>10,811.00</td>\n",
       "      <td>17.83</td>\n",
       "      <td>13.18</td>\n",
       "      <td>-92.09</td>\n",
       "      <td>11.01</td>\n",
       "      <td>15.43</td>\n",
       "      <td>21.82</td>\n",
       "      <td>97.65</td>\n",
       "    </tr>\n",
       "    <tr>\n",
       "      <th>netIncomeToCommon</th>\n",
       "      <td>10,371.00</td>\n",
       "      <td>0.02</td>\n",
       "      <td>0.07</td>\n",
       "      <td>-0.35</td>\n",
       "      <td>0.00</td>\n",
       "      <td>0.01</td>\n",
       "      <td>0.02</td>\n",
       "      <td>1.00</td>\n",
       "    </tr>\n",
       "    <tr>\n",
       "      <th>pegRatio</th>\n",
       "      <td>10,660.00</td>\n",
       "      <td>2.62</td>\n",
       "      <td>7.93</td>\n",
       "      <td>-91.77</td>\n",
       "      <td>1.00</td>\n",
       "      <td>1.60</td>\n",
       "      <td>2.54</td>\n",
       "      <td>99.95</td>\n",
       "    </tr>\n",
       "    <tr>\n",
       "      <th>priceToBook</th>\n",
       "      <td>11,115.00</td>\n",
       "      <td>4.91</td>\n",
       "      <td>7.86</td>\n",
       "      <td>0.02</td>\n",
       "      <td>1.59</td>\n",
       "      <td>2.70</td>\n",
       "      <td>5.08</td>\n",
       "      <td>99.38</td>\n",
       "    </tr>\n",
       "    <tr>\n",
       "      <th>profitMargins</th>\n",
       "      <td>11,556.00</td>\n",
       "      <td>0.12</td>\n",
       "      <td>0.21</td>\n",
       "      <td>-2.80</td>\n",
       "      <td>0.05</td>\n",
       "      <td>0.10</td>\n",
       "      <td>0.19</td>\n",
       "      <td>1.55</td>\n",
       "    </tr>\n",
       "    <tr>\n",
       "      <th>shortPercentOfFloat</th>\n",
       "      <td>9,327.00</td>\n",
       "      <td>0.06</td>\n",
       "      <td>0.08</td>\n",
       "      <td>0.00</td>\n",
       "      <td>0.02</td>\n",
       "      <td>0.04</td>\n",
       "      <td>0.07</td>\n",
       "      <td>1.04</td>\n",
       "    </tr>\n",
       "    <tr>\n",
       "      <th>shortRatio</th>\n",
       "      <td>11,346.00</td>\n",
       "      <td>4.76</td>\n",
       "      <td>4.07</td>\n",
       "      <td>0.00</td>\n",
       "      <td>2.20</td>\n",
       "      <td>3.59</td>\n",
       "      <td>5.95</td>\n",
       "      <td>51.73</td>\n",
       "    </tr>\n",
       "    <tr>\n",
       "      <th>heldPercentInsiders</th>\n",
       "      <td>11,535.00</td>\n",
       "      <td>0.05</td>\n",
       "      <td>0.12</td>\n",
       "      <td>0.00</td>\n",
       "      <td>0.00</td>\n",
       "      <td>0.01</td>\n",
       "      <td>0.04</td>\n",
       "      <td>0.93</td>\n",
       "    </tr>\n",
       "    <tr>\n",
       "      <th>heldPercentInstitutions</th>\n",
       "      <td>11,535.00</td>\n",
       "      <td>0.76</td>\n",
       "      <td>0.31</td>\n",
       "      <td>0.00</td>\n",
       "      <td>0.71</td>\n",
       "      <td>0.87</td>\n",
       "      <td>0.96</td>\n",
       "      <td>2.23</td>\n",
       "    </tr>\n",
       "  </tbody>\n",
       "</table>\n",
       "</div>"
      ],
      "text/plain": [
       "                            count  mean   std    min   25%   50%   75%   max\n",
       "beta                    11,299.00  1.12  0.58  -1.02  0.74  1.10  1.45  4.21\n",
       "earningsQuarterlyGrowth  7,976.00  0.87  4.46  -0.99 -0.48  0.02  0.67 91.70\n",
       "enterpriseToEbitda       9,514.00 14.94 13.32 -97.37  9.11 12.58 18.36 99.89\n",
       "enterpriseToRevenue     10,340.00  4.24  4.73  -6.45  1.53  3.04  5.11 65.22\n",
       "enterpriseValue         11,539.00  0.01  0.04  -0.07  0.00  0.00  0.01  1.00\n",
       "forwardPE               10,811.00 17.83 13.18 -92.09 11.01 15.43 21.82 97.65\n",
       "netIncomeToCommon       10,371.00  0.02  0.07  -0.35  0.00  0.01  0.02  1.00\n",
       "pegRatio                10,660.00  2.62  7.93 -91.77  1.00  1.60  2.54 99.95\n",
       "priceToBook             11,115.00  4.91  7.86   0.02  1.59  2.70  5.08 99.38\n",
       "profitMargins           11,556.00  0.12  0.21  -2.80  0.05  0.10  0.19  1.55\n",
       "shortPercentOfFloat      9,327.00  0.06  0.08   0.00  0.02  0.04  0.07  1.04\n",
       "shortRatio              11,346.00  4.76  4.07   0.00  2.20  3.59  5.95 51.73\n",
       "heldPercentInsiders     11,535.00  0.05  0.12   0.00  0.00  0.01  0.04  0.93\n",
       "heldPercentInstitutions 11,535.00  0.76  0.31   0.00  0.71  0.87  0.96  2.23"
      ]
     },
     "execution_count": 543,
     "metadata": {},
     "output_type": "execute_result"
    }
   ],
   "source": [
    "preproc_outlier(processed_df, context).describe().T"
   ]
  },
  {
   "cell_type": "code",
   "execution_count": 342,
   "metadata": {
    "hidden": true
   },
   "outputs": [
    {
     "data": {
      "text/plain": [
       "<matplotlib.axes._subplots.AxesSubplot at 0x128683dd8>"
      ]
     },
     "execution_count": 342,
     "metadata": {},
     "output_type": "execute_result"
    },
    {
     "data": {
      "image/png": "[encoded data removed]",
      "text/plain": [
       "<Figure size 432x288 with 1 Axes>"
      ]
     },
     "metadata": {
      "needs_background": "light"
     },
     "output_type": "display_data"
    }
   ],
   "source": [
    "processed_df.plot.hist()"
   ]
  },
  {
   "cell_type": "markdown",
   "metadata": {
    "hidden": true
   },
   "source": [
    "#### Metrics"
   ]
  },
  {
   "cell_type": "markdown",
   "metadata": {},
   "source": [
    "### Other"
   ]
  },
  {
   "cell_type": "markdown",
   "metadata": {
    "heading_collapsed": true
   },
   "source": [
    "#### Vectorized long to wide"
   ]
  },
  {
   "cell_type": "code",
   "execution_count": 33,
   "metadata": {
    "hidden": true
   },
   "outputs": [],
   "source": [
    "df = df_wide_transform(daily_df, context)\n",
    "df1 = preproc_eps_estimates(df, context)\n",
    "df2 = preproc_outlier(df1, context)"
   ]
  },
  {
   "cell_type": "code",
   "execution_count": null,
   "metadata": {
    "hidden": true
   },
   "outputs": [],
   "source": [
    "df2.loc[(slice(None), 'AAPL'), :].plot()"
   ]
  },
  {
   "cell_type": "code",
   "execution_count": 1611,
   "metadata": {
    "hidden": true
   },
   "outputs": [],
   "source": [
    "df1 = df.loc[(slice(None),'AAPL'), :]\n",
    "# growth_cols = filter_cols(df1.columns, 'growth')\n",
    "# other_cols = excl(df1.columns, growth_cols)\n",
    "# df1.loc[df1.index, growth_cols] = day_delta(df1[growth_cols], 1)\n",
    "# df1.loc[df1.index, other_cols] = df1[other_cols].pct_change()\n",
    "\n",
    "df2 = preproc_eps_estimates(df.sort_index(level=1), context)"
   ]
  },
  {
   "cell_type": "code",
   "execution_count": null,
   "metadata": {
    "hidden": true
   },
   "outputs": [],
   "source": [
    "df.sort_index(level=1)"
   ]
  },
  {
   "cell_type": "code",
   "execution_count": null,
   "metadata": {
    "hidden": true
   },
   "outputs": [],
   "source": [
    "df2.loc[(slice(None), symbols_list[3:40]), growth_cols].describe().T"
   ]
  },
  {
   "cell_type": "markdown",
   "metadata": {
    "heading_collapsed": true
   },
   "source": [
    "#### Faster way to perform price division? WIP"
   ]
  },
  {
   "cell_type": "code",
   "execution_count": 1420,
   "metadata": {
    "hidden": true
   },
   "outputs": [],
   "source": [
    "daily_df.index.set_names('storeDate', inplace=True)"
   ]
  },
  {
   "cell_type": "code",
   "execution_count": 1421,
   "metadata": {
    "hidden": true
   },
   "outputs": [
    {
     "data": {
      "text/html": [
       "<div>\n",
       "<style scoped>\n",
       "    .dataframe tbody tr th:only-of-type {\n",
       "        vertical-align: middle;\n",
       "    }\n",
       "\n",
       "    .dataframe tbody tr th {\n",
       "        vertical-align: top;\n",
       "    }\n",
       "\n",
       "    .dataframe thead th {\n",
       "        text-align: right;\n",
       "    }\n",
       "</style>\n",
       "<table border=\"1\" class=\"dataframe\">\n",
       "  <thead>\n",
       "    <tr style=\"text-align: right;\">\n",
       "      <th></th>\n",
       "      <th></th>\n",
       "      <th>close</th>\n",
       "    </tr>\n",
       "    <tr>\n",
       "      <th>storeDate</th>\n",
       "      <th>symbol</th>\n",
       "      <th></th>\n",
       "    </tr>\n",
       "  </thead>\n",
       "  <tbody>\n",
       "    <tr>\n",
       "      <th>2004-03-08</th>\n",
       "      <th>FBR</th>\n",
       "      <td>13.80</td>\n",
       "    </tr>\n",
       "    <tr>\n",
       "      <th rowspan=\"2\" valign=\"top\">2004-03-09</th>\n",
       "      <th>FBR</th>\n",
       "      <td>13.74</td>\n",
       "    </tr>\n",
       "    <tr>\n",
       "      <th>SHPG</th>\n",
       "      <td>31.40</td>\n",
       "    </tr>\n",
       "    <tr>\n",
       "      <th rowspan=\"2\" valign=\"top\">2004-03-10</th>\n",
       "      <th>FBR</th>\n",
       "      <td>13.32</td>\n",
       "    </tr>\n",
       "    <tr>\n",
       "      <th>SHPG</th>\n",
       "      <td>30.20</td>\n",
       "    </tr>\n",
       "  </tbody>\n",
       "</table>\n",
       "</div>"
      ],
      "text/plain": [
       "                   close\n",
       "storeDate  symbol       \n",
       "2004-03-08 FBR     13.80\n",
       "2004-03-09 FBR     13.74\n",
       "           SHPG    31.40\n",
       "2004-03-10 FBR     13.32\n",
       "           SHPG    30.20"
      ]
     },
     "execution_count": 1421,
     "metadata": {},
     "output_type": "execute_result"
    }
   ],
   "source": [
    "# df.tail()\n",
    "stacked_px.head()"
   ]
  },
  {
   "cell_type": "code",
   "execution_count": 1422,
   "metadata": {
    "hidden": true
   },
   "outputs": [],
   "source": [
    "f_cols = filter_cols(daily_df.columns, 'target')\n",
    "df = daily_df.reset_index().set_index(['storeDate', 'symbol'])"
   ]
  },
  {
   "cell_type": "code",
   "execution_count": 1430,
   "metadata": {
    "hidden": true
   },
   "outputs": [],
   "source": [
    "# df[f_cols] / stacked_px['close']\n",
    "# stacked_px.loc[df.index, :]\n",
    "stacked_px = stacked_px.loc[df.index.unique().sortlevel()[0], :]\n",
    "stacked_px = stacked_px[~stacked_px.isna().all(1).values]"
   ]
  },
  {
   "cell_type": "code",
   "execution_count": null,
   "metadata": {
    "hidden": true
   },
   "outputs": [],
   "source": [
    "# df.loc[:, f_cols] / stacked_px.loc[:, 'close']\n",
    "# stacked_px.loc[:, 'close']"
   ]
  },
  {
   "cell_type": "markdown",
   "metadata": {
    "heading_collapsed": true
   },
   "source": [
    "#### Experimenting to cleanse duplicated rows"
   ]
  },
  {
   "cell_type": "code",
   "execution_count": 907,
   "metadata": {
    "hidden": true
   },
   "outputs": [],
   "source": [
    "# tailored remove duplicated rows\n",
    "# ex_cols = [x for x in list(processed_df.columns) if 'target' in x] + [y_col]\n",
    "# filter_cols = excl(processed_df.columns, ex_cols)\n",
    "# processed_df.drop_duplicates(subset=filter_cols, inplace=True)"
   ]
  },
  {
   "cell_type": "code",
   "execution_count": 908,
   "metadata": {
    "hidden": true
   },
   "outputs": [],
   "source": [
    "# generic remove duplicates\n",
    "# processed_df.drop_duplicates(inplace=True) # less duplicated describe"
   ]
  },
  {
   "cell_type": "markdown",
   "metadata": {},
   "source": [
    "#### Long to wide transformations for recommendation trend / vectorized"
   ]
  },
  {
   "cell_type": "code",
   "execution_count": 369,
   "metadata": {},
   "outputs": [],
   "source": [
    "daily_df.index.set_names('storeDate', inplace=True)\n",
    "daily_df = daily_df.reset_index().set_index(['storeDate', 'symbol', 'period'])"
   ]
  },
  {
   "cell_type": "code",
   "execution_count": 439,
   "metadata": {},
   "outputs": [],
   "source": [
    "cols = pd.Index(['strongBuy','buy','hold','sell','strongSell'], name='cols')\n",
    "ldata = daily_df.reindex(columns=cols).stack().reset_index().rename(columns={0: 'value'})\n",
    "# ldata.tail()\n",
    "pivoted = ldata.pivot_table(index=['storeDate', 'symbol'], columns=['period', 'cols'], values=['value'])"
   ]
  },
  {
   "cell_type": "code",
   "execution_count": 518,
   "metadata": {},
   "outputs": [],
   "source": [
    "# 0m and -3m month have std deviation = 0 -- no changes\n",
    "# pivoted.loc[(slice(None), 'AMZN'), :].sort_index(ascending=False).std()\n",
    "# pivoted.loc[(slice(None), 'TSLA'), (slice(None), ['-3m', '-2m', '-1m'], 'strongBuy')].sort_index(ascending=False).plot()\n",
    "flat_df = pd.DataFrame(pivoted.loc[(slice(None), ), (slice(None), ['-2m', '-1m'])].to_records())"
   ]
  },
  {
   "cell_type": "code",
   "execution_count": 559,
   "metadata": {},
   "outputs": [
    {
     "data": {
      "text/html": [
       "<div>\n",
       "<style scoped>\n",
       "    .dataframe tbody tr th:only-of-type {\n",
       "        vertical-align: middle;\n",
       "    }\n",
       "\n",
       "    .dataframe tbody tr th {\n",
       "        vertical-align: top;\n",
       "    }\n",
       "\n",
       "    .dataframe thead th {\n",
       "        text-align: right;\n",
       "    }\n",
       "</style>\n",
       "<table border=\"1\" class=\"dataframe\">\n",
       "  <thead>\n",
       "    <tr style=\"text-align: right;\">\n",
       "      <th></th>\n",
       "      <th>storeDate</th>\n",
       "      <th>symbol</th>\n",
       "      <th>('value', '-1m', 'buy')</th>\n",
       "      <th>('value', '-1m', 'hold')</th>\n",
       "      <th>('value', '-1m', 'sell')</th>\n",
       "      <th>('value', '-1m', 'strongBuy')</th>\n",
       "      <th>('value', '-1m', 'strongSell')</th>\n",
       "      <th>('value', '-2m', 'buy')</th>\n",
       "      <th>('value', '-2m', 'hold')</th>\n",
       "      <th>('value', '-2m', 'sell')</th>\n",
       "      <th>('value', '-2m', 'strongBuy')</th>\n",
       "      <th>('value', '-2m', 'strongSell')</th>\n",
       "    </tr>\n",
       "  </thead>\n",
       "  <tbody>\n",
       "    <tr>\n",
       "      <th>0</th>\n",
       "      <td>2018-09-07</td>\n",
       "      <td>A</td>\n",
       "      <td>4.00</td>\n",
       "      <td>3.00</td>\n",
       "      <td>nan</td>\n",
       "      <td>7.00</td>\n",
       "      <td>nan</td>\n",
       "      <td>5.00</td>\n",
       "      <td>2.00</td>\n",
       "      <td>nan</td>\n",
       "      <td>6.00</td>\n",
       "      <td>nan</td>\n",
       "    </tr>\n",
       "    <tr>\n",
       "      <th>1</th>\n",
       "      <td>2018-09-07</td>\n",
       "      <td>AAPL</td>\n",
       "      <td>19.00</td>\n",
       "      <td>7.00</td>\n",
       "      <td>nan</td>\n",
       "      <td>11.00</td>\n",
       "      <td>nan</td>\n",
       "      <td>19.00</td>\n",
       "      <td>9.00</td>\n",
       "      <td>nan</td>\n",
       "      <td>10.00</td>\n",
       "      <td>nan</td>\n",
       "    </tr>\n",
       "    <tr>\n",
       "      <th>2</th>\n",
       "      <td>2018-09-07</td>\n",
       "      <td>ABMD</td>\n",
       "      <td>3.00</td>\n",
       "      <td>2.00</td>\n",
       "      <td>nan</td>\n",
       "      <td>5.00</td>\n",
       "      <td>nan</td>\n",
       "      <td>2.00</td>\n",
       "      <td>1.00</td>\n",
       "      <td>nan</td>\n",
       "      <td>6.00</td>\n",
       "      <td>nan</td>\n",
       "    </tr>\n",
       "    <tr>\n",
       "      <th>3</th>\n",
       "      <td>2018-09-07</td>\n",
       "      <td>ADBE</td>\n",
       "      <td>13.00</td>\n",
       "      <td>6.00</td>\n",
       "      <td>nan</td>\n",
       "      <td>11.00</td>\n",
       "      <td>0.00</td>\n",
       "      <td>14.00</td>\n",
       "      <td>4.00</td>\n",
       "      <td>nan</td>\n",
       "      <td>11.00</td>\n",
       "      <td>1.00</td>\n",
       "    </tr>\n",
       "    <tr>\n",
       "      <th>4</th>\n",
       "      <td>2018-09-07</td>\n",
       "      <td>ADP</td>\n",
       "      <td>nan</td>\n",
       "      <td>15.00</td>\n",
       "      <td>nan</td>\n",
       "      <td>2.00</td>\n",
       "      <td>0.00</td>\n",
       "      <td>nan</td>\n",
       "      <td>15.00</td>\n",
       "      <td>nan</td>\n",
       "      <td>2.00</td>\n",
       "      <td>1.00</td>\n",
       "    </tr>\n",
       "  </tbody>\n",
       "</table>\n",
       "</div>"
      ],
      "text/plain": [
       "   storeDate symbol  ('value', '-1m', 'buy')  ('value', '-1m', 'hold')  \\\n",
       "0 2018-09-07      A                     4.00                      3.00   \n",
       "1 2018-09-07   AAPL                    19.00                      7.00   \n",
       "2 2018-09-07   ABMD                     3.00                      2.00   \n",
       "3 2018-09-07   ADBE                    13.00                      6.00   \n",
       "4 2018-09-07    ADP                      nan                     15.00   \n",
       "\n",
       "   ('value', '-1m', 'sell')  ('value', '-1m', 'strongBuy')  \\\n",
       "0                       nan                           7.00   \n",
       "1                       nan                          11.00   \n",
       "2                       nan                           5.00   \n",
       "3                       nan                          11.00   \n",
       "4                       nan                           2.00   \n",
       "\n",
       "   ('value', '-1m', 'strongSell')  ('value', '-2m', 'buy')  \\\n",
       "0                             nan                     5.00   \n",
       "1                             nan                    19.00   \n",
       "2                             nan                     2.00   \n",
       "3                            0.00                    14.00   \n",
       "4                            0.00                      nan   \n",
       "\n",
       "   ('value', '-2m', 'hold')  ('value', '-2m', 'sell')  \\\n",
       "0                      2.00                       nan   \n",
       "1                      9.00                       nan   \n",
       "2                      1.00                       nan   \n",
       "3                      4.00                       nan   \n",
       "4                     15.00                       nan   \n",
       "\n",
       "   ('value', '-2m', 'strongBuy')  ('value', '-2m', 'strongSell')  \n",
       "0                           6.00                             nan  \n",
       "1                          10.00                             nan  \n",
       "2                           6.00                             nan  \n",
       "3                          11.00                            1.00  \n",
       "4                           2.00                            1.00  "
      ]
     },
     "execution_count": 559,
     "metadata": {},
     "output_type": "execute_result"
    }
   ],
   "source": [
    "flat_df.head()"
   ]
  },
  {
   "cell_type": "code",
   "execution_count": 1662,
   "metadata": {},
   "outputs": [
    {
     "data": {
      "text/plain": [
       "{'(value, -1m, buy)': '-1m_buy'}"
      ]
     },
     "execution_count": 1662,
     "metadata": {},
     "output_type": "execute_result"
    }
   ],
   "source": [
    "col_mapper = lambda cols: {x:'_'.join(strips(x, chars, ',')) for x in cols if 'value' in x}\n",
    "\n",
    "def strips(s, l, splt): \n",
    "    for r in l: s = s.replace(r, '')\n",
    "    return s.split(splt)[1:]\n",
    "test = '(value, -1m, buy)'\n",
    "chars = list(\")(' \")\n",
    "strips(test, chars, ',')\n",
    "col_mapper([test])"
   ]
  },
  {
   "cell_type": "code",
   "execution_count": 1663,
   "metadata": {},
   "outputs": [
    {
     "data": {
      "text/plain": [
       "[]"
      ]
     },
     "execution_count": 1663,
     "metadata": {},
     "output_type": "execute_result"
    }
   ],
   "source": [
    "[strips(x, chars) for x in flat_df.columns if 'value' in x]"
   ]
  },
  {
   "cell_type": "markdown",
   "metadata": {
    "heading_collapsed": true
   },
   "source": [
    "#### Date and minute based time analysis"
   ]
  },
  {
   "cell_type": "code",
   "execution_count": 1007,
   "metadata": {
    "hidden": true
   },
   "outputs": [],
   "source": [
    "freq = '1d'"
   ]
  },
  {
   "cell_type": "code",
   "execution_count": 1008,
   "metadata": {
    "hidden": true
   },
   "outputs": [
    {
     "data": {
      "text/html": [
       "<div>\n",
       "<style scoped>\n",
       "    .dataframe tbody tr th:only-of-type {\n",
       "        vertical-align: middle;\n",
       "    }\n",
       "\n",
       "    .dataframe tbody tr th {\n",
       "        vertical-align: top;\n",
       "    }\n",
       "\n",
       "    .dataframe thead th {\n",
       "        text-align: right;\n",
       "    }\n",
       "</style>\n",
       "<table border=\"1\" class=\"dataframe\">\n",
       "  <thead>\n",
       "    <tr style=\"text-align: right;\">\n",
       "      <th></th>\n",
       "      <th>close</th>\n",
       "      <th>close</th>\n",
       "    </tr>\n",
       "  </thead>\n",
       "  <tbody>\n",
       "    <tr>\n",
       "      <th>count</th>\n",
       "      <td>164.00</td>\n",
       "      <td>3,775.00</td>\n",
       "    </tr>\n",
       "    <tr>\n",
       "      <th>mean</th>\n",
       "      <td>14.24</td>\n",
       "      <td>66.80</td>\n",
       "    </tr>\n",
       "    <tr>\n",
       "      <th>std</th>\n",
       "      <td>2.88</td>\n",
       "      <td>56.49</td>\n",
       "    </tr>\n",
       "    <tr>\n",
       "      <th>min</th>\n",
       "      <td>9.70</td>\n",
       "      <td>1.81</td>\n",
       "    </tr>\n",
       "    <tr>\n",
       "      <th>25%</th>\n",
       "      <td>12.19</td>\n",
       "      <td>16.67</td>\n",
       "    </tr>\n",
       "    <tr>\n",
       "      <th>50%</th>\n",
       "      <td>13.59</td>\n",
       "      <td>54.28</td>\n",
       "    </tr>\n",
       "    <tr>\n",
       "      <th>75%</th>\n",
       "      <td>16.51</td>\n",
       "      <td>106.82</td>\n",
       "    </tr>\n",
       "    <tr>\n",
       "      <th>max</th>\n",
       "      <td>21.55</td>\n",
       "      <td>232.07</td>\n",
       "    </tr>\n",
       "  </tbody>\n",
       "</table>\n",
       "</div>"
      ],
      "text/plain": [
       "       close    close\n",
       "count 164.00 3,775.00\n",
       "mean   14.24    66.80\n",
       "std     2.88    56.49\n",
       "min     9.70     1.81\n",
       "25%    12.19    16.67\n",
       "50%    13.59    54.28\n",
       "75%    16.51   106.82\n",
       "max    21.55   232.07"
      ]
     },
     "execution_count": 1008,
     "metadata": {},
     "output_type": "execute_result"
    }
   ],
   "source": [
    "# s1, s2 = '1810.HK', 'AAPL'\n",
    "group_pricing = pd.DataFrame()\n",
    "df1 = get_symbol_pricing(s1, freq, ['close'])\n",
    "df2 = get_symbol_pricing(s2, freq, ['close'])\n",
    "group_pricing = pd.DataFrame(df1)\n",
    "# group_pricing.loc[:, s2] = df2\n",
    "group_pricing = pd.concat([group_pricing, df2], axis=1)\n",
    "group_pricing.describe()\n",
    "# group_pricing"
   ]
  },
  {
   "cell_type": "code",
   "execution_count": 850,
   "metadata": {
    "hidden": true
   },
   "outputs": [
    {
     "data": {
      "text/plain": [
       "(dict_keys(['meta', 'timestamp', 'indicators']), dict_keys(['quote']))"
      ]
     },
     "execution_count": 850,
     "metadata": {},
     "output_type": "execute_result"
    }
   ],
   "source": [
    "path = config['pricing_path'].format(freq)\n",
    "data_dict = json_load(path + json_ext.format(ticker))\n",
    "\n",
    "tz = data_dict['meta']['exchangeTimezoneName']\n",
    "df = build_px_struct(data_dict, freq)\n",
    "\n",
    "adjClose = data_dict['indicators']['adjclose'][0] if 'adjclose' in  data_dict['indicators'] else 0\n",
    "close = data_dict['indicators']['quote'][0]\n",
    "data_dict.keys(), data_dict['indicators'].keys()"
   ]
  },
  {
   "cell_type": "code",
   "execution_count": 916,
   "metadata": {
    "hidden": true
   },
   "outputs": [
    {
     "data": {
      "text/plain": [
       "array([datetime.date(2019, 2, 28), datetime.date(2019, 2, 28),\n",
       "       datetime.date(2019, 2, 28), ..., datetime.date(2019, 3, 6),\n",
       "       datetime.date(2019, 3, 6), datetime.date(2019, 3, 6)], dtype=object)"
      ]
     },
     "execution_count": 916,
     "metadata": {},
     "output_type": "execute_result"
    }
   ],
   "source": [
    "df.index.date"
   ]
  },
  {
   "cell_type": "code",
   "execution_count": 851,
   "metadata": {
    "hidden": true
   },
   "outputs": [
    {
     "data": {
      "text/plain": [
       "DatetimeIndex(['2019-02-28 14:30:00', '2019-02-28 14:31:00',\n",
       "               '2019-02-28 14:32:00', '2019-02-28 14:33:00',\n",
       "               '2019-02-28 14:34:00', '2019-02-28 14:35:00',\n",
       "               '2019-02-28 14:36:00', '2019-02-28 14:37:00',\n",
       "               '2019-02-28 14:38:00', '2019-02-28 14:39:00',\n",
       "               ...\n",
       "               '2019-03-06 20:50:00', '2019-03-06 20:51:00',\n",
       "               '2019-03-06 20:52:00', '2019-03-06 20:53:00',\n",
       "               '2019-03-06 20:54:00', '2019-03-06 20:55:00',\n",
       "               '2019-03-06 20:56:00', '2019-03-06 20:57:00',\n",
       "               '2019-03-06 20:58:00', '2019-03-06 20:59:00'],\n",
       "              dtype='datetime64[ns]', length=1950, freq=None)"
      ]
     },
     "execution_count": 851,
     "metadata": {},
     "output_type": "execute_result"
    }
   ],
   "source": [
    "dates = pd.to_datetime(\n",
    "        data_dict['timestamp'], \n",
    "        unit='s', infer_datetime_format=True)\n",
    "# dates = dates.astype(f'datetime64[ns, {tz}]')\n",
    "# dates.tz_convert('America/New_York')\n",
    "# dates = dates.tz_localize('America/New_York')\n",
    "dates.floor('d' if freq == '1d' else 'min')"
   ]
  },
  {
   "cell_type": "code",
   "execution_count": 829,
   "metadata": {
    "hidden": true
   },
   "outputs": [
    {
     "data": {
      "text/html": [
       "<div>\n",
       "<style scoped>\n",
       "    .dataframe tbody tr th:only-of-type {\n",
       "        vertical-align: middle;\n",
       "    }\n",
       "\n",
       "    .dataframe tbody tr th {\n",
       "        vertical-align: top;\n",
       "    }\n",
       "\n",
       "    .dataframe thead th {\n",
       "        text-align: right;\n",
       "    }\n",
       "</style>\n",
       "<table border=\"1\" class=\"dataframe\">\n",
       "  <thead>\n",
       "    <tr style=\"text-align: right;\">\n",
       "      <th></th>\n",
       "      <th>high</th>\n",
       "      <th>low</th>\n",
       "      <th>open</th>\n",
       "      <th>close</th>\n",
       "      <th>adjclose</th>\n",
       "      <th>volume</th>\n",
       "    </tr>\n",
       "  </thead>\n",
       "  <tbody>\n",
       "    <tr>\n",
       "      <th>2019-03-06 20:55:00</th>\n",
       "      <td>174.72</td>\n",
       "      <td>174.60</td>\n",
       "      <td>174.66</td>\n",
       "      <td>174.71</td>\n",
       "      <td>0</td>\n",
       "      <td>148,802.00</td>\n",
       "    </tr>\n",
       "    <tr>\n",
       "      <th>2019-03-06 20:56:00</th>\n",
       "      <td>174.73</td>\n",
       "      <td>174.67</td>\n",
       "      <td>174.67</td>\n",
       "      <td>174.71</td>\n",
       "      <td>0</td>\n",
       "      <td>37,980.00</td>\n",
       "    </tr>\n",
       "    <tr>\n",
       "      <th>2019-03-06 20:57:00</th>\n",
       "      <td>174.72</td>\n",
       "      <td>174.65</td>\n",
       "      <td>174.71</td>\n",
       "      <td>174.65</td>\n",
       "      <td>0</td>\n",
       "      <td>70,312.00</td>\n",
       "    </tr>\n",
       "    <tr>\n",
       "      <th>2019-03-06 20:58:00</th>\n",
       "      <td>174.80</td>\n",
       "      <td>174.64</td>\n",
       "      <td>174.65</td>\n",
       "      <td>174.76</td>\n",
       "      <td>0</td>\n",
       "      <td>105,856.00</td>\n",
       "    </tr>\n",
       "    <tr>\n",
       "      <th>2019-03-06 20:59:00</th>\n",
       "      <td>174.82</td>\n",
       "      <td>174.46</td>\n",
       "      <td>174.74</td>\n",
       "      <td>174.51</td>\n",
       "      <td>0</td>\n",
       "      <td>385,081.00</td>\n",
       "    </tr>\n",
       "  </tbody>\n",
       "</table>\n",
       "</div>"
      ],
      "text/plain": [
       "                      high    low   open  close  adjclose     volume\n",
       "2019-03-06 20:55:00 174.72 174.60 174.66 174.71         0 148,802.00\n",
       "2019-03-06 20:56:00 174.73 174.67 174.67 174.71         0  37,980.00\n",
       "2019-03-06 20:57:00 174.72 174.65 174.71 174.65         0  70,312.00\n",
       "2019-03-06 20:58:00 174.80 174.64 174.65 174.76         0 105,856.00\n",
       "2019-03-06 20:59:00 174.82 174.46 174.74 174.51         0 385,081.00"
      ]
     },
     "execution_count": 829,
     "metadata": {},
     "output_type": "execute_result"
    }
   ],
   "source": [
    "df.tail(5)"
   ]
  },
  {
   "cell_type": "code",
   "execution_count": 1018,
   "metadata": {
    "hidden": true
   },
   "outputs": [],
   "source": [
    "freq = '1d'"
   ]
  },
  {
   "cell_type": "code",
   "execution_count": 1019,
   "metadata": {
    "hidden": true
   },
   "outputs": [
    {
     "name": "stdout",
     "output_type": "stream",
     "text": [
      "Retrieved pricing for 0700.HK\n",
      "Retrieved pricing for 1810.HK\n",
      "Retrieved pricing for 3690.HK\n",
      "Retrieved pricing for 9984.T\n",
      "Retrieved pricing for A\n",
      "Retrieved pricing for AAL\n",
      "Retrieved pricing for AAN\n",
      "Retrieved pricing for AAON\n",
      "Retrieved pricing for AAP\n",
      "Retrieved pricing for AAPL\n",
      "CPU times: user 1.05 s, sys: 45.5 ms, total: 1.1 s\n",
      "Wall time: 3.91 s\n"
     ]
    }
   ],
   "source": [
    "%time px_close = get_mults_pricing(symbols_list[:10], freq);"
   ]
  },
  {
   "cell_type": "code",
   "execution_count": 1022,
   "metadata": {
    "hidden": true
   },
   "outputs": [
    {
     "data": {
      "text/html": [
       "<div>\n",
       "<style scoped>\n",
       "    .dataframe tbody tr th:only-of-type {\n",
       "        vertical-align: middle;\n",
       "    }\n",
       "\n",
       "    .dataframe tbody tr th {\n",
       "        vertical-align: top;\n",
       "    }\n",
       "\n",
       "    .dataframe thead th {\n",
       "        text-align: right;\n",
       "    }\n",
       "</style>\n",
       "<table border=\"1\" class=\"dataframe\">\n",
       "  <thead>\n",
       "    <tr style=\"text-align: right;\">\n",
       "      <th></th>\n",
       "      <th>0700.HK</th>\n",
       "      <th>0700.HK</th>\n",
       "      <th>1810.HK</th>\n",
       "      <th>3690.HK</th>\n",
       "      <th>9984.T</th>\n",
       "      <th>A</th>\n",
       "      <th>AAL</th>\n",
       "      <th>AAN</th>\n",
       "      <th>AAON</th>\n",
       "      <th>AAP</th>\n",
       "      <th>AAPL</th>\n",
       "    </tr>\n",
       "  </thead>\n",
       "  <tbody>\n",
       "    <tr>\n",
       "      <th>count</th>\n",
       "      <td>3,634.00</td>\n",
       "      <td>3,634.00</td>\n",
       "      <td>164.00</td>\n",
       "      <td>111.00</td>\n",
       "      <td>3,743.00</td>\n",
       "      <td>3,775.00</td>\n",
       "      <td>3,382.00</td>\n",
       "      <td>3,775.00</td>\n",
       "      <td>1,258.00</td>\n",
       "      <td>3,775.00</td>\n",
       "      <td>3,775.00</td>\n",
       "    </tr>\n",
       "    <tr>\n",
       "      <th>mean</th>\n",
       "      <td>94.03</td>\n",
       "      <td>94.03</td>\n",
       "      <td>14.24</td>\n",
       "      <td>54.89</td>\n",
       "      <td>4,406.54</td>\n",
       "      <td>33.28</td>\n",
       "      <td>26.97</td>\n",
       "      <td>23.86</td>\n",
       "      <td>28.76</td>\n",
       "      <td>81.72</td>\n",
       "      <td>66.80</td>\n",
       "    </tr>\n",
       "    <tr>\n",
       "      <th>std</th>\n",
       "      <td>115.76</td>\n",
       "      <td>115.76</td>\n",
       "      <td>2.88</td>\n",
       "      <td>7.61</td>\n",
       "      <td>2,785.93</td>\n",
       "      <td>15.49</td>\n",
       "      <td>17.32</td>\n",
       "      <td>10.35</td>\n",
       "      <td>6.93</td>\n",
       "      <td>49.29</td>\n",
       "      <td>56.49</td>\n",
       "    </tr>\n",
       "    <tr>\n",
       "      <th>min</th>\n",
       "      <td>0.68</td>\n",
       "      <td>0.68</td>\n",
       "      <td>9.70</td>\n",
       "      <td>41.20</td>\n",
       "      <td>650.00</td>\n",
       "      <td>8.90</td>\n",
       "      <td>1.76</td>\n",
       "      <td>9.33</td>\n",
       "      <td>16.97</td>\n",
       "      <td>22.10</td>\n",
       "      <td>1.81</td>\n",
       "    </tr>\n",
       "    <tr>\n",
       "      <th>25%</th>\n",
       "      <td>9.51</td>\n",
       "      <td>9.51</td>\n",
       "      <td>12.19</td>\n",
       "      <td>48.45</td>\n",
       "      <td>2,148.00</td>\n",
       "      <td>22.63</td>\n",
       "      <td>9.12</td>\n",
       "      <td>14.67</td>\n",
       "      <td>22.29</td>\n",
       "      <td>39.16</td>\n",
       "      <td>16.67</td>\n",
       "    </tr>\n",
       "    <tr>\n",
       "      <th>50%</th>\n",
       "      <td>40.18</td>\n",
       "      <td>40.18</td>\n",
       "      <td>13.59</td>\n",
       "      <td>55.00</td>\n",
       "      <td>2,960.00</td>\n",
       "      <td>27.83</td>\n",
       "      <td>30.26</td>\n",
       "      <td>23.71</td>\n",
       "      <td>28.15</td>\n",
       "      <td>66.07</td>\n",
       "      <td>54.28</td>\n",
       "    </tr>\n",
       "    <tr>\n",
       "      <th>75%</th>\n",
       "      <td>142.08</td>\n",
       "      <td>142.08</td>\n",
       "      <td>16.51</td>\n",
       "      <td>59.82</td>\n",
       "      <td>7,127.50</td>\n",
       "      <td>40.84</td>\n",
       "      <td>42.34</td>\n",
       "      <td>29.12</td>\n",
       "      <td>35.06</td>\n",
       "      <td>126.80</td>\n",
       "      <td>106.82</td>\n",
       "    </tr>\n",
       "    <tr>\n",
       "      <th>max</th>\n",
       "      <td>474.60</td>\n",
       "      <td>474.60</td>\n",
       "      <td>21.55</td>\n",
       "      <td>72.65</td>\n",
       "      <td>11,470.00</td>\n",
       "      <td>81.24</td>\n",
       "      <td>62.95</td>\n",
       "      <td>55.45</td>\n",
       "      <td>43.83</td>\n",
       "      <td>200.38</td>\n",
       "      <td>232.07</td>\n",
       "    </tr>\n",
       "  </tbody>\n",
       "</table>\n",
       "</div>"
      ],
      "text/plain": [
       "       0700.HK  0700.HK  1810.HK  3690.HK    9984.T        A      AAL  \\\n",
       "count 3,634.00 3,634.00   164.00   111.00  3,743.00 3,775.00 3,382.00   \n",
       "mean     94.03    94.03    14.24    54.89  4,406.54    33.28    26.97   \n",
       "std     115.76   115.76     2.88     7.61  2,785.93    15.49    17.32   \n",
       "min       0.68     0.68     9.70    41.20    650.00     8.90     1.76   \n",
       "25%       9.51     9.51    12.19    48.45  2,148.00    22.63     9.12   \n",
       "50%      40.18    40.18    13.59    55.00  2,960.00    27.83    30.26   \n",
       "75%     142.08   142.08    16.51    59.82  7,127.50    40.84    42.34   \n",
       "max     474.60   474.60    21.55    72.65 11,470.00    81.24    62.95   \n",
       "\n",
       "           AAN     AAON      AAP     AAPL  \n",
       "count 3,775.00 1,258.00 3,775.00 3,775.00  \n",
       "mean     23.86    28.76    81.72    66.80  \n",
       "std      10.35     6.93    49.29    56.49  \n",
       "min       9.33    16.97    22.10     1.81  \n",
       "25%      14.67    22.29    39.16    16.67  \n",
       "50%      23.71    28.15    66.07    54.28  \n",
       "75%      29.12    35.06   126.80   106.82  \n",
       "max      55.45    43.83   200.38   232.07  "
      ]
     },
     "execution_count": 1022,
     "metadata": {},
     "output_type": "execute_result"
    }
   ],
   "source": [
    "# [px_close[x].dropna().tail() for x in px_close.columns]\n",
    "px_close.describe()\n",
    "# px_close.tail()"
   ]
  },
  {
   "cell_type": "code",
   "execution_count": 1023,
   "metadata": {
    "hidden": true
   },
   "outputs": [
    {
     "data": {
      "text/plain": [
       "'Ticker: AAPL'"
      ]
     },
     "execution_count": 1023,
     "metadata": {},
     "output_type": "execute_result"
    }
   ],
   "source": [
    "f'Ticker: {ticker}'"
   ]
  },
  {
   "cell_type": "code",
   "execution_count": 1024,
   "metadata": {
    "hidden": true
   },
   "outputs": [
    {
     "data": {
      "text/plain": [
       "2019-02-28 00:00:00-05:00   173.15\n",
       "2019-03-01 00:00:00-05:00   174.97\n",
       "2019-03-04 00:00:00-05:00   175.85\n",
       "2019-03-05 00:00:00-05:00   175.53\n",
       "2019-03-06 00:00:00-05:00   174.52\n",
       "Name: close, dtype: float64"
      ]
     },
     "execution_count": 1024,
     "metadata": {},
     "output_type": "execute_result"
    }
   ],
   "source": [
    "px = get_symbol_pricing(ticker, freq)\n",
    "px.close.tail()"
   ]
  },
  {
   "cell_type": "markdown",
   "metadata": {
    "heading_collapsed": true
   },
   "source": [
    "#### Retrieve datasets from S3"
   ]
  },
  {
   "cell_type": "code",
   "execution_count": 1860,
   "metadata": {
    "hidden": true,
    "scrolled": true
   },
   "outputs": [],
   "source": [
    "# # %%time\n",
    "# # OLD VERSION: retrieves dataset for historical dates\n",
    "# daily_df = get_daily_ts(key, ds_dict, load_dates)\n",
    "# # Make index a flat date, easier to index\n",
    "# daily_df.index = daily_df.index.date\n",
    "# # save down to drive if refresh pricing\n",
    "# os.makedirs('tmp', exist_ok=True)\n",
    "# daily_df.to_parquet('tmp/' + key)"
   ]
  },
  {
   "cell_type": "code",
   "execution_count": 1996,
   "metadata": {
    "hidden": true
   },
   "outputs": [],
   "source": [
    "# daily_df = pd.read_parquet('tmp/' + key)"
   ]
  },
  {
   "cell_type": "markdown",
   "metadata": {
    "heading_collapsed": true
   },
   "source": [
    "#### Double check no duplicates"
   ]
  },
  {
   "cell_type": "code",
   "execution_count": null,
   "metadata": {
    "hidden": true
   },
   "outputs": [],
   "source": [
    "# daily_df.describe()\n",
    "daily_df[daily_df.symbol.isin(symbols_list)].reset_index()\\\n",
    "    .groupby(by=['index'])['symbol'].count().sort_index()"
   ]
  },
  {
   "cell_type": "code",
   "execution_count": 1795,
   "metadata": {
    "hidden": true
   },
   "outputs": [],
   "source": [
    "date_str = \"2018-10-03\"\n",
    "datetime.fromtimestamp(1538352000.0)"
   ]
  },
  {
   "cell_type": "code",
   "execution_count": null,
   "metadata": {
    "hidden": true
   },
   "outputs": [],
   "source": [
    "df = daily_df.loc[date_str, :]\n",
    "df.count(), df.symbol.unique().shape, df.iloc[-1]"
   ]
  },
  {
   "cell_type": "code",
   "execution_count": null,
   "metadata": {
    "hidden": true
   },
   "outputs": [],
   "source": [
    "df = pd.read_csv(date_str + '.csv', parse_dates=True)\n",
    "df.describe(include='all').T\n",
    "# df.drop_duplicates(subset=['symbol'], inplace=True)\n",
    "# df.to_csv(date_str + '.csv', index=False, index_label=False)"
   ]
  },
  {
   "cell_type": "markdown",
   "metadata": {
    "heading_collapsed": true
   },
   "source": [
    "#### Multi-index slicing"
   ]
  },
  {
   "cell_type": "code",
   "execution_count": 1573,
   "metadata": {
    "hidden": true
   },
   "outputs": [],
   "source": [
    "# Multi-index slicing\n",
    "# stacked_px.loc[(slice(None), ticker), :]\n",
    "# us_df.loc[daily_df.loc[(slice(None), ticker), :].index, :]\n",
    "# daily_df.loc[(slice(None), ticker), :].index.levels[0]\n",
    "# us_df.loc[(slice(None), ticker), :]\n",
    "# px_close[ticker]\n",
    "# daily_df.index.levels[1].unique()\n",
    "# Y_df.index.levels[1].unique()\n",
    "\n",
    "# idx = pd.IndexSlice\n",
    "# daily_df.loc[idx[:, ticker], idx[:]]\n",
    "# daily_df.loc[(slice(None), slice(None)), :].sort_index(ascending=False)\n",
    "\n",
    "# daily_df.loc[(slice(None), slice(None)), :].sort_values(by='ebitda', ascending=False)\n",
    "# stacked_px.loc[(co_df.index.levels[0].date, ticker), :]"
   ]
  },
  {
   "cell_type": "code",
   "execution_count": 320,
   "metadata": {
    "hidden": true
   },
   "outputs": [],
   "source": [
    "# does the DS need to be transform from long to wide?\n",
    "# made this function part of the pre_processing pipeline\n",
    "if 'period' in active_df.columns:\n",
    "    active_df.groupby(by='period').count()\n",
    "    active_df = df_wide_transform(active_df, periods, pre)\n",
    "active_df.describe().T"
   ]
  },
  {
   "cell_type": "code",
   "execution_count": null,
   "metadata": {
    "hidden": true
   },
   "outputs": [],
   "source": [
    "# divide target Low, Mean, Median, and High by closing price\n",
    "ds_dict, key = context['ds_dict'], context['key']\n",
    "perc_price_cols = ds_dict[key]['perc_price']\n",
    "hist_price_df = px_close.loc[wide_df.index, ticker]\n",
    "(wide_df[perc_price_cols] / hist_price_df.values).plot()"
   ]
  },
  {
   "cell_type": "code",
   "execution_count": null,
   "metadata": {
    "hidden": true
   },
   "outputs": [],
   "source": [
    "# eps_revisions pivot transformations\n",
    "def pivot_frame(df, inds, cols, vals):\n",
    "    pvt_df = df.pivot_table(index=inds, columns=cols, values=vals)\n",
    "    return pvt_df\n",
    "\n",
    "pvt_df = pivot_frame(one_co, ['storeDate', 'symbol'], ['period'], ['avg'])\n",
    "# drop index after numerial operations\n",
    "delta = (pvt_df - pvt_df.shift(1)).dropna()\n",
    "delta.reset_index(level=1, inplace=True)\n",
    "delta.tail(20)"
   ]
  },
  {
   "cell_type": "code",
   "execution_count": 490,
   "metadata": {
    "hidden": true
   },
   "outputs": [],
   "source": [
    "# applies only to numeric fields\n",
    "fields = one_co.columns[one_co.dtypes.apply(is_numeric_dtype).values]\n",
    "super_list = []\n",
    "for p in periods:\n",
    "    p_filter = one_co[one_co.period == p].sort_index()[fields]\n",
    "    df = p_filter.rename(columns=col_mapper(pre, fields, p))\n",
    "    super_list.append(df)\n",
    "wide_df = pd.concat(super_list, axis=1, sort=True)"
   ]
  },
  {
   "cell_type": "code",
   "execution_count": 151,
   "metadata": {
    "hidden": true
   },
   "outputs": [
    {
     "data": {
      "text/plain": [
       "['2018-09-07', '2018-09-10', '2018-09-11', '2018-09-12']"
      ]
     },
     "execution_count": 151,
     "metadata": {},
     "output_type": "execute_result"
    }
   ],
   "source": [
    "dates = ['quote/', 'quote/2018-09-07.json', 'quote/2018-09-10.json', 'quote/2018-09-11.json', 'quote/2018-09-12.json',]\n",
    "# s = 'quote/2018-09-07.json'\n",
    "[s[::-1].split('/')[0][::-1].split(ext)[0] for s in dates if ext in s]"
   ]
  },
  {
   "cell_type": "code",
   "execution_count": null,
   "metadata": {
    "hidden": true
   },
   "outputs": [],
   "source": [
    "s3client = boto3.client('s3', 'us-west-2')\n",
    "ext = '.csv'\n",
    "dataset = 'summary-categories/defaultKeyStatistics/'\n",
    "ds_list = [x['Key'] for x in s3client.list_objects(Bucket=BUCKET_NAME, Prefix=dataset)['Contents']]\n",
    "ds_list = [s[::-1].split('/')[0][::-1].split(ext)[0] for s in ds_list if ext in s]\n",
    "sorted(ds_list)"
   ]
  },
  {
   "cell_type": "code",
   "execution_count": 8,
   "metadata": {
    "code_folding": [],
    "hidden": true
   },
   "outputs": [
    {
     "data": {
      "text/plain": [
       "[<matplotlib.lines.Line2D at 0x111469cf8>]"
      ]
     },
     "execution_count": 8,
     "metadata": {},
     "output_type": "execute_result"
    },
    {
     "data": {
      "image/png": "[encoded data removed]",
      "text/plain": [
       "<Figure size 432x288 with 1 Axes>"
      ]
     },
     "metadata": {
      "needs_background": "light"
     },
     "output_type": "display_data"
    }
   ],
   "source": [
    "# Test cumulative drawdowns and pulls\n",
    "n = 100\n",
    "r_w = np.random.randn(n).cumsum() + 100\n",
    "l_dd, h_dd, l_p, h_p = max_draw_pull(r_w)\n",
    "\n",
    "plt.plot(r_w)\n",
    "plt.plot(\n",
    "    [l_dd, h_dd], \n",
    "    [r_w[l_dd], r_w[h_dd],], \n",
    "    'o', color='Red', markersize=10)\n",
    "plt.plot(\n",
    "    [l_p, h_p], \n",
    "    [r_w[l_p], r_w[h_p]], \n",
    "    'o', color='Green', markersize=10)"
   ]
  },
  {
   "cell_type": "code",
   "execution_count": 1103,
   "metadata": {
    "hidden": true
   },
   "outputs": [],
   "source": [
    "# Retrieves historical pricing\n",
    "secpx = get_symbol_pricing(symbol, freq)\n",
    "secpx.set_index(secpx.index.astype(np.datetime64), inplace=True)"
   ]
  },
  {
   "cell_type": "code",
   "execution_count": 1110,
   "metadata": {
    "hidden": true
   },
   "outputs": [],
   "source": [
    "fwd_ss_ret = lambda x, df, arr: df.loc[[y for y in arr[x-1] if y in df.index.tolist()]].mean()"
   ]
  },
  {
   "cell_type": "code",
   "execution_count": 1111,
   "metadata": {
    "hidden": true
   },
   "outputs": [],
   "source": [
    "# seasonality analysis\n",
    "ss_df = closepx.pct_change().resample('M').sum().to_frame()\n",
    "ss_df['year'], ss_df['month'] = ss_df.index.year, ss_df.index.month\n",
    "ss_df = ss_df.pivot_table(index='year', columns='month').mean()\n",
    "ss_pos = [(x, (x+1) if not (x+1) // 12 else 0, \n",
    "     x+2 if not (x+2) // 12 else x - 10) for x in range(12)]\n",
    "\n",
    "# [fwd_ss_ret(x+1, ss_df['close'], ss_pos) for x in range(12)] # test"
   ]
  },
  {
   "cell_type": "code",
   "execution_count": 1112,
   "metadata": {
    "hidden": true
   },
   "outputs": [],
   "source": [
    "# apply seasonality, mean return of curr month plus next two\n",
    "secpx['month'] = secpx.index.month\n",
    "secpx['fwdSSRet'] = secpx.loc[:].month.apply(\n",
    "    fwd_ss_ret, args=(ss_df['close'], ss_pos,))"
   ]
  },
  {
   "cell_type": "code",
   "execution_count": null,
   "metadata": {
    "hidden": true
   },
   "outputs": [],
   "source": [
    "secpx.columns # all columns"
   ]
  },
  {
   "cell_type": "code",
   "execution_count": null,
   "metadata": {
    "hidden": true
   },
   "outputs": [],
   "source": [
    "# normalized columns for ML training, still has outliers\n",
    "ml_ds_cols = secpx.describe().loc['50%'][secpx.describe().loc['50%'] < 5].index.tolist()\n",
    "ml_ds_cols"
   ]
  },
  {
   "cell_type": "code",
   "execution_count": null,
   "metadata": {
    "hidden": true
   },
   "outputs": [],
   "source": [
    "# prepare ML dataset\n",
    "ml_ds = secpx[ml_ds_cols].copy()\n",
    "\n",
    "class_cols = ['fwdChg1w', 'fwdChg1m', 'fwdChg3m']\n",
    "cut_range = [-1, -0.05, .0, .02, .09, 1.]\n",
    "fwd_ret_labels = [\"bear\", \"short\", \"neutral\", \"long\", \"bull\"]\n",
    "\n",
    "for c in class_cols: ml_ds[c] = pd.cut(secpx[c], cut_range, labels=fwd_ret_labels)\n",
    "ml_ds.info()"
   ]
  },
  {
   "cell_type": "code",
   "execution_count": null,
   "metadata": {
    "hidden": true
   },
   "outputs": [],
   "source": [
    "# drop the predicting class with most nas\n",
    "ml_ds.dropna(inplace=True)\n",
    "ml_ds.info()"
   ]
  },
  {
   "cell_type": "code",
   "execution_count": null,
   "metadata": {
    "hidden": true
   },
   "outputs": [],
   "source": [
    "ml_ds.hist(figsize=(15,15));"
   ]
  },
  {
   "cell_type": "code",
   "execution_count": 622,
   "metadata": {
    "hidden": true
   },
   "outputs": [],
   "source": [
    "ml_ds.to_csv(csv_ext.format('co_price_mom_ds'), index=False)"
   ]
  }
 ],
 "metadata": {
  "kernelspec": {
   "display_name": "Python 3",
   "language": "python",
   "name": "python3"
  },
  "language_info": {
   "codemirror_mode": {
    "name": "ipython",
    "version": 3
   },
   "file_extension": ".py",
   "mimetype": "text/x-python",
   "name": "python",
   "nbconvert_exporter": "python",
   "pygments_lexer": "ipython3",
   "version": "3.7.2"
  }
 },
 "nbformat": 4,
 "nbformat_minor": 2
}
