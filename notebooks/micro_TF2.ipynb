{
 "cells": [
  {
   "cell_type": "code",
   "execution_count": 1,
   "metadata": {
    "code_folding": []
   },
   "outputs": [
    {
     "name": "stdout",
     "output_type": "stream",
     "text": [
      "Loading utils/config.json\n"
     ]
    },
    {
     "name": "stderr",
     "output_type": "stream",
     "text": [
      "Using TensorFlow backend.\n"
     ]
    }
   ],
   "source": [
    "#imports\n",
    "%reload_ext autoreload\n",
    "%autoreload 2\n",
    "%matplotlib inline \n",
    "\n",
    "from matplotlib import pyplot as plt\n",
    "\n",
    "from utils.basic_utils import *\n",
    "from utils.fundamental import chain_outlier, get_focus_tickers, best_performers\n",
    "from utils.pricing import load_px_close, get_return_intervals \n",
    "from utils.pricing import dummy_col, discret_rets, sample_wgts, px_fwd_ret\n",
    "from utils.pricing import px_mom_feats, px_mom_co_feats_light, px_fwd_rets, get_ind_index\n",
    "from utils.pricing import eq_wgt_indices, to_index_form, rename_col\n",
    "from utils.TechnicalDS import TechnicalDS\n",
    "\n",
    "pd.options.display.float_format = '{:,.2f}'.format\n",
    "\n",
    "import time, os, sys\n",
    "from tqdm import tqdm\n",
    "\n",
    "from sklearn import preprocessing\n",
    "from sklearn.preprocessing import StandardScaler\n",
    "from sklearn.model_selection import train_test_split\n",
    "from sklearn.utils.multiclass import unique_labels\n",
    "from sklearn.metrics import confusion_matrix, classification_report\n",
    "from sklearn.metrics import accuracy_score, log_loss, precision_recall_fscore_support\n",
    "from sklearn.metrics import precision_score, roc_auc_score\n",
    "\n",
    "from sklearn.model_selection import StratifiedShuffleSplit\n",
    "from sklearn.model_selection import StratifiedKFold\n",
    "from sklearn.neural_network import MLPClassifier\n",
    "from sklearn.ensemble import VotingClassifier\n",
    "from sklearn.ensemble import RandomForestClassifier\n",
    "from sklearn.ensemble import ExtraTreesClassifier\n",
    "\n",
    "import numpy as np\n",
    "import keras\n",
    "from keras.models import Sequential, load_model\n",
    "from keras.layers import Dense, Dropout, Activation\n",
    "from keras.optimizers import SGD, Adam, Adagrad, Adadelta, Adamax, Nadam, RMSprop\n",
    "from keras.callbacks import EarlyStopping, ModelCheckpoint\n",
    "from keras.callbacks import CSVLogger\n",
    "from keras.layers import BatchNormalization"
   ]
  },
  {
   "cell_type": "code",
   "execution_count": 2,
   "metadata": {},
   "outputs": [
    {
     "data": {
      "text/plain": [
       "[]"
      ]
     },
     "execution_count": 2,
     "metadata": {},
     "output_type": "execute_result"
    }
   ],
   "source": [
    "from keras import backend as K\n",
    "K.tensorflow_backend._get_available_gpus()"
   ]
  },
  {
   "cell_type": "markdown",
   "metadata": {},
   "source": [
    "### Context data"
   ]
  },
  {
   "cell_type": "code",
   "execution_count": 3,
   "metadata": {
    "code_folding": []
   },
   "outputs": [],
   "source": [
    "# context\n",
    "context = {\n",
    "    'ml_path': '../ML/',\n",
    "    'model_name': 'micro_TF.h5',\n",
    "    'tmp_path': '../tmp/',\n",
    "    'ds_name': 'co-technicals-ds',\n",
    "    'px_vol_ds': 'universe-px-vol-ds.h5',\n",
    "    'trained_cols': 'micro_TF_train_cols.npy',\n",
    "    'look_ahead': 120,\n",
    "    'look_back': 252*3,\n",
    "    'load_ds': True,\n",
    "    'scale': True,\n",
    "    'test_size': .05,\n",
    "    'verbose': True,\n",
    "    's3_path': 'recommend/micro_ML/',\n",
    "    'units': 300, #850\n",
    "    'max_iter': 10, #50\n",
    "    'l2_reg': 0.01,\n",
    "}"
   ]
  },
  {
   "cell_type": "code",
   "execution_count": 4,
   "metadata": {
    "code_folding": []
   },
   "outputs": [],
   "source": [
    "# get latest pricing file from inferece server\n",
    "# px_close_ds = context['px_close']\n",
    "# tmp_path = context['tmp_path']\n",
    "# os.makedirs(tmp_path, exist_ok=True)\n",
    "# !scp -i ~/.ssh/qc_infra.pem ubuntu@52.13.205.29:~/inception/tmp/{px_close_ds} {tmp_path}{px_close_ds}"
   ]
  },
  {
   "cell_type": "code",
   "execution_count": 5,
   "metadata": {},
   "outputs": [
    {
     "name": "stdout",
     "output_type": "stream",
     "text": [
      "Target date: 2019-05-22\n",
      "Loading file quote/csv/2019-05-22\n",
      "Loading file summary-categories/assetProfile\n",
      "Sectors: 11, Industries: 136\n",
      "251 companies above 3.007x in the last 7.0 years\n"
     ]
    }
   ],
   "source": [
    "tech_ds = TechnicalDS(\n",
    "    context['tmp_path'], \n",
    "    context['px_vol_ds'], \n",
    "    load_ds=True, \n",
    "    look_ahead=context['look_ahead'], \n",
    "    max_draw_on=True)\n",
    "y_col = tech_ds.ycol_name"
   ]
  },
  {
   "cell_type": "markdown",
   "metadata": {},
   "source": [
    "### Final"
   ]
  },
  {
   "cell_type": "code",
   "execution_count": 11,
   "metadata": {
    "code_folding": [
     0
    ]
   },
   "outputs": [],
   "source": [
    "def pre_process_ds(context):\n",
    "    \n",
    "    raw_df = tech_ds.stitch_companies_groups()\n",
    "    print(f'Shape excluding NAs: {raw_df.shape}')\n",
    "    \n",
    "    symbols = raw_df.reset_index().set_index(['symbol']).index\n",
    "    sector_map = tech_ds.profile.loc[tech_ds.tickers,'sector'].to_dict()\n",
    "    raw_df.loc[:, 'sector'] = symbols.map(sector_map)\n",
    "    \n",
    "    raw_df = chain_outlier(raw_df, None)\n",
    "        \n",
    "    # basic impute and scaling\n",
    "    scale_on = context['scale']\n",
    "    scaler = StandardScaler()\n",
    "    num_cols = numeric_cols(raw_df)\n",
    "    # raw_df.loc[:, num_cols] = raw_df[num_cols].replace([np.inf, -np.inf, np.nan], 0)\n",
    "\n",
    "    if scale_on: raw_df.loc[:, num_cols] = scaler.fit_transform(raw_df[num_cols])\n",
    "\n",
    "    # add categoricals\n",
    "    raw_df.dropna(subset=['sector'], inplace=True)\n",
    "    raw_df = dummy_col(raw_df, 'sector', shorten=True)\n",
    "    \n",
    "    return raw_df"
   ]
  },
  {
   "cell_type": "code",
   "execution_count": 12,
   "metadata": {
    "code_folding": [
     0
    ]
   },
   "outputs": [],
   "source": [
    "def get_train_test_sets(context):\n",
    "    \n",
    "    verbose = context['verbose']\n",
    "    ml_path, model_name = context['ml_path'], context['model_name']\n",
    "    trained_cols = context['trained_cols']    \n",
    "    test_size = context['test_size']\n",
    "\n",
    "    joined_df = pre_process_ds(context)\n",
    "    \n",
    "    cut_range = tech_ds.return_intervals()\n",
    "    TechnicalDS.labelize_ycol(\n",
    "        joined_df, tech_ds.ycol_name, \n",
    "        cut_range, tech_ds.forward_return_labels)\n",
    "    \n",
    "    joined_df.dropna(inplace=True)\n",
    "    days = len(joined_df.index.levels[0].unique())\n",
    "    print(f'Training for {days} dates, {round(days/252, 1)} years')\n",
    "\n",
    "    train_df = joined_df.reset_index(drop=True) # drop date\n",
    "#     train_df.drop(columns=['symbol'], inplace=True)\n",
    "    print(f'Pre X, y columns: {train_df.columns}')\n",
    "                               \n",
    "    # create training and test sets\n",
    "    X, y = train_df.drop(columns=y_col), train_df[y_col]\n",
    "    sss = StratifiedShuffleSplit(n_splits=1, test_size=test_size, random_state=42)\n",
    "    for train_index, test_index in sss.split(X, y):\n",
    "        X_train, X_test = X.iloc[train_index], X.iloc[test_index]\n",
    "        y_train, y_test = y.iloc[train_index], y.iloc[test_index]\n",
    "        break # just one split\n",
    "\n",
    "    # skf = StratifiedKFold(n_splits=2, random_state=None)\n",
    "    # for train_index, test_index in skf.split(X, y):\n",
    "    #     X_train, X_test = X.iloc[train_index], X.iloc[test_index]\n",
    "    #     y_train, y_test = y.iloc[train_index], y.iloc[test_index]\n",
    "    #     break\n",
    "          \n",
    "    return X_train, X_test, y_train, y_test"
   ]
  },
  {
   "cell_type": "code",
   "execution_count": 13,
   "metadata": {
    "code_folding": [
     0
    ]
   },
   "outputs": [],
   "source": [
    "def train_ds(context):\n",
    "    \n",
    "    max_iter = context['max_iter']\n",
    "    l2_reg = context['l2_reg']\n",
    "    units = context['units']\n",
    "    trained_cols = context['trained_cols']\n",
    "\n",
    "    X_train, X_test, y_train, y_test = get_train_test_sets(context)\n",
    "\n",
    "    y_train_oh = pd.get_dummies(y_train)[tech_ds.forward_return_labels]\n",
    "    y_test_oh = pd.get_dummies(y_test)[tech_ds.forward_return_labels]\n",
    "\n",
    "    # Keras Model\n",
    "    model = Sequential()\n",
    "    model.add(Dense(units, input_dim=X_train.shape[1], use_bias=False))\n",
    "    model.add(BatchNormalization())\n",
    "    model.add(Activation(\"relu\"))\n",
    "    model.add(Dense(units, use_bias=False))\n",
    "    model.add(BatchNormalization())\n",
    "    model.add(Activation(\"relu\"))\n",
    "    model.add(Dense(units, use_bias=False))\n",
    "    model.add(BatchNormalization())\n",
    "    model.add(Activation(\"relu\"))\n",
    "    model.add(Dense(int(units/2), use_bias=False))\n",
    "    model.add(BatchNormalization())\n",
    "    model.add(Activation(\"relu\"))\n",
    "    model.add(Dense(len(pd.unique(y_train)), activation='softmax'))\n",
    "    keras.regularizers.l2(l2_reg)\n",
    "\n",
    "    opt = Adam()\n",
    "\n",
    "    ml_path, model_name = context['ml_path'], context['model_name']\n",
    "    fname = ml_path + model_name\n",
    "\n",
    "    es = EarlyStopping(monitor='loss', patience=10, restore_best_weights=True, verbose=1)\n",
    "    checkpointer = ModelCheckpoint(filepath=fname, verbose=1, save_best_only=True)\n",
    "    csv_logger = CSVLogger('micro-train.log')\n",
    "\n",
    "    # save training columns\n",
    "    np.save(ml_path + trained_cols, X_train.columns) # save feature order\n",
    "    print(f'X_train.shape {X_train.shape}, columns: {list(X_train.columns)}')\n",
    "    print('Saved: ', ml_path + trained_cols)    \n",
    "\n",
    "    model.compile(loss='categorical_crossentropy', optimizer=opt, metrics=['accuracy'])\n",
    "    history = model.fit(X_train, y_train_oh, validation_data=(X_test, y_test_oh), \n",
    "              epochs=max_iter, batch_size=64, callbacks=[es, checkpointer, csv_logger])\n",
    "\n",
    "    score = model.evaluate(X_test, y_test_oh)\n",
    "    print(f'Test loss: {score[0]}, Test accuracy: {score[1]}')"
   ]
  },
  {
   "cell_type": "code",
   "execution_count": 14,
   "metadata": {
    "code_folding": [
     0
    ]
   },
   "outputs": [],
   "source": [
    "def predict_ds(context):\n",
    "    \n",
    "    ml_path = context['ml_path']\n",
    "    model_name = context['model_name']\n",
    "    trained_cols = context['trained_cols']\n",
    "    look_back = context['look_back']\n",
    "    \n",
    "    joined_df = pre_process_ds(context)\n",
    "    joined_df.reset_index(level=1, inplace=True)\n",
    "    pred_X = joined_df.loc[joined_df.sort_index().index.unique()[-look_back:], :]\n",
    "    print('pred_X.shape', pred_X.shape)\n",
    "\n",
    "    # ensure prediction dataset is consistent with trained model\n",
    "    train_cols = np.load(ml_path + trained_cols, allow_pickle=True) # save feature order\n",
    "    missing_cols = [x for x in train_cols if x not in pred_X.columns]\n",
    "    if len(missing_cols):\n",
    "        print(f'Warning missing columns: {missing_cols}')\n",
    "        for c in missing_cols: pred_X[c] = 0\n",
    "\n",
    "    sorted_cols = list(np.append(train_cols, ['symbol']))\n",
    "    print('pred_X.shape', pred_X[sorted_cols].shape)\n",
    "\n",
    "    pred_df = pd.DataFrame()\n",
    "    pred_df['symbol'] = pred_X.symbol\n",
    "\n",
    "    # Load model    \n",
    "    fname = ml_path + model_name\n",
    "    model = load_model(fname)\n",
    "    print('Loaded', fname)\n",
    "\n",
    "    preds = model.predict(pred_X[sorted_cols].iloc[:, :-1])\n",
    "    preds_classes = model.predict_classes(pred_X[sorted_cols].iloc[:, :-1])    \n",
    "\n",
    "    labels = tech_ds.forward_return_labels\n",
    "    pred_df['pred_class'] = preds_classes\n",
    "    pred_df['pred_label'] = list(map(lambda x: labels[x], preds_classes))\n",
    "    probs = np.round(preds,3)\n",
    "    pred_prob = np.argmax(probs, axis=1)\n",
    "    pred_df['confidence'] = [x[np.argmax(x)] for x in probs] # higest prob\n",
    "    prob_df = pd.DataFrame(probs, index=pred_df.index, columns=labels)\n",
    "    pred_df = pd.concat([pred_df, prob_df[labels]], axis=1)\n",
    "    pred_df.index.name = 'pred_date'    \n",
    "    \n",
    "    # store in S3\n",
    "    s3_path = context['s3_path']\n",
    "    s3_df = pred_df.reset_index(drop=False)\n",
    "    rename_col(s3_df, 'index', 'pred_date')\n",
    "    csv_store(s3_df, s3_path, csv_ext.format(tech_ds.tgt_date))\n",
    "            \n",
    "    return pred_df"
   ]
  },
  {
   "cell_type": "markdown",
   "metadata": {
    "heading_collapsed": true
   },
   "source": [
    "#### Train"
   ]
  },
  {
   "cell_type": "code",
   "execution_count": 10,
   "metadata": {
    "hidden": true,
    "scrolled": false
   },
   "outputs": [
    {
     "name": "stdout",
     "output_type": "stream",
     "text": [
      "OCLHV dataframes\n",
      "Inverting instruments\n",
      "Change dataframes\n",
      "Relative performance dataframes\n",
      "Relative volume and dollar value dataframes\n",
      "Realized volatility dataframe\n",
      "Percentage change stds dataframes\n",
      "Ranked returns dataframes\n",
      "Max draw/pull dataframes\n",
      "Forward return dataframe\n",
      "Group index\n",
      "Group percentage changes\n",
      "Group pct stds\n",
      "Group performance deltas\n",
      "% above MA by group\n",
      "% positive / negative chg stds by group\n",
      "Group 50 day stds\n",
      "Group 50 day deltas\n",
      "Creating group dictionary\n",
      "Dataset columns: Index(['PctChg1', 'PctChg20', 'PctChg50', 'PctChg200', 'PctChgStds1',\n",
      "       'PctChgStds20', 'PctChgStds50', 'PctChgStds200', 'IntraDayChg',\n",
      "       'OpenGap', 'Pct50MA', 'Pct200MA', 'Pct52WH', 'Pct52WL', 'PctVol10DA',\n",
      "       'PctVol50DA', 'PctDV10DA', 'PctDV50DA', 'RollRealVol30', 'MaxDraw120',\n",
      "       'MaxPull120', 'fwdRet120', 'PerfRank20', 'PerfRank50', 'PerfRank200',\n",
      "       'pctGt50MAAll', 'pctGt50MASect', 'pctGt50MAInd', 'pctGt200MAAll',\n",
      "       'pctGt200MASect', 'pctGt200MAInd', 'pctPosStdsAll', 'pctPosStdsSect',\n",
      "       'pctPosStdsInd', 'pctNegStdsAll', 'pctNegStdsSect', 'pctNegStdsInd',\n",
      "       '50StdsAll', '50StdsSect', '50StdsInd', '200StdsAll', '200StdsSect',\n",
      "       '200StdsInd', 'delta50All', 'delta50Sect', 'delta50Ind', 'detlta200All',\n",
      "       'detlta200Sect', 'detlta200Ind'],\n",
      "      dtype='object')\n",
      "Dataset shape: (947776, 49)\n",
      "Shape excluding NAs: (947776, 49)\n"
     ]
    },
    {
     "name": "stderr",
     "output_type": "stream",
     "text": [
      "/Users/vveiga/miniconda3/envs/inception/lib/python3.6/site-packages/pandas/core/indexing.py:1017: FutureWarning: \n",
      "Passing list-likes to .loc or [] with any missing label will raise\n",
      "KeyError in the future, you can use .reindex() as an alternative.\n",
      "\n",
      "See the documentation here:\n",
      "https://pandas.pydata.org/pandas-docs/stable/indexing.html#deprecate-loc-reindex-listlike\n",
      "  return getattr(section, self.name)[new_key]\n"
     ]
    },
    {
     "name": "stdout",
     "output_type": "stream",
     "text": [
      "Training for 3776 dates, 15.0 years\n",
      "Pre X, y columns: Index(['PctChg1', 'PctChg20', 'PctChg50', 'PctChg200', 'PctChgStds1',\n",
      "       'PctChgStds20', 'PctChgStds50', 'PctChgStds200', 'IntraDayChg',\n",
      "       'OpenGap', 'Pct50MA', 'Pct200MA', 'Pct52WH', 'Pct52WL', 'PctVol10DA',\n",
      "       'PctVol50DA', 'PctDV10DA', 'PctDV50DA', 'RollRealVol30', 'MaxDraw120',\n",
      "       'MaxPull120', 'fwdRet120', 'PerfRank20', 'PerfRank50', 'PerfRank200',\n",
      "       'pctGt50MAAll', 'pctGt50MASect', 'pctGt50MAInd', 'pctGt200MAAll',\n",
      "       'pctGt200MASect', 'pctGt200MAInd', 'pctPosStdsAll', 'pctPosStdsSect',\n",
      "       'pctPosStdsInd', 'pctNegStdsAll', 'pctNegStdsSect', 'pctNegStdsInd',\n",
      "       '50StdsAll', '50StdsSect', '50StdsInd', '200StdsAll', '200StdsSect',\n",
      "       '200StdsInd', 'delta50All', 'delta50Sect', 'delta50Ind', 'detlta200All',\n",
      "       'detlta200Sect', 'detlta200Ind', '^BASI_MATE', '^COMM_SERV',\n",
      "       '^CONS_CYCL', '^CONS_DEFE', '^ENER', '^FINA_SERV', '^HEAL', '^INDU',\n",
      "       '^REAL_ESTA', '^TECH', '^UTIL'],\n",
      "      dtype='object')\n",
      "WARNING:tensorflow:From /Users/vveiga/miniconda3/envs/inception/lib/python3.6/site-packages/tensorflow/python/framework/op_def_library.py:263: colocate_with (from tensorflow.python.framework.ops) is deprecated and will be removed in a future version.\n",
      "Instructions for updating:\n",
      "Colocations handled automatically by placer.\n",
      "X_train.shape (723701, 59), columns: ['PctChg1', 'PctChg20', 'PctChg50', 'PctChg200', 'PctChgStds1', 'PctChgStds20', 'PctChgStds50', 'PctChgStds200', 'IntraDayChg', 'OpenGap', 'Pct50MA', 'Pct200MA', 'Pct52WH', 'Pct52WL', 'PctVol10DA', 'PctVol50DA', 'PctDV10DA', 'PctDV50DA', 'RollRealVol30', 'MaxDraw120', 'MaxPull120', 'PerfRank20', 'PerfRank50', 'PerfRank200', 'pctGt50MAAll', 'pctGt50MASect', 'pctGt50MAInd', 'pctGt200MAAll', 'pctGt200MASect', 'pctGt200MAInd', 'pctPosStdsAll', 'pctPosStdsSect', 'pctPosStdsInd', 'pctNegStdsAll', 'pctNegStdsSect', 'pctNegStdsInd', '50StdsAll', '50StdsSect', '50StdsInd', '200StdsAll', '200StdsSect', '200StdsInd', 'delta50All', 'delta50Sect', 'delta50Ind', 'detlta200All', 'detlta200Sect', 'detlta200Ind', '^BASI_MATE', '^COMM_SERV', '^CONS_CYCL', '^CONS_DEFE', '^ENER', '^FINA_SERV', '^HEAL', '^INDU', '^REAL_ESTA', '^TECH', '^UTIL']\n",
      "Saved:  ../ML/micro_TF_train_cols.npy\n",
      "WARNING:tensorflow:From /Users/vveiga/miniconda3/envs/inception/lib/python3.6/site-packages/tensorflow/python/ops/math_ops.py:3066: to_int32 (from tensorflow.python.ops.math_ops) is deprecated and will be removed in a future version.\n",
      "Instructions for updating:\n",
      "Use tf.cast instead.\n",
      "Train on 723701 samples, validate on 38090 samples\n",
      "Epoch 1/10\n",
      " 89408/723701 [==>...........................] - ETA: 3:20 - loss: 1.2196 - acc: 0.4899"
     ]
    },
    {
     "ename": "KeyboardInterrupt",
     "evalue": "",
     "output_type": "error",
     "traceback": [
      "\u001b[0;31m---------------------------------------------------------------------------\u001b[0m",
      "\u001b[0;31mKeyboardInterrupt\u001b[0m                         Traceback (most recent call last)",
      "\u001b[0;32m<timed eval>\u001b[0m in \u001b[0;36m<module>\u001b[0;34m\u001b[0m\n",
      "\u001b[0;32m<ipython-input-8-08ae992dddb6>\u001b[0m in \u001b[0;36mtrain_ds\u001b[0;34m(context)\u001b[0m\n\u001b[1;32m     44\u001b[0m     \u001b[0mmodel\u001b[0m\u001b[0;34m.\u001b[0m\u001b[0mcompile\u001b[0m\u001b[0;34m(\u001b[0m\u001b[0mloss\u001b[0m\u001b[0;34m=\u001b[0m\u001b[0;34m'categorical_crossentropy'\u001b[0m\u001b[0;34m,\u001b[0m \u001b[0moptimizer\u001b[0m\u001b[0;34m=\u001b[0m\u001b[0mopt\u001b[0m\u001b[0;34m,\u001b[0m \u001b[0mmetrics\u001b[0m\u001b[0;34m=\u001b[0m\u001b[0;34m[\u001b[0m\u001b[0;34m'accuracy'\u001b[0m\u001b[0;34m]\u001b[0m\u001b[0;34m)\u001b[0m\u001b[0;34m\u001b[0m\u001b[0;34m\u001b[0m\u001b[0m\n\u001b[1;32m     45\u001b[0m     history = model.fit(X_train, y_train_oh, validation_data=(X_test, y_test_oh), \n\u001b[0;32m---> 46\u001b[0;31m               epochs=max_iter, batch_size=64, callbacks=[es, checkpointer, csv_logger])\n\u001b[0m\u001b[1;32m     47\u001b[0m \u001b[0;34m\u001b[0m\u001b[0m\n\u001b[1;32m     48\u001b[0m     \u001b[0mscore\u001b[0m \u001b[0;34m=\u001b[0m \u001b[0mmodel\u001b[0m\u001b[0;34m.\u001b[0m\u001b[0mevaluate\u001b[0m\u001b[0;34m(\u001b[0m\u001b[0mX_test\u001b[0m\u001b[0;34m,\u001b[0m \u001b[0my_test_oh\u001b[0m\u001b[0;34m)\u001b[0m\u001b[0;34m\u001b[0m\u001b[0;34m\u001b[0m\u001b[0m\n",
      "\u001b[0;32m~/miniconda3/envs/inception/lib/python3.6/site-packages/keras/engine/training.py\u001b[0m in \u001b[0;36mfit\u001b[0;34m(self, x, y, batch_size, epochs, verbose, callbacks, validation_split, validation_data, shuffle, class_weight, sample_weight, initial_epoch, steps_per_epoch, validation_steps, **kwargs)\u001b[0m\n\u001b[1;32m   1037\u001b[0m                                         \u001b[0minitial_epoch\u001b[0m\u001b[0;34m=\u001b[0m\u001b[0minitial_epoch\u001b[0m\u001b[0;34m,\u001b[0m\u001b[0;34m\u001b[0m\u001b[0;34m\u001b[0m\u001b[0m\n\u001b[1;32m   1038\u001b[0m                                         \u001b[0msteps_per_epoch\u001b[0m\u001b[0;34m=\u001b[0m\u001b[0msteps_per_epoch\u001b[0m\u001b[0;34m,\u001b[0m\u001b[0;34m\u001b[0m\u001b[0;34m\u001b[0m\u001b[0m\n\u001b[0;32m-> 1039\u001b[0;31m                                         validation_steps=validation_steps)\n\u001b[0m\u001b[1;32m   1040\u001b[0m \u001b[0;34m\u001b[0m\u001b[0m\n\u001b[1;32m   1041\u001b[0m     def evaluate(self, x=None, y=None,\n",
      "\u001b[0;32m~/miniconda3/envs/inception/lib/python3.6/site-packages/keras/engine/training_arrays.py\u001b[0m in \u001b[0;36mfit_loop\u001b[0;34m(model, f, ins, out_labels, batch_size, epochs, verbose, callbacks, val_f, val_ins, shuffle, callback_metrics, initial_epoch, steps_per_epoch, validation_steps)\u001b[0m\n\u001b[1;32m    193\u001b[0m                 \u001b[0mbatch_logs\u001b[0m\u001b[0;34m[\u001b[0m\u001b[0;34m'batch'\u001b[0m\u001b[0;34m]\u001b[0m \u001b[0;34m=\u001b[0m \u001b[0mbatch_index\u001b[0m\u001b[0;34m\u001b[0m\u001b[0;34m\u001b[0m\u001b[0m\n\u001b[1;32m    194\u001b[0m                 \u001b[0mbatch_logs\u001b[0m\u001b[0;34m[\u001b[0m\u001b[0;34m'size'\u001b[0m\u001b[0;34m]\u001b[0m \u001b[0;34m=\u001b[0m \u001b[0mlen\u001b[0m\u001b[0;34m(\u001b[0m\u001b[0mbatch_ids\u001b[0m\u001b[0;34m)\u001b[0m\u001b[0;34m\u001b[0m\u001b[0;34m\u001b[0m\u001b[0m\n\u001b[0;32m--> 195\u001b[0;31m                 \u001b[0mcallbacks\u001b[0m\u001b[0;34m.\u001b[0m\u001b[0mon_batch_begin\u001b[0m\u001b[0;34m(\u001b[0m\u001b[0mbatch_index\u001b[0m\u001b[0;34m,\u001b[0m \u001b[0mbatch_logs\u001b[0m\u001b[0;34m)\u001b[0m\u001b[0;34m\u001b[0m\u001b[0;34m\u001b[0m\u001b[0m\n\u001b[0m\u001b[1;32m    196\u001b[0m                 \u001b[0;32mfor\u001b[0m \u001b[0mi\u001b[0m \u001b[0;32min\u001b[0m \u001b[0mindices_for_conversion_to_dense\u001b[0m\u001b[0;34m:\u001b[0m\u001b[0;34m\u001b[0m\u001b[0;34m\u001b[0m\u001b[0m\n\u001b[1;32m    197\u001b[0m                     \u001b[0mins_batch\u001b[0m\u001b[0;34m[\u001b[0m\u001b[0mi\u001b[0m\u001b[0;34m]\u001b[0m \u001b[0;34m=\u001b[0m \u001b[0mins_batch\u001b[0m\u001b[0;34m[\u001b[0m\u001b[0mi\u001b[0m\u001b[0;34m]\u001b[0m\u001b[0;34m.\u001b[0m\u001b[0mtoarray\u001b[0m\u001b[0;34m(\u001b[0m\u001b[0;34m)\u001b[0m\u001b[0;34m\u001b[0m\u001b[0;34m\u001b[0m\u001b[0m\n",
      "\u001b[0;32m~/miniconda3/envs/inception/lib/python3.6/site-packages/keras/callbacks.py\u001b[0m in \u001b[0;36mon_batch_begin\u001b[0;34m(self, batch, logs)\u001b[0m\n\u001b[1;32m     91\u001b[0m             \u001b[0mcallback\u001b[0m\u001b[0;34m.\u001b[0m\u001b[0mon_batch_begin\u001b[0m\u001b[0;34m(\u001b[0m\u001b[0mbatch\u001b[0m\u001b[0;34m,\u001b[0m \u001b[0mlogs\u001b[0m\u001b[0;34m)\u001b[0m\u001b[0;34m\u001b[0m\u001b[0;34m\u001b[0m\u001b[0m\n\u001b[1;32m     92\u001b[0m         \u001b[0mself\u001b[0m\u001b[0;34m.\u001b[0m\u001b[0m_delta_ts_batch_begin\u001b[0m\u001b[0;34m.\u001b[0m\u001b[0mappend\u001b[0m\u001b[0;34m(\u001b[0m\u001b[0mtime\u001b[0m\u001b[0;34m.\u001b[0m\u001b[0mtime\u001b[0m\u001b[0;34m(\u001b[0m\u001b[0;34m)\u001b[0m \u001b[0;34m-\u001b[0m \u001b[0mt_before_callbacks\u001b[0m\u001b[0;34m)\u001b[0m\u001b[0;34m\u001b[0m\u001b[0;34m\u001b[0m\u001b[0m\n\u001b[0;32m---> 93\u001b[0;31m         \u001b[0mdelta_t_median\u001b[0m \u001b[0;34m=\u001b[0m \u001b[0mnp\u001b[0m\u001b[0;34m.\u001b[0m\u001b[0mmedian\u001b[0m\u001b[0;34m(\u001b[0m\u001b[0mself\u001b[0m\u001b[0;34m.\u001b[0m\u001b[0m_delta_ts_batch_begin\u001b[0m\u001b[0;34m)\u001b[0m\u001b[0;34m\u001b[0m\u001b[0;34m\u001b[0m\u001b[0m\n\u001b[0m\u001b[1;32m     94\u001b[0m         if (self._delta_t_batch > 0. and\n\u001b[1;32m     95\u001b[0m            \u001b[0mdelta_t_median\u001b[0m \u001b[0;34m>\u001b[0m \u001b[0;36m0.95\u001b[0m \u001b[0;34m*\u001b[0m \u001b[0mself\u001b[0m\u001b[0;34m.\u001b[0m\u001b[0m_delta_t_batch\u001b[0m \u001b[0;32mand\u001b[0m\u001b[0;34m\u001b[0m\u001b[0;34m\u001b[0m\u001b[0m\n",
      "\u001b[0;32m~/miniconda3/envs/inception/lib/python3.6/site-packages/numpy/lib/function_base.py\u001b[0m in \u001b[0;36mmedian\u001b[0;34m(a, axis, out, overwrite_input, keepdims)\u001b[0m\n\u001b[1;32m   3495\u001b[0m     \"\"\"\n\u001b[1;32m   3496\u001b[0m     r, k = _ureduce(a, func=_median, axis=axis, out=out,\n\u001b[0;32m-> 3497\u001b[0;31m                     overwrite_input=overwrite_input)\n\u001b[0m\u001b[1;32m   3498\u001b[0m     \u001b[0;32mif\u001b[0m \u001b[0mkeepdims\u001b[0m\u001b[0;34m:\u001b[0m\u001b[0;34m\u001b[0m\u001b[0;34m\u001b[0m\u001b[0m\n\u001b[1;32m   3499\u001b[0m         \u001b[0;32mreturn\u001b[0m \u001b[0mr\u001b[0m\u001b[0;34m.\u001b[0m\u001b[0mreshape\u001b[0m\u001b[0;34m(\u001b[0m\u001b[0mk\u001b[0m\u001b[0;34m)\u001b[0m\u001b[0;34m\u001b[0m\u001b[0;34m\u001b[0m\u001b[0m\n",
      "\u001b[0;32m~/miniconda3/envs/inception/lib/python3.6/site-packages/numpy/lib/function_base.py\u001b[0m in \u001b[0;36m_ureduce\u001b[0;34m(a, func, **kwargs)\u001b[0m\n\u001b[1;32m   3403\u001b[0m         \u001b[0mkeepdim\u001b[0m \u001b[0;34m=\u001b[0m \u001b[0;34m(\u001b[0m\u001b[0;36m1\u001b[0m\u001b[0;34m,\u001b[0m\u001b[0;34m)\u001b[0m \u001b[0;34m*\u001b[0m \u001b[0ma\u001b[0m\u001b[0;34m.\u001b[0m\u001b[0mndim\u001b[0m\u001b[0;34m\u001b[0m\u001b[0;34m\u001b[0m\u001b[0m\n\u001b[1;32m   3404\u001b[0m \u001b[0;34m\u001b[0m\u001b[0m\n\u001b[0;32m-> 3405\u001b[0;31m     \u001b[0mr\u001b[0m \u001b[0;34m=\u001b[0m \u001b[0mfunc\u001b[0m\u001b[0;34m(\u001b[0m\u001b[0ma\u001b[0m\u001b[0;34m,\u001b[0m \u001b[0;34m**\u001b[0m\u001b[0mkwargs\u001b[0m\u001b[0;34m)\u001b[0m\u001b[0;34m\u001b[0m\u001b[0;34m\u001b[0m\u001b[0m\n\u001b[0m\u001b[1;32m   3406\u001b[0m     \u001b[0;32mreturn\u001b[0m \u001b[0mr\u001b[0m\u001b[0;34m,\u001b[0m \u001b[0mkeepdim\u001b[0m\u001b[0;34m\u001b[0m\u001b[0;34m\u001b[0m\u001b[0m\n\u001b[1;32m   3407\u001b[0m \u001b[0;34m\u001b[0m\u001b[0m\n",
      "\u001b[0;32m~/miniconda3/envs/inception/lib/python3.6/site-packages/numpy/lib/function_base.py\u001b[0m in \u001b[0;36m_median\u001b[0;34m(a, axis, out, overwrite_input)\u001b[0m\n\u001b[1;32m   3536\u001b[0m         \u001b[0maxis\u001b[0m \u001b[0;34m=\u001b[0m \u001b[0;36m0\u001b[0m\u001b[0;34m\u001b[0m\u001b[0;34m\u001b[0m\u001b[0m\n\u001b[1;32m   3537\u001b[0m \u001b[0;34m\u001b[0m\u001b[0m\n\u001b[0;32m-> 3538\u001b[0;31m     \u001b[0mindexer\u001b[0m \u001b[0;34m=\u001b[0m \u001b[0;34m[\u001b[0m\u001b[0mslice\u001b[0m\u001b[0;34m(\u001b[0m\u001b[0;32mNone\u001b[0m\u001b[0;34m)\u001b[0m\u001b[0;34m]\u001b[0m \u001b[0;34m*\u001b[0m \u001b[0mpart\u001b[0m\u001b[0;34m.\u001b[0m\u001b[0mndim\u001b[0m\u001b[0;34m\u001b[0m\u001b[0;34m\u001b[0m\u001b[0m\n\u001b[0m\u001b[1;32m   3539\u001b[0m     \u001b[0mindex\u001b[0m \u001b[0;34m=\u001b[0m \u001b[0mpart\u001b[0m\u001b[0;34m.\u001b[0m\u001b[0mshape\u001b[0m\u001b[0;34m[\u001b[0m\u001b[0maxis\u001b[0m\u001b[0;34m]\u001b[0m \u001b[0;34m//\u001b[0m \u001b[0;36m2\u001b[0m\u001b[0;34m\u001b[0m\u001b[0;34m\u001b[0m\u001b[0m\n\u001b[1;32m   3540\u001b[0m     \u001b[0;32mif\u001b[0m \u001b[0mpart\u001b[0m\u001b[0;34m.\u001b[0m\u001b[0mshape\u001b[0m\u001b[0;34m[\u001b[0m\u001b[0maxis\u001b[0m\u001b[0;34m]\u001b[0m \u001b[0;34m%\u001b[0m \u001b[0;36m2\u001b[0m \u001b[0;34m==\u001b[0m \u001b[0;36m1\u001b[0m\u001b[0;34m:\u001b[0m\u001b[0;34m\u001b[0m\u001b[0;34m\u001b[0m\u001b[0m\n",
      "\u001b[0;31mKeyboardInterrupt\u001b[0m: "
     ]
    }
   ],
   "source": [
    "%time train_ds(context)"
   ]
  },
  {
   "cell_type": "markdown",
   "metadata": {},
   "source": [
    "#### Predict"
   ]
  },
  {
   "cell_type": "code",
   "execution_count": 19,
   "metadata": {
    "scrolled": true
   },
   "outputs": [
    {
     "name": "stdout",
     "output_type": "stream",
     "text": [
      "Sectors: 6, Industries: 15\n"
     ]
    },
    {
     "name": "stderr",
     "output_type": "stream",
     "text": [
      "0it [00:00, ?it/s]/home/ubuntu/miniconda3/envs/inception/lib/python3.7/site-packages/pandas/core/indexing.py:1017: FutureWarning: \n",
      "Passing list-likes to .loc or [] with any missing label will raise\n",
      "KeyError in the future, you can use .reindex() as an alternative.\n",
      "\n",
      "See the documentation here:\n",
      "https://pandas.pydata.org/pandas-docs/stable/indexing.html#deprecate-loc-reindex-listlike\n",
      "  return getattr(section, self.name)[new_key]\n",
      "13it [00:01, 10.14it/s]"
     ]
    },
    {
     "name": "stdout",
     "output_type": "stream",
     "text": [
      "ABMD missing profile, skipping\n"
     ]
    },
    {
     "name": "stderr",
     "output_type": "stream",
     "text": [
      "20it [00:02,  8.89it/s]\n"
     ]
    },
    {
     "name": "stdout",
     "output_type": "stream",
     "text": [
      "pred_X.shape (14364, 24)\n",
      "pred_X.shape (14364, 24)\n",
      "Loaded ../ML/micro_TF.h5\n",
      "Saved recommend/micro_ML/2019-05-20.csv\n",
      "CPU times: user 7.62 s, sys: 268 ms, total: 7.89 s\n",
      "Wall time: 7.07 s\n"
     ]
    }
   ],
   "source": [
    "%%time \n",
    "# predict for all\n",
    "pred_df = predict_ds(context)"
   ]
  },
  {
   "cell_type": "markdown",
   "metadata": {},
   "source": [
    "#### Store / Read S3"
   ]
  },
  {
   "cell_type": "code",
   "execution_count": 180,
   "metadata": {},
   "outputs": [],
   "source": [
    "s3_path = context['s3_path']"
   ]
  },
  {
   "cell_type": "code",
   "execution_count": 186,
   "metadata": {},
   "outputs": [],
   "source": [
    "# read from S3\n",
    "pred_df = pd.read_csv(\n",
    "    csv_load(f'{s3_path}{tech_ds.tgt_date}'), \n",
    "    index_col='pred_date', parse_dates=True)"
   ]
  },
  {
   "cell_type": "markdown",
   "metadata": {},
   "source": [
    "#### Visualize"
   ]
  },
  {
   "cell_type": "code",
   "execution_count": 187,
   "metadata": {},
   "outputs": [
    {
     "data": {
      "text/plain": [
       "['TREE', 'NFLX', 'BEAT', 'TAL', 'VIPS']"
      ]
     },
     "execution_count": 187,
     "metadata": {},
     "output_type": "execute_result"
    }
   ],
   "source": [
    "tech_ds.tickers[:5]"
   ]
  },
  {
   "cell_type": "code",
   "execution_count": 188,
   "metadata": {},
   "outputs": [
    {
     "name": "stdout",
     "output_type": "stream",
     "text": [
      "Prediction distribution\n"
     ]
    },
    {
     "data": {
      "text/plain": [
       "neutral   0.57\n",
       "bull      0.19\n",
       "long      0.15\n",
       "bear      0.07\n",
       "short     0.03\n",
       "Name: pred_label, dtype: float64"
      ]
     },
     "execution_count": 188,
     "metadata": {},
     "output_type": "execute_result"
    }
   ],
   "source": [
    "# recommendation distribution\n",
    "print('Prediction distribution')\n",
    "pd.value_counts(pred_df.pred_label) / pd.value_counts(pred_df.pred_label).sum()"
   ]
  },
  {
   "cell_type": "code",
   "execution_count": 195,
   "metadata": {
    "code_folding": []
   },
   "outputs": [
    {
     "data": {
      "image/png": "[encoded data removed]",
      "text/plain": [
       "<Figure size 1080x144 with 2 Axes>"
      ]
     },
     "metadata": {
      "needs_background": "light"
     },
     "output_type": "display_data"
    },
    {
     "data": {
      "image/png": "[encoded data removed]",
      "text/plain": [
       "<Figure size 1080x360 with 2 Axes>"
      ]
     },
     "metadata": {
      "needs_background": "light"
     },
     "output_type": "display_data"
    },
    {
     "data": {
      "image/png": "[encoded data removed]",
      "text/plain": [
       "<Figure size 1080x144 with 1 Axes>"
      ]
     },
     "metadata": {
      "needs_background": "light"
     },
     "output_type": "display_data"
    }
   ],
   "source": [
    "def plot_symbol_hist_pred(pred_symbol, clean_co_px, context, pred_df, labels):\n",
    "    \n",
    "    # pred_symbol = random.choice(joined_df.symbol.unique())\n",
    "    pred_symbol = pred_symbol if pred_symbol is not None else random.choice(joined_df.symbol.unique())\n",
    "    px_df = clean_co_px[pred_symbol]\n",
    "    px_df.name = 'close'\n",
    "    look_ahead = context['look_ahead']\n",
    "    pct_chg_df = px_fwd_ret(px_df, look_ahead, int(look_ahead/4))\n",
    "    pct_chg_df.name = 'pct_chg'\n",
    "\n",
    "    co_pred = pred_df.loc[pred_df.symbol.isin([pred_symbol]), ['pred_class'] + labels]\n",
    "    hist_pred = pd.concat([px_df.loc[pred_df.index.unique()], co_pred['pred_class']], axis=1, sort=False)\n",
    "\n",
    "    # forward looking returns\n",
    "    pct_chg_df.loc[pred_df.index.unique()].dropna().plot(\n",
    "        title=f'{pred_symbol} {int(np.mean(context[\"look_ahead\"]))} day forward looking return', \n",
    "        figsize=(15, 2), grid=True, secondary_y='pct_chg')\n",
    "\n",
    "    # historical predictions\n",
    "    hist_pred.dropna().plot(\n",
    "        title=f'{pred_symbol} historical prediction', \n",
    "        figsize=(15, 5), secondary_y='pred_class')\n",
    "\n",
    "    # probability distribution\n",
    "    co_pred[labels].plot.area(\n",
    "        title='Prediction probabilities', \n",
    "        figsize=(15, 2), ylim=(0, 1), cmap='RdYlGn', rot=0)\n",
    "\n",
    "symbol = 'TAL'\n",
    "plot_symbol_hist_pred(\n",
    "    symbol, tech_ds.clean_px, context, \n",
    "    pred_df, tech_ds.forward_return_labels)"
   ]
  },
  {
   "cell_type": "code",
   "execution_count": 190,
   "metadata": {},
   "outputs": [
    {
     "data": {
      "text/html": [
       "<div>\n",
       "<style scoped>\n",
       "    .dataframe tbody tr th:only-of-type {\n",
       "        vertical-align: middle;\n",
       "    }\n",
       "\n",
       "    .dataframe tbody tr th {\n",
       "        vertical-align: top;\n",
       "    }\n",
       "\n",
       "    .dataframe thead th {\n",
       "        text-align: right;\n",
       "    }\n",
       "</style>\n",
       "<table border=\"1\" class=\"dataframe\">\n",
       "  <thead>\n",
       "    <tr style=\"text-align: right;\">\n",
       "      <th></th>\n",
       "      <th>symbol</th>\n",
       "      <th>pred_class</th>\n",
       "      <th>pred_label</th>\n",
       "      <th>confidence</th>\n",
       "      <th>bear</th>\n",
       "      <th>short</th>\n",
       "      <th>neutral</th>\n",
       "      <th>long</th>\n",
       "      <th>bull</th>\n",
       "    </tr>\n",
       "    <tr>\n",
       "      <th>pred_date</th>\n",
       "      <th></th>\n",
       "      <th></th>\n",
       "      <th></th>\n",
       "      <th></th>\n",
       "      <th></th>\n",
       "      <th></th>\n",
       "      <th></th>\n",
       "      <th></th>\n",
       "      <th></th>\n",
       "    </tr>\n",
       "  </thead>\n",
       "  <tbody>\n",
       "    <tr>\n",
       "      <th>2016-05-18</th>\n",
       "      <td>TAL</td>\n",
       "      <td>4</td>\n",
       "      <td>bull</td>\n",
       "      <td>0.88</td>\n",
       "      <td>0.00</td>\n",
       "      <td>0.00</td>\n",
       "      <td>0.04</td>\n",
       "      <td>0.08</td>\n",
       "      <td>0.88</td>\n",
       "    </tr>\n",
       "    <tr>\n",
       "      <th>2016-05-19</th>\n",
       "      <td>TAL</td>\n",
       "      <td>4</td>\n",
       "      <td>bull</td>\n",
       "      <td>0.89</td>\n",
       "      <td>0.00</td>\n",
       "      <td>0.00</td>\n",
       "      <td>0.02</td>\n",
       "      <td>0.09</td>\n",
       "      <td>0.89</td>\n",
       "    </tr>\n",
       "    <tr>\n",
       "      <th>2016-05-20</th>\n",
       "      <td>TAL</td>\n",
       "      <td>4</td>\n",
       "      <td>bull</td>\n",
       "      <td>0.93</td>\n",
       "      <td>0.00</td>\n",
       "      <td>0.00</td>\n",
       "      <td>0.02</td>\n",
       "      <td>0.05</td>\n",
       "      <td>0.93</td>\n",
       "    </tr>\n",
       "    <tr>\n",
       "      <th>2016-05-23</th>\n",
       "      <td>TAL</td>\n",
       "      <td>4</td>\n",
       "      <td>bull</td>\n",
       "      <td>0.83</td>\n",
       "      <td>0.00</td>\n",
       "      <td>0.00</td>\n",
       "      <td>0.01</td>\n",
       "      <td>0.16</td>\n",
       "      <td>0.83</td>\n",
       "    </tr>\n",
       "    <tr>\n",
       "      <th>2016-05-24</th>\n",
       "      <td>TAL</td>\n",
       "      <td>4</td>\n",
       "      <td>bull</td>\n",
       "      <td>0.86</td>\n",
       "      <td>0.00</td>\n",
       "      <td>0.00</td>\n",
       "      <td>0.01</td>\n",
       "      <td>0.14</td>\n",
       "      <td>0.86</td>\n",
       "    </tr>\n",
       "  </tbody>\n",
       "</table>\n",
       "</div>"
      ],
      "text/plain": [
       "           symbol  pred_class pred_label  confidence  bear  short  neutral  \\\n",
       "pred_date                                                                    \n",
       "2016-05-18    TAL           4       bull        0.88  0.00   0.00     0.04   \n",
       "2016-05-19    TAL           4       bull        0.89  0.00   0.00     0.02   \n",
       "2016-05-20    TAL           4       bull        0.93  0.00   0.00     0.02   \n",
       "2016-05-23    TAL           4       bull        0.83  0.00   0.00     0.01   \n",
       "2016-05-24    TAL           4       bull        0.86  0.00   0.00     0.01   \n",
       "\n",
       "            long  bull  \n",
       "pred_date               \n",
       "2016-05-18  0.08  0.88  \n",
       "2016-05-19  0.09  0.89  \n",
       "2016-05-20  0.05  0.93  \n",
       "2016-05-23  0.16  0.83  \n",
       "2016-05-24  0.14  0.86  "
      ]
     },
     "execution_count": 190,
     "metadata": {},
     "output_type": "execute_result"
    }
   ],
   "source": [
    "pred_df.loc[pred_df.symbol.isin([symbol])].head()"
   ]
  },
  {
   "cell_type": "markdown",
   "metadata": {
    "heading_collapsed": true
   },
   "source": [
    "### Other experiments"
   ]
  },
  {
   "cell_type": "markdown",
   "metadata": {
    "heading_collapsed": true,
    "hidden": true
   },
   "source": [
    "#### Visualize forward looking returns"
   ]
  },
  {
   "cell_type": "code",
   "execution_count": 103,
   "metadata": {
    "hidden": true
   },
   "outputs": [
    {
     "data": {
      "text/plain": [
       "<matplotlib.axes._subplots.AxesSubplot at 0x14b57acf8>"
      ]
     },
     "execution_count": 103,
     "metadata": {},
     "output_type": "execute_result"
    },
    {
     "data": {
      "image/png": "[encoded data removed]",
      "text/plain": [
       "<Figure size 864x360 with 2 Axes>"
      ]
     },
     "metadata": {
      "needs_background": "light"
     },
     "output_type": "display_data"
    }
   ],
   "source": [
    "\"\"\"\n",
    "An approach to forward looking returns, \n",
    "is it one period, an average of multiple periods, more recent, less recent?\n",
    "\"\"\"\n",
    "look_ahead = 120; smooth = int(look_ahead/4); s = 'MCK'\n",
    "df = pd.DataFrame(px_fwd_ret(clean_co_px[s], look_ahead, smooth))\n",
    "df['neg_mean'] = df[s].loc[df[s]<0].mean()\n",
    "df['pos_mean'] = df[s].loc[df[s]>0].mean()\n",
    "df['price'] = clean_co_px[s]\n",
    "df.plot(figsize=(12,5), secondary_y='price')"
   ]
  },
  {
   "cell_type": "code",
   "execution_count": 12,
   "metadata": {
    "hidden": true
   },
   "outputs": [],
   "source": [
    "# try with full universe\n",
    "look_ahead = context['look_ahead']\n",
    "Y = clean_co_px.apply(px_fwd_ret, args=(look_ahead, int(look_ahead/4)))\n",
    "Y = Y[~(Y.isna().all(1))]"
   ]
  },
  {
   "cell_type": "code",
   "execution_count": null,
   "metadata": {
    "hidden": true
   },
   "outputs": [],
   "source": [
    "Y.describe().T.sort_values(by='max')"
   ]
  },
  {
   "cell_type": "code",
   "execution_count": 15,
   "metadata": {
    "hidden": true
   },
   "outputs": [
    {
     "data": {
      "text/plain": [
       "<matplotlib.axes._subplots.AxesSubplot at 0x14c9cab70>"
      ]
     },
     "execution_count": 15,
     "metadata": {},
     "output_type": "execute_result"
    },
    {
     "data": {
      "image/png": "[encoded data removed]",
      "text/plain": [
       "<Figure size 432x288 with 1 Axes>"
      ]
     },
     "metadata": {
      "needs_background": "light"
     },
     "output_type": "display_data"
    }
   ],
   "source": [
    "Y.iloc[:, :].dropna(axis=1).mean(axis=1).plot(ylim=(-1, 1), legend=False)"
   ]
  },
  {
   "cell_type": "markdown",
   "metadata": {
    "heading_collapsed": true,
    "hidden": true
   },
   "source": [
    "#### Train universe on long-term winners"
   ]
  },
  {
   "cell_type": "code",
   "execution_count": 282,
   "metadata": {
    "hidden": true
   },
   "outputs": [
    {
     "name": "stdout",
     "output_type": "stream",
     "text": [
      "236 companies\n"
     ]
    }
   ],
   "source": [
    "hist_return = best_performers(clean_co_px, tickers, years=10, quantile=0.75)\n",
    "print(f'{len(hist_return.index)} companies')\n",
    "desc_df = pd.concat([\n",
    "    profile.loc[hist_return.index, ['sector', 'industry', 'country',]],\n",
    "    quotes.loc[hist_return.index, ['shortName', 'marketCap']]], axis=1)\n",
    "desc_df.loc[:, 'marketCap'] = desc_df.marketCap / 10**9\n",
    "desc_df.loc[:, 'size'] = discret_rets(desc_df.marketCap, mkt_cap_cuts, mkt_cap_labels)\n",
    "\n",
    "hist_return = pd.concat([hist_return, desc_df], axis=1, sort=False)"
   ]
  },
  {
   "cell_type": "code",
   "execution_count": 283,
   "metadata": {
    "hidden": true
   },
   "outputs": [
    {
     "data": {
      "image/png": "[encoded data removed]",
      "text/plain": [
       "<Figure size 432x288 with 1 Axes>"
      ]
     },
     "metadata": {
      "needs_background": "light"
     },
     "output_type": "display_data"
    },
    {
     "data": {
      "text/plain": [
       "industry\n",
       "Software - Application            15\n",
       "Business Services                 10\n",
       "Semiconductors                     9\n",
       "Diversified Industrials            9\n",
       "Medical Instruments & Supplies     8\n",
       "Diagnostics & Research             8\n",
       "Internet Content & Information     7\n",
       "Health Care Plans                  7\n",
       "Biotechnology                      6\n",
       "Airlines                           6\n",
       "Name: sector, dtype: int64"
      ]
     },
     "execution_count": 283,
     "metadata": {},
     "output_type": "execute_result"
    }
   ],
   "source": [
    "by_sect = desc_df.groupby(by=['sector']).count().iloc[:,0].sort_values(ascending=False)\n",
    "by_sect.plot.barh(title='Distribution by sector');\n",
    "plt.show()\n",
    "\n",
    "by_ind = desc_df.groupby(by=['industry']).count().iloc[:,0].sort_values(ascending=False)\n",
    "by_ind.head(10)"
   ]
  },
  {
   "cell_type": "code",
   "execution_count": 284,
   "metadata": {
    "hidden": true
   },
   "outputs": [
    {
     "data": {
      "image/png": "[encoded data removed]",
      "text/plain": [
       "<Figure size 432x288 with 1 Axes>"
      ]
     },
     "metadata": {
      "needs_background": "light"
     },
     "output_type": "display_data"
    }
   ],
   "source": [
    "desc_df.groupby(by=['size']).count().iloc[:,0].sort_values(ascending=False).plot.barh(title='Distribution by size');"
   ]
  },
  {
   "cell_type": "code",
   "execution_count": 293,
   "metadata": {
    "hidden": true
   },
   "outputs": [
    {
     "data": {
      "text/html": [
       "<div>\n",
       "<style scoped>\n",
       "    .dataframe tbody tr th:only-of-type {\n",
       "        vertical-align: middle;\n",
       "    }\n",
       "\n",
       "    .dataframe tbody tr th {\n",
       "        vertical-align: top;\n",
       "    }\n",
       "\n",
       "    .dataframe thead tr th {\n",
       "        text-align: left;\n",
       "    }\n",
       "\n",
       "    .dataframe thead tr:last-of-type th {\n",
       "        text-align: right;\n",
       "    }\n",
       "</style>\n",
       "<table border=\"1\" class=\"dataframe\">\n",
       "  <thead>\n",
       "    <tr>\n",
       "      <th></th>\n",
       "      <th colspan=\"2\" halign=\"left\">totalReturn</th>\n",
       "      <th colspan=\"2\" halign=\"left\">marketCap</th>\n",
       "    </tr>\n",
       "    <tr>\n",
       "      <th></th>\n",
       "      <th>count</th>\n",
       "      <th>mean</th>\n",
       "      <th>count</th>\n",
       "      <th>mean</th>\n",
       "    </tr>\n",
       "    <tr>\n",
       "      <th>sector</th>\n",
       "      <th></th>\n",
       "      <th></th>\n",
       "      <th></th>\n",
       "      <th></th>\n",
       "    </tr>\n",
       "  </thead>\n",
       "  <tbody>\n",
       "    <tr>\n",
       "      <th>Technology</th>\n",
       "      <td>56</td>\n",
       "      <td>16.06</td>\n",
       "      <td>56</td>\n",
       "      <td>145.70</td>\n",
       "    </tr>\n",
       "    <tr>\n",
       "      <th>Consumer Cyclical</th>\n",
       "      <td>50</td>\n",
       "      <td>10.81</td>\n",
       "      <td>50</td>\n",
       "      <td>50.10</td>\n",
       "    </tr>\n",
       "    <tr>\n",
       "      <th>Communication Services</th>\n",
       "      <td>5</td>\n",
       "      <td>10.44</td>\n",
       "      <td>5</td>\n",
       "      <td>63.25</td>\n",
       "    </tr>\n",
       "    <tr>\n",
       "      <th>Healthcare</th>\n",
       "      <td>34</td>\n",
       "      <td>9.22</td>\n",
       "      <td>34</td>\n",
       "      <td>29.54</td>\n",
       "    </tr>\n",
       "    <tr>\n",
       "      <th>Industrials</th>\n",
       "      <td>44</td>\n",
       "      <td>8.51</td>\n",
       "      <td>44</td>\n",
       "      <td>25.06</td>\n",
       "    </tr>\n",
       "    <tr>\n",
       "      <th>Basic Materials</th>\n",
       "      <td>10</td>\n",
       "      <td>8.44</td>\n",
       "      <td>10</td>\n",
       "      <td>6.81</td>\n",
       "    </tr>\n",
       "    <tr>\n",
       "      <th>Consumer Defensive</th>\n",
       "      <td>9</td>\n",
       "      <td>8.22</td>\n",
       "      <td>9</td>\n",
       "      <td>25.25</td>\n",
       "    </tr>\n",
       "    <tr>\n",
       "      <th>Financial Services</th>\n",
       "      <td>19</td>\n",
       "      <td>7.75</td>\n",
       "      <td>19</td>\n",
       "      <td>49.33</td>\n",
       "    </tr>\n",
       "    <tr>\n",
       "      <th>Real Estate</th>\n",
       "      <td>6</td>\n",
       "      <td>7.53</td>\n",
       "      <td>6</td>\n",
       "      <td>22.73</td>\n",
       "    </tr>\n",
       "    <tr>\n",
       "      <th>Utilities</th>\n",
       "      <td>2</td>\n",
       "      <td>5.47</td>\n",
       "      <td>2</td>\n",
       "      <td>15.39</td>\n",
       "    </tr>\n",
       "    <tr>\n",
       "      <th>Energy</th>\n",
       "      <td>1</td>\n",
       "      <td>5.14</td>\n",
       "      <td>1</td>\n",
       "      <td>25.98</td>\n",
       "    </tr>\n",
       "  </tbody>\n",
       "</table>\n",
       "</div>"
      ],
      "text/plain": [
       "                       totalReturn       marketCap       \n",
       "                             count  mean     count   mean\n",
       "sector                                                   \n",
       "Technology                      56 16.06        56 145.70\n",
       "Consumer Cyclical               50 10.81        50  50.10\n",
       "Communication Services           5 10.44         5  63.25\n",
       "Healthcare                      34  9.22        34  29.54\n",
       "Industrials                     44  8.51        44  25.06\n",
       "Basic Materials                 10  8.44        10   6.81\n",
       "Consumer Defensive               9  8.22         9  25.25\n",
       "Financial Services              19  7.75        19  49.33\n",
       "Real Estate                      6  7.53         6  22.73\n",
       "Utilities                        2  5.47         2  15.39\n",
       "Energy                           1  5.14         1  25.98"
      ]
     },
     "execution_count": 293,
     "metadata": {},
     "output_type": "execute_result"
    }
   ],
   "source": [
    "group_winners = hist_return.groupby(by=['sector']).agg(['count', 'mean'])\n",
    "group_winners[['totalReturn', 'marketCap']]\\\n",
    "    .sort_values(by=('totalReturn','mean'), ascending=False)\\\n",
    "    .dropna()"
   ]
  },
  {
   "cell_type": "code",
   "execution_count": 316,
   "metadata": {
    "hidden": true
   },
   "outputs": [
    {
     "data": {
      "text/html": [
       "<div>\n",
       "<style scoped>\n",
       "    .dataframe tbody tr th:only-of-type {\n",
       "        vertical-align: middle;\n",
       "    }\n",
       "\n",
       "    .dataframe tbody tr th {\n",
       "        vertical-align: top;\n",
       "    }\n",
       "\n",
       "    .dataframe thead tr th {\n",
       "        text-align: left;\n",
       "    }\n",
       "\n",
       "    .dataframe thead tr:last-of-type th {\n",
       "        text-align: right;\n",
       "    }\n",
       "</style>\n",
       "<table border=\"1\" class=\"dataframe\">\n",
       "  <thead>\n",
       "    <tr>\n",
       "      <th></th>\n",
       "      <th></th>\n",
       "      <th></th>\n",
       "      <th colspan=\"2\" halign=\"left\">totalReturn</th>\n",
       "      <th colspan=\"2\" halign=\"left\">marketCap</th>\n",
       "    </tr>\n",
       "    <tr>\n",
       "      <th></th>\n",
       "      <th></th>\n",
       "      <th></th>\n",
       "      <th>count</th>\n",
       "      <th>mean</th>\n",
       "      <th>count</th>\n",
       "      <th>mean</th>\n",
       "    </tr>\n",
       "    <tr>\n",
       "      <th>sector</th>\n",
       "      <th>industry</th>\n",
       "      <th>shortName</th>\n",
       "      <th></th>\n",
       "      <th></th>\n",
       "      <th></th>\n",
       "      <th></th>\n",
       "    </tr>\n",
       "  </thead>\n",
       "  <tbody>\n",
       "    <tr>\n",
       "      <th>Technology</th>\n",
       "      <th>Software - Infrastructure</th>\n",
       "      <th>CyberArk Software Ltd.</th>\n",
       "      <td>1</td>\n",
       "      <td>428.37</td>\n",
       "      <td>1</td>\n",
       "      <td>4.79</td>\n",
       "    </tr>\n",
       "    <tr>\n",
       "      <th rowspan=\"3\" valign=\"top\">Consumer Cyclical</th>\n",
       "      <th>Media - Diversified</th>\n",
       "      <th>Netflix, Inc.</th>\n",
       "      <td>1</td>\n",
       "      <td>64.90</td>\n",
       "      <td>1</td>\n",
       "      <td>154.97</td>\n",
       "    </tr>\n",
       "    <tr>\n",
       "      <th>Specialty Retail</th>\n",
       "      <th>Ulta Beauty, Inc.</th>\n",
       "      <td>1</td>\n",
       "      <td>39.96</td>\n",
       "      <td>1</td>\n",
       "      <td>20.12</td>\n",
       "    </tr>\n",
       "    <tr>\n",
       "      <th>Restaurants</th>\n",
       "      <th>Domino's Pizza Inc</th>\n",
       "      <td>1</td>\n",
       "      <td>33.55</td>\n",
       "      <td>1</td>\n",
       "      <td>11.56</td>\n",
       "    </tr>\n",
       "    <tr>\n",
       "      <th>Healthcare</th>\n",
       "      <th>Diagnostics &amp; Research</th>\n",
       "      <th>DexCom, Inc.</th>\n",
       "      <td>1</td>\n",
       "      <td>30.73</td>\n",
       "      <td>1</td>\n",
       "      <td>10.75</td>\n",
       "    </tr>\n",
       "    <tr>\n",
       "      <th>Consumer Cyclical</th>\n",
       "      <th>Apparel Stores</th>\n",
       "      <th>lululemon athletica inc.</th>\n",
       "      <td>1</td>\n",
       "      <td>28.37</td>\n",
       "      <td>1</td>\n",
       "      <td>22.54</td>\n",
       "    </tr>\n",
       "    <tr>\n",
       "      <th>Healthcare</th>\n",
       "      <th>Medical Devices</th>\n",
       "      <th>Align Technology, Inc.</th>\n",
       "      <td>1</td>\n",
       "      <td>27.80</td>\n",
       "      <td>1</td>\n",
       "      <td>25.81</td>\n",
       "    </tr>\n",
       "    <tr>\n",
       "      <th>Financial Services</th>\n",
       "      <th>Capital Markets</th>\n",
       "      <th>MarketAxess Holdings, Inc.</th>\n",
       "      <td>1</td>\n",
       "      <td>26.88</td>\n",
       "      <td>1</td>\n",
       "      <td>11.01</td>\n",
       "    </tr>\n",
       "    <tr>\n",
       "      <th>Healthcare</th>\n",
       "      <th>Biotechnology</th>\n",
       "      <th>Incyte Corporation</th>\n",
       "      <td>1</td>\n",
       "      <td>26.77</td>\n",
       "      <td>1</td>\n",
       "      <td>16.55</td>\n",
       "    </tr>\n",
       "    <tr>\n",
       "      <th>Communication Services</th>\n",
       "      <th>Telecom Services</th>\n",
       "      <th>Vonage Holdings Corp.</th>\n",
       "      <td>1</td>\n",
       "      <td>24.60</td>\n",
       "      <td>1</td>\n",
       "      <td>2.79</td>\n",
       "    </tr>\n",
       "    <tr>\n",
       "      <th>Industrials</th>\n",
       "      <th>Rental &amp; Leasing Services</th>\n",
       "      <th>United Rentals, Inc.</th>\n",
       "      <td>1</td>\n",
       "      <td>24.22</td>\n",
       "      <td>1</td>\n",
       "      <td>9.93</td>\n",
       "    </tr>\n",
       "    <tr>\n",
       "      <th>Consumer Cyclical</th>\n",
       "      <th>Specialty Retail</th>\n",
       "      <th>Amazon.com, Inc.</th>\n",
       "      <td>1</td>\n",
       "      <td>24.19</td>\n",
       "      <td>1</td>\n",
       "      <td>920.17</td>\n",
       "    </tr>\n",
       "    <tr>\n",
       "      <th>Technology</th>\n",
       "      <th>Internet Content &amp; Information</th>\n",
       "      <th>TENCENT</th>\n",
       "      <td>1</td>\n",
       "      <td>23.44</td>\n",
       "      <td>1</td>\n",
       "      <td>3,364.90</td>\n",
       "    </tr>\n",
       "    <tr>\n",
       "      <th>Consumer Cyclical</th>\n",
       "      <th>Specialty Retail</th>\n",
       "      <th>MercadoLibre, Inc.</th>\n",
       "      <td>1</td>\n",
       "      <td>23.39</td>\n",
       "      <td>1</td>\n",
       "      <td>28.34</td>\n",
       "    </tr>\n",
       "    <tr>\n",
       "      <th>Basic Materials</th>\n",
       "      <th>Building Materials</th>\n",
       "      <th>Trex Company, Inc.</th>\n",
       "      <td>1</td>\n",
       "      <td>20.38</td>\n",
       "      <td>1</td>\n",
       "      <td>3.44</td>\n",
       "    </tr>\n",
       "    <tr>\n",
       "      <th rowspan=\"3\" valign=\"top\">Technology</th>\n",
       "      <th>Semiconductor Equipment &amp; Materials</th>\n",
       "      <th>Universal Display Corporation</th>\n",
       "      <td>1</td>\n",
       "      <td>18.00</td>\n",
       "      <td>1</td>\n",
       "      <td>7.65</td>\n",
       "    </tr>\n",
       "    <tr>\n",
       "      <th>Semiconductors</th>\n",
       "      <th>NVIDIA Corporation</th>\n",
       "      <td>1</td>\n",
       "      <td>17.63</td>\n",
       "      <td>1</td>\n",
       "      <td>95.25</td>\n",
       "    </tr>\n",
       "    <tr>\n",
       "      <th>Software - Infrastructure</th>\n",
       "      <th>Fair Isaac Corproation</th>\n",
       "      <td>1</td>\n",
       "      <td>17.40</td>\n",
       "      <td>1</td>\n",
       "      <td>8.46</td>\n",
       "    </tr>\n",
       "    <tr>\n",
       "      <th>Consumer Cyclical</th>\n",
       "      <th>Leisure</th>\n",
       "      <th>Booking Holdings Inc. Common St</th>\n",
       "      <td>1</td>\n",
       "      <td>16.69</td>\n",
       "      <td>1</td>\n",
       "      <td>77.37</td>\n",
       "    </tr>\n",
       "    <tr>\n",
       "      <th>Consumer Defensive</th>\n",
       "      <th>Beverages - Wineries &amp; Distilleries</th>\n",
       "      <th>Constellation Brands, Inc.</th>\n",
       "      <td>1</td>\n",
       "      <td>16.59</td>\n",
       "      <td>1</td>\n",
       "      <td>38.92</td>\n",
       "    </tr>\n",
       "  </tbody>\n",
       "</table>\n",
       "</div>"
      ],
      "text/plain": [
       "                                                                                           totalReturn  \\\n",
       "                                                                                                 count   \n",
       "sector                 industry                            shortName                                     \n",
       "Technology             Software - Infrastructure           CyberArk Software Ltd.                    1   \n",
       "Consumer Cyclical      Media - Diversified                 Netflix, Inc.                             1   \n",
       "                       Specialty Retail                    Ulta Beauty, Inc.                         1   \n",
       "                       Restaurants                         Domino's Pizza Inc                        1   \n",
       "Healthcare             Diagnostics & Research              DexCom, Inc.                              1   \n",
       "Consumer Cyclical      Apparel Stores                      lululemon athletica inc.                  1   \n",
       "Healthcare             Medical Devices                     Align Technology, Inc.                    1   \n",
       "Financial Services     Capital Markets                     MarketAxess Holdings, Inc.                1   \n",
       "Healthcare             Biotechnology                       Incyte Corporation                        1   \n",
       "Communication Services Telecom Services                    Vonage Holdings Corp.                     1   \n",
       "Industrials            Rental & Leasing Services           United Rentals, Inc.                      1   \n",
       "Consumer Cyclical      Specialty Retail                    Amazon.com, Inc.                          1   \n",
       "Technology             Internet Content & Information      TENCENT                                   1   \n",
       "Consumer Cyclical      Specialty Retail                    MercadoLibre, Inc.                        1   \n",
       "Basic Materials        Building Materials                  Trex Company, Inc.                        1   \n",
       "Technology             Semiconductor Equipment & Materials Universal Display Corporation             1   \n",
       "                       Semiconductors                      NVIDIA Corporation                        1   \n",
       "                       Software - Infrastructure           Fair Isaac Corproation                    1   \n",
       "Consumer Cyclical      Leisure                             Booking Holdings Inc. Common St           1   \n",
       "Consumer Defensive     Beverages - Wineries & Distilleries Constellation Brands, Inc.                1   \n",
       "\n",
       "                                                                                                   \\\n",
       "                                                                                             mean   \n",
       "sector                 industry                            shortName                                \n",
       "Technology             Software - Infrastructure           CyberArk Software Ltd.          428.37   \n",
       "Consumer Cyclical      Media - Diversified                 Netflix, Inc.                    64.90   \n",
       "                       Specialty Retail                    Ulta Beauty, Inc.                39.96   \n",
       "                       Restaurants                         Domino's Pizza Inc               33.55   \n",
       "Healthcare             Diagnostics & Research              DexCom, Inc.                     30.73   \n",
       "Consumer Cyclical      Apparel Stores                      lululemon athletica inc.         28.37   \n",
       "Healthcare             Medical Devices                     Align Technology, Inc.           27.80   \n",
       "Financial Services     Capital Markets                     MarketAxess Holdings, Inc.       26.88   \n",
       "Healthcare             Biotechnology                       Incyte Corporation               26.77   \n",
       "Communication Services Telecom Services                    Vonage Holdings Corp.            24.60   \n",
       "Industrials            Rental & Leasing Services           United Rentals, Inc.             24.22   \n",
       "Consumer Cyclical      Specialty Retail                    Amazon.com, Inc.                 24.19   \n",
       "Technology             Internet Content & Information      TENCENT                          23.44   \n",
       "Consumer Cyclical      Specialty Retail                    MercadoLibre, Inc.               23.39   \n",
       "Basic Materials        Building Materials                  Trex Company, Inc.               20.38   \n",
       "Technology             Semiconductor Equipment & Materials Universal Display Corporation    18.00   \n",
       "                       Semiconductors                      NVIDIA Corporation               17.63   \n",
       "                       Software - Infrastructure           Fair Isaac Corproation           17.40   \n",
       "Consumer Cyclical      Leisure                             Booking Holdings Inc. Common St  16.69   \n",
       "Consumer Defensive     Beverages - Wineries & Distilleries Constellation Brands, Inc.       16.59   \n",
       "\n",
       "                                                                                           marketCap  \\\n",
       "                                                                                               count   \n",
       "sector                 industry                            shortName                                   \n",
       "Technology             Software - Infrastructure           CyberArk Software Ltd.                  1   \n",
       "Consumer Cyclical      Media - Diversified                 Netflix, Inc.                           1   \n",
       "                       Specialty Retail                    Ulta Beauty, Inc.                       1   \n",
       "                       Restaurants                         Domino's Pizza Inc                      1   \n",
       "Healthcare             Diagnostics & Research              DexCom, Inc.                            1   \n",
       "Consumer Cyclical      Apparel Stores                      lululemon athletica inc.                1   \n",
       "Healthcare             Medical Devices                     Align Technology, Inc.                  1   \n",
       "Financial Services     Capital Markets                     MarketAxess Holdings, Inc.              1   \n",
       "Healthcare             Biotechnology                       Incyte Corporation                      1   \n",
       "Communication Services Telecom Services                    Vonage Holdings Corp.                   1   \n",
       "Industrials            Rental & Leasing Services           United Rentals, Inc.                    1   \n",
       "Consumer Cyclical      Specialty Retail                    Amazon.com, Inc.                        1   \n",
       "Technology             Internet Content & Information      TENCENT                                 1   \n",
       "Consumer Cyclical      Specialty Retail                    MercadoLibre, Inc.                      1   \n",
       "Basic Materials        Building Materials                  Trex Company, Inc.                      1   \n",
       "Technology             Semiconductor Equipment & Materials Universal Display Corporation           1   \n",
       "                       Semiconductors                      NVIDIA Corporation                      1   \n",
       "                       Software - Infrastructure           Fair Isaac Corproation                  1   \n",
       "Consumer Cyclical      Leisure                             Booking Holdings Inc. Common St         1   \n",
       "Consumer Defensive     Beverages - Wineries & Distilleries Constellation Brands, Inc.              1   \n",
       "\n",
       "                                                                                                     \n",
       "                                                                                               mean  \n",
       "sector                 industry                            shortName                                 \n",
       "Technology             Software - Infrastructure           CyberArk Software Ltd.              4.79  \n",
       "Consumer Cyclical      Media - Diversified                 Netflix, Inc.                     154.97  \n",
       "                       Specialty Retail                    Ulta Beauty, Inc.                  20.12  \n",
       "                       Restaurants                         Domino's Pizza Inc                 11.56  \n",
       "Healthcare             Diagnostics & Research              DexCom, Inc.                       10.75  \n",
       "Consumer Cyclical      Apparel Stores                      lululemon athletica inc.           22.54  \n",
       "Healthcare             Medical Devices                     Align Technology, Inc.             25.81  \n",
       "Financial Services     Capital Markets                     MarketAxess Holdings, Inc.         11.01  \n",
       "Healthcare             Biotechnology                       Incyte Corporation                 16.55  \n",
       "Communication Services Telecom Services                    Vonage Holdings Corp.               2.79  \n",
       "Industrials            Rental & Leasing Services           United Rentals, Inc.                9.93  \n",
       "Consumer Cyclical      Specialty Retail                    Amazon.com, Inc.                  920.17  \n",
       "Technology             Internet Content & Information      TENCENT                         3,364.90  \n",
       "Consumer Cyclical      Specialty Retail                    MercadoLibre, Inc.                 28.34  \n",
       "Basic Materials        Building Materials                  Trex Company, Inc.                  3.44  \n",
       "Technology             Semiconductor Equipment & Materials Universal Display Corporation       7.65  \n",
       "                       Semiconductors                      NVIDIA Corporation                 95.25  \n",
       "                       Software - Infrastructure           Fair Isaac Corproation              8.46  \n",
       "Consumer Cyclical      Leisure                             Booking Holdings Inc. Common St    77.37  \n",
       "Consumer Defensive     Beverages - Wineries & Distilleries Constellation Brands, Inc.         38.92  "
      ]
     },
     "execution_count": 316,
     "metadata": {},
     "output_type": "execute_result"
    }
   ],
   "source": [
    "group_winners = hist_return.groupby(by=['sector', 'industry', 'shortName']).agg(['count', 'mean'])\n",
    "group_winners[['totalReturn', 'marketCap']]\\\n",
    "    .sort_values(by=('totalReturn','mean'), ascending=False)\\\n",
    "    .dropna().head(20)"
   ]
  },
  {
   "cell_type": "code",
   "execution_count": 324,
   "metadata": {
    "hidden": true
   },
   "outputs": [
    {
     "data": {
      "text/html": [
       "<div>\n",
       "<style scoped>\n",
       "    .dataframe tbody tr th:only-of-type {\n",
       "        vertical-align: middle;\n",
       "    }\n",
       "\n",
       "    .dataframe tbody tr th {\n",
       "        vertical-align: top;\n",
       "    }\n",
       "\n",
       "    .dataframe thead tr th {\n",
       "        text-align: left;\n",
       "    }\n",
       "\n",
       "    .dataframe thead tr:last-of-type th {\n",
       "        text-align: right;\n",
       "    }\n",
       "</style>\n",
       "<table border=\"1\" class=\"dataframe\">\n",
       "  <thead>\n",
       "    <tr>\n",
       "      <th></th>\n",
       "      <th></th>\n",
       "      <th colspan=\"2\" halign=\"left\">totalReturn</th>\n",
       "      <th colspan=\"2\" halign=\"left\">marketCap</th>\n",
       "    </tr>\n",
       "    <tr>\n",
       "      <th></th>\n",
       "      <th></th>\n",
       "      <th>count</th>\n",
       "      <th>mean</th>\n",
       "      <th>count</th>\n",
       "      <th>mean</th>\n",
       "    </tr>\n",
       "    <tr>\n",
       "      <th>sector</th>\n",
       "      <th>industry</th>\n",
       "      <th></th>\n",
       "      <th></th>\n",
       "      <th></th>\n",
       "      <th></th>\n",
       "    </tr>\n",
       "  </thead>\n",
       "  <tbody>\n",
       "    <tr>\n",
       "      <th>Technology</th>\n",
       "      <th>Software - Infrastructure</th>\n",
       "      <td>3</td>\n",
       "      <td>150.42</td>\n",
       "      <td>3</td>\n",
       "      <td>331.54</td>\n",
       "    </tr>\n",
       "    <tr>\n",
       "      <th>Healthcare</th>\n",
       "      <th>Medical Devices</th>\n",
       "      <td>1</td>\n",
       "      <td>27.80</td>\n",
       "      <td>1</td>\n",
       "      <td>25.81</td>\n",
       "    </tr>\n",
       "    <tr>\n",
       "      <th rowspan=\"2\" valign=\"top\">Consumer Cyclical</th>\n",
       "      <th>Media - Diversified</th>\n",
       "      <td>5</td>\n",
       "      <td>18.97</td>\n",
       "      <td>5</td>\n",
       "      <td>87.17</td>\n",
       "    </tr>\n",
       "    <tr>\n",
       "      <th>Specialty Retail</th>\n",
       "      <td>6</td>\n",
       "      <td>18.77</td>\n",
       "      <td>6</td>\n",
       "      <td>172.15</td>\n",
       "    </tr>\n",
       "    <tr>\n",
       "      <th>Industrials</th>\n",
       "      <th>Rental &amp; Leasing Services</th>\n",
       "      <td>2</td>\n",
       "      <td>16.96</td>\n",
       "      <td>2</td>\n",
       "      <td>6.16</td>\n",
       "    </tr>\n",
       "    <tr>\n",
       "      <th>Consumer Defensive</th>\n",
       "      <th>Beverages - Wineries &amp; Distilleries</th>\n",
       "      <td>1</td>\n",
       "      <td>16.59</td>\n",
       "      <td>1</td>\n",
       "      <td>38.92</td>\n",
       "    </tr>\n",
       "    <tr>\n",
       "      <th>Consumer Cyclical</th>\n",
       "      <th>Apparel Stores</th>\n",
       "      <td>3</td>\n",
       "      <td>15.02</td>\n",
       "      <td>3</td>\n",
       "      <td>40.89</td>\n",
       "    </tr>\n",
       "    <tr>\n",
       "      <th>Healthcare</th>\n",
       "      <th>Long-Term Care Facilities</th>\n",
       "      <td>1</td>\n",
       "      <td>14.67</td>\n",
       "      <td>1</td>\n",
       "      <td>3.00</td>\n",
       "    </tr>\n",
       "    <tr>\n",
       "      <th>Industrials</th>\n",
       "      <th>Staffing &amp; Outsourcing Services</th>\n",
       "      <td>3</td>\n",
       "      <td>13.25</td>\n",
       "      <td>3</td>\n",
       "      <td>4.03</td>\n",
       "    </tr>\n",
       "    <tr>\n",
       "      <th>Consumer Cyclical</th>\n",
       "      <th>Restaurants</th>\n",
       "      <td>5</td>\n",
       "      <td>12.64</td>\n",
       "      <td>5</td>\n",
       "      <td>26.98</td>\n",
       "    </tr>\n",
       "    <tr>\n",
       "      <th>Technology</th>\n",
       "      <th>Electronic Gaming &amp; Multimedia</th>\n",
       "      <td>1</td>\n",
       "      <td>12.07</td>\n",
       "      <td>1</td>\n",
       "      <td>11.28</td>\n",
       "    </tr>\n",
       "    <tr>\n",
       "      <th>Financial Services</th>\n",
       "      <th>Capital Markets</th>\n",
       "      <td>4</td>\n",
       "      <td>11.98</td>\n",
       "      <td>4</td>\n",
       "      <td>29.43</td>\n",
       "    </tr>\n",
       "    <tr>\n",
       "      <th>Consumer Cyclical</th>\n",
       "      <th>Auto Parts</th>\n",
       "      <td>2</td>\n",
       "      <td>11.92</td>\n",
       "      <td>2</td>\n",
       "      <td>2.51</td>\n",
       "    </tr>\n",
       "    <tr>\n",
       "      <th>Communication Services</th>\n",
       "      <th>Telecom Services</th>\n",
       "      <td>4</td>\n",
       "      <td>11.84</td>\n",
       "      <td>4</td>\n",
       "      <td>29.66</td>\n",
       "    </tr>\n",
       "    <tr>\n",
       "      <th>Consumer Defensive</th>\n",
       "      <th>Beverages - Brewers</th>\n",
       "      <td>1</td>\n",
       "      <td>11.50</td>\n",
       "      <td>1</td>\n",
       "      <td>3.94</td>\n",
       "    </tr>\n",
       "    <tr>\n",
       "      <th>Technology</th>\n",
       "      <th>Semiconductor Equipment &amp; Materials</th>\n",
       "      <td>4</td>\n",
       "      <td>11.44</td>\n",
       "      <td>4</td>\n",
       "      <td>6.32</td>\n",
       "    </tr>\n",
       "    <tr>\n",
       "      <th>Real Estate</th>\n",
       "      <th>REIT - Industrial</th>\n",
       "      <td>2</td>\n",
       "      <td>11.25</td>\n",
       "      <td>2</td>\n",
       "      <td>9.34</td>\n",
       "    </tr>\n",
       "    <tr>\n",
       "      <th>Industrials</th>\n",
       "      <th>Aerospace &amp; Defense</th>\n",
       "      <td>5</td>\n",
       "      <td>11.12</td>\n",
       "      <td>5</td>\n",
       "      <td>56.60</td>\n",
       "    </tr>\n",
       "    <tr>\n",
       "      <th>Consumer Cyclical</th>\n",
       "      <th>Leisure</th>\n",
       "      <td>4</td>\n",
       "      <td>10.81</td>\n",
       "      <td>4</td>\n",
       "      <td>28.75</td>\n",
       "    </tr>\n",
       "    <tr>\n",
       "      <th>Basic Materials</th>\n",
       "      <th>Building Materials</th>\n",
       "      <td>3</td>\n",
       "      <td>10.72</td>\n",
       "      <td>3</td>\n",
       "      <td>2.93</td>\n",
       "    </tr>\n",
       "  </tbody>\n",
       "</table>\n",
       "</div>"
      ],
      "text/plain": [
       "                                                           totalReturn         \\\n",
       "                                                                 count   mean   \n",
       "sector                 industry                                                 \n",
       "Technology             Software - Infrastructure                     3 150.42   \n",
       "Healthcare             Medical Devices                               1  27.80   \n",
       "Consumer Cyclical      Media - Diversified                           5  18.97   \n",
       "                       Specialty Retail                              6  18.77   \n",
       "Industrials            Rental & Leasing Services                     2  16.96   \n",
       "Consumer Defensive     Beverages - Wineries & Distilleries           1  16.59   \n",
       "Consumer Cyclical      Apparel Stores                                3  15.02   \n",
       "Healthcare             Long-Term Care Facilities                     1  14.67   \n",
       "Industrials            Staffing & Outsourcing Services               3  13.25   \n",
       "Consumer Cyclical      Restaurants                                   5  12.64   \n",
       "Technology             Electronic Gaming & Multimedia                1  12.07   \n",
       "Financial Services     Capital Markets                               4  11.98   \n",
       "Consumer Cyclical      Auto Parts                                    2  11.92   \n",
       "Communication Services Telecom Services                              4  11.84   \n",
       "Consumer Defensive     Beverages - Brewers                           1  11.50   \n",
       "Technology             Semiconductor Equipment & Materials           4  11.44   \n",
       "Real Estate            REIT - Industrial                             2  11.25   \n",
       "Industrials            Aerospace & Defense                           5  11.12   \n",
       "Consumer Cyclical      Leisure                                       4  10.81   \n",
       "Basic Materials        Building Materials                            3  10.72   \n",
       "\n",
       "                                                           marketCap         \n",
       "                                                               count   mean  \n",
       "sector                 industry                                              \n",
       "Technology             Software - Infrastructure                   3 331.54  \n",
       "Healthcare             Medical Devices                             1  25.81  \n",
       "Consumer Cyclical      Media - Diversified                         5  87.17  \n",
       "                       Specialty Retail                            6 172.15  \n",
       "Industrials            Rental & Leasing Services                   2   6.16  \n",
       "Consumer Defensive     Beverages - Wineries & Distilleries         1  38.92  \n",
       "Consumer Cyclical      Apparel Stores                              3  40.89  \n",
       "Healthcare             Long-Term Care Facilities                   1   3.00  \n",
       "Industrials            Staffing & Outsourcing Services             3   4.03  \n",
       "Consumer Cyclical      Restaurants                                 5  26.98  \n",
       "Technology             Electronic Gaming & Multimedia              1  11.28  \n",
       "Financial Services     Capital Markets                             4  29.43  \n",
       "Consumer Cyclical      Auto Parts                                  2   2.51  \n",
       "Communication Services Telecom Services                            4  29.66  \n",
       "Consumer Defensive     Beverages - Brewers                         1   3.94  \n",
       "Technology             Semiconductor Equipment & Materials         4   6.32  \n",
       "Real Estate            REIT - Industrial                           2   9.34  \n",
       "Industrials            Aerospace & Defense                         5  56.60  \n",
       "Consumer Cyclical      Leisure                                     4  28.75  \n",
       "Basic Materials        Building Materials                          3   2.93  "
      ]
     },
     "execution_count": 324,
     "metadata": {},
     "output_type": "execute_result"
    }
   ],
   "source": [
    "group_winners = hist_return.groupby(by=['sector', 'industry']).agg(['count', 'mean'])\n",
    "group_winners[['totalReturn', 'marketCap']]\\\n",
    "    .sort_values(by=('totalReturn','mean'), ascending=False)\\\n",
    "    .dropna().head(20)"
   ]
  },
  {
   "cell_type": "code",
   "execution_count": 322,
   "metadata": {
    "hidden": true
   },
   "outputs": [
    {
     "data": {
      "text/html": [
       "<div>\n",
       "<style scoped>\n",
       "    .dataframe tbody tr th:only-of-type {\n",
       "        vertical-align: middle;\n",
       "    }\n",
       "\n",
       "    .dataframe tbody tr th {\n",
       "        vertical-align: top;\n",
       "    }\n",
       "\n",
       "    .dataframe thead th {\n",
       "        text-align: right;\n",
       "    }\n",
       "</style>\n",
       "<table border=\"1\" class=\"dataframe\">\n",
       "  <thead>\n",
       "    <tr style=\"text-align: right;\">\n",
       "      <th></th>\n",
       "      <th>totalReturn</th>\n",
       "      <th>sector</th>\n",
       "      <th>industry</th>\n",
       "      <th>country</th>\n",
       "      <th>shortName</th>\n",
       "      <th>marketCap</th>\n",
       "      <th>size</th>\n",
       "    </tr>\n",
       "  </thead>\n",
       "  <tbody>\n",
       "    <tr>\n",
       "      <th>MANH</th>\n",
       "      <td>15.22</td>\n",
       "      <td>Technology</td>\n",
       "      <td>Software - Application</td>\n",
       "      <td>United States</td>\n",
       "      <td>Manhattan Associates, Inc.</td>\n",
       "      <td>4.24</td>\n",
       "      <td>mid</td>\n",
       "    </tr>\n",
       "    <tr>\n",
       "      <th>CRM</th>\n",
       "      <td>14.85</td>\n",
       "      <td>Technology</td>\n",
       "      <td>Software - Application</td>\n",
       "      <td>United States</td>\n",
       "      <td>Salesforce.com Inc</td>\n",
       "      <td>119.76</td>\n",
       "      <td>large</td>\n",
       "    </tr>\n",
       "    <tr>\n",
       "      <th>TYL</th>\n",
       "      <td>12.68</td>\n",
       "      <td>Technology</td>\n",
       "      <td>Software - Application</td>\n",
       "      <td>United States</td>\n",
       "      <td>Tyler Technologies, Inc.</td>\n",
       "      <td>8.19</td>\n",
       "      <td>mid</td>\n",
       "    </tr>\n",
       "    <tr>\n",
       "      <th>CDNS</th>\n",
       "      <td>12.25</td>\n",
       "      <td>Technology</td>\n",
       "      <td>Software - Application</td>\n",
       "      <td>United States</td>\n",
       "      <td>Cadence Design Systems, Inc.</td>\n",
       "      <td>19.30</td>\n",
       "      <td>large</td>\n",
       "    </tr>\n",
       "    <tr>\n",
       "      <th>ADBE</th>\n",
       "      <td>10.12</td>\n",
       "      <td>Technology</td>\n",
       "      <td>Software - Application</td>\n",
       "      <td>United States</td>\n",
       "      <td>Adobe Inc.</td>\n",
       "      <td>136.55</td>\n",
       "      <td>large</td>\n",
       "    </tr>\n",
       "    <tr>\n",
       "      <th>RHT</th>\n",
       "      <td>9.53</td>\n",
       "      <td>Technology</td>\n",
       "      <td>Software - Application</td>\n",
       "      <td>United States</td>\n",
       "      <td>Red Hat, Inc.</td>\n",
       "      <td>32.98</td>\n",
       "      <td>large</td>\n",
       "    </tr>\n",
       "    <tr>\n",
       "      <th>INTU</th>\n",
       "      <td>9.18</td>\n",
       "      <td>Technology</td>\n",
       "      <td>Software - Application</td>\n",
       "      <td>United States</td>\n",
       "      <td>Intuit Inc.</td>\n",
       "      <td>63.59</td>\n",
       "      <td>large</td>\n",
       "    </tr>\n",
       "    <tr>\n",
       "      <th>ADSK</th>\n",
       "      <td>8.42</td>\n",
       "      <td>Technology</td>\n",
       "      <td>Software - Application</td>\n",
       "      <td>United States</td>\n",
       "      <td>Autodesk, Inc.</td>\n",
       "      <td>38.38</td>\n",
       "      <td>large</td>\n",
       "    </tr>\n",
       "    <tr>\n",
       "      <th>PTC</th>\n",
       "      <td>7.33</td>\n",
       "      <td>Technology</td>\n",
       "      <td>Software - Application</td>\n",
       "      <td>United States</td>\n",
       "      <td>PTC Inc.</td>\n",
       "      <td>9.99</td>\n",
       "      <td>mid</td>\n",
       "    </tr>\n",
       "    <tr>\n",
       "      <th>ANSS</th>\n",
       "      <td>6.20</td>\n",
       "      <td>Technology</td>\n",
       "      <td>Software - Application</td>\n",
       "      <td>United States</td>\n",
       "      <td>ANSYS, Inc.</td>\n",
       "      <td>15.74</td>\n",
       "      <td>large</td>\n",
       "    </tr>\n",
       "    <tr>\n",
       "      <th>ACIW</th>\n",
       "      <td>5.94</td>\n",
       "      <td>Technology</td>\n",
       "      <td>Software - Application</td>\n",
       "      <td>United States</td>\n",
       "      <td>ACI Worldwide, Inc.</td>\n",
       "      <td>3.47</td>\n",
       "      <td>mid</td>\n",
       "    </tr>\n",
       "    <tr>\n",
       "      <th>NICE</th>\n",
       "      <td>5.38</td>\n",
       "      <td>Technology</td>\n",
       "      <td>Software - Application</td>\n",
       "      <td>Israel</td>\n",
       "      <td>NICE Ltd</td>\n",
       "      <td>8.74</td>\n",
       "      <td>mid</td>\n",
       "    </tr>\n",
       "    <tr>\n",
       "      <th>SNPS</th>\n",
       "      <td>5.00</td>\n",
       "      <td>Technology</td>\n",
       "      <td>Software - Application</td>\n",
       "      <td>United States</td>\n",
       "      <td>Synopsys, Inc.</td>\n",
       "      <td>18.17</td>\n",
       "      <td>large</td>\n",
       "    </tr>\n",
       "    <tr>\n",
       "      <th>PEGA</th>\n",
       "      <td>4.90</td>\n",
       "      <td>Technology</td>\n",
       "      <td>Software - Application</td>\n",
       "      <td>United States</td>\n",
       "      <td>Pegasystems Inc.</td>\n",
       "      <td>5.65</td>\n",
       "      <td>mid</td>\n",
       "    </tr>\n",
       "    <tr>\n",
       "      <th>BLKB</th>\n",
       "      <td>4.74</td>\n",
       "      <td>Technology</td>\n",
       "      <td>Software - Application</td>\n",
       "      <td>United States</td>\n",
       "      <td>Blackbaud, Inc.</td>\n",
       "      <td>3.84</td>\n",
       "      <td>mid</td>\n",
       "    </tr>\n",
       "  </tbody>\n",
       "</table>\n",
       "</div>"
      ],
      "text/plain": [
       "      totalReturn      sector                industry        country  \\\n",
       "MANH        15.22  Technology  Software - Application  United States   \n",
       "CRM         14.85  Technology  Software - Application  United States   \n",
       "TYL         12.68  Technology  Software - Application  United States   \n",
       "CDNS        12.25  Technology  Software - Application  United States   \n",
       "ADBE        10.12  Technology  Software - Application  United States   \n",
       "RHT          9.53  Technology  Software - Application  United States   \n",
       "INTU         9.18  Technology  Software - Application  United States   \n",
       "ADSK         8.42  Technology  Software - Application  United States   \n",
       "PTC          7.33  Technology  Software - Application  United States   \n",
       "ANSS         6.20  Technology  Software - Application  United States   \n",
       "ACIW         5.94  Technology  Software - Application  United States   \n",
       "NICE         5.38  Technology  Software - Application         Israel   \n",
       "SNPS         5.00  Technology  Software - Application  United States   \n",
       "PEGA         4.90  Technology  Software - Application  United States   \n",
       "BLKB         4.74  Technology  Software - Application  United States   \n",
       "\n",
       "                         shortName  marketCap   size  \n",
       "MANH    Manhattan Associates, Inc.       4.24    mid  \n",
       "CRM             Salesforce.com Inc     119.76  large  \n",
       "TYL       Tyler Technologies, Inc.       8.19    mid  \n",
       "CDNS  Cadence Design Systems, Inc.      19.30  large  \n",
       "ADBE                    Adobe Inc.     136.55  large  \n",
       "RHT                  Red Hat, Inc.      32.98  large  \n",
       "INTU                   Intuit Inc.      63.59  large  \n",
       "ADSK                Autodesk, Inc.      38.38  large  \n",
       "PTC                       PTC Inc.       9.99    mid  \n",
       "ANSS                   ANSYS, Inc.      15.74  large  \n",
       "ACIW           ACI Worldwide, Inc.       3.47    mid  \n",
       "NICE                      NICE Ltd       8.74    mid  \n",
       "SNPS                Synopsys, Inc.      18.17  large  \n",
       "PEGA              Pegasystems Inc.       5.65    mid  \n",
       "BLKB               Blackbaud, Inc.       3.84    mid  "
      ]
     },
     "execution_count": 322,
     "metadata": {},
     "output_type": "execute_result"
    }
   ],
   "source": [
    "hist_return.loc[hist_return.industry.isin(['Software - Application']), :]\\\n",
    "    .sort_values(by='totalReturn', ascending=False)"
   ]
  },
  {
   "cell_type": "code",
   "execution_count": null,
   "metadata": {
    "hidden": true
   },
   "outputs": [],
   "source": []
  },
  {
   "cell_type": "code",
   "execution_count": null,
   "metadata": {
    "hidden": true
   },
   "outputs": [],
   "source": []
  },
  {
   "cell_type": "markdown",
   "metadata": {
    "hidden": true
   },
   "source": [
    "#### historical price performance analysis"
   ]
  },
  {
   "cell_type": "code",
   "execution_count": 140,
   "metadata": {
    "hidden": true
   },
   "outputs": [
    {
     "name": "stdout",
     "output_type": "stream",
     "text": [
      "Mean positive: 0.23362956941127777, Mean negative: -0.13078920543193817\n"
     ]
    },
    {
     "data": {
      "image/png": "[encoded data removed]",
      "text/plain": [
       "<Figure size 432x288 with 1 Axes>"
      ]
     },
     "metadata": {
      "needs_background": "light"
     },
     "output_type": "display_data"
    }
   ],
   "source": [
    "# Average increase and decrease over a give time period\n",
    "prices = px_close.dropna(subset=[bench])[tickers]\n",
    "excl_tickers = list(prices.iloc[-1].isna().loc[prices.iloc[-1].isna().values].index)\n",
    "prices = prices[excl(prices.columns, excl_tickers)]\n",
    "\n",
    "look_ahead = context['look_ahead']\n",
    "pos_ret = prices.pct_change(look_ahead).where(prices.pct_change(look_ahead) > 0)\n",
    "pos_ret.mean(1).plot();\n",
    "neg_ret = prices.pct_change(look_ahead).where(prices.pct_change(look_ahead) < 0)\n",
    "neg_ret.mean(1).plot();\n",
    "print(f'Mean positive: {pos_ret.mean(1).mean()}, Mean negative: {neg_ret.mean(1).mean()}')"
   ]
  },
  {
   "cell_type": "code",
   "execution_count": 135,
   "metadata": {
    "hidden": true
   },
   "outputs": [
    {
     "data": {
      "text/plain": [
       "<matplotlib.axes._subplots.AxesSubplot at 0x155e520f0>"
      ]
     },
     "execution_count": 135,
     "metadata": {},
     "output_type": "execute_result"
    },
    {
     "data": {
      "image/png": "[encoded data removed]",
      "text/plain": [
       "<Figure size 432x288 with 1 Axes>"
      ]
     },
     "metadata": {
      "needs_background": "light"
     },
     "output_type": "display_data"
    }
   ],
   "source": [
    "\n",
    "pos_ret.mean(1).hist(bins=40)\n",
    "# pos_ret.mean(1).plot.kde(secondary_y=True)"
   ]
  },
  {
   "cell_type": "code",
   "execution_count": 136,
   "metadata": {
    "hidden": true
   },
   "outputs": [
    {
     "data": {
      "text/plain": [
       "<matplotlib.axes._subplots.AxesSubplot at 0x14c739e80>"
      ]
     },
     "execution_count": 136,
     "metadata": {},
     "output_type": "execute_result"
    },
    {
     "data": {
      "image/png": "[encoded data removed]",
      "text/plain": [
       "<Figure size 432x288 with 1 Axes>"
      ]
     },
     "metadata": {
      "needs_background": "light"
     },
     "output_type": "display_data"
    }
   ],
   "source": [
    "neg_ret.mean(1).hist(bins=40)\n",
    "# neg_ret.mean(1).plot.kde(secondary_y=True)"
   ]
  },
  {
   "cell_type": "code",
   "execution_count": 550,
   "metadata": {
    "hidden": true
   },
   "outputs": [
    {
     "data": {
      "text/plain": [
       "array([ -inf, -0.23, -0.15,  0.14,  0.22,   inf])"
      ]
     },
     "execution_count": 550,
     "metadata": {},
     "output_type": "execute_result"
    }
   ],
   "source": [
    "# class distribution cuts\n",
    "np.round(get_return_intervals(prices, 120, tresholds=[0.1, 0.5]), 2)"
   ]
  },
  {
   "cell_type": "markdown",
   "metadata": {
    "hidden": true
   },
   "source": [
    "#### Max draws / Max pulls"
   ]
  },
  {
   "cell_type": "code",
   "execution_count": 543,
   "metadata": {
    "code_folding": [],
    "hidden": true
   },
   "outputs": [
    {
     "name": "stdout",
     "output_type": "stream",
     "text": [
      "Max draw: -0.09079279780791061, Max pull: 0.09960461974123547\n"
     ]
    },
    {
     "data": {
      "image/png": "[encoded data removed]",
      "text/plain": [
       "<Figure size 432x288 with 1 Axes>"
      ]
     },
     "metadata": {
      "needs_background": "light"
     },
     "output_type": "display_data"
    }
   ],
   "source": [
    "# Test cumulative drawdowns and pulls\n",
    "from utils.pricing import max_draw_pull\n",
    "\n",
    "n = 100\n",
    "r_w = np.random.randn(n).cumsum() + 100\n",
    "l_dd, h_dd, l_p, h_p = max_draw_pull(r_w)\n",
    "\n",
    "plt.plot(r_w)\n",
    "plt.plot([l_dd, h_dd], [r_w[l_dd], r_w[h_dd],], 'o', color='Red', markersize=10)\n",
    "plt.plot([l_p, h_p], [r_w[l_p], r_w[h_p]], 'o', color='Green', markersize=10)\n",
    "\n",
    "print(f'Max draw: {r_w[l_dd]/r_w[h_dd]-1}, Max pull: {r_w[h_p]/r_w[l_p]-1}')"
   ]
  },
  {
   "cell_type": "markdown",
   "metadata": {
    "heading_collapsed": true,
    "hidden": true
   },
   "source": [
    "#### Date and minute based time analysis"
   ]
  },
  {
   "cell_type": "code",
   "execution_count": null,
   "metadata": {
    "hidden": true
   },
   "outputs": [],
   "source": [
    "freq = '1d'"
   ]
  },
  {
   "cell_type": "code",
   "execution_count": null,
   "metadata": {
    "hidden": true
   },
   "outputs": [],
   "source": [
    "# s1, s2 = '1810.HK', 'AAPL'\n",
    "group_pricing = pd.DataFrame()\n",
    "df1 = get_symbol_pricing(s1, freq, ['close'])\n",
    "df2 = get_symbol_pricing(s2, freq, ['close'])\n",
    "group_pricing = pd.DataFrame(df1)\n",
    "# group_pricing.loc[:, s2] = df2\n",
    "group_pricing = pd.concat([group_pricing, df2], axis=1)\n",
    "group_pricing.describe()\n",
    "# group_pricing"
   ]
  },
  {
   "cell_type": "code",
   "execution_count": null,
   "metadata": {
    "hidden": true
   },
   "outputs": [],
   "source": [
    "path = config['pricing_path'].format(freq)\n",
    "data_dict = json_load(path + json_ext.format(ticker))\n",
    "\n",
    "tz = data_dict['meta']['exchangeTimezoneName']\n",
    "df = build_px_struct(data_dict, freq)\n",
    "\n",
    "adjClose = data_dict['indicators']['adjclose'][0] if 'adjclose' in  data_dict['indicators'] else 0\n",
    "close = data_dict['indicators']['quote'][0]\n",
    "data_dict.keys(), data_dict['indicators'].keys()"
   ]
  },
  {
   "cell_type": "code",
   "execution_count": null,
   "metadata": {
    "hidden": true
   },
   "outputs": [],
   "source": [
    "df.index.date"
   ]
  },
  {
   "cell_type": "code",
   "execution_count": null,
   "metadata": {
    "hidden": true
   },
   "outputs": [],
   "source": [
    "dates = pd.to_datetime(\n",
    "        data_dict['timestamp'], \n",
    "        unit='s', infer_datetime_format=True)\n",
    "# dates = dates.astype(f'datetime64[ns, {tz}]')\n",
    "# dates.tz_convert('America/New_York')\n",
    "# dates = dates.tz_localize('America/New_York')\n",
    "dates.floor('d' if freq == '1d' else 'min')"
   ]
  },
  {
   "cell_type": "code",
   "execution_count": null,
   "metadata": {
    "hidden": true
   },
   "outputs": [],
   "source": [
    "df.tail(5)"
   ]
  },
  {
   "cell_type": "code",
   "execution_count": null,
   "metadata": {
    "hidden": true
   },
   "outputs": [],
   "source": [
    "freq = '1d'"
   ]
  },
  {
   "cell_type": "code",
   "execution_count": null,
   "metadata": {
    "hidden": true
   },
   "outputs": [],
   "source": [
    "%time px_close = get_mults_pricing(symbols_list[:10], freq);"
   ]
  },
  {
   "cell_type": "code",
   "execution_count": null,
   "metadata": {
    "hidden": true
   },
   "outputs": [],
   "source": [
    "# [px_close[x].dropna().tail() for x in px_close.columns]\n",
    "px_close.describe()\n",
    "# px_close.tail()"
   ]
  },
  {
   "cell_type": "code",
   "execution_count": null,
   "metadata": {
    "hidden": true
   },
   "outputs": [],
   "source": [
    "f'Ticker: {ticker}'"
   ]
  },
  {
   "cell_type": "code",
   "execution_count": null,
   "metadata": {
    "hidden": true
   },
   "outputs": [],
   "source": [
    "px = get_symbol_pricing(ticker, freq)\n",
    "px.close.tail()"
   ]
  },
  {
   "cell_type": "markdown",
   "metadata": {
    "heading_collapsed": true,
    "hidden": true
   },
   "source": [
    "#### Old code"
   ]
  },
  {
   "cell_type": "code",
   "execution_count": null,
   "metadata": {
    "hidden": true
   },
   "outputs": [],
   "source": [
    "# test distribution of Y variable\n",
    "tickers = list(mu.sample_sector_tickers(eqty_symbols, profile, sectors, 50).index)\n",
    "context['grid_search'] = False\n",
    "context['tickers'] = tickers\n",
    "context['train_model'] = True\n",
    "\n",
    "df_large = create_ds(context)\n",
    "\n",
    "df = df_large.copy()\n",
    "df.dropna(subset=[y_col], inplace=True)\n",
    "df[y_col] = discret_rets(df[y_col], cut_range, fwd_ret_labels)\n",
    "df.dropna(subset=[y_col], inplace=True) # no nas in y_col\n",
    "df[y_col] = df[y_col].astype(str) # class as string\n",
    "sample_wgts(df[y_col])\n",
    "\n",
    "pred_X, X_traxin, X_test, y_train, y_test = pre_process_ds(df_large, context)\n",
    "pd.value_counts(discret_rets(df_large.fwdReturn, cut_range, fwd_ret_labels)).sum()\n",
    "pd.value_counts(pd.concat([y_train, y_test], axis=0)).sum()"
   ]
  },
  {
   "cell_type": "code",
   "execution_count": null,
   "metadata": {
    "hidden": true
   },
   "outputs": [],
   "source": [
    "# Retrieves historical pricing\n",
    "secpx = get_symbol_pricing(symbol, freq)\n",
    "secpx.set_index(secpx.index.astype(np.datetime64), inplace=True)"
   ]
  },
  {
   "cell_type": "code",
   "execution_count": null,
   "metadata": {
    "hidden": true
   },
   "outputs": [],
   "source": [
    "fwd_ss_ret = lambda x, df, arr: df.loc[[y for y in arr[x-1] if y in df.index.tolist()]].mean()"
   ]
  },
  {
   "cell_type": "code",
   "execution_count": null,
   "metadata": {
    "hidden": true
   },
   "outputs": [],
   "source": [
    "# seasonality analysis\n",
    "ss_df = closepx.pct_change().resample('M').sum().to_frame()\n",
    "ss_df['year'], ss_df['month'] = ss_df.index.year, ss_df.index.month\n",
    "ss_df = ss_df.pivot_table(index='year', columns='month').mean()\n",
    "ss_pos = [(x, (x+1) if not (x+1) // 12 else 0, \n",
    "     x+2 if not (x+2) // 12 else x - 10) for x in range(12)]\n",
    "\n",
    "# [fwd_ss_ret(x+1, ss_df['close'], ss_pos) for x in range(12)] # test"
   ]
  },
  {
   "cell_type": "code",
   "execution_count": null,
   "metadata": {
    "hidden": true
   },
   "outputs": [],
   "source": [
    "# apply seasonality, mean return of curr month plus next two\n",
    "secpx['month'] = secpx.index.month\n",
    "secpx['fwdSSRet'] = secpx.loc[:].month.apply(\n",
    "    fwd_ss_ret, args=(ss_df['close'], ss_pos,))"
   ]
  },
  {
   "cell_type": "code",
   "execution_count": null,
   "metadata": {
    "hidden": true
   },
   "outputs": [],
   "source": [
    "secpx.columns # all columns"
   ]
  },
  {
   "cell_type": "code",
   "execution_count": null,
   "metadata": {
    "hidden": true
   },
   "outputs": [],
   "source": [
    "# normalized columns for ML training, still has outliers\n",
    "ml_ds_cols = secpx.describe().loc['50%'][secpx.describe().loc['50%'] < 5].index.tolist()\n",
    "ml_ds_cols"
   ]
  },
  {
   "cell_type": "code",
   "execution_count": null,
   "metadata": {
    "hidden": true
   },
   "outputs": [],
   "source": [
    "# prepare ML dataset\n",
    "ml_ds = secpx[ml_ds_cols].copy()\n",
    "\n",
    "class_cols = ['fwdChg1w', 'fwdChg1m', 'fwdChg3m']\n",
    "cut_range = [-1, -0.05, .0, .02, .09, 1.]\n",
    "fwd_ret_labels = [\"bear\", \"short\", \"neutral\", \"long\", \"bull\"]\n",
    "\n",
    "for c in class_cols: ml_ds[c] = pd.cut(secpx[c], cut_range, labels=fwd_ret_labels)\n",
    "ml_ds.info()"
   ]
  },
  {
   "cell_type": "code",
   "execution_count": null,
   "metadata": {
    "hidden": true
   },
   "outputs": [],
   "source": [
    "# drop the predicting class with most nas\n",
    "ml_ds.dropna(inplace=True)\n",
    "ml_ds.info()"
   ]
  },
  {
   "cell_type": "code",
   "execution_count": null,
   "metadata": {
    "hidden": true
   },
   "outputs": [],
   "source": [
    "ml_ds.hist(figsize=(15,15));"
   ]
  },
  {
   "cell_type": "code",
   "execution_count": null,
   "metadata": {
    "hidden": true
   },
   "outputs": [],
   "source": [
    "ml_ds.to_csv(csv_ext.format('co_price_mom_ds'), index=False)"
   ]
  }
 ],
 "metadata": {
  "kernelspec": {
   "display_name": "Python 3",
   "language": "python",
   "name": "python3"
  },
  "language_info": {
   "codemirror_mode": {
    "name": "ipython",
    "version": 3
   },
   "file_extension": ".py",
   "mimetype": "text/x-python",
   "name": "python",
   "nbconvert_exporter": "python",
   "pygments_lexer": "ipython3",
   "version": "3.6.8"
  },
  "toc": {
   "base_numbering": 1,
   "nav_menu": {},
   "number_sections": true,
   "sideBar": true,
   "skip_h1_title": false,
   "title_cell": "Table of Contents",
   "title_sidebar": "Contents",
   "toc_cell": false,
   "toc_position": {},
   "toc_section_display": true,
   "toc_window_display": false
  }
 },
 "nbformat": 4,
 "nbformat_minor": 2
}
