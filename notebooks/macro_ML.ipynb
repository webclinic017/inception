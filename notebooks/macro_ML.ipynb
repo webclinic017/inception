{
 "cells": [
  {
   "cell_type": "code",
   "execution_count": 105,
   "metadata": {
    "code_folding": []
   },
   "outputs": [],
   "source": [
    "# imports\n",
    "%reload_ext autoreload\n",
    "%autoreload 2\n",
    "%matplotlib inline \n",
    "\n",
    "import sys, os\n",
    "from utils.basic_utils import *\n",
    "from utils.pricing import *\n",
    "from utils.fundamental import *\n",
    "from utils import ml_utils as mu\n",
    "\n",
    "pd.options.display.float_format = '{:,.2f}'.format\n",
    "\n",
    "from sklearn import preprocessing\n",
    "from sklearn.preprocessing import StandardScaler\n",
    "from sklearn.impute import SimpleImputer\n",
    "from pandas.api.types import is_string_dtype, is_numeric_dtype, is_categorical_dtype\n",
    "from sklearn.ensemble import forest\n",
    "\n",
    "from sklearn.model_selection import cross_val_score, cross_validate, train_test_split\n",
    "from sklearn.model_selection import GridSearchCV\n",
    "from sklearn.utils.multiclass import unique_labels\n",
    "from sklearn.metrics import confusion_matrix, classification_report\n",
    "from sklearn.metrics import accuracy_score, log_loss, precision_recall_fscore_support\n",
    "from sklearn.metrics import precision_score, roc_auc_score\n",
    "\n",
    "from sklearn.ensemble import VotingClassifier\n",
    "from sklearn.ensemble import RandomForestClassifier\n",
    "from sklearn.ensemble import ExtraTreesClassifier\n",
    "from sklearn.neural_network import MLPClassifier\n",
    "from sklearn.externals import joblib\n",
    "\n",
    "import numpy as np\n",
    "import keras\n",
    "from keras.models import Sequential, load_model\n",
    "from keras.layers import Dense, Dropout, Activation\n",
    "from keras.optimizers import SGD, Adam, Adagrad, Adadelta, Adamax, Nadam, RMSprop\n",
    "from keras.callbacks import EarlyStopping, ModelCheckpoint\n",
    "from keras.callbacks import CSVLogger"
   ]
  },
  {
   "cell_type": "code",
   "execution_count": 2,
   "metadata": {},
   "outputs": [
    {
     "data": {
      "text/plain": [
       "[]"
      ]
     },
     "execution_count": 2,
     "metadata": {},
     "output_type": "execute_result"
    }
   ],
   "source": [
    "from keras import backend as K\n",
    "K.tensorflow_backend._get_available_gpus()"
   ]
  },
  {
   "cell_type": "code",
   "execution_count": 3,
   "metadata": {
    "code_folding": [],
    "scrolled": true
   },
   "outputs": [],
   "source": [
    "# environment variables\n",
    "freq = '1d'\n",
    "cuts = { '1d': [-1, -0.1, -.02, .02, .1, 1.] }\n",
    "cut_range = cuts[freq]\n",
    "fwd_ret_labels = [\"bear\", \"short\", \"neutral\", \"long\", \"bull\"]\n",
    "\n",
    "# pricing, refresh once\n",
    "benchSL, sectorSL, riskSL, rateSL, bondSL, commSL, currSL = \\\n",
    "    config['benchmarks'], config['sectors'], config['risk'], config['rates'], \\\n",
    "    config['bonds'], config['commodities'], config['currencies']\n",
    "symbols_list = benchSL + sectorSL + riskSL + rateSL + bondSL + commSL + currSL\n",
    "\n",
    "keep_bench = excl(benchSL, ['^STOXX50E', '^AXJO'])\n",
    "keep_fx = excl(currSL, ['HKD=X', 'MXN=X', 'AUDUSD=X', 'NZDUSD=X', 'TWD=X', 'CLP=X', 'KRW=X'])\n",
    "keep_sect = excl(sectorSL, ['SPY', 'QQQ', 'DIA', 'IWM', 'XLC', 'XLRE'])\n",
    "keep_bonds = ['LQD', 'HYG']\n",
    "\n",
    "include = riskSL + keep_bench + keep_sect + rateSL + keep_fx + keep_bonds\n",
    "invert = ['EURUSD=X', 'GBPUSD=X']\n",
    "incl_price = riskSL\n",
    "\n",
    "bench = '^GSPC'\n",
    "y_col = 'fwdReturn'\n",
    "pred_fwd_windows = [20, 60, 120]\n",
    "rate_windows = [20, 60]\n",
    "sec_windows, stds = [5, 20, 60], 1"
   ]
  },
  {
   "cell_type": "code",
   "execution_count": 100,
   "metadata": {
    "code_folding": []
   },
   "outputs": [],
   "source": [
    "# utility functions\n",
    "def create_ds(px_close, context):\n",
    "    print('create_ds')\n",
    "    portion = context['portion']\n",
    "    verbose = context['verbose']\n",
    "    # average the return of the next periods\n",
    "    # select only rows where Y variable is not null\n",
    "    ds_idx = px_close.dropna(subset=[bench]).index\n",
    "\n",
    "    df_large = pd.DataFrame()\n",
    "    rate_ft_df = rate_feats(px_close[rateSL], rate_windows) # rate transforms\n",
    "    df_large[rate_ft_df.columns] = rate_ft_df\n",
    "\n",
    "    # price momentum transforms\n",
    "    super_list = []\n",
    "    for ticker in include:\n",
    "        inv = ticker in invert\n",
    "        incl_px = ticker in incl_price\n",
    "        df = px_close[ticker]\n",
    "        ft_df = px_mom_feats(df, ticker, stds, inv, incl_px, sec_windows)\n",
    "        super_list.append(ft_df.drop_duplicates())\n",
    "    df_large = pd.concat(super_list, axis=1).sort_index()\n",
    "    df_large = df_large.loc[ds_idx, :] # drop NAs before discretizing\n",
    "\n",
    "    return ds_idx, df_large\n",
    "\n",
    "def pre_process_ds(raw_df, context):\n",
    "    \n",
    "    print('pre_process_ds')\n",
    "    fill_on, scaler_on = context['fill'], context['scale']\n",
    "    ml_path = context['ml_path']\n",
    "    train_cols = context['trained_cols']\n",
    "    test_sz, verbose = context['test_size'], context['verbose']\n",
    "\n",
    "    scaler = StandardScaler()\n",
    "    X_cols = excl(raw_df.columns, [y_col])\n",
    "\n",
    "    raw_df.replace([np.inf, -np.inf], np.nan, inplace=True)\n",
    "    if scaler_on: raw_df[X_cols] = scaler.fit_transform(raw_df[X_cols])\n",
    "    if fill_on: raw_df.loc[:, X_cols] = raw_df.fillna(method=fill_on)\n",
    "\n",
    "    return raw_df\n",
    "\n",
    "def train_ds(context):\n",
    "    \n",
    "    print('Benchmark: {}, Y: {}, Include: {}, invert: {}, include price: {}'.format(\n",
    "    bench, y_col, include, invert, incl_price))\n",
    "\n",
    "    context['train_model'] = True\n",
    "    ml_path = context['ml_path']\n",
    "    verbose = context['verbose']\n",
    "    units = context['units']\n",
    "    max_iter = context['max_iter']\n",
    "    l2_reg = context['l2_reg']\n",
    "    dropout = context['dropout']\n",
    "    trained_cols = context['trained_cols']\n",
    "    imputer_on = context['impute']\n",
    "    test_sz = context['test_size']\n",
    "\n",
    "    # create and pre-process datasets\n",
    "    _, raw_df = create_ds(px_close, context)    \n",
    "    raw_df = pre_process_ds(raw_df, context)\n",
    "    Y = px_fwd_rets(px_close.loc[ds_idx, bench], bench, pred_fwd_windows).mean(axis=1)\n",
    "    raw_df[y_col] = Y\n",
    "    \n",
    "    # discretize forward returns into classes\n",
    "    raw_df.dropna(subset=[y_col], inplace=True)\n",
    "    raw_df.loc[:, y_col] = discret_rets(raw_df[y_col], cut_range, fwd_ret_labels)\n",
    "    raw_df.dropna(subset=[y_col], inplace=True) # no nas in y_col\n",
    "    print(sample_wgts(raw_df[y_col]))\n",
    "    raw_df.loc[:, y_col] = raw_df[y_col].astype(str) # class as string\n",
    "\n",
    "    X_cols = excl(raw_df.columns, [y_col])\n",
    "    imputer = SimpleImputer(\n",
    "        missing_values=np.nan,\n",
    "        strategy='median', copy=False)\n",
    "    if imputer_on: raw_df.loc[:, X_cols] = imputer.fit_transform(raw_df[X_cols])\n",
    "    else: raw_df.dropna(inplace=True)\n",
    "\n",
    "    X, y = raw_df.drop(columns=y_col), raw_df[y_col]\n",
    "    X_train, X_test, y_train, y_test = train_test_split(\n",
    "        X, y, test_size=test_sz, random_state=None) \n",
    "    \n",
    "    # save training columns\n",
    "    np.save(ml_path + trained_cols, X_train.columns) # save feature order\n",
    "    print(f'X_train.shape {X_train.shape}, columns: {list(X_train.columns)}')\n",
    "    print('Saved: ', ml_path + trained_cols)\n",
    "    \n",
    "    # Keras Model\n",
    "    y_train_oh = pd.get_dummies(y_train)[fwd_ret_labels]\n",
    "    y_test_oh = pd.get_dummies(y_test)[fwd_ret_labels]\n",
    "    \n",
    "    keras.regularizers.l2(l=0.5)\n",
    "\n",
    "    model = Sequential()\n",
    "    model.add(Dense(units, activation='relu', input_dim=X_train.shape[1]))\n",
    "    model.add(Dropout(0.5))\n",
    "    model.add(Dense(units, activation='relu'))\n",
    "    model.add(Dropout(0.5))\n",
    "    model.add(Dense(units, activation='relu'))\n",
    "    model.add(Dropout(0.5))\n",
    "    model.add(Dense(int(units/2), activation='relu'))\n",
    "    model.add(Dense(len(pd.unique(y_train)), activation='softmax'))\n",
    "\n",
    "    ml_path, model_name = context['ml_path'], context['model_name']\n",
    "    fname = ml_path + model_name\n",
    "\n",
    "    es = EarlyStopping(monitor='loss', patience=10, restore_best_weights=True, verbose=1)\n",
    "    checkpointer = ModelCheckpoint(filepath=fname, verbose=1, save_best_only=True)\n",
    "    csv_logger = CSVLogger('macro-train.log')\n",
    "\n",
    "    opt = Adam()\n",
    "    model.compile(loss='categorical_crossentropy', optimizer=opt, metrics=['accuracy'])\n",
    "\n",
    "    history = model.fit(\n",
    "    X_train, y_train_oh, validation_data=(X_test, y_test_oh),\n",
    "    epochs=max_iter, batch_size=200,callbacks=[es, checkpointer, csv_logger])\n",
    "\n",
    "    score = model.evaluate(X_test, y_test_oh)\n",
    "    print(f'Loss: {score[0]}, Accuracy: {score[1]}')\n",
    "\n",
    "    # save model to drive\n",
    "    ml_path, model_name = context['ml_path'], context['model_name']\n",
    "    fname = ml_path + model_name\n",
    "    model.save(fname)\n",
    "    print('Saved ', fname)\n",
    "    \n",
    "\n",
    "def predict_ds(context):      \n",
    "    ml_path = context['ml_path']\n",
    "    model_name = context['model_name']\n",
    "    trained_cols = context['trained_cols']\n",
    "    pred_batch = context['predict_batch']\n",
    "    \n",
    "    ds_idx, raw_df = create_ds(px_close, context)\n",
    "    pred_X = pre_process_ds(raw_df, context)\n",
    "    pred_X = pred_X.iloc[-pred_batch:,:].dropna(axis=0)\n",
    "    print('pred_X.shape', pred_X.shape)\n",
    "\n",
    "    # ensure prediction dataset is consistent with trained model\n",
    "    train_cols = np.load(ml_path + trained_cols, allow_pickle=True) # save feature order\n",
    "    missing_cols = [x for x in train_cols if x not in pred_X.columns]\n",
    "    if len(missing_cols):\n",
    "        print(f'Warning missing columns: {missing_cols}')\n",
    "        pred_X = pd.concat([pred_X, pd.DataFrame(columns=missing_cols)], axis=1)\n",
    "        pred_X[missing_cols] = 0\n",
    "\n",
    "    print('pred_X.shape', pred_X[train_cols].shape)\n",
    "\n",
    "    pred_df = px_close.loc[pred_X.index, bench].to_frame()\n",
    "\n",
    "    # Load model    \n",
    "    fname = ml_path + model_name\n",
    "    model = load_model(fname)\n",
    "    print('Loaded', fname)\n",
    "\n",
    "    preds = model.predict(pred_X[train_cols])\n",
    "    preds_classes = model.predict_classes(pred_X[train_cols])    \n",
    "    \n",
    "    pred_df['pred_class'] = preds_classes\n",
    "    pred_df['pred_label'] = list(map(lambda x: fwd_ret_labels[x], preds_classes))\n",
    "    probs = np.round(preds,3)\n",
    "    pred_prob = np.argmax(probs, axis=1)\n",
    "    pred_df['confidence'] = [x[np.argmax(x)] for x in probs] # higest prob\n",
    "    prob_df = pd.DataFrame(probs, index=pred_df.index, columns=fwd_ret_labels)\n",
    "    pred_df = pd.concat([pred_df, prob_df[fwd_ret_labels]], axis=1)\n",
    "    pred_df.index.name = 'pred_date'\n",
    "\n",
    "    # store in S3\n",
    "    s3_path = context['s3_path']\n",
    "    s3_df = pred_df.reset_index(drop=False)\n",
    "    rename_col(s3_df, 'index', 'pred_date')\n",
    "    tgt_date = str(pred_X.index[-1])\n",
    "    csv_store(s3_df, s3_path, csv_ext.format(tgt_date))\n",
    "            \n",
    "    return pred_df"
   ]
  },
  {
   "cell_type": "markdown",
   "metadata": {},
   "source": [
    "### Final version"
   ]
  },
  {
   "cell_type": "markdown",
   "metadata": {},
   "source": [
    "Given the date range of key series currently working only with:\n",
    "- Benchmarks: DOW, Nasdaq, SPY, and Russell 2000\n",
    "- Sectors ETFs (excluding benchmarks)\n",
    "- Rates: 2, 5, 10, and 30 year treasuries\n",
    "- Risk: VIX\n",
    "- Hard currencies (JPY, EUR, GBP and Dollar Index DXY)\n",
    "- Corporate Bonds: Investment Grade (LQD), High Yield (JNK and HYG)\n",
    "\n",
    "Ideally would like to go back further are include:\n",
    "- Commodities price change\n",
    "- Yields Spreads from Corporate Spreads"
   ]
  },
  {
   "cell_type": "code",
   "execution_count": 63,
   "metadata": {},
   "outputs": [],
   "source": [
    "context = {\n",
    "    'portion': 100e-2,\n",
    "    'ml_path': '../ML/',\n",
    "    'model_name': 'macro_TF.h5',\n",
    "    'tmp_path': '../tmp/',\n",
    "    'ds_name': 'co-bottomup-ds',\n",
    "    'px_close': 'universe-px-ds',\n",
    "    'trained_cols': 'macro_TF_train_cols.npy',\n",
    "    'look_ahead': 20,\n",
    "    'look_back': 252,\n",
    "    'smooth_window': 10,\n",
    "    'predict_batch': 252,\n",
    "    'load_ds': True,\n",
    "    'impute': True,\n",
    "    'fill': 'ffill',\n",
    "    'scale': True,\n",
    "    'test_size': .10,\n",
    "    's3_path': 'recommend/macro_ML/',\n",
    "    'verbose': 2,\n",
    "    'units': 1000,\n",
    "    'hidden_layers': 4,\n",
    "    'max_iter': 400,\n",
    "    'l2_reg': 0.5,\n",
    "    'dropout': 0.5,\n",
    "}"
   ]
  },
  {
   "cell_type": "code",
   "execution_count": 58,
   "metadata": {},
   "outputs": [
    {
     "name": "stdout",
     "output_type": "stream",
     "text": [
      "px_close.shape (4374, 34)\n"
     ]
    },
    {
     "name": "stderr",
     "output_type": "stream",
     "text": [
      "/Users/vveiga/miniconda3/envs/inception2/lib/python3.7/site-packages/pyarrow/pandas_compat.py:708: FutureWarning: .labels was deprecated in version 0.24.0. Use .codes instead.\n",
      "  labels = getattr(columns, 'labels', None) or [\n",
      "/Users/vveiga/miniconda3/envs/inception2/lib/python3.7/site-packages/pyarrow/pandas_compat.py:735: FutureWarning: the 'labels' keyword is deprecated, use 'codes' instead\n",
      "  return pd.MultiIndex(levels=new_levels, labels=labels, names=columns.names)\n",
      "/Users/vveiga/miniconda3/envs/inception2/lib/python3.7/site-packages/pyarrow/pandas_compat.py:752: FutureWarning: .labels was deprecated in version 0.24.0. Use .codes instead.\n",
      "  labels, = index.labels\n"
     ]
    }
   ],
   "source": [
    "px_close = load_px_close(\n",
    "    context['tmp_path'],\n",
    "    context['px_close'],\n",
    "    context['load_ds'])[include].drop_duplicates()\n",
    "# px_close = get_mults_pricing(include, freq, verbose=context['verbose']);\n",
    "# px_close.drop_duplicates(inplace=True)\n",
    "print('px_close.shape', px_close.shape)"
   ]
  },
  {
   "cell_type": "markdown",
   "metadata": {},
   "source": [
    "#### Train"
   ]
  },
  {
   "cell_type": "code",
   "execution_count": null,
   "metadata": {
    "code_folding": [],
    "scrolled": false
   },
   "outputs": [],
   "source": [
    "%time train_ds(context)"
   ]
  },
  {
   "cell_type": "markdown",
   "metadata": {},
   "source": [
    "#### Predict"
   ]
  },
  {
   "cell_type": "code",
   "execution_count": 107,
   "metadata": {},
   "outputs": [
    {
     "name": "stdout",
     "output_type": "stream",
     "text": [
      "create_ds\n"
     ]
    },
    {
     "name": "stderr",
     "output_type": "stream",
     "text": [
      "/Users/vveiga/miniconda3/envs/inception2/lib/python3.7/site-packages/ipykernel_launcher.py:22: FutureWarning: Sorting because non-concatenation axis is not aligned. A future version\n",
      "of pandas will change to not sort by default.\n",
      "\n",
      "To accept the future behavior, pass 'sort=False'.\n",
      "\n",
      "To retain the current behavior and silence the warning, pass 'sort=True'.\n",
      "\n",
      "/Users/vveiga/miniconda3/envs/inception2/lib/python3.7/site-packages/sklearn/preprocessing/data.py:645: DataConversionWarning: Data with input dtype float32, float64 were all converted to float64 by StandardScaler.\n",
      "  return self.partial_fit(X, y)\n",
      "/Users/vveiga/miniconda3/envs/inception2/lib/python3.7/site-packages/sklearn/base.py:464: DataConversionWarning: Data with input dtype float32, float64 were all converted to float64 by StandardScaler.\n",
      "  return self.fit(X, **fit_params).transform(X)\n"
     ]
    },
    {
     "name": "stdout",
     "output_type": "stream",
     "text": [
      "pre_process_ds\n",
      "pred_X.shape (252, 307)\n",
      "pred_X.shape (252, 307)\n",
      "Loaded ../ML/macro_TF.h5\n",
      "Saved recommend/macro_ML/2019-05-13.csv\n",
      "CPU times: user 8.26 s, sys: 2.68 s, total: 10.9 s\n",
      "Wall time: 6.25 s\n"
     ]
    },
    {
     "data": {
      "text/html": [
       "<div>\n",
       "<style scoped>\n",
       "    .dataframe tbody tr th:only-of-type {\n",
       "        vertical-align: middle;\n",
       "    }\n",
       "\n",
       "    .dataframe tbody tr th {\n",
       "        vertical-align: top;\n",
       "    }\n",
       "\n",
       "    .dataframe thead th {\n",
       "        text-align: right;\n",
       "    }\n",
       "</style>\n",
       "<table border=\"1\" class=\"dataframe\">\n",
       "  <thead>\n",
       "    <tr style=\"text-align: right;\">\n",
       "      <th>pred_date</th>\n",
       "      <th>2019-05-07</th>\n",
       "      <th>2019-05-08</th>\n",
       "      <th>2019-05-09</th>\n",
       "      <th>2019-05-10</th>\n",
       "      <th>2019-05-13</th>\n",
       "    </tr>\n",
       "  </thead>\n",
       "  <tbody>\n",
       "    <tr>\n",
       "      <th>^GSPC</th>\n",
       "      <td>2,884.05</td>\n",
       "      <td>2,879.42</td>\n",
       "      <td>2,870.72</td>\n",
       "      <td>2,881.40</td>\n",
       "      <td>2,811.87</td>\n",
       "    </tr>\n",
       "    <tr>\n",
       "      <th>pred_class</th>\n",
       "      <td>3</td>\n",
       "      <td>3</td>\n",
       "      <td>3</td>\n",
       "      <td>3</td>\n",
       "      <td>3</td>\n",
       "    </tr>\n",
       "    <tr>\n",
       "      <th>pred_label</th>\n",
       "      <td>long</td>\n",
       "      <td>long</td>\n",
       "      <td>long</td>\n",
       "      <td>long</td>\n",
       "      <td>long</td>\n",
       "    </tr>\n",
       "    <tr>\n",
       "      <th>confidence</th>\n",
       "      <td>1.00</td>\n",
       "      <td>1.00</td>\n",
       "      <td>1.00</td>\n",
       "      <td>1.00</td>\n",
       "      <td>1.00</td>\n",
       "    </tr>\n",
       "    <tr>\n",
       "      <th>bear</th>\n",
       "      <td>0.00</td>\n",
       "      <td>0.00</td>\n",
       "      <td>0.00</td>\n",
       "      <td>0.00</td>\n",
       "      <td>0.00</td>\n",
       "    </tr>\n",
       "    <tr>\n",
       "      <th>short</th>\n",
       "      <td>0.00</td>\n",
       "      <td>0.00</td>\n",
       "      <td>0.00</td>\n",
       "      <td>0.00</td>\n",
       "      <td>0.00</td>\n",
       "    </tr>\n",
       "    <tr>\n",
       "      <th>neutral</th>\n",
       "      <td>0.00</td>\n",
       "      <td>0.00</td>\n",
       "      <td>0.00</td>\n",
       "      <td>0.00</td>\n",
       "      <td>0.00</td>\n",
       "    </tr>\n",
       "    <tr>\n",
       "      <th>long</th>\n",
       "      <td>1.00</td>\n",
       "      <td>1.00</td>\n",
       "      <td>1.00</td>\n",
       "      <td>1.00</td>\n",
       "      <td>1.00</td>\n",
       "    </tr>\n",
       "    <tr>\n",
       "      <th>bull</th>\n",
       "      <td>0.00</td>\n",
       "      <td>0.00</td>\n",
       "      <td>0.00</td>\n",
       "      <td>0.00</td>\n",
       "      <td>0.00</td>\n",
       "    </tr>\n",
       "  </tbody>\n",
       "</table>\n",
       "</div>"
      ],
      "text/plain": [
       "pred_date  2019-05-07 2019-05-08 2019-05-09 2019-05-10 2019-05-13\n",
       "^GSPC        2,884.05   2,879.42   2,870.72   2,881.40   2,811.87\n",
       "pred_class          3          3          3          3          3\n",
       "pred_label       long       long       long       long       long\n",
       "confidence       1.00       1.00       1.00       1.00       1.00\n",
       "bear             0.00       0.00       0.00       0.00       0.00\n",
       "short            0.00       0.00       0.00       0.00       0.00\n",
       "neutral          0.00       0.00       0.00       0.00       0.00\n",
       "long             1.00       1.00       1.00       1.00       1.00\n",
       "bull             0.00       0.00       0.00       0.00       0.00"
      ]
     },
     "execution_count": 107,
     "metadata": {},
     "output_type": "execute_result"
    }
   ],
   "source": [
    "%time pred_df = predict_ds(context)"
   ]
  },
  {
   "cell_type": "markdown",
   "metadata": {},
   "source": [
    "#### Store / Read S3"
   ]
  },
  {
   "cell_type": "code",
   "execution_count": 71,
   "metadata": {},
   "outputs": [],
   "source": [
    "s3_path = context['s3_path']"
   ]
  },
  {
   "cell_type": "code",
   "execution_count": null,
   "metadata": {},
   "outputs": [],
   "source": [
    "# store in S3\n",
    "s3_df = pred_df.reset_index(drop=False)\n",
    "rename_col(s3_df, 'index', 'pred_date')\n",
    "csv_store(s3_df, s3_path, csv_ext.format(str(pred_df.index[-1])))"
   ]
  },
  {
   "cell_type": "code",
   "execution_count": 79,
   "metadata": {},
   "outputs": [],
   "source": [
    "# read from S3\n",
    "pred_df = pd.read_csv(\n",
    "    csv_load(f'{s3_path}{str(pred_df.index[-1])}'), \n",
    "    index_col='pred_date', parse_dates=True)"
   ]
  },
  {
   "cell_type": "markdown",
   "metadata": {},
   "source": [
    "#### Visualize"
   ]
  },
  {
   "cell_type": "code",
   "execution_count": 110,
   "metadata": {},
   "outputs": [
    {
     "data": {
      "text/plain": [
       "Index(['^GSPC', 'pred_class', 'pred_label', 'confidence', 'bear', 'short',\n",
       "       'neutral', 'long', 'bull'],\n",
       "      dtype='object')"
      ]
     },
     "execution_count": 110,
     "metadata": {},
     "output_type": "execute_result"
    }
   ],
   "source": [
    "pred_df.columns"
   ]
  },
  {
   "cell_type": "code",
   "execution_count": 112,
   "metadata": {},
   "outputs": [
    {
     "data": {
      "text/plain": [
       "'Confidence Mean: 0.957, Median 0.999'"
      ]
     },
     "execution_count": 112,
     "metadata": {},
     "output_type": "execute_result"
    },
    {
     "data": {
      "image/png": "[encoded data removed]",
      "text/plain": [
       "<Figure size 1080x360 with 2 Axes>"
      ]
     },
     "metadata": {
      "needs_background": "light"
     },
     "output_type": "display_data"
    },
    {
     "data": {
      "image/png": "[encoded data removed]",
      "text/plain": [
       "<Figure size 1080x144 with 1 Axes>"
      ]
     },
     "metadata": {
      "needs_background": "light"
     },
     "output_type": "display_data"
    }
   ],
   "source": [
    "pre_class_cols = filter_cols(pred_df.columns, \"pred_class\")\n",
    "pred_df.loc[:,[bench] + pre_class_cols].plot(\n",
    "    secondary_y=pre_class_cols, figsize=(15, 5));\n",
    "pred_df[fwd_ret_labels].plot.area(\n",
    "        title='Prediction Probabilities',\n",
    "        figsize=(15, 2), ylim=(0, 1), cmap='RdYlGn');\n",
    "f'Confidence Mean: {pred_df[\"confidence\"].mean().round(3)}, Median {pred_df[\"confidence\"].median().round(3)}'"
   ]
  },
  {
   "cell_type": "markdown",
   "metadata": {},
   "source": [
    "### Step by step"
   ]
  },
  {
   "cell_type": "markdown",
   "metadata": {
    "heading_collapsed": true
   },
   "source": [
    "#### Dataset creation"
   ]
  },
  {
   "cell_type": "code",
   "execution_count": null,
   "metadata": {
    "hidden": true
   },
   "outputs": [],
   "source": [
    "# average the return of the next periods\n",
    "# select only rows where Y variable is not null\n",
    "train_idx = px_close.dropna(subset=[bench]).index\n",
    "Y = px_fwd_rets(px_close.loc[train_idx, bench], bench, pred_fwd_windows).mean(axis=1)\n",
    "Y.plot.hist(bins=50, title='Distribution of Forwards Returns')\n",
    "Y.shape"
   ]
  },
  {
   "cell_type": "code",
   "execution_count": null,
   "metadata": {
    "code_folding": [],
    "hidden": true
   },
   "outputs": [],
   "source": [
    "%%time\n",
    "df_large = pd.DataFrame()\n",
    "\n",
    "# rate transforms\n",
    "rate_ft_df = rate_feats(px_close[rateSL], rate_windows)\n",
    "df_large[rate_ft_df.columns] = rate_ft_df\n",
    "\n",
    "# price momentum transforms\n",
    "super_list = []\n",
    "for ticker in include:\n",
    "    inv = ticker in invert\n",
    "    incl_px = True if ticker in incl_price else False\n",
    "    df = px_close[ticker]\n",
    "    ft_df = px_mom_feats(df, ticker, stds, inv, incl_px, sec_windows)\n",
    "    super_list.append(ft_df.drop_duplicates())\n",
    "df_large = pd.concat(super_list, axis=1).sort_index()\n",
    "\n",
    "df_large[y_col] = Y\n",
    "\n",
    "# drop NAs before discretizing\n",
    "df_large = df_large.loc[train_idx, :]\n",
    "\n",
    "print(df_large.shape)"
   ]
  },
  {
   "cell_type": "code",
   "execution_count": null,
   "metadata": {
    "hidden": true
   },
   "outputs": [],
   "source": [
    "os.makedirs('tmp', exist_ok=True)\n",
    "df_large.to_parquet('tmp/macro-ds-large')"
   ]
  },
  {
   "cell_type": "markdown",
   "metadata": {
    "heading_collapsed": true
   },
   "source": [
    "#### Pre-processing"
   ]
  },
  {
   "cell_type": "code",
   "execution_count": null,
   "metadata": {
    "hidden": true
   },
   "outputs": [],
   "source": [
    "df_large = pd.read_parquet('tmp/macro-ds-large')\n",
    "df_large.shape"
   ]
  },
  {
   "cell_type": "code",
   "execution_count": null,
   "metadata": {
    "code_folding": [],
    "hidden": true
   },
   "outputs": [],
   "source": [
    "# Trims dataset in case it's too large for experimentation\n",
    "# Reduce dataset for experimentation\n",
    "# Note that experiment dataset is not stratified\n",
    "_, df_raw = train_test_split(df_large, test_size=100e-2, shuffle=False, )\n",
    "df_raw.shape"
   ]
  },
  {
   "cell_type": "code",
   "execution_count": null,
   "metadata": {
    "code_folding": [],
    "hidden": true
   },
   "outputs": [],
   "source": [
    "# keeps a chunk of the pre-processed dataset for predictions later\n",
    "# take everything but Y var\n",
    "look_back = 252*3\n",
    "recent_X = df_large.iloc[-look_back:,:-1].copy()\n",
    "print(recent_X.shape)"
   ]
  },
  {
   "cell_type": "code",
   "execution_count": null,
   "metadata": {
    "code_folding": [],
    "hidden": true
   },
   "outputs": [],
   "source": [
    "# discretize returns into classes\n",
    "df_raw.dropna(subset=[y_col], inplace=True)\n",
    "df_raw.loc[:, y_col] = discret_rets(df_raw[y_col], cut_range, fwd_ret_labels)\n",
    "\n",
    "y_col_dist = sample_wgts(df_raw[y_col], fwd_ret_labels)\n",
    "(y_col_dist[fwd_ret_labels]).round(3)"
   ]
  },
  {
   "cell_type": "code",
   "execution_count": null,
   "metadata": {
    "hidden": true
   },
   "outputs": [],
   "source": [
    "# how many empty values?\n",
    "# (df_raw.isna().sum() / df_raw.count()).sort_values(ascending=False)"
   ]
  },
  {
   "cell_type": "code",
   "execution_count": null,
   "metadata": {
    "hidden": true
   },
   "outputs": [],
   "source": [
    "df_raw.fillna(method='ffill', inplace=True)"
   ]
  },
  {
   "cell_type": "code",
   "execution_count": null,
   "metadata": {
    "code_folding": [],
    "hidden": true
   },
   "outputs": [],
   "source": [
    "# Mean based imputer\n",
    "imputer_on, scaler_on = True, True\n",
    "imputer = SimpleImputer(missing_values=np.nan, strategy='median', copy=False)\n",
    "scaler = StandardScaler()\n",
    "\n",
    "df_raw.replace([np.inf, -np.inf], np.nan, inplace=True)\n",
    "\n",
    "pre_ml_df = df_raw.copy()\n",
    "pre_ml_df.dropna(subset=[y_col], inplace=True)\n",
    "pre_ml_df.loc[:, y_col] = pre_ml_df[y_col].astype(str)\n",
    "\n",
    "X_cols = excl(pre_ml_df.columns, [y_col])\n",
    "\n",
    "if imputer_on: pre_ml_df.loc[:, X_cols] = imputer.fit_transform(pre_ml_df[X_cols])\n",
    "else: pre_ml_df.dropna(inplace=True)\n",
    "if scaler_on: pre_ml_df.loc[:, X_cols] = scaler.fit_transform(pre_ml_df[X_cols])\n",
    "\n",
    "X, y = pre_ml_df.drop(columns=y_col), pre_ml_df[y_col]\n",
    "\n",
    "X_train, X_test, y_train, y_test = train_test_split(X, y, test_size=.20, random_state=42)\n",
    "X_train.shape, X_test.shape, y_train.shape, y_test.shape"
   ]
  },
  {
   "cell_type": "markdown",
   "metadata": {
    "heading_collapsed": true
   },
   "source": [
    "#### Train models"
   ]
  },
  {
   "cell_type": "code",
   "execution_count": null,
   "metadata": {
    "code_folding": [],
    "hidden": true
   },
   "outputs": [],
   "source": [
    "# RandomForestClassifier\n",
    "# best params from GridSearch\n",
    "rfc_params = {\n",
    "    'max_features': 40, 'n_estimators': 100, 'random_state': 7}\n",
    "\n",
    "clf1 = RandomForestClassifier(**rfc_params, warm_start=True)\n",
    "\n",
    "clf1.fit(X_train, y_train)\n",
    "scores = clf1.score(X_train, y_train), clf1.score(X_test, y_test)\n",
    "scores"
   ]
  },
  {
   "cell_type": "code",
   "execution_count": null,
   "metadata": {
    "code_folding": [],
    "hidden": true
   },
   "outputs": [],
   "source": [
    "# MLPClassifier\n",
    "# best params from GridSearch\n",
    "mlp_params = {\n",
    "    'activation': 'relu', 'alpha': 0.01, 'hidden_layer_sizes': 65, \n",
    "    'learning_rate': 'adaptive', 'max_iter': 200, \n",
    "    'random_state': 3, 'solver': 'lbfgs'}\n",
    "\n",
    "clf2 = MLPClassifier(**mlp_params, warm_start=True)\n",
    "\n",
    "clf2.fit(X_train, y_train)\n",
    "scores = clf2.score(X_train, y_train), clf2.score(X_test, y_test)\n",
    "scores"
   ]
  },
  {
   "cell_type": "code",
   "execution_count": null,
   "metadata": {
    "code_folding": [],
    "hidden": true
   },
   "outputs": [],
   "source": [
    "# ExtraTreesClassifier\n",
    "clf3 = ExtraTreesClassifier(\n",
    "    n_estimators=100, max_depth=None, \n",
    "    min_samples_split=2, random_state=0, warm_start=True)\n",
    "\n",
    "clf3.fit(X_train, y_train)\n",
    "scores = clf3.score(X_train, y_train), clf3.score(X_test, y_test)\n",
    "scores"
   ]
  },
  {
   "cell_type": "code",
   "execution_count": null,
   "metadata": {
    "code_folding": [],
    "hidden": true
   },
   "outputs": [],
   "source": [
    "%%time\n",
    "\n",
    "eclf = VotingClassifier(\n",
    "    estimators=[('rf', clf1), ('mlp', clf2), ('et', clf3)], \n",
    "    voting=vote)\n",
    "\n",
    "clf = eclf.fit(X_train, y_train)\n",
    "scores = clf.score(X_train, y_train), clf.score(X_test, y_test)\n",
    "\n",
    "print(scores)"
   ]
  },
  {
   "cell_type": "code",
   "execution_count": null,
   "metadata": {
    "hidden": true
   },
   "outputs": [],
   "source": [
    "os.makedirs(ml_path, exist_ok=True)\n",
    "fname = ml_path + f'macro_ML_{vote}.pkl'\n",
    "joblib.dump(clf, fname)\n",
    "f'Saved {fname}'    "
   ]
  },
  {
   "cell_type": "code",
   "execution_count": null,
   "metadata": {
    "hidden": true
   },
   "outputs": [],
   "source": [
    "clf = joblib.load(fname)\n",
    "print('Loaded', fname)"
   ]
  },
  {
   "cell_type": "code",
   "execution_count": null,
   "metadata": {
    "hidden": true
   },
   "outputs": [],
   "source": [
    "# predict historically including recent dates\n",
    "if imputer_on: recent_X.loc[:, X_cols] = imputer.fit_transform(recent_X[X_cols])\n",
    "else: recent_X.dropna(inplace=True)\n",
    "if scaler_on: recent_X.loc[:, X_cols] = scaler.fit_transform(recent_X[X_cols])"
   ]
  },
  {
   "cell_type": "code",
   "execution_count": null,
   "metadata": {
    "hidden": true
   },
   "outputs": [],
   "source": [
    "assert recent_X.shape[1] == X_train.shape[1]"
   ]
  },
  {
   "cell_type": "code",
   "execution_count": null,
   "metadata": {
    "hidden": true
   },
   "outputs": [],
   "source": [
    "assert recent_X.shape[1] == X_train.shape[1]\n",
    "preds = clf.predict(recent_X)\n",
    "assert recent_X.shape[0] == preds.shape[0]\n",
    "\n",
    "pred_class = np.array([fwd_ret_labels.index(x) for x in preds])\n",
    "\n",
    "SPY = px_close.loc[recent_X.index, bench].to_frame()\n",
    "SPY['pred_class'] = pred_class\n",
    "SPY['pred_label'] = preds\n",
    "\n",
    "if vote == 'soft':\n",
    "    probs = clf.predict_proba(recent_X)\n",
    "    pred_prob = np.argmax(probs, axis=1)\n",
    "    SPY.loc[:, 'high_prob'] = [x[np.argmax(x)] for x in probs] # higest prob\n",
    "    SPY.loc[:, 'pred_prob'] = probs[range(pred_class.shape[0]), pred_class] # predict class prob\n",
    "\n",
    "SPY.dropna(subset=[bench], inplace=True)    "
   ]
  },
  {
   "cell_type": "code",
   "execution_count": null,
   "metadata": {
    "hidden": true
   },
   "outputs": [],
   "source": [
    "# why are predict classes and prob distribution do not math?\n",
    "# preds, pred_class, probs[-10:]\n",
    "# df = pd.DataFrame()\n",
    "# df['pred_class'] = pred_class\n",
    "# df['pred_prob'] = probs[range(pred_class.shape[0]), pred_class]\n",
    "# df.plot(secondary_y='pred_prob')"
   ]
  },
  {
   "cell_type": "code",
   "execution_count": null,
   "metadata": {
    "code_folding": [],
    "hidden": true
   },
   "outputs": [],
   "source": [
    "# plot predictions\n",
    "SPY['pred_class'] = pred_class\n",
    "SPY['pred_label'] = preds\n",
    "SPY.loc[:,[bench, 'pred_class']].plot(secondary_y='pred_class', figsize=(15, 5));\n",
    "\n",
    "if vote == 'soft':\n",
    "    SPY[['high_prob']].plot(\n",
    "        title='Historical predictions',\n",
    "        figsize=(15, 2), ylim=(0, 1),);\n",
    "    SPY[['pred_prob']].plot(\n",
    "        title='Probability of highest & predicted class',\n",
    "        figsize=(15, 2), ylim=(0, 1),);\n",
    "    \n",
    "    prob_df = pd.DataFrame(probs, columns=fwd_ret_labels, index=recent_X.index)\n",
    "    prob_df.plot(\n",
    "        title='Class probabilities',\n",
    "        figsize=(15, 8), subplots=True, ylim=(0,1));    "
   ]
  },
  {
   "cell_type": "code",
   "execution_count": null,
   "metadata": {
    "hidden": true
   },
   "outputs": [],
   "source": [
    "if vote == 'soft':\n",
    "    SPY[['high_prob', 'pred_prob']].plot.hist(\n",
    "        bins=50, xlim=(0,1), title='Confidence Distribution')\n",
    "    print('Probability for predicted class: Mean %.f, median %.f, ' % (\n",
    "        SPY.pred_prob.mean() * 100,\n",
    "        SPY.pred_prob.median() * 100))\n",
    "    print('Probability for highest class: Mean %.f, median %.f, ' % (\n",
    "        SPY.high_prob.mean() * 100,\n",
    "        SPY.high_prob.median() * 100))"
   ]
  },
  {
   "cell_type": "code",
   "execution_count": null,
   "metadata": {
    "hidden": true
   },
   "outputs": [],
   "source": [
    "SPY.tail(10)"
   ]
  },
  {
   "cell_type": "markdown",
   "metadata": {
    "heading_collapsed": true
   },
   "source": [
    "#### Metrics"
   ]
  },
  {
   "cell_type": "code",
   "execution_count": null,
   "metadata": {
    "hidden": true
   },
   "outputs": [],
   "source": [
    "draw_tree(clf1.estimators_[0], X, precision=3)"
   ]
  },
  {
   "cell_type": "code",
   "execution_count": null,
   "metadata": {
    "hidden": true
   },
   "outputs": [],
   "source": [
    "show_fi(clf1, X, 25)"
   ]
  },
  {
   "cell_type": "code",
   "execution_count": null,
   "metadata": {
    "hidden": true
   },
   "outputs": [],
   "source": [
    "log_loss(y_test, clf1.predict_proba(X_test))"
   ]
  },
  {
   "cell_type": "code",
   "execution_count": null,
   "metadata": {
    "hidden": true
   },
   "outputs": [],
   "source": [
    "print('Confussion Matrix\\n', confusion_matrix(clf.predict(X_test), y_test, labels=fwd_ret_labels))"
   ]
  },
  {
   "cell_type": "code",
   "execution_count": null,
   "metadata": {
    "hidden": true
   },
   "outputs": [],
   "source": [
    "print('Classificaton report\\n', classification_report(clf.predict(X_test), y_test, target_names=fwd_ret_labels))"
   ]
  },
  {
   "cell_type": "code",
   "execution_count": null,
   "metadata": {
    "hidden": true
   },
   "outputs": [],
   "source": [
    "fi = rf_feat_importance(clf1, pd.DataFrame(X)); fi[:10]"
   ]
  },
  {
   "cell_type": "code",
   "execution_count": null,
   "metadata": {
    "hidden": true
   },
   "outputs": [],
   "source": [
    "clf1.predict_proba(X_test)"
   ]
  },
  {
   "cell_type": "code",
   "execution_count": null,
   "metadata": {
    "hidden": true
   },
   "outputs": [],
   "source": [
    "[plt.plot(x.tolist(), alpha=0.1, color='b', marker='*', linewidth=0) for x in clf1.predict_proba(X_test)];"
   ]
  },
  {
   "cell_type": "markdown",
   "metadata": {
    "heading_collapsed": true
   },
   "source": [
    "#### Gridsearches"
   ]
  },
  {
   "cell_type": "code",
   "execution_count": null,
   "metadata": {
    "code_folding": [],
    "hidden": true
   },
   "outputs": [],
   "source": [
    "%%time\n",
    "# GridSearchCV for RandomForestClassifier\n",
    "verbose = True\n",
    "parameters = {\n",
    "    'n_estimators': [100],\n",
    "    'max_features': ['sqrt'],\n",
    "    'random_state': np.arange(0, 5, 1),}\n",
    "clf = GridSearchCV(RandomForestClassifier(), \n",
    "                   parameters, n_jobs=-1, \n",
    "                   cv=5, iid=True, verbose=5)\n",
    "clf.fit(X_train, y_train)\n",
    "if verbose: print_cv_results(\n",
    "    clf, X_train, X_test, y_train, y_test, \n",
    "    feat_imp=True, top=20)"
   ]
  },
  {
   "cell_type": "code",
   "execution_count": null,
   "metadata": {
    "hidden": true
   },
   "outputs": [],
   "source": [
    "%%time\n",
    "# GridSearchCV for MLPClassifier\n",
    "parameters = {\n",
    "    'solver': ['lbfgs'], # ['lbfgs', 'sgd', 'adam']\n",
    "    'max_iter': [200], # [200, 400, 600]\n",
    "    'activation': ['relu'], # ['logistic', 'tanh', 'relu']\n",
    "    'alpha': 10.0 ** -np.arange(2, 5, 1), # 10.0 ** -np.arange(2, 5, 1)\n",
    "    'learning_rate' : ['adaptive'], # ['constant', 'adaptive']\n",
    "    'hidden_layer_sizes': np.arange(5, X_train.shape[1] // 3, int(X_train.shape[1] * 0.1)), # np.arange(5, 50, 10)\n",
    "    'random_state': np.arange(0, 5, 1)} # np.arange(0, 10, 2)\n",
    "clf = GridSearchCV(MLPClassifier(), parameters, n_jobs=-1, cv=5,\n",
    "                  iid=True, verbose=5)\n",
    "clf.fit(X_train, y_train)\n",
    "if verbose: print_grid_search(\n",
    "    clf, X_train, y_train, X_test, y_test, \n",
    "    feat_imp=False, top=20)"
   ]
  },
  {
   "cell_type": "markdown",
   "metadata": {
    "heading_collapsed": true
   },
   "source": [
    "### Old"
   ]
  },
  {
   "cell_type": "markdown",
   "metadata": {
    "hidden": true
   },
   "source": [
    "#### Feature construction"
   ]
  },
  {
   "cell_type": "code",
   "execution_count": null,
   "metadata": {
    "hidden": true
   },
   "outputs": [],
   "source": [
    "# FX\n",
    "FX = ['EURUSD=X', 'JPY=X', 'GBPUSD=X', 'CNY=X', 'CHF=X', 'DX-Y.NYB']\n",
    "invert = ['EURUSD=X', 'GBPUSD=X']\n",
    "df_raw = px_close[FX]\n",
    "df_raw.describe().T"
   ]
  },
  {
   "cell_type": "code",
   "execution_count": null,
   "metadata": {
    "hidden": true
   },
   "outputs": [],
   "source": [
    "fx_df = df_raw.copy()\n",
    "fx_df[invert] = (1 / df_raw[invert])\n",
    "fx_df.tail(252)\n",
    "fx_chg_df = fx_df.pct_change().rolling(60).sum()\n",
    "fx_chg_df.plot.kde()"
   ]
  },
  {
   "cell_type": "code",
   "execution_count": null,
   "metadata": {
    "hidden": true
   },
   "outputs": [],
   "source": [
    "rates = px_close[rateSL]\n",
    "rates.plot.kde(alpha=1, title='Yield Curve Rate Distribution')\n",
    "rate_feats(rates, [60]).plot.kde(title='10Yr - 3M Spread')"
   ]
  },
  {
   "cell_type": "code",
   "execution_count": null,
   "metadata": {
    "hidden": true
   },
   "outputs": [],
   "source": [
    "%%time\n",
    "# Uses px_mom_feats for FX transforms\n",
    "FX = ['EURUSD=X', 'JPY=X', 'GBPUSD=X', 'CNY=X', 'CHF=X', 'DX-Y.NYB']\n",
    "invert = ['EURUSD=X', 'GBPUSD=X']\n",
    "\n",
    "ndf = pd.DataFrame() \n",
    "for fx in FX:\n",
    "    inv = True if fx in invert else False\n",
    "    df = get_symbol_pricing(fx)\n",
    "    ft_df = px_mom_feats(df, fx, 1, inv, True)\n",
    "    ndf[ft_df.columns] = ft_df\n",
    "ndf.plot.hist(alpha=0.5, legend=False)"
   ]
  },
  {
   "cell_type": "code",
   "execution_count": null,
   "metadata": {
    "hidden": true
   },
   "outputs": [],
   "source": [
    "ft_df = px_mom_feats(get_symbol_pricing('^VIX'), '^VIX', 2, False, True, [20])\n",
    "print(ft_df.columns)\n",
    "ft_df.iloc[:,:].plot.hist()"
   ]
  },
  {
   "cell_type": "code",
   "execution_count": null,
   "metadata": {
    "hidden": true
   },
   "outputs": [],
   "source": [
    "symbol = '^GSPC'\n",
    "px_df = get_symbol_pricing(symbol)\n",
    "\n",
    "ft_df = px_mom_feats(px_df, symbol)\n",
    "# ft_df.plot(subplots=True, figsize=(10,15));\n",
    "ft_df.plot.hist(alpha=0.5);"
   ]
  },
  {
   "cell_type": "code",
   "execution_count": null,
   "metadata": {
    "hidden": true
   },
   "outputs": [],
   "source": [
    "ft_df = px_fwd_rets(px_df, symbol)\n",
    "ft_df.plot.hist(alpha=0.5);\n",
    "ft_df[symbol] = px_df['close']\n",
    "ft_df.tail(252*4).plot(secondary_y=symbol, figsize=(10,5));"
   ]
  },
  {
   "cell_type": "code",
   "execution_count": null,
   "metadata": {
    "code_folding": [
     0
    ],
    "hidden": true
   },
   "outputs": [],
   "source": [
    "%%time\n",
    "# average different time frames of fwd rets for all benchmarks\n",
    "# do we try to estimate the average of all benchmarks or just one?\n",
    "# do we try to estimate three type of fwd rets [20, 60, 120] or just one?\n",
    "\n",
    "# calculate forward returns for all bechmarks\n",
    "fwd_rets_df = pd.DataFrame()\n",
    "for s in benchSL:\n",
    "    px_df = get_symbol_pricing(s)\n",
    "    fwd_ret = px_fwd_rets(px_df, s)\n",
    "    fwd_rets_df[fwd_ret.columns] = fwd_ret\n",
    "fwd_rets_df.tail()\n",
    "\n",
    "[fwd_rets_df[[x for x in fwd_rets_df.columns if y in x]].mean(axis=1).plot.hist(alpha=0.5)\n",
    "     for y in ['g20', 'g60', 'g120']]"
   ]
  },
  {
   "cell_type": "markdown",
   "metadata": {
    "heading_collapsed": true,
    "hidden": true
   },
   "source": [
    "#### Visualizations"
   ]
  },
  {
   "cell_type": "code",
   "execution_count": null,
   "metadata": {
    "hidden": true
   },
   "outputs": [],
   "source": [
    "locs = [-int(x**3) for x in range(1, 7, 1)]\n",
    "px_close[rateSL].iloc[locs, :].T.plot(title='Historical Yield Curve');\n",
    "#f'Yield curve for the last {locs} days'"
   ]
  },
  {
   "cell_type": "code",
   "execution_count": null,
   "metadata": {
    "code_folding": [],
    "hidden": true
   },
   "outputs": [],
   "source": [
    "# show correlations with Y variables\n",
    "show = ['mktFwdChg1m', 'mktFwdChg3m', 'mktFwdChg6m']\n",
    "ml_ds_df.corr()[show]"
   ]
  },
  {
   "cell_type": "code",
   "execution_count": null,
   "metadata": {
    "hidden": true,
    "scrolled": true
   },
   "outputs": [],
   "source": [
    "# series distributions\n",
    "%time ml_ds_df.hist(figsize=(15,15));"
   ]
  },
  {
   "cell_type": "code",
   "execution_count": null,
   "metadata": {
    "hidden": true
   },
   "outputs": [],
   "source": [
    "# scatter plots\n",
    "%time pd.plotting.scatter_matrix(ml_ds_df, alpha=0.1, figsize=(40, 40));"
   ]
  },
  {
   "cell_type": "code",
   "execution_count": null,
   "metadata": {
    "hidden": true
   },
   "outputs": [],
   "source": [
    "# historical returns for 1, 3, and 6 months\n",
    "secpx['mktHistPctChgStds'] = SPY_pct_chg.apply(sign_compare, args=(SPY_pct_chg.std(),))\n",
    "secpx['mktHistPctChg1m'] = SPY_close.pct_change(periods=20)\n",
    "secpx['mktHistPctChg3m'] = SPY_close.pct_change(periods=60)\n",
    "secpx['mktHistPctChg6m'] = SPY_close.pct_change(periods=120)\n",
    "secpx['mktPerc52WkHigh'] = (SPY_close / SPY_close.rolling(252).max())\n",
    "secpx['mktPerc52WkLow'] = (SPY_close / SPY_close.rolling(252).min())\n",
    "\n",
    "show = ['mktHistPctChgStds', 'mktHistPctChg1m', 'mktHistPctChg3m', \n",
    "        'mktHistPctChg6m']\n",
    "secpx[show].hist();\n",
    "secpx[show].tail(252*4).plot(secondary_y='mktHistPctChgStds');\n",
    "show = ['mktPerc52WkLow']\n",
    "secpx[show].tail(252*4).plot();"
   ]
  },
  {
   "cell_type": "code",
   "execution_count": null,
   "metadata": {
    "hidden": true
   },
   "outputs": [],
   "source": [
    "# Forward returns, 1w, 1m, 3m\n",
    "SPY_close.pct_change(5).shift(-5)\n",
    "secpx['mktFwdChg1m'] = SPY_close.pct_change(20).shift(-20)\n",
    "secpx['mktFwdChg3m'] = SPY_close.pct_change(60).shift(-60)\n",
    "secpx['mktFwdChg6m'] = SPY_close.pct_change(120).shift(-120)\n",
    "\n",
    "show = ['mktFwdChg1m', 'mktFwdChg3m', 'mktFwdChg6m']\n",
    "secpx[show].hist();\n",
    "secpx[show].tail(252*4).plot();"
   ]
  },
  {
   "cell_type": "code",
   "execution_count": null,
   "metadata": {
    "hidden": true
   },
   "outputs": [],
   "source": [
    "show = [bench_symbol, 'mktFwdChg1m', 'mktFwdChg3m', 'mktFwdChg6m']\n",
    "secpx[show].tail(252*4).plot(secondary_y=bench_symbol, figsize=(12,5));"
   ]
  },
  {
   "cell_type": "code",
   "execution_count": null,
   "metadata": {
    "hidden": true
   },
   "outputs": [],
   "source": [
    "# cumulative deltas and gap analysis\n",
    "secpx['pctChgStds'] = pct_chg.apply(sign_compare, args=(pct_chg.std(),))\n",
    "secpx['openGap1m'] = (openpx - closepx.shift(1)).rolling(20).sum()\n",
    "secpx['hlDelta1m'] = (highpx - lowpx).rolling(20).sum()\n",
    "secpx['cumChg1m'] = (closepx - closepx.shift(1)).rolling(20).sum()\n",
    "secpx['cumChg3m'] = (closepx - closepx.shift(1)).rolling(60).sum()\n",
    "secpx['cumChg6m'] = (closepx - closepx.shift(1)).rolling(120).sum()\n",
    "secpx['perc52WkLow'] = (closepx / closepx.rolling(252).min())\n",
    "\n",
    "show = ['pctChgStds', 'openGap1m', 'hlDelta1m', \n",
    "        'cumChg1m', 'cumChg3m', 'cumChg6m']\n",
    "secpx[show].hist();\n",
    "secpx[show].tail(252*4).plot(secondary_y='pctChgStds');\n",
    "show = ['perc52WkLow']\n",
    "secpx[show].tail(252*4).plot();"
   ]
  },
  {
   "cell_type": "code",
   "execution_count": null,
   "metadata": {
    "hidden": true
   },
   "outputs": [],
   "source": [
    "show = ['pctChgStds', 'mktHistPctChgStds']\n",
    "secpx[show].hist();\n",
    "secpx[show].tail(252*4).plot();"
   ]
  },
  {
   "cell_type": "code",
   "execution_count": null,
   "metadata": {
    "hidden": true
   },
   "outputs": [],
   "source": [
    "# rolling SPY correlations\n",
    "secpx['crossCorr1m'] = closepx.pct_change().rolling(20).corr(SPY_pct_chg)\n",
    "secpx['crossCorr3m'] = closepx.pct_change().rolling(60).corr(SPY_pct_chg)\n",
    "\n",
    "show = [bench_symbol, 'crossCorr1m', 'crossCorr3m']\n",
    "secpx[show].tail(252*4).plot(secondary_y=bench_symbol);\n",
    "# closepx.pct_change().corr(SPY_pct_chg)"
   ]
  },
  {
   "cell_type": "markdown",
   "metadata": {
    "heading_collapsed": true,
    "hidden": true
   },
   "source": [
    "#### Missing values"
   ]
  },
  {
   "cell_type": "code",
   "execution_count": null,
   "metadata": {
    "hidden": true
   },
   "outputs": [],
   "source": [
    "# px_close.loc[pred_X.index, keep_bench].tail(20)\n",
    "# pred_X.tail()"
   ]
  },
  {
   "cell_type": "code",
   "execution_count": null,
   "metadata": {
    "hidden": true
   },
   "outputs": [],
   "source": [
    "# pred_X.fillna(method='ffill', inplace=True)\n",
    "# na = pred_X.tail(120).isna().any(0)\n",
    "# pred_X[na[na.values].index]"
   ]
  },
  {
   "cell_type": "markdown",
   "metadata": {
    "heading_collapsed": true,
    "hidden": true
   },
   "source": [
    "#### Fixing timeseries concatenation"
   ]
  },
  {
   "cell_type": "code",
   "execution_count": null,
   "metadata": {
    "code_folding": [],
    "hidden": true
   },
   "outputs": [],
   "source": [
    "super_list = []\n",
    "for n, t in enumerate(keep_sect):\n",
    "    try:\n",
    "        df = get_symbol_pricing(t, freq, cols=None)\n",
    "        rename_col(df, 'close', t)\n",
    "        print(\"Retrieving pricing: {0}, {1}\".format(t, df.shape))\n",
    "        df.index = df.index.strftime('%Y-%m-%d')\n",
    "        super_list.append(df[t])\n",
    "    except Exception as e:\n",
    "        print(\"Exception, get_mults_pricing: {0}\\n{1}\".format(t, e))"
   ]
  },
  {
   "cell_type": "code",
   "execution_count": null,
   "metadata": {
    "hidden": true
   },
   "outputs": [],
   "source": [
    "full_df = pd.DataFrame(super_list[0])\n",
    "if len(super_list[1:]):\n",
    "    for x in super_list[1:]: full_df = pd.merge(full_df, x, left_index=True, right_index=True, how='outer')\n",
    "full_df.index = pd.to_datetime(full_df.index)"
   ]
  },
  {
   "cell_type": "code",
   "execution_count": null,
   "metadata": {
    "hidden": true
   },
   "outputs": [],
   "source": [
    "full_df.tail(20)"
   ]
  },
  {
   "cell_type": "code",
   "execution_count": null,
   "metadata": {
    "hidden": true
   },
   "outputs": [],
   "source": [
    "super_list[0].tail(10)"
   ]
  },
  {
   "cell_type": "code",
   "execution_count": null,
   "metadata": {
    "hidden": true
   },
   "outputs": [],
   "source": [
    "super_list[1].tail(10)"
   ]
  },
  {
   "cell_type": "code",
   "execution_count": null,
   "metadata": {
    "hidden": true
   },
   "outputs": [],
   "source": [
    "super_list[2].tail(10)"
   ]
  },
  {
   "cell_type": "code",
   "execution_count": null,
   "metadata": {
    "hidden": true
   },
   "outputs": [],
   "source": [
    "get_symbol_pricing('JPY=X')"
   ]
  },
  {
   "cell_type": "code",
   "execution_count": null,
   "metadata": {
    "hidden": true
   },
   "outputs": [],
   "source": []
  },
  {
   "cell_type": "code",
   "execution_count": null,
   "metadata": {
    "hidden": true
   },
   "outputs": [],
   "source": [
    "full_df.tail(30).sort_index()"
   ]
  },
  {
   "cell_type": "code",
   "execution_count": null,
   "metadata": {
    "hidden": true
   },
   "outputs": [],
   "source": [
    "for d in super_list:\n",
    "    print(d.shape, d.drop_duplicates().shape)"
   ]
  },
  {
   "cell_type": "code",
   "execution_count": null,
   "metadata": {
    "hidden": true
   },
   "outputs": [],
   "source": [
    "super_list[1].duplicated().sort_values()"
   ]
  },
  {
   "cell_type": "code",
   "execution_count": null,
   "metadata": {
    "hidden": true
   },
   "outputs": [],
   "source": [
    "df = pd.concat(super_list, axis=1)"
   ]
  },
  {
   "cell_type": "code",
   "execution_count": null,
   "metadata": {
    "hidden": true
   },
   "outputs": [],
   "source": [
    "super_list[0].tail(10).index, \\\n",
    "super_list[1].tail(10).index, \\\n",
    "super_list[2].tail(10).index, \\\n",
    "super_list[3].tail(10).index"
   ]
  },
  {
   "cell_type": "code",
   "execution_count": null,
   "metadata": {
    "hidden": true
   },
   "outputs": [],
   "source": [
    "ss = get_symbol_pricing('DX-Y.NYB', freq).tail(20)"
   ]
  },
  {
   "cell_type": "code",
   "execution_count": null,
   "metadata": {
    "hidden": true
   },
   "outputs": [],
   "source": [
    "ss.index.strftime('%Y-%m-%d')"
   ]
  },
  {
   "cell_type": "code",
   "execution_count": null,
   "metadata": {
    "hidden": true
   },
   "outputs": [],
   "source": [
    "# pd.merge(super_list[1], super_list[2], left_index=True, right_index=True)\n",
    "# pd.concat(super_list, axis=1)\n",
    "init_df = pd.DataFrame(super_list[0])\n",
    "for x in super_list[1:]:\n",
    "    init_df = pd.merge(init_df, x, left_index=True, right_index=True)\n",
    "init_df.tail(60)"
   ]
  },
  {
   "cell_type": "code",
   "execution_count": null,
   "metadata": {
    "hidden": true
   },
   "outputs": [],
   "source": [
    "pd.concat(super_list, axis=1, ).tail(15)"
   ]
  },
  {
   "cell_type": "code",
   "execution_count": null,
   "metadata": {
    "hidden": true
   },
   "outputs": [],
   "source": [
    "for d in super_list: d.drop_duplicates(inplace=True)"
   ]
  },
  {
   "cell_type": "code",
   "execution_count": null,
   "metadata": {
    "hidden": true
   },
   "outputs": [],
   "source": [
    "df = pd.concat(super_list, axis=1, copy=False)"
   ]
  }
 ],
 "metadata": {
  "kernelspec": {
   "display_name": "Python 3",
   "language": "python",
   "name": "python3"
  },
  "language_info": {
   "codemirror_mode": {
    "name": "ipython",
    "version": 3
   },
   "file_extension": ".py",
   "mimetype": "text/x-python",
   "name": "python",
   "nbconvert_exporter": "python",
   "pygments_lexer": "ipython3",
   "version": "3.7.3"
  }
 },
 "nbformat": 4,
 "nbformat_minor": 2
}
