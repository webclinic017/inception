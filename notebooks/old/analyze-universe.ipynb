{
 "cells": [
  {
   "cell_type": "code",
   "execution_count": 1,
   "metadata": {
    "ExecuteTime": {
     "end_time": "2018-10-08T01:36:51.815633Z",
     "start_time": "2018-10-08T01:36:50.219308Z"
    }
   },
   "outputs": [
    {
     "name": "stdout",
     "output_type": "stream",
     "text": [
      "Loading config.json\n"
     ]
    }
   ],
   "source": [
    "# imports\n",
    "%reload_ext autoreload\n",
    "%autoreload 2\n",
    "\n",
    "from basic_utils import *\n",
    "\n",
    "pd.set_option('display.max_rows', 20)"
   ]
  },
  {
   "cell_type": "code",
   "execution_count": 2,
   "metadata": {
    "ExecuteTime": {
     "end_time": "2018-10-08T01:36:52.340532Z",
     "start_time": "2018-10-08T01:36:51.819058Z"
    }
   },
   "outputs": [],
   "source": [
    "dates = read_dates('quote') \n",
    "# dates[-62:]"
   ]
  },
  {
   "cell_type": "code",
   "execution_count": 3,
   "metadata": {
    "ExecuteTime": {
     "end_time": "2018-10-08T01:36:52.374611Z",
     "start_time": "2018-10-08T01:36:52.343846Z"
    }
   },
   "outputs": [
    {
     "data": {
      "text/plain": [
       "['2019-02-07']"
      ]
     },
     "execution_count": 3,
     "metadata": {},
     "output_type": "execute_result"
    }
   ],
   "source": [
    "UNIT_SCALE = 10**9\n",
    "tgt_date = [dates[-1]] # hardcoded for now\n",
    "tgt_date"
   ]
  },
  {
   "cell_type": "markdown",
   "metadata": {
    "heading_collapsed": true
   },
   "source": [
    "### load files"
   ]
  },
  {
   "cell_type": "code",
   "execution_count": 4,
   "metadata": {
    "ExecuteTime": {
     "end_time": "2018-10-08T01:36:56.144122Z",
     "start_time": "2018-10-08T01:36:54.313254Z"
    },
    "hidden": true,
    "scrolled": true
   },
   "outputs": [
    {
     "name": "stdout",
     "output_type": "stream",
     "text": [
      "Loading file quote/csv/2019-02-07\n",
      "Loading file summary-categories/assetProfile\n",
      "Loading file summary-categories/defaultKeyStatistics/2019-02-07\n",
      "Loading file summary-categories/financialData/2019-02-07\n"
     ]
    }
   ],
   "source": [
    "latest_quotes = load_csvs('quote_consol', tgt_date)\n",
    "profile = load_csvs('summary_detail', ['assetProfile'])\n",
    "latest_keystats = load_csvs('summary_detail', ['defaultKeyStatistics/' + str(tgt_date[0])])\n",
    "latest_finstats = load_csvs('summary_detail', ['financialData/' + str(tgt_date[0])])"
   ]
  },
  {
   "cell_type": "code",
   "execution_count": 49,
   "metadata": {
    "ExecuteTime": {
     "end_time": "2018-10-08T01:37:44.670670Z",
     "start_time": "2018-10-08T01:37:44.532228Z"
    },
    "hidden": true
   },
   "outputs": [],
   "source": [
    "# profile.info()\n",
    "# latest_quotes.info()\n",
    "# latest_keystats.info()\n",
    "# latest_finstats.info()"
   ]
  },
  {
   "cell_type": "markdown",
   "metadata": {},
   "source": [
    "### High level overview"
   ]
  },
  {
   "cell_type": "markdown",
   "metadata": {
    "heading_collapsed": true
   },
   "source": [
    "#### Basic filtering"
   ]
  },
  {
   "cell_type": "code",
   "execution_count": 365,
   "metadata": {
    "ExecuteTime": {
     "end_time": "2018-10-03T00:28:34.024876Z",
     "start_time": "2018-10-03T00:28:33.959237Z"
    },
    "hidden": true
   },
   "outputs": [],
   "source": [
    "profile.columns\n",
    "pf_cols = ['industry', 'sector', 'symbol']"
   ]
  },
  {
   "cell_type": "code",
   "execution_count": 366,
   "metadata": {
    "ExecuteTime": {
     "end_time": "2018-10-03T00:28:34.529792Z",
     "start_time": "2018-10-03T00:28:34.457529Z"
    },
    "hidden": true
   },
   "outputs": [],
   "source": [
    "latest_quotes.columns\n",
    "qs_cols = ['averageDailyVolume10Day','averageDailyVolume3Month',\n",
    "           'fiftyDayAverageChangePercent','fiftyTwoWeekHighChangePercent',\n",
    "           'fiftyTwoWeekLowChangePercent','fiftyTwoWeekRange',\n",
    "           'longName','regularMarketChangePercent',\n",
    "           'regularMarketDayHigh','regularMarketDayLow',\n",
    "           'regularMarketOpen','regularMarketPreviousClose','regularMarketPrice',\n",
    "           'regularMarketTime','regularMarketVolume','twoHundredDayAverageChangePercent',\n",
    "           'ytdReturn','expireDate','expireIsoDate','openInterest','marketCap', 'quoteType']\n",
    "# qs_cols = ['averageDailyVolume10Day','averageDailyVolume3Month',\n",
    "#            'currency','epsForward','epsTrailingTwelveMonths',\n",
    "#            'exchange','fiftyDayAverage','fiftyDayAverageChangePercent',\n",
    "#            'fiftyTwoWeekHighChangePercent','fiftyTwoWeekLowChangePercent',\n",
    "#            'financialCurrency','forwardPE','longName','market',\n",
    "#            'marketCap','marketState','priceHint','priceToBook']"
   ]
  },
  {
   "cell_type": "code",
   "execution_count": 367,
   "metadata": {
    "ExecuteTime": {
     "end_time": "2018-10-03T00:28:35.018403Z",
     "start_time": "2018-10-03T00:28:34.949868Z"
    },
    "hidden": true
   },
   "outputs": [],
   "source": [
    "latest_keystats.columns\n",
    "ks_cols = ['beta', 'enterpriseValue', 'pegRatio', \n",
    "           'enterpriseToEbitda', '52WeekChange', 'SandP52WeekChange',\n",
    "           'shortPercentOfFloat', 'netIncomeToCommon']"
   ]
  },
  {
   "cell_type": "code",
   "execution_count": 368,
   "metadata": {
    "ExecuteTime": {
     "end_time": "2018-10-03T00:28:35.238833Z",
     "start_time": "2018-10-03T00:28:35.167815Z"
    },
    "hidden": true
   },
   "outputs": [],
   "source": [
    "latest_finstats.columns\n",
    "fs_cols = ['currentPrice','numberOfAnalystOpinions',\n",
    "           'totalCash','totalDebt','totalRevenue',\n",
    "           'freeCashflow','operatingCashflow']"
   ]
  },
  {
   "cell_type": "code",
   "execution_count": 369,
   "metadata": {
    "ExecuteTime": {
     "end_time": "2018-10-03T00:28:36.154861Z",
     "start_time": "2018-10-03T00:28:36.091601Z"
    },
    "hidden": true
   },
   "outputs": [
    {
     "data": {
      "text/plain": [
       "(387, 362, 362, 307)"
      ]
     },
     "execution_count": 369,
     "metadata": {},
     "output_type": "execute_result"
    }
   ],
   "source": [
    "len(latest_quotes), len(profile), len(latest_keystats), len(latest_finstats)"
   ]
  },
  {
   "cell_type": "code",
   "execution_count": 370,
   "metadata": {
    "ExecuteTime": {
     "end_time": "2018-10-03T00:28:36.967635Z",
     "start_time": "2018-10-03T00:28:36.840258Z"
    },
    "hidden": true
   },
   "outputs": [],
   "source": [
    "merged = profile.merge(\n",
    "    latest_quotes, on=['symbol'], how='inner', sort=False).merge(\n",
    "    latest_keystats, on=['symbol'], how='inner', sort=False)\n",
    "# further join but will loose ETFs\n",
    "# merged = profile.merge(latest_finstats, on=['symbol'], how='inner', sort=False)\n",
    "\n",
    "# removes all duplicate columns\n",
    "merged.drop([x for x in merged.columns.tolist() if '_y' in x], axis=1, inplace=True)\n",
    "merged.rename(index=str, columns={ x: x.split('_')[0] for x in merged.columns}, inplace=True)\n",
    "\n",
    "merged = merged[pf_cols + qs_cols + ks_cols]\n",
    "# uncomment if above is enabled\n",
    "# merged = merged[pf_cols + qs_cols + ks_cols + fs_cols]\n",
    "merged.set_index('symbol', inplace=True)"
   ]
  },
  {
   "cell_type": "code",
   "execution_count": 371,
   "metadata": {
    "hidden": true
   },
   "outputs": [],
   "source": [
    "# numeric transformations\n",
    "cast_to_thou = ['averageDailyVolume10Day', 'averageDailyVolume3Month']\n",
    "cast_to_bil = ['marketCap']\n",
    "merged[cast_to_thou] = merged[cast_to_thou].divide(10**3).round(1)\n",
    "merged[cast_to_bil] = merged[cast_to_bil].div(10**9).round(1)\n",
    "# merged[cast_to_thou + cast_to_bil]\n",
    "merged['52wkAbsRange'] = merged.fiftyTwoWeekLowChangePercent + abs(merged.fiftyTwoWeekHighChangePercent)"
   ]
  },
  {
   "cell_type": "code",
   "execution_count": 382,
   "metadata": {
    "hidden": true
   },
   "outputs": [
    {
     "data": {
      "text/html": [
       "<div>\n",
       "<style scoped>\n",
       "    .dataframe tbody tr th:only-of-type {\n",
       "        vertical-align: middle;\n",
       "    }\n",
       "\n",
       "    .dataframe tbody tr th {\n",
       "        vertical-align: top;\n",
       "    }\n",
       "\n",
       "    .dataframe thead th {\n",
       "        text-align: right;\n",
       "    }\n",
       "</style>\n",
       "<table border=\"0\" class=\"dataframe\">\n",
       "  <thead>\n",
       "    <tr style=\"text-align: right;\">\n",
       "      <th></th>\n",
       "      <th>52wkAbsRange</th>\n",
       "      <th>marketCap</th>\n",
       "      <th>fiftyDayAverageChangePercent</th>\n",
       "      <th>twoHundredDayAverageChangePercent</th>\n",
       "      <th>fiftyTwoWeekLowChangePercent</th>\n",
       "      <th>fiftyTwoWeekHighChangePercent</th>\n",
       "    </tr>\n",
       "    <tr>\n",
       "      <th>symbol</th>\n",
       "      <th></th>\n",
       "      <th></th>\n",
       "      <th></th>\n",
       "      <th></th>\n",
       "      <th></th>\n",
       "      <th></th>\n",
       "    </tr>\n",
       "  </thead>\n",
       "  <tbody>\n",
       "    <tr>\n",
       "      <th>RHT</th>\n",
       "      <td>0.56</td>\n",
       "      <td>31.7</td>\n",
       "      <td>0.02</td>\n",
       "      <td>0.15</td>\n",
       "      <td>0.55</td>\n",
       "      <td>-0.00</td>\n",
       "    </tr>\n",
       "    <tr>\n",
       "      <th>CDNS</th>\n",
       "      <td>0.43</td>\n",
       "      <td>14.3</td>\n",
       "      <td>0.13</td>\n",
       "      <td>0.13</td>\n",
       "      <td>0.43</td>\n",
       "      <td>-0.01</td>\n",
       "    </tr>\n",
       "    <tr>\n",
       "      <th>NOW</th>\n",
       "      <td>0.66</td>\n",
       "      <td>40.7</td>\n",
       "      <td>0.20</td>\n",
       "      <td>0.23</td>\n",
       "      <td>0.65</td>\n",
       "      <td>-0.01</td>\n",
       "    </tr>\n",
       "    <tr>\n",
       "      <th>ANTM</th>\n",
       "      <td>0.44</td>\n",
       "      <td>79.7</td>\n",
       "      <td>0.15</td>\n",
       "      <td>0.14</td>\n",
       "      <td>0.43</td>\n",
       "      <td>-0.01</td>\n",
       "    </tr>\n",
       "    <tr>\n",
       "      <th>RNG</th>\n",
       "      <td>0.97</td>\n",
       "      <td>7.8</td>\n",
       "      <td>0.13</td>\n",
       "      <td>0.15</td>\n",
       "      <td>0.96</td>\n",
       "      <td>-0.01</td>\n",
       "    </tr>\n",
       "    <tr>\n",
       "      <th>BSX</th>\n",
       "      <td>0.57</td>\n",
       "      <td>53.7</td>\n",
       "      <td>0.08</td>\n",
       "      <td>0.08</td>\n",
       "      <td>0.55</td>\n",
       "      <td>-0.02</td>\n",
       "    </tr>\n",
       "    <tr>\n",
       "      <th>MLNX</th>\n",
       "      <td>0.69</td>\n",
       "      <td>5.2</td>\n",
       "      <td>0.11</td>\n",
       "      <td>0.17</td>\n",
       "      <td>0.67</td>\n",
       "      <td>-0.02</td>\n",
       "    </tr>\n",
       "    <tr>\n",
       "      <th>WDAY</th>\n",
       "      <td>0.75</td>\n",
       "      <td>40.7</td>\n",
       "      <td>0.12</td>\n",
       "      <td>0.27</td>\n",
       "      <td>0.73</td>\n",
       "      <td>-0.02</td>\n",
       "    </tr>\n",
       "    <tr>\n",
       "      <th>MASI</th>\n",
       "      <td>0.58</td>\n",
       "      <td>6.7</td>\n",
       "      <td>0.11</td>\n",
       "      <td>0.11</td>\n",
       "      <td>0.56</td>\n",
       "      <td>-0.02</td>\n",
       "    </tr>\n",
       "    <tr>\n",
       "      <th>VRSN</th>\n",
       "      <td>0.66</td>\n",
       "      <td>20.9</td>\n",
       "      <td>0.10</td>\n",
       "      <td>0.12</td>\n",
       "      <td>0.64</td>\n",
       "      <td>-0.02</td>\n",
       "    </tr>\n",
       "    <tr>\n",
       "      <th>CSOD</th>\n",
       "      <td>0.63</td>\n",
       "      <td>3.4</td>\n",
       "      <td>0.10</td>\n",
       "      <td>0.10</td>\n",
       "      <td>0.61</td>\n",
       "      <td>-0.02</td>\n",
       "    </tr>\n",
       "    <tr>\n",
       "      <th>SPLK</th>\n",
       "      <td>0.58</td>\n",
       "      <td>18.9</td>\n",
       "      <td>0.13</td>\n",
       "      <td>0.18</td>\n",
       "      <td>0.55</td>\n",
       "      <td>-0.02</td>\n",
       "    </tr>\n",
       "    <tr>\n",
       "      <th>XLNX</th>\n",
       "      <td>0.84</td>\n",
       "      <td>28.5</td>\n",
       "      <td>0.19</td>\n",
       "      <td>0.36</td>\n",
       "      <td>0.81</td>\n",
       "      <td>-0.03</td>\n",
       "    </tr>\n",
       "    <tr>\n",
       "      <th>COUP</th>\n",
       "      <td>1.50</td>\n",
       "      <td>5.5</td>\n",
       "      <td>0.30</td>\n",
       "      <td>0.36</td>\n",
       "      <td>1.47</td>\n",
       "      <td>-0.03</td>\n",
       "    </tr>\n",
       "    <tr>\n",
       "      <th>EW</th>\n",
       "      <td>0.43</td>\n",
       "      <td>35.6</td>\n",
       "      <td>0.08</td>\n",
       "      <td>0.12</td>\n",
       "      <td>0.40</td>\n",
       "      <td>-0.03</td>\n",
       "    </tr>\n",
       "    <tr>\n",
       "      <th>SHOP</th>\n",
       "      <td>0.56</td>\n",
       "      <td>19.0</td>\n",
       "      <td>0.15</td>\n",
       "      <td>0.17</td>\n",
       "      <td>0.53</td>\n",
       "      <td>-0.03</td>\n",
       "    </tr>\n",
       "    <tr>\n",
       "      <th>FIVN</th>\n",
       "      <td>1.17</td>\n",
       "      <td>3.0</td>\n",
       "      <td>0.13</td>\n",
       "      <td>0.22</td>\n",
       "      <td>1.15</td>\n",
       "      <td>-0.03</td>\n",
       "    </tr>\n",
       "    <tr>\n",
       "      <th>IONS</th>\n",
       "      <td>0.52</td>\n",
       "      <td>8.0</td>\n",
       "      <td>0.04</td>\n",
       "      <td>0.14</td>\n",
       "      <td>0.49</td>\n",
       "      <td>-0.03</td>\n",
       "    </tr>\n",
       "    <tr>\n",
       "      <th>NSTG</th>\n",
       "      <td>2.85</td>\n",
       "      <td>0.7</td>\n",
       "      <td>0.19</td>\n",
       "      <td>0.37</td>\n",
       "      <td>2.82</td>\n",
       "      <td>-0.03</td>\n",
       "    </tr>\n",
       "    <tr>\n",
       "      <th>HUBS</th>\n",
       "      <td>0.91</td>\n",
       "      <td>6.3</td>\n",
       "      <td>0.14</td>\n",
       "      <td>0.17</td>\n",
       "      <td>0.87</td>\n",
       "      <td>-0.03</td>\n",
       "    </tr>\n",
       "  </tbody>\n",
       "</table>\n",
       "</div>"
      ],
      "text/plain": [
       "        52wkAbsRange  marketCap  fiftyDayAverageChangePercent  \\\n",
       "symbol                                                          \n",
       "RHT             0.56       31.7                          0.02   \n",
       "CDNS            0.43       14.3                          0.13   \n",
       "NOW             0.66       40.7                          0.20   \n",
       "ANTM            0.44       79.7                          0.15   \n",
       "RNG             0.97        7.8                          0.13   \n",
       "BSX             0.57       53.7                          0.08   \n",
       "MLNX            0.69        5.2                          0.11   \n",
       "WDAY            0.75       40.7                          0.12   \n",
       "MASI            0.58        6.7                          0.11   \n",
       "VRSN            0.66       20.9                          0.10   \n",
       "CSOD            0.63        3.4                          0.10   \n",
       "SPLK            0.58       18.9                          0.13   \n",
       "XLNX            0.84       28.5                          0.19   \n",
       "COUP            1.50        5.5                          0.30   \n",
       "EW              0.43       35.6                          0.08   \n",
       "SHOP            0.56       19.0                          0.15   \n",
       "FIVN            1.17        3.0                          0.13   \n",
       "IONS            0.52        8.0                          0.04   \n",
       "NSTG            2.85        0.7                          0.19   \n",
       "HUBS            0.91        6.3                          0.14   \n",
       "\n",
       "        twoHundredDayAverageChangePercent  fiftyTwoWeekLowChangePercent  \\\n",
       "symbol                                                                    \n",
       "RHT                                  0.15                          0.55   \n",
       "CDNS                                 0.13                          0.43   \n",
       "NOW                                  0.23                          0.65   \n",
       "ANTM                                 0.14                          0.43   \n",
       "RNG                                  0.15                          0.96   \n",
       "BSX                                  0.08                          0.55   \n",
       "MLNX                                 0.17                          0.67   \n",
       "WDAY                                 0.27                          0.73   \n",
       "MASI                                 0.11                          0.56   \n",
       "VRSN                                 0.12                          0.64   \n",
       "CSOD                                 0.10                          0.61   \n",
       "SPLK                                 0.18                          0.55   \n",
       "XLNX                                 0.36                          0.81   \n",
       "COUP                                 0.36                          1.47   \n",
       "EW                                   0.12                          0.40   \n",
       "SHOP                                 0.17                          0.53   \n",
       "FIVN                                 0.22                          1.15   \n",
       "IONS                                 0.14                          0.49   \n",
       "NSTG                                 0.37                          2.82   \n",
       "HUBS                                 0.17                          0.87   \n",
       "\n",
       "        fiftyTwoWeekHighChangePercent  \n",
       "symbol                                 \n",
       "RHT                             -0.00  \n",
       "CDNS                            -0.01  \n",
       "NOW                             -0.01  \n",
       "ANTM                            -0.01  \n",
       "RNG                             -0.01  \n",
       "BSX                             -0.02  \n",
       "MLNX                            -0.02  \n",
       "WDAY                            -0.02  \n",
       "MASI                            -0.02  \n",
       "VRSN                            -0.02  \n",
       "CSOD                            -0.02  \n",
       "SPLK                            -0.02  \n",
       "XLNX                            -0.03  \n",
       "COUP                            -0.03  \n",
       "EW                              -0.03  \n",
       "SHOP                            -0.03  \n",
       "FIVN                            -0.03  \n",
       "IONS                            -0.03  \n",
       "NSTG                            -0.03  \n",
       "HUBS                            -0.03  "
      ]
     },
     "execution_count": 382,
     "metadata": {},
     "output_type": "execute_result"
    }
   ],
   "source": [
    "# Companies with an absolte range of [50%] during the last 52 weeks\n",
    "mask = (merged['52wkAbsRange'] > 0.4) & (merged.quoteType == 'EQUITY')\n",
    "df = merged[mask]\n",
    "show = ['52wkAbsRange', 'marketCap',\n",
    "        'fiftyDayAverageChangePercent','twoHundredDayAverageChangePercent',\n",
    "        'fiftyTwoWeekLowChangePercent','fiftyTwoWeekHighChangePercent',]\n",
    "df[show].sort_values(by='fiftyTwoWeekHighChangePercent', ascending=True)\n",
    "# df[show].hist(figsize=(15,10))\n",
    "# df = df.groupby(['industry'])[show].median()\n",
    "df.sort_values(\n",
    "    by='fiftyTwoWeekHighChangePercent', ascending=False).head(20).round(2)[show]"
   ]
  },
  {
   "cell_type": "code",
   "execution_count": 357,
   "metadata": {
    "hidden": true
   },
   "outputs": [
    {
     "data": {
      "text/html": [
       "<div>\n",
       "<style scoped>\n",
       "    .dataframe tbody tr th:only-of-type {\n",
       "        vertical-align: middle;\n",
       "    }\n",
       "\n",
       "    .dataframe tbody tr th {\n",
       "        vertical-align: top;\n",
       "    }\n",
       "\n",
       "    .dataframe thead th {\n",
       "        text-align: right;\n",
       "    }\n",
       "</style>\n",
       "<table border=\"0\" class=\"dataframe\">\n",
       "  <thead>\n",
       "    <tr style=\"text-align: right;\">\n",
       "      <th></th>\n",
       "      <th>52wkAbsRange</th>\n",
       "      <th>fiftyDayAverageChangePercent</th>\n",
       "      <th>fiftyTwoWeekLowChangePercent</th>\n",
       "      <th>fiftyTwoWeekHighChangePercent</th>\n",
       "      <th>twoHundredDayAverageChangePercent</th>\n",
       "      <th>marketCap</th>\n",
       "    </tr>\n",
       "    <tr>\n",
       "      <th>symbol</th>\n",
       "      <th></th>\n",
       "      <th></th>\n",
       "      <th></th>\n",
       "      <th></th>\n",
       "      <th></th>\n",
       "      <th></th>\n",
       "    </tr>\n",
       "  </thead>\n",
       "  <tbody>\n",
       "    <tr>\n",
       "      <th>ATVI</th>\n",
       "      <td>0.514493</td>\n",
       "      <td>-0.065217</td>\n",
       "      <td>0.033623</td>\n",
       "      <td>-0.480869</td>\n",
       "      <td>-0.300767</td>\n",
       "      <td>33.5</td>\n",
       "    </tr>\n",
       "    <tr>\n",
       "      <th>EA</th>\n",
       "      <td>0.581874</td>\n",
       "      <td>-0.022227</td>\n",
       "      <td>0.137870</td>\n",
       "      <td>-0.444004</td>\n",
       "      <td>-0.180115</td>\n",
       "      <td>25.4</td>\n",
       "    </tr>\n",
       "    <tr>\n",
       "      <th>TTWO</th>\n",
       "      <td>0.364615</td>\n",
       "      <td>-0.073451</td>\n",
       "      <td>0.053558</td>\n",
       "      <td>-0.311057</td>\n",
       "      <td>-0.182461</td>\n",
       "      <td>11.0</td>\n",
       "    </tr>\n",
       "  </tbody>\n",
       "</table>\n",
       "</div>"
      ],
      "text/plain": [
       "        52wkAbsRange  fiftyDayAverageChangePercent  \\\n",
       "symbol                                               \n",
       "ATVI        0.514493                     -0.065217   \n",
       "EA          0.581874                     -0.022227   \n",
       "TTWO        0.364615                     -0.073451   \n",
       "\n",
       "        fiftyTwoWeekLowChangePercent  fiftyTwoWeekHighChangePercent  \\\n",
       "symbol                                                                \n",
       "ATVI                        0.033623                      -0.480869   \n",
       "EA                          0.137870                      -0.444004   \n",
       "TTWO                        0.053558                      -0.311057   \n",
       "\n",
       "        twoHundredDayAverageChangePercent  marketCap  \n",
       "symbol                                                \n",
       "ATVI                            -0.300767       33.5  \n",
       "EA                              -0.180115       25.4  \n",
       "TTWO                            -0.182461       11.0  "
      ]
     },
     "execution_count": 357,
     "metadata": {},
     "output_type": "execute_result"
    }
   ],
   "source": [
    "tgt_industry = 'Electronic Gaming & Multimedia'\n",
    "merged[merged.industry == tgt_industry][show]"
   ]
  },
  {
   "cell_type": "code",
   "execution_count": 358,
   "metadata": {
    "hidden": true
   },
   "outputs": [
    {
     "data": {
      "text/plain": [
       "array([[<matplotlib.axes._subplots.AxesSubplot object at 0x129a15080>,\n",
       "        <matplotlib.axes._subplots.AxesSubplot object at 0x12a2b7cf8>],\n",
       "       [<matplotlib.axes._subplots.AxesSubplot object at 0x12a2e72b0>,\n",
       "        <matplotlib.axes._subplots.AxesSubplot object at 0x12a30e828>],\n",
       "       [<matplotlib.axes._subplots.AxesSubplot object at 0x12a336da0>,\n",
       "        <matplotlib.axes._subplots.AxesSubplot object at 0x12a366198>]],\n",
       "      dtype=object)"
      ]
     },
     "execution_count": 358,
     "metadata": {},
     "output_type": "execute_result"
    },
    {
     "data": {
      "image/png": "[encoded data removed]",
      "text/plain": [
       "<Figure size 432x288 with 1 Axes>"
      ]
     },
     "metadata": {
      "needs_background": "light"
     },
     "output_type": "display_data"
    },
    {
     "data": {
      "image/png": "[encoded data removed]",
      "text/plain": [
       "<Figure size 1080x720 with 6 Axes>"
      ]
     },
     "metadata": {
      "needs_background": "light"
     },
     "output_type": "display_data"
    }
   ],
   "source": [
    "mask = (merged['52wkAbsRange'] > .4) & (merged.quoteType=='EQUITY')\n",
    "df = merged[mask]\n",
    "df.plot.scatter(x='marketCap', y='52wkAbsRange')\n",
    "df.hist(show, bins=15, figsize=(15,10))"
   ]
  },
  {
   "cell_type": "code",
   "execution_count": 227,
   "metadata": {
    "ExecuteTime": {
     "end_time": "2018-10-03T00:28:37.861177Z",
     "start_time": "2018-10-03T00:28:37.786574Z"
    },
    "hidden": true
   },
   "outputs": [
    {
     "data": {
      "text/plain": [
       "Index(['industry', 'sector', 'averageDailyVolume10Day',\n",
       "       'averageDailyVolume3Month', 'fiftyDayAverageChangePercent',\n",
       "       'fiftyTwoWeekHighChangePercent', 'fiftyTwoWeekLowChangePercent',\n",
       "       'fiftyTwoWeekRange', 'longName', 'regularMarketChangePercent',\n",
       "       'regularMarketDayHigh', 'regularMarketDayLow', 'regularMarketOpen',\n",
       "       'regularMarketPreviousClose', 'regularMarketPrice', 'regularMarketTime',\n",
       "       'regularMarketVolume', 'twoHundredDayAverageChangePercent', 'ytdReturn',\n",
       "       'expireDate', 'expireIsoDate', 'openInterest', 'marketCap', 'quoteType',\n",
       "       'beta', 'enterpriseValue', 'pegRatio', 'enterpriseToEbitda',\n",
       "       '52WeekChange', 'SandP52WeekChange', 'shortPercentOfFloat',\n",
       "       'netIncomeToCommon', '52wkAbsRange'],\n",
       "      dtype='object')"
      ]
     },
     "execution_count": 227,
     "metadata": {},
     "output_type": "execute_result"
    }
   ],
   "source": [
    "merged.to_csv('merged-universe.csv')\n",
    "merged.columns"
   ]
  },
  {
   "cell_type": "markdown",
   "metadata": {},
   "source": [
    "### Expanded Universe"
   ]
  },
  {
   "cell_type": "code",
   "execution_count": 2,
   "metadata": {},
   "outputs": [
    {
     "name": "stdout",
     "output_type": "stream",
     "text": [
      "<class 'pandas.core.frame.DataFrame'>\n",
      "RangeIndex: 1165 entries, 0 to 1164\n",
      "Data columns (total 17 columns):\n",
      "Symbol                      1165 non-null object\n",
      "BEST_CRNCY_ISO              1165 non-null object\n",
      "NAME                        1165 non-null object\n",
      "TRAIL_12M_FREE_CASH_FLOW    1098 non-null float64\n",
      "NET_DEBT_TO_EBITDA          982 non-null float64\n",
      "CRNCY_ADJ_MKT_CAP           1165 non-null int64\n",
      "NET_DEBT                    1165 non-null object\n",
      "VOLATILITY_30D              1163 non-null float64\n",
      "PEG1                        1165 non-null object\n",
      "PEG2                        1165 non-null object\n",
      "GICS_SECTOR_NAME            1165 non-null object\n",
      "GICS_INDUSTRY_NAME          1165 non-null object\n",
      "GICS_INDUSTRY_GROUP_NAME    1165 non-null object\n",
      "TOT_ANALYST_REC             1165 non-null float64\n",
      "ASSET_TURNOVER              1151 non-null object\n",
      "RETURN_COM_EQY              1165 non-null object\n",
      "Filtered?                   1105 non-null object\n",
      "dtypes: float64(4), int64(1), object(12)\n",
      "memory usage: 154.8+ KB\n"
     ]
    }
   ],
   "source": [
    "data = pd.read_csv('./csvs/expanded_universe.csv', skiprows=2)\n",
    "data.info()"
   ]
  },
  {
   "cell_type": "code",
   "execution_count": 3,
   "metadata": {},
   "outputs": [
    {
     "data": {
      "text/html": [
       "<div>\n",
       "<style scoped>\n",
       "    .dataframe tbody tr th:only-of-type {\n",
       "        vertical-align: middle;\n",
       "    }\n",
       "\n",
       "    .dataframe tbody tr th {\n",
       "        vertical-align: top;\n",
       "    }\n",
       "\n",
       "    .dataframe thead th {\n",
       "        text-align: right;\n",
       "    }\n",
       "</style>\n",
       "<table border=\"1\" class=\"dataframe\">\n",
       "  <thead>\n",
       "    <tr style=\"text-align: right;\">\n",
       "      <th></th>\n",
       "      <th>Symbol</th>\n",
       "      <th>BEST_CRNCY_ISO</th>\n",
       "      <th>NAME</th>\n",
       "      <th>TRAIL_12M_FREE_CASH_FLOW</th>\n",
       "      <th>NET_DEBT_TO_EBITDA</th>\n",
       "      <th>CRNCY_ADJ_MKT_CAP</th>\n",
       "      <th>NET_DEBT</th>\n",
       "      <th>VOLATILITY_30D</th>\n",
       "      <th>PEG1</th>\n",
       "      <th>PEG2</th>\n",
       "      <th>GICS_SECTOR_NAME</th>\n",
       "      <th>GICS_INDUSTRY_NAME</th>\n",
       "      <th>GICS_INDUSTRY_GROUP_NAME</th>\n",
       "      <th>TOT_ANALYST_REC</th>\n",
       "      <th>ASSET_TURNOVER</th>\n",
       "      <th>RETURN_COM_EQY</th>\n",
       "      <th>Filtered?</th>\n",
       "      <th>ticker</th>\n",
       "    </tr>\n",
       "    <tr>\n",
       "      <th>ticker</th>\n",
       "      <th></th>\n",
       "      <th></th>\n",
       "      <th></th>\n",
       "      <th></th>\n",
       "      <th></th>\n",
       "      <th></th>\n",
       "      <th></th>\n",
       "      <th></th>\n",
       "      <th></th>\n",
       "      <th></th>\n",
       "      <th></th>\n",
       "      <th></th>\n",
       "      <th></th>\n",
       "      <th></th>\n",
       "      <th></th>\n",
       "      <th></th>\n",
       "      <th></th>\n",
       "      <th></th>\n",
       "    </tr>\n",
       "  </thead>\n",
       "  <tbody>\n",
       "    <tr>\n",
       "      <th>PENN</th>\n",
       "      <td>PENN US Equity</td>\n",
       "      <td>USD</td>\n",
       "      <td>PENN NATIONAL GAMING INC</td>\n",
       "      <td>0.3</td>\n",
       "      <td>5.5</td>\n",
       "      <td>3</td>\n",
       "      <td>5</td>\n",
       "      <td>61.5</td>\n",
       "      <td>0.18</td>\n",
       "      <td>0.33</td>\n",
       "      <td>Consumer Discretionary</td>\n",
       "      <td>Hotels, Restaurants &amp; Leisure</td>\n",
       "      <td>Consumer Services</td>\n",
       "      <td>12.0</td>\n",
       "      <td>60%</td>\n",
       "      <td>(123)</td>\n",
       "      <td>116</td>\n",
       "      <td>PENN</td>\n",
       "    </tr>\n",
       "    <tr>\n",
       "      <th>MAT</th>\n",
       "      <td>MAT US Equity</td>\n",
       "      <td>USD</td>\n",
       "      <td>MATTEL INC</td>\n",
       "      <td>-1.2</td>\n",
       "      <td>NaN</td>\n",
       "      <td>5</td>\n",
       "      <td>2</td>\n",
       "      <td>37.6</td>\n",
       "      <td>(1.42)</td>\n",
       "      <td>0.03</td>\n",
       "      <td>Consumer Discretionary</td>\n",
       "      <td>Leisure Products</td>\n",
       "      <td>Consumer Durables &amp; Apparel</td>\n",
       "      <td>17.0</td>\n",
       "      <td>79%</td>\n",
       "      <td>(79)</td>\n",
       "      <td>134</td>\n",
       "      <td>MAT</td>\n",
       "    </tr>\n",
       "    <tr>\n",
       "      <th>PAM</th>\n",
       "      <td>PAM US Equity</td>\n",
       "      <td>ARS</td>\n",
       "      <td>PAMPA ENERGIA SA-SPON ADR</td>\n",
       "      <td>-0.1</td>\n",
       "      <td>NaN</td>\n",
       "      <td>3</td>\n",
       "      <td>1</td>\n",
       "      <td>56.2</td>\n",
       "      <td>0.00</td>\n",
       "      <td>0.00</td>\n",
       "      <td>Utilities</td>\n",
       "      <td>Electric Utilities</td>\n",
       "      <td>Utilities</td>\n",
       "      <td>12.0</td>\n",
       "      <td>68%</td>\n",
       "      <td>(70)</td>\n",
       "      <td>299</td>\n",
       "      <td>PAM</td>\n",
       "    </tr>\n",
       "    <tr>\n",
       "      <th>GE</th>\n",
       "      <td>GE US Equity</td>\n",
       "      <td>USD</td>\n",
       "      <td>GENERAL ELECTRIC CO</td>\n",
       "      <td>-0.8</td>\n",
       "      <td>NaN</td>\n",
       "      <td>71</td>\n",
       "      <td>63</td>\n",
       "      <td>54.1</td>\n",
       "      <td>0.48</td>\n",
       "      <td>0.62</td>\n",
       "      <td>Industrials</td>\n",
       "      <td>Industrial Conglomerates</td>\n",
       "      <td>Capital Goods</td>\n",
       "      <td>24.0</td>\n",
       "      <td>35%</td>\n",
       "      <td>(62)</td>\n",
       "      <td>746</td>\n",
       "      <td>GE</td>\n",
       "    </tr>\n",
       "    <tr>\n",
       "      <th>NWL</th>\n",
       "      <td>NWL US Equity</td>\n",
       "      <td>USD</td>\n",
       "      <td>NEWELL BRANDS INC</td>\n",
       "      <td>0.8</td>\n",
       "      <td>NaN</td>\n",
       "      <td>10</td>\n",
       "      <td>10</td>\n",
       "      <td>62.0</td>\n",
       "      <td>(1.12)</td>\n",
       "      <td>0.88</td>\n",
       "      <td>Consumer Discretionary</td>\n",
       "      <td>Household Durables</td>\n",
       "      <td>Consumer Durables &amp; Apparel</td>\n",
       "      <td>13.0</td>\n",
       "      <td>40%</td>\n",
       "      <td>(58)</td>\n",
       "      <td>119</td>\n",
       "      <td>NWL</td>\n",
       "    </tr>\n",
       "  </tbody>\n",
       "</table>\n",
       "</div>"
      ],
      "text/plain": [
       "                Symbol BEST_CRNCY_ISO                       NAME  \\\n",
       "ticker                                                             \n",
       "PENN    PENN US Equity            USD   PENN NATIONAL GAMING INC   \n",
       "MAT      MAT US Equity            USD                 MATTEL INC   \n",
       "PAM      PAM US Equity            ARS  PAMPA ENERGIA SA-SPON ADR   \n",
       "GE        GE US Equity            USD        GENERAL ELECTRIC CO   \n",
       "NWL      NWL US Equity            USD          NEWELL BRANDS INC   \n",
       "\n",
       "        TRAIL_12M_FREE_CASH_FLOW  NET_DEBT_TO_EBITDA  CRNCY_ADJ_MKT_CAP  \\\n",
       "ticker                                                                    \n",
       "PENN                         0.3                 5.5                  3   \n",
       "MAT                         -1.2                 NaN                  5   \n",
       "PAM                         -0.1                 NaN                  3   \n",
       "GE                          -0.8                 NaN                 71   \n",
       "NWL                          0.8                 NaN                 10   \n",
       "\n",
       "       NET_DEBT  VOLATILITY_30D      PEG1     PEG2        GICS_SECTOR_NAME  \\\n",
       "ticker                                                                       \n",
       "PENN         5             61.5     0.18     0.33   Consumer Discretionary   \n",
       "MAT          2             37.6    (1.42)    0.03   Consumer Discretionary   \n",
       "PAM          1             56.2     0.00     0.00                Utilities   \n",
       "GE          63             54.1     0.48     0.62              Industrials   \n",
       "NWL         10             62.0    (1.12)    0.88   Consumer Discretionary   \n",
       "\n",
       "                   GICS_INDUSTRY_NAME     GICS_INDUSTRY_GROUP_NAME  \\\n",
       "ticker                                                               \n",
       "PENN    Hotels, Restaurants & Leisure            Consumer Services   \n",
       "MAT                  Leisure Products  Consumer Durables & Apparel   \n",
       "PAM                Electric Utilities                    Utilities   \n",
       "GE           Industrial Conglomerates                Capital Goods   \n",
       "NWL                Household Durables  Consumer Durables & Apparel   \n",
       "\n",
       "        TOT_ANALYST_REC ASSET_TURNOVER RETURN_COM_EQY Filtered? ticker  \n",
       "ticker                                                                  \n",
       "PENN               12.0            60%          (123)      116    PENN  \n",
       "MAT                17.0            79%           (79)      134     MAT  \n",
       "PAM                12.0            68%           (70)      299     PAM  \n",
       "GE                 24.0            35%           (62)      746      GE  \n",
       "NWL                13.0            40%           (58)      119     NWL  "
      ]
     },
     "execution_count": 3,
     "metadata": {},
     "output_type": "execute_result"
    }
   ],
   "source": [
    "full_list = data.Symbol.apply(lambda x: x.split(\" \")[0]).tolist()\n",
    "data['ticker'] = full_list\n",
    "data.set_index('ticker', drop=False, inplace=True)\n",
    "data.head()"
   ]
  },
  {
   "cell_type": "code",
   "execution_count": 4,
   "metadata": {},
   "outputs": [],
   "source": [
    "remove = ['700', '9984', 'FOX', 'BF/B', 'CIB', 'EC', 'MBT', \n",
    "          'OGZPY', 'EGN', 'CELG', 'COL', 'BF/B', 'PBR/A', \n",
    "          'RDS/A', 'MOG/A', 'LPNT', 'AET', 'BRK/B', 'TKPYY', \n",
    "          'JW/A', 'ESRX', 'LHO', 'RDS/B','BFR','BMA','GGAL',\n",
    "          'PAM', 'YPF', 'ABEV','AZUL', 'BAK', 'BBD', 'BDORY', \n",
    "'BFR', 'BMA', 'BRFS', 'BSBR', 'CBD', 'CIB', 'CIG', 'CIOXY', 'EBR', 'EC', \n",
    "'ERIC', 'ERJ', 'FBR', 'GGAL', 'GGB', 'HDB', 'IBN', 'ITUB', 'MBT', 'NVO', \n",
    "'OGZPY','PAM', 'PBR', 'SBS', 'SID', 'TKC', 'TSU', 'TTM', 'UGP', 'VALE','VEDL','VIV', 'WIT', 'YPF']\n",
    "data.drop(remove, inplace=True, errors='ignore')"
   ]
  },
  {
   "cell_type": "code",
   "execution_count": 5,
   "metadata": {},
   "outputs": [],
   "source": [
    "existing_cos = config['companies']\n",
    "len(data.ticker.tolist()), len(existing_cos)\n",
    "s = set(data.ticker.tolist())\n",
    "new_tickers = s.difference(existing_cos)"
   ]
  },
  {
   "cell_type": "code",
   "execution_count": 58,
   "metadata": {
    "scrolled": true
   },
   "outputs": [
    {
     "name": "stdout",
     "output_type": "stream",
     "text": [
      "division by zero\n",
      "division by zero\n",
      "division by zero\n"
     ]
    }
   ],
   "source": [
    "dataset = 'quote'\n",
    "full_data = []\n",
    "fail_tickers = []\n",
    "for x in list(new_tickers):\n",
    "    print('Getting quote for', x)\n",
    "    encoded_kv = urllib.parse.urlencode({QUERY_DICT[dataset][enc_key]: x})\n",
    "    try:\n",
    "        data = get_data(encoded_kv, dataset, '')\n",
    "        full_data.extend(get_children_list(json.loads(data), 'quoteResponse'))\n",
    "    except Exception as e:\n",
    "        print(e)\n",
    "        fail_tickers.append(x)"
   ]
  },
  {
   "cell_type": "code",
   "execution_count": 7,
   "metadata": {},
   "outputs": [],
   "source": [
    "# fail_tickers = ['EGN', 'CELG', 'COL', 'BF/B', 'PBR/A', 'RDS/A', 'MOG/A', 'LPNT', 'AET', 'BRK/B', 'TKPYY', 'JW/A', 'ESRX', 'LHO', 'RDS/B']\n",
    "fail_tickers = remove"
   ]
  },
  {
   "cell_type": "code",
   "execution_count": 9,
   "metadata": {},
   "outputs": [
    {
     "name": "stdout",
     "output_type": "stream",
     "text": [
      "Full new list without duplicates 1231\n",
      "['0700.HK', '1810.HK', '3690.HK', '9984.T', 'A', 'AAL', 'AAN', 'AAON', 'AAP', 'AAPL', 'AAXN', 'ABB', 'ABBV', 'ABC', 'ABCB', 'ABEV', 'ABMD', 'ABT', 'ACC', 'ACHC', 'ACIW', 'ACM', 'ACN', 'ADBE', 'ADC', 'ADI', 'ADM', 'ADNT', 'ADP', 'ADS', 'ADSK', 'AEE', 'AEIS', 'AEL', 'AEO', 'AEP', 'AES', 'AFG', 'AFL', 'AGCO', 'AGN', 'AHL', 'AIG', 'AIN', 'AIT', 'AIV', 'AIZ', 'AJG', 'AJRD', 'AKAM', 'AKR', 'ALB', 'ALE', 'ALGN', 'ALK', 'ALL', 'ALLE', 'ALLO', 'ALRM', 'ALXN', 'AMAT', 'AMCX', 'AMD', 'AME', 'AMED', 'AMG', 'AMGN', 'AMN', 'AMP', 'AMRN', 'AMT', 'AMX', 'AMZN', 'AN', 'ANET', 'ANSS', 'ANTM', 'AON', 'AOS', 'APA', 'APC', 'APD', 'APH', 'APTV', 'APY', 'ARE', 'ARI', 'ARNC', 'ARRS', 'ARW', 'ASB', 'ASGN', 'ASH', 'ASX', 'ATGE', 'ATHM', 'ATI', 'ATO', 'ATR', 'ATVI', 'AU', 'AUO', 'AVA', 'AVAV', 'AVB', 'AVGO', 'AVNS', 'AVT', 'AVX', 'AVY', 'AWK', 'AWR', 'AXE', 'AXP', 'AYI', 'AYX', 'AZN', 'AZO', 'AZUL', 'B', 'BA', 'BABA', 'BAC', 'BAESY', 'BAK', 'BANR', 'BASFY', 'BAX', 'BAYRY', 'BBD', 'BBL', 'BBT', 'BBVA', 'BBY', 'BC', 'BCO', 'BCPC', 'BCS', 'BDC', 'BDORY', 'BDX', 'BEAT', 'BEN', 'BGNE', 'BHF', 'BHGE', 'BHP', 'BIDU', 'BIIB', 'BILI', 'BIO', 'BK', 'BKH', 'BKNG', 'BL', 'BLK', 'BLKB', 'BLL', 'BLUE', 'BMS', 'BMY', 'BOH', 'BOX', 'BP', 'BR', 'BRC', 'BRFS', 'BRKR', 'BRKS', 'BRO', 'BSBR', 'BSMX', 'BSTI', 'BSX', 'BT', 'BTI', 'BUD', 'BVN', 'BWA', 'BXP', 'BXS', 'BYD', 'C', 'CABO', 'CACI', 'CAG', 'CAH', 'CAIXY', 'CAJ', 'CAKE', 'CALM', 'CAR', 'CASY', 'CAT', 'CATY', 'CB', 'CBD', 'CBM', 'CBOE', 'CBRE', 'CBRL', 'CBS', 'CBSH', 'CBT', 'CBU', 'CC', 'CCI', 'CCL', 'CCMP', 'CCOI', 'CDK', 'CDNS', 'CERN', 'CERS', 'CF', 'CFG', 'CFR', 'CFRUY', 'CGNX', 'CHD', 'CHDN', 'CHE', 'CHFC', 'CHK', 'CHKP', 'CHL', 'CHRW', 'CHTR', 'CHU', 'CI', 'CIEN', 'CIG', 'CINF', 'CIOXY', 'CKHUY', 'CL', 'CLB', 'CLGX', 'CLH', 'CLLS', 'CLVS', 'CLX', 'CMA', 'CMC', 'CMCSA', 'CMD', 'CME', 'CMG', 'CMI', 'CMS', 'CNC', 'CNK', 'CNO', 'CNP', 'CNX', 'COF', 'COG', 'COHR', 'COLB', 'CONE', 'COO', 'COP', 'COR', 'COST', 'COTY', 'COUP', 'CPB', 'CPE', 'CPRT', 'CPT', 'CR', 'CREE', 'CRH', 'CRI', 'CRL', 'CRM', 'CRS', 'CRSP', 'CRUS', 'CS', 'CSCO', 'CSL', 'CSOD', 'CSX', 'CTAS', 'CTL', 'CTLT', 'CTRP', 'CTSH', 'CTXS', 'CUZ', 'CVBF', 'CVLT', 'CVS', 'CVX', 'CW', 'CWT', 'CX', 'CXO', 'CXW', 'CY', 'CYBR', 'D', 'DAL', 'DAN', 'DANOY', 'DAR', 'DATA', 'DBX', 'DCI', 'DDD', 'DDS', 'DE', 'DECK', 'DEI', 'DEO', 'DFS', 'DG', 'DGX', 'DHI', 'DHR', 'DIS', 'DISCA', 'DISCK', 'DISH', 'DKS', 'DLB', 'DLPH', 'DLR', 'DLTR', 'DLX', 'DMLRY', 'DNB', 'DNKN', 'DORM', 'DOV', 'DOX', 'DPZ', 'DRE', 'DRH', 'DRI', 'DSW', 'DTE', 'DUK', 'DVA', 'DVN', 'DWDP', 'DXC', 'DXCM', 'DY', 'EA', 'EBAY', 'EBR', 'EBS', 'ECL', 'ED', 'EDIT', 'EDU', 'EE', 'EFX', 'EGP', 'EHC', 'EIX', 'EL', 'ELLI', 'ELY', 'EME', 'EMN', 'EMR', 'ENDP', 'ENIA', 'ENIC', 'ENR', 'ENS', 'ENSG', 'EOG', 'EPAY', 'EPC', 'EPR', 'EQIX', 'EQNR', 'EQR', 'EQT', 'ERI', 'ERIC', 'ERJ', 'ES', 'ESL', 'ESS', 'ESV', 'ETFC', 'ETN', 'ETR', 'ETRN', 'ETSY', 'EV', 'EVR', 'EVRG', 'EVTC', 'EW', 'EWBC', 'EXC', 'EXEL', 'EXP', 'EXPD', 'EXPE', 'EXPO', 'EXR', 'F', 'FAF', 'FANUY', 'FAST', 'FB', 'FBHS', 'FBP', 'FBR', 'FCFS', 'FCN', 'FCX', 'FDS', 'FDX', 'FE', 'FELE', 'FERGY', 'FFBC', 'FFIN', 'FFIV', 'FHN', 'FICO', 'FII', 'FIS', 'FISV', 'FITB', 'FIVE', 'FIVN', 'FIX', 'FL', 'FLIR', 'FLO', 'FLR', 'FLS', 'FLT', 'FMBI', 'FMC', 'FMX', 'FNB', 'FNSR', 'FOXA', 'FOXF', 'FR', 'FRT', 'FSLR', 'FTI', 'FTNT', 'FTV', 'FUL', 'FULT', 'GATX', 'GBCI', 'GD', 'GDOT', 'GDS', 'GE', 'GEF', 'GEO', 'GFI', 'GGB', 'GGG', 'GHC', 'GIII', 'GILD', 'GIS', 'GLW', 'GM', 'GMED', 'GNTX', 'GNW', 'GOLD', 'GOOG', 'GOOGL', 'GPC', 'GPN', 'GPS', 'GRFS', 'GRMN', 'GRUB', 'GS', 'GSK', 'GSKY', 'GT', 'GTLS', 'GVA', 'GWB', 'GWPH', 'GWR', 'GWRE', 'GWW', 'HAE', 'HAIN', 'HAL', 'HALO', 'HAS', 'HBAN', 'HBI', 'HCA', 'HCP', 'HCSG', 'HD', 'HDB', 'HE', 'HELE', 'HES', 'HFC', 'HI', 'HIG', 'HII', 'HIW', 'HLT', 'HMC', 'HMSY', 'HOG', 'HOLX', 'HOMB', 'HON', 'HP', 'HPE', 'HPQ', 'HPT', 'HQY', 'HR', 'HRB', 'HRC', 'HRL', 'HRS', 'HSBC', 'HSC', 'HSIC', 'HST', 'HSY', 'HTHT', 'HUBB', 'HUBS', 'HUM', 'HUYA', 'HWC', 'IART', 'IBKR', 'IBM', 'IBN', 'IBOC', 'ICE', 'ICUI', 'IDA', 'IDCC', 'IDTI', 'IDXX', 'IEX', 'IFF', 'IFNNY', 'IIVI', 'ILMN', 'INCY', 'INDB', 'INFO', 'INFY', 'ING', 'INGN', 'INGR', 'INTC', 'INTU', 'IONS', 'IOVA', 'IP', 'IPG', 'IPGP', 'IQ', 'IQV', 'IR', 'IRBT', 'IRDM', 'IRM', 'ISNPY', 'ISRG', 'IT', 'ITGR', 'ITRI', 'ITT', 'ITUB', 'ITW', 'IVZ', 'JACK', 'JBAXY', 'JBGS', 'JBHT', 'JBL', 'JBLU', 'JBT', 'JCI', 'JCOM', 'JD', 'JEC', 'JEF', 'JHG', 'JJSF', 'JKHY', 'JLL', 'JNJ', 'JNPR', 'JOBS', 'JPM', 'JWN', 'K', 'KBR', 'KDDIY', 'KEP', 'KEX', 'KEY', 'KEYS', 'KFY', 'KGFHY', 'KHC', 'KIM', 'KLAC', 'KMB', 'KMI', 'KMPR', 'KMT', 'KMX', 'KNX', 'KO', 'KORS', 'KR', 'KRC', 'KSS', 'KSU', 'KT', 'KWR', 'L', 'LAMR', 'LANC', 'LB', 'LDOS', 'LECO', 'LEG', 'LEN', 'LFC', 'LFUS', 'LGND', 'LH', 'LHCG', 'LII', 'LIN', 'LITE', 'LIVN', 'LKQ', 'LLL', 'LLY', 'LM', 'LMT', 'LNC', 'LNT', 'LOGM', 'LOW', 'LPL', 'LPT', 'LPX', 'LRCX', 'LSI', 'LSTR', 'LTM', 'LULU', 'LUV', 'LW', 'LYB', 'LYG', 'LYV', 'M', 'MA', 'MAA', 'MAC', 'MAN', 'MANH', 'MANT', 'MAR', 'MAS', 'MASI', 'MAT', 'MBFI', 'MCD', 'MCHP', 'MCK', 'MCO', 'MCY', 'MD', 'MDLZ', 'MDP', 'MDSO', 'MDT', 'MDU', 'MELI', 'MET', 'MFG', 'MFGP', 'MGM', 'MHK', 'MIK', 'MIME', 'MKC', 'MKSI', 'MKTX', 'MLCO', 'MLM', 'MLNX', 'MMC', 'MMM', 'MMS', 'MMSI', 'MNK', 'MNRO', 'MNST', 'MO', 'MOGU', 'MOH', 'MOMO', 'MOS', 'MPC', 'MPW', 'MPWR', 'MRCY', 'MRK', 'MRO', 'MRVL', 'MS', 'MSA', 'MSCI', 'MSFT', 'MSG', 'MSI', 'MSM', 'MTB', 'MTD', 'MTDR', 'MTLS', 'MTZ', 'MU', 'MUFG', 'MUR', 'MUSA', 'MXIM', 'MYGN', 'MYL', 'NATI', 'NAVG', 'NAVI', 'NBL', 'NCLH', 'NCR', 'NDAQ', 'NDSN', 'NEE', 'NEM', 'NEOG', 'NEU', 'NEWR', 'NFG', 'NFLX', 'NFX', 'NGG', 'NGVT', 'NI', 'NICE', 'NIO', 'NJR', 'NKE', 'NKTR', 'NLSN', 'NNN', 'NOAH', 'NOC', 'NOK', 'NOV', 'NOW', 'NPSNY', 'NRG', 'NSA', 'NSC', 'NSP', 'NSRGY', 'NSTG', 'NTAP', 'NTCT', 'NTDOY', 'NTES', 'NTGR', 'NTLA', 'NTRS', 'NUE', 'NUS', 'NUVA', 'NVDA', 'NVO', 'NVR', 'NVS', 'NVT', 'NVTA', 'NWE', 'NWL', 'NWS', 'NWSA', 'NXPI', 'NYCB', 'NYT', 'O', 'OAS', 'ODFL', 'OFC', 'OGE', 'OGS', 'OHI', 'OI', 'OKE', 'OLED', 'OLLI', 'OLN', 'OMC', 'OMCL', 'ONB', 'ONCE', 'OPRA', 'ORAN', 'ORCL', 'ORI', 'ORLY', 'OSK', 'OXY', 'OZK', 'PACB', 'PACW', 'PANW', 'PAYC', 'PAYX', 'PB', 'PBCT', 'PBF', 'PBH', 'PBR', 'PCAR', 'PCG', 'PCH', 'PCTY', 'PD', 'PDCE', 'PDCO', 'PDD', 'PEG', 'PEGA', 'PENN', 'PEP', 'PFE', 'PFG', 'PG', 'PGR', 'PH', 'PHM', 'PII', 'PKG', 'PKI', 'PLAY', 'PLCE', 'PLD', 'PLT', 'PM', 'PNC', 'PNFP', 'PNM', 'PNR', 'PNW', 'POL', 'POOL', 'POST', 'POWI', 'PPG', 'PPL', 'PRA', 'PRAH', 'PRGO', 'PRI', 'PRLB', 'PRSP', 'PRU', 'PSA', 'PSB', 'PSTG', 'PSX', 'PTC', 'PTEN', 'PVH', 'PWR', 'PXD', 'PYPL', 'QCOM', 'QLYS', 'QRVO', 'R', 'RAMP', 'RBC', 'RBS', 'RCL', 'RDWR', 'RE', 'REG', 'REGN', 'RELX', 'REPYY', 'REZI', 'RF', 'RGA', 'RGEN', 'RGLD', 'RGNX', 'RH', 'RHHBY', 'RHI', 'RHT', 'RIG', 'RIO', 'RJF', 'RL', 'RLGY', 'RLI', 'RMD', 'RNG', 'RNR', 'ROG', 'ROIC', 'ROK', 'ROL', 'ROP', 'ROST', 'RPM', 'RRC', 'RS', 'RSG', 'RTN', 'RUBY', 'RYAAY', 'RYN', 'SABR', 'SAFM', 'SAIC', 'SAM', 'SAN', 'SAP', 'SBAC', 'SBH', 'SBNY', 'SBRA', 'SBS', 'SBUX', 'SCG', 'SCHW', 'SCI', 'SE', 'SEE', 'SEIC', 'SEM', 'SF', 'SFM', 'SFNC', 'SFTBY', 'SHOO', 'SHOP', 'SHPG', 'SHW', 'SID', 'SIG', 'SIGI', 'SIVB', 'SIX', 'SJI', 'SJM', 'SKM', 'SKT', 'SKX', 'SKYW', 'SLAB', 'SLB', 'SLG', 'SLGN', 'SLM', 'SM', 'SMFG', 'SMG', 'SMTC', 'SNA', 'SNE', 'SNH', 'SNN', 'SNPS', 'SNV', 'SNX', 'SNY', 'SO', 'SOGO', 'SON', 'SPG', 'SPGI', 'SPLK', 'SPOT', 'SQ', 'SQM', 'SR', 'SRCL', 'SRE', 'SSD', 'SSYS', 'STE', 'STI', 'STL', 'STLD', 'STMP', 'STRA', 'STT', 'STX', 'STZ', 'SUPN', 'SWK', 'SWKS', 'SWN', 'SWX', 'SXT', 'SYF', 'SYK', 'SYMC', 'SYNH', 'SYY', 'T', 'TAL', 'TAP', 'TCBI', 'TCEHY', 'TCF', 'TCO', 'TDC', 'TDG', 'TDOC', 'TDS', 'TDY', 'TECD', 'TECH', 'TEF', 'TEL', 'TER', 'TEVA', 'TEX', 'TFX', 'TGNA', 'TGT', 'THC', 'THG', 'THO', 'THS', 'TIF', 'TJX', 'TKC', 'TKR', 'TM', 'TME', 'TMK', 'TMO', 'TOL', 'TOT', 'TPR', 'TPX', 'TR', 'TREE', 'TREX', 'TRIP', 'TRMB', 'TRMK', 'TRN', 'TROW', 'TRV', 'TRVG', 'TS', 'TSCO', 'TSEM', 'TSLA', 'TSM', 'TSN', 'TSS', 'TSU', 'TTC', 'TTD', 'TTEK', 'TTM', 'TTWO', 'TV', 'TWOU', 'TWTR', 'TX', 'TXN', 'TXRH', 'TXT', 'TYL', 'UA', 'UAA', 'UAL', 'UBNT', 'UBSI', 'UCBI', 'UDR', 'UE', 'UFS', 'UGI', 'UGP', 'UHS', 'UL', 'ULTA', 'ULTI', 'UMBF', 'UMC', 'UMPQ', 'UNF', 'UNH', 'UNIT', 'UNM', 'UNP', 'UPS', 'URBN', 'URGN', 'URI', 'USB', 'UTHR', 'UTX', 'V', 'VAC', 'VALE', 'VAR', 'VC', 'VCYT', 'VEDL', 'VEEV', 'VEON', 'VFC', 'VG', 'VIAB', 'VIAV', 'VIPS', 'VIV', 'VLO', 'VLY', 'VMC', 'VMI', 'VNO', 'VOD', 'VRSK', 'VRSN', 'VRTX', 'VSAT', 'VSH', 'VSM', 'VTR', 'VVC', 'VVV', 'VZ', 'WAB', 'WAFD', 'WAT', 'WB', 'WBA', 'WBK', 'WBS', 'WCG', 'WDAY', 'WDC', 'WDFC', 'WEC', 'WELL', 'WEN', 'WERN', 'WEX', 'WFC', 'WH', 'WHR', 'WIT', 'WIX', 'WLTW', 'WM', 'WMB', 'WMT', 'WOR', 'WPP', 'WPX', 'WRB', 'WRI', 'WRK', 'WSM', 'WSO', 'WST', 'WTFC', 'WTR', 'WTS', 'WTW', 'WU', 'WUBA', 'WWD', 'WWE', 'WWW', 'WY', 'WYND', 'WYNN', 'X', 'XEC', 'XEL', 'XLNX', 'XOM', 'XRAY', 'XRX', 'XYL', 'Y', 'YELP', 'YUM', 'YY', 'ZBH', 'ZBRA', 'ZEN', 'ZION', 'ZTO', 'ZTS', 'ZUO']\n"
     ]
    }
   ],
   "source": [
    "extended_univ = new_tickers.difference(set(fail_tickers)).union(set(existing_cos))\n",
    "print('Full new list without duplicates {}'.format(len(extended_univ)))\n",
    "print(sorted(list(extended_univ)))"
   ]
  },
  {
   "cell_type": "markdown",
   "metadata": {
    "ExecuteTime": {
     "end_time": "2018-09-28T01:01:59.572093Z",
     "start_time": "2018-09-28T01:01:59.464955Z"
    },
    "heading_collapsed": true
   },
   "source": [
    "### Old overview of companies in the coverage universe"
   ]
  },
  {
   "cell_type": "markdown",
   "metadata": {
    "ExecuteTime": {
     "end_time": "2018-09-28T01:10:41.449849Z",
     "start_time": "2018-09-28T01:10:41.299124Z"
    },
    "hidden": true
   },
   "source": [
    "- [x] Produce a list with an overview of all the companies in the coverage universe (name, symbol, address, sector, industry, description, employees)"
   ]
  },
  {
   "cell_type": "code",
   "execution_count": 6,
   "metadata": {
    "ExecuteTime": {
     "end_time": "2018-10-08T01:50:34.364038Z",
     "start_time": "2018-10-08T01:50:34.332323Z"
    },
    "hidden": true
   },
   "outputs": [],
   "source": [
    "profile = profile.drop_duplicates(subset='symbol')"
   ]
  },
  {
   "cell_type": "code",
   "execution_count": 7,
   "metadata": {
    "ExecuteTime": {
     "end_time": "2018-10-08T01:50:38.837535Z",
     "start_time": "2018-10-08T01:50:38.814219Z"
    },
    "hidden": true
   },
   "outputs": [
    {
     "data": {
      "text/plain": [
       "362"
      ]
     },
     "execution_count": 7,
     "metadata": {},
     "output_type": "execute_result"
    }
   ],
   "source": [
    "len(profile.symbol.unique())"
   ]
  },
  {
   "cell_type": "code",
   "execution_count": 8,
   "metadata": {
    "ExecuteTime": {
     "end_time": "2018-10-08T01:50:42.971236Z",
     "start_time": "2018-10-08T01:50:42.945541Z"
    },
    "hidden": true
   },
   "outputs": [
    {
     "data": {
      "text/plain": [
       "(362, 362)"
      ]
     },
     "execution_count": 8,
     "metadata": {},
     "output_type": "execute_result"
    }
   ],
   "source": [
    "len(profile), len(profile.symbol.unique())"
   ]
  },
  {
   "cell_type": "code",
   "execution_count": 12,
   "metadata": {
    "ExecuteTime": {
     "end_time": "2018-10-08T01:50:48.758760Z",
     "start_time": "2018-10-08T01:50:48.706775Z"
    },
    "hidden": true
   },
   "outputs": [],
   "source": [
    "brief_cols = ['symbol', 'website', 'address', 'sector', 'fullTimeEmployees', 'longBusinessSummary']\n",
    "\n",
    "p2 = profile.copy()\n",
    "p2['address'] = p2.address1 + ', ' \\\n",
    "    + p2.city + ', ' + p2.state + ', ' \\\n",
    "    + p2.zip + ', ' + p2.country\n",
    "p2['sector'] = p2['sector'] + ', ' + p2['industry']"
   ]
  },
  {
   "cell_type": "code",
   "execution_count": 13,
   "metadata": {
    "ExecuteTime": {
     "end_time": "2018-10-08T01:50:49.323042Z",
     "start_time": "2018-10-08T01:50:49.299792Z"
    },
    "hidden": true
   },
   "outputs": [],
   "source": [
    "long_tickers = [\"TSLA\", \"TAL\", \"SYMC\", \"AMAT\", \"MU\", \"CELG\", \"BABA\", \"FB\", \n",
    "                \"EDU\", \"ALLY\", \"GOOG\", \"CFG\", \"WDC\", \"SFTBY\", \"LRCX\", \"BAC\", \n",
    "                \"WFC\", \"KEY\", \"GM\", \"SHY\", \"SRLN\", \"NXPI\", \"XRAY\", \"TCEHY\"]"
   ]
  },
  {
   "cell_type": "code",
   "execution_count": 14,
   "metadata": {
    "ExecuteTime": {
     "end_time": "2018-10-08T01:50:51.440964Z",
     "start_time": "2018-10-08T01:50:49.950895Z"
    },
    "hidden": true
   },
   "outputs": [],
   "source": [
    "pd.set_option('display.max_colwidth', -1)\n",
    "pd.set_option('display.html.border', 0)\n",
    "\n",
    "sorted_symbols = profile.sort_values(by=['sector','industry']).symbol.tolist()\n",
    "# sorted_symbols = long_tickers\n",
    "\n",
    "with open('company-overviews.html', mode='w') as f:\n",
    "    for s in sorted_symbols:\n",
    "        f.write(p2[p2.symbol == s][brief_cols].T.to_html())\n",
    "        f.write('<p style=\"page-break-before: always\">')\n",
    "    f.close()\n",
    "\n",
    "pd.set_option('display.max_colwidth', 50)"
   ]
  },
  {
   "cell_type": "code",
   "execution_count": 15,
   "metadata": {
    "ExecuteTime": {
     "end_time": "2018-10-03T00:28:26.850883Z",
     "start_time": "2018-10-03T00:28:26.721333Z"
    },
    "hidden": true
   },
   "outputs": [
    {
     "data": {
      "text/html": [
       "<div>\n",
       "<style scoped>\n",
       "    .dataframe tbody tr th:only-of-type {\n",
       "        vertical-align: middle;\n",
       "    }\n",
       "\n",
       "    .dataframe tbody tr th {\n",
       "        vertical-align: top;\n",
       "    }\n",
       "\n",
       "    .dataframe thead th {\n",
       "        text-align: right;\n",
       "    }\n",
       "</style>\n",
       "<table border=\"0\" class=\"dataframe\">\n",
       "  <thead>\n",
       "    <tr style=\"text-align: right;\">\n",
       "      <th></th>\n",
       "      <th>symbol</th>\n",
       "      <th>auditRisk</th>\n",
       "      <th>boardRisk</th>\n",
       "      <th>compensationRisk</th>\n",
       "      <th>shareHolderRightsRisk</th>\n",
       "      <th>overallRisk</th>\n",
       "    </tr>\n",
       "  </thead>\n",
       "  <tbody>\n",
       "    <tr>\n",
       "      <th>308</th>\n",
       "      <td>RL</td>\n",
       "      <td>1.0</td>\n",
       "      <td>9.0</td>\n",
       "      <td>10.0</td>\n",
       "      <td>10.0</td>\n",
       "      <td>10.0</td>\n",
       "    </tr>\n",
       "    <tr>\n",
       "      <th>293</th>\n",
       "      <td>PSTG</td>\n",
       "      <td>2.0</td>\n",
       "      <td>9.0</td>\n",
       "      <td>9.0</td>\n",
       "      <td>10.0</td>\n",
       "      <td>10.0</td>\n",
       "    </tr>\n",
       "    <tr>\n",
       "      <th>270</th>\n",
       "      <td>NWSA</td>\n",
       "      <td>1.0</td>\n",
       "      <td>9.0</td>\n",
       "      <td>5.0</td>\n",
       "      <td>10.0</td>\n",
       "      <td>10.0</td>\n",
       "    </tr>\n",
       "    <tr>\n",
       "      <th>269</th>\n",
       "      <td>NWS</td>\n",
       "      <td>1.0</td>\n",
       "      <td>9.0</td>\n",
       "      <td>5.0</td>\n",
       "      <td>10.0</td>\n",
       "      <td>10.0</td>\n",
       "    </tr>\n",
       "    <tr>\n",
       "      <th>62</th>\n",
       "      <td>CAG</td>\n",
       "      <td>1.0</td>\n",
       "      <td>6.0</td>\n",
       "      <td>5.0</td>\n",
       "      <td>10.0</td>\n",
       "      <td>8.0</td>\n",
       "    </tr>\n",
       "    <tr>\n",
       "      <th>27</th>\n",
       "      <td>APPF</td>\n",
       "      <td>2.0</td>\n",
       "      <td>7.0</td>\n",
       "      <td>8.0</td>\n",
       "      <td>10.0</td>\n",
       "      <td>10.0</td>\n",
       "    </tr>\n",
       "    <tr>\n",
       "      <th>96</th>\n",
       "      <td>DATA</td>\n",
       "      <td>1.0</td>\n",
       "      <td>5.0</td>\n",
       "      <td>10.0</td>\n",
       "      <td>10.0</td>\n",
       "      <td>10.0</td>\n",
       "    </tr>\n",
       "    <tr>\n",
       "      <th>255</th>\n",
       "      <td>NFLX</td>\n",
       "      <td>2.0</td>\n",
       "      <td>10.0</td>\n",
       "      <td>10.0</td>\n",
       "      <td>10.0</td>\n",
       "      <td>10.0</td>\n",
       "    </tr>\n",
       "    <tr>\n",
       "      <th>242</th>\n",
       "      <td>MSG</td>\n",
       "      <td>1.0</td>\n",
       "      <td>10.0</td>\n",
       "      <td>10.0</td>\n",
       "      <td>10.0</td>\n",
       "      <td>10.0</td>\n",
       "    </tr>\n",
       "    <tr>\n",
       "      <th>103</th>\n",
       "      <td>DLB</td>\n",
       "      <td>1.0</td>\n",
       "      <td>4.0</td>\n",
       "      <td>3.0</td>\n",
       "      <td>10.0</td>\n",
       "      <td>7.0</td>\n",
       "    </tr>\n",
       "  </tbody>\n",
       "</table>\n",
       "</div>"
      ],
      "text/plain": [
       "    symbol  auditRisk  boardRisk  compensationRisk  shareHolderRightsRisk  \\\n",
       "308     RL        1.0        9.0              10.0                   10.0   \n",
       "293   PSTG        2.0        9.0               9.0                   10.0   \n",
       "270   NWSA        1.0        9.0               5.0                   10.0   \n",
       "269    NWS        1.0        9.0               5.0                   10.0   \n",
       "62     CAG        1.0        6.0               5.0                   10.0   \n",
       "27    APPF        2.0        7.0               8.0                   10.0   \n",
       "96    DATA        1.0        5.0              10.0                   10.0   \n",
       "255   NFLX        2.0       10.0              10.0                   10.0   \n",
       "242    MSG        1.0       10.0              10.0                   10.0   \n",
       "103    DLB        1.0        4.0               3.0                   10.0   \n",
       "\n",
       "     overallRisk  \n",
       "308         10.0  \n",
       "293         10.0  \n",
       "270         10.0  \n",
       "269         10.0  \n",
       "62           8.0  \n",
       "27          10.0  \n",
       "96          10.0  \n",
       "255         10.0  \n",
       "242         10.0  \n",
       "103          7.0  "
      ]
     },
     "execution_count": 15,
     "metadata": {},
     "output_type": "execute_result"
    }
   ],
   "source": [
    "risk_cols = ['symbol', 'auditRisk', 'boardRisk', 'compensationRisk', 'shareHolderRightsRisk', 'overallRisk']\n",
    "profile[risk_cols].sort_values(by=['shareHolderRightsRisk'], ascending=False).head(10)"
   ]
  },
  {
   "cell_type": "code",
   "execution_count": 16,
   "metadata": {
    "ExecuteTime": {
     "end_time": "2018-10-03T00:28:28.725712Z",
     "start_time": "2018-10-03T00:28:28.636397Z"
    },
    "hidden": true
   },
   "outputs": [
    {
     "data": {
      "text/plain": [
       "2017-12-30    254\n",
       "2018-12-30     94\n",
       "1969-12-31     77\n",
       "2016-12-30      4\n",
       "2015-12-30      1\n",
       "2005-12-30      1\n",
       "Name: compensationAsOfEpochDate, dtype: int64"
      ]
     },
     "execution_count": 16,
     "metadata": {},
     "output_type": "execute_result"
    }
   ],
   "source": [
    "date_cols = ['governanceEpochDate', 'compensationAsOfEpochDate']\n",
    "profile.fillna(0, inplace=True)\n",
    "profile.governanceEpochDate.apply(lambda x: date.fromtimestamp(x)).value_counts()\n",
    "profile.compensationAsOfEpochDate.apply(lambda x: date.fromtimestamp(x)).value_counts()"
   ]
  },
  {
   "cell_type": "markdown",
   "metadata": {
    "ExecuteTime": {
     "end_time": "2018-09-28T02:43:05.221313Z",
     "start_time": "2018-09-28T02:43:05.196624Z"
    },
    "hidden": true
   },
   "source": [
    "- [x] What is the distribution (frequency) of companies by sector and industry?"
   ]
  },
  {
   "cell_type": "code",
   "execution_count": 17,
   "metadata": {
    "ExecuteTime": {
     "end_time": "2018-10-03T00:28:29.665292Z",
     "start_time": "2018-10-03T00:28:29.594605Z"
    },
    "hidden": true
   },
   "outputs": [
    {
     "data": {
      "text/plain": [
       "Technology                159\n",
       "Healthcare                110\n",
       "0                          56\n",
       "Consumer Cyclical          54\n",
       "Consumer Defensive         30\n",
       "Industrials                16\n",
       "Financial Services          5\n",
       "Communication Services      1\n",
       "Name: sector, dtype: int64"
      ]
     },
     "execution_count": 17,
     "metadata": {},
     "output_type": "execute_result"
    }
   ],
   "source": [
    "profile.sector.value_counts()"
   ]
  },
  {
   "cell_type": "code",
   "execution_count": 18,
   "metadata": {
    "ExecuteTime": {
     "end_time": "2018-10-03T00:28:30.238380Z",
     "start_time": "2018-10-03T00:28:30.135699Z"
    },
    "hidden": true,
    "scrolled": true
   },
   "outputs": [
    {
     "data": {
      "text/plain": [
       "sector                  industry                           \n",
       "0                       0                                      56\n",
       "Communication Services  Telecom Services                        1\n",
       "Consumer Cyclical       Apparel Manufacturing                   2\n",
       "                        Apparel Stores                          8\n",
       "                        Auto Manufacturers                      5\n",
       "                        Auto Parts                              7\n",
       "                        Broadcasting - TV                       2\n",
       "                        Footwear & Accessories                  5\n",
       "                        Home Improvement Stores                 2\n",
       "                        Leisure                                 8\n",
       "                                                               ..\n",
       "Technology              Electronic Gaming & Multimedia          4\n",
       "                        Health Information Services             6\n",
       "                        Information Technology Services         3\n",
       "                        Internet Content & Information         12\n",
       "                        Scientific & Technical Instruments      7\n",
       "                        Semiconductor Equipment & Materials     9\n",
       "                        Semiconductor Memory                    1\n",
       "                        Semiconductors                         26\n",
       "                        Software - Application                 41\n",
       "                        Software - Infrastructure              19\n",
       "Name: symbol, Length: 52, dtype: int64"
      ]
     },
     "execution_count": 18,
     "metadata": {},
     "output_type": "execute_result"
    }
   ],
   "source": [
    "count_by_ind = profile.groupby(by=['sector', 'industry']).symbol.count().sort_index()\n",
    "with open('universe.html', mode='w') as f:\n",
    "    f.write(pd.DataFrame(count_by_ind).to_html())\n",
    "    f.close()\n",
    "count_by_ind"
   ]
  },
  {
   "cell_type": "markdown",
   "metadata": {
    "heading_collapsed": true,
    "hidden": true
   },
   "source": [
    "#### Old analytics"
   ]
  },
  {
   "cell_type": "markdown",
   "metadata": {
    "hidden": true
   },
   "source": [
    "- [x] Sum key metrics by sector (market cap, revenues, income, cash flow, …) to understand  relevant size"
   ]
  },
  {
   "cell_type": "code",
   "execution_count": 51,
   "metadata": {
    "ExecuteTime": {
     "end_time": "2018-10-03T00:36:39.346397Z",
     "start_time": "2018-10-03T00:36:39.249635Z"
    },
    "code_folding": [],
    "hidden": true
   },
   "outputs": [
    {
     "data": {
      "text/html": [
       "<div>\n",
       "<style scoped>\n",
       "    .dataframe tbody tr th:only-of-type {\n",
       "        vertical-align: middle;\n",
       "    }\n",
       "\n",
       "    .dataframe tbody tr th {\n",
       "        vertical-align: top;\n",
       "    }\n",
       "\n",
       "    .dataframe thead th {\n",
       "        text-align: right;\n",
       "    }\n",
       "</style>\n",
       "<table border=\"0\" class=\"dataframe\">\n",
       "  <thead>\n",
       "    <tr style=\"text-align: right;\">\n",
       "      <th></th>\n",
       "      <th>symbol</th>\n",
       "      <th>sector</th>\n",
       "      <th>industry</th>\n",
       "      <th>marketCap</th>\n",
       "      <th>shortName</th>\n",
       "      <th>trailingPE</th>\n",
       "      <th>regularMarketPrice</th>\n",
       "      <th>trailingAnnualDividendYield</th>\n",
       "      <th>earningsTimestamp</th>\n",
       "      <th>earningsTimestampEnd</th>\n",
       "      <th>...</th>\n",
       "      <th>earningsGrowth</th>\n",
       "      <th>revenueGrowth</th>\n",
       "      <th>revenuePerShare</th>\n",
       "      <th>grossMargins</th>\n",
       "      <th>ebitdaMargins</th>\n",
       "      <th>operatingMargins</th>\n",
       "      <th>profitMargins</th>\n",
       "      <th>targetMeanPrice</th>\n",
       "      <th>targetMedianPrice</th>\n",
       "      <th>numberOfAnalystOpinions</th>\n",
       "    </tr>\n",
       "  </thead>\n",
       "  <tbody>\n",
       "    <tr>\n",
       "      <th>338</th>\n",
       "      <td>TSS</td>\n",
       "      <td>Financial Services</td>\n",
       "      <td>Credit Services</td>\n",
       "      <td>16948457472</td>\n",
       "      <td>Total System Services, Inc.</td>\n",
       "      <td>26.402388</td>\n",
       "      <td>92.91</td>\n",
       "      <td>0.005739</td>\n",
       "      <td>1.540325e+09</td>\n",
       "      <td>1.548450e+09</td>\n",
       "      <td>...</td>\n",
       "      <td>0.250</td>\n",
       "      <td>-0.176</td>\n",
       "      <td>24.745</td>\n",
       "      <td>0.32041</td>\n",
       "      <td>0.22987</td>\n",
       "      <td>0.17240</td>\n",
       "      <td>0.14385</td>\n",
       "      <td>106.73</td>\n",
       "      <td>109.5</td>\n",
       "      <td>22.0</td>\n",
       "    </tr>\n",
       "    <tr>\n",
       "      <th>173</th>\n",
       "      <td>ICE</td>\n",
       "      <td>Financial Services</td>\n",
       "      <td>Financial Exchanges</td>\n",
       "      <td>44746518528</td>\n",
       "      <td>Intercontinental Exchange Inc.</td>\n",
       "      <td>18.385210</td>\n",
       "      <td>78.56</td>\n",
       "      <td>0.011268</td>\n",
       "      <td>1.549546e+09</td>\n",
       "      <td>1.525696e+09</td>\n",
       "      <td>...</td>\n",
       "      <td>0.100</td>\n",
       "      <td>0.056</td>\n",
       "      <td>8.161</td>\n",
       "      <td>1.00000</td>\n",
       "      <td>0.62432</td>\n",
       "      <td>0.53997</td>\n",
       "      <td>0.52819</td>\n",
       "      <td>86.09</td>\n",
       "      <td>85.0</td>\n",
       "      <td>16.0</td>\n",
       "    </tr>\n",
       "    <tr>\n",
       "      <th>282</th>\n",
       "      <td>PYPL</td>\n",
       "      <td>Financial Services</td>\n",
       "      <td>Credit Services</td>\n",
       "      <td>103966711808</td>\n",
       "      <td>PayPal Holdings, Inc.</td>\n",
       "      <td>51.000000</td>\n",
       "      <td>88.23</td>\n",
       "      <td>NaN</td>\n",
       "      <td>1.539877e+09</td>\n",
       "      <td>1.549298e+09</td>\n",
       "      <td>...</td>\n",
       "      <td>0.161</td>\n",
       "      <td>0.137</td>\n",
       "      <td>12.568</td>\n",
       "      <td>0.46777</td>\n",
       "      <td>0.19848</td>\n",
       "      <td>0.16588</td>\n",
       "      <td>0.13982</td>\n",
       "      <td>99.33</td>\n",
       "      <td>100.0</td>\n",
       "      <td>42.0</td>\n",
       "    </tr>\n",
       "    <tr>\n",
       "      <th>208</th>\n",
       "      <td>MA</td>\n",
       "      <td>Financial Services</td>\n",
       "      <td>Credit Services</td>\n",
       "      <td>215068196864</td>\n",
       "      <td>Mastercard Incorporated</td>\n",
       "      <td>46.701054</td>\n",
       "      <td>208.24</td>\n",
       "      <td>0.004871</td>\n",
       "      <td>1.540903e+09</td>\n",
       "      <td>1.549287e+09</td>\n",
       "      <td>...</td>\n",
       "      <td>0.364</td>\n",
       "      <td>0.200</td>\n",
       "      <td>13.246</td>\n",
       "      <td>1.00000</td>\n",
       "      <td>0.58825</td>\n",
       "      <td>0.55464</td>\n",
       "      <td>0.33809</td>\n",
       "      <td>233.75</td>\n",
       "      <td>230.0</td>\n",
       "      <td>36.0</td>\n",
       "    </tr>\n",
       "    <tr>\n",
       "      <th>354</th>\n",
       "      <td>V</td>\n",
       "      <td>Financial Services</td>\n",
       "      <td>Credit Services</td>\n",
       "      <td>320854753280</td>\n",
       "      <td>Visa Inc.</td>\n",
       "      <td>35.341793</td>\n",
       "      <td>144.76</td>\n",
       "      <td>0.005860</td>\n",
       "      <td>1.540411e+09</td>\n",
       "      <td>1.549314e+09</td>\n",
       "      <td>...</td>\n",
       "      <td>0.162</td>\n",
       "      <td>0.148</td>\n",
       "      <td>8.881</td>\n",
       "      <td>0.96680</td>\n",
       "      <td>0.68267</td>\n",
       "      <td>0.66710</td>\n",
       "      <td>0.47908</td>\n",
       "      <td>164.37</td>\n",
       "      <td>165.0</td>\n",
       "      <td>35.0</td>\n",
       "    </tr>\n",
       "  </tbody>\n",
       "</table>\n",
       "<p>5 rows × 45 columns</p>\n",
       "</div>"
      ],
      "text/plain": [
       "    symbol              sector             industry     marketCap  \\\n",
       "338    TSS  Financial Services      Credit Services   16948457472   \n",
       "173    ICE  Financial Services  Financial Exchanges   44746518528   \n",
       "282   PYPL  Financial Services      Credit Services  103966711808   \n",
       "208     MA  Financial Services      Credit Services  215068196864   \n",
       "354      V  Financial Services      Credit Services  320854753280   \n",
       "\n",
       "                          shortName  trailingPE  regularMarketPrice  \\\n",
       "338     Total System Services, Inc.   26.402388               92.91   \n",
       "173  Intercontinental Exchange Inc.   18.385210               78.56   \n",
       "282           PayPal Holdings, Inc.   51.000000               88.23   \n",
       "208         Mastercard Incorporated   46.701054              208.24   \n",
       "354                       Visa Inc.   35.341793              144.76   \n",
       "\n",
       "     trailingAnnualDividendYield  earningsTimestamp  earningsTimestampEnd  \\\n",
       "338                     0.005739       1.540325e+09          1.548450e+09   \n",
       "173                     0.011268       1.549546e+09          1.525696e+09   \n",
       "282                          NaN       1.539877e+09          1.549298e+09   \n",
       "208                     0.004871       1.540903e+09          1.549287e+09   \n",
       "354                     0.005860       1.540411e+09          1.549314e+09   \n",
       "\n",
       "              ...             earningsGrowth  revenueGrowth  revenuePerShare  \\\n",
       "338           ...                      0.250         -0.176           24.745   \n",
       "173           ...                      0.100          0.056            8.161   \n",
       "282           ...                      0.161          0.137           12.568   \n",
       "208           ...                      0.364          0.200           13.246   \n",
       "354           ...                      0.162          0.148            8.881   \n",
       "\n",
       "     grossMargins  ebitdaMargins  operatingMargins  profitMargins  \\\n",
       "338       0.32041        0.22987           0.17240        0.14385   \n",
       "173       1.00000        0.62432           0.53997        0.52819   \n",
       "282       0.46777        0.19848           0.16588        0.13982   \n",
       "208       1.00000        0.58825           0.55464        0.33809   \n",
       "354       0.96680        0.68267           0.66710        0.47908   \n",
       "\n",
       "     targetMeanPrice  targetMedianPrice  numberOfAnalystOpinions  \n",
       "338           106.73              109.5                     22.0  \n",
       "173            86.09               85.0                     16.0  \n",
       "282            99.33              100.0                     42.0  \n",
       "208           233.75              230.0                     36.0  \n",
       "354           164.37              165.0                     35.0  \n",
       "\n",
       "[5 rows x 45 columns]"
      ]
     },
     "execution_count": 51,
     "metadata": {},
     "output_type": "execute_result"
    }
   ],
   "source": [
    "# current date is dirty, new dates won't include these tickers\n",
    "# merged[merged.symbol == 'ZG']\n",
    "# merged.drop('185', inplace=True) # MTRX\n",
    "# merged.drop('313', inplace=True) # Z\n",
    "# merged.drop('315', inplace=True) # ZG\n",
    "# merged.drop(['246','97','230','90'], inplace=True) # SAND, EMN, PX, DWDP\n",
    "# merged.drop(['174','134','162'], inplace=True) # MGTI, HLAN, LC\n",
    "# merged.drop(['48','234','53', '143'], inplace=True) # CALL, RDCM, CELL, IDCC\n",
    "# merged.drop(['83','118','292', '178'], inplace=True) # DE, GE, UPS, MMM\n",
    "# merged.drop(['249','47','286', '63'], inplace=True) # SHAK, CAKE, TXRH, CMG\n",
    "\n",
    "# CRS, ATI, HRB, VAC, THO, PRLB, TREE, CVCO, KTOS, CSU\n",
    "# merged.drop(['90','35', '173', '369', '340', '290', '345', '98', '209', '95'], inplace=True) \n",
    "# merged.drop(['70'], inplace=True) # CEL\n",
    "\n",
    "# merged[merged.symbol != 'AAPL']\n",
    "merged[merged.sector == 'Financial Services'].sort_values(by='marketCap')"
   ]
  },
  {
   "cell_type": "code",
   "execution_count": 52,
   "metadata": {
    "ExecuteTime": {
     "end_time": "2018-10-03T00:28:45.333430Z",
     "start_time": "2018-10-03T00:28:45.255706Z"
    },
    "hidden": true
   },
   "outputs": [
    {
     "data": {
      "text/plain": [
       "Biotechnology                          16\n",
       "Communication Equipment                 2\n",
       "Semiconductor Equipment & Materials     2\n",
       "Diagnostics & Research                  1\n",
       "Computer Systems                        1\n",
       "Diversified Industrials                 1\n",
       "Medical Care                            1\n",
       "Software - Application                  1\n",
       "Name: industry, dtype: int64"
      ]
     },
     "execution_count": 52,
     "metadata": {},
     "output_type": "execute_result"
    }
   ],
   "source": [
    "# check for companies with less than 100M of revenue\n",
    "merged[merged.marketCap < (0.5 * UNIT_SCALE)].sort_values(by=['sector','industry']).industry.value_counts()\n",
    "# merged[merged.marketCap < (0.5 * UNIT_SCALE)].sort_values(by=['sector','industry']).marketCap / UNIT_SCALE\n",
    "# merged[merged.totalRevenue < (0.1 * UNIT_SCALE)].sort_values(by=['sector','industry'])[['symbol', 'shortName', 'industry']]"
   ]
  },
  {
   "cell_type": "code",
   "execution_count": 53,
   "metadata": {
    "ExecuteTime": {
     "end_time": "2018-10-03T00:28:46.387483Z",
     "start_time": "2018-10-03T00:28:46.320604Z"
    },
    "hidden": true
   },
   "outputs": [
    {
     "data": {
      "text/plain": [
       "Biotechnology                          44\n",
       "Software - Application                 41\n",
       "Semiconductors                         26\n",
       "Software - Infrastructure              21\n",
       "Diagnostics & Research                 18\n",
       "Communication Equipment                13\n",
       "Internet Content & Information         12\n",
       "Medical Instruments & Supplies         11\n",
       "Specialty Retail                       11\n",
       "Medical Devices                        11\n",
       "                                       ..\n",
       "Consumer Electronics                    2\n",
       "Broadcasting - TV                       2\n",
       "Beverages - Wineries & Distilleries     2\n",
       "Pharmaceutical Retailers                1\n",
       "Grocery Stores                          1\n",
       "Luxury Goods                            1\n",
       "Semiconductor Memory                    1\n",
       "Telecom Services                        1\n",
       "Food Distribution                       1\n",
       "Financial Exchanges                     1\n",
       "Name: industry, Length: 51, dtype: int64"
      ]
     },
     "execution_count": 53,
     "metadata": {},
     "output_type": "execute_result"
    }
   ],
   "source": [
    "merged.industry.value_counts()"
   ]
  },
  {
   "cell_type": "code",
   "execution_count": 54,
   "metadata": {
    "ExecuteTime": {
     "end_time": "2018-10-03T01:13:40.490021Z",
     "start_time": "2018-10-03T01:13:40.371227Z"
    },
    "hidden": true
   },
   "outputs": [
    {
     "data": {
      "text/plain": [
       "Index(['symbol', 'sector', 'industry', 'marketCap', 'shortName', 'trailingPE',\n",
       "       'regularMarketPrice', 'trailingAnnualDividendYield',\n",
       "       'earningsTimestamp', 'earningsTimestampEnd', 'earningsTimestampStart',\n",
       "       'epsForward', 'epsTrailingTwelveMonths', 'fiftyDayAverageChangePercent',\n",
       "       'fiftyTwoWeekHighChangePercent', 'fiftyTwoWeekLowChangePercent',\n",
       "       'priceToBook', 'twoHundredDayAverageChangePercent', 'enterpriseValue',\n",
       "       'forwardPE', 'pegRatio', 'enterpriseToEbitda', '52WeekChange',\n",
       "       'SandP52WeekChange', 'shortPercentOfFloat', 'netIncomeToCommon',\n",
       "       'ebitda', 'totalCashPerShare', 'totalDebt', 'totalRevenue',\n",
       "       'returnOnAssets', 'returnOnEquity', 'grossProfits', 'freeCashflow',\n",
       "       'operatingCashflow', 'earningsGrowth', 'revenueGrowth',\n",
       "       'revenuePerShare', 'grossMargins', 'ebitdaMargins', 'operatingMargins',\n",
       "       'profitMargins', 'targetMeanPrice', 'targetMedianPrice',\n",
       "       'numberOfAnalystOpinions'],\n",
       "      dtype='object')"
      ]
     },
     "execution_count": 54,
     "metadata": {},
     "output_type": "execute_result"
    }
   ],
   "source": [
    "merged.columns"
   ]
  },
  {
   "cell_type": "code",
   "execution_count": 55,
   "metadata": {
    "ExecuteTime": {
     "end_time": "2018-10-03T01:15:27.824240Z",
     "start_time": "2018-10-03T01:15:27.715949Z"
    },
    "hidden": true
   },
   "outputs": [
    {
     "data": {
      "text/html": [
       "<div>\n",
       "<style scoped>\n",
       "    .dataframe tbody tr th:only-of-type {\n",
       "        vertical-align: middle;\n",
       "    }\n",
       "\n",
       "    .dataframe tbody tr th {\n",
       "        vertical-align: top;\n",
       "    }\n",
       "\n",
       "    .dataframe thead th {\n",
       "        text-align: right;\n",
       "    }\n",
       "</style>\n",
       "<table border=\"0\" class=\"dataframe\">\n",
       "  <thead>\n",
       "    <tr style=\"text-align: right;\">\n",
       "      <th></th>\n",
       "      <th></th>\n",
       "      <th>marketCap</th>\n",
       "      <th>totalRevenue</th>\n",
       "      <th>netIncomeToCommon</th>\n",
       "      <th>freeCashflow</th>\n",
       "    </tr>\n",
       "    <tr>\n",
       "      <th>sector</th>\n",
       "      <th>industry</th>\n",
       "      <th></th>\n",
       "      <th></th>\n",
       "      <th></th>\n",
       "      <th></th>\n",
       "    </tr>\n",
       "  </thead>\n",
       "  <tbody>\n",
       "    <tr>\n",
       "      <th rowspan=\"4\" valign=\"top\">Technology</th>\n",
       "      <th>Internet Content &amp; Information</th>\n",
       "      <td>1735.06</td>\n",
       "      <td>242.78</td>\n",
       "      <td>50.91</td>\n",
       "      <td>42.63</td>\n",
       "    </tr>\n",
       "    <tr>\n",
       "      <th>Consumer Electronics</th>\n",
       "      <td>1001.08</td>\n",
       "      <td>256.25</td>\n",
       "      <td>56.18</td>\n",
       "      <td>41.46</td>\n",
       "    </tr>\n",
       "    <tr>\n",
       "      <th>Semiconductors</th>\n",
       "      <td>1057.89</td>\n",
       "      <td>230.69</td>\n",
       "      <td>47.85</td>\n",
       "      <td>41.14</td>\n",
       "    </tr>\n",
       "    <tr>\n",
       "      <th>Software - Infrastructure</th>\n",
       "      <td>1160.30</td>\n",
       "      <td>170.05</td>\n",
       "      <td>20.94</td>\n",
       "      <td>38.33</td>\n",
       "    </tr>\n",
       "    <tr>\n",
       "      <th>Healthcare</th>\n",
       "      <th>Drug Manufacturers - Major</th>\n",
       "      <td>1175.68</td>\n",
       "      <td>252.30</td>\n",
       "      <td>32.08</td>\n",
       "      <td>36.19</td>\n",
       "    </tr>\n",
       "    <tr>\n",
       "      <th>Consumer Cyclical</th>\n",
       "      <th>Specialty Retail</th>\n",
       "      <td>1405.66</td>\n",
       "      <td>404.64</td>\n",
       "      <td>17.75</td>\n",
       "      <td>30.02</td>\n",
       "    </tr>\n",
       "    <tr>\n",
       "      <th rowspan=\"2\" valign=\"top\">Healthcare</th>\n",
       "      <th>Health Care Plans</th>\n",
       "      <td>641.87</td>\n",
       "      <td>742.37</td>\n",
       "      <td>28.82</td>\n",
       "      <td>29.42</td>\n",
       "    </tr>\n",
       "    <tr>\n",
       "      <th>Biotechnology</th>\n",
       "      <td>497.59</td>\n",
       "      <td>88.82</td>\n",
       "      <td>10.68</td>\n",
       "      <td>26.01</td>\n",
       "    </tr>\n",
       "    <tr>\n",
       "      <th>Financial Services</th>\n",
       "      <th>Credit Services</th>\n",
       "      <td>656.84</td>\n",
       "      <td>53.47</td>\n",
       "      <td>16.72</td>\n",
       "      <td>18.48</td>\n",
       "    </tr>\n",
       "    <tr>\n",
       "      <th>Consumer Defensive</th>\n",
       "      <th>Discount Stores</th>\n",
       "      <td>416.67</td>\n",
       "      <td>652.90</td>\n",
       "      <td>8.48</td>\n",
       "      <td>17.41</td>\n",
       "    </tr>\n",
       "    <tr>\n",
       "      <th>...</th>\n",
       "      <th>...</th>\n",
       "      <td>...</td>\n",
       "      <td>...</td>\n",
       "      <td>...</td>\n",
       "      <td>...</td>\n",
       "    </tr>\n",
       "    <tr>\n",
       "      <th>Technology</th>\n",
       "      <th>Scientific &amp; Technical Instruments</th>\n",
       "      <td>44.44</td>\n",
       "      <td>12.33</td>\n",
       "      <td>1.57</td>\n",
       "      <td>1.39</td>\n",
       "    </tr>\n",
       "    <tr>\n",
       "      <th>Consumer Defensive</th>\n",
       "      <th>Grocery Stores</th>\n",
       "      <td>24.98</td>\n",
       "      <td>124.18</td>\n",
       "      <td>3.75</td>\n",
       "      <td>1.29</td>\n",
       "    </tr>\n",
       "    <tr>\n",
       "      <th rowspan=\"2\" valign=\"top\">Consumer Cyclical</th>\n",
       "      <th>Broadcasting - TV</th>\n",
       "      <td>15.78</td>\n",
       "      <td>18.05</td>\n",
       "      <td>-3.03</td>\n",
       "      <td>0.91</td>\n",
       "    </tr>\n",
       "    <tr>\n",
       "      <th>Apparel Manufacturing</th>\n",
       "      <td>16.75</td>\n",
       "      <td>8.84</td>\n",
       "      <td>0.35</td>\n",
       "      <td>0.84</td>\n",
       "    </tr>\n",
       "    <tr>\n",
       "      <th>Technology</th>\n",
       "      <th>Health Information Services</th>\n",
       "      <td>53.98</td>\n",
       "      <td>8.40</td>\n",
       "      <td>1.10</td>\n",
       "      <td>0.83</td>\n",
       "    </tr>\n",
       "    <tr>\n",
       "      <th>Consumer Cyclical</th>\n",
       "      <th>Luxury Goods</th>\n",
       "      <td>14.33</td>\n",
       "      <td>4.42</td>\n",
       "      <td>0.45</td>\n",
       "      <td>0.41</td>\n",
       "    </tr>\n",
       "    <tr>\n",
       "      <th>Industrials</th>\n",
       "      <th>Aerospace &amp; Defense</th>\n",
       "      <td>12.97</td>\n",
       "      <td>5.93</td>\n",
       "      <td>0.61</td>\n",
       "      <td>0.25</td>\n",
       "    </tr>\n",
       "    <tr>\n",
       "      <th>Consumer Defensive</th>\n",
       "      <th>Education &amp; Training Services</th>\n",
       "      <td>42.74</td>\n",
       "      <td>9.60</td>\n",
       "      <td>1.18</td>\n",
       "      <td>0.10</td>\n",
       "    </tr>\n",
       "    <tr>\n",
       "      <th>Healthcare</th>\n",
       "      <th>Medical Care</th>\n",
       "      <td>73.78</td>\n",
       "      <td>75.21</td>\n",
       "      <td>2.75</td>\n",
       "      <td>-0.12</td>\n",
       "    </tr>\n",
       "    <tr>\n",
       "      <th>Consumer Cyclical</th>\n",
       "      <th>Auto Manufacturers</th>\n",
       "      <td>385.61</td>\n",
       "      <td>778.50</td>\n",
       "      <td>36.77</td>\n",
       "      <td>-20.42</td>\n",
       "    </tr>\n",
       "  </tbody>\n",
       "</table>\n",
       "<p>51 rows × 4 columns</p>\n",
       "</div>"
      ],
      "text/plain": [
       "                                                       marketCap  \\\n",
       "sector             industry                                        \n",
       "Technology         Internet Content & Information        1735.06   \n",
       "                   Consumer Electronics                  1001.08   \n",
       "                   Semiconductors                        1057.89   \n",
       "                   Software - Infrastructure             1160.30   \n",
       "Healthcare         Drug Manufacturers - Major            1175.68   \n",
       "Consumer Cyclical  Specialty Retail                      1405.66   \n",
       "Healthcare         Health Care Plans                      641.87   \n",
       "                   Biotechnology                          497.59   \n",
       "Financial Services Credit Services                        656.84   \n",
       "Consumer Defensive Discount Stores                        416.67   \n",
       "...                                                          ...   \n",
       "Technology         Scientific & Technical Instruments      44.44   \n",
       "Consumer Defensive Grocery Stores                          24.98   \n",
       "Consumer Cyclical  Broadcasting - TV                       15.78   \n",
       "                   Apparel Manufacturing                   16.75   \n",
       "Technology         Health Information Services             53.98   \n",
       "Consumer Cyclical  Luxury Goods                            14.33   \n",
       "Industrials        Aerospace & Defense                     12.97   \n",
       "Consumer Defensive Education & Training Services           42.74   \n",
       "Healthcare         Medical Care                            73.78   \n",
       "Consumer Cyclical  Auto Manufacturers                     385.61   \n",
       "\n",
       "                                                       totalRevenue  \\\n",
       "sector             industry                                           \n",
       "Technology         Internet Content & Information            242.78   \n",
       "                   Consumer Electronics                      256.25   \n",
       "                   Semiconductors                            230.69   \n",
       "                   Software - Infrastructure                 170.05   \n",
       "Healthcare         Drug Manufacturers - Major                252.30   \n",
       "Consumer Cyclical  Specialty Retail                          404.64   \n",
       "Healthcare         Health Care Plans                         742.37   \n",
       "                   Biotechnology                              88.82   \n",
       "Financial Services Credit Services                            53.47   \n",
       "Consumer Defensive Discount Stores                           652.90   \n",
       "...                                                             ...   \n",
       "Technology         Scientific & Technical Instruments         12.33   \n",
       "Consumer Defensive Grocery Stores                            124.18   \n",
       "Consumer Cyclical  Broadcasting - TV                          18.05   \n",
       "                   Apparel Manufacturing                       8.84   \n",
       "Technology         Health Information Services                 8.40   \n",
       "Consumer Cyclical  Luxury Goods                                4.42   \n",
       "Industrials        Aerospace & Defense                         5.93   \n",
       "Consumer Defensive Education & Training Services               9.60   \n",
       "Healthcare         Medical Care                               75.21   \n",
       "Consumer Cyclical  Auto Manufacturers                        778.50   \n",
       "\n",
       "                                                       netIncomeToCommon  \\\n",
       "sector             industry                                                \n",
       "Technology         Internet Content & Information                  50.91   \n",
       "                   Consumer Electronics                            56.18   \n",
       "                   Semiconductors                                  47.85   \n",
       "                   Software - Infrastructure                       20.94   \n",
       "Healthcare         Drug Manufacturers - Major                      32.08   \n",
       "Consumer Cyclical  Specialty Retail                                17.75   \n",
       "Healthcare         Health Care Plans                               28.82   \n",
       "                   Biotechnology                                   10.68   \n",
       "Financial Services Credit Services                                 16.72   \n",
       "Consumer Defensive Discount Stores                                  8.48   \n",
       "...                                                                  ...   \n",
       "Technology         Scientific & Technical Instruments               1.57   \n",
       "Consumer Defensive Grocery Stores                                   3.75   \n",
       "Consumer Cyclical  Broadcasting - TV                               -3.03   \n",
       "                   Apparel Manufacturing                            0.35   \n",
       "Technology         Health Information Services                      1.10   \n",
       "Consumer Cyclical  Luxury Goods                                     0.45   \n",
       "Industrials        Aerospace & Defense                              0.61   \n",
       "Consumer Defensive Education & Training Services                    1.18   \n",
       "Healthcare         Medical Care                                     2.75   \n",
       "Consumer Cyclical  Auto Manufacturers                              36.77   \n",
       "\n",
       "                                                       freeCashflow  \n",
       "sector             industry                                          \n",
       "Technology         Internet Content & Information             42.63  \n",
       "                   Consumer Electronics                       41.46  \n",
       "                   Semiconductors                             41.14  \n",
       "                   Software - Infrastructure                  38.33  \n",
       "Healthcare         Drug Manufacturers - Major                 36.19  \n",
       "Consumer Cyclical  Specialty Retail                           30.02  \n",
       "Healthcare         Health Care Plans                          29.42  \n",
       "                   Biotechnology                              26.01  \n",
       "Financial Services Credit Services                            18.48  \n",
       "Consumer Defensive Discount Stores                            17.41  \n",
       "...                                                             ...  \n",
       "Technology         Scientific & Technical Instruments          1.39  \n",
       "Consumer Defensive Grocery Stores                              1.29  \n",
       "Consumer Cyclical  Broadcasting - TV                           0.91  \n",
       "                   Apparel Manufacturing                       0.84  \n",
       "Technology         Health Information Services                 0.83  \n",
       "Consumer Cyclical  Luxury Goods                                0.41  \n",
       "Industrials        Aerospace & Defense                         0.25  \n",
       "Consumer Defensive Education & Training Services               0.10  \n",
       "Healthcare         Medical Care                               -0.12  \n",
       "Consumer Cyclical  Auto Manufacturers                        -20.42  \n",
       "\n",
       "[51 rows x 4 columns]"
      ]
     },
     "execution_count": 55,
     "metadata": {},
     "output_type": "execute_result"
    }
   ],
   "source": [
    "grouping = ['sector', 'industry']\n",
    "display_scale = ['marketCap','totalRevenue','netIncomeToCommon', 'freeCashflow']\n",
    "df = merged.groupby(by=grouping)[display_scale]\n",
    "(df.sum().sort_values(by='freeCashflow', ascending=False) / UNIT_SCALE).round(2)"
   ]
  },
  {
   "cell_type": "code",
   "execution_count": 56,
   "metadata": {
    "ExecuteTime": {
     "end_time": "2018-10-03T00:56:44.083921Z",
     "start_time": "2018-10-03T00:56:43.964898Z"
    },
    "hidden": true
   },
   "outputs": [
    {
     "data": {
      "text/html": [
       "<div>\n",
       "<style scoped>\n",
       "    .dataframe tbody tr th:only-of-type {\n",
       "        vertical-align: middle;\n",
       "    }\n",
       "\n",
       "    .dataframe tbody tr th {\n",
       "        vertical-align: top;\n",
       "    }\n",
       "\n",
       "    .dataframe thead th {\n",
       "        text-align: right;\n",
       "    }\n",
       "</style>\n",
       "<table border=\"0\" class=\"dataframe\">\n",
       "  <thead>\n",
       "    <tr style=\"text-align: right;\">\n",
       "      <th>sector</th>\n",
       "      <th>Communication Services</th>\n",
       "      <th>Consumer Cyclical</th>\n",
       "      <th>Consumer Defensive</th>\n",
       "      <th>Financial Services</th>\n",
       "      <th>Healthcare</th>\n",
       "      <th>Industrials</th>\n",
       "      <th>Technology</th>\n",
       "    </tr>\n",
       "  </thead>\n",
       "  <tbody>\n",
       "    <tr>\n",
       "      <th>fiftyDayAverageChangePercent</th>\n",
       "      <td>-0.168181</td>\n",
       "      <td>0.000432</td>\n",
       "      <td>0.040209</td>\n",
       "      <td>0.017481</td>\n",
       "      <td>-0.013025</td>\n",
       "      <td>-0.024346</td>\n",
       "      <td>-0.014234</td>\n",
       "    </tr>\n",
       "    <tr>\n",
       "      <th>twoHundredDayAverageChangePercent</th>\n",
       "      <td>-0.073107</td>\n",
       "      <td>-0.025722</td>\n",
       "      <td>0.040992</td>\n",
       "      <td>0.040785</td>\n",
       "      <td>0.003797</td>\n",
       "      <td>0.027017</td>\n",
       "      <td>-0.030537</td>\n",
       "    </tr>\n",
       "    <tr>\n",
       "      <th>fiftyTwoWeekHighChangePercent</th>\n",
       "      <td>-0.238039</td>\n",
       "      <td>-0.200845</td>\n",
       "      <td>-0.145887</td>\n",
       "      <td>-0.051497</td>\n",
       "      <td>-0.205791</td>\n",
       "      <td>-0.142487</td>\n",
       "      <td>-0.212389</td>\n",
       "    </tr>\n",
       "    <tr>\n",
       "      <th>fiftyTwoWeekLowChangePercent</th>\n",
       "      <td>0.106835</td>\n",
       "      <td>0.424114</td>\n",
       "      <td>0.324125</td>\n",
       "      <td>0.327646</td>\n",
       "      <td>0.477213</td>\n",
       "      <td>0.302242</td>\n",
       "      <td>0.407627</td>\n",
       "    </tr>\n",
       "  </tbody>\n",
       "</table>\n",
       "</div>"
      ],
      "text/plain": [
       "sector                             Communication Services  Consumer Cyclical  \\\n",
       "fiftyDayAverageChangePercent                    -0.168181           0.000432   \n",
       "twoHundredDayAverageChangePercent               -0.073107          -0.025722   \n",
       "fiftyTwoWeekHighChangePercent                   -0.238039          -0.200845   \n",
       "fiftyTwoWeekLowChangePercent                     0.106835           0.424114   \n",
       "\n",
       "sector                             Consumer Defensive  Financial Services  \\\n",
       "fiftyDayAverageChangePercent                 0.040209            0.017481   \n",
       "twoHundredDayAverageChangePercent            0.040992            0.040785   \n",
       "fiftyTwoWeekHighChangePercent               -0.145887           -0.051497   \n",
       "fiftyTwoWeekLowChangePercent                 0.324125            0.327646   \n",
       "\n",
       "sector                             Healthcare  Industrials  Technology  \n",
       "fiftyDayAverageChangePercent        -0.013025    -0.024346   -0.014234  \n",
       "twoHundredDayAverageChangePercent    0.003797     0.027017   -0.030537  \n",
       "fiftyTwoWeekHighChangePercent       -0.205791    -0.142487   -0.212389  \n",
       "fiftyTwoWeekLowChangePercent         0.477213     0.302242    0.407627  "
      ]
     },
     "execution_count": 56,
     "metadata": {},
     "output_type": "execute_result"
    }
   ],
   "source": [
    "display_performance = ['fiftyDayAverageChangePercent', \n",
    "                       'twoHundredDayAverageChangePercent',\n",
    "                       'fiftyTwoWeekHighChangePercent', \n",
    "                       'fiftyTwoWeekLowChangePercent']\n",
    "\n",
    "df = merged.groupby(by='sector')[display_performance].mean()\n",
    "# df.rank().mean(axis=1)\n",
    "df.T"
   ]
  },
  {
   "cell_type": "markdown",
   "metadata": {
    "ExecuteTime": {
     "end_time": "2018-09-28T02:46:50.181333Z",
     "start_time": "2018-09-28T02:46:50.059509Z"
    },
    "hidden": true
   },
   "source": [
    "- [x] Show metrics of dispersion for key metrics by sector (same as above) to under ranges and define focus, limitations for research and investment parameters"
   ]
  },
  {
   "cell_type": "code",
   "execution_count": 57,
   "metadata": {
    "ExecuteTime": {
     "end_time": "2018-10-03T00:31:52.464481Z",
     "start_time": "2018-10-03T00:31:52.353784Z"
    },
    "hidden": true
   },
   "outputs": [
    {
     "data": {
      "text/html": [
       "<div>\n",
       "<style scoped>\n",
       "    .dataframe tbody tr th:only-of-type {\n",
       "        vertical-align: middle;\n",
       "    }\n",
       "\n",
       "    .dataframe tbody tr th {\n",
       "        vertical-align: top;\n",
       "    }\n",
       "\n",
       "    .dataframe thead th {\n",
       "        text-align: right;\n",
       "    }\n",
       "</style>\n",
       "<table border=\"0\" class=\"dataframe\">\n",
       "  <thead>\n",
       "    <tr style=\"text-align: right;\">\n",
       "      <th></th>\n",
       "      <th>count</th>\n",
       "      <th>mean</th>\n",
       "      <th>std</th>\n",
       "      <th>min</th>\n",
       "      <th>25%</th>\n",
       "      <th>50%</th>\n",
       "      <th>75%</th>\n",
       "      <th>max</th>\n",
       "    </tr>\n",
       "    <tr>\n",
       "      <th>sector</th>\n",
       "      <th></th>\n",
       "      <th></th>\n",
       "      <th></th>\n",
       "      <th></th>\n",
       "      <th></th>\n",
       "      <th></th>\n",
       "      <th></th>\n",
       "      <th></th>\n",
       "    </tr>\n",
       "  </thead>\n",
       "  <tbody>\n",
       "    <tr>\n",
       "      <th>Communication Services</th>\n",
       "      <td>1.0</td>\n",
       "      <td>85.3</td>\n",
       "      <td>NaN</td>\n",
       "      <td>85.3</td>\n",
       "      <td>85.3</td>\n",
       "      <td>85.3</td>\n",
       "      <td>85.3</td>\n",
       "      <td>85.3</td>\n",
       "    </tr>\n",
       "    <tr>\n",
       "      <th>Consumer Cyclical</th>\n",
       "      <td>54.0</td>\n",
       "      <td>51.9</td>\n",
       "      <td>129.9</td>\n",
       "      <td>1.8</td>\n",
       "      <td>5.9</td>\n",
       "      <td>10.7</td>\n",
       "      <td>37.3</td>\n",
       "      <td>858.4</td>\n",
       "    </tr>\n",
       "    <tr>\n",
       "      <th>Consumer Defensive</th>\n",
       "      <td>30.0</td>\n",
       "      <td>47.9</td>\n",
       "      <td>67.5</td>\n",
       "      <td>3.2</td>\n",
       "      <td>13.6</td>\n",
       "      <td>23.6</td>\n",
       "      <td>38.9</td>\n",
       "      <td>305.6</td>\n",
       "    </tr>\n",
       "    <tr>\n",
       "      <th>Financial Services</th>\n",
       "      <td>5.0</td>\n",
       "      <td>140.3</td>\n",
       "      <td>126.3</td>\n",
       "      <td>16.9</td>\n",
       "      <td>44.7</td>\n",
       "      <td>104.0</td>\n",
       "      <td>215.1</td>\n",
       "      <td>320.9</td>\n",
       "    </tr>\n",
       "    <tr>\n",
       "      <th>Healthcare</th>\n",
       "      <td>114.0</td>\n",
       "      <td>32.7</td>\n",
       "      <td>58.3</td>\n",
       "      <td>0.0</td>\n",
       "      <td>1.4</td>\n",
       "      <td>11.2</td>\n",
       "      <td>42.8</td>\n",
       "      <td>388.1</td>\n",
       "    </tr>\n",
       "    <tr>\n",
       "      <th>Industrials</th>\n",
       "      <td>16.0</td>\n",
       "      <td>17.2</td>\n",
       "      <td>16.6</td>\n",
       "      <td>0.1</td>\n",
       "      <td>5.3</td>\n",
       "      <td>15.1</td>\n",
       "      <td>22.7</td>\n",
       "      <td>64.9</td>\n",
       "    </tr>\n",
       "    <tr>\n",
       "      <th>Technology</th>\n",
       "      <td>161.0</td>\n",
       "      <td>41.2</td>\n",
       "      <td>129.2</td>\n",
       "      <td>0.0</td>\n",
       "      <td>2.9</td>\n",
       "      <td>7.3</td>\n",
       "      <td>21.5</td>\n",
       "      <td>998.3</td>\n",
       "    </tr>\n",
       "  </tbody>\n",
       "</table>\n",
       "</div>"
      ],
      "text/plain": [
       "                        count   mean    std   min   25%    50%    75%    max\n",
       "sector                                                                      \n",
       "Communication Services    1.0   85.3    NaN  85.3  85.3   85.3   85.3   85.3\n",
       "Consumer Cyclical        54.0   51.9  129.9   1.8   5.9   10.7   37.3  858.4\n",
       "Consumer Defensive       30.0   47.9   67.5   3.2  13.6   23.6   38.9  305.6\n",
       "Financial Services        5.0  140.3  126.3  16.9  44.7  104.0  215.1  320.9\n",
       "Healthcare              114.0   32.7   58.3   0.0   1.4   11.2   42.8  388.1\n",
       "Industrials              16.0   17.2   16.6   0.1   5.3   15.1   22.7   64.9\n",
       "Technology              161.0   41.2  129.2   0.0   2.9    7.3   21.5  998.3"
      ]
     },
     "execution_count": 57,
     "metadata": {},
     "output_type": "execute_result"
    }
   ],
   "source": [
    "from pandas import Series\n",
    "# range_func = lambda x: Series([x.min(), x.mean(), x.median(), x.max()], index =['count', 'min', 'mean', 'median', 'max'])\n",
    "df_range = merged.groupby(by='sector').marketCap.describe()\n",
    "df_range[df_range.columns[1:]] = (df_range[df_range.columns[1:]] / UNIT_SCALE).round(1)\n",
    "df_range"
   ]
  },
  {
   "cell_type": "code",
   "execution_count": 58,
   "metadata": {
    "ExecuteTime": {
     "end_time": "2018-10-03T01:04:22.782679Z",
     "start_time": "2018-10-03T01:04:22.525072Z"
    },
    "hidden": true
   },
   "outputs": [
    {
     "data": {
      "text/html": [
       "<div>\n",
       "<style scoped>\n",
       "    .dataframe tbody tr th:only-of-type {\n",
       "        vertical-align: middle;\n",
       "    }\n",
       "\n",
       "    .dataframe tbody tr th {\n",
       "        vertical-align: top;\n",
       "    }\n",
       "\n",
       "    .dataframe thead th {\n",
       "        text-align: right;\n",
       "    }\n",
       "</style>\n",
       "<table border=\"0\" class=\"dataframe\">\n",
       "  <thead>\n",
       "    <tr style=\"text-align: right;\">\n",
       "      <th></th>\n",
       "      <th>sector</th>\n",
       "      <th>Communication Services</th>\n",
       "      <th>Consumer Cyclical</th>\n",
       "      <th>Consumer Defensive</th>\n",
       "      <th>Financial Services</th>\n",
       "      <th>Healthcare</th>\n",
       "      <th>Industrials</th>\n",
       "      <th>Technology</th>\n",
       "    </tr>\n",
       "  </thead>\n",
       "  <tbody>\n",
       "    <tr>\n",
       "      <th rowspan=\"8\" valign=\"top\">marketCap</th>\n",
       "      <th>count</th>\n",
       "      <td>1.0</td>\n",
       "      <td>54.0</td>\n",
       "      <td>30.0</td>\n",
       "      <td>5.0</td>\n",
       "      <td>114.0</td>\n",
       "      <td>16.0</td>\n",
       "      <td>161.0</td>\n",
       "    </tr>\n",
       "    <tr>\n",
       "      <th>mean</th>\n",
       "      <td>85.3</td>\n",
       "      <td>51.9</td>\n",
       "      <td>47.9</td>\n",
       "      <td>140.3</td>\n",
       "      <td>32.7</td>\n",
       "      <td>17.2</td>\n",
       "      <td>41.2</td>\n",
       "    </tr>\n",
       "    <tr>\n",
       "      <th>std</th>\n",
       "      <td>NaN</td>\n",
       "      <td>129.9</td>\n",
       "      <td>67.5</td>\n",
       "      <td>126.3</td>\n",
       "      <td>58.3</td>\n",
       "      <td>16.6</td>\n",
       "      <td>129.2</td>\n",
       "    </tr>\n",
       "    <tr>\n",
       "      <th>min</th>\n",
       "      <td>85.3</td>\n",
       "      <td>1.8</td>\n",
       "      <td>3.2</td>\n",
       "      <td>16.9</td>\n",
       "      <td>0.0</td>\n",
       "      <td>0.1</td>\n",
       "      <td>0.0</td>\n",
       "    </tr>\n",
       "    <tr>\n",
       "      <th>25%</th>\n",
       "      <td>85.3</td>\n",
       "      <td>5.9</td>\n",
       "      <td>13.6</td>\n",
       "      <td>44.7</td>\n",
       "      <td>1.4</td>\n",
       "      <td>5.3</td>\n",
       "      <td>2.9</td>\n",
       "    </tr>\n",
       "    <tr>\n",
       "      <th>50%</th>\n",
       "      <td>85.3</td>\n",
       "      <td>10.7</td>\n",
       "      <td>23.6</td>\n",
       "      <td>104.0</td>\n",
       "      <td>11.2</td>\n",
       "      <td>15.1</td>\n",
       "      <td>7.3</td>\n",
       "    </tr>\n",
       "    <tr>\n",
       "      <th>75%</th>\n",
       "      <td>85.3</td>\n",
       "      <td>37.3</td>\n",
       "      <td>38.9</td>\n",
       "      <td>215.1</td>\n",
       "      <td>42.8</td>\n",
       "      <td>22.7</td>\n",
       "      <td>21.5</td>\n",
       "    </tr>\n",
       "    <tr>\n",
       "      <th>max</th>\n",
       "      <td>85.3</td>\n",
       "      <td>858.4</td>\n",
       "      <td>305.6</td>\n",
       "      <td>320.9</td>\n",
       "      <td>388.1</td>\n",
       "      <td>64.9</td>\n",
       "      <td>998.3</td>\n",
       "    </tr>\n",
       "    <tr>\n",
       "      <th rowspan=\"2\" valign=\"top\">totalRevenue</th>\n",
       "      <th>count</th>\n",
       "      <td>0.0</td>\n",
       "      <td>0.0</td>\n",
       "      <td>0.0</td>\n",
       "      <td>0.0</td>\n",
       "      <td>0.0</td>\n",
       "      <td>0.0</td>\n",
       "      <td>0.0</td>\n",
       "    </tr>\n",
       "    <tr>\n",
       "      <th>mean</th>\n",
       "      <td>84.0</td>\n",
       "      <td>30.7</td>\n",
       "      <td>44.2</td>\n",
       "      <td>11.6</td>\n",
       "      <td>18.0</td>\n",
       "      <td>4.7</td>\n",
       "      <td>8.7</td>\n",
       "    </tr>\n",
       "    <tr>\n",
       "      <th>...</th>\n",
       "      <th>...</th>\n",
       "      <td>...</td>\n",
       "      <td>...</td>\n",
       "      <td>...</td>\n",
       "      <td>...</td>\n",
       "      <td>...</td>\n",
       "      <td>...</td>\n",
       "      <td>...</td>\n",
       "    </tr>\n",
       "    <tr>\n",
       "      <th rowspan=\"2\" valign=\"top\">netIncomeToCommon</th>\n",
       "      <th>75%</th>\n",
       "      <td>12.0</td>\n",
       "      <td>1.3</td>\n",
       "      <td>3.0</td>\n",
       "      <td>4.7</td>\n",
       "      <td>0.8</td>\n",
       "      <td>0.9</td>\n",
       "      <td>0.5</td>\n",
       "    </tr>\n",
       "    <tr>\n",
       "      <th>max</th>\n",
       "      <td>12.0</td>\n",
       "      <td>22.9</td>\n",
       "      <td>10.7</td>\n",
       "      <td>9.3</td>\n",
       "      <td>22.5</td>\n",
       "      <td>1.6</td>\n",
       "      <td>56.1</td>\n",
       "    </tr>\n",
       "    <tr>\n",
       "      <th rowspan=\"8\" valign=\"top\">freeCashflow</th>\n",
       "      <th>count</th>\n",
       "      <td>0.0</td>\n",
       "      <td>0.0</td>\n",
       "      <td>0.0</td>\n",
       "      <td>0.0</td>\n",
       "      <td>0.0</td>\n",
       "      <td>0.0</td>\n",
       "      <td>0.0</td>\n",
       "    </tr>\n",
       "    <tr>\n",
       "      <th>mean</th>\n",
       "      <td>17.1</td>\n",
       "      <td>0.9</td>\n",
       "      <td>1.9</td>\n",
       "      <td>4.2</td>\n",
       "      <td>1.3</td>\n",
       "      <td>0.7</td>\n",
       "      <td>1.5</td>\n",
       "    </tr>\n",
       "    <tr>\n",
       "      <th>std</th>\n",
       "      <td>NaN</td>\n",
       "      <td>3.7</td>\n",
       "      <td>3.4</td>\n",
       "      <td>4.2</td>\n",
       "      <td>2.4</td>\n",
       "      <td>0.7</td>\n",
       "      <td>4.6</td>\n",
       "    </tr>\n",
       "    <tr>\n",
       "      <th>min</th>\n",
       "      <td>17.1</td>\n",
       "      <td>-13.0</td>\n",
       "      <td>-0.7</td>\n",
       "      <td>0.6</td>\n",
       "      <td>-4.7</td>\n",
       "      <td>-0.0</td>\n",
       "      <td>-0.5</td>\n",
       "    </tr>\n",
       "    <tr>\n",
       "      <th>25%</th>\n",
       "      <td>17.1</td>\n",
       "      <td>0.1</td>\n",
       "      <td>0.6</td>\n",
       "      <td>0.7</td>\n",
       "      <td>-0.0</td>\n",
       "      <td>0.1</td>\n",
       "      <td>0.0</td>\n",
       "    </tr>\n",
       "    <tr>\n",
       "      <th>50%</th>\n",
       "      <td>17.1</td>\n",
       "      <td>0.3</td>\n",
       "      <td>0.8</td>\n",
       "      <td>2.3</td>\n",
       "      <td>0.3</td>\n",
       "      <td>0.7</td>\n",
       "      <td>0.1</td>\n",
       "    </tr>\n",
       "    <tr>\n",
       "      <th>75%</th>\n",
       "      <td>17.1</td>\n",
       "      <td>1.0</td>\n",
       "      <td>1.7</td>\n",
       "      <td>6.9</td>\n",
       "      <td>1.4</td>\n",
       "      <td>0.9</td>\n",
       "      <td>0.7</td>\n",
       "    </tr>\n",
       "    <tr>\n",
       "      <th>max</th>\n",
       "      <td>17.1</td>\n",
       "      <td>14.0</td>\n",
       "      <td>17.3</td>\n",
       "      <td>10.3</td>\n",
       "      <td>14.6</td>\n",
       "      <td>2.3</td>\n",
       "      <td>41.4</td>\n",
       "    </tr>\n",
       "  </tbody>\n",
       "</table>\n",
       "<p>32 rows × 7 columns</p>\n",
       "</div>"
      ],
      "text/plain": [
       "sector                   Communication Services  Consumer Cyclical  \\\n",
       "marketCap         count                     1.0               54.0   \n",
       "                  mean                     85.3               51.9   \n",
       "                  std                       NaN              129.9   \n",
       "                  min                      85.3                1.8   \n",
       "                  25%                      85.3                5.9   \n",
       "                  50%                      85.3               10.7   \n",
       "                  75%                      85.3               37.3   \n",
       "                  max                      85.3              858.4   \n",
       "totalRevenue      count                     0.0                0.0   \n",
       "                  mean                     84.0               30.7   \n",
       "...                                         ...                ...   \n",
       "netIncomeToCommon 75%                      12.0                1.3   \n",
       "                  max                      12.0               22.9   \n",
       "freeCashflow      count                     0.0                0.0   \n",
       "                  mean                     17.1                0.9   \n",
       "                  std                       NaN                3.7   \n",
       "                  min                      17.1              -13.0   \n",
       "                  25%                      17.1                0.1   \n",
       "                  50%                      17.1                0.3   \n",
       "                  75%                      17.1                1.0   \n",
       "                  max                      17.1               14.0   \n",
       "\n",
       "sector                   Consumer Defensive  Financial Services  Healthcare  \\\n",
       "marketCap         count                30.0                 5.0       114.0   \n",
       "                  mean                 47.9               140.3        32.7   \n",
       "                  std                  67.5               126.3        58.3   \n",
       "                  min                   3.2                16.9         0.0   \n",
       "                  25%                  13.6                44.7         1.4   \n",
       "                  50%                  23.6               104.0        11.2   \n",
       "                  75%                  38.9               215.1        42.8   \n",
       "                  max                 305.6               320.9       388.1   \n",
       "totalRevenue      count                 0.0                 0.0         0.0   \n",
       "                  mean                 44.2                11.6        18.0   \n",
       "...                                     ...                 ...         ...   \n",
       "netIncomeToCommon 75%                   3.0                 4.7         0.8   \n",
       "                  max                  10.7                 9.3        22.5   \n",
       "freeCashflow      count                 0.0                 0.0         0.0   \n",
       "                  mean                  1.9                 4.2         1.3   \n",
       "                  std                   3.4                 4.2         2.4   \n",
       "                  min                  -0.7                 0.6        -4.7   \n",
       "                  25%                   0.6                 0.7        -0.0   \n",
       "                  50%                   0.8                 2.3         0.3   \n",
       "                  75%                   1.7                 6.9         1.4   \n",
       "                  max                  17.3                10.3        14.6   \n",
       "\n",
       "sector                   Industrials  Technology  \n",
       "marketCap         count         16.0       161.0  \n",
       "                  mean          17.2        41.2  \n",
       "                  std           16.6       129.2  \n",
       "                  min            0.1         0.0  \n",
       "                  25%            5.3         2.9  \n",
       "                  50%           15.1         7.3  \n",
       "                  75%           22.7        21.5  \n",
       "                  max           64.9       998.3  \n",
       "totalRevenue      count          0.0         0.0  \n",
       "                  mean           4.7         8.7  \n",
       "...                              ...         ...  \n",
       "netIncomeToCommon 75%            0.9         0.5  \n",
       "                  max            1.6        56.1  \n",
       "freeCashflow      count          0.0         0.0  \n",
       "                  mean           0.7         1.5  \n",
       "                  std            0.7         4.6  \n",
       "                  min           -0.0        -0.5  \n",
       "                  25%            0.1         0.0  \n",
       "                  50%            0.7         0.1  \n",
       "                  75%            0.9         0.7  \n",
       "                  max            2.3        41.4  \n",
       "\n",
       "[32 rows x 7 columns]"
      ]
     },
     "execution_count": 58,
     "metadata": {},
     "output_type": "execute_result"
    }
   ],
   "source": [
    "df_range = merged.groupby(by='sector')[display_scale].describe()\n",
    "df_range[df_range.columns[1:]] = (df_range[df_range.columns[1:]] / UNIT_SCALE).round(1)\n",
    "df_range.T"
   ]
  },
  {
   "cell_type": "code",
   "execution_count": null,
   "metadata": {
    "ExecuteTime": {
     "end_time": "2018-10-03T00:50:23.532197Z",
     "start_time": "2018-10-03T00:50:23.428460Z"
    },
    "hidden": true
   },
   "outputs": [],
   "source": [
    "sector_des = merged[merged.sector == 'Technology'][display_scale].describe().T\n",
    "sector_des[sector_des.columns[1:]] = (sector_des[sector_des.columns[1:]] / UNIT_SCALE).round(1)\n",
    "sector_des"
   ]
  },
  {
   "cell_type": "code",
   "execution_count": null,
   "metadata": {
    "ExecuteTime": {
     "end_time": "2018-10-03T00:47:10.800776Z",
     "start_time": "2018-10-03T00:47:10.734909Z"
    },
    "hidden": true
   },
   "outputs": [],
   "source": [
    "display_scale"
   ]
  },
  {
   "cell_type": "code",
   "execution_count": null,
   "metadata": {
    "ExecuteTime": {
     "end_time": "2018-10-03T01:04:29.213832Z",
     "start_time": "2018-10-03T01:04:28.888928Z"
    },
    "hidden": true
   },
   "outputs": [],
   "source": [
    "# financial metrics for companies are not correctly calculated, see FB and MU\n",
    "sector_des = merged[merged.sector == 'Technology'][['symbol', 'industry'] + display_scale]\n",
    "sector_des[sector_des.columns[2:]]  = (sector_des[sector_des.columns[2:]] / UNIT_SCALE).round(1)\n",
    "sector_des.sort_values(by='freeCashflow', ascending=False)"
   ]
  },
  {
   "cell_type": "markdown",
   "metadata": {
    "ExecuteTime": {
     "end_time": "2018-09-29T00:48:21.680792Z",
     "start_time": "2018-09-29T00:48:21.630637Z"
    },
    "hidden": true
   },
   "source": [
    "- [x] Display top winners and losers for the last 52 weeks"
   ]
  },
  {
   "cell_type": "code",
   "execution_count": null,
   "metadata": {
    "ExecuteTime": {
     "end_time": "2018-10-03T00:56:12.807999Z",
     "start_time": "2018-10-03T00:56:12.705384Z"
    },
    "hidden": true
   },
   "outputs": [],
   "source": [
    "merged.columns"
   ]
  },
  {
   "cell_type": "code",
   "execution_count": null,
   "metadata": {
    "ExecuteTime": {
     "end_time": "2018-10-03T01:11:52.083588Z",
     "start_time": "2018-10-03T01:11:51.996185Z"
    },
    "hidden": true
   },
   "outputs": [],
   "source": [
    "cols = ['symbol', 'shortName', 'sector', 'industry', 'marketCap', \n",
    "        'fiftyTwoWeekLowChangePercent', 'enterpriseToEbitda', 'forwardPE', 'pegRatio']\n",
    "# top / bottom 52wk performing by sectors & industries\n",
    "merged.groupby(by=grouping).fiftyTwoWeekLowChangePercent.mean().sort_values()"
   ]
  },
  {
   "cell_type": "code",
   "execution_count": null,
   "metadata": {
    "ExecuteTime": {
     "end_time": "2018-10-03T01:11:54.275196Z",
     "start_time": "2018-10-03T01:11:54.162274Z"
    },
    "hidden": true
   },
   "outputs": [],
   "source": [
    "# top / bottom 52wk performing by company\n",
    "merged.sort_values(by='fiftyTwoWeekLowChangePercent')[cols]"
   ]
  },
  {
   "cell_type": "markdown",
   "metadata": {
    "hidden": true
   },
   "source": [
    "- [ ] Plot key return / performance metrics by market cap, revenues and cashflows"
   ]
  },
  {
   "cell_type": "code",
   "execution_count": null,
   "metadata": {
    "ExecuteTime": {
     "end_time": "2018-10-03T01:36:27.997916Z",
     "start_time": "2018-10-03T01:36:27.784160Z"
    },
    "hidden": true
   },
   "outputs": [],
   "source": [
    "merged[merged.industry == 'Solar']"
   ]
  },
  {
   "cell_type": "code",
   "execution_count": null,
   "metadata": {
    "ExecuteTime": {
     "end_time": "2018-10-03T01:15:55.681570Z",
     "start_time": "2018-10-03T01:15:55.597408Z"
    },
    "hidden": true
   },
   "outputs": [],
   "source": [
    "merged.columns"
   ]
  },
  {
   "cell_type": "code",
   "execution_count": null,
   "metadata": {
    "ExecuteTime": {
     "end_time": "2018-10-03T01:32:26.128125Z",
     "start_time": "2018-10-03T01:32:26.026727Z"
    },
    "hidden": true
   },
   "outputs": [],
   "source": [
    "valuation_cols = ['forwardPE', 'pegRatio', 'enterpriseToEbitda']\n",
    "cols = ['symbol', 'industry'] + valuation_cols\n",
    "mask = (merged.forwardPE > 0) & (merged.forwardPE < 20) & (merged.pegRatio > 0) & (merged.pegRatio < 1)\n",
    "df = merged[mask].groupby(by=['industry'])[valuation_cols]\n",
    "df.mean().sort_values(by='pegRatio').round(1)"
   ]
  },
  {
   "cell_type": "code",
   "execution_count": null,
   "metadata": {
    "ExecuteTime": {
     "end_time": "2018-10-03T01:41:10.988566Z",
     "start_time": "2018-10-03T01:41:10.823883Z"
    },
    "hidden": true
   },
   "outputs": [],
   "source": [
    "merged[mask & (merged.industry == 'Apparel Stores')][cols].sort_values(by='pegRatio').round(1)"
   ]
  },
  {
   "cell_type": "code",
   "execution_count": null,
   "metadata": {
    "hidden": true
   },
   "outputs": [],
   "source": []
  },
  {
   "cell_type": "markdown",
   "metadata": {
    "heading_collapsed": true
   },
   "source": [
    "### Other outputs"
   ]
  },
  {
   "cell_type": "code",
   "execution_count": null,
   "metadata": {
    "ExecuteTime": {
     "end_time": "2018-10-02T21:24:33.156065Z",
     "start_time": "2018-10-02T21:24:32.972485Z"
    },
    "code_folding": [
     0,
     36
    ],
    "hidden": true
   },
   "outputs": [],
   "source": [
    "current_symbols = [\n",
    "    \"MU\", \"AMAT\", \"FB\", \"LRCX\", \"AEIS\", \"THO\", \"EXEL\", \"MKSI\", \"IPGP\", \"ANET\",\n",
    "    \"HALO\", \"SUPN\", \"F\", \"LOGM\", \"NVDA\", \"OLED\", \"GSKY\", \"REGN\", \"CI\", \"HRB\",\n",
    "    \"UBNT\", \"SWKS\", \"UTHR\", \"BKNG\", \"TXN\", \"STMP\", \"IONS\", \"AAPL\", \"YELP\",\n",
    "    \"RHT\", \"ORCL\", \"KLAC\", \"GM\", \"ROG\", \"WCG\", \"CSU\", \"TER\", \"SKX\", \"VAC\",\n",
    "    \"MA\", \"V\", \"CTSH\", \"FL\", \"EXPE\", \"ADBE\", \"MSFT\", \"FSLR\", \"BRKS\", \"CGNX\",\n",
    "    \"ULTA\", \"CRUS\", \"BMY\", \"BBY\", \"FFIV\", \"GNTX\", \"PLCE\", \"GOOG\", \"EA\", \"GILD\",\n",
    "    \"HUM\", \"ADP\", \"MXIM\", \"CERN\", \"MOH\", \"CNC\", \"ANTM\", \"FTNT\", \"CSCO\", \"DECK\",\n",
    "    \"IRBT\", \"PAYX\", \"INTU\", \"TJX\", \"JNPR\", \"GPS\", \"CCMP\", \"ROST\", \"ATVI\",\n",
    "    \"EBS\", \"ICUI\", \"BC\", \"AVX\", \"PANW\", \"XLNX\", \"EW\", \"VRTX\", \"PEGA\", \"NTAP\",\n",
    "    \"POWI\", \"DOX\", \"NKE\", \"EEFT\", \"MANH\", \"ETSY\", \"LGND\", \"NTGR\", \"VC\", \"ABMD\",\n",
    "    \"SHOO\", \"CA\", \"CRM\", \"MRVL\", \"AEO\", \"DSW\", \"CBM\", \"VAR\", \"GHC\", \"LOPE\",\n",
    "    \"QCOM\", \"TWTR\", \"EPAM\", \"NATI\", \"SLAB\", \"A\", \"DLB\", \"CDNS\", \"ZNGA\", \"GRPN\",\n",
    "    \"RL\", \"TTD\", \"QLYS\", \"ANSS\", \"WAT\", \"VEEV\", \"URBN\", \"OLLI\", \"COLM\", \"TIF\",\n",
    "    \"NWS\", \"PLT\", \"FIVE\", \"GMED\", \"NWSA\", \"CVCO\", \"MASI\", \"DBX\", \"AKAM\",\n",
    "    \"ISRG\", \"BRKR\", \"ALGN\", \"PCTY\", \"FLIR\", \"DORM\", \"WWE\", \"LULU\", \"PAYC\",\n",
    "    \"TYL\", \"GRUB\", \"HQY\", \"EXLS\", \"APPF\", \"VSH\", \"MYGN\", \"MDSO\", \"TTWO\",\n",
    "    \"ALRM\", \"SNPS\", \"ULTI\", \"NOW\", \"ATGE\", \"ILMN\", \"SMTC\", \"ELLI\", \"TDC\",\n",
    "    \"MPWR\", \"MIME\", \"NEOG\", \"TRIP\", \"WST\", \"MSG\", \"SPLK\", \"CVLT\", \"RGEN\",\n",
    "    \"CSOD\", \"HUBS\", \"NEWR\", \"GWRE\", \"CHGG\", \"DXCM\", \"FIVN\", \"SQ\", \"RNG\",\n",
    "    \"DATA\", \"WDAY\", \"PSTG\", \"COUP\", \"BL\", \"CREE\", \"BOX\", \"AYX\", \"ZEN\", \"ADSK\",\n",
    "    \"AMD\", \"AME\", \"AMZN\", \"APTV\", \"AQB\", \"ARCT\", \"ARNC\", \"ATHN\", \"ATI\", \"ATTU\",\n",
    "    \"AUDC\", \"AVAV\", \"BABA\", \"BGNE\", \"BIDU\", \"BIIB\", \"BLCM\", \"BLUE\", \"CAMT\",\n",
    "    \"CEL\", \"CELG\", \"CERS\", \"CGEN\", \"CHKP\", \"CLLS\", \"CRNT\", \"CRS\", \"CRSP\",\n",
    "    \"CYBR\", \"DDD\", \"DMLRY\", \"EDIT\", \"ESLT\", \"EVGN\", \"EDU\", \"TAL\", \"EVLO\",\n",
    "    \"FARO\", \"FOMX\", \"GBTC\", \"GILT\", \"GLMD\", \"HDP\", \"HPQ\", \"HXL\", \"ICE\",\n",
    "    \"IFNNY\", \"INCY\", \"INO\", \"IOVA\", \"ITRN\", \"JD\", \"KMDA\", \"KODK\", \"KTOS\",\n",
    "    \"KTWO\", \"MCRB\", \"MDT\", \"MELI\", \"MLNX\", \"MTLS\", \"MZOR\", \"NFLX\", \"NICE\",\n",
    "    \"NNDM\", \"NSTG\", \"NTEC\", \"NTLA\", \"NVMI\", \"NVTA\", \"NXPI\", \"ONCE\", \"ONVO\",\n",
    "    \"OPRA\", \"ORBK\", \"PACB\", \"PNTR\", \"PRLB\", \"PSTI\", \"PTC\", \"PYPL\", \"RDHL\",\n",
    "    \"RDWR\", \"RKUNY\", \"ROK\", \"RUBY\", \"SEDG\", \"SFTBY\", \"SHOP\", \"SPNS\", \"SPOT\",\n",
    "    \"SSYS\", \"SYK\", \"SYRS\", \"TARO\", \"TCEHY\", \"TDOC\", \"TEVA\", \"TM\", \"TREE\",\n",
    "    \"TRMB\", \"TSEM\", \"TSLA\", \"TSM\", \"TWOU\", \"UCTT\", \"URGN\", \"VCYT\", \"WIX\",\n",
    "    \"XONE\", \"YY\", \"ZUO\"]\n",
    "new_sp_symbols = [\n",
    "    \"BF.A\", \"STZ\", \"TAP\", \"IDXX\", \"ZTS\", \"F\", \"GM\", \"BWA\", \"DLPH\", \"GPC\", \"LKQ\", \"ABBV\", \"ALXN\",\n",
    "    \"AMGN\", \"BIIB\", \"BMY\", \"CELG\", \"GILD\", \"INCY\", \"NKTR\", \"REGN\", \"VRTX\", \"FFIV\", \"HRS\", \"JNPR\",\n",
    "    \"MSI\", \"CCL\", \"NCLH\", \"RCL\", \"NTAP\", \"STX\", \"WDC\", \"DGX\", \"LH\", \"ABC\", \"CAH\", \"HSIC\", \"MCK\",\n",
    "    \"AMZN\", \"NFLX\", \"CPB\", \"KO\", \"CAG\", \"GIS\", \"HSY\", \"HRL\", \"SJM\", \"K\", \"KDP\", \"MDLZ\", \"MNST\",\n",
    "    \"PEP\", \"KHC\", \"TSN\", \"SYY\", \"GRMN\", \"AET\", \"ANTM\", \"CI\", \"CNC\", \"HUM\", \"UNH\", \"DVA\", \"EVHC\",\n",
    "    \"HCA\", \"UHS\", \"IQV\", \"HD\", \"LOW\", \"ADM\", \"MKC\", \"EBAY\", \"PYPL\", \"TWTR\", \"VRSN\", \"GLW\", \"A\",\n",
    "    \"ABMD\", \"ALGN\", \"BAX\", \"BDX\", \"BSX\", \"DHR\", \"EW\", \"HOLX\", \"ILMN\", \"ISRG\", \"MDT\", \"PKI\", \"RMD\",\n",
    "    \"SYK\", \"COO\", \"VAR\", \"XRAY\", \"ZBH\", \"FIS\", \"FISV\", \"FLT\", \"GPN\", \"MA\", \"TSS\", \"V\", \"ABT\", \"AGN\",\n",
    "    \"JNJ\", \"LLY\", \"MRK\", \"MYL\", \"PFE\", \"PRGO\", \"COST\", \"CVS\", \"KR\", \"WBA\", \"WMT\", \"MTD\", \"TMO\",\n",
    "    \"WAT\", \"ADI\", \"AVGO\", \"FSLR\", \"INTC\", \"MCHP\", \"MU\", \"NVDA\", \"QRVO\", \"QCOM\", \"SWKS\", \"TXN\",\n",
    "    \"XLNX\", \"AMAT\", \"CDNS\", \"KLAC\", \"SNPS\", \"APH\", \"FLIR\", \"TEL\", \"ADBE\", \"ADSK\", \"CTXS\", \"ORCL\",\n",
    "    \"CRM\", \"ANSS\", \"BR\", \"INTU\", \"CA\", \"RHT\", \"ATVI\", \"EA\", \"TTWO\", \"ADP\", \"GOOG\", \"AAPL\", \"FB\", \"HPE\",\n",
    "    \"HPQ\", \"IBM\", \"MSFT\", \"BKNG\", \"EXPE\", \"TRIP\",]"
   ]
  },
  {
   "cell_type": "code",
   "execution_count": null,
   "metadata": {
    "ExecuteTime": {
     "end_time": "2018-10-02T21:24:47.307861Z",
     "start_time": "2018-10-02T21:24:47.258466Z"
    },
    "hidden": true
   },
   "outputs": [],
   "source": [
    "set(new_sp_symbols).difference(set(current_symbols))"
   ]
  },
  {
   "cell_type": "code",
   "execution_count": null,
   "metadata": {
    "ExecuteTime": {
     "end_time": "2018-09-28T00:26:44.237889Z",
     "start_time": "2018-09-28T00:26:44.158590Z"
    },
    "hidden": true
   },
   "outputs": [],
   "source": [
    "cols = ['symbol', 'fiftyTwoWeekHighChangePercent']\n",
    "latest_quotes[cols].sort_values(by='fiftyTwoWeekHighChangePercent')[:-10].head(10)"
   ]
  },
  {
   "cell_type": "code",
   "execution_count": null,
   "metadata": {
    "ExecuteTime": {
     "end_time": "2018-09-25T22:53:34.863968Z",
     "start_time": "2018-09-25T22:53:34.537743Z"
    },
    "hidden": true
   },
   "outputs": [],
   "source": [
    "latest_quotes.fiftyDayAverageChangePercent.plot.hist(bins=10)"
   ]
  },
  {
   "cell_type": "code",
   "execution_count": null,
   "metadata": {
    "hidden": true
   },
   "outputs": [],
   "source": []
  }
 ],
 "metadata": {
  "kernelspec": {
   "display_name": "Python 3",
   "language": "python",
   "name": "python3"
  },
  "language_info": {
   "codemirror_mode": {
    "name": "ipython",
    "version": 3
   },
   "file_extension": ".py",
   "mimetype": "text/x-python",
   "name": "python",
   "nbconvert_exporter": "python",
   "pygments_lexer": "ipython3",
   "version": "3.7.1"
  },
  "toc": {
   "base_numbering": 1,
   "nav_menu": {},
   "number_sections": true,
   "sideBar": true,
   "skip_h1_title": false,
   "title_cell": "Table of Contents",
   "title_sidebar": "Contents",
   "toc_cell": false,
   "toc_position": {},
   "toc_section_display": true,
   "toc_window_display": false
  }
 },
 "nbformat": 4,
 "nbformat_minor": 2
}
