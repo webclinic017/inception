{
 "cells": [
  {
   "cell_type": "code",
   "execution_count": 1,
   "metadata": {},
   "outputs": [
    {
     "name": "stdout",
     "output_type": "stream",
     "text": [
      "Loading utils/config.json\n"
     ]
    }
   ],
   "source": [
    "# imports\n",
    "%reload_ext autoreload\n",
    "%autoreload 2\n",
    "%matplotlib inline \n",
    "\n",
    "from matplotlib import pyplot as plt\n",
    "\n",
    "from utils.basic_utils import *\n",
    "from utils.pricing import *\n",
    "\n",
    "pd.options.display.float_format = '{:,.2f}'.format"
   ]
  },
  {
   "cell_type": "code",
   "execution_count": 2,
   "metadata": {},
   "outputs": [],
   "source": [
    "import os, sys\n",
    "from sklearn import preprocessing\n",
    "from sklearn.preprocessing import StandardScaler\n",
    "from sklearn.impute import SimpleImputer\n",
    "from sklearn.model_selection import cross_val_score, cross_validate, train_test_split\n",
    "from sklearn.model_selection import GridSearchCV\n",
    "from sklearn.feature_selection import SelectFromModel\n",
    "from sklearn.utils.validation import column_or_1d\n",
    "from sklearn.utils.multiclass import unique_labels\n",
    "from sklearn.metrics import confusion_matrix, classification_report\n",
    "from sklearn.metrics import accuracy_score, log_loss, precision_recall_fscore_support\n",
    "from sklearn.metrics import precision_score, roc_auc_score\n",
    "\n",
    "from sklearn.tree import DecisionTreeClassifier\n",
    "from sklearn.ensemble import AdaBoostClassifier\n",
    "from sklearn.ensemble import RandomForestClassifier\n",
    "from sklearn.ensemble import ExtraTreesClassifier\n",
    "from sklearn.ensemble import GradientBoostingClassifier\n",
    "from sklearn.neural_network import MLPClassifier\n",
    "\n",
    "from sklearn.tree import DecisionTreeClassifier\n",
    "from sklearn.ensemble import VotingClassifier\n",
    "from sklearn.ensemble import RandomForestClassifier\n",
    "from sklearn.ensemble import ExtraTreesClassifier\n",
    "from sklearn.neural_network import MLPClassifier\n",
    "from sklearn.externals import joblib"
   ]
  },
  {
   "cell_type": "code",
   "execution_count": 3,
   "metadata": {},
   "outputs": [],
   "source": [
    "bench = '^GSPC'\n",
    "sec_windows, stds = [5, 20, 60], 1\n",
    "pred_fwd_windows = [60]\n",
    "inv = incl_px = incl_name = False\n",
    "y_col = 'fwdReturn'"
   ]
  },
  {
   "cell_type": "code",
   "execution_count": 4,
   "metadata": {},
   "outputs": [],
   "source": [
    "cuts = { '1d': [-1, -0.1, -.02, .02, .1, 1.] }\n",
    "cut_range = cuts['1d']\n",
    "fwd_ret_labels = [\"bear\", \"short\", \"neutral\", \"long\", \"bull\"]"
   ]
  },
  {
   "cell_type": "markdown",
   "metadata": {},
   "source": [
    "### Get pricing / context data"
   ]
  },
  {
   "cell_type": "code",
   "execution_count": 5,
   "metadata": {
    "code_folding": [],
    "scrolled": true
   },
   "outputs": [],
   "source": [
    "# TAKES ~8m on local drive, 3m on AWS for 1230 companies, do once and persist\n",
    "excl_list = [] # ['BHF', 'ERI']\n",
    "symbols_list = excl(config['companies'], excl_list)\n",
    "# %time px_close = get_mults_pricing(symbols_list).drop_duplicates().dropna(subset=['AAPL'])"
   ]
  },
  {
   "cell_type": "code",
   "execution_count": 6,
   "metadata": {},
   "outputs": [
    {
     "name": "stdout",
     "output_type": "stream",
     "text": [
      "BBL\n"
     ]
    }
   ],
   "source": [
    "ticker = symbols_list[5]\n",
    "print(ticker)"
   ]
  },
  {
   "cell_type": "code",
   "execution_count": 7,
   "metadata": {},
   "outputs": [],
   "source": [
    "# save down to drive if refresh pricing\n",
    "# os.makedirs('tmp', exist_ok=True)\n",
    "# px_close.to_parquet('tmp/mult-co-px-ds')"
   ]
  },
  {
   "cell_type": "code",
   "execution_count": 8,
   "metadata": {},
   "outputs": [],
   "source": [
    "px_close = pd.read_parquet('tmp/mult-co-px-ds')"
   ]
  },
  {
   "cell_type": "code",
   "execution_count": 16,
   "metadata": {},
   "outputs": [],
   "source": [
    "# px_close.tail().isna().any(0).sort_values()"
   ]
  },
  {
   "cell_type": "code",
   "execution_count": 9,
   "metadata": {},
   "outputs": [
    {
     "name": "stdout",
     "output_type": "stream",
     "text": [
      "<class 'pandas.core.frame.DataFrame'>\n",
      "DatetimeIndex: 3775 entries, 2004-03-26 to 2019-03-25\n",
      "Columns: 1230 entries, IDCC to LTM\n",
      "dtypes: float64(1230)\n",
      "memory usage: 35.5 MB\n"
     ]
    }
   ],
   "source": [
    "px_close.info()"
   ]
  },
  {
   "cell_type": "code",
   "execution_count": 10,
   "metadata": {},
   "outputs": [
    {
     "name": "stdout",
     "output_type": "stream",
     "text": [
      "Loading file quote/csv/2019-03-25\n",
      "Loading file summary-categories/assetProfile\n"
     ]
    }
   ],
   "source": [
    "# use the latest saved data for profile and quote info\n",
    "dates = read_dates('quote')\n",
    "tgt_date = [dates[-1]] # last date saved in S3\n",
    "\n",
    "quotes = load_csvs('quote_consol', tgt_date)\n",
    "quotes.set_index('symbol', drop=False, inplace=True)\n",
    "\n",
    "profile = load_csvs('summary_detail', ['assetProfile'])\n",
    "profile.set_index('symbol', drop=False, inplace=True)"
   ]
  },
  {
   "cell_type": "code",
   "execution_count": 11,
   "metadata": {},
   "outputs": [
    {
     "name": "stdout",
     "output_type": "stream",
     "text": [
      "Delta quote:  {'FBR', 'PD', 'SCG', 'SHPG', 'KORS'}\n",
      "Delta reduced set:  {'FBR', 'PD', 'SCG', 'SHPG', 'KORS'}\n",
      "Delta profile:  29 {'CBOE', 'PD', 'CIEN', 'WSM', 'NFX', 'DRE', 'ROP', 'FBR', 'MFGP', 'LRCX', 'SCG', 'SHPG', 'JBT', 'IBKR', 'ESL', 'MBFI', 'FOXA', '9984.T', 'TAP', 'DNB', 'CIG', 'ODFL', 'VVC', 'CTAS', 'KORS', 'AMED', 'ABMD', 'BSTI', 'REGN'}\n"
     ]
    }
   ],
   "source": [
    "profile.drop(profile[profile.symbol.isin(excl_list)].index, inplace=True)\n",
    "\n",
    "all_equities = quotes[quotes.quoteType == 'EQUITY'].symbol.unique()\n",
    "print('Delta quote: ', set(symbols_list) - set(all_equities))\n",
    "# reduced subset, if any\n",
    "sub_equities = set(px_close.columns.tolist()).intersection(all_equities)\n",
    "print('Delta reduced set: ', set(symbols_list) - set(sub_equities))\n",
    "\n",
    "eqty_symbols = profile[profile.symbol.isin(sub_equities)].symbol.unique().tolist()\n",
    "delta_symb = set(symbols_list) - set(eqty_symbols)\n",
    "print('Delta profile: ', len(delta_symb), delta_symb)"
   ]
  },
  {
   "cell_type": "code",
   "execution_count": 12,
   "metadata": {},
   "outputs": [
    {
     "data": {
      "text/plain": [
       "'Sectors: 11, Industries: 136'"
      ]
     },
     "execution_count": 12,
     "metadata": {},
     "output_type": "execute_result"
    }
   ],
   "source": [
    "# Create a frame of market, sector and industry index (once)\n",
    "# for relative performance calculations\n",
    "sel_profiles = profile[profile.symbol.isin(all_equities)]\n",
    "sel_profiles.groupby(['sector', 'industry'])[['industry']].count()\n",
    "sectors = sel_profiles.sector.unique()\n",
    "industries = sel_profiles.industry.unique()\n",
    "\n",
    "f'Sectors: {sectors.shape[0]}, Industries: {industries.shape[0]}'"
   ]
  },
  {
   "cell_type": "code",
   "execution_count": 13,
   "metadata": {},
   "outputs": [
    {
     "name": "stdout",
     "output_type": "stream",
     "text": [
      "CPU times: user 11.1 s, sys: 3.01 s, total: 14.1 s\n",
      "Wall time: 5.06 s\n"
     ]
    }
   ],
   "source": [
    "%%time\n",
    "indices_df = pd.concat([\n",
    "    eq_wgt_indices(profile, px_close, 'sector', sectors, subset=eqty_symbols),\n",
    "    eq_wgt_indices(profile, px_close, 'industry', industries, subset=eqty_symbols),\n",
    "    to_index_form(get_symbol_pricing(bench)['close'], bench)\n",
    "], axis=1).drop_duplicates()"
   ]
  },
  {
   "cell_type": "markdown",
   "metadata": {},
   "source": [
    "### Final"
   ]
  },
  {
   "cell_type": "code",
   "execution_count": 21,
   "metadata": {},
   "outputs": [],
   "source": [
    "idx = np.random.randint(0, len(eqty_symbols), 20)\n",
    "tickers = list(np.array(eqty_symbols)[idx])"
   ]
  },
  {
   "cell_type": "code",
   "execution_count": 22,
   "metadata": {},
   "outputs": [],
   "source": [
    "context = {\n",
    "    'tickers': tickers,\n",
    "    'ds_path_name': ('tmp', 'company-px_mom-large'),\n",
    "    'ds_path': 'tmp',\n",
    "    'load_ds': True,\n",
    "    'portion': 90e-2,\n",
    "    'categoricals': [],\n",
    "    'exclude': ['sector', 'industry', 'country', 'currency', 'symbol'],\n",
    "    'fill': None,\n",
    "    'impute': True,\n",
    "    'scale': False,\n",
    "    'test_size': .20,\n",
    "    'ml_path': '../ML/',\n",
    "    'grid_search': False,\n",
    "    'verbose': 1}"
   ]
  },
  {
   "cell_type": "code",
   "execution_count": 45,
   "metadata": {
    "code_folding": [
     2,
     6,
     23
    ]
   },
   "outputs": [],
   "source": [
    "re_order_list = lambda a, b: [x for x in list(a) if x not in b]\n",
    "\n",
    "def trim_df(df, portion):\n",
    "    _, trim_df = train_test_split(df, test_size=portion, random_state=42)\n",
    "    return trim_df    \n",
    "\n",
    "def print_cv_results(clf, X_train, X_test, y_train, y_test, full_grid=False, feat_imp=True, top=20):\n",
    "    cvres = clf.cv_results_\n",
    "    print('BEST PARAMS:', clf.best_params_)\n",
    "    print('SCORES:')\n",
    "    print('clf.best_score_', clf.best_score_)\n",
    "    print('train {}, test {}'.format(\n",
    "        clf.score(X_train, y_train),\n",
    "        clf.score(X_test, y_test)))\n",
    "    if full_grid:\n",
    "        print('GRID RESULTS:')\n",
    "        for mean_score, params in zip(cvres[\"mean_test_score\"], cvres[\"params\"]):\n",
    "            print(round(mean_score, 3), params)\n",
    "    if feat_imp:\n",
    "        feature_importances = clf.best_estimator_.feature_importances_\n",
    "        print('SORTED FEATURES:')\n",
    "        print(sorted(zip(feature_importances, list(X_train.columns)), reverse=True)[:top])\n",
    "\n",
    "def create_ds(context):\n",
    "    \n",
    "    train_model = context['train_model']\n",
    "    (path, ds_name) = context['ds_path_name']\n",
    "    tickers = context['tickers']\n",
    "    load_ds = context['load_ds']\n",
    "    tail = 10**4 if train_model else 252*2\n",
    "\n",
    "#     if load_ds & os.path.isfile(path + '/' + ds_name):\n",
    "#         df_large = pd.read_parquet(path + '/' + ds_name)\n",
    "#         return df_large\n",
    "    \n",
    "    super_list = []\n",
    "    for i, ticker in enumerate(tickers):\n",
    "        try:\n",
    "            close = px_close[ticker].dropna().tail(tail)\n",
    "            ft_df = px_mom_feats(close, ticker, stds, inv, incl_px, sec_windows, incl_name)\n",
    "            ft_df[y_col] = px_fwd_rets(close, ticker, pred_fwd_windows).mean(axis=1)\n",
    "\n",
    "            df = get_symbol_pricing(ticker).tail(tail) #full retrieve\n",
    "            top_groups = tuple([bench] + list(profile.loc[ticker, ['sector', 'industry']]))\n",
    "            co = px_mom_co_feats(df, indices_df, top_groups)\n",
    "\n",
    "            ft_df.loc[:, 'country'] = profile.loc[ticker,:].country\n",
    "            ft_df.loc[:, 'currency'] = quotes.loc[ticker,:].currency\n",
    "            ft_df = pd.concat([ft_df, co.loc[ft_df.index, :]], axis=1)\n",
    "            super_list.append(ft_df)\n",
    "            print('{} Adding {} to dataset'.format(i, ticker))\n",
    "        except Exception as e:\n",
    "            print(\"Exception: {0}\\n{1}\".format(ticker, e))\n",
    "    df_large = pd.concat(super_list, axis=0)\n",
    "    x_order = re_order_list(\n",
    "        df_large.columns, ['symbol', y_col]) + ['symbol', y_col]\n",
    "    df_large = df_large[x_order]\n",
    "    \n",
    "    if train_model:\n",
    "        os.makedirs(path, exist_ok=True)\n",
    "        df_large.to_parquet(path + '/' + ds_name)\n",
    "    \n",
    "    print('create_ds')\n",
    "    print('df_large.shape {}'.format(df_large.shape))\n",
    "    \n",
    "    return df_large"
   ]
  },
  {
   "cell_type": "code",
   "execution_count": 46,
   "metadata": {
    "code_folding": [
     0
    ]
   },
   "outputs": [],
   "source": [
    "def pre_process_ds(df, context):\n",
    "    \n",
    "    verbose = context['verbose']\n",
    "    train_model = context['train_model']\n",
    "    fill_on, imputer_on, scaler_on = \\\n",
    "        context['fill'], context['impute'], context['scale']\n",
    "    test_sz = context['test_size']\n",
    "\n",
    "    categoricals = context['categoricals']\n",
    "    exclude = context['exclude']\n",
    "    \n",
    "    for col in categoricals: df = dummy_col(df, col, shorten=True)\n",
    "    df.drop(columns=exclude[:-1], inplace=True) # remove all except symbol\n",
    "    \n",
    "    imputer = SimpleImputer(\n",
    "        missing_values=np.nan, strategy='mean', copy=False)\n",
    "    scaler = StandardScaler()\n",
    "    num_cols = list(df_large.select_dtypes('number').columns)\n",
    "\n",
    "    df.replace([np.inf, -np.inf], np.nan, inplace=True)\n",
    "    if scaler_on: df[num_cols] = scaler.fit_transform(df[num_cols])\n",
    "\n",
    "    pred_X = X_train = X_test = y_train = y_test = None\n",
    "    if train_model:\n",
    "#         if fill_on: df[num_cols].fillna(method=fill_on, inplace=True)\n",
    "        df.drop(columns=exclude[-1], inplace=True) # remove symbol\n",
    "        X_cols = excl(df.columns, [y_col])\n",
    "        # discretize forward returns into classes\n",
    "        df.dropna(subset=[y_col], inplace=True)\n",
    "        df[y_col] = discret_rets(df[y_col], cut_range, fwd_ret_labels)\n",
    "        df[y_col] = df[y_col].astype(str)        \n",
    "        # this seems unnecesary when fill is on\n",
    "        if imputer_on: df.loc[:, X_cols] = imputer.fit_transform(df[X_cols])\n",
    "        else: df[X_cols].dropna(inplace=True)\n",
    "        X, y = df.drop(columns=y_col), df[y_col]\n",
    "        X_train, X_test, y_train, y_test = train_test_split(\n",
    "            X, y, test_size=test_sz, random_state=42)\n",
    "        if verbose:\n",
    "            y_col_dist = sample_wgts(df[y_col], fwd_ret_labels)\n",
    "            print((y_col_dist[fwd_ret_labels]).round(3))\n",
    "    else: \n",
    "        pred_X = df.loc[df.index[-1], :].drop(columns=y_col)\n",
    "    \n",
    "    print('pre_process_ds')\n",
    "    [print(x.shape) \n",
    "     for x in (pred_X, X_train, X_test, y_train, y_test) \n",
    "     if x is not None]\n",
    "    \n",
    "    return pred_X, X_train, X_test, y_train, y_test"
   ]
  },
  {
   "cell_type": "code",
   "execution_count": 42,
   "metadata": {
    "code_folding": [
     0
    ]
   },
   "outputs": [],
   "source": [
    "def train_ds(context):\n",
    "    context['train_model'] = True\n",
    "    grid_search = context['grid_search']\n",
    "    verbose = context['verbose']\n",
    "    ml_path = context['ml_path']\n",
    "    portion = context['portion']\n",
    "        \n",
    "    df_large = create_ds(context)\n",
    "    print(df_large.info(verbose=False))\n",
    "    if portion < 100e-2: df_large = trim_df(df_large, portion)\n",
    "    _, X_train, X_test, y_train, y_test = pre_process_ds(df_large, context)\n",
    "    \n",
    "    best_params = { # fine tune later, copy from GridSearch\n",
    "        'n_estimators': 50, \n",
    "        'max_features': X_train.shape[1] // 2, \n",
    "        'random_state': 42,\n",
    "        'max_depth': 30,\n",
    "        'min_samples_split': 2,\n",
    "        'n_jobs': -1}\n",
    "    if grid_search:\n",
    "        features = X_train.shape[1]\n",
    "        print('GridSearchCV for RandomForestClassifier')\n",
    "        param_grid = {\n",
    "            'n_estimators': [50], \n",
    "            'max_features': ['sqrt', 'log2', features // 2, features // 3,],\n",
    "            'random_state': np.arange(0, 5, 1),}\n",
    "        clf = GridSearchCV(RandomForestClassifier(random_state=42),\n",
    "                           param_grid, n_jobs=-1,\n",
    "                           cv=5, iid=True, verbose=verbose)\n",
    "        clf.fit(X_train, y_train)\n",
    "        if verbose: print_cv_results(clf, X_train, X_test, y_train, y_test, feat_imp=True, top=20)\n",
    "        best_params = clf.best_params_\n",
    "    clf1 = RandomForestClassifier(**best_params)\n",
    "    %time clf1.fit(X_train, y_train)\n",
    "    print('RandomForestClassifier scores: Train {}, Test {}'.format(\n",
    "    clf1.score(X_train, y_train), clf1.score(X_test, y_test)))\n",
    "    \n",
    "    # ExtraTreesClassifier\n",
    "    clf2 = ExtraTreesClassifier(\n",
    "        n_estimators=50, max_depth=30, \n",
    "        min_samples_split=2, random_state=0, n_jobs=-1)\n",
    "    %time clf2.fit(X_train, y_train)\n",
    "    print('ExtraTreesClassifier scores: Train {}, Test {}'.format(\n",
    "    clf2.score(X_train, y_train), clf2.score(X_test, y_test)))\n",
    "    \n",
    "    for vote in ['hard', 'soft']:\n",
    "        eclf = VotingClassifier(\n",
    "            estimators=[('rf', clf1), ('et', clf2)],\n",
    "            voting=vote)\n",
    "        clf = eclf.fit(X_train, y_train)\n",
    "        print('VotingClassifier scores Train {}, Test {}'.format(\n",
    "                clf.score(X_train, y_train), clf.score(X_test, y_test)))\n",
    "        os.makedirs(ml_path, exist_ok=True)\n",
    "        fname = ml_path + f'co_pxmom_ML_{vote}.pkl'\n",
    "        joblib.dump(clf, fname)\n",
    "        print('Saved ', fname)"
   ]
  },
  {
   "cell_type": "code",
   "execution_count": 43,
   "metadata": {
    "code_folding": [
     0
    ]
   },
   "outputs": [],
   "source": [
    "def predict_ds(context):\n",
    "    context['train_model'] = False\n",
    "    ml_path = context['ml_path']\n",
    "    verbose = context['verbose']\n",
    "    \n",
    "    df_large = create_ds(context)\n",
    "    pred_X, _, _, _, _ = pre_process_ds(df_large, context)\n",
    "    print('predict_ds')\n",
    "    print('pred_X.shape', pred_X.shape)\n",
    "    \n",
    "    pred_df = pd.DataFrame()\n",
    "    pred_df['symbol'] = pred_X.symbol\n",
    "    for vote in ['hard', 'soft']:\n",
    "        fname = ml_path + f'co_pxmom_ML_{vote}.pkl'\n",
    "        clf = joblib.load(fname) # load latest models\n",
    "        print('Loaded', fname)\n",
    "        preds = clf.predict(pred_X.iloc[:, :-1])\n",
    "        pred_class = np.array([fwd_ret_labels.index(x) for x in preds])        \n",
    "        pred_df[f'{vote}_pred_class'] = pred_class\n",
    "        pred_df[f'{vote}_pred_label'] = preds\n",
    "        if vote == 'soft':\n",
    "            probs = clf.predict_proba(pred_X.iloc[:, :-1])\n",
    "            pred_prob = np.argmax(probs, axis=1)\n",
    "            pred_df[f'{vote}_confidence'] = [x[np.argmax(x)] for x in probs] # higest prob\n",
    "            prob_df = pd.DataFrame(probs, index=pred_df.index, columns=clf.classes_)\n",
    "            pred_df = pd.concat([pred_df, prob_df[fwd_ret_labels]], axis=1)\n",
    "\n",
    "    return pred_df"
   ]
  },
  {
   "cell_type": "code",
   "execution_count": null,
   "metadata": {},
   "outputs": [],
   "source": [
    "context['train_model'] = True\n",
    "df_large = create_ds(context)\n",
    "_, X_train, X_test, y_train, y_test = pre_process_ds(df_large, context)\n",
    "# X_train.sort_index().tail()"
   ]
  },
  {
   "cell_type": "code",
   "execution_count": null,
   "metadata": {},
   "outputs": [],
   "source": [
    "# [x.columns for x in (X_train, pred_X) if x is not None]\n",
    "# X_train.shape\n",
    "# pred_X.shape"
   ]
  },
  {
   "cell_type": "code",
   "execution_count": 44,
   "metadata": {},
   "outputs": [
    {
     "name": "stdout",
     "output_type": "stream",
     "text": [
      "0 Adding RE to dataset\n",
      "1 Adding BMS to dataset\n",
      "2 Adding APA to dataset\n",
      "3 Adding JKHY to dataset\n",
      "4 Adding MYL to dataset\n",
      "5 Adding DISCA to dataset\n",
      "6 Adding DATA to dataset\n",
      "7 Adding KMB to dataset\n",
      "8 Adding BHF to dataset\n",
      "9 Adding HST to dataset\n",
      "10 Adding AMRN to dataset\n",
      "11 Adding KEX to dataset\n",
      "12 Adding NAVI to dataset\n",
      "13 Adding HAL to dataset\n",
      "14 Adding MCD to dataset\n",
      "15 Adding NXPI to dataset\n",
      "16 Adding AU to dataset\n",
      "17 Adding MRK to dataset\n",
      "18 Adding UMPQ to dataset\n",
      "19 Adding IBN to dataset\n",
      "create_ds\n",
      "df_large.shape (65812, 29)\n",
      "<class 'pandas.core.frame.DataFrame'>\n",
      "DatetimeIndex: 65812 entries, 2004-03-26 to 2019-03-25\n",
      "Columns: 29 entries, PctChg1Stds to fwdReturn\n",
      "dtypes: float64(24), object(5)\n",
      "memory usage: 15.1+ MB\n",
      "None\n",
      "bear      0.17\n",
      "short     0.20\n",
      "neutral   0.13\n",
      "long      0.24\n",
      "bull      0.25\n",
      "Name: fwdReturn, dtype: float64\n",
      "pre_process_ds\n",
      "(46528, 23)\n",
      "(11632, 23)\n",
      "(46528,)\n",
      "(11632,)\n",
      "GridSearchCV for RandomForestClassifier\n",
      "Fitting 5 folds for each of 20 candidates, totalling 100 fits\n"
     ]
    },
    {
     "name": "stderr",
     "output_type": "stream",
     "text": [
      "[Parallel(n_jobs=-1)]: Using backend LokyBackend with 12 concurrent workers.\n",
      "[Parallel(n_jobs=-1)]: Done  26 tasks      | elapsed:   45.7s\n",
      "[Parallel(n_jobs=-1)]: Done 100 out of 100 | elapsed:  3.3min finished\n"
     ]
    },
    {
     "ename": "NameError",
     "evalue": "name 'print_cv_results' is not defined",
     "output_type": "error",
     "traceback": [
      "\u001b[0;31m---------------------------------------------------------------------------\u001b[0m",
      "\u001b[0;31mNameError\u001b[0m                                 Traceback (most recent call last)",
      "\u001b[0;32m<timed eval>\u001b[0m in \u001b[0;36m<module>\u001b[0;34m\u001b[0m\n",
      "\u001b[0;32m<ipython-input-42-dbf649f031f3>\u001b[0m in \u001b[0;36mtrain_ds\u001b[0;34m(context)\u001b[0m\n\u001b[1;32m     29\u001b[0m                            cv=5, iid=True, verbose=verbose)\n\u001b[1;32m     30\u001b[0m         \u001b[0mclf\u001b[0m\u001b[0;34m.\u001b[0m\u001b[0mfit\u001b[0m\u001b[0;34m(\u001b[0m\u001b[0mX_train\u001b[0m\u001b[0;34m,\u001b[0m \u001b[0my_train\u001b[0m\u001b[0;34m)\u001b[0m\u001b[0;34m\u001b[0m\u001b[0;34m\u001b[0m\u001b[0m\n\u001b[0;32m---> 31\u001b[0;31m         \u001b[0;32mif\u001b[0m \u001b[0mverbose\u001b[0m\u001b[0;34m:\u001b[0m \u001b[0mprint_cv_results\u001b[0m\u001b[0;34m(\u001b[0m\u001b[0mclf\u001b[0m\u001b[0;34m,\u001b[0m \u001b[0mX_train\u001b[0m\u001b[0;34m,\u001b[0m \u001b[0mX_test\u001b[0m\u001b[0;34m,\u001b[0m \u001b[0my_train\u001b[0m\u001b[0;34m,\u001b[0m \u001b[0my_test\u001b[0m\u001b[0;34m,\u001b[0m \u001b[0mfeat_imp\u001b[0m\u001b[0;34m=\u001b[0m\u001b[0;32mTrue\u001b[0m\u001b[0;34m,\u001b[0m \u001b[0mtop\u001b[0m\u001b[0;34m=\u001b[0m\u001b[0;36m20\u001b[0m\u001b[0;34m)\u001b[0m\u001b[0;34m\u001b[0m\u001b[0;34m\u001b[0m\u001b[0m\n\u001b[0m\u001b[1;32m     32\u001b[0m         \u001b[0mbest_params\u001b[0m \u001b[0;34m=\u001b[0m \u001b[0mclf\u001b[0m\u001b[0;34m.\u001b[0m\u001b[0mbest_params_\u001b[0m\u001b[0;34m\u001b[0m\u001b[0;34m\u001b[0m\u001b[0m\n\u001b[1;32m     33\u001b[0m     \u001b[0mclf1\u001b[0m \u001b[0;34m=\u001b[0m \u001b[0mRandomForestClassifier\u001b[0m\u001b[0;34m(\u001b[0m\u001b[0;34m**\u001b[0m\u001b[0mbest_params\u001b[0m\u001b[0;34m)\u001b[0m\u001b[0;34m\u001b[0m\u001b[0;34m\u001b[0m\u001b[0m\n",
      "\u001b[0;31mNameError\u001b[0m: name 'print_cv_results' is not defined"
     ]
    }
   ],
   "source": [
    "context['grid_search'] = True\n",
    "%time train_ds(context)"
   ]
  },
  {
   "cell_type": "code",
   "execution_count": null,
   "metadata": {},
   "outputs": [],
   "source": [
    "df_large.loc[df_large.index[-1], :]"
   ]
  },
  {
   "cell_type": "code",
   "execution_count": 868,
   "metadata": {},
   "outputs": [
    {
     "name": "stdout",
     "output_type": "stream",
     "text": [
      "0 Adding MET to dataset\n",
      "1 Adding BA to dataset\n",
      "2 Adding ADI to dataset\n",
      "3 Adding CBS to dataset\n",
      "4 Adding CWT to dataset\n",
      "5 Adding RS to dataset\n",
      "6 Adding GPS to dataset\n",
      "7 Adding SFTBY to dataset\n",
      "8 Adding HFC to dataset\n",
      "9 Adding CHDN to dataset\n",
      "10 Adding DVA to dataset\n",
      "Exception: 0700.HK\n",
      "cannot reindex from a duplicate axis\n",
      "12 Adding RLI to dataset\n",
      "13 Adding X to dataset\n",
      "14 Adding DDD to dataset\n",
      "15 Adding RBC to dataset\n",
      "16 Adding OKE to dataset\n",
      "17 Adding MFG to dataset\n",
      "18 Adding AFL to dataset\n",
      "19 Adding URBN to dataset\n",
      "create_ds\n",
      "df_large.shape (9576, 29)\n",
      "pre_process_ds\n",
      "(19, 24)\n",
      "predict_ds\n",
      "pred_X.shape (19, 24)\n",
      "Loaded ../ML/co_pxmom_ML_hard.pkl\n",
      "Loaded ../ML/co_pxmom_ML_soft.pkl\n",
      "CPU times: user 2.9 s, sys: 785 ms, total: 3.69 s\n",
      "Wall time: 32.7 s\n"
     ]
    },
    {
     "data": {
      "text/html": [
       "<div>\n",
       "<style scoped>\n",
       "    .dataframe tbody tr th:only-of-type {\n",
       "        vertical-align: middle;\n",
       "    }\n",
       "\n",
       "    .dataframe tbody tr th {\n",
       "        vertical-align: top;\n",
       "    }\n",
       "\n",
       "    .dataframe thead th {\n",
       "        text-align: right;\n",
       "    }\n",
       "</style>\n",
       "<table border=\"1\" class=\"dataframe\">\n",
       "  <thead>\n",
       "    <tr style=\"text-align: right;\">\n",
       "      <th></th>\n",
       "      <th>symbol</th>\n",
       "      <th>hard_pred_class</th>\n",
       "      <th>hard_pred_label</th>\n",
       "      <th>soft_pred_class</th>\n",
       "      <th>soft_pred_label</th>\n",
       "      <th>soft_confidence</th>\n",
       "      <th>bear</th>\n",
       "      <th>short</th>\n",
       "      <th>neutral</th>\n",
       "      <th>long</th>\n",
       "      <th>bull</th>\n",
       "    </tr>\n",
       "  </thead>\n",
       "  <tbody>\n",
       "    <tr>\n",
       "      <th>2019-03-25</th>\n",
       "      <td>MET</td>\n",
       "      <td>4</td>\n",
       "      <td>bull</td>\n",
       "      <td>4</td>\n",
       "      <td>bull</td>\n",
       "      <td>0.40</td>\n",
       "      <td>0.21</td>\n",
       "      <td>0.13</td>\n",
       "      <td>0.07</td>\n",
       "      <td>0.19</td>\n",
       "      <td>0.40</td>\n",
       "    </tr>\n",
       "    <tr>\n",
       "      <th>2019-03-25</th>\n",
       "      <td>BA</td>\n",
       "      <td>3</td>\n",
       "      <td>long</td>\n",
       "      <td>3</td>\n",
       "      <td>long</td>\n",
       "      <td>0.34</td>\n",
       "      <td>0.23</td>\n",
       "      <td>0.10</td>\n",
       "      <td>0.09</td>\n",
       "      <td>0.34</td>\n",
       "      <td>0.24</td>\n",
       "    </tr>\n",
       "    <tr>\n",
       "      <th>2019-03-25</th>\n",
       "      <td>ADI</td>\n",
       "      <td>0</td>\n",
       "      <td>bear</td>\n",
       "      <td>0</td>\n",
       "      <td>bear</td>\n",
       "      <td>0.23</td>\n",
       "      <td>0.23</td>\n",
       "      <td>0.23</td>\n",
       "      <td>0.16</td>\n",
       "      <td>0.14</td>\n",
       "      <td>0.23</td>\n",
       "    </tr>\n",
       "    <tr>\n",
       "      <th>2019-03-25</th>\n",
       "      <td>CBS</td>\n",
       "      <td>4</td>\n",
       "      <td>bull</td>\n",
       "      <td>4</td>\n",
       "      <td>bull</td>\n",
       "      <td>0.36</td>\n",
       "      <td>0.14</td>\n",
       "      <td>0.12</td>\n",
       "      <td>0.10</td>\n",
       "      <td>0.28</td>\n",
       "      <td>0.36</td>\n",
       "    </tr>\n",
       "    <tr>\n",
       "      <th>2019-03-25</th>\n",
       "      <td>CWT</td>\n",
       "      <td>4</td>\n",
       "      <td>bull</td>\n",
       "      <td>4</td>\n",
       "      <td>bull</td>\n",
       "      <td>0.28</td>\n",
       "      <td>0.11</td>\n",
       "      <td>0.17</td>\n",
       "      <td>0.17</td>\n",
       "      <td>0.27</td>\n",
       "      <td>0.28</td>\n",
       "    </tr>\n",
       "    <tr>\n",
       "      <th>2019-03-25</th>\n",
       "      <td>RS</td>\n",
       "      <td>4</td>\n",
       "      <td>bull</td>\n",
       "      <td>4</td>\n",
       "      <td>bull</td>\n",
       "      <td>0.25</td>\n",
       "      <td>0.19</td>\n",
       "      <td>0.13</td>\n",
       "      <td>0.19</td>\n",
       "      <td>0.24</td>\n",
       "      <td>0.25</td>\n",
       "    </tr>\n",
       "    <tr>\n",
       "      <th>2019-03-25</th>\n",
       "      <td>GPS</td>\n",
       "      <td>4</td>\n",
       "      <td>bull</td>\n",
       "      <td>4</td>\n",
       "      <td>bull</td>\n",
       "      <td>0.27</td>\n",
       "      <td>0.23</td>\n",
       "      <td>0.21</td>\n",
       "      <td>0.09</td>\n",
       "      <td>0.20</td>\n",
       "      <td>0.27</td>\n",
       "    </tr>\n",
       "    <tr>\n",
       "      <th>2019-03-25</th>\n",
       "      <td>SFTBY</td>\n",
       "      <td>1</td>\n",
       "      <td>short</td>\n",
       "      <td>1</td>\n",
       "      <td>short</td>\n",
       "      <td>0.35</td>\n",
       "      <td>0.23</td>\n",
       "      <td>0.35</td>\n",
       "      <td>0.10</td>\n",
       "      <td>0.09</td>\n",
       "      <td>0.23</td>\n",
       "    </tr>\n",
       "    <tr>\n",
       "      <th>2019-03-25</th>\n",
       "      <td>HFC</td>\n",
       "      <td>4</td>\n",
       "      <td>bull</td>\n",
       "      <td>4</td>\n",
       "      <td>bull</td>\n",
       "      <td>0.49</td>\n",
       "      <td>0.13</td>\n",
       "      <td>0.11</td>\n",
       "      <td>0.10</td>\n",
       "      <td>0.17</td>\n",
       "      <td>0.49</td>\n",
       "    </tr>\n",
       "    <tr>\n",
       "      <th>2019-03-25</th>\n",
       "      <td>CHDN</td>\n",
       "      <td>4</td>\n",
       "      <td>bull</td>\n",
       "      <td>3</td>\n",
       "      <td>long</td>\n",
       "      <td>0.34</td>\n",
       "      <td>0.22</td>\n",
       "      <td>0.10</td>\n",
       "      <td>0.13</td>\n",
       "      <td>0.34</td>\n",
       "      <td>0.21</td>\n",
       "    </tr>\n",
       "    <tr>\n",
       "      <th>2019-03-25</th>\n",
       "      <td>DVA</td>\n",
       "      <td>4</td>\n",
       "      <td>bull</td>\n",
       "      <td>4</td>\n",
       "      <td>bull</td>\n",
       "      <td>0.32</td>\n",
       "      <td>0.20</td>\n",
       "      <td>0.11</td>\n",
       "      <td>0.08</td>\n",
       "      <td>0.29</td>\n",
       "      <td>0.32</td>\n",
       "    </tr>\n",
       "    <tr>\n",
       "      <th>2019-03-25</th>\n",
       "      <td>RLI</td>\n",
       "      <td>4</td>\n",
       "      <td>bull</td>\n",
       "      <td>1</td>\n",
       "      <td>short</td>\n",
       "      <td>0.36</td>\n",
       "      <td>0.09</td>\n",
       "      <td>0.36</td>\n",
       "      <td>0.16</td>\n",
       "      <td>0.18</td>\n",
       "      <td>0.21</td>\n",
       "    </tr>\n",
       "    <tr>\n",
       "      <th>2019-03-25</th>\n",
       "      <td>X</td>\n",
       "      <td>0</td>\n",
       "      <td>bear</td>\n",
       "      <td>0</td>\n",
       "      <td>bear</td>\n",
       "      <td>0.71</td>\n",
       "      <td>0.71</td>\n",
       "      <td>0.04</td>\n",
       "      <td>0.02</td>\n",
       "      <td>0.05</td>\n",
       "      <td>0.16</td>\n",
       "    </tr>\n",
       "    <tr>\n",
       "      <th>2019-03-25</th>\n",
       "      <td>DDD</td>\n",
       "      <td>0</td>\n",
       "      <td>bear</td>\n",
       "      <td>0</td>\n",
       "      <td>bear</td>\n",
       "      <td>0.56</td>\n",
       "      <td>0.56</td>\n",
       "      <td>0.08</td>\n",
       "      <td>0.02</td>\n",
       "      <td>0.08</td>\n",
       "      <td>0.24</td>\n",
       "    </tr>\n",
       "    <tr>\n",
       "      <th>2019-03-25</th>\n",
       "      <td>RBC</td>\n",
       "      <td>4</td>\n",
       "      <td>bull</td>\n",
       "      <td>4</td>\n",
       "      <td>bull</td>\n",
       "      <td>0.38</td>\n",
       "      <td>0.07</td>\n",
       "      <td>0.08</td>\n",
       "      <td>0.12</td>\n",
       "      <td>0.34</td>\n",
       "      <td>0.38</td>\n",
       "    </tr>\n",
       "    <tr>\n",
       "      <th>2019-03-25</th>\n",
       "      <td>OKE</td>\n",
       "      <td>4</td>\n",
       "      <td>bull</td>\n",
       "      <td>4</td>\n",
       "      <td>bull</td>\n",
       "      <td>0.36</td>\n",
       "      <td>0.19</td>\n",
       "      <td>0.12</td>\n",
       "      <td>0.09</td>\n",
       "      <td>0.25</td>\n",
       "      <td>0.36</td>\n",
       "    </tr>\n",
       "    <tr>\n",
       "      <th>2019-03-25</th>\n",
       "      <td>MFG</td>\n",
       "      <td>4</td>\n",
       "      <td>bull</td>\n",
       "      <td>1</td>\n",
       "      <td>short</td>\n",
       "      <td>0.27</td>\n",
       "      <td>0.08</td>\n",
       "      <td>0.27</td>\n",
       "      <td>0.25</td>\n",
       "      <td>0.17</td>\n",
       "      <td>0.22</td>\n",
       "    </tr>\n",
       "    <tr>\n",
       "      <th>2019-03-25</th>\n",
       "      <td>AFL</td>\n",
       "      <td>3</td>\n",
       "      <td>long</td>\n",
       "      <td>3</td>\n",
       "      <td>long</td>\n",
       "      <td>0.42</td>\n",
       "      <td>0.13</td>\n",
       "      <td>0.15</td>\n",
       "      <td>0.24</td>\n",
       "      <td>0.42</td>\n",
       "      <td>0.06</td>\n",
       "    </tr>\n",
       "    <tr>\n",
       "      <th>2019-03-25</th>\n",
       "      <td>URBN</td>\n",
       "      <td>0</td>\n",
       "      <td>bear</td>\n",
       "      <td>0</td>\n",
       "      <td>bear</td>\n",
       "      <td>0.52</td>\n",
       "      <td>0.52</td>\n",
       "      <td>0.08</td>\n",
       "      <td>0.08</td>\n",
       "      <td>0.18</td>\n",
       "      <td>0.13</td>\n",
       "    </tr>\n",
       "  </tbody>\n",
       "</table>\n",
       "</div>"
      ],
      "text/plain": [
       "           symbol  hard_pred_class hard_pred_label  soft_pred_class  \\\n",
       "2019-03-25    MET                4            bull                4   \n",
       "2019-03-25     BA                3            long                3   \n",
       "2019-03-25    ADI                0            bear                0   \n",
       "2019-03-25    CBS                4            bull                4   \n",
       "2019-03-25    CWT                4            bull                4   \n",
       "2019-03-25     RS                4            bull                4   \n",
       "2019-03-25    GPS                4            bull                4   \n",
       "2019-03-25  SFTBY                1           short                1   \n",
       "2019-03-25    HFC                4            bull                4   \n",
       "2019-03-25   CHDN                4            bull                3   \n",
       "2019-03-25    DVA                4            bull                4   \n",
       "2019-03-25    RLI                4            bull                1   \n",
       "2019-03-25      X                0            bear                0   \n",
       "2019-03-25    DDD                0            bear                0   \n",
       "2019-03-25    RBC                4            bull                4   \n",
       "2019-03-25    OKE                4            bull                4   \n",
       "2019-03-25    MFG                4            bull                1   \n",
       "2019-03-25    AFL                3            long                3   \n",
       "2019-03-25   URBN                0            bear                0   \n",
       "\n",
       "           soft_pred_label  soft_confidence  bear  short  neutral  long  bull  \n",
       "2019-03-25            bull             0.40  0.21   0.13     0.07  0.19  0.40  \n",
       "2019-03-25            long             0.34  0.23   0.10     0.09  0.34  0.24  \n",
       "2019-03-25            bear             0.23  0.23   0.23     0.16  0.14  0.23  \n",
       "2019-03-25            bull             0.36  0.14   0.12     0.10  0.28  0.36  \n",
       "2019-03-25            bull             0.28  0.11   0.17     0.17  0.27  0.28  \n",
       "2019-03-25            bull             0.25  0.19   0.13     0.19  0.24  0.25  \n",
       "2019-03-25            bull             0.27  0.23   0.21     0.09  0.20  0.27  \n",
       "2019-03-25           short             0.35  0.23   0.35     0.10  0.09  0.23  \n",
       "2019-03-25            bull             0.49  0.13   0.11     0.10  0.17  0.49  \n",
       "2019-03-25            long             0.34  0.22   0.10     0.13  0.34  0.21  \n",
       "2019-03-25            bull             0.32  0.20   0.11     0.08  0.29  0.32  \n",
       "2019-03-25           short             0.36  0.09   0.36     0.16  0.18  0.21  \n",
       "2019-03-25            bear             0.71  0.71   0.04     0.02  0.05  0.16  \n",
       "2019-03-25            bear             0.56  0.56   0.08     0.02  0.08  0.24  \n",
       "2019-03-25            bull             0.38  0.07   0.08     0.12  0.34  0.38  \n",
       "2019-03-25            bull             0.36  0.19   0.12     0.09  0.25  0.36  \n",
       "2019-03-25           short             0.27  0.08   0.27     0.25  0.17  0.22  \n",
       "2019-03-25            long             0.42  0.13   0.15     0.24  0.42  0.06  \n",
       "2019-03-25            bear             0.52  0.52   0.08     0.08  0.18  0.13  "
      ]
     },
     "execution_count": 868,
     "metadata": {},
     "output_type": "execute_result"
    }
   ],
   "source": [
    "%time predict_ds(context)\n",
    "# df_large = create_ds(context)\n",
    "# pred_X, _, _, _, _ = pre_process_ds(df_large, context)\n",
    "# pred_X.iloc[-20:, :]"
   ]
  },
  {
   "cell_type": "markdown",
   "metadata": {},
   "source": [
    "### Dataset creation"
   ]
  },
  {
   "cell_type": "code",
   "execution_count": null,
   "metadata": {
    "code_folding": [
     0
    ]
   },
   "outputs": [],
   "source": [
    "# Take a while ~40min to run on 1200 companies\n",
    "# Can we make faster?\n",
    "super_list = []\n",
    "for i, ticker in enumerate(tickers):\n",
    "    try:\n",
    "        close = px_close[ticker].drop_duplicates()\n",
    "        ft_df = px_mom_feats(\n",
    "            close, ticker, stds, inv, incl_px, \n",
    "            sec_windows, incl_name)\n",
    "        ft_df[y_col] = px_fwd_rets(\n",
    "            close, ticker, pred_fwd_windows).mean(axis=1)\n",
    "        df = get_symbol_pricing(ticker) #full retrieve\n",
    "        co = px_mom_co_feats(\n",
    "            df, indices_df, \n",
    "            [bench] + list(profile.loc[ticker, ['sector', 'industry']]))\n",
    "\n",
    "        ft_df.loc[:, 'country'] = profile.loc[ticker,:].country\n",
    "        ft_df.loc[:, 'currency'] = quotes.loc[ticker,:].currency\n",
    "\n",
    "        ft_df = pd.concat([ft_df.dropna(), co.dropna()], axis=1)\n",
    "        super_list.append(ft_df)\n",
    "        print(i, ticker)\n",
    "    except Exception as e:\n",
    "        print(\"Exception: {0}\\n{1}\".format(ticker, e))\n",
    "df_large = pd.concat(super_list, axis=0)\n",
    "os.makedirs('tmp', exist_ok=True)\n",
    "df_large.to_parquet('tmp/company-px_mom-large')\n",
    "df_large.shape"
   ]
  },
  {
   "cell_type": "markdown",
   "metadata": {},
   "source": [
    "### Pre-processing"
   ]
  },
  {
   "cell_type": "code",
   "execution_count": 408,
   "metadata": {
    "scrolled": true
   },
   "outputs": [
    {
     "name": "stdout",
     "output_type": "stream",
     "text": [
      "<class 'pandas.core.frame.DataFrame'>\n",
      "DatetimeIndex: 3788726 entries, 2004-12-09 to 2019-03-25\n",
      "Columns: 29 entries, PctChg1Stds to industry\n",
      "dtypes: float64(22), int64(2), object(5)\n",
      "memory usage: 867.2+ MB\n",
      "None\n"
     ]
    }
   ],
   "source": [
    "df_large = pd.read_parquet('tmp/company-px_mom-large')\n",
    "print(df_large.info(verbose=False))"
   ]
  },
  {
   "cell_type": "code",
   "execution_count": 409,
   "metadata": {},
   "outputs": [
    {
     "data": {
      "text/plain": [
       "(378873, 29)"
      ]
     },
     "execution_count": 409,
     "metadata": {},
     "output_type": "execute_result"
    }
   ],
   "source": [
    "df_large = trim_df(df_large, context['portion'])\n",
    "df_large.shape"
   ]
  },
  {
   "cell_type": "code",
   "execution_count": 410,
   "metadata": {},
   "outputs": [],
   "source": [
    "categoricals = context['categoricals']\n",
    "exclude = context['exclude']\n",
    "for col in categoricals: df_large = dummy_col(df_large, col, shorten=True)\n",
    "df_large.drop(columns=exclude, inplace=True)"
   ]
  },
  {
   "cell_type": "code",
   "execution_count": 411,
   "metadata": {},
   "outputs": [
    {
     "name": "stdout",
     "output_type": "stream",
     "text": [
      "pre_process_ds >> df_raw Y-var class distribution\n",
      "bear      0.19\n",
      "short     0.15\n",
      "neutral   0.10\n",
      "long      0.22\n",
      "bull      0.34\n",
      "Name: fwdReturn, dtype: float64\n",
      "CPU times: user 23.5 s, sys: 9.5 s, total: 33 s\n",
      "Wall time: 28.4 s\n"
     ]
    }
   ],
   "source": [
    "%time pred_X, X_train, X_test, y_train, y_test = pre_process_ds(df_large, context)"
   ]
  },
  {
   "cell_type": "code",
   "execution_count": 412,
   "metadata": {},
   "outputs": [
    {
     "data": {
      "text/plain": [
       "[(185259, 170), (46315, 170), (185259,), (46315,)]"
      ]
     },
     "execution_count": 412,
     "metadata": {},
     "output_type": "execute_result"
    }
   ],
   "source": [
    "[x.shape for x in (X_train, X_test, y_train, y_test)]"
   ]
  },
  {
   "cell_type": "markdown",
   "metadata": {
    "heading_collapsed": true
   },
   "source": [
    "#### Step by step"
   ]
  },
  {
   "cell_type": "code",
   "execution_count": 370,
   "metadata": {
    "hidden": true
   },
   "outputs": [
    {
     "name": "stdout",
     "output_type": "stream",
     "text": [
      "CPU times: user 265 ms, sys: 22.8 ms, total: 288 ms\n",
      "Wall time: 287 ms\n"
     ]
    },
    {
     "name": "stderr",
     "output_type": "stream",
     "text": [
      "/Users/vveiga/miniconda3/envs/inception/lib/python3.7/site-packages/ipykernel_launcher.py:7: SettingWithCopyWarning: \n",
      "A value is trying to be set on a copy of a slice from a DataFrame\n",
      "\n",
      "See the caveats in the documentation: http://pandas.pydata.org/pandas-docs/stable/indexing.html#indexing-view-versus-copy\n",
      "  import sys\n",
      "/Users/vveiga/miniconda3/envs/inception/lib/python3.7/site-packages/ipykernel_launcher.py:8: SettingWithCopyWarning: \n",
      "A value is trying to be set on a copy of a slice from a DataFrame.\n",
      "Try using .loc[row_indexer,col_indexer] = value instead\n",
      "\n",
      "See the caveats in the documentation: http://pandas.pydata.org/pandas-docs/stable/indexing.html#indexing-view-versus-copy\n",
      "  \n"
     ]
    }
   ],
   "source": [
    "%%time\n",
    "# Trims dataset in case it's too large for experimentation\n",
    "# Reduce dataset for experimentation\n",
    "# Note that experiment dataset is not stratified\n",
    "exp_perc = 20e-2\n",
    "_, df_raw = train_test_split(df_large, test_size=exp_perc, shuffle=True, )\n",
    "\n",
    "df_raw.dropna(subset=[y_col],  inplace=True)\n",
    "df_raw[y_col] = discret_rets(df_raw[y_col], cut_range, fwd_ret_labels)\n",
    "\n",
    "# df_raw.loc[:, y_col] = df_raw[y_col].astype(str)\n",
    "\n",
    "y_col_dist = sample_wgts(df_raw[y_col], fwd_ret_labels)\n",
    "(y_col_dist[fwd_ret_labels]).round(3)"
   ]
  },
  {
   "cell_type": "code",
   "execution_count": 371,
   "metadata": {
    "hidden": true
   },
   "outputs": [
    {
     "name": "stdout",
     "output_type": "stream",
     "text": [
      "CPU times: user 1.05 s, sys: 160 ms, total: 1.21 s\n",
      "Wall time: 202 ms\n"
     ]
    }
   ],
   "source": [
    "categoricals = ['sector', 'industry', 'country', 'currency']\n",
    "%time for col in categoricals: df_raw = dummy_col(df_raw, col, shorten=True)"
   ]
  },
  {
   "cell_type": "code",
   "execution_count": 372,
   "metadata": {
    "hidden": true
   },
   "outputs": [
    {
     "name": "stdout",
     "output_type": "stream",
     "text": [
      "CPU times: user 8.4 ms, sys: 2.23 ms, total: 10.6 ms\n",
      "Wall time: 3 ms\n"
     ]
    },
    {
     "data": {
      "text/plain": [
       "(26355, 150)"
      ]
     },
     "execution_count": 372,
     "metadata": {},
     "output_type": "execute_result"
    }
   ],
   "source": [
    "excl_list = ['symbol', ] # drop unneeded columns\n",
    "%time df_raw.drop(columns=excl_list, inplace=True, errors='ignore')\n",
    "df_raw.shape"
   ]
  },
  {
   "cell_type": "code",
   "execution_count": 373,
   "metadata": {
    "hidden": true
   },
   "outputs": [
    {
     "data": {
      "text/plain": [
       "((20994, 149), (5249, 149), (20994,), (5249,))"
      ]
     },
     "execution_count": 373,
     "metadata": {},
     "output_type": "execute_result"
    }
   ],
   "source": [
    "# Mean based imputer\n",
    "imputer_on, scaler_on = True, False\n",
    "imputer = SimpleImputer(missing_values=np.nan, strategy='mean', copy=False)\n",
    "scaler = StandardScaler()\n",
    "\n",
    "pre_ml_df = df_raw.copy()\n",
    "pre_ml_df.dropna(subset=[y_col], inplace=True)\n",
    "pre_ml_df.loc[:, y_col] = pre_ml_df[y_col].astype(str)\n",
    "X_cols = excl(pre_ml_df.columns, [y_col])\n",
    "\n",
    "if imputer_on: pre_ml_df.loc[:, X_cols] = imputer.fit_transform(pre_ml_df[X_cols])\n",
    "else: pre_ml_df.dropna(inplace=True)\n",
    "if scaler_on: pre_ml_df.loc[:, X_cols] = scaler.fit_transform(pre_ml_df[X_cols])\n",
    "\n",
    "X, y = pre_ml_df.drop(columns=y_col), pre_ml_df[y_col]\n",
    "\n",
    "X_train, X_test, y_train, y_test = train_test_split(X, y, test_size=.20, random_state=42)\n",
    "X_train.shape, X_test.shape, y_train.shape, y_test.shape"
   ]
  },
  {
   "cell_type": "markdown",
   "metadata": {},
   "source": [
    "### Train models"
   ]
  },
  {
   "cell_type": "code",
   "execution_count": 380,
   "metadata": {},
   "outputs": [
    {
     "data": {
      "text/plain": [
       "(20994, 149)"
      ]
     },
     "execution_count": 380,
     "metadata": {},
     "output_type": "execute_result"
    }
   ],
   "source": [
    "X_train.shape"
   ]
  },
  {
   "cell_type": "code",
   "execution_count": 390,
   "metadata": {
    "code_folding": []
   },
   "outputs": [
    {
     "name": "stdout",
     "output_type": "stream",
     "text": [
      "CPU times: user 36min 32s, sys: 8.76 s, total: 36min 41s\n",
      "Wall time: 3min 17s\n",
      "RandomForestClassifier scores: Train 0.9992131358904837, Test 0.7336133179120609\n"
     ]
    }
   ],
   "source": [
    "from sklearn.calibration import CalibratedClassifierCV\n",
    "from sklearn.metrics import brier_score_loss\n",
    "\n",
    "grid_search = context['grid_search']\n",
    "verbose = context['verbose']\n",
    "best_params = {\n",
    "    'n_estimators': 100, \n",
    "    'max_features': X_train.shape[1] // 2, \n",
    "    'random_state': 0,\n",
    "    'max_depth': None, \n",
    "    'min_samples_split': 2, \n",
    "    'n_jobs': -1}\n",
    "if grid_search:\n",
    "    print('GridSearchCV for RandomForestClassifier')\n",
    "    param_grid = {\n",
    "        'n_estimators': [100], \n",
    "        'max_features': ['sqrt', X_train.shape[1] // 2, X_train.shape[1] // 3,],\n",
    "        'random_state': np.arange(0, 5, 1),}\n",
    "    clf = GridSearchCV(RandomForestClassifier(random_state=42),\n",
    "                       param_grid, n_jobs=-1,\n",
    "                       cv=5, iid=True, verbose=verbose)\n",
    "    clf.fit(X_train, y_train)\n",
    "    if verbose: print_cv_results(clf, X_train, X_test, y_train, y_test, feat_imp=True, top=20)\n",
    "    best_params = clf.best_params_\n",
    "clf1 = RandomForestClassifier(**best_params)\n",
    "%time clf1.fit(X_train, y_train)\n",
    "print('RandomForestClassifier scores: Train {}, Test {}'.format(\n",
    "clf1.score(X_train, y_train), clf1.score(X_test, y_test)))"
   ]
  },
  {
   "cell_type": "code",
   "execution_count": 391,
   "metadata": {},
   "outputs": [
    {
     "name": "stdout",
     "output_type": "stream",
     "text": [
      "CPU times: user 9min, sys: 18.2 s, total: 9min 18s\n",
      "Wall time: 51.2 s\n",
      "RandomForestClassifier scores: Train 0.9992131358904837, Test 0.7336133179120609\n"
     ]
    }
   ],
   "source": [
    "# ExtraTreesClassifier\n",
    "clf2 = ExtraTreesClassifier(\n",
    "    n_estimators=100, max_depth=None, \n",
    "    min_samples_split=2, random_state=0, n_jobs=-1)\n",
    "\n",
    "%time clf2.fit(X_train, y_train)\n",
    "print('ExtraTreesClassifier scores: Train {}, Test {}'.format(\n",
    "clf2.score(X_train, y_train), clf2.score(X_test, y_test)))"
   ]
  },
  {
   "cell_type": "code",
   "execution_count": 399,
   "metadata": {
    "code_folding": [
     0
    ]
   },
   "outputs": [
    {
     "name": "stderr",
     "output_type": "stream",
     "text": [
      "/Users/vveiga/miniconda3/envs/inception/lib/python3.7/site-packages/sklearn/neural_network/multilayer_perceptron.py:562: ConvergenceWarning: Stochastic Optimizer: Maximum iterations (200) reached and the optimization hasn't converged yet.\n",
      "  % self.max_iter, ConvergenceWarning)\n"
     ]
    },
    {
     "name": "stdout",
     "output_type": "stream",
     "text": [
      "MLPClassifier scores: Train 0.44222473976602644, Test 0.436320888872035\n",
      "CPU times: user 23min 16s, sys: 3min 49s, total: 27min 5s\n",
      "Wall time: 5min 6s\n"
     ]
    }
   ],
   "source": [
    "%%time\n",
    "# MLPClassifier\n",
    "params = {\n",
    "    'activation': 'relu', \n",
    "    'alpha': 0.001, \n",
    "    'hidden_layer_sizes': (50,), \n",
    "    'learning_rate': 'adaptive', \n",
    "    'max_iter': 200, \n",
    "    'random_state': 3, \n",
    "    'solver': 'adam'}\n",
    "\n",
    "clf3 = MLPClassifier(**params)\n",
    "\n",
    "clf3.fit(X_train, y_train)\n",
    "print('MLPClassifier scores: Train {}, Test {}'.format(\n",
    "clf3.score(X_train, y_train), clf3.score(X_test, y_test)))"
   ]
  },
  {
   "cell_type": "code",
   "execution_count": 400,
   "metadata": {},
   "outputs": [
    {
     "name": "stdout",
     "output_type": "stream",
     "text": [
      "VotingClassifier scores Train 0.9992131358904837, Test 0.7321723137596936\n",
      "Saved  ../ML/co_pxmom_ML_hard.pkl\n",
      "VotingClassifier scores Train 0.9992131358904837, Test 0.7548586488690013\n",
      "Saved  ../ML/co_pxmom_ML_soft.pkl\n"
     ]
    }
   ],
   "source": [
    "%%time\n",
    "ml_path = context['ml_path']\n",
    "for vote in ['hard', 'soft']:\n",
    "    eclf = VotingClassifier(\n",
    "        estimators=[('rf', clf1), ('et', clf2)],\n",
    "        voting=vote)\n",
    "    clf = eclf.fit(X_train, y_train)\n",
    "    print('VotingClassifier scores Train {}, Test {}'.format(\n",
    "            clf.score(X_train, y_train), clf.score(X_test, y_test)))\n",
    "    os.makedirs(ml_path, exist_ok=True)\n",
    "    fname = ml_path + f'co_pxmom_ML_{vote}.pkl'\n",
    "    joblib.dump(clf, fname)\n",
    "    print('Saved ', fname)"
   ]
  },
  {
   "cell_type": "code",
   "execution_count": null,
   "metadata": {},
   "outputs": [],
   "source": [
    "def predict_ds(context):\n",
    "    ml_path = context['ml_path']\n",
    "    verbose = context['verbose']\n",
    "    \n",
    "    px_close = get_mults_pricing(include, freq, verbose=verbose);\n",
    "    px_close.drop_duplicates(inplace=True)\n",
    "    \n",
    "    ds_idx, df_large = create_ds(px_close, context)\n",
    "    pred_X, _, _, _, _ = pre_process_ds(df_large, context)    \n",
    "\n",
    "    print('pred_X.shape', pred_X.shape)\n",
    "\n",
    "    bench_df = px_close.loc[pred_X.index, bench].to_frame()\n",
    "    for vote in ['hard', 'soft']:\n",
    "        fname = ml_path + f'macro_ML_{vote}.pkl'\n",
    "        clf = joblib.load(fname) # load latest models\n",
    "        print('Loaded', fname)\n",
    "        preds = clf.predict(pred_X)\n",
    "        pred_class = np.array([fwd_ret_labels.index(x) for x in preds])        \n",
    "        bench_df[f'{vote}_pred_class'] = pred_class\n",
    "        bench_df[f'{vote}_pred_label'] = preds\n",
    "        if vote == 'soft':\n",
    "            probs = clf.predict_proba(pred_X)\n",
    "            pred_prob = np.argmax(probs, axis=1)\n",
    "            bench_df[f'{vote}_confidence'] = [x[np.argmax(x)] for x in probs] # higest prob\n",
    "            prob_df = pd.DataFrame(probs, index=bench_df.index, columns=clf.classes_)\n",
    "            bench_df = pd.concat([bench_df, prob_df[fwd_ret_labels]], axis=1)\n",
    "        bench_df.dropna(subset=[bench], inplace=True)\n",
    "\n",
    "    return bench_df"
   ]
  },
  {
   "cell_type": "markdown",
   "metadata": {},
   "source": [
    "#### Metrics"
   ]
  },
  {
   "cell_type": "code",
   "execution_count": 477,
   "metadata": {},
   "outputs": [
    {
     "name": "stdout",
     "output_type": "stream",
     "text": [
      "Feature ranking:\n",
      "3 feature RollVol30 (0.0719265842812121)\n",
      "8 feature Pct52WkL (0.057187250170499915)\n",
      "2 feature PctMA200 (0.051117938679201495)\n",
      "6 feature PctChg60 (0.04812732915737722)\n",
      "17 feature rsInd120 (0.047692694487893934)\n",
      "15 feature rsBench120 (0.047179348876138304)\n",
      "7 feature Pct52WkH (0.04702123557435087)\n",
      "16 feature rsSect120 (0.046485041221002915)\n",
      "1 feature PctMA50 (0.044626020510814934)\n",
      "14 feature rsInd60 (0.043530156734430475)\n",
      "12 feature rsBench60 (0.043198504156986416)\n",
      "13 feature rsSect60 (0.04196997512215771)\n",
      "5 feature PctChg20 (0.040496775248970815)\n",
      "4 feature PctChg5 (0.040090139000694434)\n",
      "11 feature rsInd20 (0.03920778133476896)\n",
      "9 feature rsBench20 (0.03726572242269838)\n",
      "10 feature rsSect20 (0.03688212224824845)\n",
      "18 feature volPctMa10 (0.03213273525742049)\n",
      "19 feature volPctMa60 (0.03181707588242148)\n",
      "0 feature PctChg1Stds (0.006585293828663983)\n",
      "20 feature benchPctChgStds (0.006528325460565378)\n",
      "30 feature ^INDU (0.0041992066803679465)\n",
      "32 feature ^TECH (0.004118623223127218)\n",
      "28 feature ^FINA_SERV (0.003840501552929099)\n",
      "29 feature ^HEAL (0.003824446287555883)\n",
      "25 feature ^CONS_CYCL (0.003758424766628835)\n"
     ]
    },
    {
     "data": {
      "image/png": "[encoded data removed]",
      "text/plain": [
       "<Figure size 432x288 with 1 Axes>"
      ]
     },
     "metadata": {
      "needs_background": "light"
     },
     "output_type": "display_data"
    }
   ],
   "source": [
    "show_fi(clf1, X_train, 25)"
   ]
  },
  {
   "cell_type": "code",
   "execution_count": 534,
   "metadata": {},
   "outputs": [
    {
     "name": "stdout",
     "output_type": "stream",
     "text": [
      "Confussion Matrix\n",
      " [[17098  2047   363   352   218]\n",
      " [ 1755 15847  2658   558   180]\n",
      " [   51  1595  6412  1339    57]\n",
      " [  781  1857  5004 23398  3253]\n",
      " [ 1638  2128  1755  5593 32988]]\n"
     ]
    }
   ],
   "source": [
    "print('Confussion Matrix\\n', confusion_matrix(clf.predict(X_test), y_test, labels=fwd_ret_labels))"
   ]
  },
  {
   "cell_type": "code",
   "execution_count": 535,
   "metadata": {},
   "outputs": [
    {
     "name": "stdout",
     "output_type": "stream",
     "text": [
      "Classificaton report\n",
      "               precision    recall  f1-score   support\n",
      "\n",
      "        bear       0.80      0.85      0.83     20078\n",
      "       short       0.90      0.75      0.82     44102\n",
      "     neutral       0.75      0.68      0.71     34293\n",
      "        long       0.40      0.68      0.50      9454\n",
      "        bull       0.68      0.75      0.71     20998\n",
      "\n",
      "   micro avg       0.74      0.74      0.74    128925\n",
      "   macro avg       0.70      0.74      0.71    128925\n",
      "weighted avg       0.77      0.74      0.75    128925\n",
      "\n"
     ]
    }
   ],
   "source": [
    "print('Classificaton report\\n', classification_report(clf.predict(X_test), y_test, target_names=fwd_ret_labels))"
   ]
  },
  {
   "cell_type": "code",
   "execution_count": 536,
   "metadata": {},
   "outputs": [
    {
     "data": {
      "text/plain": [
       "0.945469193272936"
      ]
     },
     "execution_count": 536,
     "metadata": {},
     "output_type": "execute_result"
    }
   ],
   "source": [
    "log_loss(y_test, clf.predict_proba(X_test))"
   ]
  },
  {
   "cell_type": "markdown",
   "metadata": {
    "heading_collapsed": true
   },
   "source": [
    "#### Gridsearches"
   ]
  },
  {
   "cell_type": "code",
   "execution_count": 342,
   "metadata": {
    "hidden": true
   },
   "outputs": [
    {
     "data": {
      "text/plain": [
       "array([10, 36, 62, 88])"
      ]
     },
     "execution_count": 342,
     "metadata": {},
     "output_type": "execute_result"
    }
   ],
   "source": [
    "np.arange(10, X.shape[1], int(X.shape[1]*.25))"
   ]
  },
  {
   "cell_type": "code",
   "execution_count": null,
   "metadata": {
    "hidden": true
   },
   "outputs": [],
   "source": [
    "%%time\n",
    "# GridSearchCV for RandomForestClassifier\n",
    "parameters = {\n",
    "    'n_estimators': [10, 20, 40], \n",
    "    'max_features': np.arange(10, X.shape[1], int(X.shape[1]*.25)), \n",
    "    'random_state': np.arange(1, 10, 3)}\n",
    "\n",
    "# parameters = {\n",
    "#     'n_estimators': [80], \n",
    "#     'max_features': [16], \n",
    "#     'random_state': [4]}\n",
    "\n",
    "clf = GridSearchCV(RandomForestClassifier(), parameters, n_jobs=-1, cv=5)\n",
    "clf.fit(X_train, y_train)\n",
    "\n",
    "print(clf.score(X_train, y_train), clf.score(X_test, y_test))\n",
    "print(clf.best_params_)"
   ]
  },
  {
   "cell_type": "markdown",
   "metadata": {
    "heading_collapsed": true
   },
   "source": [
    "### Feature construction"
   ]
  },
  {
   "cell_type": "code",
   "execution_count": 162,
   "metadata": {
    "hidden": true
   },
   "outputs": [
    {
     "name": "stdout",
     "output_type": "stream",
     "text": [
      "Loading file quote/csv/2019-03-08\n",
      "Loading file summary-categories/assetProfile\n",
      "CPU times: user 103 ms, sys: 2.58 ms, total: 106 ms\n",
      "Wall time: 244 ms\n"
     ]
    }
   ],
   "source": [
    "%%time\n",
    "df = get_symbol_pricing(ticker)\n",
    "ft_df = px_mom_feats(df, ticker, stds, inv, incl_px, sec_windows, incl_name)\n",
    "ft_df[y_col] = px_fwd_rets(\n",
    "    df.close, ticker, pred_fwd_windows).mean(axis=1, skipna=False)"
   ]
  },
  {
   "cell_type": "code",
   "execution_count": 1371,
   "metadata": {
    "hidden": true
   },
   "outputs": [
    {
     "data": {
      "text/html": [
       "<div>\n",
       "<style scoped>\n",
       "    .dataframe tbody tr th:only-of-type {\n",
       "        vertical-align: middle;\n",
       "    }\n",
       "\n",
       "    .dataframe tbody tr th {\n",
       "        vertical-align: top;\n",
       "    }\n",
       "\n",
       "    .dataframe thead th {\n",
       "        text-align: right;\n",
       "    }\n",
       "</style>\n",
       "<table border=\"1\" class=\"dataframe\">\n",
       "  <thead>\n",
       "    <tr style=\"text-align: right;\">\n",
       "      <th></th>\n",
       "      <th>PctChg1Stds</th>\n",
       "      <th>PctMA50</th>\n",
       "      <th>PctMA200</th>\n",
       "      <th>RollVol20</th>\n",
       "      <th>PctChg5</th>\n",
       "      <th>PctChg20</th>\n",
       "      <th>PctChg60</th>\n",
       "      <th>Pct52WkH</th>\n",
       "      <th>Pct52WkL</th>\n",
       "      <th>symbol</th>\n",
       "      <th>fwdReturn</th>\n",
       "    </tr>\n",
       "  </thead>\n",
       "  <tbody>\n",
       "    <tr>\n",
       "      <th>count</th>\n",
       "      <td>3,776.00</td>\n",
       "      <td>3,727.00</td>\n",
       "      <td>3,577.00</td>\n",
       "      <td>3,756.00</td>\n",
       "      <td>3,771.00</td>\n",
       "      <td>3,756.00</td>\n",
       "      <td>3,716.00</td>\n",
       "      <td>3,525.00</td>\n",
       "      <td>3,525.00</td>\n",
       "      <td>3776</td>\n",
       "      <td>3,656.00</td>\n",
       "    </tr>\n",
       "    <tr>\n",
       "      <th>unique</th>\n",
       "      <td>nan</td>\n",
       "      <td>nan</td>\n",
       "      <td>nan</td>\n",
       "      <td>nan</td>\n",
       "      <td>nan</td>\n",
       "      <td>nan</td>\n",
       "      <td>nan</td>\n",
       "      <td>nan</td>\n",
       "      <td>nan</td>\n",
       "      <td>1</td>\n",
       "      <td>nan</td>\n",
       "    </tr>\n",
       "    <tr>\n",
       "      <th>top</th>\n",
       "      <td>nan</td>\n",
       "      <td>nan</td>\n",
       "      <td>nan</td>\n",
       "      <td>nan</td>\n",
       "      <td>nan</td>\n",
       "      <td>nan</td>\n",
       "      <td>nan</td>\n",
       "      <td>nan</td>\n",
       "      <td>nan</td>\n",
       "      <td>AAP</td>\n",
       "      <td>nan</td>\n",
       "    </tr>\n",
       "    <tr>\n",
       "      <th>freq</th>\n",
       "      <td>nan</td>\n",
       "      <td>nan</td>\n",
       "      <td>nan</td>\n",
       "      <td>nan</td>\n",
       "      <td>nan</td>\n",
       "      <td>nan</td>\n",
       "      <td>nan</td>\n",
       "      <td>nan</td>\n",
       "      <td>nan</td>\n",
       "      <td>3776</td>\n",
       "      <td>nan</td>\n",
       "    </tr>\n",
       "    <tr>\n",
       "      <th>mean</th>\n",
       "      <td>0.03</td>\n",
       "      <td>1.01</td>\n",
       "      <td>1.06</td>\n",
       "      <td>0.29</td>\n",
       "      <td>0.00</td>\n",
       "      <td>0.01</td>\n",
       "      <td>0.04</td>\n",
       "      <td>0.87</td>\n",
       "      <td>1.38</td>\n",
       "      <td>NaN</td>\n",
       "      <td>0.05</td>\n",
       "    </tr>\n",
       "    <tr>\n",
       "      <th>std</th>\n",
       "      <td>0.77</td>\n",
       "      <td>0.07</td>\n",
       "      <td>0.15</td>\n",
       "      <td>0.15</td>\n",
       "      <td>0.04</td>\n",
       "      <td>0.08</td>\n",
       "      <td>0.15</td>\n",
       "      <td>0.12</td>\n",
       "      <td>0.25</td>\n",
       "      <td>NaN</td>\n",
       "      <td>0.13</td>\n",
       "    </tr>\n",
       "    <tr>\n",
       "      <th>min</th>\n",
       "      <td>-10.00</td>\n",
       "      <td>0.64</td>\n",
       "      <td>0.60</td>\n",
       "      <td>0.08</td>\n",
       "      <td>-0.28</td>\n",
       "      <td>-0.38</td>\n",
       "      <td>-0.43</td>\n",
       "      <td>0.45</td>\n",
       "      <td>1.00</td>\n",
       "      <td>NaN</td>\n",
       "      <td>-0.35</td>\n",
       "    </tr>\n",
       "    <tr>\n",
       "      <th>25%</th>\n",
       "      <td>0.00</td>\n",
       "      <td>0.97</td>\n",
       "      <td>0.96</td>\n",
       "      <td>0.19</td>\n",
       "      <td>-0.02</td>\n",
       "      <td>-0.03</td>\n",
       "      <td>-0.06</td>\n",
       "      <td>0.80</td>\n",
       "      <td>1.18</td>\n",
       "      <td>NaN</td>\n",
       "      <td>-0.04</td>\n",
       "    </tr>\n",
       "    <tr>\n",
       "      <th>50%</th>\n",
       "      <td>0.00</td>\n",
       "      <td>1.02</td>\n",
       "      <td>1.06</td>\n",
       "      <td>0.25</td>\n",
       "      <td>0.00</td>\n",
       "      <td>0.01</td>\n",
       "      <td>0.05</td>\n",
       "      <td>0.90</td>\n",
       "      <td>1.34</td>\n",
       "      <td>NaN</td>\n",
       "      <td>0.05</td>\n",
       "    </tr>\n",
       "    <tr>\n",
       "      <th>75%</th>\n",
       "      <td>0.00</td>\n",
       "      <td>1.06</td>\n",
       "      <td>1.15</td>\n",
       "      <td>0.33</td>\n",
       "      <td>0.02</td>\n",
       "      <td>0.06</td>\n",
       "      <td>0.15</td>\n",
       "      <td>0.97</td>\n",
       "      <td>1.54</td>\n",
       "      <td>NaN</td>\n",
       "      <td>0.13</td>\n",
       "    </tr>\n",
       "    <tr>\n",
       "      <th>max</th>\n",
       "      <td>8.00</td>\n",
       "      <td>1.22</td>\n",
       "      <td>1.40</td>\n",
       "      <td>1.17</td>\n",
       "      <td>0.24</td>\n",
       "      <td>0.29</td>\n",
       "      <td>0.51</td>\n",
       "      <td>1.00</td>\n",
       "      <td>2.15</td>\n",
       "      <td>NaN</td>\n",
       "      <td>0.43</td>\n",
       "    </tr>\n",
       "  </tbody>\n",
       "</table>\n",
       "</div>"
      ],
      "text/plain": [
       "        PctChg1Stds  PctMA50  PctMA200  RollVol20  PctChg5  PctChg20  \\\n",
       "count      3,776.00 3,727.00  3,577.00   3,756.00 3,771.00  3,756.00   \n",
       "unique          nan      nan       nan        nan      nan       nan   \n",
       "top             nan      nan       nan        nan      nan       nan   \n",
       "freq            nan      nan       nan        nan      nan       nan   \n",
       "mean           0.03     1.01      1.06       0.29     0.00      0.01   \n",
       "std            0.77     0.07      0.15       0.15     0.04      0.08   \n",
       "min          -10.00     0.64      0.60       0.08    -0.28     -0.38   \n",
       "25%            0.00     0.97      0.96       0.19    -0.02     -0.03   \n",
       "50%            0.00     1.02      1.06       0.25     0.00      0.01   \n",
       "75%            0.00     1.06      1.15       0.33     0.02      0.06   \n",
       "max            8.00     1.22      1.40       1.17     0.24      0.29   \n",
       "\n",
       "        PctChg60  Pct52WkH  Pct52WkL symbol  fwdReturn  \n",
       "count   3,716.00  3,525.00  3,525.00   3776   3,656.00  \n",
       "unique       nan       nan       nan      1        nan  \n",
       "top          nan       nan       nan    AAP        nan  \n",
       "freq         nan       nan       nan   3776        nan  \n",
       "mean        0.04      0.87      1.38    NaN       0.05  \n",
       "std         0.15      0.12      0.25    NaN       0.13  \n",
       "min        -0.43      0.45      1.00    NaN      -0.35  \n",
       "25%        -0.06      0.80      1.18    NaN      -0.04  \n",
       "50%         0.05      0.90      1.34    NaN       0.05  \n",
       "75%         0.15      0.97      1.54    NaN       0.13  \n",
       "max         0.51      1.00      2.15    NaN       0.43  "
      ]
     },
     "metadata": {},
     "output_type": "display_data"
    }
   ],
   "source": [
    "display_all(ft_df.describe(include='all'))"
   ]
  },
  {
   "cell_type": "code",
   "execution_count": 1372,
   "metadata": {
    "hidden": true
   },
   "outputs": [
    {
     "data": {
      "text/plain": [
       "<matplotlib.axes._subplots.AxesSubplot at 0x12eb525c0>"
      ]
     },
     "execution_count": 1372,
     "metadata": {},
     "output_type": "execute_result"
    },
    {
     "data": {
      "image/png": "[encoded data removed]",
      "text/plain": [
       "<Figure size 432x288 with 1 Axes>"
      ]
     },
     "metadata": {
      "needs_background": "light"
     },
     "output_type": "display_data"
    }
   ],
   "source": [
    "Y = px_fwd_rets(df.close, ticker, pred_fwd_windows)\n",
    "Y.mean(axis=1).plot.hist(bins=50)"
   ]
  },
  {
   "cell_type": "code",
   "execution_count": 1373,
   "metadata": {
    "hidden": true
   },
   "outputs": [
    {
     "data": {
      "text/plain": [
       "((3906,), (3775,))"
      ]
     },
     "execution_count": 1373,
     "metadata": {},
     "output_type": "execute_result"
    }
   ],
   "source": [
    "px_close[ticker].shape, px.close.shape"
   ]
  },
  {
   "cell_type": "code",
   "execution_count": 1374,
   "metadata": {
    "hidden": true
   },
   "outputs": [
    {
     "data": {
      "text/plain": [
       "2019-03-01 00:00:00-05:00   160.62\n",
       "2019-03-04 00:00:00-05:00   158.40\n",
       "2019-03-05 00:00:00-05:00   157.31\n",
       "2019-03-06 00:00:00-05:00   157.97\n",
       "2019-03-07 00:00:00-05:00   154.10\n",
       "Name: AAP, dtype: float64"
      ]
     },
     "execution_count": 1374,
     "metadata": {},
     "output_type": "execute_result"
    }
   ],
   "source": [
    "px_close[ticker].tail()"
   ]
  },
  {
   "cell_type": "code",
   "execution_count": 1375,
   "metadata": {
    "hidden": true
   },
   "outputs": [
    {
     "data": {
      "text/html": [
       "<div>\n",
       "<style scoped>\n",
       "    .dataframe tbody tr th:only-of-type {\n",
       "        vertical-align: middle;\n",
       "    }\n",
       "\n",
       "    .dataframe tbody tr th {\n",
       "        vertical-align: top;\n",
       "    }\n",
       "\n",
       "    .dataframe thead tr th {\n",
       "        text-align: left;\n",
       "    }\n",
       "\n",
       "    .dataframe thead tr:last-of-type th {\n",
       "        text-align: right;\n",
       "    }\n",
       "</style>\n",
       "<table border=\"1\" class=\"dataframe\">\n",
       "  <thead>\n",
       "    <tr>\n",
       "      <th></th>\n",
       "      <th colspan=\"8\" halign=\"left\">AAP</th>\n",
       "    </tr>\n",
       "    <tr>\n",
       "      <th></th>\n",
       "      <th>count</th>\n",
       "      <th>mean</th>\n",
       "      <th>std</th>\n",
       "      <th>min</th>\n",
       "      <th>25%</th>\n",
       "      <th>50%</th>\n",
       "      <th>75%</th>\n",
       "      <th>max</th>\n",
       "    </tr>\n",
       "    <tr>\n",
       "      <th>weekday</th>\n",
       "      <th></th>\n",
       "      <th></th>\n",
       "      <th></th>\n",
       "      <th></th>\n",
       "      <th></th>\n",
       "      <th></th>\n",
       "      <th></th>\n",
       "      <th></th>\n",
       "    </tr>\n",
       "  </thead>\n",
       "  <tbody>\n",
       "    <tr>\n",
       "      <th>0</th>\n",
       "      <td>707.00</td>\n",
       "      <td>81.62</td>\n",
       "      <td>49.28</td>\n",
       "      <td>22.50</td>\n",
       "      <td>39.25</td>\n",
       "      <td>65.97</td>\n",
       "      <td>127.24</td>\n",
       "      <td>200.38</td>\n",
       "    </tr>\n",
       "    <tr>\n",
       "      <th>1</th>\n",
       "      <td>773.00</td>\n",
       "      <td>81.81</td>\n",
       "      <td>49.40</td>\n",
       "      <td>22.64</td>\n",
       "      <td>39.03</td>\n",
       "      <td>65.99</td>\n",
       "      <td>126.79</td>\n",
       "      <td>198.70</td>\n",
       "    </tr>\n",
       "    <tr>\n",
       "      <th>2</th>\n",
       "      <td>777.00</td>\n",
       "      <td>81.62</td>\n",
       "      <td>49.36</td>\n",
       "      <td>22.91</td>\n",
       "      <td>38.93</td>\n",
       "      <td>66.13</td>\n",
       "      <td>126.46</td>\n",
       "      <td>199.34</td>\n",
       "    </tr>\n",
       "    <tr>\n",
       "      <th>3</th>\n",
       "      <td>763.00</td>\n",
       "      <td>81.76</td>\n",
       "      <td>49.24</td>\n",
       "      <td>22.40</td>\n",
       "      <td>39.30</td>\n",
       "      <td>66.18</td>\n",
       "      <td>126.68</td>\n",
       "      <td>200.34</td>\n",
       "    </tr>\n",
       "    <tr>\n",
       "      <th>4</th>\n",
       "      <td>756.00</td>\n",
       "      <td>81.89</td>\n",
       "      <td>49.32</td>\n",
       "      <td>22.10</td>\n",
       "      <td>39.31</td>\n",
       "      <td>66.21</td>\n",
       "      <td>127.50</td>\n",
       "      <td>198.72</td>\n",
       "    </tr>\n",
       "    <tr>\n",
       "      <th>5</th>\n",
       "      <td>0.00</td>\n",
       "      <td>nan</td>\n",
       "      <td>nan</td>\n",
       "      <td>nan</td>\n",
       "      <td>nan</td>\n",
       "      <td>nan</td>\n",
       "      <td>nan</td>\n",
       "      <td>nan</td>\n",
       "    </tr>\n",
       "  </tbody>\n",
       "</table>\n",
       "</div>"
      ],
      "text/plain": [
       "           AAP                                            \n",
       "         count  mean   std   min   25%   50%    75%    max\n",
       "weekday                                                   \n",
       "0       707.00 81.62 49.28 22.50 39.25 65.97 127.24 200.38\n",
       "1       773.00 81.81 49.40 22.64 39.03 65.99 126.79 198.70\n",
       "2       777.00 81.62 49.36 22.91 38.93 66.13 126.46 199.34\n",
       "3       763.00 81.76 49.24 22.40 39.30 66.18 126.68 200.34\n",
       "4       756.00 81.89 49.32 22.10 39.31 66.21 127.50 198.72\n",
       "5         0.00   nan   nan   nan   nan   nan    nan    nan"
      ]
     },
     "execution_count": 1375,
     "metadata": {},
     "output_type": "execute_result"
    }
   ],
   "source": [
    "df = px_close[[ticker]].copy()\n",
    "# df.set_index(df.index.astype(np.datetime64), inplace=True)\n",
    "df.loc[:, 'weekday'] = df.index.weekday\n",
    "df.weekday.unique()\n",
    "df.tail(60)\n",
    "df.groupby('weekday').describe()"
   ]
  },
  {
   "cell_type": "code",
   "execution_count": 370,
   "metadata": {
    "hidden": true
   },
   "outputs": [
    {
     "name": "stdout",
     "output_type": "stream",
     "text": [
      "CPU times: user 96 ms, sys: 3.36 ms, total: 99.3 ms\n",
      "Wall time: 596 ms\n"
     ]
    }
   ],
   "source": [
    "%%time\n",
    "df = get_symbol_pricing(ticker)\n",
    "co = px_mom_co_feats(\n",
    "    df, indices_df, \n",
    "    [bench] + list(profile.loc[ticker, ['sector', 'industry']]))"
   ]
  },
  {
   "cell_type": "code",
   "execution_count": 1393,
   "metadata": {
    "hidden": true
   },
   "outputs": [
    {
     "name": "stdout",
     "output_type": "stream",
     "text": [
      "<class 'pandas.core.frame.DataFrame'>\n",
      "DatetimeIndex: 3906 entries, 2004-03-08 00:00:00-05:00 to 2019-03-07 00:00:00-05:00\n",
      "Data columns (total 13 columns):\n",
      "rsBench20     3756 non-null float64\n",
      "rsSect20      3756 non-null float64\n",
      "rsInd20       3756 non-null float64\n",
      "rsBench60     3716 non-null float64\n",
      "rsSect60      3716 non-null float64\n",
      "rsInd60       3716 non-null float64\n",
      "rsBench120    3656 non-null float64\n",
      "rsSect120     3656 non-null float64\n",
      "rsInd120      3656 non-null float64\n",
      "volPctMa10    3767 non-null float64\n",
      "volPctMa60    3717 non-null float64\n",
      "sector        3906 non-null object\n",
      "industry      3906 non-null object\n",
      "dtypes: float64(11), object(2)\n",
      "memory usage: 427.2+ KB\n"
     ]
    }
   ],
   "source": [
    "co.info()"
   ]
  },
  {
   "cell_type": "markdown",
   "metadata": {
    "heading_collapsed": true
   },
   "source": [
    "### Date and minute based time analysis"
   ]
  },
  {
   "cell_type": "code",
   "execution_count": 1007,
   "metadata": {
    "hidden": true
   },
   "outputs": [],
   "source": [
    "freq = '1d'"
   ]
  },
  {
   "cell_type": "code",
   "execution_count": 1008,
   "metadata": {
    "hidden": true
   },
   "outputs": [
    {
     "data": {
      "text/html": [
       "<div>\n",
       "<style scoped>\n",
       "    .dataframe tbody tr th:only-of-type {\n",
       "        vertical-align: middle;\n",
       "    }\n",
       "\n",
       "    .dataframe tbody tr th {\n",
       "        vertical-align: top;\n",
       "    }\n",
       "\n",
       "    .dataframe thead th {\n",
       "        text-align: right;\n",
       "    }\n",
       "</style>\n",
       "<table border=\"1\" class=\"dataframe\">\n",
       "  <thead>\n",
       "    <tr style=\"text-align: right;\">\n",
       "      <th></th>\n",
       "      <th>close</th>\n",
       "      <th>close</th>\n",
       "    </tr>\n",
       "  </thead>\n",
       "  <tbody>\n",
       "    <tr>\n",
       "      <th>count</th>\n",
       "      <td>164.00</td>\n",
       "      <td>3,775.00</td>\n",
       "    </tr>\n",
       "    <tr>\n",
       "      <th>mean</th>\n",
       "      <td>14.24</td>\n",
       "      <td>66.80</td>\n",
       "    </tr>\n",
       "    <tr>\n",
       "      <th>std</th>\n",
       "      <td>2.88</td>\n",
       "      <td>56.49</td>\n",
       "    </tr>\n",
       "    <tr>\n",
       "      <th>min</th>\n",
       "      <td>9.70</td>\n",
       "      <td>1.81</td>\n",
       "    </tr>\n",
       "    <tr>\n",
       "      <th>25%</th>\n",
       "      <td>12.19</td>\n",
       "      <td>16.67</td>\n",
       "    </tr>\n",
       "    <tr>\n",
       "      <th>50%</th>\n",
       "      <td>13.59</td>\n",
       "      <td>54.28</td>\n",
       "    </tr>\n",
       "    <tr>\n",
       "      <th>75%</th>\n",
       "      <td>16.51</td>\n",
       "      <td>106.82</td>\n",
       "    </tr>\n",
       "    <tr>\n",
       "      <th>max</th>\n",
       "      <td>21.55</td>\n",
       "      <td>232.07</td>\n",
       "    </tr>\n",
       "  </tbody>\n",
       "</table>\n",
       "</div>"
      ],
      "text/plain": [
       "       close    close\n",
       "count 164.00 3,775.00\n",
       "mean   14.24    66.80\n",
       "std     2.88    56.49\n",
       "min     9.70     1.81\n",
       "25%    12.19    16.67\n",
       "50%    13.59    54.28\n",
       "75%    16.51   106.82\n",
       "max    21.55   232.07"
      ]
     },
     "execution_count": 1008,
     "metadata": {},
     "output_type": "execute_result"
    }
   ],
   "source": [
    "# s1, s2 = '1810.HK', 'AAPL'\n",
    "group_pricing = pd.DataFrame()\n",
    "df1 = get_symbol_pricing(s1, freq, ['close'])\n",
    "df2 = get_symbol_pricing(s2, freq, ['close'])\n",
    "group_pricing = pd.DataFrame(df1)\n",
    "# group_pricing.loc[:, s2] = df2\n",
    "group_pricing = pd.concat([group_pricing, df2], axis=1)\n",
    "group_pricing.describe()\n",
    "# group_pricing"
   ]
  },
  {
   "cell_type": "code",
   "execution_count": 850,
   "metadata": {
    "hidden": true
   },
   "outputs": [
    {
     "data": {
      "text/plain": [
       "(dict_keys(['meta', 'timestamp', 'indicators']), dict_keys(['quote']))"
      ]
     },
     "execution_count": 850,
     "metadata": {},
     "output_type": "execute_result"
    }
   ],
   "source": [
    "path = config['pricing_path'].format(freq)\n",
    "data_dict = json_load(path + json_ext.format(ticker))\n",
    "\n",
    "tz = data_dict['meta']['exchangeTimezoneName']\n",
    "df = build_px_struct(data_dict, freq)\n",
    "\n",
    "adjClose = data_dict['indicators']['adjclose'][0] if 'adjclose' in  data_dict['indicators'] else 0\n",
    "close = data_dict['indicators']['quote'][0]\n",
    "data_dict.keys(), data_dict['indicators'].keys()"
   ]
  },
  {
   "cell_type": "code",
   "execution_count": 916,
   "metadata": {
    "hidden": true
   },
   "outputs": [
    {
     "data": {
      "text/plain": [
       "array([datetime.date(2019, 2, 28), datetime.date(2019, 2, 28),\n",
       "       datetime.date(2019, 2, 28), ..., datetime.date(2019, 3, 6),\n",
       "       datetime.date(2019, 3, 6), datetime.date(2019, 3, 6)], dtype=object)"
      ]
     },
     "execution_count": 916,
     "metadata": {},
     "output_type": "execute_result"
    }
   ],
   "source": [
    "df.index.date"
   ]
  },
  {
   "cell_type": "code",
   "execution_count": 851,
   "metadata": {
    "hidden": true
   },
   "outputs": [
    {
     "data": {
      "text/plain": [
       "DatetimeIndex(['2019-02-28 14:30:00', '2019-02-28 14:31:00',\n",
       "               '2019-02-28 14:32:00', '2019-02-28 14:33:00',\n",
       "               '2019-02-28 14:34:00', '2019-02-28 14:35:00',\n",
       "               '2019-02-28 14:36:00', '2019-02-28 14:37:00',\n",
       "               '2019-02-28 14:38:00', '2019-02-28 14:39:00',\n",
       "               ...\n",
       "               '2019-03-06 20:50:00', '2019-03-06 20:51:00',\n",
       "               '2019-03-06 20:52:00', '2019-03-06 20:53:00',\n",
       "               '2019-03-06 20:54:00', '2019-03-06 20:55:00',\n",
       "               '2019-03-06 20:56:00', '2019-03-06 20:57:00',\n",
       "               '2019-03-06 20:58:00', '2019-03-06 20:59:00'],\n",
       "              dtype='datetime64[ns]', length=1950, freq=None)"
      ]
     },
     "execution_count": 851,
     "metadata": {},
     "output_type": "execute_result"
    }
   ],
   "source": [
    "dates = pd.to_datetime(\n",
    "        data_dict['timestamp'], \n",
    "        unit='s', infer_datetime_format=True)\n",
    "# dates = dates.astype(f'datetime64[ns, {tz}]')\n",
    "# dates.tz_convert('America/New_York')\n",
    "# dates = dates.tz_localize('America/New_York')\n",
    "dates.floor('d' if freq == '1d' else 'min')"
   ]
  },
  {
   "cell_type": "code",
   "execution_count": 829,
   "metadata": {
    "hidden": true
   },
   "outputs": [
    {
     "data": {
      "text/html": [
       "<div>\n",
       "<style scoped>\n",
       "    .dataframe tbody tr th:only-of-type {\n",
       "        vertical-align: middle;\n",
       "    }\n",
       "\n",
       "    .dataframe tbody tr th {\n",
       "        vertical-align: top;\n",
       "    }\n",
       "\n",
       "    .dataframe thead th {\n",
       "        text-align: right;\n",
       "    }\n",
       "</style>\n",
       "<table border=\"1\" class=\"dataframe\">\n",
       "  <thead>\n",
       "    <tr style=\"text-align: right;\">\n",
       "      <th></th>\n",
       "      <th>high</th>\n",
       "      <th>low</th>\n",
       "      <th>open</th>\n",
       "      <th>close</th>\n",
       "      <th>adjclose</th>\n",
       "      <th>volume</th>\n",
       "    </tr>\n",
       "  </thead>\n",
       "  <tbody>\n",
       "    <tr>\n",
       "      <th>2019-03-06 20:55:00</th>\n",
       "      <td>174.72</td>\n",
       "      <td>174.60</td>\n",
       "      <td>174.66</td>\n",
       "      <td>174.71</td>\n",
       "      <td>0</td>\n",
       "      <td>148,802.00</td>\n",
       "    </tr>\n",
       "    <tr>\n",
       "      <th>2019-03-06 20:56:00</th>\n",
       "      <td>174.73</td>\n",
       "      <td>174.67</td>\n",
       "      <td>174.67</td>\n",
       "      <td>174.71</td>\n",
       "      <td>0</td>\n",
       "      <td>37,980.00</td>\n",
       "    </tr>\n",
       "    <tr>\n",
       "      <th>2019-03-06 20:57:00</th>\n",
       "      <td>174.72</td>\n",
       "      <td>174.65</td>\n",
       "      <td>174.71</td>\n",
       "      <td>174.65</td>\n",
       "      <td>0</td>\n",
       "      <td>70,312.00</td>\n",
       "    </tr>\n",
       "    <tr>\n",
       "      <th>2019-03-06 20:58:00</th>\n",
       "      <td>174.80</td>\n",
       "      <td>174.64</td>\n",
       "      <td>174.65</td>\n",
       "      <td>174.76</td>\n",
       "      <td>0</td>\n",
       "      <td>105,856.00</td>\n",
       "    </tr>\n",
       "    <tr>\n",
       "      <th>2019-03-06 20:59:00</th>\n",
       "      <td>174.82</td>\n",
       "      <td>174.46</td>\n",
       "      <td>174.74</td>\n",
       "      <td>174.51</td>\n",
       "      <td>0</td>\n",
       "      <td>385,081.00</td>\n",
       "    </tr>\n",
       "  </tbody>\n",
       "</table>\n",
       "</div>"
      ],
      "text/plain": [
       "                      high    low   open  close  adjclose     volume\n",
       "2019-03-06 20:55:00 174.72 174.60 174.66 174.71         0 148,802.00\n",
       "2019-03-06 20:56:00 174.73 174.67 174.67 174.71         0  37,980.00\n",
       "2019-03-06 20:57:00 174.72 174.65 174.71 174.65         0  70,312.00\n",
       "2019-03-06 20:58:00 174.80 174.64 174.65 174.76         0 105,856.00\n",
       "2019-03-06 20:59:00 174.82 174.46 174.74 174.51         0 385,081.00"
      ]
     },
     "execution_count": 829,
     "metadata": {},
     "output_type": "execute_result"
    }
   ],
   "source": [
    "df.tail(5)"
   ]
  },
  {
   "cell_type": "code",
   "execution_count": 1018,
   "metadata": {
    "hidden": true
   },
   "outputs": [],
   "source": [
    "freq = '1d'"
   ]
  },
  {
   "cell_type": "code",
   "execution_count": 1019,
   "metadata": {
    "hidden": true
   },
   "outputs": [
    {
     "name": "stdout",
     "output_type": "stream",
     "text": [
      "Retrieved pricing for 0700.HK\n",
      "Retrieved pricing for 1810.HK\n",
      "Retrieved pricing for 3690.HK\n",
      "Retrieved pricing for 9984.T\n",
      "Retrieved pricing for A\n",
      "Retrieved pricing for AAL\n",
      "Retrieved pricing for AAN\n",
      "Retrieved pricing for AAON\n",
      "Retrieved pricing for AAP\n",
      "Retrieved pricing for AAPL\n",
      "CPU times: user 1.05 s, sys: 45.5 ms, total: 1.1 s\n",
      "Wall time: 3.91 s\n"
     ]
    }
   ],
   "source": [
    "%time px_close = get_mults_pricing(symbols_list[:10], freq);"
   ]
  },
  {
   "cell_type": "code",
   "execution_count": 1022,
   "metadata": {
    "hidden": true
   },
   "outputs": [
    {
     "data": {
      "text/html": [
       "<div>\n",
       "<style scoped>\n",
       "    .dataframe tbody tr th:only-of-type {\n",
       "        vertical-align: middle;\n",
       "    }\n",
       "\n",
       "    .dataframe tbody tr th {\n",
       "        vertical-align: top;\n",
       "    }\n",
       "\n",
       "    .dataframe thead th {\n",
       "        text-align: right;\n",
       "    }\n",
       "</style>\n",
       "<table border=\"1\" class=\"dataframe\">\n",
       "  <thead>\n",
       "    <tr style=\"text-align: right;\">\n",
       "      <th></th>\n",
       "      <th>0700.HK</th>\n",
       "      <th>0700.HK</th>\n",
       "      <th>1810.HK</th>\n",
       "      <th>3690.HK</th>\n",
       "      <th>9984.T</th>\n",
       "      <th>A</th>\n",
       "      <th>AAL</th>\n",
       "      <th>AAN</th>\n",
       "      <th>AAON</th>\n",
       "      <th>AAP</th>\n",
       "      <th>AAPL</th>\n",
       "    </tr>\n",
       "  </thead>\n",
       "  <tbody>\n",
       "    <tr>\n",
       "      <th>count</th>\n",
       "      <td>3,634.00</td>\n",
       "      <td>3,634.00</td>\n",
       "      <td>164.00</td>\n",
       "      <td>111.00</td>\n",
       "      <td>3,743.00</td>\n",
       "      <td>3,775.00</td>\n",
       "      <td>3,382.00</td>\n",
       "      <td>3,775.00</td>\n",
       "      <td>1,258.00</td>\n",
       "      <td>3,775.00</td>\n",
       "      <td>3,775.00</td>\n",
       "    </tr>\n",
       "    <tr>\n",
       "      <th>mean</th>\n",
       "      <td>94.03</td>\n",
       "      <td>94.03</td>\n",
       "      <td>14.24</td>\n",
       "      <td>54.89</td>\n",
       "      <td>4,406.54</td>\n",
       "      <td>33.28</td>\n",
       "      <td>26.97</td>\n",
       "      <td>23.86</td>\n",
       "      <td>28.76</td>\n",
       "      <td>81.72</td>\n",
       "      <td>66.80</td>\n",
       "    </tr>\n",
       "    <tr>\n",
       "      <th>std</th>\n",
       "      <td>115.76</td>\n",
       "      <td>115.76</td>\n",
       "      <td>2.88</td>\n",
       "      <td>7.61</td>\n",
       "      <td>2,785.93</td>\n",
       "      <td>15.49</td>\n",
       "      <td>17.32</td>\n",
       "      <td>10.35</td>\n",
       "      <td>6.93</td>\n",
       "      <td>49.29</td>\n",
       "      <td>56.49</td>\n",
       "    </tr>\n",
       "    <tr>\n",
       "      <th>min</th>\n",
       "      <td>0.68</td>\n",
       "      <td>0.68</td>\n",
       "      <td>9.70</td>\n",
       "      <td>41.20</td>\n",
       "      <td>650.00</td>\n",
       "      <td>8.90</td>\n",
       "      <td>1.76</td>\n",
       "      <td>9.33</td>\n",
       "      <td>16.97</td>\n",
       "      <td>22.10</td>\n",
       "      <td>1.81</td>\n",
       "    </tr>\n",
       "    <tr>\n",
       "      <th>25%</th>\n",
       "      <td>9.51</td>\n",
       "      <td>9.51</td>\n",
       "      <td>12.19</td>\n",
       "      <td>48.45</td>\n",
       "      <td>2,148.00</td>\n",
       "      <td>22.63</td>\n",
       "      <td>9.12</td>\n",
       "      <td>14.67</td>\n",
       "      <td>22.29</td>\n",
       "      <td>39.16</td>\n",
       "      <td>16.67</td>\n",
       "    </tr>\n",
       "    <tr>\n",
       "      <th>50%</th>\n",
       "      <td>40.18</td>\n",
       "      <td>40.18</td>\n",
       "      <td>13.59</td>\n",
       "      <td>55.00</td>\n",
       "      <td>2,960.00</td>\n",
       "      <td>27.83</td>\n",
       "      <td>30.26</td>\n",
       "      <td>23.71</td>\n",
       "      <td>28.15</td>\n",
       "      <td>66.07</td>\n",
       "      <td>54.28</td>\n",
       "    </tr>\n",
       "    <tr>\n",
       "      <th>75%</th>\n",
       "      <td>142.08</td>\n",
       "      <td>142.08</td>\n",
       "      <td>16.51</td>\n",
       "      <td>59.82</td>\n",
       "      <td>7,127.50</td>\n",
       "      <td>40.84</td>\n",
       "      <td>42.34</td>\n",
       "      <td>29.12</td>\n",
       "      <td>35.06</td>\n",
       "      <td>126.80</td>\n",
       "      <td>106.82</td>\n",
       "    </tr>\n",
       "    <tr>\n",
       "      <th>max</th>\n",
       "      <td>474.60</td>\n",
       "      <td>474.60</td>\n",
       "      <td>21.55</td>\n",
       "      <td>72.65</td>\n",
       "      <td>11,470.00</td>\n",
       "      <td>81.24</td>\n",
       "      <td>62.95</td>\n",
       "      <td>55.45</td>\n",
       "      <td>43.83</td>\n",
       "      <td>200.38</td>\n",
       "      <td>232.07</td>\n",
       "    </tr>\n",
       "  </tbody>\n",
       "</table>\n",
       "</div>"
      ],
      "text/plain": [
       "       0700.HK  0700.HK  1810.HK  3690.HK    9984.T        A      AAL  \\\n",
       "count 3,634.00 3,634.00   164.00   111.00  3,743.00 3,775.00 3,382.00   \n",
       "mean     94.03    94.03    14.24    54.89  4,406.54    33.28    26.97   \n",
       "std     115.76   115.76     2.88     7.61  2,785.93    15.49    17.32   \n",
       "min       0.68     0.68     9.70    41.20    650.00     8.90     1.76   \n",
       "25%       9.51     9.51    12.19    48.45  2,148.00    22.63     9.12   \n",
       "50%      40.18    40.18    13.59    55.00  2,960.00    27.83    30.26   \n",
       "75%     142.08   142.08    16.51    59.82  7,127.50    40.84    42.34   \n",
       "max     474.60   474.60    21.55    72.65 11,470.00    81.24    62.95   \n",
       "\n",
       "           AAN     AAON      AAP     AAPL  \n",
       "count 3,775.00 1,258.00 3,775.00 3,775.00  \n",
       "mean     23.86    28.76    81.72    66.80  \n",
       "std      10.35     6.93    49.29    56.49  \n",
       "min       9.33    16.97    22.10     1.81  \n",
       "25%      14.67    22.29    39.16    16.67  \n",
       "50%      23.71    28.15    66.07    54.28  \n",
       "75%      29.12    35.06   126.80   106.82  \n",
       "max      55.45    43.83   200.38   232.07  "
      ]
     },
     "execution_count": 1022,
     "metadata": {},
     "output_type": "execute_result"
    }
   ],
   "source": [
    "# [px_close[x].dropna().tail() for x in px_close.columns]\n",
    "px_close.describe()\n",
    "# px_close.tail()"
   ]
  },
  {
   "cell_type": "code",
   "execution_count": 1023,
   "metadata": {
    "hidden": true
   },
   "outputs": [
    {
     "data": {
      "text/plain": [
       "'Ticker: AAPL'"
      ]
     },
     "execution_count": 1023,
     "metadata": {},
     "output_type": "execute_result"
    }
   ],
   "source": [
    "f'Ticker: {ticker}'"
   ]
  },
  {
   "cell_type": "code",
   "execution_count": 1024,
   "metadata": {
    "hidden": true
   },
   "outputs": [
    {
     "data": {
      "text/plain": [
       "2019-02-28 00:00:00-05:00   173.15\n",
       "2019-03-01 00:00:00-05:00   174.97\n",
       "2019-03-04 00:00:00-05:00   175.85\n",
       "2019-03-05 00:00:00-05:00   175.53\n",
       "2019-03-06 00:00:00-05:00   174.52\n",
       "Name: close, dtype: float64"
      ]
     },
     "execution_count": 1024,
     "metadata": {},
     "output_type": "execute_result"
    }
   ],
   "source": [
    "px = get_symbol_pricing(ticker, freq)\n",
    "px.close.tail()"
   ]
  },
  {
   "cell_type": "markdown",
   "metadata": {
    "heading_collapsed": true
   },
   "source": [
    "### Old code"
   ]
  },
  {
   "cell_type": "code",
   "execution_count": 8,
   "metadata": {
    "code_folding": [],
    "hidden": true
   },
   "outputs": [
    {
     "data": {
      "text/plain": [
       "[<matplotlib.lines.Line2D at 0x111469cf8>]"
      ]
     },
     "execution_count": 8,
     "metadata": {},
     "output_type": "execute_result"
    },
    {
     "data": {
      "image/png": "[encoded data removed]",
      "text/plain": [
       "<Figure size 432x288 with 1 Axes>"
      ]
     },
     "metadata": {
      "needs_background": "light"
     },
     "output_type": "display_data"
    }
   ],
   "source": [
    "# Test cumulative drawdowns and pulls\n",
    "n = 100\n",
    "r_w = np.random.randn(n).cumsum() + 100\n",
    "l_dd, h_dd, l_p, h_p = max_draw_pull(r_w)\n",
    "\n",
    "plt.plot(r_w)\n",
    "plt.plot(\n",
    "    [l_dd, h_dd], \n",
    "    [r_w[l_dd], r_w[h_dd],], \n",
    "    'o', color='Red', markersize=10)\n",
    "plt.plot(\n",
    "    [l_p, h_p], \n",
    "    [r_w[l_p], r_w[h_p]], \n",
    "    'o', color='Green', markersize=10)"
   ]
  },
  {
   "cell_type": "code",
   "execution_count": 1103,
   "metadata": {
    "hidden": true
   },
   "outputs": [],
   "source": [
    "# Retrieves historical pricing\n",
    "secpx = get_symbol_pricing(symbol, freq)\n",
    "secpx.set_index(secpx.index.astype(np.datetime64), inplace=True)"
   ]
  },
  {
   "cell_type": "code",
   "execution_count": 1110,
   "metadata": {
    "hidden": true
   },
   "outputs": [],
   "source": [
    "fwd_ss_ret = lambda x, df, arr: df.loc[[y for y in arr[x-1] if y in df.index.tolist()]].mean()"
   ]
  },
  {
   "cell_type": "code",
   "execution_count": 1111,
   "metadata": {
    "hidden": true
   },
   "outputs": [],
   "source": [
    "# seasonality analysis\n",
    "ss_df = closepx.pct_change().resample('M').sum().to_frame()\n",
    "ss_df['year'], ss_df['month'] = ss_df.index.year, ss_df.index.month\n",
    "ss_df = ss_df.pivot_table(index='year', columns='month').mean()\n",
    "ss_pos = [(x, (x+1) if not (x+1) // 12 else 0, \n",
    "     x+2 if not (x+2) // 12 else x - 10) for x in range(12)]\n",
    "\n",
    "# [fwd_ss_ret(x+1, ss_df['close'], ss_pos) for x in range(12)] # test"
   ]
  },
  {
   "cell_type": "code",
   "execution_count": 1112,
   "metadata": {
    "hidden": true
   },
   "outputs": [],
   "source": [
    "# apply seasonality, mean return of curr month plus next two\n",
    "secpx['month'] = secpx.index.month\n",
    "secpx['fwdSSRet'] = secpx.loc[:].month.apply(\n",
    "    fwd_ss_ret, args=(ss_df['close'], ss_pos,))"
   ]
  },
  {
   "cell_type": "code",
   "execution_count": null,
   "metadata": {
    "hidden": true
   },
   "outputs": [],
   "source": [
    "secpx.columns # all columns"
   ]
  },
  {
   "cell_type": "code",
   "execution_count": null,
   "metadata": {
    "hidden": true
   },
   "outputs": [],
   "source": [
    "# normalized columns for ML training, still has outliers\n",
    "ml_ds_cols = secpx.describe().loc['50%'][secpx.describe().loc['50%'] < 5].index.tolist()\n",
    "ml_ds_cols"
   ]
  },
  {
   "cell_type": "code",
   "execution_count": null,
   "metadata": {
    "hidden": true
   },
   "outputs": [],
   "source": [
    "# prepare ML dataset\n",
    "ml_ds = secpx[ml_ds_cols].copy()\n",
    "\n",
    "class_cols = ['fwdChg1w', 'fwdChg1m', 'fwdChg3m']\n",
    "cut_range = [-1, -0.05, .0, .02, .09, 1.]\n",
    "fwd_ret_labels = [\"bear\", \"short\", \"neutral\", \"long\", \"bull\"]\n",
    "\n",
    "for c in class_cols: ml_ds[c] = pd.cut(secpx[c], cut_range, labels=fwd_ret_labels)\n",
    "ml_ds.info()"
   ]
  },
  {
   "cell_type": "code",
   "execution_count": null,
   "metadata": {
    "hidden": true
   },
   "outputs": [],
   "source": [
    "# drop the predicting class with most nas\n",
    "ml_ds.dropna(inplace=True)\n",
    "ml_ds.info()"
   ]
  },
  {
   "cell_type": "code",
   "execution_count": null,
   "metadata": {
    "hidden": true
   },
   "outputs": [],
   "source": [
    "ml_ds.hist(figsize=(15,15));"
   ]
  },
  {
   "cell_type": "code",
   "execution_count": 622,
   "metadata": {
    "hidden": true
   },
   "outputs": [],
   "source": [
    "ml_ds.to_csv(csv_ext.format('co_price_mom_ds'), index=False)"
   ]
  }
 ],
 "metadata": {
  "kernelspec": {
   "display_name": "Python 3",
   "language": "python",
   "name": "python3"
  },
  "language_info": {
   "codemirror_mode": {
    "name": "ipython",
    "version": 3
   },
   "file_extension": ".py",
   "mimetype": "text/x-python",
   "name": "python",
   "nbconvert_exporter": "python",
   "pygments_lexer": "ipython3",
   "version": "3.7.2"
  }
 },
 "nbformat": 4,
 "nbformat_minor": 2
}
