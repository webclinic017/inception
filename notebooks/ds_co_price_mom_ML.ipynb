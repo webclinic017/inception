{
 "cells": [
  {
   "cell_type": "code",
   "execution_count": 336,
   "metadata": {},
   "outputs": [],
   "source": [
    "# imports\n",
    "%reload_ext autoreload\n",
    "%autoreload 2\n",
    "%matplotlib inline \n",
    "\n",
    "from utils.basic_utils import *\n",
    "from utils.pricing import *\n",
    "from utils.imports import *\n",
    "from utils.structured import *\n",
    "\n",
    "pd.options.display.float_format = '{:,.2f}'.format"
   ]
  },
  {
   "cell_type": "markdown",
   "metadata": {},
   "source": [
    "### Get universe pricing"
   ]
  },
  {
   "cell_type": "code",
   "execution_count": 339,
   "metadata": {
    "code_folding": [],
    "scrolled": true
   },
   "outputs": [],
   "source": [
    "# TAKES ~8m on 1230 companies, do once and persist\n",
    "excl_list = ['BHF', 'ERI']\n",
    "symbols_list = len(excl(config['companies'], excl_list))\n",
    "# %time px_close = get_mults_pricing(symbols_list)"
   ]
  },
  {
   "cell_type": "code",
   "execution_count": 1329,
   "metadata": {},
   "outputs": [],
   "source": [
    "os.makedirs('tmp', exist_ok=True)\n",
    "px_close.to_parquet('tmp/mult-co-px-ds')"
   ]
  },
  {
   "cell_type": "code",
   "execution_count": 17,
   "metadata": {},
   "outputs": [],
   "source": [
    "px_close = pd.read_parquet('tmp/mult-co-px-ds')"
   ]
  },
  {
   "cell_type": "code",
   "execution_count": 18,
   "metadata": {},
   "outputs": [
    {
     "name": "stdout",
     "output_type": "stream",
     "text": [
      "<class 'pandas.core.frame.DataFrame'>\n",
      "DatetimeIndex: 3906 entries, 2004-03-08 00:00:00-05:00 to 2019-03-07 00:00:00-05:00\n",
      "Columns: 1230 entries, 1810.HK to 0700.HK\n",
      "dtypes: float64(1230)\n",
      "memory usage: 36.7 MB\n"
     ]
    }
   ],
   "source": [
    "px_close.info()"
   ]
  },
  {
   "cell_type": "code",
   "execution_count": null,
   "metadata": {},
   "outputs": [],
   "source": [
    "px_close.describe()"
   ]
  },
  {
   "cell_type": "code",
   "execution_count": 39,
   "metadata": {},
   "outputs": [
    {
     "name": "stdout",
     "output_type": "stream",
     "text": [
      "Loading file quote/csv/2019-03-08\n",
      "Loading file summary-categories/assetProfile\n"
     ]
    }
   ],
   "source": [
    "quotes = load_csvs('quote_consol', tgt_date)\n",
    "quotes.set_index('symbol', drop=False, inplace=True)\n",
    "profile = load_csvs('summary_detail', ['assetProfile'])\n",
    "profile.set_index('symbol', drop=False, inplace=True)"
   ]
  },
  {
   "cell_type": "code",
   "execution_count": null,
   "metadata": {},
   "outputs": [],
   "source": [
    "quotes.describe(include='all')"
   ]
  },
  {
   "cell_type": "code",
   "execution_count": null,
   "metadata": {},
   "outputs": [],
   "source": [
    "profile.describe(include='all')\n",
    "show = ['symbol', 'sector', 'industry']\n",
    "# profile[profile.city == 'New York'][show].sort_values(by='sector')"
   ]
  },
  {
   "cell_type": "code",
   "execution_count": 35,
   "metadata": {},
   "outputs": [],
   "source": [
    "path_date = 'summary-categories/financialData/2019-03-07'\n",
    "summ_categ = pd.read_csv(csv_load(path_date))\n",
    "summ_categ.set_index('symbol', drop=False, inplace=True)"
   ]
  },
  {
   "cell_type": "code",
   "execution_count": null,
   "metadata": {
    "scrolled": true
   },
   "outputs": [],
   "source": [
    "summ_categ[summ_categ.symbol.isin(all_equities)].describe(include='all').T"
   ]
  },
  {
   "cell_type": "code",
   "execution_count": 70,
   "metadata": {},
   "outputs": [
    {
     "name": "stdout",
     "output_type": "stream",
     "text": [
      "Delta quote:  {'FBR', 'PD', 'SCG'}\n",
      "Delta reduced set:  {'FBR', 'PD', 'SCG'}\n",
      "Delta profile:  23 {'ROP', 'ESL', '9984.T', 'LRCX', 'KORS', 'IBKR', 'JBT', 'ODFL', 'TAP', 'WSM', 'ABMD', 'CBOE', 'PD', 'SHPG', 'BSTI', 'DNB', 'AMED', 'VVC', 'FBR', 'SCG', 'DRE', 'NFX', 'REGN'}\n"
     ]
    }
   ],
   "source": [
    "profile.drop(profile[profile.symbol.isin(excl_list)].index, inplace=True)\n",
    "\n",
    "all_equities = quotes[quotes.quoteType == 'EQUITY'].symbol.unique()\n",
    "print('Delta quote: ', set(symbols_list) - set(all_equities))\n",
    "# reduced subset, if any\n",
    "sub_equities = set(px_close.columns.tolist()).intersection(all_equities)\n",
    "print('Delta reduced set: ', set(symbols_list) - set(sub_equities))\n",
    "\n",
    "eqty_symbols = profile[profile.symbol.isin(sub_equities)].symbol.unique().tolist()\n",
    "delta_symb = set(symbols_list) - set(eqty_symbols)\n",
    "print('Delta profile: ', len(delta_symb), delta_symb)"
   ]
  },
  {
   "cell_type": "code",
   "execution_count": 71,
   "metadata": {},
   "outputs": [
    {
     "data": {
      "text/plain": [
       "'Sectors: 11, Industries: 136'"
      ]
     },
     "execution_count": 71,
     "metadata": {},
     "output_type": "execute_result"
    }
   ],
   "source": [
    "# Create a frame of market, sector and industry index (once)\n",
    "# for relative performance calculations\n",
    "sel_profiles = profile[profile.symbol.isin(all_equities)]\n",
    "sel_profiles.groupby(['sector', 'industry'])[['industry']].count()\n",
    "sectors = sel_profiles.sector.unique()\n",
    "industries = sel_profiles.industry.unique()\n",
    "\n",
    "f'Sectors: {sectors.shape[0]}, Industries: {industries.shape[0]}'"
   ]
  },
  {
   "cell_type": "code",
   "execution_count": 72,
   "metadata": {},
   "outputs": [
    {
     "name": "stdout",
     "output_type": "stream",
     "text": [
      "Equal weight index for: IDX, Long Name, 4, ['A', 'B']\n"
     ]
    }
   ],
   "source": [
    "print('Equal weight index for: %s, %s, %d, %s' % ('IDX', 'Long Name', 4, ['A', 'B']))"
   ]
  },
  {
   "cell_type": "code",
   "execution_count": 73,
   "metadata": {
    "code_folding": []
   },
   "outputs": [],
   "source": [
    "def eq_wgt_indices(px_df, col, group_list, tail=70**2, subset=None):\n",
    "    names = []\n",
    "    indices_df = pd.DataFrame()\n",
    "    for s in group_list:\n",
    "        idx_ticker = shorten_name(s)\n",
    "        names.append(idx_ticker)\n",
    "        symbols = profile[profile[col] == s].symbol.tolist()\n",
    "#         print('Equal weight index for: %s, %s, %d, %s\\n' \\\n",
    "#               % (idx_ticker, s, len(symbols), symbols))\n",
    "        if subset: symbols = list(set(symbols).intersection(all_equities))\n",
    "        index = get_ind_index(px_df[symbols], '1d', tail, idx_ticker)[[idx_ticker]]\n",
    "        if len(indices_df) == 0: \n",
    "            indices_df = pd.DataFrame(index)\n",
    "            continue\n",
    "        indices_df = pd.concat([indices_df, index], axis=1)\n",
    "    assert len(names) == len(set(names))\n",
    "    return indices_df"
   ]
  },
  {
   "cell_type": "code",
   "execution_count": 74,
   "metadata": {},
   "outputs": [
    {
     "name": "stdout",
     "output_type": "stream",
     "text": [
      "CPU times: user 11.1 s, sys: 2.12 s, total: 13.2 s\n",
      "Wall time: 3.97 s\n"
     ]
    }
   ],
   "source": [
    "%%time\n",
    "indices_df = pd.concat([\n",
    "    eq_wgt_indices(px_close, 'sector', sectors, subset=eqty_symbols),\n",
    "    eq_wgt_indices(px_close, 'industry', industries, subset=eqty_symbols),\n",
    "    to_index_form(get_symbol_pricing(bench, freq, 'close'), bench)\n",
    "], axis=1)"
   ]
  },
  {
   "cell_type": "code",
   "execution_count": 113,
   "metadata": {},
   "outputs": [],
   "source": [
    "def px_mom_co_feats(df, ind_df, \n",
    "                    groups=('Bench', 'Sector','Industry'), \n",
    "                    rolls=[20,60,120]):\n",
    "    ndf = pd.DataFrame()\n",
    "    c,o,l,h,v = df['close'], df['open'], df['low'], df['high'], df['volume']\n",
    "    bech_idx, sect_idx, ind_idx = groups[0], shorten_name(groups[1]), shorten_name(groups[2])\n",
    "\n",
    "    for r in rolls:\n",
    "        ndf['rsBench'+str(r)] = (c.pct_change(r) - ind_df[bech_idx].pct_change(r))\n",
    "        ndf['rsSect'+str(r)] = (c.pct_change(r) - ind_df[sect_idx].pct_change(r))\n",
    "        # rsInd meaninful only if len > 10         \n",
    "        ndf['rsInd'+str(r)] = (c.pct_change(r) - ind_df[ind_idx].pct_change(r))\n",
    "\n",
    "    # vol as a % of 10 and 60 day averages\n",
    "    ndf['volPctMa10'] = v / v.rolling(10).mean()\n",
    "    ndf['volPctMa60'] = v / v.rolling(60).mean()\n",
    "\n",
    "    # of std deviations for benchmark, sector, and industry\n",
    "    bench_pct_chg = ind_df[bech_idx].pct_change()\n",
    "    sect_pct_chg = ind_df[sect_idx].pct_change()\n",
    "    ind_pct_chg = ind_df[ind_idx].pct_change()\n",
    "    ndf['benchPctChgStds'] = bench_pct_chg.apply(sign_compare, args=(bench_pct_chg.std(),))\n",
    "    ndf['sectPctChgStds'] = sect_pct_chg.apply(sign_compare, args=(sect_pct_chg.std(),))\n",
    "    ndf['indPctChgStds'] = ind_pct_chg.apply(sign_compare, args=(ind_pct_chg.std(),))\n",
    "    \n",
    "    ndf['sector'] = groups[1]\n",
    "    ndf['industry'] = groups[2]\n",
    "    \n",
    "    return ndf"
   ]
  },
  {
   "cell_type": "markdown",
   "metadata": {
    "heading_collapsed": true
   },
   "source": [
    "### Feature construction"
   ]
  },
  {
   "cell_type": "code",
   "execution_count": 13,
   "metadata": {
    "hidden": true
   },
   "outputs": [],
   "source": [
    "# select only companies with at least 8 years of pricing\n",
    "treshold = (8 * 252)\n",
    "tail = (10 ** 4) # no tail\n",
    "count_df = px_close[eqty_symbols].describe().loc['count']\n",
    "ds_symbols = count_df[count_df > treshold].index.tolist()"
   ]
  },
  {
   "cell_type": "code",
   "execution_count": 14,
   "metadata": {
    "hidden": true
   },
   "outputs": [
    {
     "name": "stdout",
     "output_type": "stream",
     "text": [
      "AAP\n",
      "CPU times: user 119 ms, sys: 8.57 ms, total: 128 ms\n",
      "Wall time: 910 ms\n"
     ]
    }
   ],
   "source": [
    "%%time\n",
    "bench = '^GSPC'\n",
    "ticker = ds_symbols[5]\n",
    "print(ticker)\n",
    "sec_windows, stds = [5, 20, 60], 1\n",
    "pred_fwd_windows = [20, 60, 120]\n",
    "inv = incl_px = incl_name = False\n",
    "y_col = 'fwdReturn'\n",
    "\n",
    "df = get_symbol_pricing(ticker)\n",
    "ft_df = px_mom_feats(df, ticker, stds, inv, incl_px, sec_windows, incl_name)\n",
    "ft_df[y_col] = px_fwd_rets(\n",
    "    df.close, ticker, pred_fwd_windows).mean(axis=1, skipna=False)"
   ]
  },
  {
   "cell_type": "code",
   "execution_count": 1371,
   "metadata": {
    "hidden": true
   },
   "outputs": [
    {
     "data": {
      "text/html": [
       "<div>\n",
       "<style scoped>\n",
       "    .dataframe tbody tr th:only-of-type {\n",
       "        vertical-align: middle;\n",
       "    }\n",
       "\n",
       "    .dataframe tbody tr th {\n",
       "        vertical-align: top;\n",
       "    }\n",
       "\n",
       "    .dataframe thead th {\n",
       "        text-align: right;\n",
       "    }\n",
       "</style>\n",
       "<table border=\"1\" class=\"dataframe\">\n",
       "  <thead>\n",
       "    <tr style=\"text-align: right;\">\n",
       "      <th></th>\n",
       "      <th>PctChg1Stds</th>\n",
       "      <th>PctMA50</th>\n",
       "      <th>PctMA200</th>\n",
       "      <th>RollVol20</th>\n",
       "      <th>PctChg5</th>\n",
       "      <th>PctChg20</th>\n",
       "      <th>PctChg60</th>\n",
       "      <th>Pct52WkH</th>\n",
       "      <th>Pct52WkL</th>\n",
       "      <th>symbol</th>\n",
       "      <th>fwdReturn</th>\n",
       "    </tr>\n",
       "  </thead>\n",
       "  <tbody>\n",
       "    <tr>\n",
       "      <th>count</th>\n",
       "      <td>3,776.00</td>\n",
       "      <td>3,727.00</td>\n",
       "      <td>3,577.00</td>\n",
       "      <td>3,756.00</td>\n",
       "      <td>3,771.00</td>\n",
       "      <td>3,756.00</td>\n",
       "      <td>3,716.00</td>\n",
       "      <td>3,525.00</td>\n",
       "      <td>3,525.00</td>\n",
       "      <td>3776</td>\n",
       "      <td>3,656.00</td>\n",
       "    </tr>\n",
       "    <tr>\n",
       "      <th>unique</th>\n",
       "      <td>nan</td>\n",
       "      <td>nan</td>\n",
       "      <td>nan</td>\n",
       "      <td>nan</td>\n",
       "      <td>nan</td>\n",
       "      <td>nan</td>\n",
       "      <td>nan</td>\n",
       "      <td>nan</td>\n",
       "      <td>nan</td>\n",
       "      <td>1</td>\n",
       "      <td>nan</td>\n",
       "    </tr>\n",
       "    <tr>\n",
       "      <th>top</th>\n",
       "      <td>nan</td>\n",
       "      <td>nan</td>\n",
       "      <td>nan</td>\n",
       "      <td>nan</td>\n",
       "      <td>nan</td>\n",
       "      <td>nan</td>\n",
       "      <td>nan</td>\n",
       "      <td>nan</td>\n",
       "      <td>nan</td>\n",
       "      <td>AAP</td>\n",
       "      <td>nan</td>\n",
       "    </tr>\n",
       "    <tr>\n",
       "      <th>freq</th>\n",
       "      <td>nan</td>\n",
       "      <td>nan</td>\n",
       "      <td>nan</td>\n",
       "      <td>nan</td>\n",
       "      <td>nan</td>\n",
       "      <td>nan</td>\n",
       "      <td>nan</td>\n",
       "      <td>nan</td>\n",
       "      <td>nan</td>\n",
       "      <td>3776</td>\n",
       "      <td>nan</td>\n",
       "    </tr>\n",
       "    <tr>\n",
       "      <th>mean</th>\n",
       "      <td>0.03</td>\n",
       "      <td>1.01</td>\n",
       "      <td>1.06</td>\n",
       "      <td>0.29</td>\n",
       "      <td>0.00</td>\n",
       "      <td>0.01</td>\n",
       "      <td>0.04</td>\n",
       "      <td>0.87</td>\n",
       "      <td>1.38</td>\n",
       "      <td>NaN</td>\n",
       "      <td>0.05</td>\n",
       "    </tr>\n",
       "    <tr>\n",
       "      <th>std</th>\n",
       "      <td>0.77</td>\n",
       "      <td>0.07</td>\n",
       "      <td>0.15</td>\n",
       "      <td>0.15</td>\n",
       "      <td>0.04</td>\n",
       "      <td>0.08</td>\n",
       "      <td>0.15</td>\n",
       "      <td>0.12</td>\n",
       "      <td>0.25</td>\n",
       "      <td>NaN</td>\n",
       "      <td>0.13</td>\n",
       "    </tr>\n",
       "    <tr>\n",
       "      <th>min</th>\n",
       "      <td>-10.00</td>\n",
       "      <td>0.64</td>\n",
       "      <td>0.60</td>\n",
       "      <td>0.08</td>\n",
       "      <td>-0.28</td>\n",
       "      <td>-0.38</td>\n",
       "      <td>-0.43</td>\n",
       "      <td>0.45</td>\n",
       "      <td>1.00</td>\n",
       "      <td>NaN</td>\n",
       "      <td>-0.35</td>\n",
       "    </tr>\n",
       "    <tr>\n",
       "      <th>25%</th>\n",
       "      <td>0.00</td>\n",
       "      <td>0.97</td>\n",
       "      <td>0.96</td>\n",
       "      <td>0.19</td>\n",
       "      <td>-0.02</td>\n",
       "      <td>-0.03</td>\n",
       "      <td>-0.06</td>\n",
       "      <td>0.80</td>\n",
       "      <td>1.18</td>\n",
       "      <td>NaN</td>\n",
       "      <td>-0.04</td>\n",
       "    </tr>\n",
       "    <tr>\n",
       "      <th>50%</th>\n",
       "      <td>0.00</td>\n",
       "      <td>1.02</td>\n",
       "      <td>1.06</td>\n",
       "      <td>0.25</td>\n",
       "      <td>0.00</td>\n",
       "      <td>0.01</td>\n",
       "      <td>0.05</td>\n",
       "      <td>0.90</td>\n",
       "      <td>1.34</td>\n",
       "      <td>NaN</td>\n",
       "      <td>0.05</td>\n",
       "    </tr>\n",
       "    <tr>\n",
       "      <th>75%</th>\n",
       "      <td>0.00</td>\n",
       "      <td>1.06</td>\n",
       "      <td>1.15</td>\n",
       "      <td>0.33</td>\n",
       "      <td>0.02</td>\n",
       "      <td>0.06</td>\n",
       "      <td>0.15</td>\n",
       "      <td>0.97</td>\n",
       "      <td>1.54</td>\n",
       "      <td>NaN</td>\n",
       "      <td>0.13</td>\n",
       "    </tr>\n",
       "    <tr>\n",
       "      <th>max</th>\n",
       "      <td>8.00</td>\n",
       "      <td>1.22</td>\n",
       "      <td>1.40</td>\n",
       "      <td>1.17</td>\n",
       "      <td>0.24</td>\n",
       "      <td>0.29</td>\n",
       "      <td>0.51</td>\n",
       "      <td>1.00</td>\n",
       "      <td>2.15</td>\n",
       "      <td>NaN</td>\n",
       "      <td>0.43</td>\n",
       "    </tr>\n",
       "  </tbody>\n",
       "</table>\n",
       "</div>"
      ],
      "text/plain": [
       "        PctChg1Stds  PctMA50  PctMA200  RollVol20  PctChg5  PctChg20  \\\n",
       "count      3,776.00 3,727.00  3,577.00   3,756.00 3,771.00  3,756.00   \n",
       "unique          nan      nan       nan        nan      nan       nan   \n",
       "top             nan      nan       nan        nan      nan       nan   \n",
       "freq            nan      nan       nan        nan      nan       nan   \n",
       "mean           0.03     1.01      1.06       0.29     0.00      0.01   \n",
       "std            0.77     0.07      0.15       0.15     0.04      0.08   \n",
       "min          -10.00     0.64      0.60       0.08    -0.28     -0.38   \n",
       "25%            0.00     0.97      0.96       0.19    -0.02     -0.03   \n",
       "50%            0.00     1.02      1.06       0.25     0.00      0.01   \n",
       "75%            0.00     1.06      1.15       0.33     0.02      0.06   \n",
       "max            8.00     1.22      1.40       1.17     0.24      0.29   \n",
       "\n",
       "        PctChg60  Pct52WkH  Pct52WkL symbol  fwdReturn  \n",
       "count   3,716.00  3,525.00  3,525.00   3776   3,656.00  \n",
       "unique       nan       nan       nan      1        nan  \n",
       "top          nan       nan       nan    AAP        nan  \n",
       "freq         nan       nan       nan   3776        nan  \n",
       "mean        0.04      0.87      1.38    NaN       0.05  \n",
       "std         0.15      0.12      0.25    NaN       0.13  \n",
       "min        -0.43      0.45      1.00    NaN      -0.35  \n",
       "25%        -0.06      0.80      1.18    NaN      -0.04  \n",
       "50%         0.05      0.90      1.34    NaN       0.05  \n",
       "75%         0.15      0.97      1.54    NaN       0.13  \n",
       "max         0.51      1.00      2.15    NaN       0.43  "
      ]
     },
     "metadata": {},
     "output_type": "display_data"
    }
   ],
   "source": [
    "display_all(ft_df.describe(include='all'))"
   ]
  },
  {
   "cell_type": "code",
   "execution_count": 1372,
   "metadata": {
    "hidden": true
   },
   "outputs": [
    {
     "data": {
      "text/plain": [
       "<matplotlib.axes._subplots.AxesSubplot at 0x12eb525c0>"
      ]
     },
     "execution_count": 1372,
     "metadata": {},
     "output_type": "execute_result"
    },
    {
     "data": {
      "image/png": "[encoded data removed]",
      "text/plain": [
       "<Figure size 432x288 with 1 Axes>"
      ]
     },
     "metadata": {
      "needs_background": "light"
     },
     "output_type": "display_data"
    }
   ],
   "source": [
    "Y = px_fwd_rets(df.close, ticker, pred_fwd_windows)\n",
    "Y.mean(axis=1).plot.hist(bins=50)"
   ]
  },
  {
   "cell_type": "code",
   "execution_count": 1373,
   "metadata": {
    "hidden": true
   },
   "outputs": [
    {
     "data": {
      "text/plain": [
       "((3906,), (3775,))"
      ]
     },
     "execution_count": 1373,
     "metadata": {},
     "output_type": "execute_result"
    }
   ],
   "source": [
    "px_close[ticker].shape, px.close.shape"
   ]
  },
  {
   "cell_type": "code",
   "execution_count": 1374,
   "metadata": {
    "hidden": true
   },
   "outputs": [
    {
     "data": {
      "text/plain": [
       "2019-03-01 00:00:00-05:00   160.62\n",
       "2019-03-04 00:00:00-05:00   158.40\n",
       "2019-03-05 00:00:00-05:00   157.31\n",
       "2019-03-06 00:00:00-05:00   157.97\n",
       "2019-03-07 00:00:00-05:00   154.10\n",
       "Name: AAP, dtype: float64"
      ]
     },
     "execution_count": 1374,
     "metadata": {},
     "output_type": "execute_result"
    }
   ],
   "source": [
    "px_close[ticker].tail()"
   ]
  },
  {
   "cell_type": "code",
   "execution_count": 1375,
   "metadata": {
    "hidden": true
   },
   "outputs": [
    {
     "data": {
      "text/html": [
       "<div>\n",
       "<style scoped>\n",
       "    .dataframe tbody tr th:only-of-type {\n",
       "        vertical-align: middle;\n",
       "    }\n",
       "\n",
       "    .dataframe tbody tr th {\n",
       "        vertical-align: top;\n",
       "    }\n",
       "\n",
       "    .dataframe thead tr th {\n",
       "        text-align: left;\n",
       "    }\n",
       "\n",
       "    .dataframe thead tr:last-of-type th {\n",
       "        text-align: right;\n",
       "    }\n",
       "</style>\n",
       "<table border=\"1\" class=\"dataframe\">\n",
       "  <thead>\n",
       "    <tr>\n",
       "      <th></th>\n",
       "      <th colspan=\"8\" halign=\"left\">AAP</th>\n",
       "    </tr>\n",
       "    <tr>\n",
       "      <th></th>\n",
       "      <th>count</th>\n",
       "      <th>mean</th>\n",
       "      <th>std</th>\n",
       "      <th>min</th>\n",
       "      <th>25%</th>\n",
       "      <th>50%</th>\n",
       "      <th>75%</th>\n",
       "      <th>max</th>\n",
       "    </tr>\n",
       "    <tr>\n",
       "      <th>weekday</th>\n",
       "      <th></th>\n",
       "      <th></th>\n",
       "      <th></th>\n",
       "      <th></th>\n",
       "      <th></th>\n",
       "      <th></th>\n",
       "      <th></th>\n",
       "      <th></th>\n",
       "    </tr>\n",
       "  </thead>\n",
       "  <tbody>\n",
       "    <tr>\n",
       "      <th>0</th>\n",
       "      <td>707.00</td>\n",
       "      <td>81.62</td>\n",
       "      <td>49.28</td>\n",
       "      <td>22.50</td>\n",
       "      <td>39.25</td>\n",
       "      <td>65.97</td>\n",
       "      <td>127.24</td>\n",
       "      <td>200.38</td>\n",
       "    </tr>\n",
       "    <tr>\n",
       "      <th>1</th>\n",
       "      <td>773.00</td>\n",
       "      <td>81.81</td>\n",
       "      <td>49.40</td>\n",
       "      <td>22.64</td>\n",
       "      <td>39.03</td>\n",
       "      <td>65.99</td>\n",
       "      <td>126.79</td>\n",
       "      <td>198.70</td>\n",
       "    </tr>\n",
       "    <tr>\n",
       "      <th>2</th>\n",
       "      <td>777.00</td>\n",
       "      <td>81.62</td>\n",
       "      <td>49.36</td>\n",
       "      <td>22.91</td>\n",
       "      <td>38.93</td>\n",
       "      <td>66.13</td>\n",
       "      <td>126.46</td>\n",
       "      <td>199.34</td>\n",
       "    </tr>\n",
       "    <tr>\n",
       "      <th>3</th>\n",
       "      <td>763.00</td>\n",
       "      <td>81.76</td>\n",
       "      <td>49.24</td>\n",
       "      <td>22.40</td>\n",
       "      <td>39.30</td>\n",
       "      <td>66.18</td>\n",
       "      <td>126.68</td>\n",
       "      <td>200.34</td>\n",
       "    </tr>\n",
       "    <tr>\n",
       "      <th>4</th>\n",
       "      <td>756.00</td>\n",
       "      <td>81.89</td>\n",
       "      <td>49.32</td>\n",
       "      <td>22.10</td>\n",
       "      <td>39.31</td>\n",
       "      <td>66.21</td>\n",
       "      <td>127.50</td>\n",
       "      <td>198.72</td>\n",
       "    </tr>\n",
       "    <tr>\n",
       "      <th>5</th>\n",
       "      <td>0.00</td>\n",
       "      <td>nan</td>\n",
       "      <td>nan</td>\n",
       "      <td>nan</td>\n",
       "      <td>nan</td>\n",
       "      <td>nan</td>\n",
       "      <td>nan</td>\n",
       "      <td>nan</td>\n",
       "    </tr>\n",
       "  </tbody>\n",
       "</table>\n",
       "</div>"
      ],
      "text/plain": [
       "           AAP                                            \n",
       "         count  mean   std   min   25%   50%    75%    max\n",
       "weekday                                                   \n",
       "0       707.00 81.62 49.28 22.50 39.25 65.97 127.24 200.38\n",
       "1       773.00 81.81 49.40 22.64 39.03 65.99 126.79 198.70\n",
       "2       777.00 81.62 49.36 22.91 38.93 66.13 126.46 199.34\n",
       "3       763.00 81.76 49.24 22.40 39.30 66.18 126.68 200.34\n",
       "4       756.00 81.89 49.32 22.10 39.31 66.21 127.50 198.72\n",
       "5         0.00   nan   nan   nan   nan   nan    nan    nan"
      ]
     },
     "execution_count": 1375,
     "metadata": {},
     "output_type": "execute_result"
    }
   ],
   "source": [
    "df = px_close[[ticker]].copy()\n",
    "# df.set_index(df.index.astype(np.datetime64), inplace=True)\n",
    "df.loc[:, 'weekday'] = df.index.weekday\n",
    "df.weekday.unique()\n",
    "df.tail(60)\n",
    "df.groupby('weekday').describe()"
   ]
  },
  {
   "cell_type": "code",
   "execution_count": 63,
   "metadata": {
    "hidden": true
   },
   "outputs": [
    {
     "ename": "NameError",
     "evalue": "name 'indices_df' is not defined",
     "output_type": "error",
     "traceback": [
      "\u001b[0;31m---------------------------------------------------------------------------\u001b[0m",
      "\u001b[0;31mNameError\u001b[0m                                 Traceback (most recent call last)",
      "\u001b[0;32m<timed exec>\u001b[0m in \u001b[0;36m<module>\u001b[0;34m\u001b[0m\n",
      "\u001b[0;31mNameError\u001b[0m: name 'indices_df' is not defined"
     ]
    }
   ],
   "source": [
    "%%time\n",
    "df = get_symbol_pricing(ticker)\n",
    "co = px_mom_co_feats(\n",
    "    df, indices_df, \n",
    "    [bench] + list(profile.loc[ticker, ['sector', 'industry']]))"
   ]
  },
  {
   "cell_type": "code",
   "execution_count": 1393,
   "metadata": {
    "hidden": true
   },
   "outputs": [
    {
     "name": "stdout",
     "output_type": "stream",
     "text": [
      "<class 'pandas.core.frame.DataFrame'>\n",
      "DatetimeIndex: 3906 entries, 2004-03-08 00:00:00-05:00 to 2019-03-07 00:00:00-05:00\n",
      "Data columns (total 13 columns):\n",
      "rsBench20     3756 non-null float64\n",
      "rsSect20      3756 non-null float64\n",
      "rsInd20       3756 non-null float64\n",
      "rsBench60     3716 non-null float64\n",
      "rsSect60      3716 non-null float64\n",
      "rsInd60       3716 non-null float64\n",
      "rsBench120    3656 non-null float64\n",
      "rsSect120     3656 non-null float64\n",
      "rsInd120      3656 non-null float64\n",
      "volPctMa10    3767 non-null float64\n",
      "volPctMa60    3717 non-null float64\n",
      "sector        3906 non-null object\n",
      "industry      3906 non-null object\n",
      "dtypes: float64(11), object(2)\n",
      "memory usage: 427.2+ KB\n"
     ]
    }
   ],
   "source": [
    "co.info()"
   ]
  },
  {
   "cell_type": "code",
   "execution_count": 60,
   "metadata": {
    "hidden": true
   },
   "outputs": [
    {
     "data": {
      "text/plain": [
       "'USD'"
      ]
     },
     "execution_count": 60,
     "metadata": {},
     "output_type": "execute_result"
    }
   ],
   "source": [
    "list(profile.loc[ticker, ['country', 'state', 'city']])\n",
    "quotes.loc[ticker,:].currency"
   ]
  },
  {
   "cell_type": "markdown",
   "metadata": {},
   "source": [
    "### Full universe dataset creation"
   ]
  },
  {
   "cell_type": "code",
   "execution_count": 272,
   "metadata": {},
   "outputs": [
    {
     "name": "stdout",
     "output_type": "stream",
     "text": [
      "100%|██████████| 1207/1207 [39:29<00:00,  3.33s/it]\n",
      "CPU times: user 1h 23min 47s, sys: 41min 47s, total: 2h 5min 34s\n",
      "Wall time: 39min 29s\n"
     ]
    }
   ],
   "source": [
    "%%time\n",
    "# Take a while ~40min to run on 1200 companies\n",
    "df_raw = pd.DataFrame()\n",
    "for ticker in tqdm(eqty_symbols):\n",
    "    \n",
    "    df = get_symbol_pricing(ticker)\n",
    "    ft_df = px_mom_feats(\n",
    "        df, ticker, stds, inv, incl_px, \n",
    "        sec_windows, incl_name)\n",
    "    \n",
    "    ft_df[y_col] = px_fwd_rets(\n",
    "        df.close, ticker, pred_fwd_windows).mean(axis=1)\n",
    "    \n",
    "    co = px_mom_co_feats(\n",
    "        df, indices_df, \n",
    "        [bench] + list(profile.loc[ticker, ['sector', 'industry']]))\n",
    "\n",
    "    ft_df.loc[:, 'country'] = profile.loc[ticker,:].country\n",
    "    ft_df.loc[:, 'currency'] = quotes.loc[ticker,:].currency\n",
    "    \n",
    "    ft_df = pd.concat([ft_df, co], axis=1)\n",
    "    df_raw = df_raw.append(ft_df)"
   ]
  },
  {
   "cell_type": "code",
   "execution_count": 329,
   "metadata": {},
   "outputs": [],
   "source": [
    "os.makedirs('tmp', exist_ok=True)\n",
    "df_raw.to_parquet('tmp/company-px_mom-raw')"
   ]
  },
  {
   "cell_type": "code",
   "execution_count": 312,
   "metadata": {},
   "outputs": [],
   "source": [
    "df_raw = pd.read_parquet('tmp/company-px_mom-raw')"
   ]
  },
  {
   "cell_type": "code",
   "execution_count": 340,
   "metadata": {},
   "outputs": [
    {
     "data": {
      "image/png": "[encoded data removed]",
      "text/plain": [
       "<Figure size 432x288 with 1 Axes>"
      ]
     },
     "metadata": {
      "needs_background": "light"
     },
     "output_type": "display_data"
    }
   ],
   "source": [
    "df_raw[y_col].plot.hist(bins=50);"
   ]
  },
  {
   "cell_type": "code",
   "execution_count": 341,
   "metadata": {},
   "outputs": [
    {
     "name": "stdout",
     "output_type": "stream",
     "text": [
      "<class 'pandas.core.frame.DataFrame'>\n",
      "DatetimeIndex: 362100 entries, 2004-03-08 00:00:00-05:00 to 2019-02-18 00:00:00-05:00\n",
      "Data columns (total 29 columns):\n",
      "PctChg1Stds        167074 non-null float64\n",
      "PctMA50            165744 non-null float64\n",
      "PctMA200           164810 non-null float64\n",
      "RollVol20          166870 non-null float64\n",
      "PctChg5            167015 non-null float64\n",
      "PctChg20           166870 non-null float64\n",
      "PctChg60           165650 non-null float64\n",
      "Pct52WkH           163563 non-null float64\n",
      "Pct52WkL           163563 non-null float64\n",
      "symbol             167074 non-null object\n",
      "fwdReturn          167071 non-null float64\n",
      "country            167074 non-null object\n",
      "currency           167074 non-null object\n",
      "rsBench20          166870 non-null float64\n",
      "rsSect20           166870 non-null float64\n",
      "rsInd20            166870 non-null float64\n",
      "rsBench60          165650 non-null float64\n",
      "rsSect60           165650 non-null float64\n",
      "rsInd60            165650 non-null float64\n",
      "rsBench120         165261 non-null float64\n",
      "rsSect120          165261 non-null float64\n",
      "rsInd120           165261 non-null float64\n",
      "volPctMa10         166796 non-null float64\n",
      "volPctMa60         165610 non-null float64\n",
      "benchPctChgStds    362100 non-null float64\n",
      "sectPctChgStds     362100 non-null float64\n",
      "indPctChgStds      362100 non-null float64\n",
      "sector             362100 non-null object\n",
      "industry           362100 non-null object\n",
      "dtypes: float64(24), object(5)\n",
      "memory usage: 92.9+ MB\n"
     ]
    }
   ],
   "source": [
    "df_raw.info()"
   ]
  },
  {
   "cell_type": "code",
   "execution_count": 342,
   "metadata": {
    "scrolled": true
   },
   "outputs": [
    {
     "data": {
      "text/html": [
       "<div>\n",
       "<style scoped>\n",
       "    .dataframe tbody tr th:only-of-type {\n",
       "        vertical-align: middle;\n",
       "    }\n",
       "\n",
       "    .dataframe tbody tr th {\n",
       "        vertical-align: top;\n",
       "    }\n",
       "\n",
       "    .dataframe thead th {\n",
       "        text-align: right;\n",
       "    }\n",
       "</style>\n",
       "<table border=\"1\" class=\"dataframe\">\n",
       "  <thead>\n",
       "    <tr style=\"text-align: right;\">\n",
       "      <th></th>\n",
       "      <th>PctChg1Stds</th>\n",
       "      <th>PctMA50</th>\n",
       "      <th>PctMA200</th>\n",
       "      <th>RollVol20</th>\n",
       "      <th>PctChg5</th>\n",
       "      <th>PctChg20</th>\n",
       "      <th>PctChg60</th>\n",
       "      <th>Pct52WkH</th>\n",
       "      <th>Pct52WkL</th>\n",
       "      <th>symbol</th>\n",
       "      <th>...</th>\n",
       "      <th>rsBench120</th>\n",
       "      <th>rsSect120</th>\n",
       "      <th>rsInd120</th>\n",
       "      <th>volPctMa10</th>\n",
       "      <th>volPctMa60</th>\n",
       "      <th>benchPctChgStds</th>\n",
       "      <th>sectPctChgStds</th>\n",
       "      <th>indPctChgStds</th>\n",
       "      <th>sector</th>\n",
       "      <th>industry</th>\n",
       "    </tr>\n",
       "  </thead>\n",
       "  <tbody>\n",
       "    <tr>\n",
       "      <th>count</th>\n",
       "      <td>167,074.00</td>\n",
       "      <td>165,744.00</td>\n",
       "      <td>164,810.00</td>\n",
       "      <td>166,870.00</td>\n",
       "      <td>167,015.00</td>\n",
       "      <td>166,870.00</td>\n",
       "      <td>165,650.00</td>\n",
       "      <td>163,563.00</td>\n",
       "      <td>163,563.00</td>\n",
       "      <td>167074</td>\n",
       "      <td>...</td>\n",
       "      <td>165,261.00</td>\n",
       "      <td>165,261.00</td>\n",
       "      <td>165,261.00</td>\n",
       "      <td>166,796.00</td>\n",
       "      <td>165,610.00</td>\n",
       "      <td>362,100.00</td>\n",
       "      <td>362,100.00</td>\n",
       "      <td>362,100.00</td>\n",
       "      <td>362100</td>\n",
       "      <td>362100</td>\n",
       "    </tr>\n",
       "    <tr>\n",
       "      <th>unique</th>\n",
       "      <td>nan</td>\n",
       "      <td>nan</td>\n",
       "      <td>nan</td>\n",
       "      <td>nan</td>\n",
       "      <td>nan</td>\n",
       "      <td>nan</td>\n",
       "      <td>nan</td>\n",
       "      <td>nan</td>\n",
       "      <td>nan</td>\n",
       "      <td>1037</td>\n",
       "      <td>...</td>\n",
       "      <td>nan</td>\n",
       "      <td>nan</td>\n",
       "      <td>nan</td>\n",
       "      <td>nan</td>\n",
       "      <td>nan</td>\n",
       "      <td>nan</td>\n",
       "      <td>nan</td>\n",
       "      <td>nan</td>\n",
       "      <td>11</td>\n",
       "      <td>136</td>\n",
       "    </tr>\n",
       "    <tr>\n",
       "      <th>top</th>\n",
       "      <td>nan</td>\n",
       "      <td>nan</td>\n",
       "      <td>nan</td>\n",
       "      <td>nan</td>\n",
       "      <td>nan</td>\n",
       "      <td>nan</td>\n",
       "      <td>nan</td>\n",
       "      <td>nan</td>\n",
       "      <td>nan</td>\n",
       "      <td>0700.HK</td>\n",
       "      <td>...</td>\n",
       "      <td>nan</td>\n",
       "      <td>nan</td>\n",
       "      <td>nan</td>\n",
       "      <td>nan</td>\n",
       "      <td>nan</td>\n",
       "      <td>nan</td>\n",
       "      <td>nan</td>\n",
       "      <td>nan</td>\n",
       "      <td>Technology</td>\n",
       "      <td>Banks - Regional - US</td>\n",
       "    </tr>\n",
       "    <tr>\n",
       "      <th>freq</th>\n",
       "      <td>nan</td>\n",
       "      <td>nan</td>\n",
       "      <td>nan</td>\n",
       "      <td>nan</td>\n",
       "      <td>nan</td>\n",
       "      <td>nan</td>\n",
       "      <td>nan</td>\n",
       "      <td>nan</td>\n",
       "      <td>nan</td>\n",
       "      <td>243</td>\n",
       "      <td>...</td>\n",
       "      <td>nan</td>\n",
       "      <td>nan</td>\n",
       "      <td>nan</td>\n",
       "      <td>nan</td>\n",
       "      <td>nan</td>\n",
       "      <td>nan</td>\n",
       "      <td>nan</td>\n",
       "      <td>nan</td>\n",
       "      <td>66600</td>\n",
       "      <td>17700</td>\n",
       "    </tr>\n",
       "    <tr>\n",
       "      <th>mean</th>\n",
       "      <td>0.05</td>\n",
       "      <td>1.03</td>\n",
       "      <td>1.07</td>\n",
       "      <td>0.45</td>\n",
       "      <td>0.01</td>\n",
       "      <td>0.04</td>\n",
       "      <td>0.11</td>\n",
       "      <td>0.73</td>\n",
       "      <td>1.88</td>\n",
       "      <td>NaN</td>\n",
       "      <td>...</td>\n",
       "      <td>0.11</td>\n",
       "      <td>0.04</td>\n",
       "      <td>0.04</td>\n",
       "      <td>0.97</td>\n",
       "      <td>0.94</td>\n",
       "      <td>0.01</td>\n",
       "      <td>0.04</td>\n",
       "      <td>0.03</td>\n",
       "      <td>NaN</td>\n",
       "      <td>NaN</td>\n",
       "    </tr>\n",
       "    <tr>\n",
       "      <th>std</th>\n",
       "      <td>0.99</td>\n",
       "      <td>0.13</td>\n",
       "      <td>0.27</td>\n",
       "      <td>0.31</td>\n",
       "      <td>0.07</td>\n",
       "      <td>0.15</td>\n",
       "      <td>0.32</td>\n",
       "      <td>0.22</td>\n",
       "      <td>1.42</td>\n",
       "      <td>NaN</td>\n",
       "      <td>...</td>\n",
       "      <td>0.53</td>\n",
       "      <td>0.52</td>\n",
       "      <td>0.49</td>\n",
       "      <td>0.48</td>\n",
       "      <td>0.72</td>\n",
       "      <td>0.70</td>\n",
       "      <td>0.66</td>\n",
       "      <td>0.66</td>\n",
       "      <td>NaN</td>\n",
       "      <td>NaN</td>\n",
       "    </tr>\n",
       "    <tr>\n",
       "      <th>min</th>\n",
       "      <td>-15.00</td>\n",
       "      <td>0.14</td>\n",
       "      <td>0.03</td>\n",
       "      <td>0.00</td>\n",
       "      <td>-0.76</td>\n",
       "      <td>-0.82</td>\n",
       "      <td>-0.90</td>\n",
       "      <td>0.01</td>\n",
       "      <td>1.00</td>\n",
       "      <td>NaN</td>\n",
       "      <td>...</td>\n",
       "      <td>-1.23</td>\n",
       "      <td>-1.12</td>\n",
       "      <td>-1.78</td>\n",
       "      <td>0.00</td>\n",
       "      <td>0.00</td>\n",
       "      <td>-3.00</td>\n",
       "      <td>-5.00</td>\n",
       "      <td>-7.00</td>\n",
       "      <td>NaN</td>\n",
       "      <td>NaN</td>\n",
       "    </tr>\n",
       "    <tr>\n",
       "      <th>25%</th>\n",
       "      <td>0.00</td>\n",
       "      <td>0.98</td>\n",
       "      <td>0.93</td>\n",
       "      <td>0.26</td>\n",
       "      <td>-0.02</td>\n",
       "      <td>-0.03</td>\n",
       "      <td>-0.03</td>\n",
       "      <td>0.58</td>\n",
       "      <td>1.30</td>\n",
       "      <td>NaN</td>\n",
       "      <td>...</td>\n",
       "      <td>-0.12</td>\n",
       "      <td>-0.17</td>\n",
       "      <td>-0.14</td>\n",
       "      <td>0.70</td>\n",
       "      <td>0.61</td>\n",
       "      <td>0.00</td>\n",
       "      <td>0.00</td>\n",
       "      <td>0.00</td>\n",
       "      <td>NaN</td>\n",
       "      <td>NaN</td>\n",
       "    </tr>\n",
       "    <tr>\n",
       "      <th>50%</th>\n",
       "      <td>0.00</td>\n",
       "      <td>1.03</td>\n",
       "      <td>1.08</td>\n",
       "      <td>0.37</td>\n",
       "      <td>0.01</td>\n",
       "      <td>0.03</td>\n",
       "      <td>0.08</td>\n",
       "      <td>0.78</td>\n",
       "      <td>1.58</td>\n",
       "      <td>NaN</td>\n",
       "      <td>...</td>\n",
       "      <td>0.03</td>\n",
       "      <td>-0.03</td>\n",
       "      <td>-0.01</td>\n",
       "      <td>0.90</td>\n",
       "      <td>0.82</td>\n",
       "      <td>0.00</td>\n",
       "      <td>0.00</td>\n",
       "      <td>0.00</td>\n",
       "      <td>NaN</td>\n",
       "      <td>NaN</td>\n",
       "    </tr>\n",
       "    <tr>\n",
       "      <th>75%</th>\n",
       "      <td>0.00</td>\n",
       "      <td>1.09</td>\n",
       "      <td>1.22</td>\n",
       "      <td>0.54</td>\n",
       "      <td>0.04</td>\n",
       "      <td>0.09</td>\n",
       "      <td>0.21</td>\n",
       "      <td>0.92</td>\n",
       "      <td>2.06</td>\n",
       "      <td>NaN</td>\n",
       "      <td>...</td>\n",
       "      <td>0.22</td>\n",
       "      <td>0.15</td>\n",
       "      <td>0.13</td>\n",
       "      <td>1.13</td>\n",
       "      <td>1.10</td>\n",
       "      <td>0.00</td>\n",
       "      <td>0.00</td>\n",
       "      <td>0.00</td>\n",
       "      <td>NaN</td>\n",
       "      <td>NaN</td>\n",
       "    </tr>\n",
       "    <tr>\n",
       "      <th>max</th>\n",
       "      <td>30.00</td>\n",
       "      <td>4.75</td>\n",
       "      <td>4.35</td>\n",
       "      <td>6.26</td>\n",
       "      <td>4.43</td>\n",
       "      <td>4.05</td>\n",
       "      <td>12.81</td>\n",
       "      <td>1.00</td>\n",
       "      <td>62.00</td>\n",
       "      <td>NaN</td>\n",
       "      <td>...</td>\n",
       "      <td>29.85</td>\n",
       "      <td>29.77</td>\n",
       "      <td>29.63</td>\n",
       "      <td>10.00</td>\n",
       "      <td>60.00</td>\n",
       "      <td>3.00</td>\n",
       "      <td>4.00</td>\n",
       "      <td>29.00</td>\n",
       "      <td>NaN</td>\n",
       "      <td>NaN</td>\n",
       "    </tr>\n",
       "  </tbody>\n",
       "</table>\n",
       "<p>11 rows × 29 columns</p>\n",
       "</div>"
      ],
      "text/plain": [
       "        PctChg1Stds    PctMA50   PctMA200  RollVol20    PctChg5   PctChg20  \\\n",
       "count    167,074.00 165,744.00 164,810.00 166,870.00 167,015.00 166,870.00   \n",
       "unique          nan        nan        nan        nan        nan        nan   \n",
       "top             nan        nan        nan        nan        nan        nan   \n",
       "freq            nan        nan        nan        nan        nan        nan   \n",
       "mean           0.05       1.03       1.07       0.45       0.01       0.04   \n",
       "std            0.99       0.13       0.27       0.31       0.07       0.15   \n",
       "min          -15.00       0.14       0.03       0.00      -0.76      -0.82   \n",
       "25%            0.00       0.98       0.93       0.26      -0.02      -0.03   \n",
       "50%            0.00       1.03       1.08       0.37       0.01       0.03   \n",
       "75%            0.00       1.09       1.22       0.54       0.04       0.09   \n",
       "max           30.00       4.75       4.35       6.26       4.43       4.05   \n",
       "\n",
       "         PctChg60   Pct52WkH   Pct52WkL   symbol  ...  rsBench120  rsSect120  \\\n",
       "count  165,650.00 163,563.00 163,563.00   167074  ...  165,261.00 165,261.00   \n",
       "unique        nan        nan        nan     1037  ...         nan        nan   \n",
       "top           nan        nan        nan  0700.HK  ...         nan        nan   \n",
       "freq          nan        nan        nan      243  ...         nan        nan   \n",
       "mean         0.11       0.73       1.88      NaN  ...        0.11       0.04   \n",
       "std          0.32       0.22       1.42      NaN  ...        0.53       0.52   \n",
       "min         -0.90       0.01       1.00      NaN  ...       -1.23      -1.12   \n",
       "25%         -0.03       0.58       1.30      NaN  ...       -0.12      -0.17   \n",
       "50%          0.08       0.78       1.58      NaN  ...        0.03      -0.03   \n",
       "75%          0.21       0.92       2.06      NaN  ...        0.22       0.15   \n",
       "max         12.81       1.00      62.00      NaN  ...       29.85      29.77   \n",
       "\n",
       "         rsInd120  volPctMa10  volPctMa60  benchPctChgStds  sectPctChgStds  \\\n",
       "count  165,261.00  166,796.00  165,610.00       362,100.00      362,100.00   \n",
       "unique        nan         nan         nan              nan             nan   \n",
       "top           nan         nan         nan              nan             nan   \n",
       "freq          nan         nan         nan              nan             nan   \n",
       "mean         0.04        0.97        0.94             0.01            0.04   \n",
       "std          0.49        0.48        0.72             0.70            0.66   \n",
       "min         -1.78        0.00        0.00            -3.00           -5.00   \n",
       "25%         -0.14        0.70        0.61             0.00            0.00   \n",
       "50%         -0.01        0.90        0.82             0.00            0.00   \n",
       "75%          0.13        1.13        1.10             0.00            0.00   \n",
       "max         29.63       10.00       60.00             3.00            4.00   \n",
       "\n",
       "        indPctChgStds      sector               industry  \n",
       "count      362,100.00      362100                 362100  \n",
       "unique            nan          11                    136  \n",
       "top               nan  Technology  Banks - Regional - US  \n",
       "freq              nan       66600                  17700  \n",
       "mean             0.03         NaN                    NaN  \n",
       "std              0.66         NaN                    NaN  \n",
       "min             -7.00         NaN                    NaN  \n",
       "25%              0.00         NaN                    NaN  \n",
       "50%              0.00         NaN                    NaN  \n",
       "75%              0.00         NaN                    NaN  \n",
       "max             29.00         NaN                    NaN  \n",
       "\n",
       "[11 rows x 29 columns]"
      ]
     },
     "execution_count": 342,
     "metadata": {},
     "output_type": "execute_result"
    }
   ],
   "source": [
    "df_raw.describe(include='all')"
   ]
  },
  {
   "cell_type": "code",
   "execution_count": 343,
   "metadata": {},
   "outputs": [
    {
     "data": {
      "text/html": [
       "<div>\n",
       "<style scoped>\n",
       "    .dataframe tbody tr th:only-of-type {\n",
       "        vertical-align: middle;\n",
       "    }\n",
       "\n",
       "    .dataframe tbody tr th {\n",
       "        vertical-align: top;\n",
       "    }\n",
       "\n",
       "    .dataframe thead th {\n",
       "        text-align: right;\n",
       "    }\n",
       "</style>\n",
       "<table border=\"1\" class=\"dataframe\">\n",
       "  <thead>\n",
       "    <tr style=\"text-align: right;\">\n",
       "      <th></th>\n",
       "      <th>count</th>\n",
       "      <th>unique</th>\n",
       "      <th>top</th>\n",
       "      <th>freq</th>\n",
       "      <th>mean</th>\n",
       "      <th>std</th>\n",
       "      <th>min</th>\n",
       "      <th>25%</th>\n",
       "      <th>50%</th>\n",
       "      <th>75%</th>\n",
       "      <th>max</th>\n",
       "    </tr>\n",
       "  </thead>\n",
       "  <tbody>\n",
       "    <tr>\n",
       "      <th>PctChg1Stds</th>\n",
       "      <td>163,399.00</td>\n",
       "      <td>NaN</td>\n",
       "      <td>NaN</td>\n",
       "      <td>NaN</td>\n",
       "      <td>0.05</td>\n",
       "      <td>0.99</td>\n",
       "      <td>-15.00</td>\n",
       "      <td>0.00</td>\n",
       "      <td>0.00</td>\n",
       "      <td>0.00</td>\n",
       "      <td>29.00</td>\n",
       "    </tr>\n",
       "    <tr>\n",
       "      <th>PctMA50</th>\n",
       "      <td>163,399.00</td>\n",
       "      <td>NaN</td>\n",
       "      <td>NaN</td>\n",
       "      <td>NaN</td>\n",
       "      <td>1.03</td>\n",
       "      <td>0.13</td>\n",
       "      <td>0.14</td>\n",
       "      <td>0.98</td>\n",
       "      <td>1.03</td>\n",
       "      <td>1.09</td>\n",
       "      <td>4.75</td>\n",
       "    </tr>\n",
       "    <tr>\n",
       "      <th>PctMA200</th>\n",
       "      <td>163,399.00</td>\n",
       "      <td>NaN</td>\n",
       "      <td>NaN</td>\n",
       "      <td>NaN</td>\n",
       "      <td>1.07</td>\n",
       "      <td>0.27</td>\n",
       "      <td>0.03</td>\n",
       "      <td>0.93</td>\n",
       "      <td>1.08</td>\n",
       "      <td>1.22</td>\n",
       "      <td>4.35</td>\n",
       "    </tr>\n",
       "    <tr>\n",
       "      <th>RollVol20</th>\n",
       "      <td>163,399.00</td>\n",
       "      <td>NaN</td>\n",
       "      <td>NaN</td>\n",
       "      <td>NaN</td>\n",
       "      <td>0.45</td>\n",
       "      <td>0.31</td>\n",
       "      <td>0.00</td>\n",
       "      <td>0.26</td>\n",
       "      <td>0.38</td>\n",
       "      <td>0.55</td>\n",
       "      <td>6.26</td>\n",
       "    </tr>\n",
       "    <tr>\n",
       "      <th>PctChg5</th>\n",
       "      <td>163,399.00</td>\n",
       "      <td>NaN</td>\n",
       "      <td>NaN</td>\n",
       "      <td>NaN</td>\n",
       "      <td>0.01</td>\n",
       "      <td>0.07</td>\n",
       "      <td>-0.76</td>\n",
       "      <td>-0.02</td>\n",
       "      <td>0.01</td>\n",
       "      <td>0.04</td>\n",
       "      <td>4.43</td>\n",
       "    </tr>\n",
       "    <tr>\n",
       "      <th>PctChg20</th>\n",
       "      <td>163,399.00</td>\n",
       "      <td>NaN</td>\n",
       "      <td>NaN</td>\n",
       "      <td>NaN</td>\n",
       "      <td>0.04</td>\n",
       "      <td>0.15</td>\n",
       "      <td>-0.82</td>\n",
       "      <td>-0.03</td>\n",
       "      <td>0.03</td>\n",
       "      <td>0.09</td>\n",
       "      <td>4.05</td>\n",
       "    </tr>\n",
       "    <tr>\n",
       "      <th>PctChg60</th>\n",
       "      <td>163,399.00</td>\n",
       "      <td>NaN</td>\n",
       "      <td>NaN</td>\n",
       "      <td>NaN</td>\n",
       "      <td>0.11</td>\n",
       "      <td>0.32</td>\n",
       "      <td>-0.90</td>\n",
       "      <td>-0.03</td>\n",
       "      <td>0.08</td>\n",
       "      <td>0.21</td>\n",
       "      <td>12.81</td>\n",
       "    </tr>\n",
       "    <tr>\n",
       "      <th>Pct52WkH</th>\n",
       "      <td>163,399.00</td>\n",
       "      <td>NaN</td>\n",
       "      <td>NaN</td>\n",
       "      <td>NaN</td>\n",
       "      <td>0.73</td>\n",
       "      <td>0.22</td>\n",
       "      <td>0.01</td>\n",
       "      <td>0.58</td>\n",
       "      <td>0.78</td>\n",
       "      <td>0.92</td>\n",
       "      <td>1.00</td>\n",
       "    </tr>\n",
       "    <tr>\n",
       "      <th>Pct52WkL</th>\n",
       "      <td>163,399.00</td>\n",
       "      <td>NaN</td>\n",
       "      <td>NaN</td>\n",
       "      <td>NaN</td>\n",
       "      <td>1.88</td>\n",
       "      <td>1.42</td>\n",
       "      <td>1.00</td>\n",
       "      <td>1.30</td>\n",
       "      <td>1.58</td>\n",
       "      <td>2.06</td>\n",
       "      <td>62.00</td>\n",
       "    </tr>\n",
       "    <tr>\n",
       "      <th>symbol</th>\n",
       "      <td>163399</td>\n",
       "      <td>1009</td>\n",
       "      <td>0700.HK</td>\n",
       "      <td>234</td>\n",
       "      <td>NaN</td>\n",
       "      <td>NaN</td>\n",
       "      <td>NaN</td>\n",
       "      <td>NaN</td>\n",
       "      <td>NaN</td>\n",
       "      <td>NaN</td>\n",
       "      <td>NaN</td>\n",
       "    </tr>\n",
       "    <tr>\n",
       "      <th>fwdReturn</th>\n",
       "      <td>163,399.00</td>\n",
       "      <td>NaN</td>\n",
       "      <td>NaN</td>\n",
       "      <td>NaN</td>\n",
       "      <td>0.13</td>\n",
       "      <td>0.29</td>\n",
       "      <td>-0.79</td>\n",
       "      <td>0.00</td>\n",
       "      <td>0.09</td>\n",
       "      <td>0.20</td>\n",
       "      <td>14.84</td>\n",
       "    </tr>\n",
       "    <tr>\n",
       "      <th>country</th>\n",
       "      <td>163399</td>\n",
       "      <td>31</td>\n",
       "      <td>United States</td>\n",
       "      <td>139596</td>\n",
       "      <td>NaN</td>\n",
       "      <td>NaN</td>\n",
       "      <td>NaN</td>\n",
       "      <td>NaN</td>\n",
       "      <td>NaN</td>\n",
       "      <td>NaN</td>\n",
       "      <td>NaN</td>\n",
       "    </tr>\n",
       "    <tr>\n",
       "      <th>currency</th>\n",
       "      <td>163399</td>\n",
       "      <td>2</td>\n",
       "      <td>USD</td>\n",
       "      <td>163165</td>\n",
       "      <td>NaN</td>\n",
       "      <td>NaN</td>\n",
       "      <td>NaN</td>\n",
       "      <td>NaN</td>\n",
       "      <td>NaN</td>\n",
       "      <td>NaN</td>\n",
       "      <td>NaN</td>\n",
       "    </tr>\n",
       "    <tr>\n",
       "      <th>rsBench20</th>\n",
       "      <td>163,399.00</td>\n",
       "      <td>NaN</td>\n",
       "      <td>NaN</td>\n",
       "      <td>NaN</td>\n",
       "      <td>0.02</td>\n",
       "      <td>0.13</td>\n",
       "      <td>-0.77</td>\n",
       "      <td>-0.05</td>\n",
       "      <td>0.01</td>\n",
       "      <td>0.07</td>\n",
       "      <td>3.99</td>\n",
       "    </tr>\n",
       "    <tr>\n",
       "      <th>rsSect20</th>\n",
       "      <td>163,399.00</td>\n",
       "      <td>NaN</td>\n",
       "      <td>NaN</td>\n",
       "      <td>NaN</td>\n",
       "      <td>0.01</td>\n",
       "      <td>0.12</td>\n",
       "      <td>-0.79</td>\n",
       "      <td>-0.05</td>\n",
       "      <td>-0.00</td>\n",
       "      <td>0.05</td>\n",
       "      <td>4.02</td>\n",
       "    </tr>\n",
       "    <tr>\n",
       "      <th>rsInd20</th>\n",
       "      <td>163,399.00</td>\n",
       "      <td>NaN</td>\n",
       "      <td>NaN</td>\n",
       "      <td>NaN</td>\n",
       "      <td>0.01</td>\n",
       "      <td>0.11</td>\n",
       "      <td>-0.79</td>\n",
       "      <td>-0.05</td>\n",
       "      <td>-0.00</td>\n",
       "      <td>0.05</td>\n",
       "      <td>4.02</td>\n",
       "    </tr>\n",
       "    <tr>\n",
       "      <th>rsBench60</th>\n",
       "      <td>163,399.00</td>\n",
       "      <td>NaN</td>\n",
       "      <td>NaN</td>\n",
       "      <td>NaN</td>\n",
       "      <td>0.05</td>\n",
       "      <td>0.28</td>\n",
       "      <td>-0.84</td>\n",
       "      <td>-0.08</td>\n",
       "      <td>0.02</td>\n",
       "      <td>0.13</td>\n",
       "      <td>12.41</td>\n",
       "    </tr>\n",
       "    <tr>\n",
       "      <th>rsSect60</th>\n",
       "      <td>163,399.00</td>\n",
       "      <td>NaN</td>\n",
       "      <td>NaN</td>\n",
       "      <td>NaN</td>\n",
       "      <td>0.02</td>\n",
       "      <td>0.27</td>\n",
       "      <td>-0.84</td>\n",
       "      <td>-0.10</td>\n",
       "      <td>-0.01</td>\n",
       "      <td>0.10</td>\n",
       "      <td>12.32</td>\n",
       "    </tr>\n",
       "    <tr>\n",
       "      <th>rsInd60</th>\n",
       "      <td>163,399.00</td>\n",
       "      <td>NaN</td>\n",
       "      <td>NaN</td>\n",
       "      <td>NaN</td>\n",
       "      <td>0.02</td>\n",
       "      <td>0.26</td>\n",
       "      <td>-1.02</td>\n",
       "      <td>-0.09</td>\n",
       "      <td>-0.00</td>\n",
       "      <td>0.09</td>\n",
       "      <td>12.21</td>\n",
       "    </tr>\n",
       "    <tr>\n",
       "      <th>rsBench120</th>\n",
       "      <td>163,399.00</td>\n",
       "      <td>NaN</td>\n",
       "      <td>NaN</td>\n",
       "      <td>NaN</td>\n",
       "      <td>0.11</td>\n",
       "      <td>0.53</td>\n",
       "      <td>-1.23</td>\n",
       "      <td>-0.12</td>\n",
       "      <td>0.03</td>\n",
       "      <td>0.22</td>\n",
       "      <td>29.85</td>\n",
       "    </tr>\n",
       "    <tr>\n",
       "      <th>rsSect120</th>\n",
       "      <td>163,399.00</td>\n",
       "      <td>NaN</td>\n",
       "      <td>NaN</td>\n",
       "      <td>NaN</td>\n",
       "      <td>0.04</td>\n",
       "      <td>0.52</td>\n",
       "      <td>-1.12</td>\n",
       "      <td>-0.17</td>\n",
       "      <td>-0.03</td>\n",
       "      <td>0.14</td>\n",
       "      <td>29.77</td>\n",
       "    </tr>\n",
       "    <tr>\n",
       "      <th>rsInd120</th>\n",
       "      <td>163,399.00</td>\n",
       "      <td>NaN</td>\n",
       "      <td>NaN</td>\n",
       "      <td>NaN</td>\n",
       "      <td>0.04</td>\n",
       "      <td>0.50</td>\n",
       "      <td>-1.41</td>\n",
       "      <td>-0.14</td>\n",
       "      <td>-0.01</td>\n",
       "      <td>0.13</td>\n",
       "      <td>29.63</td>\n",
       "    </tr>\n",
       "    <tr>\n",
       "      <th>volPctMa10</th>\n",
       "      <td>163,399.00</td>\n",
       "      <td>NaN</td>\n",
       "      <td>NaN</td>\n",
       "      <td>NaN</td>\n",
       "      <td>0.97</td>\n",
       "      <td>0.47</td>\n",
       "      <td>0.00</td>\n",
       "      <td>0.71</td>\n",
       "      <td>0.90</td>\n",
       "      <td>1.13</td>\n",
       "      <td>10.00</td>\n",
       "    </tr>\n",
       "    <tr>\n",
       "      <th>volPctMa60</th>\n",
       "      <td>163,399.00</td>\n",
       "      <td>NaN</td>\n",
       "      <td>NaN</td>\n",
       "      <td>NaN</td>\n",
       "      <td>0.94</td>\n",
       "      <td>0.70</td>\n",
       "      <td>0.00</td>\n",
       "      <td>0.62</td>\n",
       "      <td>0.83</td>\n",
       "      <td>1.10</td>\n",
       "      <td>60.00</td>\n",
       "    </tr>\n",
       "    <tr>\n",
       "      <th>benchPctChgStds</th>\n",
       "      <td>163,399.00</td>\n",
       "      <td>NaN</td>\n",
       "      <td>NaN</td>\n",
       "      <td>NaN</td>\n",
       "      <td>0.01</td>\n",
       "      <td>0.94</td>\n",
       "      <td>-3.00</td>\n",
       "      <td>0.00</td>\n",
       "      <td>0.00</td>\n",
       "      <td>0.00</td>\n",
       "      <td>3.00</td>\n",
       "    </tr>\n",
       "    <tr>\n",
       "      <th>sectPctChgStds</th>\n",
       "      <td>163,399.00</td>\n",
       "      <td>NaN</td>\n",
       "      <td>NaN</td>\n",
       "      <td>NaN</td>\n",
       "      <td>0.06</td>\n",
       "      <td>0.89</td>\n",
       "      <td>-5.00</td>\n",
       "      <td>0.00</td>\n",
       "      <td>0.00</td>\n",
       "      <td>0.00</td>\n",
       "      <td>4.00</td>\n",
       "    </tr>\n",
       "    <tr>\n",
       "      <th>indPctChgStds</th>\n",
       "      <td>163,399.00</td>\n",
       "      <td>NaN</td>\n",
       "      <td>NaN</td>\n",
       "      <td>NaN</td>\n",
       "      <td>0.05</td>\n",
       "      <td>0.90</td>\n",
       "      <td>-7.00</td>\n",
       "      <td>0.00</td>\n",
       "      <td>0.00</td>\n",
       "      <td>0.00</td>\n",
       "      <td>15.00</td>\n",
       "    </tr>\n",
       "    <tr>\n",
       "      <th>sector</th>\n",
       "      <td>163399</td>\n",
       "      <td>11</td>\n",
       "      <td>Financial Services</td>\n",
       "      <td>26049</td>\n",
       "      <td>NaN</td>\n",
       "      <td>NaN</td>\n",
       "      <td>NaN</td>\n",
       "      <td>NaN</td>\n",
       "      <td>NaN</td>\n",
       "      <td>NaN</td>\n",
       "      <td>NaN</td>\n",
       "    </tr>\n",
       "    <tr>\n",
       "      <th>industry</th>\n",
       "      <td>163399</td>\n",
       "      <td>135</td>\n",
       "      <td>Banks - Regional - US</td>\n",
       "      <td>9366</td>\n",
       "      <td>NaN</td>\n",
       "      <td>NaN</td>\n",
       "      <td>NaN</td>\n",
       "      <td>NaN</td>\n",
       "      <td>NaN</td>\n",
       "      <td>NaN</td>\n",
       "      <td>NaN</td>\n",
       "    </tr>\n",
       "  </tbody>\n",
       "</table>\n",
       "</div>"
      ],
      "text/plain": [
       "                     count unique                    top    freq mean  std  \\\n",
       "PctChg1Stds     163,399.00    NaN                    NaN     NaN 0.05 0.99   \n",
       "PctMA50         163,399.00    NaN                    NaN     NaN 1.03 0.13   \n",
       "PctMA200        163,399.00    NaN                    NaN     NaN 1.07 0.27   \n",
       "RollVol20       163,399.00    NaN                    NaN     NaN 0.45 0.31   \n",
       "PctChg5         163,399.00    NaN                    NaN     NaN 0.01 0.07   \n",
       "PctChg20        163,399.00    NaN                    NaN     NaN 0.04 0.15   \n",
       "PctChg60        163,399.00    NaN                    NaN     NaN 0.11 0.32   \n",
       "Pct52WkH        163,399.00    NaN                    NaN     NaN 0.73 0.22   \n",
       "Pct52WkL        163,399.00    NaN                    NaN     NaN 1.88 1.42   \n",
       "symbol              163399   1009                0700.HK     234  NaN  NaN   \n",
       "fwdReturn       163,399.00    NaN                    NaN     NaN 0.13 0.29   \n",
       "country             163399     31          United States  139596  NaN  NaN   \n",
       "currency            163399      2                    USD  163165  NaN  NaN   \n",
       "rsBench20       163,399.00    NaN                    NaN     NaN 0.02 0.13   \n",
       "rsSect20        163,399.00    NaN                    NaN     NaN 0.01 0.12   \n",
       "rsInd20         163,399.00    NaN                    NaN     NaN 0.01 0.11   \n",
       "rsBench60       163,399.00    NaN                    NaN     NaN 0.05 0.28   \n",
       "rsSect60        163,399.00    NaN                    NaN     NaN 0.02 0.27   \n",
       "rsInd60         163,399.00    NaN                    NaN     NaN 0.02 0.26   \n",
       "rsBench120      163,399.00    NaN                    NaN     NaN 0.11 0.53   \n",
       "rsSect120       163,399.00    NaN                    NaN     NaN 0.04 0.52   \n",
       "rsInd120        163,399.00    NaN                    NaN     NaN 0.04 0.50   \n",
       "volPctMa10      163,399.00    NaN                    NaN     NaN 0.97 0.47   \n",
       "volPctMa60      163,399.00    NaN                    NaN     NaN 0.94 0.70   \n",
       "benchPctChgStds 163,399.00    NaN                    NaN     NaN 0.01 0.94   \n",
       "sectPctChgStds  163,399.00    NaN                    NaN     NaN 0.06 0.89   \n",
       "indPctChgStds   163,399.00    NaN                    NaN     NaN 0.05 0.90   \n",
       "sector              163399     11     Financial Services   26049  NaN  NaN   \n",
       "industry            163399    135  Banks - Regional - US    9366  NaN  NaN   \n",
       "\n",
       "                   min   25%   50%  75%   max  \n",
       "PctChg1Stds     -15.00  0.00  0.00 0.00 29.00  \n",
       "PctMA50           0.14  0.98  1.03 1.09  4.75  \n",
       "PctMA200          0.03  0.93  1.08 1.22  4.35  \n",
       "RollVol20         0.00  0.26  0.38 0.55  6.26  \n",
       "PctChg5          -0.76 -0.02  0.01 0.04  4.43  \n",
       "PctChg20         -0.82 -0.03  0.03 0.09  4.05  \n",
       "PctChg60         -0.90 -0.03  0.08 0.21 12.81  \n",
       "Pct52WkH          0.01  0.58  0.78 0.92  1.00  \n",
       "Pct52WkL          1.00  1.30  1.58 2.06 62.00  \n",
       "symbol             NaN   NaN   NaN  NaN   NaN  \n",
       "fwdReturn        -0.79  0.00  0.09 0.20 14.84  \n",
       "country            NaN   NaN   NaN  NaN   NaN  \n",
       "currency           NaN   NaN   NaN  NaN   NaN  \n",
       "rsBench20        -0.77 -0.05  0.01 0.07  3.99  \n",
       "rsSect20         -0.79 -0.05 -0.00 0.05  4.02  \n",
       "rsInd20          -0.79 -0.05 -0.00 0.05  4.02  \n",
       "rsBench60        -0.84 -0.08  0.02 0.13 12.41  \n",
       "rsSect60         -0.84 -0.10 -0.01 0.10 12.32  \n",
       "rsInd60          -1.02 -0.09 -0.00 0.09 12.21  \n",
       "rsBench120       -1.23 -0.12  0.03 0.22 29.85  \n",
       "rsSect120        -1.12 -0.17 -0.03 0.14 29.77  \n",
       "rsInd120         -1.41 -0.14 -0.01 0.13 29.63  \n",
       "volPctMa10        0.00  0.71  0.90 1.13 10.00  \n",
       "volPctMa60        0.00  0.62  0.83 1.10 60.00  \n",
       "benchPctChgStds  -3.00  0.00  0.00 0.00  3.00  \n",
       "sectPctChgStds   -5.00  0.00  0.00 0.00  4.00  \n",
       "indPctChgStds    -7.00  0.00  0.00 0.00 15.00  \n",
       "sector             NaN   NaN   NaN  NaN   NaN  \n",
       "industry           NaN   NaN   NaN  NaN   NaN  "
      ]
     },
     "execution_count": 343,
     "metadata": {},
     "output_type": "execute_result"
    }
   ],
   "source": [
    "df_raw.dropna().describe(include='all').T"
   ]
  },
  {
   "cell_type": "markdown",
   "metadata": {},
   "source": [
    "### Pre-processing"
   ]
  },
  {
   "cell_type": "code",
   "execution_count": null,
   "metadata": {},
   "outputs": [],
   "source": [
    "trim = 0 / 100\n",
    "start = int(len(df_raw.index) * trim) \n",
    "\n",
    "trim_df = df_raw.iloc[start:,:].copy()\n",
    "trim_df.dropna(inplace=True)\n",
    "\n",
    "X, y = trim_df.drop(columns=y_col), trim_df[y_col]\n",
    "y = column_or_1d(y, warn=True)\n",
    "\n",
    "exp_log['trim'] = trim\n",
    "exp_log['start'] = start\n",
    "exp_log['X'] = log_as_dict(X)\n",
    "exp_log['y'] = log_as_dict(y)\n",
    "\n",
    "X.shape, y.shape"
   ]
  },
  {
   "cell_type": "code",
   "execution_count": 307,
   "metadata": {},
   "outputs": [
    {
     "data": {
      "text/plain": [
       "<matplotlib.axes._subplots.AxesSubplot at 0x15aa8e518>"
      ]
     },
     "execution_count": 307,
     "metadata": {},
     "output_type": "execute_result"
    },
    {
     "data": {
      "image/png": "[encoded data removed]",
      "text/plain": [
       "<Figure size 432x288 with 1 Axes>"
      ]
     },
     "metadata": {
      "needs_background": "light"
     },
     "output_type": "display_data"
    }
   ],
   "source": [
    "Y = df_raw[y_col]\n",
    "Y.plot.hist(bins=50, title='Distribution of Forwards Returns')"
   ]
  },
  {
   "cell_type": "code",
   "execution_count": 308,
   "metadata": {},
   "outputs": [
    {
     "data": {
      "text/plain": [
       "(23111, 29)"
      ]
     },
     "execution_count": 308,
     "metadata": {},
     "output_type": "execute_result"
    }
   ],
   "source": [
    "df_raw.dropna(subset=[y_col], inplace=True)\n",
    "# exp_log['df_raw.describe'] = log_as_dict(df_raw)\n",
    "df_raw.shape"
   ]
  },
  {
   "cell_type": "code",
   "execution_count": 309,
   "metadata": {},
   "outputs": [],
   "source": [
    "recent_X_lb = -252 * 4\n",
    "recent_X = df_raw.iloc[recent_X_lb:,:-1].copy()\n",
    "\n",
    "# exp_log['recent_X_lb'] = recent_X_lb\n",
    "# exp_log['recent_X.describe'] = log_as_dict(recent_X)"
   ]
  },
  {
   "cell_type": "code",
   "execution_count": 311,
   "metadata": {},
   "outputs": [
    {
     "data": {
      "text/plain": [
       "(23111, 29)"
      ]
     },
     "execution_count": 311,
     "metadata": {},
     "output_type": "execute_result"
    }
   ],
   "source": [
    "drop_dates = True\n",
    "\n",
    "if drop_dates: df_raw.reset_index(drop=True, inplace=True)\n",
    "else: \n",
    "    df_raw.reset_index(inplace=True)\n",
    "    df_raw.rename({'index': 'obsDate'}, axis=1, inplace=True)\n",
    "    add_datepart(df_raw, 'obsDate')\n",
    "    \n",
    "# df_raw[[x for x in df_raw.columns if 'obs' in x]]\n",
    "    \n",
    "# exp_log['drop_dates'] = drop_dates\n",
    "df_raw.shape"
   ]
  },
  {
   "cell_type": "code",
   "execution_count": null,
   "metadata": {},
   "outputs": [],
   "source": []
  },
  {
   "cell_type": "code",
   "execution_count": null,
   "metadata": {},
   "outputs": [],
   "source": [
    "cuts = { '1d': [-1, -0.1, -.02, .02, .1, 1.] }\n",
    "cut_range = cuts[freq]\n",
    "fwd_ret_labels = [\"bear\", \"short\", \"neutral\", \"long\", \"bull\"]\n",
    "df_raw[y_col] = discret_rets(df_raw[y_col], cut_range, fwd_ret_labels)"
   ]
  },
  {
   "cell_type": "code",
   "execution_count": 291,
   "metadata": {},
   "outputs": [
    {
     "ename": "KeyboardInterrupt",
     "evalue": "",
     "output_type": "error",
     "traceback": [
      "\u001b[0;31m---------------------------------------------------------------------------\u001b[0m",
      "\u001b[0;31mKeyboardInterrupt\u001b[0m                         Traceback (most recent call last)",
      "\u001b[0;32m<ipython-input-291-6d79457a062b>\u001b[0m in \u001b[0;36m<module>\u001b[0;34m\u001b[0m\n\u001b[0;32m----> 1\u001b[0;31m \u001b[0mdf_raw\u001b[0m\u001b[0;34m[\u001b[0m\u001b[0my_col\u001b[0m\u001b[0;34m]\u001b[0m \u001b[0;34m=\u001b[0m \u001b[0mdiscret_rets\u001b[0m\u001b[0;34m(\u001b[0m\u001b[0mdf_raw\u001b[0m\u001b[0;34m[\u001b[0m\u001b[0my_col\u001b[0m\u001b[0;34m]\u001b[0m\u001b[0;34m,\u001b[0m \u001b[0mcut_range\u001b[0m\u001b[0;34m,\u001b[0m \u001b[0mfwd_ret_labels\u001b[0m\u001b[0;34m)\u001b[0m\u001b[0;34m\u001b[0m\u001b[0;34m\u001b[0m\u001b[0m\n\u001b[0m\u001b[1;32m      2\u001b[0m \u001b[0my_col_dist\u001b[0m \u001b[0;34m=\u001b[0m \u001b[0msample_wgts\u001b[0m\u001b[0;34m(\u001b[0m\u001b[0mdf_raw\u001b[0m\u001b[0;34m[\u001b[0m\u001b[0my_col\u001b[0m\u001b[0;34m]\u001b[0m\u001b[0;34m,\u001b[0m \u001b[0mfwd_ret_labels\u001b[0m\u001b[0;34m)\u001b[0m\u001b[0;34m\u001b[0m\u001b[0;34m\u001b[0m\u001b[0m\n\u001b[1;32m      3\u001b[0m \u001b[0;34m(\u001b[0m\u001b[0my_col_dist\u001b[0m\u001b[0;34m[\u001b[0m\u001b[0mfwd_ret_labels\u001b[0m\u001b[0;34m]\u001b[0m\u001b[0;34m)\u001b[0m\u001b[0;34m.\u001b[0m\u001b[0mround\u001b[0m\u001b[0;34m(\u001b[0m\u001b[0;36m3\u001b[0m\u001b[0;34m)\u001b[0m\u001b[0;34m\u001b[0m\u001b[0;34m\u001b[0m\u001b[0m\n",
      "\u001b[0;32m~/miniconda3/envs/inception/lib/python3.7/site-packages/pandas/core/frame.py\u001b[0m in \u001b[0;36m__setitem__\u001b[0;34m(self, key, value)\u001b[0m\n\u001b[1;32m   3368\u001b[0m         \u001b[0;32melse\u001b[0m\u001b[0;34m:\u001b[0m\u001b[0;34m\u001b[0m\u001b[0;34m\u001b[0m\u001b[0m\n\u001b[1;32m   3369\u001b[0m             \u001b[0;31m# set column\u001b[0m\u001b[0;34m\u001b[0m\u001b[0;34m\u001b[0m\u001b[0;34m\u001b[0m\u001b[0m\n\u001b[0;32m-> 3370\u001b[0;31m             \u001b[0mself\u001b[0m\u001b[0;34m.\u001b[0m\u001b[0m_set_item\u001b[0m\u001b[0;34m(\u001b[0m\u001b[0mkey\u001b[0m\u001b[0;34m,\u001b[0m \u001b[0mvalue\u001b[0m\u001b[0;34m)\u001b[0m\u001b[0;34m\u001b[0m\u001b[0;34m\u001b[0m\u001b[0m\n\u001b[0m\u001b[1;32m   3371\u001b[0m \u001b[0;34m\u001b[0m\u001b[0m\n\u001b[1;32m   3372\u001b[0m     \u001b[0;32mdef\u001b[0m \u001b[0m_setitem_slice\u001b[0m\u001b[0;34m(\u001b[0m\u001b[0mself\u001b[0m\u001b[0;34m,\u001b[0m \u001b[0mkey\u001b[0m\u001b[0;34m,\u001b[0m \u001b[0mvalue\u001b[0m\u001b[0;34m)\u001b[0m\u001b[0;34m:\u001b[0m\u001b[0;34m\u001b[0m\u001b[0;34m\u001b[0m\u001b[0m\n",
      "\u001b[0;32m~/miniconda3/envs/inception/lib/python3.7/site-packages/pandas/core/frame.py\u001b[0m in \u001b[0;36m_set_item\u001b[0;34m(self, key, value)\u001b[0m\n\u001b[1;32m   3443\u001b[0m \u001b[0;34m\u001b[0m\u001b[0m\n\u001b[1;32m   3444\u001b[0m         \u001b[0mself\u001b[0m\u001b[0;34m.\u001b[0m\u001b[0m_ensure_valid_index\u001b[0m\u001b[0;34m(\u001b[0m\u001b[0mvalue\u001b[0m\u001b[0;34m)\u001b[0m\u001b[0;34m\u001b[0m\u001b[0;34m\u001b[0m\u001b[0m\n\u001b[0;32m-> 3445\u001b[0;31m         \u001b[0mvalue\u001b[0m \u001b[0;34m=\u001b[0m \u001b[0mself\u001b[0m\u001b[0;34m.\u001b[0m\u001b[0m_sanitize_column\u001b[0m\u001b[0;34m(\u001b[0m\u001b[0mkey\u001b[0m\u001b[0;34m,\u001b[0m \u001b[0mvalue\u001b[0m\u001b[0;34m)\u001b[0m\u001b[0;34m\u001b[0m\u001b[0;34m\u001b[0m\u001b[0m\n\u001b[0m\u001b[1;32m   3446\u001b[0m         \u001b[0mNDFrame\u001b[0m\u001b[0;34m.\u001b[0m\u001b[0m_set_item\u001b[0m\u001b[0;34m(\u001b[0m\u001b[0mself\u001b[0m\u001b[0;34m,\u001b[0m \u001b[0mkey\u001b[0m\u001b[0;34m,\u001b[0m \u001b[0mvalue\u001b[0m\u001b[0;34m)\u001b[0m\u001b[0;34m\u001b[0m\u001b[0;34m\u001b[0m\u001b[0m\n\u001b[1;32m   3447\u001b[0m \u001b[0;34m\u001b[0m\u001b[0m\n",
      "\u001b[0;32m~/miniconda3/envs/inception/lib/python3.7/site-packages/pandas/core/frame.py\u001b[0m in \u001b[0;36m_sanitize_column\u001b[0;34m(self, key, value, broadcast)\u001b[0m\n\u001b[1;32m   3605\u001b[0m \u001b[0;34m\u001b[0m\u001b[0m\n\u001b[1;32m   3606\u001b[0m         \u001b[0;32mif\u001b[0m \u001b[0misinstance\u001b[0m\u001b[0;34m(\u001b[0m\u001b[0mvalue\u001b[0m\u001b[0;34m,\u001b[0m \u001b[0mSeries\u001b[0m\u001b[0;34m)\u001b[0m\u001b[0;34m:\u001b[0m\u001b[0;34m\u001b[0m\u001b[0;34m\u001b[0m\u001b[0m\n\u001b[0;32m-> 3607\u001b[0;31m             \u001b[0mvalue\u001b[0m \u001b[0;34m=\u001b[0m \u001b[0mreindexer\u001b[0m\u001b[0;34m(\u001b[0m\u001b[0mvalue\u001b[0m\u001b[0;34m)\u001b[0m\u001b[0;34m\u001b[0m\u001b[0;34m\u001b[0m\u001b[0m\n\u001b[0m\u001b[1;32m   3608\u001b[0m \u001b[0;34m\u001b[0m\u001b[0m\n\u001b[1;32m   3609\u001b[0m         \u001b[0;32melif\u001b[0m \u001b[0misinstance\u001b[0m\u001b[0;34m(\u001b[0m\u001b[0mvalue\u001b[0m\u001b[0;34m,\u001b[0m \u001b[0mDataFrame\u001b[0m\u001b[0;34m)\u001b[0m\u001b[0;34m:\u001b[0m\u001b[0;34m\u001b[0m\u001b[0;34m\u001b[0m\u001b[0m\n",
      "\u001b[0;32m~/miniconda3/envs/inception/lib/python3.7/site-packages/pandas/core/frame.py\u001b[0m in \u001b[0;36mreindexer\u001b[0;34m(value)\u001b[0m\n\u001b[1;32m   3592\u001b[0m                 \u001b[0;31m# GH 4107\u001b[0m\u001b[0;34m\u001b[0m\u001b[0;34m\u001b[0m\u001b[0;34m\u001b[0m\u001b[0m\n\u001b[1;32m   3593\u001b[0m                 \u001b[0;32mtry\u001b[0m\u001b[0;34m:\u001b[0m\u001b[0;34m\u001b[0m\u001b[0;34m\u001b[0m\u001b[0m\n\u001b[0;32m-> 3594\u001b[0;31m                     \u001b[0mvalue\u001b[0m \u001b[0;34m=\u001b[0m \u001b[0mvalue\u001b[0m\u001b[0;34m.\u001b[0m\u001b[0mreindex\u001b[0m\u001b[0;34m(\u001b[0m\u001b[0mself\u001b[0m\u001b[0;34m.\u001b[0m\u001b[0mindex\u001b[0m\u001b[0;34m)\u001b[0m\u001b[0;34m.\u001b[0m\u001b[0m_values\u001b[0m\u001b[0;34m\u001b[0m\u001b[0;34m\u001b[0m\u001b[0m\n\u001b[0m\u001b[1;32m   3595\u001b[0m                 \u001b[0;32mexcept\u001b[0m \u001b[0mException\u001b[0m \u001b[0;32mas\u001b[0m \u001b[0me\u001b[0m\u001b[0;34m:\u001b[0m\u001b[0;34m\u001b[0m\u001b[0;34m\u001b[0m\u001b[0m\n\u001b[1;32m   3596\u001b[0m \u001b[0;34m\u001b[0m\u001b[0m\n",
      "\u001b[0;32m~/miniconda3/envs/inception/lib/python3.7/site-packages/pandas/core/series.py\u001b[0m in \u001b[0;36mreindex\u001b[0;34m(self, index, **kwargs)\u001b[0m\n\u001b[1;32m   3732\u001b[0m     \u001b[0;34m@\u001b[0m\u001b[0mAppender\u001b[0m\u001b[0;34m(\u001b[0m\u001b[0mgeneric\u001b[0m\u001b[0;34m.\u001b[0m\u001b[0mNDFrame\u001b[0m\u001b[0;34m.\u001b[0m\u001b[0mreindex\u001b[0m\u001b[0;34m.\u001b[0m\u001b[0m__doc__\u001b[0m\u001b[0;34m)\u001b[0m\u001b[0;34m\u001b[0m\u001b[0;34m\u001b[0m\u001b[0m\n\u001b[1;32m   3733\u001b[0m     \u001b[0;32mdef\u001b[0m \u001b[0mreindex\u001b[0m\u001b[0;34m(\u001b[0m\u001b[0mself\u001b[0m\u001b[0;34m,\u001b[0m \u001b[0mindex\u001b[0m\u001b[0;34m=\u001b[0m\u001b[0;32mNone\u001b[0m\u001b[0;34m,\u001b[0m \u001b[0;34m**\u001b[0m\u001b[0mkwargs\u001b[0m\u001b[0;34m)\u001b[0m\u001b[0;34m:\u001b[0m\u001b[0;34m\u001b[0m\u001b[0;34m\u001b[0m\u001b[0m\n\u001b[0;32m-> 3734\u001b[0;31m         \u001b[0;32mreturn\u001b[0m \u001b[0msuper\u001b[0m\u001b[0;34m(\u001b[0m\u001b[0mSeries\u001b[0m\u001b[0;34m,\u001b[0m \u001b[0mself\u001b[0m\u001b[0;34m)\u001b[0m\u001b[0;34m.\u001b[0m\u001b[0mreindex\u001b[0m\u001b[0;34m(\u001b[0m\u001b[0mindex\u001b[0m\u001b[0;34m=\u001b[0m\u001b[0mindex\u001b[0m\u001b[0;34m,\u001b[0m \u001b[0;34m**\u001b[0m\u001b[0mkwargs\u001b[0m\u001b[0;34m)\u001b[0m\u001b[0;34m\u001b[0m\u001b[0;34m\u001b[0m\u001b[0m\n\u001b[0m\u001b[1;32m   3735\u001b[0m \u001b[0;34m\u001b[0m\u001b[0m\n\u001b[1;32m   3736\u001b[0m     def drop(self, labels=None, axis=0, index=None, columns=None,\n",
      "\u001b[0;32m~/miniconda3/envs/inception/lib/python3.7/site-packages/pandas/core/generic.py\u001b[0m in \u001b[0;36mreindex\u001b[0;34m(self, *args, **kwargs)\u001b[0m\n\u001b[1;32m   4354\u001b[0m         \u001b[0;31m# perform the reindex on the axes\u001b[0m\u001b[0;34m\u001b[0m\u001b[0;34m\u001b[0m\u001b[0;34m\u001b[0m\u001b[0m\n\u001b[1;32m   4355\u001b[0m         return self._reindex_axes(axes, level, limit, tolerance, method,\n\u001b[0;32m-> 4356\u001b[0;31m                                   fill_value, copy).__finalize__(self)\n\u001b[0m\u001b[1;32m   4357\u001b[0m \u001b[0;34m\u001b[0m\u001b[0m\n\u001b[1;32m   4358\u001b[0m     def _reindex_axes(self, axes, level, limit, tolerance, method, fill_value,\n",
      "\u001b[0;32m~/miniconda3/envs/inception/lib/python3.7/site-packages/pandas/core/generic.py\u001b[0m in \u001b[0;36m_reindex_axes\u001b[0;34m(self, axes, level, limit, tolerance, method, fill_value, copy)\u001b[0m\n\u001b[1;32m   4367\u001b[0m             \u001b[0max\u001b[0m \u001b[0;34m=\u001b[0m \u001b[0mself\u001b[0m\u001b[0;34m.\u001b[0m\u001b[0m_get_axis\u001b[0m\u001b[0;34m(\u001b[0m\u001b[0ma\u001b[0m\u001b[0;34m)\u001b[0m\u001b[0;34m\u001b[0m\u001b[0;34m\u001b[0m\u001b[0m\n\u001b[1;32m   4368\u001b[0m             new_index, indexer = ax.reindex(labels, level=level, limit=limit,\n\u001b[0;32m-> 4369\u001b[0;31m                                             tolerance=tolerance, method=method)\n\u001b[0m\u001b[1;32m   4370\u001b[0m \u001b[0;34m\u001b[0m\u001b[0m\n\u001b[1;32m   4371\u001b[0m             \u001b[0maxis\u001b[0m \u001b[0;34m=\u001b[0m \u001b[0mself\u001b[0m\u001b[0;34m.\u001b[0m\u001b[0m_get_axis_number\u001b[0m\u001b[0;34m(\u001b[0m\u001b[0ma\u001b[0m\u001b[0;34m)\u001b[0m\u001b[0;34m\u001b[0m\u001b[0;34m\u001b[0m\u001b[0m\n",
      "\u001b[0;32m~/miniconda3/envs/inception/lib/python3.7/site-packages/pandas/core/indexes/base.py\u001b[0m in \u001b[0;36mreindex\u001b[0;34m(self, target, method, level, limit, tolerance)\u001b[0m\n\u001b[1;32m   3137\u001b[0m                         raise ValueError(\"cannot reindex a non-unique index \"\n\u001b[1;32m   3138\u001b[0m                                          \"with a method or limit\")\n\u001b[0;32m-> 3139\u001b[0;31m                     \u001b[0mindexer\u001b[0m\u001b[0;34m,\u001b[0m \u001b[0mmissing\u001b[0m \u001b[0;34m=\u001b[0m \u001b[0mself\u001b[0m\u001b[0;34m.\u001b[0m\u001b[0mget_indexer_non_unique\u001b[0m\u001b[0;34m(\u001b[0m\u001b[0mtarget\u001b[0m\u001b[0;34m)\u001b[0m\u001b[0;34m\u001b[0m\u001b[0;34m\u001b[0m\u001b[0m\n\u001b[0m\u001b[1;32m   3140\u001b[0m \u001b[0;34m\u001b[0m\u001b[0m\n\u001b[1;32m   3141\u001b[0m         \u001b[0;32mif\u001b[0m \u001b[0mpreserve_names\u001b[0m \u001b[0;32mand\u001b[0m \u001b[0mtarget\u001b[0m\u001b[0;34m.\u001b[0m\u001b[0mnlevels\u001b[0m \u001b[0;34m==\u001b[0m \u001b[0;36m1\u001b[0m \u001b[0;32mand\u001b[0m \u001b[0mtarget\u001b[0m\u001b[0;34m.\u001b[0m\u001b[0mname\u001b[0m \u001b[0;34m!=\u001b[0m \u001b[0mself\u001b[0m\u001b[0;34m.\u001b[0m\u001b[0mname\u001b[0m\u001b[0;34m:\u001b[0m\u001b[0;34m\u001b[0m\u001b[0;34m\u001b[0m\u001b[0m\n",
      "\u001b[0;32m~/miniconda3/envs/inception/lib/python3.7/site-packages/pandas/core/indexes/base.py\u001b[0m in \u001b[0;36mget_indexer_non_unique\u001b[0;34m(self, target)\u001b[0m\n\u001b[1;32m   4441\u001b[0m             \u001b[0mtgt_values\u001b[0m \u001b[0;34m=\u001b[0m \u001b[0mtarget\u001b[0m\u001b[0;34m.\u001b[0m\u001b[0m_ndarray_values\u001b[0m\u001b[0;34m\u001b[0m\u001b[0;34m\u001b[0m\u001b[0m\n\u001b[1;32m   4442\u001b[0m \u001b[0;34m\u001b[0m\u001b[0m\n\u001b[0;32m-> 4443\u001b[0;31m         \u001b[0mindexer\u001b[0m\u001b[0;34m,\u001b[0m \u001b[0mmissing\u001b[0m \u001b[0;34m=\u001b[0m \u001b[0mself\u001b[0m\u001b[0;34m.\u001b[0m\u001b[0m_engine\u001b[0m\u001b[0;34m.\u001b[0m\u001b[0mget_indexer_non_unique\u001b[0m\u001b[0;34m(\u001b[0m\u001b[0mtgt_values\u001b[0m\u001b[0;34m)\u001b[0m\u001b[0;34m\u001b[0m\u001b[0;34m\u001b[0m\u001b[0m\n\u001b[0m\u001b[1;32m   4444\u001b[0m         \u001b[0;32mreturn\u001b[0m \u001b[0mensure_platform_int\u001b[0m\u001b[0;34m(\u001b[0m\u001b[0mindexer\u001b[0m\u001b[0;34m)\u001b[0m\u001b[0;34m,\u001b[0m \u001b[0mmissing\u001b[0m\u001b[0;34m\u001b[0m\u001b[0;34m\u001b[0m\u001b[0m\n\u001b[1;32m   4445\u001b[0m \u001b[0;34m\u001b[0m\u001b[0m\n",
      "\u001b[0;32mpandas/_libs/index.pyx\u001b[0m in \u001b[0;36mpandas._libs.index.IndexEngine.get_indexer_non_unique\u001b[0;34m()\u001b[0m\n",
      "\u001b[0;32m~/miniconda3/envs/inception/lib/python3.7/site-packages/numpy/core/fromnumeric.py\u001b[0m in \u001b[0;36mresize\u001b[0;34m(a, new_shape)\u001b[0m\n\u001b[1;32m   1318\u001b[0m         \u001b[0mextra\u001b[0m \u001b[0;34m=\u001b[0m \u001b[0mNa\u001b[0m \u001b[0;34m-\u001b[0m \u001b[0mextra\u001b[0m\u001b[0;34m\u001b[0m\u001b[0;34m\u001b[0m\u001b[0m\n\u001b[1;32m   1319\u001b[0m \u001b[0;34m\u001b[0m\u001b[0m\n\u001b[0;32m-> 1320\u001b[0;31m     \u001b[0ma\u001b[0m \u001b[0;34m=\u001b[0m \u001b[0mconcatenate\u001b[0m\u001b[0;34m(\u001b[0m\u001b[0;34m(\u001b[0m\u001b[0ma\u001b[0m\u001b[0;34m,\u001b[0m\u001b[0;34m)\u001b[0m \u001b[0;34m*\u001b[0m \u001b[0mn_copies\u001b[0m\u001b[0;34m)\u001b[0m\u001b[0;34m\u001b[0m\u001b[0;34m\u001b[0m\u001b[0m\n\u001b[0m\u001b[1;32m   1321\u001b[0m     \u001b[0;32mif\u001b[0m \u001b[0mextra\u001b[0m \u001b[0;34m>\u001b[0m \u001b[0;36m0\u001b[0m\u001b[0;34m:\u001b[0m\u001b[0;34m\u001b[0m\u001b[0;34m\u001b[0m\u001b[0m\n\u001b[1;32m   1322\u001b[0m         \u001b[0ma\u001b[0m \u001b[0;34m=\u001b[0m \u001b[0ma\u001b[0m\u001b[0;34m[\u001b[0m\u001b[0;34m:\u001b[0m\u001b[0;34m-\u001b[0m\u001b[0mextra\u001b[0m\u001b[0;34m]\u001b[0m\u001b[0;34m\u001b[0m\u001b[0;34m\u001b[0m\u001b[0m\n",
      "\u001b[0;31mKeyboardInterrupt\u001b[0m: "
     ]
    }
   ],
   "source": [
    "\n",
    "y_col_dist = sample_wgts(df_raw[y_col], fwd_ret_labels)\n",
    "(y_col_dist[fwd_ret_labels]).round(3)"
   ]
  },
  {
   "cell_type": "markdown",
   "metadata": {},
   "source": [
    "### Train models"
   ]
  },
  {
   "cell_type": "code",
   "execution_count": null,
   "metadata": {},
   "outputs": [],
   "source": [
    "exp_log = { 'id': int(time.time()) }\n",
    "exp_log['df_raw.describe'] = log_as_dict(df_raw)"
   ]
  },
  {
   "cell_type": "code",
   "execution_count": null,
   "metadata": {},
   "outputs": [],
   "source": [
    "exp_log['pred_fwd_windows'] = pred_fwd_windows\n",
    "exp_log['bench'] = bench\n",
    "exp_log['y_col'] = y_col\n",
    "exp_log['cut_range'] = cut_range\n",
    "exp_log['fwd_ret_labels'] = fwd_ret_labels\n",
    "exp_log['df_raw.describe'] = log_as_dict(df_raw)\n",
    "exp_log['y_col_dist'] = log_as_dict(y_col_dist)"
   ]
  },
  {
   "cell_type": "code",
   "execution_count": 279,
   "metadata": {},
   "outputs": [],
   "source": [
    "from sklearn import preprocessing\n",
    "from sklearn.impute import SimpleImputer\n",
    "from sklearn.model_selection import cross_val_score, cross_validate, train_test_split\n",
    "from sklearn.model_selection import GridSearchCV\n",
    "from sklearn.feature_selection import SelectFromModel\n",
    "from sklearn.utils.validation import column_or_1d\n",
    "from sklearn.utils.multiclass import unique_labels\n",
    "from sklearn.metrics import confusion_matrix, classification_report\n",
    "from sklearn.metrics import accuracy_score, log_loss, precision_recall_fscore_support\n",
    "from sklearn.metrics import precision_score, roc_auc_score\n",
    "\n",
    "from sklearn.tree import DecisionTreeClassifier\n",
    "from sklearn.ensemble import AdaBoostClassifier\n",
    "from sklearn.ensemble import RandomForestClassifier\n",
    "from sklearn.ensemble import ExtraTreesClassifier\n",
    "from sklearn.ensemble import GradientBoostingClassifier\n",
    "from sklearn.neural_network import MLPClassifier"
   ]
  },
  {
   "cell_type": "code",
   "execution_count": null,
   "metadata": {},
   "outputs": [],
   "source": [
    "# Mean based imputer\n",
    "imputer_on = True\n",
    "imp = SimpleImputer(missing_values=np.nan, strategy='mean')\n",
    "if imputer_on:\n",
    "    x_cols = df_raw.columns[:-1]\n",
    "    df_raw[x_cols] = imp.fit_transform(df_raw[x_cols])\n",
    "\n",
    "exp_log['imputer_on'] = imputer_on\n",
    "exp_log['imputer'] = imp.get_params()\n",
    "df_raw.shape"
   ]
  },
  {
   "cell_type": "markdown",
   "metadata": {
    "heading_collapsed": true
   },
   "source": [
    "### Old Dataset Creation"
   ]
  },
  {
   "cell_type": "code",
   "execution_count": 27,
   "metadata": {
    "hidden": true
   },
   "outputs": [],
   "source": [
    "ds_name = 'co_price_mom_ds'\n",
    "update_fmt = 'Added {} to {} dataset'"
   ]
  },
  {
   "cell_type": "code",
   "execution_count": null,
   "metadata": {
    "hidden": true,
    "scrolled": true
   },
   "outputs": [],
   "source": [
    "%%time\n",
    "# Running for entire universe takes a while\n",
    "ml_ds_df = pd.DataFrame()\n",
    "for s in ds_symbols:\n",
    "    print(update_fmt.format(s, ds_name))\n",
    "    ml_ds = co_price_mom_ds(s, px_close)\n",
    "    ml_ds_df = ml_ds_df.append(ml_ds.copy(), sort=False)"
   ]
  },
  {
   "cell_type": "code",
   "execution_count": null,
   "metadata": {
    "hidden": true
   },
   "outputs": [],
   "source": [
    "med_cutoff = ml_ds_df.describe().loc['50%']\n",
    "ml_ds_cols = med_cutoff[med_cutoff < 3].index.tolist()\n",
    "ml_ds_df = ml_ds_df[ml_ds_cols]\n",
    "ml_ds_df.info()"
   ]
  },
  {
   "cell_type": "code",
   "execution_count": 50,
   "metadata": {
    "hidden": true
   },
   "outputs": [],
   "source": [
    "# Discretize forward returns into consistent classes\n",
    "class_cols = ['fwdChg1w', 'fwdChg1m', 'fwdChg3m']\n",
    "cut_range = [-1, -0.05, .0, .02, .09, 1.]\n",
    "fwd_ret_labels = [\"bear\", \"short\", \"neutral\", \"long\", \"bull\"]\n",
    "for c in class_cols:\n",
    "    ml_ds_df[c] = pd.cut(ml_ds_df[c], cut_range, labels=fwd_ret_labels)"
   ]
  },
  {
   "cell_type": "code",
   "execution_count": null,
   "metadata": {
    "hidden": true
   },
   "outputs": [],
   "source": [
    "# Drop records showing nans\n",
    "ml_ds_df.dropna(inplace=True)\n",
    "ml_ds_df.info()"
   ]
  },
  {
   "cell_type": "code",
   "execution_count": null,
   "metadata": {
    "hidden": true
   },
   "outputs": [],
   "source": [
    "# Gut check only\n",
    "ml_ds_df.hist(figsize=(15,15));"
   ]
  },
  {
   "cell_type": "code",
   "execution_count": 1171,
   "metadata": {
    "hidden": true
   },
   "outputs": [
    {
     "name": "stdout",
     "output_type": "stream",
     "text": [
      "Added 489174 to co_price_mom_ds dataset\n",
      "Saved training/co_price_mom_ds.csv\n"
     ]
    }
   ],
   "source": [
    "print(update_fmt.format(len(ml_ds_df), ds_name))\n",
    "csv_store(ml_ds_df, 'training/', csv_ext.format('co_price_mom_ds'))\n",
    "ml_ds_df.to_csv(csv_ext.format('co_price_mom_ds'), index=False)"
   ]
  },
  {
   "cell_type": "markdown",
   "metadata": {
    "heading_collapsed": true
   },
   "source": [
    "### Single company in one shot"
   ]
  },
  {
   "cell_type": "code",
   "execution_count": 7,
   "metadata": {
    "hidden": true
   },
   "outputs": [],
   "source": [
    "symbol = 'AAPL'\n",
    "excl_list = ['ORBK']\n",
    "profile.drop(profile[profile.symbol.isin(excl_list)].index, inplace=True)"
   ]
  },
  {
   "cell_type": "code",
   "execution_count": 18,
   "metadata": {
    "hidden": true
   },
   "outputs": [],
   "source": [
    "ml_ds = co_price_mom_ds(symbol, px_close)"
   ]
  },
  {
   "cell_type": "code",
   "execution_count": 19,
   "metadata": {
    "hidden": true
   },
   "outputs": [
    {
     "data": {
      "text/html": [
       "<div>\n",
       "<style scoped>\n",
       "    .dataframe tbody tr th:only-of-type {\n",
       "        vertical-align: middle;\n",
       "    }\n",
       "\n",
       "    .dataframe tbody tr th {\n",
       "        vertical-align: top;\n",
       "    }\n",
       "\n",
       "    .dataframe thead th {\n",
       "        text-align: right;\n",
       "    }\n",
       "</style>\n",
       "<table border=\"1\" class=\"dataframe\">\n",
       "  <thead>\n",
       "    <tr style=\"text-align: right;\">\n",
       "      <th></th>\n",
       "      <th>count</th>\n",
       "      <th>mean</th>\n",
       "      <th>std</th>\n",
       "      <th>min</th>\n",
       "      <th>25%</th>\n",
       "      <th>50%</th>\n",
       "      <th>75%</th>\n",
       "      <th>max</th>\n",
       "    </tr>\n",
       "  </thead>\n",
       "  <tbody>\n",
       "    <tr>\n",
       "      <th>high</th>\n",
       "      <td>2,516.00</td>\n",
       "      <td>94.67</td>\n",
       "      <td>50.46</td>\n",
       "      <td>12.51</td>\n",
       "      <td>54.74</td>\n",
       "      <td>89.26</td>\n",
       "      <td>124.80</td>\n",
       "      <td>233.47</td>\n",
       "    </tr>\n",
       "    <tr>\n",
       "      <th>low</th>\n",
       "      <td>2,516.00</td>\n",
       "      <td>92.96</td>\n",
       "      <td>49.63</td>\n",
       "      <td>11.76</td>\n",
       "      <td>53.43</td>\n",
       "      <td>87.38</td>\n",
       "      <td>122.51</td>\n",
       "      <td>229.78</td>\n",
       "    </tr>\n",
       "    <tr>\n",
       "      <th>open</th>\n",
       "      <td>2,516.00</td>\n",
       "      <td>93.84</td>\n",
       "      <td>50.04</td>\n",
       "      <td>12.03</td>\n",
       "      <td>54.15</td>\n",
       "      <td>88.44</td>\n",
       "      <td>123.50</td>\n",
       "      <td>230.78</td>\n",
       "    </tr>\n",
       "    <tr>\n",
       "      <th>close</th>\n",
       "      <td>2,516.00</td>\n",
       "      <td>93.84</td>\n",
       "      <td>50.05</td>\n",
       "      <td>11.87</td>\n",
       "      <td>53.92</td>\n",
       "      <td>88.46</td>\n",
       "      <td>123.38</td>\n",
       "      <td>232.07</td>\n",
       "    </tr>\n",
       "    <tr>\n",
       "      <th>volume</th>\n",
       "      <td>2,516.00</td>\n",
       "      <td>83,709,513.48</td>\n",
       "      <td>59,975,463.78</td>\n",
       "      <td>11,475,900.00</td>\n",
       "      <td>35,816,850.00</td>\n",
       "      <td>68,848,500.00</td>\n",
       "      <td>113,345,225.00</td>\n",
       "      <td>470,249,500.00</td>\n",
       "    </tr>\n",
       "    <tr>\n",
       "      <th>sma20</th>\n",
       "      <td>2,497.00</td>\n",
       "      <td>93.85</td>\n",
       "      <td>49.66</td>\n",
       "      <td>13.70</td>\n",
       "      <td>54.56</td>\n",
       "      <td>87.56</td>\n",
       "      <td>123.97</td>\n",
       "      <td>223.46</td>\n",
       "    </tr>\n",
       "    <tr>\n",
       "      <th>sma20ub</th>\n",
       "      <td>2,497.00</td>\n",
       "      <td>98.34</td>\n",
       "      <td>51.93</td>\n",
       "      <td>15.72</td>\n",
       "      <td>57.64</td>\n",
       "      <td>93.10</td>\n",
       "      <td>128.86</td>\n",
       "      <td>231.21</td>\n",
       "    </tr>\n",
       "    <tr>\n",
       "      <th>sma20lb</th>\n",
       "      <td>2,497.00</td>\n",
       "      <td>89.35</td>\n",
       "      <td>47.53</td>\n",
       "      <td>11.68</td>\n",
       "      <td>51.71</td>\n",
       "      <td>83.13</td>\n",
       "      <td>115.90</td>\n",
       "      <td>216.30</td>\n",
       "    </tr>\n",
       "    <tr>\n",
       "      <th>sma20bw</th>\n",
       "      <td>2,497.00</td>\n",
       "      <td>0.05</td>\n",
       "      <td>0.02</td>\n",
       "      <td>0.01</td>\n",
       "      <td>0.03</td>\n",
       "      <td>0.05</td>\n",
       "      <td>0.06</td>\n",
       "      <td>0.15</td>\n",
       "    </tr>\n",
       "    <tr>\n",
       "      <th>pxPercStdUB</th>\n",
       "      <td>2,497.00</td>\n",
       "      <td>-0.04</td>\n",
       "      <td>0.04</td>\n",
       "      <td>-0.23</td>\n",
       "      <td>-0.06</td>\n",
       "      <td>-0.03</td>\n",
       "      <td>-0.01</td>\n",
       "      <td>0.04</td>\n",
       "    </tr>\n",
       "    <tr>\n",
       "      <th>pxPercStdLB</th>\n",
       "      <td>2,497.00</td>\n",
       "      <td>0.06</td>\n",
       "      <td>0.05</td>\n",
       "      <td>-0.05</td>\n",
       "      <td>0.02</td>\n",
       "      <td>0.05</td>\n",
       "      <td>0.09</td>\n",
       "      <td>0.34</td>\n",
       "    </tr>\n",
       "    <tr>\n",
       "      <th>volMa10</th>\n",
       "      <td>2,497.00</td>\n",
       "      <td>83,540,924.35</td>\n",
       "      <td>49,738,226.57</td>\n",
       "      <td>17,468,390.00</td>\n",
       "      <td>38,159,530.00</td>\n",
       "      <td>72,549,385.00</td>\n",
       "      <td>123,706,030.00</td>\n",
       "      <td>231,309,820.00</td>\n",
       "    </tr>\n",
       "    <tr>\n",
       "      <th>volMa60</th>\n",
       "      <td>2,457.00</td>\n",
       "      <td>83,373,585.86</td>\n",
       "      <td>47,086,674.46</td>\n",
       "      <td>22,198,565.00</td>\n",
       "      <td>38,689,255.00</td>\n",
       "      <td>77,619,103.33</td>\n",
       "      <td>126,157,803.33</td>\n",
       "      <td>204,902,623.33</td>\n",
       "    </tr>\n",
       "    <tr>\n",
       "      <th>volPercMa10</th>\n",
       "      <td>2,497.00</td>\n",
       "      <td>1.00</td>\n",
       "      <td>0.38</td>\n",
       "      <td>0.29</td>\n",
       "      <td>0.76</td>\n",
       "      <td>0.91</td>\n",
       "      <td>1.14</td>\n",
       "      <td>5.10</td>\n",
       "    </tr>\n",
       "    <tr>\n",
       "      <th>volPercMa60</th>\n",
       "      <td>2,457.00</td>\n",
       "      <td>0.99</td>\n",
       "      <td>0.43</td>\n",
       "      <td>0.27</td>\n",
       "      <td>0.72</td>\n",
       "      <td>0.88</td>\n",
       "      <td>1.14</td>\n",
       "      <td>4.64</td>\n",
       "    </tr>\n",
       "    <tr>\n",
       "      <th>pxMa20</th>\n",
       "      <td>2,497.00</td>\n",
       "      <td>93.85</td>\n",
       "      <td>49.66</td>\n",
       "      <td>13.70</td>\n",
       "      <td>54.56</td>\n",
       "      <td>87.56</td>\n",
       "      <td>123.97</td>\n",
       "      <td>223.46</td>\n",
       "    </tr>\n",
       "    <tr>\n",
       "      <th>pxMa50</th>\n",
       "      <td>2,467.00</td>\n",
       "      <td>93.92</td>\n",
       "      <td>49.15</td>\n",
       "      <td>15.82</td>\n",
       "      <td>55.22</td>\n",
       "      <td>87.91</td>\n",
       "      <td>121.42</td>\n",
       "      <td>221.32</td>\n",
       "    </tr>\n",
       "    <tr>\n",
       "      <th>pxMa200</th>\n",
       "      <td>2,317.00</td>\n",
       "      <td>93.12</td>\n",
       "      <td>44.67</td>\n",
       "      <td>21.93</td>\n",
       "      <td>59.70</td>\n",
       "      <td>85.11</td>\n",
       "      <td>119.69</td>\n",
       "      <td>194.56</td>\n",
       "    </tr>\n",
       "    <tr>\n",
       "      <th>pxPercMa20</th>\n",
       "      <td>2,497.00</td>\n",
       "      <td>0.01</td>\n",
       "      <td>0.04</td>\n",
       "      <td>-0.14</td>\n",
       "      <td>-0.02</td>\n",
       "      <td>0.01</td>\n",
       "      <td>0.04</td>\n",
       "      <td>0.15</td>\n",
       "    </tr>\n",
       "    <tr>\n",
       "      <th>pxPercMa50</th>\n",
       "      <td>2,467.00</td>\n",
       "      <td>0.02</td>\n",
       "      <td>0.07</td>\n",
       "      <td>-0.23</td>\n",
       "      <td>-0.02</td>\n",
       "      <td>0.03</td>\n",
       "      <td>0.07</td>\n",
       "      <td>0.23</td>\n",
       "    </tr>\n",
       "    <tr>\n",
       "      <th>pxPercMa200</th>\n",
       "      <td>2,317.00</td>\n",
       "      <td>0.09</td>\n",
       "      <td>0.14</td>\n",
       "      <td>-0.29</td>\n",
       "      <td>0.03</td>\n",
       "      <td>0.12</td>\n",
       "      <td>0.19</td>\n",
       "      <td>0.49</td>\n",
       "    </tr>\n",
       "    <tr>\n",
       "      <th>chg1m</th>\n",
       "      <td>2,496.00</td>\n",
       "      <td>0.02</td>\n",
       "      <td>0.08</td>\n",
       "      <td>-0.23</td>\n",
       "      <td>-0.02</td>\n",
       "      <td>0.02</td>\n",
       "      <td>0.07</td>\n",
       "      <td>0.43</td>\n",
       "    </tr>\n",
       "    <tr>\n",
       "      <th>chg3m</th>\n",
       "      <td>2,456.00</td>\n",
       "      <td>0.07</td>\n",
       "      <td>0.14</td>\n",
       "      <td>-0.37</td>\n",
       "      <td>-0.01</td>\n",
       "      <td>0.07</td>\n",
       "      <td>0.15</td>\n",
       "      <td>0.70</td>\n",
       "    </tr>\n",
       "    <tr>\n",
       "      <th>chg6m</th>\n",
       "      <td>2,336.00</td>\n",
       "      <td>0.22</td>\n",
       "      <td>0.26</td>\n",
       "      <td>-0.40</td>\n",
       "      <td>0.05</td>\n",
       "      <td>0.25</td>\n",
       "      <td>0.38</td>\n",
       "      <td>1.41</td>\n",
       "    </tr>\n",
       "    <tr>\n",
       "      <th>fwdChg1w</th>\n",
       "      <td>2,511.00</td>\n",
       "      <td>0.01</td>\n",
       "      <td>0.04</td>\n",
       "      <td>-0.12</td>\n",
       "      <td>-0.02</td>\n",
       "      <td>0.01</td>\n",
       "      <td>0.03</td>\n",
       "      <td>0.15</td>\n",
       "    </tr>\n",
       "    <tr>\n",
       "      <th>fwdChg1m</th>\n",
       "      <td>2,496.00</td>\n",
       "      <td>0.02</td>\n",
       "      <td>0.08</td>\n",
       "      <td>-0.23</td>\n",
       "      <td>-0.02</td>\n",
       "      <td>0.02</td>\n",
       "      <td>0.07</td>\n",
       "      <td>0.43</td>\n",
       "    </tr>\n",
       "    <tr>\n",
       "      <th>fwdChg3m</th>\n",
       "      <td>2,456.00</td>\n",
       "      <td>0.07</td>\n",
       "      <td>0.14</td>\n",
       "      <td>-0.37</td>\n",
       "      <td>-0.01</td>\n",
       "      <td>0.07</td>\n",
       "      <td>0.15</td>\n",
       "      <td>0.70</td>\n",
       "    </tr>\n",
       "    <tr>\n",
       "      <th>rs1mInd</th>\n",
       "      <td>2,496.00</td>\n",
       "      <td>0.00</td>\n",
       "      <td>0.06</td>\n",
       "      <td>-0.41</td>\n",
       "      <td>-0.03</td>\n",
       "      <td>0.00</td>\n",
       "      <td>0.04</td>\n",
       "      <td>0.21</td>\n",
       "    </tr>\n",
       "    <tr>\n",
       "      <th>rs3mInd</th>\n",
       "      <td>2,456.00</td>\n",
       "      <td>0.02</td>\n",
       "      <td>0.11</td>\n",
       "      <td>-0.54</td>\n",
       "      <td>-0.05</td>\n",
       "      <td>0.01</td>\n",
       "      <td>0.08</td>\n",
       "      <td>0.36</td>\n",
       "    </tr>\n",
       "    <tr>\n",
       "      <th>rs6mInd</th>\n",
       "      <td>2,336.00</td>\n",
       "      <td>0.07</td>\n",
       "      <td>0.20</td>\n",
       "      <td>-0.38</td>\n",
       "      <td>-0.07</td>\n",
       "      <td>0.07</td>\n",
       "      <td>0.19</td>\n",
       "      <td>0.66</td>\n",
       "    </tr>\n",
       "    <tr>\n",
       "      <th>rs1mSect</th>\n",
       "      <td>2,496.00</td>\n",
       "      <td>0.00</td>\n",
       "      <td>0.07</td>\n",
       "      <td>-0.73</td>\n",
       "      <td>-0.04</td>\n",
       "      <td>0.00</td>\n",
       "      <td>0.04</td>\n",
       "      <td>0.24</td>\n",
       "    </tr>\n",
       "    <tr>\n",
       "      <th>rs3mSect</th>\n",
       "      <td>2,456.00</td>\n",
       "      <td>0.01</td>\n",
       "      <td>0.12</td>\n",
       "      <td>-0.88</td>\n",
       "      <td>-0.06</td>\n",
       "      <td>0.00</td>\n",
       "      <td>0.07</td>\n",
       "      <td>0.40</td>\n",
       "    </tr>\n",
       "    <tr>\n",
       "      <th>rs6mSect</th>\n",
       "      <td>2,336.00</td>\n",
       "      <td>0.03</td>\n",
       "      <td>0.23</td>\n",
       "      <td>-0.88</td>\n",
       "      <td>-0.10</td>\n",
       "      <td>0.02</td>\n",
       "      <td>0.19</td>\n",
       "      <td>0.73</td>\n",
       "    </tr>\n",
       "    <tr>\n",
       "      <th>rs1mSPY</th>\n",
       "      <td>2,496.00</td>\n",
       "      <td>0.01</td>\n",
       "      <td>0.06</td>\n",
       "      <td>-0.20</td>\n",
       "      <td>-0.02</td>\n",
       "      <td>0.01</td>\n",
       "      <td>0.05</td>\n",
       "      <td>0.22</td>\n",
       "    </tr>\n",
       "    <tr>\n",
       "      <th>rs3mSPY</th>\n",
       "      <td>2,456.00</td>\n",
       "      <td>0.04</td>\n",
       "      <td>0.12</td>\n",
       "      <td>-0.35</td>\n",
       "      <td>-0.03</td>\n",
       "      <td>0.04</td>\n",
       "      <td>0.11</td>\n",
       "      <td>0.44</td>\n",
       "    </tr>\n",
       "    <tr>\n",
       "      <th>rs6mSPY</th>\n",
       "      <td>2,336.00</td>\n",
       "      <td>0.13</td>\n",
       "      <td>0.24</td>\n",
       "      <td>-0.54</td>\n",
       "      <td>-0.01</td>\n",
       "      <td>0.15</td>\n",
       "      <td>0.30</td>\n",
       "      <td>0.79</td>\n",
       "    </tr>\n",
       "    <tr>\n",
       "      <th>fwdSSRet</th>\n",
       "      <td>2,516.00</td>\n",
       "      <td>0.03</td>\n",
       "      <td>0.01</td>\n",
       "      <td>-0.00</td>\n",
       "      <td>0.02</td>\n",
       "      <td>0.03</td>\n",
       "      <td>0.04</td>\n",
       "      <td>0.04</td>\n",
       "    </tr>\n",
       "  </tbody>\n",
       "</table>\n",
       "</div>"
      ],
      "text/plain": [
       "               count          mean           std           min           25%  \\\n",
       "high        2,516.00         94.67         50.46         12.51         54.74   \n",
       "low         2,516.00         92.96         49.63         11.76         53.43   \n",
       "open        2,516.00         93.84         50.04         12.03         54.15   \n",
       "close       2,516.00         93.84         50.05         11.87         53.92   \n",
       "volume      2,516.00 83,709,513.48 59,975,463.78 11,475,900.00 35,816,850.00   \n",
       "sma20       2,497.00         93.85         49.66         13.70         54.56   \n",
       "sma20ub     2,497.00         98.34         51.93         15.72         57.64   \n",
       "sma20lb     2,497.00         89.35         47.53         11.68         51.71   \n",
       "sma20bw     2,497.00          0.05          0.02          0.01          0.03   \n",
       "pxPercStdUB 2,497.00         -0.04          0.04         -0.23         -0.06   \n",
       "pxPercStdLB 2,497.00          0.06          0.05         -0.05          0.02   \n",
       "volMa10     2,497.00 83,540,924.35 49,738,226.57 17,468,390.00 38,159,530.00   \n",
       "volMa60     2,457.00 83,373,585.86 47,086,674.46 22,198,565.00 38,689,255.00   \n",
       "volPercMa10 2,497.00          1.00          0.38          0.29          0.76   \n",
       "volPercMa60 2,457.00          0.99          0.43          0.27          0.72   \n",
       "pxMa20      2,497.00         93.85         49.66         13.70         54.56   \n",
       "pxMa50      2,467.00         93.92         49.15         15.82         55.22   \n",
       "pxMa200     2,317.00         93.12         44.67         21.93         59.70   \n",
       "pxPercMa20  2,497.00          0.01          0.04         -0.14         -0.02   \n",
       "pxPercMa50  2,467.00          0.02          0.07         -0.23         -0.02   \n",
       "pxPercMa200 2,317.00          0.09          0.14         -0.29          0.03   \n",
       "chg1m       2,496.00          0.02          0.08         -0.23         -0.02   \n",
       "chg3m       2,456.00          0.07          0.14         -0.37         -0.01   \n",
       "chg6m       2,336.00          0.22          0.26         -0.40          0.05   \n",
       "fwdChg1w    2,511.00          0.01          0.04         -0.12         -0.02   \n",
       "fwdChg1m    2,496.00          0.02          0.08         -0.23         -0.02   \n",
       "fwdChg3m    2,456.00          0.07          0.14         -0.37         -0.01   \n",
       "rs1mInd     2,496.00          0.00          0.06         -0.41         -0.03   \n",
       "rs3mInd     2,456.00          0.02          0.11         -0.54         -0.05   \n",
       "rs6mInd     2,336.00          0.07          0.20         -0.38         -0.07   \n",
       "rs1mSect    2,496.00          0.00          0.07         -0.73         -0.04   \n",
       "rs3mSect    2,456.00          0.01          0.12         -0.88         -0.06   \n",
       "rs6mSect    2,336.00          0.03          0.23         -0.88         -0.10   \n",
       "rs1mSPY     2,496.00          0.01          0.06         -0.20         -0.02   \n",
       "rs3mSPY     2,456.00          0.04          0.12         -0.35         -0.03   \n",
       "rs6mSPY     2,336.00          0.13          0.24         -0.54         -0.01   \n",
       "fwdSSRet    2,516.00          0.03          0.01         -0.00          0.02   \n",
       "\n",
       "                      50%            75%            max  \n",
       "high                89.26         124.80         233.47  \n",
       "low                 87.38         122.51         229.78  \n",
       "open                88.44         123.50         230.78  \n",
       "close               88.46         123.38         232.07  \n",
       "volume      68,848,500.00 113,345,225.00 470,249,500.00  \n",
       "sma20               87.56         123.97         223.46  \n",
       "sma20ub             93.10         128.86         231.21  \n",
       "sma20lb             83.13         115.90         216.30  \n",
       "sma20bw              0.05           0.06           0.15  \n",
       "pxPercStdUB         -0.03          -0.01           0.04  \n",
       "pxPercStdLB          0.05           0.09           0.34  \n",
       "volMa10     72,549,385.00 123,706,030.00 231,309,820.00  \n",
       "volMa60     77,619,103.33 126,157,803.33 204,902,623.33  \n",
       "volPercMa10          0.91           1.14           5.10  \n",
       "volPercMa60          0.88           1.14           4.64  \n",
       "pxMa20              87.56         123.97         223.46  \n",
       "pxMa50              87.91         121.42         221.32  \n",
       "pxMa200             85.11         119.69         194.56  \n",
       "pxPercMa20           0.01           0.04           0.15  \n",
       "pxPercMa50           0.03           0.07           0.23  \n",
       "pxPercMa200          0.12           0.19           0.49  \n",
       "chg1m                0.02           0.07           0.43  \n",
       "chg3m                0.07           0.15           0.70  \n",
       "chg6m                0.25           0.38           1.41  \n",
       "fwdChg1w             0.01           0.03           0.15  \n",
       "fwdChg1m             0.02           0.07           0.43  \n",
       "fwdChg3m             0.07           0.15           0.70  \n",
       "rs1mInd              0.00           0.04           0.21  \n",
       "rs3mInd              0.01           0.08           0.36  \n",
       "rs6mInd              0.07           0.19           0.66  \n",
       "rs1mSect             0.00           0.04           0.24  \n",
       "rs3mSect             0.00           0.07           0.40  \n",
       "rs6mSect             0.02           0.19           0.73  \n",
       "rs1mSPY              0.01           0.05           0.22  \n",
       "rs3mSPY              0.04           0.11           0.44  \n",
       "rs6mSPY              0.15           0.30           0.79  \n",
       "fwdSSRet             0.03           0.04           0.04  "
      ]
     },
     "execution_count": 19,
     "metadata": {},
     "output_type": "execute_result"
    }
   ],
   "source": [
    "ml_ds.describe().T"
   ]
  },
  {
   "cell_type": "code",
   "execution_count": 8,
   "metadata": {
    "hidden": true
   },
   "outputs": [
    {
     "name": "stdout",
     "output_type": "stream",
     "text": [
      "<class 'pandas.core.frame.DataFrame'>\n",
      "DatetimeIndex: 2516 entries, 2009-02-27 to 2019-02-26\n",
      "Data columns (total 24 columns):\n",
      "sma20bw        2497 non-null float64\n",
      "pxPercStdUB    2497 non-null float64\n",
      "pxPercStdLB    2497 non-null float64\n",
      "volPercMa10    2497 non-null float64\n",
      "volPercMa60    2457 non-null float64\n",
      "pxPercMa20     2497 non-null float64\n",
      "pxPercMa50     2467 non-null float64\n",
      "pxPercMa200    2317 non-null float64\n",
      "chg1m          2496 non-null float64\n",
      "chg3m          2456 non-null float64\n",
      "chg6m          2336 non-null float64\n",
      "fwdChg1w       2511 non-null float64\n",
      "fwdChg1m       2496 non-null float64\n",
      "fwdChg3m       2456 non-null float64\n",
      "rs1mInd        2496 non-null float64\n",
      "rs3mInd        2456 non-null float64\n",
      "rs6mInd        2336 non-null float64\n",
      "rs1mSect       2496 non-null float64\n",
      "rs3mSect       2456 non-null float64\n",
      "rs6mSect       2336 non-null float64\n",
      "rs1mSPY        2496 non-null float64\n",
      "rs3mSPY        2456 non-null float64\n",
      "rs6mSPY        2336 non-null float64\n",
      "fwdSSRet       2516 non-null float64\n",
      "dtypes: float64(24)\n",
      "memory usage: 491.4 KB\n"
     ]
    }
   ],
   "source": [
    "ml_ds_cols = cutoff_tresh_cols(ml_ds, '50%', 3)\n",
    "ml_ds = ml_ds[ml_ds_cols]\n",
    "ml_ds.info()"
   ]
  },
  {
   "cell_type": "code",
   "execution_count": 87,
   "metadata": {
    "hidden": true
   },
   "outputs": [
    {
     "name": "stdout",
     "output_type": "stream",
     "text": [
      "ds_co_price_mom_fwdChg1w ['sma20bw', 'pxPercStdUB', 'pxPercStdLB', 'volPercMa10', 'volPercMa60', 'pxPercMa20', 'pxPercMa50', 'pxPercMa200', 'chg1m', 'chg3m', 'chg6m', 'rs1mInd', 'rs3mInd', 'rs6mInd', 'rs1mSect', 'rs3mSect', 'rs6mSect', 'rs1mSPY', 'rs3mSPY', 'rs6mSPY', 'fwdSSRet', 'fwdChg1w']\n",
      "ds_co_price_mom_fwdChg1m ['sma20bw', 'pxPercStdUB', 'pxPercStdLB', 'volPercMa10', 'volPercMa60', 'pxPercMa20', 'pxPercMa50', 'pxPercMa200', 'chg1m', 'chg3m', 'chg6m', 'rs1mInd', 'rs3mInd', 'rs6mInd', 'rs1mSect', 'rs3mSect', 'rs6mSect', 'rs1mSPY', 'rs3mSPY', 'rs6mSPY', 'fwdSSRet', 'fwdChg1m']\n",
      "ds_co_price_mom_fwdChg3m ['sma20bw', 'pxPercStdUB', 'pxPercStdLB', 'volPercMa10', 'volPercMa60', 'pxPercMa20', 'pxPercMa50', 'pxPercMa200', 'chg1m', 'chg3m', 'chg6m', 'rs1mInd', 'rs3mInd', 'rs6mInd', 'rs1mSect', 'rs3mSect', 'rs6mSect', 'rs1mSPY', 'rs3mSPY', 'rs6mSPY', 'fwdSSRet', 'fwdChg3m']\n"
     ]
    }
   ],
   "source": [
    "class_cols = ['fwdChg1w', 'fwdChg1m', 'fwdChg3m']\n",
    "Xs = [x for x in ml_ds_cols if x not in class_cols]\n",
    "base_name = 'ds_co_price_mom_'\n",
    "for y in class_cols:\n",
    "    ds_cols = Xs + [y]\n",
    "    fname = base_name + y\n",
    "    csv_store(ml_ds_df[ds_cols].dropna(), 'training/', csv_ext.format(fname))\n",
    "    print(update_fmt.format(len(ml_ds_df), fname))"
   ]
  },
  {
   "cell_type": "code",
   "execution_count": 57,
   "metadata": {
    "hidden": true
   },
   "outputs": [
    {
     "data": {
      "text/plain": [
       "array([ 0.07520395,  0.96115697,  1.11747856,  0.83438989,  0.63417011,\n",
       "        1.03343976,  1.06923453,  0.89787488,  0.1221787 , -0.02796925,\n",
       "       -0.09572123,         nan,         nan,         nan,  0.4480912 ,\n",
       "       -0.19057569, -0.32822912,  0.89876268, -0.15179565,  5.29095246,\n",
       "        2.06532827, -0.51695119, -5.44476955,  0.03437911])"
      ]
     },
     "execution_count": 57,
     "metadata": {},
     "output_type": "execute_result"
    }
   ],
   "source": [
    "ml_ds.iloc[-1].values"
   ]
  },
  {
   "cell_type": "markdown",
   "metadata": {
    "heading_collapsed": true
   },
   "source": [
    "### Single company dataset step-by-step"
   ]
  },
  {
   "cell_type": "code",
   "execution_count": 1103,
   "metadata": {
    "hidden": true
   },
   "outputs": [],
   "source": [
    "# Retrieves historical pricing\n",
    "secpx = get_symbol_pricing(symbol, freq)\n",
    "secpx.set_index(secpx.index.astype(np.datetime64), inplace=True)"
   ]
  },
  {
   "cell_type": "code",
   "execution_count": 1104,
   "metadata": {
    "hidden": true
   },
   "outputs": [],
   "source": [
    "# some clean ups\n",
    "# profile.loc[profile[profile.symbol == 'ATHN'].index,:] # will happen \n",
    "# profile.drop([28], inplace=True)"
   ]
  },
  {
   "cell_type": "code",
   "execution_count": 1105,
   "metadata": {
    "code_folding": [],
    "hidden": true
   },
   "outputs": [],
   "source": [
    "# Note: since the universe is limited industry and sector\n",
    "# are not a good representation, need to expand universe \n",
    "# for better learning\n",
    "sec_index = to_index_form(get_symbol_pricing(symbol, freq, 'close'), symbol)\n",
    "\n",
    "symbols = profile[profile.industry == sec_industry].symbol.tolist()\n",
    "industry_index = get_ind_index(px_close[symbols], '1d', tail, ind_idx_ticker)[[ind_idx_ticker]]\n",
    "symbols = profile[profile.sector == sec_sector].symbol.tolist()\n",
    "sector_index = get_ind_index(px_close[symbols], '1d', tail, sect_idx_ticker)[[sect_idx_ticker]]\n",
    "market_index = to_index_form(get_symbol_pricing(market_etf, freq, 'close').tail(tail), market_etf)\n",
    "\n",
    "index_df = pd.DataFrame()\n",
    "index_df = index_df.append(sec_index)\n",
    "index_df[ind_idx_ticker] = industry_index\n",
    "index_df[sect_idx_ticker] = sector_index\n",
    "index_df[market_etf] = market_index"
   ]
  },
  {
   "cell_type": "code",
   "execution_count": 1106,
   "metadata": {
    "hidden": true
   },
   "outputs": [],
   "source": [
    "# industry, sector and market performance\n",
    "row = profile[profile.symbol == symbol]\n",
    "sec_sector, sec_industry = row.iloc[0].sector, row.iloc[0].industry\n",
    "sec_sector, sec_industry\n",
    "\n",
    "ind_sect_spy = index_df[[ind_idx_ticker, sect_idx_ticker, market_etf]]\n",
    "index_df[['indChg1m', 'sectChg1m', 'spyChg1m']] = ind_sect_spy.pct_change(periods=20)\n",
    "index_df[['indChg3m', 'sectChg3m', 'spyChg3m']] = ind_sect_spy.pct_change(periods=60)\n",
    "index_df[['indChg6m', 'sectChg6m', 'spyChg6m']] = ind_sect_spy.pct_change(periods=180)"
   ]
  },
  {
   "cell_type": "code",
   "execution_count": 1107,
   "metadata": {
    "hidden": true
   },
   "outputs": [],
   "source": [
    "# apply 20sma upper and lower std bands, # stds from file\n",
    "secpx = apply_std_boundaries(secpx, 'close', 20, stds)\n",
    "closepx = secpx['close']\n",
    "secpx['pxPercStdUB'] = closepx / secpx['sma20ub']\n",
    "secpx['pxPercStdLB'] = closepx / secpx['sma20lb']"
   ]
  },
  {
   "cell_type": "code",
   "execution_count": 1108,
   "metadata": {
    "hidden": true
   },
   "outputs": [],
   "source": [
    "# Volume averages\n",
    "volume = secpx['volume']\n",
    "secpx['volMa10'] = volume.rolling(20).mean()\n",
    "secpx['volMa60'] = volume.rolling(60).mean()\n",
    "\n",
    "# volume as a % of 10 and 60 day average\n",
    "secpx['volPercMa10'] = volume / secpx['volMa10']\n",
    "secpx['volPercMa60'] = volume / secpx['volMa60']\n",
    "\n",
    "# Price momentum transformations\n",
    "secpx['pxMa20'] = closepx.rolling(20).mean()\n",
    "secpx['pxMa50'] = closepx.rolling(50).mean()\n",
    "secpx['pxMa200'] = closepx.rolling(200).mean()\n",
    "\n",
    "# closing pricing as % of 20, 50 and 200 day average\n",
    "secpx['pxPercMa20'] = closepx / secpx['pxMa20']\n",
    "secpx['pxPercMa50'] = closepx / secpx['pxMa50']\n",
    "secpx['pxPercMa200'] = closepx / secpx['pxMa200']\n",
    "\n",
    "# historical returns for 1, 3, and 6 months\n",
    "secpx['chg1m'] = closepx.pct_change(periods=20)\n",
    "secpx['chg3m'] = closepx.pct_change(periods=60)\n",
    "secpx['chg6m'] = closepx.pct_change(periods=180)\n",
    "\n",
    "# Forward returns, 1w, 1m, 3m\n",
    "secpx['fwdChg1w'] = ((closepx.shift(-5) - closepx) / closepx)\n",
    "secpx['fwdChg1m'] = ((closepx.shift(-20) - closepx) / closepx)\n",
    "secpx['fwdChg3m'] = ((closepx.shift(-60) - closepx) / closepx)"
   ]
  },
  {
   "cell_type": "code",
   "execution_count": 1109,
   "metadata": {
    "hidden": true
   },
   "outputs": [],
   "source": [
    "# relative strength to industry, sector and market\n",
    "secpx['rs1mInd'] = (secpx['chg1m'] / index_df['indChg1m'])\n",
    "secpx['rs3mInd'] = (secpx['chg3m'] / index_df['indChg3m'])\n",
    "secpx['rs6mInd'] = (secpx['chg6m'] / index_df['indChg6m'])\n",
    "\n",
    "secpx['rs1mSect'] = (secpx['chg1m'] / index_df['sectChg1m'])\n",
    "secpx['rs3mSect'] = (secpx['chg3m'] / index_df['sectChg3m'])\n",
    "secpx['rs6mSect'] = (secpx['chg6m'] / index_df['sectChg6m'])\n",
    "\n",
    "secpx['rs1mSPY'] = (secpx['chg1m'] / index_df['spyChg1m'])\n",
    "secpx['rs3mSPY'] = (secpx['chg3m'] / index_df['spyChg3m'])\n",
    "secpx['rs6mSPY'] = (secpx['chg6m'] / index_df['spyChg6m'])"
   ]
  },
  {
   "cell_type": "code",
   "execution_count": 1110,
   "metadata": {
    "hidden": true
   },
   "outputs": [],
   "source": [
    "fwd_ss_ret = lambda x, df, arr:\\\n",
    "    df.loc[[y for y in arr[x-1] if y in df.index.tolist()]].mean()\n",
    "# [y for y in ss_pos[7-1] if y in ss_df.index.levels[1].tolist()]\n",
    "# ss_df.loc[('close'),[7, 8]]\n",
    "# ss_df['close'].loc[[7,8]]"
   ]
  },
  {
   "cell_type": "code",
   "execution_count": 1111,
   "metadata": {
    "hidden": true
   },
   "outputs": [],
   "source": [
    "# seasonality analysis\n",
    "ss_df = closepx.pct_change().resample('M').sum().to_frame()\n",
    "ss_df['year'], ss_df['month'] = ss_df.index.year, ss_df.index.month\n",
    "ss_df = ss_df.pivot_table(index='year', columns='month').mean()\n",
    "ss_pos = [(x, (x+1) if not (x+1) // 12 else 0, \n",
    "     x+2 if not (x+2) // 12 else x - 10) for x in range(12)]\n",
    "\n",
    "# [fwd_ss_ret(x+1, ss_df['close'], ss_pos) for x in range(12)] # test"
   ]
  },
  {
   "cell_type": "code",
   "execution_count": 1112,
   "metadata": {
    "hidden": true
   },
   "outputs": [],
   "source": [
    "# apply seasonality, mean return of curr month plus next two\n",
    "secpx['month'] = secpx.index.month\n",
    "secpx['fwdSSRet'] = secpx.loc[:].month.apply(\n",
    "    fwd_ss_ret, args=(ss_df['close'], ss_pos,))"
   ]
  },
  {
   "cell_type": "code",
   "execution_count": null,
   "metadata": {
    "hidden": true
   },
   "outputs": [],
   "source": [
    "secpx.columns # all columns"
   ]
  },
  {
   "cell_type": "code",
   "execution_count": null,
   "metadata": {
    "hidden": true
   },
   "outputs": [],
   "source": [
    "# normalized columns for ML training, still has outliers\n",
    "ml_ds_cols = secpx.describe().loc['50%'][secpx.describe().loc['50%'] < 5].index.tolist()\n",
    "ml_ds_cols"
   ]
  },
  {
   "cell_type": "code",
   "execution_count": null,
   "metadata": {
    "hidden": true
   },
   "outputs": [],
   "source": [
    "# prepare ML dataset\n",
    "ml_ds = secpx[ml_ds_cols].copy()\n",
    "\n",
    "class_cols = ['fwdChg1w', 'fwdChg1m', 'fwdChg3m']\n",
    "cut_range = [-1, -0.05, .0, .02, .09, 1.]\n",
    "fwd_ret_labels = [\"bear\", \"short\", \"neutral\", \"long\", \"bull\"]\n",
    "\n",
    "for c in class_cols: \n",
    "    ml_ds[c] = pd.cut(secpx[c], cut_range, labels=fwd_ret_labels)\n",
    "    \n",
    "ml_ds.info()"
   ]
  },
  {
   "cell_type": "code",
   "execution_count": null,
   "metadata": {
    "hidden": true
   },
   "outputs": [],
   "source": [
    "# drop the predicting class with most nas\n",
    "ml_ds.dropna(inplace=True)\n",
    "ml_ds.info()"
   ]
  },
  {
   "cell_type": "code",
   "execution_count": null,
   "metadata": {
    "hidden": true
   },
   "outputs": [],
   "source": [
    "ml_ds.hist(figsize=(15,15));"
   ]
  },
  {
   "cell_type": "code",
   "execution_count": 622,
   "metadata": {
    "hidden": true
   },
   "outputs": [],
   "source": [
    "ml_ds.to_csv(csv_ext.format('co_price_mom_ds'), index=False)"
   ]
  },
  {
   "cell_type": "markdown",
   "metadata": {
    "heading_collapsed": true
   },
   "source": [
    "### Date and Minute based time analysis"
   ]
  },
  {
   "cell_type": "code",
   "execution_count": 1007,
   "metadata": {
    "hidden": true
   },
   "outputs": [],
   "source": [
    "freq = '1d'"
   ]
  },
  {
   "cell_type": "code",
   "execution_count": 1008,
   "metadata": {
    "hidden": true
   },
   "outputs": [
    {
     "data": {
      "text/html": [
       "<div>\n",
       "<style scoped>\n",
       "    .dataframe tbody tr th:only-of-type {\n",
       "        vertical-align: middle;\n",
       "    }\n",
       "\n",
       "    .dataframe tbody tr th {\n",
       "        vertical-align: top;\n",
       "    }\n",
       "\n",
       "    .dataframe thead th {\n",
       "        text-align: right;\n",
       "    }\n",
       "</style>\n",
       "<table border=\"1\" class=\"dataframe\">\n",
       "  <thead>\n",
       "    <tr style=\"text-align: right;\">\n",
       "      <th></th>\n",
       "      <th>close</th>\n",
       "      <th>close</th>\n",
       "    </tr>\n",
       "  </thead>\n",
       "  <tbody>\n",
       "    <tr>\n",
       "      <th>count</th>\n",
       "      <td>164.00</td>\n",
       "      <td>3,775.00</td>\n",
       "    </tr>\n",
       "    <tr>\n",
       "      <th>mean</th>\n",
       "      <td>14.24</td>\n",
       "      <td>66.80</td>\n",
       "    </tr>\n",
       "    <tr>\n",
       "      <th>std</th>\n",
       "      <td>2.88</td>\n",
       "      <td>56.49</td>\n",
       "    </tr>\n",
       "    <tr>\n",
       "      <th>min</th>\n",
       "      <td>9.70</td>\n",
       "      <td>1.81</td>\n",
       "    </tr>\n",
       "    <tr>\n",
       "      <th>25%</th>\n",
       "      <td>12.19</td>\n",
       "      <td>16.67</td>\n",
       "    </tr>\n",
       "    <tr>\n",
       "      <th>50%</th>\n",
       "      <td>13.59</td>\n",
       "      <td>54.28</td>\n",
       "    </tr>\n",
       "    <tr>\n",
       "      <th>75%</th>\n",
       "      <td>16.51</td>\n",
       "      <td>106.82</td>\n",
       "    </tr>\n",
       "    <tr>\n",
       "      <th>max</th>\n",
       "      <td>21.55</td>\n",
       "      <td>232.07</td>\n",
       "    </tr>\n",
       "  </tbody>\n",
       "</table>\n",
       "</div>"
      ],
      "text/plain": [
       "       close    close\n",
       "count 164.00 3,775.00\n",
       "mean   14.24    66.80\n",
       "std     2.88    56.49\n",
       "min     9.70     1.81\n",
       "25%    12.19    16.67\n",
       "50%    13.59    54.28\n",
       "75%    16.51   106.82\n",
       "max    21.55   232.07"
      ]
     },
     "execution_count": 1008,
     "metadata": {},
     "output_type": "execute_result"
    }
   ],
   "source": [
    "# s1, s2 = '1810.HK', 'AAPL'\n",
    "group_pricing = pd.DataFrame()\n",
    "df1 = get_symbol_pricing(s1, freq, ['close'])\n",
    "df2 = get_symbol_pricing(s2, freq, ['close'])\n",
    "group_pricing = pd.DataFrame(df1)\n",
    "# group_pricing.loc[:, s2] = df2\n",
    "group_pricing = pd.concat([group_pricing, df2], axis=1)\n",
    "group_pricing.describe()\n",
    "# group_pricing"
   ]
  },
  {
   "cell_type": "code",
   "execution_count": 850,
   "metadata": {
    "hidden": true
   },
   "outputs": [
    {
     "data": {
      "text/plain": [
       "(dict_keys(['meta', 'timestamp', 'indicators']), dict_keys(['quote']))"
      ]
     },
     "execution_count": 850,
     "metadata": {},
     "output_type": "execute_result"
    }
   ],
   "source": [
    "path = config['pricing_path'].format(freq)\n",
    "data_dict = json_load(path + json_ext.format(ticker))\n",
    "\n",
    "tz = data_dict['meta']['exchangeTimezoneName']\n",
    "df = build_px_struct(data_dict, freq)\n",
    "\n",
    "adjClose = data_dict['indicators']['adjclose'][0] if 'adjclose' in  data_dict['indicators'] else 0\n",
    "close = data_dict['indicators']['quote'][0]\n",
    "data_dict.keys(), data_dict['indicators'].keys()"
   ]
  },
  {
   "cell_type": "code",
   "execution_count": 916,
   "metadata": {
    "hidden": true
   },
   "outputs": [
    {
     "data": {
      "text/plain": [
       "array([datetime.date(2019, 2, 28), datetime.date(2019, 2, 28),\n",
       "       datetime.date(2019, 2, 28), ..., datetime.date(2019, 3, 6),\n",
       "       datetime.date(2019, 3, 6), datetime.date(2019, 3, 6)], dtype=object)"
      ]
     },
     "execution_count": 916,
     "metadata": {},
     "output_type": "execute_result"
    }
   ],
   "source": [
    "df.index.date"
   ]
  },
  {
   "cell_type": "code",
   "execution_count": 851,
   "metadata": {
    "hidden": true
   },
   "outputs": [
    {
     "data": {
      "text/plain": [
       "DatetimeIndex(['2019-02-28 14:30:00', '2019-02-28 14:31:00',\n",
       "               '2019-02-28 14:32:00', '2019-02-28 14:33:00',\n",
       "               '2019-02-28 14:34:00', '2019-02-28 14:35:00',\n",
       "               '2019-02-28 14:36:00', '2019-02-28 14:37:00',\n",
       "               '2019-02-28 14:38:00', '2019-02-28 14:39:00',\n",
       "               ...\n",
       "               '2019-03-06 20:50:00', '2019-03-06 20:51:00',\n",
       "               '2019-03-06 20:52:00', '2019-03-06 20:53:00',\n",
       "               '2019-03-06 20:54:00', '2019-03-06 20:55:00',\n",
       "               '2019-03-06 20:56:00', '2019-03-06 20:57:00',\n",
       "               '2019-03-06 20:58:00', '2019-03-06 20:59:00'],\n",
       "              dtype='datetime64[ns]', length=1950, freq=None)"
      ]
     },
     "execution_count": 851,
     "metadata": {},
     "output_type": "execute_result"
    }
   ],
   "source": [
    "dates = pd.to_datetime(\n",
    "        data_dict['timestamp'], \n",
    "        unit='s', infer_datetime_format=True)\n",
    "# dates = dates.astype(f'datetime64[ns, {tz}]')\n",
    "# dates.tz_convert('America/New_York')\n",
    "# dates = dates.tz_localize('America/New_York')\n",
    "dates.floor('d' if freq == '1d' else 'min')"
   ]
  },
  {
   "cell_type": "code",
   "execution_count": 829,
   "metadata": {
    "hidden": true
   },
   "outputs": [
    {
     "data": {
      "text/html": [
       "<div>\n",
       "<style scoped>\n",
       "    .dataframe tbody tr th:only-of-type {\n",
       "        vertical-align: middle;\n",
       "    }\n",
       "\n",
       "    .dataframe tbody tr th {\n",
       "        vertical-align: top;\n",
       "    }\n",
       "\n",
       "    .dataframe thead th {\n",
       "        text-align: right;\n",
       "    }\n",
       "</style>\n",
       "<table border=\"1\" class=\"dataframe\">\n",
       "  <thead>\n",
       "    <tr style=\"text-align: right;\">\n",
       "      <th></th>\n",
       "      <th>high</th>\n",
       "      <th>low</th>\n",
       "      <th>open</th>\n",
       "      <th>close</th>\n",
       "      <th>adjclose</th>\n",
       "      <th>volume</th>\n",
       "    </tr>\n",
       "  </thead>\n",
       "  <tbody>\n",
       "    <tr>\n",
       "      <th>2019-03-06 20:55:00</th>\n",
       "      <td>174.72</td>\n",
       "      <td>174.60</td>\n",
       "      <td>174.66</td>\n",
       "      <td>174.71</td>\n",
       "      <td>0</td>\n",
       "      <td>148,802.00</td>\n",
       "    </tr>\n",
       "    <tr>\n",
       "      <th>2019-03-06 20:56:00</th>\n",
       "      <td>174.73</td>\n",
       "      <td>174.67</td>\n",
       "      <td>174.67</td>\n",
       "      <td>174.71</td>\n",
       "      <td>0</td>\n",
       "      <td>37,980.00</td>\n",
       "    </tr>\n",
       "    <tr>\n",
       "      <th>2019-03-06 20:57:00</th>\n",
       "      <td>174.72</td>\n",
       "      <td>174.65</td>\n",
       "      <td>174.71</td>\n",
       "      <td>174.65</td>\n",
       "      <td>0</td>\n",
       "      <td>70,312.00</td>\n",
       "    </tr>\n",
       "    <tr>\n",
       "      <th>2019-03-06 20:58:00</th>\n",
       "      <td>174.80</td>\n",
       "      <td>174.64</td>\n",
       "      <td>174.65</td>\n",
       "      <td>174.76</td>\n",
       "      <td>0</td>\n",
       "      <td>105,856.00</td>\n",
       "    </tr>\n",
       "    <tr>\n",
       "      <th>2019-03-06 20:59:00</th>\n",
       "      <td>174.82</td>\n",
       "      <td>174.46</td>\n",
       "      <td>174.74</td>\n",
       "      <td>174.51</td>\n",
       "      <td>0</td>\n",
       "      <td>385,081.00</td>\n",
       "    </tr>\n",
       "  </tbody>\n",
       "</table>\n",
       "</div>"
      ],
      "text/plain": [
       "                      high    low   open  close  adjclose     volume\n",
       "2019-03-06 20:55:00 174.72 174.60 174.66 174.71         0 148,802.00\n",
       "2019-03-06 20:56:00 174.73 174.67 174.67 174.71         0  37,980.00\n",
       "2019-03-06 20:57:00 174.72 174.65 174.71 174.65         0  70,312.00\n",
       "2019-03-06 20:58:00 174.80 174.64 174.65 174.76         0 105,856.00\n",
       "2019-03-06 20:59:00 174.82 174.46 174.74 174.51         0 385,081.00"
      ]
     },
     "execution_count": 829,
     "metadata": {},
     "output_type": "execute_result"
    }
   ],
   "source": [
    "df.tail(5)"
   ]
  },
  {
   "cell_type": "code",
   "execution_count": 1018,
   "metadata": {
    "hidden": true
   },
   "outputs": [],
   "source": [
    "freq = '1d'"
   ]
  },
  {
   "cell_type": "code",
   "execution_count": 1019,
   "metadata": {
    "hidden": true
   },
   "outputs": [
    {
     "name": "stdout",
     "output_type": "stream",
     "text": [
      "Retrieved pricing for 0700.HK\n",
      "Retrieved pricing for 1810.HK\n",
      "Retrieved pricing for 3690.HK\n",
      "Retrieved pricing for 9984.T\n",
      "Retrieved pricing for A\n",
      "Retrieved pricing for AAL\n",
      "Retrieved pricing for AAN\n",
      "Retrieved pricing for AAON\n",
      "Retrieved pricing for AAP\n",
      "Retrieved pricing for AAPL\n",
      "CPU times: user 1.05 s, sys: 45.5 ms, total: 1.1 s\n",
      "Wall time: 3.91 s\n"
     ]
    }
   ],
   "source": [
    "%time px_close = get_mults_pricing(symbols_list[:10], freq);"
   ]
  },
  {
   "cell_type": "code",
   "execution_count": 1022,
   "metadata": {
    "hidden": true
   },
   "outputs": [
    {
     "data": {
      "text/html": [
       "<div>\n",
       "<style scoped>\n",
       "    .dataframe tbody tr th:only-of-type {\n",
       "        vertical-align: middle;\n",
       "    }\n",
       "\n",
       "    .dataframe tbody tr th {\n",
       "        vertical-align: top;\n",
       "    }\n",
       "\n",
       "    .dataframe thead th {\n",
       "        text-align: right;\n",
       "    }\n",
       "</style>\n",
       "<table border=\"1\" class=\"dataframe\">\n",
       "  <thead>\n",
       "    <tr style=\"text-align: right;\">\n",
       "      <th></th>\n",
       "      <th>0700.HK</th>\n",
       "      <th>0700.HK</th>\n",
       "      <th>1810.HK</th>\n",
       "      <th>3690.HK</th>\n",
       "      <th>9984.T</th>\n",
       "      <th>A</th>\n",
       "      <th>AAL</th>\n",
       "      <th>AAN</th>\n",
       "      <th>AAON</th>\n",
       "      <th>AAP</th>\n",
       "      <th>AAPL</th>\n",
       "    </tr>\n",
       "  </thead>\n",
       "  <tbody>\n",
       "    <tr>\n",
       "      <th>count</th>\n",
       "      <td>3,634.00</td>\n",
       "      <td>3,634.00</td>\n",
       "      <td>164.00</td>\n",
       "      <td>111.00</td>\n",
       "      <td>3,743.00</td>\n",
       "      <td>3,775.00</td>\n",
       "      <td>3,382.00</td>\n",
       "      <td>3,775.00</td>\n",
       "      <td>1,258.00</td>\n",
       "      <td>3,775.00</td>\n",
       "      <td>3,775.00</td>\n",
       "    </tr>\n",
       "    <tr>\n",
       "      <th>mean</th>\n",
       "      <td>94.03</td>\n",
       "      <td>94.03</td>\n",
       "      <td>14.24</td>\n",
       "      <td>54.89</td>\n",
       "      <td>4,406.54</td>\n",
       "      <td>33.28</td>\n",
       "      <td>26.97</td>\n",
       "      <td>23.86</td>\n",
       "      <td>28.76</td>\n",
       "      <td>81.72</td>\n",
       "      <td>66.80</td>\n",
       "    </tr>\n",
       "    <tr>\n",
       "      <th>std</th>\n",
       "      <td>115.76</td>\n",
       "      <td>115.76</td>\n",
       "      <td>2.88</td>\n",
       "      <td>7.61</td>\n",
       "      <td>2,785.93</td>\n",
       "      <td>15.49</td>\n",
       "      <td>17.32</td>\n",
       "      <td>10.35</td>\n",
       "      <td>6.93</td>\n",
       "      <td>49.29</td>\n",
       "      <td>56.49</td>\n",
       "    </tr>\n",
       "    <tr>\n",
       "      <th>min</th>\n",
       "      <td>0.68</td>\n",
       "      <td>0.68</td>\n",
       "      <td>9.70</td>\n",
       "      <td>41.20</td>\n",
       "      <td>650.00</td>\n",
       "      <td>8.90</td>\n",
       "      <td>1.76</td>\n",
       "      <td>9.33</td>\n",
       "      <td>16.97</td>\n",
       "      <td>22.10</td>\n",
       "      <td>1.81</td>\n",
       "    </tr>\n",
       "    <tr>\n",
       "      <th>25%</th>\n",
       "      <td>9.51</td>\n",
       "      <td>9.51</td>\n",
       "      <td>12.19</td>\n",
       "      <td>48.45</td>\n",
       "      <td>2,148.00</td>\n",
       "      <td>22.63</td>\n",
       "      <td>9.12</td>\n",
       "      <td>14.67</td>\n",
       "      <td>22.29</td>\n",
       "      <td>39.16</td>\n",
       "      <td>16.67</td>\n",
       "    </tr>\n",
       "    <tr>\n",
       "      <th>50%</th>\n",
       "      <td>40.18</td>\n",
       "      <td>40.18</td>\n",
       "      <td>13.59</td>\n",
       "      <td>55.00</td>\n",
       "      <td>2,960.00</td>\n",
       "      <td>27.83</td>\n",
       "      <td>30.26</td>\n",
       "      <td>23.71</td>\n",
       "      <td>28.15</td>\n",
       "      <td>66.07</td>\n",
       "      <td>54.28</td>\n",
       "    </tr>\n",
       "    <tr>\n",
       "      <th>75%</th>\n",
       "      <td>142.08</td>\n",
       "      <td>142.08</td>\n",
       "      <td>16.51</td>\n",
       "      <td>59.82</td>\n",
       "      <td>7,127.50</td>\n",
       "      <td>40.84</td>\n",
       "      <td>42.34</td>\n",
       "      <td>29.12</td>\n",
       "      <td>35.06</td>\n",
       "      <td>126.80</td>\n",
       "      <td>106.82</td>\n",
       "    </tr>\n",
       "    <tr>\n",
       "      <th>max</th>\n",
       "      <td>474.60</td>\n",
       "      <td>474.60</td>\n",
       "      <td>21.55</td>\n",
       "      <td>72.65</td>\n",
       "      <td>11,470.00</td>\n",
       "      <td>81.24</td>\n",
       "      <td>62.95</td>\n",
       "      <td>55.45</td>\n",
       "      <td>43.83</td>\n",
       "      <td>200.38</td>\n",
       "      <td>232.07</td>\n",
       "    </tr>\n",
       "  </tbody>\n",
       "</table>\n",
       "</div>"
      ],
      "text/plain": [
       "       0700.HK  0700.HK  1810.HK  3690.HK    9984.T        A      AAL  \\\n",
       "count 3,634.00 3,634.00   164.00   111.00  3,743.00 3,775.00 3,382.00   \n",
       "mean     94.03    94.03    14.24    54.89  4,406.54    33.28    26.97   \n",
       "std     115.76   115.76     2.88     7.61  2,785.93    15.49    17.32   \n",
       "min       0.68     0.68     9.70    41.20    650.00     8.90     1.76   \n",
       "25%       9.51     9.51    12.19    48.45  2,148.00    22.63     9.12   \n",
       "50%      40.18    40.18    13.59    55.00  2,960.00    27.83    30.26   \n",
       "75%     142.08   142.08    16.51    59.82  7,127.50    40.84    42.34   \n",
       "max     474.60   474.60    21.55    72.65 11,470.00    81.24    62.95   \n",
       "\n",
       "           AAN     AAON      AAP     AAPL  \n",
       "count 3,775.00 1,258.00 3,775.00 3,775.00  \n",
       "mean     23.86    28.76    81.72    66.80  \n",
       "std      10.35     6.93    49.29    56.49  \n",
       "min       9.33    16.97    22.10     1.81  \n",
       "25%      14.67    22.29    39.16    16.67  \n",
       "50%      23.71    28.15    66.07    54.28  \n",
       "75%      29.12    35.06   126.80   106.82  \n",
       "max      55.45    43.83   200.38   232.07  "
      ]
     },
     "execution_count": 1022,
     "metadata": {},
     "output_type": "execute_result"
    }
   ],
   "source": [
    "# [px_close[x].dropna().tail() for x in px_close.columns]\n",
    "px_close.describe()\n",
    "# px_close.tail()"
   ]
  },
  {
   "cell_type": "code",
   "execution_count": 1023,
   "metadata": {
    "hidden": true
   },
   "outputs": [
    {
     "data": {
      "text/plain": [
       "'Ticker: AAPL'"
      ]
     },
     "execution_count": 1023,
     "metadata": {},
     "output_type": "execute_result"
    }
   ],
   "source": [
    "f'Ticker: {ticker}'"
   ]
  },
  {
   "cell_type": "code",
   "execution_count": 1024,
   "metadata": {
    "hidden": true
   },
   "outputs": [
    {
     "data": {
      "text/plain": [
       "2019-02-28 00:00:00-05:00   173.15\n",
       "2019-03-01 00:00:00-05:00   174.97\n",
       "2019-03-04 00:00:00-05:00   175.85\n",
       "2019-03-05 00:00:00-05:00   175.53\n",
       "2019-03-06 00:00:00-05:00   174.52\n",
       "Name: close, dtype: float64"
      ]
     },
     "execution_count": 1024,
     "metadata": {},
     "output_type": "execute_result"
    }
   ],
   "source": [
    "px = get_symbol_pricing(ticker, freq)\n",
    "px.close.tail()"
   ]
  },
  {
   "cell_type": "code",
   "execution_count": null,
   "metadata": {
    "hidden": true
   },
   "outputs": [],
   "source": []
  }
 ],
 "metadata": {
  "kernelspec": {
   "display_name": "Python 3",
   "language": "python",
   "name": "python3"
  },
  "language_info": {
   "codemirror_mode": {
    "name": "ipython",
    "version": 3
   },
   "file_extension": ".py",
   "mimetype": "text/x-python",
   "name": "python",
   "nbconvert_exporter": "python",
   "pygments_lexer": "ipython3",
   "version": "3.7.2"
  }
 },
 "nbformat": 4,
 "nbformat_minor": 2
}
