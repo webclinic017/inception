{
 "cells": [
  {
   "cell_type": "code",
   "execution_count": 1,
   "metadata": {
    "code_folding": []
   },
   "outputs": [
    {
     "name": "stdout",
     "output_type": "stream",
     "text": [
      "Loading utils/config.json\n"
     ]
    },
    {
     "name": "stderr",
     "output_type": "stream",
     "text": [
      "Using TensorFlow backend.\n"
     ]
    }
   ],
   "source": [
    "# imports\n",
    "%reload_ext autoreload\n",
    "%autoreload 2\n",
    "%matplotlib inline \n",
    "\n",
    "import time, os, sys\n",
    "from tqdm import tqdm\n",
    "\n",
    "from matplotlib import pyplot as plt\n",
    "from utils.basic_utils import *\n",
    "from utils.pricing import load_px_close, discret_rets, sample_wgts\n",
    "from utils.pricing import dummy_col, rename_col, px_fwd_rets, px_mom_feats, px_mom_co_feats_light\n",
    "from utils.pricing import eq_wgt_indices, to_index_form, get_symbol_pricing, get_return_intervals\n",
    "from utils.fundamental import pipe_transform_df, chain_divide, chain_scale\n",
    "from utils.fundamental import chain_outlier, chain_post_drop, chain_wide_transform\n",
    "from utils.fundamental import chain_eps_estimates, chain_eps_revisions, chain_rec_trend\n",
    "from utils.fundamental import load_append_ds, get_daily_ts, numeric_cols, filter_cols\n",
    "from utils.fundamental import get_focus_tickers\n",
    "\n",
    "from sklearn import preprocessing\n",
    "\n",
    "from sklearn.preprocessing import StandardScaler, RobustScaler, MinMaxScaler, MaxAbsScaler\n",
    "from sklearn.model_selection import StratifiedShuffleSplit\n",
    "from sklearn.model_selection import cross_val_score, cross_validate, train_test_split\n",
    "from sklearn.model_selection import GridSearchCV\n",
    "from sklearn.feature_selection import SelectFromModel\n",
    "from sklearn.utils.validation import column_or_1d\n",
    "from sklearn.utils.multiclass import unique_labels\n",
    "from sklearn.metrics import confusion_matrix, classification_report\n",
    "from sklearn.metrics import accuracy_score, log_loss, precision_recall_fscore_support\n",
    "from sklearn.metrics import precision_score, roc_auc_score\n",
    "\n",
    "import keras\n",
    "from keras.models import Sequential, load_model\n",
    "from keras.layers import Dense, Dropout, Activation\n",
    "from keras.optimizers import SGD, Adam, Adagrad, Adadelta, Adamax, Nadam, RMSprop\n",
    "from keras.callbacks import EarlyStopping, ModelCheckpoint\n",
    "from keras.callbacks import CSVLogger"
   ]
  },
  {
   "cell_type": "code",
   "execution_count": 14,
   "metadata": {},
   "outputs": [
    {
     "data": {
      "text/plain": [
       "['/job:localhost/replica:0/task:0/device:GPU:0']"
      ]
     },
     "execution_count": 14,
     "metadata": {},
     "output_type": "execute_result"
    }
   ],
   "source": [
    "from keras import backend as K\n",
    "K.tensorflow_backend._get_available_gpus()"
   ]
  },
  {
   "cell_type": "code",
   "execution_count": 3,
   "metadata": {
    "code_folding": [
     1,
     2,
     107
    ]
   },
   "outputs": [],
   "source": [
    "# feature mapping for different datasets\n",
    "ds_dict = {\n",
    "    'fin_data': {\n",
    "        'path': 'summary-categories/financialData/',\n",
    "        'index': 'storeDate',\n",
    "        'features': [\n",
    "            'numberOfAnalystOpinions', 'currentPrice', 'revenuePerShare', 'totalCashPerShare',\n",
    "            'currentRatio', 'debtToEquity', 'earningsGrowth', 'ebitda', \n",
    "            'ebitdaMargins', 'freeCashflow', 'grossMargins', \n",
    "            'grossProfits', 'operatingCashflow', 'operatingMargins', 'profitMargins', \n",
    "            'quickRatio', 'recommendationMean', \n",
    "            'returnOnAssets', 'returnOnEquity', 'revenueGrowth', \n",
    "            'targetHighPrice', 'targetLowPrice', 'targetMeanPrice', \n",
    "            'targetMedianPrice', 'totalCash', 'totalDebt', 'totalRevenue', \n",
    "#             'financialCurrency', 'recommendationKey',              \n",
    "            'symbol', ],\n",
    "        'scale': [\n",
    "            'freeCashflow', 'operatingCashflow', 'ebitda', \n",
    "            'totalCash', 'totalDebt', 'totalRevenue', 'grossProfits', ],\n",
    "        'divide': ('currentPrice', \n",
    "                   ['revenuePerShare', 'totalCashPerShare', \n",
    "                    'targetLowPrice', 'targetMeanPrice', \n",
    "                    'targetMedianPrice', 'targetHighPrice', ]),\n",
    "        'outlier': 'quantile',\n",
    "        'post_drop': ['numberOfAnalystOpinions'],\n",
    "    },    \n",
    "    'key_statistics': {\n",
    "        'path': 'summary-categories/defaultKeyStatistics/',\n",
    "        'index': 'storeDate',\n",
    "        'features': [\n",
    "            'beta', 'earningsQuarterlyGrowth', \n",
    "            'enterpriseToEbitda', 'enterpriseToRevenue', 'enterpriseValue', \n",
    "            'netIncomeToCommon', 'pegRatio', \n",
    "            'shortPercentOfFloat', 'shortRatio', 'heldPercentInsiders', \n",
    "            'heldPercentInstitutions', 'symbol', ],\n",
    "        'scale': ['enterpriseValue', 'netIncomeToCommon', ],\n",
    "        'outlier': 'quantile', \n",
    "    },\n",
    "    'day_quote': {\n",
    "        'path': 'quote/csv/',\n",
    "        'index': 'storeDate',\n",
    "        'features': [\n",
    "            'regularMarketChangePercent',\n",
    "            'averageDailyVolume10Day', 'averageDailyVolume3Month', 'regularMarketVolume', \n",
    "            'fiftyDayAverageChangePercent', 'twoHundredDayAverageChangePercent',\n",
    "            'fiftyTwoWeekHighChangePercent', 'fiftyTwoWeekLowChangePercent', \n",
    "            'forwardPE', 'trailingPE', 'priceToBook', 'marketCap', 'symbol', ],\n",
    "        'scale': ['marketCap', ],\n",
    "        'divide': ('regularMarketVolume', ['averageDailyVolume10Day', 'averageDailyVolume3Month']),\n",
    "        'outlier': 4, \n",
    "    },        \n",
    "    'eps_trend': {\n",
    "        'path': 'summary-categories/epsTrend/',\n",
    "        'index': 'storeDate',\n",
    "        'periods': ['0y', '+1y', '+5y', '-5y'],        \n",
    "        'features': [\n",
    "            'period', 'growth', \n",
    "            'current', '7daysAgo', '30daysAgo', '60daysAgo', '90daysAgo', \n",
    "            'symbol', ],\n",
    "        'pivot_cols': ['growth', 'current', '7daysAgo', '30daysAgo', '60daysAgo', '90daysAgo'],\n",
    "        'outlier': 'quantile',\n",
    "    },\n",
    "    'eps_estimates': {\n",
    "        'path': 'summary-categories/earningsEstimate/',\n",
    "        'index': 'storeDate',\n",
    "        'periods': ['0y', '+1y', '+5y', '-5y'],\n",
    "        'features': ['period', 'avg', 'low', 'high', 'symbol', ],\n",
    "        'pivot_cols': ['avg', 'low', 'high'],\n",
    "        'outlier': 'quantile', \n",
    "    },\n",
    "    'eps_revisions': {\n",
    "        'path': 'summary-categories/epsRevisions/',\n",
    "        'index': 'storeDate',\n",
    "        'periods': ['0y', '+1y', '+5y', '-5y'],\n",
    "        'features': [\n",
    "            'period', 'growth', 'upLast7days', 'upLast30days', 'downLast30days', \n",
    "            'symbol', ],\n",
    "        'pivot_cols': ['growth', 'upLast7days', 'upLast30days', 'downLast30days'],\n",
    "        'outlier': 3, \n",
    "    },\n",
    "    'spy_trend': {\n",
    "        'path': 'summary-categories/indexTrend/',\n",
    "        'index': 'storeDate',\n",
    "        'features': [\n",
    "            '0q', '+1q', '0y', '+1y', '+5y', '-5y', \n",
    "            'peRatio', 'pegRatio', 'symbol', ]\n",
    "    },\n",
    "    'net_purchase': {\n",
    "        'path': 'summary-categories/netSharePurchaseActivity/',\n",
    "        'index': 'storeDate',\n",
    "        'features': [\n",
    "            'netPercentInsiderShares', 'buyPercentInsiderShares', 'sellPercentInsiderShares', \n",
    "            'symbol', ]\n",
    "    },    \n",
    "    'rec_trend': {\n",
    "        'path': 'summary-categories/recommendationTrend/',\n",
    "        'index': 'storeDate',\n",
    "        'periods': ['-1m', '-2m'],\n",
    "        'features': [\n",
    "            'period', 'strongBuy', 'buy', 'hold', 'sell', 'strongSell', \n",
    "            'symbol', ],\n",
    "        'pivot_cols': ['strongBuy', 'buy', 'hold', 'sell', 'strongSell'],\n",
    "        'outlier': 10,\n",
    "    },\n",
    "}\n",
    "\n",
    "# pre-processing pipeline\n",
    "fn_pipeline = {\n",
    "    'fin_data': [chain_scale, chain_divide, chain_post_drop, chain_outlier],\n",
    "    'key_statistics': [chain_scale, chain_outlier],\n",
    "    'day_quote': [chain_divide, chain_scale, chain_outlier],\n",
    "    'eps_trend': [chain_wide_transform, chain_eps_estimates, chain_outlier],\n",
    "    'eps_estimates': [chain_wide_transform, chain_eps_estimates, chain_outlier],\n",
    "#     'eps_revisions': [chain_wide_transform, chain_outlier],\n",
    "#     'spy_trend':[lambda x, y: x],\n",
    "#     'net_purchase':[lambda x, y: x],    \n",
    "#     'rec_trend': [chain_wide_transform, chain_rec_trend, chain_outlier],\n",
    "}"
   ]
  },
  {
   "cell_type": "markdown",
   "metadata": {},
   "source": [
    "### Context data"
   ]
  },
  {
   "cell_type": "code",
   "execution_count": 28,
   "metadata": {
    "code_folding": [
     0
    ]
   },
   "outputs": [],
   "source": [
    "# context data\n",
    "bench = '^GSPC'\n",
    "y_col = 'fwdReturn'\n",
    "tickers = config['companies']\n",
    "\n",
    "context = {\n",
    "    'tickers': tickers,\n",
    "    'fn_pipeline': fn_pipeline,\n",
    "    'ml_path': '../ML/',\n",
    "    'model_name': 'bottomup_TF.h5',\n",
    "    'tmp_path': '../tmp/',\n",
    "    'ds_name': 'co-bottomup-ds',\n",
    "    'px_close': 'universe-px-ds',\n",
    "    'trained_cols': 'bottomup_TF_train_cols.npy',\n",
    "    'look_ahead': 20,\n",
    "    'look_back': 252,\n",
    "    'smooth_window': 10,\n",
    "    'load_ds': True,\n",
    "    'scale': True,\n",
    "    'test_size': .05,\n",
    "    'verbose': True,\n",
    "    's3_path': f'recommend/bottomup_ML/',\n",
    "    'verbose': 2,\n",
    "    'units': 1000,\n",
    "    'hidden_layers': 4,\n",
    "    'max_iter': 400,\n",
    "    'l2_reg': 0.5,\n",
    "    'dropout': 0.5,\n",
    "}"
   ]
  },
  {
   "cell_type": "code",
   "execution_count": 4,
   "metadata": {},
   "outputs": [
    {
     "name": "stdout",
     "output_type": "stream",
     "text": [
      "universe-px-ds                                100%   18MB  17.8MB/s   00:00    \n"
     ]
    }
   ],
   "source": [
    "# get latest pricing file from inferece server\n",
    "px_close_ds = context['px_close']\n",
    "tmp_path = context['tmp_path']\n",
    "os.makedirs(tmp_path, exist_ok=True)\n",
    "!scp -i ~/.ssh/qc_infra.pem ubuntu@54.188.213.105:~/inception/tmp/{px_close_ds} {tmp_path}{px_close_ds}"
   ]
  },
  {
   "cell_type": "code",
   "execution_count": 29,
   "metadata": {
    "code_folding": []
   },
   "outputs": [
    {
     "name": "stdout",
     "output_type": "stream",
     "text": [
      "<class 'pandas.core.frame.DataFrame'>\n",
      "Index: 4674 entries, 2004-05-09 to 2019-05-10\n",
      "Columns: 1285 entries, 0700.HK to KRW=X\n",
      "dtypes: float32(1285)\n",
      "memory usage: 22.9+ MB\n",
      "px_close.info() None\n"
     ]
    },
    {
     "data": {
      "text/plain": [
       "'Return intervals [ -inf -0.13 -0.08  0.1   0.16   inf]'"
      ]
     },
     "execution_count": 29,
     "metadata": {},
     "output_type": "execute_result"
    }
   ],
   "source": [
    "# load stored pricing\n",
    "px_close = load_px_close(\n",
    "    context['tmp_path'], context['px_close'], context['load_ds']).drop_duplicates()\n",
    "print('px_close.info()', px_close.info())\n",
    "\n",
    "stacked_px = px_close.stack().to_frame().rename(columns={0: 'close'}) # stack date + symbol\n",
    "stacked_px.index.set_names(['storeDate', 'symbol'], inplace=True) # reindex\n",
    "context['close_px'] = stacked_px\n",
    "\n",
    "prices = px_close.dropna(subset=[bench])[tickers]\n",
    "look_ahead = context['look_ahead']\n",
    "# cut_range = get_return_intervals(prices, look_ahead, tresholds=[0.25, 0.75])\n",
    "# hardcoded to narrow the range of recomendation in these limited dataset\n",
    "cut_range = [ -np.inf, -0.13, -0.08,  0.1, 0.16, np.inf]\n",
    "fwd_ret_labels = [\"bear\", \"short\", \"neutral\", \"long\", \"bull\"]\n",
    "f'Return intervals {np.round(cut_range, 2)}'"
   ]
  },
  {
   "cell_type": "code",
   "execution_count": 30,
   "metadata": {},
   "outputs": [
    {
     "name": "stdout",
     "output_type": "stream",
     "text": [
      "Target date: 2019-05-10\n",
      "Loading file quote/csv/2019-05-10\n",
      "Loading file summary-categories/assetProfile\n"
     ]
    }
   ],
   "source": [
    "# latest quotes, profile, and industries\n",
    "dates = read_dates('quote')\n",
    "tgt_date = dates[-1] # last date saved in S3\n",
    "print(f'Target date: {tgt_date}')\n",
    "\n",
    "quotes = load_csvs('quote_consol', [tgt_date])\n",
    "quotes.set_index('symbol', drop=False, inplace=True)\n",
    "\n",
    "profile = load_csvs('summary_detail', ['assetProfile'])\n",
    "profile.set_index('symbol', drop=False, inplace=True)"
   ]
  },
  {
   "cell_type": "code",
   "execution_count": 31,
   "metadata": {},
   "outputs": [
    {
     "name": "stdout",
     "output_type": "stream",
     "text": [
      "1208 companies\n"
     ]
    }
   ],
   "source": [
    "# Smaller subset for testing\n",
    "tgt_sectors = [\n",
    "    'Technology',\n",
    "    'Healthcare',\n",
    "    'Industrials',\n",
    "    'Basic Materials',\n",
    "    'Consumer Cyclical',\n",
    "    'Financial Services',\n",
    "    'Consumer Defensive',\n",
    "    'Real Estate',\n",
    "    'Utilities',\n",
    "    'Communication Services',\n",
    "    'Energy',\n",
    "]\n",
    "\n",
    "# size_df = get_focus_tickers(quotes, profile, tgt_sectors)\n",
    "# tickers = list(size_df.index)\n",
    "# ind_count = size_df.groupby('industry').count()['marketCap']\n",
    "# tgt_industries = list(ind_count.loc[ind_count > ind_count.median() - 1].index)\n",
    "# tickers = list(profile.loc[profile.industry.isin(tgt_industries), 'symbol'])\n",
    "tickers = list(quotes.loc[quotes.quoteType == 'EQUITY', 'symbol'])\n",
    "context['tickers'] = tickers\n",
    "print(f'{len(tickers)} companies')"
   ]
  },
  {
   "cell_type": "markdown",
   "metadata": {},
   "source": [
    "### Final"
   ]
  },
  {
   "cell_type": "code",
   "execution_count": 8,
   "metadata": {
    "code_folding": [
     0
    ]
   },
   "outputs": [],
   "source": [
    "def create_ds(context):\n",
    "    # context variables\n",
    "    key = context['key']\n",
    "    load_ds = context['load_ds']\n",
    "    load_dates = context['load_dates']\n",
    "    tmp_path = context['tmp_path']\n",
    "    \n",
    "    # Load or append missing data to local dataset\n",
    "    fname = tmp_path + key\n",
    "    if load_ds & os.path.isfile(fname):\n",
    "        daily_df = pd.read_parquet(fname)\n",
    "        # compare and load missing dates\n",
    "        missing_dates = list(\n",
    "            set(daily_df.index.unique().date.astype(str))\\\n",
    "                .symmetric_difference(load_dates))\n",
    "        if len(missing_dates) > 0: # retrieve missing dates\n",
    "            append_df = get_daily_ts(key, ds_dict, missing_dates)\n",
    "            daily_df = pd.concat([daily_df, append_df], axis=0) # append to daily\n",
    "            # daily_df.drop_duplicates(inplace=True)\n",
    "            daily_df.to_parquet(tmp_path + key) # and persist to drive for next time\n",
    "    else:\n",
    "        # file does not exist, retrieves all dates\n",
    "        daily_df = get_daily_ts(key, ds_dict, load_dates)\n",
    "        num_cols = excl(daily_df.columns, ['symbol', 'period'])\n",
    "        daily_df.loc[:, num_cols] = daily_df[num_cols].astype(np.float32)\n",
    "        # Make index a flat date, easier to index save down to drive if refresh pricing\n",
    "        os.makedirs(tmp_path, exist_ok=True)\n",
    "        # daily_df.drop_duplicates(inplace=True)\n",
    "        daily_df.to_parquet(fname)\n",
    "    daily_df.index.name = ds_dict[key]['index']\n",
    "    daily_df.index = daily_df.index.date\n",
    "    \n",
    "    return daily_df"
   ]
  },
  {
   "cell_type": "code",
   "execution_count": 9,
   "metadata": {
    "code_folding": [
     0
    ]
   },
   "outputs": [],
   "source": [
    "def pre_process_ds(context):\n",
    "    \n",
    "    # join all datasets\n",
    "    tickers = context['tickers']\n",
    "    sectors = profile.loc[profile.symbol.isin(tickers)].sector.unique()\n",
    "    industries = profile.loc[profile.symbol.isin(tickers)].industry.unique()\n",
    "    print(f'Sectors: {sectors.shape[0]}, Industries: {industries.shape[0]}')\n",
    "\n",
    "    indices_df = pd.concat(\n",
    "        [eq_wgt_indices(profile, px_close, 'sector', sectors, subset=tickers),\n",
    "        eq_wgt_indices(profile, px_close, 'industry', industries, subset=tickers),\n",
    "        to_index_form(px_close[bench], bench)], \n",
    "        axis=1).drop_duplicates()\n",
    "\n",
    "    # generic price momentum statistics\n",
    "    super_list = []\n",
    "    for key in ('fin_data', 'key_statistics', 'day_quote', 'eps_trend', 'eps_estimates'):\n",
    "        print(f'adding {key}')\n",
    "        context['key'] = key\n",
    "        context['pre'] = key.split('_')[0] # append preffix\n",
    "        context['ds_dict'] = ds_dict[key]\n",
    "        load_dates = read_dates(ds_dict[key]['path'], '.csv')\n",
    "        context['load_dates'] = load_dates\n",
    "        df = create_ds(context)\n",
    "        df = df.loc[df.symbol.isin(tickers),:]\n",
    "        processed_df = pipe_transform_df(df, key, fn_pipeline, context)\n",
    "        if key in ('fin_data', 'key_statistics', 'day_quote'):\n",
    "            processed_df.index.name = 'storeDate'\n",
    "            processed_df = processed_df.reset_index().set_index(['storeDate', 'symbol'])\n",
    "        super_list.append(processed_df.drop_duplicates())\n",
    "\n",
    "    processed_df = pd.concat(super_list, axis=1)\n",
    "    print(f'processed_df.shape {processed_df.shape}')\n",
    "\n",
    "    # company specific statistics \n",
    "    tmp_path = context['tmp_path']\n",
    "    ds_name = context['ds_name']\n",
    "\n",
    "    super_list = []\n",
    "    for i, ticker in tqdm(enumerate(tickers)):\n",
    "        try:\n",
    "            close = px_close[ticker].dropna()\n",
    "            ft_df = px_mom_feats(close, ticker, incl_name=False)\n",
    "            if ticker in profile.symbol.unique():\n",
    "                top_groups = tuple([bench, profile.loc[ticker, 'sector']])\n",
    "                co = px_mom_co_feats_light(close, indices_df, top_groups)\n",
    "                ft_df = pd.concat([ft_df, co.loc[ft_df.index, :]], axis=1)\n",
    "                ft_df.index.name = 'storeDate'\n",
    "                super_list.append(ft_df.copy())\n",
    "            else: print(ticker, 'missing profile, skipping')\n",
    "        except Exception as e: \n",
    "            print(\"Exception: {0} {1}\".format(ticker, e))\n",
    "\n",
    "    px_mom_df = pd.concat(super_list, axis=0)\n",
    "\n",
    "    px_mom_df = px_mom_df.reset_index().set_index(['storeDate', 'symbol']).sort_index().dropna()\n",
    "    joined_df = pd.concat([processed_df, px_mom_df], join='inner', axis=1)\n",
    "    print(f'joined_df.shape {joined_df.shape}')\n",
    "\n",
    "    # basic scaling\n",
    "    scale_on = context['scale']\n",
    "    scaler = StandardScaler()\n",
    "    num_cols = numeric_cols(joined_df)\n",
    "    joined_df.loc[:, num_cols] = joined_df[num_cols].replace([np.inf, -np.inf, np.nan], 0)\n",
    "    if scale_on: joined_df.loc[:, num_cols] = scaler.fit_transform(joined_df[num_cols])\n",
    "\n",
    "    # add categoricals\n",
    "    joined_df = dummy_col(joined_df, 'sector', shorten=True)\n",
    "    \n",
    "    return joined_df.reset_index('symbol')"
   ]
  },
  {
   "cell_type": "code",
   "execution_count": 10,
   "metadata": {
    "code_folding": [
     0
    ]
   },
   "outputs": [],
   "source": [
    "def get_train_test_sets(context):\n",
    "\n",
    "    verbose = context['verbose']\n",
    "    ml_path, model_name = context['ml_path'], context['model_name']\n",
    "    test_size = context['test_size']\n",
    "    look_ahead, look_back, smooth_window = context['look_ahead'], context['look_back'], context['smooth_window']\n",
    "\n",
    "    joined_df = pre_process_ds(context)\n",
    "\n",
    "    # if we want to limit training set\n",
    "    # index = joined_df.sort_index().index.unique()[-look_back:]\n",
    "    # joined_df = joined_df.loc[index, :]\n",
    "    # joined_df.shape\n",
    "\n",
    "    # calculation of forward returns\n",
    "    Y = px_close.loc[:, tickers].pct_change(look_ahead).shift(-look_ahead)\n",
    "    Y = Y.rolling(smooth_window).mean() # smooth by the same length\n",
    "    Y = Y[~(Y.isna().all(1))]\n",
    "    Y = Y.loc[joined_df.index.unique(), :]\n",
    "\n",
    "    # reshapes to include symbol in index in additional to date\n",
    "    Y_df = Y.loc[joined_df.index.unique().sortlevel()[0], tickers]\n",
    "    Y_df = Y_df.stack().to_frame().rename(columns={0: y_col})\n",
    "    # somwhat repetitive with steps above but performs faster\n",
    "    Y_df.index.set_names(['storeDate', 'symbol'], inplace=True)\n",
    "    print('Y_df.shape', Y_df.shape)\n",
    "\n",
    "    # re-index processed df on storeDate and symbol to have similar indices\n",
    "    joined_df.index.set_names('storeDate', inplace=True)\n",
    "    joined_df.set_index(['symbol'], append=True, inplace=True)\n",
    "    print('joined_df.shape', joined_df.shape)\n",
    "\n",
    "    # add Y values to processed df fast without having to loop\n",
    "    joined_df.loc[:, y_col] = Y_df.loc[joined_df.index, y_col]\n",
    "\n",
    "    # joined_df.loc[(slice(None), 'AAPL'), y_col].plot() # visualize smoothing\n",
    "    # joined_df.groupby('symbol')[y_col].mean().sort_values() # rank long-term mean performance\n",
    "\n",
    "    # discretize Y-variable\n",
    "    joined_df.dropna(subset=[y_col], inplace=True)\n",
    "    joined_df[y_col] = discret_rets(joined_df[y_col], cut_range, fwd_ret_labels)\n",
    "    print('joined_df.shape', joined_df.shape)\n",
    "    print(sample_wgts(joined_df[y_col]))\n",
    "\n",
    "    joined_df.dropna(subset=[y_col], inplace=True)\n",
    "    joined_df.loc[:, y_col] = joined_df[y_col].astype(str)\n",
    "\n",
    "    days = len(joined_df.index.levels[0].unique())\n",
    "    print(f'Training for {days} dates, {round(days/252, 1)} years')\n",
    "\n",
    "    # joined_df.loc[(slice(None), 'TAL'), y_col].value_counts() # look at a specific security distribution\n",
    "    train_df = joined_df.reset_index(drop=True)\n",
    "    train_df.shape\n",
    "\n",
    "    # create training and test sets\n",
    "    X, y = train_df.drop(columns=y_col), train_df[y_col]\n",
    "    sss = StratifiedShuffleSplit(n_splits=1, test_size=test_size, random_state=42)\n",
    "    for train_index, test_index in sss.split(X, y):\n",
    "        X_train, X_test = X.iloc[train_index], X.iloc[test_index]\n",
    "        y_train, y_test = y.iloc[train_index], y.iloc[test_index]\n",
    "        break # just one split\n",
    "\n",
    "    # skf = StratifiedKFold(n_splits=2, random_state=None, shuffle=False)\n",
    "    # for train_index, test_index in skf.split(X, y):\n",
    "    #     X_train, X_test = X.iloc[train_index], X.iloc[test_index]\n",
    "    #     y_train, y_test = y.iloc[train_index], y.iloc[test_index]\n",
    "    #     break\n",
    "\n",
    "    return X_train, X_test, y_train, y_test"
   ]
  },
  {
   "cell_type": "code",
   "execution_count": 11,
   "metadata": {
    "code_folding": [
     0
    ]
   },
   "outputs": [],
   "source": [
    "def train_ds(context):\n",
    "    \n",
    "    X_train, X_test, y_train, y_test = get_train_test_sets(context)\n",
    "\n",
    "    # Keras Model\n",
    "    units = context['units']\n",
    "    max_iter = context['max_iter']\n",
    "    l2_reg = context['l2_reg']\n",
    "    dropout = context['dropout']\n",
    "    trained_cols = context['trained_cols']\n",
    "\n",
    "    y_train_oh = pd.get_dummies(y_train)[fwd_ret_labels]\n",
    "    y_test_oh = pd.get_dummies(y_test)[fwd_ret_labels]\n",
    "\n",
    "    # keras.regularizers.l2(l=0.001)\n",
    "\n",
    "    model = Sequential()\n",
    "    model.add(Dense(units, activation='relu', input_dim=X_train.shape[1]))\n",
    "    model.add(Dropout(0.5))\n",
    "    model.add(Dense(units, activation='relu'))\n",
    "    model.add(Dropout(0.5))\n",
    "    model.add(Dense(units, activation='relu'))\n",
    "    model.add(Dropout(0.5))\n",
    "    model.add(Dense(int(units/2), activation='relu'))\n",
    "    model.add(Dense(len(pd.unique(y_train)), activation='softmax'))\n",
    "\n",
    "    ml_path, model_name = context['ml_path'], context['model_name']\n",
    "    fname = ml_path + model_name\n",
    "\n",
    "    es = EarlyStopping(monitor='loss', patience=10, restore_best_weights=True, verbose=1)\n",
    "    checkpointer = ModelCheckpoint(filepath=fname, verbose=1, save_best_only=True)\n",
    "    csv_logger = CSVLogger('bottomup-train.log')\n",
    "\n",
    "    opt = Adam()\n",
    "    model.compile(loss='categorical_crossentropy', optimizer=opt, metrics=['accuracy'])\n",
    "    history = model.fit(\n",
    "        X_train, y_train_oh, validation_data=(X_test, y_test_oh),\n",
    "        epochs=max_iter, batch_size=200, callbacks=[es, checkpointer, csv_logger])\n",
    "\n",
    "    score = model.evaluate(X_test, y_test_oh)\n",
    "    print(f'Loss: {score[0]}, Accuracy: {score[1]}')\n",
    "\n",
    "    # save training columns\n",
    "    np.save(ml_path + trained_cols, X_train.columns) # save feature order\n",
    "    print(f'X_train.shape {X_train.shape}, columns: {list(X_train.columns)}')\n",
    "    print('Saved: ', ml_path + trained_cols)\n",
    "\n",
    "    # save model to drive\n",
    "    ml_path, model_name = context['ml_path'], context['model_name']\n",
    "    fname = ml_path + model_name\n",
    "    model.save(fname)\n",
    "    print('Saved ', fname)"
   ]
  },
  {
   "cell_type": "code",
   "execution_count": 12,
   "metadata": {
    "code_folding": [
     0
    ]
   },
   "outputs": [],
   "source": [
    "def predict_ds(context):\n",
    "    \n",
    "    ml_path = context['ml_path']\n",
    "    model_name = context['model_name']\n",
    "    trained_cols = context['trained_cols']\n",
    "\n",
    "    joined_df = create_pre_process_ds(context)\n",
    "    pred_X = joined_df.loc[joined_df.sort_index().index[-1], :]\n",
    "    print('pred_X.shape', pred_X.shape)\n",
    "\n",
    "    # ensure prediction dataset is consistent with trained model\n",
    "    train_cols = np.load(ml_path + trained_cols) # save feature order\n",
    "    missing_cols = [x for x in train_cols if x not in pred_X.columns]\n",
    "    if len(missing_cols):\n",
    "        print(f'Warning missing columns: {missing_cols}')\n",
    "        pred_X = pd.concat([pred_X, pd.DataFrame(columns=missing_cols)], axis=1)\n",
    "        pred_X[missing_cols] = 0\n",
    "\n",
    "    sorted_cols = list(np.append(train_cols, ['symbol']))\n",
    "    print('pred_X.shape', pred_X[sorted_cols].shape)\n",
    "\n",
    "    pred_df = pd.DataFrame()\n",
    "    pred_df['symbol'] = pred_X.symbol\n",
    "\n",
    "    # Load model    \n",
    "    fname = ml_path + model_name\n",
    "    model = load_model(fname)\n",
    "    print('Loaded', fname)\n",
    "\n",
    "    preds = model.predict(pred_X[sorted_cols].iloc[:, :-1])\n",
    "    preds_classes = model.predict_classes(pred_X[sorted_cols].iloc[:, :-1])    \n",
    "    \n",
    "    pred_df['pred_class'] = preds_classes\n",
    "    pred_df['pred_label'] = list(map(lambda x: fwd_ret_labels[x], preds_classes))\n",
    "    probs = np.round(preds,3)\n",
    "    pred_prob = np.argmax(probs, axis=1)\n",
    "    pred_df['confidence'] = [x[np.argmax(x)] for x in probs] # higest prob\n",
    "    prob_df = pd.DataFrame(probs, index=pred_df.index, columns=fwd_ret_labels)\n",
    "    pred_df = pd.concat([pred_df, prob_df[fwd_ret_labels]], axis=1)\n",
    "    pred_df.index.name = 'pred_date'\n",
    "\n",
    "    # store in S3\n",
    "    s3_path = context['s3_path']\n",
    "    s3_df = pred_df.reset_index(drop=False)\n",
    "    rename_col(s3_df, 'index', 'pred_date')\n",
    "    csv_store(s3_df, s3_path, csv_ext.format(tgt_date))\n",
    "            \n",
    "    return pred_df"
   ]
  },
  {
   "cell_type": "markdown",
   "metadata": {},
   "source": [
    "#### Train"
   ]
  },
  {
   "cell_type": "code",
   "execution_count": 33,
   "metadata": {},
   "outputs": [
    {
     "name": "stdout",
     "output_type": "stream",
     "text": [
      "Sectors: 11, Industries: 136\n",
      "adding fin_data\n",
      "adding key_statistics\n",
      "adding day_quote\n",
      "adding eps_trend\n"
     ]
    },
    {
     "name": "stderr",
     "output_type": "stream",
     "text": [
      "/home/ubuntu/miniconda3/envs/inception/lib/python3.7/site-packages/pandas/core/indexing.py:969: FutureWarning: \n",
      "Passing list-likes to .loc or [] with any missing label will raise\n",
      "KeyError in the future, you can use .reindex() as an alternative.\n",
      "\n",
      "See the documentation here:\n",
      "https://pandas.pydata.org/pandas-docs/stable/indexing.html#deprecate-loc-reindex-listlike\n",
      "  return self._getitem_nested_tuple(tup)\n"
     ]
    },
    {
     "name": "stdout",
     "output_type": "stream",
     "text": [
      "adding eps_estimates\n"
     ]
    },
    {
     "name": "stderr",
     "output_type": "stream",
     "text": [
      "0it [00:00, ?it/s]/home/ubuntu/miniconda3/envs/inception/lib/python3.7/site-packages/pandas/core/indexing.py:1017: FutureWarning: \n",
      "Passing list-likes to .loc or [] with any missing label will raise\n",
      "KeyError in the future, you can use .reindex() as an alternative.\n",
      "\n",
      "See the documentation here:\n",
      "https://pandas.pydata.org/pandas-docs/stable/indexing.html#deprecate-loc-reindex-listlike\n",
      "  return getattr(section, self.name)[new_key]\n",
      "1it [00:00,  7.43it/s]"
     ]
    },
    {
     "name": "stdout",
     "output_type": "stream",
     "text": [
      "processed_df.shape (102473, 67)\n"
     ]
    },
    {
     "name": "stderr",
     "output_type": "stream",
     "text": [
      "5it [00:00,  9.73it/s]"
     ]
    },
    {
     "name": "stdout",
     "output_type": "stream",
     "text": [
      "9984.T missing profile, skipping\n"
     ]
    },
    {
     "name": "stderr",
     "output_type": "stream",
     "text": [
      "18it [00:02,  8.66it/s]"
     ]
    },
    {
     "name": "stdout",
     "output_type": "stream",
     "text": [
      "ABMD missing profile, skipping\n"
     ]
    },
    {
     "name": "stderr",
     "output_type": "stream",
     "text": [
      "194it [00:25,  8.19it/s]"
     ]
    },
    {
     "name": "stdout",
     "output_type": "stream",
     "text": [
      "CBOE missing profile, skipping\n"
     ]
    },
    {
     "name": "stderr",
     "output_type": "stream",
     "text": [
      "305it [00:40,  9.31it/s]"
     ]
    },
    {
     "name": "stdout",
     "output_type": "stream",
     "text": [
      "DDD missing profile, skipping\n"
     ]
    },
    {
     "name": "stderr",
     "output_type": "stream",
     "text": [
      "332it [00:43,  8.48it/s]"
     ]
    },
    {
     "name": "stdout",
     "output_type": "stream",
     "text": [
      "DRE missing profile, skipping\n"
     ]
    },
    {
     "name": "stderr",
     "output_type": "stream",
     "text": [
      "534it [01:10,  8.90it/s]"
     ]
    },
    {
     "name": "stdout",
     "output_type": "stream",
     "text": [
      "IBKR missing profile, skipping\n"
     ]
    },
    {
     "name": "stderr",
     "output_type": "stream",
     "text": [
      "583it [01:17,  8.09it/s]"
     ]
    },
    {
     "name": "stdout",
     "output_type": "stream",
     "text": [
      "JBT missing profile, skipping\n"
     ]
    },
    {
     "name": "stderr",
     "output_type": "stream",
     "text": [
      "652it [01:26,  8.72it/s]"
     ]
    },
    {
     "name": "stdout",
     "output_type": "stream",
     "text": [
      "LRCX missing profile, skipping\n"
     ]
    },
    {
     "name": "stderr",
     "output_type": "stream",
     "text": [
      "798it [01:45,  8.77it/s]"
     ]
    },
    {
     "name": "stdout",
     "output_type": "stream",
     "text": [
      "ODFL missing profile, skipping\n"
     ]
    },
    {
     "name": "stderr",
     "output_type": "stream",
     "text": [
      "893it [01:57,  8.26it/s]"
     ]
    },
    {
     "name": "stdout",
     "output_type": "stream",
     "text": [
      "REGN missing profile, skipping\n"
     ]
    },
    {
     "name": "stderr",
     "output_type": "stream",
     "text": [
      "919it [02:00,  8.23it/s]"
     ]
    },
    {
     "name": "stdout",
     "output_type": "stream",
     "text": [
      "ROP missing profile, skipping\n"
     ]
    },
    {
     "name": "stderr",
     "output_type": "stream",
     "text": [
      "1018it [02:13,  8.79it/s]"
     ]
    },
    {
     "name": "stdout",
     "output_type": "stream",
     "text": [
      "TAP missing profile, skipping\n"
     ]
    },
    {
     "name": "stderr",
     "output_type": "stream",
     "text": [
      "1091it [02:23,  8.61it/s]"
     ]
    },
    {
     "name": "stdout",
     "output_type": "stream",
     "text": [
      "UDR missing profile, skipping\n"
     ]
    },
    {
     "name": "stderr",
     "output_type": "stream",
     "text": [
      "1175it [02:34,  8.74it/s]"
     ]
    },
    {
     "name": "stdout",
     "output_type": "stream",
     "text": [
      "WSM missing profile, skipping\n"
     ]
    },
    {
     "name": "stderr",
     "output_type": "stream",
     "text": [
      "1208it [02:39,  9.52it/s]\n"
     ]
    },
    {
     "name": "stdout",
     "output_type": "stream",
     "text": [
      "joined_df.shape (96290, 85)\n"
     ]
    },
    {
     "name": "stderr",
     "output_type": "stream",
     "text": [
      "/home/ubuntu/miniconda3/envs/inception/lib/python3.7/site-packages/sklearn/preprocessing/data.py:645: DataConversionWarning: Data with input dtype float32, float64 were all converted to float64 by StandardScaler.\n",
      "  return self.partial_fit(X, y)\n",
      "/home/ubuntu/miniconda3/envs/inception/lib/python3.7/site-packages/sklearn/base.py:464: DataConversionWarning: Data with input dtype float32, float64 were all converted to float64 by StandardScaler.\n",
      "  return self.fit(X, **fit_params).transform(X)\n",
      "/home/ubuntu/miniconda3/envs/inception/lib/python3.7/site-packages/pandas/core/indexing.py:1494: FutureWarning: \n",
      "Passing list-likes to .loc or [] with any missing label will raise\n",
      "KeyError in the future, you can use .reindex() as an alternative.\n",
      "\n",
      "See the documentation here:\n",
      "https://pandas.pydata.org/pandas-docs/stable/indexing.html#deprecate-loc-reindex-listlike\n",
      "  return self._getitem_tuple(key)\n"
     ]
    },
    {
     "name": "stdout",
     "output_type": "stream",
     "text": [
      "Y_df.shape (183023, 1)\n",
      "joined_df.shape (96290, 95)\n"
     ]
    },
    {
     "name": "stderr",
     "output_type": "stream",
     "text": [
      "/home/ubuntu/miniconda3/envs/inception/lib/python3.7/site-packages/pandas/core/indexing.py:969: FutureWarning: \n",
      "Passing list-likes to .loc or [] with any missing label will raise\n",
      "KeyError in the future, you can use .reindex() as an alternative.\n",
      "\n",
      "See the documentation here:\n",
      "https://pandas.pydata.org/pandas-docs/stable/indexing.html#deprecate-loc-reindex-listlike\n",
      "  return self._getitem_nested_tuple(tup)\n"
     ]
    },
    {
     "name": "stdout",
     "output_type": "stream",
     "text": [
      "joined_df.shape (77556, 96)\n",
      "neutral    0.794007\n",
      "short      0.074553\n",
      "long       0.062716\n",
      "bear       0.042563\n",
      "bull       0.026162\n",
      "Name: fwdReturn, dtype: float64\n",
      "Training for 168 dates, 0.7 years\n"
     ]
    }
   ],
   "source": [
    "X_train, X_test, y_train, y_test = get_train_test_sets(context)"
   ]
  },
  {
   "cell_type": "code",
   "execution_count": null,
   "metadata": {
    "scrolled": true
   },
   "outputs": [
    {
     "name": "stdout",
     "output_type": "stream",
     "text": [
      "Train on 73678 samples, validate on 3878 samples\n",
      "Epoch 1/400\n",
      "73678/73678 [==============================] - 8s 106us/step - loss: 0.7124 - acc: 0.7916 - val_loss: 0.6571 - val_acc: 0.7940\n",
      "\n",
      "Epoch 00001: val_loss improved from inf to 0.65707, saving model to ../ML/bottomup_TF.h5\n",
      "Epoch 2/400\n",
      "73678/73678 [==============================] - 7s 93us/step - loss: 0.6459 - acc: 0.7945 - val_loss: 0.6041 - val_acc: 0.7968\n",
      "\n",
      "Epoch 00002: val_loss improved from 0.65707 to 0.60414, saving model to ../ML/bottomup_TF.h5\n",
      "Epoch 3/400\n",
      "73678/73678 [==============================] - 7s 94us/step - loss: 0.6112 - acc: 0.7967 - val_loss: 0.5772 - val_acc: 0.7976\n",
      "\n",
      "Epoch 00003: val_loss improved from 0.60414 to 0.57718, saving model to ../ML/bottomup_TF.h5\n",
      "Epoch 4/400\n",
      "73678/73678 [==============================] - 7s 94us/step - loss: 0.5908 - acc: 0.7971 - val_loss: 0.5608 - val_acc: 0.8022\n",
      "\n",
      "Epoch 00004: val_loss improved from 0.57718 to 0.56077, saving model to ../ML/bottomup_TF.h5\n",
      "Epoch 5/400\n",
      "73678/73678 [==============================] - 7s 93us/step - loss: 0.5714 - acc: 0.8000 - val_loss: 0.5505 - val_acc: 0.8030\n",
      "\n",
      "Epoch 00005: val_loss improved from 0.56077 to 0.55052, saving model to ../ML/bottomup_TF.h5\n",
      "Epoch 6/400\n",
      "73678/73678 [==============================] - 7s 93us/step - loss: 0.5567 - acc: 0.8025 - val_loss: 0.5364 - val_acc: 0.8040\n",
      "\n",
      "Epoch 00006: val_loss improved from 0.55052 to 0.53643, saving model to ../ML/bottomup_TF.h5\n",
      "Epoch 7/400\n",
      "73678/73678 [==============================] - 7s 93us/step - loss: 0.5394 - acc: 0.8041 - val_loss: 0.5183 - val_acc: 0.8017\n",
      "\n",
      "Epoch 00007: val_loss improved from 0.53643 to 0.51830, saving model to ../ML/bottomup_TF.h5\n",
      "Epoch 8/400\n",
      "73678/73678 [==============================] - 7s 93us/step - loss: 0.5276 - acc: 0.8081 - val_loss: 0.5034 - val_acc: 0.8089\n",
      "\n",
      "Epoch 00008: val_loss improved from 0.51830 to 0.50341, saving model to ../ML/bottomup_TF.h5\n",
      "Epoch 9/400\n",
      "73678/73678 [==============================] - 7s 94us/step - loss: 0.5140 - acc: 0.8105 - val_loss: 0.4969 - val_acc: 0.8051\n",
      "\n",
      "Epoch 00009: val_loss improved from 0.50341 to 0.49694, saving model to ../ML/bottomup_TF.h5\n",
      "Epoch 10/400\n",
      "73678/73678 [==============================] - 7s 92us/step - loss: 0.5021 - acc: 0.8143 - val_loss: 0.4788 - val_acc: 0.8123\n",
      "\n",
      "Epoch 00010: val_loss improved from 0.49694 to 0.47884, saving model to ../ML/bottomup_TF.h5\n",
      "Epoch 11/400\n",
      "73678/73678 [==============================] - 7s 94us/step - loss: 0.4936 - acc: 0.8163 - val_loss: 0.4778 - val_acc: 0.8143\n",
      "\n",
      "Epoch 00011: val_loss improved from 0.47884 to 0.47784, saving model to ../ML/bottomup_TF.h5\n",
      "Epoch 12/400\n",
      "73678/73678 [==============================] - 7s 94us/step - loss: 0.4824 - acc: 0.8191 - val_loss: 0.4670 - val_acc: 0.8118\n",
      "\n",
      "Epoch 00012: val_loss improved from 0.47784 to 0.46702, saving model to ../ML/bottomup_TF.h5\n",
      "Epoch 13/400\n",
      "73678/73678 [==============================] - 7s 92us/step - loss: 0.4703 - acc: 0.8242 - val_loss: 0.4502 - val_acc: 0.8187\n",
      "\n",
      "Epoch 00013: val_loss improved from 0.46702 to 0.45020, saving model to ../ML/bottomup_TF.h5\n",
      "Epoch 14/400\n",
      "73678/73678 [==============================] - 7s 94us/step - loss: 0.4657 - acc: 0.8250 - val_loss: 0.4383 - val_acc: 0.8262\n",
      "\n",
      "Epoch 00014: val_loss improved from 0.45020 to 0.43834, saving model to ../ML/bottomup_TF.h5\n",
      "Epoch 15/400\n",
      "73678/73678 [==============================] - 7s 93us/step - loss: 0.4524 - acc: 0.8287 - val_loss: 0.4355 - val_acc: 0.8347\n",
      "\n",
      "Epoch 00015: val_loss improved from 0.43834 to 0.43552, saving model to ../ML/bottomup_TF.h5\n",
      "Epoch 16/400\n",
      "73678/73678 [==============================] - 7s 93us/step - loss: 0.4459 - acc: 0.8310 - val_loss: 0.4243 - val_acc: 0.8383\n",
      "\n",
      "Epoch 00016: val_loss improved from 0.43552 to 0.42431, saving model to ../ML/bottomup_TF.h5\n",
      "Epoch 17/400\n",
      "73678/73678 [==============================] - 7s 94us/step - loss: 0.4359 - acc: 0.8326 - val_loss: 0.4159 - val_acc: 0.8375\n",
      "\n",
      "Epoch 00017: val_loss improved from 0.42431 to 0.41587, saving model to ../ML/bottomup_TF.h5\n",
      "Epoch 18/400\n",
      "73678/73678 [==============================] - 7s 94us/step - loss: 0.4332 - acc: 0.8347 - val_loss: 0.4179 - val_acc: 0.8399\n",
      "\n",
      "Epoch 00018: val_loss did not improve from 0.41587\n",
      "Epoch 19/400\n",
      "73678/73678 [==============================] - 7s 94us/step - loss: 0.4240 - acc: 0.8380 - val_loss: 0.4126 - val_acc: 0.8386\n",
      "\n",
      "Epoch 00019: val_loss improved from 0.41587 to 0.41258, saving model to ../ML/bottomup_TF.h5\n",
      "Epoch 20/400\n",
      "73678/73678 [==============================] - 7s 92us/step - loss: 0.4167 - acc: 0.8408 - val_loss: 0.4006 - val_acc: 0.8409\n",
      "\n",
      "Epoch 00020: val_loss improved from 0.41258 to 0.40060, saving model to ../ML/bottomup_TF.h5\n",
      "Epoch 21/400\n",
      "73678/73678 [==============================] - 7s 93us/step - loss: 0.4110 - acc: 0.8423 - val_loss: 0.3985 - val_acc: 0.8484\n",
      "\n",
      "Epoch 00021: val_loss improved from 0.40060 to 0.39846, saving model to ../ML/bottomup_TF.h5\n",
      "Epoch 22/400\n",
      "73678/73678 [==============================] - 7s 93us/step - loss: 0.4067 - acc: 0.8418 - val_loss: 0.3940 - val_acc: 0.8461\n",
      "\n",
      "Epoch 00022: val_loss improved from 0.39846 to 0.39400, saving model to ../ML/bottomup_TF.h5\n",
      "Epoch 23/400\n",
      "73678/73678 [==============================] - 7s 93us/step - loss: 0.3983 - acc: 0.8470 - val_loss: 0.3933 - val_acc: 0.8481\n",
      "\n",
      "Epoch 00023: val_loss improved from 0.39400 to 0.39328, saving model to ../ML/bottomup_TF.h5\n",
      "Epoch 24/400\n",
      "73678/73678 [==============================] - 7s 94us/step - loss: 0.3953 - acc: 0.8473 - val_loss: 0.3824 - val_acc: 0.8489\n",
      "\n",
      "Epoch 00024: val_loss improved from 0.39328 to 0.38236, saving model to ../ML/bottomup_TF.h5\n",
      "Epoch 25/400\n",
      "73678/73678 [==============================] - 7s 94us/step - loss: 0.3881 - acc: 0.8502 - val_loss: 0.3815 - val_acc: 0.8548\n",
      "\n",
      "Epoch 00025: val_loss improved from 0.38236 to 0.38152, saving model to ../ML/bottomup_TF.h5\n",
      "Epoch 26/400\n",
      "73678/73678 [==============================] - 7s 93us/step - loss: 0.3844 - acc: 0.8508 - val_loss: 0.3650 - val_acc: 0.8561\n",
      "\n",
      "Epoch 00026: val_loss improved from 0.38152 to 0.36498, saving model to ../ML/bottomup_TF.h5\n",
      "Epoch 27/400\n",
      "73678/73678 [==============================] - 7s 93us/step - loss: 0.3791 - acc: 0.8522 - val_loss: 0.3703 - val_acc: 0.8615\n",
      "\n",
      "Epoch 00027: val_loss did not improve from 0.36498\n",
      "Epoch 28/400\n",
      "73678/73678 [==============================] - 7s 93us/step - loss: 0.3747 - acc: 0.8533 - val_loss: 0.3717 - val_acc: 0.8574\n",
      "\n",
      "Epoch 00028: val_loss did not improve from 0.36498\n",
      "Epoch 29/400\n",
      "73678/73678 [==============================] - 7s 93us/step - loss: 0.3697 - acc: 0.8568 - val_loss: 0.3608 - val_acc: 0.8595\n",
      "\n",
      "Epoch 00029: val_loss improved from 0.36498 to 0.36081, saving model to ../ML/bottomup_TF.h5\n",
      "Epoch 30/400\n",
      "73678/73678 [==============================] - 7s 94us/step - loss: 0.3684 - acc: 0.8575 - val_loss: 0.3656 - val_acc: 0.8628\n",
      "\n",
      "Epoch 00030: val_loss did not improve from 0.36081\n",
      "Epoch 31/400\n",
      "73678/73678 [==============================] - 7s 91us/step - loss: 0.3622 - acc: 0.8602 - val_loss: 0.3548 - val_acc: 0.8623\n",
      "\n",
      "Epoch 00031: val_loss improved from 0.36081 to 0.35479, saving model to ../ML/bottomup_TF.h5\n",
      "Epoch 32/400\n",
      "73678/73678 [==============================] - 7s 94us/step - loss: 0.3584 - acc: 0.8607 - val_loss: 0.3635 - val_acc: 0.8602\n",
      "\n",
      "Epoch 00032: val_loss did not improve from 0.35479\n",
      "Epoch 33/400\n",
      "73678/73678 [==============================] - 7s 94us/step - loss: 0.3592 - acc: 0.8619 - val_loss: 0.3512 - val_acc: 0.8669\n",
      "\n",
      "Epoch 00033: val_loss improved from 0.35479 to 0.35121, saving model to ../ML/bottomup_TF.h5\n",
      "Epoch 34/400\n",
      "73678/73678 [==============================] - 7s 93us/step - loss: 0.3570 - acc: 0.8617 - val_loss: 0.3477 - val_acc: 0.8659\n",
      "\n",
      "Epoch 00034: val_loss improved from 0.35121 to 0.34769, saving model to ../ML/bottomup_TF.h5\n",
      "Epoch 35/400\n",
      "73678/73678 [==============================] - 7s 94us/step - loss: 0.3475 - acc: 0.8636 - val_loss: 0.3402 - val_acc: 0.8682\n",
      "\n",
      "Epoch 00035: val_loss improved from 0.34769 to 0.34019, saving model to ../ML/bottomup_TF.h5\n",
      "Epoch 36/400\n",
      "73678/73678 [==============================] - 7s 93us/step - loss: 0.3452 - acc: 0.8642 - val_loss: 0.3418 - val_acc: 0.8695\n",
      "\n",
      "Epoch 00036: val_loss did not improve from 0.34019\n",
      "Epoch 37/400\n",
      "73678/73678 [==============================] - 7s 93us/step - loss: 0.3466 - acc: 0.8642 - val_loss: 0.3389 - val_acc: 0.8731\n",
      "\n",
      "Epoch 00037: val_loss improved from 0.34019 to 0.33888, saving model to ../ML/bottomup_TF.h5\n",
      "Epoch 38/400\n",
      "73678/73678 [==============================] - 7s 93us/step - loss: 0.3404 - acc: 0.8669 - val_loss: 0.3337 - val_acc: 0.8718\n",
      "\n",
      "Epoch 00038: val_loss improved from 0.33888 to 0.33371, saving model to ../ML/bottomup_TF.h5\n",
      "Epoch 39/400\n",
      "73678/73678 [==============================] - 7s 94us/step - loss: 0.3380 - acc: 0.8677 - val_loss: 0.3361 - val_acc: 0.8724\n",
      "\n",
      "Epoch 00039: val_loss did not improve from 0.33371\n",
      "Epoch 40/400\n",
      "73678/73678 [==============================] - 7s 93us/step - loss: 0.3391 - acc: 0.8688 - val_loss: 0.3326 - val_acc: 0.8685\n",
      "\n",
      "Epoch 00040: val_loss improved from 0.33371 to 0.33255, saving model to ../ML/bottomup_TF.h5\n",
      "Epoch 41/400\n",
      "73678/73678 [==============================] - 7s 91us/step - loss: 0.3314 - acc: 0.8698 - val_loss: 0.3320 - val_acc: 0.8744\n",
      "\n",
      "Epoch 00041: val_loss improved from 0.33255 to 0.33201, saving model to ../ML/bottomup_TF.h5\n",
      "Epoch 42/400\n",
      "73678/73678 [==============================] - 7s 94us/step - loss: 0.3309 - acc: 0.8711 - val_loss: 0.3303 - val_acc: 0.8762\n",
      "\n",
      "Epoch 00042: val_loss improved from 0.33201 to 0.33032, saving model to ../ML/bottomup_TF.h5\n",
      "Epoch 43/400\n",
      "73678/73678 [==============================] - 7s 93us/step - loss: 0.3288 - acc: 0.8723 - val_loss: 0.3395 - val_acc: 0.8669\n",
      "\n",
      "Epoch 00043: val_loss did not improve from 0.33032\n",
      "Epoch 44/400\n",
      "73678/73678 [==============================] - 7s 93us/step - loss: 0.3264 - acc: 0.8727 - val_loss: 0.3252 - val_acc: 0.8752\n",
      "\n",
      "Epoch 00044: val_loss improved from 0.33032 to 0.32519, saving model to ../ML/bottomup_TF.h5\n",
      "Epoch 45/400\n",
      "73678/73678 [==============================] - 7s 94us/step - loss: 0.3257 - acc: 0.8735 - val_loss: 0.3300 - val_acc: 0.8742\n",
      "\n",
      "Epoch 00045: val_loss did not improve from 0.32519\n",
      "Epoch 46/400\n",
      "73678/73678 [==============================] - 7s 94us/step - loss: 0.3229 - acc: 0.8738 - val_loss: 0.3304 - val_acc: 0.8734\n",
      "\n",
      "Epoch 00046: val_loss did not improve from 0.32519\n",
      "Epoch 47/400\n",
      "73678/73678 [==============================] - 7s 94us/step - loss: 0.3194 - acc: 0.8748 - val_loss: 0.3286 - val_acc: 0.8731\n",
      "\n",
      "Epoch 00047: val_loss did not improve from 0.32519\n",
      "Epoch 48/400\n",
      "73678/73678 [==============================] - 7s 94us/step - loss: 0.3144 - acc: 0.8771 - val_loss: 0.3257 - val_acc: 0.8757\n",
      "\n",
      "Epoch 00048: val_loss did not improve from 0.32519\n",
      "Epoch 49/400\n",
      "73678/73678 [==============================] - 7s 94us/step - loss: 0.3139 - acc: 0.8779 - val_loss: 0.3194 - val_acc: 0.8739\n",
      "\n",
      "Epoch 00049: val_loss improved from 0.32519 to 0.31940, saving model to ../ML/bottomup_TF.h5\n",
      "Epoch 50/400\n",
      "73678/73678 [==============================] - 7s 94us/step - loss: 0.3126 - acc: 0.8778 - val_loss: 0.3178 - val_acc: 0.8757\n",
      "\n",
      "Epoch 00050: val_loss improved from 0.31940 to 0.31785, saving model to ../ML/bottomup_TF.h5\n",
      "Epoch 51/400\n",
      "73678/73678 [==============================] - 7s 91us/step - loss: 0.3109 - acc: 0.8785 - val_loss: 0.3291 - val_acc: 0.8762\n",
      "\n",
      "Epoch 00051: val_loss did not improve from 0.31785\n",
      "Epoch 52/400\n",
      "73678/73678 [==============================] - 7s 94us/step - loss: 0.3103 - acc: 0.8787 - val_loss: 0.3173 - val_acc: 0.8783\n",
      "\n",
      "Epoch 00052: val_loss improved from 0.31785 to 0.31727, saving model to ../ML/bottomup_TF.h5\n",
      "Epoch 53/400\n",
      "73678/73678 [==============================] - 7s 94us/step - loss: 0.3099 - acc: 0.8791 - val_loss: 0.3231 - val_acc: 0.8788\n",
      "\n",
      "Epoch 00053: val_loss did not improve from 0.31727\n",
      "Epoch 54/400\n",
      "73678/73678 [==============================] - 7s 93us/step - loss: 0.3083 - acc: 0.8791 - val_loss: 0.3169 - val_acc: 0.8796\n",
      "\n",
      "Epoch 00054: val_loss improved from 0.31727 to 0.31688, saving model to ../ML/bottomup_TF.h5\n",
      "Epoch 55/400\n",
      "73678/73678 [==============================] - 7s 93us/step - loss: 0.3030 - acc: 0.8810 - val_loss: 0.3206 - val_acc: 0.8775\n",
      "\n",
      "Epoch 00055: val_loss did not improve from 0.31688\n",
      "Epoch 56/400\n",
      "73678/73678 [==============================] - 7s 94us/step - loss: 0.3017 - acc: 0.8819 - val_loss: 0.3128 - val_acc: 0.8811\n",
      "\n",
      "Epoch 00056: val_loss improved from 0.31688 to 0.31285, saving model to ../ML/bottomup_TF.h5\n",
      "Epoch 57/400\n",
      "73678/73678 [==============================] - 7s 93us/step - loss: 0.3040 - acc: 0.8807 - val_loss: 0.3221 - val_acc: 0.8783\n",
      "\n",
      "Epoch 00057: val_loss did not improve from 0.31285\n",
      "Epoch 58/400\n",
      "73678/73678 [==============================] - 7s 94us/step - loss: 0.2977 - acc: 0.8821 - val_loss: 0.3150 - val_acc: 0.8793\n",
      "\n",
      "Epoch 00058: val_loss did not improve from 0.31285\n",
      "Epoch 59/400\n",
      "73678/73678 [==============================] - 7s 94us/step - loss: 0.2994 - acc: 0.8827 - val_loss: 0.3101 - val_acc: 0.8827\n",
      "\n",
      "Epoch 00059: val_loss improved from 0.31285 to 0.31012, saving model to ../ML/bottomup_TF.h5\n",
      "Epoch 60/400\n",
      "73678/73678 [==============================] - 7s 93us/step - loss: 0.2921 - acc: 0.8846 - val_loss: 0.3169 - val_acc: 0.8793\n",
      "\n",
      "Epoch 00060: val_loss did not improve from 0.31012\n",
      "Epoch 61/400\n",
      "73678/73678 [==============================] - 7s 94us/step - loss: 0.2923 - acc: 0.8854 - val_loss: 0.3082 - val_acc: 0.8863\n",
      "\n",
      "Epoch 00061: val_loss improved from 0.31012 to 0.30821, saving model to ../ML/bottomup_TF.h5\n",
      "Epoch 62/400\n",
      "73678/73678 [==============================] - 7s 93us/step - loss: 0.2956 - acc: 0.8838 - val_loss: 0.3088 - val_acc: 0.8832\n",
      "\n",
      "Epoch 00062: val_loss did not improve from 0.30821\n",
      "Epoch 63/400\n",
      "73678/73678 [==============================] - 7s 93us/step - loss: 0.2934 - acc: 0.8855 - val_loss: 0.3125 - val_acc: 0.8827\n",
      "\n",
      "Epoch 00063: val_loss did not improve from 0.30821\n",
      "Epoch 64/400\n",
      "73678/73678 [==============================] - 7s 94us/step - loss: 0.2876 - acc: 0.8875 - val_loss: 0.3050 - val_acc: 0.8811\n",
      "\n",
      "Epoch 00064: val_loss improved from 0.30821 to 0.30505, saving model to ../ML/bottomup_TF.h5\n",
      "Epoch 65/400\n",
      "73678/73678 [==============================] - 7s 93us/step - loss: 0.2873 - acc: 0.8866 - val_loss: 0.3026 - val_acc: 0.8865\n",
      "\n",
      "Epoch 00065: val_loss improved from 0.30505 to 0.30257, saving model to ../ML/bottomup_TF.h5\n",
      "Epoch 66/400\n",
      "73678/73678 [==============================] - 7s 94us/step - loss: 0.2812 - acc: 0.8898 - val_loss: 0.3031 - val_acc: 0.8917\n",
      "\n",
      "Epoch 00066: val_loss did not improve from 0.30257\n",
      "Epoch 67/400\n",
      "73678/73678 [==============================] - 7s 94us/step - loss: 0.2846 - acc: 0.8879 - val_loss: 0.3053 - val_acc: 0.8858\n",
      "\n",
      "Epoch 00067: val_loss did not improve from 0.30257\n",
      "Epoch 68/400\n",
      "73678/73678 [==============================] - 7s 93us/step - loss: 0.2841 - acc: 0.8884 - val_loss: 0.2983 - val_acc: 0.8871\n",
      "\n",
      "Epoch 00068: val_loss improved from 0.30257 to 0.29830, saving model to ../ML/bottomup_TF.h5\n",
      "Epoch 69/400\n",
      "73678/73678 [==============================] - 7s 93us/step - loss: 0.2809 - acc: 0.8898 - val_loss: 0.3046 - val_acc: 0.8889\n",
      "\n",
      "Epoch 00069: val_loss did not improve from 0.29830\n",
      "Epoch 70/400\n",
      "73678/73678 [==============================] - 7s 94us/step - loss: 0.2830 - acc: 0.8892 - val_loss: 0.2966 - val_acc: 0.8932\n",
      "\n",
      "Epoch 00070: val_loss improved from 0.29830 to 0.29662, saving model to ../ML/bottomup_TF.h5\n",
      "Epoch 71/400\n",
      "73678/73678 [==============================] - 7s 93us/step - loss: 0.2793 - acc: 0.8910 - val_loss: 0.3035 - val_acc: 0.8871\n",
      "\n",
      "Epoch 00071: val_loss did not improve from 0.29662\n",
      "Epoch 72/400\n",
      "73678/73678 [==============================] - 7s 90us/step - loss: 0.2780 - acc: 0.8907 - val_loss: 0.3079 - val_acc: 0.8873\n",
      "\n",
      "Epoch 00072: val_loss did not improve from 0.29662\n",
      "Epoch 73/400\n",
      "73678/73678 [==============================] - 7s 93us/step - loss: 0.2762 - acc: 0.8916 - val_loss: 0.2999 - val_acc: 0.8912\n",
      "\n",
      "Epoch 00073: val_loss did not improve from 0.29662\n",
      "Epoch 74/400\n",
      "73678/73678 [==============================] - 7s 93us/step - loss: 0.2746 - acc: 0.8902 - val_loss: 0.2945 - val_acc: 0.8886\n",
      "\n",
      "Epoch 00074: val_loss improved from 0.29662 to 0.29452, saving model to ../ML/bottomup_TF.h5\n",
      "Epoch 75/400\n",
      "73678/73678 [==============================] - 7s 93us/step - loss: 0.2739 - acc: 0.8925 - val_loss: 0.2850 - val_acc: 0.8940\n",
      "\n",
      "Epoch 00075: val_loss improved from 0.29452 to 0.28500, saving model to ../ML/bottomup_TF.h5\n",
      "Epoch 76/400\n",
      "73678/73678 [==============================] - 7s 94us/step - loss: 0.2750 - acc: 0.8930 - val_loss: 0.2882 - val_acc: 0.8922\n",
      "\n",
      "Epoch 00076: val_loss did not improve from 0.28500\n",
      "Epoch 77/400\n",
      "73678/73678 [==============================] - 7s 94us/step - loss: 0.2706 - acc: 0.8935 - val_loss: 0.2970 - val_acc: 0.8860\n",
      "\n",
      "Epoch 00077: val_loss did not improve from 0.28500\n",
      "Epoch 78/400\n",
      "73678/73678 [==============================] - 7s 94us/step - loss: 0.2725 - acc: 0.8938 - val_loss: 0.2853 - val_acc: 0.8891\n",
      "\n",
      "Epoch 00078: val_loss did not improve from 0.28500\n",
      "Epoch 79/400\n",
      "73678/73678 [==============================] - 7s 93us/step - loss: 0.2684 - acc: 0.8945 - val_loss: 0.2951 - val_acc: 0.8894\n",
      "\n",
      "Epoch 00079: val_loss did not improve from 0.28500\n",
      "Epoch 80/400\n",
      "73678/73678 [==============================] - 7s 94us/step - loss: 0.2683 - acc: 0.8938 - val_loss: 0.2946 - val_acc: 0.8914\n",
      "\n",
      "Epoch 00080: val_loss did not improve from 0.28500\n",
      "Epoch 81/400\n",
      "73678/73678 [==============================] - 7s 95us/step - loss: 0.2699 - acc: 0.8935 - val_loss: 0.3000 - val_acc: 0.8876\n",
      "\n",
      "Epoch 00081: val_loss did not improve from 0.28500\n",
      "Epoch 82/400\n",
      "73678/73678 [==============================] - 7s 92us/step - loss: 0.2695 - acc: 0.8952 - val_loss: 0.2942 - val_acc: 0.8853\n",
      "\n",
      "Epoch 00082: val_loss did not improve from 0.28500\n",
      "Epoch 83/400\n",
      "73678/73678 [==============================] - 7s 94us/step - loss: 0.2656 - acc: 0.8965 - val_loss: 0.2856 - val_acc: 0.8912\n",
      "\n",
      "Epoch 00083: val_loss did not improve from 0.28500\n",
      "Epoch 84/400\n",
      "73678/73678 [==============================] - 7s 95us/step - loss: 0.2637 - acc: 0.8973 - val_loss: 0.2881 - val_acc: 0.8899\n",
      "\n",
      "Epoch 00084: val_loss did not improve from 0.28500\n",
      "Epoch 85/400\n",
      "73678/73678 [==============================] - 7s 93us/step - loss: 0.2679 - acc: 0.8957 - val_loss: 0.2878 - val_acc: 0.8904\n",
      "\n",
      "Epoch 00085: val_loss did not improve from 0.28500\n",
      "Epoch 86/400\n",
      "10000/73678 [===>..........................] - ETA: 5s - loss: 0.2519 - acc: 0.9023"
     ]
    }
   ],
   "source": [
    "# Keras Model\n",
    "units = context['units']\n",
    "max_iter = context['max_iter']\n",
    "l2_reg = context['l2_reg']\n",
    "dropout = context['dropout']\n",
    "trained_cols = context['trained_cols']\n",
    "\n",
    "y_train_oh = pd.get_dummies(y_train)[fwd_ret_labels]\n",
    "y_test_oh = pd.get_dummies(y_test)[fwd_ret_labels]\n",
    "\n",
    "# keras.regularizers.l2(l=0.001)\n",
    "\n",
    "model = Sequential()\n",
    "model.add(Dense(units, activation='relu', input_dim=X_train.shape[1]))\n",
    "model.add(Dropout(0.5))\n",
    "model.add(Dense(units, activation='relu'))\n",
    "model.add(Dropout(0.5))\n",
    "model.add(Dense(units, activation='relu'))\n",
    "model.add(Dropout(0.5))\n",
    "model.add(Dense(int(units/2), activation='relu'))\n",
    "model.add(Dense(len(pd.unique(y_train)), activation='softmax'))\n",
    "\n",
    "ml_path, model_name = context['ml_path'], context['model_name']\n",
    "fname = ml_path + model_name\n",
    "\n",
    "es = EarlyStopping(monitor='loss', patience=10, restore_best_weights=True, verbose=1)\n",
    "checkpointer = ModelCheckpoint(filepath=fname, verbose=1, save_best_only=True)\n",
    "csv_logger = CSVLogger('bottomup-train.log')\n",
    "\n",
    "opt = Adam()\n",
    "model.compile(loss='categorical_crossentropy', optimizer=opt, metrics=['accuracy'])\n",
    "history = model.fit(\n",
    "    X_train, y_train_oh, validation_data=(X_test, y_test_oh),\n",
    "    epochs=max_iter, batch_size=200, callbacks=[es, checkpointer, csv_logger])\n",
    "\n",
    "score = model.evaluate(X_test, y_test_oh)\n",
    "print(f'Loss: {score[0]}, Accuracy: {score[1]}')\n",
    "\n",
    "# save training columns\n",
    "np.save(ml_path + trained_cols, X_train.columns) # save feature order\n",
    "print(f'X_train.shape {X_train.shape}, columns: {list(X_train.columns)}')\n",
    "print('Saved: ', ml_path + trained_cols)\n",
    "\n",
    "# save model to drive\n",
    "ml_path, model_name = context['ml_path'], context['model_name']\n",
    "fname = ml_path + model_name\n",
    "model.save(fname)\n",
    "print('Saved ', fname)"
   ]
  },
  {
   "cell_type": "code",
   "execution_count": null,
   "metadata": {},
   "outputs": [],
   "source": []
  },
  {
   "cell_type": "code",
   "execution_count": null,
   "metadata": {},
   "outputs": [],
   "source": []
  },
  {
   "cell_type": "code",
   "execution_count": null,
   "metadata": {},
   "outputs": [],
   "source": []
  },
  {
   "cell_type": "code",
   "execution_count": 108,
   "metadata": {
    "scrolled": false
   },
   "outputs": [
    {
     "name": "stdout",
     "output_type": "stream",
     "text": [
      "Sectors: 11, Industries: 72\n",
      "adding fin_data\n",
      "adding key_statistics\n",
      "adding day_quote\n",
      "adding eps_trend\n",
      "adding eps_estimates\n"
     ]
    },
    {
     "name": "stderr",
     "output_type": "stream",
     "text": [
      "0it [00:00, ?it/s]/Users/vveiga/miniconda3/envs/inception/lib/python3.7/site-packages/pandas/core/indexing.py:1017: FutureWarning: \n",
      "Passing list-likes to .loc or [] with any missing label will raise\n",
      "KeyError in the future, you can use .reindex() as an alternative.\n",
      "\n",
      "See the documentation here:\n",
      "https://pandas.pydata.org/pandas-docs/stable/indexing.html#deprecate-loc-reindex-listlike\n",
      "  return getattr(section, self.name)[new_key]\n",
      "2it [00:00, 14.30it/s]"
     ]
    },
    {
     "name": "stdout",
     "output_type": "stream",
     "text": [
      "processed_df.shape (85022, 67)\n"
     ]
    },
    {
     "name": "stderr",
     "output_type": "stream",
     "text": [
      "1006it [01:24, 11.97it/s]\n"
     ]
    },
    {
     "name": "stdout",
     "output_type": "stream",
     "text": [
      "joined_df.shape (80729, 85)\n"
     ]
    },
    {
     "name": "stderr",
     "output_type": "stream",
     "text": [
      "/Users/vveiga/miniconda3/envs/inception/lib/python3.7/site-packages/sklearn/preprocessing/data.py:645: DataConversionWarning: Data with input dtype float32, float64 were all converted to float64 by StandardScaler.\n",
      "  return self.partial_fit(X, y)\n",
      "/Users/vveiga/miniconda3/envs/inception/lib/python3.7/site-packages/sklearn/base.py:464: DataConversionWarning: Data with input dtype float32, float64 were all converted to float64 by StandardScaler.\n",
      "  return self.fit(X, **fit_params).transform(X)\n",
      "/Users/vveiga/miniconda3/envs/inception/lib/python3.7/site-packages/pandas/core/indexing.py:1494: FutureWarning: \n",
      "Passing list-likes to .loc or [] with any missing label will raise\n",
      "KeyError in the future, you can use .reindex() as an alternative.\n",
      "\n",
      "See the documentation here:\n",
      "https://pandas.pydata.org/pandas-docs/stable/indexing.html#deprecate-loc-reindex-listlike\n",
      "  return self._getitem_tuple(key)\n"
     ]
    },
    {
     "name": "stdout",
     "output_type": "stream",
     "text": [
      "Y_df.shape (149548, 1)\n",
      "joined_df.shape (80729, 95)\n"
     ]
    },
    {
     "name": "stderr",
     "output_type": "stream",
     "text": [
      "/Users/vveiga/miniconda3/envs/inception/lib/python3.7/site-packages/pandas/core/indexing.py:969: FutureWarning: \n",
      "Passing list-likes to .loc or [] with any missing label will raise\n",
      "KeyError in the future, you can use .reindex() as an alternative.\n",
      "\n",
      "See the documentation here:\n",
      "https://pandas.pydata.org/pandas-docs/stable/indexing.html#deprecate-loc-reindex-listlike\n",
      "  return self._getitem_nested_tuple(tup)\n"
     ]
    },
    {
     "name": "stdout",
     "output_type": "stream",
     "text": [
      "joined_df.shape (64943, 96)\n",
      "neutral   0.78\n",
      "short     0.08\n",
      "long      0.06\n",
      "bear      0.05\n",
      "bull      0.03\n",
      "Name: fwdReturn, dtype: float64\n",
      "Training for 165 dates, 0.7 years\n",
      "Epoch 1/50\n",
      "51954/51954 [==============================] - 4s 78us/step - loss: 0.7242 - acc: 0.7689\n",
      "Epoch 2/50\n",
      "51954/51954 [==============================] - 3s 57us/step - loss: 0.6148 - acc: 0.7890\n",
      "Epoch 3/50\n",
      "51954/51954 [==============================] - 3s 57us/step - loss: 0.5549 - acc: 0.8031\n",
      "Epoch 4/50\n",
      "51954/51954 [==============================] - 3s 57us/step - loss: 0.4969 - acc: 0.8183\n",
      "Epoch 5/50\n",
      "51954/51954 [==============================] - 3s 57us/step - loss: 0.4406 - acc: 0.8334\n",
      "Epoch 6/50\n",
      "51954/51954 [==============================] - 3s 57us/step - loss: 0.3851 - acc: 0.8534\n",
      "Epoch 7/50\n",
      "51954/51954 [==============================] - 3s 57us/step - loss: 0.3407 - acc: 0.8688\n",
      "Epoch 8/50\n",
      "51954/51954 [==============================] - 3s 57us/step - loss: 0.3004 - acc: 0.8834\n",
      "Epoch 9/50\n",
      "51954/51954 [==============================] - 3s 58us/step - loss: 0.2670 - acc: 0.8959\n",
      "Epoch 10/50\n",
      "51954/51954 [==============================] - 3s 57us/step - loss: 0.2434 - acc: 0.9045\n",
      "Epoch 11/50\n",
      "51954/51954 [==============================] - 3s 57us/step - loss: 0.2155 - acc: 0.9154\n",
      "Epoch 12/50\n",
      "51954/51954 [==============================] - 3s 57us/step - loss: 0.1940 - acc: 0.9246\n",
      "Epoch 13/50\n",
      "51954/51954 [==============================] - 3s 57us/step - loss: 0.1729 - acc: 0.9330\n",
      "Epoch 14/50\n",
      "51954/51954 [==============================] - 3s 57us/step - loss: 0.1614 - acc: 0.9382\n",
      "Epoch 15/50\n",
      "51954/51954 [==============================] - 3s 57us/step - loss: 0.1416 - acc: 0.9460\n",
      "Epoch 16/50\n",
      "51954/51954 [==============================] - 3s 57us/step - loss: 0.1320 - acc: 0.9505\n",
      "Epoch 17/50\n",
      "51954/51954 [==============================] - 3s 57us/step - loss: 0.1160 - acc: 0.9573\n",
      "Epoch 18/50\n",
      "51954/51954 [==============================] - 3s 58us/step - loss: 0.1105 - acc: 0.9588\n",
      "Epoch 19/50\n",
      "51954/51954 [==============================] - 3s 57us/step - loss: 0.1032 - acc: 0.9629\n",
      "Epoch 20/50\n",
      "51954/51954 [==============================] - 3s 58us/step - loss: 0.0996 - acc: 0.9644\n",
      "Epoch 21/50\n",
      "51954/51954 [==============================] - 3s 57us/step - loss: 0.0920 - acc: 0.9680\n",
      "Epoch 22/50\n",
      "51954/51954 [==============================] - 3s 57us/step - loss: 0.0775 - acc: 0.9726\n",
      "Epoch 23/50\n",
      "51954/51954 [==============================] - 3s 57us/step - loss: 0.0841 - acc: 0.9710\n",
      "Epoch 24/50\n",
      "51954/51954 [==============================] - 3s 56us/step - loss: 0.0805 - acc: 0.9721\n",
      "Epoch 25/50\n",
      "51954/51954 [==============================] - 3s 57us/step - loss: 0.0748 - acc: 0.9741\n",
      "Epoch 26/50\n",
      "51954/51954 [==============================] - 3s 58us/step - loss: 0.0660 - acc: 0.9778\n",
      "Epoch 27/50\n",
      "51954/51954 [==============================] - 3s 58us/step - loss: 0.0644 - acc: 0.9780\n",
      "Epoch 28/50\n",
      "51954/51954 [==============================] - 3s 65us/step - loss: 0.0618 - acc: 0.9793\n",
      "Epoch 29/50\n",
      "51954/51954 [==============================] - 3s 67us/step - loss: 0.0622 - acc: 0.9788\n",
      "Epoch 30/50\n",
      "51954/51954 [==============================] - 4s 69us/step - loss: 0.0577 - acc: 0.9804\n",
      "Epoch 31/50\n",
      "51954/51954 [==============================] - 4s 69us/step - loss: 0.0604 - acc: 0.9796\n",
      "Epoch 32/50\n",
      "51954/51954 [==============================] - 4s 70us/step - loss: 0.0624 - acc: 0.9788\n",
      "Epoch 33/50\n",
      "51954/51954 [==============================] - 4s 69us/step - loss: 0.0595 - acc: 0.9797\n",
      "Epoch 34/50\n",
      "51954/51954 [==============================] - 4s 69us/step - loss: 0.0522 - acc: 0.9827\n",
      "Epoch 35/50\n",
      "51954/51954 [==============================] - 4s 70us/step - loss: 0.0467 - acc: 0.9850\n",
      "Epoch 36/50\n",
      "51954/51954 [==============================] - 4s 69us/step - loss: 0.0531 - acc: 0.9821\n",
      "Epoch 37/50\n",
      "51954/51954 [==============================] - 4s 69us/step - loss: 0.0581 - acc: 0.9800\n",
      "Epoch 38/50\n",
      "51954/51954 [==============================] - 4s 70us/step - loss: 0.0513 - acc: 0.9832\n",
      "Epoch 39/50\n",
      "51954/51954 [==============================] - 4s 70us/step - loss: 0.0437 - acc: 0.9858\n",
      "Epoch 40/50\n",
      "51954/51954 [==============================] - 4s 67us/step - loss: 0.0399 - acc: 0.9872\n",
      "Epoch 41/50\n",
      "51954/51954 [==============================] - 3s 65us/step - loss: 0.0423 - acc: 0.9859\n",
      "Epoch 42/50\n",
      "51954/51954 [==============================] - 3s 64us/step - loss: 0.0505 - acc: 0.9834\n",
      "Epoch 43/50\n",
      "51954/51954 [==============================] - 3s 64us/step - loss: 0.0503 - acc: 0.9835\n",
      "Epoch 44/50\n",
      "51954/51954 [==============================] - 3s 61us/step - loss: 0.0444 - acc: 0.9849\n",
      "Epoch 45/50\n",
      "51954/51954 [==============================] - 3s 60us/step - loss: 0.0418 - acc: 0.9867\n",
      "Epoch 46/50\n",
      "51954/51954 [==============================] - 3s 61us/step - loss: 0.0469 - acc: 0.9854\n",
      "Epoch 47/50\n",
      "51954/51954 [==============================] - 3s 61us/step - loss: 0.0383 - acc: 0.9875\n",
      "Epoch 48/50\n",
      "51954/51954 [==============================] - 3s 61us/step - loss: 0.0404 - acc: 0.9869\n",
      "Epoch 49/50\n",
      "51954/51954 [==============================] - 3s 62us/step - loss: 0.0470 - acc: 0.9849\n",
      "Epoch 50/50\n",
      "51954/51954 [==============================] - 3s 61us/step - loss: 0.0463 - acc: 0.9846\n",
      "12989/12989 [==============================] - 1s 80us/step\n",
      "Loss: 0.5219079265028952, Accuracy: 0.8802833166112525\n",
      "X_train.shape (51954, 95), columns: ['revenuePerShare', 'totalCashPerShare', 'currentRatio', 'debtToEquity', 'earningsGrowth', 'ebitda', 'ebitdaMargins', 'freeCashflow', 'grossMargins', 'grossProfits', 'operatingCashflow', 'operatingMargins', 'profitMargins', 'quickRatio', 'recommendationMean', 'returnOnAssets', 'returnOnEquity', 'revenueGrowth', 'targetHighPrice', 'targetLowPrice', 'targetMeanPrice', 'targetMedianPrice', 'totalCash', 'totalDebt', 'totalRevenue', 'beta', 'earningsQuarterlyGrowth', 'enterpriseToEbitda', 'enterpriseToRevenue', 'enterpriseValue', 'netIncomeToCommon', 'pegRatio', 'shortPercentOfFloat', 'shortRatio', 'heldPercentInsiders', 'heldPercentInstitutions', 'regularMarketChangePercent', 'averageDailyVolume10Day', 'averageDailyVolume3Month', 'fiftyDayAverageChangePercent', 'twoHundredDayAverageChangePercent', 'fiftyTwoWeekHighChangePercent', 'fiftyTwoWeekLowChangePercent', 'forwardPE', 'trailingPE', 'priceToBook', 'marketCap', '+1y_30daysAgo', '+1y_60daysAgo', '+1y_7daysAgo', '+1y_90daysAgo', '+1y_current', '+1y_growth', '+5y_growth', '-5y_growth', '0y_30daysAgo', '0y_60daysAgo', '0y_7daysAgo', '0y_90daysAgo', '0y_current', '0y_growth', '+1y_avg', '+1y_high', '+1y_low', '0y_avg', '0y_high', '0y_low', 'PctChg1Stds', 'PctMA50', 'PctMA200', 'RollVol30', 'PctChg20', 'PctChg60', 'PctChg120', 'Pct52WkH', 'Pct52WkL', 'rsBench20', 'rsSect20', 'rsBench60', 'rsSect60', 'rsBench120', 'rsSect120', 'benchPctChgStds', 'sectPctChgStds', '^BASI_MATE', '^COMM_SERV', '^CONS_CYCL', '^CONS_DEFE', '^ENER', '^FINA_SERV', '^HEAL', '^INDU', '^REAL_ESTA', '^TECH', '^UTIL']\n",
      "Saved:  ../ML/bottomup_NN_train_cols.npy\n",
      "Saved  ../ML/bottomup_NN.h5\n",
      "CPU times: user 19min 34s, sys: 3min 30s, total: 23min 4s\n",
      "Wall time: 5min 13s\n"
     ]
    }
   ],
   "source": [
    "%time train_ds(context)"
   ]
  },
  {
   "cell_type": "markdown",
   "metadata": {},
   "source": [
    "#### Predict"
   ]
  },
  {
   "cell_type": "code",
   "execution_count": null,
   "metadata": {},
   "outputs": [],
   "source": [
    "ml_path = context['ml_path']\n",
    "model_name = context['model_name']\n",
    "trained_cols = context['trained_cols']\n",
    "\n",
    "joined_df = create_pre_process_ds(context)\n",
    "pred_X = joined_df.loc[joined_df.sort_index().index[-1], :]\n",
    "print('pred_X.shape', pred_X.shape)\n",
    "\n",
    "# ensure prediction dataset is consistent with trained model\n",
    "train_cols = np.load(ml_path + trained_cols) # save feature order\n",
    "missing_cols = [x for x in train_cols if x not in pred_X.columns]\n",
    "if len(missing_cols):\n",
    "    print(f'Warning missing columns: {missing_cols}')\n",
    "    pred_X = pd.concat([pred_X, pd.DataFrame(columns=missing_cols)], axis=1)\n",
    "    pred_X[missing_cols] = 0\n",
    "\n",
    "sorted_cols = list(np.append(train_cols, ['symbol']))\n",
    "print('pred_X.shape', pred_X[sorted_cols].shape)"
   ]
  },
  {
   "cell_type": "code",
   "execution_count": 74,
   "metadata": {},
   "outputs": [
    {
     "name": "stdout",
     "output_type": "stream",
     "text": [
      "Loaded ../ML/bottomup_TF.h5\n"
     ]
    }
   ],
   "source": [
    "pred_df = pd.DataFrame()\n",
    "pred_df['symbol'] = pred_X.symbol\n",
    "\n",
    "# Load model    \n",
    "fname = ml_path + model_name\n",
    "model = load_model(fname)\n",
    "print('Loaded', fname)"
   ]
  },
  {
   "cell_type": "code",
   "execution_count": 75,
   "metadata": {},
   "outputs": [],
   "source": [
    "preds = model.predict(pred_X[sorted_cols].iloc[:, :-1])\n",
    "preds_classes = model.predict_classes(pred_X[sorted_cols].iloc[:, :-1])"
   ]
  },
  {
   "cell_type": "code",
   "execution_count": 76,
   "metadata": {},
   "outputs": [],
   "source": [
    "# np.round(preds,3), preds_classes, list(map(lambda x: fwd_ret_labels[x], preds_classes))"
   ]
  },
  {
   "cell_type": "code",
   "execution_count": 77,
   "metadata": {},
   "outputs": [],
   "source": [
    "pred_df['pred_class'] = preds_classes\n",
    "pred_df['pred_label'] = list(map(lambda x: fwd_ret_labels[x], preds_classes))\n",
    "probs = np.round(preds,3)\n",
    "pred_prob = np.argmax(probs, axis=1)\n",
    "pred_df['confidence'] = [x[np.argmax(x)] for x in probs] # higest prob\n",
    "prob_df = pd.DataFrame(probs, index=pred_df.index, columns=fwd_ret_labels)\n",
    "pred_df = pd.concat([pred_df, prob_df[fwd_ret_labels]], axis=1)\n",
    "pred_df.index.name = 'pred_date'"
   ]
  },
  {
   "cell_type": "code",
   "execution_count": 78,
   "metadata": {},
   "outputs": [
    {
     "data": {
      "text/html": [
       "<div>\n",
       "<style scoped>\n",
       "    .dataframe tbody tr th:only-of-type {\n",
       "        vertical-align: middle;\n",
       "    }\n",
       "\n",
       "    .dataframe tbody tr th {\n",
       "        vertical-align: top;\n",
       "    }\n",
       "\n",
       "    .dataframe thead th {\n",
       "        text-align: right;\n",
       "    }\n",
       "</style>\n",
       "<table border=\"1\" class=\"dataframe\">\n",
       "  <thead>\n",
       "    <tr style=\"text-align: right;\">\n",
       "      <th></th>\n",
       "      <th>symbol</th>\n",
       "      <th>pred_class</th>\n",
       "      <th>pred_label</th>\n",
       "      <th>confidence</th>\n",
       "      <th>bear</th>\n",
       "      <th>short</th>\n",
       "      <th>neutral</th>\n",
       "      <th>long</th>\n",
       "      <th>bull</th>\n",
       "    </tr>\n",
       "    <tr>\n",
       "      <th>pred_date</th>\n",
       "      <th></th>\n",
       "      <th></th>\n",
       "      <th></th>\n",
       "      <th></th>\n",
       "      <th></th>\n",
       "      <th></th>\n",
       "      <th></th>\n",
       "      <th></th>\n",
       "      <th></th>\n",
       "    </tr>\n",
       "  </thead>\n",
       "  <tbody>\n",
       "    <tr>\n",
       "      <th>2019-05-08</th>\n",
       "      <td>AUO</td>\n",
       "      <td>0</td>\n",
       "      <td>bear</td>\n",
       "      <td>0.96</td>\n",
       "      <td>0.96</td>\n",
       "      <td>0.04</td>\n",
       "      <td>0.00</td>\n",
       "      <td>0.00</td>\n",
       "      <td>0.00</td>\n",
       "    </tr>\n",
       "    <tr>\n",
       "      <th>2019-05-08</th>\n",
       "      <td>ARW</td>\n",
       "      <td>2</td>\n",
       "      <td>neutral</td>\n",
       "      <td>1.00</td>\n",
       "      <td>0.00</td>\n",
       "      <td>0.00</td>\n",
       "      <td>1.00</td>\n",
       "      <td>0.00</td>\n",
       "      <td>0.00</td>\n",
       "    </tr>\n",
       "    <tr>\n",
       "      <th>2019-05-08</th>\n",
       "      <td>ADBE</td>\n",
       "      <td>2</td>\n",
       "      <td>neutral</td>\n",
       "      <td>0.99</td>\n",
       "      <td>0.00</td>\n",
       "      <td>0.01</td>\n",
       "      <td>0.99</td>\n",
       "      <td>0.00</td>\n",
       "      <td>0.00</td>\n",
       "    </tr>\n",
       "    <tr>\n",
       "      <th>2019-05-08</th>\n",
       "      <td>AAPL</td>\n",
       "      <td>2</td>\n",
       "      <td>neutral</td>\n",
       "      <td>1.00</td>\n",
       "      <td>0.00</td>\n",
       "      <td>0.00</td>\n",
       "      <td>1.00</td>\n",
       "      <td>0.00</td>\n",
       "      <td>0.00</td>\n",
       "    </tr>\n",
       "    <tr>\n",
       "      <th>2019-05-08</th>\n",
       "      <td>ADI</td>\n",
       "      <td>2</td>\n",
       "      <td>neutral</td>\n",
       "      <td>1.00</td>\n",
       "      <td>0.00</td>\n",
       "      <td>0.00</td>\n",
       "      <td>1.00</td>\n",
       "      <td>0.00</td>\n",
       "      <td>0.00</td>\n",
       "    </tr>\n",
       "    <tr>\n",
       "      <th>2019-05-08</th>\n",
       "      <td>ADSK</td>\n",
       "      <td>2</td>\n",
       "      <td>neutral</td>\n",
       "      <td>1.00</td>\n",
       "      <td>0.00</td>\n",
       "      <td>0.00</td>\n",
       "      <td>1.00</td>\n",
       "      <td>0.00</td>\n",
       "      <td>0.00</td>\n",
       "    </tr>\n",
       "    <tr>\n",
       "      <th>2019-05-08</th>\n",
       "      <td>0700.HK</td>\n",
       "      <td>2</td>\n",
       "      <td>neutral</td>\n",
       "      <td>1.00</td>\n",
       "      <td>0.00</td>\n",
       "      <td>0.00</td>\n",
       "      <td>1.00</td>\n",
       "      <td>0.00</td>\n",
       "      <td>0.00</td>\n",
       "    </tr>\n",
       "    <tr>\n",
       "      <th>2019-05-08</th>\n",
       "      <td>ALRM</td>\n",
       "      <td>2</td>\n",
       "      <td>neutral</td>\n",
       "      <td>1.00</td>\n",
       "      <td>0.00</td>\n",
       "      <td>0.00</td>\n",
       "      <td>1.00</td>\n",
       "      <td>0.00</td>\n",
       "      <td>0.00</td>\n",
       "    </tr>\n",
       "    <tr>\n",
       "      <th>2019-05-08</th>\n",
       "      <td>ASX</td>\n",
       "      <td>2</td>\n",
       "      <td>neutral</td>\n",
       "      <td>1.00</td>\n",
       "      <td>0.00</td>\n",
       "      <td>0.00</td>\n",
       "      <td>1.00</td>\n",
       "      <td>0.00</td>\n",
       "      <td>0.00</td>\n",
       "    </tr>\n",
       "    <tr>\n",
       "      <th>2019-05-08</th>\n",
       "      <td>ATHM</td>\n",
       "      <td>2</td>\n",
       "      <td>neutral</td>\n",
       "      <td>1.00</td>\n",
       "      <td>0.00</td>\n",
       "      <td>0.00</td>\n",
       "      <td>1.00</td>\n",
       "      <td>0.00</td>\n",
       "      <td>0.00</td>\n",
       "    </tr>\n",
       "    <tr>\n",
       "      <th>2019-05-08</th>\n",
       "      <td>AKAM</td>\n",
       "      <td>2</td>\n",
       "      <td>neutral</td>\n",
       "      <td>1.00</td>\n",
       "      <td>0.00</td>\n",
       "      <td>0.00</td>\n",
       "      <td>1.00</td>\n",
       "      <td>0.00</td>\n",
       "      <td>0.00</td>\n",
       "    </tr>\n",
       "    <tr>\n",
       "      <th>2019-05-08</th>\n",
       "      <td>AEIS</td>\n",
       "      <td>2</td>\n",
       "      <td>neutral</td>\n",
       "      <td>1.00</td>\n",
       "      <td>0.00</td>\n",
       "      <td>0.00</td>\n",
       "      <td>1.00</td>\n",
       "      <td>0.00</td>\n",
       "      <td>0.00</td>\n",
       "    </tr>\n",
       "    <tr>\n",
       "      <th>2019-05-08</th>\n",
       "      <td>AVT</td>\n",
       "      <td>2</td>\n",
       "      <td>neutral</td>\n",
       "      <td>1.00</td>\n",
       "      <td>0.00</td>\n",
       "      <td>0.00</td>\n",
       "      <td>1.00</td>\n",
       "      <td>0.00</td>\n",
       "      <td>0.00</td>\n",
       "    </tr>\n",
       "    <tr>\n",
       "      <th>2019-05-08</th>\n",
       "      <td>AMAT</td>\n",
       "      <td>2</td>\n",
       "      <td>neutral</td>\n",
       "      <td>0.92</td>\n",
       "      <td>0.00</td>\n",
       "      <td>0.08</td>\n",
       "      <td>0.92</td>\n",
       "      <td>0.00</td>\n",
       "      <td>0.00</td>\n",
       "    </tr>\n",
       "    <tr>\n",
       "      <th>2019-05-08</th>\n",
       "      <td>BDC</td>\n",
       "      <td>2</td>\n",
       "      <td>neutral</td>\n",
       "      <td>0.99</td>\n",
       "      <td>0.00</td>\n",
       "      <td>0.01</td>\n",
       "      <td>0.99</td>\n",
       "      <td>0.00</td>\n",
       "      <td>0.00</td>\n",
       "    </tr>\n",
       "    <tr>\n",
       "      <th>2019-05-08</th>\n",
       "      <td>AMD</td>\n",
       "      <td>1</td>\n",
       "      <td>short</td>\n",
       "      <td>0.79</td>\n",
       "      <td>0.04</td>\n",
       "      <td>0.79</td>\n",
       "      <td>0.17</td>\n",
       "      <td>0.00</td>\n",
       "      <td>0.00</td>\n",
       "    </tr>\n",
       "    <tr>\n",
       "      <th>2019-05-08</th>\n",
       "      <td>AVX</td>\n",
       "      <td>0</td>\n",
       "      <td>bear</td>\n",
       "      <td>0.71</td>\n",
       "      <td>0.71</td>\n",
       "      <td>0.28</td>\n",
       "      <td>0.00</td>\n",
       "      <td>0.00</td>\n",
       "      <td>0.00</td>\n",
       "    </tr>\n",
       "    <tr>\n",
       "      <th>2019-05-08</th>\n",
       "      <td>APH</td>\n",
       "      <td>2</td>\n",
       "      <td>neutral</td>\n",
       "      <td>0.77</td>\n",
       "      <td>0.00</td>\n",
       "      <td>0.23</td>\n",
       "      <td>0.77</td>\n",
       "      <td>0.00</td>\n",
       "      <td>0.00</td>\n",
       "    </tr>\n",
       "    <tr>\n",
       "      <th>2019-05-08</th>\n",
       "      <td>ACN</td>\n",
       "      <td>1</td>\n",
       "      <td>short</td>\n",
       "      <td>0.91</td>\n",
       "      <td>0.00</td>\n",
       "      <td>0.91</td>\n",
       "      <td>0.09</td>\n",
       "      <td>0.00</td>\n",
       "      <td>0.00</td>\n",
       "    </tr>\n",
       "    <tr>\n",
       "      <th>2019-05-08</th>\n",
       "      <td>ANET</td>\n",
       "      <td>1</td>\n",
       "      <td>short</td>\n",
       "      <td>1.00</td>\n",
       "      <td>0.00</td>\n",
       "      <td>1.00</td>\n",
       "      <td>0.00</td>\n",
       "      <td>0.00</td>\n",
       "      <td>0.00</td>\n",
       "    </tr>\n",
       "    <tr>\n",
       "      <th>2019-05-08</th>\n",
       "      <td>AYI</td>\n",
       "      <td>2</td>\n",
       "      <td>neutral</td>\n",
       "      <td>0.99</td>\n",
       "      <td>0.00</td>\n",
       "      <td>0.00</td>\n",
       "      <td>0.99</td>\n",
       "      <td>0.01</td>\n",
       "      <td>0.00</td>\n",
       "    </tr>\n",
       "    <tr>\n",
       "      <th>2019-05-08</th>\n",
       "      <td>BIDU</td>\n",
       "      <td>2</td>\n",
       "      <td>neutral</td>\n",
       "      <td>0.96</td>\n",
       "      <td>0.00</td>\n",
       "      <td>0.03</td>\n",
       "      <td>0.96</td>\n",
       "      <td>0.00</td>\n",
       "      <td>0.00</td>\n",
       "    </tr>\n",
       "    <tr>\n",
       "      <th>2019-05-08</th>\n",
       "      <td>ACIW</td>\n",
       "      <td>2</td>\n",
       "      <td>neutral</td>\n",
       "      <td>1.00</td>\n",
       "      <td>0.00</td>\n",
       "      <td>0.00</td>\n",
       "      <td>1.00</td>\n",
       "      <td>0.00</td>\n",
       "      <td>0.00</td>\n",
       "    </tr>\n",
       "    <tr>\n",
       "      <th>2019-05-08</th>\n",
       "      <td>BILI</td>\n",
       "      <td>0</td>\n",
       "      <td>bear</td>\n",
       "      <td>0.76</td>\n",
       "      <td>0.76</td>\n",
       "      <td>0.23</td>\n",
       "      <td>0.01</td>\n",
       "      <td>0.00</td>\n",
       "      <td>0.00</td>\n",
       "    </tr>\n",
       "    <tr>\n",
       "      <th>2019-05-08</th>\n",
       "      <td>AVGO</td>\n",
       "      <td>2</td>\n",
       "      <td>neutral</td>\n",
       "      <td>0.78</td>\n",
       "      <td>0.00</td>\n",
       "      <td>0.22</td>\n",
       "      <td>0.78</td>\n",
       "      <td>0.00</td>\n",
       "      <td>0.00</td>\n",
       "    </tr>\n",
       "    <tr>\n",
       "      <th>2019-05-08</th>\n",
       "      <td>ATVI</td>\n",
       "      <td>3</td>\n",
       "      <td>long</td>\n",
       "      <td>0.59</td>\n",
       "      <td>0.00</td>\n",
       "      <td>0.00</td>\n",
       "      <td>0.41</td>\n",
       "      <td>0.59</td>\n",
       "      <td>0.00</td>\n",
       "    </tr>\n",
       "    <tr>\n",
       "      <th>2019-05-08</th>\n",
       "      <td>ANSS</td>\n",
       "      <td>2</td>\n",
       "      <td>neutral</td>\n",
       "      <td>0.98</td>\n",
       "      <td>0.00</td>\n",
       "      <td>0.01</td>\n",
       "      <td>0.98</td>\n",
       "      <td>0.01</td>\n",
       "      <td>0.00</td>\n",
       "    </tr>\n",
       "    <tr>\n",
       "      <th>2019-05-08</th>\n",
       "      <td>AYX</td>\n",
       "      <td>2</td>\n",
       "      <td>neutral</td>\n",
       "      <td>0.96</td>\n",
       "      <td>0.00</td>\n",
       "      <td>0.04</td>\n",
       "      <td>0.96</td>\n",
       "      <td>0.00</td>\n",
       "      <td>0.00</td>\n",
       "    </tr>\n",
       "  </tbody>\n",
       "</table>\n",
       "</div>"
      ],
      "text/plain": [
       "             symbol  pred_class pred_label  confidence  bear  short  neutral  \\\n",
       "pred_date                                                                      \n",
       "2019-05-08      AUO           0       bear        0.96  0.96   0.04     0.00   \n",
       "2019-05-08      ARW           2    neutral        1.00  0.00   0.00     1.00   \n",
       "2019-05-08     ADBE           2    neutral        0.99  0.00   0.01     0.99   \n",
       "2019-05-08     AAPL           2    neutral        1.00  0.00   0.00     1.00   \n",
       "2019-05-08      ADI           2    neutral        1.00  0.00   0.00     1.00   \n",
       "2019-05-08     ADSK           2    neutral        1.00  0.00   0.00     1.00   \n",
       "2019-05-08  0700.HK           2    neutral        1.00  0.00   0.00     1.00   \n",
       "2019-05-08     ALRM           2    neutral        1.00  0.00   0.00     1.00   \n",
       "2019-05-08      ASX           2    neutral        1.00  0.00   0.00     1.00   \n",
       "2019-05-08     ATHM           2    neutral        1.00  0.00   0.00     1.00   \n",
       "2019-05-08     AKAM           2    neutral        1.00  0.00   0.00     1.00   \n",
       "2019-05-08     AEIS           2    neutral        1.00  0.00   0.00     1.00   \n",
       "2019-05-08      AVT           2    neutral        1.00  0.00   0.00     1.00   \n",
       "2019-05-08     AMAT           2    neutral        0.92  0.00   0.08     0.92   \n",
       "2019-05-08      BDC           2    neutral        0.99  0.00   0.01     0.99   \n",
       "2019-05-08      AMD           1      short        0.79  0.04   0.79     0.17   \n",
       "2019-05-08      AVX           0       bear        0.71  0.71   0.28     0.00   \n",
       "2019-05-08      APH           2    neutral        0.77  0.00   0.23     0.77   \n",
       "2019-05-08      ACN           1      short        0.91  0.00   0.91     0.09   \n",
       "2019-05-08     ANET           1      short        1.00  0.00   1.00     0.00   \n",
       "2019-05-08      AYI           2    neutral        0.99  0.00   0.00     0.99   \n",
       "2019-05-08     BIDU           2    neutral        0.96  0.00   0.03     0.96   \n",
       "2019-05-08     ACIW           2    neutral        1.00  0.00   0.00     1.00   \n",
       "2019-05-08     BILI           0       bear        0.76  0.76   0.23     0.01   \n",
       "2019-05-08     AVGO           2    neutral        0.78  0.00   0.22     0.78   \n",
       "2019-05-08     ATVI           3       long        0.59  0.00   0.00     0.41   \n",
       "2019-05-08     ANSS           2    neutral        0.98  0.00   0.01     0.98   \n",
       "2019-05-08      AYX           2    neutral        0.96  0.00   0.04     0.96   \n",
       "\n",
       "            long  bull  \n",
       "pred_date               \n",
       "2019-05-08  0.00  0.00  \n",
       "2019-05-08  0.00  0.00  \n",
       "2019-05-08  0.00  0.00  \n",
       "2019-05-08  0.00  0.00  \n",
       "2019-05-08  0.00  0.00  \n",
       "2019-05-08  0.00  0.00  \n",
       "2019-05-08  0.00  0.00  \n",
       "2019-05-08  0.00  0.00  \n",
       "2019-05-08  0.00  0.00  \n",
       "2019-05-08  0.00  0.00  \n",
       "2019-05-08  0.00  0.00  \n",
       "2019-05-08  0.00  0.00  \n",
       "2019-05-08  0.00  0.00  \n",
       "2019-05-08  0.00  0.00  \n",
       "2019-05-08  0.00  0.00  \n",
       "2019-05-08  0.00  0.00  \n",
       "2019-05-08  0.00  0.00  \n",
       "2019-05-08  0.00  0.00  \n",
       "2019-05-08  0.00  0.00  \n",
       "2019-05-08  0.00  0.00  \n",
       "2019-05-08  0.01  0.00  \n",
       "2019-05-08  0.00  0.00  \n",
       "2019-05-08  0.00  0.00  \n",
       "2019-05-08  0.00  0.00  \n",
       "2019-05-08  0.00  0.00  \n",
       "2019-05-08  0.59  0.00  \n",
       "2019-05-08  0.01  0.00  \n",
       "2019-05-08  0.00  0.00  "
      ]
     },
     "execution_count": 78,
     "metadata": {},
     "output_type": "execute_result"
    }
   ],
   "source": [
    "pred_df"
   ]
  },
  {
   "cell_type": "code",
   "execution_count": 18,
   "metadata": {},
   "outputs": [
    {
     "name": "stdout",
     "output_type": "stream",
     "text": [
      "Sectors: 1, Industries: 10\n",
      "adding fin_data\n",
      "Loading file summary-categories/financialData/2019-05-08\n",
      "adding key_statistics\n",
      "Loading file summary-categories/defaultKeyStatistics/2019-05-08\n",
      "adding day_quote\n",
      "Loading file quote/csv/2019-05-08\n",
      "adding eps_trend\n",
      "Loading file summary-categories/epsTrend/2019-05-08\n"
     ]
    },
    {
     "name": "stderr",
     "output_type": "stream",
     "text": [
      "/Users/vveiga/miniconda3/envs/inception/lib/python3.7/site-packages/pandas/core/indexing.py:969: FutureWarning: \n",
      "Passing list-likes to .loc or [] with any missing label will raise\n",
      "KeyError in the future, you can use .reindex() as an alternative.\n",
      "\n",
      "See the documentation here:\n",
      "https://pandas.pydata.org/pandas-docs/stable/indexing.html#deprecate-loc-reindex-listlike\n",
      "  return self._getitem_nested_tuple(tup)\n"
     ]
    },
    {
     "name": "stdout",
     "output_type": "stream",
     "text": [
      "adding eps_estimates\n",
      "Loading file summary-categories/earningsEstimate/2019-05-08\n"
     ]
    },
    {
     "name": "stderr",
     "output_type": "stream",
     "text": [
      "/Users/vveiga/miniconda3/envs/inception/lib/python3.7/site-packages/ipykernel_launcher.py:18: FutureWarning: Sorting because non-concatenation axis is not aligned. A future version\n",
      "of pandas will change to not sort by default.\n",
      "\n",
      "To accept the future behavior, pass 'sort=False'.\n",
      "\n",
      "To retain the current behavior and silence the warning, pass 'sort=True'.\n",
      "\n",
      "0it [00:00, ?it/s]/Users/vveiga/miniconda3/envs/inception/lib/python3.7/site-packages/pandas/core/indexing.py:1017: FutureWarning: \n",
      "Passing list-likes to .loc or [] with any missing label will raise\n",
      "KeyError in the future, you can use .reindex() as an alternative.\n",
      "\n",
      "See the documentation here:\n",
      "https://pandas.pydata.org/pandas-docs/stable/indexing.html#deprecate-loc-reindex-listlike\n",
      "  return getattr(section, self.name)[new_key]\n",
      "2it [00:00, 13.23it/s]"
     ]
    },
    {
     "name": "stdout",
     "output_type": "stream",
     "text": [
      "processed_df.shape (3560, 67)\n"
     ]
    },
    {
     "name": "stderr",
     "output_type": "stream",
     "text": [
      "30it [00:02, 11.27it/s]\n"
     ]
    },
    {
     "name": "stdout",
     "output_type": "stream",
     "text": [
      "joined_df.shape (3277, 85)\n",
      "pred_X.shape (28, 86)\n",
      "Warning missing columns: ['^BASI_MATE', '^COMM_SERV', '^CONS_CYCL', '^CONS_DEFE', '^ENER', '^FINA_SERV', '^HEAL', '^INDU', '^REAL_ESTA', '^UTIL']\n",
      "pred_X.shape (28, 96)\n",
      "WARNING:tensorflow:From /Users/vveiga/miniconda3/envs/inception/lib/python3.7/site-packages/tensorflow/python/framework/op_def_library.py:263: colocate_with (from tensorflow.python.framework.ops) is deprecated and will be removed in a future version.\n",
      "Instructions for updating:\n",
      "Colocations handled automatically by placer.\n"
     ]
    },
    {
     "name": "stderr",
     "output_type": "stream",
     "text": [
      "/Users/vveiga/miniconda3/envs/inception/lib/python3.7/site-packages/sklearn/preprocessing/data.py:645: DataConversionWarning: Data with input dtype float32, float64 were all converted to float64 by StandardScaler.\n",
      "  return self.partial_fit(X, y)\n",
      "/Users/vveiga/miniconda3/envs/inception/lib/python3.7/site-packages/sklearn/base.py:464: DataConversionWarning: Data with input dtype float32, float64 were all converted to float64 by StandardScaler.\n",
      "  return self.fit(X, **fit_params).transform(X)\n"
     ]
    },
    {
     "name": "stdout",
     "output_type": "stream",
     "text": [
      "WARNING:tensorflow:From /Users/vveiga/miniconda3/envs/inception/lib/python3.7/site-packages/tensorflow/python/ops/math_ops.py:3066: to_int32 (from tensorflow.python.ops.math_ops) is deprecated and will be removed in a future version.\n",
      "Instructions for updating:\n",
      "Use tf.cast instead.\n",
      "Loaded ../ML/bottomup_TF.h5\n",
      "Saved recommend/bottomup_ML/2019-05-08.csv\n",
      "CPU times: user 17 s, sys: 1.17 s, total: 18.2 s\n",
      "Wall time: 11.1 s\n"
     ]
    }
   ],
   "source": [
    "%time pred_df = predict_ds(context)"
   ]
  },
  {
   "cell_type": "markdown",
   "metadata": {},
   "source": [
    "#### Store / Read S3"
   ]
  },
  {
   "cell_type": "code",
   "execution_count": 64,
   "metadata": {},
   "outputs": [],
   "source": [
    "s3_path = context['s3_path']"
   ]
  },
  {
   "cell_type": "code",
   "execution_count": 65,
   "metadata": {},
   "outputs": [],
   "source": [
    "# read from S3\n",
    "pred_df = pd.read_csv(\n",
    "    csv_load(f'{s3_path}{tgt_date}'), \n",
    "    index_col='pred_date', parse_dates=True)"
   ]
  },
  {
   "cell_type": "code",
   "execution_count": 79,
   "metadata": {},
   "outputs": [
    {
     "name": "stdout",
     "output_type": "stream",
     "text": [
      "Saved recommend/bottomup_ML/2019-05-08.csv\n"
     ]
    }
   ],
   "source": [
    "# store in S3\n",
    "s3_path = context['s3_path']\n",
    "s3_df = pred_df.reset_index(drop=False)\n",
    "rename_col(s3_df, 'index', 'pred_date')\n",
    "csv_store(s3_df, s3_path, csv_ext.format(tgt_date))"
   ]
  },
  {
   "cell_type": "markdown",
   "metadata": {
    "heading_collapsed": true
   },
   "source": [
    "#### Visualize"
   ]
  },
  {
   "cell_type": "code",
   "execution_count": 61,
   "metadata": {
    "hidden": true
   },
   "outputs": [
    {
     "data": {
      "text/html": [
       "<div>\n",
       "<style scoped>\n",
       "    .dataframe tbody tr th:only-of-type {\n",
       "        vertical-align: middle;\n",
       "    }\n",
       "\n",
       "    .dataframe tbody tr th {\n",
       "        vertical-align: top;\n",
       "    }\n",
       "\n",
       "    .dataframe thead th {\n",
       "        text-align: right;\n",
       "    }\n",
       "</style>\n",
       "<table border=\"1\" class=\"dataframe\">\n",
       "  <thead>\n",
       "    <tr style=\"text-align: right;\">\n",
       "      <th></th>\n",
       "      <th>symbol</th>\n",
       "      <th>pred_class</th>\n",
       "      <th>pred_label</th>\n",
       "      <th>confidence</th>\n",
       "      <th>bear</th>\n",
       "      <th>short</th>\n",
       "      <th>neutral</th>\n",
       "      <th>long</th>\n",
       "      <th>bull</th>\n",
       "    </tr>\n",
       "    <tr>\n",
       "      <th>pred_date</th>\n",
       "      <th></th>\n",
       "      <th></th>\n",
       "      <th></th>\n",
       "      <th></th>\n",
       "      <th></th>\n",
       "      <th></th>\n",
       "      <th></th>\n",
       "      <th></th>\n",
       "      <th></th>\n",
       "    </tr>\n",
       "  </thead>\n",
       "  <tbody>\n",
       "    <tr>\n",
       "      <th>2019-05-07</th>\n",
       "      <td>AWR</td>\n",
       "      <td>2</td>\n",
       "      <td>neutral</td>\n",
       "      <td>1.00</td>\n",
       "      <td>0.00</td>\n",
       "      <td>0.00</td>\n",
       "      <td>1.00</td>\n",
       "      <td>0.00</td>\n",
       "      <td>0.00</td>\n",
       "    </tr>\n",
       "    <tr>\n",
       "      <th>2019-05-07</th>\n",
       "      <td>MANT</td>\n",
       "      <td>2</td>\n",
       "      <td>neutral</td>\n",
       "      <td>1.00</td>\n",
       "      <td>0.00</td>\n",
       "      <td>0.00</td>\n",
       "      <td>1.00</td>\n",
       "      <td>0.00</td>\n",
       "      <td>0.00</td>\n",
       "    </tr>\n",
       "    <tr>\n",
       "      <th>2019-05-07</th>\n",
       "      <td>AME</td>\n",
       "      <td>2</td>\n",
       "      <td>neutral</td>\n",
       "      <td>1.00</td>\n",
       "      <td>0.00</td>\n",
       "      <td>0.00</td>\n",
       "      <td>1.00</td>\n",
       "      <td>0.00</td>\n",
       "      <td>0.00</td>\n",
       "    </tr>\n",
       "    <tr>\n",
       "      <th>2019-05-07</th>\n",
       "      <td>FL</td>\n",
       "      <td>2</td>\n",
       "      <td>neutral</td>\n",
       "      <td>0.82</td>\n",
       "      <td>0.00</td>\n",
       "      <td>0.18</td>\n",
       "      <td>0.82</td>\n",
       "      <td>0.00</td>\n",
       "      <td>0.00</td>\n",
       "    </tr>\n",
       "    <tr>\n",
       "      <th>2019-05-07</th>\n",
       "      <td>ADS</td>\n",
       "      <td>1</td>\n",
       "      <td>short</td>\n",
       "      <td>0.94</td>\n",
       "      <td>0.00</td>\n",
       "      <td>0.94</td>\n",
       "      <td>0.01</td>\n",
       "      <td>0.04</td>\n",
       "      <td>0.00</td>\n",
       "    </tr>\n",
       "  </tbody>\n",
       "</table>\n",
       "</div>"
      ],
      "text/plain": [
       "           symbol  pred_class pred_label  confidence  bear  short  neutral  \\\n",
       "pred_date                                                                    \n",
       "2019-05-07    AWR           2    neutral        1.00  0.00   0.00     1.00   \n",
       "2019-05-07   MANT           2    neutral        1.00  0.00   0.00     1.00   \n",
       "2019-05-07    AME           2    neutral        1.00  0.00   0.00     1.00   \n",
       "2019-05-07     FL           2    neutral        0.82  0.00   0.18     0.82   \n",
       "2019-05-07    ADS           1      short        0.94  0.00   0.94     0.01   \n",
       "\n",
       "            long  bull  \n",
       "pred_date               \n",
       "2019-05-07  0.00  0.00  \n",
       "2019-05-07  0.00  0.00  \n",
       "2019-05-07  0.00  0.00  \n",
       "2019-05-07  0.00  0.00  \n",
       "2019-05-07  0.04  0.00  "
      ]
     },
     "execution_count": 61,
     "metadata": {},
     "output_type": "execute_result"
    }
   ],
   "source": [
    "pred_df.head()"
   ]
  },
  {
   "cell_type": "code",
   "execution_count": 62,
   "metadata": {
    "hidden": true
   },
   "outputs": [
    {
     "data": {
      "text/plain": [
       "neutral    1050\n",
       "short        58\n",
       "bear         25\n",
       "long         12\n",
       "bull          3\n",
       "Name: pred_label, dtype: int64"
      ]
     },
     "execution_count": 62,
     "metadata": {},
     "output_type": "execute_result"
    }
   ],
   "source": [
    "# recommendation distribution\n",
    "pd.value_counts(pred_df.pred_label)"
   ]
  },
  {
   "cell_type": "code",
   "execution_count": 63,
   "metadata": {
    "hidden": true
   },
   "outputs": [
    {
     "data": {
      "text/html": [
       "<div>\n",
       "<style scoped>\n",
       "    .dataframe tbody tr th:only-of-type {\n",
       "        vertical-align: middle;\n",
       "    }\n",
       "\n",
       "    .dataframe tbody tr th {\n",
       "        vertical-align: top;\n",
       "    }\n",
       "\n",
       "    .dataframe thead th {\n",
       "        text-align: right;\n",
       "    }\n",
       "</style>\n",
       "<table border=\"1\" class=\"dataframe\">\n",
       "  <thead>\n",
       "    <tr style=\"text-align: right;\">\n",
       "      <th></th>\n",
       "      <th>symbol</th>\n",
       "      <th>pred_class</th>\n",
       "      <th>pred_label</th>\n",
       "      <th>confidence</th>\n",
       "      <th>bear</th>\n",
       "      <th>short</th>\n",
       "      <th>neutral</th>\n",
       "      <th>long</th>\n",
       "      <th>bull</th>\n",
       "    </tr>\n",
       "    <tr>\n",
       "      <th>pred_date</th>\n",
       "      <th></th>\n",
       "      <th></th>\n",
       "      <th></th>\n",
       "      <th></th>\n",
       "      <th></th>\n",
       "      <th></th>\n",
       "      <th></th>\n",
       "      <th></th>\n",
       "      <th></th>\n",
       "    </tr>\n",
       "  </thead>\n",
       "  <tbody>\n",
       "    <tr>\n",
       "      <th>2019-05-07</th>\n",
       "      <td>VIPS</td>\n",
       "      <td>0</td>\n",
       "      <td>bear</td>\n",
       "      <td>1.00</td>\n",
       "      <td>1.00</td>\n",
       "      <td>0.00</td>\n",
       "      <td>0.00</td>\n",
       "      <td>0.00</td>\n",
       "      <td>0.00</td>\n",
       "    </tr>\n",
       "    <tr>\n",
       "      <th>2019-05-07</th>\n",
       "      <td>LFUS</td>\n",
       "      <td>0</td>\n",
       "      <td>bear</td>\n",
       "      <td>0.99</td>\n",
       "      <td>0.99</td>\n",
       "      <td>0.00</td>\n",
       "      <td>0.01</td>\n",
       "      <td>0.00</td>\n",
       "      <td>0.00</td>\n",
       "    </tr>\n",
       "    <tr>\n",
       "      <th>2019-05-07</th>\n",
       "      <td>IQ</td>\n",
       "      <td>0</td>\n",
       "      <td>bear</td>\n",
       "      <td>1.00</td>\n",
       "      <td>1.00</td>\n",
       "      <td>0.00</td>\n",
       "      <td>0.00</td>\n",
       "      <td>0.00</td>\n",
       "      <td>0.00</td>\n",
       "    </tr>\n",
       "    <tr>\n",
       "      <th>2019-05-07</th>\n",
       "      <td>SOGO</td>\n",
       "      <td>0</td>\n",
       "      <td>bear</td>\n",
       "      <td>0.99</td>\n",
       "      <td>0.99</td>\n",
       "      <td>0.01</td>\n",
       "      <td>0.00</td>\n",
       "      <td>0.00</td>\n",
       "      <td>0.00</td>\n",
       "    </tr>\n",
       "    <tr>\n",
       "      <th>2019-05-07</th>\n",
       "      <td>BLKB</td>\n",
       "      <td>0</td>\n",
       "      <td>bear</td>\n",
       "      <td>0.99</td>\n",
       "      <td>0.99</td>\n",
       "      <td>0.00</td>\n",
       "      <td>0.00</td>\n",
       "      <td>0.00</td>\n",
       "      <td>0.00</td>\n",
       "    </tr>\n",
       "    <tr>\n",
       "      <th>2019-05-07</th>\n",
       "      <td>NCR</td>\n",
       "      <td>4</td>\n",
       "      <td>bull</td>\n",
       "      <td>0.89</td>\n",
       "      <td>0.00</td>\n",
       "      <td>0.00</td>\n",
       "      <td>0.11</td>\n",
       "      <td>0.00</td>\n",
       "      <td>0.89</td>\n",
       "    </tr>\n",
       "    <tr>\n",
       "      <th>2019-05-07</th>\n",
       "      <td>DLPH</td>\n",
       "      <td>4</td>\n",
       "      <td>bull</td>\n",
       "      <td>0.99</td>\n",
       "      <td>0.00</td>\n",
       "      <td>0.00</td>\n",
       "      <td>0.00</td>\n",
       "      <td>0.00</td>\n",
       "      <td>0.99</td>\n",
       "    </tr>\n",
       "    <tr>\n",
       "      <th>2019-05-07</th>\n",
       "      <td>ITRI</td>\n",
       "      <td>4</td>\n",
       "      <td>bull</td>\n",
       "      <td>0.52</td>\n",
       "      <td>0.00</td>\n",
       "      <td>0.00</td>\n",
       "      <td>0.00</td>\n",
       "      <td>0.48</td>\n",
       "      <td>0.52</td>\n",
       "    </tr>\n",
       "    <tr>\n",
       "      <th>2019-05-07</th>\n",
       "      <td>CMC</td>\n",
       "      <td>3</td>\n",
       "      <td>long</td>\n",
       "      <td>1.00</td>\n",
       "      <td>0.00</td>\n",
       "      <td>0.00</td>\n",
       "      <td>0.00</td>\n",
       "      <td>1.00</td>\n",
       "      <td>0.00</td>\n",
       "    </tr>\n",
       "    <tr>\n",
       "      <th>2019-05-07</th>\n",
       "      <td>EQT</td>\n",
       "      <td>3</td>\n",
       "      <td>long</td>\n",
       "      <td>0.98</td>\n",
       "      <td>0.00</td>\n",
       "      <td>0.00</td>\n",
       "      <td>0.02</td>\n",
       "      <td>0.98</td>\n",
       "      <td>0.00</td>\n",
       "    </tr>\n",
       "    <tr>\n",
       "      <th>2019-05-07</th>\n",
       "      <td>CCMP</td>\n",
       "      <td>3</td>\n",
       "      <td>long</td>\n",
       "      <td>0.96</td>\n",
       "      <td>0.00</td>\n",
       "      <td>0.00</td>\n",
       "      <td>0.04</td>\n",
       "      <td>0.96</td>\n",
       "      <td>0.00</td>\n",
       "    </tr>\n",
       "    <tr>\n",
       "      <th>2019-05-07</th>\n",
       "      <td>MHK</td>\n",
       "      <td>3</td>\n",
       "      <td>long</td>\n",
       "      <td>0.96</td>\n",
       "      <td>0.00</td>\n",
       "      <td>0.03</td>\n",
       "      <td>0.02</td>\n",
       "      <td>0.96</td>\n",
       "      <td>0.00</td>\n",
       "    </tr>\n",
       "    <tr>\n",
       "      <th>2019-05-07</th>\n",
       "      <td>VEDL</td>\n",
       "      <td>3</td>\n",
       "      <td>long</td>\n",
       "      <td>0.92</td>\n",
       "      <td>0.00</td>\n",
       "      <td>0.00</td>\n",
       "      <td>0.08</td>\n",
       "      <td>0.92</td>\n",
       "      <td>0.00</td>\n",
       "    </tr>\n",
       "    <tr>\n",
       "      <th>2019-05-07</th>\n",
       "      <td>THC</td>\n",
       "      <td>1</td>\n",
       "      <td>short</td>\n",
       "      <td>0.99</td>\n",
       "      <td>0.00</td>\n",
       "      <td>0.99</td>\n",
       "      <td>0.00</td>\n",
       "      <td>0.00</td>\n",
       "      <td>0.00</td>\n",
       "    </tr>\n",
       "    <tr>\n",
       "      <th>2019-05-07</th>\n",
       "      <td>IRBT</td>\n",
       "      <td>1</td>\n",
       "      <td>short</td>\n",
       "      <td>1.00</td>\n",
       "      <td>0.00</td>\n",
       "      <td>1.00</td>\n",
       "      <td>0.00</td>\n",
       "      <td>0.00</td>\n",
       "      <td>0.00</td>\n",
       "    </tr>\n",
       "    <tr>\n",
       "      <th>2019-05-07</th>\n",
       "      <td>PXD</td>\n",
       "      <td>1</td>\n",
       "      <td>short</td>\n",
       "      <td>1.00</td>\n",
       "      <td>0.00</td>\n",
       "      <td>1.00</td>\n",
       "      <td>0.00</td>\n",
       "      <td>0.00</td>\n",
       "      <td>0.00</td>\n",
       "    </tr>\n",
       "    <tr>\n",
       "      <th>2019-05-07</th>\n",
       "      <td>LYB</td>\n",
       "      <td>1</td>\n",
       "      <td>short</td>\n",
       "      <td>0.99</td>\n",
       "      <td>0.00</td>\n",
       "      <td>0.99</td>\n",
       "      <td>0.01</td>\n",
       "      <td>0.00</td>\n",
       "      <td>0.00</td>\n",
       "    </tr>\n",
       "    <tr>\n",
       "      <th>2019-05-07</th>\n",
       "      <td>HD</td>\n",
       "      <td>1</td>\n",
       "      <td>short</td>\n",
       "      <td>0.99</td>\n",
       "      <td>0.00</td>\n",
       "      <td>0.99</td>\n",
       "      <td>0.01</td>\n",
       "      <td>0.00</td>\n",
       "      <td>0.00</td>\n",
       "    </tr>\n",
       "  </tbody>\n",
       "</table>\n",
       "</div>"
      ],
      "text/plain": [
       "           symbol  pred_class pred_label  confidence  bear  short  neutral  \\\n",
       "pred_date                                                                    \n",
       "2019-05-07   VIPS           0       bear        1.00  1.00   0.00     0.00   \n",
       "2019-05-07   LFUS           0       bear        0.99  0.99   0.00     0.01   \n",
       "2019-05-07     IQ           0       bear        1.00  1.00   0.00     0.00   \n",
       "2019-05-07   SOGO           0       bear        0.99  0.99   0.01     0.00   \n",
       "2019-05-07   BLKB           0       bear        0.99  0.99   0.00     0.00   \n",
       "2019-05-07    NCR           4       bull        0.89  0.00   0.00     0.11   \n",
       "2019-05-07   DLPH           4       bull        0.99  0.00   0.00     0.00   \n",
       "2019-05-07   ITRI           4       bull        0.52  0.00   0.00     0.00   \n",
       "2019-05-07    CMC           3       long        1.00  0.00   0.00     0.00   \n",
       "2019-05-07    EQT           3       long        0.98  0.00   0.00     0.02   \n",
       "2019-05-07   CCMP           3       long        0.96  0.00   0.00     0.04   \n",
       "2019-05-07    MHK           3       long        0.96  0.00   0.03     0.02   \n",
       "2019-05-07   VEDL           3       long        0.92  0.00   0.00     0.08   \n",
       "2019-05-07    THC           1      short        0.99  0.00   0.99     0.00   \n",
       "2019-05-07   IRBT           1      short        1.00  0.00   1.00     0.00   \n",
       "2019-05-07    PXD           1      short        1.00  0.00   1.00     0.00   \n",
       "2019-05-07    LYB           1      short        0.99  0.00   0.99     0.01   \n",
       "2019-05-07     HD           1      short        0.99  0.00   0.99     0.01   \n",
       "\n",
       "            long  bull  \n",
       "pred_date               \n",
       "2019-05-07  0.00  0.00  \n",
       "2019-05-07  0.00  0.00  \n",
       "2019-05-07  0.00  0.00  \n",
       "2019-05-07  0.00  0.00  \n",
       "2019-05-07  0.00  0.00  \n",
       "2019-05-07  0.00  0.89  \n",
       "2019-05-07  0.00  0.99  \n",
       "2019-05-07  0.48  0.52  \n",
       "2019-05-07  1.00  0.00  \n",
       "2019-05-07  0.98  0.00  \n",
       "2019-05-07  0.96  0.00  \n",
       "2019-05-07  0.96  0.00  \n",
       "2019-05-07  0.92  0.00  \n",
       "2019-05-07  0.00  0.00  \n",
       "2019-05-07  0.00  0.00  \n",
       "2019-05-07  0.00  0.00  \n",
       "2019-05-07  0.00  0.00  \n",
       "2019-05-07  0.00  0.00  "
      ]
     },
     "execution_count": 63,
     "metadata": {},
     "output_type": "execute_result"
    }
   ],
   "source": [
    "# top 3 picks by label\n",
    "label_mask = pred_df.pred_label.isin(['bear', 'short', 'long', 'bull'])\n",
    "pred_df.loc[label_mask]\\\n",
    "    .sort_values(by='confidence', ascending=False)\\\n",
    "    .groupby(by='pred_label').head(5)\\\n",
    "    .sort_values(by='pred_label')"
   ]
  },
  {
   "cell_type": "markdown",
   "metadata": {
    "heading_collapsed": true
   },
   "source": [
    "### Other experiments "
   ]
  },
  {
   "cell_type": "markdown",
   "metadata": {
    "heading_collapsed": true,
    "hidden": true
   },
   "source": [
    "#### Visualize sectors and industry groups"
   ]
  },
  {
   "cell_type": "code",
   "execution_count": 265,
   "metadata": {
    "hidden": true
   },
   "outputs": [
    {
     "name": "stderr",
     "output_type": "stream",
     "text": [
      "/Users/vveiga/miniconda3/envs/inception/lib/python3.7/site-packages/pandas/core/indexing.py:1494: FutureWarning: \n",
      "Passing list-likes to .loc or [] with any missing label will raise\n",
      "KeyError in the future, you can use .reindex() as an alternative.\n",
      "\n",
      "See the documentation here:\n",
      "https://pandas.pydata.org/pandas-docs/stable/indexing.html#deprecate-loc-reindex-listlike\n",
      "  return self._getitem_tuple(key)\n"
     ]
    }
   ],
   "source": [
    "tgt_sectors = [\n",
    "        'Technology',\n",
    "        'Communication Services',\n",
    "        'Healthcare',\n",
    "        'Consumer Cyclical',\n",
    "        'Consumer Defensive',\n",
    "        'Industrials'\n",
    "        ]\n",
    "\n",
    "size_df = get_focus_tickers(quotes, profile, tgt_sectors)\n",
    "ind_count = size_df.groupby('industry').count()['marketCap']\n",
    "tgt_industries = list(ind_count.loc[ind_count > ind_count.median() - 1].index)"
   ]
  },
  {
   "cell_type": "code",
   "execution_count": 266,
   "metadata": {
    "hidden": true
   },
   "outputs": [
    {
     "data": {
      "text/plain": [
       "<matplotlib.axes._subplots.AxesSubplot at 0x1a3209ffd0>"
      ]
     },
     "execution_count": 266,
     "metadata": {},
     "output_type": "execute_result"
    },
    {
     "data": {
      "image/png": "[encoded data removed]",
      "text/plain": [
       "<Figure size 432x288 with 1 Axes>"
      ]
     },
     "metadata": {
      "needs_background": "light"
     },
     "output_type": "display_data"
    }
   ],
   "source": [
    "size_df.loc[tickers].groupby(by='sector').sum().sort_values('marketCap')\\\n",
    "    .plot(kind='barh', title='Aggregate MarketCap by Sector')"
   ]
  },
  {
   "cell_type": "code",
   "execution_count": 267,
   "metadata": {
    "hidden": true
   },
   "outputs": [
    {
     "data": {
      "text/html": [
       "<div>\n",
       "<style scoped>\n",
       "    .dataframe tbody tr th:only-of-type {\n",
       "        vertical-align: middle;\n",
       "    }\n",
       "\n",
       "    .dataframe tbody tr th {\n",
       "        vertical-align: top;\n",
       "    }\n",
       "\n",
       "    .dataframe thead th {\n",
       "        text-align: right;\n",
       "    }\n",
       "</style>\n",
       "<table border=\"1\" class=\"dataframe\">\n",
       "  <thead>\n",
       "    <tr style=\"text-align: right;\">\n",
       "      <th></th>\n",
       "      <th>sum</th>\n",
       "      <th>count</th>\n",
       "    </tr>\n",
       "  </thead>\n",
       "  <tbody>\n",
       "    <tr>\n",
       "      <th>count</th>\n",
       "      <td>26.00</td>\n",
       "      <td>26.00</td>\n",
       "    </tr>\n",
       "    <tr>\n",
       "      <th>mean</th>\n",
       "      <td>874.59</td>\n",
       "      <td>19.54</td>\n",
       "    </tr>\n",
       "    <tr>\n",
       "      <th>std</th>\n",
       "      <td>1,290.83</td>\n",
       "      <td>8.88</td>\n",
       "    </tr>\n",
       "    <tr>\n",
       "      <th>min</th>\n",
       "      <td>82.50</td>\n",
       "      <td>11.00</td>\n",
       "    </tr>\n",
       "    <tr>\n",
       "      <th>25%</th>\n",
       "      <td>290.61</td>\n",
       "      <td>13.00</td>\n",
       "    </tr>\n",
       "    <tr>\n",
       "      <th>50%</th>\n",
       "      <td>486.00</td>\n",
       "      <td>16.50</td>\n",
       "    </tr>\n",
       "    <tr>\n",
       "      <th>75%</th>\n",
       "      <td>1,096.08</td>\n",
       "      <td>23.50</td>\n",
       "    </tr>\n",
       "    <tr>\n",
       "      <th>max</th>\n",
       "      <td>6,613.73</td>\n",
       "      <td>50.00</td>\n",
       "    </tr>\n",
       "  </tbody>\n",
       "</table>\n",
       "</div>"
      ],
      "text/plain": [
       "           sum  count\n",
       "count    26.00  26.00\n",
       "mean    874.59  19.54\n",
       "std   1,290.83   8.88\n",
       "min      82.50  11.00\n",
       "25%     290.61  13.00\n",
       "50%     486.00  16.50\n",
       "75%   1,096.08  23.50\n",
       "max   6,613.73  50.00"
      ]
     },
     "execution_count": 267,
     "metadata": {},
     "output_type": "execute_result"
    },
    {
     "data": {
      "image/png": "[encoded data removed]",
      "text/plain": [
       "<Figure size 720x576 with 2 Axes>"
      ]
     },
     "metadata": {
      "needs_background": "light"
     },
     "output_type": "display_data"
    }
   ],
   "source": [
    "ind_group = size_df.loc[tickers].groupby(by='industry')\n",
    "sorting_df = ind_group.agg(['sum', 'count'])['marketCap'].sort_values(by='sum')\n",
    "sorting_df.plot(\n",
    "    kind='bar', figsize=(10,8), secondary_y='count', \n",
    "    title='Market cap sum and count by Industry Group')\n",
    "sorting_df.describe()"
   ]
  },
  {
   "cell_type": "code",
   "execution_count": 271,
   "metadata": {
    "hidden": true
   },
   "outputs": [
    {
     "data": {
      "text/html": [
       "<div>\n",
       "<style scoped>\n",
       "    .dataframe tbody tr th:only-of-type {\n",
       "        vertical-align: middle;\n",
       "    }\n",
       "\n",
       "    .dataframe tbody tr th {\n",
       "        vertical-align: top;\n",
       "    }\n",
       "\n",
       "    .dataframe thead tr th {\n",
       "        text-align: left;\n",
       "    }\n",
       "\n",
       "    .dataframe thead tr:last-of-type th {\n",
       "        text-align: right;\n",
       "    }\n",
       "</style>\n",
       "<table border=\"1\" class=\"dataframe\">\n",
       "  <thead>\n",
       "    <tr>\n",
       "      <th></th>\n",
       "      <th></th>\n",
       "      <th colspan=\"2\" halign=\"left\">marketCap</th>\n",
       "    </tr>\n",
       "    <tr>\n",
       "      <th></th>\n",
       "      <th></th>\n",
       "      <th>count</th>\n",
       "      <th>sum</th>\n",
       "    </tr>\n",
       "    <tr>\n",
       "      <th>sector</th>\n",
       "      <th>industry</th>\n",
       "      <th></th>\n",
       "      <th></th>\n",
       "    </tr>\n",
       "  </thead>\n",
       "  <tbody>\n",
       "    <tr>\n",
       "      <th>Communication Services</th>\n",
       "      <th>Telecom Services</th>\n",
       "      <td>26</td>\n",
       "      <td>1,254.65</td>\n",
       "    </tr>\n",
       "    <tr>\n",
       "      <th rowspan=\"5\" valign=\"top\">Consumer Cyclical</th>\n",
       "      <th>Leisure</th>\n",
       "      <td>15</td>\n",
       "      <td>250.52</td>\n",
       "    </tr>\n",
       "    <tr>\n",
       "      <th>Media - Diversified</th>\n",
       "      <td>11</td>\n",
       "      <td>518.52</td>\n",
       "    </tr>\n",
       "    <tr>\n",
       "      <th>Packaging &amp; Containers</th>\n",
       "      <td>11</td>\n",
       "      <td>92.80</td>\n",
       "    </tr>\n",
       "    <tr>\n",
       "      <th>Restaurants</th>\n",
       "      <td>13</td>\n",
       "      <td>348.53</td>\n",
       "    </tr>\n",
       "    <tr>\n",
       "      <th>Specialty Retail</th>\n",
       "      <td>22</td>\n",
       "      <td>1,748.01</td>\n",
       "    </tr>\n",
       "    <tr>\n",
       "      <th rowspan=\"2\" valign=\"top\">Consumer Defensive</th>\n",
       "      <th>Household &amp; Personal Products</th>\n",
       "      <td>12</td>\n",
       "      <td>650.84</td>\n",
       "    </tr>\n",
       "    <tr>\n",
       "      <th>Packaged Foods</th>\n",
       "      <td>21</td>\n",
       "      <td>568.77</td>\n",
       "    </tr>\n",
       "    <tr>\n",
       "      <th rowspan=\"6\" valign=\"top\">Healthcare</th>\n",
       "      <th>Biotechnology</th>\n",
       "      <td>29</td>\n",
       "      <td>288.36</td>\n",
       "    </tr>\n",
       "    <tr>\n",
       "      <th>Diagnostics &amp; Research</th>\n",
       "      <td>22</td>\n",
       "      <td>459.85</td>\n",
       "    </tr>\n",
       "    <tr>\n",
       "      <th>Drug Manufacturers - Major</th>\n",
       "      <td>17</td>\n",
       "      <td>2,174.09</td>\n",
       "    </tr>\n",
       "    <tr>\n",
       "      <th>Medical Care</th>\n",
       "      <td>12</td>\n",
       "      <td>96.58</td>\n",
       "    </tr>\n",
       "    <tr>\n",
       "      <th>Medical Devices</th>\n",
       "      <td>14</td>\n",
       "      <td>512.16</td>\n",
       "    </tr>\n",
       "    <tr>\n",
       "      <th>Medical Instruments &amp; Supplies</th>\n",
       "      <td>18</td>\n",
       "      <td>297.37</td>\n",
       "    </tr>\n",
       "    <tr>\n",
       "      <th rowspan=\"4\" valign=\"top\">Industrials</th>\n",
       "      <th>Aerospace &amp; Defense</th>\n",
       "      <td>16</td>\n",
       "      <td>678.76</td>\n",
       "    </tr>\n",
       "    <tr>\n",
       "      <th>Business Services</th>\n",
       "      <td>24</td>\n",
       "      <td>392.64</td>\n",
       "    </tr>\n",
       "    <tr>\n",
       "      <th>Diversified Industrials</th>\n",
       "      <td>33</td>\n",
       "      <td>796.75</td>\n",
       "    </tr>\n",
       "    <tr>\n",
       "      <th>Engineering &amp; Construction</th>\n",
       "      <td>12</td>\n",
       "      <td>82.50</td>\n",
       "    </tr>\n",
       "    <tr>\n",
       "      <th rowspan=\"8\" valign=\"top\">Technology</th>\n",
       "      <th>Communication Equipment</th>\n",
       "      <td>16</td>\n",
       "      <td>414.94</td>\n",
       "    </tr>\n",
       "    <tr>\n",
       "      <th>Electronic Components</th>\n",
       "      <td>13</td>\n",
       "      <td>123.75</td>\n",
       "    </tr>\n",
       "    <tr>\n",
       "      <th>Information Technology Services</th>\n",
       "      <td>15</td>\n",
       "      <td>418.12</td>\n",
       "    </tr>\n",
       "    <tr>\n",
       "      <th>Internet Content &amp; Information</th>\n",
       "      <td>24</td>\n",
       "      <td>6,613.73</td>\n",
       "    </tr>\n",
       "    <tr>\n",
       "      <th>Scientific &amp; Technical Instruments</th>\n",
       "      <td>11</td>\n",
       "      <td>108.42</td>\n",
       "    </tr>\n",
       "    <tr>\n",
       "      <th>Semiconductors</th>\n",
       "      <td>29</td>\n",
       "      <td>1,195.86</td>\n",
       "    </tr>\n",
       "    <tr>\n",
       "      <th>Software - Application</th>\n",
       "      <td>50</td>\n",
       "      <td>1,366.10</td>\n",
       "    </tr>\n",
       "    <tr>\n",
       "      <th>Software - Infrastructure</th>\n",
       "      <td>22</td>\n",
       "      <td>1,286.67</td>\n",
       "    </tr>\n",
       "  </tbody>\n",
       "</table>\n",
       "</div>"
      ],
      "text/plain": [
       "                                                          marketCap         \n",
       "                                                              count      sum\n",
       "sector                 industry                                             \n",
       "Communication Services Telecom Services                          26 1,254.65\n",
       "Consumer Cyclical      Leisure                                   15   250.52\n",
       "                       Media - Diversified                       11   518.52\n",
       "                       Packaging & Containers                    11    92.80\n",
       "                       Restaurants                               13   348.53\n",
       "                       Specialty Retail                          22 1,748.01\n",
       "Consumer Defensive     Household & Personal Products             12   650.84\n",
       "                       Packaged Foods                            21   568.77\n",
       "Healthcare             Biotechnology                             29   288.36\n",
       "                       Diagnostics & Research                    22   459.85\n",
       "                       Drug Manufacturers - Major                17 2,174.09\n",
       "                       Medical Care                              12    96.58\n",
       "                       Medical Devices                           14   512.16\n",
       "                       Medical Instruments & Supplies            18   297.37\n",
       "Industrials            Aerospace & Defense                       16   678.76\n",
       "                       Business Services                         24   392.64\n",
       "                       Diversified Industrials                   33   796.75\n",
       "                       Engineering & Construction                12    82.50\n",
       "Technology             Communication Equipment                   16   414.94\n",
       "                       Electronic Components                     13   123.75\n",
       "                       Information Technology Services           15   418.12\n",
       "                       Internet Content & Information            24 6,613.73\n",
       "                       Scientific & Technical Instruments        11   108.42\n",
       "                       Semiconductors                            29 1,195.86\n",
       "                       Software - Application                    50 1,366.10\n",
       "                       Software - Infrastructure                 22 1,286.67"
      ]
     },
     "execution_count": 271,
     "metadata": {},
     "output_type": "execute_result"
    }
   ],
   "source": [
    "size_df.loc[tickers].groupby(by=['sector', 'industry']).agg(['count', 'sum'])"
   ]
  },
  {
   "cell_type": "markdown",
   "metadata": {
    "heading_collapsed": true,
    "hidden": true
   },
   "source": [
    "#### Understand price changes across universe"
   ]
  },
  {
   "cell_type": "code",
   "execution_count": 317,
   "metadata": {
    "hidden": true
   },
   "outputs": [],
   "source": [
    "sector_mapper = {\n",
    "    s: list(size_df.loc[\n",
    "            size_df.index.isin(tickers) \n",
    "            & (size_df.sector == 'Technology')].index)\n",
    "    for s in tgt_sectors}"
   ]
  },
  {
   "cell_type": "code",
   "execution_count": 273,
   "metadata": {
    "hidden": true
   },
   "outputs": [],
   "source": [
    "from utils.pricing import get_ind_index\n",
    "\n",
    "tail = 90\n",
    "Y = get_ind_index(px_close.dropna(subset=['^GSPC'])[tickers], tail=tail) - 1"
   ]
  },
  {
   "cell_type": "code",
   "execution_count": 274,
   "metadata": {
    "hidden": true
   },
   "outputs": [],
   "source": [
    "indices_df = pd.concat(\n",
    "    [eq_wgt_indices(profile, px_close, 'sector', tgt_sectors, subset=tickers, tail=tail),\n",
    "    eq_wgt_indices(profile, px_close, 'industry', tgt_industries, subset=tickers, tail=tail),\n",
    "    to_index_form(px_close[bench].tail(tail), bench)], axis=1).drop_duplicates() - 1"
   ]
  },
  {
   "cell_type": "code",
   "execution_count": 275,
   "metadata": {
    "hidden": true
   },
   "outputs": [
    {
     "data": {
      "text/plain": [
       "<matplotlib.legend.Legend at 0x1a31757390>"
      ]
     },
     "execution_count": 275,
     "metadata": {},
     "output_type": "execute_result"
    },
    {
     "data": {
      "image/png": "[encoded data removed]",
      "text/plain": [
       "<Figure size 576x360 with 1 Axes>"
      ]
     },
     "metadata": {
      "needs_background": "light"
     },
     "output_type": "display_data"
    }
   ],
   "source": [
    "from utils.pricing import shorten_name\n",
    "\n",
    "loc, margin = 'center left', (1, 0.5)\n",
    "\n",
    "sect_idx = indices_df[[shorten_name(x) for x in tgt_sectors]].rolling(10).mean().dropna()\n",
    "ax = sect_idx.plot(figsize=(8,5), title=f'{tail} day sector relative performance')\n",
    "ax.legend(loc=loc, bbox_to_anchor=margin)"
   ]
  },
  {
   "cell_type": "code",
   "execution_count": 318,
   "metadata": {
    "hidden": true
   },
   "outputs": [
    {
     "data": {
      "text/plain": [
       "<matplotlib.legend.Legend at 0x1a380d1e80>"
      ]
     },
     "execution_count": 318,
     "metadata": {},
     "output_type": "execute_result"
    },
    {
     "data": {
      "image/png": "[encoded data removed]",
      "text/plain": [
       "<Figure size 576x360 with 1 Axes>"
      ]
     },
     "metadata": {
      "needs_background": "light"
     },
     "output_type": "display_data"
    }
   ],
   "source": [
    "ind_idx = indices_df[\n",
    "    [shorten_name(x) for x in tgt_industries]]\\\n",
    "    .rolling(10).mean().dropna()\n",
    "ax = ind_idx.plot(figsize=(8,5), title=f'{tail} day industry relative performance')\n",
    "ax.legend(loc=loc, bbox_to_anchor=margin)"
   ]
  },
  {
   "cell_type": "code",
   "execution_count": 307,
   "metadata": {
    "hidden": true
   },
   "outputs": [
    {
     "data": {
      "text/plain": [
       "<matplotlib.axes._subplots.AxesSubplot at 0x1a3709f4e0>"
      ]
     },
     "execution_count": 307,
     "metadata": {},
     "output_type": "execute_result"
    },
    {
     "data": {
      "image/png": "[encoded data removed]",
      "text/plain": [
       "<Figure size 432x288 with 1 Axes>"
      ]
     },
     "metadata": {
      "needs_background": "light"
     },
     "output_type": "display_data"
    }
   ],
   "source": [
    "ind_idx.iloc[-1].sort_values().plot(kind='bar')"
   ]
  },
  {
   "cell_type": "code",
   "execution_count": 320,
   "metadata": {
    "hidden": true
   },
   "outputs": [
    {
     "data": {
      "text/plain": [
       "<matplotlib.legend.Legend at 0x1a3795b7b8>"
      ]
     },
     "execution_count": 320,
     "metadata": {},
     "output_type": "execute_result"
    },
    {
     "data": {
      "image/png": "[encoded data removed]",
      "text/plain": [
       "<Figure size 576x360 with 1 Axes>"
      ]
     },
     "metadata": {
      "needs_background": "light"
     },
     "output_type": "display_data"
    }
   ],
   "source": [
    "see_industry = 'Drug Manufacturers - Major'\n",
    "see_tickers = list(size_df.loc[size_df.index.isin(tickers) & (size_df.industry == see_industry)].index)\n",
    "\n",
    "Y[see_tickers].plot(\n",
    "    figsize=(8,5), \n",
    "    title=f'{tail} Indexed Return',\n",
    "    ylim=(-.4, 0.4))\n",
    "ax.legend(loc=loc, bbox_to_anchor=margin)"
   ]
  },
  {
   "cell_type": "code",
   "execution_count": 321,
   "metadata": {
    "hidden": true
   },
   "outputs": [
    {
     "data": {
      "text/plain": [
       "<matplotlib.axes._subplots.AxesSubplot at 0x1a373c39b0>"
      ]
     },
     "execution_count": 321,
     "metadata": {},
     "output_type": "execute_result"
    },
    {
     "data": {
      "image/png": "[encoded data removed]",
      "text/plain": [
       "<Figure size 432x288 with 1 Axes>"
      ]
     },
     "metadata": {
      "needs_background": "light"
     },
     "output_type": "display_data"
    }
   ],
   "source": [
    "Y[see_tickers].iloc[-1].sort_values().plot(\n",
    "    kind='bar',\n",
    "    title=f'{tail} Cumulative Return',\n",
    "    ylim=(-.4, 0.4))"
   ]
  },
  {
   "cell_type": "markdown",
   "metadata": {
    "heading_collapsed": true,
    "hidden": true
   },
   "source": [
    "#### Remove price outliers"
   ]
  },
  {
   "cell_type": "code",
   "execution_count": null,
   "metadata": {
    "hidden": true
   },
   "outputs": [],
   "source": [
    "y_outliers = Y.loc[(Y > 1).any(1).values, (Y > 1).any().loc[(Y > 1).any()].index]\n",
    "y_outliers.max().sort_values()"
   ]
  },
  {
   "cell_type": "markdown",
   "metadata": {
    "heading_collapsed": true,
    "hidden": true
   },
   "source": [
    "#### Old training"
   ]
  },
  {
   "cell_type": "code",
   "execution_count": 18,
   "metadata": {
    "hidden": true
   },
   "outputs": [
    {
     "name": "stdout",
     "output_type": "stream",
     "text": [
      "(0.9960288141854451, 0.6626038781163435)\n"
     ]
    }
   ],
   "source": [
    "features = X_train.shape[1]\n",
    "\n",
    "# RandomForestClassifier\n",
    "params = {\n",
    "    'n_estimators': 50, 'max_features': features, 'max_depth': 30,\n",
    "    'min_samples_split': 2, \n",
    "    'random_state': 1, 'n_jobs': -1}\n",
    "\n",
    "rfc = RandomForestClassifier(**params).fit(X_train, y_train)\n",
    "scores = rfc.score(X_train, y_train), rfc.score(X_test, y_test)\n",
    "print(scores)"
   ]
  },
  {
   "cell_type": "code",
   "execution_count": 19,
   "metadata": {
    "hidden": true
   },
   "outputs": [
    {
     "name": "stdout",
     "output_type": "stream",
     "text": [
      "(0.9970908755079424, 0.6587257617728531)\n"
     ]
    }
   ],
   "source": [
    "# ExtraTreesClassifier\n",
    "params = {\n",
    "    'n_estimators': 50, 'max_depth': 30,\n",
    "    'min_samples_split': 2, 'min_samples_leaf': 1,\n",
    "    'random_state': None, 'n_jobs': -1}\n",
    "\n",
    "etc = ExtraTreesClassifier(**params).fit(X_train, y_train)\n",
    "scores = etc.score(X_train, y_train), etc.score(X_test, y_test)\n",
    "print(scores)"
   ]
  },
  {
   "cell_type": "code",
   "execution_count": 20,
   "metadata": {
    "hidden": true
   },
   "outputs": [
    {
     "data": {
      "image/png": "[encoded data removed]",
      "text/plain": [
       "<Figure size 1080x864 with 12 Axes>"
      ]
     },
     "metadata": {
      "needs_background": "light"
     },
     "output_type": "display_data"
    }
   ],
   "source": [
    "X_train.hist(figsize=(15,12));"
   ]
  },
  {
   "cell_type": "code",
   "execution_count": 21,
   "metadata": {
    "hidden": true
   },
   "outputs": [
    {
     "name": "stdout",
     "output_type": "stream",
     "text": [
      "(0.3139083856667898, 0.31560480147737763)\n",
      "CPU times: user 6.74 s, sys: 982 ms, total: 7.72 s\n",
      "Wall time: 1.36 s\n"
     ]
    }
   ],
   "source": [
    "%%time\n",
    "# MLPClassifier\n",
    "params = {\n",
    "    'solver': 'lbfgs', 'max_iter': 200, 'activation': 'relu', \n",
    "    'alpha': 0.001, 'hidden_layer_sizes': (features - 1, 5),\n",
    "    'learning_rate': 'adaptive', 'random_state': None, 'verbose': True,}\n",
    "\n",
    "mlpc = MLPClassifier(**params).fit(X_train, y_train)\n",
    "scores = mlpc.score(X_train, y_train), mlpc.score(X_test, y_test)\n",
    "print(scores)"
   ]
  },
  {
   "cell_type": "markdown",
   "metadata": {
    "heading_collapsed": true,
    "hidden": true
   },
   "source": [
    "#### Metrics"
   ]
  },
  {
   "cell_type": "code",
   "execution_count": 625,
   "metadata": {
    "hidden": true
   },
   "outputs": [
    {
     "name": "stdout",
     "output_type": "stream",
     "text": [
      "Feature ranking:\n",
      "39 feature fiftyDayAverageChangePercent (0.13894538386557223)\n",
      "72 feature PctMA50 (0.11254266927461412)\n",
      "75 feature PctChg20 (0.08822558257358028)\n",
      "80 feature rsBench20 (0.07213953982565484)\n",
      "74 feature RollVol30 (0.03496587366055478)\n",
      "81 feature rsSect20 (0.0340876024919688)\n",
      "82 feature rsBench60 (0.02319553684016019)\n",
      "76 feature PctChg60 (0.020830627535985337)\n",
      "40 feature twoHundredDayAverageChangePercent (0.01623283841357299)\n",
      "79 feature Pct52WkL (0.01618768652281214)\n",
      "78 feature Pct52WkH (0.011043691127340506)\n",
      "42 feature fiftyTwoWeekLowChangePercent (0.010764093819782444)\n",
      "83 feature rsSect60 (0.010656604533140282)\n",
      "41 feature fiftyTwoWeekHighChangePercent (0.0100273480163043)\n",
      "77 feature PctChg120 (0.00998784329517619)\n",
      "85 feature rsSect120 (0.009201565248485508)\n",
      "84 feature rsBench120 (0.00897199388455194)\n",
      "21 feature targetMedianPrice (0.008523793075843038)\n",
      "45 feature priceToBook (0.008500119154014687)\n",
      "73 feature PctMA200 (0.008238867781577274)\n",
      "46 feature marketCap (0.008137165870778123)\n",
      "19 feature targetLowPrice (0.008130227688235743)\n",
      "38 feature averageDailyVolume3Month (0.008100558350787965)\n",
      "20 feature targetMeanPrice (0.007920322990721573)\n",
      "0 feature revenuePerShare (0.0072659976674095015)\n",
      "37 feature averageDailyVolume10Day (0.007260799166989208)\n"
     ]
    },
    {
     "data": {
      "image/png": "[encoded data removed]",
      "text/plain": [
       "<Figure size 432x288 with 1 Axes>"
      ]
     },
     "metadata": {
      "needs_background": "light"
     },
     "output_type": "display_data"
    }
   ],
   "source": [
    "show_fi(clf1, X_train, 25)"
   ]
  },
  {
   "cell_type": "code",
   "execution_count": 626,
   "metadata": {
    "hidden": true
   },
   "outputs": [
    {
     "name": "stdout",
     "output_type": "stream",
     "text": [
      "Confussion Matrix\n",
      " [[   44     6     0     0     0]\n",
      " [   13  1025   144     2     0]\n",
      " [    0   381 11020   297     5]\n",
      " [    0     0   237  1334    16]\n",
      " [    0     0     0    10    50]]\n"
     ]
    }
   ],
   "source": [
    "print('Confussion Matrix\\n', confusion_matrix(clf1.predict(X_test), y_test, labels=fwd_ret_labels))"
   ]
  },
  {
   "cell_type": "code",
   "execution_count": 627,
   "metadata": {
    "hidden": true
   },
   "outputs": [
    {
     "name": "stdout",
     "output_type": "stream",
     "text": [
      "Classificaton report\n",
      "               precision    recall  f1-score   support\n",
      "\n",
      "        bear       0.77      0.88      0.82        50\n",
      "       short       0.70      0.83      0.76        60\n",
      "     neutral       0.81      0.84      0.83      1587\n",
      "        long       0.97      0.94      0.95     11703\n",
      "        bull       0.73      0.87      0.79      1184\n",
      "\n",
      "   micro avg       0.92      0.92      0.92     14584\n",
      "   macro avg       0.80      0.87      0.83     14584\n",
      "weighted avg       0.93      0.92      0.93     14584\n",
      "\n"
     ]
    }
   ],
   "source": [
    "print('Classificaton report\\n', classification_report(clf1.predict(X_test), y_test, target_names=fwd_ret_labels))"
   ]
  },
  {
   "cell_type": "code",
   "execution_count": 629,
   "metadata": {
    "hidden": true
   },
   "outputs": [
    {
     "data": {
      "text/plain": [
       "0.3642648577874384"
      ]
     },
     "execution_count": 629,
     "metadata": {},
     "output_type": "execute_result"
    }
   ],
   "source": [
    "log_loss(y_test, clf1.predict_proba(X_test))"
   ]
  },
  {
   "cell_type": "markdown",
   "metadata": {
    "heading_collapsed": true,
    "hidden": true
   },
   "source": [
    "#### Gridsearches"
   ]
  },
  {
   "cell_type": "code",
   "execution_count": null,
   "metadata": {
    "hidden": true
   },
   "outputs": [],
   "source": [
    "# np.arange(10, X.shape[1], int(X.shape[1]*.25))"
   ]
  },
  {
   "cell_type": "code",
   "execution_count": null,
   "metadata": {
    "hidden": true
   },
   "outputs": [],
   "source": [
    "# %%time\n",
    "# # GridSearchCV for RandomForestClassifier\n",
    "# parameters = {\n",
    "#     'n_estimators': [10, 40, 80], \n",
    "#     'max_features': np.arange(10, X.shape[1], int(X.shape[1]*.25)), \n",
    "#     'random_state': np.arange(1, 10, 3)}\n",
    "\n",
    "# # parameters = {\n",
    "# #     'n_estimators': [40], \n",
    "# #     'max_features': [30], \n",
    "# #     'random_state': [1]}\n",
    "\n",
    "# clf = GridSearchCV(RandomForestClassifier(), parameters, n_jobs=-1, cv=5)\n",
    "# clf.fit(X_train, y_train)\n",
    "\n",
    "# print(clf.score(X_train, y_train), clf.score(X_test, y_test))\n",
    "# print(clf.best_params_)"
   ]
  },
  {
   "cell_type": "code",
   "execution_count": null,
   "metadata": {
    "hidden": true
   },
   "outputs": [],
   "source": [
    "# %%time\n",
    "# # GridSearchCV for MLPClassifier\n",
    "\n",
    "# parameters = {\n",
    "#     'solver': ['lbfgs'], # ['lbfgs', 'sgd', 'adam']\n",
    "#     'max_iter': [200], # [200, 400, 600]\n",
    "#     'activation': ['relu'], # ['logistic', 'tanh', 'relu']\n",
    "#     'alpha': 10.0 ** -np.arange(2, 5, 1), # 10.0 ** -np.arange(2, 5, 1)\n",
    "#     'learning_rate' : ['adaptive'], # ['constant', 'adaptive']\n",
    "#     'hidden_layer_sizes': np.arange(5, 50, 10), # np.arange(5, 50, 10)\n",
    "#     'random_state': np.arange(0, 10, 3)} # np.arange(0, 10, 2)\n",
    "\n",
    "# parameters = {\n",
    "#     'solver': ['lbfgs'], \n",
    "#     'max_iter': [200], \n",
    "#     'activation': ['relu'], \n",
    "#     'alpha': [0.01], \n",
    "#     'learning_rate' : ['adaptive'], # ['constant', 'adaptive']\n",
    "#     'hidden_layer_sizes': [ 45 ], # np.arange(5, 50, 10)\n",
    "#     'random_state': [0] } # np.arange(0, 10, 2)\n",
    "\n",
    "# clf = GridSearchCV(MLPClassifier(), parameters, n_jobs=-1, cv=5)\n",
    "# clf.fit(X_train, y_train)\n",
    "\n",
    "# scores = clf.score(X_train, y_train), clf.score(X_test, y_test)\n",
    "# print(scores)\n",
    "# print(clf.best_params_)"
   ]
  }
 ],
 "metadata": {
  "kernelspec": {
   "display_name": "Python 3",
   "language": "python",
   "name": "python3"
  },
  "language_info": {
   "codemirror_mode": {
    "name": "ipython",
    "version": 3
   },
   "file_extension": ".py",
   "mimetype": "text/x-python",
   "name": "python",
   "nbconvert_exporter": "python",
   "pygments_lexer": "ipython3",
   "version": "3.7.3"
  },
  "toc": {
   "base_numbering": 1,
   "nav_menu": {},
   "number_sections": true,
   "sideBar": true,
   "skip_h1_title": false,
   "title_cell": "Table of Contents",
   "title_sidebar": "Contents",
   "toc_cell": false,
   "toc_position": {},
   "toc_section_display": true,
   "toc_window_display": false
  }
 },
 "nbformat": 4,
 "nbformat_minor": 2
}
