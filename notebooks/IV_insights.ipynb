{
 "cells": [
  {
   "cell_type": "code",
   "execution_count": 1,
   "metadata": {},
   "outputs": [
    {
     "name": "stdout",
     "output_type": "stream",
     "text": [
      "Loading utils/config.json\n"
     ]
    }
   ],
   "source": [
    "# imports\n",
    "%reload_ext autoreload\n",
    "%autoreload 2\n",
    "%matplotlib inline \n",
    "\n",
    "from matplotlib import pyplot as plt\n",
    "\n",
    "from utils.basic_utils import *\n",
    "from utils.pricing import *\n",
    "import utils.fundamental as fu\n",
    "\n",
    "pd.options.display.float_format = '{:,.2f}'.format"
   ]
  },
  {
   "cell_type": "code",
   "execution_count": 2,
   "metadata": {},
   "outputs": [
    {
     "name": "stdout",
     "output_type": "stream",
     "text": [
      "Loading file quote/csv/2019-03-28\n",
      "Loading file summary-categories/assetProfile\n",
      "Loading file summary-categories/defaultKeyStatistics/2019-03-28\n",
      "Loading file summary-categories/financialData/2019-03-28\n"
     ]
    }
   ],
   "source": [
    "# use the latest saved data for profile and quote info\n",
    "dates = read_dates('quote')\n",
    "tgt_date = dates[-1] # last date saved in S3\n",
    "\n",
    "quotes = load_csvs('quote_consol', [tgt_date])\n",
    "quotes.set_index('symbol', drop=False, inplace=True)\n",
    "\n",
    "profile = load_csvs('summary_detail', ['assetProfile'])\n",
    "profile.set_index('symbol', drop=False, inplace=True)\n",
    "\n",
    "keystats = load_csvs('summary_detail', ['defaultKeyStatistics/' + str(tgt_date)])\n",
    "keystats.set_index('symbol', drop=False, inplace=True)\n",
    "finstats = load_csvs('summary_detail', ['financialData/' + str(tgt_date)])\n",
    "finstats.set_index('symbol', drop=False, inplace=True)"
   ]
  },
  {
   "cell_type": "code",
   "execution_count": 237,
   "metadata": {},
   "outputs": [],
   "source": [
    "# read from S3\n",
    "val_df = pd.read_csv(csv_load(f'valuation/waterfall/{tgt_date}'), parse_dates=True)\n",
    "val_df.storeDate = pd.to_datetime(val_df.storeDate, unit='s')\n",
    "val_df.set_index(['storeDate', 'symbol'], inplace=True)\n",
    "val_df.dropna(subset=['premDisc'], inplace=True)\n",
    "tickers = val_df.reset_index().symbol"
   ]
  },
  {
   "cell_type": "code",
   "execution_count": 238,
   "metadata": {},
   "outputs": [
    {
     "data": {
      "text/plain": [
       "Index(['AAT', 'AT', 'FX', 'ROA', 'ROE', 'baseMult', 'baseRate', 'currentValue',\n",
       "       'discountRate', 'equityRiskPremium', 'equityValue', 'financialCurrency',\n",
       "       'growthMult', 'growthRate', 'netDebt', 'npvGrowth', 'npvGrowthCF',\n",
       "       'npvSteadyCF', 'premDisc', 'projCashROE', 'projFedFundsIncr',\n",
       "       'steadyCF', 'totalReinvCapital'],\n",
       "      dtype='object')"
      ]
     },
     "execution_count": 238,
     "metadata": {},
     "output_type": "execute_result"
    }
   ],
   "source": [
    "val_df.columns"
   ]
  },
  {
   "cell_type": "code",
   "execution_count": 239,
   "metadata": {},
   "outputs": [],
   "source": [
    "q_cols = ['forwardPE', 'trailingPE', 'marketCap', 'regularMarketPrice']\n",
    "p_cols = ['sector', 'industry', 'country']\n",
    "k_cols = ['pegRatio', 'shortPercentOfFloat']\n",
    "f_cols = ['earningsGrowth', 'recommendationMean', 'targetMeanPrice', 'targetMedianPrice', 'numberOfAnalystOpinions']\n",
    "for c in p_cols: val_df.loc[:, c] = tickers.map(profile[c].to_dict()).values\n",
    "for c in q_cols: val_df.loc[:, c] = tickers.map(quotes[c].to_dict()).values\n",
    "for c in k_cols: val_df.loc[:, c] = tickers.map(keystats[c].to_dict()).values\n",
    "for c in f_cols: val_df.loc[:, c] = tickers.map(finstats[c].to_dict()).values"
   ]
  },
  {
   "cell_type": "code",
   "execution_count": 240,
   "metadata": {},
   "outputs": [
    {
     "data": {
      "text/plain": [
       "(969, 37)"
      ]
     },
     "execution_count": 240,
     "metadata": {},
     "output_type": "execute_result"
    }
   ],
   "source": [
    "large_vals = [\n",
    "    'netDebt', 'npvSteadyCF', 'equityValue', \n",
    "    'currentValue', 'totalReinvCapital', 'steadyCF', 'projCashROE',\n",
    "    'npvGrowth', 'npvGrowthCF', 'projCashROE', 'marketCap']\n",
    "# convert large values to billions\n",
    "val_df.loc[:, large_vals] = val_df.loc[:, large_vals] / 10**9\n",
    "\n",
    "# high level pre-processing / clean up\n",
    "val_df.loc[:, 'pegRatio'] = val_df.forwardPE / (val_df.growthRate * 100)\n",
    "div_cols = ['targetMeanPrice', 'targetMedianPrice']\n",
    "val_df.loc[:, div_cols] = val_df[div_cols].div(\n",
    "    tickers.map(\n",
    "        quotes.regularMarketPrice.to_dict()).values, axis=0)\n",
    "val_df.replace([np.inf, -np.inf], np.nan, inplace=True)\n",
    "val_df.shape"
   ]
  },
  {
   "cell_type": "code",
   "execution_count": 267,
   "metadata": {},
   "outputs": [
    {
     "data": {
      "text/plain": [
       "(882, 37)"
      ]
     },
     "execution_count": 267,
     "metadata": {},
     "output_type": "execute_result"
    }
   ],
   "source": [
    "# remove outliers from universe\n",
    "show = ['premDisc', 'pegRatio', 'forwardPE', 'growthRate', \n",
    "        'shortPercentOfFloat', 'targetMedianPrice']\n",
    "treshold = 3\n",
    "no_out_df = fu.excl_outliers(val_df, show, treshold)\n",
    "no_out_df.shape"
   ]
  },
  {
   "cell_type": "code",
   "execution_count": 268,
   "metadata": {},
   "outputs": [
    {
     "data": {
      "text/plain": [
       "(528, 37)"
      ]
     },
     "execution_count": 268,
     "metadata": {},
     "output_type": "execute_result"
    }
   ],
   "source": [
    "# mask results by valuation\n",
    "mask_on = True\n",
    "mask = (val_df.premDisc > 0) & (val_df.premDisc < 3)\n",
    "clean_df = no_out_df.loc[mask].copy() if mask_on else no_out_df.copy()\n",
    "clean_df.shape"
   ]
  },
  {
   "cell_type": "code",
   "execution_count": null,
   "metadata": {},
   "outputs": [],
   "source": [
    "# one company sampling\n",
    "ticker = 'WBA'\n",
    "print(ticker in tickers.values, ticker in clean_df.index.levels[1])\n",
    "val_df.loc[(slice(None),ticker),].T"
   ]
  },
  {
   "cell_type": "code",
   "execution_count": 266,
   "metadata": {},
   "outputs": [
    {
     "data": {
      "text/html": [
       "<div>\n",
       "<style scoped>\n",
       "    .dataframe tbody tr th:only-of-type {\n",
       "        vertical-align: middle;\n",
       "    }\n",
       "\n",
       "    .dataframe tbody tr th {\n",
       "        vertical-align: top;\n",
       "    }\n",
       "\n",
       "    .dataframe thead th {\n",
       "        text-align: right;\n",
       "    }\n",
       "</style>\n",
       "<table border=\"1\" class=\"dataframe\">\n",
       "  <thead>\n",
       "    <tr style=\"text-align: right;\">\n",
       "      <th></th>\n",
       "      <th>premDisc</th>\n",
       "      <th>pegRatio</th>\n",
       "      <th>forwardPE</th>\n",
       "      <th>growthRate</th>\n",
       "      <th>shortPercentOfFloat</th>\n",
       "      <th>targetMedianPrice</th>\n",
       "    </tr>\n",
       "    <tr>\n",
       "      <th>sector</th>\n",
       "      <th></th>\n",
       "      <th></th>\n",
       "      <th></th>\n",
       "      <th></th>\n",
       "      <th></th>\n",
       "      <th></th>\n",
       "    </tr>\n",
       "  </thead>\n",
       "  <tbody>\n",
       "    <tr>\n",
       "      <th>Financial Services</th>\n",
       "      <td>0.39</td>\n",
       "      <td>1.03</td>\n",
       "      <td>11.09</td>\n",
       "      <td>0.09</td>\n",
       "      <td>0.02</td>\n",
       "      <td>1.13</td>\n",
       "    </tr>\n",
       "    <tr>\n",
       "      <th>Energy</th>\n",
       "      <td>0.94</td>\n",
       "      <td>1.40</td>\n",
       "      <td>13.97</td>\n",
       "      <td>0.06</td>\n",
       "      <td>0.05</td>\n",
       "      <td>1.22</td>\n",
       "    </tr>\n",
       "    <tr>\n",
       "      <th>Consumer Cyclical</th>\n",
       "      <td>1.27</td>\n",
       "      <td>1.56</td>\n",
       "      <td>14.12</td>\n",
       "      <td>0.06</td>\n",
       "      <td>0.05</td>\n",
       "      <td>1.10</td>\n",
       "    </tr>\n",
       "    <tr>\n",
       "      <th>Communication Services</th>\n",
       "      <td>1.32</td>\n",
       "      <td>1.39</td>\n",
       "      <td>9.94</td>\n",
       "      <td>0.02</td>\n",
       "      <td>0.01</td>\n",
       "      <td>1.19</td>\n",
       "    </tr>\n",
       "    <tr>\n",
       "      <th>Basic Materials</th>\n",
       "      <td>1.34</td>\n",
       "      <td>1.26</td>\n",
       "      <td>13.50</td>\n",
       "      <td>0.06</td>\n",
       "      <td>0.03</td>\n",
       "      <td>1.15</td>\n",
       "    </tr>\n",
       "    <tr>\n",
       "      <th>Technology</th>\n",
       "      <td>1.49</td>\n",
       "      <td>1.34</td>\n",
       "      <td>17.34</td>\n",
       "      <td>0.14</td>\n",
       "      <td>0.04</td>\n",
       "      <td>1.11</td>\n",
       "    </tr>\n",
       "    <tr>\n",
       "      <th>Industrials</th>\n",
       "      <td>1.68</td>\n",
       "      <td>2.47</td>\n",
       "      <td>14.97</td>\n",
       "      <td>0.06</td>\n",
       "      <td>0.03</td>\n",
       "      <td>1.10</td>\n",
       "    </tr>\n",
       "    <tr>\n",
       "      <th>Utilities</th>\n",
       "      <td>1.82</td>\n",
       "      <td>3.03</td>\n",
       "      <td>19.14</td>\n",
       "      <td>0.05</td>\n",
       "      <td>0.03</td>\n",
       "      <td>0.99</td>\n",
       "    </tr>\n",
       "    <tr>\n",
       "      <th>Healthcare</th>\n",
       "      <td>1.89</td>\n",
       "      <td>1.53</td>\n",
       "      <td>13.90</td>\n",
       "      <td>0.09</td>\n",
       "      <td>0.03</td>\n",
       "      <td>1.13</td>\n",
       "    </tr>\n",
       "    <tr>\n",
       "      <th>Real Estate</th>\n",
       "      <td>1.91</td>\n",
       "      <td>3.44</td>\n",
       "      <td>17.92</td>\n",
       "      <td>0.09</td>\n",
       "      <td>0.02</td>\n",
       "      <td>1.17</td>\n",
       "    </tr>\n",
       "    <tr>\n",
       "      <th>Consumer Defensive</th>\n",
       "      <td>1.93</td>\n",
       "      <td>2.79</td>\n",
       "      <td>18.30</td>\n",
       "      <td>0.03</td>\n",
       "      <td>0.04</td>\n",
       "      <td>1.04</td>\n",
       "    </tr>\n",
       "  </tbody>\n",
       "</table>\n",
       "</div>"
      ],
      "text/plain": [
       "                        premDisc  pegRatio  forwardPE  growthRate  \\\n",
       "sector                                                              \n",
       "Financial Services          0.39      1.03      11.09        0.09   \n",
       "Energy                      0.94      1.40      13.97        0.06   \n",
       "Consumer Cyclical           1.27      1.56      14.12        0.06   \n",
       "Communication Services      1.32      1.39       9.94        0.02   \n",
       "Basic Materials             1.34      1.26      13.50        0.06   \n",
       "Technology                  1.49      1.34      17.34        0.14   \n",
       "Industrials                 1.68      2.47      14.97        0.06   \n",
       "Utilities                   1.82      3.03      19.14        0.05   \n",
       "Healthcare                  1.89      1.53      13.90        0.09   \n",
       "Real Estate                 1.91      3.44      17.92        0.09   \n",
       "Consumer Defensive          1.93      2.79      18.30        0.03   \n",
       "\n",
       "                        shortPercentOfFloat  targetMedianPrice  \n",
       "sector                                                          \n",
       "Financial Services                     0.02               1.13  \n",
       "Energy                                 0.05               1.22  \n",
       "Consumer Cyclical                      0.05               1.10  \n",
       "Communication Services                 0.01               1.19  \n",
       "Basic Materials                        0.03               1.15  \n",
       "Technology                             0.04               1.11  \n",
       "Industrials                            0.03               1.10  \n",
       "Utilities                              0.03               0.99  \n",
       "Healthcare                             0.03               1.13  \n",
       "Real Estate                            0.02               1.17  \n",
       "Consumer Defensive                     0.04               1.04  "
      ]
     },
     "execution_count": 266,
     "metadata": {},
     "output_type": "execute_result"
    }
   ],
   "source": [
    "# aggregate / deep dive metrics\n",
    "gby = ['sector',]\n",
    "# gby = ['sector', 'industry', 'symbol'] # by uncommenting this line deep dive into sectors below\n",
    "zoom_in = [x for x in clean_df.sector.unique()] # all sectors\n",
    "zoom_in = ['Consumer Defensive'] # or just a few selected\n",
    "agg_functions = 'median'\n",
    "sort_by = ['premDisc']\n",
    "\n",
    "ind_sum_df = clean_df.groupby(by=gby).agg(agg_functions)[show]\n",
    "if 'symbol' in gby: ind_sum_df = ind_sum_df.loc[(zoom_in,),:]\n",
    "else: ind_sum_df = ind_sum_df\n",
    "ind_sum_df.sort_values(by=sort_by)"
   ]
  },
  {
   "cell_type": "code",
   "execution_count": null,
   "metadata": {},
   "outputs": [],
   "source": [
    "# rank results relative to sector or entire universe\n",
    "low_better = ['premDisc', 'pegRatio', 'forwardPE', 'shortPercentOfFloat']\n",
    "high_better = ['earningsGrowth', 'targetMedianPrice']\n",
    "cols = low_better + high_better\n",
    "\n",
    "by_sector_on = True\n",
    "\n",
    "rank_df = clean_df.copy()\n",
    "if by_sector_on:\n",
    "    # relative to sector\n",
    "    super_list = []\n",
    "    for s in rank_df.sector.unique():\n",
    "        group = rank_df.loc[rank_df.sector == s, cols]\n",
    "        ranked_df = fu.rank_group(group, low_better, high_better)\n",
    "        super_list.append(ranked_df)\n",
    "    ranked_df = pd.concat(super_list, axis=0)\n",
    "else:\n",
    "    # relative to market\n",
    "    ranked_df = fu.rank_group(rank_df, low_better, high_better)\n",
    "\n",
    "ranked_df.loc[:, 'eq_wgt_mean_rank'] = ranked_df.mean(axis=1)\n",
    "ranked_df.sort_values('eq_wgt_mean_rank')"
   ]
  },
  {
   "cell_type": "code",
   "execution_count": null,
   "metadata": {},
   "outputs": [],
   "source": []
  }
 ],
 "metadata": {
  "kernelspec": {
   "display_name": "Python 3",
   "language": "python",
   "name": "python3"
  },
  "language_info": {
   "codemirror_mode": {
    "name": "ipython",
    "version": 3
   },
   "file_extension": ".py",
   "mimetype": "text/x-python",
   "name": "python",
   "nbconvert_exporter": "python",
   "pygments_lexer": "ipython3",
   "version": "3.7.2"
  }
 },
 "nbformat": 4,
 "nbformat_minor": 2
}
