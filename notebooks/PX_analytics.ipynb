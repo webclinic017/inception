{
 "cells": [
  {
   "cell_type": "code",
   "execution_count": null,
   "metadata": {},
   "outputs": [],
   "source": [
    "# imports\n",
    "%reload_ext autoreload\n",
    "%autoreload 2\n",
    "%matplotlib inline \n",
    "\n",
    "import sys\n",
    "import pandas as pd\n",
    "import numpy as np\n",
    "from utils.basic_utils import config, read_dates, load_csvs, excl\n",
    "from utils.pricing import get_left_right, load_px_close, get_symbol_pricing\n",
    "from utils.pricing import apply_std_boundaries, freq_dist, rank_roll_perf\n",
    "from utils.pricing import get_ind_index, to_index_form, eq_wgt_attribution\n",
    "from utils.pricing import shorten_name\n",
    "import matplotlib.pyplot as plt\n",
    "%matplotlib inline\n",
    "\n",
    "pd.options.display.float_format = '{:,.2f}'.format\n",
    "cmap = 'tab20'\n",
    "fs, lw, alp, loc, margin = (12,5), 5, 0.5, 'center left', (1, 0.5)\n",
    "sl = 3 # to slice large lists in top / bottom chunks\n",
    "# pd.describe_option()"
   ]
  },
  {
   "cell_type": "markdown",
   "metadata": {
    "heading_collapsed": true
   },
   "source": [
    "### General functions"
   ]
  },
  {
   "cell_type": "code",
   "execution_count": null,
   "metadata": {
    "code_folding": [
     0
    ],
    "hidden": true
   },
   "outputs": [],
   "source": [
    "# # utility functions, should be in pricing.py already\n",
    "# freq_dist = lambda df, col, tail: df[col].tail(tail).value_counts(bins=12, normalize=True).sort_index()\n",
    "# shorten_name = lambda x: \"\".join([str.upper(z[:3]) for z in x])\n",
    "# roll_vol = lambda df, rw: (df.rolling(rw).std() * pow(252, 1/2))\n",
    "\n",
    "# # helper methods\n",
    "# def build_px_struct(data_dict, freq):\n",
    "#     dt = date if freq == '1d' else datetime\n",
    "#     dates = [dt.fromtimestamp(x) for x in data_dict['timestamp']]\n",
    "#     hist_pricing = data_dict['indicators']['quote'][0]\n",
    "#     H = hist_pricing['high']\n",
    "#     L = hist_pricing['low']\n",
    "#     O = hist_pricing['open']\n",
    "#     C = hist_pricing['close']\n",
    "#     V = hist_pricing['volume']\n",
    "#     price_dict = {'high': H,'low': L,'open': O,'close' : C, 'volume': V}\n",
    "#     df = pd.DataFrame(price_dict, index=dates)    \n",
    "#     return df\n",
    "\n",
    "# def get_rt_pricing(symbol, freq='1d', prange='10d', cols=None):\n",
    "#     data_dict = get_pricing(symbol, freq, prange)\n",
    "#     df = build_px_struct(data_dict, freq)\n",
    "#     cols = df.columns if cols is None else cols\n",
    "#     return df[cols].dropna()\n",
    "\n",
    "# def get_symbol_pricing(symbol, freq, cols=None):\n",
    "#     path = config['pricing_path'].format(freq)\n",
    "#     data_dict = json_load(path + json_ext.format(symbol))\n",
    "#     df = build_px_struct(data_dict, freq)\n",
    "#     cols = df.columns if cols is None else cols\n",
    "#     return df[cols].dropna()\n",
    "\n",
    "# def get_mults_pricing(symbols, freq, col='close'):\n",
    "#     group_pricing = pd.DataFrame()\n",
    "#     for n, t in enumerate(symbols):\n",
    "#         print(\"Getting pricing for {0}\".format(t))\n",
    "#         sec_hp = get_symbol_pricing(t, freq,[col])\n",
    "#         sec_hp.rename(columns={col: t}, inplace=True)\n",
    "#         if n == 0: group_pricing = pd.DataFrame(sec_hp)\n",
    "#         else: group_pricing[t] = sec_hp\n",
    "#     return group_pricing\n",
    "\n",
    "# def apply_std_boundaries(df, col='close', window=30, stds=2):\n",
    "#     sma = df[col].rolling(window).mean()\n",
    "#     smastd = df[col].rolling(window).std()\n",
    "#     smaub = sma + smastd*stds\n",
    "#     smalb = sma - smastd*stds\n",
    "#     df['sma' + str(window)] = sma\n",
    "#     df['sma' + str(window) + 'ub'] = smaub\n",
    "#     df['sma' + str(window) + 'lb'] = smalb\n",
    "#     df['sma' + str(window) + 'bw'] = smastd*stds / sma\n",
    "#     return df\n",
    "\n",
    "# def get_ind_index(closepx, freq='1d', tail=60, name='^IND'):\n",
    "#     closepx = closepx.tail(tail)\n",
    "#     memb_count = len(symbols)\n",
    "#     eq_wgt = 1 / memb_count\n",
    "#     closepx.set_index(pd.DatetimeIndex(closepx.index), inplace=True)\n",
    "#     comp_indexed = (closepx.pct_change() + 1).cumprod()\n",
    "#     comp_indexed.iloc[0] = 1\n",
    "#     # comp_indexed.pct_change(), closepx.pct_change() # CHECK, should be the same\n",
    "#     comp_indexed[name] = (comp_indexed * eq_wgt).sum(axis=1)\n",
    "#     return comp_indexed\n",
    "\n",
    "# def to_index_form(df, name):\n",
    "#     dt_index = pd.DatetimeIndex(df.index)\n",
    "#     idx = pd.DataFrame((df.pct_change() + 1).cumprod().values, \n",
    "#         index=dt_index, columns=[name])\n",
    "#     idx.iloc[0] = 1\n",
    "#     return idx\n",
    "\n",
    "# def beta(df):\n",
    "#     # first column is the market\n",
    "#     X = df.values[:, [0]]\n",
    "#     # prepend a column of ones for the intercept\n",
    "#     X = np.concatenate([np.ones_like(X), X], axis=1)\n",
    "#     # matrix algebra\n",
    "#     b = np.linalg.pinv(X.T.dot(X)).dot(X.T).dot(df.values[:, 1:])\n",
    "#     return pd.Series(b[1], df.columns[1:], name='Beta')\n",
    "\n",
    "# def get_statspc_dates(df, treshold):\n",
    "#     mask = df.abs() / df.std() > treshold\n",
    "#     return df[mask][(df[mask].sum(axis=1) != 0).values]\n",
    "\n",
    "# def eq_wgt_attribution(comp_idx, index_col, resample_period):\n",
    "#     rp_delta = comp_idx.sub(comp_idx[index_col], axis='rows').iloc[:,:-1]\n",
    "#     resampled = (rp_delta/len(rp_delta.columns)).resample(resample_period, level=0).sum()\n",
    "#     return resampled[resampled.iloc[-1].sort_values(ascending=False).index]\n",
    "\n",
    "# def rank_roll_perf(df, roll_window):\n",
    "#     ind_ranked = df.round(2).rank(axis=1)\n",
    "#     rolled_ranked = ind_ranked.rolling(roll_window).mean()\n",
    "#     show = rolled_ranked.iloc[-1].sort_values().index.tolist()\n",
    "#     return rolled_ranked[show]\n",
    "\n",
    "# def get_left_right(alist, sl):\n",
    "#     # mods large list into left / right chunks\n",
    "#     be = len(alist) // sl\n",
    "#     left, right = be + 1 if be * sl < len(alist) else be, be\n",
    "#     return left, right\n",
    "\n"
   ]
  },
  {
   "cell_type": "code",
   "execution_count": null,
   "metadata": {
    "code_folding": [],
    "hidden": true
   },
   "outputs": [],
   "source": [
    "# contextual information\n",
    "symbol = 'VCYT'\n",
    "market_etf = 'SPY'\n",
    "freq, tail = '1d', 20 * 6\n",
    "window, stds = 30, 2\n",
    "\n",
    "dates = read_dates('quote') \n",
    "tgt_date = [dates[-1]] # last date saved in S3\n",
    "# latest_quotes = load_csvs('quote_consol', tgt_date)\n",
    "quotes = load_csvs('quote_consol', tgt_date)\n",
    "profile = load_csvs('summary_detail', ['assetProfile'])\n",
    "show = ['symbol','sector', 'industry']\n",
    "industries = profile[show].sort_values(by='industry').industry.dropna().unique().tolist()\n",
    "left, right = get_left_right(industries, sl)\n",
    "sect_idx_ticker, ind_idx_ticker = '^SECT', '^IND'"
   ]
  },
  {
   "cell_type": "markdown",
   "metadata": {
    "heading_collapsed": true
   },
   "source": [
    "### Retrieve pricing"
   ]
  },
  {
   "cell_type": "code",
   "execution_count": null,
   "metadata": {
    "code_folding": [],
    "hidden": true,
    "scrolled": true
   },
   "outputs": [],
   "source": [
    "# TAKES LONG: all pricing loaded, should do only once\n",
    "symbols_list = config['benchmarks'] + config['sectors'] + config['industries'] + config['companies'] + config['risk']\n",
    "px_close = load_px_close('../tmp/', 'universe-px-ds', True).drop_duplicates().dropna(subset=['^GSPC'])\n",
    "px_set = px_close[excl(symbols_list, ['LYFT'])]\n",
    "px_close.info()"
   ]
  },
  {
   "cell_type": "markdown",
   "metadata": {
    "heading_collapsed": true
   },
   "source": [
    "### Historical VIX"
   ]
  },
  {
   "cell_type": "code",
   "execution_count": null,
   "metadata": {
    "hidden": true
   },
   "outputs": [],
   "source": [
    "# Apply BB to VIX\n",
    "symbol = '^VIX'\n",
    "# sec_pricing = get_symbol_pricing(symbol, freq, ['open', 'low', 'high', 'close'])\n",
    "secpx = get_symbol_pricing(symbol, freq)\n",
    "show = ['close']\n",
    "df = apply_std_boundaries(secpx, show, 30, )\n",
    "smacols = [x for x in df.columns if 'sma' in x]\n",
    "show = ['close'] + smacols\n",
    "\n",
    "# historical frequency\n",
    "freq_col = 'close' # show[-1]\n",
    "left, right = get_left_right(df, 2)\n",
    "df[show[:-1]].iloc[-252:].plot(figsize=fs, ylim=[0, 50], grid=True);\n",
    "df[show[:-1]].iloc[-right:].plot(figsize=fs, ylim=[0, 50], grid=True);\n",
    "df[show[:-1]].iloc[:left].plot(figsize=fs, ylim=[0, 50], grid=True);"
   ]
  },
  {
   "cell_type": "code",
   "execution_count": null,
   "metadata": {
    "hidden": true
   },
   "outputs": [],
   "source": [
    "# Frequency distribution of intervals\n",
    "fd = freq_dist(df, freq_col, 252*10)\n",
    "labels=[(round(x.left, 1), round(x.right,1)) for x in fd.index.values]\n",
    "\n",
    "vix_freq = pd.concat([fd.to_frame(), fd.cumsum()], axis=1)\n",
    "vix_freq.columns = ['hist_freq', 'cum_freq']\n",
    "vix_freq.plot.bar(secondary_y='cum_freq')"
   ]
  },
  {
   "cell_type": "code",
   "execution_count": null,
   "metadata": {
    "code_folding": [],
    "hidden": true
   },
   "outputs": [],
   "source": [
    "# Historical analysis when portfolio insurance is cheap\n",
    "# When does vol crosses [low] bound at [x] std\n",
    "show = ['close','sma30ub']\n",
    "dates = df[df.close < df.sma30lb].index.tolist()\n",
    "abovesma = pd.DataFrame([{'year':x.year, 'month':x.month, 'day':x.day} for x in dates])\n",
    "abovesma.pivot_table(index='year', columns='month', aggfunc='count').replace(np.nan, '')"
   ]
  },
  {
   "cell_type": "code",
   "execution_count": null,
   "metadata": {
    "code_folding": [
     0
    ],
    "hidden": true
   },
   "outputs": [],
   "source": [
    "# Last few dates the VIX is below trend\n",
    "abovesma.tail(5)"
   ]
  },
  {
   "cell_type": "markdown",
   "metadata": {
    "heading_collapsed": true
   },
   "source": [
    "### Sector overview"
   ]
  },
  {
   "cell_type": "code",
   "execution_count": null,
   "metadata": {
    "code_folding": [],
    "hidden": true
   },
   "outputs": [],
   "source": [
    "# Pull sector ETFs for relative performance\n",
    "symbols = config[\"sectors\"]\n",
    "closepx = px_set[symbols]\n",
    "# openpx = get_mults_pricing(symbols, freq, 'open')\n",
    "# ((closepx - openpx) / openpx * 100).std().sort_values().plot.barh()\n",
    "\n",
    "comp_idx = get_ind_index(px_set[symbols], freq, tail, ind_idx_ticker)\n",
    "SPY = get_symbol_pricing('SPY', freq, 'close').tail(tail)\n",
    "comp_idx.drop(ind_idx_ticker, axis=1, inplace=True)\n",
    "comp_idx['SPY'] = to_index_form(SPY, 'SPY')"
   ]
  },
  {
   "cell_type": "code",
   "execution_count": null,
   "metadata": {
    "code_folding": [],
    "hidden": true
   },
   "outputs": [],
   "source": [
    "# Sector relative performance\n",
    "cumulative = comp_idx.iloc[-1]\n",
    "last_delta = cumulative - cumulative['SPY']\n",
    "ctitle = f'{tail} day Sector ETF relative performance'\n",
    "last_delta.sort_values(ascending=True).plot(\n",
    "    kind='bar', label='index', title=ctitle);"
   ]
  },
  {
   "cell_type": "code",
   "execution_count": null,
   "metadata": {
    "code_folding": [],
    "hidden": true
   },
   "outputs": [],
   "source": [
    "# Sector performance attribution\n",
    "resampled = eq_wgt_attribution(comp_idx, 'SPY', 'W')\n",
    "ctitle = 'Sector performance attribution'\n",
    "ax = resampled.plot(\n",
    "    kind='bar', stacked=True, figsize=(12,5), colormap=cmap, title=ctitle)\n",
    "ax.set_xticklabels(resampled.index.strftime('%m-%d-%y'));\n",
    "ax.legend(loc='center left', bbox_to_anchor=(1, 0.5))\n",
    "plt.show()"
   ]
  },
  {
   "cell_type": "code",
   "execution_count": null,
   "metadata": {
    "code_folding": [],
    "hidden": true
   },
   "outputs": [],
   "source": [
    "# Sector performance rankings\n",
    "roll_window = 4\n",
    "rank_rolled = rank_roll_perf(resampled, roll_window)\n",
    "left, right = get_left_right(rank_rolled.columns, sl)\n",
    "\n",
    "ctitle = 'Underperforming sectors'\n",
    "rank_rolled.iloc[:,:left].plot(figsize=fs, colormap=cmap, linewidth=lw, title=ctitle)\\\n",
    "    .legend(loc=loc, bbox_to_anchor=margin)\n",
    "\n",
    "ctitle = 'Outperforming sectors'\n",
    "rank_rolled.iloc[:,-right:].plot(figsize=fs, colormap=cmap, linewidth=lw, title=ctitle)\\\n",
    "    .legend(loc=loc, bbox_to_anchor=margin);"
   ]
  },
  {
   "cell_type": "markdown",
   "metadata": {},
   "source": [
    "### Industry overview"
   ]
  },
  {
   "cell_type": "code",
   "execution_count": null,
   "metadata": {
    "code_folding": []
   },
   "outputs": [],
   "source": [
    "# Calculate industry indices\n",
    "ind_indices = pd.DataFrame()\n",
    "for n, ind in enumerate(industries):\n",
    "    ind_id = shorten_name(ind)\n",
    "    symbols = profile[profile.industry == ind].symbol.tolist()\n",
    "    comp_idx = get_ind_index(px_set[symbols], '1d', tail, ind_id)\n",
    "    ind_idx = comp_idx.iloc[:, -1:]\n",
    "    if n == 0: ind_indices = pd.DataFrame(ind_idx)\n",
    "    else: ind_indices[ind_id] = ind_idx"
   ]
  },
  {
   "cell_type": "code",
   "execution_count": null,
   "metadata": {},
   "outputs": [],
   "source": [
    "q = int(ind_indices.shape[1]*.1)\n",
    "focus_ind = list(ind_indices.iloc[-1, :].sort_values().iloc[:q].index) + list(ind_indices.iloc[-1, :].sort_values().iloc[-q:].index)"
   ]
  },
  {
   "cell_type": "code",
   "execution_count": null,
   "metadata": {
    "code_folding": []
   },
   "outputs": [],
   "source": [
    "# Industry performance relative ranking\n",
    "SPY = get_symbol_pricing('SPY', freq, 'close').tail(tail)\n",
    "ind_indices['SPY'] = to_index_form(SPY, 'SPY')\n",
    "cumulative = ind_indices.iloc[-1]\n",
    "last_delta = cumulative - cumulative['SPY']\n",
    "# last_delta = cumulative\n",
    "ctitle = 'Industry relative performance ranking'\n",
    "last_delta[focus_ind].sort_values(ascending=False).plot(\n",
    "    kind='bar', label='index', figsize=(12,5), title=ctitle);"
   ]
  },
  {
   "cell_type": "code",
   "execution_count": null,
   "metadata": {
    "code_folding": []
   },
   "outputs": [],
   "source": [
    "# Industry performance attribution\n",
    "resampled = eq_wgt_attribution(ind_indices, 'SPY', 'W')\n",
    "ctitle = 'Industry performance attribution'\n",
    "ax = resampled[focus_ind].plot(kind='bar', stacked=True, \n",
    "                    figsize=(12,5), colormap=cmap, title=ctitle)\n",
    "ax.set_xticklabels(resampled.index.strftime('%m-%d-%y'));\n",
    "ax.legend(loc='center left', bbox_to_anchor=(1, 0.5))\n",
    "plt.show()"
   ]
  },
  {
   "cell_type": "code",
   "execution_count": null,
   "metadata": {
    "code_folding": []
   },
   "outputs": [],
   "source": [
    "# Industry performance rankings\n",
    "resampled = eq_wgt_attribution(ind_indices, 'SPY', 'W')\n",
    "rank_rolled = rank_roll_perf(resampled, 4)\n",
    "left, right = get_left_right(rank_rolled.columns, sl)\n",
    "\n",
    "ctitle = 'Underperforming sectors'\n",
    "rank_rolled.iloc[:,:left].plot(\n",
    "    figsize=fs, linewidth=lw, colormap=cmap, title=ctitle)\\\n",
    "        .legend(loc=loc, bbox_to_anchor=margin);\n",
    "ctitle = 'Outperforming sectors'\n",
    "rank_rolled.iloc[:,-right:].plot(\n",
    "    figsize=fs, linewidth=lw, colormap=cmap, title=ctitle)\\\n",
    "        .legend(loc=loc, bbox_to_anchor=margin);"
   ]
  },
  {
   "cell_type": "markdown",
   "metadata": {},
   "source": [
    "### Industry deep dive"
   ]
  },
  {
   "cell_type": "code",
   "execution_count": null,
   "metadata": {},
   "outputs": [],
   "source": [
    "tgt_industry"
   ]
  },
  {
   "cell_type": "code",
   "execution_count": null,
   "metadata": {},
   "outputs": [],
   "source": [
    "tgt_industry = industries[1]\n",
    "symbols = profile[profile.industry == tgt_industry].symbol.tolist()\n",
    "ind_id = shorten_name(tgt_industry)\n",
    "[(shorten_name(ind[1]), ind) for ind in enumerate(industries)]"
   ]
  },
  {
   "cell_type": "code",
   "execution_count": null,
   "metadata": {
    "code_folding": [
     0
    ]
   },
   "outputs": [],
   "source": [
    "# Industry overview charts\n",
    "comp_idx = get_ind_index(px_set[symbols], '1d', tail, ind_id)\n",
    "fig, axs = plt.subplots(ncols=1, nrows=3, constrained_layout=False, figsize=(12,15))\n",
    "fig.subplots_adjust(hspace=0.4, wspace=0.4)\n",
    "\n",
    "print('{} analysis for {} days'.format(tgt_industry, tail))\n",
    "(comp_idx[ind_id] - 1).plot(\n",
    "    ax=axs[0], title='Industry performance');\n",
    "\n",
    "comp_idx.pct_change().corr()[ind_id].iloc[:-1].sort_values(ascending=False).plot(\n",
    "    kind='bar', ax=axs[1], title='Component correlation');\n",
    "\n",
    "(comp_idx.iloc[-1].sort_values(ascending=False) - 1).plot(\n",
    "    kind='bar', ax=axs[2], title='Relative performance');\n",
    "\n",
    "plt.show()"
   ]
  },
  {
   "cell_type": "code",
   "execution_count": null,
   "metadata": {
    "code_folding": []
   },
   "outputs": [],
   "source": [
    "# Industry components performance attribution\n",
    "resampled = eq_wgt_attribution(comp_idx, ind_id, 'W')\n",
    "left, right = get_left_right(resampled.columns, 2)\n",
    "show = resampled.columns[:(left)].tolist() + resampled.columns[-right:].tolist()\n",
    "ctitle = 'Equal weight attribution for top/bottom {} components'.format(left, ind_id)\n",
    "ax = resampled[show].plot(\n",
    "    colormap=cmap, kind='bar', stacked=True, figsize=(12,5), title=ctitle)\n",
    "ax.set_xticklabels(resampled.index.strftime('%m-%d-%y'));\n",
    "ax.legend(loc='center left', bbox_to_anchor=(1, 0.5))\n",
    "plt.show()"
   ]
  },
  {
   "cell_type": "code",
   "execution_count": null,
   "metadata": {
    "code_folding": []
   },
   "outputs": [],
   "source": [
    "# Industry components performance ranking\n",
    "rank_rolled = rank_roll_perf(resampled, 4)\n",
    "ctitle = 'Underperforming names'\n",
    "rank_rolled.iloc[:,:left].plot(\n",
    "    figsize=fs, linewidth=lw, colormap=cmap, title=ctitle)\\\n",
    "        .legend(loc=loc, bbox_to_anchor=margin);\n",
    "ctitle = 'Outperforming names'\n",
    "rank_rolled.iloc[:,-right:].plot(\n",
    "    figsize=fs, linewidth=lw, colormap=cmap, title=ctitle)\\\n",
    "        .legend(loc=loc, bbox_to_anchor=margin);"
   ]
  },
  {
   "cell_type": "markdown",
   "metadata": {
    "heading_collapsed": true
   },
   "source": [
    "### Company relative to industry, sector and market performance\n",
    "What's a statistically significant move?<br>\n",
    "De-correlate vs. industry, sector, and market<br>\n",
    "List key dates<br>\n",
    "Create function to highlight relevant idiosincratic behaviour<br>"
   ]
  },
  {
   "cell_type": "code",
   "execution_count": null,
   "metadata": {
    "hidden": true
   },
   "outputs": [],
   "source": [
    "symbol = 'VRSK'\n",
    "row = profile[profile.symbol == symbol]\n",
    "sec_sector, sec_industry = row.iloc[0].sector, row.iloc[0].industry\n",
    "sec_sector, sec_industry"
   ]
  },
  {
   "cell_type": "code",
   "execution_count": null,
   "metadata": {
    "hidden": true
   },
   "outputs": [],
   "source": [
    "sec_index = to_index_form(\n",
    "    get_symbol_pricing(symbol, freq, 'close').tail(tail),\n",
    "    symbol)\n",
    "\n",
    "symbols = profile[profile.industry == sec_industry].symbol.tolist()\n",
    "industry_index = get_ind_index(\n",
    "    px_set[symbols], '1d', tail, ind_idx_ticker)[[ind_idx_ticker]]\n",
    "\n",
    "symbols = profile[profile.sector == sec_sector].symbol.tolist()\n",
    "sector_index = get_ind_index(\n",
    "    px_set[symbols], '1d', tail, sect_idx_ticker)[[sect_idx_ticker]]\n",
    "\n",
    "market_index = to_index_form(\n",
    "    get_symbol_pricing(market_etf, freq, 'close').tail(tail),\n",
    "    market_etf)\n",
    "\n",
    "index_df = pd.DataFrame()\n",
    "index_df = index_df.append(sec_index)\n",
    "index_df[ind_idx_ticker] = industry_index\n",
    "index_df[sect_idx_ticker] = sector_index\n",
    "index_df[market_etf] = market_index"
   ]
  },
  {
   "cell_type": "code",
   "execution_count": null,
   "metadata": {
    "hidden": true
   },
   "outputs": [],
   "source": [
    "index_df_pc = index_df.pct_change().iloc[1:]\n",
    "print('{} days SPY beta'.format(len(index_df_pc)))\n",
    "beta(index_df_pc[[market_etf,symbol,ind_idx_ticker,sect_idx_ticker]])"
   ]
  },
  {
   "cell_type": "code",
   "execution_count": null,
   "metadata": {
    "hidden": true
   },
   "outputs": [],
   "source": [
    "roll_window = 30\n",
    "roll_vol_df = roll_vol(index_df_pc, roll_window)\n",
    "print(f'{roll_window} days rolling volatility')\n",
    "roll_vol_df.plot();\n",
    "roll_vol_df.tail()"
   ]
  },
  {
   "cell_type": "code",
   "execution_count": null,
   "metadata": {
    "hidden": true
   },
   "outputs": [],
   "source": [
    "print(f'{len(index_df_pc)} days correlation matrix')\n",
    "index_df_pc.corr()"
   ]
  },
  {
   "cell_type": "code",
   "execution_count": null,
   "metadata": {
    "hidden": true
   },
   "outputs": [],
   "source": [
    "# show statistical significant moves for further key factors study\n",
    "treshold = 2\n",
    "statspc_df = get_statspc_dates(index_df_pc, treshold)\n",
    "show = statspc_df.columns[:2]\n",
    "filtered = statspc_df[statspc_df[show].sum(axis=1).abs() > 0][show].sort_index(ascending=False)\n",
    "ax = filtered.plot(kind='barh')\n",
    "ax.set_yticklabels(filtered.index.strftime('%Y-%m-%d'))\n",
    "index_df.plot()\n",
    "for d in filtered.index: plt.axvline(x=d, c='k', linewidth=0.5)\n",
    "\n",
    "plt.show()\n",
    "filtered"
   ]
  },
  {
   "cell_type": "markdown",
   "metadata": {},
   "source": [
    "### Single security pricing, all fields"
   ]
  },
  {
   "cell_type": "code",
   "execution_count": null,
   "metadata": {},
   "outputs": [],
   "source": [
    "# Retrieves historical pricing\n",
    "secpx = get_symbol_pricing(symbol, freq)\n",
    "secpx.tail(5)"
   ]
  },
  {
   "cell_type": "code",
   "execution_count": null,
   "metadata": {},
   "outputs": [],
   "source": [
    "df = apply_std_boundaries(secpx, 'close', window, stds)\n",
    "smacols = [x for x in df.columns if 'sma' in x]\n",
    "show = ['close'] + smacols\n",
    "\n",
    "df[show[:-1]].tail(tail).plot(secondary_y=freq_col, figsize=(12,8))\n",
    "freq_col = 'sma' + str(window) + 'bw'\n",
    "fd = freq_dist(df, freq_col, tail)\n",
    "pd.DataFrame(fd).plot.barh(label='index');"
   ]
  },
  {
   "cell_type": "markdown",
   "metadata": {},
   "source": [
    "### Long exposure correlations"
   ]
  },
  {
   "cell_type": "code",
   "execution_count": null,
   "metadata": {},
   "outputs": [],
   "source": [
    "long_symbols = ['1810.HK', '9984.T', 'BABA', 'FB', 'GOOG', 'XOP']\n",
    "nbr_pos = len(long_symbols)\n",
    "# long_weights = [1/nbr_pos for x in long_symbols]\n",
    "long_weights = [10.3, 3.7, 60.4, 22.3, 8.4, 3.18]\n",
    "long_wv = np.array(long_weights) / 100"
   ]
  },
  {
   "cell_type": "code",
   "execution_count": null,
   "metadata": {},
   "outputs": [],
   "source": [
    "long_px = px_set[\n",
    "    long_symbols + \\\n",
    "    config['benchmarks'] + \\\n",
    "    config['sectors']\n",
    "    ].tail(tail)\n",
    "\n",
    "# corr_mtrx = long_px.pct_change().corr()\n",
    "corr_mtrx = long_px.pct_change().corr()\n",
    "cov_mtrx = long_px.pct_change().cov() * 252\n",
    "\n",
    "port_corr_mtrx = corr_mtrx.iloc[:nbr_pos, :nbr_pos]\n",
    "port_cov_mtrx = cov_mtrx.iloc[:nbr_pos, :nbr_pos]\n",
    "# tri_corr_mtrx = (port_corr_mtrx * np.tri(nbr_pos,nbr_pos, -1))\n",
    "# cross_corr = np.dot(long_wv.T, np.dot(tri_corr_mtrx, long_wv))\n",
    "\n",
    "cross_corr = np.dot(long_wv.T, np.dot(port_corr_mtrx, long_wv))\n",
    "cross_vol = np.sqrt(np.dot(long_wv.T, np.dot(port_cov_mtrx, long_wv)))\n",
    "ctitle = 'Portfolio {0} correlation {1} annualized volatility'.format(\n",
    "    round(cross_corr,2), round(cross_vol,2))\n",
    "print(ctitle)\n",
    "port_corr_mtrx"
   ]
  },
  {
   "cell_type": "code",
   "execution_count": null,
   "metadata": {},
   "outputs": [],
   "source": [
    "top_corr_items = 3\n",
    "corr_mtrx_bench = corr_mtrx.loc[long_symbols].T.iloc[nbr_pos:]\n",
    "best_pairs = [(x, corr_mtrx_bench[corr_mtrx_bench[x] < 1][x].sort_values(ascending=False).index.tolist()[:top_corr_items]) for x in long_symbols]\n",
    "best_pairs, corr_mtrx_bench"
   ]
  },
  {
   "cell_type": "code",
   "execution_count": null,
   "metadata": {},
   "outputs": [],
   "source": [
    "cols = []; [cols.extend(y) for x, y in best_pairs]\n",
    "cols = list(set(cols))\n",
    "port_exp = pd.DataFrame([], index=long_symbols, columns=cols)\n",
    "# port_exp.loc['FB', ['XLU','FXI']] = [1, 2]\n",
    "for x, y in best_pairs: port_exp.loc[x, y] = corr_mtrx_bench.T.loc[x, y]\n",
    "port_exp.replace(np.nan, '')"
   ]
  },
  {
   "cell_type": "code",
   "execution_count": null,
   "metadata": {},
   "outputs": [],
   "source": [
    "# portfolio greatest exposure\n",
    "pd.Series(\n",
    "    np.dot(port_exp.replace(np.nan, 0).T, long_wv.T), index=cols)\\\n",
    "    .sort_values(ascending=False)"
   ]
  },
  {
   "cell_type": "code",
   "execution_count": null,
   "metadata": {
    "code_folding": []
   },
   "outputs": [],
   "source": [
    "# Rolling correlation\n",
    "roll_window = 20\n",
    "missing_px = (long_px[long_symbols].count() < len(long_px[long_symbols])).tolist()\n",
    "items = [best_pairs[x] for x in range(len(missing_px)) \n",
    "         if not missing_px[x]]\n",
    "for x, y in items:\n",
    "    title = '{} {} day rolling correlations'.format(x, roll_window)\n",
    "    long_px[x]\\\n",
    "        .rolling(roll_window).corr(long_px[y])\\\n",
    "        .plot(title=title, rot=45)\n",
    "# long_px.index.astype(date)"
   ]
  },
  {
   "cell_type": "markdown",
   "metadata": {},
   "source": [
    "### Benchmark option pricing"
   ]
  },
  {
   "cell_type": "code",
   "execution_count": null,
   "metadata": {},
   "outputs": [],
   "source": [
    "underlyingSymbol = 'QQQ'"
   ]
  },
  {
   "cell_type": "code",
   "execution_count": null,
   "metadata": {},
   "outputs": [],
   "source": [
    "!scp -i ~vveiga/.ssh/qc_infra.pem ubuntu@54.191.249.196:/home/ubuntu/inception/tmp/universe-px-ds ../tmp/universe-px-ds\n",
    "px_close = load_px_close('../tmp/', 'universe-px-ds', True).drop_duplicates().dropna(subset=['^GSPC'])\n",
    "px_close.info()"
   ]
  },
  {
   "cell_type": "code",
   "execution_count": null,
   "metadata": {},
   "outputs": [],
   "source": [
    "options = load_csvs('option_consol', ['2019-04-16'])"
   ]
  },
  {
   "cell_type": "code",
   "execution_count": null,
   "metadata": {},
   "outputs": [],
   "source": [
    "quotes.set_index('symbol', drop=False, inplace=True)\n",
    "options.set_index('contractSymbol', drop=False, inplace=True)"
   ]
  },
  {
   "cell_type": "code",
   "execution_count": null,
   "metadata": {},
   "outputs": [],
   "source": [
    "mask = options['underlyingSymbol'] == underlyingSymbol\n",
    "atm_cont = np.abs((options.loc[mask, 'strike'] - quotes.loc['QQQ', 'regularMarketPrice'])).sort_values().index[0]\n",
    "atm_strike = options.loc[atm_cont, 'strike']\n",
    "cut_off = options.loc[mask].openInterest.sort_values().quantile(0.25)\n",
    "mask = mask \\\n",
    "    & (options['strike'] == atm_strike) \\\n",
    "    & (options['type'] == 'call') \\\n",
    "    & (options['openInterest'] >= cut_off)\n",
    "opt_subset = options.loc[mask]\n",
    "opt_subset.loc[:, 'daysExpiration'] = -(np.datetime64(datetime.today()) - opt_subset.expiration).dt.days.values\n",
    "opt_subset.loc[:, 'premiumDay'] = opt_subset.loc[:, 'lastPrice'].T / -(np.datetime64(datetime.today()) - opt_subset.expiration).dt.days.values\n",
    "opt_subset.loc[:, ['expiration', 'impliedVolatility', 'lastPrice', 'daysExpiration', 'premiumDay']]"
   ]
  },
  {
   "cell_type": "code",
   "execution_count": null,
   "metadata": {},
   "outputs": [],
   "source": [
    "opt_subset[['impliedVolatility', 'premiumDay']].plot.scatter(x='impliedVolatility', y='premiumDay')"
   ]
  },
  {
   "cell_type": "code",
   "execution_count": null,
   "metadata": {},
   "outputs": [],
   "source": [
    "roll_vol(px_close[underlyingSymbol].pct_change(), 60).tail(252).plot()"
   ]
  },
  {
   "cell_type": "code",
   "execution_count": null,
   "metadata": {},
   "outputs": [],
   "source": [
    "options = load_csvs('option_consol', tgt_date)\n",
    "cols_to_date = ['expiration', 'lastTradeDate', 'storeDate']\n",
    "for c in cols_to_date: options[c] = options[c].apply(lambda x: datetime.fromtimestamp(x))\n",
    "options.info()\n",
    "# options.iloc[3]"
   ]
  },
  {
   "cell_type": "code",
   "execution_count": null,
   "metadata": {
    "code_folding": []
   },
   "outputs": [],
   "source": [
    "# find expirations with more than 90 days\n",
    "def option_IV_atm(options, symbol, calDaysOut, minVolume, optnType, nbrStrikes):\n",
    "    symbols = config['benchmarks'] + config['sectors']\n",
    "    next_dt = np.datetime64(datetime.today() + pd.Timedelta(calDaysOut, unit='d'))\n",
    "    uniq_expirations = options.expiration.sort_values().unique()\n",
    "    tgt_expirations = uniq_expirations[uniq_expirations > next_dt]\n",
    "    mask = (options.underlyingSymbol.isin(symbols)) &\\\n",
    "        (options.volume > minVolume) &\\\n",
    "        options.expiration.isin(tgt_expirations) &\\\n",
    "        (options.type == optnType)\n",
    "    subset = options[mask]\n",
    "    last_price = px_set[symbols].iloc[-1][symbol]\n",
    "    contracts = subset[subset.underlyingSymbol == symbol]\n",
    "#     atm_contract = (contracts.strike / last_price - 1).abs().idxmin()\n",
    "    atm_contract = (contracts.strike / last_price - 1).abs().\\\n",
    "        sort_values().index[:nbrStrikes]\n",
    "    return contracts.loc[atm_contract].sort_values(by='strike')"
   ]
  },
  {
   "cell_type": "code",
   "execution_count": null,
   "metadata": {},
   "outputs": [],
   "source": [
    "# shows implied volatility for all benchmarks\n",
    "symbols = config['benchmarks'] + config['sectors']\n",
    "b_IVs = pd.DataFrame()\n",
    "for s in symbols:\n",
    "#     print('Current price for {}: {}'.format(s, px_set[s].iloc[-1]))\n",
    "    b_IVs = b_IVs.append(option_IV_atm(options, s, 90, 50, 'put', 1))\n",
    "show = ['underlyingSymbol', 'expiration', \n",
    "        'strike', 'impliedVolatility', \n",
    "        'openInterest', 'volume','lastTradeDate']\n",
    "# b_IVs[show].plot(kind='bar', x=show[0], y=show[1])\n",
    "b_IVs[show].sort_values(by='expiration')"
   ]
  },
  {
   "cell_type": "code",
   "execution_count": null,
   "metadata": {},
   "outputs": [],
   "source": [
    "# issue here is that rows could have diff. expirations\n",
    "# shows mutiple implied volatility for one benchmark\n",
    "symbol = 'XLK'\n",
    "contract_list = option_IV_atm(options, symbol, 90, 50, 'put', 5)\n",
    "contract_list[show].sort_values(by='expiration')"
   ]
  },
  {
   "cell_type": "code",
   "execution_count": null,
   "metadata": {
    "code_folding": [
     0
    ]
   },
   "outputs": [],
   "source": [
    "# PENDING: shows historical implied volatility for one benchmark\n",
    "symbol = 'SPY'\n",
    "b_IVs = pd.DataFrame()\n",
    "for d in [dates[-20:]]:\n",
    "    options = load_csvs('option_consol', d)\n",
    "    cols_to_date = ['expiration', 'lastTradeDate', 'storeDate']\n",
    "    for c in cols_to_date: \n",
    "        options[c] = options[c].apply(lambda x: datetime.fromtimestamp(x))\n",
    "    option_IV_atm(options, symbol, 60, 50, 'put', 1)\n",
    "b_IVs[show]"
   ]
  },
  {
   "cell_type": "markdown",
   "metadata": {
    "heading_collapsed": true
   },
   "source": [
    "### Other functions"
   ]
  },
  {
   "cell_type": "code",
   "execution_count": null,
   "metadata": {
    "hidden": true
   },
   "outputs": [],
   "source": [
    "df['hlSpread'] = (df['high'] - df['low']) / df['open']\n",
    "df['coSpread'] = (df['close'] - df['open']) / df['open']\n",
    "df['1mFwdRet'] = df['close'].shift(-20) / df['close'] - 1\n",
    "df.coSpread.hist()\n",
    "# df[df.coSpread < -0.075]"
   ]
  },
  {
   "cell_type": "code",
   "execution_count": null,
   "metadata": {
    "hidden": true
   },
   "outputs": [],
   "source": [
    "path = config['pricing_path'].format('1d')\n",
    "data_dict = json_load(path + json_ext.format(symbol))\n",
    "print(data_dict.keys())\n",
    "data_dict['meta']\n",
    "dates = [datetime.fromtimestamp(x) for x in data_dict['timestamp']]\n",
    "indicators_quote_0 = data_dict['indicators']['quote'][0]\n",
    "H = indicators_quote_0['high']\n",
    "L = indicators_quote_0['low']\n",
    "O = indicators_quote_0['open']\n",
    "C = indicators_quote_0['close']\n",
    "V = indicators_quote_0['volume']"
   ]
  },
  {
   "cell_type": "code",
   "execution_count": null,
   "metadata": {
    "hidden": true
   },
   "outputs": [],
   "source": [
    "price_dict = {'high': H,'low': L,'open': O,'close' : C, 'volume': V}\n",
    "df = pd.DataFrame(price_dict, index=dates)"
   ]
  },
  {
   "cell_type": "code",
   "execution_count": null,
   "metadata": {
    "hidden": true
   },
   "outputs": [],
   "source": [
    "fields = ['open', 'close', 'high', 'low']\n",
    "# fields = ['volume']\n",
    "tgt_df = df[fields]\n",
    "tgt_df.groupby(tgt_df.index.hour).mean().plot()\n",
    "# tgt_df.plot()"
   ]
  },
  {
   "cell_type": "code",
   "execution_count": null,
   "metadata": {
    "hidden": true
   },
   "outputs": [],
   "source": []
  }
 ],
 "metadata": {
  "kernelspec": {
   "display_name": "Python 3",
   "language": "python",
   "name": "python3"
  },
  "language_info": {
   "codemirror_mode": {
    "name": "ipython",
    "version": 3
   },
   "file_extension": ".py",
   "mimetype": "text/x-python",
   "name": "python",
   "nbconvert_exporter": "python",
   "pygments_lexer": "ipython3",
   "version": "3.7.3"
  }
 },
 "nbformat": 4,
 "nbformat_minor": 2
}
