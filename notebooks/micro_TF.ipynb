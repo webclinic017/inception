{
 "cells": [
  {
   "cell_type": "code",
   "execution_count": 176,
   "metadata": {
    "code_folding": []
   },
   "outputs": [],
   "source": [
    "#imports\n",
    "%reload_ext autoreload\n",
    "%autoreload 2\n",
    "%matplotlib inline \n",
    "\n",
    "from matplotlib import pyplot as plt\n",
    "\n",
    "from utils.basic_utils import *\n",
    "from utils.fundamental import chain_outlier, get_focus_tickers, best_performers\n",
    "from utils.pricing import load_px_close, get_return_intervals \n",
    "from utils.pricing import dummy_col, discret_rets, sample_wgts, px_fwd_ret\n",
    "from utils.pricing import px_mom_feats, px_mom_co_feats_light, px_fwd_rets, get_ind_index\n",
    "from utils.pricing import eq_wgt_indices, to_index_form, rename_col\n",
    "\n",
    "pd.options.display.float_format = '{:,.2f}'.format\n",
    "\n",
    "import time, os, sys\n",
    "from tqdm import tqdm\n",
    "\n",
    "from sklearn import preprocessing\n",
    "from sklearn.preprocessing import StandardScaler\n",
    "from sklearn.model_selection import train_test_split\n",
    "from sklearn.utils.multiclass import unique_labels\n",
    "from sklearn.metrics import confusion_matrix, classification_report\n",
    "from sklearn.metrics import accuracy_score, log_loss, precision_recall_fscore_support\n",
    "from sklearn.metrics import precision_score, roc_auc_score\n",
    "\n",
    "from sklearn.model_selection import StratifiedShuffleSplit\n",
    "from sklearn.model_selection import StratifiedKFold\n",
    "from sklearn.neural_network import MLPClassifier\n",
    "from sklearn.ensemble import VotingClassifier\n",
    "from sklearn.ensemble import RandomForestClassifier\n",
    "from sklearn.ensemble import ExtraTreesClassifier\n",
    "\n",
    "import numpy as np\n",
    "import keras\n",
    "from keras.models import Sequential, load_model\n",
    "from keras.layers import Dense, Dropout, Activation\n",
    "from keras.optimizers import SGD, Adam, Adagrad, Adadelta, Adamax, Nadam, RMSprop\n",
    "from keras.callbacks import EarlyStopping, ModelCheckpoint\n",
    "from keras.callbacks import CSVLogger\n",
    "from keras.layers import BatchNormalization"
   ]
  },
  {
   "cell_type": "code",
   "execution_count": 134,
   "metadata": {},
   "outputs": [
    {
     "data": {
      "text/plain": [
       "[]"
      ]
     },
     "execution_count": 134,
     "metadata": {},
     "output_type": "execute_result"
    }
   ],
   "source": [
    "from keras import backend as K\n",
    "K.tensorflow_backend._get_available_gpus()"
   ]
  },
  {
   "cell_type": "markdown",
   "metadata": {},
   "source": [
    "### Context data"
   ]
  },
  {
   "cell_type": "code",
   "execution_count": 325,
   "metadata": {
    "code_folding": []
   },
   "outputs": [],
   "source": [
    "# context\n",
    "bench = '^GSPC'\n",
    "y_col = 'fwdReturn'\n",
    "tickers = excl(config['companies'], [])\n",
    "\n",
    "context = {\n",
    "    'ml_path': '../ML/',\n",
    "    'model_name': 'micro_TF.h5',\n",
    "    'tmp_path': '../tmp/',\n",
    "    'ds_name': 'co-technicals-ds',\n",
    "    'px_close': 'universe-px-ds',\n",
    "    'trained_cols': 'micro_TF_train_cols.npy',\n",
    "    'look_ahead': 120,\n",
    "    'look_back': 252*3,\n",
    "    'load_ds': True,\n",
    "    'scale': True,\n",
    "    'test_size': .05,\n",
    "    'verbose': True,\n",
    "    's3_path': 'recommend/micro_ML/',\n",
    "    'units': 850,\n",
    "    'max_iter': 20,\n",
    "    'l2_reg': 0.01,\n",
    "}"
   ]
  },
  {
   "cell_type": "code",
   "execution_count": 326,
   "metadata": {
    "code_folding": []
   },
   "outputs": [
    {
     "name": "stdout",
     "output_type": "stream",
     "text": [
      "^C\r\n"
     ]
    }
   ],
   "source": [
    "# get latest pricing file from inferece server\n",
    "px_close_ds = context['px_close']\n",
    "tmp_path = context['tmp_path']\n",
    "os.makedirs(tmp_path, exist_ok=True)\n",
    "!scp -i ~/.ssh/qc_infra.pem ubuntu@52.13.205.29:~/inception/tmp/{px_close_ds} {tmp_path}{px_close_ds}"
   ]
  },
  {
   "cell_type": "code",
   "execution_count": 432,
   "metadata": {},
   "outputs": [
    {
     "data": {
      "text/plain": [
       "120"
      ]
     },
     "execution_count": 432,
     "metadata": {},
     "output_type": "execute_result"
    }
   ],
   "source": [
    "context['look_ahead']"
   ]
  },
  {
   "cell_type": "code",
   "execution_count": 551,
   "metadata": {
    "code_folding": []
   },
   "outputs": [
    {
     "name": "stdout",
     "output_type": "stream",
     "text": [
      "<class 'pandas.core.frame.DataFrame'>\n",
      "Index: 4674 entries, 2004-05-16 to 2019-05-17\n",
      "Columns: 1291 entries, 0700.HK to KRW=X\n",
      "dtypes: float32(1291)\n",
      "memory usage: 23.1+ MB\n",
      "px_close.info() None\n",
      "Return intervals [  -inf -0.229 -0.149  0.145  0.218    inf]\n"
     ]
    }
   ],
   "source": [
    "# load stored pricing\n",
    "px_close = load_px_close(\n",
    "    context['tmp_path'], context['px_close'], context['load_ds']).drop_duplicates()\n",
    "print('px_close.info()', px_close.info())\n",
    "\n",
    "fwd_ret_labels = [\"bear\", \"short\", \"neutral\", \"long\", \"bull\"]\n",
    "clean_co_px = px_close.dropna(subset=[bench])[tickers].fillna(method='ffill')\n",
    "\n",
    "cut_range = get_return_intervals(\n",
    "    clean_co_px, \n",
    "    context['look_ahead'], \n",
    "    tresholds=[0.1, 0.5])\n",
    "\n",
    "print(f'Return intervals {np.round(cut_range, 3)}')"
   ]
  },
  {
   "cell_type": "code",
   "execution_count": 328,
   "metadata": {
    "code_folding": []
   },
   "outputs": [
    {
     "name": "stdout",
     "output_type": "stream",
     "text": [
      "Target date: 2019-05-17\n",
      "Loading file quote/csv/2019-05-17\n",
      "Loading file summary-categories/assetProfile\n"
     ]
    }
   ],
   "source": [
    "# Quotes, profile, and industries\n",
    "dates = read_dates('quote')\n",
    "tgt_date = dates[-1] # last date saved in S3\n",
    "print(f'Target date: {tgt_date}')\n",
    "\n",
    "equity_symbols = config['companies']\n",
    "\n",
    "quotes = load_csvs('quote_consol', [tgt_date])\n",
    "quotes = quotes.loc[quotes.symbol.isin(equity_symbols)]\n",
    "quotes.set_index('symbol', drop=False, inplace=True)\n",
    "\n",
    "profile = load_csvs('summary_detail', ['assetProfile'])\n",
    "profile = profile.loc[profile.symbol.isin(equity_symbols)]\n",
    "profile.set_index('symbol', drop=False, inplace=True)"
   ]
  },
  {
   "cell_type": "code",
   "execution_count": 330,
   "metadata": {
    "code_folding": []
   },
   "outputs": [
    {
     "name": "stdout",
     "output_type": "stream",
     "text": [
      "236 companies\n"
     ]
    }
   ],
   "source": [
    "# Training/inference subset\n",
    "tgt_sectors = [\n",
    "    'Technology',\n",
    "    'Healthcare',\n",
    "    'Industrials',\n",
    "    'Basic Materials',\n",
    "    'Consumer Cyclical',\n",
    "    'Financial Services',\n",
    "    'Consumer Defensive',\n",
    "    'Real Estate',\n",
    "    'Utilities',\n",
    "    'Communication Services',\n",
    "    'Energy',\n",
    "]\n",
    "\n",
    "# tickers = list(profile.loc[profile.sector.isin(tgt_sectors), 'symbol'])\n",
    "tickers = list(best_performers(clean_co_px, tickers=tickers, years=10, quantile=0.75).index)\n",
    "\n",
    "context['tickers'] = tickers\n",
    "print(f'{len(tickers)} companies')"
   ]
  },
  {
   "cell_type": "markdown",
   "metadata": {},
   "source": [
    "### Final"
   ]
  },
  {
   "cell_type": "code",
   "execution_count": 331,
   "metadata": {
    "code_folding": [
     0
    ]
   },
   "outputs": [],
   "source": [
    "def pre_process_ds(context):\n",
    "    \n",
    "    tickers = context['tickers']\n",
    "    sectors = profile.loc[profile.symbol.isin(tickers)].sector.unique()\n",
    "    industries = profile.loc[profile.symbol.isin(tickers)].industry.unique()\n",
    "    print(f'Sectors: {sectors.shape[0]}, Industries: {industries.shape[0]}')\n",
    "    \n",
    "    indices_df = pd.concat(\n",
    "        [eq_wgt_indices(profile, px_close, 'sector', sectors, subset=tickers),\n",
    "        eq_wgt_indices(profile, px_close, 'industry', industries, subset=tickers),\n",
    "        to_index_form(px_close[bench], bench)], \n",
    "        axis=1).drop_duplicates()\n",
    "    \n",
    "    # create price momentum features\n",
    "    tmp_path = context['tmp_path']\n",
    "    ds_name = context['ds_name']\n",
    "\n",
    "    super_list = []\n",
    "    for i, ticker in tqdm(enumerate(tickers)):\n",
    "        try:\n",
    "            close = px_close[ticker].dropna()\n",
    "            ft_df = px_mom_feats(close, ticker, incl_name=False)\n",
    "            if ticker in profile.symbol.unique():\n",
    "                top_groups = tuple([bench, profile.loc[ticker, 'sector']])\n",
    "                co = px_mom_co_feats_light(close, indices_df, top_groups)\n",
    "                ft_df = pd.concat([ft_df, co.loc[ft_df.index, :]], axis=1)\n",
    "                super_list.append(ft_df.copy())\n",
    "            else: print(ticker, 'missing profile, skipping')\n",
    "        except Exception as e: \n",
    "            print(\"Exception: {0} {1}\".format(ticker, e))\n",
    "\n",
    "    joined_df = pd.concat(super_list, axis=0)\n",
    "    joined_df = chain_outlier(joined_df, None)\n",
    "        \n",
    "    # basic impute and scaling\n",
    "    scale_on = context['scale']\n",
    "    scaler = StandardScaler()\n",
    "    num_cols = numeric_cols(joined_df)\n",
    "#     joined_df.loc[:, num_cols] = joined_df[num_cols].replace([np.inf, -np.inf, np.nan], 0)\n",
    "    joined_df.dropna(inplace=True)\n",
    "    if scale_on: joined_df.loc[:, num_cols] = scaler.fit_transform(joined_df[num_cols])\n",
    "\n",
    "    # add categoricals\n",
    "    joined_df = dummy_col(joined_df, 'sector', shorten=True)\n",
    "    \n",
    "    return joined_df"
   ]
  },
  {
   "cell_type": "code",
   "execution_count": 332,
   "metadata": {
    "code_folding": [
     0
    ]
   },
   "outputs": [],
   "source": [
    "def get_train_test_sets(context):\n",
    "    \n",
    "    verbose = context['verbose']\n",
    "    ml_path, model_name = context['ml_path'], context['model_name']\n",
    "    trained_cols = context['trained_cols']    \n",
    "    test_size = context['test_size']    \n",
    "    look_ahead = context['look_ahead']\n",
    "\n",
    "    tickers = context['tickers']\n",
    "    tickers = list(best_performers(clean_co_px, tickers=tickers, years=10, quantile=0.75).index)\n",
    "    context['tickers'] = tickers\n",
    "    print(f'Training on {len(context[\"tickers\"])} companies')\n",
    "\n",
    "    joined_df = pre_process_ds(context)\n",
    "\n",
    "    # calculation of forward returns\n",
    "    look_ahead = context['look_ahead']\n",
    "    Y = clean_co_px.apply(px_fwd_ret, args=(look_ahead, int(look_ahead/4)))\n",
    "    Y = Y[~(Y.isna().all(1))]\n",
    "\n",
    "    # reshapes to include symbol in index in additional to date\n",
    "    Y_df = Y.loc[joined_df.index.unique().sortlevel()[0], tickers]\n",
    "    Y_df = Y_df.stack().to_frame().rename(columns={0: y_col})\n",
    "    # somwhat repetitive with steps above but performs faster\n",
    "    Y_df.index.set_names(['storeDate', 'symbol'], inplace=True)\n",
    "    print('Y_df.shape', Y_df.shape)\n",
    "\n",
    "    # re-index processed df on storeDate and symbol to have similar indices\n",
    "    joined_df.index.set_names('storeDate', inplace=True)\n",
    "    joined_df.set_index(['symbol'], append=True, inplace=True)\n",
    "    print('joined_df.shape', joined_df.shape)\n",
    "\n",
    "    # add Y values to processed df fast without having to loop\n",
    "    joined_df.loc[:, y_col] = Y_df.loc[joined_df.index, y_col]\n",
    "\n",
    "    # joined_df.loc[(slice(None), 'AAPL'), y_col].plot() # visualize smoothing\n",
    "    # joined_df.groupby('symbol')[y_col].mean().sort_values() # rank long-term mean performance\n",
    "\n",
    "    # discretize Y-variable\n",
    "    joined_df.dropna(subset=[y_col], inplace=True)\n",
    "    joined_df[y_col] = discret_rets(joined_df[y_col], cut_range, fwd_ret_labels)\n",
    "    print('joined_df.shape', joined_df.shape)\n",
    "    print(sample_wgts(joined_df[y_col]))\n",
    "\n",
    "    joined_df.dropna(subset=[y_col], inplace=True)\n",
    "    joined_df.loc[:, y_col] = joined_df[y_col].astype(str)\n",
    "\n",
    "    days = len(joined_df.index.levels[0].unique())\n",
    "    print(f'Training for {days} dates, {round(days/252, 1)} years')\n",
    "\n",
    "    # joined_df.loc[(slice(None), 'TAL'), y_col].value_counts() # look at a specific security distribution\n",
    "    train_df = joined_df.reset_index(drop=True)\n",
    "    train_df.shape\n",
    "\n",
    "    # create training and test sets\n",
    "    X, y = train_df.drop(columns=y_col), train_df[y_col]\n",
    "    sss = StratifiedShuffleSplit(n_splits=1, test_size=test_size, random_state=42)\n",
    "    for train_index, test_index in sss.split(X, y):\n",
    "        X_train, X_test = X.iloc[train_index], X.iloc[test_index]\n",
    "        y_train, y_test = y.iloc[train_index], y.iloc[test_index]\n",
    "        break # just one split\n",
    "\n",
    "    # skf = StratifiedKFold(n_splits=2, random_state=None)\n",
    "    # for train_index, test_index in skf.split(X, y):\n",
    "    #     X_train, X_test = X.iloc[train_index], X.iloc[test_index]\n",
    "    #     y_train, y_test = y.iloc[train_index], y.iloc[test_index]\n",
    "    #     break\n",
    "          \n",
    "    return X_train, X_test, y_train, y_test"
   ]
  },
  {
   "cell_type": "code",
   "execution_count": 333,
   "metadata": {
    "code_folding": [
     0
    ]
   },
   "outputs": [],
   "source": [
    "def train_ds(context):\n",
    "    \n",
    "    X_train, X_test, y_train, y_test = get_train_test_sets(context)\n",
    "    \n",
    "    # Keras Model\n",
    "    max_iter = context['max_iter']\n",
    "    l2_reg = context['l2_reg']\n",
    "    units = context['units']\n",
    "    trained_cols = context['trained_cols']\n",
    "\n",
    "    y_train_oh = pd.get_dummies(y_train)[fwd_ret_labels]\n",
    "    y_test_oh = pd.get_dummies(y_test)[fwd_ret_labels]\n",
    "\n",
    "    model = Sequential()\n",
    "    model.add(Dense(units, activation='relu', input_dim=X_train.shape[1]))\n",
    "    # model.add(Dropout(0.05))\n",
    "    model.add(Dense(units, activation='relu'))\n",
    "    model.add(Dense(units, activation='relu'))\n",
    "    model.add(Dense(units, activation='relu'))\n",
    "    model.add(Dense(int(units/2), activation='relu'))\n",
    "    model.add(Dense(len(pd.unique(y_train)), activation='softmax'))\n",
    "    keras.regularizers.l2(l2_reg)\n",
    "\n",
    "    opt = Adam()\n",
    "    # opt = Nadam() #essentially RMSprop with momentum, Nadam is Adam RMSprop with Nesterov momentum\n",
    "    # opt = RMSprop() #optimizer is usually a good choice for recurrent neural networks\n",
    "\n",
    "    ml_path, model_name = context['ml_path'], context['model_name']\n",
    "    fname = ml_path + model_name\n",
    "    es = EarlyStopping(monitor='loss', patience=10, restore_best_weights=True, verbose=1)\n",
    "    checkpointer = ModelCheckpoint(filepath=fname, verbose=1, save_best_only=True)\n",
    "    csv_logger = CSVLogger('micro-train.log')\n",
    "\n",
    "    # save training columns\n",
    "    np.save(ml_path + trained_cols, X_train.columns) # save feature order\n",
    "    print(f'X_train.shape {X_train.shape}, columns: {list(X_train.columns)}')\n",
    "    print('Saved: ', ml_path + trained_cols)    \n",
    "    \n",
    "    model.compile(loss='categorical_crossentropy', optimizer=opt, metrics=['accuracy'])\n",
    "    history = model.fit(X_train, y_train_oh, validation_data=(X_test, y_test_oh), \n",
    "              epochs=max_iter, batch_size=200, callbacks=[es, checkpointer, csv_logger])\n",
    "\n",
    "    score = model.evaluate(X_test, y_test_oh)\n",
    "    print(f'Test loss: {score[0]}, Test accuracy: {score[1]}')\n",
    "\n",
    "    # save model to drive\n",
    "    model.save(fname)\n",
    "    print('Saved ', fname)"
   ]
  },
  {
   "cell_type": "code",
   "execution_count": 334,
   "metadata": {
    "code_folding": [
     0
    ]
   },
   "outputs": [],
   "source": [
    "def predict_ds(context):\n",
    "    \n",
    "    ml_path = context['ml_path']\n",
    "    model_name = context['model_name']\n",
    "    trained_cols = context['trained_cols']\n",
    "    look_back = context['look_back']\n",
    "    \n",
    "    joined_df = pre_process_ds(context)\n",
    "    pred_X = joined_df.loc[joined_df.sort_index().index.unique()[-look_back:], :]\n",
    "    print('pred_X.shape', pred_X.shape)\n",
    "\n",
    "    # ensure prediction dataset is consistent with trained model\n",
    "    train_cols = np.load(ml_path + trained_cols, allow_pickle=True) # save feature order\n",
    "    missing_cols = [x for x in train_cols if x not in pred_X.columns]\n",
    "    if len(missing_cols):\n",
    "        print(f'Warning missing columns: {missing_cols}')\n",
    "        pred_X = pd.concat([pred_X, pd.DataFrame(columns=missing_cols)], axis=1)\n",
    "        pred_X[missing_cols] = 0\n",
    "\n",
    "    sorted_cols = list(np.append(train_cols, ['symbol']))\n",
    "    print('pred_X.shape', pred_X[sorted_cols].shape)\n",
    "\n",
    "    pred_df = pd.DataFrame()\n",
    "    pred_df['symbol'] = pred_X.symbol\n",
    "\n",
    "    # Load model    \n",
    "    fname = ml_path + model_name\n",
    "    model = load_model(fname)\n",
    "    print('Loaded', fname)\n",
    "\n",
    "    preds = model.predict(pred_X[sorted_cols].iloc[:, :-1])\n",
    "    preds_classes = model.predict_classes(pred_X[sorted_cols].iloc[:, :-1])    \n",
    "\n",
    "    pred_df['pred_class'] = preds_classes\n",
    "    pred_df['pred_label'] = list(map(lambda x: fwd_ret_labels[x], preds_classes))\n",
    "    probs = np.round(preds,3)\n",
    "    pred_prob = np.argmax(probs, axis=1)\n",
    "    pred_df['confidence'] = [x[np.argmax(x)] for x in probs] # higest prob\n",
    "    prob_df = pd.DataFrame(probs, index=pred_df.index, columns=fwd_ret_labels)\n",
    "    pred_df = pd.concat([pred_df, prob_df[fwd_ret_labels]], axis=1)\n",
    "    pred_df.index.name = 'pred_date'    \n",
    "    \n",
    "    # store in S3\n",
    "    s3_path = context['s3_path']\n",
    "    s3_df = pred_df.reset_index(drop=False)\n",
    "    rename_col(s3_df, 'index', 'pred_date')\n",
    "    csv_store(s3_df, s3_path, csv_ext.format(tgt_date))\n",
    "            \n",
    "    return pred_df"
   ]
  },
  {
   "cell_type": "markdown",
   "metadata": {
    "heading_collapsed": true
   },
   "source": [
    "#### Train"
   ]
  },
  {
   "cell_type": "code",
   "execution_count": null,
   "metadata": {
    "hidden": true
   },
   "outputs": [],
   "source": [
    "max_iter = context['max_iter']\n",
    "l2_reg = context['l2_reg']\n",
    "units = context['units']\n",
    "trained_cols = context['trained_cols']\n",
    "\n",
    "X_train, X_test, y_train, y_test = get_train_test_sets(context)\n",
    "\n",
    "y_train_oh = pd.get_dummies(y_train)[fwd_ret_labels]\n",
    "y_test_oh = pd.get_dummies(y_test)[fwd_ret_labels]"
   ]
  },
  {
   "cell_type": "code",
   "execution_count": 27,
   "metadata": {
    "code_folding": [
     0
    ],
    "hidden": true
   },
   "outputs": [
    {
     "name": "stdout",
     "output_type": "stream",
     "text": [
      "X_train.shape (751314, 28), columns: ['PctChg1Stds', 'PctMA50', 'PctMA200', 'RollVol30', 'PctChg20', 'PctChg60', 'PctChg120', 'Pct52WkH', 'Pct52WkL', 'rsBench20', 'rsSect20', 'rsBench60', 'rsSect60', 'rsBench120', 'rsSect120', 'benchPctChgStds', 'sectPctChgStds', '^BASI_MATE', '^COMM_SERV', '^CONS_CYCL', '^CONS_DEFE', '^ENER', '^FINA_SERV', '^HEAL', '^INDU', '^REAL_ESTA', '^TECH', '^UTIL']\n",
      "Saved:  ../ML/micro_TF_train_cols.npy\n",
      "Train on 751314 samples, validate on 39543 samples\n",
      "Epoch 1/20\n",
      "751314/751314 [==============================] - 152s 203us/step - loss: 1.2036 - acc: 0.5390 - val_loss: 1.1700 - val_acc: 0.5496\n",
      "\n",
      "Epoch 00001: val_loss improved from inf to 1.17002, saving model to ../ML/micro_TF.h5\n",
      "Epoch 2/20\n",
      "751314/751314 [==============================] - 151s 201us/step - loss: 1.1102 - acc: 0.5725 - val_loss: 1.0379 - val_acc: 0.5984\n",
      "\n",
      "Epoch 00002: val_loss improved from 1.17002 to 1.03789, saving model to ../ML/micro_TF.h5\n",
      "Epoch 3/20\n",
      "751314/751314 [==============================] - 151s 201us/step - loss: 1.0167 - acc: 0.6080 - val_loss: 0.9340 - val_acc: 0.6399\n",
      "\n",
      "Epoch 00003: val_loss improved from 1.03789 to 0.93402, saving model to ../ML/micro_TF.h5\n",
      "Epoch 4/20\n",
      "751314/751314 [==============================] - 151s 201us/step - loss: 0.9250 - acc: 0.6427 - val_loss: 0.8349 - val_acc: 0.6798\n",
      "\n",
      "Epoch 00004: val_loss improved from 0.93402 to 0.83485, saving model to ../ML/micro_TF.h5\n",
      "Epoch 5/20\n",
      "751314/751314 [==============================] - 151s 201us/step - loss: 0.8407 - acc: 0.6754 - val_loss: 0.7519 - val_acc: 0.7133\n",
      "\n",
      "Epoch 00005: val_loss improved from 0.83485 to 0.75194, saving model to ../ML/micro_TF.h5\n",
      "Epoch 6/20\n",
      "751314/751314 [==============================] - 151s 201us/step - loss: 0.7694 - acc: 0.7044 - val_loss: 0.6811 - val_acc: 0.7406\n",
      "\n",
      "Epoch 00006: val_loss improved from 0.75194 to 0.68106, saving model to ../ML/micro_TF.h5\n",
      "Epoch 7/20\n",
      "751314/751314 [==============================] - 151s 200us/step - loss: 0.7106 - acc: 0.7275 - val_loss: 0.6190 - val_acc: 0.7696\n",
      "\n",
      "Epoch 00007: val_loss improved from 0.68106 to 0.61903, saving model to ../ML/micro_TF.h5\n",
      "Epoch 8/20\n",
      "751314/751314 [==============================] - 151s 200us/step - loss: 0.6603 - acc: 0.7476 - val_loss: 0.5701 - val_acc: 0.7864\n",
      "\n",
      "Epoch 00008: val_loss improved from 0.61903 to 0.57009, saving model to ../ML/micro_TF.h5\n",
      "Epoch 9/20\n",
      "751314/751314 [==============================] - 151s 200us/step - loss: 0.6198 - acc: 0.7639 - val_loss: 0.5300 - val_acc: 0.8030\n",
      "\n",
      "Epoch 00009: val_loss improved from 0.57009 to 0.52998, saving model to ../ML/micro_TF.h5\n",
      "Epoch 10/20\n",
      "751314/751314 [==============================] - 151s 201us/step - loss: 0.5846 - acc: 0.7771 - val_loss: 0.4873 - val_acc: 0.8185\n",
      "\n",
      "Epoch 00010: val_loss improved from 0.52998 to 0.48725, saving model to ../ML/micro_TF.h5\n",
      "Epoch 11/20\n",
      "751314/751314 [==============================] - 151s 201us/step - loss: 0.5547 - acc: 0.7892 - val_loss: 0.4598 - val_acc: 0.8290\n",
      "\n",
      "Epoch 00011: val_loss improved from 0.48725 to 0.45980, saving model to ../ML/micro_TF.h5\n",
      "Epoch 12/20\n",
      "751314/751314 [==============================] - 151s 201us/step - loss: 0.5306 - acc: 0.7982 - val_loss: 0.4348 - val_acc: 0.8421\n",
      "\n",
      "Epoch 00012: val_loss improved from 0.45980 to 0.43480, saving model to ../ML/micro_TF.h5\n",
      "Epoch 13/20\n",
      "751314/751314 [==============================] - 151s 200us/step - loss: 0.5067 - acc: 0.8078 - val_loss: 0.4163 - val_acc: 0.8464\n",
      "\n",
      "Epoch 00013: val_loss improved from 0.43480 to 0.41627, saving model to ../ML/micro_TF.h5\n",
      "Epoch 14/20\n",
      "751314/751314 [==============================] - 151s 201us/step - loss: 0.4873 - acc: 0.8155 - val_loss: 0.3926 - val_acc: 0.8588\n",
      "\n",
      "Epoch 00014: val_loss improved from 0.41627 to 0.39263, saving model to ../ML/micro_TF.h5\n",
      "Epoch 15/20\n",
      "751314/751314 [==============================] - 151s 200us/step - loss: 0.4702 - acc: 0.8223 - val_loss: 0.3795 - val_acc: 0.8624\n",
      "\n",
      "Epoch 00015: val_loss improved from 0.39263 to 0.37948, saving model to ../ML/micro_TF.h5\n",
      "Epoch 16/20\n",
      "751314/751314 [==============================] - 151s 201us/step - loss: 0.4549 - acc: 0.8284 - val_loss: 0.3583 - val_acc: 0.8694\n",
      "\n",
      "Epoch 00016: val_loss improved from 0.37948 to 0.35833, saving model to ../ML/micro_TF.h5\n",
      "Epoch 17/20\n",
      "751314/751314 [==============================] - 151s 201us/step - loss: 0.4405 - acc: 0.8340 - val_loss: 0.3459 - val_acc: 0.8740\n",
      "\n",
      "Epoch 00017: val_loss improved from 0.35833 to 0.34588, saving model to ../ML/micro_TF.h5\n",
      "Epoch 18/20\n",
      "751314/751314 [==============================] - 151s 201us/step - loss: 0.4273 - acc: 0.8392 - val_loss: 0.3407 - val_acc: 0.8784\n",
      "\n",
      "Epoch 00018: val_loss improved from 0.34588 to 0.34072, saving model to ../ML/micro_TF.h5\n",
      "Epoch 19/20\n",
      "751314/751314 [==============================] - 151s 201us/step - loss: 0.4150 - acc: 0.8438 - val_loss: 0.3324 - val_acc: 0.8799\n",
      "\n",
      "Epoch 00019: val_loss improved from 0.34072 to 0.33244, saving model to ../ML/micro_TF.h5\n",
      "Epoch 20/20\n",
      "751314/751314 [==============================] - 151s 201us/step - loss: 0.4059 - acc: 0.8476 - val_loss: 0.3230 - val_acc: 0.8844\n",
      "\n",
      "Epoch 00020: val_loss improved from 0.33244 to 0.32301, saving model to ../ML/micro_TF.h5\n",
      "39543/39543 [==============================] - 3s 73us/step\n",
      "Test loss: 0.3230053460427964, Test accuracy: 0.8844043193485572\n"
     ]
    }
   ],
   "source": [
    "# Keras Model\n",
    "model = Sequential()\n",
    "model.add(Dense(units, input_dim=X_train.shape[1], use_bias=False))\n",
    "model.add(BatchNormalization())\n",
    "model.add(Activation(\"relu\"))\n",
    "model.add(Dense(units, use_bias=False))\n",
    "model.add(BatchNormalization())\n",
    "model.add(Activation(\"relu\"))\n",
    "model.add(Dense(units, use_bias=False))\n",
    "model.add(BatchNormalization())\n",
    "model.add(Activation(\"relu\"))\n",
    "model.add(Dense(int(units/2), use_bias=False))\n",
    "model.add(BatchNormalization())\n",
    "model.add(Activation(\"relu\"))\n",
    "model.add(Dense(len(pd.unique(y_train)), activation='softmax'))\n",
    "keras.regularizers.l2(l2_reg)\n",
    "\n",
    "opt = Adam()\n",
    "\n",
    "ml_path, model_name = context['ml_path'], context['model_name']\n",
    "fname = ml_path + model_name\n",
    "\n",
    "es = EarlyStopping(monitor='loss', patience=10, restore_best_weights=True, verbose=1)\n",
    "checkpointer = ModelCheckpoint(filepath=fname, verbose=1, save_best_only=True)\n",
    "csv_logger = CSVLogger('micro-train.log')\n",
    "\n",
    "# save training columns\n",
    "np.save(ml_path + trained_cols, X_train.columns) # save feature order\n",
    "print(f'X_train.shape {X_train.shape}, columns: {list(X_train.columns)}')\n",
    "print('Saved: ', ml_path + trained_cols)    \n",
    "\n",
    "model.compile(loss='categorical_crossentropy', optimizer=opt, metrics=['accuracy'])\n",
    "history = model.fit(X_train, y_train_oh, validation_data=(X_test, y_test_oh), \n",
    "          epochs=max_iter, batch_size=64, callbacks=[es, checkpointer, csv_logger])\n",
    "\n",
    "score = model.evaluate(X_test, y_test_oh)\n",
    "print(f'Test loss: {score[0]}, Test accuracy: {score[1]}')"
   ]
  },
  {
   "cell_type": "code",
   "execution_count": null,
   "metadata": {
    "hidden": true
   },
   "outputs": [],
   "source": []
  },
  {
   "cell_type": "code",
   "execution_count": null,
   "metadata": {
    "hidden": true
   },
   "outputs": [],
   "source": []
  },
  {
   "cell_type": "code",
   "execution_count": null,
   "metadata": {
    "hidden": true,
    "scrolled": false
   },
   "outputs": [],
   "source": [
    "%time train_ds(context)"
   ]
  },
  {
   "cell_type": "markdown",
   "metadata": {},
   "source": [
    "#### Predict"
   ]
  },
  {
   "cell_type": "code",
   "execution_count": 335,
   "metadata": {
    "scrolled": true
   },
   "outputs": [
    {
     "name": "stdout",
     "output_type": "stream",
     "text": [
      "Sectors: 11, Industries: 80\n"
     ]
    },
    {
     "name": "stderr",
     "output_type": "stream",
     "text": [
      "0it [00:00, ?it/s]/Users/vveiga/miniconda3/envs/inception/lib/python3.6/site-packages/pandas/core/indexing.py:1017: FutureWarning: \n",
      "Passing list-likes to .loc or [] with any missing label will raise\n",
      "KeyError in the future, you can use .reindex() as an alternative.\n",
      "\n",
      "See the documentation here:\n",
      "https://pandas.pydata.org/pandas-docs/stable/indexing.html#deprecate-loc-reindex-listlike\n",
      "  return getattr(section, self.name)[new_key]\n",
      "236it [00:34,  5.85it/s]\n"
     ]
    },
    {
     "name": "stdout",
     "output_type": "stream",
     "text": [
      "pred_X.shape (174044, 29)\n",
      "pred_X.shape (174044, 29)\n",
      "Loaded ../ML/micro_TF.h5\n",
      "Saved recommend/micro_ML/2019-05-17.csv\n",
      "CPU times: user 10min 55s, sys: 7min 22s, total: 18min 17s\n",
      "Wall time: 2min 42s\n"
     ]
    }
   ],
   "source": [
    "# predict for all\n",
    "%time pred_df = predict_ds(context)"
   ]
  },
  {
   "cell_type": "markdown",
   "metadata": {
    "heading_collapsed": true
   },
   "source": [
    "#### Store / Read S3"
   ]
  },
  {
   "cell_type": "code",
   "execution_count": 15,
   "metadata": {
    "hidden": true
   },
   "outputs": [],
   "source": [
    "s3_path = context['s3_path']"
   ]
  },
  {
   "cell_type": "code",
   "execution_count": 16,
   "metadata": {
    "hidden": true
   },
   "outputs": [],
   "source": [
    "# read from S3\n",
    "pred_df = pd.read_csv(\n",
    "    csv_load(f'{s3_path}{tgt_date}'), \n",
    "    index_col='pred_date', parse_dates=True)"
   ]
  },
  {
   "cell_type": "markdown",
   "metadata": {},
   "source": [
    "#### Visualize"
   ]
  },
  {
   "cell_type": "code",
   "execution_count": 336,
   "metadata": {},
   "outputs": [
    {
     "name": "stdout",
     "output_type": "stream",
     "text": [
      "Prediction distribution\n"
     ]
    },
    {
     "data": {
      "text/plain": [
       "neutral   0.58\n",
       "bull      0.21\n",
       "long      0.10\n",
       "bear      0.09\n",
       "short     0.03\n",
       "Name: pred_label, dtype: float64"
      ]
     },
     "execution_count": 336,
     "metadata": {},
     "output_type": "execute_result"
    }
   ],
   "source": [
    "# recommendation distribution\n",
    "print('Prediction distribution')\n",
    "pd.value_counts(pred_df.pred_label) / pd.value_counts(pred_df.pred_label).sum()"
   ]
  },
  {
   "cell_type": "code",
   "execution_count": 337,
   "metadata": {
    "code_folding": []
   },
   "outputs": [
    {
     "name": "stderr",
     "output_type": "stream",
     "text": [
      "/Users/vveiga/miniconda3/envs/inception/lib/python3.6/site-packages/ipykernel_launcher.py:12: FutureWarning: \n",
      "Passing list-likes to .loc or [] with any missing label will raise\n",
      "KeyError in the future, you can use .reindex() as an alternative.\n",
      "\n",
      "See the documentation here:\n",
      "https://pandas.pydata.org/pandas-docs/stable/indexing.html#deprecate-loc-reindex-listlike\n",
      "  if sys.path[0] == '':\n",
      "/Users/vveiga/miniconda3/envs/inception/lib/python3.6/site-packages/ipykernel_launcher.py:15: FutureWarning: \n",
      "Passing list-likes to .loc or [] with any missing label will raise\n",
      "KeyError in the future, you can use .reindex() as an alternative.\n",
      "\n",
      "See the documentation here:\n",
      "https://pandas.pydata.org/pandas-docs/stable/indexing.html#deprecate-loc-reindex-listlike\n",
      "  from ipykernel import kernelapp as app\n"
     ]
    },
    {
     "data": {
      "image/png": "[encoded data removed]",
      "text/plain": [
       "<Figure size 1080x144 with 2 Axes>"
      ]
     },
     "metadata": {
      "needs_background": "light"
     },
     "output_type": "display_data"
    },
    {
     "data": {
      "image/png": "[encoded data removed]",
      "text/plain": [
       "<Figure size 1080x360 with 2 Axes>"
      ]
     },
     "metadata": {
      "needs_background": "light"
     },
     "output_type": "display_data"
    },
    {
     "data": {
      "image/png": "[encoded data removed]",
      "text/plain": [
       "<Figure size 1080x144 with 1 Axes>"
      ]
     },
     "metadata": {
      "needs_background": "light"
     },
     "output_type": "display_data"
    }
   ],
   "source": [
    "def plot_symbol_hist_pred(pred_symbol, clean_co_px, context, pred_df):\n",
    "    \n",
    "    # pred_symbol = random.choice(joined_df.symbol.unique())\n",
    "    pred_symbol = pred_symbol if pred_symbol is not None else random.choice(joined_df.symbol.unique())\n",
    "    px_df = clean_co_px[pred_symbol]\n",
    "    px_df.name = 'close'\n",
    "    look_ahead = context['look_ahead']\n",
    "    pct_chg_df = px_fwd_ret(px_df, look_ahead, int(look_ahead/4))\n",
    "    pct_chg_df.name = 'pct_chg'\n",
    "\n",
    "    co_pred = pred_df.loc[pred_df.symbol.isin([pred_symbol]), ['pred_class'] + fwd_ret_labels]\n",
    "    hist_pred = pd.concat([px_df.loc[pred_df.index.unique()], co_pred['pred_class']], axis=1, sort=False)\n",
    "\n",
    "    # forward looking returns\n",
    "    pct_chg_df.loc[pred_df.index.unique()].dropna().plot(\n",
    "        title=f'{pred_symbol} {int(np.mean(context[\"look_ahead\"]))} day forward looking return', \n",
    "        figsize=(15, 2), grid=True, secondary_y='pct_chg')\n",
    "\n",
    "    # historical predictions\n",
    "    hist_pred.dropna().plot(\n",
    "        title=f'{pred_symbol} historical prediction', \n",
    "        figsize=(15, 5), secondary_y='pred_class')\n",
    "\n",
    "    # probability distribution\n",
    "    co_pred[fwd_ret_labels].plot.area(\n",
    "        title='Prediction probabilities', \n",
    "        figsize=(15, 2), ylim=(0, 1), cmap='RdYlGn', rot=0)\n",
    "    \n",
    "plot_symbol_hist_pred('AAPL', clean_co_px, context, pred_df)"
   ]
  },
  {
   "cell_type": "markdown",
   "metadata": {},
   "source": [
    "#### AI driven portfolio construction, single period"
   ]
  },
  {
   "cell_type": "code",
   "execution_count": 671,
   "metadata": {},
   "outputs": [],
   "source": [
    "loss_protection = False\n",
    "long = True\n",
    "max_loss = 0.1\n",
    "holding_period = 60\n",
    "as_of_date = -holding_period; study_period = -30;\n",
    "min_confidence = 0.8\n",
    "max_class_rows = 50\n",
    "nbr_positions = 40\n",
    "pred_classes = [3, 4] if long else [0, 1]\n",
    "period_range = list(range(-20, -pred_df.index.unique().shape[0], -holding_period))"
   ]
  },
  {
   "cell_type": "code",
   "execution_count": 672,
   "metadata": {
    "code_folding": [
     11
    ]
   },
   "outputs": [],
   "source": [
    "def get_top_predictions(pred_df, as_of_date, min_confidence, max_class_rows):\n",
    "    \"\"\" return top recommendatins by label as of a given date \"\"\"\n",
    "    label_mask = (pred_df.pred_label.isin(['bear', 'short', 'long', 'bull'])) \\\n",
    "        & (pred_df.confidence > min_confidence)\n",
    "\n",
    "    top_pred = pred_df.loc[(pred_df.index == pred_df.index.unique()[as_of_date]) & label_mask]\\\n",
    "        .sort_values(by=['pred_label', 'confidence'], ascending=False)\\\n",
    "        .groupby(by='pred_label').head(max_class_rows)\n",
    "    \n",
    "    return top_pred\n",
    "    \n",
    "top_pred = get_top_predictions(pred_df, as_of_date, min_confidence, max_class_rows)"
   ]
  },
  {
   "cell_type": "code",
   "execution_count": 673,
   "metadata": {
    "code_folding": [
     0
    ]
   },
   "outputs": [
    {
     "data": {
      "text/plain": [
       "Index([2019-01-11, 2019-01-14, 2019-01-15, 2019-01-16, 2019-01-17, 2019-01-18,\n",
       "       2019-01-21, 2019-01-22, 2019-01-23, 2019-01-24, 2019-01-25, 2019-01-28,\n",
       "       2019-01-29, 2019-01-30, 2019-01-31, 2019-02-01, 2019-02-04, 2019-02-05,\n",
       "       2019-02-06, 2019-02-07, 2019-02-08, 2019-02-11, 2019-02-12, 2019-02-13,\n",
       "       2019-02-14, 2019-02-15, 2019-02-18, 2019-02-19, 2019-02-20, 2019-02-21],\n",
       "      dtype='object', name='pred_date')"
      ]
     },
     "execution_count": 673,
     "metadata": {},
     "output_type": "execute_result"
    }
   ],
   "source": [
    "def get_study_date_range(pred_df, as_of_date, study_period):\n",
    "    \"\"\" \n",
    "    return date range for a study period, as of = prediction, \n",
    "    study period = number of days to observe stability of predictions    \n",
    "    \"\"\"\n",
    "    return pred_df.index.unique()[study_period + as_of_date:as_of_date]\n",
    "\n",
    "study_dates = get_study_date_range(pred_df, as_of_date, study_period)\n",
    "study_dates"
   ]
  },
  {
   "cell_type": "code",
   "execution_count": 674,
   "metadata": {
    "code_folding": [
     1
    ]
   },
   "outputs": [
    {
     "name": "stdout",
     "output_type": "stream",
     "text": [
      "14 Symbols: ['ALGN', 'CCOI', 'NKTR', 'EDU', 'SIVB', 'IPGP', 'WWE', 'ENSG', 'CI', 'CAR', '0700.HK', 'AMD', 'MKSI', 'VG']\n"
     ]
    },
    {
     "data": {
      "text/html": [
       "<div>\n",
       "<style scoped>\n",
       "    .dataframe tbody tr th:only-of-type {\n",
       "        vertical-align: middle;\n",
       "    }\n",
       "\n",
       "    .dataframe tbody tr th {\n",
       "        vertical-align: top;\n",
       "    }\n",
       "\n",
       "    .dataframe thead tr th {\n",
       "        text-align: left;\n",
       "    }\n",
       "</style>\n",
       "<table border=\"1\" class=\"dataframe\">\n",
       "  <thead>\n",
       "    <tr>\n",
       "      <th></th>\n",
       "      <th>symbol</th>\n",
       "      <th>pred_class</th>\n",
       "      <th colspan=\"2\" halign=\"left\">confidence</th>\n",
       "    </tr>\n",
       "    <tr>\n",
       "      <th></th>\n",
       "      <th></th>\n",
       "      <th></th>\n",
       "      <th>count</th>\n",
       "      <th>mean</th>\n",
       "    </tr>\n",
       "  </thead>\n",
       "  <tbody>\n",
       "    <tr>\n",
       "      <th>13</th>\n",
       "      <td>ALGN</td>\n",
       "      <td>4</td>\n",
       "      <td>28</td>\n",
       "      <td>0.97</td>\n",
       "    </tr>\n",
       "    <tr>\n",
       "      <th>44</th>\n",
       "      <td>CCOI</td>\n",
       "      <td>4</td>\n",
       "      <td>28</td>\n",
       "      <td>1.00</td>\n",
       "    </tr>\n",
       "    <tr>\n",
       "      <th>144</th>\n",
       "      <td>NKTR</td>\n",
       "      <td>4</td>\n",
       "      <td>27</td>\n",
       "      <td>0.95</td>\n",
       "    </tr>\n",
       "    <tr>\n",
       "      <th>69</th>\n",
       "      <td>EDU</td>\n",
       "      <td>4</td>\n",
       "      <td>26</td>\n",
       "      <td>0.83</td>\n",
       "    </tr>\n",
       "    <tr>\n",
       "      <th>184</th>\n",
       "      <td>SIVB</td>\n",
       "      <td>4</td>\n",
       "      <td>26</td>\n",
       "      <td>0.87</td>\n",
       "    </tr>\n",
       "    <tr>\n",
       "      <th>94</th>\n",
       "      <td>IPGP</td>\n",
       "      <td>4</td>\n",
       "      <td>25</td>\n",
       "      <td>0.89</td>\n",
       "    </tr>\n",
       "    <tr>\n",
       "      <th>214</th>\n",
       "      <td>WWE</td>\n",
       "      <td>4</td>\n",
       "      <td>24</td>\n",
       "      <td>0.85</td>\n",
       "    </tr>\n",
       "    <tr>\n",
       "      <th>72</th>\n",
       "      <td>ENSG</td>\n",
       "      <td>4</td>\n",
       "      <td>23</td>\n",
       "      <td>0.82</td>\n",
       "    </tr>\n",
       "    <tr>\n",
       "      <th>53</th>\n",
       "      <td>CI</td>\n",
       "      <td>4</td>\n",
       "      <td>22</td>\n",
       "      <td>0.79</td>\n",
       "    </tr>\n",
       "    <tr>\n",
       "      <th>40</th>\n",
       "      <td>CAR</td>\n",
       "      <td>4</td>\n",
       "      <td>21</td>\n",
       "      <td>0.86</td>\n",
       "    </tr>\n",
       "    <tr>\n",
       "      <th>1</th>\n",
       "      <td>0700.HK</td>\n",
       "      <td>4</td>\n",
       "      <td>20</td>\n",
       "      <td>0.89</td>\n",
       "    </tr>\n",
       "    <tr>\n",
       "      <th>17</th>\n",
       "      <td>AMD</td>\n",
       "      <td>4</td>\n",
       "      <td>20</td>\n",
       "      <td>0.72</td>\n",
       "    </tr>\n",
       "    <tr>\n",
       "      <th>132</th>\n",
       "      <td>MKSI</td>\n",
       "      <td>4</td>\n",
       "      <td>20</td>\n",
       "      <td>0.90</td>\n",
       "    </tr>\n",
       "    <tr>\n",
       "      <th>207</th>\n",
       "      <td>VG</td>\n",
       "      <td>4</td>\n",
       "      <td>20</td>\n",
       "      <td>0.84</td>\n",
       "    </tr>\n",
       "  </tbody>\n",
       "</table>\n",
       "</div>"
      ],
      "text/plain": [
       "      symbol pred_class confidence     \n",
       "                             count mean\n",
       "13      ALGN          4         28 0.97\n",
       "44      CCOI          4         28 1.00\n",
       "144     NKTR          4         27 0.95\n",
       "69       EDU          4         26 0.83\n",
       "184     SIVB          4         26 0.87\n",
       "94      IPGP          4         25 0.89\n",
       "214      WWE          4         24 0.85\n",
       "72      ENSG          4         23 0.82\n",
       "53        CI          4         22 0.79\n",
       "40       CAR          4         21 0.86\n",
       "1    0700.HK          4         20 0.89\n",
       "17       AMD          4         20 0.72\n",
       "132     MKSI          4         20 0.90\n",
       "207       VG          4         20 0.84"
      ]
     },
     "execution_count": 674,
     "metadata": {},
     "output_type": "execute_result"
    }
   ],
   "source": [
    "# historical recomendations for top predictions\n",
    "def get_most_frequent_preds(pred_df, study_dates, top_pred, pred_classes, treshold=0.6):\n",
    "    \"\"\" return most frequent predictions of a given class for a study period \"\"\"\n",
    "    \n",
    "    # print(f'Most frequent predictions as of {study_dates[-1]} for classes {pred_classes}')\n",
    "    last_xdays_pred = pred_df.loc[study_dates]\n",
    "    \n",
    "    last_xdays_pred = last_xdays_pred.loc[\n",
    "        last_xdays_pred.symbol.isin(list(top_pred.symbol)), \n",
    "        ['symbol', 'pred_class', 'confidence']\n",
    "    ].reset_index()\n",
    "\n",
    "    most_freq_df = last_xdays_pred.groupby(\n",
    "        by=['symbol', 'pred_class'])\\\n",
    "        .agg(['count', 'mean']).reset_index()\n",
    "    \n",
    "    return most_freq_df.loc[\n",
    "        most_freq_df['pred_class'].isin(pred_classes)\\\n",
    "        & (most_freq_df[('confidence','count')] > int(len(study_dates) * treshold))]\\\n",
    "        .sort_values(by=('confidence', 'count'), ascending=False)\n",
    "        \n",
    "most_freq_df = get_most_frequent_preds(pred_df, study_dates, top_pred, pred_classes, 0.6)\n",
    "top_pos = most_freq_df.head(nbr_positions)\n",
    "symbols = list(top_pos.symbol)\n",
    "print(f'{len(symbols)} Symbols: {symbols}')\n",
    "top_pos"
   ]
  },
  {
   "cell_type": "code",
   "execution_count": 675,
   "metadata": {
    "code_folding": [
     0
    ]
   },
   "outputs": [
    {
     "name": "stdout",
     "output_type": "stream",
     "text": [
      "Showing returns from Index([2019-02-21, 2019-05-16], dtype='object')\n",
      "Portfolio shape: (60, 15)\n"
     ]
    }
   ],
   "source": [
    "def stop_loss(df, long, max_loss):\n",
    "    truth_df = (df < 1 - max_loss) if long else (df > 1 + max_loss)\n",
    "    pos = truth_df[truth_df == True]\n",
    "    if len(pos): df.loc[pos.index[0]:] = df.loc[pos.index[0]]\n",
    "    return df\n",
    "\n",
    "idx = clean_co_px.index.get_loc(study_dates[-1])\n",
    "prices = clean_co_px.iloc[idx:idx+holding_period][symbols]\n",
    "port_index = get_ind_index(prices, tail=holding_period, name='PORT')\n",
    "\n",
    "if loss_protection:\n",
    "    port_index = port_index.iloc[:,:-1].apply(stop_loss, args=(long, max_loss)) # stop loss treatment\n",
    "    port_index = get_ind_index(port_index, tail=holding_period, name='PORT') # recalc portfolio return\n",
    "\n",
    "print(f'Showing returns from {clean_co_px.iloc[idx:idx+holding_period].index[[0,-1]]}')\n",
    "print(f'Portfolio shape: {port_index.shape}')"
   ]
  },
  {
   "cell_type": "code",
   "execution_count": 676,
   "metadata": {},
   "outputs": [
    {
     "data": {
      "text/plain": [
       "<matplotlib.axes._subplots.AxesSubplot at 0x169152be0>"
      ]
     },
     "execution_count": 676,
     "metadata": {},
     "output_type": "execute_result"
    },
    {
     "data": {
      "image/png": "[encoded data removed]",
      "text/plain": [
       "<Figure size 432x288 with 1 Axes>"
      ]
     },
     "metadata": {
      "needs_background": "light"
     },
     "output_type": "display_data"
    }
   ],
   "source": [
    "port_index.plot()"
   ]
  },
  {
   "cell_type": "code",
   "execution_count": 677,
   "metadata": {},
   "outputs": [
    {
     "data": {
      "image/png": "[encoded data removed]",
      "text/plain": [
       "<Figure size 432x288 with 1 Axes>"
      ]
     },
     "metadata": {
      "needs_background": "light"
     },
     "output_type": "display_data"
    },
    {
     "data": {
      "image/png": "[encoded data removed]",
      "text/plain": [
       "<Figure size 432x288 with 1 Axes>"
      ]
     },
     "metadata": {
      "needs_background": "light"
     },
     "output_type": "display_data"
    }
   ],
   "source": [
    "(port_index.iloc[-1] - 1).sort_values().plot.bar(title='Cumulative Return'); plt.show()\n",
    "(port_index.iloc[-1] - 1).plot.kde();"
   ]
  },
  {
   "cell_type": "code",
   "execution_count": 678,
   "metadata": {
    "scrolled": true
   },
   "outputs": [
    {
     "data": {
      "text/plain": [
       "count   15.00\n",
       "mean     1.03\n",
       "std      0.15\n",
       "min      0.78\n",
       "25%      0.94\n",
       "50%      1.03\n",
       "75%      1.13\n",
       "max      1.32\n",
       "Name: 2019-05-16 00:00:00, dtype: float64"
      ]
     },
     "execution_count": 678,
     "metadata": {},
     "output_type": "execute_result"
    }
   ],
   "source": [
    "# cumulative returns for a given portfolio\n",
    "port_index.iloc[-1].describe()"
   ]
  },
  {
   "cell_type": "code",
   "execution_count": 679,
   "metadata": {},
   "outputs": [],
   "source": [
    "# port_index"
   ]
  },
  {
   "cell_type": "markdown",
   "metadata": {},
   "source": [
    "#### Backtesting experiment, historical periods"
   ]
  },
  {
   "cell_type": "code",
   "execution_count": 680,
   "metadata": {
    "code_folding": []
   },
   "outputs": [],
   "source": [
    "# What are the best portfolios and how do they perform?\n",
    "super_list = []; symbol_list = []\n",
    "for as_of_date in list(range(as_of_date, -pred_df.index.unique().shape[0], -holding_period)):\n",
    "\n",
    "    top_pred = get_top_predictions(pred_df, as_of_date, min_confidence, max_class_rows)\n",
    "    study_dates = get_study_date_range(pred_df, as_of_date, study_period)\n",
    "    most_freq_df = get_most_frequent_preds(pred_df, study_dates, top_pred, pred_classes, 0.6)\n",
    "    top_pos = most_freq_df.head(nbr_positions)\n",
    "    symbols = list(top_pos.symbol)\n",
    "    \n",
    "    if len(symbols) > 3:\n",
    "        idx = clean_co_px.index.get_loc(study_dates[-1])\n",
    "        prices = clean_co_px.iloc[idx:idx+holding_period][symbols]\n",
    "        port_index = get_ind_index(prices, tail=holding_period, name='PORT')\n",
    "        \n",
    "        if loss_protection:\n",
    "            port_index = port_index.iloc[:,:-1].apply(stop_loss, args=(long, max_loss)) # stop loss treatment\n",
    "            port_index = get_ind_index(port_index, tail=holding_period, name='PORT') # recalc portfolio return\n",
    "        # print(f'Showing returns from {clean_co_px.iloc[idx:idx+holding_period].index[[0,-1]]}')\n",
    "        \n",
    "        exp = port_index.iloc[-1].describe()\n",
    "        exp['offset_start'] = as_of_date\n",
    "        exp['as_of_date'] = str(study_dates[-1])\n",
    "        exp['study_period'] = study_period\n",
    "        exp['end_date'] = str(port_index.index[-1])\n",
    "        symbol_list.append(symbols)\n",
    "        super_list.append(exp)\n",
    "        \n",
    "hist_ports = pd.concat(super_list, axis=1).T"
   ]
  },
  {
   "cell_type": "code",
   "execution_count": 687,
   "metadata": {},
   "outputs": [
    {
     "name": "stdout",
     "output_type": "stream",
     "text": [
      "Summary for 13 experiment LONG periods\n",
      "155 unique symbols\n"
     ]
    },
    {
     "data": {
      "image/png": "[encoded data removed]",
      "text/plain": [
       "<Figure size 432x288 with 1 Axes>"
      ]
     },
     "metadata": {
      "needs_background": "light"
     },
     "output_type": "display_data"
    },
    {
     "data": {
      "text/plain": [
       "sector                  industry                          \n",
       "Healthcare              Medical Instruments & Supplies        8\n",
       "                        Diagnostics & Research                7\n",
       "                        Health Care Plans                     7\n",
       "Consumer Cyclical       Specialty Retail                      6\n",
       "                        Footwear & Accessories                5\n",
       "                        Media - Diversified                   5\n",
       "Technology              Semiconductors                        5\n",
       "Healthcare              Biotechnology                         5\n",
       "Industrials             Airlines                              5\n",
       "Technology              Software - Application                4\n",
       "Industrials             Diversified Industrials               4\n",
       "Basic Materials         Specialty Chemicals                   4\n",
       "Communication Services  Telecom Services                      4\n",
       "Financial Services      Capital Markets                       4\n",
       "Industrials             Aerospace & Defense                   4\n",
       "                        Business Services                     4\n",
       "Financial Services      Credit Services                       4\n",
       "Technology              Internet Content & Information        4\n",
       "Consumer Cyclical       Restaurants                           3\n",
       "Technology              Scientific & Technical Instruments    3\n",
       "Name: address1, dtype: int64"
      ]
     },
     "execution_count": 687,
     "metadata": {},
     "output_type": "execute_result"
    }
   ],
   "source": [
    "print(f'Summary for {len(period_range)} experiment {\"LONG\" if long else \"SHORT\"} periods')\n",
    "unique_symbols = set(np.concatenate(symbol_list))\n",
    "print(f'{len(unique_symbols)} unique symbols')\n",
    "\n",
    "by_sect = profile.loc[unique_symbols].groupby(by=['sector']).count().iloc[:,0]\\\n",
    "      .sort_values()\n",
    "by_sect.plot.barh(title='Distribution by sector');\n",
    "plt.show()\n",
    "\n",
    "by_ind = profile.loc[unique_symbols].groupby(by=['sector', 'industry']).count().iloc[:,0]\\\n",
    "      .sort_values(ascending=False)\n",
    "by_ind.head(20)"
   ]
  },
  {
   "cell_type": "code",
   "execution_count": 688,
   "metadata": {},
   "outputs": [
    {
     "data": {
      "image/png": "[encoded data removed]",
      "text/plain": [
       "<Figure size 432x288 with 1 Axes>"
      ]
     },
     "metadata": {
      "needs_background": "light"
     },
     "output_type": "display_data"
    }
   ],
   "source": [
    "size_df = quotes.loc[unique_symbols, ['marketCap']] / 10**9\n",
    "size_df['size'] = discret_rets(size_df.marketCap, mkt_cap_cuts, mkt_cap_labels)\n",
    "size_df.groupby(by=['size']).count().iloc[:,0].sort_values(ascending=False).plot.barh(title='Distribution by size');"
   ]
  },
  {
   "cell_type": "code",
   "execution_count": 689,
   "metadata": {
    "code_folding": []
   },
   "outputs": [
    {
     "name": "stdout",
     "output_type": "stream",
     "text": [
      "Long CAGR: 0.92\n"
     ]
    },
    {
     "data": {
      "image/png": "[encoded data removed]",
      "text/plain": [
       "<Figure size 864x360 with 1 Axes>"
      ]
     },
     "metadata": {
      "needs_background": "light"
     },
     "output_type": "display_data"
    }
   ],
   "source": [
    "hist_ports.sort_index(inplace=True)\n",
    "years = (hist_ports.index[-1] - hist_ports.index[0]).days / 365\n",
    "if long:\n",
    "    mean_ret = pd.DataFrame()\n",
    "    mean_ret['long'] = hist_ports['mean'].sort_index()\n",
    "    mean_ret['long'].cumprod().plot(title='Cumulative long', figsize=(12,5));\n",
    "    print(f'Long CAGR: {round((mean_ret[\"long\"].cumprod().iloc[-1] ** (1/years) - 1), 2)}')\n",
    "else:\n",
    "    mean_ret['short'] = hist_ports['mean'].sort_index()\n",
    "    mean_ret['short'].cumprod().plot(title='Cumulative short', figsize=(12,5));\n",
    "    print(f'Short CAGR: {round((mean_ret[\"short\"].cumprod().iloc[-1] ** (1/years) - 1), 2)}')\n",
    "if 'long' in mean_ret.columns and 'short' in mean_ret.columns:\n",
    "    mean_ret['ls'] = (mean_ret['long'] - mean_ret['short'] + 1)\n",
    "    mean_ret.cumprod().plot(title='Long/Short', figsize=(12,5))          \n",
    "    print(f'L/S CAGR: {(mean_ret[\"ls\"].cumprod().iloc[-1] ** (1/years) - 1)}')"
   ]
  },
  {
   "cell_type": "code",
   "execution_count": 700,
   "metadata": {},
   "outputs": [
    {
     "data": {
      "text/plain": [
       "<matplotlib.axes._subplots.AxesSubplot at 0x18d5af780>"
      ]
     },
     "execution_count": 700,
     "metadata": {},
     "output_type": "execute_result"
    },
    {
     "data": {
      "image/png": "[encoded data removed]",
      "text/plain": [
       "<Figure size 864x360 with 1 Axes>"
      ]
     },
     "metadata": {
      "needs_background": "light"
     },
     "output_type": "display_data"
    }
   ],
   "source": [
    "(mean_ret-1).plot(title=f'{holding_period} trading day interval returns', kind='barh', figsize=(12,5))"
   ]
  },
  {
   "cell_type": "code",
   "execution_count": 701,
   "metadata": {
    "code_folding": [
     0
    ]
   },
   "outputs": [],
   "source": [
    "def calc_monthly_ret(l_w, mean_ret):\n",
    "    monthly_ret = (\n",
    "        (mean_ret['long'] - 1).mul(l_w) - \n",
    "        (mean_ret['short'] - 1).mul(1 - l_w) + 1)\n",
    "    mix_df = monthly_ret.infer_objects().describe()\n",
    "    mix_df['l'] = l_w\n",
    "    mix_df['s'] = 1 - l_w\n",
    "    return monthly_ret, mix_df"
   ]
  },
  {
   "cell_type": "code",
   "execution_count": 702,
   "metadata": {
    "code_folding": [
     0
    ]
   },
   "outputs": [],
   "source": [
    "# optimal L/S mix\n",
    "super_list = []\n",
    "series = np.arange(0.4, 1.2, 0.05)\n",
    "if 'short' in mean_ret.columns:\n",
    "    for l_w in series:\n",
    "        monthly_ret, mix_df = calc_monthly_ret(l_w, mean_ret)\n",
    "        super_list.append(mix_df)\n",
    "        monthly_ret.cumprod().plot()\n",
    "    scenarios = pd.concat(super_list, axis=1).T\n",
    "    opt_wgt = series[np.argmax(((scenarios['mean'] - 1) / scenarios['std']))]\n",
    "    \n",
    "    # expected long-term return at optimal L/S mix\n",
    "    monthly_ret, _ = calc_monthly_ret(opt_wgt, mean_ret)\n",
    "    print(f'Expected return = {round(monthly_ret.cumprod().iloc[-1] ** (1/years) - 1, 2)*100}% at {round(opt_wgt, 2)} long {round(1 - opt_wgt, 2)} short')\n",
    "    monthly_ret.cumprod().plot();"
   ]
  },
  {
   "cell_type": "code",
   "execution_count": 703,
   "metadata": {},
   "outputs": [
    {
     "data": {
      "text/plain": [
       "count   12.00\n",
       "mean     1.15\n",
       "std      0.07\n",
       "min      1.03\n",
       "25%      1.13\n",
       "50%      1.17\n",
       "75%      1.19\n",
       "max      1.24\n",
       "Name: mean, dtype: float64"
      ]
     },
     "execution_count": 703,
     "metadata": {},
     "output_type": "execute_result"
    }
   ],
   "source": [
    "hist_ports.infer_objects()['mean'].describe()"
   ]
  },
  {
   "cell_type": "code",
   "execution_count": 704,
   "metadata": {},
   "outputs": [
    {
     "data": {
      "text/html": [
       "<div>\n",
       "<style scoped>\n",
       "    .dataframe tbody tr th:only-of-type {\n",
       "        vertical-align: middle;\n",
       "    }\n",
       "\n",
       "    .dataframe tbody tr th {\n",
       "        vertical-align: top;\n",
       "    }\n",
       "\n",
       "    .dataframe thead th {\n",
       "        text-align: right;\n",
       "    }\n",
       "</style>\n",
       "<table border=\"1\" class=\"dataframe\">\n",
       "  <thead>\n",
       "    <tr style=\"text-align: right;\">\n",
       "      <th></th>\n",
       "      <th>count</th>\n",
       "      <th>mean</th>\n",
       "      <th>std</th>\n",
       "      <th>min</th>\n",
       "      <th>25%</th>\n",
       "      <th>50%</th>\n",
       "      <th>75%</th>\n",
       "      <th>max</th>\n",
       "      <th>offset_start</th>\n",
       "      <th>study_period</th>\n",
       "    </tr>\n",
       "  </thead>\n",
       "  <tbody>\n",
       "    <tr>\n",
       "      <th>count</th>\n",
       "      <td>12.00</td>\n",
       "      <td>12.00</td>\n",
       "      <td>12.00</td>\n",
       "      <td>12.00</td>\n",
       "      <td>12.00</td>\n",
       "      <td>12.00</td>\n",
       "      <td>12.00</td>\n",
       "      <td>12.00</td>\n",
       "      <td>12.00</td>\n",
       "      <td>12.00</td>\n",
       "    </tr>\n",
       "    <tr>\n",
       "      <th>mean</th>\n",
       "      <td>27.08</td>\n",
       "      <td>1.15</td>\n",
       "      <td>0.14</td>\n",
       "      <td>0.92</td>\n",
       "      <td>1.07</td>\n",
       "      <td>1.13</td>\n",
       "      <td>1.21</td>\n",
       "      <td>1.56</td>\n",
       "      <td>-390.00</td>\n",
       "      <td>-30.00</td>\n",
       "    </tr>\n",
       "    <tr>\n",
       "      <th>std</th>\n",
       "      <td>11.09</td>\n",
       "      <td>0.07</td>\n",
       "      <td>0.05</td>\n",
       "      <td>0.08</td>\n",
       "      <td>0.08</td>\n",
       "      <td>0.06</td>\n",
       "      <td>0.06</td>\n",
       "      <td>0.33</td>\n",
       "      <td>216.33</td>\n",
       "      <td>0.00</td>\n",
       "    </tr>\n",
       "    <tr>\n",
       "      <th>min</th>\n",
       "      <td>5.00</td>\n",
       "      <td>1.03</td>\n",
       "      <td>0.09</td>\n",
       "      <td>0.78</td>\n",
       "      <td>0.91</td>\n",
       "      <td>1.03</td>\n",
       "      <td>1.08</td>\n",
       "      <td>1.23</td>\n",
       "      <td>-720.00</td>\n",
       "      <td>-30.00</td>\n",
       "    </tr>\n",
       "    <tr>\n",
       "      <th>25%</th>\n",
       "      <td>21.00</td>\n",
       "      <td>1.13</td>\n",
       "      <td>0.11</td>\n",
       "      <td>0.86</td>\n",
       "      <td>1.05</td>\n",
       "      <td>1.11</td>\n",
       "      <td>1.18</td>\n",
       "      <td>1.39</td>\n",
       "      <td>-555.00</td>\n",
       "      <td>-30.00</td>\n",
       "    </tr>\n",
       "    <tr>\n",
       "      <th>50%</th>\n",
       "      <td>31.50</td>\n",
       "      <td>1.17</td>\n",
       "      <td>0.14</td>\n",
       "      <td>0.94</td>\n",
       "      <td>1.09</td>\n",
       "      <td>1.15</td>\n",
       "      <td>1.22</td>\n",
       "      <td>1.45</td>\n",
       "      <td>-390.00</td>\n",
       "      <td>-30.00</td>\n",
       "    </tr>\n",
       "    <tr>\n",
       "      <th>75%</th>\n",
       "      <td>34.50</td>\n",
       "      <td>1.19</td>\n",
       "      <td>0.16</td>\n",
       "      <td>0.98</td>\n",
       "      <td>1.12</td>\n",
       "      <td>1.17</td>\n",
       "      <td>1.24</td>\n",
       "      <td>1.64</td>\n",
       "      <td>-225.00</td>\n",
       "      <td>-30.00</td>\n",
       "    </tr>\n",
       "    <tr>\n",
       "      <th>max</th>\n",
       "      <td>41.00</td>\n",
       "      <td>1.24</td>\n",
       "      <td>0.26</td>\n",
       "      <td>1.02</td>\n",
       "      <td>1.15</td>\n",
       "      <td>1.19</td>\n",
       "      <td>1.32</td>\n",
       "      <td>2.51</td>\n",
       "      <td>-60.00</td>\n",
       "      <td>-30.00</td>\n",
       "    </tr>\n",
       "  </tbody>\n",
       "</table>\n",
       "</div>"
      ],
      "text/plain": [
       "       count  mean   std   min   25%   50%   75%   max  offset_start  \\\n",
       "count  12.00 12.00 12.00 12.00 12.00 12.00 12.00 12.00         12.00   \n",
       "mean   27.08  1.15  0.14  0.92  1.07  1.13  1.21  1.56       -390.00   \n",
       "std    11.09  0.07  0.05  0.08  0.08  0.06  0.06  0.33        216.33   \n",
       "min     5.00  1.03  0.09  0.78  0.91  1.03  1.08  1.23       -720.00   \n",
       "25%    21.00  1.13  0.11  0.86  1.05  1.11  1.18  1.39       -555.00   \n",
       "50%    31.50  1.17  0.14  0.94  1.09  1.15  1.22  1.45       -390.00   \n",
       "75%    34.50  1.19  0.16  0.98  1.12  1.17  1.24  1.64       -225.00   \n",
       "max    41.00  1.24  0.26  1.02  1.15  1.19  1.32  2.51        -60.00   \n",
       "\n",
       "       study_period  \n",
       "count         12.00  \n",
       "mean         -30.00  \n",
       "std            0.00  \n",
       "min          -30.00  \n",
       "25%          -30.00  \n",
       "50%          -30.00  \n",
       "75%          -30.00  \n",
       "max          -30.00  "
      ]
     },
     "execution_count": 704,
     "metadata": {},
     "output_type": "execute_result"
    }
   ],
   "source": [
    "hist_ports.infer_objects().describe()"
   ]
  },
  {
   "cell_type": "code",
   "execution_count": 705,
   "metadata": {},
   "outputs": [
    {
     "data": {
      "text/html": [
       "<div>\n",
       "<style scoped>\n",
       "    .dataframe tbody tr th:only-of-type {\n",
       "        vertical-align: middle;\n",
       "    }\n",
       "\n",
       "    .dataframe tbody tr th {\n",
       "        vertical-align: top;\n",
       "    }\n",
       "\n",
       "    .dataframe thead th {\n",
       "        text-align: right;\n",
       "    }\n",
       "</style>\n",
       "<table border=\"1\" class=\"dataframe\">\n",
       "  <thead>\n",
       "    <tr style=\"text-align: right;\">\n",
       "      <th></th>\n",
       "      <th>count</th>\n",
       "      <th>mean</th>\n",
       "      <th>std</th>\n",
       "      <th>min</th>\n",
       "      <th>25%</th>\n",
       "      <th>50%</th>\n",
       "      <th>75%</th>\n",
       "      <th>max</th>\n",
       "      <th>offset_start</th>\n",
       "      <th>as_of_date</th>\n",
       "      <th>study_period</th>\n",
       "      <th>end_date</th>\n",
       "    </tr>\n",
       "  </thead>\n",
       "  <tbody>\n",
       "    <tr>\n",
       "      <th>2016-10-21</th>\n",
       "      <td>27.00</td>\n",
       "      <td>1.08</td>\n",
       "      <td>0.10</td>\n",
       "      <td>0.94</td>\n",
       "      <td>1.02</td>\n",
       "      <td>1.06</td>\n",
       "      <td>1.14</td>\n",
       "      <td>1.40</td>\n",
       "      <td>-720.00</td>\n",
       "      <td>2016-07-29</td>\n",
       "      <td>-30</td>\n",
       "      <td>2016-10-21 00:00:00</td>\n",
       "    </tr>\n",
       "    <tr>\n",
       "      <th>2017-01-18</th>\n",
       "      <td>31.00</td>\n",
       "      <td>1.18</td>\n",
       "      <td>0.09</td>\n",
       "      <td>1.02</td>\n",
       "      <td>1.12</td>\n",
       "      <td>1.17</td>\n",
       "      <td>1.24</td>\n",
       "      <td>1.35</td>\n",
       "      <td>-660.00</td>\n",
       "      <td>2016-10-21</td>\n",
       "      <td>-30</td>\n",
       "      <td>2017-01-18 00:00:00</td>\n",
       "    </tr>\n",
       "    <tr>\n",
       "      <th>2017-04-11</th>\n",
       "      <td>41.00</td>\n",
       "      <td>1.16</td>\n",
       "      <td>0.09</td>\n",
       "      <td>0.99</td>\n",
       "      <td>1.12</td>\n",
       "      <td>1.15</td>\n",
       "      <td>1.20</td>\n",
       "      <td>1.40</td>\n",
       "      <td>-600.00</td>\n",
       "      <td>2017-01-17</td>\n",
       "      <td>-30</td>\n",
       "      <td>2017-04-11 00:00:00</td>\n",
       "    </tr>\n",
       "    <tr>\n",
       "      <th>2017-07-06</th>\n",
       "      <td>36.00</td>\n",
       "      <td>1.15</td>\n",
       "      <td>0.11</td>\n",
       "      <td>0.98</td>\n",
       "      <td>1.07</td>\n",
       "      <td>1.13</td>\n",
       "      <td>1.20</td>\n",
       "      <td>1.46</td>\n",
       "      <td>-540.00</td>\n",
       "      <td>2017-04-11</td>\n",
       "      <td>-30</td>\n",
       "      <td>2017-07-06 00:00:00</td>\n",
       "    </tr>\n",
       "    <tr>\n",
       "      <th>2017-09-27</th>\n",
       "      <td>33.00</td>\n",
       "      <td>1.17</td>\n",
       "      <td>0.13</td>\n",
       "      <td>0.86</td>\n",
       "      <td>1.08</td>\n",
       "      <td>1.17</td>\n",
       "      <td>1.24</td>\n",
       "      <td>1.61</td>\n",
       "      <td>-480.00</td>\n",
       "      <td>2017-07-05</td>\n",
       "      <td>-30</td>\n",
       "      <td>2017-09-27 00:00:00</td>\n",
       "    </tr>\n",
       "    <tr>\n",
       "      <th>2017-12-20</th>\n",
       "      <td>32.00</td>\n",
       "      <td>1.23</td>\n",
       "      <td>0.26</td>\n",
       "      <td>1.01</td>\n",
       "      <td>1.12</td>\n",
       "      <td>1.18</td>\n",
       "      <td>1.25</td>\n",
       "      <td>2.51</td>\n",
       "      <td>-420.00</td>\n",
       "      <td>2017-09-27</td>\n",
       "      <td>-30</td>\n",
       "      <td>2017-12-20 00:00:00</td>\n",
       "    </tr>\n",
       "    <tr>\n",
       "      <th>2018-03-19</th>\n",
       "      <td>34.00</td>\n",
       "      <td>1.17</td>\n",
       "      <td>0.14</td>\n",
       "      <td>0.95</td>\n",
       "      <td>1.07</td>\n",
       "      <td>1.15</td>\n",
       "      <td>1.25</td>\n",
       "      <td>1.66</td>\n",
       "      <td>-360.00</td>\n",
       "      <td>2017-12-20</td>\n",
       "      <td>-30</td>\n",
       "      <td>2018-03-19 00:00:00</td>\n",
       "    </tr>\n",
       "    <tr>\n",
       "      <th>2018-06-12</th>\n",
       "      <td>36.00</td>\n",
       "      <td>1.24</td>\n",
       "      <td>0.19</td>\n",
       "      <td>0.85</td>\n",
       "      <td>1.13</td>\n",
       "      <td>1.18</td>\n",
       "      <td>1.32</td>\n",
       "      <td>1.75</td>\n",
       "      <td>-300.00</td>\n",
       "      <td>2018-03-19</td>\n",
       "      <td>-30</td>\n",
       "      <td>2018-06-12 00:00:00</td>\n",
       "    </tr>\n",
       "    <tr>\n",
       "      <th>2018-09-05</th>\n",
       "      <td>12.00</td>\n",
       "      <td>1.20</td>\n",
       "      <td>0.16</td>\n",
       "      <td>0.85</td>\n",
       "      <td>1.15</td>\n",
       "      <td>1.19</td>\n",
       "      <td>1.24</td>\n",
       "      <td>1.44</td>\n",
       "      <td>-240.00</td>\n",
       "      <td>2018-06-12</td>\n",
       "      <td>-30</td>\n",
       "      <td>2018-09-05 00:00:00</td>\n",
       "    </tr>\n",
       "    <tr>\n",
       "      <th>2018-11-27</th>\n",
       "      <td>5.00</td>\n",
       "      <td>1.03</td>\n",
       "      <td>0.14</td>\n",
       "      <td>0.89</td>\n",
       "      <td>0.91</td>\n",
       "      <td>1.03</td>\n",
       "      <td>1.08</td>\n",
       "      <td>1.23</td>\n",
       "      <td>-180.00</td>\n",
       "      <td>2018-09-04</td>\n",
       "      <td>-30</td>\n",
       "      <td>2018-11-27 00:00:00</td>\n",
       "    </tr>\n",
       "    <tr>\n",
       "      <th>2019-02-25</th>\n",
       "      <td>23.00</td>\n",
       "      <td>1.18</td>\n",
       "      <td>0.16</td>\n",
       "      <td>0.94</td>\n",
       "      <td>1.10</td>\n",
       "      <td>1.14</td>\n",
       "      <td>1.20</td>\n",
       "      <td>1.64</td>\n",
       "      <td>-120.00</td>\n",
       "      <td>2018-11-27</td>\n",
       "      <td>-30</td>\n",
       "      <td>2019-02-25 00:00:00</td>\n",
       "    </tr>\n",
       "    <tr>\n",
       "      <th>2019-05-16</th>\n",
       "      <td>15.00</td>\n",
       "      <td>1.03</td>\n",
       "      <td>0.15</td>\n",
       "      <td>0.78</td>\n",
       "      <td>0.94</td>\n",
       "      <td>1.03</td>\n",
       "      <td>1.13</td>\n",
       "      <td>1.32</td>\n",
       "      <td>-60.00</td>\n",
       "      <td>2019-02-21</td>\n",
       "      <td>-30</td>\n",
       "      <td>2019-05-16 00:00:00</td>\n",
       "    </tr>\n",
       "  </tbody>\n",
       "</table>\n",
       "</div>"
      ],
      "text/plain": [
       "           count mean  std  min  25%  50%  75%  max offset_start  as_of_date  \\\n",
       "2016-10-21 27.00 1.08 0.10 0.94 1.02 1.06 1.14 1.40      -720.00  2016-07-29   \n",
       "2017-01-18 31.00 1.18 0.09 1.02 1.12 1.17 1.24 1.35      -660.00  2016-10-21   \n",
       "2017-04-11 41.00 1.16 0.09 0.99 1.12 1.15 1.20 1.40      -600.00  2017-01-17   \n",
       "2017-07-06 36.00 1.15 0.11 0.98 1.07 1.13 1.20 1.46      -540.00  2017-04-11   \n",
       "2017-09-27 33.00 1.17 0.13 0.86 1.08 1.17 1.24 1.61      -480.00  2017-07-05   \n",
       "2017-12-20 32.00 1.23 0.26 1.01 1.12 1.18 1.25 2.51      -420.00  2017-09-27   \n",
       "2018-03-19 34.00 1.17 0.14 0.95 1.07 1.15 1.25 1.66      -360.00  2017-12-20   \n",
       "2018-06-12 36.00 1.24 0.19 0.85 1.13 1.18 1.32 1.75      -300.00  2018-03-19   \n",
       "2018-09-05 12.00 1.20 0.16 0.85 1.15 1.19 1.24 1.44      -240.00  2018-06-12   \n",
       "2018-11-27  5.00 1.03 0.14 0.89 0.91 1.03 1.08 1.23      -180.00  2018-09-04   \n",
       "2019-02-25 23.00 1.18 0.16 0.94 1.10 1.14 1.20 1.64      -120.00  2018-11-27   \n",
       "2019-05-16 15.00 1.03 0.15 0.78 0.94 1.03 1.13 1.32       -60.00  2019-02-21   \n",
       "\n",
       "           study_period             end_date  \n",
       "2016-10-21          -30  2016-10-21 00:00:00  \n",
       "2017-01-18          -30  2017-01-18 00:00:00  \n",
       "2017-04-11          -30  2017-04-11 00:00:00  \n",
       "2017-07-06          -30  2017-07-06 00:00:00  \n",
       "2017-09-27          -30  2017-09-27 00:00:00  \n",
       "2017-12-20          -30  2017-12-20 00:00:00  \n",
       "2018-03-19          -30  2018-03-19 00:00:00  \n",
       "2018-06-12          -30  2018-06-12 00:00:00  \n",
       "2018-09-05          -30  2018-09-05 00:00:00  \n",
       "2018-11-27          -30  2018-11-27 00:00:00  \n",
       "2019-02-25          -30  2019-02-25 00:00:00  \n",
       "2019-05-16          -30  2019-05-16 00:00:00  "
      ]
     },
     "execution_count": 705,
     "metadata": {},
     "output_type": "execute_result"
    }
   ],
   "source": [
    "hist_ports.sort_values(by='offset_start')"
   ]
  },
  {
   "cell_type": "markdown",
   "metadata": {},
   "source": [
    "### Other experiments"
   ]
  },
  {
   "cell_type": "markdown",
   "metadata": {
    "heading_collapsed": true
   },
   "source": [
    "#### Visualize forward looking returns"
   ]
  },
  {
   "cell_type": "code",
   "execution_count": 103,
   "metadata": {
    "hidden": true
   },
   "outputs": [
    {
     "data": {
      "text/plain": [
       "<matplotlib.axes._subplots.AxesSubplot at 0x14b57acf8>"
      ]
     },
     "execution_count": 103,
     "metadata": {},
     "output_type": "execute_result"
    },
    {
     "data": {
      "image/png": "[encoded data removed]",
      "text/plain": [
       "<Figure size 864x360 with 2 Axes>"
      ]
     },
     "metadata": {
      "needs_background": "light"
     },
     "output_type": "display_data"
    }
   ],
   "source": [
    "\"\"\"\n",
    "An approach to forward looking returns, \n",
    "is it one period, an average of multiple periods, more recent, less recent?\n",
    "\"\"\"\n",
    "look_ahead = 120; smooth = int(look_ahead/4); s = 'MCK'\n",
    "df = pd.DataFrame(px_fwd_ret(clean_co_px[s], look_ahead, smooth))\n",
    "df['neg_mean'] = df[s].loc[df[s]<0].mean()\n",
    "df['pos_mean'] = df[s].loc[df[s]>0].mean()\n",
    "df['price'] = clean_co_px[s]\n",
    "df.plot(figsize=(12,5), secondary_y='price')"
   ]
  },
  {
   "cell_type": "code",
   "execution_count": 12,
   "metadata": {
    "hidden": true
   },
   "outputs": [],
   "source": [
    "# try with full universe\n",
    "look_ahead = context['look_ahead']\n",
    "Y = clean_co_px.apply(px_fwd_ret, args=(look_ahead, int(look_ahead/4)))\n",
    "Y = Y[~(Y.isna().all(1))]"
   ]
  },
  {
   "cell_type": "code",
   "execution_count": null,
   "metadata": {
    "hidden": true
   },
   "outputs": [],
   "source": [
    "Y.describe().T.sort_values(by='max')"
   ]
  },
  {
   "cell_type": "code",
   "execution_count": 15,
   "metadata": {
    "hidden": true
   },
   "outputs": [
    {
     "data": {
      "text/plain": [
       "<matplotlib.axes._subplots.AxesSubplot at 0x14c9cab70>"
      ]
     },
     "execution_count": 15,
     "metadata": {},
     "output_type": "execute_result"
    },
    {
     "data": {
      "image/png": "[encoded data removed]",
      "text/plain": [
       "<Figure size 432x288 with 1 Axes>"
      ]
     },
     "metadata": {
      "needs_background": "light"
     },
     "output_type": "display_data"
    }
   ],
   "source": [
    "Y.iloc[:, :].dropna(axis=1).mean(axis=1).plot(ylim=(-1, 1), legend=False)"
   ]
  },
  {
   "cell_type": "markdown",
   "metadata": {
    "heading_collapsed": true
   },
   "source": [
    "#### Train universe on long-term winners"
   ]
  },
  {
   "cell_type": "code",
   "execution_count": 239,
   "metadata": {
    "hidden": true
   },
   "outputs": [],
   "source": [
    "mkt_cap_cuts = [0, 0.3, 2, 10, 300, 5000]\n",
    "mkt_cap_labels = ['micro', 'small', 'mid', 'large', 'mega']"
   ]
  },
  {
   "cell_type": "code",
   "execution_count": 282,
   "metadata": {
    "hidden": true
   },
   "outputs": [
    {
     "name": "stdout",
     "output_type": "stream",
     "text": [
      "236 companies\n"
     ]
    }
   ],
   "source": [
    "hist_return = best_performers(clean_co_px, tickers, years=10, quantile=0.75)\n",
    "print(f'{len(hist_return.index)} companies')\n",
    "desc_df = pd.concat([\n",
    "    profile.loc[hist_return.index, ['sector', 'industry', 'country',]],\n",
    "    quotes.loc[hist_return.index, ['shortName', 'marketCap']]], axis=1)\n",
    "desc_df.loc[:, 'marketCap'] = desc_df.marketCap / 10**9\n",
    "desc_df.loc[:, 'size'] = discret_rets(desc_df.marketCap, mkt_cap_cuts, mkt_cap_labels)\n",
    "\n",
    "hist_return = pd.concat([hist_return, desc_df], axis=1, sort=False)"
   ]
  },
  {
   "cell_type": "code",
   "execution_count": 283,
   "metadata": {
    "hidden": true
   },
   "outputs": [
    {
     "data": {
      "image/png": "[encoded data removed]",
      "text/plain": [
       "<Figure size 432x288 with 1 Axes>"
      ]
     },
     "metadata": {
      "needs_background": "light"
     },
     "output_type": "display_data"
    },
    {
     "data": {
      "text/plain": [
       "industry\n",
       "Software - Application            15\n",
       "Business Services                 10\n",
       "Semiconductors                     9\n",
       "Diversified Industrials            9\n",
       "Medical Instruments & Supplies     8\n",
       "Diagnostics & Research             8\n",
       "Internet Content & Information     7\n",
       "Health Care Plans                  7\n",
       "Biotechnology                      6\n",
       "Airlines                           6\n",
       "Name: sector, dtype: int64"
      ]
     },
     "execution_count": 283,
     "metadata": {},
     "output_type": "execute_result"
    }
   ],
   "source": [
    "by_sect = desc_df.groupby(by=['sector']).count().iloc[:,0].sort_values(ascending=False)\n",
    "by_sect.plot.barh(title='Distribution by sector');\n",
    "plt.show()\n",
    "\n",
    "by_ind = desc_df.groupby(by=['industry']).count().iloc[:,0].sort_values(ascending=False)\n",
    "by_ind.head(10)"
   ]
  },
  {
   "cell_type": "code",
   "execution_count": 284,
   "metadata": {
    "hidden": true
   },
   "outputs": [
    {
     "data": {
      "image/png": "[encoded data removed]",
      "text/plain": [
       "<Figure size 432x288 with 1 Axes>"
      ]
     },
     "metadata": {
      "needs_background": "light"
     },
     "output_type": "display_data"
    }
   ],
   "source": [
    "desc_df.groupby(by=['size']).count().iloc[:,0].sort_values(ascending=False).plot.barh(title='Distribution by size');"
   ]
  },
  {
   "cell_type": "code",
   "execution_count": 293,
   "metadata": {
    "hidden": true
   },
   "outputs": [
    {
     "data": {
      "text/html": [
       "<div>\n",
       "<style scoped>\n",
       "    .dataframe tbody tr th:only-of-type {\n",
       "        vertical-align: middle;\n",
       "    }\n",
       "\n",
       "    .dataframe tbody tr th {\n",
       "        vertical-align: top;\n",
       "    }\n",
       "\n",
       "    .dataframe thead tr th {\n",
       "        text-align: left;\n",
       "    }\n",
       "\n",
       "    .dataframe thead tr:last-of-type th {\n",
       "        text-align: right;\n",
       "    }\n",
       "</style>\n",
       "<table border=\"1\" class=\"dataframe\">\n",
       "  <thead>\n",
       "    <tr>\n",
       "      <th></th>\n",
       "      <th colspan=\"2\" halign=\"left\">totalReturn</th>\n",
       "      <th colspan=\"2\" halign=\"left\">marketCap</th>\n",
       "    </tr>\n",
       "    <tr>\n",
       "      <th></th>\n",
       "      <th>count</th>\n",
       "      <th>mean</th>\n",
       "      <th>count</th>\n",
       "      <th>mean</th>\n",
       "    </tr>\n",
       "    <tr>\n",
       "      <th>sector</th>\n",
       "      <th></th>\n",
       "      <th></th>\n",
       "      <th></th>\n",
       "      <th></th>\n",
       "    </tr>\n",
       "  </thead>\n",
       "  <tbody>\n",
       "    <tr>\n",
       "      <th>Technology</th>\n",
       "      <td>56</td>\n",
       "      <td>16.06</td>\n",
       "      <td>56</td>\n",
       "      <td>145.70</td>\n",
       "    </tr>\n",
       "    <tr>\n",
       "      <th>Consumer Cyclical</th>\n",
       "      <td>50</td>\n",
       "      <td>10.81</td>\n",
       "      <td>50</td>\n",
       "      <td>50.10</td>\n",
       "    </tr>\n",
       "    <tr>\n",
       "      <th>Communication Services</th>\n",
       "      <td>5</td>\n",
       "      <td>10.44</td>\n",
       "      <td>5</td>\n",
       "      <td>63.25</td>\n",
       "    </tr>\n",
       "    <tr>\n",
       "      <th>Healthcare</th>\n",
       "      <td>34</td>\n",
       "      <td>9.22</td>\n",
       "      <td>34</td>\n",
       "      <td>29.54</td>\n",
       "    </tr>\n",
       "    <tr>\n",
       "      <th>Industrials</th>\n",
       "      <td>44</td>\n",
       "      <td>8.51</td>\n",
       "      <td>44</td>\n",
       "      <td>25.06</td>\n",
       "    </tr>\n",
       "    <tr>\n",
       "      <th>Basic Materials</th>\n",
       "      <td>10</td>\n",
       "      <td>8.44</td>\n",
       "      <td>10</td>\n",
       "      <td>6.81</td>\n",
       "    </tr>\n",
       "    <tr>\n",
       "      <th>Consumer Defensive</th>\n",
       "      <td>9</td>\n",
       "      <td>8.22</td>\n",
       "      <td>9</td>\n",
       "      <td>25.25</td>\n",
       "    </tr>\n",
       "    <tr>\n",
       "      <th>Financial Services</th>\n",
       "      <td>19</td>\n",
       "      <td>7.75</td>\n",
       "      <td>19</td>\n",
       "      <td>49.33</td>\n",
       "    </tr>\n",
       "    <tr>\n",
       "      <th>Real Estate</th>\n",
       "      <td>6</td>\n",
       "      <td>7.53</td>\n",
       "      <td>6</td>\n",
       "      <td>22.73</td>\n",
       "    </tr>\n",
       "    <tr>\n",
       "      <th>Utilities</th>\n",
       "      <td>2</td>\n",
       "      <td>5.47</td>\n",
       "      <td>2</td>\n",
       "      <td>15.39</td>\n",
       "    </tr>\n",
       "    <tr>\n",
       "      <th>Energy</th>\n",
       "      <td>1</td>\n",
       "      <td>5.14</td>\n",
       "      <td>1</td>\n",
       "      <td>25.98</td>\n",
       "    </tr>\n",
       "  </tbody>\n",
       "</table>\n",
       "</div>"
      ],
      "text/plain": [
       "                       totalReturn       marketCap       \n",
       "                             count  mean     count   mean\n",
       "sector                                                   \n",
       "Technology                      56 16.06        56 145.70\n",
       "Consumer Cyclical               50 10.81        50  50.10\n",
       "Communication Services           5 10.44         5  63.25\n",
       "Healthcare                      34  9.22        34  29.54\n",
       "Industrials                     44  8.51        44  25.06\n",
       "Basic Materials                 10  8.44        10   6.81\n",
       "Consumer Defensive               9  8.22         9  25.25\n",
       "Financial Services              19  7.75        19  49.33\n",
       "Real Estate                      6  7.53         6  22.73\n",
       "Utilities                        2  5.47         2  15.39\n",
       "Energy                           1  5.14         1  25.98"
      ]
     },
     "execution_count": 293,
     "metadata": {},
     "output_type": "execute_result"
    }
   ],
   "source": [
    "group_winners = hist_return.groupby(by=['sector']).agg(['count', 'mean'])\n",
    "group_winners[['totalReturn', 'marketCap']]\\\n",
    "    .sort_values(by=('totalReturn','mean'), ascending=False)\\\n",
    "    .dropna()"
   ]
  },
  {
   "cell_type": "code",
   "execution_count": 316,
   "metadata": {
    "hidden": true
   },
   "outputs": [
    {
     "data": {
      "text/html": [
       "<div>\n",
       "<style scoped>\n",
       "    .dataframe tbody tr th:only-of-type {\n",
       "        vertical-align: middle;\n",
       "    }\n",
       "\n",
       "    .dataframe tbody tr th {\n",
       "        vertical-align: top;\n",
       "    }\n",
       "\n",
       "    .dataframe thead tr th {\n",
       "        text-align: left;\n",
       "    }\n",
       "\n",
       "    .dataframe thead tr:last-of-type th {\n",
       "        text-align: right;\n",
       "    }\n",
       "</style>\n",
       "<table border=\"1\" class=\"dataframe\">\n",
       "  <thead>\n",
       "    <tr>\n",
       "      <th></th>\n",
       "      <th></th>\n",
       "      <th></th>\n",
       "      <th colspan=\"2\" halign=\"left\">totalReturn</th>\n",
       "      <th colspan=\"2\" halign=\"left\">marketCap</th>\n",
       "    </tr>\n",
       "    <tr>\n",
       "      <th></th>\n",
       "      <th></th>\n",
       "      <th></th>\n",
       "      <th>count</th>\n",
       "      <th>mean</th>\n",
       "      <th>count</th>\n",
       "      <th>mean</th>\n",
       "    </tr>\n",
       "    <tr>\n",
       "      <th>sector</th>\n",
       "      <th>industry</th>\n",
       "      <th>shortName</th>\n",
       "      <th></th>\n",
       "      <th></th>\n",
       "      <th></th>\n",
       "      <th></th>\n",
       "    </tr>\n",
       "  </thead>\n",
       "  <tbody>\n",
       "    <tr>\n",
       "      <th>Technology</th>\n",
       "      <th>Software - Infrastructure</th>\n",
       "      <th>CyberArk Software Ltd.</th>\n",
       "      <td>1</td>\n",
       "      <td>428.37</td>\n",
       "      <td>1</td>\n",
       "      <td>4.79</td>\n",
       "    </tr>\n",
       "    <tr>\n",
       "      <th rowspan=\"3\" valign=\"top\">Consumer Cyclical</th>\n",
       "      <th>Media - Diversified</th>\n",
       "      <th>Netflix, Inc.</th>\n",
       "      <td>1</td>\n",
       "      <td>64.90</td>\n",
       "      <td>1</td>\n",
       "      <td>154.97</td>\n",
       "    </tr>\n",
       "    <tr>\n",
       "      <th>Specialty Retail</th>\n",
       "      <th>Ulta Beauty, Inc.</th>\n",
       "      <td>1</td>\n",
       "      <td>39.96</td>\n",
       "      <td>1</td>\n",
       "      <td>20.12</td>\n",
       "    </tr>\n",
       "    <tr>\n",
       "      <th>Restaurants</th>\n",
       "      <th>Domino's Pizza Inc</th>\n",
       "      <td>1</td>\n",
       "      <td>33.55</td>\n",
       "      <td>1</td>\n",
       "      <td>11.56</td>\n",
       "    </tr>\n",
       "    <tr>\n",
       "      <th>Healthcare</th>\n",
       "      <th>Diagnostics &amp; Research</th>\n",
       "      <th>DexCom, Inc.</th>\n",
       "      <td>1</td>\n",
       "      <td>30.73</td>\n",
       "      <td>1</td>\n",
       "      <td>10.75</td>\n",
       "    </tr>\n",
       "    <tr>\n",
       "      <th>Consumer Cyclical</th>\n",
       "      <th>Apparel Stores</th>\n",
       "      <th>lululemon athletica inc.</th>\n",
       "      <td>1</td>\n",
       "      <td>28.37</td>\n",
       "      <td>1</td>\n",
       "      <td>22.54</td>\n",
       "    </tr>\n",
       "    <tr>\n",
       "      <th>Healthcare</th>\n",
       "      <th>Medical Devices</th>\n",
       "      <th>Align Technology, Inc.</th>\n",
       "      <td>1</td>\n",
       "      <td>27.80</td>\n",
       "      <td>1</td>\n",
       "      <td>25.81</td>\n",
       "    </tr>\n",
       "    <tr>\n",
       "      <th>Financial Services</th>\n",
       "      <th>Capital Markets</th>\n",
       "      <th>MarketAxess Holdings, Inc.</th>\n",
       "      <td>1</td>\n",
       "      <td>26.88</td>\n",
       "      <td>1</td>\n",
       "      <td>11.01</td>\n",
       "    </tr>\n",
       "    <tr>\n",
       "      <th>Healthcare</th>\n",
       "      <th>Biotechnology</th>\n",
       "      <th>Incyte Corporation</th>\n",
       "      <td>1</td>\n",
       "      <td>26.77</td>\n",
       "      <td>1</td>\n",
       "      <td>16.55</td>\n",
       "    </tr>\n",
       "    <tr>\n",
       "      <th>Communication Services</th>\n",
       "      <th>Telecom Services</th>\n",
       "      <th>Vonage Holdings Corp.</th>\n",
       "      <td>1</td>\n",
       "      <td>24.60</td>\n",
       "      <td>1</td>\n",
       "      <td>2.79</td>\n",
       "    </tr>\n",
       "    <tr>\n",
       "      <th>Industrials</th>\n",
       "      <th>Rental &amp; Leasing Services</th>\n",
       "      <th>United Rentals, Inc.</th>\n",
       "      <td>1</td>\n",
       "      <td>24.22</td>\n",
       "      <td>1</td>\n",
       "      <td>9.93</td>\n",
       "    </tr>\n",
       "    <tr>\n",
       "      <th>Consumer Cyclical</th>\n",
       "      <th>Specialty Retail</th>\n",
       "      <th>Amazon.com, Inc.</th>\n",
       "      <td>1</td>\n",
       "      <td>24.19</td>\n",
       "      <td>1</td>\n",
       "      <td>920.17</td>\n",
       "    </tr>\n",
       "    <tr>\n",
       "      <th>Technology</th>\n",
       "      <th>Internet Content &amp; Information</th>\n",
       "      <th>TENCENT</th>\n",
       "      <td>1</td>\n",
       "      <td>23.44</td>\n",
       "      <td>1</td>\n",
       "      <td>3,364.90</td>\n",
       "    </tr>\n",
       "    <tr>\n",
       "      <th>Consumer Cyclical</th>\n",
       "      <th>Specialty Retail</th>\n",
       "      <th>MercadoLibre, Inc.</th>\n",
       "      <td>1</td>\n",
       "      <td>23.39</td>\n",
       "      <td>1</td>\n",
       "      <td>28.34</td>\n",
       "    </tr>\n",
       "    <tr>\n",
       "      <th>Basic Materials</th>\n",
       "      <th>Building Materials</th>\n",
       "      <th>Trex Company, Inc.</th>\n",
       "      <td>1</td>\n",
       "      <td>20.38</td>\n",
       "      <td>1</td>\n",
       "      <td>3.44</td>\n",
       "    </tr>\n",
       "    <tr>\n",
       "      <th rowspan=\"3\" valign=\"top\">Technology</th>\n",
       "      <th>Semiconductor Equipment &amp; Materials</th>\n",
       "      <th>Universal Display Corporation</th>\n",
       "      <td>1</td>\n",
       "      <td>18.00</td>\n",
       "      <td>1</td>\n",
       "      <td>7.65</td>\n",
       "    </tr>\n",
       "    <tr>\n",
       "      <th>Semiconductors</th>\n",
       "      <th>NVIDIA Corporation</th>\n",
       "      <td>1</td>\n",
       "      <td>17.63</td>\n",
       "      <td>1</td>\n",
       "      <td>95.25</td>\n",
       "    </tr>\n",
       "    <tr>\n",
       "      <th>Software - Infrastructure</th>\n",
       "      <th>Fair Isaac Corproation</th>\n",
       "      <td>1</td>\n",
       "      <td>17.40</td>\n",
       "      <td>1</td>\n",
       "      <td>8.46</td>\n",
       "    </tr>\n",
       "    <tr>\n",
       "      <th>Consumer Cyclical</th>\n",
       "      <th>Leisure</th>\n",
       "      <th>Booking Holdings Inc. Common St</th>\n",
       "      <td>1</td>\n",
       "      <td>16.69</td>\n",
       "      <td>1</td>\n",
       "      <td>77.37</td>\n",
       "    </tr>\n",
       "    <tr>\n",
       "      <th>Consumer Defensive</th>\n",
       "      <th>Beverages - Wineries &amp; Distilleries</th>\n",
       "      <th>Constellation Brands, Inc.</th>\n",
       "      <td>1</td>\n",
       "      <td>16.59</td>\n",
       "      <td>1</td>\n",
       "      <td>38.92</td>\n",
       "    </tr>\n",
       "  </tbody>\n",
       "</table>\n",
       "</div>"
      ],
      "text/plain": [
       "                                                                                           totalReturn  \\\n",
       "                                                                                                 count   \n",
       "sector                 industry                            shortName                                     \n",
       "Technology             Software - Infrastructure           CyberArk Software Ltd.                    1   \n",
       "Consumer Cyclical      Media - Diversified                 Netflix, Inc.                             1   \n",
       "                       Specialty Retail                    Ulta Beauty, Inc.                         1   \n",
       "                       Restaurants                         Domino's Pizza Inc                        1   \n",
       "Healthcare             Diagnostics & Research              DexCom, Inc.                              1   \n",
       "Consumer Cyclical      Apparel Stores                      lululemon athletica inc.                  1   \n",
       "Healthcare             Medical Devices                     Align Technology, Inc.                    1   \n",
       "Financial Services     Capital Markets                     MarketAxess Holdings, Inc.                1   \n",
       "Healthcare             Biotechnology                       Incyte Corporation                        1   \n",
       "Communication Services Telecom Services                    Vonage Holdings Corp.                     1   \n",
       "Industrials            Rental & Leasing Services           United Rentals, Inc.                      1   \n",
       "Consumer Cyclical      Specialty Retail                    Amazon.com, Inc.                          1   \n",
       "Technology             Internet Content & Information      TENCENT                                   1   \n",
       "Consumer Cyclical      Specialty Retail                    MercadoLibre, Inc.                        1   \n",
       "Basic Materials        Building Materials                  Trex Company, Inc.                        1   \n",
       "Technology             Semiconductor Equipment & Materials Universal Display Corporation             1   \n",
       "                       Semiconductors                      NVIDIA Corporation                        1   \n",
       "                       Software - Infrastructure           Fair Isaac Corproation                    1   \n",
       "Consumer Cyclical      Leisure                             Booking Holdings Inc. Common St           1   \n",
       "Consumer Defensive     Beverages - Wineries & Distilleries Constellation Brands, Inc.                1   \n",
       "\n",
       "                                                                                                   \\\n",
       "                                                                                             mean   \n",
       "sector                 industry                            shortName                                \n",
       "Technology             Software - Infrastructure           CyberArk Software Ltd.          428.37   \n",
       "Consumer Cyclical      Media - Diversified                 Netflix, Inc.                    64.90   \n",
       "                       Specialty Retail                    Ulta Beauty, Inc.                39.96   \n",
       "                       Restaurants                         Domino's Pizza Inc               33.55   \n",
       "Healthcare             Diagnostics & Research              DexCom, Inc.                     30.73   \n",
       "Consumer Cyclical      Apparel Stores                      lululemon athletica inc.         28.37   \n",
       "Healthcare             Medical Devices                     Align Technology, Inc.           27.80   \n",
       "Financial Services     Capital Markets                     MarketAxess Holdings, Inc.       26.88   \n",
       "Healthcare             Biotechnology                       Incyte Corporation               26.77   \n",
       "Communication Services Telecom Services                    Vonage Holdings Corp.            24.60   \n",
       "Industrials            Rental & Leasing Services           United Rentals, Inc.             24.22   \n",
       "Consumer Cyclical      Specialty Retail                    Amazon.com, Inc.                 24.19   \n",
       "Technology             Internet Content & Information      TENCENT                          23.44   \n",
       "Consumer Cyclical      Specialty Retail                    MercadoLibre, Inc.               23.39   \n",
       "Basic Materials        Building Materials                  Trex Company, Inc.               20.38   \n",
       "Technology             Semiconductor Equipment & Materials Universal Display Corporation    18.00   \n",
       "                       Semiconductors                      NVIDIA Corporation               17.63   \n",
       "                       Software - Infrastructure           Fair Isaac Corproation           17.40   \n",
       "Consumer Cyclical      Leisure                             Booking Holdings Inc. Common St  16.69   \n",
       "Consumer Defensive     Beverages - Wineries & Distilleries Constellation Brands, Inc.       16.59   \n",
       "\n",
       "                                                                                           marketCap  \\\n",
       "                                                                                               count   \n",
       "sector                 industry                            shortName                                   \n",
       "Technology             Software - Infrastructure           CyberArk Software Ltd.                  1   \n",
       "Consumer Cyclical      Media - Diversified                 Netflix, Inc.                           1   \n",
       "                       Specialty Retail                    Ulta Beauty, Inc.                       1   \n",
       "                       Restaurants                         Domino's Pizza Inc                      1   \n",
       "Healthcare             Diagnostics & Research              DexCom, Inc.                            1   \n",
       "Consumer Cyclical      Apparel Stores                      lululemon athletica inc.                1   \n",
       "Healthcare             Medical Devices                     Align Technology, Inc.                  1   \n",
       "Financial Services     Capital Markets                     MarketAxess Holdings, Inc.              1   \n",
       "Healthcare             Biotechnology                       Incyte Corporation                      1   \n",
       "Communication Services Telecom Services                    Vonage Holdings Corp.                   1   \n",
       "Industrials            Rental & Leasing Services           United Rentals, Inc.                    1   \n",
       "Consumer Cyclical      Specialty Retail                    Amazon.com, Inc.                        1   \n",
       "Technology             Internet Content & Information      TENCENT                                 1   \n",
       "Consumer Cyclical      Specialty Retail                    MercadoLibre, Inc.                      1   \n",
       "Basic Materials        Building Materials                  Trex Company, Inc.                      1   \n",
       "Technology             Semiconductor Equipment & Materials Universal Display Corporation           1   \n",
       "                       Semiconductors                      NVIDIA Corporation                      1   \n",
       "                       Software - Infrastructure           Fair Isaac Corproation                  1   \n",
       "Consumer Cyclical      Leisure                             Booking Holdings Inc. Common St         1   \n",
       "Consumer Defensive     Beverages - Wineries & Distilleries Constellation Brands, Inc.              1   \n",
       "\n",
       "                                                                                                     \n",
       "                                                                                               mean  \n",
       "sector                 industry                            shortName                                 \n",
       "Technology             Software - Infrastructure           CyberArk Software Ltd.              4.79  \n",
       "Consumer Cyclical      Media - Diversified                 Netflix, Inc.                     154.97  \n",
       "                       Specialty Retail                    Ulta Beauty, Inc.                  20.12  \n",
       "                       Restaurants                         Domino's Pizza Inc                 11.56  \n",
       "Healthcare             Diagnostics & Research              DexCom, Inc.                       10.75  \n",
       "Consumer Cyclical      Apparel Stores                      lululemon athletica inc.           22.54  \n",
       "Healthcare             Medical Devices                     Align Technology, Inc.             25.81  \n",
       "Financial Services     Capital Markets                     MarketAxess Holdings, Inc.         11.01  \n",
       "Healthcare             Biotechnology                       Incyte Corporation                 16.55  \n",
       "Communication Services Telecom Services                    Vonage Holdings Corp.               2.79  \n",
       "Industrials            Rental & Leasing Services           United Rentals, Inc.                9.93  \n",
       "Consumer Cyclical      Specialty Retail                    Amazon.com, Inc.                  920.17  \n",
       "Technology             Internet Content & Information      TENCENT                         3,364.90  \n",
       "Consumer Cyclical      Specialty Retail                    MercadoLibre, Inc.                 28.34  \n",
       "Basic Materials        Building Materials                  Trex Company, Inc.                  3.44  \n",
       "Technology             Semiconductor Equipment & Materials Universal Display Corporation       7.65  \n",
       "                       Semiconductors                      NVIDIA Corporation                 95.25  \n",
       "                       Software - Infrastructure           Fair Isaac Corproation              8.46  \n",
       "Consumer Cyclical      Leisure                             Booking Holdings Inc. Common St    77.37  \n",
       "Consumer Defensive     Beverages - Wineries & Distilleries Constellation Brands, Inc.         38.92  "
      ]
     },
     "execution_count": 316,
     "metadata": {},
     "output_type": "execute_result"
    }
   ],
   "source": [
    "group_winners = hist_return.groupby(by=['sector', 'industry', 'shortName']).agg(['count', 'mean'])\n",
    "group_winners[['totalReturn', 'marketCap']]\\\n",
    "    .sort_values(by=('totalReturn','mean'), ascending=False)\\\n",
    "    .dropna().head(20)"
   ]
  },
  {
   "cell_type": "code",
   "execution_count": 324,
   "metadata": {
    "hidden": true
   },
   "outputs": [
    {
     "data": {
      "text/html": [
       "<div>\n",
       "<style scoped>\n",
       "    .dataframe tbody tr th:only-of-type {\n",
       "        vertical-align: middle;\n",
       "    }\n",
       "\n",
       "    .dataframe tbody tr th {\n",
       "        vertical-align: top;\n",
       "    }\n",
       "\n",
       "    .dataframe thead tr th {\n",
       "        text-align: left;\n",
       "    }\n",
       "\n",
       "    .dataframe thead tr:last-of-type th {\n",
       "        text-align: right;\n",
       "    }\n",
       "</style>\n",
       "<table border=\"1\" class=\"dataframe\">\n",
       "  <thead>\n",
       "    <tr>\n",
       "      <th></th>\n",
       "      <th></th>\n",
       "      <th colspan=\"2\" halign=\"left\">totalReturn</th>\n",
       "      <th colspan=\"2\" halign=\"left\">marketCap</th>\n",
       "    </tr>\n",
       "    <tr>\n",
       "      <th></th>\n",
       "      <th></th>\n",
       "      <th>count</th>\n",
       "      <th>mean</th>\n",
       "      <th>count</th>\n",
       "      <th>mean</th>\n",
       "    </tr>\n",
       "    <tr>\n",
       "      <th>sector</th>\n",
       "      <th>industry</th>\n",
       "      <th></th>\n",
       "      <th></th>\n",
       "      <th></th>\n",
       "      <th></th>\n",
       "    </tr>\n",
       "  </thead>\n",
       "  <tbody>\n",
       "    <tr>\n",
       "      <th>Technology</th>\n",
       "      <th>Software - Infrastructure</th>\n",
       "      <td>3</td>\n",
       "      <td>150.42</td>\n",
       "      <td>3</td>\n",
       "      <td>331.54</td>\n",
       "    </tr>\n",
       "    <tr>\n",
       "      <th>Healthcare</th>\n",
       "      <th>Medical Devices</th>\n",
       "      <td>1</td>\n",
       "      <td>27.80</td>\n",
       "      <td>1</td>\n",
       "      <td>25.81</td>\n",
       "    </tr>\n",
       "    <tr>\n",
       "      <th rowspan=\"2\" valign=\"top\">Consumer Cyclical</th>\n",
       "      <th>Media - Diversified</th>\n",
       "      <td>5</td>\n",
       "      <td>18.97</td>\n",
       "      <td>5</td>\n",
       "      <td>87.17</td>\n",
       "    </tr>\n",
       "    <tr>\n",
       "      <th>Specialty Retail</th>\n",
       "      <td>6</td>\n",
       "      <td>18.77</td>\n",
       "      <td>6</td>\n",
       "      <td>172.15</td>\n",
       "    </tr>\n",
       "    <tr>\n",
       "      <th>Industrials</th>\n",
       "      <th>Rental &amp; Leasing Services</th>\n",
       "      <td>2</td>\n",
       "      <td>16.96</td>\n",
       "      <td>2</td>\n",
       "      <td>6.16</td>\n",
       "    </tr>\n",
       "    <tr>\n",
       "      <th>Consumer Defensive</th>\n",
       "      <th>Beverages - Wineries &amp; Distilleries</th>\n",
       "      <td>1</td>\n",
       "      <td>16.59</td>\n",
       "      <td>1</td>\n",
       "      <td>38.92</td>\n",
       "    </tr>\n",
       "    <tr>\n",
       "      <th>Consumer Cyclical</th>\n",
       "      <th>Apparel Stores</th>\n",
       "      <td>3</td>\n",
       "      <td>15.02</td>\n",
       "      <td>3</td>\n",
       "      <td>40.89</td>\n",
       "    </tr>\n",
       "    <tr>\n",
       "      <th>Healthcare</th>\n",
       "      <th>Long-Term Care Facilities</th>\n",
       "      <td>1</td>\n",
       "      <td>14.67</td>\n",
       "      <td>1</td>\n",
       "      <td>3.00</td>\n",
       "    </tr>\n",
       "    <tr>\n",
       "      <th>Industrials</th>\n",
       "      <th>Staffing &amp; Outsourcing Services</th>\n",
       "      <td>3</td>\n",
       "      <td>13.25</td>\n",
       "      <td>3</td>\n",
       "      <td>4.03</td>\n",
       "    </tr>\n",
       "    <tr>\n",
       "      <th>Consumer Cyclical</th>\n",
       "      <th>Restaurants</th>\n",
       "      <td>5</td>\n",
       "      <td>12.64</td>\n",
       "      <td>5</td>\n",
       "      <td>26.98</td>\n",
       "    </tr>\n",
       "    <tr>\n",
       "      <th>Technology</th>\n",
       "      <th>Electronic Gaming &amp; Multimedia</th>\n",
       "      <td>1</td>\n",
       "      <td>12.07</td>\n",
       "      <td>1</td>\n",
       "      <td>11.28</td>\n",
       "    </tr>\n",
       "    <tr>\n",
       "      <th>Financial Services</th>\n",
       "      <th>Capital Markets</th>\n",
       "      <td>4</td>\n",
       "      <td>11.98</td>\n",
       "      <td>4</td>\n",
       "      <td>29.43</td>\n",
       "    </tr>\n",
       "    <tr>\n",
       "      <th>Consumer Cyclical</th>\n",
       "      <th>Auto Parts</th>\n",
       "      <td>2</td>\n",
       "      <td>11.92</td>\n",
       "      <td>2</td>\n",
       "      <td>2.51</td>\n",
       "    </tr>\n",
       "    <tr>\n",
       "      <th>Communication Services</th>\n",
       "      <th>Telecom Services</th>\n",
       "      <td>4</td>\n",
       "      <td>11.84</td>\n",
       "      <td>4</td>\n",
       "      <td>29.66</td>\n",
       "    </tr>\n",
       "    <tr>\n",
       "      <th>Consumer Defensive</th>\n",
       "      <th>Beverages - Brewers</th>\n",
       "      <td>1</td>\n",
       "      <td>11.50</td>\n",
       "      <td>1</td>\n",
       "      <td>3.94</td>\n",
       "    </tr>\n",
       "    <tr>\n",
       "      <th>Technology</th>\n",
       "      <th>Semiconductor Equipment &amp; Materials</th>\n",
       "      <td>4</td>\n",
       "      <td>11.44</td>\n",
       "      <td>4</td>\n",
       "      <td>6.32</td>\n",
       "    </tr>\n",
       "    <tr>\n",
       "      <th>Real Estate</th>\n",
       "      <th>REIT - Industrial</th>\n",
       "      <td>2</td>\n",
       "      <td>11.25</td>\n",
       "      <td>2</td>\n",
       "      <td>9.34</td>\n",
       "    </tr>\n",
       "    <tr>\n",
       "      <th>Industrials</th>\n",
       "      <th>Aerospace &amp; Defense</th>\n",
       "      <td>5</td>\n",
       "      <td>11.12</td>\n",
       "      <td>5</td>\n",
       "      <td>56.60</td>\n",
       "    </tr>\n",
       "    <tr>\n",
       "      <th>Consumer Cyclical</th>\n",
       "      <th>Leisure</th>\n",
       "      <td>4</td>\n",
       "      <td>10.81</td>\n",
       "      <td>4</td>\n",
       "      <td>28.75</td>\n",
       "    </tr>\n",
       "    <tr>\n",
       "      <th>Basic Materials</th>\n",
       "      <th>Building Materials</th>\n",
       "      <td>3</td>\n",
       "      <td>10.72</td>\n",
       "      <td>3</td>\n",
       "      <td>2.93</td>\n",
       "    </tr>\n",
       "  </tbody>\n",
       "</table>\n",
       "</div>"
      ],
      "text/plain": [
       "                                                           totalReturn         \\\n",
       "                                                                 count   mean   \n",
       "sector                 industry                                                 \n",
       "Technology             Software - Infrastructure                     3 150.42   \n",
       "Healthcare             Medical Devices                               1  27.80   \n",
       "Consumer Cyclical      Media - Diversified                           5  18.97   \n",
       "                       Specialty Retail                              6  18.77   \n",
       "Industrials            Rental & Leasing Services                     2  16.96   \n",
       "Consumer Defensive     Beverages - Wineries & Distilleries           1  16.59   \n",
       "Consumer Cyclical      Apparel Stores                                3  15.02   \n",
       "Healthcare             Long-Term Care Facilities                     1  14.67   \n",
       "Industrials            Staffing & Outsourcing Services               3  13.25   \n",
       "Consumer Cyclical      Restaurants                                   5  12.64   \n",
       "Technology             Electronic Gaming & Multimedia                1  12.07   \n",
       "Financial Services     Capital Markets                               4  11.98   \n",
       "Consumer Cyclical      Auto Parts                                    2  11.92   \n",
       "Communication Services Telecom Services                              4  11.84   \n",
       "Consumer Defensive     Beverages - Brewers                           1  11.50   \n",
       "Technology             Semiconductor Equipment & Materials           4  11.44   \n",
       "Real Estate            REIT - Industrial                             2  11.25   \n",
       "Industrials            Aerospace & Defense                           5  11.12   \n",
       "Consumer Cyclical      Leisure                                       4  10.81   \n",
       "Basic Materials        Building Materials                            3  10.72   \n",
       "\n",
       "                                                           marketCap         \n",
       "                                                               count   mean  \n",
       "sector                 industry                                              \n",
       "Technology             Software - Infrastructure                   3 331.54  \n",
       "Healthcare             Medical Devices                             1  25.81  \n",
       "Consumer Cyclical      Media - Diversified                         5  87.17  \n",
       "                       Specialty Retail                            6 172.15  \n",
       "Industrials            Rental & Leasing Services                   2   6.16  \n",
       "Consumer Defensive     Beverages - Wineries & Distilleries         1  38.92  \n",
       "Consumer Cyclical      Apparel Stores                              3  40.89  \n",
       "Healthcare             Long-Term Care Facilities                   1   3.00  \n",
       "Industrials            Staffing & Outsourcing Services             3   4.03  \n",
       "Consumer Cyclical      Restaurants                                 5  26.98  \n",
       "Technology             Electronic Gaming & Multimedia              1  11.28  \n",
       "Financial Services     Capital Markets                             4  29.43  \n",
       "Consumer Cyclical      Auto Parts                                  2   2.51  \n",
       "Communication Services Telecom Services                            4  29.66  \n",
       "Consumer Defensive     Beverages - Brewers                         1   3.94  \n",
       "Technology             Semiconductor Equipment & Materials         4   6.32  \n",
       "Real Estate            REIT - Industrial                           2   9.34  \n",
       "Industrials            Aerospace & Defense                         5  56.60  \n",
       "Consumer Cyclical      Leisure                                     4  28.75  \n",
       "Basic Materials        Building Materials                          3   2.93  "
      ]
     },
     "execution_count": 324,
     "metadata": {},
     "output_type": "execute_result"
    }
   ],
   "source": [
    "group_winners = hist_return.groupby(by=['sector', 'industry']).agg(['count', 'mean'])\n",
    "group_winners[['totalReturn', 'marketCap']]\\\n",
    "    .sort_values(by=('totalReturn','mean'), ascending=False)\\\n",
    "    .dropna().head(20)"
   ]
  },
  {
   "cell_type": "code",
   "execution_count": 322,
   "metadata": {
    "hidden": true
   },
   "outputs": [
    {
     "data": {
      "text/html": [
       "<div>\n",
       "<style scoped>\n",
       "    .dataframe tbody tr th:only-of-type {\n",
       "        vertical-align: middle;\n",
       "    }\n",
       "\n",
       "    .dataframe tbody tr th {\n",
       "        vertical-align: top;\n",
       "    }\n",
       "\n",
       "    .dataframe thead th {\n",
       "        text-align: right;\n",
       "    }\n",
       "</style>\n",
       "<table border=\"1\" class=\"dataframe\">\n",
       "  <thead>\n",
       "    <tr style=\"text-align: right;\">\n",
       "      <th></th>\n",
       "      <th>totalReturn</th>\n",
       "      <th>sector</th>\n",
       "      <th>industry</th>\n",
       "      <th>country</th>\n",
       "      <th>shortName</th>\n",
       "      <th>marketCap</th>\n",
       "      <th>size</th>\n",
       "    </tr>\n",
       "  </thead>\n",
       "  <tbody>\n",
       "    <tr>\n",
       "      <th>MANH</th>\n",
       "      <td>15.22</td>\n",
       "      <td>Technology</td>\n",
       "      <td>Software - Application</td>\n",
       "      <td>United States</td>\n",
       "      <td>Manhattan Associates, Inc.</td>\n",
       "      <td>4.24</td>\n",
       "      <td>mid</td>\n",
       "    </tr>\n",
       "    <tr>\n",
       "      <th>CRM</th>\n",
       "      <td>14.85</td>\n",
       "      <td>Technology</td>\n",
       "      <td>Software - Application</td>\n",
       "      <td>United States</td>\n",
       "      <td>Salesforce.com Inc</td>\n",
       "      <td>119.76</td>\n",
       "      <td>large</td>\n",
       "    </tr>\n",
       "    <tr>\n",
       "      <th>TYL</th>\n",
       "      <td>12.68</td>\n",
       "      <td>Technology</td>\n",
       "      <td>Software - Application</td>\n",
       "      <td>United States</td>\n",
       "      <td>Tyler Technologies, Inc.</td>\n",
       "      <td>8.19</td>\n",
       "      <td>mid</td>\n",
       "    </tr>\n",
       "    <tr>\n",
       "      <th>CDNS</th>\n",
       "      <td>12.25</td>\n",
       "      <td>Technology</td>\n",
       "      <td>Software - Application</td>\n",
       "      <td>United States</td>\n",
       "      <td>Cadence Design Systems, Inc.</td>\n",
       "      <td>19.30</td>\n",
       "      <td>large</td>\n",
       "    </tr>\n",
       "    <tr>\n",
       "      <th>ADBE</th>\n",
       "      <td>10.12</td>\n",
       "      <td>Technology</td>\n",
       "      <td>Software - Application</td>\n",
       "      <td>United States</td>\n",
       "      <td>Adobe Inc.</td>\n",
       "      <td>136.55</td>\n",
       "      <td>large</td>\n",
       "    </tr>\n",
       "    <tr>\n",
       "      <th>RHT</th>\n",
       "      <td>9.53</td>\n",
       "      <td>Technology</td>\n",
       "      <td>Software - Application</td>\n",
       "      <td>United States</td>\n",
       "      <td>Red Hat, Inc.</td>\n",
       "      <td>32.98</td>\n",
       "      <td>large</td>\n",
       "    </tr>\n",
       "    <tr>\n",
       "      <th>INTU</th>\n",
       "      <td>9.18</td>\n",
       "      <td>Technology</td>\n",
       "      <td>Software - Application</td>\n",
       "      <td>United States</td>\n",
       "      <td>Intuit Inc.</td>\n",
       "      <td>63.59</td>\n",
       "      <td>large</td>\n",
       "    </tr>\n",
       "    <tr>\n",
       "      <th>ADSK</th>\n",
       "      <td>8.42</td>\n",
       "      <td>Technology</td>\n",
       "      <td>Software - Application</td>\n",
       "      <td>United States</td>\n",
       "      <td>Autodesk, Inc.</td>\n",
       "      <td>38.38</td>\n",
       "      <td>large</td>\n",
       "    </tr>\n",
       "    <tr>\n",
       "      <th>PTC</th>\n",
       "      <td>7.33</td>\n",
       "      <td>Technology</td>\n",
       "      <td>Software - Application</td>\n",
       "      <td>United States</td>\n",
       "      <td>PTC Inc.</td>\n",
       "      <td>9.99</td>\n",
       "      <td>mid</td>\n",
       "    </tr>\n",
       "    <tr>\n",
       "      <th>ANSS</th>\n",
       "      <td>6.20</td>\n",
       "      <td>Technology</td>\n",
       "      <td>Software - Application</td>\n",
       "      <td>United States</td>\n",
       "      <td>ANSYS, Inc.</td>\n",
       "      <td>15.74</td>\n",
       "      <td>large</td>\n",
       "    </tr>\n",
       "    <tr>\n",
       "      <th>ACIW</th>\n",
       "      <td>5.94</td>\n",
       "      <td>Technology</td>\n",
       "      <td>Software - Application</td>\n",
       "      <td>United States</td>\n",
       "      <td>ACI Worldwide, Inc.</td>\n",
       "      <td>3.47</td>\n",
       "      <td>mid</td>\n",
       "    </tr>\n",
       "    <tr>\n",
       "      <th>NICE</th>\n",
       "      <td>5.38</td>\n",
       "      <td>Technology</td>\n",
       "      <td>Software - Application</td>\n",
       "      <td>Israel</td>\n",
       "      <td>NICE Ltd</td>\n",
       "      <td>8.74</td>\n",
       "      <td>mid</td>\n",
       "    </tr>\n",
       "    <tr>\n",
       "      <th>SNPS</th>\n",
       "      <td>5.00</td>\n",
       "      <td>Technology</td>\n",
       "      <td>Software - Application</td>\n",
       "      <td>United States</td>\n",
       "      <td>Synopsys, Inc.</td>\n",
       "      <td>18.17</td>\n",
       "      <td>large</td>\n",
       "    </tr>\n",
       "    <tr>\n",
       "      <th>PEGA</th>\n",
       "      <td>4.90</td>\n",
       "      <td>Technology</td>\n",
       "      <td>Software - Application</td>\n",
       "      <td>United States</td>\n",
       "      <td>Pegasystems Inc.</td>\n",
       "      <td>5.65</td>\n",
       "      <td>mid</td>\n",
       "    </tr>\n",
       "    <tr>\n",
       "      <th>BLKB</th>\n",
       "      <td>4.74</td>\n",
       "      <td>Technology</td>\n",
       "      <td>Software - Application</td>\n",
       "      <td>United States</td>\n",
       "      <td>Blackbaud, Inc.</td>\n",
       "      <td>3.84</td>\n",
       "      <td>mid</td>\n",
       "    </tr>\n",
       "  </tbody>\n",
       "</table>\n",
       "</div>"
      ],
      "text/plain": [
       "      totalReturn      sector                industry        country  \\\n",
       "MANH        15.22  Technology  Software - Application  United States   \n",
       "CRM         14.85  Technology  Software - Application  United States   \n",
       "TYL         12.68  Technology  Software - Application  United States   \n",
       "CDNS        12.25  Technology  Software - Application  United States   \n",
       "ADBE        10.12  Technology  Software - Application  United States   \n",
       "RHT          9.53  Technology  Software - Application  United States   \n",
       "INTU         9.18  Technology  Software - Application  United States   \n",
       "ADSK         8.42  Technology  Software - Application  United States   \n",
       "PTC          7.33  Technology  Software - Application  United States   \n",
       "ANSS         6.20  Technology  Software - Application  United States   \n",
       "ACIW         5.94  Technology  Software - Application  United States   \n",
       "NICE         5.38  Technology  Software - Application         Israel   \n",
       "SNPS         5.00  Technology  Software - Application  United States   \n",
       "PEGA         4.90  Technology  Software - Application  United States   \n",
       "BLKB         4.74  Technology  Software - Application  United States   \n",
       "\n",
       "                         shortName  marketCap   size  \n",
       "MANH    Manhattan Associates, Inc.       4.24    mid  \n",
       "CRM             Salesforce.com Inc     119.76  large  \n",
       "TYL       Tyler Technologies, Inc.       8.19    mid  \n",
       "CDNS  Cadence Design Systems, Inc.      19.30  large  \n",
       "ADBE                    Adobe Inc.     136.55  large  \n",
       "RHT                  Red Hat, Inc.      32.98  large  \n",
       "INTU                   Intuit Inc.      63.59  large  \n",
       "ADSK                Autodesk, Inc.      38.38  large  \n",
       "PTC                       PTC Inc.       9.99    mid  \n",
       "ANSS                   ANSYS, Inc.      15.74  large  \n",
       "ACIW           ACI Worldwide, Inc.       3.47    mid  \n",
       "NICE                      NICE Ltd       8.74    mid  \n",
       "SNPS                Synopsys, Inc.      18.17  large  \n",
       "PEGA              Pegasystems Inc.       5.65    mid  \n",
       "BLKB               Blackbaud, Inc.       3.84    mid  "
      ]
     },
     "execution_count": 322,
     "metadata": {},
     "output_type": "execute_result"
    }
   ],
   "source": [
    "hist_return.loc[hist_return.industry.isin(['Software - Application']), :]\\\n",
    "    .sort_values(by='totalReturn', ascending=False)"
   ]
  },
  {
   "cell_type": "code",
   "execution_count": null,
   "metadata": {
    "hidden": true
   },
   "outputs": [],
   "source": []
  },
  {
   "cell_type": "code",
   "execution_count": null,
   "metadata": {
    "hidden": true
   },
   "outputs": [],
   "source": []
  },
  {
   "cell_type": "markdown",
   "metadata": {
    "heading_collapsed": true
   },
   "source": [
    "#### historical price performance analysis"
   ]
  },
  {
   "cell_type": "code",
   "execution_count": 498,
   "metadata": {
    "hidden": true
   },
   "outputs": [
    {
     "data": {
      "text/plain": [
       "<matplotlib.axes._subplots.AxesSubplot at 0x167ea3cc0>"
      ]
     },
     "execution_count": 498,
     "metadata": {},
     "output_type": "execute_result"
    },
    {
     "data": {
      "image/png": "[encoded data removed]",
      "text/plain": [
       "<Figure size 432x288 with 1 Axes>"
      ]
     },
     "metadata": {
      "needs_background": "light"
     },
     "output_type": "display_data"
    }
   ],
   "source": [
    "# Average increase and decrease over a give time period\n",
    "prices = px_close.dropna(subset=[bench])[tickers]\n",
    "excl_tickers = list(prices.iloc[-1].isna().loc[prices.iloc[-1].isna().values].index)\n",
    "prices = prices[excl(prices.columns, excl_tickers)]\n",
    "\n",
    "look_back = context['look_back']\n",
    "pos_ret = prices.pct_change(look_ahead).where(prices.pct_change(look_back) > 0)\n",
    "pos_ret.mean(1).plot()\n",
    "neg_ret = prices.pct_change(look_ahead).where(prices.pct_change(look_back) < 0)\n",
    "neg_ret.mean(1).plot()"
   ]
  },
  {
   "cell_type": "code",
   "execution_count": 513,
   "metadata": {
    "hidden": true
   },
   "outputs": [
    {
     "data": {
      "text/plain": [
       "<matplotlib.axes._subplots.AxesSubplot at 0x168c44668>"
      ]
     },
     "execution_count": 513,
     "metadata": {},
     "output_type": "execute_result"
    },
    {
     "data": {
      "image/png": "[encoded data removed]",
      "text/plain": [
       "<Figure size 432x288 with 1 Axes>"
      ]
     },
     "metadata": {
      "needs_background": "light"
     },
     "output_type": "display_data"
    }
   ],
   "source": [
    "pos_ret.iloc[-1].hist(bins=20)"
   ]
  },
  {
   "cell_type": "code",
   "execution_count": 506,
   "metadata": {
    "hidden": true
   },
   "outputs": [
    {
     "data": {
      "text/plain": [
       "(0.13541524, -0.0008320695)"
      ]
     },
     "execution_count": 506,
     "metadata": {},
     "output_type": "execute_result"
    }
   ],
   "source": [
    "pos_ret.mean(1).mean(), neg_ret.mean(1).mean()"
   ]
  },
  {
   "cell_type": "code",
   "execution_count": 548,
   "metadata": {
    "hidden": true
   },
   "outputs": [
    {
     "data": {
      "text/plain": [
       "<matplotlib.axes._subplots.AxesSubplot at 0x16d608b38>"
      ]
     },
     "execution_count": 548,
     "metadata": {},
     "output_type": "execute_result"
    },
    {
     "data": {
      "image/png": "[encoded data removed]",
      "text/plain": [
       "<Figure size 432x288 with 1 Axes>"
      ]
     },
     "metadata": {
      "needs_background": "light"
     },
     "output_type": "display_data"
    }
   ],
   "source": [
    "pos_ret.mean(1).hist(bins=40)\n",
    "# pos_ret.mean(1).plot.kde(secondary_y=True)"
   ]
  },
  {
   "cell_type": "code",
   "execution_count": 549,
   "metadata": {
    "hidden": true
   },
   "outputs": [
    {
     "data": {
      "text/plain": [
       "<matplotlib.axes._subplots.AxesSubplot at 0x16d5ef278>"
      ]
     },
     "execution_count": 549,
     "metadata": {},
     "output_type": "execute_result"
    },
    {
     "data": {
      "image/png": "[encoded data removed]",
      "text/plain": [
       "<Figure size 432x288 with 1 Axes>"
      ]
     },
     "metadata": {
      "needs_background": "light"
     },
     "output_type": "display_data"
    }
   ],
   "source": [
    "neg_ret.mean(1).hist(bins=40)\n",
    "# neg_ret.mean(1).plot.kde(secondary_y=True)"
   ]
  },
  {
   "cell_type": "code",
   "execution_count": 550,
   "metadata": {
    "hidden": true
   },
   "outputs": [
    {
     "data": {
      "text/plain": [
       "array([ -inf, -0.23, -0.15,  0.14,  0.22,   inf])"
      ]
     },
     "execution_count": 550,
     "metadata": {},
     "output_type": "execute_result"
    }
   ],
   "source": [
    "# class distribution cuts\n",
    "np.round(get_return_intervals(prices, 120, tresholds=[0.1, 0.5]), 2)"
   ]
  },
  {
   "cell_type": "markdown",
   "metadata": {},
   "source": [
    "#### Max draws / Max pulls"
   ]
  },
  {
   "cell_type": "code",
   "execution_count": 543,
   "metadata": {
    "code_folding": []
   },
   "outputs": [
    {
     "name": "stdout",
     "output_type": "stream",
     "text": [
      "Max draw: -0.09079279780791061, Max pull: 0.09960461974123547\n"
     ]
    },
    {
     "data": {
      "image/png": "[encoded data removed]",
      "text/plain": [
       "<Figure size 432x288 with 1 Axes>"
      ]
     },
     "metadata": {
      "needs_background": "light"
     },
     "output_type": "display_data"
    }
   ],
   "source": [
    "# Test cumulative drawdowns and pulls\n",
    "from utils.pricing import max_draw_pull\n",
    "\n",
    "n = 100\n",
    "r_w = np.random.randn(n).cumsum() + 100\n",
    "l_dd, h_dd, l_p, h_p = max_draw_pull(r_w)\n",
    "\n",
    "plt.plot(r_w)\n",
    "plt.plot([l_dd, h_dd], [r_w[l_dd], r_w[h_dd],], 'o', color='Red', markersize=10)\n",
    "plt.plot([l_p, h_p], [r_w[l_p], r_w[h_p]], 'o', color='Green', markersize=10)\n",
    "\n",
    "print(f'Max draw: {r_w[l_dd]/r_w[h_dd]-1}, Max pull: {r_w[h_p]/r_w[l_p]-1}')"
   ]
  },
  {
   "cell_type": "markdown",
   "metadata": {
    "heading_collapsed": true
   },
   "source": [
    "#### Date and minute based time analysis"
   ]
  },
  {
   "cell_type": "code",
   "execution_count": null,
   "metadata": {
    "hidden": true
   },
   "outputs": [],
   "source": [
    "freq = '1d'"
   ]
  },
  {
   "cell_type": "code",
   "execution_count": null,
   "metadata": {
    "hidden": true
   },
   "outputs": [],
   "source": [
    "# s1, s2 = '1810.HK', 'AAPL'\n",
    "group_pricing = pd.DataFrame()\n",
    "df1 = get_symbol_pricing(s1, freq, ['close'])\n",
    "df2 = get_symbol_pricing(s2, freq, ['close'])\n",
    "group_pricing = pd.DataFrame(df1)\n",
    "# group_pricing.loc[:, s2] = df2\n",
    "group_pricing = pd.concat([group_pricing, df2], axis=1)\n",
    "group_pricing.describe()\n",
    "# group_pricing"
   ]
  },
  {
   "cell_type": "code",
   "execution_count": null,
   "metadata": {
    "hidden": true
   },
   "outputs": [],
   "source": [
    "path = config['pricing_path'].format(freq)\n",
    "data_dict = json_load(path + json_ext.format(ticker))\n",
    "\n",
    "tz = data_dict['meta']['exchangeTimezoneName']\n",
    "df = build_px_struct(data_dict, freq)\n",
    "\n",
    "adjClose = data_dict['indicators']['adjclose'][0] if 'adjclose' in  data_dict['indicators'] else 0\n",
    "close = data_dict['indicators']['quote'][0]\n",
    "data_dict.keys(), data_dict['indicators'].keys()"
   ]
  },
  {
   "cell_type": "code",
   "execution_count": null,
   "metadata": {
    "hidden": true
   },
   "outputs": [],
   "source": [
    "df.index.date"
   ]
  },
  {
   "cell_type": "code",
   "execution_count": null,
   "metadata": {
    "hidden": true
   },
   "outputs": [],
   "source": [
    "dates = pd.to_datetime(\n",
    "        data_dict['timestamp'], \n",
    "        unit='s', infer_datetime_format=True)\n",
    "# dates = dates.astype(f'datetime64[ns, {tz}]')\n",
    "# dates.tz_convert('America/New_York')\n",
    "# dates = dates.tz_localize('America/New_York')\n",
    "dates.floor('d' if freq == '1d' else 'min')"
   ]
  },
  {
   "cell_type": "code",
   "execution_count": null,
   "metadata": {
    "hidden": true
   },
   "outputs": [],
   "source": [
    "df.tail(5)"
   ]
  },
  {
   "cell_type": "code",
   "execution_count": null,
   "metadata": {
    "hidden": true
   },
   "outputs": [],
   "source": [
    "freq = '1d'"
   ]
  },
  {
   "cell_type": "code",
   "execution_count": null,
   "metadata": {
    "hidden": true
   },
   "outputs": [],
   "source": [
    "%time px_close = get_mults_pricing(symbols_list[:10], freq);"
   ]
  },
  {
   "cell_type": "code",
   "execution_count": null,
   "metadata": {
    "hidden": true
   },
   "outputs": [],
   "source": [
    "# [px_close[x].dropna().tail() for x in px_close.columns]\n",
    "px_close.describe()\n",
    "# px_close.tail()"
   ]
  },
  {
   "cell_type": "code",
   "execution_count": null,
   "metadata": {
    "hidden": true
   },
   "outputs": [],
   "source": [
    "f'Ticker: {ticker}'"
   ]
  },
  {
   "cell_type": "code",
   "execution_count": null,
   "metadata": {
    "hidden": true
   },
   "outputs": [],
   "source": [
    "px = get_symbol_pricing(ticker, freq)\n",
    "px.close.tail()"
   ]
  },
  {
   "cell_type": "markdown",
   "metadata": {
    "heading_collapsed": true
   },
   "source": [
    "#### Old code"
   ]
  },
  {
   "cell_type": "code",
   "execution_count": null,
   "metadata": {
    "hidden": true
   },
   "outputs": [],
   "source": [
    "# test distribution of Y variable\n",
    "tickers = list(mu.sample_sector_tickers(eqty_symbols, profile, sectors, 50).index)\n",
    "context['grid_search'] = False\n",
    "context['tickers'] = tickers\n",
    "context['train_model'] = True\n",
    "\n",
    "df_large = create_ds(context)\n",
    "\n",
    "df = df_large.copy()\n",
    "df.dropna(subset=[y_col], inplace=True)\n",
    "df[y_col] = discret_rets(df[y_col], cut_range, fwd_ret_labels)\n",
    "df.dropna(subset=[y_col], inplace=True) # no nas in y_col\n",
    "df[y_col] = df[y_col].astype(str) # class as string\n",
    "sample_wgts(df[y_col])\n",
    "\n",
    "pred_X, X_traxin, X_test, y_train, y_test = pre_process_ds(df_large, context)\n",
    "pd.value_counts(discret_rets(df_large.fwdReturn, cut_range, fwd_ret_labels)).sum()\n",
    "pd.value_counts(pd.concat([y_train, y_test], axis=0)).sum()"
   ]
  },
  {
   "cell_type": "code",
   "execution_count": null,
   "metadata": {
    "hidden": true
   },
   "outputs": [],
   "source": [
    "# Retrieves historical pricing\n",
    "secpx = get_symbol_pricing(symbol, freq)\n",
    "secpx.set_index(secpx.index.astype(np.datetime64), inplace=True)"
   ]
  },
  {
   "cell_type": "code",
   "execution_count": null,
   "metadata": {
    "hidden": true
   },
   "outputs": [],
   "source": [
    "fwd_ss_ret = lambda x, df, arr: df.loc[[y for y in arr[x-1] if y in df.index.tolist()]].mean()"
   ]
  },
  {
   "cell_type": "code",
   "execution_count": null,
   "metadata": {
    "hidden": true
   },
   "outputs": [],
   "source": [
    "# seasonality analysis\n",
    "ss_df = closepx.pct_change().resample('M').sum().to_frame()\n",
    "ss_df['year'], ss_df['month'] = ss_df.index.year, ss_df.index.month\n",
    "ss_df = ss_df.pivot_table(index='year', columns='month').mean()\n",
    "ss_pos = [(x, (x+1) if not (x+1) // 12 else 0, \n",
    "     x+2 if not (x+2) // 12 else x - 10) for x in range(12)]\n",
    "\n",
    "# [fwd_ss_ret(x+1, ss_df['close'], ss_pos) for x in range(12)] # test"
   ]
  },
  {
   "cell_type": "code",
   "execution_count": null,
   "metadata": {
    "hidden": true
   },
   "outputs": [],
   "source": [
    "# apply seasonality, mean return of curr month plus next two\n",
    "secpx['month'] = secpx.index.month\n",
    "secpx['fwdSSRet'] = secpx.loc[:].month.apply(\n",
    "    fwd_ss_ret, args=(ss_df['close'], ss_pos,))"
   ]
  },
  {
   "cell_type": "code",
   "execution_count": null,
   "metadata": {
    "hidden": true
   },
   "outputs": [],
   "source": [
    "secpx.columns # all columns"
   ]
  },
  {
   "cell_type": "code",
   "execution_count": null,
   "metadata": {
    "hidden": true
   },
   "outputs": [],
   "source": [
    "# normalized columns for ML training, still has outliers\n",
    "ml_ds_cols = secpx.describe().loc['50%'][secpx.describe().loc['50%'] < 5].index.tolist()\n",
    "ml_ds_cols"
   ]
  },
  {
   "cell_type": "code",
   "execution_count": null,
   "metadata": {
    "hidden": true
   },
   "outputs": [],
   "source": [
    "# prepare ML dataset\n",
    "ml_ds = secpx[ml_ds_cols].copy()\n",
    "\n",
    "class_cols = ['fwdChg1w', 'fwdChg1m', 'fwdChg3m']\n",
    "cut_range = [-1, -0.05, .0, .02, .09, 1.]\n",
    "fwd_ret_labels = [\"bear\", \"short\", \"neutral\", \"long\", \"bull\"]\n",
    "\n",
    "for c in class_cols: ml_ds[c] = pd.cut(secpx[c], cut_range, labels=fwd_ret_labels)\n",
    "ml_ds.info()"
   ]
  },
  {
   "cell_type": "code",
   "execution_count": null,
   "metadata": {
    "hidden": true
   },
   "outputs": [],
   "source": [
    "# drop the predicting class with most nas\n",
    "ml_ds.dropna(inplace=True)\n",
    "ml_ds.info()"
   ]
  },
  {
   "cell_type": "code",
   "execution_count": null,
   "metadata": {
    "hidden": true
   },
   "outputs": [],
   "source": [
    "ml_ds.hist(figsize=(15,15));"
   ]
  },
  {
   "cell_type": "code",
   "execution_count": null,
   "metadata": {
    "hidden": true
   },
   "outputs": [],
   "source": [
    "ml_ds.to_csv(csv_ext.format('co_price_mom_ds'), index=False)"
   ]
  }
 ],
 "metadata": {
  "kernelspec": {
   "display_name": "Python 3",
   "language": "python",
   "name": "python3"
  },
  "language_info": {
   "codemirror_mode": {
    "name": "ipython",
    "version": 3
   },
   "file_extension": ".py",
   "mimetype": "text/x-python",
   "name": "python",
   "nbconvert_exporter": "python",
   "pygments_lexer": "ipython3",
   "version": "3.6.8"
  },
  "toc": {
   "base_numbering": 1,
   "nav_menu": {},
   "number_sections": true,
   "sideBar": true,
   "skip_h1_title": false,
   "title_cell": "Table of Contents",
   "title_sidebar": "Contents",
   "toc_cell": false,
   "toc_position": {},
   "toc_section_display": true,
   "toc_window_display": false
  }
 },
 "nbformat": 4,
 "nbformat_minor": 2
}
