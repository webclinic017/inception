{
 "cells": [
  {
   "cell_type": "code",
   "execution_count": 1,
   "metadata": {
    "code_folding": [
     0
    ]
   },
   "outputs": [
    {
     "name": "stdout",
     "output_type": "stream",
     "text": [
      "Loading utils/config.json\n"
     ]
    },
    {
     "name": "stderr",
     "output_type": "stream",
     "text": [
      "Using TensorFlow backend.\n"
     ]
    }
   ],
   "source": [
    "#imports\n",
    "%reload_ext autoreload\n",
    "%autoreload 2\n",
    "%matplotlib inline \n",
    "\n",
    "from matplotlib import pyplot as plt\n",
    "\n",
    "from utils.basic_utils import *\n",
    "from utils.fundamental import chain_outlier, get_focus_tickers, train_on_winners\n",
    "from utils.pricing import load_px_close, get_return_intervals \n",
    "from utils.pricing import dummy_col, discret_rets, sample_wgts, px_fwd_ret\n",
    "from utils.pricing import px_mom_feats, px_mom_co_feats_light, px_fwd_rets, get_ind_index\n",
    "from utils.pricing import eq_wgt_indices, to_index_form, rename_col\n",
    "\n",
    "pd.options.display.float_format = '{:,.2f}'.format\n",
    "\n",
    "import time, os, sys\n",
    "from tqdm import tqdm\n",
    "\n",
    "from sklearn import preprocessing\n",
    "from sklearn.preprocessing import StandardScaler\n",
    "from sklearn.model_selection import train_test_split\n",
    "from sklearn.utils.multiclass import unique_labels\n",
    "from sklearn.metrics import confusion_matrix, classification_report\n",
    "from sklearn.metrics import accuracy_score, log_loss, precision_recall_fscore_support\n",
    "from sklearn.metrics import precision_score, roc_auc_score\n",
    "\n",
    "from sklearn.model_selection import StratifiedShuffleSplit\n",
    "from sklearn.model_selection import StratifiedKFold\n",
    "from sklearn.neural_network import MLPClassifier\n",
    "from sklearn.ensemble import VotingClassifier\n",
    "from sklearn.ensemble import RandomForestClassifier\n",
    "from sklearn.ensemble import ExtraTreesClassifier\n",
    "\n",
    "import numpy as np\n",
    "import keras\n",
    "from keras.models import Sequential, load_model\n",
    "from keras.layers import Dense, Dropout, Activation\n",
    "from keras.optimizers import SGD, Adam, Adagrad, Adadelta, Adamax, Nadam, RMSprop\n",
    "from keras.callbacks import EarlyStopping, ModelCheckpoint\n",
    "from keras.callbacks import CSVLogger\n",
    "from keras.layers import BatchNormalization"
   ]
  },
  {
   "cell_type": "code",
   "execution_count": 2,
   "metadata": {},
   "outputs": [
    {
     "data": {
      "text/plain": [
       "[]"
      ]
     },
     "execution_count": 2,
     "metadata": {},
     "output_type": "execute_result"
    }
   ],
   "source": [
    "from keras import backend as K\n",
    "K.tensorflow_backend._get_available_gpus()"
   ]
  },
  {
   "cell_type": "markdown",
   "metadata": {},
   "source": [
    "### Context data"
   ]
  },
  {
   "cell_type": "code",
   "execution_count": 3,
   "metadata": {
    "code_folding": []
   },
   "outputs": [],
   "source": [
    "# context\n",
    "bench = '^GSPC'\n",
    "y_col = 'fwdReturn'\n",
    "tickers = excl(config['companies'], [])\n",
    "\n",
    "context = {\n",
    "    'ml_path': '../ML/',\n",
    "    'model_name': 'micro_TF.h5',\n",
    "    'tmp_path': '../tmp/',\n",
    "    'ds_name': 'co-technicals-ds',\n",
    "    'px_close': 'universe-px-ds',\n",
    "    'trained_cols': 'micro_TF_train_cols.npy',\n",
    "    'look_ahead': 120,\n",
    "    'look_back': 252*3,\n",
    "    'load_ds': True,\n",
    "    'scale': True,\n",
    "    'test_size': .05,\n",
    "    'verbose': True,\n",
    "    's3_path': 'recommend/micro_ML/',\n",
    "    'units': 850,\n",
    "    'max_iter': 20,\n",
    "    'l2_reg': 0.01,\n",
    "}"
   ]
  },
  {
   "cell_type": "code",
   "execution_count": 4,
   "metadata": {
    "code_folding": [
     0
    ]
   },
   "outputs": [
    {
     "name": "stdout",
     "output_type": "stream",
     "text": [
      "universe-px-ds                                100%   18MB   7.5MB/s   00:02    \n"
     ]
    }
   ],
   "source": [
    "# get latest pricing file from inferece server\n",
    "px_close_ds = context['px_close']\n",
    "tmp_path = context['tmp_path']\n",
    "os.makedirs(tmp_path, exist_ok=True)\n",
    "!scp -i ~/.ssh/qc_infra.pem ubuntu@52.13.205.29:~/inception/tmp/{px_close_ds} {tmp_path}{px_close_ds}"
   ]
  },
  {
   "cell_type": "code",
   "execution_count": 5,
   "metadata": {
    "code_folding": [
     0
    ]
   },
   "outputs": [
    {
     "name": "stdout",
     "output_type": "stream",
     "text": [
      "<class 'pandas.core.frame.DataFrame'>\n",
      "Index: 4674 entries, 2004-05-16 to 2019-05-17\n",
      "Columns: 1291 entries, 0700.HK to KRW=X\n",
      "dtypes: float32(1291)\n",
      "memory usage: 23.1+ MB\n",
      "px_close.info() None\n",
      "Return intervals [  -inf -0.153 -0.115  0.169  0.233    inf]\n"
     ]
    }
   ],
   "source": [
    "# load stored pricing\n",
    "px_close = load_px_close(\n",
    "    context['tmp_path'], context['px_close'], context['load_ds']).drop_duplicates()\n",
    "print('px_close.info()', px_close.info())\n",
    "\n",
    "fwd_ret_labels = [\"bear\", \"short\", \"neutral\", \"long\", \"bull\"]\n",
    "clean_co_px = px_close.dropna(subset=[bench])[tickers].fillna(method='ffill')\n",
    "\n",
    "cut_range = get_return_intervals(\n",
    "    clean_co_px, \n",
    "    int(np.mean(context['look_ahead'])), \n",
    "    tresholds=[0.4, 0.7])\n",
    "\n",
    "print(f'Return intervals {np.round(cut_range, 3)}')"
   ]
  },
  {
   "cell_type": "code",
   "execution_count": 6,
   "metadata": {
    "code_folding": [
     0
    ]
   },
   "outputs": [
    {
     "name": "stdout",
     "output_type": "stream",
     "text": [
      "Target date: 2019-05-17\n",
      "Loading file quote/csv/2019-05-17\n",
      "Loading file summary-categories/assetProfile\n"
     ]
    }
   ],
   "source": [
    "# Quotes, profile, and industries\n",
    "dates = read_dates('quote')\n",
    "tgt_date = dates[-1] # last date saved in S3\n",
    "print(f'Target date: {tgt_date}')\n",
    "\n",
    "quotes = load_csvs('quote_consol', [tgt_date])\n",
    "quotes.set_index('symbol', drop=False, inplace=True)\n",
    "\n",
    "profile = load_csvs('summary_detail', ['assetProfile'])\n",
    "profile.set_index('symbol', drop=False, inplace=True)"
   ]
  },
  {
   "cell_type": "code",
   "execution_count": 7,
   "metadata": {
    "code_folding": [
     0
    ]
   },
   "outputs": [
    {
     "name": "stdout",
     "output_type": "stream",
     "text": [
      "1214 companies\n"
     ]
    }
   ],
   "source": [
    "# Training/inference subset\n",
    "tgt_sectors = [\n",
    "    'Technology',\n",
    "    'Healthcare',\n",
    "    'Industrials',\n",
    "    'Basic Materials',\n",
    "    'Consumer Cyclical',\n",
    "    'Financial Services',\n",
    "    'Consumer Defensive',\n",
    "    'Real Estate',\n",
    "    'Utilities',\n",
    "    'Communication Services',\n",
    "    'Energy',\n",
    "]\n",
    "\n",
    "# size_df = get_focus_tickers(quotes, profile, tgt_sectors)\n",
    "# tickers = list(size_df.index)\n",
    "# ind_count = size_df.groupby('industry').count()['marketCap']\n",
    "# tgt_industries = list(ind_count.loc[ind_count > ind_count.median() - 1].index)\n",
    "# tickers = list(profile.loc[profile.industry.isin(tgt_industries), 'symbol'])\n",
    "tickers = list(quotes.loc[quotes.quoteType == 'EQUITY', 'symbol'])\n",
    "context['tickers'] = tickers\n",
    "print(f'{len(tickers)} companies')"
   ]
  },
  {
   "cell_type": "markdown",
   "metadata": {},
   "source": [
    "### Final"
   ]
  },
  {
   "cell_type": "code",
   "execution_count": 8,
   "metadata": {
    "code_folding": [
     0
    ]
   },
   "outputs": [],
   "source": [
    "def pre_process_ds(context):\n",
    "    \n",
    "    tickers = context['tickers']\n",
    "    sectors = profile.loc[profile.symbol.isin(tickers)].sector.unique()\n",
    "    industries = profile.loc[profile.symbol.isin(tickers)].industry.unique()\n",
    "    print(f'Sectors: {sectors.shape[0]}, Industries: {industries.shape[0]}')\n",
    "    \n",
    "    indices_df = pd.concat(\n",
    "        [eq_wgt_indices(profile, px_close, 'sector', sectors, subset=tickers),\n",
    "        eq_wgt_indices(profile, px_close, 'industry', industries, subset=tickers),\n",
    "        to_index_form(px_close[bench], bench)], \n",
    "        axis=1).drop_duplicates()\n",
    "    \n",
    "    # create price momentum features\n",
    "    tmp_path = context['tmp_path']\n",
    "    ds_name = context['ds_name']\n",
    "\n",
    "    super_list = []\n",
    "    for i, ticker in tqdm(enumerate(tickers)):\n",
    "        try:\n",
    "            close = px_close[ticker].dropna()\n",
    "            ft_df = px_mom_feats(close, ticker, incl_name=False)\n",
    "            if ticker in profile.symbol.unique():\n",
    "                top_groups = tuple([bench, profile.loc[ticker, 'sector']])\n",
    "                co = px_mom_co_feats_light(close, indices_df, top_groups)\n",
    "                ft_df = pd.concat([ft_df, co.loc[ft_df.index, :]], axis=1)\n",
    "                super_list.append(ft_df.copy())\n",
    "            else: print(ticker, 'missing profile, skipping')\n",
    "        except Exception as e: \n",
    "            print(\"Exception: {0} {1}\".format(ticker, e))\n",
    "\n",
    "    joined_df = pd.concat(super_list, axis=0)\n",
    "    joined_df = chain_outlier(joined_df, None)\n",
    "        \n",
    "    # basic impute and scaling\n",
    "    scale_on = context['scale']\n",
    "    scaler = StandardScaler()\n",
    "    num_cols = numeric_cols(joined_df)\n",
    "#     joined_df.loc[:, num_cols] = joined_df[num_cols].replace([np.inf, -np.inf, np.nan], 0)\n",
    "    joined_df.dropna(inplace=True)\n",
    "    if scale_on: joined_df.loc[:, num_cols] = scaler.fit_transform(joined_df[num_cols])\n",
    "\n",
    "    # add categoricals\n",
    "    joined_df = dummy_col(joined_df, 'sector', shorten=True)\n",
    "    \n",
    "    return joined_df"
   ]
  },
  {
   "cell_type": "code",
   "execution_count": 9,
   "metadata": {
    "code_folding": []
   },
   "outputs": [],
   "source": [
    "def get_train_test_sets(context):\n",
    "    \n",
    "    verbose = context['verbose']\n",
    "    ml_path, model_name = context['ml_path'], context['model_name']\n",
    "    trained_cols = context['trained_cols']    \n",
    "    test_size = context['test_size']    \n",
    "    look_ahead = context['look_ahead']\n",
    "\n",
    "    narrow_list = list(train_on_winners(clean_co_px, context['tickers'], 10, 0.75).index)\n",
    "    context['tickers'] = narrow_list\n",
    "    print(f'Training on {len(context[\"tickers\"])} companies')\n",
    "\n",
    "    joined_df = pre_process_ds(context)\n",
    "\n",
    "    # calculation of forward returns\n",
    "    look_ahead = context['look_ahead']\n",
    "    Y = clean_co_px.apply(px_fwd_ret, args=(look_ahead, int(look_ahead/4)))\n",
    "    Y = Y[~(Y.isna().all(1))]\n",
    "\n",
    "    # reshapes to include symbol in index in additional to date\n",
    "    Y_df = Y.loc[joined_df.index.unique().sortlevel()[0], tickers]\n",
    "    Y_df = Y_df.stack().to_frame().rename(columns={0: y_col})\n",
    "    # somwhat repetitive with steps above but performs faster\n",
    "    Y_df.index.set_names(['storeDate', 'symbol'], inplace=True)\n",
    "    print('Y_df.shape', Y_df.shape)\n",
    "\n",
    "    # re-index processed df on storeDate and symbol to have similar indices\n",
    "    joined_df.index.set_names('storeDate', inplace=True)\n",
    "    joined_df.set_index(['symbol'], append=True, inplace=True)\n",
    "    print('joined_df.shape', joined_df.shape)\n",
    "\n",
    "    # add Y values to processed df fast without having to loop\n",
    "    joined_df.loc[:, y_col] = Y_df.loc[joined_df.index, y_col]\n",
    "\n",
    "    # joined_df.loc[(slice(None), 'AAPL'), y_col].plot() # visualize smoothing\n",
    "    # joined_df.groupby('symbol')[y_col].mean().sort_values() # rank long-term mean performance\n",
    "\n",
    "    # discretize Y-variable\n",
    "    joined_df.dropna(subset=[y_col], inplace=True)\n",
    "    joined_df[y_col] = discret_rets(joined_df[y_col], cut_range, fwd_ret_labels)\n",
    "    print('joined_df.shape', joined_df.shape)\n",
    "    print(sample_wgts(joined_df[y_col]))\n",
    "\n",
    "    joined_df.dropna(subset=[y_col], inplace=True)\n",
    "    joined_df.loc[:, y_col] = joined_df[y_col].astype(str)\n",
    "\n",
    "    days = len(joined_df.index.levels[0].unique())\n",
    "    print(f'Training for {days} dates, {round(days/252, 1)} years')\n",
    "\n",
    "    # joined_df.loc[(slice(None), 'TAL'), y_col].value_counts() # look at a specific security distribution\n",
    "    train_df = joined_df.reset_index(drop=True)\n",
    "    train_df.shape\n",
    "\n",
    "    # create training and test sets\n",
    "    X, y = train_df.drop(columns=y_col), train_df[y_col]\n",
    "    sss = StratifiedShuffleSplit(n_splits=1, test_size=test_size, random_state=42)\n",
    "    for train_index, test_index in sss.split(X, y):\n",
    "        X_train, X_test = X.iloc[train_index], X.iloc[test_index]\n",
    "        y_train, y_test = y.iloc[train_index], y.iloc[test_index]\n",
    "        break # just one split\n",
    "\n",
    "    # skf = StratifiedKFold(n_splits=2, random_state=None)\n",
    "    # for train_index, test_index in skf.split(X, y):\n",
    "    #     X_train, X_test = X.iloc[train_index], X.iloc[test_index]\n",
    "    #     y_train, y_test = y.iloc[train_index], y.iloc[test_index]\n",
    "    #     break\n",
    "          \n",
    "    return X_train, X_test, y_train, y_test"
   ]
  },
  {
   "cell_type": "code",
   "execution_count": 10,
   "metadata": {
    "code_folding": [
     0
    ]
   },
   "outputs": [],
   "source": [
    "def train_ds(context):\n",
    "    \n",
    "    X_train, X_test, y_train, y_test = get_train_test_sets(context)\n",
    "    \n",
    "    # Keras Model\n",
    "    max_iter = context['max_iter']\n",
    "    l2_reg = context['l2_reg']\n",
    "    units = context['units']\n",
    "    trained_cols = context['trained_cols']\n",
    "\n",
    "    y_train_oh = pd.get_dummies(y_train)[fwd_ret_labels]\n",
    "    y_test_oh = pd.get_dummies(y_test)[fwd_ret_labels]\n",
    "\n",
    "    model = Sequential()\n",
    "    model.add(Dense(units, activation='relu', input_dim=X_train.shape[1]))\n",
    "    # model.add(Dropout(0.05))\n",
    "    model.add(Dense(units, activation='relu'))\n",
    "    model.add(Dense(units, activation='relu'))\n",
    "    model.add(Dense(units, activation='relu'))\n",
    "    model.add(Dense(int(units/2), activation='relu'))\n",
    "    model.add(Dense(len(pd.unique(y_train)), activation='softmax'))\n",
    "    keras.regularizers.l2(l2_reg)\n",
    "\n",
    "    opt = Adam()\n",
    "    # opt = Nadam() #essentially RMSprop with momentum, Nadam is Adam RMSprop with Nesterov momentum\n",
    "    # opt = RMSprop() #optimizer is usually a good choice for recurrent neural networks\n",
    "\n",
    "    ml_path, model_name = context['ml_path'], context['model_name']\n",
    "    fname = ml_path + model_name\n",
    "    es = EarlyStopping(monitor='loss', patience=10, restore_best_weights=True, verbose=1)\n",
    "    checkpointer = ModelCheckpoint(filepath=fname, verbose=1, save_best_only=True)\n",
    "    csv_logger = CSVLogger('micro-train.log')\n",
    "\n",
    "    # save training columns\n",
    "    np.save(ml_path + trained_cols, X_train.columns) # save feature order\n",
    "    print(f'X_train.shape {X_train.shape}, columns: {list(X_train.columns)}')\n",
    "    print('Saved: ', ml_path + trained_cols)    \n",
    "    \n",
    "    model.compile(loss='categorical_crossentropy', optimizer=opt, metrics=['accuracy'])\n",
    "    history = model.fit(X_train, y_train_oh, validation_data=(X_test, y_test_oh), \n",
    "              epochs=max_iter, batch_size=200, callbacks=[es, checkpointer, csv_logger])\n",
    "\n",
    "    score = model.evaluate(X_test, y_test_oh)\n",
    "    print(f'Test loss: {score[0]}, Test accuracy: {score[1]}')\n",
    "\n",
    "    # save model to drive\n",
    "    model.save(fname)\n",
    "    print('Saved ', fname)"
   ]
  },
  {
   "cell_type": "code",
   "execution_count": 11,
   "metadata": {
    "code_folding": [
     0
    ]
   },
   "outputs": [],
   "source": [
    "def predict_ds(context):\n",
    "    \n",
    "    ml_path = context['ml_path']\n",
    "    model_name = context['model_name']\n",
    "    trained_cols = context['trained_cols']\n",
    "    look_back = context['look_back']\n",
    "    \n",
    "    joined_df = pre_process_ds(context)\n",
    "    pred_X = joined_df.loc[joined_df.sort_index().index.unique()[-look_back:], :]\n",
    "    print('pred_X.shape', pred_X.shape)\n",
    "\n",
    "    # ensure prediction dataset is consistent with trained model\n",
    "    train_cols = np.load(ml_path + trained_cols, allow_pickle=True) # save feature order\n",
    "    missing_cols = [x for x in train_cols if x not in pred_X.columns]\n",
    "    if len(missing_cols):\n",
    "        print(f'Warning missing columns: {missing_cols}')\n",
    "        pred_X = pd.concat([pred_X, pd.DataFrame(columns=missing_cols)], axis=1)\n",
    "        pred_X[missing_cols] = 0\n",
    "\n",
    "    sorted_cols = list(np.append(train_cols, ['symbol']))\n",
    "    print('pred_X.shape', pred_X[sorted_cols].shape)\n",
    "\n",
    "    pred_df = pd.DataFrame()\n",
    "    pred_df['symbol'] = pred_X.symbol\n",
    "\n",
    "    # Load model    \n",
    "    fname = ml_path + model_name\n",
    "    model = load_model(fname)\n",
    "    print('Loaded', fname)\n",
    "\n",
    "    preds = model.predict(pred_X[sorted_cols].iloc[:, :-1])\n",
    "    preds_classes = model.predict_classes(pred_X[sorted_cols].iloc[:, :-1])    \n",
    "\n",
    "    pred_df['pred_class'] = preds_classes\n",
    "    pred_df['pred_label'] = list(map(lambda x: fwd_ret_labels[x], preds_classes))\n",
    "    probs = np.round(preds,3)\n",
    "    pred_prob = np.argmax(probs, axis=1)\n",
    "    pred_df['confidence'] = [x[np.argmax(x)] for x in probs] # higest prob\n",
    "    prob_df = pd.DataFrame(probs, index=pred_df.index, columns=fwd_ret_labels)\n",
    "    pred_df = pd.concat([pred_df, prob_df[fwd_ret_labels]], axis=1)\n",
    "    pred_df.index.name = 'pred_date'    \n",
    "    \n",
    "    # store in S3\n",
    "    s3_path = context['s3_path']\n",
    "    s3_df = pred_df.reset_index(drop=False)\n",
    "    rename_col(s3_df, 'index', 'pred_date')\n",
    "    csv_store(s3_df, s3_path, csv_ext.format(tgt_date))\n",
    "            \n",
    "    return pred_df"
   ]
  },
  {
   "cell_type": "markdown",
   "metadata": {},
   "source": [
    "#### Train"
   ]
  },
  {
   "cell_type": "code",
   "execution_count": null,
   "metadata": {},
   "outputs": [],
   "source": []
  },
  {
   "cell_type": "code",
   "execution_count": null,
   "metadata": {},
   "outputs": [],
   "source": []
  },
  {
   "cell_type": "code",
   "execution_count": null,
   "metadata": {},
   "outputs": [],
   "source": []
  },
  {
   "cell_type": "code",
   "execution_count": null,
   "metadata": {},
   "outputs": [],
   "source": [
    "max_iter = context['max_iter']\n",
    "l2_reg = context['l2_reg']\n",
    "units = context['units']\n",
    "trained_cols = context['trained_cols']\n",
    "\n",
    "X_train, X_test, y_train, y_test = get_train_test_sets(context)\n",
    "\n",
    "y_train_oh = pd.get_dummies(y_train)[fwd_ret_labels]\n",
    "y_test_oh = pd.get_dummies(y_test)[fwd_ret_labels]"
   ]
  },
  {
   "cell_type": "code",
   "execution_count": 22,
   "metadata": {
    "code_folding": [
     0
    ]
   },
   "outputs": [
    {
     "name": "stdout",
     "output_type": "stream",
     "text": [
      "X_train.shape (655664, 28), columns: ['PctChg1Stds', 'PctMA50', 'PctMA200', 'RollVol30', 'PctChg20', 'PctChg60', 'PctChg120', 'Pct52WkH', 'Pct52WkL', 'rsBench20', 'rsSect20', 'rsBench60', 'rsSect60', 'rsBench120', 'rsSect120', 'benchPctChgStds', 'sectPctChgStds', '^BASI_MATE', '^COMM_SERV', '^CONS_CYCL', '^CONS_DEFE', '^ENER', '^FINA_SERV', '^HEAL', '^INDU', '^REAL_ESTA', '^TECH', '^UTIL']\n",
      "Saved:  ../ML/micro_TF_train_cols.npy\n",
      "Train on 655664 samples, validate on 163917 samples\n",
      "Epoch 1/20\n",
      "655664/655664 [==============================] - 84s 127us/step - loss: 1.0014 - acc: 0.5997 - val_loss: 0.9647 - val_acc: 0.6149\n",
      "\n",
      "Epoch 00001: val_loss improved from inf to 0.96469, saving model to ../ML/micro_TF.h5\n",
      "Epoch 2/20\n",
      "655664/655664 [==============================] - 83s 126us/step - loss: 0.9140 - acc: 0.6317 - val_loss: 0.8751 - val_acc: 0.6489\n",
      "\n",
      "Epoch 00002: val_loss improved from 0.96469 to 0.87512, saving model to ../ML/micro_TF.h5\n",
      "Epoch 3/20\n",
      "655664/655664 [==============================] - 83s 126us/step - loss: 0.8171 - acc: 0.6696 - val_loss: 0.7883 - val_acc: 0.6831\n",
      "\n",
      "Epoch 00003: val_loss improved from 0.87512 to 0.78827, saving model to ../ML/micro_TF.h5\n",
      "Epoch 4/20\n",
      "655664/655664 [==============================] - 83s 126us/step - loss: 0.7229 - acc: 0.7086 - val_loss: 0.7117 - val_acc: 0.7169\n",
      "\n",
      "Epoch 00004: val_loss improved from 0.78827 to 0.71166, saving model to ../ML/micro_TF.h5\n",
      "Epoch 5/20\n",
      "655664/655664 [==============================] - 84s 128us/step - loss: 0.6415 - acc: 0.7429 - val_loss: 0.6450 - val_acc: 0.7424\n",
      "\n",
      "Epoch 00005: val_loss improved from 0.71166 to 0.64501, saving model to ../ML/micro_TF.h5\n",
      "Epoch 6/20\n",
      "655664/655664 [==============================] - 83s 126us/step - loss: 0.5738 - acc: 0.7724 - val_loss: 0.5981 - val_acc: 0.7664\n",
      "\n",
      "Epoch 00006: val_loss improved from 0.64501 to 0.59809, saving model to ../ML/micro_TF.h5\n",
      "Epoch 7/20\n",
      "655664/655664 [==============================] - 83s 127us/step - loss: 0.5167 - acc: 0.7962 - val_loss: 0.5558 - val_acc: 0.7852\n",
      "\n",
      "Epoch 00007: val_loss improved from 0.59809 to 0.55580, saving model to ../ML/micro_TF.h5\n",
      "Epoch 8/20\n",
      "655664/655664 [==============================] - 83s 126us/step - loss: 0.4707 - acc: 0.8161 - val_loss: 0.5314 - val_acc: 0.7947\n",
      "\n",
      "Epoch 00008: val_loss improved from 0.55580 to 0.53143, saving model to ../ML/micro_TF.h5\n",
      "Epoch 9/20\n",
      "655664/655664 [==============================] - 83s 127us/step - loss: 0.4316 - acc: 0.8329 - val_loss: 0.4974 - val_acc: 0.8097\n",
      "\n",
      "Epoch 00009: val_loss improved from 0.53143 to 0.49736, saving model to ../ML/micro_TF.h5\n",
      "Epoch 10/20\n",
      "655664/655664 [==============================] - 83s 127us/step - loss: 0.3983 - acc: 0.8467 - val_loss: 0.4665 - val_acc: 0.8239\n",
      "\n",
      "Epoch 00010: val_loss improved from 0.49736 to 0.46649, saving model to ../ML/micro_TF.h5\n",
      "Epoch 11/20\n",
      "655664/655664 [==============================] - 83s 127us/step - loss: 0.3699 - acc: 0.8588 - val_loss: 0.4496 - val_acc: 0.8318\n",
      "\n",
      "Epoch 00011: val_loss improved from 0.46649 to 0.44963, saving model to ../ML/micro_TF.h5\n",
      "Epoch 12/20\n",
      "655664/655664 [==============================] - 83s 127us/step - loss: 0.3448 - acc: 0.8691 - val_loss: 0.4263 - val_acc: 0.8429\n",
      "\n",
      "Epoch 00012: val_loss improved from 0.44963 to 0.42633, saving model to ../ML/micro_TF.h5\n",
      "Epoch 13/20\n",
      "655664/655664 [==============================] - 83s 127us/step - loss: 0.3247 - acc: 0.8779 - val_loss: 0.4183 - val_acc: 0.8484\n",
      "\n",
      "Epoch 00013: val_loss improved from 0.42633 to 0.41828, saving model to ../ML/micro_TF.h5\n",
      "Epoch 14/20\n",
      "655664/655664 [==============================] - 83s 127us/step - loss: 0.3065 - acc: 0.8852 - val_loss: 0.4143 - val_acc: 0.8515\n",
      "\n",
      "Epoch 00014: val_loss improved from 0.41828 to 0.41426, saving model to ../ML/micro_TF.h5\n",
      "Epoch 15/20\n",
      "655664/655664 [==============================] - 83s 127us/step - loss: 0.2909 - acc: 0.8916 - val_loss: 0.4077 - val_acc: 0.8543\n",
      "\n",
      "Epoch 00015: val_loss improved from 0.41426 to 0.40773, saving model to ../ML/micro_TF.h5\n",
      "Epoch 16/20\n",
      "655664/655664 [==============================] - 83s 127us/step - loss: 0.2758 - acc: 0.8978 - val_loss: 0.3863 - val_acc: 0.8637\n",
      "\n",
      "Epoch 00016: val_loss improved from 0.40773 to 0.38630, saving model to ../ML/micro_TF.h5\n",
      "Epoch 17/20\n",
      "655664/655664 [==============================] - 83s 127us/step - loss: 0.2633 - acc: 0.9029 - val_loss: 0.3755 - val_acc: 0.8675\n",
      "\n",
      "Epoch 00017: val_loss improved from 0.38630 to 0.37548, saving model to ../ML/micro_TF.h5\n",
      "Epoch 18/20\n",
      "655664/655664 [==============================] - 83s 127us/step - loss: 0.2529 - acc: 0.9075 - val_loss: 0.3788 - val_acc: 0.8689\n",
      "\n",
      "Epoch 00018: val_loss did not improve from 0.37548\n",
      "Epoch 19/20\n",
      "655664/655664 [==============================] - 83s 127us/step - loss: 0.2443 - acc: 0.9113 - val_loss: 0.3608 - val_acc: 0.8740\n",
      "\n",
      "Epoch 00019: val_loss improved from 0.37548 to 0.36081, saving model to ../ML/micro_TF.h5\n",
      "Epoch 20/20\n",
      "655664/655664 [==============================] - 83s 127us/step - loss: 0.2343 - acc: 0.9151 - val_loss: 0.3720 - val_acc: 0.8699\n",
      "\n",
      "Epoch 00020: val_loss did not improve from 0.36081\n",
      "163917/163917 [==============================] - 9s 55us/step\n",
      "Test loss: 0.37201597871221254, Test accuracy: 0.8698670668699354\n"
     ]
    }
   ],
   "source": [
    "# Keras Model\n",
    "# model = Sequential()\n",
    "# model.add(Dense(units, input_dim=X_train.shape[1]))\n",
    "# model.add(BatchNormalization())\n",
    "# model.add(Activation(\"relu\"))\n",
    "# model.add(Dense(units))\n",
    "# model.add(BatchNormalization())\n",
    "# model.add(Activation(\"relu\"))\n",
    "# model.add(Dense(units))\n",
    "# model.add(BatchNormalization())\n",
    "# model.add(Activation(\"relu\"))\n",
    "# model.add(Dense(int(units/2)))\n",
    "# model.add(BatchNormalization())\n",
    "# model.add(Activation(\"relu\"))\n",
    "# model.add(Dense(len(pd.unique(y_train)), activation='softmax'))\n",
    "# keras.regularizers.l2(l2_reg)\n",
    "\n",
    "model = Sequential()\n",
    "model.add(Dense(units, activation='relu', input_dim=X_train.shape[1]))\n",
    "# model.add(Dropout(0.05))\n",
    "model.add(Dense(units, activation='relu'))\n",
    "model.add(Dense(units, activation='relu'))\n",
    "model.add(Dense(units, activation='relu'))\n",
    "model.add(Dense(int(units/2), activation='relu'))\n",
    "model.add(Dense(len(pd.unique(y_train)), activation='softmax'))\n",
    "keras.regularizers.l2(l2_reg)\n",
    "\n",
    "opt = Adam()\n",
    "\n",
    "ml_path, model_name = context['ml_path'], context['model_name']\n",
    "fname = ml_path + model_name\n",
    "es = EarlyStopping(monitor='loss', patience=10, restore_best_weights=True, verbose=1)\n",
    "checkpointer = ModelCheckpoint(filepath=fname, verbose=1, save_best_only=True)\n",
    "csv_logger = CSVLogger('micro-train.log')\n",
    "\n",
    "# save training columns\n",
    "np.save(ml_path + trained_cols, X_train.columns) # save feature order\n",
    "print(f'X_train.shape {X_train.shape}, columns: {list(X_train.columns)}')\n",
    "print('Saved: ', ml_path + trained_cols)    \n",
    "\n",
    "model.compile(loss='categorical_crossentropy', optimizer=opt, metrics=['accuracy'])\n",
    "history = model.fit(X_train, y_train_oh, validation_data=(X_test, y_test_oh), \n",
    "          epochs=max_iter, batch_size=64, callbacks=[es, checkpointer, csv_logger])\n",
    "\n",
    "score = model.evaluate(X_test, y_test_oh)\n",
    "print(f'Test loss: {score[0]}, Test accuracy: {score[1]}')"
   ]
  },
  {
   "cell_type": "code",
   "execution_count": null,
   "metadata": {},
   "outputs": [],
   "source": []
  },
  {
   "cell_type": "code",
   "execution_count": null,
   "metadata": {},
   "outputs": [],
   "source": []
  },
  {
   "cell_type": "code",
   "execution_count": null,
   "metadata": {
    "scrolled": false
   },
   "outputs": [],
   "source": [
    "%time train_ds(context)"
   ]
  },
  {
   "cell_type": "markdown",
   "metadata": {},
   "source": [
    "#### Predict"
   ]
  },
  {
   "cell_type": "code",
   "execution_count": null,
   "metadata": {
    "scrolled": true
   },
   "outputs": [
    {
     "name": "stdout",
     "output_type": "stream",
     "text": [
      "Sectors: 11, Industries: 136\n"
     ]
    },
    {
     "name": "stderr",
     "output_type": "stream",
     "text": [
      "0it [00:00, ?it/s]/home/ubuntu/miniconda3/envs/inception/lib/python3.7/site-packages/pandas/core/indexing.py:1017: FutureWarning: \n",
      "Passing list-likes to .loc or [] with any missing label will raise\n",
      "KeyError in the future, you can use .reindex() as an alternative.\n",
      "\n",
      "See the documentation here:\n",
      "https://pandas.pydata.org/pandas-docs/stable/indexing.html#deprecate-loc-reindex-listlike\n",
      "  return getattr(section, self.name)[new_key]\n",
      "5it [00:00, 11.10it/s]"
     ]
    },
    {
     "name": "stdout",
     "output_type": "stream",
     "text": [
      "9984.T missing profile, skipping\n"
     ]
    },
    {
     "name": "stderr",
     "output_type": "stream",
     "text": [
      "18it [00:01, 10.41it/s]"
     ]
    },
    {
     "name": "stdout",
     "output_type": "stream",
     "text": [
      "ABMD missing profile, skipping\n"
     ]
    },
    {
     "name": "stderr",
     "output_type": "stream",
     "text": [
      "194it [00:20, 10.17it/s]"
     ]
    },
    {
     "name": "stdout",
     "output_type": "stream",
     "text": [
      "CBOE missing profile, skipping\n"
     ]
    },
    {
     "name": "stderr",
     "output_type": "stream",
     "text": [
      "304it [00:32, 11.49it/s]"
     ]
    },
    {
     "name": "stdout",
     "output_type": "stream",
     "text": [
      "DDD missing profile, skipping\n"
     ]
    },
    {
     "name": "stderr",
     "output_type": "stream",
     "text": [
      "332it [00:35, 10.39it/s]"
     ]
    },
    {
     "name": "stdout",
     "output_type": "stream",
     "text": [
      "DRE missing profile, skipping\n"
     ]
    },
    {
     "name": "stderr",
     "output_type": "stream",
     "text": [
      "533it [00:56, 11.11it/s]"
     ]
    },
    {
     "name": "stdout",
     "output_type": "stream",
     "text": [
      "IBKR missing profile, skipping\n"
     ]
    },
    {
     "name": "stderr",
     "output_type": "stream",
     "text": [
      "583it [01:01, 10.69it/s]"
     ]
    },
    {
     "name": "stdout",
     "output_type": "stream",
     "text": [
      "JBT missing profile, skipping\n"
     ]
    },
    {
     "name": "stderr",
     "output_type": "stream",
     "text": [
      "652it [01:09, 10.31it/s]"
     ]
    },
    {
     "name": "stdout",
     "output_type": "stream",
     "text": [
      "LRCX missing profile, skipping\n"
     ]
    },
    {
     "name": "stderr",
     "output_type": "stream",
     "text": [
      "797it [01:24, 11.49it/s]"
     ]
    },
    {
     "name": "stdout",
     "output_type": "stream",
     "text": [
      "ODFL missing profile, skipping\n"
     ]
    },
    {
     "name": "stderr",
     "output_type": "stream",
     "text": [
      "893it [01:34, 10.81it/s]"
     ]
    },
    {
     "name": "stdout",
     "output_type": "stream",
     "text": [
      "REGN missing profile, skipping\n"
     ]
    },
    {
     "name": "stderr",
     "output_type": "stream",
     "text": [
      "919it [01:36, 10.71it/s]"
     ]
    },
    {
     "name": "stdout",
     "output_type": "stream",
     "text": [
      "ROP missing profile, skipping\n"
     ]
    },
    {
     "name": "stderr",
     "output_type": "stream",
     "text": [
      "1017it [01:47, 11.04it/s]"
     ]
    },
    {
     "name": "stdout",
     "output_type": "stream",
     "text": [
      "TAP missing profile, skipping\n"
     ]
    },
    {
     "name": "stderr",
     "output_type": "stream",
     "text": [
      "1092it [01:55, 10.59it/s]"
     ]
    },
    {
     "name": "stdout",
     "output_type": "stream",
     "text": [
      "UDR missing profile, skipping\n"
     ]
    },
    {
     "name": "stderr",
     "output_type": "stream",
     "text": [
      "1098it [01:55, 11.15it/s]"
     ]
    },
    {
     "name": "stdout",
     "output_type": "stream",
     "text": [
      "ULTI missing profile, skipping\n"
     ]
    },
    {
     "name": "stderr",
     "output_type": "stream",
     "text": [
      "1176it [02:03, 10.31it/s]"
     ]
    },
    {
     "name": "stdout",
     "output_type": "stream",
     "text": [
      "WSM missing profile, skipping\n"
     ]
    },
    {
     "name": "stderr",
     "output_type": "stream",
     "text": [
      "1214it [02:07, 13.75it/s]\n"
     ]
    },
    {
     "name": "stdout",
     "output_type": "stream",
     "text": [
      "pred_X.shape (849317, 29)\n",
      "pred_X.shape (849317, 29)\n",
      "WARNING:tensorflow:From /home/ubuntu/miniconda3/envs/inception/lib/python3.7/site-packages/tensorflow/python/framework/op_def_library.py:263: colocate_with (from tensorflow.python.framework.ops) is deprecated and will be removed in a future version.\n",
      "Instructions for updating:\n",
      "Colocations handled automatically by placer.\n"
     ]
    }
   ],
   "source": [
    "# predict for all\n",
    "%time pred_df = predict_ds(context)"
   ]
  },
  {
   "cell_type": "markdown",
   "metadata": {
    "heading_collapsed": true
   },
   "source": [
    "#### Store / Read S3"
   ]
  },
  {
   "cell_type": "code",
   "execution_count": 15,
   "metadata": {
    "hidden": true
   },
   "outputs": [],
   "source": [
    "s3_path = context['s3_path']"
   ]
  },
  {
   "cell_type": "code",
   "execution_count": 16,
   "metadata": {
    "hidden": true
   },
   "outputs": [],
   "source": [
    "# read from S3\n",
    "pred_df = pd.read_csv(\n",
    "    csv_load(f'{s3_path}{tgt_date}'), \n",
    "    index_col='pred_date', parse_dates=True)"
   ]
  },
  {
   "cell_type": "markdown",
   "metadata": {},
   "source": [
    "#### Visualize"
   ]
  },
  {
   "cell_type": "code",
   "execution_count": 15,
   "metadata": {},
   "outputs": [
    {
     "data": {
      "text/plain": [
       "neutral   0.58\n",
       "long      0.20\n",
       "bull      0.14\n",
       "short     0.04\n",
       "bear      0.04\n",
       "Name: pred_label, dtype: float64"
      ]
     },
     "execution_count": 15,
     "metadata": {},
     "output_type": "execute_result"
    }
   ],
   "source": [
    "# recommendation distribution\n",
    "pd.value_counts(pred_df.pred_label) / pd.value_counts(pred_df.pred_label).sum()"
   ]
  },
  {
   "cell_type": "code",
   "execution_count": 98,
   "metadata": {
    "code_folding": [
     0
    ]
   },
   "outputs": [
    {
     "name": "stderr",
     "output_type": "stream",
     "text": [
      "/home/ubuntu/miniconda3/envs/inception/lib/python3.7/site-packages/ipykernel_launcher.py:13: FutureWarning: \n",
      "Passing list-likes to .loc or [] with any missing label will raise\n",
      "KeyError in the future, you can use .reindex() as an alternative.\n",
      "\n",
      "See the documentation here:\n",
      "https://pandas.pydata.org/pandas-docs/stable/indexing.html#deprecate-loc-reindex-listlike\n",
      "  del sys.path[0]\n",
      "/home/ubuntu/miniconda3/envs/inception/lib/python3.7/site-packages/ipykernel_launcher.py:16: FutureWarning: \n",
      "Passing list-likes to .loc or [] with any missing label will raise\n",
      "KeyError in the future, you can use .reindex() as an alternative.\n",
      "\n",
      "See the documentation here:\n",
      "https://pandas.pydata.org/pandas-docs/stable/indexing.html#deprecate-loc-reindex-listlike\n",
      "  app.launch_new_instance()\n"
     ]
    },
    {
     "data": {
      "image/png": "[encoded data removed]",
      "text/plain": [
       "<Figure size 1080x144 with 2 Axes>"
      ]
     },
     "metadata": {
      "needs_background": "light"
     },
     "output_type": "display_data"
    },
    {
     "data": {
      "image/png": "[encoded data removed]",
      "text/plain": [
       "<Figure size 1080x360 with 2 Axes>"
      ]
     },
     "metadata": {
      "needs_background": "light"
     },
     "output_type": "display_data"
    },
    {
     "data": {
      "image/png": "[encoded data removed]",
      "text/plain": [
       "<Figure size 1080x144 with 1 Axes>"
      ]
     },
     "metadata": {
      "needs_background": "light"
     },
     "output_type": "display_data"
    }
   ],
   "source": [
    "def plot_symbol_hist_pred(pred_symbol, clean_co_px, context, pred_df):\n",
    "    \n",
    "    # pred_symbol = random.choice(joined_df.symbol.unique())\n",
    "    pred_symbol = pred_symbol if pred_symbol is not None else random.choice(joined_df.symbol.unique())\n",
    "    px_df = clean_co_px[pred_symbol]\n",
    "    px_df.name = 'close'\n",
    "    pct_chg_df = px_fwd_rets(\n",
    "        px_df, pred_symbol, periods=context[\"look_ahead\"])\\\n",
    "        .rolling(int(np.mean(context[\"look_ahead\"]))).mean()\n",
    "    pct_chg_df.name = 'pct_chg'\n",
    "\n",
    "    co_pred = pred_df.loc[pred_df.symbol.isin([pred_symbol]), ['pred_class'] + fwd_ret_labels]\n",
    "    hist_pred = pd.concat([px_df.loc[pred_df.index.unique()], co_pred['pred_class']], axis=1, sort=False)\n",
    "\n",
    "    # forward looking returns\n",
    "    pct_chg_df.loc[pred_df.index.unique()].dropna().plot(\n",
    "        title=f'{pred_symbol} {int(np.mean(context[\"look_ahead\"]))} day forward looking return', \n",
    "        figsize=(15, 2), grid=True, secondary_y='pct_chg')\n",
    "\n",
    "    # historical predictions\n",
    "    hist_pred.dropna().plot(\n",
    "        title=f'{pred_symbol} historical prediction', \n",
    "        figsize=(15, 5), secondary_y='pred_class')\n",
    "\n",
    "    # probability distribution\n",
    "    co_pred[fwd_ret_labels].plot.area(\n",
    "        title='Prediction probabilities', \n",
    "        figsize=(15, 2), ylim=(0, 1), cmap='RdYlGn', rot=0)\n",
    "    \n",
    "plot_symbol_hist_pred('AMD', clean_co_px, context, pred_df)"
   ]
  },
  {
   "cell_type": "code",
   "execution_count": 96,
   "metadata": {
    "code_folding": [
     11
    ]
   },
   "outputs": [
    {
     "data": {
      "text/html": [
       "<div>\n",
       "<style scoped>\n",
       "    .dataframe tbody tr th:only-of-type {\n",
       "        vertical-align: middle;\n",
       "    }\n",
       "\n",
       "    .dataframe tbody tr th {\n",
       "        vertical-align: top;\n",
       "    }\n",
       "\n",
       "    .dataframe thead th {\n",
       "        text-align: right;\n",
       "    }\n",
       "</style>\n",
       "<table border=\"1\" class=\"dataframe\">\n",
       "  <thead>\n",
       "    <tr style=\"text-align: right;\">\n",
       "      <th></th>\n",
       "      <th>symbol</th>\n",
       "      <th>pred_class</th>\n",
       "      <th>pred_label</th>\n",
       "      <th>confidence</th>\n",
       "      <th>bear</th>\n",
       "      <th>short</th>\n",
       "      <th>neutral</th>\n",
       "      <th>long</th>\n",
       "      <th>bull</th>\n",
       "    </tr>\n",
       "    <tr>\n",
       "      <th>pred_date</th>\n",
       "      <th></th>\n",
       "      <th></th>\n",
       "      <th></th>\n",
       "      <th></th>\n",
       "      <th></th>\n",
       "      <th></th>\n",
       "      <th></th>\n",
       "      <th></th>\n",
       "      <th></th>\n",
       "    </tr>\n",
       "  </thead>\n",
       "  <tbody>\n",
       "    <tr>\n",
       "      <th>2018-10-01</th>\n",
       "      <td>ICUI</td>\n",
       "      <td>1</td>\n",
       "      <td>short</td>\n",
       "      <td>1.00</td>\n",
       "      <td>0.00</td>\n",
       "      <td>1.00</td>\n",
       "      <td>0.00</td>\n",
       "      <td>0.00</td>\n",
       "      <td>0.00</td>\n",
       "    </tr>\n",
       "    <tr>\n",
       "      <th>2018-10-01</th>\n",
       "      <td>NPSNY</td>\n",
       "      <td>1</td>\n",
       "      <td>short</td>\n",
       "      <td>1.00</td>\n",
       "      <td>0.00</td>\n",
       "      <td>1.00</td>\n",
       "      <td>0.00</td>\n",
       "      <td>0.00</td>\n",
       "      <td>0.00</td>\n",
       "    </tr>\n",
       "    <tr>\n",
       "      <th>2018-10-01</th>\n",
       "      <td>WEX</td>\n",
       "      <td>1</td>\n",
       "      <td>short</td>\n",
       "      <td>1.00</td>\n",
       "      <td>0.00</td>\n",
       "      <td>1.00</td>\n",
       "      <td>0.00</td>\n",
       "      <td>0.00</td>\n",
       "      <td>0.00</td>\n",
       "    </tr>\n",
       "    <tr>\n",
       "      <th>2018-10-01</th>\n",
       "      <td>CAR</td>\n",
       "      <td>1</td>\n",
       "      <td>short</td>\n",
       "      <td>1.00</td>\n",
       "      <td>0.00</td>\n",
       "      <td>1.00</td>\n",
       "      <td>0.00</td>\n",
       "      <td>0.00</td>\n",
       "      <td>0.00</td>\n",
       "    </tr>\n",
       "    <tr>\n",
       "      <th>2018-10-01</th>\n",
       "      <td>CPRT</td>\n",
       "      <td>1</td>\n",
       "      <td>short</td>\n",
       "      <td>1.00</td>\n",
       "      <td>0.00</td>\n",
       "      <td>1.00</td>\n",
       "      <td>0.00</td>\n",
       "      <td>0.00</td>\n",
       "      <td>0.00</td>\n",
       "    </tr>\n",
       "  </tbody>\n",
       "</table>\n",
       "</div>"
      ],
      "text/plain": [
       "           symbol  pred_class pred_label  confidence  bear  short  neutral  \\\n",
       "pred_date                                                                    \n",
       "2018-10-01   ICUI           1      short        1.00  0.00   1.00     0.00   \n",
       "2018-10-01  NPSNY           1      short        1.00  0.00   1.00     0.00   \n",
       "2018-10-01    WEX           1      short        1.00  0.00   1.00     0.00   \n",
       "2018-10-01    CAR           1      short        1.00  0.00   1.00     0.00   \n",
       "2018-10-01   CPRT           1      short        1.00  0.00   1.00     0.00   \n",
       "\n",
       "            long  bull  \n",
       "pred_date               \n",
       "2018-10-01  0.00  0.00  \n",
       "2018-10-01  0.00  0.00  \n",
       "2018-10-01  0.00  0.00  \n",
       "2018-10-01  0.00  0.00  \n",
       "2018-10-01  0.00  0.00  "
      ]
     },
     "execution_count": 96,
     "metadata": {},
     "output_type": "execute_result"
    }
   ],
   "source": [
    "stop_loss = False\n",
    "long = True\n",
    "max_loss = 0.1\n",
    "as_of_date = -161\n",
    "study_period = -10\n",
    "holding_period = 20\n",
    "# range = [study_period + as_of_date:as_of_date]\n",
    "min_confidence = 0.8\n",
    "max_class_rows = 50\n",
    "pred_classes = [3, 4] if long else [0, 1]\n",
    "\n",
    "def get_top_predictions(pred_df, as_of_date, min_confidence, max_class_rows):\n",
    "    \"\"\" return top recommendatins by label as of a given date \"\"\"\n",
    "    label_mask = (pred_df.pred_label.isin(['bear', 'short', 'long', 'bull'])) \\\n",
    "        & (pred_df.confidence > min_confidence)\n",
    "\n",
    "    top_pred = pred_df.loc[(pred_df.index == pred_df.index.unique()[as_of_date]) & label_mask]\\\n",
    "        .sort_values(by=['pred_label', 'confidence'], ascending=False)\\\n",
    "        .groupby(by='pred_label').head(max_class_rows)\n",
    "    \n",
    "    return top_pred\n",
    "    \n",
    "top_pred = get_top_predictions(pred_df, as_of_date, min_confidence, max_class_rows)\n",
    "top_pred.head()"
   ]
  },
  {
   "cell_type": "code",
   "execution_count": 78,
   "metadata": {
    "code_folding": []
   },
   "outputs": [
    {
     "data": {
      "text/plain": [
       "Index([2018-09-17, 2018-09-18, 2018-09-19, 2018-09-20, 2018-09-21, 2018-09-24,\n",
       "       2018-09-25, 2018-09-26, 2018-09-27, 2018-09-28],\n",
       "      dtype='object', name='pred_date')"
      ]
     },
     "execution_count": 78,
     "metadata": {},
     "output_type": "execute_result"
    }
   ],
   "source": [
    "def get_study_date_range(pred_df, as_of_date, study_period):\n",
    "    \"\"\" \n",
    "    return date range for a study period, as of = prediction, \n",
    "    study period = number of days to observe stability of predictions    \n",
    "    \"\"\"\n",
    "    return pred_df.index.unique()[study_period + as_of_date:as_of_date]\n",
    "\n",
    "study_dates = get_study_date_range(pred_df, as_of_date, study_period)\n",
    "study_dates"
   ]
  },
  {
   "cell_type": "code",
   "execution_count": 79,
   "metadata": {
    "code_folding": [
     1
    ]
   },
   "outputs": [
    {
     "data": {
      "text/html": [
       "<div>\n",
       "<style scoped>\n",
       "    .dataframe tbody tr th:only-of-type {\n",
       "        vertical-align: middle;\n",
       "    }\n",
       "\n",
       "    .dataframe tbody tr th {\n",
       "        vertical-align: top;\n",
       "    }\n",
       "\n",
       "    .dataframe thead tr th {\n",
       "        text-align: left;\n",
       "    }\n",
       "</style>\n",
       "<table border=\"1\" class=\"dataframe\">\n",
       "  <thead>\n",
       "    <tr>\n",
       "      <th></th>\n",
       "      <th>symbol</th>\n",
       "      <th>pred_class</th>\n",
       "      <th colspan=\"2\" halign=\"left\">confidence</th>\n",
       "    </tr>\n",
       "    <tr>\n",
       "      <th></th>\n",
       "      <th></th>\n",
       "      <th></th>\n",
       "      <th>count</th>\n",
       "      <th>mean</th>\n",
       "    </tr>\n",
       "  </thead>\n",
       "  <tbody>\n",
       "    <tr>\n",
       "      <th>6</th>\n",
       "      <td>AMD</td>\n",
       "      <td>4</td>\n",
       "      <td>10</td>\n",
       "      <td>0.80</td>\n",
       "    </tr>\n",
       "    <tr>\n",
       "      <th>12</th>\n",
       "      <td>AZO</td>\n",
       "      <td>3</td>\n",
       "      <td>10</td>\n",
       "      <td>1.00</td>\n",
       "    </tr>\n",
       "    <tr>\n",
       "      <th>18</th>\n",
       "      <td>BLL</td>\n",
       "      <td>4</td>\n",
       "      <td>10</td>\n",
       "      <td>1.00</td>\n",
       "    </tr>\n",
       "    <tr>\n",
       "      <th>25</th>\n",
       "      <td>CHD</td>\n",
       "      <td>3</td>\n",
       "      <td>10</td>\n",
       "      <td>0.94</td>\n",
       "    </tr>\n",
       "    <tr>\n",
       "      <th>38</th>\n",
       "      <td>ENSG</td>\n",
       "      <td>3</td>\n",
       "      <td>10</td>\n",
       "      <td>0.99</td>\n",
       "    </tr>\n",
       "    <tr>\n",
       "      <th>69</th>\n",
       "      <td>OMCL</td>\n",
       "      <td>3</td>\n",
       "      <td>10</td>\n",
       "      <td>0.99</td>\n",
       "    </tr>\n",
       "    <tr>\n",
       "      <th>77</th>\n",
       "      <td>RGEN</td>\n",
       "      <td>3</td>\n",
       "      <td>10</td>\n",
       "      <td>1.00</td>\n",
       "    </tr>\n",
       "    <tr>\n",
       "      <th>80</th>\n",
       "      <td>SBUX</td>\n",
       "      <td>4</td>\n",
       "      <td>10</td>\n",
       "      <td>1.00</td>\n",
       "    </tr>\n",
       "    <tr>\n",
       "      <th>94</th>\n",
       "      <td>ULTA</td>\n",
       "      <td>3</td>\n",
       "      <td>10</td>\n",
       "      <td>0.92</td>\n",
       "    </tr>\n",
       "    <tr>\n",
       "      <th>102</th>\n",
       "      <td>XLNX</td>\n",
       "      <td>4</td>\n",
       "      <td>10</td>\n",
       "      <td>0.99</td>\n",
       "    </tr>\n",
       "  </tbody>\n",
       "</table>\n",
       "</div>"
      ],
      "text/plain": [
       "    symbol pred_class confidence     \n",
       "                           count mean\n",
       "6      AMD          4         10 0.80\n",
       "12     AZO          3         10 1.00\n",
       "18     BLL          4         10 1.00\n",
       "25     CHD          3         10 0.94\n",
       "38    ENSG          3         10 0.99\n",
       "69    OMCL          3         10 0.99\n",
       "77    RGEN          3         10 1.00\n",
       "80    SBUX          4         10 1.00\n",
       "94    ULTA          3         10 0.92\n",
       "102   XLNX          4         10 0.99"
      ]
     },
     "execution_count": 79,
     "metadata": {},
     "output_type": "execute_result"
    }
   ],
   "source": [
    "# historical recomendations for top predictions\n",
    "def get_most_frequent_preds(pred_df, study_dates, top_pred, pred_classes):\n",
    "    \"\"\" return most frequent predictions of a given class for a study period \"\"\"\n",
    "    \n",
    "    # print(f'Most frequent predictions as of {study_dates[-1]} for classes {pred_classes}')\n",
    "    last_xdays_pred = pred_df.loc[study_dates]\n",
    "    \n",
    "    last_xdays_pred = last_xdays_pred.loc[\n",
    "        last_xdays_pred.symbol.isin(list(top_pred.symbol)), \n",
    "        ['symbol', 'pred_class', 'confidence']\n",
    "    ].reset_index()\n",
    "\n",
    "    most_freq_df = last_xdays_pred.groupby(\n",
    "        by=['symbol', 'pred_class'])\\\n",
    "        .agg(['count', 'mean']).reset_index()\n",
    "    \n",
    "    return most_freq_df.loc[\n",
    "        most_freq_df['pred_class'].isin(pred_classes)\\\n",
    "        & (most_freq_df[('confidence','count')] > int(len(study_dates) * 0.6))]\\\n",
    "        .sort_values(by=('confidence', 'count'), ascending=False)\n",
    "        \n",
    "most_freq_df = get_most_frequent_preds(\n",
    "    pred_df, study_dates, top_pred, pred_classes)\n",
    "most_freq_df.head(10)"
   ]
  },
  {
   "cell_type": "code",
   "execution_count": 80,
   "metadata": {},
   "outputs": [
    {
     "data": {
      "text/plain": [
       "['AMD', 'AZO', 'BLL', 'CHD', 'ENSG', 'OMCL', 'RGEN', 'SBUX', 'ULTA', 'XLNX']"
      ]
     },
     "execution_count": 80,
     "metadata": {},
     "output_type": "execute_result"
    }
   ],
   "source": [
    "symbols = list(most_freq_df.head(10).symbol)\n",
    "symbols"
   ]
  },
  {
   "cell_type": "code",
   "execution_count": 81,
   "metadata": {
    "code_folding": []
   },
   "outputs": [],
   "source": [
    "def stop_loss(df, long, max_loss):\n",
    "    truth_df = (df < 1 - max_loss) if long else (df > 1 + max_loss)\n",
    "    pos = truth_df[truth_df == True]\n",
    "    if len(pos): df.loc[pos.index[0]:] = df.loc[pos.index[0]]\n",
    "    return df"
   ]
  },
  {
   "cell_type": "code",
   "execution_count": 82,
   "metadata": {},
   "outputs": [
    {
     "name": "stdout",
     "output_type": "stream",
     "text": [
      "Showing returns from Index([2018-09-28, 2018-10-25], dtype='object')\n",
      "Portfolio shape: (20, 11)\n"
     ]
    }
   ],
   "source": [
    "idx = clean_co_px.index.get_loc(study_dates[-1])\n",
    "prices = clean_co_px.iloc[idx:idx+holding_period][symbols]\n",
    "port_index = get_ind_index(prices, tail=holding_period, name='PORT')\n",
    "\n",
    "if stop_loss:\n",
    "    port_index = port_index.iloc[:,:-1].apply(stop_loss, args=(long, max_loss)) # stop loss treatment\n",
    "    port_index = get_ind_index(port_index, tail=holding_period, name='PORT') # recalc portfolio return\n",
    "\n",
    "print(f'Showing returns from {clean_co_px.iloc[idx:idx+holding_period].index[[0,-1]]}')\n",
    "print(f'Portfolio shape: {port_index.shape}')"
   ]
  },
  {
   "cell_type": "code",
   "execution_count": 83,
   "metadata": {},
   "outputs": [
    {
     "data": {
      "text/plain": [
       "<matplotlib.axes._subplots.AxesSubplot at 0x7f1ef7b5bfd0>"
      ]
     },
     "execution_count": 83,
     "metadata": {},
     "output_type": "execute_result"
    },
    {
     "data": {
      "image/png": "[encoded data removed]",
      "text/plain": [
       "<Figure size 432x288 with 1 Axes>"
      ]
     },
     "metadata": {
      "needs_background": "light"
     },
     "output_type": "display_data"
    }
   ],
   "source": [
    "port_index.plot()"
   ]
  },
  {
   "cell_type": "code",
   "execution_count": 84,
   "metadata": {},
   "outputs": [
    {
     "data": {
      "text/html": [
       "<div>\n",
       "<style scoped>\n",
       "    .dataframe tbody tr th:only-of-type {\n",
       "        vertical-align: middle;\n",
       "    }\n",
       "\n",
       "    .dataframe tbody tr th {\n",
       "        vertical-align: top;\n",
       "    }\n",
       "\n",
       "    .dataframe thead th {\n",
       "        text-align: right;\n",
       "    }\n",
       "</style>\n",
       "<table border=\"1\" class=\"dataframe\">\n",
       "  <thead>\n",
       "    <tr style=\"text-align: right;\">\n",
       "      <th></th>\n",
       "      <th>AMD</th>\n",
       "      <th>AZO</th>\n",
       "      <th>BLL</th>\n",
       "      <th>CHD</th>\n",
       "      <th>ENSG</th>\n",
       "      <th>OMCL</th>\n",
       "      <th>RGEN</th>\n",
       "      <th>SBUX</th>\n",
       "      <th>ULTA</th>\n",
       "      <th>XLNX</th>\n",
       "      <th>PORT</th>\n",
       "    </tr>\n",
       "  </thead>\n",
       "  <tbody>\n",
       "    <tr>\n",
       "      <th>2018-09-28</th>\n",
       "      <td>1.00</td>\n",
       "      <td>1.00</td>\n",
       "      <td>1.00</td>\n",
       "      <td>1.00</td>\n",
       "      <td>1.00</td>\n",
       "      <td>1.00</td>\n",
       "      <td>1.00</td>\n",
       "      <td>1.00</td>\n",
       "      <td>1.00</td>\n",
       "      <td>1.00</td>\n",
       "      <td>1.00</td>\n",
       "    </tr>\n",
       "    <tr>\n",
       "      <th>2018-10-01</th>\n",
       "      <td>1.02</td>\n",
       "      <td>0.99</td>\n",
       "      <td>1.00</td>\n",
       "      <td>1.00</td>\n",
       "      <td>0.98</td>\n",
       "      <td>0.98</td>\n",
       "      <td>1.00</td>\n",
       "      <td>0.98</td>\n",
       "      <td>1.00</td>\n",
       "      <td>1.00</td>\n",
       "      <td>0.99</td>\n",
       "    </tr>\n",
       "    <tr>\n",
       "      <th>2018-10-02</th>\n",
       "      <td>0.94</td>\n",
       "      <td>0.98</td>\n",
       "      <td>1.01</td>\n",
       "      <td>1.01</td>\n",
       "      <td>0.97</td>\n",
       "      <td>0.97</td>\n",
       "      <td>1.00</td>\n",
       "      <td>0.98</td>\n",
       "      <td>0.99</td>\n",
       "      <td>1.00</td>\n",
       "      <td>0.99</td>\n",
       "    </tr>\n",
       "    <tr>\n",
       "      <th>2018-10-03</th>\n",
       "      <td>0.92</td>\n",
       "      <td>0.98</td>\n",
       "      <td>1.03</td>\n",
       "      <td>1.00</td>\n",
       "      <td>0.99</td>\n",
       "      <td>0.95</td>\n",
       "      <td>1.01</td>\n",
       "      <td>0.98</td>\n",
       "      <td>0.99</td>\n",
       "      <td>1.02</td>\n",
       "      <td>0.99</td>\n",
       "    </tr>\n",
       "    <tr>\n",
       "      <th>2018-10-04</th>\n",
       "      <td>0.90</td>\n",
       "      <td>0.98</td>\n",
       "      <td>1.04</td>\n",
       "      <td>0.98</td>\n",
       "      <td>1.00</td>\n",
       "      <td>0.94</td>\n",
       "      <td>0.96</td>\n",
       "      <td>0.98</td>\n",
       "      <td>0.97</td>\n",
       "      <td>1.03</td>\n",
       "      <td>0.98</td>\n",
       "    </tr>\n",
       "    <tr>\n",
       "      <th>2018-10-05</th>\n",
       "      <td>0.90</td>\n",
       "      <td>0.99</td>\n",
       "      <td>1.04</td>\n",
       "      <td>1.00</td>\n",
       "      <td>1.01</td>\n",
       "      <td>0.94</td>\n",
       "      <td>0.98</td>\n",
       "      <td>0.98</td>\n",
       "      <td>0.96</td>\n",
       "      <td>0.97</td>\n",
       "      <td>0.98</td>\n",
       "    </tr>\n",
       "    <tr>\n",
       "      <th>2018-10-08</th>\n",
       "      <td>0.90</td>\n",
       "      <td>1.02</td>\n",
       "      <td>1.05</td>\n",
       "      <td>1.01</td>\n",
       "      <td>1.00</td>\n",
       "      <td>0.92</td>\n",
       "      <td>0.99</td>\n",
       "      <td>0.99</td>\n",
       "      <td>0.97</td>\n",
       "      <td>0.97</td>\n",
       "      <td>0.98</td>\n",
       "    </tr>\n",
       "    <tr>\n",
       "      <th>2018-10-09</th>\n",
       "      <td>0.90</td>\n",
       "      <td>1.01</td>\n",
       "      <td>1.04</td>\n",
       "      <td>1.00</td>\n",
       "      <td>1.05</td>\n",
       "      <td>0.92</td>\n",
       "      <td>0.97</td>\n",
       "      <td>1.02</td>\n",
       "      <td>0.98</td>\n",
       "      <td>0.97</td>\n",
       "      <td>0.99</td>\n",
       "    </tr>\n",
       "    <tr>\n",
       "      <th>2018-10-10</th>\n",
       "      <td>0.90</td>\n",
       "      <td>1.00</td>\n",
       "      <td>1.00</td>\n",
       "      <td>0.94</td>\n",
       "      <td>1.05</td>\n",
       "      <td>0.89</td>\n",
       "      <td>0.97</td>\n",
       "      <td>0.99</td>\n",
       "      <td>0.95</td>\n",
       "      <td>0.93</td>\n",
       "      <td>0.96</td>\n",
       "    </tr>\n",
       "    <tr>\n",
       "      <th>2018-10-11</th>\n",
       "      <td>0.90</td>\n",
       "      <td>0.99</td>\n",
       "      <td>0.99</td>\n",
       "      <td>0.92</td>\n",
       "      <td>1.01</td>\n",
       "      <td>0.89</td>\n",
       "      <td>0.96</td>\n",
       "      <td>0.97</td>\n",
       "      <td>0.95</td>\n",
       "      <td>0.92</td>\n",
       "      <td>0.95</td>\n",
       "    </tr>\n",
       "    <tr>\n",
       "      <th>2018-10-12</th>\n",
       "      <td>0.90</td>\n",
       "      <td>1.00</td>\n",
       "      <td>1.00</td>\n",
       "      <td>0.94</td>\n",
       "      <td>1.01</td>\n",
       "      <td>0.89</td>\n",
       "      <td>0.97</td>\n",
       "      <td>0.99</td>\n",
       "      <td>0.98</td>\n",
       "      <td>0.95</td>\n",
       "      <td>0.96</td>\n",
       "    </tr>\n",
       "    <tr>\n",
       "      <th>2018-10-15</th>\n",
       "      <td>0.90</td>\n",
       "      <td>1.01</td>\n",
       "      <td>1.01</td>\n",
       "      <td>0.96</td>\n",
       "      <td>1.00</td>\n",
       "      <td>0.89</td>\n",
       "      <td>0.97</td>\n",
       "      <td>1.00</td>\n",
       "      <td>1.00</td>\n",
       "      <td>0.94</td>\n",
       "      <td>0.97</td>\n",
       "    </tr>\n",
       "    <tr>\n",
       "      <th>2018-10-16</th>\n",
       "      <td>0.90</td>\n",
       "      <td>1.00</td>\n",
       "      <td>1.05</td>\n",
       "      <td>0.99</td>\n",
       "      <td>1.03</td>\n",
       "      <td>0.89</td>\n",
       "      <td>1.02</td>\n",
       "      <td>1.02</td>\n",
       "      <td>1.01</td>\n",
       "      <td>0.98</td>\n",
       "      <td>0.99</td>\n",
       "    </tr>\n",
       "    <tr>\n",
       "      <th>2018-10-17</th>\n",
       "      <td>0.90</td>\n",
       "      <td>0.92</td>\n",
       "      <td>1.05</td>\n",
       "      <td>0.99</td>\n",
       "      <td>1.02</td>\n",
       "      <td>0.89</td>\n",
       "      <td>1.04</td>\n",
       "      <td>1.04</td>\n",
       "      <td>1.00</td>\n",
       "      <td>0.97</td>\n",
       "      <td>0.98</td>\n",
       "    </tr>\n",
       "    <tr>\n",
       "      <th>2018-10-18</th>\n",
       "      <td>0.90</td>\n",
       "      <td>0.94</td>\n",
       "      <td>1.05</td>\n",
       "      <td>0.99</td>\n",
       "      <td>1.01</td>\n",
       "      <td>0.89</td>\n",
       "      <td>1.02</td>\n",
       "      <td>1.03</td>\n",
       "      <td>0.97</td>\n",
       "      <td>0.95</td>\n",
       "      <td>0.97</td>\n",
       "    </tr>\n",
       "    <tr>\n",
       "      <th>2018-10-19</th>\n",
       "      <td>0.90</td>\n",
       "      <td>0.94</td>\n",
       "      <td>1.04</td>\n",
       "      <td>1.02</td>\n",
       "      <td>1.00</td>\n",
       "      <td>0.89</td>\n",
       "      <td>0.99</td>\n",
       "      <td>1.03</td>\n",
       "      <td>0.96</td>\n",
       "      <td>0.92</td>\n",
       "      <td>0.97</td>\n",
       "    </tr>\n",
       "    <tr>\n",
       "      <th>2018-10-22</th>\n",
       "      <td>0.90</td>\n",
       "      <td>0.95</td>\n",
       "      <td>1.03</td>\n",
       "      <td>1.01</td>\n",
       "      <td>0.99</td>\n",
       "      <td>0.89</td>\n",
       "      <td>1.01</td>\n",
       "      <td>1.04</td>\n",
       "      <td>0.97</td>\n",
       "      <td>0.93</td>\n",
       "      <td>0.97</td>\n",
       "    </tr>\n",
       "    <tr>\n",
       "      <th>2018-10-23</th>\n",
       "      <td>0.90</td>\n",
       "      <td>0.95</td>\n",
       "      <td>1.03</td>\n",
       "      <td>1.00</td>\n",
       "      <td>1.02</td>\n",
       "      <td>0.89</td>\n",
       "      <td>1.01</td>\n",
       "      <td>1.03</td>\n",
       "      <td>0.96</td>\n",
       "      <td>0.93</td>\n",
       "      <td>0.97</td>\n",
       "    </tr>\n",
       "    <tr>\n",
       "      <th>2018-10-24</th>\n",
       "      <td>0.90</td>\n",
       "      <td>0.94</td>\n",
       "      <td>0.99</td>\n",
       "      <td>1.01</td>\n",
       "      <td>0.98</td>\n",
       "      <td>0.89</td>\n",
       "      <td>0.95</td>\n",
       "      <td>1.02</td>\n",
       "      <td>0.95</td>\n",
       "      <td>0.86</td>\n",
       "      <td>0.95</td>\n",
       "    </tr>\n",
       "    <tr>\n",
       "      <th>2018-10-25</th>\n",
       "      <td>0.90</td>\n",
       "      <td>0.95</td>\n",
       "      <td>0.98</td>\n",
       "      <td>1.00</td>\n",
       "      <td>0.99</td>\n",
       "      <td>0.89</td>\n",
       "      <td>0.96</td>\n",
       "      <td>1.04</td>\n",
       "      <td>0.96</td>\n",
       "      <td>0.86</td>\n",
       "      <td>0.95</td>\n",
       "    </tr>\n",
       "  </tbody>\n",
       "</table>\n",
       "</div>"
      ],
      "text/plain": [
       "            AMD  AZO  BLL  CHD  ENSG  OMCL  RGEN  SBUX  ULTA  XLNX  PORT\n",
       "2018-09-28 1.00 1.00 1.00 1.00  1.00  1.00  1.00  1.00  1.00  1.00  1.00\n",
       "2018-10-01 1.02 0.99 1.00 1.00  0.98  0.98  1.00  0.98  1.00  1.00  0.99\n",
       "2018-10-02 0.94 0.98 1.01 1.01  0.97  0.97  1.00  0.98  0.99  1.00  0.99\n",
       "2018-10-03 0.92 0.98 1.03 1.00  0.99  0.95  1.01  0.98  0.99  1.02  0.99\n",
       "2018-10-04 0.90 0.98 1.04 0.98  1.00  0.94  0.96  0.98  0.97  1.03  0.98\n",
       "2018-10-05 0.90 0.99 1.04 1.00  1.01  0.94  0.98  0.98  0.96  0.97  0.98\n",
       "2018-10-08 0.90 1.02 1.05 1.01  1.00  0.92  0.99  0.99  0.97  0.97  0.98\n",
       "2018-10-09 0.90 1.01 1.04 1.00  1.05  0.92  0.97  1.02  0.98  0.97  0.99\n",
       "2018-10-10 0.90 1.00 1.00 0.94  1.05  0.89  0.97  0.99  0.95  0.93  0.96\n",
       "2018-10-11 0.90 0.99 0.99 0.92  1.01  0.89  0.96  0.97  0.95  0.92  0.95\n",
       "2018-10-12 0.90 1.00 1.00 0.94  1.01  0.89  0.97  0.99  0.98  0.95  0.96\n",
       "2018-10-15 0.90 1.01 1.01 0.96  1.00  0.89  0.97  1.00  1.00  0.94  0.97\n",
       "2018-10-16 0.90 1.00 1.05 0.99  1.03  0.89  1.02  1.02  1.01  0.98  0.99\n",
       "2018-10-17 0.90 0.92 1.05 0.99  1.02  0.89  1.04  1.04  1.00  0.97  0.98\n",
       "2018-10-18 0.90 0.94 1.05 0.99  1.01  0.89  1.02  1.03  0.97  0.95  0.97\n",
       "2018-10-19 0.90 0.94 1.04 1.02  1.00  0.89  0.99  1.03  0.96  0.92  0.97\n",
       "2018-10-22 0.90 0.95 1.03 1.01  0.99  0.89  1.01  1.04  0.97  0.93  0.97\n",
       "2018-10-23 0.90 0.95 1.03 1.00  1.02  0.89  1.01  1.03  0.96  0.93  0.97\n",
       "2018-10-24 0.90 0.94 0.99 1.01  0.98  0.89  0.95  1.02  0.95  0.86  0.95\n",
       "2018-10-25 0.90 0.95 0.98 1.00  0.99  0.89  0.96  1.04  0.96  0.86  0.95"
      ]
     },
     "execution_count": 84,
     "metadata": {},
     "output_type": "execute_result"
    }
   ],
   "source": [
    "port_index"
   ]
  },
  {
   "cell_type": "code",
   "execution_count": 85,
   "metadata": {
    "scrolled": true
   },
   "outputs": [
    {
     "data": {
      "text/plain": [
       "count   11.00\n",
       "mean     0.95\n",
       "std      0.05\n",
       "min      0.86\n",
       "25%      0.93\n",
       "50%      0.96\n",
       "75%      0.99\n",
       "max      1.04\n",
       "Name: 2018-10-25 00:00:00, dtype: float64"
      ]
     },
     "execution_count": 85,
     "metadata": {},
     "output_type": "execute_result"
    }
   ],
   "source": [
    "# cumulative returns\n",
    "port_index.iloc[-1].describe()"
   ]
  },
  {
   "cell_type": "code",
   "execution_count": 86,
   "metadata": {
    "code_folding": []
   },
   "outputs": [],
   "source": [
    "# Backtesting experiment: What if we pick the best 10 longs everymonth?\n",
    "loss_protection = False\n",
    "long = True\n",
    "max_loss = 0.1\n",
    "as_of_date = -21\n",
    "study_period = -10\n",
    "holding_period = 20\n",
    "# range = [study_period + as_of_date:as_of_date]\n",
    "min_confidence = 0.8\n",
    "max_class_rows = 50\n",
    "max_positions = 10\n",
    "pred_classes = [3, 4] if long else [0, 1]\n",
    "period_range = list(range(-20, -pred_df.index.unique().shape[0], -holding_period))\n",
    "\n",
    "super_list = []\n",
    "symbol_list = []\n",
    "for as_of_date in list(range(as_of_date, -pred_df.index.unique().shape[0], -holding_period)):\n",
    "#     print(f'Predicting from {x} days ago')\n",
    "    top_pred = get_top_predictions(pred_df, as_of_date, min_confidence, max_class_rows)\n",
    "    study_dates = get_study_date_range(pred_df, as_of_date, study_period)\n",
    "    most_freq_df = get_most_frequent_preds(pred_df, study_dates, top_pred, pred_classes)\n",
    "    symbols = list(most_freq_df.head(max_positions).symbol)\n",
    "    if len(symbols) > 3:\n",
    "        idx = clean_co_px.index.get_loc(study_dates[-1])\n",
    "        prices = clean_co_px.iloc[idx:idx+holding_period][symbols]\n",
    "        port_index = get_ind_index(prices, tail=holding_period, name='PORT')\n",
    "        if loss_protection:\n",
    "            port_index = port_index.iloc[:,:-1].apply(stop_loss, args=(long, max_loss)) # stop loss treatment\n",
    "            port_index = get_ind_index(port_index, tail=holding_period, name='PORT') # recalc portfolio return\n",
    "        # print(f'Showing returns from {clean_co_px.iloc[idx:idx+holding_period].index[[0,-1]]}')\n",
    "        exp = port_index.iloc[-1].describe()\n",
    "        exp['offset_start'] = as_of_date\n",
    "        exp['as_of_date'] = str(study_dates[-1])\n",
    "        exp['study_period'] = study_period\n",
    "        exp['end_date'] = str(port_index.index[-1])\n",
    "        symbol_list.append(symbols)\n",
    "        super_list.append(exp)\n",
    "hist_ports = pd.concat(super_list, axis=1).T"
   ]
  },
  {
   "cell_type": "code",
   "execution_count": 87,
   "metadata": {},
   "outputs": [
    {
     "name": "stdout",
     "output_type": "stream",
     "text": [
      "Summary for 37 experiment LONG periods\n",
      "129 unique symbols\n"
     ]
    },
    {
     "data": {
      "image/png": "[encoded data removed]",
      "text/plain": [
       "<Figure size 432x288 with 1 Axes>"
      ]
     },
     "metadata": {
      "needs_background": "light"
     },
     "output_type": "display_data"
    }
   ],
   "source": [
    "print(f'Summary for {len(period_range)} experiment {\"LONG\" if long else \"SHORT\"} periods')\n",
    "unique_symbols = set(np.concatenate(symbol_list))\n",
    "print(f'{len(unique_symbols)} unique symbols')\n",
    "profile.loc[unique_symbols].groupby(by=['sector']).count().iloc[:,0].sort_values().plot.barh();"
   ]
  },
  {
   "cell_type": "code",
   "execution_count": 88,
   "metadata": {
    "code_folding": []
   },
   "outputs": [
    {
     "name": "stdout",
     "output_type": "stream",
     "text": [
      "Long CAGR: 0.91\n"
     ]
    },
    {
     "data": {
      "image/png": "[encoded data removed]",
      "text/plain": [
       "<Figure size 864x360 with 1 Axes>"
      ]
     },
     "metadata": {
      "needs_background": "light"
     },
     "output_type": "display_data"
    }
   ],
   "source": [
    "hist_ports.sort_index(inplace=True)\n",
    "years = (hist_ports.index[-1] - hist_ports.index[0]).days / 365\n",
    "if long:\n",
    "    mean_ret = pd.DataFrame()\n",
    "    mean_ret['long'] = hist_ports['mean'].sort_index()\n",
    "    mean_ret['long'].cumprod().plot(title='Cumulative long', figsize=(12,5));\n",
    "    print(f'Long CAGR: {round((mean_ret[\"long\"].cumprod().iloc[-1] ** (1/years) - 1), 2)}')\n",
    "else:\n",
    "    mean_ret['short'] = hist_ports['mean'].sort_index()\n",
    "    mean_ret['short'].cumprod().plot(title='Cumulative short', figsize=(12,5));\n",
    "    print(f'Short CAGR: {round((mean_ret[\"short\"].cumprod().iloc[-1] ** (1/years) - 1), 2)}')\n",
    "if 'long' in mean_ret.columns and 'short' in mean_ret.columns:\n",
    "    mean_ret['ls'] = (mean_ret['long'] - mean_ret['short'] + 1)\n",
    "    mean_ret.cumprod().plot(title='Long/Short', figsize=(12,5))          \n",
    "    print(f'L/S CAGR: {(mean_ret[\"ls\"].cumprod().iloc[-1] ** (1/years) - 1)}')"
   ]
  },
  {
   "cell_type": "code",
   "execution_count": 89,
   "metadata": {},
   "outputs": [
    {
     "data": {
      "text/plain": [
       "<matplotlib.axes._subplots.AxesSubplot at 0x7f1efe7d9128>"
      ]
     },
     "execution_count": 89,
     "metadata": {},
     "output_type": "execute_result"
    },
    {
     "data": {
      "image/png": "[encoded data removed]",
      "text/plain": [
       "<Figure size 864x360 with 1 Axes>"
      ]
     },
     "metadata": {
      "needs_background": "light"
     },
     "output_type": "display_data"
    }
   ],
   "source": [
    "(mean_ret-1).plot(title='Monthly returns', kind='bar', figsize=(12,5))"
   ]
  },
  {
   "cell_type": "code",
   "execution_count": 90,
   "metadata": {},
   "outputs": [
    {
     "data": {
      "text/plain": [
       "<matplotlib.axes._subplots.AxesSubplot at 0x7f1efe80a0b8>"
      ]
     },
     "execution_count": 90,
     "metadata": {},
     "output_type": "execute_result"
    },
    {
     "data": {
      "image/png": "[encoded data removed]",
      "text/plain": [
       "<Figure size 864x360 with 1 Axes>"
      ]
     },
     "metadata": {
      "needs_background": "light"
     },
     "output_type": "display_data"
    }
   ],
   "source": [
    "mean_ret.cumprod().plot(title='Cumulative returns', figsize=(12,5))"
   ]
  },
  {
   "cell_type": "code",
   "execution_count": 91,
   "metadata": {
    "code_folding": [
     0
    ]
   },
   "outputs": [],
   "source": [
    "def calc_monthly_ret(l_w, mean_ret):\n",
    "    monthly_ret = (\n",
    "        (mean_ret['long'] - 1).mul(l_w) - \n",
    "        (mean_ret['short'] - 1).mul(1 - l_w) + 1)\n",
    "    mix_df = monthly_ret.infer_objects().describe()\n",
    "    mix_df['l'] = l_w\n",
    "    mix_df['s'] = 1 - l_w\n",
    "    return monthly_ret, mix_df"
   ]
  },
  {
   "cell_type": "code",
   "execution_count": 92,
   "metadata": {
    "code_folding": []
   },
   "outputs": [],
   "source": [
    "# optimal L/S mix\n",
    "super_list = []\n",
    "series = np.arange(0.4, 1.2, 0.05)\n",
    "if 'short' in mean_ret.columns:\n",
    "    for l_w in series:\n",
    "        monthly_ret, mix_df = calc_monthly_ret(l_w, mean_ret)\n",
    "        super_list.append(mix_df)\n",
    "        monthly_ret.cumprod().plot()\n",
    "    scenarios = pd.concat(super_list, axis=1).T\n",
    "    opt_wgt = series[np.argmax(((scenarios['mean'] - 1) / scenarios['std']))]\n",
    "    \n",
    "    # expected long-term return at optimal L/S mix\n",
    "    monthly_ret, _ = calc_monthly_ret(opt_wgt, mean_ret)\n",
    "    print(f'Expected return = {round(monthly_ret.cumprod().iloc[-1] ** (1/years) - 1, 2)*100}% at {round(opt_wgt, 2)} long {round(1 - opt_wgt, 2)} short')\n",
    "    monthly_ret.cumprod().plot();"
   ]
  },
  {
   "cell_type": "code",
   "execution_count": 93,
   "metadata": {},
   "outputs": [
    {
     "data": {
      "text/plain": [
       "count   34.00\n",
       "mean     1.06\n",
       "std      0.04\n",
       "min      0.95\n",
       "25%      1.02\n",
       "50%      1.06\n",
       "75%      1.09\n",
       "max      1.13\n",
       "Name: mean, dtype: float64"
      ]
     },
     "execution_count": 93,
     "metadata": {},
     "output_type": "execute_result"
    }
   ],
   "source": [
    "hist_ports.infer_objects()['mean'].describe()"
   ]
  },
  {
   "cell_type": "code",
   "execution_count": 94,
   "metadata": {},
   "outputs": [
    {
     "data": {
      "text/html": [
       "<div>\n",
       "<style scoped>\n",
       "    .dataframe tbody tr th:only-of-type {\n",
       "        vertical-align: middle;\n",
       "    }\n",
       "\n",
       "    .dataframe tbody tr th {\n",
       "        vertical-align: top;\n",
       "    }\n",
       "\n",
       "    .dataframe thead th {\n",
       "        text-align: right;\n",
       "    }\n",
       "</style>\n",
       "<table border=\"1\" class=\"dataframe\">\n",
       "  <thead>\n",
       "    <tr style=\"text-align: right;\">\n",
       "      <th></th>\n",
       "      <th>count</th>\n",
       "      <th>mean</th>\n",
       "      <th>std</th>\n",
       "      <th>min</th>\n",
       "      <th>25%</th>\n",
       "      <th>50%</th>\n",
       "      <th>75%</th>\n",
       "      <th>max</th>\n",
       "      <th>offset_start</th>\n",
       "      <th>study_period</th>\n",
       "    </tr>\n",
       "  </thead>\n",
       "  <tbody>\n",
       "    <tr>\n",
       "      <th>count</th>\n",
       "      <td>34.00</td>\n",
       "      <td>34.00</td>\n",
       "      <td>34.00</td>\n",
       "      <td>34.00</td>\n",
       "      <td>34.00</td>\n",
       "      <td>34.00</td>\n",
       "      <td>34.00</td>\n",
       "      <td>34.00</td>\n",
       "      <td>34.00</td>\n",
       "      <td>34.00</td>\n",
       "    </tr>\n",
       "    <tr>\n",
       "      <th>mean</th>\n",
       "      <td>11.00</td>\n",
       "      <td>1.06</td>\n",
       "      <td>0.07</td>\n",
       "      <td>0.96</td>\n",
       "      <td>1.02</td>\n",
       "      <td>1.05</td>\n",
       "      <td>1.08</td>\n",
       "      <td>1.21</td>\n",
       "      <td>-377.47</td>\n",
       "      <td>-10.00</td>\n",
       "    </tr>\n",
       "    <tr>\n",
       "      <th>std</th>\n",
       "      <td>0.00</td>\n",
       "      <td>0.04</td>\n",
       "      <td>0.03</td>\n",
       "      <td>0.05</td>\n",
       "      <td>0.04</td>\n",
       "      <td>0.04</td>\n",
       "      <td>0.05</td>\n",
       "      <td>0.11</td>\n",
       "      <td>219.39</td>\n",
       "      <td>0.00</td>\n",
       "    </tr>\n",
       "    <tr>\n",
       "      <th>min</th>\n",
       "      <td>11.00</td>\n",
       "      <td>0.95</td>\n",
       "      <td>0.02</td>\n",
       "      <td>0.83</td>\n",
       "      <td>0.93</td>\n",
       "      <td>0.96</td>\n",
       "      <td>0.99</td>\n",
       "      <td>1.04</td>\n",
       "      <td>-741.00</td>\n",
       "      <td>-10.00</td>\n",
       "    </tr>\n",
       "    <tr>\n",
       "      <th>25%</th>\n",
       "      <td>11.00</td>\n",
       "      <td>1.02</td>\n",
       "      <td>0.05</td>\n",
       "      <td>0.93</td>\n",
       "      <td>0.99</td>\n",
       "      <td>1.02</td>\n",
       "      <td>1.05</td>\n",
       "      <td>1.13</td>\n",
       "      <td>-556.00</td>\n",
       "      <td>-10.00</td>\n",
       "    </tr>\n",
       "    <tr>\n",
       "      <th>50%</th>\n",
       "      <td>11.00</td>\n",
       "      <td>1.06</td>\n",
       "      <td>0.06</td>\n",
       "      <td>0.96</td>\n",
       "      <td>1.02</td>\n",
       "      <td>1.05</td>\n",
       "      <td>1.07</td>\n",
       "      <td>1.19</td>\n",
       "      <td>-371.00</td>\n",
       "      <td>-10.00</td>\n",
       "    </tr>\n",
       "    <tr>\n",
       "      <th>75%</th>\n",
       "      <td>11.00</td>\n",
       "      <td>1.09</td>\n",
       "      <td>0.08</td>\n",
       "      <td>0.99</td>\n",
       "      <td>1.04</td>\n",
       "      <td>1.07</td>\n",
       "      <td>1.11</td>\n",
       "      <td>1.26</td>\n",
       "      <td>-206.00</td>\n",
       "      <td>-10.00</td>\n",
       "    </tr>\n",
       "    <tr>\n",
       "      <th>max</th>\n",
       "      <td>11.00</td>\n",
       "      <td>1.13</td>\n",
       "      <td>0.16</td>\n",
       "      <td>1.03</td>\n",
       "      <td>1.10</td>\n",
       "      <td>1.12</td>\n",
       "      <td>1.17</td>\n",
       "      <td>1.48</td>\n",
       "      <td>-21.00</td>\n",
       "      <td>-10.00</td>\n",
       "    </tr>\n",
       "  </tbody>\n",
       "</table>\n",
       "</div>"
      ],
      "text/plain": [
       "       count  mean   std   min   25%   50%   75%   max  offset_start  \\\n",
       "count  34.00 34.00 34.00 34.00 34.00 34.00 34.00 34.00         34.00   \n",
       "mean   11.00  1.06  0.07  0.96  1.02  1.05  1.08  1.21       -377.47   \n",
       "std     0.00  0.04  0.03  0.05  0.04  0.04  0.05  0.11        219.39   \n",
       "min    11.00  0.95  0.02  0.83  0.93  0.96  0.99  1.04       -741.00   \n",
       "25%    11.00  1.02  0.05  0.93  0.99  1.02  1.05  1.13       -556.00   \n",
       "50%    11.00  1.06  0.06  0.96  1.02  1.05  1.07  1.19       -371.00   \n",
       "75%    11.00  1.09  0.08  0.99  1.04  1.07  1.11  1.26       -206.00   \n",
       "max    11.00  1.13  0.16  1.03  1.10  1.12  1.17  1.48        -21.00   \n",
       "\n",
       "       study_period  \n",
       "count         34.00  \n",
       "mean         -10.00  \n",
       "std            0.00  \n",
       "min          -10.00  \n",
       "25%          -10.00  \n",
       "50%          -10.00  \n",
       "75%          -10.00  \n",
       "max          -10.00  "
      ]
     },
     "execution_count": 94,
     "metadata": {},
     "output_type": "execute_result"
    }
   ],
   "source": [
    "hist_ports.infer_objects().describe()"
   ]
  },
  {
   "cell_type": "code",
   "execution_count": 95,
   "metadata": {},
   "outputs": [
    {
     "data": {
      "text/html": [
       "<div>\n",
       "<style scoped>\n",
       "    .dataframe tbody tr th:only-of-type {\n",
       "        vertical-align: middle;\n",
       "    }\n",
       "\n",
       "    .dataframe tbody tr th {\n",
       "        vertical-align: top;\n",
       "    }\n",
       "\n",
       "    .dataframe thead th {\n",
       "        text-align: right;\n",
       "    }\n",
       "</style>\n",
       "<table border=\"1\" class=\"dataframe\">\n",
       "  <thead>\n",
       "    <tr style=\"text-align: right;\">\n",
       "      <th></th>\n",
       "      <th>count</th>\n",
       "      <th>mean</th>\n",
       "      <th>std</th>\n",
       "      <th>min</th>\n",
       "      <th>25%</th>\n",
       "      <th>50%</th>\n",
       "      <th>75%</th>\n",
       "      <th>max</th>\n",
       "      <th>offset_start</th>\n",
       "      <th>as_of_date</th>\n",
       "      <th>study_period</th>\n",
       "      <th>end_date</th>\n",
       "    </tr>\n",
       "  </thead>\n",
       "  <tbody>\n",
       "    <tr>\n",
       "      <th>2018-10-25</th>\n",
       "      <td>11.00</td>\n",
       "      <td>0.95</td>\n",
       "      <td>0.05</td>\n",
       "      <td>0.86</td>\n",
       "      <td>0.93</td>\n",
       "      <td>0.96</td>\n",
       "      <td>0.99</td>\n",
       "      <td>1.04</td>\n",
       "      <td>-161.00</td>\n",
       "      <td>2018-09-28</td>\n",
       "      <td>-10</td>\n",
       "      <td>2018-10-25 00:00:00</td>\n",
       "    </tr>\n",
       "    <tr>\n",
       "      <th>2018-12-21</th>\n",
       "      <td>11.00</td>\n",
       "      <td>0.98</td>\n",
       "      <td>0.05</td>\n",
       "      <td>0.89</td>\n",
       "      <td>0.97</td>\n",
       "      <td>0.98</td>\n",
       "      <td>0.99</td>\n",
       "      <td>1.08</td>\n",
       "      <td>-121.00</td>\n",
       "      <td>2018-11-23</td>\n",
       "      <td>-10</td>\n",
       "      <td>2018-12-21 00:00:00</td>\n",
       "    </tr>\n",
       "    <tr>\n",
       "      <th>2018-02-13</th>\n",
       "      <td>11.00</td>\n",
       "      <td>0.99</td>\n",
       "      <td>0.05</td>\n",
       "      <td>0.89</td>\n",
       "      <td>0.97</td>\n",
       "      <td>0.99</td>\n",
       "      <td>1.02</td>\n",
       "      <td>1.08</td>\n",
       "      <td>-341.00</td>\n",
       "      <td>2018-01-17</td>\n",
       "      <td>-10</td>\n",
       "      <td>2018-02-13 00:00:00</td>\n",
       "    </tr>\n",
       "    <tr>\n",
       "      <th>2017-06-30</th>\n",
       "      <td>11.00</td>\n",
       "      <td>1.00</td>\n",
       "      <td>0.04</td>\n",
       "      <td>0.95</td>\n",
       "      <td>0.97</td>\n",
       "      <td>1.00</td>\n",
       "      <td>1.02</td>\n",
       "      <td>1.08</td>\n",
       "      <td>-501.00</td>\n",
       "      <td>2017-06-05</td>\n",
       "      <td>-10</td>\n",
       "      <td>2017-06-30 00:00:00</td>\n",
       "    </tr>\n",
       "    <tr>\n",
       "      <th>2018-04-12</th>\n",
       "      <td>11.00</td>\n",
       "      <td>1.00</td>\n",
       "      <td>0.08</td>\n",
       "      <td>0.89</td>\n",
       "      <td>0.94</td>\n",
       "      <td>1.00</td>\n",
       "      <td>1.07</td>\n",
       "      <td>1.13</td>\n",
       "      <td>-301.00</td>\n",
       "      <td>2018-03-15</td>\n",
       "      <td>-10</td>\n",
       "      <td>2018-04-12 00:00:00</td>\n",
       "    </tr>\n",
       "    <tr>\n",
       "      <th>2019-03-18</th>\n",
       "      <td>11.00</td>\n",
       "      <td>1.02</td>\n",
       "      <td>0.04</td>\n",
       "      <td>0.97</td>\n",
       "      <td>0.98</td>\n",
       "      <td>1.02</td>\n",
       "      <td>1.05</td>\n",
       "      <td>1.08</td>\n",
       "      <td>-61.00</td>\n",
       "      <td>2019-02-19</td>\n",
       "      <td>-10</td>\n",
       "      <td>2019-03-18 00:00:00</td>\n",
       "    </tr>\n",
       "    <tr>\n",
       "      <th>2019-05-14</th>\n",
       "      <td>11.00</td>\n",
       "      <td>1.02</td>\n",
       "      <td>0.06</td>\n",
       "      <td>0.95</td>\n",
       "      <td>0.98</td>\n",
       "      <td>1.01</td>\n",
       "      <td>1.05</td>\n",
       "      <td>1.13</td>\n",
       "      <td>-21.00</td>\n",
       "      <td>2019-04-16</td>\n",
       "      <td>-10</td>\n",
       "      <td>2019-05-14 00:00:00</td>\n",
       "    </tr>\n",
       "    <tr>\n",
       "      <th>2016-10-18</th>\n",
       "      <td>11.00</td>\n",
       "      <td>1.02</td>\n",
       "      <td>0.06</td>\n",
       "      <td>0.95</td>\n",
       "      <td>0.98</td>\n",
       "      <td>1.02</td>\n",
       "      <td>1.06</td>\n",
       "      <td>1.13</td>\n",
       "      <td>-681.00</td>\n",
       "      <td>2016-09-21</td>\n",
       "      <td>-10</td>\n",
       "      <td>2016-10-18 00:00:00</td>\n",
       "    </tr>\n",
       "    <tr>\n",
       "      <th>2018-07-06</th>\n",
       "      <td>11.00</td>\n",
       "      <td>1.02</td>\n",
       "      <td>0.05</td>\n",
       "      <td>0.98</td>\n",
       "      <td>0.99</td>\n",
       "      <td>1.01</td>\n",
       "      <td>1.03</td>\n",
       "      <td>1.15</td>\n",
       "      <td>-241.00</td>\n",
       "      <td>2018-06-08</td>\n",
       "      <td>-10</td>\n",
       "      <td>2018-07-06 00:00:00</td>\n",
       "    </tr>\n",
       "    <tr>\n",
       "      <th>2017-01-12</th>\n",
       "      <td>11.00</td>\n",
       "      <td>1.03</td>\n",
       "      <td>0.06</td>\n",
       "      <td>0.97</td>\n",
       "      <td>0.99</td>\n",
       "      <td>1.00</td>\n",
       "      <td>1.04</td>\n",
       "      <td>1.15</td>\n",
       "      <td>-621.00</td>\n",
       "      <td>2016-12-14</td>\n",
       "      <td>-10</td>\n",
       "      <td>2017-01-12 00:00:00</td>\n",
       "    </tr>\n",
       "    <tr>\n",
       "      <th>2017-04-06</th>\n",
       "      <td>11.00</td>\n",
       "      <td>1.03</td>\n",
       "      <td>0.06</td>\n",
       "      <td>0.96</td>\n",
       "      <td>0.99</td>\n",
       "      <td>1.02</td>\n",
       "      <td>1.06</td>\n",
       "      <td>1.16</td>\n",
       "      <td>-561.00</td>\n",
       "      <td>2017-03-10</td>\n",
       "      <td>-10</td>\n",
       "      <td>2017-04-06 00:00:00</td>\n",
       "    </tr>\n",
       "    <tr>\n",
       "      <th>2016-09-21</th>\n",
       "      <td>11.00</td>\n",
       "      <td>1.03</td>\n",
       "      <td>0.06</td>\n",
       "      <td>0.95</td>\n",
       "      <td>1.00</td>\n",
       "      <td>1.03</td>\n",
       "      <td>1.04</td>\n",
       "      <td>1.20</td>\n",
       "      <td>-701.00</td>\n",
       "      <td>2016-08-24</td>\n",
       "      <td>-10</td>\n",
       "      <td>2016-09-21 00:00:00</td>\n",
       "    </tr>\n",
       "    <tr>\n",
       "      <th>2016-12-14</th>\n",
       "      <td>11.00</td>\n",
       "      <td>1.05</td>\n",
       "      <td>0.02</td>\n",
       "      <td>1.01</td>\n",
       "      <td>1.03</td>\n",
       "      <td>1.05</td>\n",
       "      <td>1.06</td>\n",
       "      <td>1.08</td>\n",
       "      <td>-641.00</td>\n",
       "      <td>2016-11-16</td>\n",
       "      <td>-10</td>\n",
       "      <td>2016-12-14 00:00:00</td>\n",
       "    </tr>\n",
       "    <tr>\n",
       "      <th>2017-10-20</th>\n",
       "      <td>11.00</td>\n",
       "      <td>1.05</td>\n",
       "      <td>0.05</td>\n",
       "      <td>0.96</td>\n",
       "      <td>1.02</td>\n",
       "      <td>1.05</td>\n",
       "      <td>1.08</td>\n",
       "      <td>1.15</td>\n",
       "      <td>-421.00</td>\n",
       "      <td>2017-09-25</td>\n",
       "      <td>-10</td>\n",
       "      <td>2017-10-20 00:00:00</td>\n",
       "    </tr>\n",
       "    <tr>\n",
       "      <th>2017-08-25</th>\n",
       "      <td>11.00</td>\n",
       "      <td>1.05</td>\n",
       "      <td>0.08</td>\n",
       "      <td>0.98</td>\n",
       "      <td>1.01</td>\n",
       "      <td>1.05</td>\n",
       "      <td>1.05</td>\n",
       "      <td>1.26</td>\n",
       "      <td>-461.00</td>\n",
       "      <td>2017-07-31</td>\n",
       "      <td>-10</td>\n",
       "      <td>2017-08-25 00:00:00</td>\n",
       "    </tr>\n",
       "    <tr>\n",
       "      <th>2017-12-18</th>\n",
       "      <td>11.00</td>\n",
       "      <td>1.05</td>\n",
       "      <td>0.08</td>\n",
       "      <td>0.95</td>\n",
       "      <td>1.00</td>\n",
       "      <td>1.05</td>\n",
       "      <td>1.07</td>\n",
       "      <td>1.23</td>\n",
       "      <td>-381.00</td>\n",
       "      <td>2017-11-20</td>\n",
       "      <td>-10</td>\n",
       "      <td>2017-12-18 00:00:00</td>\n",
       "    </tr>\n",
       "    <tr>\n",
       "      <th>2017-03-10</th>\n",
       "      <td>11.00</td>\n",
       "      <td>1.05</td>\n",
       "      <td>0.07</td>\n",
       "      <td>0.98</td>\n",
       "      <td>1.02</td>\n",
       "      <td>1.04</td>\n",
       "      <td>1.06</td>\n",
       "      <td>1.24</td>\n",
       "      <td>-581.00</td>\n",
       "      <td>2017-02-10</td>\n",
       "      <td>-10</td>\n",
       "      <td>2017-03-10 00:00:00</td>\n",
       "    </tr>\n",
       "    <tr>\n",
       "      <th>2017-05-05</th>\n",
       "      <td>11.00</td>\n",
       "      <td>1.06</td>\n",
       "      <td>0.09</td>\n",
       "      <td>0.93</td>\n",
       "      <td>1.03</td>\n",
       "      <td>1.04</td>\n",
       "      <td>1.10</td>\n",
       "      <td>1.26</td>\n",
       "      <td>-541.00</td>\n",
       "      <td>2017-04-07</td>\n",
       "      <td>-10</td>\n",
       "      <td>2017-05-05 00:00:00</td>\n",
       "    </tr>\n",
       "    <tr>\n",
       "      <th>2019-04-15</th>\n",
       "      <td>11.00</td>\n",
       "      <td>1.07</td>\n",
       "      <td>0.04</td>\n",
       "      <td>1.01</td>\n",
       "      <td>1.05</td>\n",
       "      <td>1.07</td>\n",
       "      <td>1.07</td>\n",
       "      <td>1.14</td>\n",
       "      <td>-41.00</td>\n",
       "      <td>2019-03-19</td>\n",
       "      <td>-10</td>\n",
       "      <td>2019-04-15 00:00:00</td>\n",
       "    </tr>\n",
       "    <tr>\n",
       "      <th>2018-08-02</th>\n",
       "      <td>11.00</td>\n",
       "      <td>1.07</td>\n",
       "      <td>0.06</td>\n",
       "      <td>0.97</td>\n",
       "      <td>1.04</td>\n",
       "      <td>1.05</td>\n",
       "      <td>1.10</td>\n",
       "      <td>1.18</td>\n",
       "      <td>-221.00</td>\n",
       "      <td>2018-07-06</td>\n",
       "      <td>-10</td>\n",
       "      <td>2018-08-02 00:00:00</td>\n",
       "    </tr>\n",
       "    <tr>\n",
       "      <th>2017-11-17</th>\n",
       "      <td>11.00</td>\n",
       "      <td>1.07</td>\n",
       "      <td>0.06</td>\n",
       "      <td>1.00</td>\n",
       "      <td>1.02</td>\n",
       "      <td>1.07</td>\n",
       "      <td>1.07</td>\n",
       "      <td>1.21</td>\n",
       "      <td>-401.00</td>\n",
       "      <td>2017-10-23</td>\n",
       "      <td>-10</td>\n",
       "      <td>2017-11-17 00:00:00</td>\n",
       "    </tr>\n",
       "    <tr>\n",
       "      <th>2017-06-05</th>\n",
       "      <td>11.00</td>\n",
       "      <td>1.07</td>\n",
       "      <td>0.05</td>\n",
       "      <td>0.99</td>\n",
       "      <td>1.05</td>\n",
       "      <td>1.06</td>\n",
       "      <td>1.09</td>\n",
       "      <td>1.19</td>\n",
       "      <td>-521.00</td>\n",
       "      <td>2017-05-08</td>\n",
       "      <td>-10</td>\n",
       "      <td>2017-06-05 00:00:00</td>\n",
       "    </tr>\n",
       "    <tr>\n",
       "      <th>2016-11-15</th>\n",
       "      <td>11.00</td>\n",
       "      <td>1.08</td>\n",
       "      <td>0.13</td>\n",
       "      <td>0.83</td>\n",
       "      <td>1.02</td>\n",
       "      <td>1.09</td>\n",
       "      <td>1.14</td>\n",
       "      <td>1.34</td>\n",
       "      <td>-661.00</td>\n",
       "      <td>2016-10-19</td>\n",
       "      <td>-10</td>\n",
       "      <td>2016-11-15 00:00:00</td>\n",
       "    </tr>\n",
       "    <tr>\n",
       "      <th>2016-08-23</th>\n",
       "      <td>11.00</td>\n",
       "      <td>1.08</td>\n",
       "      <td>0.16</td>\n",
       "      <td>0.89</td>\n",
       "      <td>1.02</td>\n",
       "      <td>1.08</td>\n",
       "      <td>1.11</td>\n",
       "      <td>1.48</td>\n",
       "      <td>-721.00</td>\n",
       "      <td>2016-07-27</td>\n",
       "      <td>-10</td>\n",
       "      <td>2016-08-23 00:00:00</td>\n",
       "    </tr>\n",
       "    <tr>\n",
       "      <th>2018-06-08</th>\n",
       "      <td>11.00</td>\n",
       "      <td>1.09</td>\n",
       "      <td>0.09</td>\n",
       "      <td>1.02</td>\n",
       "      <td>1.04</td>\n",
       "      <td>1.05</td>\n",
       "      <td>1.10</td>\n",
       "      <td>1.33</td>\n",
       "      <td>-261.00</td>\n",
       "      <td>2018-05-11</td>\n",
       "      <td>-10</td>\n",
       "      <td>2018-06-08 00:00:00</td>\n",
       "    </tr>\n",
       "    <tr>\n",
       "      <th>2017-09-25</th>\n",
       "      <td>11.00</td>\n",
       "      <td>1.09</td>\n",
       "      <td>0.05</td>\n",
       "      <td>1.01</td>\n",
       "      <td>1.06</td>\n",
       "      <td>1.09</td>\n",
       "      <td>1.11</td>\n",
       "      <td>1.20</td>\n",
       "      <td>-441.00</td>\n",
       "      <td>2017-08-28</td>\n",
       "      <td>-10</td>\n",
       "      <td>2017-09-25 00:00:00</td>\n",
       "    </tr>\n",
       "    <tr>\n",
       "      <th>2019-02-19</th>\n",
       "      <td>11.00</td>\n",
       "      <td>1.09</td>\n",
       "      <td>0.04</td>\n",
       "      <td>0.99</td>\n",
       "      <td>1.08</td>\n",
       "      <td>1.11</td>\n",
       "      <td>1.12</td>\n",
       "      <td>1.13</td>\n",
       "      <td>-81.00</td>\n",
       "      <td>2019-01-22</td>\n",
       "      <td>-10</td>\n",
       "      <td>2019-02-19 00:00:00</td>\n",
       "    </tr>\n",
       "    <tr>\n",
       "      <th>2018-05-10</th>\n",
       "      <td>11.00</td>\n",
       "      <td>1.09</td>\n",
       "      <td>0.08</td>\n",
       "      <td>1.01</td>\n",
       "      <td>1.04</td>\n",
       "      <td>1.08</td>\n",
       "      <td>1.11</td>\n",
       "      <td>1.30</td>\n",
       "      <td>-281.00</td>\n",
       "      <td>2018-04-13</td>\n",
       "      <td>-10</td>\n",
       "      <td>2018-05-10 00:00:00</td>\n",
       "    </tr>\n",
       "    <tr>\n",
       "      <th>2018-08-30</th>\n",
       "      <td>11.00</td>\n",
       "      <td>1.10</td>\n",
       "      <td>0.12</td>\n",
       "      <td>0.99</td>\n",
       "      <td>1.02</td>\n",
       "      <td>1.07</td>\n",
       "      <td>1.10</td>\n",
       "      <td>1.42</td>\n",
       "      <td>-201.00</td>\n",
       "      <td>2018-08-03</td>\n",
       "      <td>-10</td>\n",
       "      <td>2018-08-30 00:00:00</td>\n",
       "    </tr>\n",
       "    <tr>\n",
       "      <th>2018-03-14</th>\n",
       "      <td>11.00</td>\n",
       "      <td>1.10</td>\n",
       "      <td>0.14</td>\n",
       "      <td>0.91</td>\n",
       "      <td>1.03</td>\n",
       "      <td>1.05</td>\n",
       "      <td>1.16</td>\n",
       "      <td>1.40</td>\n",
       "      <td>-321.00</td>\n",
       "      <td>2018-02-14</td>\n",
       "      <td>-10</td>\n",
       "      <td>2018-03-14 00:00:00</td>\n",
       "    </tr>\n",
       "    <tr>\n",
       "      <th>2018-11-23</th>\n",
       "      <td>11.00</td>\n",
       "      <td>1.11</td>\n",
       "      <td>0.05</td>\n",
       "      <td>1.03</td>\n",
       "      <td>1.07</td>\n",
       "      <td>1.11</td>\n",
       "      <td>1.13</td>\n",
       "      <td>1.21</td>\n",
       "      <td>-141.00</td>\n",
       "      <td>2018-10-26</td>\n",
       "      <td>-10</td>\n",
       "      <td>2018-11-23 00:00:00</td>\n",
       "    </tr>\n",
       "    <tr>\n",
       "      <th>2018-01-17</th>\n",
       "      <td>11.00</td>\n",
       "      <td>1.12</td>\n",
       "      <td>0.07</td>\n",
       "      <td>1.00</td>\n",
       "      <td>1.07</td>\n",
       "      <td>1.12</td>\n",
       "      <td>1.15</td>\n",
       "      <td>1.23</td>\n",
       "      <td>-361.00</td>\n",
       "      <td>2017-12-18</td>\n",
       "      <td>-10</td>\n",
       "      <td>2018-01-17 00:00:00</td>\n",
       "    </tr>\n",
       "    <tr>\n",
       "      <th>2019-01-22</th>\n",
       "      <td>11.00</td>\n",
       "      <td>1.13</td>\n",
       "      <td>0.14</td>\n",
       "      <td>0.92</td>\n",
       "      <td>1.06</td>\n",
       "      <td>1.07</td>\n",
       "      <td>1.16</td>\n",
       "      <td>1.38</td>\n",
       "      <td>-101.00</td>\n",
       "      <td>2018-12-21</td>\n",
       "      <td>-10</td>\n",
       "      <td>2019-01-22 00:00:00</td>\n",
       "    </tr>\n",
       "    <tr>\n",
       "      <th>2016-07-27</th>\n",
       "      <td>11.00</td>\n",
       "      <td>1.13</td>\n",
       "      <td>0.10</td>\n",
       "      <td>0.93</td>\n",
       "      <td>1.10</td>\n",
       "      <td>1.10</td>\n",
       "      <td>1.17</td>\n",
       "      <td>1.34</td>\n",
       "      <td>-741.00</td>\n",
       "      <td>2016-06-29</td>\n",
       "      <td>-10</td>\n",
       "      <td>2016-07-27 00:00:00</td>\n",
       "    </tr>\n",
       "  </tbody>\n",
       "</table>\n",
       "</div>"
      ],
      "text/plain": [
       "           count mean  std  min  25%  50%  75%  max offset_start  as_of_date  \\\n",
       "2018-10-25 11.00 0.95 0.05 0.86 0.93 0.96 0.99 1.04      -161.00  2018-09-28   \n",
       "2018-12-21 11.00 0.98 0.05 0.89 0.97 0.98 0.99 1.08      -121.00  2018-11-23   \n",
       "2018-02-13 11.00 0.99 0.05 0.89 0.97 0.99 1.02 1.08      -341.00  2018-01-17   \n",
       "2017-06-30 11.00 1.00 0.04 0.95 0.97 1.00 1.02 1.08      -501.00  2017-06-05   \n",
       "2018-04-12 11.00 1.00 0.08 0.89 0.94 1.00 1.07 1.13      -301.00  2018-03-15   \n",
       "2019-03-18 11.00 1.02 0.04 0.97 0.98 1.02 1.05 1.08       -61.00  2019-02-19   \n",
       "2019-05-14 11.00 1.02 0.06 0.95 0.98 1.01 1.05 1.13       -21.00  2019-04-16   \n",
       "2016-10-18 11.00 1.02 0.06 0.95 0.98 1.02 1.06 1.13      -681.00  2016-09-21   \n",
       "2018-07-06 11.00 1.02 0.05 0.98 0.99 1.01 1.03 1.15      -241.00  2018-06-08   \n",
       "2017-01-12 11.00 1.03 0.06 0.97 0.99 1.00 1.04 1.15      -621.00  2016-12-14   \n",
       "2017-04-06 11.00 1.03 0.06 0.96 0.99 1.02 1.06 1.16      -561.00  2017-03-10   \n",
       "2016-09-21 11.00 1.03 0.06 0.95 1.00 1.03 1.04 1.20      -701.00  2016-08-24   \n",
       "2016-12-14 11.00 1.05 0.02 1.01 1.03 1.05 1.06 1.08      -641.00  2016-11-16   \n",
       "2017-10-20 11.00 1.05 0.05 0.96 1.02 1.05 1.08 1.15      -421.00  2017-09-25   \n",
       "2017-08-25 11.00 1.05 0.08 0.98 1.01 1.05 1.05 1.26      -461.00  2017-07-31   \n",
       "2017-12-18 11.00 1.05 0.08 0.95 1.00 1.05 1.07 1.23      -381.00  2017-11-20   \n",
       "2017-03-10 11.00 1.05 0.07 0.98 1.02 1.04 1.06 1.24      -581.00  2017-02-10   \n",
       "2017-05-05 11.00 1.06 0.09 0.93 1.03 1.04 1.10 1.26      -541.00  2017-04-07   \n",
       "2019-04-15 11.00 1.07 0.04 1.01 1.05 1.07 1.07 1.14       -41.00  2019-03-19   \n",
       "2018-08-02 11.00 1.07 0.06 0.97 1.04 1.05 1.10 1.18      -221.00  2018-07-06   \n",
       "2017-11-17 11.00 1.07 0.06 1.00 1.02 1.07 1.07 1.21      -401.00  2017-10-23   \n",
       "2017-06-05 11.00 1.07 0.05 0.99 1.05 1.06 1.09 1.19      -521.00  2017-05-08   \n",
       "2016-11-15 11.00 1.08 0.13 0.83 1.02 1.09 1.14 1.34      -661.00  2016-10-19   \n",
       "2016-08-23 11.00 1.08 0.16 0.89 1.02 1.08 1.11 1.48      -721.00  2016-07-27   \n",
       "2018-06-08 11.00 1.09 0.09 1.02 1.04 1.05 1.10 1.33      -261.00  2018-05-11   \n",
       "2017-09-25 11.00 1.09 0.05 1.01 1.06 1.09 1.11 1.20      -441.00  2017-08-28   \n",
       "2019-02-19 11.00 1.09 0.04 0.99 1.08 1.11 1.12 1.13       -81.00  2019-01-22   \n",
       "2018-05-10 11.00 1.09 0.08 1.01 1.04 1.08 1.11 1.30      -281.00  2018-04-13   \n",
       "2018-08-30 11.00 1.10 0.12 0.99 1.02 1.07 1.10 1.42      -201.00  2018-08-03   \n",
       "2018-03-14 11.00 1.10 0.14 0.91 1.03 1.05 1.16 1.40      -321.00  2018-02-14   \n",
       "2018-11-23 11.00 1.11 0.05 1.03 1.07 1.11 1.13 1.21      -141.00  2018-10-26   \n",
       "2018-01-17 11.00 1.12 0.07 1.00 1.07 1.12 1.15 1.23      -361.00  2017-12-18   \n",
       "2019-01-22 11.00 1.13 0.14 0.92 1.06 1.07 1.16 1.38      -101.00  2018-12-21   \n",
       "2016-07-27 11.00 1.13 0.10 0.93 1.10 1.10 1.17 1.34      -741.00  2016-06-29   \n",
       "\n",
       "           study_period             end_date  \n",
       "2018-10-25          -10  2018-10-25 00:00:00  \n",
       "2018-12-21          -10  2018-12-21 00:00:00  \n",
       "2018-02-13          -10  2018-02-13 00:00:00  \n",
       "2017-06-30          -10  2017-06-30 00:00:00  \n",
       "2018-04-12          -10  2018-04-12 00:00:00  \n",
       "2019-03-18          -10  2019-03-18 00:00:00  \n",
       "2019-05-14          -10  2019-05-14 00:00:00  \n",
       "2016-10-18          -10  2016-10-18 00:00:00  \n",
       "2018-07-06          -10  2018-07-06 00:00:00  \n",
       "2017-01-12          -10  2017-01-12 00:00:00  \n",
       "2017-04-06          -10  2017-04-06 00:00:00  \n",
       "2016-09-21          -10  2016-09-21 00:00:00  \n",
       "2016-12-14          -10  2016-12-14 00:00:00  \n",
       "2017-10-20          -10  2017-10-20 00:00:00  \n",
       "2017-08-25          -10  2017-08-25 00:00:00  \n",
       "2017-12-18          -10  2017-12-18 00:00:00  \n",
       "2017-03-10          -10  2017-03-10 00:00:00  \n",
       "2017-05-05          -10  2017-05-05 00:00:00  \n",
       "2019-04-15          -10  2019-04-15 00:00:00  \n",
       "2018-08-02          -10  2018-08-02 00:00:00  \n",
       "2017-11-17          -10  2017-11-17 00:00:00  \n",
       "2017-06-05          -10  2017-06-05 00:00:00  \n",
       "2016-11-15          -10  2016-11-15 00:00:00  \n",
       "2016-08-23          -10  2016-08-23 00:00:00  \n",
       "2018-06-08          -10  2018-06-08 00:00:00  \n",
       "2017-09-25          -10  2017-09-25 00:00:00  \n",
       "2019-02-19          -10  2019-02-19 00:00:00  \n",
       "2018-05-10          -10  2018-05-10 00:00:00  \n",
       "2018-08-30          -10  2018-08-30 00:00:00  \n",
       "2018-03-14          -10  2018-03-14 00:00:00  \n",
       "2018-11-23          -10  2018-11-23 00:00:00  \n",
       "2018-01-17          -10  2018-01-17 00:00:00  \n",
       "2019-01-22          -10  2019-01-22 00:00:00  \n",
       "2016-07-27          -10  2016-07-27 00:00:00  "
      ]
     },
     "execution_count": 95,
     "metadata": {},
     "output_type": "execute_result"
    }
   ],
   "source": [
    "hist_ports.sort_values(by='mean')"
   ]
  },
  {
   "cell_type": "markdown",
   "metadata": {
    "heading_collapsed": true
   },
   "source": [
    "#### Understand datasets"
   ]
  },
  {
   "cell_type": "code",
   "execution_count": null,
   "metadata": {
    "hidden": true
   },
   "outputs": [],
   "source": [
    "verbose = context['verbose']\n",
    "ml_path, model_name = context['ml_path'], context['model_name']\n",
    "trained_cols = context['trained_cols']    \n",
    "test_size = context['test_size']    \n",
    "look_ahead, look_back = context['look_ahead'], context['look_back']\n",
    "\n",
    "train_tickers = list(train_on_winners(prices, context['tickers'], 10, 0.75).index)\n",
    "context['tickers'] = train_tickers\n",
    "print(f'Training on {len(context[\"tickers\"])} companies')"
   ]
  },
  {
   "cell_type": "code",
   "execution_count": 247,
   "metadata": {
    "hidden": true
   },
   "outputs": [
    {
     "name": "stdout",
     "output_type": "stream",
     "text": [
      "Sectors: 11, Industries: 77\n"
     ]
    },
    {
     "name": "stderr",
     "output_type": "stream",
     "text": [
      "0it [00:00, ?it/s]/Users/vveiga/miniconda3/envs/inception/lib/python3.6/site-packages/pandas/core/indexing.py:1017: FutureWarning: \n",
      "Passing list-likes to .loc or [] with any missing label will raise\n",
      "KeyError in the future, you can use .reindex() as an alternative.\n",
      "\n",
      "See the documentation here:\n",
      "https://pandas.pydata.org/pandas-docs/stable/indexing.html#deprecate-loc-reindex-listlike\n",
      "  return getattr(section, self.name)[new_key]\n",
      "4it [00:00, 15.29it/s]"
     ]
    },
    {
     "name": "stdout",
     "output_type": "stream",
     "text": [
      "9984.T missing profile, skipping\n"
     ]
    },
    {
     "name": "stderr",
     "output_type": "stream",
     "text": [
      "10it [00:00, 14.13it/s]"
     ]
    },
    {
     "name": "stdout",
     "output_type": "stream",
     "text": [
      "ABMD missing profile, skipping\n"
     ]
    },
    {
     "name": "stderr",
     "output_type": "stream",
     "text": [
      "125it [00:11, 12.66it/s]"
     ]
    },
    {
     "name": "stdout",
     "output_type": "stream",
     "text": [
      "JBT missing profile, skipping\n"
     ]
    },
    {
     "name": "stderr",
     "output_type": "stream",
     "text": [
      "138it [00:12, 12.26it/s]"
     ]
    },
    {
     "name": "stdout",
     "output_type": "stream",
     "text": [
      "LRCX missing profile, skipping\n"
     ]
    },
    {
     "name": "stderr",
     "output_type": "stream",
     "text": [
      "160it [00:14, 12.69it/s]"
     ]
    },
    {
     "name": "stdout",
     "output_type": "stream",
     "text": [
      "MU missing profile, skipping\n"
     ]
    },
    {
     "name": "stderr",
     "output_type": "stream",
     "text": [
      "178it [00:16, 12.07it/s]"
     ]
    },
    {
     "name": "stdout",
     "output_type": "stream",
     "text": [
      "ODFL missing profile, skipping\n"
     ]
    },
    {
     "name": "stderr",
     "output_type": "stream",
     "text": [
      "192it [00:17, 10.38it/s]"
     ]
    },
    {
     "name": "stdout",
     "output_type": "stream",
     "text": [
      "REGN missing profile, skipping\n"
     ]
    },
    {
     "name": "stderr",
     "output_type": "stream",
     "text": [
      "198it [00:18, 11.57it/s]"
     ]
    },
    {
     "name": "stdout",
     "output_type": "stream",
     "text": [
      "ROP missing profile, skipping\n"
     ]
    },
    {
     "name": "stderr",
     "output_type": "stream",
     "text": [
      "233it [00:21, 12.29it/s]"
     ]
    },
    {
     "name": "stdout",
     "output_type": "stream",
     "text": [
      "ULTI missing profile, skipping\n"
     ]
    },
    {
     "name": "stderr",
     "output_type": "stream",
     "text": [
      "249it [00:22,  9.85it/s]\n"
     ]
    }
   ],
   "source": [
    "joined_df = pre_process_ds(context)"
   ]
  },
  {
   "cell_type": "code",
   "execution_count": 248,
   "metadata": {
    "hidden": true
   },
   "outputs": [
    {
     "name": "stdout",
     "output_type": "stream",
     "text": [
      "NA False    820873\n",
      "dtype: int64\n",
      "joined_df.shape (820873, 29)\n"
     ]
    }
   ],
   "source": [
    "# count NAs\n",
    "print('NA', pd.value_counts(joined_df.isna().any(1)))\n",
    "print('joined_df.shape', joined_df.shape)"
   ]
  },
  {
   "cell_type": "code",
   "execution_count": null,
   "metadata": {
    "hidden": true,
    "scrolled": false
   },
   "outputs": [],
   "source": [
    "# histogram of numeric columns\n",
    "def plot_histograms(df):\n",
    "    for c in numeric_cols(df): \n",
    "        df.loc[:, c].hist(); plt.title(c); plt.show()\n",
    "\n",
    "plot_histograms(joined_df)"
   ]
  },
  {
   "cell_type": "code",
   "execution_count": 250,
   "metadata": {
    "code_folding": [],
    "hidden": true
   },
   "outputs": [
    {
     "name": "stderr",
     "output_type": "stream",
     "text": [
      "/Users/vveiga/miniconda3/envs/inception/lib/python3.6/site-packages/pandas/core/indexing.py:1494: FutureWarning: \n",
      "Passing list-likes to .loc or [] with any missing label will raise\n",
      "KeyError in the future, you can use .reindex() as an alternative.\n",
      "\n",
      "See the documentation here:\n",
      "https://pandas.pydata.org/pandas-docs/stable/indexing.html#deprecate-loc-reindex-listlike\n",
      "  return self._getitem_tuple(key)\n"
     ]
    },
    {
     "name": "stdout",
     "output_type": "stream",
     "text": [
      "Y_df.shape (3726763, 1)\n",
      "joined_df.shape (820873, 28)\n"
     ]
    },
    {
     "name": "stderr",
     "output_type": "stream",
     "text": [
      "/Users/vveiga/miniconda3/envs/inception/lib/python3.6/site-packages/pandas/core/indexing.py:969: FutureWarning: \n",
      "Passing list-likes to .loc or [] with any missing label will raise\n",
      "KeyError in the future, you can use .reindex() as an alternative.\n",
      "\n",
      "See the documentation here:\n",
      "https://pandas.pydata.org/pandas-docs/stable/indexing.html#deprecate-loc-reindex-listlike\n",
      "  return self._getitem_nested_tuple(tup)\n"
     ]
    },
    {
     "name": "stdout",
     "output_type": "stream",
     "text": [
      "joined_df.shape (797839, 29)\n",
      "neutral   0.48\n",
      "long      0.18\n",
      "bull      0.17\n",
      "bear      0.10\n",
      "short     0.06\n",
      "Name: fwdReturn, dtype: float64\n",
      "Training for 3603 dates, 14.3 years\n"
     ]
    }
   ],
   "source": [
    "# calculation of forward returns\n",
    "Y = clean_co_px.apply(lambda x: px_fwd_rets(x, '', periods=[20, 60, 120]))\n",
    "Y = Y.rolling(int(np.mean(context['look_ahead']))).mean() # \n",
    "Y = Y[~(Y.isna().all(1))]\n",
    "Y = Y.loc[joined_df.index.unique(), :]\n",
    "\n",
    "# reshapes to include symbol in index in additional to date\n",
    "Y_df = Y.loc[joined_df.index.unique().sortlevel()[0], tickers]\n",
    "Y_df = Y_df.stack().to_frame().rename(columns={0: y_col})\n",
    "# somwhat repetitive with steps above but performs faster\n",
    "Y_df.index.set_names(['storeDate', 'symbol'], inplace=True)\n",
    "print('Y_df.shape', Y_df.shape)\n",
    "\n",
    "# re-index processed df on storeDate and symbol to have similar indices\n",
    "joined_df.index.set_names('storeDate', inplace=True)\n",
    "joined_df.set_index(['symbol'], append=True, inplace=True)\n",
    "print('joined_df.shape', joined_df.shape)\n",
    "\n",
    "# add Y values to processed df fast without having to loop\n",
    "joined_df.loc[:, y_col] = Y_df.loc[joined_df.index, y_col]\n",
    "\n",
    "# joined_df.loc[(slice(None), 'AAPL'), y_col].plot() # visualize smoothing\n",
    "# joined_df.groupby('symbol')[y_col].mean().sort_values() # rank long-term mean performance\n",
    "\n",
    "# discretize Y-variable\n",
    "joined_df.dropna(subset=[y_col], inplace=True)\n",
    "joined_df[y_col] = discret_rets(joined_df[y_col], cut_range, fwd_ret_labels)\n",
    "print('joined_df.shape', joined_df.shape)\n",
    "print(sample_wgts(joined_df[y_col]))\n",
    "\n",
    "joined_df.dropna(subset=[y_col], inplace=True)\n",
    "joined_df.loc[:, y_col] = joined_df[y_col].astype(str)\n",
    "\n",
    "days = len(joined_df.index.levels[0].unique())\n",
    "print(f'Training for {days} dates, {round(days/252, 1)} years')\n",
    "\n",
    "# joined_df.loc[(slice(None), 'TAL'), y_col].value_counts() # look at a specific security distribution\n",
    "train_df = joined_df.reset_index(drop=True)\n",
    "train_df.shape\n",
    "      \n",
    "# create training and test sets\n",
    "X, y = train_df.drop(columns=y_col), train_df[y_col]\n",
    "sss = StratifiedShuffleSplit(n_splits=1, test_size=test_size, random_state=42)\n",
    "for train_index, test_index in sss.split(X, y):\n",
    "    X_train, X_test = X.iloc[train_index], X.iloc[test_index]\n",
    "    y_train, y_test = y.iloc[train_index], y.iloc[test_index]\n",
    "    break # just one split      "
   ]
  },
  {
   "cell_type": "code",
   "execution_count": 251,
   "metadata": {
    "hidden": true
   },
   "outputs": [
    {
     "data": {
      "text/plain": [
       "False    797780\n",
       "True         59\n",
       "dtype: int64"
      ]
     },
     "execution_count": 251,
     "metadata": {},
     "output_type": "execute_result"
    }
   ],
   "source": [
    "pd.value_counts(joined_df.duplicated().sort_values())"
   ]
  },
  {
   "cell_type": "code",
   "execution_count": 252,
   "metadata": {
    "hidden": true
   },
   "outputs": [
    {
     "data": {
      "text/plain": [
       "((638271, 29), (159568, 29))"
      ]
     },
     "execution_count": 252,
     "metadata": {},
     "output_type": "execute_result"
    }
   ],
   "source": [
    "joined_df.iloc[y_train.index].shape, joined_df.iloc[y_test.index].shape"
   ]
  },
  {
   "cell_type": "code",
   "execution_count": 253,
   "metadata": {
    "hidden": true
   },
   "outputs": [],
   "source": [
    "train_df = joined_df.iloc[y_train.index].reset_index()\n",
    "test_df = joined_df.iloc[y_test.index].reset_index()"
   ]
  },
  {
   "cell_type": "code",
   "execution_count": 293,
   "metadata": {
    "hidden": true
   },
   "outputs": [],
   "source": [
    "def count_dates(df, train_test, date_col, agg_ops):\n",
    "    return df.iloc[train_test.index].reset_index().groupby(by=date_col).agg(agg_ops)\n",
    "\n",
    "tt_df = pd.concat(\n",
    "    [count_dates(joined_df, y_train, 'storeDate', ['count']).iloc[:, 0],\n",
    "     count_dates(joined_df, y_test, 'storeDate', ['count']).iloc[:, 0]], \n",
    "    axis=1, sort=False)\n",
    "tt_df = tt_df.droplevel(1,axis=1)\n",
    "tt_df.columns = ['train', 'test']\n",
    "tt_df.loc[px_close[bench].dropna().index, :].dropna(inplace=True)"
   ]
  },
  {
   "cell_type": "code",
   "execution_count": 301,
   "metadata": {
    "hidden": true
   },
   "outputs": [
    {
     "data": {
      "image/png": "[encoded data removed]",
      "text/plain": [
       "<Figure size 432x288 with 1 Axes>"
      ]
     },
     "metadata": {
      "needs_background": "light"
     },
     "output_type": "display_data"
    },
    {
     "data": {
      "image/png": "[encoded data removed]",
      "text/plain": [
       "<Figure size 432x288 with 1 Axes>"
      ]
     },
     "metadata": {
      "needs_background": "light"
     },
     "output_type": "display_data"
    }
   ],
   "source": [
    "((tt_df.T / tt_df.sum(axis=1)).T).plot()\n",
    "plt.show()\n",
    "px_close.loc[tt_df.index, bench].pct_change(context['look_ahead']).dropna().plot();"
   ]
  },
  {
   "cell_type": "code",
   "execution_count": 291,
   "metadata": {
    "hidden": true
   },
   "outputs": [
    {
     "name": "stdout",
     "output_type": "stream",
     "text": [
      "Delta in Train/Test Class Distributions\n"
     ]
    },
    {
     "data": {
      "text/plain": [
       "neutral    0.00\n",
       "long      -0.00\n",
       "bull      -0.00\n",
       "bear      -0.00\n",
       "short      0.00\n",
       "Name: fwdReturn, dtype: float64"
      ]
     },
     "execution_count": 291,
     "metadata": {},
     "output_type": "execute_result"
    }
   ],
   "source": [
    "print('Delta in Train/Test Class Distributions')\n",
    "pd.value_counts(y_train) / pd.value_counts(y_train).sum() - pd.value_counts(y_test) / pd.value_counts(y_test).sum()"
   ]
  },
  {
   "cell_type": "markdown",
   "metadata": {},
   "source": [
    "### Other experiments"
   ]
  },
  {
   "cell_type": "markdown",
   "metadata": {},
   "source": [
    "#### Visualize forward looking returns"
   ]
  },
  {
   "cell_type": "code",
   "execution_count": 103,
   "metadata": {},
   "outputs": [
    {
     "data": {
      "text/plain": [
       "<matplotlib.axes._subplots.AxesSubplot at 0x14b57acf8>"
      ]
     },
     "execution_count": 103,
     "metadata": {},
     "output_type": "execute_result"
    },
    {
     "data": {
      "image/png": "[encoded data removed]",
      "text/plain": [
       "<Figure size 864x360 with 2 Axes>"
      ]
     },
     "metadata": {
      "needs_background": "light"
     },
     "output_type": "display_data"
    }
   ],
   "source": [
    "\"\"\"\n",
    "An approach to forward looking returns, \n",
    "is it one period, an average of multiple periods, more recent, less recent?\n",
    "\"\"\"\n",
    "look_ahead = 120; smooth = int(look_ahead/4); s = 'MCK'\n",
    "df = pd.DataFrame(px_fwd_ret(clean_co_px[s], look_ahead, smooth))\n",
    "df['neg_mean'] = df[s].loc[df[s]<0].mean()\n",
    "df['pos_mean'] = df[s].loc[df[s]>0].mean()\n",
    "df['price'] = clean_co_px[s]\n",
    "df.plot(figsize=(12,5), secondary_y='price')"
   ]
  },
  {
   "cell_type": "code",
   "execution_count": 12,
   "metadata": {},
   "outputs": [],
   "source": [
    "# try with full universe\n",
    "look_ahead = context['look_ahead']\n",
    "Y = clean_co_px.apply(px_fwd_ret, args=(look_ahead, int(look_ahead/4)))\n",
    "Y = Y[~(Y.isna().all(1))]"
   ]
  },
  {
   "cell_type": "code",
   "execution_count": null,
   "metadata": {},
   "outputs": [],
   "source": [
    "Y.describe().T.sort_values(by='max')"
   ]
  },
  {
   "cell_type": "code",
   "execution_count": 15,
   "metadata": {},
   "outputs": [
    {
     "data": {
      "text/plain": [
       "<matplotlib.axes._subplots.AxesSubplot at 0x14c9cab70>"
      ]
     },
     "execution_count": 15,
     "metadata": {},
     "output_type": "execute_result"
    },
    {
     "data": {
      "image/png": "[encoded data removed]",
      "text/plain": [
       "<Figure size 432x288 with 1 Axes>"
      ]
     },
     "metadata": {
      "needs_background": "light"
     },
     "output_type": "display_data"
    }
   ],
   "source": [
    "Y.iloc[:, :].dropna(axis=1).mean(axis=1).plot(ylim=(-1, 1), legend=False)"
   ]
  },
  {
   "cell_type": "markdown",
   "metadata": {},
   "source": [
    "#### Narrow training universe to outperformers"
   ]
  },
  {
   "cell_type": "code",
   "execution_count": null,
   "metadata": {},
   "outputs": [],
   "source": [
    "narrow_list = list(train_on_winners(prices, tickers, 10, 0.75).index)\n",
    "print(f'{len(narrow_list)} companies')"
   ]
  },
  {
   "cell_type": "code",
   "execution_count": null,
   "metadata": {},
   "outputs": [],
   "source": [
    "q_df = quotes.loc[narrow_list, ['shortName', 'marketCap']]\n",
    "p_df = profile.loc[narrow_list, ['sector', 'industry', 'country']]\n",
    "joined_df = pd.concat([hist_return[narrow_list], q_df, p_df], axis=1)\n",
    "joined_df.marketCap = joined_df.marketCap / 10**9"
   ]
  },
  {
   "cell_type": "code",
   "execution_count": 154,
   "metadata": {},
   "outputs": [
    {
     "data": {
      "text/html": [
       "<div>\n",
       "<style scoped>\n",
       "    .dataframe tbody tr th:only-of-type {\n",
       "        vertical-align: middle;\n",
       "    }\n",
       "\n",
       "    .dataframe tbody tr th {\n",
       "        vertical-align: top;\n",
       "    }\n",
       "\n",
       "    .dataframe thead th {\n",
       "        text-align: right;\n",
       "    }\n",
       "</style>\n",
       "<table border=\"1\" class=\"dataframe\">\n",
       "  <thead>\n",
       "    <tr style=\"text-align: right;\">\n",
       "      <th></th>\n",
       "      <th>count</th>\n",
       "      <th>mean</th>\n",
       "      <th>std</th>\n",
       "      <th>min</th>\n",
       "      <th>5%</th>\n",
       "      <th>50%</th>\n",
       "      <th>95%</th>\n",
       "      <th>max</th>\n",
       "    </tr>\n",
       "    <tr>\n",
       "      <th>sector</th>\n",
       "      <th></th>\n",
       "      <th></th>\n",
       "      <th></th>\n",
       "      <th></th>\n",
       "      <th></th>\n",
       "      <th></th>\n",
       "      <th></th>\n",
       "      <th></th>\n",
       "    </tr>\n",
       "  </thead>\n",
       "  <tbody>\n",
       "    <tr>\n",
       "      <th>Energy</th>\n",
       "      <td>2.00</td>\n",
       "      <td>4.58</td>\n",
       "      <td>0.24</td>\n",
       "      <td>4.42</td>\n",
       "      <td>4.43</td>\n",
       "      <td>4.58</td>\n",
       "      <td>4.74</td>\n",
       "      <td>4.75</td>\n",
       "    </tr>\n",
       "    <tr>\n",
       "      <th>Utilities</th>\n",
       "      <td>2.00</td>\n",
       "      <td>5.05</td>\n",
       "      <td>0.06</td>\n",
       "      <td>5.01</td>\n",
       "      <td>5.02</td>\n",
       "      <td>5.05</td>\n",
       "      <td>5.09</td>\n",
       "      <td>5.09</td>\n",
       "    </tr>\n",
       "    <tr>\n",
       "      <th>Real Estate</th>\n",
       "      <td>5.00</td>\n",
       "      <td>6.38</td>\n",
       "      <td>3.22</td>\n",
       "      <td>4.47</td>\n",
       "      <td>4.55</td>\n",
       "      <td>5.11</td>\n",
       "      <td>10.76</td>\n",
       "      <td>12.11</td>\n",
       "    </tr>\n",
       "    <tr>\n",
       "      <th>Technology</th>\n",
       "      <td>61.00</td>\n",
       "      <td>8.00</td>\n",
       "      <td>3.82</td>\n",
       "      <td>4.24</td>\n",
       "      <td>4.40</td>\n",
       "      <td>6.73</td>\n",
       "      <td>14.78</td>\n",
       "      <td>24.93</td>\n",
       "    </tr>\n",
       "    <tr>\n",
       "      <th>Industrials</th>\n",
       "      <td>43.00</td>\n",
       "      <td>8.06</td>\n",
       "      <td>3.97</td>\n",
       "      <td>4.20</td>\n",
       "      <td>4.64</td>\n",
       "      <td>6.62</td>\n",
       "      <td>15.83</td>\n",
       "      <td>21.18</td>\n",
       "    </tr>\n",
       "    <tr>\n",
       "      <th>Basic Materials</th>\n",
       "      <td>10.00</td>\n",
       "      <td>8.12</td>\n",
       "      <td>5.08</td>\n",
       "      <td>4.50</td>\n",
       "      <td>4.71</td>\n",
       "      <td>5.95</td>\n",
       "      <td>17.40</td>\n",
       "      <td>19.99</td>\n",
       "    </tr>\n",
       "    <tr>\n",
       "      <th>Consumer Defensive</th>\n",
       "      <td>8.00</td>\n",
       "      <td>8.58</td>\n",
       "      <td>3.66</td>\n",
       "      <td>5.44</td>\n",
       "      <td>5.50</td>\n",
       "      <td>7.83</td>\n",
       "      <td>14.58</td>\n",
       "      <td>16.51</td>\n",
       "    </tr>\n",
       "    <tr>\n",
       "      <th>Financial Services</th>\n",
       "      <td>23.00</td>\n",
       "      <td>8.78</td>\n",
       "      <td>8.27</td>\n",
       "      <td>4.30</td>\n",
       "      <td>4.33</td>\n",
       "      <td>5.99</td>\n",
       "      <td>25.30</td>\n",
       "      <td>39.83</td>\n",
       "    </tr>\n",
       "    <tr>\n",
       "      <th>Healthcare</th>\n",
       "      <td>41.00</td>\n",
       "      <td>9.15</td>\n",
       "      <td>6.34</td>\n",
       "      <td>4.31</td>\n",
       "      <td>4.51</td>\n",
       "      <td>7.11</td>\n",
       "      <td>25.19</td>\n",
       "      <td>32.68</td>\n",
       "    </tr>\n",
       "    <tr>\n",
       "      <th>Consumer Cyclical</th>\n",
       "      <td>46.00</td>\n",
       "      <td>10.43</td>\n",
       "      <td>9.83</td>\n",
       "      <td>4.27</td>\n",
       "      <td>4.67</td>\n",
       "      <td>6.67</td>\n",
       "      <td>27.84</td>\n",
       "      <td>55.76</td>\n",
       "    </tr>\n",
       "    <tr>\n",
       "      <th>Communication Services</th>\n",
       "      <td>4.00</td>\n",
       "      <td>11.46</td>\n",
       "      <td>10.69</td>\n",
       "      <td>5.42</td>\n",
       "      <td>5.46</td>\n",
       "      <td>6.49</td>\n",
       "      <td>24.42</td>\n",
       "      <td>27.44</td>\n",
       "    </tr>\n",
       "  </tbody>\n",
       "</table>\n",
       "</div>"
      ],
      "text/plain": [
       "                        count  mean   std  min   5%  50%   95%   max\n",
       "sector                                                              \n",
       "Energy                   2.00  4.58  0.24 4.42 4.43 4.58  4.74  4.75\n",
       "Utilities                2.00  5.05  0.06 5.01 5.02 5.05  5.09  5.09\n",
       "Real Estate              5.00  6.38  3.22 4.47 4.55 5.11 10.76 12.11\n",
       "Technology              61.00  8.00  3.82 4.24 4.40 6.73 14.78 24.93\n",
       "Industrials             43.00  8.06  3.97 4.20 4.64 6.62 15.83 21.18\n",
       "Basic Materials         10.00  8.12  5.08 4.50 4.71 5.95 17.40 19.99\n",
       "Consumer Defensive       8.00  8.58  3.66 5.44 5.50 7.83 14.58 16.51\n",
       "Financial Services      23.00  8.78  8.27 4.30 4.33 5.99 25.30 39.83\n",
       "Healthcare              41.00  9.15  6.34 4.31 4.51 7.11 25.19 32.68\n",
       "Consumer Cyclical       46.00 10.43  9.83 4.27 4.67 6.67 27.84 55.76\n",
       "Communication Services   4.00 11.46 10.69 5.42 5.46 6.49 24.42 27.44"
      ]
     },
     "execution_count": 154,
     "metadata": {},
     "output_type": "execute_result"
    }
   ],
   "source": [
    "group_winners = joined_df.groupby(by=['sector']).describe(percentiles=[0.05, 0.95])\n",
    "group_winners['totalReturn'].sort_values(by='mean')"
   ]
  },
  {
   "cell_type": "code",
   "execution_count": 155,
   "metadata": {},
   "outputs": [
    {
     "data": {
      "text/html": [
       "<div>\n",
       "<style scoped>\n",
       "    .dataframe tbody tr th:only-of-type {\n",
       "        vertical-align: middle;\n",
       "    }\n",
       "\n",
       "    .dataframe tbody tr th {\n",
       "        vertical-align: top;\n",
       "    }\n",
       "\n",
       "    .dataframe thead th {\n",
       "        text-align: right;\n",
       "    }\n",
       "</style>\n",
       "<table border=\"1\" class=\"dataframe\">\n",
       "  <thead>\n",
       "    <tr style=\"text-align: right;\">\n",
       "      <th></th>\n",
       "      <th>count</th>\n",
       "      <th>mean</th>\n",
       "      <th>std</th>\n",
       "      <th>min</th>\n",
       "      <th>5%</th>\n",
       "      <th>50%</th>\n",
       "      <th>95%</th>\n",
       "      <th>max</th>\n",
       "    </tr>\n",
       "    <tr>\n",
       "      <th>sector</th>\n",
       "      <th></th>\n",
       "      <th></th>\n",
       "      <th></th>\n",
       "      <th></th>\n",
       "      <th></th>\n",
       "      <th></th>\n",
       "      <th></th>\n",
       "      <th></th>\n",
       "    </tr>\n",
       "  </thead>\n",
       "  <tbody>\n",
       "    <tr>\n",
       "      <th>Basic Materials</th>\n",
       "      <td>10.00</td>\n",
       "      <td>7.00</td>\n",
       "      <td>11.98</td>\n",
       "      <td>2.11</td>\n",
       "      <td>2.18</td>\n",
       "      <td>3.12</td>\n",
       "      <td>24.70</td>\n",
       "      <td>40.98</td>\n",
       "    </tr>\n",
       "    <tr>\n",
       "      <th>Utilities</th>\n",
       "      <td>2.00</td>\n",
       "      <td>14.68</td>\n",
       "      <td>6.27</td>\n",
       "      <td>10.25</td>\n",
       "      <td>10.69</td>\n",
       "      <td>14.68</td>\n",
       "      <td>18.67</td>\n",
       "      <td>19.11</td>\n",
       "    </tr>\n",
       "    <tr>\n",
       "      <th>Real Estate</th>\n",
       "      <td>5.00</td>\n",
       "      <td>16.46</td>\n",
       "      <td>14.13</td>\n",
       "      <td>4.43</td>\n",
       "      <td>5.05</td>\n",
       "      <td>13.79</td>\n",
       "      <td>35.47</td>\n",
       "      <td>40.27</td>\n",
       "    </tr>\n",
       "    <tr>\n",
       "      <th>Consumer Defensive</th>\n",
       "      <td>8.00</td>\n",
       "      <td>26.09</td>\n",
       "      <td>19.10</td>\n",
       "      <td>3.50</td>\n",
       "      <td>3.63</td>\n",
       "      <td>26.81</td>\n",
       "      <td>53.04</td>\n",
       "      <td>60.34</td>\n",
       "    </tr>\n",
       "    <tr>\n",
       "      <th>Energy</th>\n",
       "      <td>2.00</td>\n",
       "      <td>26.58</td>\n",
       "      <td>0.95</td>\n",
       "      <td>25.91</td>\n",
       "      <td>25.98</td>\n",
       "      <td>26.58</td>\n",
       "      <td>27.18</td>\n",
       "      <td>27.25</td>\n",
       "    </tr>\n",
       "    <tr>\n",
       "      <th>Healthcare</th>\n",
       "      <td>41.00</td>\n",
       "      <td>26.84</td>\n",
       "      <td>40.72</td>\n",
       "      <td>0.79</td>\n",
       "      <td>2.38</td>\n",
       "      <td>13.21</td>\n",
       "      <td>94.30</td>\n",
       "      <td>227.73</td>\n",
       "    </tr>\n",
       "    <tr>\n",
       "      <th>Industrials</th>\n",
       "      <td>43.00</td>\n",
       "      <td>27.12</td>\n",
       "      <td>39.13</td>\n",
       "      <td>1.57</td>\n",
       "      <td>2.87</td>\n",
       "      <td>11.62</td>\n",
       "      <td>118.51</td>\n",
       "      <td>202.41</td>\n",
       "    </tr>\n",
       "    <tr>\n",
       "      <th>Communication Services</th>\n",
       "      <td>4.00</td>\n",
       "      <td>28.42</td>\n",
       "      <td>38.79</td>\n",
       "      <td>2.59</td>\n",
       "      <td>2.62</td>\n",
       "      <td>13.18</td>\n",
       "      <td>75.53</td>\n",
       "      <td>84.71</td>\n",
       "    </tr>\n",
       "    <tr>\n",
       "      <th>Financial Services</th>\n",
       "      <td>23.00</td>\n",
       "      <td>42.27</td>\n",
       "      <td>85.34</td>\n",
       "      <td>1.72</td>\n",
       "      <td>2.77</td>\n",
       "      <td>13.11</td>\n",
       "      <td>234.51</td>\n",
       "      <td>351.32</td>\n",
       "    </tr>\n",
       "    <tr>\n",
       "      <th>Consumer Cyclical</th>\n",
       "      <td>46.00</td>\n",
       "      <td>53.39</td>\n",
       "      <td>144.48</td>\n",
       "      <td>1.78</td>\n",
       "      <td>2.48</td>\n",
       "      <td>13.30</td>\n",
       "      <td>201.24</td>\n",
       "      <td>944.18</td>\n",
       "    </tr>\n",
       "    <tr>\n",
       "      <th>Technology</th>\n",
       "      <td>61.00</td>\n",
       "      <td>140.32</td>\n",
       "      <td>504.20</td>\n",
       "      <td>1.17</td>\n",
       "      <td>1.98</td>\n",
       "      <td>10.77</td>\n",
       "      <td>811.19</td>\n",
       "      <td>3,639.11</td>\n",
       "    </tr>\n",
       "  </tbody>\n",
       "</table>\n",
       "</div>"
      ],
      "text/plain": [
       "                        count   mean    std   min    5%   50%    95%      max\n",
       "sector                                                                       \n",
       "Basic Materials         10.00   7.00  11.98  2.11  2.18  3.12  24.70    40.98\n",
       "Utilities                2.00  14.68   6.27 10.25 10.69 14.68  18.67    19.11\n",
       "Real Estate              5.00  16.46  14.13  4.43  5.05 13.79  35.47    40.27\n",
       "Consumer Defensive       8.00  26.09  19.10  3.50  3.63 26.81  53.04    60.34\n",
       "Energy                   2.00  26.58   0.95 25.91 25.98 26.58  27.18    27.25\n",
       "Healthcare              41.00  26.84  40.72  0.79  2.38 13.21  94.30   227.73\n",
       "Industrials             43.00  27.12  39.13  1.57  2.87 11.62 118.51   202.41\n",
       "Communication Services   4.00  28.42  38.79  2.59  2.62 13.18  75.53    84.71\n",
       "Financial Services      23.00  42.27  85.34  1.72  2.77 13.11 234.51   351.32\n",
       "Consumer Cyclical       46.00  53.39 144.48  1.78  2.48 13.30 201.24   944.18\n",
       "Technology              61.00 140.32 504.20  1.17  1.98 10.77 811.19 3,639.11"
      ]
     },
     "execution_count": 155,
     "metadata": {},
     "output_type": "execute_result"
    }
   ],
   "source": [
    "group_winners['marketCap'].sort_values(by='mean')"
   ]
  },
  {
   "cell_type": "code",
   "execution_count": 156,
   "metadata": {},
   "outputs": [
    {
     "data": {
      "text/html": [
       "<div>\n",
       "<style scoped>\n",
       "    .dataframe tbody tr th:only-of-type {\n",
       "        vertical-align: middle;\n",
       "    }\n",
       "\n",
       "    .dataframe tbody tr th {\n",
       "        vertical-align: top;\n",
       "    }\n",
       "\n",
       "    .dataframe thead th {\n",
       "        text-align: right;\n",
       "    }\n",
       "</style>\n",
       "<table border=\"1\" class=\"dataframe\">\n",
       "  <thead>\n",
       "    <tr style=\"text-align: right;\">\n",
       "      <th></th>\n",
       "      <th>count</th>\n",
       "      <th>mean</th>\n",
       "    </tr>\n",
       "    <tr>\n",
       "      <th>industry</th>\n",
       "      <th></th>\n",
       "      <th></th>\n",
       "    </tr>\n",
       "  </thead>\n",
       "  <tbody>\n",
       "    <tr>\n",
       "      <th>Specialty Retail</th>\n",
       "      <td>7</td>\n",
       "      <td>15.33</td>\n",
       "    </tr>\n",
       "    <tr>\n",
       "      <th>Health Care Plans</th>\n",
       "      <td>7</td>\n",
       "      <td>9.10</td>\n",
       "    </tr>\n",
       "    <tr>\n",
       "      <th>Internet Content &amp; Information</th>\n",
       "      <td>8</td>\n",
       "      <td>9.18</td>\n",
       "    </tr>\n",
       "    <tr>\n",
       "      <th>Biotechnology</th>\n",
       "      <td>8</td>\n",
       "      <td>11.22</td>\n",
       "    </tr>\n",
       "    <tr>\n",
       "      <th>Semiconductors</th>\n",
       "      <td>9</td>\n",
       "      <td>7.59</td>\n",
       "    </tr>\n",
       "    <tr>\n",
       "      <th>Diversified Industrials</th>\n",
       "      <td>9</td>\n",
       "      <td>6.22</td>\n",
       "    </tr>\n",
       "    <tr>\n",
       "      <th>Medical Instruments &amp; Supplies</th>\n",
       "      <td>9</td>\n",
       "      <td>6.75</td>\n",
       "    </tr>\n",
       "    <tr>\n",
       "      <th>Diagnostics &amp; Research</th>\n",
       "      <td>10</td>\n",
       "      <td>8.74</td>\n",
       "    </tr>\n",
       "    <tr>\n",
       "      <th>Business Services</th>\n",
       "      <td>11</td>\n",
       "      <td>6.45</td>\n",
       "    </tr>\n",
       "    <tr>\n",
       "      <th>Software - Application</th>\n",
       "      <td>16</td>\n",
       "      <td>8.27</td>\n",
       "    </tr>\n",
       "  </tbody>\n",
       "</table>\n",
       "</div>"
      ],
      "text/plain": [
       "                                count  mean\n",
       "industry                                   \n",
       "Specialty Retail                    7 15.33\n",
       "Health Care Plans                   7  9.10\n",
       "Internet Content & Information      8  9.18\n",
       "Biotechnology                       8 11.22\n",
       "Semiconductors                      9  7.59\n",
       "Diversified Industrials             9  6.22\n",
       "Medical Instruments & Supplies      9  6.75\n",
       "Diagnostics & Research             10  8.74\n",
       "Business Services                  11  6.45\n",
       "Software - Application             16  8.27"
      ]
     },
     "execution_count": 156,
     "metadata": {},
     "output_type": "execute_result"
    }
   ],
   "source": [
    "joined_df.groupby(by=['industry']).agg(['count', 'mean'])['totalReturn'].sort_values(by='count').tail(10)"
   ]
  },
  {
   "cell_type": "code",
   "execution_count": 157,
   "metadata": {},
   "outputs": [
    {
     "data": {
      "text/html": [
       "<div>\n",
       "<style scoped>\n",
       "    .dataframe tbody tr th:only-of-type {\n",
       "        vertical-align: middle;\n",
       "    }\n",
       "\n",
       "    .dataframe tbody tr th {\n",
       "        vertical-align: top;\n",
       "    }\n",
       "\n",
       "    .dataframe thead th {\n",
       "        text-align: right;\n",
       "    }\n",
       "</style>\n",
       "<table border=\"1\" class=\"dataframe\">\n",
       "  <thead>\n",
       "    <tr style=\"text-align: right;\">\n",
       "      <th></th>\n",
       "      <th>totalReturn</th>\n",
       "      <th>shortName</th>\n",
       "      <th>marketCap</th>\n",
       "      <th>sector</th>\n",
       "      <th>industry</th>\n",
       "      <th>country</th>\n",
       "    </tr>\n",
       "    <tr>\n",
       "      <th>symbol</th>\n",
       "      <th></th>\n",
       "      <th></th>\n",
       "      <th></th>\n",
       "      <th></th>\n",
       "      <th></th>\n",
       "      <th></th>\n",
       "    </tr>\n",
       "  </thead>\n",
       "  <tbody>\n",
       "    <tr>\n",
       "      <th>A</th>\n",
       "      <td>4.51</td>\n",
       "      <td>Agilent Technologies, Inc.</td>\n",
       "      <td>24.32</td>\n",
       "      <td>Healthcare</td>\n",
       "      <td>Diagnostics &amp; Research</td>\n",
       "      <td>United States</td>\n",
       "    </tr>\n",
       "    <tr>\n",
       "      <th>BRKR</th>\n",
       "      <td>4.85</td>\n",
       "      <td>Bruker Corporation</td>\n",
       "      <td>6.64</td>\n",
       "      <td>Healthcare</td>\n",
       "      <td>Diagnostics &amp; Research</td>\n",
       "      <td>United States</td>\n",
       "    </tr>\n",
       "    <tr>\n",
       "      <th>DHR</th>\n",
       "      <td>4.66</td>\n",
       "      <td>Danaher Corporation</td>\n",
       "      <td>94.30</td>\n",
       "      <td>Healthcare</td>\n",
       "      <td>Diagnostics &amp; Research</td>\n",
       "      <td>United States</td>\n",
       "    </tr>\n",
       "    <tr>\n",
       "      <th>DXCM</th>\n",
       "      <td>27.91</td>\n",
       "      <td>DexCom, Inc.</td>\n",
       "      <td>10.76</td>\n",
       "      <td>Healthcare</td>\n",
       "      <td>Diagnostics &amp; Research</td>\n",
       "      <td>United States</td>\n",
       "    </tr>\n",
       "    <tr>\n",
       "      <th>IDXX</th>\n",
       "      <td>11.33</td>\n",
       "      <td>IDEXX Laboratories, Inc.</td>\n",
       "      <td>21.14</td>\n",
       "      <td>Healthcare</td>\n",
       "      <td>Diagnostics &amp; Research</td>\n",
       "      <td>United States</td>\n",
       "    </tr>\n",
       "    <tr>\n",
       "      <th>ILMN</th>\n",
       "      <td>7.40</td>\n",
       "      <td>Illumina, Inc.</td>\n",
       "      <td>46.96</td>\n",
       "      <td>Healthcare</td>\n",
       "      <td>Diagnostics &amp; Research</td>\n",
       "      <td>United States</td>\n",
       "    </tr>\n",
       "    <tr>\n",
       "      <th>MTD</th>\n",
       "      <td>8.74</td>\n",
       "      <td>Mettler-Toledo International, I</td>\n",
       "      <td>18.39</td>\n",
       "      <td>Healthcare</td>\n",
       "      <td>Diagnostics &amp; Research</td>\n",
       "      <td>United States</td>\n",
       "    </tr>\n",
       "    <tr>\n",
       "      <th>NEOG</th>\n",
       "      <td>7.28</td>\n",
       "      <td>Neogen Corporation</td>\n",
       "      <td>3.17</td>\n",
       "      <td>Healthcare</td>\n",
       "      <td>Diagnostics &amp; Research</td>\n",
       "      <td>United States</td>\n",
       "    </tr>\n",
       "    <tr>\n",
       "      <th>PKI</th>\n",
       "      <td>4.35</td>\n",
       "      <td>PerkinElmer, Inc.</td>\n",
       "      <td>10.34</td>\n",
       "      <td>Healthcare</td>\n",
       "      <td>Diagnostics &amp; Research</td>\n",
       "      <td>United States</td>\n",
       "    </tr>\n",
       "    <tr>\n",
       "      <th>TMO</th>\n",
       "      <td>6.31</td>\n",
       "      <td>Thermo Fisher Scientific Inc</td>\n",
       "      <td>108.20</td>\n",
       "      <td>Healthcare</td>\n",
       "      <td>Diagnostics &amp; Research</td>\n",
       "      <td>United States</td>\n",
       "    </tr>\n",
       "  </tbody>\n",
       "</table>\n",
       "</div>"
      ],
      "text/plain": [
       "        totalReturn                        shortName  marketCap      sector  \\\n",
       "symbol                                                                        \n",
       "A              4.51       Agilent Technologies, Inc.      24.32  Healthcare   \n",
       "BRKR           4.85               Bruker Corporation       6.64  Healthcare   \n",
       "DHR            4.66              Danaher Corporation      94.30  Healthcare   \n",
       "DXCM          27.91                     DexCom, Inc.      10.76  Healthcare   \n",
       "IDXX          11.33         IDEXX Laboratories, Inc.      21.14  Healthcare   \n",
       "ILMN           7.40                   Illumina, Inc.      46.96  Healthcare   \n",
       "MTD            8.74  Mettler-Toledo International, I      18.39  Healthcare   \n",
       "NEOG           7.28               Neogen Corporation       3.17  Healthcare   \n",
       "PKI            4.35                PerkinElmer, Inc.      10.34  Healthcare   \n",
       "TMO            6.31     Thermo Fisher Scientific Inc     108.20  Healthcare   \n",
       "\n",
       "                      industry        country  \n",
       "symbol                                         \n",
       "A       Diagnostics & Research  United States  \n",
       "BRKR    Diagnostics & Research  United States  \n",
       "DHR     Diagnostics & Research  United States  \n",
       "DXCM    Diagnostics & Research  United States  \n",
       "IDXX    Diagnostics & Research  United States  \n",
       "ILMN    Diagnostics & Research  United States  \n",
       "MTD     Diagnostics & Research  United States  \n",
       "NEOG    Diagnostics & Research  United States  \n",
       "PKI     Diagnostics & Research  United States  \n",
       "TMO     Diagnostics & Research  United States  "
      ]
     },
     "execution_count": 157,
     "metadata": {},
     "output_type": "execute_result"
    }
   ],
   "source": [
    "joined_df.loc[joined_df.industry.isin(['Diagnostics & Research']), :]"
   ]
  },
  {
   "cell_type": "markdown",
   "metadata": {},
   "source": [
    "#### More Sector analysis"
   ]
  },
  {
   "cell_type": "code",
   "execution_count": 122,
   "metadata": {},
   "outputs": [
    {
     "data": {
      "text/plain": [
       "industry\n",
       "Engineering & Construction              83.82\n",
       "Packaging & Containers                  90.67\n",
       "Medical Care                            93.75\n",
       "Scientific & Technical Instruments     107.24\n",
       "Electronic Components                  124.90\n",
       "Leisure                                252.71\n",
       "Biotechnology                          286.58\n",
       "Medical Instruments & Supplies         287.91\n",
       "Restaurants                            344.67\n",
       "Business Services                      386.81\n",
       "Communication Equipment                420.76\n",
       "Information Technology Services        430.11\n",
       "Diagnostics & Research                 447.77\n",
       "Medical Devices                        500.25\n",
       "Media - Diversified                    522.33\n",
       "Packaged Foods                         569.99\n",
       "Household & Personal Products          648.31\n",
       "Aerospace & Defense                    681.69\n",
       "Diversified Industrials                795.47\n",
       "Semiconductors                       1,195.61\n",
       "Telecom Services                     1,263.18\n",
       "Software - Infrastructure            1,283.84\n",
       "Software - Application               1,374.74\n",
       "Specialty Retail                     1,727.01\n",
       "Drug Manufacturers - Major           2,165.91\n",
       "Internet Content & Information       6,710.91\n",
       "Name: marketCap, dtype: float64"
      ]
     },
     "execution_count": 122,
     "metadata": {},
     "output_type": "execute_result"
    }
   ],
   "source": [
    "tgt_sectors = [\n",
    "    'Technology', 'Communication Services', \n",
    "    'Healthcare', 'Consumer Cyclical', 'Consumer Defensive', 'Industrials']\n",
    "size_df = get_focus_tickers(quotes, profile, tgt_sectors)\n",
    "size_df.groupby('industry').sum()['marketCap'].sort_values()"
   ]
  },
  {
   "cell_type": "code",
   "execution_count": 123,
   "metadata": {},
   "outputs": [
    {
     "data": {
      "text/plain": [
       "size\n",
       "micro      0\n",
       "small     32\n",
       "mid      229\n",
       "large    237\n",
       "mega      10\n",
       "Name: marketCap, dtype: int64"
      ]
     },
     "execution_count": 123,
     "metadata": {},
     "output_type": "execute_result"
    }
   ],
   "source": [
    "size_df.groupby(['size', 'sector', ]).count()['marketCap']\n",
    "size_df.groupby('size').count()['marketCap']"
   ]
  },
  {
   "cell_type": "code",
   "execution_count": 94,
   "metadata": {},
   "outputs": [
    {
     "data": {
      "text/plain": [
       "<matplotlib.axes._subplots.AxesSubplot at 0x10990f5c0>"
      ]
     },
     "execution_count": 94,
     "metadata": {},
     "output_type": "execute_result"
    },
    {
     "data": {
      "image/png": "[encoded data removed]",
      "text/plain": [
       "<Figure size 432x288 with 1 Axes>"
      ]
     },
     "metadata": {
      "needs_background": "light"
     },
     "output_type": "display_data"
    }
   ],
   "source": [
    "# Average increase and decrease over a give time period\n",
    "prices = px_close.dropna(subset=[bench])[tickers]\n",
    "excl_tickers = list(prices.iloc[-1].isna().loc[prices.iloc[-1].isna().values].index)\n",
    "prices = prices[excl(prices.columns, excl_tickers)]\n",
    "\n",
    "look_back = context['look_back']\n",
    "prices.pct_change(look_back).where(prices.pct_change(look_back) > 0).mean(1).plot()\n",
    "prices.pct_change(look_back).where(prices.pct_change(look_back) < 0).mean(1).plot()"
   ]
  },
  {
   "cell_type": "code",
   "execution_count": 95,
   "metadata": {},
   "outputs": [
    {
     "data": {
      "text/plain": [
       "(-inf,\n",
       " -0.18970860540866852,\n",
       " -0.12610292434692383,\n",
       " 0.18030300736427307,\n",
       " 0.3123534917831421,\n",
       " inf)"
      ]
     },
     "execution_count": 95,
     "metadata": {},
     "output_type": "execute_result"
    }
   ],
   "source": [
    "get_return_intervals(prices, 120, tresholds=[0.25, 0.75])"
   ]
  },
  {
   "cell_type": "markdown",
   "metadata": {
    "heading_collapsed": true
   },
   "source": [
    "#### Date and minute based time analysis"
   ]
  },
  {
   "cell_type": "code",
   "execution_count": null,
   "metadata": {
    "hidden": true
   },
   "outputs": [],
   "source": [
    "freq = '1d'"
   ]
  },
  {
   "cell_type": "code",
   "execution_count": null,
   "metadata": {
    "hidden": true
   },
   "outputs": [],
   "source": [
    "# s1, s2 = '1810.HK', 'AAPL'\n",
    "group_pricing = pd.DataFrame()\n",
    "df1 = get_symbol_pricing(s1, freq, ['close'])\n",
    "df2 = get_symbol_pricing(s2, freq, ['close'])\n",
    "group_pricing = pd.DataFrame(df1)\n",
    "# group_pricing.loc[:, s2] = df2\n",
    "group_pricing = pd.concat([group_pricing, df2], axis=1)\n",
    "group_pricing.describe()\n",
    "# group_pricing"
   ]
  },
  {
   "cell_type": "code",
   "execution_count": null,
   "metadata": {
    "hidden": true
   },
   "outputs": [],
   "source": [
    "path = config['pricing_path'].format(freq)\n",
    "data_dict = json_load(path + json_ext.format(ticker))\n",
    "\n",
    "tz = data_dict['meta']['exchangeTimezoneName']\n",
    "df = build_px_struct(data_dict, freq)\n",
    "\n",
    "adjClose = data_dict['indicators']['adjclose'][0] if 'adjclose' in  data_dict['indicators'] else 0\n",
    "close = data_dict['indicators']['quote'][0]\n",
    "data_dict.keys(), data_dict['indicators'].keys()"
   ]
  },
  {
   "cell_type": "code",
   "execution_count": null,
   "metadata": {
    "hidden": true
   },
   "outputs": [],
   "source": [
    "df.index.date"
   ]
  },
  {
   "cell_type": "code",
   "execution_count": null,
   "metadata": {
    "hidden": true
   },
   "outputs": [],
   "source": [
    "dates = pd.to_datetime(\n",
    "        data_dict['timestamp'], \n",
    "        unit='s', infer_datetime_format=True)\n",
    "# dates = dates.astype(f'datetime64[ns, {tz}]')\n",
    "# dates.tz_convert('America/New_York')\n",
    "# dates = dates.tz_localize('America/New_York')\n",
    "dates.floor('d' if freq == '1d' else 'min')"
   ]
  },
  {
   "cell_type": "code",
   "execution_count": null,
   "metadata": {
    "hidden": true
   },
   "outputs": [],
   "source": [
    "df.tail(5)"
   ]
  },
  {
   "cell_type": "code",
   "execution_count": null,
   "metadata": {
    "hidden": true
   },
   "outputs": [],
   "source": [
    "freq = '1d'"
   ]
  },
  {
   "cell_type": "code",
   "execution_count": null,
   "metadata": {
    "hidden": true
   },
   "outputs": [],
   "source": [
    "%time px_close = get_mults_pricing(symbols_list[:10], freq);"
   ]
  },
  {
   "cell_type": "code",
   "execution_count": null,
   "metadata": {
    "hidden": true
   },
   "outputs": [],
   "source": [
    "# [px_close[x].dropna().tail() for x in px_close.columns]\n",
    "px_close.describe()\n",
    "# px_close.tail()"
   ]
  },
  {
   "cell_type": "code",
   "execution_count": null,
   "metadata": {
    "hidden": true
   },
   "outputs": [],
   "source": [
    "f'Ticker: {ticker}'"
   ]
  },
  {
   "cell_type": "code",
   "execution_count": null,
   "metadata": {
    "hidden": true
   },
   "outputs": [],
   "source": [
    "px = get_symbol_pricing(ticker, freq)\n",
    "px.close.tail()"
   ]
  },
  {
   "cell_type": "markdown",
   "metadata": {
    "heading_collapsed": true
   },
   "source": [
    "#### Old code"
   ]
  },
  {
   "cell_type": "code",
   "execution_count": null,
   "metadata": {
    "hidden": true
   },
   "outputs": [],
   "source": [
    "# test distribution of Y variable\n",
    "tickers = list(mu.sample_sector_tickers(eqty_symbols, profile, sectors, 50).index)\n",
    "context['grid_search'] = False\n",
    "context['tickers'] = tickers\n",
    "context['train_model'] = True\n",
    "\n",
    "df_large = create_ds(context)\n",
    "\n",
    "df = df_large.copy()\n",
    "df.dropna(subset=[y_col], inplace=True)\n",
    "df[y_col] = discret_rets(df[y_col], cut_range, fwd_ret_labels)\n",
    "df.dropna(subset=[y_col], inplace=True) # no nas in y_col\n",
    "df[y_col] = df[y_col].astype(str) # class as string\n",
    "sample_wgts(df[y_col])\n",
    "\n",
    "pred_X, X_traxin, X_test, y_train, y_test = pre_process_ds(df_large, context)\n",
    "pd.value_counts(discret_rets(df_large.fwdReturn, cut_range, fwd_ret_labels)).sum()\n",
    "pd.value_counts(pd.concat([y_train, y_test], axis=0)).sum()"
   ]
  },
  {
   "cell_type": "code",
   "execution_count": null,
   "metadata": {
    "code_folding": [],
    "hidden": true
   },
   "outputs": [],
   "source": [
    "# Test cumulative drawdowns and pulls\n",
    "n = 100\n",
    "r_w = np.random.randn(n).cumsum() + 100\n",
    "l_dd, h_dd, l_p, h_p = max_draw_pull(r_w)\n",
    "\n",
    "plt.plot(r_w)\n",
    "plt.plot(\n",
    "    [l_dd, h_dd], \n",
    "    [r_w[l_dd], r_w[h_dd],], \n",
    "    'o', color='Red', markersize=10)\n",
    "plt.plot(\n",
    "    [l_p, h_p], \n",
    "    [r_w[l_p], r_w[h_p]], \n",
    "    'o', color='Green', markersize=10)"
   ]
  },
  {
   "cell_type": "code",
   "execution_count": null,
   "metadata": {
    "hidden": true
   },
   "outputs": [],
   "source": [
    "# Retrieves historical pricing\n",
    "secpx = get_symbol_pricing(symbol, freq)\n",
    "secpx.set_index(secpx.index.astype(np.datetime64), inplace=True)"
   ]
  },
  {
   "cell_type": "code",
   "execution_count": null,
   "metadata": {
    "hidden": true
   },
   "outputs": [],
   "source": [
    "fwd_ss_ret = lambda x, df, arr: df.loc[[y for y in arr[x-1] if y in df.index.tolist()]].mean()"
   ]
  },
  {
   "cell_type": "code",
   "execution_count": null,
   "metadata": {
    "hidden": true
   },
   "outputs": [],
   "source": [
    "# seasonality analysis\n",
    "ss_df = closepx.pct_change().resample('M').sum().to_frame()\n",
    "ss_df['year'], ss_df['month'] = ss_df.index.year, ss_df.index.month\n",
    "ss_df = ss_df.pivot_table(index='year', columns='month').mean()\n",
    "ss_pos = [(x, (x+1) if not (x+1) // 12 else 0, \n",
    "     x+2 if not (x+2) // 12 else x - 10) for x in range(12)]\n",
    "\n",
    "# [fwd_ss_ret(x+1, ss_df['close'], ss_pos) for x in range(12)] # test"
   ]
  },
  {
   "cell_type": "code",
   "execution_count": null,
   "metadata": {
    "hidden": true
   },
   "outputs": [],
   "source": [
    "# apply seasonality, mean return of curr month plus next two\n",
    "secpx['month'] = secpx.index.month\n",
    "secpx['fwdSSRet'] = secpx.loc[:].month.apply(\n",
    "    fwd_ss_ret, args=(ss_df['close'], ss_pos,))"
   ]
  },
  {
   "cell_type": "code",
   "execution_count": null,
   "metadata": {
    "hidden": true
   },
   "outputs": [],
   "source": [
    "secpx.columns # all columns"
   ]
  },
  {
   "cell_type": "code",
   "execution_count": null,
   "metadata": {
    "hidden": true
   },
   "outputs": [],
   "source": [
    "# normalized columns for ML training, still has outliers\n",
    "ml_ds_cols = secpx.describe().loc['50%'][secpx.describe().loc['50%'] < 5].index.tolist()\n",
    "ml_ds_cols"
   ]
  },
  {
   "cell_type": "code",
   "execution_count": null,
   "metadata": {
    "hidden": true
   },
   "outputs": [],
   "source": [
    "# prepare ML dataset\n",
    "ml_ds = secpx[ml_ds_cols].copy()\n",
    "\n",
    "class_cols = ['fwdChg1w', 'fwdChg1m', 'fwdChg3m']\n",
    "cut_range = [-1, -0.05, .0, .02, .09, 1.]\n",
    "fwd_ret_labels = [\"bear\", \"short\", \"neutral\", \"long\", \"bull\"]\n",
    "\n",
    "for c in class_cols: ml_ds[c] = pd.cut(secpx[c], cut_range, labels=fwd_ret_labels)\n",
    "ml_ds.info()"
   ]
  },
  {
   "cell_type": "code",
   "execution_count": null,
   "metadata": {
    "hidden": true
   },
   "outputs": [],
   "source": [
    "# drop the predicting class with most nas\n",
    "ml_ds.dropna(inplace=True)\n",
    "ml_ds.info()"
   ]
  },
  {
   "cell_type": "code",
   "execution_count": null,
   "metadata": {
    "hidden": true
   },
   "outputs": [],
   "source": [
    "ml_ds.hist(figsize=(15,15));"
   ]
  },
  {
   "cell_type": "code",
   "execution_count": null,
   "metadata": {
    "hidden": true
   },
   "outputs": [],
   "source": [
    "ml_ds.to_csv(csv_ext.format('co_price_mom_ds'), index=False)"
   ]
  }
 ],
 "metadata": {
  "kernelspec": {
   "display_name": "Python 3",
   "language": "python",
   "name": "python3"
  },
  "language_info": {
   "codemirror_mode": {
    "name": "ipython",
    "version": 3
   },
   "file_extension": ".py",
   "mimetype": "text/x-python",
   "name": "python",
   "nbconvert_exporter": "python",
   "pygments_lexer": "ipython3",
   "version": "3.6.8"
  },
  "toc": {
   "base_numbering": 1,
   "nav_menu": {},
   "number_sections": true,
   "sideBar": true,
   "skip_h1_title": false,
   "title_cell": "Table of Contents",
   "title_sidebar": "Contents",
   "toc_cell": false,
   "toc_position": {},
   "toc_section_display": true,
   "toc_window_display": false
  }
 },
 "nbformat": 4,
 "nbformat_minor": 2
}
