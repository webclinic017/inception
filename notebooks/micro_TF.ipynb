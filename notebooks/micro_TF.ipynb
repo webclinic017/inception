{
 "cells": [
  {
   "cell_type": "code",
   "execution_count": 11,
   "metadata": {
    "code_folding": []
   },
   "outputs": [],
   "source": [
    "#imports\n",
    "%reload_ext autoreload\n",
    "%autoreload 2\n",
    "%matplotlib inline \n",
    "\n",
    "from matplotlib import pyplot as plt\n",
    "\n",
    "from utils.basic_utils import *\n",
    "from utils.fundamental import chain_outlier, get_focus_tickers, best_performers\n",
    "from utils.pricing import load_px_close, get_return_intervals \n",
    "from utils.pricing import dummy_col, discret_rets, sample_wgts, px_fwd_ret\n",
    "from utils.pricing import px_mom_feats, px_mom_co_feats_light, px_fwd_rets, get_ind_index\n",
    "from utils.pricing import eq_wgt_indices, to_index_form, rename_col\n",
    "\n",
    "pd.options.display.float_format = '{:,.2f}'.format\n",
    "\n",
    "import time, os, sys\n",
    "from tqdm import tqdm\n",
    "\n",
    "from sklearn import preprocessing\n",
    "from sklearn.preprocessing import StandardScaler\n",
    "from sklearn.model_selection import train_test_split\n",
    "from sklearn.utils.multiclass import unique_labels\n",
    "from sklearn.metrics import confusion_matrix, classification_report\n",
    "from sklearn.metrics import accuracy_score, log_loss, precision_recall_fscore_support\n",
    "from sklearn.metrics import precision_score, roc_auc_score\n",
    "\n",
    "from sklearn.model_selection import StratifiedShuffleSplit\n",
    "from sklearn.model_selection import StratifiedKFold\n",
    "from sklearn.neural_network import MLPClassifier\n",
    "from sklearn.ensemble import VotingClassifier\n",
    "from sklearn.ensemble import RandomForestClassifier\n",
    "from sklearn.ensemble import ExtraTreesClassifier\n",
    "\n",
    "import numpy as np\n",
    "import keras\n",
    "from keras.models import Sequential, load_model\n",
    "from keras.layers import Dense, Dropout, Activation\n",
    "from keras.optimizers import SGD, Adam, Adagrad, Adadelta, Adamax, Nadam, RMSprop\n",
    "from keras.callbacks import EarlyStopping, ModelCheckpoint\n",
    "from keras.callbacks import CSVLogger\n",
    "from keras.layers import BatchNormalization"
   ]
  },
  {
   "cell_type": "code",
   "execution_count": 12,
   "metadata": {},
   "outputs": [
    {
     "data": {
      "text/plain": [
       "['/job:localhost/replica:0/task:0/device:GPU:0']"
      ]
     },
     "execution_count": 12,
     "metadata": {},
     "output_type": "execute_result"
    }
   ],
   "source": [
    "from keras import backend as K\n",
    "K.tensorflow_backend._get_available_gpus()"
   ]
  },
  {
   "cell_type": "markdown",
   "metadata": {},
   "source": [
    "### Context data"
   ]
  },
  {
   "cell_type": "code",
   "execution_count": null,
   "metadata": {
    "code_folding": []
   },
   "outputs": [],
   "source": [
    "# get latest pricing file from inferece server\n",
    "px_close_ds = context['px_close']\n",
    "tmp_path = context['tmp_path']\n",
    "os.makedirs(tmp_path, exist_ok=True)\n",
    "!scp -i ~/.ssh/qc_infra.pem ubuntu@52.13.205.29:~/inception/tmp/{px_close_ds} {tmp_path}{px_close_ds}"
   ]
  },
  {
   "cell_type": "code",
   "execution_count": 93,
   "metadata": {
    "code_folding": []
   },
   "outputs": [],
   "source": [
    "# context\n",
    "bench = '^GSPC'\n",
    "y_col = 'fwdReturn'\n",
    "tickers = excl(config['companies'], [])\n",
    "\n",
    "context = {\n",
    "    'ml_path': '../ML/',\n",
    "    'model_name': 'micro_TF.h5',\n",
    "    'tmp_path': '../tmp/',\n",
    "    'ds_name': 'co-technicals-ds',\n",
    "    'px_close': 'universe-px-ds',\n",
    "    'trained_cols': 'micro_TF_train_cols.npy',\n",
    "    'look_ahead': 120,\n",
    "    'look_back': 252*5,\n",
    "    'load_ds': True,\n",
    "    'scale': True,\n",
    "    'test_size': .05,\n",
    "    'verbose': True,\n",
    "    's3_path': 'recommend/micro_ML/',\n",
    "    'units': 850,\n",
    "    'max_iter': 50,\n",
    "    'l2_reg': 0.01,\n",
    "}"
   ]
  },
  {
   "cell_type": "code",
   "execution_count": 94,
   "metadata": {
    "code_folding": []
   },
   "outputs": [
    {
     "name": "stdout",
     "output_type": "stream",
     "text": [
      "Target date: 2019-05-17\n",
      "Loading file quote/csv/2019-05-17\n",
      "Loading file summary-categories/assetProfile\n"
     ]
    }
   ],
   "source": [
    "# Quotes, profile, and industries\n",
    "dates = read_dates('quote')\n",
    "tgt_date = dates[-1] # last date saved in S3\n",
    "print(f'Target date: {tgt_date}')\n",
    "\n",
    "equity_symbols = config['companies']\n",
    "\n",
    "quotes = load_csvs('quote_consol', [tgt_date])\n",
    "quotes = quotes.loc[quotes.symbol.isin(equity_symbols)]\n",
    "quotes.set_index('symbol', drop=False, inplace=True)\n",
    "\n",
    "profile = load_csvs('summary_detail', ['assetProfile'])\n",
    "profile = profile.loc[profile.symbol.isin(equity_symbols)]\n",
    "profile.set_index('symbol', drop=False, inplace=True)"
   ]
  },
  {
   "cell_type": "code",
   "execution_count": 95,
   "metadata": {
    "code_folding": []
   },
   "outputs": [
    {
     "name": "stdout",
     "output_type": "stream",
     "text": [
      "<class 'pandas.core.frame.DataFrame'>\n",
      "Index: 4674 entries, 2004-05-16 to 2019-05-17\n",
      "Columns: 1291 entries, 0700.HK to KRW=X\n",
      "dtypes: float32(1291)\n",
      "memory usage: 23.1+ MB\n",
      "px_close.info() None\n",
      "Return intervals [  -inf -0.176 -0.107  0.14   0.252    inf]\n"
     ]
    }
   ],
   "source": [
    "# load stored pricing\n",
    "px_close = load_px_close(\n",
    "    context['tmp_path'], context['px_close'], context['load_ds']).drop_duplicates()\n",
    "print('px_close.info()', px_close.info())\n",
    "\n",
    "fwd_ret_labels = [\"bear\", \"short\", \"neutral\", \"long\", \"bull\"]\n",
    "clean_co_px = px_close.dropna(subset=[bench])[tickers].fillna(method='ffill')\n",
    "\n",
    "cut_range = get_return_intervals(\n",
    "    clean_co_px, \n",
    "    context['look_ahead'], \n",
    "    tresholds=[0.25, 0.75])\n",
    "\n",
    "print(f'Return intervals {np.round(cut_range, 3)}')"
   ]
  },
  {
   "cell_type": "code",
   "execution_count": 96,
   "metadata": {
    "code_folding": []
   },
   "outputs": [
    {
     "name": "stdout",
     "output_type": "stream",
     "text": [
      "248 companies\n"
     ]
    }
   ],
   "source": [
    "# Training/inference subset\n",
    "tgt_sectors = [\n",
    "    'Technology',\n",
    "    'Healthcare',\n",
    "    'Industrials',\n",
    "    'Basic Materials',\n",
    "    'Consumer Cyclical',\n",
    "    'Financial Services',\n",
    "    'Consumer Defensive',\n",
    "    'Real Estate',\n",
    "    'Utilities',\n",
    "    'Communication Services',\n",
    "    'Energy',\n",
    "]\n",
    "\n",
    "# tickers = list(profile.loc[profile.sector.isin(tgt_sectors), 'symbol'])\n",
    "tickers = list(best_performers(clean_co_px, tickers=tickers, years=10, quantile=0.75).index)\n",
    "\n",
    "context['tickers'] = tickers\n",
    "print(f'{len(tickers)} companies')"
   ]
  },
  {
   "cell_type": "markdown",
   "metadata": {},
   "source": [
    "### Final"
   ]
  },
  {
   "cell_type": "code",
   "execution_count": 97,
   "metadata": {
    "code_folding": [
     0
    ]
   },
   "outputs": [],
   "source": [
    "def pre_process_ds(context):\n",
    "    \n",
    "    tickers = context['tickers']\n",
    "    sectors = profile.loc[profile.symbol.isin(tickers)].sector.unique()\n",
    "    industries = profile.loc[profile.symbol.isin(tickers)].industry.unique()\n",
    "    print(f'Sectors: {sectors.shape[0]}, Industries: {industries.shape[0]}')\n",
    "    \n",
    "    indices_df = pd.concat(\n",
    "        [eq_wgt_indices(profile, px_close, 'sector', sectors, subset=tickers),\n",
    "        eq_wgt_indices(profile, px_close, 'industry', industries, subset=tickers),\n",
    "        to_index_form(px_close[bench], bench)], \n",
    "        axis=1).drop_duplicates()\n",
    "    \n",
    "    # create price momentum features\n",
    "    tmp_path = context['tmp_path']\n",
    "    ds_name = context['ds_name']\n",
    "\n",
    "    super_list = []\n",
    "    for i, ticker in tqdm(enumerate(tickers)):\n",
    "        try:\n",
    "            close = px_close[ticker].dropna()\n",
    "            ft_df = px_mom_feats(close, ticker, incl_name=False)\n",
    "            if ticker in profile.symbol.unique():\n",
    "                top_groups = tuple([bench, profile.loc[ticker, 'sector']])\n",
    "                co = px_mom_co_feats_light(close, indices_df, top_groups)\n",
    "                ft_df = pd.concat([ft_df, co.loc[ft_df.index, :]], axis=1)\n",
    "                super_list.append(ft_df.copy())\n",
    "            else: print(ticker, 'missing profile, skipping')\n",
    "        except Exception as e: \n",
    "            print(\"Exception: {0} {1}\".format(ticker, e))\n",
    "\n",
    "    joined_df = pd.concat(super_list, axis=0)\n",
    "    joined_df = chain_outlier(joined_df, None)\n",
    "        \n",
    "    # basic impute and scaling\n",
    "    scale_on = context['scale']\n",
    "    scaler = StandardScaler()\n",
    "    num_cols = numeric_cols(joined_df)\n",
    "#     joined_df.loc[:, num_cols] = joined_df[num_cols].replace([np.inf, -np.inf, np.nan], 0)\n",
    "    joined_df.dropna(inplace=True)\n",
    "    if scale_on: joined_df.loc[:, num_cols] = scaler.fit_transform(joined_df[num_cols])\n",
    "\n",
    "    # add categoricals\n",
    "    joined_df = dummy_col(joined_df, 'sector', shorten=True)\n",
    "    \n",
    "    return joined_df"
   ]
  },
  {
   "cell_type": "code",
   "execution_count": 98,
   "metadata": {
    "code_folding": [
     0
    ]
   },
   "outputs": [],
   "source": [
    "def get_train_test_sets(context):\n",
    "    \n",
    "    verbose = context['verbose']\n",
    "    ml_path, model_name = context['ml_path'], context['model_name']\n",
    "    trained_cols = context['trained_cols']    \n",
    "    test_size = context['test_size']    \n",
    "    look_ahead = context['look_ahead']\n",
    "\n",
    "    tickers = context['tickers']\n",
    "    print(f'Training on {len(context[\"tickers\"])} companies')\n",
    "\n",
    "    joined_df = pre_process_ds(context)\n",
    "\n",
    "    # calculation of forward returns\n",
    "    look_ahead = context['look_ahead']\n",
    "    Y = clean_co_px.apply(px_fwd_ret, args=(look_ahead, int(look_ahead/4)))\n",
    "    Y = Y[~(Y.isna().all(1))]\n",
    "\n",
    "    # reshapes to include symbol in index in additional to date\n",
    "    Y_df = Y.loc[joined_df.index.unique().sortlevel()[0], tickers]\n",
    "    Y_df = Y_df.stack().to_frame().rename(columns={0: y_col})\n",
    "    # somwhat repetitive with steps above but performs faster\n",
    "    Y_df.index.set_names(['storeDate', 'symbol'], inplace=True)\n",
    "    print('Y_df.shape', Y_df.shape)\n",
    "\n",
    "    # re-index processed df on storeDate and symbol to have similar indices\n",
    "    joined_df.index.set_names('storeDate', inplace=True)\n",
    "    joined_df.set_index(['symbol'], append=True, inplace=True)\n",
    "    print('joined_df.shape', joined_df.shape)\n",
    "\n",
    "    # add Y values to processed df fast without having to loop\n",
    "    joined_df.loc[:, y_col] = Y_df.loc[joined_df.index, y_col]\n",
    "\n",
    "    # joined_df.loc[(slice(None), 'AAPL'), y_col].plot() # visualize smoothing\n",
    "    # joined_df.groupby('symbol')[y_col].mean().sort_values() # rank long-term mean performance\n",
    "\n",
    "    # discretize Y-variable\n",
    "    joined_df.dropna(subset=[y_col], inplace=True)\n",
    "    joined_df[y_col] = discret_rets(joined_df[y_col], cut_range, fwd_ret_labels)\n",
    "    print('joined_df.shape', joined_df.shape)\n",
    "    print(sample_wgts(joined_df[y_col]))\n",
    "\n",
    "    joined_df.dropna(subset=[y_col], inplace=True)\n",
    "    joined_df.loc[:, y_col] = joined_df[y_col].astype(str)\n",
    "\n",
    "    days = len(joined_df.index.levels[0].unique())\n",
    "    print(f'Training for {days} dates, {round(days/252, 1)} years')\n",
    "\n",
    "    # joined_df.loc[(slice(None), 'TAL'), y_col].value_counts() # look at a specific security distribution\n",
    "    train_df = joined_df.reset_index(drop=True)\n",
    "    train_df.shape\n",
    "\n",
    "    # create training and test sets\n",
    "    X, y = train_df.drop(columns=y_col), train_df[y_col]\n",
    "    sss = StratifiedShuffleSplit(n_splits=1, test_size=test_size, random_state=42)\n",
    "    for train_index, test_index in sss.split(X, y):\n",
    "        X_train, X_test = X.iloc[train_index], X.iloc[test_index]\n",
    "        y_train, y_test = y.iloc[train_index], y.iloc[test_index]\n",
    "        break # just one split\n",
    "\n",
    "    # skf = StratifiedKFold(n_splits=2, random_state=None)\n",
    "    # for train_index, test_index in skf.split(X, y):\n",
    "    #     X_train, X_test = X.iloc[train_index], X.iloc[test_index]\n",
    "    #     y_train, y_test = y.iloc[train_index], y.iloc[test_index]\n",
    "    #     break\n",
    "          \n",
    "    return X_train, X_test, y_train, y_test"
   ]
  },
  {
   "cell_type": "code",
   "execution_count": 99,
   "metadata": {
    "code_folding": [
     0
    ]
   },
   "outputs": [],
   "source": [
    "def train_ds(context):\n",
    "    \n",
    "    X_train, X_test, y_train, y_test = get_train_test_sets(context)\n",
    "    \n",
    "    # Keras Model\n",
    "    max_iter = context['max_iter']\n",
    "    l2_reg = context['l2_reg']\n",
    "    units = context['units']\n",
    "    trained_cols = context['trained_cols']\n",
    "\n",
    "    y_train_oh = pd.get_dummies(y_train)[fwd_ret_labels]\n",
    "    y_test_oh = pd.get_dummies(y_test)[fwd_ret_labels]\n",
    "\n",
    "    model = Sequential()\n",
    "    model.add(Dense(units, activation='relu', input_dim=X_train.shape[1]))\n",
    "    # model.add(Dropout(0.05))\n",
    "    model.add(Dense(units, activation='relu'))\n",
    "    model.add(Dense(units, activation='relu'))\n",
    "    model.add(Dense(units, activation='relu'))\n",
    "    model.add(Dense(int(units/2), activation='relu'))\n",
    "    model.add(Dense(len(pd.unique(y_train)), activation='softmax'))\n",
    "    keras.regularizers.l2(l2_reg)\n",
    "\n",
    "    opt = Adam()\n",
    "    # opt = Nadam() #essentially RMSprop with momentum, Nadam is Adam RMSprop with Nesterov momentum\n",
    "    # opt = RMSprop() #optimizer is usually a good choice for recurrent neural networks\n",
    "\n",
    "    ml_path, model_name = context['ml_path'], context['model_name']\n",
    "    fname = ml_path + model_name\n",
    "    es = EarlyStopping(monitor='loss', patience=10, restore_best_weights=True, verbose=1)\n",
    "    checkpointer = ModelCheckpoint(filepath=fname, verbose=1, save_best_only=True)\n",
    "    csv_logger = CSVLogger('micro-train.log')\n",
    "\n",
    "    # save training columns\n",
    "    np.save(ml_path + trained_cols, X_train.columns) # save feature order\n",
    "    print(f'X_train.shape {X_train.shape}, columns: {list(X_train.columns)}')\n",
    "    print('Saved: ', ml_path + trained_cols)    \n",
    "    \n",
    "    model.compile(loss='categorical_crossentropy', optimizer=opt, metrics=['accuracy'])\n",
    "    history = model.fit(X_train, y_train_oh, validation_data=(X_test, y_test_oh), \n",
    "              epochs=max_iter, batch_size=200, callbacks=[es, checkpointer, csv_logger])\n",
    "\n",
    "    score = model.evaluate(X_test, y_test_oh)\n",
    "    print(f'Test loss: {score[0]}, Test accuracy: {score[1]}')\n",
    "\n",
    "    # save model to drive\n",
    "    model.save(fname)\n",
    "    print('Saved ', fname)"
   ]
  },
  {
   "cell_type": "code",
   "execution_count": 100,
   "metadata": {
    "code_folding": []
   },
   "outputs": [],
   "source": [
    "def predict_ds(context):\n",
    "    \n",
    "    ml_path = context['ml_path']\n",
    "    model_name = context['model_name']\n",
    "    trained_cols = context['trained_cols']\n",
    "    look_back = context['look_back']\n",
    "    \n",
    "    joined_df = pre_process_ds(context)\n",
    "    pred_X = joined_df.loc[joined_df.sort_index().index.unique()[-look_back:], :]\n",
    "    print('pred_X.shape', pred_X.shape)\n",
    "\n",
    "    # ensure prediction dataset is consistent with trained model\n",
    "    train_cols = np.load(ml_path + trained_cols, allow_pickle=True) # save feature order\n",
    "    missing_cols = [x for x in train_cols if x not in pred_X.columns]\n",
    "    if len(missing_cols):\n",
    "        print(f'Warning missing columns: {missing_cols}')\n",
    "        pred_X = pd.concat([pred_X, pd.DataFrame(columns=missing_cols)], axis=1)\n",
    "        pred_X[missing_cols] = 0\n",
    "\n",
    "    sorted_cols = list(np.append(train_cols, ['symbol']))\n",
    "    print('pred_X.shape', pred_X[sorted_cols].shape)\n",
    "\n",
    "    pred_df = pd.DataFrame()\n",
    "    pred_df['symbol'] = pred_X.symbol\n",
    "\n",
    "    # Load model    \n",
    "    fname = ml_path + model_name\n",
    "    model = load_model(fname)\n",
    "    print('Loaded', fname)\n",
    "\n",
    "    preds = model.predict(pred_X[sorted_cols].iloc[:, :-1])\n",
    "    preds_classes = model.predict_classes(pred_X[sorted_cols].iloc[:, :-1])    \n",
    "\n",
    "    pred_df['pred_class'] = preds_classes\n",
    "    pred_df['pred_label'] = list(map(lambda x: fwd_ret_labels[x], preds_classes))\n",
    "    probs = np.round(preds,3)\n",
    "    pred_prob = np.argmax(probs, axis=1)\n",
    "    pred_df['confidence'] = [x[np.argmax(x)] for x in probs] # higest prob\n",
    "    prob_df = pd.DataFrame(probs, index=pred_df.index, columns=fwd_ret_labels)\n",
    "    pred_df = pd.concat([pred_df, prob_df[fwd_ret_labels]], axis=1)\n",
    "    pred_df.index.name = 'pred_date'    \n",
    "    \n",
    "    # store in S3\n",
    "    s3_path = context['s3_path']\n",
    "    s3_df = pred_df.reset_index(drop=False)\n",
    "    rename_col(s3_df, 'index', 'pred_date')\n",
    "    csv_store(s3_df, s3_path, csv_ext.format(tgt_date))\n",
    "            \n",
    "    return pred_df"
   ]
  },
  {
   "cell_type": "markdown",
   "metadata": {
    "heading_collapsed": true
   },
   "source": [
    "#### Train"
   ]
  },
  {
   "cell_type": "code",
   "execution_count": 34,
   "metadata": {
    "hidden": true
   },
   "outputs": [
    {
     "name": "stdout",
     "output_type": "stream",
     "text": [
      "Training on 248 companies\n",
      "Sectors: 11, Industries: 83\n"
     ]
    },
    {
     "name": "stderr",
     "output_type": "stream",
     "text": [
      "32it [00:03,  9.69it/s]"
     ]
    },
    {
     "name": "stdout",
     "output_type": "stream",
     "text": [
      "REGN missing profile, skipping\n"
     ]
    },
    {
     "name": "stderr",
     "output_type": "stream",
     "text": [
      "51it [00:05,  9.91it/s]"
     ]
    },
    {
     "name": "stdout",
     "output_type": "stream",
     "text": [
      "ULTI missing profile, skipping\n"
     ]
    },
    {
     "name": "stderr",
     "output_type": "stream",
     "text": [
      "73it [00:08,  9.83it/s]"
     ]
    },
    {
     "name": "stdout",
     "output_type": "stream",
     "text": [
      "JBT missing profile, skipping\n"
     ]
    },
    {
     "name": "stderr",
     "output_type": "stream",
     "text": [
      "94it [00:10,  9.73it/s]"
     ]
    },
    {
     "name": "stdout",
     "output_type": "stream",
     "text": [
      "ABMD missing profile, skipping\n"
     ]
    },
    {
     "name": "stderr",
     "output_type": "stream",
     "text": [
      "131it [00:14,  9.93it/s]"
     ]
    },
    {
     "name": "stdout",
     "output_type": "stream",
     "text": [
      "ROP missing profile, skipping\n"
     ]
    },
    {
     "name": "stderr",
     "output_type": "stream",
     "text": [
      "161it [00:18,  9.82it/s]"
     ]
    },
    {
     "name": "stdout",
     "output_type": "stream",
     "text": [
      "9984.T missing profile, skipping\n"
     ]
    },
    {
     "name": "stderr",
     "output_type": "stream",
     "text": [
      "192it [00:21,  9.00it/s]"
     ]
    },
    {
     "name": "stdout",
     "output_type": "stream",
     "text": [
      "LRCX missing profile, skipping\n"
     ]
    },
    {
     "name": "stderr",
     "output_type": "stream",
     "text": [
      "233it [00:26,  9.93it/s]"
     ]
    },
    {
     "name": "stdout",
     "output_type": "stream",
     "text": [
      "ODFL missing profile, skipping\n"
     ]
    },
    {
     "name": "stderr",
     "output_type": "stream",
     "text": [
      "248it [00:28,  8.64it/s]\n",
      "/home/ubuntu/miniconda3/envs/inception/lib/python3.7/site-packages/pandas/core/indexing.py:1494: FutureWarning: \n",
      "Passing list-likes to .loc or [] with any missing label will raise\n",
      "KeyError in the future, you can use .reindex() as an alternative.\n",
      "\n",
      "See the documentation here:\n",
      "https://pandas.pydata.org/pandas-docs/stable/indexing.html#deprecate-loc-reindex-listlike\n",
      "  return self._getitem_tuple(key)\n"
     ]
    },
    {
     "name": "stdout",
     "output_type": "stream",
     "text": [
      "Y_df.shape (828438, 1)\n",
      "joined_df.shape (823329, 28)\n"
     ]
    },
    {
     "name": "stderr",
     "output_type": "stream",
     "text": [
      "/home/ubuntu/miniconda3/envs/inception/lib/python3.7/site-packages/pandas/core/indexing.py:969: FutureWarning: \n",
      "Passing list-likes to .loc or [] with any missing label will raise\n",
      "KeyError in the future, you can use .reindex() as an alternative.\n",
      "\n",
      "See the documentation here:\n",
      "https://pandas.pydata.org/pandas-docs/stable/indexing.html#deprecate-loc-reindex-listlike\n",
      "  return self._getitem_nested_tuple(tup)\n"
     ]
    },
    {
     "name": "stdout",
     "output_type": "stream",
     "text": [
      "joined_df.shape (790857, 29)\n",
      "neutral   0.44\n",
      "bull      0.21\n",
      "long      0.19\n",
      "bear      0.11\n",
      "short     0.06\n",
      "Name: fwdReturn, dtype: float64\n",
      "Training for 3606 dates, 14.3 years\n"
     ]
    }
   ],
   "source": [
    "max_iter = context['max_iter']\n",
    "l2_reg = context['l2_reg']\n",
    "units = context['units']\n",
    "trained_cols = context['trained_cols']\n",
    "\n",
    "X_train, X_test, y_train, y_test = get_train_test_sets(context)\n",
    "\n",
    "y_train_oh = pd.get_dummies(y_train)[fwd_ret_labels]\n",
    "y_test_oh = pd.get_dummies(y_test)[fwd_ret_labels]"
   ]
  },
  {
   "cell_type": "code",
   "execution_count": null,
   "metadata": {
    "code_folding": [],
    "hidden": true
   },
   "outputs": [
    {
     "name": "stdout",
     "output_type": "stream",
     "text": [
      "X_train.shape (751314, 28), columns: ['PctChg1Stds', 'PctMA50', 'PctMA200', 'RollVol30', 'PctChg20', 'PctChg60', 'PctChg120', 'Pct52WkH', 'Pct52WkL', 'rsBench20', 'rsSect20', 'rsBench60', 'rsSect60', 'rsBench120', 'rsSect120', 'benchPctChgStds', 'sectPctChgStds', '^BASI_MATE', '^COMM_SERV', '^CONS_CYCL', '^CONS_DEFE', '^ENER', '^FINA_SERV', '^HEAL', '^INDU', '^REAL_ESTA', '^TECH', '^UTIL']\n",
      "Saved:  ../ML/micro_TF_train_cols.npy\n",
      "Train on 751314 samples, validate on 39543 samples\n",
      "Epoch 1/50\n",
      "751314/751314 [==============================] - 159s 212us/step - loss: 1.3020 - acc: 0.4781 - val_loss: 1.2289 - val_acc: 0.5020\n",
      "\n",
      "Epoch 00001: val_loss improved from inf to 1.22894, saving model to ../ML/micro_TF.h5\n",
      "Epoch 2/50\n",
      "751314/751314 [==============================] - 158s 211us/step - loss: 1.2022 - acc: 0.5144 - val_loss: 1.1197 - val_acc: 0.5467\n",
      "\n",
      "Epoch 00002: val_loss improved from 1.22894 to 1.11969, saving model to ../ML/micro_TF.h5\n",
      "Epoch 3/50\n",
      "751314/751314 [==============================] - 158s 210us/step - loss: 1.0958 - acc: 0.5556 - val_loss: 1.0068 - val_acc: 0.5887\n",
      "\n",
      "Epoch 00003: val_loss improved from 1.11969 to 1.00684, saving model to ../ML/micro_TF.h5\n",
      "Epoch 4/50\n",
      "411712/751314 [===============>..............] - ETA: 1:10 - loss: 1.0107 - acc: 0.5915"
     ]
    }
   ],
   "source": [
    "# Keras Model\n",
    "model = Sequential()\n",
    "model.add(Dense(units, input_dim=X_train.shape[1], use_bias=False))\n",
    "model.add(BatchNormalization())\n",
    "model.add(Activation(\"relu\"))\n",
    "model.add(Dense(units, use_bias=False))\n",
    "model.add(BatchNormalization())\n",
    "model.add(Activation(\"relu\"))\n",
    "model.add(Dense(units, use_bias=False))\n",
    "model.add(BatchNormalization())\n",
    "model.add(Activation(\"relu\"))\n",
    "model.add(Dense(int(units/2), use_bias=False))\n",
    "model.add(BatchNormalization())\n",
    "model.add(Activation(\"relu\"))\n",
    "model.add(Dense(len(pd.unique(y_train)), activation='softmax'))\n",
    "keras.regularizers.l2(l2_reg)\n",
    "\n",
    "opt = Adam()\n",
    "\n",
    "ml_path, model_name = context['ml_path'], context['model_name']\n",
    "fname = ml_path + model_name\n",
    "\n",
    "es = EarlyStopping(monitor='loss', patience=10, restore_best_weights=True, verbose=1)\n",
    "checkpointer = ModelCheckpoint(filepath=fname, verbose=1, save_best_only=True)\n",
    "csv_logger = CSVLogger('micro-train.log')\n",
    "\n",
    "# save training columns\n",
    "np.save(ml_path + trained_cols, X_train.columns) # save feature order\n",
    "print(f'X_train.shape {X_train.shape}, columns: {list(X_train.columns)}')\n",
    "print('Saved: ', ml_path + trained_cols)    \n",
    "\n",
    "model.compile(loss='categorical_crossentropy', optimizer=opt, metrics=['accuracy'])\n",
    "history = model.fit(X_train, y_train_oh, validation_data=(X_test, y_test_oh), \n",
    "          epochs=max_iter, batch_size=64, callbacks=[es, checkpointer, csv_logger])\n",
    "\n",
    "score = model.evaluate(X_test, y_test_oh)\n",
    "print(f'Test loss: {score[0]}, Test accuracy: {score[1]}')"
   ]
  },
  {
   "cell_type": "code",
   "execution_count": null,
   "metadata": {
    "hidden": true
   },
   "outputs": [],
   "source": []
  },
  {
   "cell_type": "code",
   "execution_count": null,
   "metadata": {
    "hidden": true
   },
   "outputs": [],
   "source": []
  },
  {
   "cell_type": "code",
   "execution_count": null,
   "metadata": {
    "hidden": true,
    "scrolled": false
   },
   "outputs": [],
   "source": [
    "%time train_ds(context)"
   ]
  },
  {
   "cell_type": "markdown",
   "metadata": {},
   "source": [
    "#### Predict"
   ]
  },
  {
   "cell_type": "code",
   "execution_count": 101,
   "metadata": {
    "scrolled": true
   },
   "outputs": [
    {
     "name": "stdout",
     "output_type": "stream",
     "text": [
      "Sectors: 11, Industries: 83\n"
     ]
    },
    {
     "name": "stderr",
     "output_type": "stream",
     "text": [
      "3it [00:00, 10.52it/s]"
     ]
    },
    {
     "name": "stdout",
     "output_type": "stream",
     "text": [
      "ULTI missing profile, skipping\n"
     ]
    },
    {
     "name": "stderr",
     "output_type": "stream",
     "text": [
      "19it [00:01,  9.78it/s]"
     ]
    },
    {
     "name": "stdout",
     "output_type": "stream",
     "text": [
      "REGN missing profile, skipping\n"
     ]
    },
    {
     "name": "stderr",
     "output_type": "stream",
     "text": [
      "50it [00:05,  8.98it/s]/home/ubuntu/miniconda3/envs/inception/lib/python3.7/site-packages/pandas/core/indexing.py:1017: FutureWarning: \n",
      "Passing list-likes to .loc or [] with any missing label will raise\n",
      "KeyError in the future, you can use .reindex() as an alternative.\n",
      "\n",
      "See the documentation here:\n",
      "https://pandas.pydata.org/pandas-docs/stable/indexing.html#deprecate-loc-reindex-listlike\n",
      "  return getattr(section, self.name)[new_key]\n",
      "72it [00:08, 10.19it/s]"
     ]
    },
    {
     "name": "stdout",
     "output_type": "stream",
     "text": [
      "JBT missing profile, skipping\n"
     ]
    },
    {
     "name": "stderr",
     "output_type": "stream",
     "text": [
      "93it [00:10, 10.19it/s]"
     ]
    },
    {
     "name": "stdout",
     "output_type": "stream",
     "text": [
      "9984.T missing profile, skipping\n"
     ]
    },
    {
     "name": "stderr",
     "output_type": "stream",
     "text": [
      "106it [00:11, 10.34it/s]"
     ]
    },
    {
     "name": "stdout",
     "output_type": "stream",
     "text": [
      "ROP missing profile, skipping\n"
     ]
    },
    {
     "name": "stderr",
     "output_type": "stream",
     "text": [
      "184it [00:20, 10.36it/s]"
     ]
    },
    {
     "name": "stdout",
     "output_type": "stream",
     "text": [
      "LRCX missing profile, skipping\n",
      "ODFL missing profile, skipping\n"
     ]
    },
    {
     "name": "stderr",
     "output_type": "stream",
     "text": [
      "198it [00:22, 10.22it/s]"
     ]
    },
    {
     "name": "stdout",
     "output_type": "stream",
     "text": [
      "ABMD missing profile, skipping\n"
     ]
    },
    {
     "name": "stderr",
     "output_type": "stream",
     "text": [
      "248it [00:27,  8.87it/s]\n"
     ]
    },
    {
     "name": "stdout",
     "output_type": "stream",
     "text": [
      "pred_X.shape (294891, 29)\n",
      "pred_X.shape (294891, 29)\n",
      "Loaded ../ML/micro_TF.h5\n",
      "Saved recommend/micro_ML/2019-05-17.csv\n",
      "CPU times: user 1min 29s, sys: 8.32 s, total: 1min 37s\n",
      "Wall time: 1min 17s\n"
     ]
    }
   ],
   "source": [
    "# predict for all\n",
    "%time pred_df = predict_ds(context)"
   ]
  },
  {
   "cell_type": "markdown",
   "metadata": {
    "heading_collapsed": true
   },
   "source": [
    "#### Store / Read S3"
   ]
  },
  {
   "cell_type": "code",
   "execution_count": 15,
   "metadata": {
    "hidden": true
   },
   "outputs": [],
   "source": [
    "s3_path = context['s3_path']"
   ]
  },
  {
   "cell_type": "code",
   "execution_count": 16,
   "metadata": {
    "hidden": true
   },
   "outputs": [],
   "source": [
    "# read from S3\n",
    "pred_df = pd.read_csv(\n",
    "    csv_load(f'{s3_path}{tgt_date}'), \n",
    "    index_col='pred_date', parse_dates=True)"
   ]
  },
  {
   "cell_type": "markdown",
   "metadata": {},
   "source": [
    "#### Visualize"
   ]
  },
  {
   "cell_type": "code",
   "execution_count": 102,
   "metadata": {},
   "outputs": [
    {
     "name": "stdout",
     "output_type": "stream",
     "text": [
      "Prediction distribution\n"
     ]
    },
    {
     "data": {
      "text/plain": [
       "neutral   0.48\n",
       "long      0.21\n",
       "bull      0.17\n",
       "bear      0.07\n",
       "short     0.06\n",
       "Name: pred_label, dtype: float64"
      ]
     },
     "execution_count": 102,
     "metadata": {},
     "output_type": "execute_result"
    }
   ],
   "source": [
    "# recommendation distribution\n",
    "print('Prediction distribution')\n",
    "pd.value_counts(pred_df.pred_label) / pd.value_counts(pred_df.pred_label).sum()"
   ]
  },
  {
   "cell_type": "code",
   "execution_count": 129,
   "metadata": {
    "code_folding": [
     0
    ]
   },
   "outputs": [
    {
     "name": "stderr",
     "output_type": "stream",
     "text": [
      "/home/ubuntu/miniconda3/envs/inception/lib/python3.7/site-packages/ipykernel_launcher.py:12: FutureWarning: \n",
      "Passing list-likes to .loc or [] with any missing label will raise\n",
      "KeyError in the future, you can use .reindex() as an alternative.\n",
      "\n",
      "See the documentation here:\n",
      "https://pandas.pydata.org/pandas-docs/stable/indexing.html#deprecate-loc-reindex-listlike\n",
      "  if sys.path[0] == '':\n",
      "/home/ubuntu/miniconda3/envs/inception/lib/python3.7/site-packages/ipykernel_launcher.py:15: FutureWarning: \n",
      "Passing list-likes to .loc or [] with any missing label will raise\n",
      "KeyError in the future, you can use .reindex() as an alternative.\n",
      "\n",
      "See the documentation here:\n",
      "https://pandas.pydata.org/pandas-docs/stable/indexing.html#deprecate-loc-reindex-listlike\n",
      "  from ipykernel import kernelapp as app\n"
     ]
    },
    {
     "data": {
      "image/png": "[encoded data removed]",
      "text/plain": [
       "<Figure size 1080x144 with 2 Axes>"
      ]
     },
     "metadata": {
      "needs_background": "light"
     },
     "output_type": "display_data"
    },
    {
     "data": {
      "image/png": "[encoded data removed]",
      "text/plain": [
       "<Figure size 1080x360 with 2 Axes>"
      ]
     },
     "metadata": {
      "needs_background": "light"
     },
     "output_type": "display_data"
    },
    {
     "data": {
      "image/png": "[encoded data removed]",
      "text/plain": [
       "<Figure size 1080x144 with 1 Axes>"
      ]
     },
     "metadata": {
      "needs_background": "light"
     },
     "output_type": "display_data"
    }
   ],
   "source": [
    "def plot_symbol_hist_pred(pred_symbol, clean_co_px, context, pred_df):\n",
    "    \n",
    "    # pred_symbol = random.choice(joined_df.symbol.unique())\n",
    "    pred_symbol = pred_symbol if pred_symbol is not None else random.choice(joined_df.symbol.unique())\n",
    "    px_df = clean_co_px[pred_symbol]\n",
    "    px_df.name = 'close'\n",
    "    look_ahead = context['look_ahead']\n",
    "    pct_chg_df = px_fwd_ret(px_df, look_ahead, int(look_ahead/4))\n",
    "    pct_chg_df.name = 'pct_chg'\n",
    "\n",
    "    co_pred = pred_df.loc[pred_df.symbol.isin([pred_symbol]), ['pred_class'] + fwd_ret_labels]\n",
    "    hist_pred = pd.concat([px_df.loc[pred_df.index.unique()], co_pred['pred_class']], axis=1, sort=False)\n",
    "\n",
    "    # forward looking returns\n",
    "    pct_chg_df.loc[pred_df.index.unique()].dropna().plot(\n",
    "        title=f'{pred_symbol} {int(np.mean(context[\"look_ahead\"]))} day forward looking return', \n",
    "        figsize=(15, 2), grid=True, secondary_y='pct_chg')\n",
    "\n",
    "    # historical predictions\n",
    "    hist_pred.dropna().plot(\n",
    "        title=f'{pred_symbol} historical prediction', \n",
    "        figsize=(15, 5), secondary_y='pred_class')\n",
    "\n",
    "    # probability distribution\n",
    "    co_pred[fwd_ret_labels].plot.area(\n",
    "        title='Prediction probabilities', \n",
    "        figsize=(15, 2), ylim=(0, 1), cmap='RdYlGn', rot=0)\n",
    "    \n",
    "plot_symbol_hist_pred('NVDA', clean_co_px, context, pred_df)"
   ]
  },
  {
   "cell_type": "markdown",
   "metadata": {
    "heading_collapsed": true
   },
   "source": [
    "### Other experiments"
   ]
  },
  {
   "cell_type": "markdown",
   "metadata": {
    "heading_collapsed": true,
    "hidden": true
   },
   "source": [
    "#### Visualize forward looking returns"
   ]
  },
  {
   "cell_type": "code",
   "execution_count": 103,
   "metadata": {
    "hidden": true
   },
   "outputs": [
    {
     "data": {
      "text/plain": [
       "<matplotlib.axes._subplots.AxesSubplot at 0x14b57acf8>"
      ]
     },
     "execution_count": 103,
     "metadata": {},
     "output_type": "execute_result"
    },
    {
     "data": {
      "image/png": "[encoded data removed]",
      "text/plain": [
       "<Figure size 864x360 with 2 Axes>"
      ]
     },
     "metadata": {
      "needs_background": "light"
     },
     "output_type": "display_data"
    }
   ],
   "source": [
    "\"\"\"\n",
    "An approach to forward looking returns, \n",
    "is it one period, an average of multiple periods, more recent, less recent?\n",
    "\"\"\"\n",
    "look_ahead = 120; smooth = int(look_ahead/4); s = 'MCK'\n",
    "df = pd.DataFrame(px_fwd_ret(clean_co_px[s], look_ahead, smooth))\n",
    "df['neg_mean'] = df[s].loc[df[s]<0].mean()\n",
    "df['pos_mean'] = df[s].loc[df[s]>0].mean()\n",
    "df['price'] = clean_co_px[s]\n",
    "df.plot(figsize=(12,5), secondary_y='price')"
   ]
  },
  {
   "cell_type": "code",
   "execution_count": 12,
   "metadata": {
    "hidden": true
   },
   "outputs": [],
   "source": [
    "# try with full universe\n",
    "look_ahead = context['look_ahead']\n",
    "Y = clean_co_px.apply(px_fwd_ret, args=(look_ahead, int(look_ahead/4)))\n",
    "Y = Y[~(Y.isna().all(1))]"
   ]
  },
  {
   "cell_type": "code",
   "execution_count": null,
   "metadata": {
    "hidden": true
   },
   "outputs": [],
   "source": [
    "Y.describe().T.sort_values(by='max')"
   ]
  },
  {
   "cell_type": "code",
   "execution_count": 15,
   "metadata": {
    "hidden": true
   },
   "outputs": [
    {
     "data": {
      "text/plain": [
       "<matplotlib.axes._subplots.AxesSubplot at 0x14c9cab70>"
      ]
     },
     "execution_count": 15,
     "metadata": {},
     "output_type": "execute_result"
    },
    {
     "data": {
      "image/png": "[encoded data removed]",
      "text/plain": [
       "<Figure size 432x288 with 1 Axes>"
      ]
     },
     "metadata": {
      "needs_background": "light"
     },
     "output_type": "display_data"
    }
   ],
   "source": [
    "Y.iloc[:, :].dropna(axis=1).mean(axis=1).plot(ylim=(-1, 1), legend=False)"
   ]
  },
  {
   "cell_type": "markdown",
   "metadata": {
    "heading_collapsed": true,
    "hidden": true
   },
   "source": [
    "#### Train universe on long-term winners"
   ]
  },
  {
   "cell_type": "code",
   "execution_count": 282,
   "metadata": {
    "hidden": true
   },
   "outputs": [
    {
     "name": "stdout",
     "output_type": "stream",
     "text": [
      "236 companies\n"
     ]
    }
   ],
   "source": [
    "hist_return = best_performers(clean_co_px, tickers, years=10, quantile=0.75)\n",
    "print(f'{len(hist_return.index)} companies')\n",
    "desc_df = pd.concat([\n",
    "    profile.loc[hist_return.index, ['sector', 'industry', 'country',]],\n",
    "    quotes.loc[hist_return.index, ['shortName', 'marketCap']]], axis=1)\n",
    "desc_df.loc[:, 'marketCap'] = desc_df.marketCap / 10**9\n",
    "desc_df.loc[:, 'size'] = discret_rets(desc_df.marketCap, mkt_cap_cuts, mkt_cap_labels)\n",
    "\n",
    "hist_return = pd.concat([hist_return, desc_df], axis=1, sort=False)"
   ]
  },
  {
   "cell_type": "code",
   "execution_count": 283,
   "metadata": {
    "hidden": true
   },
   "outputs": [
    {
     "data": {
      "image/png": "[encoded data removed]",
      "text/plain": [
       "<Figure size 432x288 with 1 Axes>"
      ]
     },
     "metadata": {
      "needs_background": "light"
     },
     "output_type": "display_data"
    },
    {
     "data": {
      "text/plain": [
       "industry\n",
       "Software - Application            15\n",
       "Business Services                 10\n",
       "Semiconductors                     9\n",
       "Diversified Industrials            9\n",
       "Medical Instruments & Supplies     8\n",
       "Diagnostics & Research             8\n",
       "Internet Content & Information     7\n",
       "Health Care Plans                  7\n",
       "Biotechnology                      6\n",
       "Airlines                           6\n",
       "Name: sector, dtype: int64"
      ]
     },
     "execution_count": 283,
     "metadata": {},
     "output_type": "execute_result"
    }
   ],
   "source": [
    "by_sect = desc_df.groupby(by=['sector']).count().iloc[:,0].sort_values(ascending=False)\n",
    "by_sect.plot.barh(title='Distribution by sector');\n",
    "plt.show()\n",
    "\n",
    "by_ind = desc_df.groupby(by=['industry']).count().iloc[:,0].sort_values(ascending=False)\n",
    "by_ind.head(10)"
   ]
  },
  {
   "cell_type": "code",
   "execution_count": 284,
   "metadata": {
    "hidden": true
   },
   "outputs": [
    {
     "data": {
      "image/png": "[encoded data removed]",
      "text/plain": [
       "<Figure size 432x288 with 1 Axes>"
      ]
     },
     "metadata": {
      "needs_background": "light"
     },
     "output_type": "display_data"
    }
   ],
   "source": [
    "desc_df.groupby(by=['size']).count().iloc[:,0].sort_values(ascending=False).plot.barh(title='Distribution by size');"
   ]
  },
  {
   "cell_type": "code",
   "execution_count": 293,
   "metadata": {
    "hidden": true
   },
   "outputs": [
    {
     "data": {
      "text/html": [
       "<div>\n",
       "<style scoped>\n",
       "    .dataframe tbody tr th:only-of-type {\n",
       "        vertical-align: middle;\n",
       "    }\n",
       "\n",
       "    .dataframe tbody tr th {\n",
       "        vertical-align: top;\n",
       "    }\n",
       "\n",
       "    .dataframe thead tr th {\n",
       "        text-align: left;\n",
       "    }\n",
       "\n",
       "    .dataframe thead tr:last-of-type th {\n",
       "        text-align: right;\n",
       "    }\n",
       "</style>\n",
       "<table border=\"1\" class=\"dataframe\">\n",
       "  <thead>\n",
       "    <tr>\n",
       "      <th></th>\n",
       "      <th colspan=\"2\" halign=\"left\">totalReturn</th>\n",
       "      <th colspan=\"2\" halign=\"left\">marketCap</th>\n",
       "    </tr>\n",
       "    <tr>\n",
       "      <th></th>\n",
       "      <th>count</th>\n",
       "      <th>mean</th>\n",
       "      <th>count</th>\n",
       "      <th>mean</th>\n",
       "    </tr>\n",
       "    <tr>\n",
       "      <th>sector</th>\n",
       "      <th></th>\n",
       "      <th></th>\n",
       "      <th></th>\n",
       "      <th></th>\n",
       "    </tr>\n",
       "  </thead>\n",
       "  <tbody>\n",
       "    <tr>\n",
       "      <th>Technology</th>\n",
       "      <td>56</td>\n",
       "      <td>16.06</td>\n",
       "      <td>56</td>\n",
       "      <td>145.70</td>\n",
       "    </tr>\n",
       "    <tr>\n",
       "      <th>Consumer Cyclical</th>\n",
       "      <td>50</td>\n",
       "      <td>10.81</td>\n",
       "      <td>50</td>\n",
       "      <td>50.10</td>\n",
       "    </tr>\n",
       "    <tr>\n",
       "      <th>Communication Services</th>\n",
       "      <td>5</td>\n",
       "      <td>10.44</td>\n",
       "      <td>5</td>\n",
       "      <td>63.25</td>\n",
       "    </tr>\n",
       "    <tr>\n",
       "      <th>Healthcare</th>\n",
       "      <td>34</td>\n",
       "      <td>9.22</td>\n",
       "      <td>34</td>\n",
       "      <td>29.54</td>\n",
       "    </tr>\n",
       "    <tr>\n",
       "      <th>Industrials</th>\n",
       "      <td>44</td>\n",
       "      <td>8.51</td>\n",
       "      <td>44</td>\n",
       "      <td>25.06</td>\n",
       "    </tr>\n",
       "    <tr>\n",
       "      <th>Basic Materials</th>\n",
       "      <td>10</td>\n",
       "      <td>8.44</td>\n",
       "      <td>10</td>\n",
       "      <td>6.81</td>\n",
       "    </tr>\n",
       "    <tr>\n",
       "      <th>Consumer Defensive</th>\n",
       "      <td>9</td>\n",
       "      <td>8.22</td>\n",
       "      <td>9</td>\n",
       "      <td>25.25</td>\n",
       "    </tr>\n",
       "    <tr>\n",
       "      <th>Financial Services</th>\n",
       "      <td>19</td>\n",
       "      <td>7.75</td>\n",
       "      <td>19</td>\n",
       "      <td>49.33</td>\n",
       "    </tr>\n",
       "    <tr>\n",
       "      <th>Real Estate</th>\n",
       "      <td>6</td>\n",
       "      <td>7.53</td>\n",
       "      <td>6</td>\n",
       "      <td>22.73</td>\n",
       "    </tr>\n",
       "    <tr>\n",
       "      <th>Utilities</th>\n",
       "      <td>2</td>\n",
       "      <td>5.47</td>\n",
       "      <td>2</td>\n",
       "      <td>15.39</td>\n",
       "    </tr>\n",
       "    <tr>\n",
       "      <th>Energy</th>\n",
       "      <td>1</td>\n",
       "      <td>5.14</td>\n",
       "      <td>1</td>\n",
       "      <td>25.98</td>\n",
       "    </tr>\n",
       "  </tbody>\n",
       "</table>\n",
       "</div>"
      ],
      "text/plain": [
       "                       totalReturn       marketCap       \n",
       "                             count  mean     count   mean\n",
       "sector                                                   \n",
       "Technology                      56 16.06        56 145.70\n",
       "Consumer Cyclical               50 10.81        50  50.10\n",
       "Communication Services           5 10.44         5  63.25\n",
       "Healthcare                      34  9.22        34  29.54\n",
       "Industrials                     44  8.51        44  25.06\n",
       "Basic Materials                 10  8.44        10   6.81\n",
       "Consumer Defensive               9  8.22         9  25.25\n",
       "Financial Services              19  7.75        19  49.33\n",
       "Real Estate                      6  7.53         6  22.73\n",
       "Utilities                        2  5.47         2  15.39\n",
       "Energy                           1  5.14         1  25.98"
      ]
     },
     "execution_count": 293,
     "metadata": {},
     "output_type": "execute_result"
    }
   ],
   "source": [
    "group_winners = hist_return.groupby(by=['sector']).agg(['count', 'mean'])\n",
    "group_winners[['totalReturn', 'marketCap']]\\\n",
    "    .sort_values(by=('totalReturn','mean'), ascending=False)\\\n",
    "    .dropna()"
   ]
  },
  {
   "cell_type": "code",
   "execution_count": 316,
   "metadata": {
    "hidden": true
   },
   "outputs": [
    {
     "data": {
      "text/html": [
       "<div>\n",
       "<style scoped>\n",
       "    .dataframe tbody tr th:only-of-type {\n",
       "        vertical-align: middle;\n",
       "    }\n",
       "\n",
       "    .dataframe tbody tr th {\n",
       "        vertical-align: top;\n",
       "    }\n",
       "\n",
       "    .dataframe thead tr th {\n",
       "        text-align: left;\n",
       "    }\n",
       "\n",
       "    .dataframe thead tr:last-of-type th {\n",
       "        text-align: right;\n",
       "    }\n",
       "</style>\n",
       "<table border=\"1\" class=\"dataframe\">\n",
       "  <thead>\n",
       "    <tr>\n",
       "      <th></th>\n",
       "      <th></th>\n",
       "      <th></th>\n",
       "      <th colspan=\"2\" halign=\"left\">totalReturn</th>\n",
       "      <th colspan=\"2\" halign=\"left\">marketCap</th>\n",
       "    </tr>\n",
       "    <tr>\n",
       "      <th></th>\n",
       "      <th></th>\n",
       "      <th></th>\n",
       "      <th>count</th>\n",
       "      <th>mean</th>\n",
       "      <th>count</th>\n",
       "      <th>mean</th>\n",
       "    </tr>\n",
       "    <tr>\n",
       "      <th>sector</th>\n",
       "      <th>industry</th>\n",
       "      <th>shortName</th>\n",
       "      <th></th>\n",
       "      <th></th>\n",
       "      <th></th>\n",
       "      <th></th>\n",
       "    </tr>\n",
       "  </thead>\n",
       "  <tbody>\n",
       "    <tr>\n",
       "      <th>Technology</th>\n",
       "      <th>Software - Infrastructure</th>\n",
       "      <th>CyberArk Software Ltd.</th>\n",
       "      <td>1</td>\n",
       "      <td>428.37</td>\n",
       "      <td>1</td>\n",
       "      <td>4.79</td>\n",
       "    </tr>\n",
       "    <tr>\n",
       "      <th rowspan=\"3\" valign=\"top\">Consumer Cyclical</th>\n",
       "      <th>Media - Diversified</th>\n",
       "      <th>Netflix, Inc.</th>\n",
       "      <td>1</td>\n",
       "      <td>64.90</td>\n",
       "      <td>1</td>\n",
       "      <td>154.97</td>\n",
       "    </tr>\n",
       "    <tr>\n",
       "      <th>Specialty Retail</th>\n",
       "      <th>Ulta Beauty, Inc.</th>\n",
       "      <td>1</td>\n",
       "      <td>39.96</td>\n",
       "      <td>1</td>\n",
       "      <td>20.12</td>\n",
       "    </tr>\n",
       "    <tr>\n",
       "      <th>Restaurants</th>\n",
       "      <th>Domino's Pizza Inc</th>\n",
       "      <td>1</td>\n",
       "      <td>33.55</td>\n",
       "      <td>1</td>\n",
       "      <td>11.56</td>\n",
       "    </tr>\n",
       "    <tr>\n",
       "      <th>Healthcare</th>\n",
       "      <th>Diagnostics &amp; Research</th>\n",
       "      <th>DexCom, Inc.</th>\n",
       "      <td>1</td>\n",
       "      <td>30.73</td>\n",
       "      <td>1</td>\n",
       "      <td>10.75</td>\n",
       "    </tr>\n",
       "    <tr>\n",
       "      <th>Consumer Cyclical</th>\n",
       "      <th>Apparel Stores</th>\n",
       "      <th>lululemon athletica inc.</th>\n",
       "      <td>1</td>\n",
       "      <td>28.37</td>\n",
       "      <td>1</td>\n",
       "      <td>22.54</td>\n",
       "    </tr>\n",
       "    <tr>\n",
       "      <th>Healthcare</th>\n",
       "      <th>Medical Devices</th>\n",
       "      <th>Align Technology, Inc.</th>\n",
       "      <td>1</td>\n",
       "      <td>27.80</td>\n",
       "      <td>1</td>\n",
       "      <td>25.81</td>\n",
       "    </tr>\n",
       "    <tr>\n",
       "      <th>Financial Services</th>\n",
       "      <th>Capital Markets</th>\n",
       "      <th>MarketAxess Holdings, Inc.</th>\n",
       "      <td>1</td>\n",
       "      <td>26.88</td>\n",
       "      <td>1</td>\n",
       "      <td>11.01</td>\n",
       "    </tr>\n",
       "    <tr>\n",
       "      <th>Healthcare</th>\n",
       "      <th>Biotechnology</th>\n",
       "      <th>Incyte Corporation</th>\n",
       "      <td>1</td>\n",
       "      <td>26.77</td>\n",
       "      <td>1</td>\n",
       "      <td>16.55</td>\n",
       "    </tr>\n",
       "    <tr>\n",
       "      <th>Communication Services</th>\n",
       "      <th>Telecom Services</th>\n",
       "      <th>Vonage Holdings Corp.</th>\n",
       "      <td>1</td>\n",
       "      <td>24.60</td>\n",
       "      <td>1</td>\n",
       "      <td>2.79</td>\n",
       "    </tr>\n",
       "    <tr>\n",
       "      <th>Industrials</th>\n",
       "      <th>Rental &amp; Leasing Services</th>\n",
       "      <th>United Rentals, Inc.</th>\n",
       "      <td>1</td>\n",
       "      <td>24.22</td>\n",
       "      <td>1</td>\n",
       "      <td>9.93</td>\n",
       "    </tr>\n",
       "    <tr>\n",
       "      <th>Consumer Cyclical</th>\n",
       "      <th>Specialty Retail</th>\n",
       "      <th>Amazon.com, Inc.</th>\n",
       "      <td>1</td>\n",
       "      <td>24.19</td>\n",
       "      <td>1</td>\n",
       "      <td>920.17</td>\n",
       "    </tr>\n",
       "    <tr>\n",
       "      <th>Technology</th>\n",
       "      <th>Internet Content &amp; Information</th>\n",
       "      <th>TENCENT</th>\n",
       "      <td>1</td>\n",
       "      <td>23.44</td>\n",
       "      <td>1</td>\n",
       "      <td>3,364.90</td>\n",
       "    </tr>\n",
       "    <tr>\n",
       "      <th>Consumer Cyclical</th>\n",
       "      <th>Specialty Retail</th>\n",
       "      <th>MercadoLibre, Inc.</th>\n",
       "      <td>1</td>\n",
       "      <td>23.39</td>\n",
       "      <td>1</td>\n",
       "      <td>28.34</td>\n",
       "    </tr>\n",
       "    <tr>\n",
       "      <th>Basic Materials</th>\n",
       "      <th>Building Materials</th>\n",
       "      <th>Trex Company, Inc.</th>\n",
       "      <td>1</td>\n",
       "      <td>20.38</td>\n",
       "      <td>1</td>\n",
       "      <td>3.44</td>\n",
       "    </tr>\n",
       "    <tr>\n",
       "      <th rowspan=\"3\" valign=\"top\">Technology</th>\n",
       "      <th>Semiconductor Equipment &amp; Materials</th>\n",
       "      <th>Universal Display Corporation</th>\n",
       "      <td>1</td>\n",
       "      <td>18.00</td>\n",
       "      <td>1</td>\n",
       "      <td>7.65</td>\n",
       "    </tr>\n",
       "    <tr>\n",
       "      <th>Semiconductors</th>\n",
       "      <th>NVIDIA Corporation</th>\n",
       "      <td>1</td>\n",
       "      <td>17.63</td>\n",
       "      <td>1</td>\n",
       "      <td>95.25</td>\n",
       "    </tr>\n",
       "    <tr>\n",
       "      <th>Software - Infrastructure</th>\n",
       "      <th>Fair Isaac Corproation</th>\n",
       "      <td>1</td>\n",
       "      <td>17.40</td>\n",
       "      <td>1</td>\n",
       "      <td>8.46</td>\n",
       "    </tr>\n",
       "    <tr>\n",
       "      <th>Consumer Cyclical</th>\n",
       "      <th>Leisure</th>\n",
       "      <th>Booking Holdings Inc. Common St</th>\n",
       "      <td>1</td>\n",
       "      <td>16.69</td>\n",
       "      <td>1</td>\n",
       "      <td>77.37</td>\n",
       "    </tr>\n",
       "    <tr>\n",
       "      <th>Consumer Defensive</th>\n",
       "      <th>Beverages - Wineries &amp; Distilleries</th>\n",
       "      <th>Constellation Brands, Inc.</th>\n",
       "      <td>1</td>\n",
       "      <td>16.59</td>\n",
       "      <td>1</td>\n",
       "      <td>38.92</td>\n",
       "    </tr>\n",
       "  </tbody>\n",
       "</table>\n",
       "</div>"
      ],
      "text/plain": [
       "                                                                                           totalReturn  \\\n",
       "                                                                                                 count   \n",
       "sector                 industry                            shortName                                     \n",
       "Technology             Software - Infrastructure           CyberArk Software Ltd.                    1   \n",
       "Consumer Cyclical      Media - Diversified                 Netflix, Inc.                             1   \n",
       "                       Specialty Retail                    Ulta Beauty, Inc.                         1   \n",
       "                       Restaurants                         Domino's Pizza Inc                        1   \n",
       "Healthcare             Diagnostics & Research              DexCom, Inc.                              1   \n",
       "Consumer Cyclical      Apparel Stores                      lululemon athletica inc.                  1   \n",
       "Healthcare             Medical Devices                     Align Technology, Inc.                    1   \n",
       "Financial Services     Capital Markets                     MarketAxess Holdings, Inc.                1   \n",
       "Healthcare             Biotechnology                       Incyte Corporation                        1   \n",
       "Communication Services Telecom Services                    Vonage Holdings Corp.                     1   \n",
       "Industrials            Rental & Leasing Services           United Rentals, Inc.                      1   \n",
       "Consumer Cyclical      Specialty Retail                    Amazon.com, Inc.                          1   \n",
       "Technology             Internet Content & Information      TENCENT                                   1   \n",
       "Consumer Cyclical      Specialty Retail                    MercadoLibre, Inc.                        1   \n",
       "Basic Materials        Building Materials                  Trex Company, Inc.                        1   \n",
       "Technology             Semiconductor Equipment & Materials Universal Display Corporation             1   \n",
       "                       Semiconductors                      NVIDIA Corporation                        1   \n",
       "                       Software - Infrastructure           Fair Isaac Corproation                    1   \n",
       "Consumer Cyclical      Leisure                             Booking Holdings Inc. Common St           1   \n",
       "Consumer Defensive     Beverages - Wineries & Distilleries Constellation Brands, Inc.                1   \n",
       "\n",
       "                                                                                                   \\\n",
       "                                                                                             mean   \n",
       "sector                 industry                            shortName                                \n",
       "Technology             Software - Infrastructure           CyberArk Software Ltd.          428.37   \n",
       "Consumer Cyclical      Media - Diversified                 Netflix, Inc.                    64.90   \n",
       "                       Specialty Retail                    Ulta Beauty, Inc.                39.96   \n",
       "                       Restaurants                         Domino's Pizza Inc               33.55   \n",
       "Healthcare             Diagnostics & Research              DexCom, Inc.                     30.73   \n",
       "Consumer Cyclical      Apparel Stores                      lululemon athletica inc.         28.37   \n",
       "Healthcare             Medical Devices                     Align Technology, Inc.           27.80   \n",
       "Financial Services     Capital Markets                     MarketAxess Holdings, Inc.       26.88   \n",
       "Healthcare             Biotechnology                       Incyte Corporation               26.77   \n",
       "Communication Services Telecom Services                    Vonage Holdings Corp.            24.60   \n",
       "Industrials            Rental & Leasing Services           United Rentals, Inc.             24.22   \n",
       "Consumer Cyclical      Specialty Retail                    Amazon.com, Inc.                 24.19   \n",
       "Technology             Internet Content & Information      TENCENT                          23.44   \n",
       "Consumer Cyclical      Specialty Retail                    MercadoLibre, Inc.               23.39   \n",
       "Basic Materials        Building Materials                  Trex Company, Inc.               20.38   \n",
       "Technology             Semiconductor Equipment & Materials Universal Display Corporation    18.00   \n",
       "                       Semiconductors                      NVIDIA Corporation               17.63   \n",
       "                       Software - Infrastructure           Fair Isaac Corproation           17.40   \n",
       "Consumer Cyclical      Leisure                             Booking Holdings Inc. Common St  16.69   \n",
       "Consumer Defensive     Beverages - Wineries & Distilleries Constellation Brands, Inc.       16.59   \n",
       "\n",
       "                                                                                           marketCap  \\\n",
       "                                                                                               count   \n",
       "sector                 industry                            shortName                                   \n",
       "Technology             Software - Infrastructure           CyberArk Software Ltd.                  1   \n",
       "Consumer Cyclical      Media - Diversified                 Netflix, Inc.                           1   \n",
       "                       Specialty Retail                    Ulta Beauty, Inc.                       1   \n",
       "                       Restaurants                         Domino's Pizza Inc                      1   \n",
       "Healthcare             Diagnostics & Research              DexCom, Inc.                            1   \n",
       "Consumer Cyclical      Apparel Stores                      lululemon athletica inc.                1   \n",
       "Healthcare             Medical Devices                     Align Technology, Inc.                  1   \n",
       "Financial Services     Capital Markets                     MarketAxess Holdings, Inc.              1   \n",
       "Healthcare             Biotechnology                       Incyte Corporation                      1   \n",
       "Communication Services Telecom Services                    Vonage Holdings Corp.                   1   \n",
       "Industrials            Rental & Leasing Services           United Rentals, Inc.                    1   \n",
       "Consumer Cyclical      Specialty Retail                    Amazon.com, Inc.                        1   \n",
       "Technology             Internet Content & Information      TENCENT                                 1   \n",
       "Consumer Cyclical      Specialty Retail                    MercadoLibre, Inc.                      1   \n",
       "Basic Materials        Building Materials                  Trex Company, Inc.                      1   \n",
       "Technology             Semiconductor Equipment & Materials Universal Display Corporation           1   \n",
       "                       Semiconductors                      NVIDIA Corporation                      1   \n",
       "                       Software - Infrastructure           Fair Isaac Corproation                  1   \n",
       "Consumer Cyclical      Leisure                             Booking Holdings Inc. Common St         1   \n",
       "Consumer Defensive     Beverages - Wineries & Distilleries Constellation Brands, Inc.              1   \n",
       "\n",
       "                                                                                                     \n",
       "                                                                                               mean  \n",
       "sector                 industry                            shortName                                 \n",
       "Technology             Software - Infrastructure           CyberArk Software Ltd.              4.79  \n",
       "Consumer Cyclical      Media - Diversified                 Netflix, Inc.                     154.97  \n",
       "                       Specialty Retail                    Ulta Beauty, Inc.                  20.12  \n",
       "                       Restaurants                         Domino's Pizza Inc                 11.56  \n",
       "Healthcare             Diagnostics & Research              DexCom, Inc.                       10.75  \n",
       "Consumer Cyclical      Apparel Stores                      lululemon athletica inc.           22.54  \n",
       "Healthcare             Medical Devices                     Align Technology, Inc.             25.81  \n",
       "Financial Services     Capital Markets                     MarketAxess Holdings, Inc.         11.01  \n",
       "Healthcare             Biotechnology                       Incyte Corporation                 16.55  \n",
       "Communication Services Telecom Services                    Vonage Holdings Corp.               2.79  \n",
       "Industrials            Rental & Leasing Services           United Rentals, Inc.                9.93  \n",
       "Consumer Cyclical      Specialty Retail                    Amazon.com, Inc.                  920.17  \n",
       "Technology             Internet Content & Information      TENCENT                         3,364.90  \n",
       "Consumer Cyclical      Specialty Retail                    MercadoLibre, Inc.                 28.34  \n",
       "Basic Materials        Building Materials                  Trex Company, Inc.                  3.44  \n",
       "Technology             Semiconductor Equipment & Materials Universal Display Corporation       7.65  \n",
       "                       Semiconductors                      NVIDIA Corporation                 95.25  \n",
       "                       Software - Infrastructure           Fair Isaac Corproation              8.46  \n",
       "Consumer Cyclical      Leisure                             Booking Holdings Inc. Common St    77.37  \n",
       "Consumer Defensive     Beverages - Wineries & Distilleries Constellation Brands, Inc.         38.92  "
      ]
     },
     "execution_count": 316,
     "metadata": {},
     "output_type": "execute_result"
    }
   ],
   "source": [
    "group_winners = hist_return.groupby(by=['sector', 'industry', 'shortName']).agg(['count', 'mean'])\n",
    "group_winners[['totalReturn', 'marketCap']]\\\n",
    "    .sort_values(by=('totalReturn','mean'), ascending=False)\\\n",
    "    .dropna().head(20)"
   ]
  },
  {
   "cell_type": "code",
   "execution_count": 324,
   "metadata": {
    "hidden": true
   },
   "outputs": [
    {
     "data": {
      "text/html": [
       "<div>\n",
       "<style scoped>\n",
       "    .dataframe tbody tr th:only-of-type {\n",
       "        vertical-align: middle;\n",
       "    }\n",
       "\n",
       "    .dataframe tbody tr th {\n",
       "        vertical-align: top;\n",
       "    }\n",
       "\n",
       "    .dataframe thead tr th {\n",
       "        text-align: left;\n",
       "    }\n",
       "\n",
       "    .dataframe thead tr:last-of-type th {\n",
       "        text-align: right;\n",
       "    }\n",
       "</style>\n",
       "<table border=\"1\" class=\"dataframe\">\n",
       "  <thead>\n",
       "    <tr>\n",
       "      <th></th>\n",
       "      <th></th>\n",
       "      <th colspan=\"2\" halign=\"left\">totalReturn</th>\n",
       "      <th colspan=\"2\" halign=\"left\">marketCap</th>\n",
       "    </tr>\n",
       "    <tr>\n",
       "      <th></th>\n",
       "      <th></th>\n",
       "      <th>count</th>\n",
       "      <th>mean</th>\n",
       "      <th>count</th>\n",
       "      <th>mean</th>\n",
       "    </tr>\n",
       "    <tr>\n",
       "      <th>sector</th>\n",
       "      <th>industry</th>\n",
       "      <th></th>\n",
       "      <th></th>\n",
       "      <th></th>\n",
       "      <th></th>\n",
       "    </tr>\n",
       "  </thead>\n",
       "  <tbody>\n",
       "    <tr>\n",
       "      <th>Technology</th>\n",
       "      <th>Software - Infrastructure</th>\n",
       "      <td>3</td>\n",
       "      <td>150.42</td>\n",
       "      <td>3</td>\n",
       "      <td>331.54</td>\n",
       "    </tr>\n",
       "    <tr>\n",
       "      <th>Healthcare</th>\n",
       "      <th>Medical Devices</th>\n",
       "      <td>1</td>\n",
       "      <td>27.80</td>\n",
       "      <td>1</td>\n",
       "      <td>25.81</td>\n",
       "    </tr>\n",
       "    <tr>\n",
       "      <th rowspan=\"2\" valign=\"top\">Consumer Cyclical</th>\n",
       "      <th>Media - Diversified</th>\n",
       "      <td>5</td>\n",
       "      <td>18.97</td>\n",
       "      <td>5</td>\n",
       "      <td>87.17</td>\n",
       "    </tr>\n",
       "    <tr>\n",
       "      <th>Specialty Retail</th>\n",
       "      <td>6</td>\n",
       "      <td>18.77</td>\n",
       "      <td>6</td>\n",
       "      <td>172.15</td>\n",
       "    </tr>\n",
       "    <tr>\n",
       "      <th>Industrials</th>\n",
       "      <th>Rental &amp; Leasing Services</th>\n",
       "      <td>2</td>\n",
       "      <td>16.96</td>\n",
       "      <td>2</td>\n",
       "      <td>6.16</td>\n",
       "    </tr>\n",
       "    <tr>\n",
       "      <th>Consumer Defensive</th>\n",
       "      <th>Beverages - Wineries &amp; Distilleries</th>\n",
       "      <td>1</td>\n",
       "      <td>16.59</td>\n",
       "      <td>1</td>\n",
       "      <td>38.92</td>\n",
       "    </tr>\n",
       "    <tr>\n",
       "      <th>Consumer Cyclical</th>\n",
       "      <th>Apparel Stores</th>\n",
       "      <td>3</td>\n",
       "      <td>15.02</td>\n",
       "      <td>3</td>\n",
       "      <td>40.89</td>\n",
       "    </tr>\n",
       "    <tr>\n",
       "      <th>Healthcare</th>\n",
       "      <th>Long-Term Care Facilities</th>\n",
       "      <td>1</td>\n",
       "      <td>14.67</td>\n",
       "      <td>1</td>\n",
       "      <td>3.00</td>\n",
       "    </tr>\n",
       "    <tr>\n",
       "      <th>Industrials</th>\n",
       "      <th>Staffing &amp; Outsourcing Services</th>\n",
       "      <td>3</td>\n",
       "      <td>13.25</td>\n",
       "      <td>3</td>\n",
       "      <td>4.03</td>\n",
       "    </tr>\n",
       "    <tr>\n",
       "      <th>Consumer Cyclical</th>\n",
       "      <th>Restaurants</th>\n",
       "      <td>5</td>\n",
       "      <td>12.64</td>\n",
       "      <td>5</td>\n",
       "      <td>26.98</td>\n",
       "    </tr>\n",
       "    <tr>\n",
       "      <th>Technology</th>\n",
       "      <th>Electronic Gaming &amp; Multimedia</th>\n",
       "      <td>1</td>\n",
       "      <td>12.07</td>\n",
       "      <td>1</td>\n",
       "      <td>11.28</td>\n",
       "    </tr>\n",
       "    <tr>\n",
       "      <th>Financial Services</th>\n",
       "      <th>Capital Markets</th>\n",
       "      <td>4</td>\n",
       "      <td>11.98</td>\n",
       "      <td>4</td>\n",
       "      <td>29.43</td>\n",
       "    </tr>\n",
       "    <tr>\n",
       "      <th>Consumer Cyclical</th>\n",
       "      <th>Auto Parts</th>\n",
       "      <td>2</td>\n",
       "      <td>11.92</td>\n",
       "      <td>2</td>\n",
       "      <td>2.51</td>\n",
       "    </tr>\n",
       "    <tr>\n",
       "      <th>Communication Services</th>\n",
       "      <th>Telecom Services</th>\n",
       "      <td>4</td>\n",
       "      <td>11.84</td>\n",
       "      <td>4</td>\n",
       "      <td>29.66</td>\n",
       "    </tr>\n",
       "    <tr>\n",
       "      <th>Consumer Defensive</th>\n",
       "      <th>Beverages - Brewers</th>\n",
       "      <td>1</td>\n",
       "      <td>11.50</td>\n",
       "      <td>1</td>\n",
       "      <td>3.94</td>\n",
       "    </tr>\n",
       "    <tr>\n",
       "      <th>Technology</th>\n",
       "      <th>Semiconductor Equipment &amp; Materials</th>\n",
       "      <td>4</td>\n",
       "      <td>11.44</td>\n",
       "      <td>4</td>\n",
       "      <td>6.32</td>\n",
       "    </tr>\n",
       "    <tr>\n",
       "      <th>Real Estate</th>\n",
       "      <th>REIT - Industrial</th>\n",
       "      <td>2</td>\n",
       "      <td>11.25</td>\n",
       "      <td>2</td>\n",
       "      <td>9.34</td>\n",
       "    </tr>\n",
       "    <tr>\n",
       "      <th>Industrials</th>\n",
       "      <th>Aerospace &amp; Defense</th>\n",
       "      <td>5</td>\n",
       "      <td>11.12</td>\n",
       "      <td>5</td>\n",
       "      <td>56.60</td>\n",
       "    </tr>\n",
       "    <tr>\n",
       "      <th>Consumer Cyclical</th>\n",
       "      <th>Leisure</th>\n",
       "      <td>4</td>\n",
       "      <td>10.81</td>\n",
       "      <td>4</td>\n",
       "      <td>28.75</td>\n",
       "    </tr>\n",
       "    <tr>\n",
       "      <th>Basic Materials</th>\n",
       "      <th>Building Materials</th>\n",
       "      <td>3</td>\n",
       "      <td>10.72</td>\n",
       "      <td>3</td>\n",
       "      <td>2.93</td>\n",
       "    </tr>\n",
       "  </tbody>\n",
       "</table>\n",
       "</div>"
      ],
      "text/plain": [
       "                                                           totalReturn         \\\n",
       "                                                                 count   mean   \n",
       "sector                 industry                                                 \n",
       "Technology             Software - Infrastructure                     3 150.42   \n",
       "Healthcare             Medical Devices                               1  27.80   \n",
       "Consumer Cyclical      Media - Diversified                           5  18.97   \n",
       "                       Specialty Retail                              6  18.77   \n",
       "Industrials            Rental & Leasing Services                     2  16.96   \n",
       "Consumer Defensive     Beverages - Wineries & Distilleries           1  16.59   \n",
       "Consumer Cyclical      Apparel Stores                                3  15.02   \n",
       "Healthcare             Long-Term Care Facilities                     1  14.67   \n",
       "Industrials            Staffing & Outsourcing Services               3  13.25   \n",
       "Consumer Cyclical      Restaurants                                   5  12.64   \n",
       "Technology             Electronic Gaming & Multimedia                1  12.07   \n",
       "Financial Services     Capital Markets                               4  11.98   \n",
       "Consumer Cyclical      Auto Parts                                    2  11.92   \n",
       "Communication Services Telecom Services                              4  11.84   \n",
       "Consumer Defensive     Beverages - Brewers                           1  11.50   \n",
       "Technology             Semiconductor Equipment & Materials           4  11.44   \n",
       "Real Estate            REIT - Industrial                             2  11.25   \n",
       "Industrials            Aerospace & Defense                           5  11.12   \n",
       "Consumer Cyclical      Leisure                                       4  10.81   \n",
       "Basic Materials        Building Materials                            3  10.72   \n",
       "\n",
       "                                                           marketCap         \n",
       "                                                               count   mean  \n",
       "sector                 industry                                              \n",
       "Technology             Software - Infrastructure                   3 331.54  \n",
       "Healthcare             Medical Devices                             1  25.81  \n",
       "Consumer Cyclical      Media - Diversified                         5  87.17  \n",
       "                       Specialty Retail                            6 172.15  \n",
       "Industrials            Rental & Leasing Services                   2   6.16  \n",
       "Consumer Defensive     Beverages - Wineries & Distilleries         1  38.92  \n",
       "Consumer Cyclical      Apparel Stores                              3  40.89  \n",
       "Healthcare             Long-Term Care Facilities                   1   3.00  \n",
       "Industrials            Staffing & Outsourcing Services             3   4.03  \n",
       "Consumer Cyclical      Restaurants                                 5  26.98  \n",
       "Technology             Electronic Gaming & Multimedia              1  11.28  \n",
       "Financial Services     Capital Markets                             4  29.43  \n",
       "Consumer Cyclical      Auto Parts                                  2   2.51  \n",
       "Communication Services Telecom Services                            4  29.66  \n",
       "Consumer Defensive     Beverages - Brewers                         1   3.94  \n",
       "Technology             Semiconductor Equipment & Materials         4   6.32  \n",
       "Real Estate            REIT - Industrial                           2   9.34  \n",
       "Industrials            Aerospace & Defense                         5  56.60  \n",
       "Consumer Cyclical      Leisure                                     4  28.75  \n",
       "Basic Materials        Building Materials                          3   2.93  "
      ]
     },
     "execution_count": 324,
     "metadata": {},
     "output_type": "execute_result"
    }
   ],
   "source": [
    "group_winners = hist_return.groupby(by=['sector', 'industry']).agg(['count', 'mean'])\n",
    "group_winners[['totalReturn', 'marketCap']]\\\n",
    "    .sort_values(by=('totalReturn','mean'), ascending=False)\\\n",
    "    .dropna().head(20)"
   ]
  },
  {
   "cell_type": "code",
   "execution_count": 322,
   "metadata": {
    "hidden": true
   },
   "outputs": [
    {
     "data": {
      "text/html": [
       "<div>\n",
       "<style scoped>\n",
       "    .dataframe tbody tr th:only-of-type {\n",
       "        vertical-align: middle;\n",
       "    }\n",
       "\n",
       "    .dataframe tbody tr th {\n",
       "        vertical-align: top;\n",
       "    }\n",
       "\n",
       "    .dataframe thead th {\n",
       "        text-align: right;\n",
       "    }\n",
       "</style>\n",
       "<table border=\"1\" class=\"dataframe\">\n",
       "  <thead>\n",
       "    <tr style=\"text-align: right;\">\n",
       "      <th></th>\n",
       "      <th>totalReturn</th>\n",
       "      <th>sector</th>\n",
       "      <th>industry</th>\n",
       "      <th>country</th>\n",
       "      <th>shortName</th>\n",
       "      <th>marketCap</th>\n",
       "      <th>size</th>\n",
       "    </tr>\n",
       "  </thead>\n",
       "  <tbody>\n",
       "    <tr>\n",
       "      <th>MANH</th>\n",
       "      <td>15.22</td>\n",
       "      <td>Technology</td>\n",
       "      <td>Software - Application</td>\n",
       "      <td>United States</td>\n",
       "      <td>Manhattan Associates, Inc.</td>\n",
       "      <td>4.24</td>\n",
       "      <td>mid</td>\n",
       "    </tr>\n",
       "    <tr>\n",
       "      <th>CRM</th>\n",
       "      <td>14.85</td>\n",
       "      <td>Technology</td>\n",
       "      <td>Software - Application</td>\n",
       "      <td>United States</td>\n",
       "      <td>Salesforce.com Inc</td>\n",
       "      <td>119.76</td>\n",
       "      <td>large</td>\n",
       "    </tr>\n",
       "    <tr>\n",
       "      <th>TYL</th>\n",
       "      <td>12.68</td>\n",
       "      <td>Technology</td>\n",
       "      <td>Software - Application</td>\n",
       "      <td>United States</td>\n",
       "      <td>Tyler Technologies, Inc.</td>\n",
       "      <td>8.19</td>\n",
       "      <td>mid</td>\n",
       "    </tr>\n",
       "    <tr>\n",
       "      <th>CDNS</th>\n",
       "      <td>12.25</td>\n",
       "      <td>Technology</td>\n",
       "      <td>Software - Application</td>\n",
       "      <td>United States</td>\n",
       "      <td>Cadence Design Systems, Inc.</td>\n",
       "      <td>19.30</td>\n",
       "      <td>large</td>\n",
       "    </tr>\n",
       "    <tr>\n",
       "      <th>ADBE</th>\n",
       "      <td>10.12</td>\n",
       "      <td>Technology</td>\n",
       "      <td>Software - Application</td>\n",
       "      <td>United States</td>\n",
       "      <td>Adobe Inc.</td>\n",
       "      <td>136.55</td>\n",
       "      <td>large</td>\n",
       "    </tr>\n",
       "    <tr>\n",
       "      <th>RHT</th>\n",
       "      <td>9.53</td>\n",
       "      <td>Technology</td>\n",
       "      <td>Software - Application</td>\n",
       "      <td>United States</td>\n",
       "      <td>Red Hat, Inc.</td>\n",
       "      <td>32.98</td>\n",
       "      <td>large</td>\n",
       "    </tr>\n",
       "    <tr>\n",
       "      <th>INTU</th>\n",
       "      <td>9.18</td>\n",
       "      <td>Technology</td>\n",
       "      <td>Software - Application</td>\n",
       "      <td>United States</td>\n",
       "      <td>Intuit Inc.</td>\n",
       "      <td>63.59</td>\n",
       "      <td>large</td>\n",
       "    </tr>\n",
       "    <tr>\n",
       "      <th>ADSK</th>\n",
       "      <td>8.42</td>\n",
       "      <td>Technology</td>\n",
       "      <td>Software - Application</td>\n",
       "      <td>United States</td>\n",
       "      <td>Autodesk, Inc.</td>\n",
       "      <td>38.38</td>\n",
       "      <td>large</td>\n",
       "    </tr>\n",
       "    <tr>\n",
       "      <th>PTC</th>\n",
       "      <td>7.33</td>\n",
       "      <td>Technology</td>\n",
       "      <td>Software - Application</td>\n",
       "      <td>United States</td>\n",
       "      <td>PTC Inc.</td>\n",
       "      <td>9.99</td>\n",
       "      <td>mid</td>\n",
       "    </tr>\n",
       "    <tr>\n",
       "      <th>ANSS</th>\n",
       "      <td>6.20</td>\n",
       "      <td>Technology</td>\n",
       "      <td>Software - Application</td>\n",
       "      <td>United States</td>\n",
       "      <td>ANSYS, Inc.</td>\n",
       "      <td>15.74</td>\n",
       "      <td>large</td>\n",
       "    </tr>\n",
       "    <tr>\n",
       "      <th>ACIW</th>\n",
       "      <td>5.94</td>\n",
       "      <td>Technology</td>\n",
       "      <td>Software - Application</td>\n",
       "      <td>United States</td>\n",
       "      <td>ACI Worldwide, Inc.</td>\n",
       "      <td>3.47</td>\n",
       "      <td>mid</td>\n",
       "    </tr>\n",
       "    <tr>\n",
       "      <th>NICE</th>\n",
       "      <td>5.38</td>\n",
       "      <td>Technology</td>\n",
       "      <td>Software - Application</td>\n",
       "      <td>Israel</td>\n",
       "      <td>NICE Ltd</td>\n",
       "      <td>8.74</td>\n",
       "      <td>mid</td>\n",
       "    </tr>\n",
       "    <tr>\n",
       "      <th>SNPS</th>\n",
       "      <td>5.00</td>\n",
       "      <td>Technology</td>\n",
       "      <td>Software - Application</td>\n",
       "      <td>United States</td>\n",
       "      <td>Synopsys, Inc.</td>\n",
       "      <td>18.17</td>\n",
       "      <td>large</td>\n",
       "    </tr>\n",
       "    <tr>\n",
       "      <th>PEGA</th>\n",
       "      <td>4.90</td>\n",
       "      <td>Technology</td>\n",
       "      <td>Software - Application</td>\n",
       "      <td>United States</td>\n",
       "      <td>Pegasystems Inc.</td>\n",
       "      <td>5.65</td>\n",
       "      <td>mid</td>\n",
       "    </tr>\n",
       "    <tr>\n",
       "      <th>BLKB</th>\n",
       "      <td>4.74</td>\n",
       "      <td>Technology</td>\n",
       "      <td>Software - Application</td>\n",
       "      <td>United States</td>\n",
       "      <td>Blackbaud, Inc.</td>\n",
       "      <td>3.84</td>\n",
       "      <td>mid</td>\n",
       "    </tr>\n",
       "  </tbody>\n",
       "</table>\n",
       "</div>"
      ],
      "text/plain": [
       "      totalReturn      sector                industry        country  \\\n",
       "MANH        15.22  Technology  Software - Application  United States   \n",
       "CRM         14.85  Technology  Software - Application  United States   \n",
       "TYL         12.68  Technology  Software - Application  United States   \n",
       "CDNS        12.25  Technology  Software - Application  United States   \n",
       "ADBE        10.12  Technology  Software - Application  United States   \n",
       "RHT          9.53  Technology  Software - Application  United States   \n",
       "INTU         9.18  Technology  Software - Application  United States   \n",
       "ADSK         8.42  Technology  Software - Application  United States   \n",
       "PTC          7.33  Technology  Software - Application  United States   \n",
       "ANSS         6.20  Technology  Software - Application  United States   \n",
       "ACIW         5.94  Technology  Software - Application  United States   \n",
       "NICE         5.38  Technology  Software - Application         Israel   \n",
       "SNPS         5.00  Technology  Software - Application  United States   \n",
       "PEGA         4.90  Technology  Software - Application  United States   \n",
       "BLKB         4.74  Technology  Software - Application  United States   \n",
       "\n",
       "                         shortName  marketCap   size  \n",
       "MANH    Manhattan Associates, Inc.       4.24    mid  \n",
       "CRM             Salesforce.com Inc     119.76  large  \n",
       "TYL       Tyler Technologies, Inc.       8.19    mid  \n",
       "CDNS  Cadence Design Systems, Inc.      19.30  large  \n",
       "ADBE                    Adobe Inc.     136.55  large  \n",
       "RHT                  Red Hat, Inc.      32.98  large  \n",
       "INTU                   Intuit Inc.      63.59  large  \n",
       "ADSK                Autodesk, Inc.      38.38  large  \n",
       "PTC                       PTC Inc.       9.99    mid  \n",
       "ANSS                   ANSYS, Inc.      15.74  large  \n",
       "ACIW           ACI Worldwide, Inc.       3.47    mid  \n",
       "NICE                      NICE Ltd       8.74    mid  \n",
       "SNPS                Synopsys, Inc.      18.17  large  \n",
       "PEGA              Pegasystems Inc.       5.65    mid  \n",
       "BLKB               Blackbaud, Inc.       3.84    mid  "
      ]
     },
     "execution_count": 322,
     "metadata": {},
     "output_type": "execute_result"
    }
   ],
   "source": [
    "hist_return.loc[hist_return.industry.isin(['Software - Application']), :]\\\n",
    "    .sort_values(by='totalReturn', ascending=False)"
   ]
  },
  {
   "cell_type": "code",
   "execution_count": null,
   "metadata": {
    "hidden": true
   },
   "outputs": [],
   "source": []
  },
  {
   "cell_type": "code",
   "execution_count": null,
   "metadata": {
    "hidden": true
   },
   "outputs": [],
   "source": []
  },
  {
   "cell_type": "markdown",
   "metadata": {
    "hidden": true
   },
   "source": [
    "#### historical price performance analysis"
   ]
  },
  {
   "cell_type": "code",
   "execution_count": 140,
   "metadata": {
    "hidden": true
   },
   "outputs": [
    {
     "name": "stdout",
     "output_type": "stream",
     "text": [
      "Mean positive: 0.23362956941127777, Mean negative: -0.13078920543193817\n"
     ]
    },
    {
     "data": {
      "image/png": "[encoded data removed]",
      "text/plain": [
       "<Figure size 432x288 with 1 Axes>"
      ]
     },
     "metadata": {
      "needs_background": "light"
     },
     "output_type": "display_data"
    }
   ],
   "source": [
    "# Average increase and decrease over a give time period\n",
    "prices = px_close.dropna(subset=[bench])[tickers]\n",
    "excl_tickers = list(prices.iloc[-1].isna().loc[prices.iloc[-1].isna().values].index)\n",
    "prices = prices[excl(prices.columns, excl_tickers)]\n",
    "\n",
    "look_ahead = context['look_ahead']\n",
    "pos_ret = prices.pct_change(look_ahead).where(prices.pct_change(look_ahead) > 0)\n",
    "pos_ret.mean(1).plot();\n",
    "neg_ret = prices.pct_change(look_ahead).where(prices.pct_change(look_ahead) < 0)\n",
    "neg_ret.mean(1).plot();\n",
    "print(f'Mean positive: {pos_ret.mean(1).mean()}, Mean negative: {neg_ret.mean(1).mean()}')"
   ]
  },
  {
   "cell_type": "code",
   "execution_count": 135,
   "metadata": {
    "hidden": true
   },
   "outputs": [
    {
     "data": {
      "text/plain": [
       "<matplotlib.axes._subplots.AxesSubplot at 0x155e520f0>"
      ]
     },
     "execution_count": 135,
     "metadata": {},
     "output_type": "execute_result"
    },
    {
     "data": {
      "image/png": "[encoded data removed]",
      "text/plain": [
       "<Figure size 432x288 with 1 Axes>"
      ]
     },
     "metadata": {
      "needs_background": "light"
     },
     "output_type": "display_data"
    }
   ],
   "source": [
    "\n",
    "pos_ret.mean(1).hist(bins=40)\n",
    "# pos_ret.mean(1).plot.kde(secondary_y=True)"
   ]
  },
  {
   "cell_type": "code",
   "execution_count": 136,
   "metadata": {
    "hidden": true
   },
   "outputs": [
    {
     "data": {
      "text/plain": [
       "<matplotlib.axes._subplots.AxesSubplot at 0x14c739e80>"
      ]
     },
     "execution_count": 136,
     "metadata": {},
     "output_type": "execute_result"
    },
    {
     "data": {
      "image/png": "[encoded data removed]",
      "text/plain": [
       "<Figure size 432x288 with 1 Axes>"
      ]
     },
     "metadata": {
      "needs_background": "light"
     },
     "output_type": "display_data"
    }
   ],
   "source": [
    "neg_ret.mean(1).hist(bins=40)\n",
    "# neg_ret.mean(1).plot.kde(secondary_y=True)"
   ]
  },
  {
   "cell_type": "code",
   "execution_count": 550,
   "metadata": {
    "hidden": true
   },
   "outputs": [
    {
     "data": {
      "text/plain": [
       "array([ -inf, -0.23, -0.15,  0.14,  0.22,   inf])"
      ]
     },
     "execution_count": 550,
     "metadata": {},
     "output_type": "execute_result"
    }
   ],
   "source": [
    "# class distribution cuts\n",
    "np.round(get_return_intervals(prices, 120, tresholds=[0.1, 0.5]), 2)"
   ]
  },
  {
   "cell_type": "markdown",
   "metadata": {
    "hidden": true
   },
   "source": [
    "#### Max draws / Max pulls"
   ]
  },
  {
   "cell_type": "code",
   "execution_count": 543,
   "metadata": {
    "code_folding": [],
    "hidden": true
   },
   "outputs": [
    {
     "name": "stdout",
     "output_type": "stream",
     "text": [
      "Max draw: -0.09079279780791061, Max pull: 0.09960461974123547\n"
     ]
    },
    {
     "data": {
      "image/png": "[encoded data removed]",
      "text/plain": [
       "<Figure size 432x288 with 1 Axes>"
      ]
     },
     "metadata": {
      "needs_background": "light"
     },
     "output_type": "display_data"
    }
   ],
   "source": [
    "# Test cumulative drawdowns and pulls\n",
    "from utils.pricing import max_draw_pull\n",
    "\n",
    "n = 100\n",
    "r_w = np.random.randn(n).cumsum() + 100\n",
    "l_dd, h_dd, l_p, h_p = max_draw_pull(r_w)\n",
    "\n",
    "plt.plot(r_w)\n",
    "plt.plot([l_dd, h_dd], [r_w[l_dd], r_w[h_dd],], 'o', color='Red', markersize=10)\n",
    "plt.plot([l_p, h_p], [r_w[l_p], r_w[h_p]], 'o', color='Green', markersize=10)\n",
    "\n",
    "print(f'Max draw: {r_w[l_dd]/r_w[h_dd]-1}, Max pull: {r_w[h_p]/r_w[l_p]-1}')"
   ]
  },
  {
   "cell_type": "markdown",
   "metadata": {
    "heading_collapsed": true,
    "hidden": true
   },
   "source": [
    "#### Date and minute based time analysis"
   ]
  },
  {
   "cell_type": "code",
   "execution_count": null,
   "metadata": {
    "hidden": true
   },
   "outputs": [],
   "source": [
    "freq = '1d'"
   ]
  },
  {
   "cell_type": "code",
   "execution_count": null,
   "metadata": {
    "hidden": true
   },
   "outputs": [],
   "source": [
    "# s1, s2 = '1810.HK', 'AAPL'\n",
    "group_pricing = pd.DataFrame()\n",
    "df1 = get_symbol_pricing(s1, freq, ['close'])\n",
    "df2 = get_symbol_pricing(s2, freq, ['close'])\n",
    "group_pricing = pd.DataFrame(df1)\n",
    "# group_pricing.loc[:, s2] = df2\n",
    "group_pricing = pd.concat([group_pricing, df2], axis=1)\n",
    "group_pricing.describe()\n",
    "# group_pricing"
   ]
  },
  {
   "cell_type": "code",
   "execution_count": null,
   "metadata": {
    "hidden": true
   },
   "outputs": [],
   "source": [
    "path = config['pricing_path'].format(freq)\n",
    "data_dict = json_load(path + json_ext.format(ticker))\n",
    "\n",
    "tz = data_dict['meta']['exchangeTimezoneName']\n",
    "df = build_px_struct(data_dict, freq)\n",
    "\n",
    "adjClose = data_dict['indicators']['adjclose'][0] if 'adjclose' in  data_dict['indicators'] else 0\n",
    "close = data_dict['indicators']['quote'][0]\n",
    "data_dict.keys(), data_dict['indicators'].keys()"
   ]
  },
  {
   "cell_type": "code",
   "execution_count": null,
   "metadata": {
    "hidden": true
   },
   "outputs": [],
   "source": [
    "df.index.date"
   ]
  },
  {
   "cell_type": "code",
   "execution_count": null,
   "metadata": {
    "hidden": true
   },
   "outputs": [],
   "source": [
    "dates = pd.to_datetime(\n",
    "        data_dict['timestamp'], \n",
    "        unit='s', infer_datetime_format=True)\n",
    "# dates = dates.astype(f'datetime64[ns, {tz}]')\n",
    "# dates.tz_convert('America/New_York')\n",
    "# dates = dates.tz_localize('America/New_York')\n",
    "dates.floor('d' if freq == '1d' else 'min')"
   ]
  },
  {
   "cell_type": "code",
   "execution_count": null,
   "metadata": {
    "hidden": true
   },
   "outputs": [],
   "source": [
    "df.tail(5)"
   ]
  },
  {
   "cell_type": "code",
   "execution_count": null,
   "metadata": {
    "hidden": true
   },
   "outputs": [],
   "source": [
    "freq = '1d'"
   ]
  },
  {
   "cell_type": "code",
   "execution_count": null,
   "metadata": {
    "hidden": true
   },
   "outputs": [],
   "source": [
    "%time px_close = get_mults_pricing(symbols_list[:10], freq);"
   ]
  },
  {
   "cell_type": "code",
   "execution_count": null,
   "metadata": {
    "hidden": true
   },
   "outputs": [],
   "source": [
    "# [px_close[x].dropna().tail() for x in px_close.columns]\n",
    "px_close.describe()\n",
    "# px_close.tail()"
   ]
  },
  {
   "cell_type": "code",
   "execution_count": null,
   "metadata": {
    "hidden": true
   },
   "outputs": [],
   "source": [
    "f'Ticker: {ticker}'"
   ]
  },
  {
   "cell_type": "code",
   "execution_count": null,
   "metadata": {
    "hidden": true
   },
   "outputs": [],
   "source": [
    "px = get_symbol_pricing(ticker, freq)\n",
    "px.close.tail()"
   ]
  },
  {
   "cell_type": "markdown",
   "metadata": {
    "heading_collapsed": true,
    "hidden": true
   },
   "source": [
    "#### Old code"
   ]
  },
  {
   "cell_type": "code",
   "execution_count": null,
   "metadata": {
    "hidden": true
   },
   "outputs": [],
   "source": [
    "# test distribution of Y variable\n",
    "tickers = list(mu.sample_sector_tickers(eqty_symbols, profile, sectors, 50).index)\n",
    "context['grid_search'] = False\n",
    "context['tickers'] = tickers\n",
    "context['train_model'] = True\n",
    "\n",
    "df_large = create_ds(context)\n",
    "\n",
    "df = df_large.copy()\n",
    "df.dropna(subset=[y_col], inplace=True)\n",
    "df[y_col] = discret_rets(df[y_col], cut_range, fwd_ret_labels)\n",
    "df.dropna(subset=[y_col], inplace=True) # no nas in y_col\n",
    "df[y_col] = df[y_col].astype(str) # class as string\n",
    "sample_wgts(df[y_col])\n",
    "\n",
    "pred_X, X_traxin, X_test, y_train, y_test = pre_process_ds(df_large, context)\n",
    "pd.value_counts(discret_rets(df_large.fwdReturn, cut_range, fwd_ret_labels)).sum()\n",
    "pd.value_counts(pd.concat([y_train, y_test], axis=0)).sum()"
   ]
  },
  {
   "cell_type": "code",
   "execution_count": null,
   "metadata": {
    "hidden": true
   },
   "outputs": [],
   "source": [
    "# Retrieves historical pricing\n",
    "secpx = get_symbol_pricing(symbol, freq)\n",
    "secpx.set_index(secpx.index.astype(np.datetime64), inplace=True)"
   ]
  },
  {
   "cell_type": "code",
   "execution_count": null,
   "metadata": {
    "hidden": true
   },
   "outputs": [],
   "source": [
    "fwd_ss_ret = lambda x, df, arr: df.loc[[y for y in arr[x-1] if y in df.index.tolist()]].mean()"
   ]
  },
  {
   "cell_type": "code",
   "execution_count": null,
   "metadata": {
    "hidden": true
   },
   "outputs": [],
   "source": [
    "# seasonality analysis\n",
    "ss_df = closepx.pct_change().resample('M').sum().to_frame()\n",
    "ss_df['year'], ss_df['month'] = ss_df.index.year, ss_df.index.month\n",
    "ss_df = ss_df.pivot_table(index='year', columns='month').mean()\n",
    "ss_pos = [(x, (x+1) if not (x+1) // 12 else 0, \n",
    "     x+2 if not (x+2) // 12 else x - 10) for x in range(12)]\n",
    "\n",
    "# [fwd_ss_ret(x+1, ss_df['close'], ss_pos) for x in range(12)] # test"
   ]
  },
  {
   "cell_type": "code",
   "execution_count": null,
   "metadata": {
    "hidden": true
   },
   "outputs": [],
   "source": [
    "# apply seasonality, mean return of curr month plus next two\n",
    "secpx['month'] = secpx.index.month\n",
    "secpx['fwdSSRet'] = secpx.loc[:].month.apply(\n",
    "    fwd_ss_ret, args=(ss_df['close'], ss_pos,))"
   ]
  },
  {
   "cell_type": "code",
   "execution_count": null,
   "metadata": {
    "hidden": true
   },
   "outputs": [],
   "source": [
    "secpx.columns # all columns"
   ]
  },
  {
   "cell_type": "code",
   "execution_count": null,
   "metadata": {
    "hidden": true
   },
   "outputs": [],
   "source": [
    "# normalized columns for ML training, still has outliers\n",
    "ml_ds_cols = secpx.describe().loc['50%'][secpx.describe().loc['50%'] < 5].index.tolist()\n",
    "ml_ds_cols"
   ]
  },
  {
   "cell_type": "code",
   "execution_count": null,
   "metadata": {
    "hidden": true
   },
   "outputs": [],
   "source": [
    "# prepare ML dataset\n",
    "ml_ds = secpx[ml_ds_cols].copy()\n",
    "\n",
    "class_cols = ['fwdChg1w', 'fwdChg1m', 'fwdChg3m']\n",
    "cut_range = [-1, -0.05, .0, .02, .09, 1.]\n",
    "fwd_ret_labels = [\"bear\", \"short\", \"neutral\", \"long\", \"bull\"]\n",
    "\n",
    "for c in class_cols: ml_ds[c] = pd.cut(secpx[c], cut_range, labels=fwd_ret_labels)\n",
    "ml_ds.info()"
   ]
  },
  {
   "cell_type": "code",
   "execution_count": null,
   "metadata": {
    "hidden": true
   },
   "outputs": [],
   "source": [
    "# drop the predicting class with most nas\n",
    "ml_ds.dropna(inplace=True)\n",
    "ml_ds.info()"
   ]
  },
  {
   "cell_type": "code",
   "execution_count": null,
   "metadata": {
    "hidden": true
   },
   "outputs": [],
   "source": [
    "ml_ds.hist(figsize=(15,15));"
   ]
  },
  {
   "cell_type": "code",
   "execution_count": null,
   "metadata": {
    "hidden": true
   },
   "outputs": [],
   "source": [
    "ml_ds.to_csv(csv_ext.format('co_price_mom_ds'), index=False)"
   ]
  }
 ],
 "metadata": {
  "kernelspec": {
   "display_name": "Python 3",
   "language": "python",
   "name": "python3"
  },
  "language_info": {
   "codemirror_mode": {
    "name": "ipython",
    "version": 3
   },
   "file_extension": ".py",
   "mimetype": "text/x-python",
   "name": "python",
   "nbconvert_exporter": "python",
   "pygments_lexer": "ipython3",
   "version": "3.7.3"
  },
  "toc": {
   "base_numbering": 1,
   "nav_menu": {},
   "number_sections": true,
   "sideBar": true,
   "skip_h1_title": false,
   "title_cell": "Table of Contents",
   "title_sidebar": "Contents",
   "toc_cell": false,
   "toc_position": {},
   "toc_section_display": true,
   "toc_window_display": false
  }
 },
 "nbformat": 4,
 "nbformat_minor": 2
}
