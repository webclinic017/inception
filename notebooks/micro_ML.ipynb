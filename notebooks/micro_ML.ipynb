{
 "cells": [
  {
   "cell_type": "code",
   "execution_count": 1,
   "metadata": {},
   "outputs": [
    {
     "name": "stdout",
     "output_type": "stream",
     "text": [
      "Loading utils/config.json\n"
     ]
    }
   ],
   "source": [
    "# imports\n",
    "%reload_ext autoreload\n",
    "%autoreload 2\n",
    "%matplotlib inline \n",
    "\n",
    "from matplotlib import pyplot as plt\n",
    "\n",
    "from utils.basic_utils import *\n",
    "from utils.pricing import *\n",
    "from utils.fundamental import chain_outlier\n",
    "from utils import ml_utils as mu\n",
    "\n",
    "pd.options.display.float_format = '{:,.2f}'.format"
   ]
  },
  {
   "cell_type": "code",
   "execution_count": 2,
   "metadata": {},
   "outputs": [],
   "source": [
    "import time, os, sys\n",
    "from tqdm import tqdm\n",
    "from sklearn import preprocessing\n",
    "from sklearn.preprocessing import StandardScaler\n",
    "from sklearn.impute import SimpleImputer\n",
    "from sklearn.model_selection import cross_val_score, cross_validate, train_test_split\n",
    "from sklearn.model_selection import GridSearchCV\n",
    "from sklearn.utils.multiclass import unique_labels\n",
    "from sklearn.metrics import confusion_matrix, classification_report\n",
    "from sklearn.metrics import accuracy_score, log_loss, precision_recall_fscore_support\n",
    "from sklearn.metrics import precision_score, roc_auc_score\n",
    "\n",
    "from sklearn.model_selection import StratifiedShuffleSplit\n",
    "from sklearn.neural_network import MLPClassifier\n",
    "from sklearn.ensemble import VotingClassifier\n",
    "from sklearn.ensemble import RandomForestClassifier\n",
    "from sklearn.ensemble import ExtraTreesClassifier\n",
    "from sklearn.externals import joblib"
   ]
  },
  {
   "cell_type": "code",
   "execution_count": 3,
   "metadata": {},
   "outputs": [],
   "source": [
    "bench = '^GSPC'\n",
    "sec_windows, stds = [5, 20, 60], 1\n",
    "pred_fwd_windows = [60]\n",
    "inv = incl_px = incl_name = False\n",
    "y_col = 'fwdReturn'"
   ]
  },
  {
   "cell_type": "markdown",
   "metadata": {},
   "source": [
    "### Get pricing / context data"
   ]
  },
  {
   "cell_type": "code",
   "execution_count": 236,
   "metadata": {
    "code_folding": []
   },
   "outputs": [],
   "source": [
    "# pending cleanup: use ml_path and tmp_path separate\n",
    "\n",
    "excl_list = [] # ['BHF', 'ERI']\n",
    "tickers = excl(config['companies'], excl_list)\n",
    "\n",
    "context = {\n",
    "    'tickers': tickers,\n",
    "    'ml_path': '../ML/',\n",
    "    'model_name': 'eqty_technical.pkl',\n",
    "    'tmp_path': '../tmp/',\n",
    "    'px_close': 'universe-px-ds',\n",
    "    'ds_name': 'co-pxmom-large',\n",
    "    'model_name': 'co_pxmom_ML_{}.pkl',\n",
    "    'trained_cols': 'eqty_technical_train_cols.npy',\n",
    "    'look_ahead': 120,\n",
    "    'look_back': 252,\n",
    "    'smooth_window': 20,    \n",
    "    'load_ds': True,\n",
    "    'fill': 'bfill',\n",
    "    'scale': True,\n",
    "    'test_size': .20,\n",
    "    'verbose': True,\n",
    "    's3_path': 'recommend/micro_ML/'\n",
    "}"
   ]
  },
  {
   "cell_type": "code",
   "execution_count": 77,
   "metadata": {},
   "outputs": [
    {
     "name": "stdout",
     "output_type": "stream",
     "text": [
      "universe-px-ds                                100%   18MB   1.0MB/s   00:18    \n"
     ]
    }
   ],
   "source": [
    "ec2_IP = config['ec2_IP']\n",
    "remote_path = config['remote_path']\n",
    "px_close_ds = context['px_close']\n",
    "tmp_path = context['tmp_path']\n",
    "!scp -i ~vveiga/.ssh/qc_infra.pem ubuntu@{ec2_IP}:{remote_path}/tmp/{px_close_ds} {tmp_path}{px_close_ds}"
   ]
  },
  {
   "cell_type": "code",
   "execution_count": 78,
   "metadata": {
    "code_folding": [],
    "scrolled": true
   },
   "outputs": [
    {
     "name": "stdout",
     "output_type": "stream",
     "text": [
      "<class 'pandas.core.frame.DataFrame'>\n",
      "Index: 4710 entries, 2004-03-08 to 2019-04-30\n",
      "Columns: 1299 entries, 0700.HK to KRW=X\n",
      "dtypes: float32(1299)\n",
      "memory usage: 23.4+ MB\n",
      "px_close.info() None\n"
     ]
    }
   ],
   "source": [
    "px_close = load_px_close(\n",
    "        context['tmp_path'],\n",
    "        context['px_close'],\n",
    "        context['load_ds']).drop_duplicates()\n",
    "print('px_close.info()', px_close.info())"
   ]
  },
  {
   "cell_type": "code",
   "execution_count": 237,
   "metadata": {},
   "outputs": [
    {
     "data": {
      "text/plain": [
       "(-inf,\n",
       " -0.1765727996826172,\n",
       " -0.10731416195631027,\n",
       " 0.14041046798229218,\n",
       " 0.251930832862854,\n",
       " inf)"
      ]
     },
     "execution_count": 237,
     "metadata": {},
     "output_type": "execute_result"
    }
   ],
   "source": [
    "prices = px_close.dropna(subset=['^GSPC'])[tickers]\n",
    "look_ahead = context['look_ahead']\n",
    "cut_range = get_return_intervals(prices, look_ahead, tresholds=[0.25, 0.75])\n",
    "# cut_range = [-np.inf, -0.12, -.04, .04, .12, np.inf]\n",
    "fwd_ret_labels = [\"bear\", \"short\", \"neutral\", \"long\", \"bull\"]\n",
    "cut_range"
   ]
  },
  {
   "cell_type": "code",
   "execution_count": 238,
   "metadata": {},
   "outputs": [
    {
     "data": {
      "text/plain": [
       "'2019-04-30'"
      ]
     },
     "execution_count": 238,
     "metadata": {},
     "output_type": "execute_result"
    }
   ],
   "source": [
    "# latest quotes, profile, and industries\n",
    "dates = read_dates('quote')\n",
    "tgt_date = dates[-1] # last date saved in S3\n",
    "tgt_date"
   ]
  },
  {
   "cell_type": "code",
   "execution_count": 188,
   "metadata": {
    "code_folding": []
   },
   "outputs": [
    {
     "name": "stdout",
     "output_type": "stream",
     "text": [
      "Loading file quote/csv/2019-04-30\n",
      "Loading file summary-categories/assetProfile\n",
      "Sectors: 11, Industries: 135\n"
     ]
    }
   ],
   "source": [
    "quotes = load_csvs('quote_consol', [tgt_date])\n",
    "quotes.set_index('symbol', drop=False, inplace=True)\n",
    "\n",
    "profile = load_csvs('summary_detail', ['assetProfile'])\n",
    "profile.set_index('symbol', drop=False, inplace=True)\n",
    "\n",
    "# Create a frame of market, sector and industry index (once)\n",
    "# for relative performance calculations\n",
    "sel_profiles = profile[profile.symbol.isin(tickers)]\n",
    "sel_profiles.groupby(['sector', 'industry'])[['industry']].count()\n",
    "sectors = sel_profiles.sector.dropna().unique()\n",
    "industries = sel_profiles.industry.dropna().unique()\n",
    "\n",
    "print(f'Sectors: {sectors.shape[0]}, Industries: {industries.shape[0]}')\n",
    "\n",
    "indices_df = pd.concat([\n",
    "    eq_wgt_indices(profile, px_close, 'sector', sectors, subset=eqty_symbols),\n",
    "    eq_wgt_indices(profile, px_close, 'industry', industries, subset=eqty_symbols),\n",
    "    to_index_form(get_symbol_pricing(bench)['close'], bench)\n",
    "], axis=1).drop_duplicates()"
   ]
  },
  {
   "cell_type": "markdown",
   "metadata": {},
   "source": [
    "### Final"
   ]
  },
  {
   "cell_type": "code",
   "execution_count": 239,
   "metadata": {
    "code_folding": [
     0,
     50,
     90,
     138,
     206
    ]
   },
   "outputs": [],
   "source": [
    "def create_pre_process_ds(context):\n",
    "    \n",
    "    tickers = context['tickers']\n",
    "    sectors = profile.loc[profile.symbol.isin(tickers)].sector.unique()\n",
    "    industries = profile.loc[profile.symbol.isin(tickers)].industry.unique()\n",
    "    print(f'Sectors: {sectors.shape[0]}, Industries: {industries.shape[0]}')\n",
    "    \n",
    "    indices_df = pd.concat(\n",
    "        [eq_wgt_indices(profile, px_close, 'sector', sectors, subset=tickers),\n",
    "        eq_wgt_indices(profile, px_close, 'industry', industries, subset=tickers),\n",
    "        to_index_form(get_symbol_pricing(bench)['close'], bench)], \n",
    "        axis=1).drop_duplicates()\n",
    "    \n",
    "    # create price momentum features\n",
    "    tmp_path = context['tmp_path']\n",
    "    ds_name = context['ds_name']\n",
    "    if True and os.path.isfile(tmp_path + ds_name):\n",
    "        joined_df = pd.read_parquet(tmp_path + ds_name)\n",
    "    else:\n",
    "        super_list = []\n",
    "        for i, ticker in enumerate(tickers):\n",
    "            try:\n",
    "                close = px_close[ticker].dropna()\n",
    "                ft_df = px_mom_feats(close, ticker, incl_name=False)\n",
    "                if ticker in profile.symbol.unique():\n",
    "                    top_groups = tuple([bench, profile.loc[ticker, 'sector']])\n",
    "                    co = px_mom_co_feats_light(close, indices_df, top_groups)\n",
    "                    ft_df = pd.concat([ft_df, co.loc[ft_df.index, :]], axis=1)\n",
    "                    super_list.append(ft_df.copy())\n",
    "                else: print(ticker, 'missing profile, skipping')\n",
    "            except Exception as e:\n",
    "                print(\"Exception: {0} {1}\".format(ticker, e))\n",
    "        joined_df = pd.concat(super_list, axis=0)\n",
    "        os.makedirs(tmp_path, exist_ok=True)\n",
    "        joined_df.to_parquet(tmp_path + ds_name)\n",
    "\n",
    "    joined_df = chain_outlier(joined_df, None)\n",
    "        \n",
    "    # basic impute and scaling\n",
    "    scale_on = context['scale']\n",
    "    scaler = StandardScaler()\n",
    "    num_cols = numeric_cols(joined_df)\n",
    "    joined_df.loc[:, num_cols] = joined_df[num_cols].replace([np.inf, -np.inf, np.nan], 0)\n",
    "    if scale_on: joined_df.loc[:, num_cols] = scaler.fit_transform(joined_df[num_cols])\n",
    "\n",
    "    # add categoricals\n",
    "    joined_df = dummy_col(joined_df, 'sector', shorten=True)\n",
    "    \n",
    "    return joined_df\n",
    "\n",
    "def create_ds(context):\n",
    "    print('create_ds')\n",
    "    train_model = context['train_model']\n",
    "    tmp_path = context['tmp_path']\n",
    "    ds_name = context['ds_name']\n",
    "    tickers = context['tickers']\n",
    "    load_ds = context['load_ds']\n",
    "    tail = 10**4 if train_model else 252*2\n",
    "\n",
    "    if load_ds & os.path.isfile(tmp_path + '/' + ds_name):\n",
    "        df_large = pd.read_parquet(tmp_path + '/' + ds_name)\n",
    "        return df_large\n",
    "    \n",
    "    super_list = []\n",
    "    for i, ticker in tqdm(enumerate(tickers)):\n",
    "        try:\n",
    "            close = px_close[ticker].dropna().tail(tail)\n",
    "            ft_df = px_mom_feats(close, ticker, stds, inv, incl_px, sec_windows, incl_name)\n",
    "            ft_df[y_col] = px_fwd_rets(close, ticker, pred_fwd_windows).mean(axis=1)\n",
    "\n",
    "            df = get_symbol_pricing(ticker).tail(tail) #full retrieve\n",
    "            top_groups = tuple([bench] + list(profile.loc[ticker, ['sector', 'industry']]))\n",
    "            co = px_mom_co_feats(df, indices_df, top_groups)\n",
    "\n",
    "            ft_df.loc[:, 'country'] = profile.loc[ticker,:].country\n",
    "            ft_df.loc[:, 'currency'] = quotes.loc[ticker,:].currency\n",
    "            ft_df = pd.concat([ft_df, co.loc[ft_df.index, :]], axis=1)\n",
    "            super_list.append(ft_df)\n",
    "            # print('{} Adding {} to dataset'.format(i, ticker))\n",
    "        except Exception as e:\n",
    "            print(\"Exception: {0}\\n{1}\".format(ticker, e))\n",
    "    df_large = pd.concat(super_list, axis=0)\n",
    "    \n",
    "    if train_model:\n",
    "        os.makedirs(path, exist_ok=True)\n",
    "        df_large.to_parquet(path + '/' + ds_name)\n",
    "    print('df_large.shape {}'.format(df_large.shape))\n",
    "    \n",
    "    return df_large\n",
    "\n",
    "def pre_process_ds(raw_df, context):\n",
    "    print('pre_process_ds')    \n",
    "    train_model = context['train_model']\n",
    "    fill_on, imputer_on, scaler_on = context['fill'], context['impute'], context['scale']\n",
    "    categoricals, exclude = context['categoricals'], context['exclude']\n",
    "    (path, train_cols) = context['trained_cols']\n",
    "    test_sz, verbose = context['test_size'], context['verbose']\n",
    "    \n",
    "    # convert categorical columns    \n",
    "    for col in categoricals: raw_df = dummy_col(raw_df, col, shorten=True)\n",
    "    raw_df.drop(columns=exclude[:-1], inplace=True) # remove all except symbol\n",
    "    \n",
    "    scaler = StandardScaler()\n",
    "    imputer = SimpleImputer(\n",
    "        missing_values=np.nan, \n",
    "        strategy='median', copy=False)\n",
    "    X_cols = excl(raw_df.columns, [exclude[-1] ,y_col]) #not needed\n",
    "        \n",
    "    raw_df.replace([np.inf, -np.inf], np.nan, inplace=True)\n",
    "    if scaler_on: raw_df.loc[:, X_cols] = scaler.fit_transform(raw_df[X_cols])\n",
    "\n",
    "    pred_X = X_train = X_test = y_train = y_test = None\n",
    "    if train_model:\n",
    "        raw_df.drop(columns=exclude[-1], inplace=True) # remove symbol\n",
    "        if fill_on: raw_df.loc[:, X_cols].fillna(method=fill_on, inplace=True)\n",
    "\n",
    "        # discretize forward returns into classes\n",
    "        raw_df.dropna(subset=[y_col], inplace=True)\n",
    "        raw_df.loc[:, y_col] = discret_rets(raw_df[y_col], cut_range, fwd_ret_labels)\n",
    "        raw_df.dropna(subset=[y_col], inplace=True) # no nas in y_col\n",
    "        print(sample_wgts(raw_df[y_col]))\n",
    "        raw_df.loc[:, y_col] = raw_df[y_col].astype(str) # class as string\n",
    "        \n",
    "        if imputer_on: raw_df.loc[:, X_cols] = imputer.fit_transform(raw_df[X_cols])\n",
    "        else: raw_df = raw_df.dropna()\n",
    "\n",
    "        X, y = raw_df.drop(columns=y_col), raw_df[y_col]\n",
    "        X_train, X_test, y_train, y_test = train_test_split(\n",
    "            X, y, test_size=test_sz, random_state=42)\n",
    "        \n",
    "        np.save(path + train_cols, X_train.columns) # save feature order\n",
    "    else: \n",
    "        # feature for last date, pending to implement more flexibility\n",
    "        pred_X = raw_df.loc[raw_df.index[-1], :].drop(columns=y_col).dropna(axis=0)\n",
    "    \n",
    "    [print(x.shape) for x in (pred_X, X_train, X_test, y_train, y_test) if x is not None]\n",
    "    return pred_X, X_train, X_test, y_train, y_test\n",
    "\n",
    "def train_ds(context):\n",
    "    context['load_ds'] = True\n",
    "    context['train_model'] = True\n",
    "    grid_search = context['grid_search']\n",
    "    verbose = context['verbose']\n",
    "    (path, model_name) = context['ml_path']\n",
    "    portion = context['portion']\n",
    "        \n",
    "    ds_df = create_ds(context)\n",
    "    print(df.info(verbose=False))\n",
    "    _, X_train, X_test, y_train, y_test = pre_process_ds(ds_df, context)\n",
    "\n",
    "    features = X_train.shape[1]\n",
    "    best_params = { # best from GridSearch\n",
    "        'n_estimators': 25, \n",
    "        'max_features': features, \n",
    "        'max_depth': 30,\n",
    "        'min_samples_split': 2,\n",
    "        'min_samples_leaf': 2,\n",
    "        'random_state': 0,    \n",
    "        'n_jobs': -1}\n",
    "    if grid_search:\n",
    "        print('GridSearchCV for RandomForestClassifier')\n",
    "        param_grid = {\n",
    "            'n_estimators': [50], \n",
    "            'max_features': ['sqrt', 'log2', features // 2, features // 3,], \n",
    "            'max_depth': [30],\n",
    "            'min_samples_split': [2, 5, 10],\n",
    "            'min_samples_leaf': [2, 5, 10],\n",
    "            'random_state': np.arange(0, 3, 1),}\n",
    "        clf = GridSearchCV(RandomForestClassifier(random_state=42),\n",
    "                           param_grid, n_jobs=-1,\n",
    "                           cv=5, iid=True, verbose=verbose)\n",
    "        clf.fit(X_train, y_train)\n",
    "        if verbose: \n",
    "            mu.print_cv_results(\n",
    "                clf, (X_train, X_test, y_train, y_test), \n",
    "                feat_imp=True, top=20)\n",
    "        best_params = clf.best_params_\n",
    "    clf1 = RandomForestClassifier(**best_params)\n",
    "    clf1.fit(X_train, y_train)\n",
    "    print('RandomForestClassifier scores: Train {}, Test {}'.format(\n",
    "    clf1.score(X_train, y_train), clf1.score(X_test, y_test)))\n",
    "    \n",
    "    # ExtraTreesClassifier\n",
    "    clf2 = ExtraTreesClassifier(\n",
    "        n_estimators=50, \n",
    "        max_depth=30, \n",
    "        min_samples_split=2, \n",
    "        min_samples_leaf=1,        \n",
    "        random_state=5, \n",
    "        n_jobs=-1)\n",
    "    clf2.fit(X_train, y_train)\n",
    "    print('ExtraTreesClassifier scores: Train {}, Test {}'.format(\n",
    "    clf2.score(X_train, y_train), clf2.score(X_test, y_test)))\n",
    "                \n",
    "    for vote in ['hard', 'soft']:\n",
    "        eclf = VotingClassifier(\n",
    "            estimators=[('rf', clf1), ('et', clf2)],\n",
    "            voting=vote)\n",
    "        clf = eclf.fit(X_train, y_train)\n",
    "        print('VotingClassifier scores Train {}, Test {}'.format(\n",
    "                clf.score(X_train, y_train), clf.score(X_test, y_test)))\n",
    "        os.makedirs(path, exist_ok=True)\n",
    "        fname = path + model_name.format(vote)\n",
    "        joblib.dump(clf, fname)\n",
    "        print('Saved ', fname)\n",
    "        \n",
    "def predict_ds(context):\n",
    "    context['load_ds'] = False\n",
    "    context['train_model'] = False\n",
    "    (path, model_name) = context['ml_path']\n",
    "    verbose = context['verbose']\n",
    "    (path, train_cols) = context['trained_cols']\n",
    "    \n",
    "    df_large = create_ds(context)\n",
    "    pred_X, _, _, _, _ = pre_process_ds(df_large, context)\n",
    "    print('predict_ds')\n",
    "    print('pred_X.shape', pred_X.shape)\n",
    "    \n",
    "    # ensure prediction dataset is consistent with trained model\n",
    "    trained_cols = np.load(path + train_cols) # save feature order    \n",
    "    missing_cols = [x for x in trained_cols if x not in pred_X.columns]\n",
    "    pred_X = pd.concat([pred_X, pd.DataFrame(columns=missing_cols)], axis=1)\n",
    "    pred_X[missing_cols] = 0\n",
    "    pred_X = pred_X[list(trained_cols) + ['symbol']]    \n",
    "\n",
    "    pred_df = pd.DataFrame()\n",
    "    pred_df['symbol'] = pred_X.symbol\n",
    "    for vote in ['hard', 'soft']:\n",
    "        fname = path + model_name.format(vote)\n",
    "        clf = joblib.load(fname) # load latest models\n",
    "        print('Loaded', fname)\n",
    "        preds = clf.predict(pred_X.iloc[:, :-1])\n",
    "        # preds = np.where(preds == 'nan', 'neutral', preds) #replace nan\n",
    "        pred_class = np.array([fwd_ret_labels.index(x) for x in preds])        \n",
    "        pred_df[f'{vote}_pred_class'] = pred_class\n",
    "        pred_df[f'{vote}_pred_label'] = preds\n",
    "        if vote == 'soft':\n",
    "            probs = clf.predict_proba(pred_X.iloc[:, :-1])\n",
    "            pred_prob = np.argmax(probs, axis=1)\n",
    "            pred_df[f'{vote}_confidence'] = [x[np.argmax(x)] for x in probs] # higest prob\n",
    "            prob_df = pd.DataFrame(probs, index=pred_df.index, columns=clf.classes_)\n",
    "            pred_df = pd.concat([pred_df, prob_df[fwd_ret_labels]], axis=1)\n",
    "\n",
    "    # store in S3\n",
    "    s3_path = context['s3_path']\n",
    "    s3_df = pred_df.reset_index(drop=False)\n",
    "    rename_col(s3_df, 'index', 'pred_date')\n",
    "    csv_store(s3_df, s3_path, csv_ext.format(tgt_date[0]))\n",
    "            \n",
    "    return pred_df        "
   ]
  },
  {
   "cell_type": "markdown",
   "metadata": {},
   "source": [
    "#### Train"
   ]
  },
  {
   "cell_type": "code",
   "execution_count": 240,
   "metadata": {},
   "outputs": [
    {
     "data": {
      "text/plain": [
       "'120 days, 252 days, 20 days'"
      ]
     },
     "execution_count": 240,
     "metadata": {},
     "output_type": "execute_result"
    }
   ],
   "source": [
    "verbose = context['verbose']\n",
    "ml_path, model_name = context['ml_path'], context['model_name']\n",
    "trained_cols = context['trained_cols']    \n",
    "look_ahead, look_back, smooth_window = context['look_ahead'], context['look_back'], context['smooth_window']\n",
    "f'{look_ahead} days, {look_back} days, {smooth_window} days'"
   ]
  },
  {
   "cell_type": "code",
   "execution_count": 241,
   "metadata": {},
   "outputs": [
    {
     "name": "stdout",
     "output_type": "stream",
     "text": [
      "Sectors: 11, Industries: 135\n"
     ]
    }
   ],
   "source": [
    "joined_df = create_pre_process_ds(context)"
   ]
  },
  {
   "cell_type": "code",
   "execution_count": 242,
   "metadata": {},
   "outputs": [
    {
     "data": {
      "text/plain": [
       "(290632, 29)"
      ]
     },
     "execution_count": 242,
     "metadata": {},
     "output_type": "execute_result"
    }
   ],
   "source": [
    " # drop symbol, select training date range\n",
    "index = joined_df.sort_index().index.unique()[-look_back:]\n",
    "joined_df = joined_df.loc[index, :]\n",
    "joined_df.shape"
   ]
  },
  {
   "cell_type": "code",
   "execution_count": 243,
   "metadata": {},
   "outputs": [],
   "source": [
    "# joined_df.describe().T # make sure data has 0 mean and 1 std, no outliers"
   ]
  },
  {
   "cell_type": "code",
   "execution_count": 244,
   "metadata": {},
   "outputs": [
    {
     "name": "stderr",
     "output_type": "stream",
     "text": [
      "/Users/vveiga/miniconda3/envs/inception/lib/python3.7/site-packages/pandas/core/indexing.py:1494: FutureWarning: \n",
      "Passing list-likes to .loc or [] with any missing label will raise\n",
      "KeyError in the future, you can use .reindex() as an alternative.\n",
      "\n",
      "See the documentation here:\n",
      "https://pandas.pydata.org/pandas-docs/stable/indexing.html#deprecate-loc-reindex-listlike\n",
      "  return self._getitem_tuple(key)\n"
     ]
    }
   ],
   "source": [
    "# calculation of forward returns\n",
    "Y = px_close.loc[:, tickers].pct_change(look_ahead).shift(-look_ahead)\n",
    "# Y = Y.rolling(smooth_window).mean() # smooth by the same length\n",
    "Y = Y[~(Y.isna().all(1))]\n",
    "Y = Y.loc[joined_df.index.unique(), :]"
   ]
  },
  {
   "cell_type": "code",
   "execution_count": 245,
   "metadata": {},
   "outputs": [
    {
     "name": "stdout",
     "output_type": "stream",
     "text": [
      "Y_df.shape (187285, 1)\n"
     ]
    }
   ],
   "source": [
    "# reshapes to include symbol in index in additional to date\n",
    "Y_df = Y.loc[joined_df.index.unique().sortlevel()[0], tickers]\n",
    "Y_df = Y_df.stack().to_frame().rename(columns={0: y_col})\n",
    "# somwhat repetitive with steps above but performs faster\n",
    "Y_df.index.set_names(['storeDate', 'symbol'], inplace=True)\n",
    "print('Y_df.shape', Y_df.shape)"
   ]
  },
  {
   "cell_type": "code",
   "execution_count": 246,
   "metadata": {},
   "outputs": [
    {
     "name": "stdout",
     "output_type": "stream",
     "text": [
      "joined_df.shape (290632, 28)\n"
     ]
    }
   ],
   "source": [
    "# re-index processed df on storeDate and symbol to have similar indices\n",
    "joined_df.index.set_names('storeDate', inplace=True)\n",
    "joined_df.set_index(['symbol'], append=True, inplace=True)\n",
    "print('joined_df.shape', joined_df.shape)"
   ]
  },
  {
   "cell_type": "code",
   "execution_count": 247,
   "metadata": {},
   "outputs": [
    {
     "name": "stderr",
     "output_type": "stream",
     "text": [
      "/Users/vveiga/miniconda3/envs/inception/lib/python3.7/site-packages/pandas/core/indexing.py:969: FutureWarning: \n",
      "Passing list-likes to .loc or [] with any missing label will raise\n",
      "KeyError in the future, you can use .reindex() as an alternative.\n",
      "\n",
      "See the documentation here:\n",
      "https://pandas.pydata.org/pandas-docs/stable/indexing.html#deprecate-loc-reindex-listlike\n",
      "  return self._getitem_nested_tuple(tup)\n"
     ]
    }
   ],
   "source": [
    "# add Y values to processed df fast without having to loop\n",
    "joined_df.loc[:, y_col] = Y_df.loc[joined_df.index, y_col]"
   ]
  },
  {
   "cell_type": "code",
   "execution_count": 248,
   "metadata": {},
   "outputs": [],
   "source": [
    "# joined_df.loc[(slice(None), 'AAPL'), y_col].plot() # visualize smoothing\n",
    "# joined_df.groupby('symbol')[y_col].mean().sort_values() # rank long-term mean performance"
   ]
  },
  {
   "cell_type": "code",
   "execution_count": 249,
   "metadata": {},
   "outputs": [
    {
     "name": "stdout",
     "output_type": "stream",
     "text": [
      "joined_df.shape (178657, 29)\n",
      "neutral   0.53\n",
      "bear      0.18\n",
      "short     0.13\n",
      "long      0.09\n",
      "bull      0.06\n",
      "Name: fwdReturn, dtype: float64\n"
     ]
    }
   ],
   "source": [
    "# discretize Y-variable\n",
    "joined_df.dropna(subset=[y_col], inplace=True)\n",
    "joined_df[y_col] = discret_rets(joined_df[y_col], cut_range, fwd_ret_labels)\n",
    "print('joined_df.shape', joined_df.shape)\n",
    "print(sample_wgts(joined_df[y_col]))"
   ]
  },
  {
   "cell_type": "code",
   "execution_count": 250,
   "metadata": {},
   "outputs": [],
   "source": [
    "joined_df.dropna(subset=[y_col], inplace=True)\n",
    "joined_df.loc[:, y_col] = joined_df[y_col].astype(str)"
   ]
  },
  {
   "cell_type": "code",
   "execution_count": 251,
   "metadata": {},
   "outputs": [
    {
     "data": {
      "text/plain": [
       "(178657, 29)"
      ]
     },
     "execution_count": 251,
     "metadata": {},
     "output_type": "execute_result"
    }
   ],
   "source": [
    "# joined_df.loc[(slice(None), 'TAL'), y_col].value_counts() # look at a specific security distribution\n",
    "train_df = joined_df.reset_index(drop=True)\n",
    "train_df.shape"
   ]
  },
  {
   "cell_type": "code",
   "execution_count": 256,
   "metadata": {},
   "outputs": [
    {
     "name": "stdout",
     "output_type": "stream",
     "text": [
      "X_train.shape (142925, 28)\n",
      "X_train columns duplicated? False\n",
      "X_train columns Index(['PctChg1Stds', 'PctMA50', 'PctMA200', 'RollVol30', 'PctChg20',\n",
      "       'PctChg60', 'PctChg120', 'Pct52WkH', 'Pct52WkL', 'rsBench20',\n",
      "       'rsSect20', 'rsBench60', 'rsSect60', 'rsBench120', 'rsSect120',\n",
      "       'benchPctChgStds', 'sectPctChgStds', '^BASI_MATE', '^COMM_SERV',\n",
      "       '^CONS_CYCL', '^CONS_DEFE', '^ENER', '^FINA_SERV', '^HEAL', '^INDU',\n",
      "       '^REAL_ESTA', '^TECH', '^UTIL'],\n",
      "      dtype='object')\n",
      "Saved:  ../ML/eqty_technical_train_cols.npy\n"
     ]
    }
   ],
   "source": [
    "from sklearn.model_selection import StratifiedKFold\n",
    "\n",
    "# create training and test sets\n",
    "X, y = train_df.drop(columns=y_col), train_df[y_col]\n",
    "sss = StratifiedShuffleSplit(n_splits=1, test_size=0.2, random_state=42)\n",
    "for train_index, test_index in sss.split(X, y):\n",
    "    X_train, X_test = X.iloc[train_index], X.iloc[test_index]\n",
    "    y_train, y_test = y.iloc[train_index], y.iloc[test_index]\n",
    "    break # just one split\n",
    "\n",
    "# skf = StratifiedKFold(n_splits=2, random_state=None, shuffle=False)\n",
    "# for train_index, test_index in skf.split(X, y):\n",
    "#     X_train, X_test = X.iloc[train_index], X.iloc[test_index]\n",
    "#     y_train, y_test = y.iloc[train_index], y.iloc[test_index]\n",
    "#     break\n",
    "    \n",
    "np.save(ml_path + trained_cols, X_train.columns) # save feature order\n",
    "print(f'X_train.shape {X_train.shape}')\n",
    "print(f'X_train columns duplicated? {X_train.columns.unique().shape[0] == len(X_train)}')\n",
    "print(f'X_train columns {X_train.columns}')\n",
    "print('Saved: ', ml_path + trained_cols)"
   ]
  },
  {
   "cell_type": "code",
   "execution_count": 257,
   "metadata": {},
   "outputs": [
    {
     "data": {
      "text/plain": [
       "neutral   0.53\n",
       "bear      0.18\n",
       "short     0.13\n",
       "long      0.09\n",
       "bull      0.06\n",
       "Name: fwdReturn, dtype: float64"
      ]
     },
     "execution_count": 257,
     "metadata": {},
     "output_type": "execute_result"
    }
   ],
   "source": [
    "pd.value_counts(y_train) / pd.value_counts(y_train).sum()"
   ]
  },
  {
   "cell_type": "code",
   "execution_count": 262,
   "metadata": {},
   "outputs": [
    {
     "data": {
      "text/plain": [
       "(1120, 224.0)"
      ]
     },
     "execution_count": 262,
     "metadata": {},
     "output_type": "execute_result"
    }
   ],
   "source": [
    "neurons * 20, 1120/5"
   ]
  },
  {
   "cell_type": "code",
   "execution_count": null,
   "metadata": {},
   "outputs": [
    {
     "name": "stdout",
     "output_type": "stream",
     "text": [
      "Iteration 1, loss = 1.13384625\n",
      "Iteration 2, loss = 1.06561626\n",
      "Iteration 3, loss = 1.01168397\n",
      "Iteration 4, loss = 0.95199670\n",
      "Iteration 5, loss = 0.89056608\n",
      "Iteration 6, loss = 0.83278506\n",
      "Iteration 7, loss = 0.77873073\n",
      "Iteration 8, loss = 0.73045109\n",
      "Iteration 9, loss = 0.68751884\n",
      "Iteration 10, loss = 0.64807281\n",
      "Iteration 11, loss = 0.61201143\n",
      "Iteration 12, loss = 0.58306546\n",
      "Iteration 13, loss = 0.55379682\n",
      "Iteration 14, loss = 0.52987813\n",
      "Iteration 15, loss = 0.50741103\n",
      "Iteration 16, loss = 0.48324169\n",
      "Iteration 17, loss = 0.46408237\n",
      "Iteration 18, loss = 0.44770934\n",
      "Iteration 19, loss = 0.43389121\n",
      "Iteration 20, loss = 0.41753941\n",
      "Iteration 21, loss = 0.40158470\n",
      "Iteration 22, loss = 0.38951289\n",
      "Iteration 23, loss = 0.37718018\n",
      "Iteration 24, loss = 0.36517726\n",
      "Iteration 25, loss = 0.35408654\n",
      "Iteration 26, loss = 0.34475443\n",
      "Iteration 27, loss = 0.33190359\n",
      "Iteration 28, loss = 0.32542158\n",
      "Iteration 29, loss = 0.31647291\n",
      "Iteration 30, loss = 0.30748964\n",
      "Iteration 31, loss = 0.30030736\n",
      "Iteration 32, loss = 0.29466667\n",
      "Iteration 33, loss = 0.28380498\n",
      "Iteration 34, loss = 0.28229978\n",
      "Iteration 35, loss = 0.27413840\n",
      "Iteration 36, loss = 0.26721587\n",
      "Iteration 37, loss = 0.26086788\n",
      "Iteration 38, loss = 0.25366704\n",
      "Iteration 39, loss = 0.24935305\n",
      "Iteration 40, loss = 0.24558439\n",
      "Iteration 41, loss = 0.24101641\n",
      "Iteration 42, loss = 0.23775865\n",
      "Iteration 43, loss = 0.22968411\n"
     ]
    }
   ],
   "source": [
    "# MLPClassifier\n",
    "neurons = X_train.shape[1] * 8\n",
    "mlp_params = {\n",
    "    'solver': 'adam', 'max_iter': 100, #reduced from 600 for testing\n",
    "    'hidden_layer_sizes': (\n",
    "        neurons, neurons, neurons, neurons, neurons),\n",
    "    'n_iter_no_change': 10, 'verbose': True, 'random_state': None, }\n",
    "clf2 = MLPClassifier(**mlp_params)\n",
    "clf2.fit(X_train, y_train)\n",
    "print(f'Train {clf2.score(X_train, y_train)}, Test {clf2.score(X_test, y_test)}')"
   ]
  },
  {
   "cell_type": "code",
   "execution_count": null,
   "metadata": {},
   "outputs": [],
   "source": []
  },
  {
   "cell_type": "code",
   "execution_count": null,
   "metadata": {},
   "outputs": [],
   "source": []
  },
  {
   "cell_type": "code",
   "execution_count": null,
   "metadata": {},
   "outputs": [],
   "source": []
  },
  {
   "cell_type": "code",
   "execution_count": null,
   "metadata": {},
   "outputs": [],
   "source": [
    "!rm {context['tmp_path']}{context['ds_name']}"
   ]
  },
  {
   "cell_type": "code",
   "execution_count": null,
   "metadata": {
    "scrolled": true
   },
   "outputs": [],
   "source": [
    "%time train_ds(context)"
   ]
  },
  {
   "cell_type": "markdown",
   "metadata": {
    "heading_collapsed": true
   },
   "source": [
    "#### Predict"
   ]
  },
  {
   "cell_type": "code",
   "execution_count": null,
   "metadata": {
    "hidden": true
   },
   "outputs": [],
   "source": [
    "(path, _) = context['ml_path']\n",
    "!ls -lh ./{path}/"
   ]
  },
  {
   "cell_type": "code",
   "execution_count": null,
   "metadata": {
    "hidden": true,
    "scrolled": true
   },
   "outputs": [],
   "source": [
    "# predict for all\n",
    "context['tickers'] = eqty_symbols[:50]\n",
    "%time pred_df = predict_ds(context)"
   ]
  },
  {
   "cell_type": "markdown",
   "metadata": {},
   "source": [
    "#### Store / Read S3"
   ]
  },
  {
   "cell_type": "code",
   "execution_count": 16,
   "metadata": {},
   "outputs": [
    {
     "data": {
      "text/plain": [
       "'2019-04-02'"
      ]
     },
     "execution_count": 16,
     "metadata": {},
     "output_type": "execute_result"
    }
   ],
   "source": [
    "s3_path = context['s3_path']\n",
    "storeDate = dates[-1]\n",
    "storeDate"
   ]
  },
  {
   "cell_type": "code",
   "execution_count": 20,
   "metadata": {},
   "outputs": [],
   "source": [
    "# read from S3\n",
    "pred_df = pd.read_csv(\n",
    "    csv_load(f'{s3_path}{storeDate}'), \n",
    "    index_col='pred_date', parse_dates=True)"
   ]
  },
  {
   "cell_type": "code",
   "execution_count": null,
   "metadata": {},
   "outputs": [],
   "source": [
    "# store in S3\n",
    "s3_df = pred_df.reset_index(drop=False)\n",
    "rename_col(s3_df, 'index', 'pred_date')\n",
    "csv_store(s3_df, s3_path, csv_ext.format(storeDate))"
   ]
  },
  {
   "cell_type": "markdown",
   "metadata": {},
   "source": [
    "#### Visualize"
   ]
  },
  {
   "cell_type": "code",
   "execution_count": 21,
   "metadata": {},
   "outputs": [
    {
     "data": {
      "text/plain": [
       "bull       481\n",
       "long       232\n",
       "bear        99\n",
       "short       63\n",
       "neutral     13\n",
       "Name: soft_pred_label, dtype: int64"
      ]
     },
     "execution_count": 21,
     "metadata": {},
     "output_type": "execute_result"
    }
   ],
   "source": [
    "# recommendation distribution\n",
    "pd.value_counts(pred_df.loc[pred_df.hard_pred_label == pred_df.soft_pred_label].soft_pred_label)"
   ]
  },
  {
   "cell_type": "code",
   "execution_count": null,
   "metadata": {},
   "outputs": [],
   "source": [
    "# top 3 picks by label\n",
    "mask = pred_df.hard_pred_label == pred_df.soft_pred_label\n",
    "agree_df = pred_df.loc[mask].drop_duplicates()\n",
    "# should add sector and industries, group for allocation insights\n",
    "# should add marketcap, beta, etc, group for risk exposure insights\n",
    "label_mask = agree_df.soft_pred_label.isin(['bear', 'short', 'long', 'bull'])\n",
    "agree_df.loc[label_mask]\\\n",
    "    .sort_values(by='soft_confidence', ascending=False)\\\n",
    "    .groupby(by='soft_pred_label').head(5)\\\n",
    "    .sort_values(by='soft_pred_label')"
   ]
  },
  {
   "cell_type": "code",
   "execution_count": null,
   "metadata": {},
   "outputs": [],
   "source": [
    "pred_df.loc[pred_df.symbol == 'BIIB',:]"
   ]
  },
  {
   "cell_type": "markdown",
   "metadata": {},
   "source": [
    "### Other experimentation"
   ]
  },
  {
   "cell_type": "code",
   "execution_count": 382,
   "metadata": {},
   "outputs": [
    {
     "data": {
      "text/plain": [
       "<matplotlib.axes._subplots.AxesSubplot at 0x14a98ea58>"
      ]
     },
     "execution_count": 382,
     "metadata": {},
     "output_type": "execute_result"
    },
    {
     "data": {
      "image/png": "[encoded data removed]",
      "text/plain": [
       "<Figure size 432x288 with 1 Axes>"
      ]
     },
     "metadata": {
      "needs_background": "light"
     },
     "output_type": "display_data"
    }
   ],
   "source": [
    "# Average increase and decrease over a give time period\n",
    "prices = px_close.dropna(subset=['^GSPC'])[tickers]\n",
    "excl_tickers = list(prices.iloc[-1].isna().loc[prices.iloc[-1].isna().values].index)\n",
    "prices = prices[excl(prices.columns, excl_tickers)]\n",
    "look_back = 252\n",
    "prices.pct_change(look_back).where(prices.pct_change(look_back) > 0).mean(1).plot()\n",
    "prices.pct_change(look_back).where(prices.pct_change(look_back) < 0).mean(1).plot()"
   ]
  },
  {
   "cell_type": "code",
   "execution_count": 388,
   "metadata": {},
   "outputs": [
    {
     "data": {
      "text/plain": [
       "(-inf,\n",
       " -0.1765727996826172,\n",
       " -0.10733877867460251,\n",
       " 0.14041641354560852,\n",
       " 0.2519582509994507,\n",
       " inf)"
      ]
     },
     "execution_count": 388,
     "metadata": {},
     "output_type": "execute_result"
    }
   ],
   "source": [
    "get_return_intervals(prices, 120, tresholds=[0.25, 0.75])"
   ]
  },
  {
   "cell_type": "markdown",
   "metadata": {},
   "source": [
    "#### Date and minute based time analysis"
   ]
  },
  {
   "cell_type": "code",
   "execution_count": null,
   "metadata": {},
   "outputs": [],
   "source": [
    "freq = '1d'"
   ]
  },
  {
   "cell_type": "code",
   "execution_count": null,
   "metadata": {},
   "outputs": [],
   "source": [
    "# s1, s2 = '1810.HK', 'AAPL'\n",
    "group_pricing = pd.DataFrame()\n",
    "df1 = get_symbol_pricing(s1, freq, ['close'])\n",
    "df2 = get_symbol_pricing(s2, freq, ['close'])\n",
    "group_pricing = pd.DataFrame(df1)\n",
    "# group_pricing.loc[:, s2] = df2\n",
    "group_pricing = pd.concat([group_pricing, df2], axis=1)\n",
    "group_pricing.describe()\n",
    "# group_pricing"
   ]
  },
  {
   "cell_type": "code",
   "execution_count": null,
   "metadata": {},
   "outputs": [],
   "source": [
    "path = config['pricing_path'].format(freq)\n",
    "data_dict = json_load(path + json_ext.format(ticker))\n",
    "\n",
    "tz = data_dict['meta']['exchangeTimezoneName']\n",
    "df = build_px_struct(data_dict, freq)\n",
    "\n",
    "adjClose = data_dict['indicators']['adjclose'][0] if 'adjclose' in  data_dict['indicators'] else 0\n",
    "close = data_dict['indicators']['quote'][0]\n",
    "data_dict.keys(), data_dict['indicators'].keys()"
   ]
  },
  {
   "cell_type": "code",
   "execution_count": null,
   "metadata": {},
   "outputs": [],
   "source": [
    "df.index.date"
   ]
  },
  {
   "cell_type": "code",
   "execution_count": null,
   "metadata": {},
   "outputs": [],
   "source": [
    "dates = pd.to_datetime(\n",
    "        data_dict['timestamp'], \n",
    "        unit='s', infer_datetime_format=True)\n",
    "# dates = dates.astype(f'datetime64[ns, {tz}]')\n",
    "# dates.tz_convert('America/New_York')\n",
    "# dates = dates.tz_localize('America/New_York')\n",
    "dates.floor('d' if freq == '1d' else 'min')"
   ]
  },
  {
   "cell_type": "code",
   "execution_count": null,
   "metadata": {},
   "outputs": [],
   "source": [
    "df.tail(5)"
   ]
  },
  {
   "cell_type": "code",
   "execution_count": null,
   "metadata": {},
   "outputs": [],
   "source": [
    "freq = '1d'"
   ]
  },
  {
   "cell_type": "code",
   "execution_count": null,
   "metadata": {},
   "outputs": [],
   "source": [
    "%time px_close = get_mults_pricing(symbols_list[:10], freq);"
   ]
  },
  {
   "cell_type": "code",
   "execution_count": null,
   "metadata": {},
   "outputs": [],
   "source": [
    "# [px_close[x].dropna().tail() for x in px_close.columns]\n",
    "px_close.describe()\n",
    "# px_close.tail()"
   ]
  },
  {
   "cell_type": "code",
   "execution_count": null,
   "metadata": {},
   "outputs": [],
   "source": [
    "f'Ticker: {ticker}'"
   ]
  },
  {
   "cell_type": "code",
   "execution_count": null,
   "metadata": {},
   "outputs": [],
   "source": [
    "px = get_symbol_pricing(ticker, freq)\n",
    "px.close.tail()"
   ]
  },
  {
   "cell_type": "markdown",
   "metadata": {
    "heading_collapsed": true
   },
   "source": [
    "#### Old code"
   ]
  },
  {
   "cell_type": "code",
   "execution_count": null,
   "metadata": {
    "hidden": true
   },
   "outputs": [],
   "source": [
    "# test distribution of Y variable\n",
    "tickers = list(mu.sample_sector_tickers(eqty_symbols, profile, sectors, 50).index)\n",
    "context['grid_search'] = False\n",
    "context['tickers'] = tickers\n",
    "context['train_model'] = True\n",
    "\n",
    "df_large = create_ds(context)\n",
    "\n",
    "df = df_large.copy()\n",
    "df.dropna(subset=[y_col], inplace=True)\n",
    "df[y_col] = discret_rets(df[y_col], cut_range, fwd_ret_labels)\n",
    "df.dropna(subset=[y_col], inplace=True) # no nas in y_col\n",
    "df[y_col] = df[y_col].astype(str) # class as string\n",
    "sample_wgts(df[y_col])\n",
    "\n",
    "pred_X, X_traxin, X_test, y_train, y_test = pre_process_ds(df_large, context)\n",
    "pd.value_counts(discret_rets(df_large.fwdReturn, cut_range, fwd_ret_labels)).sum()\n",
    "pd.value_counts(pd.concat([y_train, y_test], axis=0)).sum()"
   ]
  },
  {
   "cell_type": "code",
   "execution_count": null,
   "metadata": {
    "code_folding": [],
    "hidden": true
   },
   "outputs": [],
   "source": [
    "# Test cumulative drawdowns and pulls\n",
    "n = 100\n",
    "r_w = np.random.randn(n).cumsum() + 100\n",
    "l_dd, h_dd, l_p, h_p = max_draw_pull(r_w)\n",
    "\n",
    "plt.plot(r_w)\n",
    "plt.plot(\n",
    "    [l_dd, h_dd], \n",
    "    [r_w[l_dd], r_w[h_dd],], \n",
    "    'o', color='Red', markersize=10)\n",
    "plt.plot(\n",
    "    [l_p, h_p], \n",
    "    [r_w[l_p], r_w[h_p]], \n",
    "    'o', color='Green', markersize=10)"
   ]
  },
  {
   "cell_type": "code",
   "execution_count": null,
   "metadata": {
    "hidden": true
   },
   "outputs": [],
   "source": [
    "# Retrieves historical pricing\n",
    "secpx = get_symbol_pricing(symbol, freq)\n",
    "secpx.set_index(secpx.index.astype(np.datetime64), inplace=True)"
   ]
  },
  {
   "cell_type": "code",
   "execution_count": null,
   "metadata": {
    "hidden": true
   },
   "outputs": [],
   "source": [
    "fwd_ss_ret = lambda x, df, arr: df.loc[[y for y in arr[x-1] if y in df.index.tolist()]].mean()"
   ]
  },
  {
   "cell_type": "code",
   "execution_count": null,
   "metadata": {
    "hidden": true
   },
   "outputs": [],
   "source": [
    "# seasonality analysis\n",
    "ss_df = closepx.pct_change().resample('M').sum().to_frame()\n",
    "ss_df['year'], ss_df['month'] = ss_df.index.year, ss_df.index.month\n",
    "ss_df = ss_df.pivot_table(index='year', columns='month').mean()\n",
    "ss_pos = [(x, (x+1) if not (x+1) // 12 else 0, \n",
    "     x+2 if not (x+2) // 12 else x - 10) for x in range(12)]\n",
    "\n",
    "# [fwd_ss_ret(x+1, ss_df['close'], ss_pos) for x in range(12)] # test"
   ]
  },
  {
   "cell_type": "code",
   "execution_count": null,
   "metadata": {
    "hidden": true
   },
   "outputs": [],
   "source": [
    "# apply seasonality, mean return of curr month plus next two\n",
    "secpx['month'] = secpx.index.month\n",
    "secpx['fwdSSRet'] = secpx.loc[:].month.apply(\n",
    "    fwd_ss_ret, args=(ss_df['close'], ss_pos,))"
   ]
  },
  {
   "cell_type": "code",
   "execution_count": null,
   "metadata": {
    "hidden": true
   },
   "outputs": [],
   "source": [
    "secpx.columns # all columns"
   ]
  },
  {
   "cell_type": "code",
   "execution_count": null,
   "metadata": {
    "hidden": true
   },
   "outputs": [],
   "source": [
    "# normalized columns for ML training, still has outliers\n",
    "ml_ds_cols = secpx.describe().loc['50%'][secpx.describe().loc['50%'] < 5].index.tolist()\n",
    "ml_ds_cols"
   ]
  },
  {
   "cell_type": "code",
   "execution_count": null,
   "metadata": {
    "hidden": true
   },
   "outputs": [],
   "source": [
    "# prepare ML dataset\n",
    "ml_ds = secpx[ml_ds_cols].copy()\n",
    "\n",
    "class_cols = ['fwdChg1w', 'fwdChg1m', 'fwdChg3m']\n",
    "cut_range = [-1, -0.05, .0, .02, .09, 1.]\n",
    "fwd_ret_labels = [\"bear\", \"short\", \"neutral\", \"long\", \"bull\"]\n",
    "\n",
    "for c in class_cols: ml_ds[c] = pd.cut(secpx[c], cut_range, labels=fwd_ret_labels)\n",
    "ml_ds.info()"
   ]
  },
  {
   "cell_type": "code",
   "execution_count": null,
   "metadata": {
    "hidden": true
   },
   "outputs": [],
   "source": [
    "# drop the predicting class with most nas\n",
    "ml_ds.dropna(inplace=True)\n",
    "ml_ds.info()"
   ]
  },
  {
   "cell_type": "code",
   "execution_count": null,
   "metadata": {
    "hidden": true
   },
   "outputs": [],
   "source": [
    "ml_ds.hist(figsize=(15,15));"
   ]
  },
  {
   "cell_type": "code",
   "execution_count": null,
   "metadata": {
    "hidden": true
   },
   "outputs": [],
   "source": [
    "ml_ds.to_csv(csv_ext.format('co_price_mom_ds'), index=False)"
   ]
  }
 ],
 "metadata": {
  "kernelspec": {
   "display_name": "Python 3",
   "language": "python",
   "name": "python3"
  },
  "language_info": {
   "codemirror_mode": {
    "name": "ipython",
    "version": 3
   },
   "file_extension": ".py",
   "mimetype": "text/x-python",
   "name": "python",
   "nbconvert_exporter": "python",
   "pygments_lexer": "ipython3",
   "version": "3.7.3"
  }
 },
 "nbformat": 4,
 "nbformat_minor": 2
}
