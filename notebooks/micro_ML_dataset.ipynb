{
 "cells": [
  {
   "cell_type": "code",
   "execution_count": 13,
   "metadata": {},
   "outputs": [],
   "source": [
    "# imports\n",
    "%reload_ext autoreload\n",
    "%autoreload 2\n",
    "%matplotlib inline \n",
    "\n",
    "import sys, os\n",
    "import pandas as pd\n",
    "from utils.basic_utils import excl, config\n",
    "from utils.pricing import get_mults_pricing\n",
    "\n",
    "pd.options.display.float_format = '{:,.2f}'.format"
   ]
  },
  {
   "cell_type": "code",
   "execution_count": 14,
   "metadata": {},
   "outputs": [],
   "source": [
    "from sklearn import preprocessing\n",
    "from sklearn.impute import SimpleImputer\n",
    "from sklearn.model_selection import cross_val_score, cross_validate, train_test_split\n",
    "from sklearn.model_selection import GridSearchCV\n",
    "from sklearn.feature_selection import SelectFromModel\n",
    "from sklearn.utils.validation import column_or_1d\n",
    "from sklearn.utils.multiclass import unique_labels\n",
    "from sklearn.metrics import confusion_matrix, classification_report\n",
    "from sklearn.metrics import accuracy_score, log_loss, precision_recall_fscore_support\n",
    "from sklearn.metrics import precision_score, roc_auc_score\n",
    "\n",
    "from sklearn.tree import DecisionTreeClassifier\n",
    "from sklearn.ensemble import AdaBoostClassifier\n",
    "from sklearn.ensemble import RandomForestClassifier\n",
    "from sklearn.ensemble import ExtraTreesClassifier\n",
    "from sklearn.ensemble import GradientBoostingClassifier\n",
    "from sklearn.neural_network import MLPClassifier"
   ]
  },
  {
   "cell_type": "code",
   "execution_count": 15,
   "metadata": {},
   "outputs": [],
   "source": [
    "bench = '^GSPC'\n",
    "sec_windows, stds = [5, 20, 60], 1\n",
    "pred_fwd_windows = [60]\n",
    "inv = incl_px = incl_name = False\n",
    "y_col = 'fwdReturn'"
   ]
  },
  {
   "cell_type": "markdown",
   "metadata": {},
   "source": [
    "### Get universe pricing"
   ]
  },
  {
   "cell_type": "code",
   "execution_count": 16,
   "metadata": {
    "code_folding": [],
    "scrolled": true
   },
   "outputs": [
    {
     "name": "stderr",
     "output_type": "stream",
     "text": [
      "54it [01:48, 22.92s/it]"
     ]
    },
    {
     "name": "stdout",
     "output_type": "stream",
     "text": [
      "Exception, get_mults_pricing: MYL\n",
      "Read timeout on endpoint URL: \"None\"\n"
     ]
    },
    {
     "name": "stderr",
     "output_type": "stream",
     "text": [
      "104it [03:35, 21.10s/it]"
     ]
    },
    {
     "name": "stdout",
     "output_type": "stream",
     "text": [
      "Exception, get_mults_pricing: TSS\n",
      "Read timeout on endpoint URL: \"None\"\n"
     ]
    },
    {
     "name": "stderr",
     "output_type": "stream",
     "text": [
      "464it [07:58, 19.90s/it]"
     ]
    },
    {
     "name": "stdout",
     "output_type": "stream",
     "text": [
      "Exception, get_mults_pricing: SBS\n",
      "Read timeout on endpoint URL: \"None\"\n"
     ]
    },
    {
     "name": "stderr",
     "output_type": "stream",
     "text": [
      "679it [11:24, 20.37s/it]"
     ]
    },
    {
     "name": "stdout",
     "output_type": "stream",
     "text": [
      "Exception, get_mults_pricing: SBNY\n",
      "Read timeout on endpoint URL: \"None\"\n"
     ]
    },
    {
     "name": "stderr",
     "output_type": "stream",
     "text": [
      "1230it [16:23,  1.68it/s]\n"
     ]
    },
    {
     "name": "stdout",
     "output_type": "stream",
     "text": [
      "CPU times: user 2min 48s, sys: 4.84 s, total: 2min 53s\n",
      "Wall time: 18min 19s\n"
     ]
    }
   ],
   "source": [
    "# TAKES ~8m on local drive, 3m on AWS for 1230 companies, do once and persist\n",
    "excl_list = [] # ['BHF', 'ERI']\n",
    "symbols_list = excl(config['companies'], excl_list)\n",
    "%time px_close = get_mults_pricing(symbols_list).drop_duplicates().dropna(subset=['AAPL'])"
   ]
  },
  {
   "cell_type": "code",
   "execution_count": 5,
   "metadata": {},
   "outputs": [],
   "source": [
    "# save down to drive if refresh pricing\n",
    "os.makedirs('tmp', exist_ok=True)\n",
    "px_close.to_parquet('tmp/mult-co-px-ds')"
   ]
  },
  {
   "cell_type": "code",
   "execution_count": 10,
   "metadata": {},
   "outputs": [
    {
     "name": "stdout",
     "output_type": "stream",
     "text": [
      "<class 'pandas.core.frame.DataFrame'>\n",
      "DatetimeIndex: 3776 entries, 2004-03-29 to 2019-03-27\n",
      "Columns: 1230 entries, FR to TM\n",
      "dtypes: float64(1230)\n",
      "memory usage: 35.5 MB\n"
     ]
    }
   ],
   "source": [
    "px_close = pd.read_parquet('tmp/mult-co-px-ds')\n",
    "px_close.info()"
   ]
  },
  {
   "cell_type": "code",
   "execution_count": 10,
   "metadata": {},
   "outputs": [
    {
     "name": "stdout",
     "output_type": "stream",
     "text": [
      "Loading file quote/csv/2019-03-26\n",
      "Loading file summary-categories/assetProfile\n"
     ]
    }
   ],
   "source": [
    "# use the latest saved data for profile and quote info\n",
    "dates = read_dates('quote')\n",
    "tgt_date = [dates[-1]] # last date saved in S3\n",
    "\n",
    "quotes = load_csvs('quote_consol', tgt_date)\n",
    "quotes.set_index('symbol', drop=False, inplace=True)\n",
    "\n",
    "profile = load_csvs('summary_detail', ['assetProfile'])\n",
    "profile.set_index('symbol', drop=False, inplace=True)\n",
    "\n",
    "profile.drop(profile[profile.symbol.isin(excl_list)].index, inplace=True)\n",
    "\n",
    "all_equities = quotes[quotes.quoteType == 'EQUITY'].symbol.unique()\n",
    "print('Delta quote: ', set(symbols_list) - set(all_equities))\n",
    "# reduced subset, if any\n",
    "sub_equities = set(px_close.columns.tolist()).intersection(all_equities)\n",
    "print('Delta reduced set: ', set(symbols_list) - set(sub_equities))\n",
    "\n",
    "eqty_symbols = profile[profile.symbol.isin(sub_equities)].symbol.unique().tolist()\n",
    "delta_symb = set(symbols_list) - set(eqty_symbols)\n",
    "print('Delta profile: ', len(delta_symb), delta_symb)\n",
    "\n",
    "# Create a frame of market, sector and industry index (once)\n",
    "# for relative performance calculations\n",
    "sel_profiles = profile[profile.symbol.isin(all_equities)]\n",
    "sel_profiles.groupby(['sector', 'industry'])[['industry']].count()\n",
    "sectors = sel_profiles.sector.unique()\n",
    "industries = sel_profiles.industry.unique()\n",
    "\n",
    "print(f'Sectors: {sectors.shape[0]}, Industries: {industries.shape[0]}')\n",
    "\n",
    "%%time\n",
    "indices_df = pd.concat([\n",
    "    eq_wgt_indices(profile, px_close, 'sector', sectors, subset=eqty_symbols),\n",
    "    eq_wgt_indices(profile, px_close, 'industry', industries, subset=eqty_symbols),\n",
    "    to_index_form(get_symbol_pricing(bench)['close'], bench)\n",
    "], axis=1).drop_duplicates()"
   ]
  },
  {
   "cell_type": "code",
   "execution_count": null,
   "metadata": {},
   "outputs": [],
   "source": []
  },
  {
   "cell_type": "code",
   "execution_count": 12,
   "metadata": {},
   "outputs": [
    {
     "data": {
      "text/plain": [
       "'Sectors: 11, Industries: 136'"
      ]
     },
     "execution_count": 12,
     "metadata": {},
     "output_type": "execute_result"
    }
   ],
   "source": []
  },
  {
   "cell_type": "code",
   "execution_count": 13,
   "metadata": {},
   "outputs": [
    {
     "name": "stdout",
     "output_type": "stream",
     "text": [
      "CPU times: user 11.1 s, sys: 2.15 s, total: 13.3 s\n",
      "Wall time: 4.24 s\n"
     ]
    }
   ],
   "source": []
  },
  {
   "cell_type": "markdown",
   "metadata": {},
   "source": [
    "### Dataset creation"
   ]
  },
  {
   "cell_type": "code",
   "execution_count": 127,
   "metadata": {},
   "outputs": [],
   "source": [
    "df = get_symbol_pricing('AAPL')\n",
    "ft_df = px_mom_feats(\n",
    "    df['close'], ticker, stds, inv, incl_px, \n",
    "    sec_windows, incl_name)"
   ]
  },
  {
   "cell_type": "code",
   "execution_count": 128,
   "metadata": {},
   "outputs": [],
   "source": [
    "ft_df[y_col] = px_fwd_rets(\n",
    "        df.close, ticker, pred_fwd_windows).mean(axis=1)\n",
    "    \n",
    "co = px_mom_co_feats(\n",
    "    df, indices_df, \n",
    "    [bench] + list(profile.loc[ticker, ['sector', 'industry']]))"
   ]
  },
  {
   "cell_type": "code",
   "execution_count": 129,
   "metadata": {},
   "outputs": [
    {
     "data": {
      "text/plain": [
       "(3656, 16)"
      ]
     },
     "execution_count": 129,
     "metadata": {},
     "output_type": "execute_result"
    }
   ],
   "source": [
    "co.dropna().shape"
   ]
  },
  {
   "cell_type": "code",
   "execution_count": 130,
   "metadata": {},
   "outputs": [
    {
     "data": {
      "text/plain": [
       "(3463, 11)"
      ]
     },
     "execution_count": 130,
     "metadata": {},
     "output_type": "execute_result"
    }
   ],
   "source": [
    "ft_df.dropna().shape"
   ]
  },
  {
   "cell_type": "code",
   "execution_count": 131,
   "metadata": {},
   "outputs": [
    {
     "data": {
      "text/plain": [
       "((3916, 16), (3774, 11))"
      ]
     },
     "execution_count": 131,
     "metadata": {},
     "output_type": "execute_result"
    }
   ],
   "source": [
    "co.shape, ft_df.shape"
   ]
  },
  {
   "cell_type": "code",
   "execution_count": null,
   "metadata": {},
   "outputs": [],
   "source": [
    "px_close[ticker].drop_duplicates()"
   ]
  },
  {
   "cell_type": "code",
   "execution_count": null,
   "metadata": {
    "code_folding": []
   },
   "outputs": [],
   "source": [
    "# Take a while ~40min to run on 1200 companies\n",
    "# Can we make faster?\n",
    "super_list = []\n",
    "for ticker in tqdm(eqty_symbols):\n",
    "    try:\n",
    "        close = px_close[ticker].drop_duplicates()\n",
    "        ft_df = px_mom_feats(\n",
    "            close, ticker, stds, inv, incl_px, \n",
    "            sec_windows, incl_name)\n",
    "        ft_df[y_col] = px_fwd_rets(\n",
    "            close, ticker, pred_fwd_windows).mean(axis=1)\n",
    "        df = get_symbol_pricing(ticker) #full retrieve\n",
    "        co = px_mom_co_feats(\n",
    "            df, indices_df, \n",
    "            [bench] + list(profile.loc[ticker, ['sector', 'industry']]))\n",
    "\n",
    "        ft_df.loc[:, 'country'] = profile.loc[ticker,:].country\n",
    "        ft_df.loc[:, 'currency'] = quotes.loc[ticker,:].currency\n",
    "\n",
    "        ft_df = pd.concat([ft_df.dropna(), co.dropna()], axis=1)\n",
    "        super_list.append(ft_df)\n",
    "    except Exception as e:\n",
    "        print(\"Exception: {0}\\n{1}\".format(ticker, e))\n",
    "df_large = pd.concat(super_list, axis=0)\n",
    "os.makedirs('tmp', exist_ok=True)\n",
    "df_large.to_parquet('tmp/company-px_mom-large')\n",
    "df_large.shape"
   ]
  },
  {
   "cell_type": "code",
   "execution_count": 134,
   "metadata": {},
   "outputs": [
    {
     "data": {
      "text/plain": [
       "(3788726, 29)"
      ]
     },
     "execution_count": 134,
     "metadata": {},
     "output_type": "execute_result"
    }
   ],
   "source": [
    "df_large.shape"
   ]
  },
  {
   "cell_type": "code",
   "execution_count": null,
   "metadata": {},
   "outputs": [],
   "source": [
    "# df_large.drop_duplicates().describe().T\n",
    "# df_large.sort_index().groupby(by=df_large.index).count().mean().sort_values()\n",
    "# df_large.dropna().describe().T"
   ]
  },
  {
   "cell_type": "code",
   "execution_count": 15,
   "metadata": {},
   "outputs": [],
   "source": []
  }
 ],
 "metadata": {
  "kernelspec": {
   "display_name": "Python 3",
   "language": "python",
   "name": "python3"
  },
  "language_info": {
   "codemirror_mode": {
    "name": "ipython",
    "version": 3
   },
   "file_extension": ".py",
   "mimetype": "text/x-python",
   "name": "python",
   "nbconvert_exporter": "python",
   "pygments_lexer": "ipython3",
   "version": "3.7.2"
  }
 },
 "nbformat": 4,
 "nbformat_minor": 2
}
