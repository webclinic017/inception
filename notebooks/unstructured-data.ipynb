{
 "cells": [
  {
   "cell_type": "markdown",
   "metadata": {},
   "source": [
    "### Twitter"
   ]
  },
  {
   "cell_type": "code",
   "execution_count": 1,
   "metadata": {},
   "outputs": [],
   "source": [
    "import pandas as pd\n",
    "import pickle"
   ]
  },
  {
   "cell_type": "code",
   "execution_count": 2,
   "metadata": {},
   "outputs": [],
   "source": [
    "# auth\n",
    "CONSUMER_KEY = 'CgmjFmQd7M0LXeWlH7u3SgnoS'\n",
    "CONSUMER_SECRET = 'Qg94VNKHEysflvd1JOBXTbVc3UiEsIY0pV8Titr55mzn4TERjh'\n",
    "ACCESS_TOKEN = '310273490-rOhArEbc0kuSjBbU2zHErgaCG4Xp9m0E4fDxY5AG'\n",
    "ACCESS_TOKEN_SECRET = 'Ew8IJEhsozmzwW4oxprzdKR4puqJv05vFg8QRrPNtW0X6'"
   ]
  },
  {
   "cell_type": "code",
   "execution_count": 3,
   "metadata": {},
   "outputs": [],
   "source": [
    "import twitter\n",
    "api = twitter.Api(consumer_key=CONSUMER_KEY,\n",
    "                  consumer_secret=CONSUMER_SECRET,\n",
    "                  access_token_key=ACCESS_TOKEN,\n",
    "                  access_token_secret=ACCESS_TOKEN_SECRET, \n",
    "                  sleep_on_rate_limit=True)"
   ]
  },
  {
   "cell_type": "code",
   "execution_count": 4,
   "metadata": {},
   "outputs": [],
   "source": [
    "sn = 'pmarca'\n",
    "# sn = 'vicvveiga'"
   ]
  },
  {
   "cell_type": "code",
   "execution_count": null,
   "metadata": {},
   "outputs": [],
   "source": [
    "user = api.GetUser(screen_name=sn)\n",
    "user.AsDict()"
   ]
  },
  {
   "cell_type": "markdown",
   "metadata": {
    "heading_collapsed": true
   },
   "source": [
    "#### User Lists"
   ]
  },
  {
   "cell_type": "code",
   "execution_count": 15,
   "metadata": {
    "hidden": true
   },
   "outputs": [],
   "source": [
    "lists = api.GetLists(screen_name=sn)"
   ]
  },
  {
   "cell_type": "code",
   "execution_count": 16,
   "metadata": {
    "hidden": true
   },
   "outputs": [
    {
     "data": {
      "text/plain": [
       "[List(ID=1145415139560046592, FullName='@vicvveiga/companies', Slug=companies, User=vicvveiga),\n",
       " List(ID=1145410965875281920, FullName='@vicvveiga/investors', Slug=investors, User=vicvveiga),\n",
       " List(ID=1145215289593749504, FullName='@vicvveiga/philosophy1', Slug=philosophy1, User=vicvveiga),\n",
       " List(ID=1091778760729190400, FullName='@vicvveiga/thinktank', Slug=thinktank, User=vicvveiga),\n",
       " List(ID=1085791937989210112, FullName='@vicvveiga/healthcare1', Slug=healthcare1, User=vicvveiga),\n",
       " List(ID=1069289200028008448, FullName='@vicvveiga/cool', Slug=cool, User=vicvveiga),\n",
       " List(ID=231774228, FullName='@vicvveiga/markets', Slug=markets, User=vicvveiga)]"
      ]
     },
     "execution_count": 16,
     "metadata": {},
     "output_type": "execute_result"
    }
   ],
   "source": [
    "lists"
   ]
  },
  {
   "cell_type": "code",
   "execution_count": null,
   "metadata": {
    "hidden": true
   },
   "outputs": [],
   "source": [
    "list_members = api.GetListMembers(owner_screen_name=sn, slug='finance')"
   ]
  },
  {
   "cell_type": "code",
   "execution_count": 12,
   "metadata": {
    "hidden": true
   },
   "outputs": [
    {
     "data": {
      "text/plain": [
       "[User(ID=971039581406748672, ScreenName=MimeticValue),\n",
       " User(ID=967037960574160896, ScreenName=BickerinBrattle),\n",
       " User(ID=953813070836531200, ScreenName=kylecyuan),\n",
       " User(ID=921950533828599808, ScreenName=BitchyAllocator),\n",
       " User(ID=920415983407308801, ScreenName=BatmanResearch),\n",
       " User(ID=917683048782503937, ScreenName=michaelxpettis),\n",
       " User(ID=880412538625810432, ScreenName=BillAckman),\n",
       " User(ID=861619895485726722, ScreenName=TruthGundlach),\n",
       " User(ID=832150268460544000, ScreenName=NegDiscountRt),\n",
       " User(ID=811217535983034368, ScreenName=heisenbergrpt),\n",
       " User(ID=809823507005710336, ScreenName=CliffordAsness),\n",
       " User(ID=807025762708688898, ScreenName=RodBoydILM),\n",
       " User(ID=804963299196477441, ScreenName=alexbhturnbull),\n",
       " User(ID=792104223869657088, ScreenName=MohnishPabrai),\n",
       " User(ID=771653582969905153, ScreenName=SmellCap),\n",
       " User(ID=755317030572687360, ScreenName=forager_gareth),\n",
       " User(ID=750437909224910849, ScreenName=ElonBachman),\n",
       " User(ID=739836650906341376, ScreenName=UBS_CIO),\n",
       " User(ID=721511493519437828, ScreenName=cheapbeta),\n",
       " User(ID=702732296391102464, ScreenName=TheCharlieton),\n",
       " User(ID=702521357985132544, ScreenName=VickiBryanBondA),\n",
       " User(ID=4825633752, ScreenName=flourishflood),\n",
       " User(ID=4728633040, ScreenName=Connor_Leonard),\n",
       " User(ID=4370201243, ScreenName=spencercwelch),\n",
       " User(ID=4334399352, ScreenName=rodneyatwigram),\n",
       " User(ID=4166728559, ScreenName=cowboyInNY),\n",
       " User(ID=3952810994, ScreenName=Moneygoodcap),\n",
       " User(ID=3918923895, ScreenName=FourFilters),\n",
       " User(ID=3845158767, ScreenName=LONGCONVEXITY),\n",
       " User(ID=3845014336, ScreenName=_inpractise),\n",
       " User(ID=3685020572, ScreenName=YoloCapMgmt),\n",
       " User(ID=3545744123, ScreenName=WhatILearnedTW),\n",
       " User(ID=3424912493, ScreenName=HedgeFundConvos),\n",
       " User(ID=3405606543, ScreenName=AtlasValue),\n",
       " User(ID=3374756020, ScreenName=Sparticuszorro),\n",
       " User(ID=3369190451, ScreenName=greatquarter),\n",
       " User(ID=3368226849, ScreenName=paranoidbull),\n",
       " User(ID=3300085344, ScreenName=WallStCritic),\n",
       " User(ID=3268055755, ScreenName=hchawlah),\n",
       " User(ID=3265325383, ScreenName=MarkHar13514700),\n",
       " User(ID=3195244375, ScreenName=NoonSixCap),\n",
       " User(ID=3108010537, ScreenName=bauhiniacapital),\n",
       " User(ID=3065985377, ScreenName=MAvellaneda55),\n",
       " User(ID=3044346069, ScreenName=StaleyRdCap),\n",
       " User(ID=3043828834, ScreenName=CGrantWSJ),\n",
       " User(ID=2962066077, ScreenName=valueterminal),\n",
       " User(ID=2960231085, ScreenName=nosunkcosts),\n",
       " User(ID=2939007435, ScreenName=HayekAndKeynes),\n",
       " User(ID=2937899202, ScreenName=MichalakisCon),\n",
       " User(ID=2921693505, ScreenName=Markowhich),\n",
       " User(ID=2916901280, ScreenName=NuitSeraCalme),\n",
       " User(ID=2874025491, ScreenName=FavorableCarry),\n",
       " User(ID=2866563598, ScreenName=suhailrizvi),\n",
       " User(ID=2821594916, ScreenName=deuxetvingt),\n",
       " User(ID=2803822165, ScreenName=DonutShorts),\n",
       " User(ID=2797483224, ScreenName=markbartontv),\n",
       " User(ID=2759322792, ScreenName=goldencaskcap),\n",
       " User(ID=2617926402, ScreenName=trevornoren),\n",
       " User(ID=2599189288, ScreenName=WGoetzmann),\n",
       " User(ID=2579127882, ScreenName=rebeccaludavis),\n",
       " User(ID=2577484027, ScreenName=AdvInCap),\n",
       " User(ID=2525906341, ScreenName=BluegrassCap),\n",
       " User(ID=2471879203, ScreenName=Fritz844),\n",
       " User(ID=2426574114, ScreenName=ActivistShorts),\n",
       " User(ID=2418200417, ScreenName=_dsyl),\n",
       " User(ID=2413820364, ScreenName=ScouseView),\n",
       " User(ID=2385645050, ScreenName=JakeCahan),\n",
       " User(ID=2375889213, ScreenName=bradklyons),\n",
       " User(ID=2361631088, ScreenName=CathieDWood),\n",
       " User(ID=2356714968, ScreenName=HyunSongShin),\n",
       " User(ID=2306054896, ScreenName=June_Street),\n",
       " User(ID=2292996744, ScreenName=CravenPartners),\n",
       " User(ID=2281005510, ScreenName=garybasin),\n",
       " User(ID=2263851511, ScreenName=jfc_3_),\n",
       " User(ID=2177224099, ScreenName=FatTailCapital),\n",
       " User(ID=2151247592, ScreenName=BrattleStCap),\n",
       " User(ID=1979540228, ScreenName=mjf2564),\n",
       " User(ID=1972898293, ScreenName=Coffeeisforclo1),\n",
       " User(ID=1967275506, ScreenName=JohnArnoldFndtn),\n",
       " User(ID=1961333743, ScreenName=WallStCynic),\n",
       " User(ID=1950476353, ScreenName=acrossthecurve),\n",
       " User(ID=1944585612, ScreenName=krscapital),\n",
       " User(ID=1929600979, ScreenName=AIMhonesty),\n",
       " User(ID=1926698492, ScreenName=macrocredit),\n",
       " User(ID=1908078548, ScreenName=HandlerRich),\n",
       " User(ID=1889263531, ScreenName=_MBender),\n",
       " User(ID=1839307770, ScreenName=victoriouscake),\n",
       " User(ID=1731901356, ScreenName=TenYearNote),\n",
       " User(ID=1658572099, ScreenName=B3_MillerValue),\n",
       " User(ID=1647573157, ScreenName=JavierBlas),\n",
       " User(ID=1631140573, ScreenName=SIRF_Report),\n",
       " User(ID=1615557272, ScreenName=EpsilonTheory),\n",
       " User(ID=1600987352, ScreenName=RamyElitzur),\n",
       " User(ID=1576052886, ScreenName=agurevich23),\n",
       " User(ID=1565751108, ScreenName=craigbuj),\n",
       " User(ID=1551265794, ScreenName=Donn_Vickrey),\n",
       " User(ID=1547424528, ScreenName=PrometheusAM),\n",
       " User(ID=1534167900, ScreenName=Carl_C_Icahn),\n",
       " User(ID=1528558014, ScreenName=patrick_oshag),\n",
       " User(ID=1484632920, ScreenName=LadyFOHF),\n",
       " User(ID=1473023792, ScreenName=EdBorgato),\n",
       " User(ID=1413027896, ScreenName=charliebilello),\n",
       " User(ID=1410469838, ScreenName=JoeMysak),\n",
       " User(ID=1399432274, ScreenName=xvrmdf),\n",
       " User(ID=1397481372, ScreenName=RemcoLenterman),\n",
       " User(ID=1369183346, ScreenName=billtbowler),\n",
       " User(ID=1354482727, ScreenName=AmberChoudhury),\n",
       " User(ID=1329243757, ScreenName=sobata416),\n",
       " User(ID=1327359720, ScreenName=lisaabramowicz1),\n",
       " User(ID=1262711371, ScreenName=jordanbrianl),\n",
       " User(ID=1222617536, ScreenName=HFBondsTrader),\n",
       " User(ID=1219579814, ScreenName=JamesSurowiecki),\n",
       " User(ID=1206239276, ScreenName=mattleising),\n",
       " User(ID=1179383574, ScreenName=MESandbu),\n",
       " User(ID=1157373200, ScreenName=TheSkeptic21),\n",
       " User(ID=1096658581, ScreenName=zatapatique),\n",
       " User(ID=1086538034, ScreenName=BankersUmbrella),\n",
       " User(ID=1084678801, ScreenName=ek_obrien),\n",
       " User(ID=1071280946, ScreenName=BJ_Southerner),\n",
       " User(ID=1064537490, ScreenName=NKondratiev),\n",
       " User(ID=1061092867, ScreenName=svrnco),\n",
       " User(ID=1056906122, ScreenName=streetwiseprof),\n",
       " User(ID=1015241814, ScreenName=FerroTV),\n",
       " User(ID=968433792, ScreenName=IyerC),\n",
       " User(ID=961797541, ScreenName=activiststocks),\n",
       " User(ID=961721755, ScreenName=BlandDexter),\n",
       " User(ID=961132338, ScreenName=M_C_Klein),\n",
       " User(ID=936079812, ScreenName=Copernicus2013),\n",
       " User(ID=930541790, ScreenName=Eurofaultlines),\n",
       " User(ID=907213880, ScreenName=KatiaPorzo),\n",
       " User(ID=898301664, ScreenName=michaelsantoli),\n",
       " User(ID=886996418, ScreenName=SueChangMW),\n",
       " User(ID=869323788, ScreenName=harfangcap),\n",
       " User(ID=820534716, ScreenName=JohnHuber72),\n",
       " User(ID=803172566, ScreenName=VicNiederhoffer),\n",
       " User(ID=743480310, ScreenName=davidmillhouse3),\n",
       " User(ID=725856415, ScreenName=tomashirstecon),\n",
       " User(ID=709905230, ScreenName=NeckarValue),\n",
       " User(ID=705843668, ScreenName=CrookedCapital),\n",
       " User(ID=705706292, ScreenName=rebeccaballhaus),\n",
       " User(ID=702585281, ScreenName=LibertyRPF),\n",
       " User(ID=633238141, ScreenName=mjmauboussin),\n",
       " User(ID=632456252, ScreenName=ArchMcClure),\n",
       " User(ID=631396062, ScreenName=ApexHurley),\n",
       " User(ID=624852565, ScreenName=ArbCowboy),\n",
       " User(ID=619993559, ScreenName=Peter_Atwater),\n",
       " User(ID=596872866, ScreenName=djtgallagher),\n",
       " User(ID=595144967, ScreenName=ChrisWeston_IG),\n",
       " User(ID=593715538, ScreenName=Meth_Klarman),\n",
       " User(ID=582473979, ScreenName=n_gough),\n",
       " User(ID=576436187, ScreenName=CarolineYLChen),\n",
       " User(ID=569167691, ScreenName=YapCW),\n",
       " User(ID=566637308, ScreenName=auaurelija),\n",
       " User(ID=563146131, ScreenName=S_Mikhailovich),\n",
       " User(ID=552326867, ScreenName=Emory_R),\n",
       " User(ID=546187717, ScreenName=BasonAsset),\n",
       " User(ID=545618101, ScreenName=Lee_AHY),\n",
       " User(ID=541253226, ScreenName=jackschwager),\n",
       " User(ID=533834768, ScreenName=petesweeneypro),\n",
       " User(ID=497262990, ScreenName=jchatterleyCNN),\n",
       " User(ID=496997835, ScreenName=DavidInglesTV),\n",
       " User(ID=481685184, ScreenName=mcaseyjr),\n",
       " User(ID=479928568, ScreenName=RufusPeabody),\n",
       " User(ID=478622315, ScreenName=Mingtiandi),\n",
       " User(ID=473451684, ScreenName=NickatFP),\n",
       " User(ID=466718156, ScreenName=DiegoZuluagaL),\n",
       " User(ID=459708890, ScreenName=Wexboy_Value),\n",
       " User(ID=453050514, ScreenName=ViviNevo),\n",
       " User(ID=446160487, ScreenName=Darlington_Dick),\n",
       " User(ID=432178298, ScreenName=StephenJoske),\n",
       " User(ID=423769635, ScreenName=SoberLook),\n",
       " User(ID=423274783, ScreenName=bbki2611),\n",
       " User(ID=419080766, ScreenName=IveBeenHad),\n",
       " User(ID=411034263, ScreenName=AZ_Value),\n",
       " User(ID=407231524, ScreenName=LinnaneCiara),\n",
       " User(ID=404163798, ScreenName=toby_n),\n",
       " User(ID=403657856, ScreenName=ToddWenning),\n",
       " User(ID=395568341, ScreenName=mcdonaldsarahj),\n",
       " User(ID=383207452, ScreenName=MattGoldstein26),\n",
       " User(ID=381318163, ScreenName=lauraliuhe),\n",
       " User(ID=374047963, ScreenName=KevinKingsbury),\n",
       " User(ID=369315927, ScreenName=JohnPGavin),\n",
       " User(ID=368395972, ScreenName=csooran),\n",
       " User(ID=367237250, ScreenName=crowdturtle),\n",
       " User(ID=367105503, ScreenName=Psclfrst),\n",
       " User(ID=362725041, ScreenName=NonGaap),\n",
       " User(ID=361984022, ScreenName=sveaherbst),\n",
       " User(ID=361847288, ScreenName=SardonicaX),\n",
       " User(ID=361194587, ScreenName=EMInvestment),\n",
       " User(ID=358482230, ScreenName=FCFYield),\n",
       " User(ID=355866075, ScreenName=modestproposal1),\n",
       " User(ID=352595592, ScreenName=ArashMassoudi),\n",
       " User(ID=348961527, ScreenName=_Financeguy),\n",
       " User(ID=344764478, ScreenName=cabaum1),\n",
       " User(ID=342251338, ScreenName=SkeleCap),\n",
       " User(ID=340387261, ScreenName=GavinSBaker),\n",
       " User(ID=335728282, ScreenName=ShaneOliverAMP),\n",
       " User(ID=325100194, ScreenName=wisnefski),\n",
       " User(ID=322602539, ScreenName=DanielAlpert),\n",
       " User(ID=319102548, ScreenName=fundiescapital),\n",
       " User(ID=318171818, ScreenName=polar_cap),\n",
       " User(ID=313381067, ScreenName=lloydblankfein),\n",
       " User(ID=312266530, ScreenName=PatrickMcGee_),\n",
       " User(ID=308482643, ScreenName=tbiesheuvel),\n",
       " User(ID=308105256, ScreenName=jefmacrostrat),\n",
       " User(ID=306023626, ScreenName=TheCreditBubble),\n",
       " User(ID=304269782, ScreenName=powers_chris),\n",
       " User(ID=294063974, ScreenName=apark_),\n",
       " User(ID=289485255, ScreenName=EmanuelDerman),\n",
       " User(ID=288980311, ScreenName=ReutersJamie),\n",
       " User(ID=287816744, ScreenName=Suitpossum),\n",
       " User(ID=284278132, ScreenName=morganhousel),\n",
       " User(ID=281247721, ScreenName=Skrisiloff),\n",
       " User(ID=278652795, ScreenName=ZekeFaux),\n",
       " User(ID=277485258, ScreenName=profLind),\n",
       " User(ID=273620059, ScreenName=justinaknope),\n",
       " User(ID=272696832, ScreenName=bennpeifert),\n",
       " User(ID=269399083, ScreenName=jotted),\n",
       " User(ID=267485701, ScreenName=AriannaSimpson),\n",
       " User(ID=267418268, ScreenName=HardcoreValue),\n",
       " User(ID=267317705, ScreenName=adoxen),\n",
       " User(ID=266046571, ScreenName=jonsticha),\n",
       " User(ID=261705971, ScreenName=SuperMugatu),\n",
       " User(ID=258374854, ScreenName=dbcurren),\n",
       " User(ID=247564142, ScreenName=johnthornhillft),\n",
       " User(ID=245721011, ScreenName=LAX_Vol),\n",
       " User(ID=245717432, ScreenName=3rdMoment),\n",
       " User(ID=245581702, ScreenName=alphaarchitect),\n",
       " User(ID=244602804, ScreenName=barnejek),\n",
       " User(ID=243331655, ScreenName=JonMarino),\n",
       " User(ID=233998905, ScreenName=_SidVerma),\n",
       " User(ID=233913342, ScreenName=davidfickling),\n",
       " User(ID=232743364, ScreenName=Vconomics),\n",
       " User(ID=232437461, ScreenName=bobdavis187),\n",
       " User(ID=232120274, ScreenName=Jesse_Livermore),\n",
       " User(ID=231123745, ScreenName=mercenaryjack),\n",
       " User(ID=227762803, ScreenName=RyanPKirlin),\n",
       " User(ID=218718269, ScreenName=TonyNashOnAsia),\n",
       " User(ID=217758017, ScreenName=b_judah),\n",
       " User(ID=211881526, ScreenName=agthreesixty),\n",
       " User(ID=200879177, ScreenName=dreaderman),\n",
       " User(ID=198700618, ScreenName=gsignoret),\n",
       " User(ID=197869772, ScreenName=IvanTheK),\n",
       " User(ID=195945432, ScreenName=wagonomics),\n",
       " User(ID=195305159, ScreenName=qtwebb),\n",
       " User(ID=193590927, ScreenName=walt373),\n",
       " User(ID=193466320, ScreenName=KatyBurne),\n",
       " User(ID=189937269, ScreenName=Valuetrap13),\n",
       " User(ID=189349473, ScreenName=lcmcd17),\n",
       " User(ID=188829085, ScreenName=liamdenning),\n",
       " User(ID=188343397, ScreenName=SallyPancakes),\n",
       " User(ID=183279521, ScreenName=ScottMinerd),\n",
       " User(ID=182642157, ScreenName=DavidSchawel),\n",
       " User(ID=180383468, ScreenName=rmathus),\n",
       " User(ID=177585732, ScreenName=BamaTrader),\n",
       " User(ID=172431265, ScreenName=midtownmusings),\n",
       " User(ID=168679374, ScreenName=muddywatersre),\n",
       " User(ID=166131787, ScreenName=cr_harper),\n",
       " User(ID=165721692, ScreenName=JoshTANoble),\n",
       " User(ID=160924991, ScreenName=jsadinolfi),\n",
       " User(ID=158070493, ScreenName=davidgaffen),\n",
       " User(ID=152830420, ScreenName=henryellenbogen),\n",
       " User(ID=146172499, ScreenName=andykessler),\n",
       " User(ID=140912249, ScreenName=davidfaber),\n",
       " User(ID=140804291, ScreenName=5_min_macro),\n",
       " User(ID=139229024, ScreenName=TBPInvictus),\n",
       " User(ID=138717046, ScreenName=BrunoBrussels),\n",
       " User(ID=136599286, ScreenName=2joshis),\n",
       " User(ID=134260781, ScreenName=nicholasdunbar),\n",
       " User(ID=132231788, ScreenName=dgardner),\n",
       " User(ID=130289750, ScreenName=MaxNisen),\n",
       " User(ID=128616566, ScreenName=lemasabachthani),\n",
       " User(ID=118331219, ScreenName=versuswhat),\n",
       " User(ID=117899448, ScreenName=ericbeebo),\n",
       " User(ID=114599241, ScreenName=DaveCBenoit),\n",
       " User(ID=112290748, ScreenName=mungerisms),\n",
       " User(ID=112201881, ScreenName=RobinJPowell),\n",
       " User(ID=108598233, ScreenName=DavosDeville),\n",
       " User(ID=108021761, ScreenName=valuewalk),\n",
       " User(ID=106697330, ScreenName=creditplumber),\n",
       " User(ID=103087049, ScreenName=MCaruso_Cabrera),\n",
       " User(ID=100671817, ScreenName=bhatiani),\n",
       " User(ID=100082185, ScreenName=mmkhalifaa),\n",
       " User(ID=99727393, ScreenName=spbaines),\n",
       " User(ID=97982720, ScreenName=longrunreturns),\n",
       " User(ID=97530284, ScreenName=awealthofcs),\n",
       " User(ID=93529573, ScreenName=michaelbatnick),\n",
       " User(ID=91623824, ScreenName=jorge_guajardo),\n",
       " User(ID=89043072, ScreenName=jasonzweigwsj),\n",
       " User(ID=86815217, ScreenName=tessagriffin),\n",
       " User(ID=84950626, ScreenName=orthereaboot),\n",
       " User(ID=81124540, ScreenName=RobertLangreth),\n",
       " User(ID=80282956, ScreenName=hweeann),\n",
       " User(ID=78935044, ScreenName=joshkosman),\n",
       " User(ID=78630619, ScreenName=chriswmayer),\n",
       " User(ID=77846920, ScreenName=ldelevingne),\n",
       " User(ID=74939904, ScreenName=Singlemaltfiend),\n",
       " User(ID=71340937, ScreenName=GZuckerman),\n",
       " User(ID=69620713, ScreenName=markets),\n",
       " User(ID=66975479, ScreenName=bkfViking123),\n",
       " User(ID=63785109, ScreenName=danschlz),\n",
       " User(ID=63222576, ScreenName=flacqua),\n",
       " User(ID=62633125, ScreenName=MylesUdland),\n",
       " User(ID=62624207, ScreenName=scendrowski),\n",
       " User(ID=62603893, ScreenName=RayDalio),\n",
       " User(ID=60555449, ScreenName=simonting),\n",
       " User(ID=57734560, ScreenName=johndstoll),\n",
       " User(ID=57268394, ScreenName=katie_martin_fx),\n",
       " User(ID=57112922, ScreenName=blalpert),\n",
       " User(ID=56347262, ScreenName=saeedamenfx),\n",
       " User(ID=54303382, ScreenName=egfalken),\n",
       " User(ID=54251435, ScreenName=DanBenton),\n",
       " User(ID=53978117, ScreenName=WallStreetBean),\n",
       " User(ID=52491924, ScreenName=teasri),\n",
       " User(ID=51689310, ScreenName=jsblokland),\n",
       " User(ID=51674251, ScreenName=RobinBHarding),\n",
       " User(ID=49931787, ScreenName=dscigliuzzo),\n",
       " User(ID=49230081, ScreenName=l_constable),\n",
       " User(ID=47678782, ScreenName=megtirrell),\n",
       " User(ID=47621568, ScreenName=Brenda_Kelly),\n",
       " User(ID=47346052, ScreenName=raluca3000),\n",
       " User(ID=46165612, ScreenName=devinbanerjee),\n",
       " User(ID=45690518, ScreenName=EquityNYC),\n",
       " User(ID=45334322, ScreenName=BrentBeshore),\n",
       " User(ID=44656218, ScreenName=JeffreyKleintop),\n",
       " User(ID=44540101, ScreenName=svafier),\n",
       " User(ID=43718300, ScreenName=CantechLetter),\n",
       " User(ID=43689317, ScreenName=Phatjet),\n",
       " User(ID=43104553, ScreenName=billsweet),\n",
       " User(ID=42981000, ScreenName=inumanak),\n",
       " User(ID=42632530, ScreenName=marcmakingsense),\n",
       " User(ID=41652821, ScreenName=MarceloPLima),\n",
       " User(ID=41516710, ScreenName=EddyElfenbein),\n",
       " User(ID=41204252, ScreenName=plattsmetals),\n",
       " User(ID=41159876, ScreenName=grossdm),\n",
       " User(ID=40982362, ScreenName=katekelly),\n",
       " User(ID=40149174, ScreenName=louwhiteman),\n",
       " User(ID=39462935, ScreenName=peter_tl),\n",
       " User(ID=38743751, ScreenName=treehcapital),\n",
       " User(ID=37284991, ScreenName=ukarlewitz),\n",
       " User(ID=37065910, ScreenName=Callum_Thomas),\n",
       " User(ID=36667334, ScreenName=camharvey),\n",
       " User(ID=36361027, ScreenName=LaurenLaCapra),\n",
       " User(ID=35499699, ScreenName=ActAccordingly),\n",
       " User(ID=34371118, ScreenName=EliLake),\n",
       " User(ID=34003766, ScreenName=benjaminbland),\n",
       " User(ID=33747430, ScreenName=AlexRubalcava),\n",
       " User(ID=33451842, ScreenName=cnbcSri),\n",
       " User(ID=33216611, ScreenName=AswathDamodaran),\n",
       " User(ID=33104659, ScreenName=farnamstreet),\n",
       " User(ID=31784030, ScreenName=weigu),\n",
       " User(ID=31186367, ScreenName=PlanMaestro),\n",
       " User(ID=30913882, ScreenName=alexfrangos),\n",
       " User(ID=29240701, ScreenName=mister__pink),\n",
       " User(ID=28608146, ScreenName=sovereignfund),\n",
       " User(ID=28602766, ScreenName=HoumanShadab),\n",
       " User(ID=28369153, ScreenName=jposhaughnessy),\n",
       " User(ID=28289402, ScreenName=AaronBack),\n",
       " User(ID=27869848, ScreenName=gusbaratta),\n",
       " User(ID=27551367, ScreenName=EnergyRosen),\n",
       " User(ID=27434900, ScreenName=JohnLeFevre),\n",
       " User(ID=27019150, ScreenName=volatilitysmile),\n",
       " User(ID=26736040, ScreenName=ProfGillis),\n",
       " User(ID=25935274, ScreenName=jon_ip),\n",
       " User(ID=25882361, ScreenName=rjparkerjr09),\n",
       " User(ID=25827743, ScreenName=sspencer_smb),\n",
       " User(ID=25163231, ScreenName=Convertbond),\n",
       " User(ID=24670697, ScreenName=Rauwald),\n",
       " User(ID=24410456, ScreenName=JeffMacke),\n",
       " User(ID=24167567, ScreenName=SantangelReview),\n",
       " User(ID=23777889, ScreenName=sheelahk),\n",
       " User(ID=23291900, ScreenName=DavidTaggart),\n",
       " User(ID=23125257, ScreenName=georgesoros),\n",
       " User(ID=22950439, ScreenName=resthink),\n",
       " User(ID=22631898, ScreenName=adsteel),\n",
       " User(ID=22302444, ScreenName=nicoleusinclair),\n",
       " User(ID=22088714, ScreenName=cullenroche),\n",
       " User(ID=22083639, ScreenName=ThomasHCrown),\n",
       " User(ID=22026851, ScreenName=bondvigilantes),\n",
       " User(ID=21810002, ScreenName=calculatedrisk),\n",
       " User(ID=21455761, ScreenName=eiaine),\n",
       " User(ID=21318780, ScreenName=ryanlampkin),\n",
       " User(ID=21271771, ScreenName=trengriffin),\n",
       " User(ID=21241717, ScreenName=schaudenfraud),\n",
       " User(ID=21090600, ScreenName=psyfitec),\n",
       " User(ID=21071916, ScreenName=BBCLeisha),\n",
       " User(ID=20636215, ScreenName=LongShortTrader),\n",
       " User(ID=20571872, ScreenName=stf18),\n",
       " User(ID=20474624, ScreenName=Ryan_Knutson),\n",
       " User(ID=20367547, ScreenName=naufalsanaullah),\n",
       " User(ID=20209445, ScreenName=Fullcarry),\n",
       " User(ID=20169416, ScreenName=tracyalloway),\n",
       " User(ID=20119344, ScreenName=Greenbackd),\n",
       " User(ID=20067997, ScreenName=AJRummer),\n",
       " User(ID=19997064, ScreenName=MebFaber),\n",
       " User(ID=19847181, ScreenName=novogratz),\n",
       " User(ID=19810715, ScreenName=colinmclean),\n",
       " User(ID=19775788, ScreenName=lopezlinette),\n",
       " User(ID=19764179, ScreenName=hanstung),\n",
       " User(ID=19715003, ScreenName=JoseCanseco),\n",
       " User(ID=19476830, ScreenName=katyawachtel),\n",
       " User(ID=19383099, ScreenName=ChuBailiang),\n",
       " User(ID=19111917, ScreenName=mbusigin),\n",
       " User(ID=18652329, ScreenName=vitaliyk),\n",
       " User(ID=18408384, ScreenName=RonBeaubien),\n",
       " User(ID=18316808, ScreenName=KeyserSozeCFA),\n",
       " User(ID=18300968, ScreenName=pearkes),\n",
       " User(ID=17939123, ScreenName=danielrock),\n",
       " User(ID=17837051, ScreenName=shaneferro),\n",
       " User(ID=17406095, ScreenName=crtrud),\n",
       " User(ID=17402120, ScreenName=anussbaum1),\n",
       " User(ID=17399040, ScreenName=doumenzi),\n",
       " User(ID=17136742, ScreenName=jake_f),\n",
       " User(ID=17060573, ScreenName=ComfortablySmug),\n",
       " User(ID=16825716, ScreenName=MichaelKitces),\n",
       " User(ID=16598957, ScreenName=firstadopter),\n",
       " User(ID=16542638, ScreenName=yaroslav_f),\n",
       " User(ID=16451485, ScreenName=jaredwoodard),\n",
       " User(ID=16410328, ScreenName=Bobrice3),\n",
       " User(ID=16397306, ScreenName=The_Analyst),\n",
       " User(ID=16371383, ScreenName=vader7x),\n",
       " User(ID=16021003, ScreenName=heathterry),\n",
       " User(ID=16013203, ScreenName=OwenPSanderson),\n",
       " User(ID=15880024, ScreenName=ROIChristie),\n",
       " User(ID=15492201, ScreenName=kevinmuir),\n",
       " User(ID=15485461, ScreenName=abnormalreturns),\n",
       " User(ID=15432741, ScreenName=ArthurLevitt),\n",
       " User(ID=15116120, ScreenName=apas),\n",
       " User(ID=15090587, ScreenName=WineRex),\n",
       " User(ID=15003446, ScreenName=John_Hempton),\n",
       " User(ID=14890398, ScreenName=mikedariano),\n",
       " User(ID=14831475, ScreenName=joshchin),\n",
       " User(ID=14697392, ScreenName=tejus_sawjiani),\n",
       " User(ID=14597344, ScreenName=jwangARK),\n",
       " User(ID=14523609, ScreenName=jackycwong),\n",
       " User(ID=14276189, ScreenName=herbgreenberg),\n",
       " User(ID=14230772, ScreenName=matt_levine),\n",
       " User(ID=14173032, ScreenName=marketfolly),\n",
       " User(ID=14133912, ScreenName=ToddSullivan),\n",
       " User(ID=13153002, ScreenName=jtepper2),\n",
       " User(ID=11830332, ScreenName=NewsyNick),\n",
       " User(ID=11687402, ScreenName=totaloncue),\n",
       " User(ID=9505502, ScreenName=sbanjo),\n",
       " User(ID=9089942, ScreenName=m_delamerced),\n",
       " User(ID=6440792, ScreenName=jgriffiths),\n",
       " User(ID=2723411, ScreenName=byrneseyeview),\n",
       " User(ID=1832181, ScreenName=Chris_Ciaccia)]"
      ]
     },
     "execution_count": 12,
     "metadata": {},
     "output_type": "execute_result"
    }
   ],
   "source": [
    "list_members"
   ]
  },
  {
   "cell_type": "markdown",
   "metadata": {
    "heading_collapsed": true
   },
   "source": [
    "#### Get and Follow Friends"
   ]
  },
  {
   "cell_type": "code",
   "execution_count": null,
   "metadata": {
    "hidden": true
   },
   "outputs": [],
   "source": [
    "sn = 'pmarca'"
   ]
  },
  {
   "cell_type": "code",
   "execution_count": 7,
   "metadata": {},
   "outputs": [
    {
     "data": {
      "text/plain": "[4, 5, 6, 6, 2, 4, 1, 2, 3]"
     },
     "execution_count": 7,
     "metadata": {},
     "output_type": "execute_result"
    }
   ],
   "source": [
    "list_a = [1, 2, 3]\n",
    "list_b = [4, 5, 6, 6, 2, 4]\n",
    "list_b.extend(list_a)\n",
    "list_b"
   ]
  },
  {
   "cell_type": "code",
   "execution_count": 90,
   "metadata": {
    "hidden": true
   },
   "outputs": [],
   "source": [
    "iam_following = api.GetFriends()"
   ]
  },
  {
   "cell_type": "code",
   "execution_count": null,
   "metadata": {
    "hidden": true
   },
   "outputs": [],
   "source": [
    "# load my following list\n",
    "# list all files ending with .p\n",
    "# filter the accounts that have already been saved\n",
    "# download the rest"
   ]
  },
  {
   "cell_type": "code",
   "execution_count": 130,
   "metadata": {
    "hidden": true
   },
   "outputs": [
    {
     "data": {
      "text/plain": [
       "(25, 89)"
      ]
     },
     "execution_count": 130,
     "metadata": {},
     "output_type": "execute_result"
    }
   ],
   "source": [
    "# for friends in friends_list: print(f)\n",
    "import os\n",
    "pending_accts = []\n",
    "dl_accts = !ls ../twtr_dl\n",
    "completed_accts = [x.split('_')[0] for x in dl_accts]\n",
    "pending_accts = [u.screen_name for u in iam_following if u.screen_name not in completed_accts]\n",
    "len(completed_accts), len(pending_accts)"
   ]
  },
  {
   "cell_type": "code",
   "execution_count": null,
   "metadata": {
    "hidden": true
   },
   "outputs": [],
   "source": [
    "%%time\n",
    "friends_list = []\n",
    "for u in iam_following:\n",
    "    they_follow = api.GetFriends(screen_name=u.screen_name, cursor=-1, )\n",
    "    print(f'{u.screen_name} follows {len(they_follow)}')\n",
    "    friends_list.append(they_follow)\n",
    "    fname = f'../twtr_dl/{u.screen_name}_following.p'\n",
    "    pickle.dump(they_follow, open(fname, \"wb\" ))\n",
    "    print(f'Saved: {fname}')"
   ]
  },
  {
   "cell_type": "code",
   "execution_count": null,
   "metadata": {
    "hidden": true
   },
   "outputs": [],
   "source": [
    "pickle.dump(friends_following_ids, open(f'friends_following_ids.p', \"wb\" ))"
   ]
  },
  {
   "cell_type": "code",
   "execution_count": 35,
   "metadata": {
    "hidden": true
   },
   "outputs": [
    {
     "name": "stdout",
     "output_type": "stream",
     "text": [
      "CPU times: user 6.47 ms, sys: 1.34 ms, total: 7.8 ms\n",
      "Wall time: 135 ms\n"
     ]
    }
   ],
   "source": [
    "%%time\n",
    "friends = api.GetFriends(screen_name=f'{sn}', total_count=10, include_user_entities=False)"
   ]
  },
  {
   "cell_type": "code",
   "execution_count": null,
   "metadata": {
    "hidden": true
   },
   "outputs": [],
   "source": [
    "# pickle.dump(friends, open(f'{sn}_following.p', \"wb\" ))"
   ]
  },
  {
   "cell_type": "code",
   "execution_count": null,
   "metadata": {
    "hidden": true
   },
   "outputs": [],
   "source": [
    "%%time\n",
    "friends_list = []\n",
    "for f in api.GetFriends(screen_name=f'{sn}', cursor=-1, ):\n",
    "    friends_list.append(f)\n",
    "len(friends_list)"
   ]
  },
  {
   "cell_type": "code",
   "execution_count": 108,
   "metadata": {
    "hidden": true
   },
   "outputs": [],
   "source": [
    "pickle.dump(friends_list, open(f'{sn}_following.p', \"wb\" ))"
   ]
  },
  {
   "cell_type": "code",
   "execution_count": null,
   "metadata": {
    "hidden": true
   },
   "outputs": [],
   "source": [
    "friends_list = pickle.load(open( f'{sn}_following.p', \"rb\" ))"
   ]
  },
  {
   "cell_type": "code",
   "execution_count": null,
   "metadata": {
    "hidden": true
   },
   "outputs": [],
   "source": [
    "u_dict = f.AsDict()\n",
    "u_dict"
   ]
  },
  {
   "cell_type": "code",
   "execution_count": 119,
   "metadata": {
    "hidden": true
   },
   "outputs": [
    {
     "data": {
      "text/plain": [
       "{'screen_name': 'bhorowitz',\n",
       " 'name': 'Ben Horowitz',\n",
       " 'description': \"Author of Ben's Blog (http://t.co/I8TLUV7FBI) and HarperBusiness book, THE HARD THING ABOUT HARD THINGS http://t.co/XzH5oPkOvy\",\n",
       " 'followers_count': 444856,\n",
       " 'friends_count': 328,\n",
       " 'favourites_count': 8302}"
      ]
     },
     "execution_count": 119,
     "metadata": {},
     "output_type": "execute_result"
    }
   ],
   "source": [
    "keys = ['screen_name', 'name', 'description', 'followers_count', 'friends_count', 'favourites_count']\n",
    "{k: u_dict.get(k) for k in keys}"
   ]
  },
  {
   "cell_type": "code",
   "execution_count": 125,
   "metadata": {
    "hidden": true
   },
   "outputs": [],
   "source": [
    "following = []\n",
    "for f in friends_list:    \n",
    "    u_dict = f.AsDict()\n",
    "    following.append({k: u_dict.get(k) for k in keys})"
   ]
  },
  {
   "cell_type": "code",
   "execution_count": 127,
   "metadata": {
    "hidden": true
   },
   "outputs": [],
   "source": [
    "df = pd.DataFrame(following)"
   ]
  },
  {
   "cell_type": "code",
   "execution_count": null,
   "metadata": {
    "hidden": true
   },
   "outputs": [],
   "source": [
    "df.sort_values(by='followers_count', ascending=False)"
   ]
  },
  {
   "cell_type": "code",
   "execution_count": null,
   "metadata": {
    "hidden": true
   },
   "outputs": [],
   "source": [
    "# api.LookupFriendship(screen_name='pmarca')[0].__dict__\n",
    "# api.LookupFriendship(screen_name=sn)[0].connections['following']\n",
    "api.LookupFriendship(screen_name=sn)"
   ]
  },
  {
   "cell_type": "code",
   "execution_count": 74,
   "metadata": {
    "hidden": true
   },
   "outputs": [],
   "source": [
    "for f in friends:\n",
    "    api.CreateFriendship(screen_name=f.screen_name)"
   ]
  },
  {
   "cell_type": "markdown",
   "metadata": {},
   "source": [
    "#### Following analysis"
   ]
  },
  {
   "cell_type": "code",
   "execution_count": 121,
   "metadata": {},
   "outputs": [],
   "source": [
    "twtr_folder = '../twtr_dl/'"
   ]
  },
  {
   "cell_type": "code",
   "execution_count": 122,
   "metadata": {},
   "outputs": [],
   "source": [
    "friends_list = pickle.load(open(f'{twtr_folder}vicvveiga_prefollow.pkl', \"rb\" ))\n",
    "iam_following = [u.screen_name for u in friends_list if u.screen_name]"
   ]
  },
  {
   "cell_type": "code",
   "execution_count": 130,
   "metadata": {},
   "outputs": [
    {
     "name": "stdout",
     "output_type": "stream",
     "text": [
      "['CitronResearch', 'Grimezsz', 'davidgoggins', 'AndyBiotech', 'aubreydegrey', 'lexfridman', 'rogerfederer', 'fchollet', 'mjmauboussin', 'JeffreyLowMD', 'benthompson', 'davemorin', 'lukenosek', 'ldtimmerman', 'rtnarch', 'justGLew', 'ScottNolan', 'traestephens', 'tim', 'kevinhartz', 'velez_david', 'BrendanTKennedy', 'geochurch', 'pdhsu', 'DrKVolz', 'NathanielEDavid', 'cdixon', 'joulee', 'DavidSacks', 'rabois', 'nntaleb', 'benedictevans', 'mcuban', 'bgarlinghouse', 'aantonop', 'JamesClear', 'PTetlock', 'EricTopol', 'patrickc', 'AnnieDuke', 'podcastnotes', 'EricRWeinstein', 'm2jr', 'wolfejosh', 'soumithchintala', 'wintonARK', 'lloydblankfein', 'masason', 'sbarnettARK', 'zarazhangrui', 'Arie_Belldegrun', 'FEhrsam', 'LauraDeming', 'PalmerLuckey', 'fredwilson', 'moskov', 'paulg', 'sapinker', 'stratechery', 'vkhosla', 'ylecun', 'eladgil', 'bgurley', 'bhavanaYarasuri', 'jwangARK', 'msamyARK', 'skorusARK', 'TashaARK', 'finkd', 'kaifulee', 'Chad_Hurley', 'eldsjal', 'leijun', 'ShouZiChew', 'JohnathanIve', 'RobertIger', 'tim_cook', 'BillGates', 'hanstung', 'davidein', 'WarrenBuffett', 'benbernanke', 'LHSummers', 'HowardMarksBook', 'BillAckman', 'JTLonsdale', 'woodhaus2', 'RobertGreene', 'sparker', 'tfadell', 'thielfellowship', 'moritzKBE', 'gdb', 'briansin', 'naval', 'pmarca', 'bhorowitz', 'KenHowery', 'mlevchin', 'karpathy', 'demishassabis', 'travisk', 'TruthGundlach', 'chamath', 'RayDalio', 'sama', 'reedhastings', 'AndrewYNg', 'JeffBezos', 'peterthiel', 'elonmusk', 'foundersfund']\n"
     ]
    }
   ],
   "source": [
    "print(iam_following)"
   ]
  },
  {
   "cell_type": "code",
   "execution_count": 162,
   "metadata": {},
   "outputs": [
    {
     "name": "stdout",
     "output_type": "stream",
     "text": [
      "CitronResearch Citron Research Citron Research has been publishing columns for over 17 years, making it one of the longest-running online stock commentary sources. 117681 184 423\n",
      "Grimezsz ༺GRIM ≡ﾟS༻(⧖) 299 792 458 m/s 841615 1023 2335\n",
      "davidgoggins David Goggins Retired Navy SEAL & Endurance Athlete 169654 0 479\n",
      "AndyBiotech Andy Biotech #Biotech Investor | Recovering Scientist | May have L/S positions in mentioned names | Opinions are strictly my own and not intended as investment advice 47642 733 9954\n",
      "aubreydegrey Aubrey de Grey I'm spearheading the global crusade to defeat aging. CSO of https://t.co/UkXrMNn5Or and VP of New Tech Discovery at https://t.co/LK8KHEnuli 31496 3 850\n"
     ]
    }
   ],
   "source": [
    "sample = friends_list[0]\n",
    "sample.__dict__\n",
    "for u in friends_list[:5]:\n",
    "    print(u.screen_name, u.name, u.description, u.followers_count, u.friends_count, u.statuses_count)"
   ]
  },
  {
   "cell_type": "code",
   "execution_count": 184,
   "metadata": {},
   "outputs": [],
   "source": [
    "tgt_accts = {\n",
    "    'all': iam_following,\n",
    "    'vcs': [\n",
    "        'foundersfund', 'chamath', 'travisk', 'mlevchin', \n",
    "        'KenHowery', 'bhorowitz', 'pmarca', 'sparker', 'hanstung', \n",
    "        'sama', 'bgurley', 'eladgil', 'DavidSacks', 'cdixon', 'ScottNolan', 'lukenosek',\n",
    "        'davemorin', ''\n",
    "        'paulg', 'fredwilson', 'mcuban', 'benedictevans'],\n",
    "    'ark': ['jwangARK', 'msamyARK', 'skorusARK', 'TashaARK', 'sbarnettARK', 'wintonARK', 'CathieDWood'],\n",
    "    'founders': [\n",
    "        'PalmerLuckey',\n",
    "    ],\n",
    "    'healthcare': [\n",
    "        'LauraDeming', 'EricTopol', 'NathanielEDavid', 'DrKVolz', 'rtnarch', \n",
    "        'ldtimmerman', 'JeffreyLowMD', 'AndyBiotech', ''\n",
    "    ],\n",
    "    'crypto':[\n",
    "        'FEhrsam', ''\n",
    "    ],\n",
    "    'finance': [],\n",
    "    'legends': ['bgurley', 'm2jr', 'pmarca', 'bhorowitz', 'cdixon', 'paulg', 'sama', 'rabois', 'davemcclure'],\n",
    "}"
   ]
  },
  {
   "cell_type": "code",
   "execution_count": 237,
   "metadata": {},
   "outputs": [
    {
     "name": "stdout",
     "output_type": "stream",
     "text": [
      "CPU times: user 7.97 s, sys: 5.29 s, total: 13.3 s\n",
      "Wall time: 15.3 s\n"
     ]
    }
   ],
   "source": [
    "%%time\n",
    "screen = 'legends'\n",
    "dl_accts = !ls ../twtr_dl\n",
    "super_following = []\n",
    "for fn in dl_accts:\n",
    "    u = fn.split('_')[0]\n",
    "    if u in tgt_accts[screen]:\n",
    "        following = pickle.load(open(f'{twtr_folder}{fn}', \"rb\" ))\n",
    "        super_following.extend(following)"
   ]
  },
  {
   "cell_type": "code",
   "execution_count": 238,
   "metadata": {},
   "outputs": [
    {
     "name": "stdout",
     "output_type": "stream",
     "text": [
      "49822 accounts\n"
     ]
    }
   ],
   "source": [
    "# super_following\n",
    "print(f'{len(super_following)} accounts')"
   ]
  },
  {
   "cell_type": "markdown",
   "metadata": {},
   "source": [
    "#### Following frequency"
   ]
  },
  {
   "cell_type": "code",
   "execution_count": 247,
   "metadata": {},
   "outputs": [
    {
     "name": "stderr",
     "output_type": "stream",
     "text": [
      "/Users/vveiga/miniconda3/envs/inception/lib/python3.7/site-packages/ipykernel_launcher.py:10: FutureWarning: The signature of `Series.to_csv` was aligned to that of `DataFrame.to_csv`, and argument 'header' will change its default value from False to True: please pass an explicit value to suppress this warning.\n",
      "  # Remove the CWD from sys.path while we load stuff.\n"
     ]
    }
   ],
   "source": [
    "import pandas as pd\n",
    "from collections import Counter\n",
    "cnt = Counter([x.screen_name for x in super_following])\n",
    "df = pd.DataFrame(cnt.most_common(), columns=['account', 'followers'])\n",
    "df.set_index('account', inplace=True)\n",
    "# filter_df = df.loc[df.followers > 2]\n",
    "# filter_df.plot.hist(bins=30)\n",
    "tresh = 0.90\n",
    "filter_df = df.loc[df.followers > int(df.quantile(tresh))]\n",
    "filter_df.reset_index()['account'].to_csv(f'{twtr_folder}follow{tresh}.csv', index=False)"
   ]
  },
  {
   "cell_type": "code",
   "execution_count": null,
   "metadata": {},
   "outputs": [],
   "source": [
    "# ['@'+x for x in list(filter_df.index)]\n",
    "filter_df"
   ]
  },
  {
   "cell_type": "code",
   "execution_count": null,
   "metadata": {},
   "outputs": [],
   "source": [
    "add_members = list(filter_df.index)\n",
    "chunk = 100\n",
    "i = 0\n",
    "for x in range(len(add_members) // chunk):\n",
    "    members = add_members[i:i+chunk]\n",
    "    i += chunk\n",
    "    api.CreateListsMember(slug='beast', owner_screen_name='vicvveiga', screen_name=members)"
   ]
  },
  {
   "cell_type": "code",
   "execution_count": null,
   "metadata": {},
   "outputs": [],
   "source": []
  },
  {
   "cell_type": "code",
   "execution_count": null,
   "metadata": {},
   "outputs": [],
   "source": [
    "pending_accts = [u.screen_name for u in iam_following if u.screen_name not in completed_accts]\n",
    "len(completed_accts), len(pending_accts)"
   ]
  },
  {
   "cell_type": "code",
   "execution_count": null,
   "metadata": {},
   "outputs": [],
   "source": []
  },
  {
   "cell_type": "code",
   "execution_count": null,
   "metadata": {},
   "outputs": [],
   "source": []
  },
  {
   "cell_type": "markdown",
   "metadata": {
    "heading_collapsed": true
   },
   "source": [
    "### Comprenhend"
   ]
  },
  {
   "cell_type": "code",
   "execution_count": null,
   "metadata": {
    "hidden": true
   },
   "outputs": [],
   "source": []
  },
  {
   "cell_type": "markdown",
   "metadata": {},
   "source": [
    "### Text classifier"
   ]
  },
  {
   "cell_type": "code",
   "execution_count": null,
   "metadata": {},
   "outputs": [],
   "source": []
  },
  {
   "cell_type": "markdown",
   "metadata": {},
   "source": [
    "### Wikipedia"
   ]
  },
  {
   "cell_type": "code",
   "execution_count": null,
   "metadata": {},
   "outputs": [],
   "source": []
  }
 ],
 "metadata": {
  "kernelspec": {
   "display_name": "Python (inception)",
   "language": "python",
   "name": "inception"
  },
  "language_info": {
   "codemirror_mode": {
    "name": "ipython",
    "version": 3
   },
   "file_extension": ".py",
   "mimetype": "text/x-python",
   "name": "python",
   "nbconvert_exporter": "python",
   "pygments_lexer": "ipython3",
   "version": "3.7.3"
  }
 },
 "nbformat": 4,
 "nbformat_minor": 2
}