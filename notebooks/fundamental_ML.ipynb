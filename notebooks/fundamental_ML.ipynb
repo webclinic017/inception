{
 "cells": [
  {
   "cell_type": "code",
   "execution_count": 1,
   "metadata": {
    "code_folding": []
   },
   "outputs": [
    {
     "name": "stdout",
     "output_type": "stream",
     "text": [
      "Loading utils/config.json\n"
     ]
    }
   ],
   "source": [
    "# imports\n",
    "%reload_ext autoreload\n",
    "%autoreload 2\n",
    "%matplotlib inline \n",
    "\n",
    "import os\n",
    "from utils.basic_utils import *\n",
    "from utils.pricing import discret_rets, sample_wgts, dummy_col, rename_col\n",
    "from utils.fundamental import pipe_transform_df, chain_divide, chain_scale\n",
    "from utils.fundamental import chain_outlier, chain_post_drop, chain_wide_transform\n",
    "from utils.fundamental import chain_eps_estimates, chain_eps_revisions, chain_rec_trend\n",
    "from utils.fundamental import load_append_ds, get_daily_ts, numeric_cols, filter_cols\n",
    "from utils.ml_utils import show_fi, print_cv_results\n",
    "\n",
    "from sklearn import preprocessing\n",
    "\n",
    "from sklearn.preprocessing import StandardScaler, RobustScaler, MinMaxScaler, MaxAbsScaler\n",
    "from sklearn.impute import SimpleImputer\n",
    "from sklearn.model_selection import StratifiedShuffleSplit\n",
    "from sklearn.model_selection import cross_val_score, cross_validate, train_test_split\n",
    "from sklearn.model_selection import GridSearchCV\n",
    "from sklearn.feature_selection import SelectFromModel\n",
    "from sklearn.utils.validation import column_or_1d\n",
    "from sklearn.utils.multiclass import unique_labels\n",
    "from sklearn.metrics import confusion_matrix, classification_report\n",
    "from sklearn.metrics import accuracy_score, log_loss, precision_recall_fscore_support\n",
    "from sklearn.metrics import precision_score, roc_auc_score\n",
    "\n",
    "from sklearn.neural_network import MLPClassifier\n",
    "from sklearn.ensemble import VotingClassifier\n",
    "from sklearn.ensemble import RandomForestClassifier\n",
    "from sklearn.ensemble import ExtraTreesClassifier\n",
    "from sklearn.externals import joblib\n",
    "\n",
    "pd.options.display.float_format = '{:,.2f}'.format"
   ]
  },
  {
   "cell_type": "code",
   "execution_count": 25,
   "metadata": {},
   "outputs": [],
   "source": [
    "key = 'eps_trend'\n",
    "pre = key.split('_')[0] # append preffix\n",
    "\n",
    "# environment variables\n",
    "cuts = { '1d': [-1, -0.1, -.02, .02, .1, 1.] }\n",
    "cut_range = cuts['1d']\n",
    "fwd_ret_labels = [\"bear\", \"short\", \"neutral\", \"long\", \"bull\"]\n",
    "look_ahead, look_back = 20, 252\n",
    "y_col = 'fwdReturn' + f'{look_ahead}'"
   ]
  },
  {
   "cell_type": "code",
   "execution_count": 18,
   "metadata": {
    "code_folding": [
     0,
     2,
     26,
     38,
     49,
     58,
     71,
     81,
     88,
     95
    ]
   },
   "outputs": [],
   "source": [
    "# feature mapping for different datasets\n",
    "ds_dict = {\n",
    "    'fin_data': {\n",
    "        'path': 'summary-categories/financialData/',\n",
    "        'index': 'storeDate',\n",
    "        'features': [\n",
    "            'numberOfAnalystOpinions', 'currentPrice', 'revenuePerShare', 'totalCashPerShare',\n",
    "            'currentRatio', 'debtToEquity', 'earningsGrowth', 'ebitda', \n",
    "            'ebitdaMargins', 'freeCashflow', 'grossMargins', \n",
    "            'grossProfits', 'operatingCashflow', 'operatingMargins', 'profitMargins', \n",
    "            'quickRatio', 'recommendationMean', \n",
    "            'returnOnAssets', 'returnOnEquity', 'revenueGrowth', \n",
    "            'targetHighPrice', 'targetLowPrice', 'targetMeanPrice', \n",
    "            'targetMedianPrice', 'totalCash', 'totalDebt', 'totalRevenue', \n",
    "#             'financialCurrency', 'recommendationKey',              \n",
    "            'symbol', ],\n",
    "        'scale': [\n",
    "            'freeCashflow', 'operatingCashflow', 'ebitda', \n",
    "            'totalCash', 'totalDebt', 'totalRevenue', 'grossProfits', ],\n",
    "        'divide': ('currentPrice', \n",
    "                   ['revenuePerShare', 'totalCashPerShare', \n",
    "                    'targetLowPrice', 'targetMeanPrice', \n",
    "                    'targetMedianPrice', 'targetHighPrice', ]),\n",
    "        'outlier': 10,\n",
    "        'post_drop': ['numberOfAnalystOpinions'],\n",
    "    },    \n",
    "    'key_statistics': {\n",
    "        'path': 'summary-categories/defaultKeyStatistics/',\n",
    "        'index': 'storeDate',\n",
    "        'features': [\n",
    "            'beta', 'earningsQuarterlyGrowth', \n",
    "            'enterpriseToEbitda', 'enterpriseToRevenue', 'enterpriseValue', 'forwardPE', \n",
    "            'netIncomeToCommon', 'pegRatio', 'priceToBook', 'profitMargins', \n",
    "            'shortPercentOfFloat', 'shortRatio', 'heldPercentInsiders', \n",
    "            'heldPercentInstitutions', 'symbol', ],\n",
    "        'scale': ['enterpriseValue', 'netIncomeToCommon', ],\n",
    "        'outlier': 10, \n",
    "    },\n",
    "    'eps_trend': {\n",
    "        'path': 'summary-categories/epsTrend/',\n",
    "        'index': 'storeDate',\n",
    "        'periods': ['0y', '+1y', '+5y', '-5y'],        \n",
    "        'features': [\n",
    "            'period', 'growth', \n",
    "            'current', '7daysAgo', '30daysAgo', '60daysAgo', '90daysAgo', \n",
    "            'symbol', ],\n",
    "        'pivot_cols': ['growth', 'current', '7daysAgo', '30daysAgo', '60daysAgo', '90daysAgo'],\n",
    "        'outlier': 3,\n",
    "    },\n",
    "    'eps_estimates': {\n",
    "        'path': 'summary-categories/earningsEstimate/',\n",
    "        'index': 'storeDate',\n",
    "        'periods': ['0y', '+1y', '+5y', '-5y'],\n",
    "        'features': [\n",
    "            'period', 'growth', 'avg', 'low', 'high', 'symbol', ],\n",
    "        'pivot_cols': ['growth', 'avg', 'low', 'high'],\n",
    "        'outlier': 6 \n",
    "    },\n",
    "    'day_quote': {\n",
    "        'path': 'quote/csv/',\n",
    "        'index': 'storeDate',\n",
    "        'features': [\n",
    "            'regularMarketChangePercent',\n",
    "            'averageDailyVolume10Day', 'averageDailyVolume3Month', 'regularMarketVolume', \n",
    "            'fiftyDayAverageChangePercent', 'twoHundredDayAverageChangePercent',\n",
    "            'fiftyTwoWeekHighChangePercent', 'fiftyTwoWeekLowChangePercent', \n",
    "            'forwardPE', 'trailingPE', 'priceToBook', 'marketCap', 'symbol', ],\n",
    "        'scale': ['marketCap', ],\n",
    "        'divide': ('regularMarketVolume', ['averageDailyVolume10Day', 'averageDailyVolume3Month']),\n",
    "        'outlier': 10, \n",
    "    },    \n",
    "    'eps_revisions': {\n",
    "        'path': 'summary-categories/epsRevisions/',\n",
    "        'index': 'storeDate',\n",
    "        'periods': ['0y', '+1y', '+5y', '-5y'],\n",
    "        'features': [\n",
    "            'period', 'growth', 'upLast7days', 'upLast30days', 'downLast30days', \n",
    "            'symbol', ],\n",
    "        'pivot_cols': ['growth', 'upLast7days', 'upLast30days', 'downLast30days'],\n",
    "        'outlier': 3, \n",
    "    },\n",
    "    'spy_trend': {\n",
    "        'path': 'summary-categories/indexTrend/',\n",
    "        'index': 'storeDate',\n",
    "        'features': [\n",
    "            '0q', '+1q', '0y', '+1y', '+5y', '-5y', \n",
    "            'peRatio', 'pegRatio', 'symbol', ]\n",
    "    },\n",
    "    'net_purchase': {\n",
    "        'path': 'summary-categories/netSharePurchaseActivity/',\n",
    "        'index': 'storeDate',\n",
    "        'features': [\n",
    "            'netPercentInsiderShares', 'buyPercentInsiderShares', 'sellPercentInsiderShares', \n",
    "            'symbol', ]\n",
    "    },    \n",
    "    'rec_trend': {\n",
    "        'path': 'summary-categories/recommendationTrend/',\n",
    "        'index': 'storeDate',\n",
    "        'periods': ['-1m', '-2m'],\n",
    "        'features': [\n",
    "            'period', 'strongBuy', 'buy', 'hold', 'sell', 'strongSell', \n",
    "            'symbol', ],\n",
    "        'pivot_cols': ['strongBuy', 'buy', 'hold', 'sell', 'strongSell'],\n",
    "        'outlier': 10,\n",
    "    },\n",
    "}"
   ]
  },
  {
   "cell_type": "code",
   "execution_count": 19,
   "metadata": {
    "code_folding": [
     0
    ]
   },
   "outputs": [
    {
     "name": "stdout",
     "output_type": "stream",
     "text": [
      "<class 'pandas.core.frame.DataFrame'>\n",
      "Index: 3774 entries, 2004-04-05 to 2019-04-02\n",
      "Columns: 1230 entries, REG to BGNE\n",
      "dtypes: float64(1230)\n",
      "memory usage: 35.4+ MB\n",
      "None\n",
      "Loading file quote/csv/2019-04-02\n",
      "Loading file summary-categories/assetProfile\n"
     ]
    }
   ],
   "source": [
    "# loads context data\n",
    "symbols_list = config['companies']\n",
    "# px_close = get_mults_pricing(symbols_list)\n",
    "\n",
    "# last saved pricing from local drive\n",
    "px_close = pd.read_parquet('tmp/mult-co-px-ds')\n",
    "px_close.index = px_close.index.date\n",
    "print(px_close.info())\n",
    "\n",
    "Y = px_close.pct_change(look_ahead).shift(-look_ahead)\n",
    "Y = Y[~(Y.isna().all(1))]\n",
    "\n",
    "# use the latest saved data for profile and quote info\n",
    "dates = read_dates('quote')\n",
    "tgt_date = dates[-1:] # last date saved in S3\n",
    "\n",
    "quotes = load_csvs('quote_consol', tgt_date)\n",
    "quotes.set_index('symbol', drop=False, inplace=True)\n",
    "\n",
    "profile = load_csvs('summary_detail', ['assetProfile'])\n",
    "profile.set_index('symbol', drop=False, inplace=True)\n",
    "\n",
    "stacked_px = px_close.stack().to_frame().rename(columns={0: 'close'})\n",
    "stacked_px.index.set_names(['storeDate', 'symbol'], inplace=True)\n",
    "\n",
    "# load analysts recommendation context data\n",
    "# find_data = load_append_ds('fin_data', load_dates, ds_dict, ds_append_path)\n",
    "# find_data.index.name = ds_dict['fin_data']['index']\n",
    "# stacked_anr = find_data.reset_index().set_index(['storeDate', 'symbol']).numberOfAnalystOpinions"
   ]
  },
  {
   "cell_type": "code",
   "execution_count": 26,
   "metadata": {
    "code_folding": [
     1,
     16
    ]
   },
   "outputs": [],
   "source": [
    "# pre-processing pipeline\n",
    "fn_pipeline = {\n",
    "    'fin_data': [chain_scale, chain_divide, chain_post_drop, chain_outlier],\n",
    "    'key_statistics': [chain_scale, chain_outlier],\n",
    "    'eps_trend': [chain_wide_transform, chain_eps_estimates, chain_outlier],\n",
    "    'eps_estimates': [chain_wide_transform, chain_eps_estimates, chain_outlier],    \n",
    "    'day_quote': [chain_divide, chain_scale, chain_outlier],\n",
    "#     'eps_revisions': [chain_wide_transform, chain_outlier],\n",
    "#     'spy_trend':[lambda x, y: x],\n",
    "#     'net_purchase':[lambda x, y: x],    \n",
    "#     'rec_trend': [chain_wide_transform, chain_rec_trend, chain_outlier],\n",
    "}\n",
    "\n",
    "dates = read_dates(ds_dict[key]['path'], '.csv')\n",
    "load_dates = dates[-look_back:]\n",
    "\n",
    "context = {    \n",
    "    'key': key,\n",
    "    'load_dates': load_dates,    \n",
    "    'fn_pipeline': fn_pipeline,\n",
    "    'load_ds': True,\n",
    "    'grid_search': False,\n",
    "    'tickers': symbols_list,\n",
    "    'ds_dict': ds_dict[key],\n",
    "    'pre': pre,\n",
    "    'close_px': stacked_px,\n",
    "    # 'nbr_anr': stacked_anr,\n",
    "    'ml_path': ('../ML/', 'fdmn_ML-{}_{}.pkl'),\n",
    "    'ds_append_path': ('tmp/','fund-ml-processed-'),\n",
    "    'trained_cols': ('fdmn-{}_train_cols.npy'),\n",
    "    'impute': False,\n",
    "    'scale': True,\n",
    "    'verbose': 0,\n",
    "    's3_path': f'recommend/fdmn_ML-{key}/',\n",
    "}"
   ]
  },
  {
   "cell_type": "markdown",
   "metadata": {},
   "source": [
    "### Final"
   ]
  },
  {
   "cell_type": "code",
   "execution_count": 6,
   "metadata": {
    "code_folding": [
     0
    ]
   },
   "outputs": [],
   "source": [
    "def create_ds(context):\n",
    "    print('create_ds')\n",
    "    # context variables\n",
    "    key = context['key']\n",
    "    load_ds = context['load_ds']\n",
    "    load_dates = context['load_dates']\n",
    "    (path, _) = context['ds_append_path']\n",
    "    tickers = context['tickers']\n",
    "    \n",
    "    # Load or append missing data to local dataset\n",
    "    fname = path + key\n",
    "    if load_ds & os.path.isfile(fname):\n",
    "        daily_df = pd.read_parquet(fname)\n",
    "        # compare and load missing dates\n",
    "        missing_dates = list(\n",
    "            set(daily_df.index.unique().date.astype(str))\\\n",
    "                .symmetric_difference(load_dates))\n",
    "        if len(missing_dates) > 0: # retrieve missing dates\n",
    "            append_df = get_daily_ts(key, ds_dict, missing_dates)\n",
    "            daily_df = pd.concat([daily_df, append_df], axis=0) # append to daily\n",
    "            # daily_df.drop_duplicates(inplace=True)\n",
    "            daily_df.to_parquet(path + key) # and persist to drive for next time\n",
    "    else:\n",
    "        # file does not exist, retrieves all dates\n",
    "        daily_df = get_daily_ts(key, ds_dict, load_dates)\n",
    "        num_cols = excl(daily_df.columns, ['symbol', 'period'])\n",
    "        daily_df.loc[:, num_cols] = daily_df[num_cols].astype(np.float32)\n",
    "        # Make index a flat date, easier to index save down to drive if refresh pricing\n",
    "        os.makedirs(path, exist_ok=True)\n",
    "        # daily_df.drop_duplicates(inplace=True)\n",
    "        daily_df.to_parquet(fname)\n",
    "        \n",
    "    daily_df.index.name = ds_dict[key]['index']\n",
    "    daily_df.index = daily_df.index.date\n",
    "    \n",
    "    return daily_df"
   ]
  },
  {
   "cell_type": "code",
   "execution_count": 7,
   "metadata": {
    "code_folding": [
     0
    ]
   },
   "outputs": [],
   "source": [
    "def pre_process_ds(daily_df, context):\n",
    "\n",
    "    print('pre_process_ds')\n",
    "    # context variables\n",
    "    key = context['key']\n",
    "    key_dict = context['ds_dict']\n",
    "    fn_pipe = context['fn_pipeline']\n",
    "    train_model = context['train_model']\n",
    "    df_index = key_dict['index']\n",
    "    (ml_path, _) = context['ml_path']\n",
    "    (path, name) = context['ds_append_path']\n",
    "    trained_cols = context['trained_cols']\n",
    "    impute_on, scale_on = key_dict = context['impute'], context['scale']    \n",
    "    \n",
    "    # pre-process entire datasets in one shot or by company\n",
    "    processed_df = pipe_transform_df(daily_df, key, fn_pipe, context)\n",
    "    print('processed_df.shape', processed_df.shape)\n",
    "    # processed_df.describe(include='all', percentiles=[0.01, 0.1, 0.5, 0.9, 0.99]).T\n",
    "\n",
    "    scaler = MinMaxScaler()\n",
    "    X_num_cols = excl(numeric_cols(processed_df), [y_col])\n",
    "    processed_df.loc[:, X_num_cols] = processed_df[X_num_cols].replace([np.inf, -np.inf, 'NaN', np.nan], 0)\n",
    "    if scale_on: processed_df.loc[:, X_num_cols] = scaler.fit_transform(processed_df[X_num_cols])\n",
    "        \n",
    "    ## add sectors columns\n",
    "    # processed_df.loc[:, 'sector'] = processed_df.reset_index()['symbol'].map(profile.sector.to_dict()).values\n",
    "    # processed_df.dropna(subset=['sector'], inplace=True)\n",
    "    # for adding sectors, messy: needs improvement / refactoring    \n",
    "    # processed_df.describe(include='all').T\n",
    "    ## turn categorical fields into one-hot encoder dummies\n",
    "    # categ_dummies = {\n",
    "    #     'day_quote': ['sector'],\n",
    "    #     'key_statistics': ['sector'],\n",
    "    #     'fin_data': [ 'sector'], # 'financialCurrency', 'recommendationKey',\n",
    "    #     'eps_estimates': ['sector'],\n",
    "    #     'eps_revisions': ['sector'],\n",
    "    #     'eps_trend': ['sector'],\n",
    "    #     'rec_trend': ['sector'],\n",
    "    #     'net_purchase': ['sector'],\n",
    "    # }\n",
    "    # if key in categ_dummies:\n",
    "    #     for col in categ_dummies[key]: processed_df = dummy_col(processed_df, col, shorten=True)    \n",
    "\n",
    "    X_pred = X_train = X_test = y_train = y_test = None\n",
    "    if processed_df.index.is_mixed(): processed_df.reset_index(level=1, drop=False, inplace=True)\n",
    "    \n",
    "    if train_model:\n",
    "        \n",
    "        processed_df.index = pd.to_datetime(processed_df.index)\n",
    "        print('processed_df.columns', processed_df.columns)\n",
    "\n",
    "        # reshapes to include symbol in index in additional to date\n",
    "        Y_df = Y.loc[processed_df.index.unique().sortlevel()[0], :]\n",
    "        Y_df = Y_df.stack().to_frame().rename(columns={0: y_col})\n",
    "        Y_df.index.set_names([df_index, 'symbol'], inplace=True)\n",
    "        print('Y_df.shape', Y_df.shape)\n",
    "\n",
    "        # re-index processed df on storeDate and symbol to have similar indices\n",
    "        processed_df.index.set_names([df_index], inplace=True)\n",
    "        processed_df.reset_index(inplace=True)\n",
    "        processed_df.set_index([df_index, 'symbol'], inplace=True)\n",
    "        # processed_df.reset_index(level=1) # to get back to date only, if needed    \n",
    "        print('processed_df.shape', processed_df.shape)\n",
    "\n",
    "        # add Y values to processed df fast without having to loop\n",
    "        processed_df.loc[:, y_col] = Y_df.loc[processed_df.index, y_col]\n",
    "\n",
    "        # discretize Y-variable\n",
    "        processed_df.dropna(subset=[y_col], inplace=True)\n",
    "        processed_df[y_col] = discret_rets(processed_df[y_col], cut_range, fwd_ret_labels)\n",
    "        print(sample_wgts(processed_df[y_col]))\n",
    "\n",
    "        processed_df.dropna(subset=[y_col], inplace=True)\n",
    "        processed_df.loc[:, y_col] = processed_df[y_col].astype(str)\n",
    "        processed_df.reset_index(drop=True, inplace=True)\n",
    "\n",
    "        X, y = processed_df.drop(columns=y_col), processed_df[y_col]\n",
    "        sss = StratifiedShuffleSplit(n_splits=1, test_size=0.2, random_state=42)\n",
    "        for train_index, test_index in sss.split(X, y):\n",
    "            X_train, X_test = X.iloc[train_index], X.iloc[test_index]\n",
    "            y_train, y_test = y.iloc[train_index], y.iloc[test_index]\n",
    "            break # just one split\n",
    "        np.save(ml_path + trained_cols.format(key), X_train.columns) # save feature order\n",
    "    else:\n",
    "        # feature for last date, pending to implement more flexibility\n",
    "#         processed_df.reset_index(drop=True, inplace=True)        \n",
    "        X_pred = processed_df.loc[processed_df.index[-1], :]\n",
    "\n",
    "    [print(x.shape) for x in (X_pred, X_train, X_test, y_train, y_test) if x is not None]\n",
    "    \n",
    "    return X_pred, X_train, X_test, y_train, y_test"
   ]
  },
  {
   "cell_type": "code",
   "execution_count": 8,
   "metadata": {
    "code_folding": [
     0,
     18,
     35,
     46
    ]
   },
   "outputs": [],
   "source": [
    "def train_ds(context):\n",
    "    print('train_ds')\n",
    "    context['train_model'] = True\n",
    "    grid_search = context['grid_search']\n",
    "    verbose = context['verbose']\n",
    "    (path, model_name) = context['ml_path']\n",
    "        \n",
    "    daily_df = create_ds(context)\n",
    "    print(daily_df.info(verbose=False))\n",
    "    \n",
    "    X_pred, X_train, X_test, y_train, y_test = pre_process_ds(daily_df, context)\n",
    "    features = X_train.shape[1]\n",
    "    \n",
    "    # RandomForestClassifier\n",
    "    best_params = {\n",
    "        'n_estimators': 50, 'max_features': features, 'max_depth': 30,\n",
    "        'min_samples_split': 2, \n",
    "        'random_state': 1, 'n_jobs': -1}\n",
    "    if grid_search:\n",
    "        print('GridSearchCV for RandomForestClassifier')\n",
    "        param_grid = {\n",
    "            'n_estimators': [50], \n",
    "            'max_features': ['sqrt', 'log2', features // 2, features // 3,], \n",
    "            'max_depth': [30],\n",
    "            'min_samples_split': [2, 5, 10],\n",
    "            'min_samples_leaf': [2, 5, 10],\n",
    "            'random_state': np.arange(0, 3, 1),}\n",
    "        clf = GridSearchCV(\n",
    "            RandomForestClassifier(random_state=42),\n",
    "            param_grid, n_jobs=-1, cv=5, iid=True, verbose=verbose)\n",
    "        clf.fit(X_train, y_train)\n",
    "        print_cv_results(clf, (X_train, X_test, y_train, y_test), feat_imp=True, top=20)\n",
    "        best_params = clf.best_params_\n",
    "    clf1 = RandomForestClassifier(**best_params)\n",
    "    clf1.fit(X_train, y_train)\n",
    "    print('RandomForestClassifier scores: Train {}, Test {}'.format(\n",
    "        clf1.score(X_train, y_train), \n",
    "        clf1.score(X_test, y_test)))\n",
    "    \n",
    "    # ExtraTreesClassifier\n",
    "    best_params = {\n",
    "    'n_estimators': 50, 'max_depth': 30,\n",
    "    'min_samples_split': 2, 'min_samples_leaf': 1,\n",
    "    'random_state': None, 'n_jobs': -1}\n",
    "    clf2 = ExtraTreesClassifier(**best_params)\n",
    "    clf2.fit(X_train, y_train)\n",
    "    print('ExtraTreesClassifier scores: Train {}, Test {}'.format(\n",
    "        clf2.score(X_train, y_train), \n",
    "        clf2.score(X_test, y_test)))\n",
    "                \n",
    "    for vote in ['hard', 'soft']:\n",
    "        eclf = VotingClassifier(estimators=[('rf', clf1), ('et', clf2)], voting=vote)\n",
    "        clf = eclf.fit(X_train, y_train)\n",
    "        print('VotingClassifier scores Train {}, Test {}'.format(\n",
    "            clf.score(X_train, y_train), \n",
    "            clf.score(X_test, y_test)))\n",
    "        os.makedirs(path, exist_ok=True)\n",
    "        fname = path + model_name.format(key, vote)\n",
    "        joblib.dump(clf, fname)\n",
    "        print('Saved ', fname)"
   ]
  },
  {
   "cell_type": "code",
   "execution_count": 51,
   "metadata": {
    "code_folding": []
   },
   "outputs": [],
   "source": [
    "def predict_ds(context):\n",
    "    print('predict_ds')\n",
    "    context['load_ds'] = True\n",
    "    context['train_model'] = False\n",
    "    (path, model_name) = context['ml_path']\n",
    "    verbose = context['verbose']\n",
    "    trained_cols = context['trained_cols']\n",
    "    \n",
    "    daily_df = create_ds(context)\n",
    "    pred_X, _, _, _, _ = pre_process_ds(daily_df, context)\n",
    "    print('predict_ds')\n",
    "    print('pred_X.shape', pred_X.shape)\n",
    "    \n",
    "    # ensure prediction dataset is consistent with trained model\n",
    "    trained_cols = np.load(path + trained_cols.format(key)) # save feature order\n",
    "    missing_cols = [x for x in trained_cols if x not in pred_X.columns]\n",
    "    pred_X = pd.concat([pred_X, pd.DataFrame(columns=missing_cols)], axis=1)\n",
    "    pred_X[missing_cols] = 0\n",
    "    pred_X = pred_X[list(trained_cols) + ['symbol']]    \n",
    "\n",
    "    pred_df = pd.DataFrame()\n",
    "    pred_df['symbol'] = pred_X.symbol\n",
    "    for vote in ['hard', 'soft']:\n",
    "        fname = path + model_name.format(key, vote)\n",
    "        clf = joblib.load(fname) # load latest models\n",
    "        print('Loaded', fname)\n",
    "        preds = clf.predict(pred_X.iloc[:, :-1])\n",
    "        # preds = np.where(preds == 'nan', 'neutral', preds) #replace nan\n",
    "        pred_class = np.array([fwd_ret_labels.index(x) for x in preds])        \n",
    "        pred_df[f'{vote}_pred_class'] = pred_class\n",
    "        pred_df[f'{vote}_pred_label'] = preds\n",
    "        if vote == 'soft':\n",
    "            probs = clf.predict_proba(pred_X.iloc[:, :-1])\n",
    "            pred_prob = np.argmax(probs, axis=1)\n",
    "            pred_df[f'{vote}_confidence'] = [x[np.argmax(x)] for x in probs] # higest prob\n",
    "            prob_df = pd.DataFrame(probs, index=pred_df.index, columns=clf.classes_)\n",
    "            pred_df = pd.concat([pred_df, prob_df[fwd_ret_labels]], axis=1)\n",
    "\n",
    "    # store in S3\n",
    "    s3_path = context['s3_path']\n",
    "    idx_name = pred_df.index.name\n",
    "    s3_df = pred_df.reset_index(drop=False)\n",
    "    rename_col(s3_df, idx_name, 'pred_date')\n",
    "    csv_store(s3_df, s3_path, csv_ext.format(tgt_date[0]))\n",
    "            \n",
    "    return pred_df"
   ]
  },
  {
   "cell_type": "markdown",
   "metadata": {},
   "source": [
    "#### Train"
   ]
  },
  {
   "cell_type": "code",
   "execution_count": null,
   "metadata": {},
   "outputs": [],
   "source": [
    "%time train_ds(context)"
   ]
  },
  {
   "cell_type": "markdown",
   "metadata": {},
   "source": [
    "#### Predict"
   ]
  },
  {
   "cell_type": "code",
   "execution_count": 52,
   "metadata": {},
   "outputs": [
    {
     "name": "stdout",
     "output_type": "stream",
     "text": [
      "predict_ds\n",
      "create_ds\n",
      "pre_process_ds\n"
     ]
    },
    {
     "name": "stderr",
     "output_type": "stream",
     "text": [
      "/Users/vveiga/miniconda3/envs/inception/lib/python3.7/site-packages/pandas/core/indexing.py:969: FutureWarning: \n",
      "Passing list-likes to .loc or [] with any missing label will raise\n",
      "KeyError in the future, you can use .reindex() as an alternative.\n",
      "\n",
      "See the documentation here:\n",
      "https://pandas.pydata.org/pandas-docs/stable/indexing.html#deprecate-loc-reindex-listlike\n",
      "  return self._getitem_nested_tuple(tup)\n"
     ]
    },
    {
     "name": "stdout",
     "output_type": "stream",
     "text": [
      "processed_df.shape (48559, 14)\n",
      "(991, 15)\n",
      "predict_ds\n",
      "pred_X.shape (991, 15)\n",
      "Loaded ../ML/fdmn_ML-eps_trend_hard.pkl\n",
      "Loaded ../ML/fdmn_ML-eps_trend_soft.pkl\n",
      "Saved recommend/fdmn_ML-eps_trend/2019-04-02.csv\n",
      "CPU times: user 11.7 s, sys: 2.42 s, total: 14.1 s\n",
      "Wall time: 7.29 s\n"
     ]
    }
   ],
   "source": [
    "%time pred_df = predict_ds(context)"
   ]
  },
  {
   "cell_type": "markdown",
   "metadata": {},
   "source": [
    "#### Store / Read S3"
   ]
  },
  {
   "cell_type": "code",
   "execution_count": 54,
   "metadata": {},
   "outputs": [
    {
     "data": {
      "text/plain": [
       "'2019-04-02'"
      ]
     },
     "execution_count": 54,
     "metadata": {},
     "output_type": "execute_result"
    }
   ],
   "source": [
    "s3_path = context['s3_path']\n",
    "storeDate = dates[-1]\n",
    "storeDate"
   ]
  },
  {
   "cell_type": "code",
   "execution_count": 55,
   "metadata": {},
   "outputs": [],
   "source": [
    "# read from S3\n",
    "pred_df = pd.read_csv(\n",
    "    csv_load(f'{s3_path}{storeDate}'), \n",
    "    index_col='pred_date', parse_dates=True)"
   ]
  },
  {
   "cell_type": "code",
   "execution_count": null,
   "metadata": {},
   "outputs": [],
   "source": [
    "# store in S3\n",
    "s3_df = pred_df.reset_index(drop=False)\n",
    "rename_col(s3_df, 'index', 'pred_date')\n",
    "csv_store(s3_df, s3_path, csv_ext.format(storeDate))"
   ]
  },
  {
   "cell_type": "markdown",
   "metadata": {},
   "source": [
    "#### Visualize"
   ]
  },
  {
   "cell_type": "code",
   "execution_count": 56,
   "metadata": {},
   "outputs": [
    {
     "data": {
      "text/html": [
       "<div>\n",
       "<style scoped>\n",
       "    .dataframe tbody tr th:only-of-type {\n",
       "        vertical-align: middle;\n",
       "    }\n",
       "\n",
       "    .dataframe tbody tr th {\n",
       "        vertical-align: top;\n",
       "    }\n",
       "\n",
       "    .dataframe thead th {\n",
       "        text-align: right;\n",
       "    }\n",
       "</style>\n",
       "<table border=\"1\" class=\"dataframe\">\n",
       "  <thead>\n",
       "    <tr style=\"text-align: right;\">\n",
       "      <th></th>\n",
       "      <th>symbol</th>\n",
       "      <th>hard_pred_class</th>\n",
       "      <th>hard_pred_label</th>\n",
       "      <th>soft_pred_class</th>\n",
       "      <th>soft_pred_label</th>\n",
       "      <th>soft_confidence</th>\n",
       "      <th>bear</th>\n",
       "      <th>short</th>\n",
       "      <th>neutral</th>\n",
       "      <th>long</th>\n",
       "      <th>bull</th>\n",
       "    </tr>\n",
       "    <tr>\n",
       "      <th>pred_date</th>\n",
       "      <th></th>\n",
       "      <th></th>\n",
       "      <th></th>\n",
       "      <th></th>\n",
       "      <th></th>\n",
       "      <th></th>\n",
       "      <th></th>\n",
       "      <th></th>\n",
       "      <th></th>\n",
       "      <th></th>\n",
       "      <th></th>\n",
       "    </tr>\n",
       "  </thead>\n",
       "  <tbody>\n",
       "    <tr>\n",
       "      <th>2019-04-02</th>\n",
       "      <td>A</td>\n",
       "      <td>2</td>\n",
       "      <td>neutral</td>\n",
       "      <td>2</td>\n",
       "      <td>neutral</td>\n",
       "      <td>0.53</td>\n",
       "      <td>0.10</td>\n",
       "      <td>0.04</td>\n",
       "      <td>0.53</td>\n",
       "      <td>0.29</td>\n",
       "      <td>0.05</td>\n",
       "    </tr>\n",
       "    <tr>\n",
       "      <th>2019-04-02</th>\n",
       "      <td>AAL</td>\n",
       "      <td>2</td>\n",
       "      <td>neutral</td>\n",
       "      <td>2</td>\n",
       "      <td>neutral</td>\n",
       "      <td>0.60</td>\n",
       "      <td>0.08</td>\n",
       "      <td>0.14</td>\n",
       "      <td>0.60</td>\n",
       "      <td>0.04</td>\n",
       "      <td>0.14</td>\n",
       "    </tr>\n",
       "    <tr>\n",
       "      <th>2019-04-02</th>\n",
       "      <td>AAN</td>\n",
       "      <td>1</td>\n",
       "      <td>short</td>\n",
       "      <td>1</td>\n",
       "      <td>short</td>\n",
       "      <td>0.41</td>\n",
       "      <td>0.12</td>\n",
       "      <td>0.41</td>\n",
       "      <td>0.21</td>\n",
       "      <td>0.16</td>\n",
       "      <td>0.10</td>\n",
       "    </tr>\n",
       "    <tr>\n",
       "      <th>2019-04-02</th>\n",
       "      <td>AAON</td>\n",
       "      <td>3</td>\n",
       "      <td>long</td>\n",
       "      <td>1</td>\n",
       "      <td>short</td>\n",
       "      <td>0.36</td>\n",
       "      <td>0.06</td>\n",
       "      <td>0.36</td>\n",
       "      <td>0.21</td>\n",
       "      <td>0.27</td>\n",
       "      <td>0.10</td>\n",
       "    </tr>\n",
       "    <tr>\n",
       "      <th>2019-04-02</th>\n",
       "      <td>AAP</td>\n",
       "      <td>3</td>\n",
       "      <td>long</td>\n",
       "      <td>3</td>\n",
       "      <td>long</td>\n",
       "      <td>0.44</td>\n",
       "      <td>0.18</td>\n",
       "      <td>0.23</td>\n",
       "      <td>0.07</td>\n",
       "      <td>0.44</td>\n",
       "      <td>0.08</td>\n",
       "    </tr>\n",
       "  </tbody>\n",
       "</table>\n",
       "</div>"
      ],
      "text/plain": [
       "           symbol  hard_pred_class hard_pred_label  soft_pred_class  \\\n",
       "pred_date                                                             \n",
       "2019-04-02      A                2         neutral                2   \n",
       "2019-04-02    AAL                2         neutral                2   \n",
       "2019-04-02    AAN                1           short                1   \n",
       "2019-04-02   AAON                3            long                1   \n",
       "2019-04-02    AAP                3            long                3   \n",
       "\n",
       "           soft_pred_label  soft_confidence  bear  short  neutral  long  bull  \n",
       "pred_date                                                                      \n",
       "2019-04-02         neutral             0.53  0.10   0.04     0.53  0.29  0.05  \n",
       "2019-04-02         neutral             0.60  0.08   0.14     0.60  0.04  0.14  \n",
       "2019-04-02           short             0.41  0.12   0.41     0.21  0.16  0.10  \n",
       "2019-04-02           short             0.36  0.06   0.36     0.21  0.27  0.10  \n",
       "2019-04-02            long             0.44  0.18   0.23     0.07  0.44  0.08  "
      ]
     },
     "execution_count": 56,
     "metadata": {},
     "output_type": "execute_result"
    }
   ],
   "source": [
    "# pred_df.describe().T\n",
    "pred_df.head()"
   ]
  },
  {
   "cell_type": "code",
   "execution_count": 408,
   "metadata": {},
   "outputs": [
    {
     "data": {
      "text/plain": [
       "long       148\n",
       "neutral    112\n",
       "short       74\n",
       "bull         7\n",
       "bear         6\n",
       "Name: soft_pred_label, dtype: int64"
      ]
     },
     "execution_count": 408,
     "metadata": {},
     "output_type": "execute_result"
    }
   ],
   "source": [
    "# recommendation distribution\n",
    "pd.value_counts(pred_df.loc[pred_df.hard_pred_label == pred_df.soft_pred_label].soft_pred_label)"
   ]
  },
  {
   "cell_type": "code",
   "execution_count": 409,
   "metadata": {},
   "outputs": [
    {
     "data": {
      "text/html": [
       "<div>\n",
       "<style scoped>\n",
       "    .dataframe tbody tr th:only-of-type {\n",
       "        vertical-align: middle;\n",
       "    }\n",
       "\n",
       "    .dataframe tbody tr th {\n",
       "        vertical-align: top;\n",
       "    }\n",
       "\n",
       "    .dataframe thead th {\n",
       "        text-align: right;\n",
       "    }\n",
       "</style>\n",
       "<table border=\"1\" class=\"dataframe\">\n",
       "  <thead>\n",
       "    <tr style=\"text-align: right;\">\n",
       "      <th></th>\n",
       "      <th>symbol</th>\n",
       "      <th>hard_pred_class</th>\n",
       "      <th>hard_pred_label</th>\n",
       "      <th>soft_pred_class</th>\n",
       "      <th>soft_pred_label</th>\n",
       "      <th>soft_confidence</th>\n",
       "      <th>bear</th>\n",
       "      <th>short</th>\n",
       "      <th>neutral</th>\n",
       "      <th>long</th>\n",
       "      <th>bull</th>\n",
       "    </tr>\n",
       "    <tr>\n",
       "      <th>pred_date</th>\n",
       "      <th></th>\n",
       "      <th></th>\n",
       "      <th></th>\n",
       "      <th></th>\n",
       "      <th></th>\n",
       "      <th></th>\n",
       "      <th></th>\n",
       "      <th></th>\n",
       "      <th></th>\n",
       "      <th></th>\n",
       "      <th></th>\n",
       "    </tr>\n",
       "  </thead>\n",
       "  <tbody>\n",
       "    <tr>\n",
       "      <th>2019-04-02</th>\n",
       "      <td>APTV</td>\n",
       "      <td>0</td>\n",
       "      <td>bear</td>\n",
       "      <td>0</td>\n",
       "      <td>bear</td>\n",
       "      <td>0.42</td>\n",
       "      <td>0.42</td>\n",
       "      <td>0.29</td>\n",
       "      <td>0.15</td>\n",
       "      <td>0.09</td>\n",
       "      <td>0.06</td>\n",
       "    </tr>\n",
       "    <tr>\n",
       "      <th>2019-04-02</th>\n",
       "      <td>TREX</td>\n",
       "      <td>0</td>\n",
       "      <td>bear</td>\n",
       "      <td>0</td>\n",
       "      <td>bear</td>\n",
       "      <td>0.47</td>\n",
       "      <td>0.47</td>\n",
       "      <td>0.13</td>\n",
       "      <td>0.07</td>\n",
       "      <td>0.21</td>\n",
       "      <td>0.11</td>\n",
       "    </tr>\n",
       "    <tr>\n",
       "      <th>2019-04-02</th>\n",
       "      <td>AEL</td>\n",
       "      <td>0</td>\n",
       "      <td>bear</td>\n",
       "      <td>0</td>\n",
       "      <td>bear</td>\n",
       "      <td>0.55</td>\n",
       "      <td>0.55</td>\n",
       "      <td>0.07</td>\n",
       "      <td>0.07</td>\n",
       "      <td>0.03</td>\n",
       "      <td>0.28</td>\n",
       "    </tr>\n",
       "    <tr>\n",
       "      <th>2019-04-02</th>\n",
       "      <td>WBA</td>\n",
       "      <td>0</td>\n",
       "      <td>bear</td>\n",
       "      <td>0</td>\n",
       "      <td>bear</td>\n",
       "      <td>0.55</td>\n",
       "      <td>0.55</td>\n",
       "      <td>0.09</td>\n",
       "      <td>0.22</td>\n",
       "      <td>0.08</td>\n",
       "      <td>0.05</td>\n",
       "    </tr>\n",
       "    <tr>\n",
       "      <th>2019-04-02</th>\n",
       "      <td>ITGR</td>\n",
       "      <td>0</td>\n",
       "      <td>bear</td>\n",
       "      <td>0</td>\n",
       "      <td>bear</td>\n",
       "      <td>0.35</td>\n",
       "      <td>0.35</td>\n",
       "      <td>0.13</td>\n",
       "      <td>0.25</td>\n",
       "      <td>0.19</td>\n",
       "      <td>0.07</td>\n",
       "    </tr>\n",
       "    <tr>\n",
       "      <th>2019-04-02</th>\n",
       "      <td>MNRO</td>\n",
       "      <td>4</td>\n",
       "      <td>bull</td>\n",
       "      <td>4</td>\n",
       "      <td>bull</td>\n",
       "      <td>0.34</td>\n",
       "      <td>0.11</td>\n",
       "      <td>0.15</td>\n",
       "      <td>0.09</td>\n",
       "      <td>0.31</td>\n",
       "      <td>0.34</td>\n",
       "    </tr>\n",
       "    <tr>\n",
       "      <th>2019-04-02</th>\n",
       "      <td>KMX</td>\n",
       "      <td>4</td>\n",
       "      <td>bull</td>\n",
       "      <td>4</td>\n",
       "      <td>bull</td>\n",
       "      <td>0.39</td>\n",
       "      <td>0.10</td>\n",
       "      <td>0.14</td>\n",
       "      <td>0.19</td>\n",
       "      <td>0.19</td>\n",
       "      <td>0.39</td>\n",
       "    </tr>\n",
       "    <tr>\n",
       "      <th>2019-04-02</th>\n",
       "      <td>CAG</td>\n",
       "      <td>4</td>\n",
       "      <td>bull</td>\n",
       "      <td>4</td>\n",
       "      <td>bull</td>\n",
       "      <td>0.41</td>\n",
       "      <td>0.06</td>\n",
       "      <td>0.18</td>\n",
       "      <td>0.12</td>\n",
       "      <td>0.22</td>\n",
       "      <td>0.41</td>\n",
       "    </tr>\n",
       "    <tr>\n",
       "      <th>2019-04-02</th>\n",
       "      <td>MO</td>\n",
       "      <td>4</td>\n",
       "      <td>bull</td>\n",
       "      <td>4</td>\n",
       "      <td>bull</td>\n",
       "      <td>0.42</td>\n",
       "      <td>0.05</td>\n",
       "      <td>0.13</td>\n",
       "      <td>0.14</td>\n",
       "      <td>0.26</td>\n",
       "      <td>0.42</td>\n",
       "    </tr>\n",
       "    <tr>\n",
       "      <th>2019-04-02</th>\n",
       "      <td>CMG</td>\n",
       "      <td>4</td>\n",
       "      <td>bull</td>\n",
       "      <td>4</td>\n",
       "      <td>bull</td>\n",
       "      <td>0.42</td>\n",
       "      <td>0.15</td>\n",
       "      <td>0.12</td>\n",
       "      <td>0.16</td>\n",
       "      <td>0.15</td>\n",
       "      <td>0.42</td>\n",
       "    </tr>\n",
       "    <tr>\n",
       "      <th>2019-04-02</th>\n",
       "      <td>EPR</td>\n",
       "      <td>3</td>\n",
       "      <td>long</td>\n",
       "      <td>3</td>\n",
       "      <td>long</td>\n",
       "      <td>0.97</td>\n",
       "      <td>0.00</td>\n",
       "      <td>0.00</td>\n",
       "      <td>0.03</td>\n",
       "      <td>0.97</td>\n",
       "      <td>0.00</td>\n",
       "    </tr>\n",
       "    <tr>\n",
       "      <th>2019-04-02</th>\n",
       "      <td>KIM</td>\n",
       "      <td>3</td>\n",
       "      <td>long</td>\n",
       "      <td>3</td>\n",
       "      <td>long</td>\n",
       "      <td>0.91</td>\n",
       "      <td>0.01</td>\n",
       "      <td>0.02</td>\n",
       "      <td>0.04</td>\n",
       "      <td>0.91</td>\n",
       "      <td>0.02</td>\n",
       "    </tr>\n",
       "    <tr>\n",
       "      <th>2019-04-02</th>\n",
       "      <td>FLO</td>\n",
       "      <td>3</td>\n",
       "      <td>long</td>\n",
       "      <td>3</td>\n",
       "      <td>long</td>\n",
       "      <td>0.94</td>\n",
       "      <td>0.01</td>\n",
       "      <td>0.02</td>\n",
       "      <td>0.03</td>\n",
       "      <td>0.94</td>\n",
       "      <td>0.00</td>\n",
       "    </tr>\n",
       "    <tr>\n",
       "      <th>2019-04-02</th>\n",
       "      <td>FR</td>\n",
       "      <td>3</td>\n",
       "      <td>long</td>\n",
       "      <td>3</td>\n",
       "      <td>long</td>\n",
       "      <td>0.96</td>\n",
       "      <td>0.00</td>\n",
       "      <td>0.01</td>\n",
       "      <td>0.02</td>\n",
       "      <td>0.96</td>\n",
       "      <td>0.01</td>\n",
       "    </tr>\n",
       "    <tr>\n",
       "      <th>2019-04-02</th>\n",
       "      <td>NNN</td>\n",
       "      <td>3</td>\n",
       "      <td>long</td>\n",
       "      <td>3</td>\n",
       "      <td>long</td>\n",
       "      <td>0.96</td>\n",
       "      <td>0.00</td>\n",
       "      <td>0.02</td>\n",
       "      <td>0.02</td>\n",
       "      <td>0.96</td>\n",
       "      <td>0.00</td>\n",
       "    </tr>\n",
       "    <tr>\n",
       "      <th>2019-04-02</th>\n",
       "      <td>ACM</td>\n",
       "      <td>1</td>\n",
       "      <td>short</td>\n",
       "      <td>1</td>\n",
       "      <td>short</td>\n",
       "      <td>0.86</td>\n",
       "      <td>0.01</td>\n",
       "      <td>0.86</td>\n",
       "      <td>0.05</td>\n",
       "      <td>0.06</td>\n",
       "      <td>0.02</td>\n",
       "    </tr>\n",
       "    <tr>\n",
       "      <th>2019-04-02</th>\n",
       "      <td>AKR</td>\n",
       "      <td>1</td>\n",
       "      <td>short</td>\n",
       "      <td>1</td>\n",
       "      <td>short</td>\n",
       "      <td>0.91</td>\n",
       "      <td>0.01</td>\n",
       "      <td>0.91</td>\n",
       "      <td>0.02</td>\n",
       "      <td>0.06</td>\n",
       "      <td>0.00</td>\n",
       "    </tr>\n",
       "    <tr>\n",
       "      <th>2019-04-02</th>\n",
       "      <td>PRGO</td>\n",
       "      <td>1</td>\n",
       "      <td>short</td>\n",
       "      <td>1</td>\n",
       "      <td>short</td>\n",
       "      <td>0.92</td>\n",
       "      <td>0.02</td>\n",
       "      <td>0.92</td>\n",
       "      <td>0.03</td>\n",
       "      <td>0.01</td>\n",
       "      <td>0.01</td>\n",
       "    </tr>\n",
       "    <tr>\n",
       "      <th>2019-04-02</th>\n",
       "      <td>HI</td>\n",
       "      <td>1</td>\n",
       "      <td>short</td>\n",
       "      <td>1</td>\n",
       "      <td>short</td>\n",
       "      <td>0.83</td>\n",
       "      <td>0.02</td>\n",
       "      <td>0.83</td>\n",
       "      <td>0.05</td>\n",
       "      <td>0.06</td>\n",
       "      <td>0.04</td>\n",
       "    </tr>\n",
       "    <tr>\n",
       "      <th>2019-04-02</th>\n",
       "      <td>AMCX</td>\n",
       "      <td>1</td>\n",
       "      <td>short</td>\n",
       "      <td>1</td>\n",
       "      <td>short</td>\n",
       "      <td>0.81</td>\n",
       "      <td>0.05</td>\n",
       "      <td>0.81</td>\n",
       "      <td>0.06</td>\n",
       "      <td>0.07</td>\n",
       "      <td>0.01</td>\n",
       "    </tr>\n",
       "  </tbody>\n",
       "</table>\n",
       "</div>"
      ],
      "text/plain": [
       "           symbol  hard_pred_class hard_pred_label  soft_pred_class  \\\n",
       "pred_date                                                             \n",
       "2019-04-02   APTV                0            bear                0   \n",
       "2019-04-02   TREX                0            bear                0   \n",
       "2019-04-02    AEL                0            bear                0   \n",
       "2019-04-02    WBA                0            bear                0   \n",
       "2019-04-02   ITGR                0            bear                0   \n",
       "2019-04-02   MNRO                4            bull                4   \n",
       "2019-04-02    KMX                4            bull                4   \n",
       "2019-04-02    CAG                4            bull                4   \n",
       "2019-04-02     MO                4            bull                4   \n",
       "2019-04-02    CMG                4            bull                4   \n",
       "2019-04-02    EPR                3            long                3   \n",
       "2019-04-02    KIM                3            long                3   \n",
       "2019-04-02    FLO                3            long                3   \n",
       "2019-04-02     FR                3            long                3   \n",
       "2019-04-02    NNN                3            long                3   \n",
       "2019-04-02    ACM                1           short                1   \n",
       "2019-04-02    AKR                1           short                1   \n",
       "2019-04-02   PRGO                1           short                1   \n",
       "2019-04-02     HI                1           short                1   \n",
       "2019-04-02   AMCX                1           short                1   \n",
       "\n",
       "           soft_pred_label  soft_confidence  bear  short  neutral  long  bull  \n",
       "pred_date                                                                      \n",
       "2019-04-02            bear             0.42  0.42   0.29     0.15  0.09  0.06  \n",
       "2019-04-02            bear             0.47  0.47   0.13     0.07  0.21  0.11  \n",
       "2019-04-02            bear             0.55  0.55   0.07     0.07  0.03  0.28  \n",
       "2019-04-02            bear             0.55  0.55   0.09     0.22  0.08  0.05  \n",
       "2019-04-02            bear             0.35  0.35   0.13     0.25  0.19  0.07  \n",
       "2019-04-02            bull             0.34  0.11   0.15     0.09  0.31  0.34  \n",
       "2019-04-02            bull             0.39  0.10   0.14     0.19  0.19  0.39  \n",
       "2019-04-02            bull             0.41  0.06   0.18     0.12  0.22  0.41  \n",
       "2019-04-02            bull             0.42  0.05   0.13     0.14  0.26  0.42  \n",
       "2019-04-02            bull             0.42  0.15   0.12     0.16  0.15  0.42  \n",
       "2019-04-02            long             0.97  0.00   0.00     0.03  0.97  0.00  \n",
       "2019-04-02            long             0.91  0.01   0.02     0.04  0.91  0.02  \n",
       "2019-04-02            long             0.94  0.01   0.02     0.03  0.94  0.00  \n",
       "2019-04-02            long             0.96  0.00   0.01     0.02  0.96  0.01  \n",
       "2019-04-02            long             0.96  0.00   0.02     0.02  0.96  0.00  \n",
       "2019-04-02           short             0.86  0.01   0.86     0.05  0.06  0.02  \n",
       "2019-04-02           short             0.91  0.01   0.91     0.02  0.06  0.00  \n",
       "2019-04-02           short             0.92  0.02   0.92     0.03  0.01  0.01  \n",
       "2019-04-02           short             0.83  0.02   0.83     0.05  0.06  0.04  \n",
       "2019-04-02           short             0.81  0.05   0.81     0.06  0.07  0.01  "
      ]
     },
     "execution_count": 409,
     "metadata": {},
     "output_type": "execute_result"
    }
   ],
   "source": [
    "# top 3 picks by label\n",
    "mask = pred_df.hard_pred_label == pred_df.soft_pred_label\n",
    "agree_df = pred_df.loc[mask].drop_duplicates()\n",
    "# should add sector and industries, group for allocation insights\n",
    "# should add marketcap, beta, etc, group for risk exposure insights\n",
    "label_mask = agree_df.soft_pred_label.isin(['bear', 'short', 'long', 'bull'])\n",
    "agree_df.loc[label_mask]\\\n",
    "    .sort_values(by='soft_confidence', ascending=False)\\\n",
    "    .groupby(by='soft_pred_label').head(5)\\\n",
    "    .sort_values(by='soft_pred_label')"
   ]
  },
  {
   "cell_type": "markdown",
   "metadata": {
    "heading_collapsed": true
   },
   "source": [
    "### Old Code"
   ]
  },
  {
   "cell_type": "code",
   "execution_count": 18,
   "metadata": {
    "hidden": true
   },
   "outputs": [
    {
     "name": "stdout",
     "output_type": "stream",
     "text": [
      "(0.9960288141854451, 0.6626038781163435)\n"
     ]
    }
   ],
   "source": [
    "features = X_train.shape[1]\n",
    "\n",
    "# RandomForestClassifier\n",
    "params = {\n",
    "    'n_estimators': 50, 'max_features': features, 'max_depth': 30,\n",
    "    'min_samples_split': 2, \n",
    "    'random_state': 1, 'n_jobs': -1}\n",
    "\n",
    "rfc = RandomForestClassifier(**params).fit(X_train, y_train)\n",
    "scores = rfc.score(X_train, y_train), rfc.score(X_test, y_test)\n",
    "print(scores)"
   ]
  },
  {
   "cell_type": "code",
   "execution_count": 19,
   "metadata": {
    "hidden": true
   },
   "outputs": [
    {
     "name": "stdout",
     "output_type": "stream",
     "text": [
      "(0.9970908755079424, 0.6587257617728531)\n"
     ]
    }
   ],
   "source": [
    "# ExtraTreesClassifier\n",
    "params = {\n",
    "    'n_estimators': 50, 'max_depth': 30,\n",
    "    'min_samples_split': 2, 'min_samples_leaf': 1,\n",
    "    'random_state': None, 'n_jobs': -1}\n",
    "\n",
    "etc = ExtraTreesClassifier(**params).fit(X_train, y_train)\n",
    "scores = etc.score(X_train, y_train), etc.score(X_test, y_test)\n",
    "print(scores)"
   ]
  },
  {
   "cell_type": "code",
   "execution_count": 20,
   "metadata": {
    "hidden": true
   },
   "outputs": [
    {
     "data": {
      "image/png": "[encoded data removed]",
      "text/plain": [
       "<Figure size 1080x864 with 12 Axes>"
      ]
     },
     "metadata": {
      "needs_background": "light"
     },
     "output_type": "display_data"
    }
   ],
   "source": [
    "X_train.hist(figsize=(15,12));"
   ]
  },
  {
   "cell_type": "code",
   "execution_count": 21,
   "metadata": {
    "hidden": true
   },
   "outputs": [
    {
     "name": "stdout",
     "output_type": "stream",
     "text": [
      "(0.3139083856667898, 0.31560480147737763)\n",
      "CPU times: user 6.74 s, sys: 982 ms, total: 7.72 s\n",
      "Wall time: 1.36 s\n"
     ]
    }
   ],
   "source": [
    "%%time\n",
    "# MLPClassifier\n",
    "params = {\n",
    "    'solver': 'lbfgs', 'max_iter': 200, 'activation': 'relu', \n",
    "    'alpha': 0.001, 'hidden_layer_sizes': (features - 1, 5),\n",
    "    'learning_rate': 'adaptive', 'random_state': None, 'verbose': True,}\n",
    "\n",
    "mlpc = MLPClassifier(**params).fit(X_train, y_train)\n",
    "scores = mlpc.score(X_train, y_train), mlpc.score(X_test, y_test)\n",
    "print(scores)"
   ]
  },
  {
   "cell_type": "markdown",
   "metadata": {
    "heading_collapsed": true,
    "hidden": true
   },
   "source": [
    "#### Metrics"
   ]
  },
  {
   "cell_type": "code",
   "execution_count": 23,
   "metadata": {
    "hidden": true
   },
   "outputs": [
    {
     "name": "stdout",
     "output_type": "stream",
     "text": [
      "Feature ranking:\n",
      "3 feature +1y_low (0.1264778177375633)\n",
      "2 feature +1y_high (0.12049460077806336)\n",
      "9 feature 0y_low (0.10677496863100529)\n",
      "8 feature 0y_high (0.10581245015996356)\n",
      "1 feature +1y_growth (0.10179368405130386)\n",
      "0 feature +1y_avg (0.09874437019378789)\n",
      "7 feature 0y_growth (0.09106444236163007)\n",
      "4 feature +5y_growth (0.08782767687447313)\n",
      "6 feature 0y_avg (0.08346024826945914)\n",
      "5 feature -5y_growth (0.07754974094275044)\n"
     ]
    },
    {
     "data": {
      "image/png": "[encoded data removed]",
      "text/plain": [
       "<Figure size 432x288 with 1 Axes>"
      ]
     },
     "metadata": {
      "needs_background": "light"
     },
     "output_type": "display_data"
    }
   ],
   "source": [
    "show_fi(rfc, X_train, 25)"
   ]
  },
  {
   "cell_type": "code",
   "execution_count": 24,
   "metadata": {
    "hidden": true
   },
   "outputs": [
    {
     "name": "stdout",
     "output_type": "stream",
     "text": [
      "Confussion Matrix\n",
      " [[ 718  198   30   11   11]\n",
      " [ 203 1054  259   81   17]\n",
      " [  15  226  475  201   19]\n",
      " [  21   78  203  927  116]\n",
      " [   2   14   18  104  414]]\n"
     ]
    }
   ],
   "source": [
    "print('Confussion Matrix\\n', confusion_matrix(rfc.predict(X_test), y_test, labels=fwd_ret_labels))"
   ]
  },
  {
   "cell_type": "code",
   "execution_count": 25,
   "metadata": {
    "hidden": true
   },
   "outputs": [
    {
     "name": "stdout",
     "output_type": "stream",
     "text": [
      "Classificaton report\n",
      "               precision    recall  f1-score   support\n",
      "\n",
      "        bear       0.75      0.74      0.75       968\n",
      "       short       0.72      0.75      0.73       552\n",
      "     neutral       0.70      0.69      0.69      1345\n",
      "        long       0.48      0.51      0.49       936\n",
      "        bull       0.67      0.65      0.66      1614\n",
      "\n",
      "   micro avg       0.66      0.66      0.66      5415\n",
      "   macro avg       0.66      0.67      0.67      5415\n",
      "weighted avg       0.66      0.66      0.66      5415\n",
      "\n"
     ]
    }
   ],
   "source": [
    "print('Classificaton report\\n', classification_report(rfc.predict(X_test), y_test, target_names=fwd_ret_labels))"
   ]
  },
  {
   "cell_type": "code",
   "execution_count": 26,
   "metadata": {
    "hidden": true
   },
   "outputs": [
    {
     "data": {
      "text/plain": [
       "1.883275294345023"
      ]
     },
     "execution_count": 26,
     "metadata": {},
     "output_type": "execute_result"
    }
   ],
   "source": [
    "log_loss(y_test, rfc.predict_proba(X_test))"
   ]
  },
  {
   "cell_type": "markdown",
   "metadata": {
    "heading_collapsed": true,
    "hidden": true
   },
   "source": [
    "#### Gridsearches"
   ]
  },
  {
   "cell_type": "code",
   "execution_count": null,
   "metadata": {
    "hidden": true
   },
   "outputs": [],
   "source": [
    "# np.arange(10, X.shape[1], int(X.shape[1]*.25))"
   ]
  },
  {
   "cell_type": "code",
   "execution_count": null,
   "metadata": {
    "hidden": true
   },
   "outputs": [],
   "source": [
    "# %%time\n",
    "# # GridSearchCV for RandomForestClassifier\n",
    "# parameters = {\n",
    "#     'n_estimators': [10, 40, 80], \n",
    "#     'max_features': np.arange(10, X.shape[1], int(X.shape[1]*.25)), \n",
    "#     'random_state': np.arange(1, 10, 3)}\n",
    "\n",
    "# # parameters = {\n",
    "# #     'n_estimators': [40], \n",
    "# #     'max_features': [30], \n",
    "# #     'random_state': [1]}\n",
    "\n",
    "# clf = GridSearchCV(RandomForestClassifier(), parameters, n_jobs=-1, cv=5)\n",
    "# clf.fit(X_train, y_train)\n",
    "\n",
    "# print(clf.score(X_train, y_train), clf.score(X_test, y_test))\n",
    "# print(clf.best_params_)"
   ]
  },
  {
   "cell_type": "code",
   "execution_count": null,
   "metadata": {
    "hidden": true
   },
   "outputs": [],
   "source": [
    "# %%time\n",
    "# # GridSearchCV for MLPClassifier\n",
    "\n",
    "# parameters = {\n",
    "#     'solver': ['lbfgs'], # ['lbfgs', 'sgd', 'adam']\n",
    "#     'max_iter': [200], # [200, 400, 600]\n",
    "#     'activation': ['relu'], # ['logistic', 'tanh', 'relu']\n",
    "#     'alpha': 10.0 ** -np.arange(2, 5, 1), # 10.0 ** -np.arange(2, 5, 1)\n",
    "#     'learning_rate' : ['adaptive'], # ['constant', 'adaptive']\n",
    "#     'hidden_layer_sizes': np.arange(5, 50, 10), # np.arange(5, 50, 10)\n",
    "#     'random_state': np.arange(0, 10, 3)} # np.arange(0, 10, 2)\n",
    "\n",
    "# parameters = {\n",
    "#     'solver': ['lbfgs'], \n",
    "#     'max_iter': [200], \n",
    "#     'activation': ['relu'], \n",
    "#     'alpha': [0.01], \n",
    "#     'learning_rate' : ['adaptive'], # ['constant', 'adaptive']\n",
    "#     'hidden_layer_sizes': [ 45 ], # np.arange(5, 50, 10)\n",
    "#     'random_state': [0] } # np.arange(0, 10, 2)\n",
    "\n",
    "# clf = GridSearchCV(MLPClassifier(), parameters, n_jobs=-1, cv=5)\n",
    "# clf.fit(X_train, y_train)\n",
    "\n",
    "# scores = clf.score(X_train, y_train), clf.score(X_test, y_test)\n",
    "# print(scores)\n",
    "# print(clf.best_params_)"
   ]
  }
 ],
 "metadata": {
  "kernelspec": {
   "display_name": "Python 3",
   "language": "python",
   "name": "python3"
  },
  "language_info": {
   "codemirror_mode": {
    "name": "ipython",
    "version": 3
   },
   "file_extension": ".py",
   "mimetype": "text/x-python",
   "name": "python",
   "nbconvert_exporter": "python",
   "pygments_lexer": "ipython3",
   "version": "3.7.3"
  }
 },
 "nbformat": 4,
 "nbformat_minor": 2
}
