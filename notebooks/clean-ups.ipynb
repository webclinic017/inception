{
 "cells": [
  {
   "cell_type": "code",
   "execution_count": 1,
   "metadata": {},
   "outputs": [],
   "source": [
    "%reload_ext autoreload\n",
    "\n",
    "# imports\n",
    "import pandas as pd\n",
    "import numpy as np\n",
    "import json, time, random\n",
    "import os.path, urllib\n",
    "from io import StringIO\n",
    "from urllib.request import urlopen\n",
    "from pandas.io.json import json_normalize\n",
    "from datetime import datetime, date\n",
    "\n",
    "from basic_utils import *"
   ]
  },
  {
   "cell_type": "code",
   "execution_count": 2,
   "metadata": {},
   "outputs": [
    {
     "name": "stdout",
     "output_type": "stream",
     "text": [
      "Loading config.json\n"
     ]
    }
   ],
   "source": [
    "conf_file = 'config.json'\n",
    "config = load_config(conf_file)\n",
    "tickers = config['symbols']\n",
    "fname = '{0}.json'"
   ]
  },
  {
   "cell_type": "code",
   "execution_count": null,
   "metadata": {},
   "outputs": [],
   "source": [
    "# script to rename files\n",
    "dataset = 'option'\n",
    "path = config[dataset + '_path']\n",
    "path = path.format(str(date(2018, 9, 7)))\n",
    "files = os.listdir(path)\n",
    "# files = [x for x in files if '_' in x]\n",
    "for f in files:\n",
    "    oldfname = f\n",
    "    nfname = f[:f.index('_')] + '_' + f[len(f) - f[::-1].index('_'):]\n",
    "    os.rename(path + oldfname, path + nfname)\n",
    "    print('Renamed', oldfname, nfname)"
   ]
  },
  {
   "cell_type": "code",
   "execution_count": null,
   "metadata": {},
   "outputs": [],
   "source": [
    "# script to clean up multiple option files\n",
    "dataset = 'option'\n",
    "path = config[dataset + '_path']\n",
    "tgt_date = str(date(2018, 9, 7))\n",
    "path = path.format(tgt_date)\n",
    "files = os.listdir(path)\n",
    "ticker_map = { t: [] for t in tickers}\n",
    "\n",
    "for t in tickers:\n",
    "    for f in files:\n",
    "        if (f.find(t + '_') == 0):\n",
    "            ticker_map[t].append(f)\n",
    "\n",
    "for k in ticker_map.keys():\n",
    "    print('Fixing', k)\n",
    "    full_data = []\n",
    "    for exp in ticker_map[k]:\n",
    "        oldfile = path + exp\n",
    "        with open(oldfile, 'r') as file:\n",
    "            data = file.read()\n",
    "            file.close()\n",
    "            data = json.loads(data)\n",
    "        full_data.extend(getChildrenList(data, 'optionChain')) \n",
    "    data = json.dumps(full_data)\n",
    "    save_to_file(data, path, fname.format(k))"
   ]
  },
  {
   "cell_type": "code",
   "execution_count": null,
   "metadata": {},
   "outputs": [],
   "source": [
    "# script to clean up multiple old quotes into one file\n",
    "dataset = 'quote'\n",
    "path = config[dataset + '_path']\n",
    "tgt_date = str(date(2018, 9, 7))\n",
    "path = path + '/' + tgt_date + '/'\n",
    "files = os.listdir(path)\n",
    "files\n",
    "\n",
    "full_data = []\n",
    "for f in files:\n",
    "    print('Fixing', f)\n",
    "    oldfile = path + f\n",
    "    with open(oldfile, 'r') as file:\n",
    "        data = file.read()\n",
    "        file.close()\n",
    "        data = json.loads(data)\n",
    "    full_data.extend(getChildrenList(data, 'quoteResponse')) \n",
    "data = json.dumps(full_data)\n",
    "save_to_file(data, config[dataset + '_path'], fname.format(tgt_date))"
   ]
  },
  {
   "cell_type": "code",
   "execution_count": 5,
   "metadata": {},
   "outputs": [
    {
     "data": {
      "text/plain": [
       "22"
      ]
     },
     "execution_count": 5,
     "metadata": {},
     "output_type": "execute_result"
    }
   ],
   "source": [
    "dataset = 'option'\n",
    "path = config[dataset + '_path']\n",
    "tgt_date = str(date(2018, 9, 10))\n",
    "path = path.format(tgt_date)\n",
    "files = os.listdir(path)\n",
    "len(files)"
   ]
  },
  {
   "cell_type": "code",
   "execution_count": null,
   "metadata": {},
   "outputs": [],
   "source": []
  }
 ],
 "metadata": {
  "kernelspec": {
   "display_name": "Python 3",
   "language": "python",
   "name": "python3"
  },
  "language_info": {
   "codemirror_mode": {
    "name": "ipython",
    "version": 3
   },
   "file_extension": ".py",
   "mimetype": "text/x-python",
   "name": "python",
   "nbconvert_exporter": "python",
   "pygments_lexer": "ipython3",
   "version": "3.6.6"
  },
  "toc": {
   "base_numbering": 1,
   "nav_menu": {},
   "number_sections": true,
   "sideBar": true,
   "skip_h1_title": false,
   "title_cell": "Table of Contents",
   "title_sidebar": "Contents",
   "toc_cell": false,
   "toc_position": {},
   "toc_section_display": true,
   "toc_window_display": false
  }
 },
 "nbformat": 4,
 "nbformat_minor": 2
}
