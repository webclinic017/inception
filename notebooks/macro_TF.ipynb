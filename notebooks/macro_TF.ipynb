{
 "cells": [
  {
   "cell_type": "code",
   "execution_count": 3,
   "metadata": {
    "code_folding": []
   },
   "outputs": [],
   "source": [
    "# imports\n",
    "%reload_ext autoreload\n",
    "%autoreload 2\n",
    "%matplotlib inline \n",
    "\n",
    "import sys, os\n",
    "from utils.basic_utils import *\n",
    "from utils.pricing import *\n",
    "from utils.fundamental import *\n",
    "from utils import ml_utils as mu\n",
    "\n",
    "pd.options.display.float_format = '{:,.2f}'.format\n",
    "\n",
    "from sklearn import preprocessing\n",
    "from sklearn.preprocessing import StandardScaler\n",
    "from sklearn.impute import SimpleImputer\n",
    "from pandas.api.types import is_string_dtype, is_numeric_dtype, is_categorical_dtype\n",
    "from sklearn.ensemble import forest\n",
    "\n",
    "from sklearn.model_selection import cross_val_score, cross_validate, train_test_split\n",
    "from sklearn.model_selection import GridSearchCV\n",
    "from sklearn.utils.multiclass import unique_labels\n",
    "from sklearn.metrics import confusion_matrix, classification_report\n",
    "from sklearn.metrics import accuracy_score, log_loss, precision_recall_fscore_support\n",
    "from sklearn.metrics import precision_score, roc_auc_score\n",
    "\n",
    "from sklearn.ensemble import VotingClassifier\n",
    "from sklearn.ensemble import RandomForestClassifier\n",
    "from sklearn.ensemble import ExtraTreesClassifier\n",
    "from sklearn.neural_network import MLPClassifier\n",
    "from sklearn.externals import joblib\n",
    "\n",
    "import numpy as np\n",
    "import keras\n",
    "from keras.models import Sequential, load_model\n",
    "from keras.layers import Dense, Dropout, Activation\n",
    "from keras.optimizers import SGD, Adam, Adagrad, Adadelta, Adamax, Nadam, RMSprop\n",
    "from keras.callbacks import EarlyStopping, ModelCheckpoint\n",
    "from keras.callbacks import CSVLogger"
   ]
  },
  {
   "cell_type": "code",
   "execution_count": 4,
   "metadata": {},
   "outputs": [
    {
     "data": {
      "text/plain": [
       "[]"
      ]
     },
     "execution_count": 4,
     "metadata": {},
     "output_type": "execute_result"
    }
   ],
   "source": [
    "from keras import backend as K\n",
    "K.tensorflow_backend._get_available_gpus()"
   ]
  },
  {
   "cell_type": "code",
   "execution_count": 5,
   "metadata": {
    "code_folding": [],
    "scrolled": true
   },
   "outputs": [],
   "source": [
    "# environment variables\n",
    "freq = '1d'\n",
    "cuts = { '1d': [-1, -0.1, -.02, .02, .1, 1.] }\n",
    "cut_range = cuts[freq]\n",
    "fwd_ret_labels = [\"bear\", \"short\", \"neutral\", \"long\", \"bull\"]\n",
    "\n",
    "# pricing, refresh once\n",
    "benchSL, sectorSL, riskSL, rateSL, bondSL, commSL, currSL = \\\n",
    "    config['benchmarks'], config['sectors'], config['risk'], config['rates'], \\\n",
    "    config['bonds'], config['commodities'], config['currencies']\n",
    "symbols_list = benchSL + sectorSL + riskSL + rateSL + bondSL + commSL + currSL\n",
    "\n",
    "keep_bench = excl(benchSL, ['^STOXX50E', '^AXJO'])\n",
    "keep_fx = excl(currSL, ['HKD=X', 'MXN=X', 'AUDUSD=X', 'NZDUSD=X', 'TWD=X', 'CLP=X', 'KRW=X'])\n",
    "keep_sect = excl(sectorSL, ['SPY', 'QQQ', 'DIA', 'IWM', 'XLC', 'XLRE'])\n",
    "keep_bonds = ['LQD', 'HYG']\n",
    "\n",
    "include = riskSL + keep_bench + keep_sect + rateSL + keep_fx + keep_bonds\n",
    "invert = ['EURUSD=X', 'GBPUSD=X']\n",
    "incl_price = riskSL\n",
    "\n",
    "bench = '^GSPC'\n",
    "y_col = 'fwdReturn'\n",
    "pred_fwd_windowspred_fwd_windows = [20, 60, 120]\n",
    "rate_windows = [20, 60]\n",
    "sec_windows, stds = [5, 20, 60], 1"
   ]
  },
  {
   "cell_type": "code",
   "execution_count": 6,
   "metadata": {
    "code_folding": []
   },
   "outputs": [],
   "source": [
    "def create_ds(px_close, context):\n",
    "    print('create_ds')\n",
    "    portion = context['portion']\n",
    "    verbose = context['verbose']\n",
    "    # average the return of the next periods\n",
    "    # select only rows where Y variable is not null\n",
    "    ds_idx = px_close.dropna(subset=[bench]).index\n",
    "\n",
    "    df_large = pd.DataFrame()\n",
    "    rate_ft_df = rate_feats(px_close[rateSL], rate_windows) # rate transforms\n",
    "    df_large[rate_ft_df.columns] = rate_ft_df\n",
    "\n",
    "    # price momentum transforms\n",
    "    super_list = []\n",
    "    for ticker in include:\n",
    "        inv = ticker in invert\n",
    "        incl_px = ticker in incl_price\n",
    "        df = px_close[ticker]\n",
    "        ft_df = px_mom_feats(df, ticker, stds, inv, incl_px, sec_windows)\n",
    "        super_list.append(ft_df.drop_duplicates())\n",
    "    df_large = pd.concat(super_list, axis=1).sort_index()\n",
    "    df_large = df_large.loc[ds_idx, :] # drop NAs before discretizing\n",
    "\n",
    "    return ds_idx, df_large"
   ]
  },
  {
   "cell_type": "code",
   "execution_count": 7,
   "metadata": {
    "code_folding": []
   },
   "outputs": [],
   "source": [
    "def pre_process_ds(raw_df, context):\n",
    "    \n",
    "    print('pre_process_ds')\n",
    "    fill_on, scaler_on = context['fill'], context['scale']\n",
    "    ml_path = context['ml_path']\n",
    "    train_cols = context['trained_cols']\n",
    "    test_sz, verbose = context['test_size'], context['verbose']\n",
    "\n",
    "    scaler = StandardScaler()\n",
    "    X_cols = excl(raw_df.columns, [y_col])\n",
    "\n",
    "    raw_df.replace([np.inf, -np.inf], np.nan, inplace=True)\n",
    "    if scaler_on: raw_df[X_cols] = scaler.fit_transform(raw_df[X_cols])\n",
    "    if fill_on: raw_df.loc[:, X_cols] = raw_df.fillna(method=fill_on)\n",
    "\n",
    "    return raw_df"
   ]
  },
  {
   "cell_type": "code",
   "execution_count": 17,
   "metadata": {
    "code_folding": []
   },
   "outputs": [],
   "source": [
    "def get_train_test_set(context):\n",
    "    \n",
    "    print(f'Benchmark: {bench}, Y: {y_col}, Include: {include}, invert: {invert}, include price: {incl_price}')\n",
    "\n",
    "    imputer_on = context['impute']\n",
    "    \n",
    "    # create and pre-process datasets\n",
    "    ds_idx, raw_df = create_ds(px_close, context)    \n",
    "    raw_df = pre_process_ds(raw_df, context)\n",
    "    Y = px_fwd_rets(px_close.loc[ds_idx, bench], bench, pred_fwd_windows)\n",
    "    raw_df[y_col] = Y\n",
    "\n",
    "    # discretize forward returns into classes\n",
    "    raw_df.dropna(subset=[y_col], inplace=True)\n",
    "    raw_df.loc[:, y_col] = discret_rets(raw_df[y_col], cut_range, fwd_ret_labels)\n",
    "    raw_df.dropna(subset=[y_col], inplace=True) # no nas in y_col\n",
    "    print(sample_wgts(raw_df[y_col]))\n",
    "    raw_df.loc[:, y_col] = raw_df[y_col].astype(str) # class as string\n",
    "\n",
    "    X_cols = excl(raw_df.columns, [y_col])\n",
    "    imputer = SimpleImputer(\n",
    "        missing_values=np.nan,\n",
    "        strategy='median', copy=False)\n",
    "    if imputer_on: raw_df.loc[:, X_cols] = imputer.fit_transform(raw_df[X_cols])\n",
    "    else: raw_df.dropna(inplace=True)\n",
    "        \n",
    "    return raw_df"
   ]
  },
  {
   "cell_type": "code",
   "execution_count": 18,
   "metadata": {
    "code_folding": [
     0
    ]
   },
   "outputs": [],
   "source": [
    "def train_ds(context):\n",
    "\n",
    "    test_sz = context['test_size']\n",
    "    ml_path = context['ml_path']\n",
    "    trained_cols = context['trained_cols']\n",
    "    verbose = context['verbose']\n",
    "    units = context['units']\n",
    "    max_iter = context['max_iter']\n",
    "    l2_reg = context['l2_reg']\n",
    "    dropout = context['dropout']\n",
    "    \n",
    "    raw_df = get_train_test_set(context)\n",
    "    \n",
    "    X, y = raw_df.drop(columns=y_col), raw_df[y_col]\n",
    "    X_train, X_test, y_train, y_test = train_test_split(\n",
    "        X, y, test_size=test_sz, random_state=None) \n",
    "\n",
    "    # save training columns\n",
    "    np.save(ml_path + trained_cols, X_train.columns) # save feature order\n",
    "    print(f'X_train.shape {X_train.shape}, columns: {list(X_train.columns)}')\n",
    "    print('Saved: ', ml_path + trained_cols)\n",
    "\n",
    "    # Keras Model\n",
    "    y_train_oh = pd.get_dummies(y_train)[fwd_ret_labels]\n",
    "    y_test_oh = pd.get_dummies(y_test)[fwd_ret_labels]\n",
    "\n",
    "    keras.regularizers.l2(l=l2_reg)\n",
    "    model = Sequential()\n",
    "    model.add(Dense(units, activation='relu', input_dim=X_train.shape[1]))\n",
    "    model.add(Dropout(0.5))\n",
    "    model.add(Dense(units, activation='relu'))\n",
    "    model.add(Dropout(0.5))\n",
    "    model.add(Dense(units, activation='relu'))\n",
    "    model.add(Dropout(0.5))\n",
    "    model.add(Dense(int(units/2), activation='relu'))\n",
    "    model.add(Dense(len(pd.unique(y_train)), activation='softmax'))\n",
    "\n",
    "    ml_path, model_name = context['ml_path'], context['model_name']\n",
    "    fname = ml_path + model_name\n",
    "\n",
    "    es = EarlyStopping(monitor='loss', patience=10, restore_best_weights=True, verbose=1)\n",
    "    checkpointer = ModelCheckpoint(filepath=fname, verbose=1, save_best_only=True)\n",
    "    csv_logger = CSVLogger('macro-train.log')\n",
    "\n",
    "    opt = Adam()\n",
    "    model.compile(loss='categorical_crossentropy', optimizer=opt, metrics=['accuracy'])\n",
    "\n",
    "    history = model.fit(\n",
    "    X_train, y_train_oh, validation_data=(X_test, y_test_oh),\n",
    "    epochs=max_iter, batch_size=200,callbacks=[es, checkpointer, csv_logger])\n",
    "\n",
    "    score = model.evaluate(X_test, y_test_oh)\n",
    "    print(f'Loss: {score[0]}, Accuracy: {score[1]}')\n",
    "\n",
    "    # save model to drive\n",
    "    ml_path, model_name = context['ml_path'], context['model_name']\n",
    "    fname = ml_path + model_name\n",
    "    model.save(fname)\n",
    "    print('Saved ', fname)"
   ]
  },
  {
   "cell_type": "code",
   "execution_count": 19,
   "metadata": {
    "code_folding": [
     0
    ]
   },
   "outputs": [],
   "source": [
    "def predict_ds(context):\n",
    "    ml_path = context['ml_path']\n",
    "    model_name = context['model_name']\n",
    "    trained_cols = context['trained_cols']\n",
    "    pred_batch = context['predict_batch']\n",
    "    \n",
    "    ds_idx, raw_df = create_ds(px_close, context)\n",
    "    pred_X = pre_process_ds(raw_df, context)\n",
    "    pred_X = pred_X.iloc[-pred_batch:,:].dropna(axis=0)\n",
    "    print('pred_X.shape', pred_X.shape)\n",
    "\n",
    "    # ensure prediction dataset is consistent with trained model\n",
    "    train_cols = np.load(ml_path + trained_cols, allow_pickle=True) # save feature order\n",
    "    missing_cols = [x for x in train_cols if x not in pred_X.columns]\n",
    "    if len(missing_cols):\n",
    "        print(f'Warning missing columns: {missing_cols}')\n",
    "        pred_X = pd.concat([pred_X, pd.DataFrame(columns=missing_cols)], axis=1)\n",
    "        pred_X[missing_cols] = 0\n",
    "\n",
    "    print('pred_X.shape', pred_X[train_cols].shape)\n",
    "\n",
    "    pred_df = px_close.loc[pred_X.index, bench].to_frame()\n",
    "\n",
    "    # Load model    \n",
    "    fname = ml_path + model_name\n",
    "    model = load_model(fname)\n",
    "    print('Loaded', fname)\n",
    "\n",
    "    preds = model.predict(pred_X[train_cols])\n",
    "    preds_classes = model.predict_classes(pred_X[train_cols])    \n",
    "    \n",
    "    pred_df['pred_class'] = preds_classes\n",
    "    pred_df['pred_label'] = list(map(lambda x: fwd_ret_labels[x], preds_classes))\n",
    "    probs = np.round(preds,3)\n",
    "    pred_prob = np.argmax(probs, axis=1)\n",
    "    pred_df['confidence'] = [x[np.argmax(x)] for x in probs] # higest prob\n",
    "    prob_df = pd.DataFrame(probs, index=pred_df.index, columns=fwd_ret_labels)\n",
    "    pred_df = pd.concat([pred_df, prob_df[fwd_ret_labels]], axis=1)\n",
    "    pred_df.index.name = 'pred_date'\n",
    "\n",
    "    # store in S3\n",
    "    s3_path = context['s3_path']\n",
    "    s3_df = pred_df.reset_index(drop=False)\n",
    "    rename_col(s3_df, 'index', 'pred_date')\n",
    "    tgt_date = str(pred_X.index[-1])\n",
    "    csv_store(s3_df, s3_path, csv_ext.format(tgt_date))\n",
    "            \n",
    "    return pred_df"
   ]
  },
  {
   "cell_type": "markdown",
   "metadata": {},
   "source": [
    "### Final version"
   ]
  },
  {
   "cell_type": "markdown",
   "metadata": {},
   "source": [
    "Given the date range of key series currently working only with:\n",
    "- Benchmarks: DOW, Nasdaq, SPY, and Russell 2000\n",
    "- Sectors ETFs (excluding benchmarks)\n",
    "- Rates: 2, 5, 10, and 30 year treasuries\n",
    "- Risk: VIX\n",
    "- Hard currencies (JPY, EUR, GBP and Dollar Index DXY)\n",
    "- Corporate Bonds: Investment Grade (LQD), High Yield (JNK and HYG)\n",
    "\n",
    "Ideally would like to go back further are include:\n",
    "- Commodities price change\n",
    "- Yields Spreads from Corporate Spreads"
   ]
  },
  {
   "cell_type": "code",
   "execution_count": 20,
   "metadata": {},
   "outputs": [],
   "source": [
    "context = {\n",
    "    'portion': 100e-2,\n",
    "    'ml_path': '../ML/',\n",
    "    'model_name': 'macro_TF.h5',\n",
    "    'tmp_path': '../tmp/',\n",
    "    'ds_name': 'co-bottomup-ds',\n",
    "    'px_close': 'universe-px-ds',\n",
    "    'trained_cols': 'macro_TF_train_cols.npy',\n",
    "    'look_ahead': 20,\n",
    "    'look_back': 252,\n",
    "    'smooth_window': 10,\n",
    "    'predict_batch': 252,\n",
    "    'load_ds': True,\n",
    "    'impute': True,\n",
    "    'fill': 'ffill',\n",
    "    'scale': True,\n",
    "    'test_size': .10,\n",
    "    's3_path': 'recommend/macro_ML/',\n",
    "    'verbose': 2,\n",
    "    'units': 1000,\n",
    "    'hidden_layers': 4,\n",
    "    'max_iter': 400,\n",
    "    'l2_reg': 0.5,\n",
    "    'dropout': 0.5,\n",
    "}"
   ]
  },
  {
   "cell_type": "code",
   "execution_count": 21,
   "metadata": {},
   "outputs": [
    {
     "name": "stdout",
     "output_type": "stream",
     "text": [
      "px_close.shape (4375, 34)\n"
     ]
    }
   ],
   "source": [
    "px_close = load_px_close(\n",
    "    context['tmp_path'],\n",
    "    context['px_close'],\n",
    "    context['load_ds'])[include].drop_duplicates()\n",
    "print('px_close.shape', px_close.shape)"
   ]
  },
  {
   "cell_type": "markdown",
   "metadata": {},
   "source": [
    "#### Train"
   ]
  },
  {
   "cell_type": "code",
   "execution_count": 22,
   "metadata": {
    "code_folding": [],
    "scrolled": true
   },
   "outputs": [
    {
     "name": "stdout",
     "output_type": "stream",
     "text": [
      "Benchmark: ^GSPC, Y: fwdReturn, Include: ['^VIX', '^GSPC', '^GDAXI', '^FTSE', '^N225', '^RUT', '^DJI', '^IXIC', '^HSI', 'XLF', 'XLP', 'XLK', 'XLV', 'XLI', 'XLB', 'FXI', 'EEM', 'XLE', 'IJR', 'IJH', 'XLY', 'XLU', '^IRX', '^FVX', '^TNX', '^TYX', 'DX-Y.NYB', 'CHF=X', 'GBPUSD=X', 'EURUSD=X', 'JPY=X', 'CNY=X', 'LQD', 'HYG'], invert: ['EURUSD=X', 'GBPUSD=X'], include price: ['^VIX']\n",
      "create_ds\n"
     ]
    },
    {
     "name": "stderr",
     "output_type": "stream",
     "text": [
      "/Users/vveiga/miniconda3/envs/inception/lib/python3.6/site-packages/ipykernel_launcher.py:21: FutureWarning: Sorting because non-concatenation axis is not aligned. A future version\n",
      "of pandas will change to not sort by default.\n",
      "\n",
      "To accept the future behavior, pass 'sort=False'.\n",
      "\n",
      "To retain the current behavior and silence the warning, pass 'sort=True'.\n",
      "\n",
      "/Users/vveiga/miniconda3/envs/inception/lib/python3.6/site-packages/sklearn/preprocessing/data.py:645: DataConversionWarning: Data with input dtype float32, float64 were all converted to float64 by StandardScaler.\n",
      "  return self.partial_fit(X, y)\n",
      "/Users/vveiga/miniconda3/envs/inception/lib/python3.6/site-packages/sklearn/base.py:464: DataConversionWarning: Data with input dtype float32, float64 were all converted to float64 by StandardScaler.\n",
      "  return self.fit(X, **fit_params).transform(X)\n"
     ]
    },
    {
     "name": "stdout",
     "output_type": "stream",
     "text": [
      "pre_process_ds\n",
      "long      0.51\n",
      "neutral   0.26\n",
      "short     0.14\n",
      "bull      0.05\n",
      "bear      0.04\n",
      "Name: fwdReturn, dtype: float64\n",
      "X_train.shape (3378, 307), columns: ['^VIXClose', '^VIXPctChg1Stds', '^VIXPctMA50', '^VIXPctMA200', '^VIXRollVol30', '^VIXPctChg5', '^VIXPctChg20', '^VIXPctChg60', '^VIXPct52WkH', '^VIXPct52WkL', '^GSPCPctChg1Stds', '^GSPCPctMA50', '^GSPCPctMA200', '^GSPCRollVol30', '^GSPCPctChg5', '^GSPCPctChg20', '^GSPCPctChg60', '^GSPCPct52WkH', '^GSPCPct52WkL', '^GDAXIPctChg1Stds', '^GDAXIPctMA50', '^GDAXIPctMA200', '^GDAXIRollVol30', '^GDAXIPctChg5', '^GDAXIPctChg20', '^GDAXIPctChg60', '^GDAXIPct52WkH', '^GDAXIPct52WkL', '^FTSEPctChg1Stds', '^FTSEPctMA50', '^FTSEPctMA200', '^FTSERollVol30', '^FTSEPctChg5', '^FTSEPctChg20', '^FTSEPctChg60', '^FTSEPct52WkH', '^FTSEPct52WkL', '^N225PctChg1Stds', '^N225PctMA50', '^N225PctMA200', '^N225RollVol30', '^N225PctChg5', '^N225PctChg20', '^N225PctChg60', '^N225Pct52WkH', '^N225Pct52WkL', '^RUTPctChg1Stds', '^RUTPctMA50', '^RUTPctMA200', '^RUTRollVol30', '^RUTPctChg5', '^RUTPctChg20', '^RUTPctChg60', '^RUTPct52WkH', '^RUTPct52WkL', '^DJIPctChg1Stds', '^DJIPctMA50', '^DJIPctMA200', '^DJIRollVol30', '^DJIPctChg5', '^DJIPctChg20', '^DJIPctChg60', '^DJIPct52WkH', '^DJIPct52WkL', '^IXICPctChg1Stds', '^IXICPctMA50', '^IXICPctMA200', '^IXICRollVol30', '^IXICPctChg5', '^IXICPctChg20', '^IXICPctChg60', '^IXICPct52WkH', '^IXICPct52WkL', '^HSIPctChg1Stds', '^HSIPctMA50', '^HSIPctMA200', '^HSIRollVol30', '^HSIPctChg5', '^HSIPctChg20', '^HSIPctChg60', '^HSIPct52WkH', '^HSIPct52WkL', 'XLFPctChg1Stds', 'XLFPctMA50', 'XLFPctMA200', 'XLFRollVol30', 'XLFPctChg5', 'XLFPctChg20', 'XLFPctChg60', 'XLFPct52WkH', 'XLFPct52WkL', 'XLPPctChg1Stds', 'XLPPctMA50', 'XLPPctMA200', 'XLPRollVol30', 'XLPPctChg5', 'XLPPctChg20', 'XLPPctChg60', 'XLPPct52WkH', 'XLPPct52WkL', 'XLKPctChg1Stds', 'XLKPctMA50', 'XLKPctMA200', 'XLKRollVol30', 'XLKPctChg5', 'XLKPctChg20', 'XLKPctChg60', 'XLKPct52WkH', 'XLKPct52WkL', 'XLVPctChg1Stds', 'XLVPctMA50', 'XLVPctMA200', 'XLVRollVol30', 'XLVPctChg5', 'XLVPctChg20', 'XLVPctChg60', 'XLVPct52WkH', 'XLVPct52WkL', 'XLIPctChg1Stds', 'XLIPctMA50', 'XLIPctMA200', 'XLIRollVol30', 'XLIPctChg5', 'XLIPctChg20', 'XLIPctChg60', 'XLIPct52WkH', 'XLIPct52WkL', 'XLBPctChg1Stds', 'XLBPctMA50', 'XLBPctMA200', 'XLBRollVol30', 'XLBPctChg5', 'XLBPctChg20', 'XLBPctChg60', 'XLBPct52WkH', 'XLBPct52WkL', 'FXIPctChg1Stds', 'FXIPctMA50', 'FXIPctMA200', 'FXIRollVol30', 'FXIPctChg5', 'FXIPctChg20', 'FXIPctChg60', 'FXIPct52WkH', 'FXIPct52WkL', 'EEMPctChg1Stds', 'EEMPctMA50', 'EEMPctMA200', 'EEMRollVol30', 'EEMPctChg5', 'EEMPctChg20', 'EEMPctChg60', 'EEMPct52WkH', 'EEMPct52WkL', 'XLEPctChg1Stds', 'XLEPctMA50', 'XLEPctMA200', 'XLERollVol30', 'XLEPctChg5', 'XLEPctChg20', 'XLEPctChg60', 'XLEPct52WkH', 'XLEPct52WkL', 'IJRPctChg1Stds', 'IJRPctMA50', 'IJRPctMA200', 'IJRRollVol30', 'IJRPctChg5', 'IJRPctChg20', 'IJRPctChg60', 'IJRPct52WkH', 'IJRPct52WkL', 'IJHPctChg1Stds', 'IJHPctMA50', 'IJHPctMA200', 'IJHRollVol30', 'IJHPctChg5', 'IJHPctChg20', 'IJHPctChg60', 'IJHPct52WkH', 'IJHPct52WkL', 'XLYPctChg1Stds', 'XLYPctMA50', 'XLYPctMA200', 'XLYRollVol30', 'XLYPctChg5', 'XLYPctChg20', 'XLYPctChg60', 'XLYPct52WkH', 'XLYPct52WkL', 'XLUPctChg1Stds', 'XLUPctMA50', 'XLUPctMA200', 'XLURollVol30', 'XLUPctChg5', 'XLUPctChg20', 'XLUPctChg60', 'XLUPct52WkH', 'XLUPct52WkL', '^IRXPctChg1Stds', '^IRXPctMA50', '^IRXPctMA200', '^IRXRollVol30', '^IRXPctChg5', '^IRXPctChg20', '^IRXPctChg60', '^IRXPct52WkH', '^IRXPct52WkL', '^FVXPctChg1Stds', '^FVXPctMA50', '^FVXPctMA200', '^FVXRollVol30', '^FVXPctChg5', '^FVXPctChg20', '^FVXPctChg60', '^FVXPct52WkH', '^FVXPct52WkL', '^TNXPctChg1Stds', '^TNXPctMA50', '^TNXPctMA200', '^TNXRollVol30', '^TNXPctChg5', '^TNXPctChg20', '^TNXPctChg60', '^TNXPct52WkH', '^TNXPct52WkL', '^TYXPctChg1Stds', '^TYXPctMA50', '^TYXPctMA200', '^TYXRollVol30', '^TYXPctChg5', '^TYXPctChg20', '^TYXPctChg60', '^TYXPct52WkH', '^TYXPct52WkL', 'DX-Y.NYBPctChg1Stds', 'DX-Y.NYBPctMA50', 'DX-Y.NYBPctMA200', 'DX-Y.NYBRollVol30', 'DX-Y.NYBPctChg5', 'DX-Y.NYBPctChg20', 'DX-Y.NYBPctChg60', 'DX-Y.NYBPct52WkH', 'DX-Y.NYBPct52WkL', 'CHF=XPctChg1Stds', 'CHF=XPctMA50', 'CHF=XPctMA200', 'CHF=XRollVol30', 'CHF=XPctChg5', 'CHF=XPctChg20', 'CHF=XPctChg60', 'CHF=XPct52WkH', 'CHF=XPct52WkL', 'GBPUSD=XPctChg1Stds', 'GBPUSD=XPctMA50', 'GBPUSD=XPctMA200', 'GBPUSD=XRollVol30', 'GBPUSD=XPctChg5', 'GBPUSD=XPctChg20', 'GBPUSD=XPctChg60', 'GBPUSD=XPct52WkH', 'GBPUSD=XPct52WkL', 'EURUSD=XPctChg1Stds', 'EURUSD=XPctMA50', 'EURUSD=XPctMA200', 'EURUSD=XRollVol30', 'EURUSD=XPctChg5', 'EURUSD=XPctChg20', 'EURUSD=XPctChg60', 'EURUSD=XPct52WkH', 'EURUSD=XPct52WkL', 'JPY=XPctChg1Stds', 'JPY=XPctMA50', 'JPY=XPctMA200', 'JPY=XRollVol30', 'JPY=XPctChg5', 'JPY=XPctChg20', 'JPY=XPctChg60', 'JPY=XPct52WkH', 'JPY=XPct52WkL', 'CNY=XPctChg1Stds', 'CNY=XPctMA50', 'CNY=XPctMA200', 'CNY=XRollVol30', 'CNY=XPctChg5', 'CNY=XPctChg20', 'CNY=XPctChg60', 'CNY=XPct52WkH', 'CNY=XPct52WkL', 'LQDPctChg1Stds', 'LQDPctMA50', 'LQDPctMA200', 'LQDRollVol30', 'LQDPctChg5', 'LQDPctChg20', 'LQDPctChg60', 'LQDPct52WkH', 'LQDPct52WkL', 'HYGPctChg1Stds', 'HYGPctMA50', 'HYGPctMA200', 'HYGRollVol30', 'HYGPctChg5', 'HYGPctChg20', 'HYGPctChg60', 'HYGPct52WkH', 'HYGPct52WkL']\n",
      "Saved:  ../ML/macro_TF_train_cols.npy\n",
      "Train on 3378 samples, validate on 376 samples\n",
      "Epoch 1/400\n",
      "3378/3378 [==============================] - 2s 722us/step - loss: 1.4271 - acc: 0.4520 - val_loss: 1.1182 - val_acc: 0.5532\n",
      "\n",
      "Epoch 00001: val_loss improved from inf to 1.11824, saving model to ../ML/macro_TF.h5\n",
      "Epoch 2/400\n",
      "3378/3378 [==============================] - 1s 240us/step - loss: 0.9834 - acc: 0.5856 - val_loss: 0.7850 - val_acc: 0.6729\n",
      "\n",
      "Epoch 00002: val_loss improved from 1.11824 to 0.78504, saving model to ../ML/macro_TF.h5\n",
      "Epoch 3/400\n",
      "3378/3378 [==============================] - 1s 287us/step - loss: 0.7402 - acc: 0.6957 - val_loss: 0.5791 - val_acc: 0.7447\n",
      "\n",
      "Epoch 00003: val_loss improved from 0.78504 to 0.57911, saving model to ../ML/macro_TF.h5\n",
      "Epoch 4/400\n",
      "3378/3378 [==============================] - 1s 293us/step - loss: 0.5979 - acc: 0.7679 - val_loss: 0.4605 - val_acc: 0.8378\n",
      "\n",
      "Epoch 00004: val_loss improved from 0.57911 to 0.46050, saving model to ../ML/macro_TF.h5\n",
      "Epoch 5/400\n",
      "3378/3378 [==============================] - 1s 258us/step - loss: 0.5150 - acc: 0.8046 - val_loss: 0.4122 - val_acc: 0.8271\n",
      "\n",
      "Epoch 00005: val_loss improved from 0.46050 to 0.41217, saving model to ../ML/macro_TF.h5\n",
      "Epoch 6/400\n",
      "3378/3378 [==============================] - 1s 301us/step - loss: 0.4609 - acc: 0.8159 - val_loss: 0.3944 - val_acc: 0.8537\n",
      "\n",
      "Epoch 00006: val_loss improved from 0.41217 to 0.39444, saving model to ../ML/macro_TF.h5\n",
      "Epoch 7/400\n",
      "3378/3378 [==============================] - 1s 310us/step - loss: 0.4505 - acc: 0.8319 - val_loss: 0.3811 - val_acc: 0.8590\n",
      "\n",
      "Epoch 00007: val_loss improved from 0.39444 to 0.38114, saving model to ../ML/macro_TF.h5\n",
      "Epoch 8/400\n",
      "3378/3378 [==============================] - 1s 282us/step - loss: 0.4246 - acc: 0.8387 - val_loss: 0.3509 - val_acc: 0.8697\n",
      "\n",
      "Epoch 00008: val_loss improved from 0.38114 to 0.35093, saving model to ../ML/macro_TF.h5\n",
      "Epoch 9/400\n",
      "3378/3378 [==============================] - 1s 308us/step - loss: 0.3726 - acc: 0.8567 - val_loss: 0.3588 - val_acc: 0.8617\n",
      "\n",
      "Epoch 00009: val_loss did not improve from 0.35093\n",
      "Epoch 10/400\n",
      "3378/3378 [==============================] - 1s 312us/step - loss: 0.3506 - acc: 0.8567 - val_loss: 0.3388 - val_acc: 0.8830\n",
      "\n",
      "Epoch 00010: val_loss improved from 0.35093 to 0.33878, saving model to ../ML/macro_TF.h5\n",
      "Epoch 11/400\n",
      "3378/3378 [==============================] - 1s 274us/step - loss: 0.3393 - acc: 0.8647 - val_loss: 0.3266 - val_acc: 0.8750\n",
      "\n",
      "Epoch 00011: val_loss improved from 0.33878 to 0.32659, saving model to ../ML/macro_TF.h5\n",
      "Epoch 12/400\n",
      "3378/3378 [==============================] - 1s 313us/step - loss: 0.3277 - acc: 0.8739 - val_loss: 0.3588 - val_acc: 0.8590\n",
      "\n",
      "Epoch 00012: val_loss did not improve from 0.32659\n",
      "Epoch 13/400\n",
      "3378/3378 [==============================] - 1s 331us/step - loss: 0.3313 - acc: 0.8623 - val_loss: 0.3682 - val_acc: 0.8457\n",
      "\n",
      "Epoch 00013: val_loss did not improve from 0.32659\n",
      "Epoch 14/400\n",
      "3378/3378 [==============================] - 1s 290us/step - loss: 0.3054 - acc: 0.8801 - val_loss: 0.3172 - val_acc: 0.8803\n",
      "\n",
      "Epoch 00014: val_loss improved from 0.32659 to 0.31715, saving model to ../ML/macro_TF.h5\n",
      "Epoch 15/400\n",
      "3378/3378 [==============================] - 1s 291us/step - loss: 0.2725 - acc: 0.8993 - val_loss: 0.3622 - val_acc: 0.8670\n",
      "\n",
      "Epoch 00015: val_loss did not improve from 0.31715\n",
      "Epoch 16/400\n",
      "3378/3378 [==============================] - 1s 335us/step - loss: 0.2963 - acc: 0.8854 - val_loss: 0.3137 - val_acc: 0.8723\n",
      "\n",
      "Epoch 00016: val_loss improved from 0.31715 to 0.31370, saving model to ../ML/macro_TF.h5\n",
      "Epoch 17/400\n",
      "3378/3378 [==============================] - 1s 316us/step - loss: 0.2810 - acc: 0.8884 - val_loss: 0.3176 - val_acc: 0.8750\n",
      "\n",
      "Epoch 00017: val_loss did not improve from 0.31370\n",
      "Epoch 18/400\n",
      "3378/3378 [==============================] - 1s 282us/step - loss: 0.2694 - acc: 0.8996 - val_loss: 0.3630 - val_acc: 0.8537\n",
      "\n",
      "Epoch 00018: val_loss did not improve from 0.31370\n",
      "Epoch 19/400\n",
      "3378/3378 [==============================] - 1s 316us/step - loss: 0.2511 - acc: 0.9035 - val_loss: 0.3107 - val_acc: 0.8723\n",
      "\n",
      "Epoch 00019: val_loss improved from 0.31370 to 0.31074, saving model to ../ML/macro_TF.h5\n",
      "Epoch 20/400\n",
      "3378/3378 [==============================] - 1s 319us/step - loss: 0.2343 - acc: 0.9085 - val_loss: 0.3758 - val_acc: 0.8537\n",
      "\n",
      "Epoch 00020: val_loss did not improve from 0.31074\n",
      "Epoch 21/400\n",
      "3378/3378 [==============================] - 1s 284us/step - loss: 0.2270 - acc: 0.9127 - val_loss: 0.3247 - val_acc: 0.8723\n",
      "\n",
      "Epoch 00021: val_loss did not improve from 0.31074\n",
      "Epoch 22/400\n",
      "3378/3378 [==============================] - 1s 317us/step - loss: 0.2356 - acc: 0.9076 - val_loss: 0.3224 - val_acc: 0.8564\n",
      "\n",
      "Epoch 00022: val_loss did not improve from 0.31074\n",
      "Epoch 23/400\n",
      "3378/3378 [==============================] - 1s 326us/step - loss: 0.2407 - acc: 0.9085 - val_loss: 0.3591 - val_acc: 0.8511\n",
      "\n",
      "Epoch 00023: val_loss did not improve from 0.31074\n",
      "Epoch 24/400\n",
      "3378/3378 [==============================] - 1s 291us/step - loss: 0.2431 - acc: 0.9091 - val_loss: 0.3373 - val_acc: 0.8883\n",
      "\n",
      "Epoch 00024: val_loss did not improve from 0.31074\n",
      "Epoch 25/400\n",
      "3378/3378 [==============================] - 1s 324us/step - loss: 0.2173 - acc: 0.9103 - val_loss: 0.3452 - val_acc: 0.8590\n",
      "\n",
      "Epoch 00025: val_loss did not improve from 0.31074\n",
      "Epoch 26/400\n",
      "3378/3378 [==============================] - 1s 323us/step - loss: 0.2053 - acc: 0.9162 - val_loss: 0.3218 - val_acc: 0.8750\n",
      "\n",
      "Epoch 00026: val_loss did not improve from 0.31074\n",
      "Epoch 27/400\n",
      "3378/3378 [==============================] - 1s 288us/step - loss: 0.2281 - acc: 0.9062 - val_loss: 0.3683 - val_acc: 0.8537\n",
      "\n",
      "Epoch 00027: val_loss did not improve from 0.31074\n",
      "Epoch 28/400\n",
      "3378/3378 [==============================] - 1s 335us/step - loss: 0.2214 - acc: 0.9142 - val_loss: 0.3194 - val_acc: 0.8697\n",
      "\n",
      "Epoch 00028: val_loss did not improve from 0.31074\n",
      "Epoch 29/400\n",
      "3378/3378 [==============================] - 1s 338us/step - loss: 0.2007 - acc: 0.9245 - val_loss: 0.3594 - val_acc: 0.8670\n",
      "\n",
      "Epoch 00029: val_loss did not improve from 0.31074\n",
      "Epoch 30/400\n",
      "3378/3378 [==============================] - 1s 292us/step - loss: 0.1816 - acc: 0.9272 - val_loss: 0.3736 - val_acc: 0.8617\n",
      "\n",
      "Epoch 00030: val_loss did not improve from 0.31074\n",
      "Epoch 31/400\n",
      "3378/3378 [==============================] - 1s 325us/step - loss: 0.1801 - acc: 0.9248 - val_loss: 0.3451 - val_acc: 0.8750\n",
      "\n",
      "Epoch 00031: val_loss did not improve from 0.31074\n",
      "Epoch 32/400\n",
      "3378/3378 [==============================] - 1s 328us/step - loss: 0.2001 - acc: 0.9254 - val_loss: 0.3066 - val_acc: 0.8910\n",
      "\n",
      "Epoch 00032: val_loss improved from 0.31074 to 0.30660, saving model to ../ML/macro_TF.h5\n",
      "Epoch 33/400\n",
      "3378/3378 [==============================] - 1s 328us/step - loss: 0.1810 - acc: 0.9337 - val_loss: 0.3562 - val_acc: 0.8723\n",
      "\n",
      "Epoch 00033: val_loss did not improve from 0.30660\n",
      "Epoch 34/400\n",
      "3378/3378 [==============================] - 1s 289us/step - loss: 0.1573 - acc: 0.9399 - val_loss: 0.3446 - val_acc: 0.8830\n",
      "\n",
      "Epoch 00034: val_loss did not improve from 0.30660\n",
      "Epoch 35/400\n",
      "3378/3378 [==============================] - 1s 329us/step - loss: 0.1900 - acc: 0.9287 - val_loss: 0.3592 - val_acc: 0.8644\n",
      "\n",
      "Epoch 00035: val_loss did not improve from 0.30660\n",
      "Epoch 36/400\n",
      "3378/3378 [==============================] - 1s 330us/step - loss: 0.1577 - acc: 0.9399 - val_loss: 0.3622 - val_acc: 0.8777\n",
      "\n",
      "Epoch 00036: val_loss did not improve from 0.30660\n",
      "Epoch 37/400\n",
      "3378/3378 [==============================] - 1s 290us/step - loss: 0.1877 - acc: 0.9298 - val_loss: 0.3295 - val_acc: 0.8644\n",
      "\n",
      "Epoch 00037: val_loss did not improve from 0.30660\n",
      "Epoch 38/400\n",
      "3378/3378 [==============================] - 1s 328us/step - loss: 0.1717 - acc: 0.9292 - val_loss: 0.3967 - val_acc: 0.8537\n",
      "\n",
      "Epoch 00038: val_loss did not improve from 0.30660\n",
      "Epoch 39/400\n",
      "3378/3378 [==============================] - 1s 328us/step - loss: 0.1744 - acc: 0.9322 - val_loss: 0.3356 - val_acc: 0.8723\n",
      "\n",
      "Epoch 00039: val_loss did not improve from 0.30660\n",
      "Epoch 40/400\n",
      "3378/3378 [==============================] - 1s 293us/step - loss: 0.1639 - acc: 0.9381 - val_loss: 0.4202 - val_acc: 0.8670\n",
      "\n",
      "Epoch 00040: val_loss did not improve from 0.30660\n",
      "Epoch 41/400\n",
      "3378/3378 [==============================] - 1s 332us/step - loss: 0.1620 - acc: 0.9384 - val_loss: 0.3796 - val_acc: 0.8644\n",
      "\n",
      "Epoch 00041: val_loss did not improve from 0.30660\n",
      "Epoch 42/400\n",
      "3378/3378 [==============================] - 1s 331us/step - loss: 0.1533 - acc: 0.9414 - val_loss: 0.4009 - val_acc: 0.8511\n",
      "\n",
      "Epoch 00042: val_loss did not improve from 0.30660\n",
      "Epoch 43/400\n",
      "3378/3378 [==============================] - 1s 332us/step - loss: 0.1480 - acc: 0.9432 - val_loss: 0.3856 - val_acc: 0.8644\n",
      "\n",
      "Epoch 00043: val_loss did not improve from 0.30660\n",
      "Epoch 44/400\n",
      "3378/3378 [==============================] - 1s 294us/step - loss: 0.1503 - acc: 0.9393 - val_loss: 0.4194 - val_acc: 0.8697\n",
      "\n",
      "Epoch 00044: val_loss did not improve from 0.30660\n",
      "Epoch 45/400\n",
      "3378/3378 [==============================] - 1s 334us/step - loss: 0.1573 - acc: 0.9402 - val_loss: 0.3749 - val_acc: 0.8750\n",
      "\n",
      "Epoch 00045: val_loss did not improve from 0.30660\n",
      "Epoch 46/400\n",
      "3378/3378 [==============================] - 1s 332us/step - loss: 0.1452 - acc: 0.9449 - val_loss: 0.3406 - val_acc: 0.8723\n",
      "\n",
      "Epoch 00046: val_loss did not improve from 0.30660\n",
      "Epoch 47/400\n",
      "3378/3378 [==============================] - 1s 290us/step - loss: 0.1569 - acc: 0.9423 - val_loss: 0.3602 - val_acc: 0.8617\n",
      "\n",
      "Epoch 00047: val_loss did not improve from 0.30660\n",
      "Epoch 48/400\n",
      "3378/3378 [==============================] - 1s 334us/step - loss: 0.1480 - acc: 0.9411 - val_loss: 0.3365 - val_acc: 0.8883\n",
      "\n",
      "Epoch 00048: val_loss did not improve from 0.30660\n",
      "Epoch 49/400\n",
      "3378/3378 [==============================] - 1s 331us/step - loss: 0.1448 - acc: 0.9464 - val_loss: 0.3430 - val_acc: 0.8803\n",
      "\n",
      "Epoch 00049: val_loss did not improve from 0.30660\n",
      "Epoch 50/400\n",
      "3378/3378 [==============================] - 1s 296us/step - loss: 0.1202 - acc: 0.9535 - val_loss: 0.4094 - val_acc: 0.8697\n",
      "\n",
      "Epoch 00050: val_loss did not improve from 0.30660\n",
      "Epoch 51/400\n",
      "3378/3378 [==============================] - 1s 331us/step - loss: 0.1298 - acc: 0.9515 - val_loss: 0.4835 - val_acc: 0.8697\n",
      "\n",
      "Epoch 00051: val_loss did not improve from 0.30660\n",
      "Epoch 52/400\n",
      "3378/3378 [==============================] - 1s 332us/step - loss: 0.1463 - acc: 0.9443 - val_loss: 0.4341 - val_acc: 0.8511\n",
      "\n",
      "Epoch 00052: val_loss did not improve from 0.30660\n",
      "Epoch 53/400\n",
      "3378/3378 [==============================] - 1s 331us/step - loss: 0.1331 - acc: 0.9467 - val_loss: 0.4223 - val_acc: 0.8590\n",
      "\n",
      "Epoch 00053: val_loss did not improve from 0.30660\n",
      "Epoch 54/400\n",
      "3378/3378 [==============================] - 1s 295us/step - loss: 0.1390 - acc: 0.9488 - val_loss: 0.4368 - val_acc: 0.8723\n",
      "\n",
      "Epoch 00054: val_loss did not improve from 0.30660\n",
      "Epoch 55/400\n",
      "3378/3378 [==============================] - 1s 336us/step - loss: 0.1205 - acc: 0.9535 - val_loss: 0.4279 - val_acc: 0.8750\n",
      "\n",
      "Epoch 00055: val_loss did not improve from 0.30660\n",
      "Epoch 56/400\n"
     ]
    },
    {
     "name": "stdout",
     "output_type": "stream",
     "text": [
      "3378/3378 [==============================] - 1s 338us/step - loss: 0.1203 - acc: 0.9529 - val_loss: 0.4067 - val_acc: 0.8830\n",
      "\n",
      "Epoch 00056: val_loss did not improve from 0.30660\n",
      "Epoch 57/400\n",
      "3378/3378 [==============================] - 1s 296us/step - loss: 0.1266 - acc: 0.9517 - val_loss: 0.4281 - val_acc: 0.8697\n",
      "\n",
      "Epoch 00057: val_loss did not improve from 0.30660\n",
      "Epoch 58/400\n",
      "3378/3378 [==============================] - 1s 333us/step - loss: 0.1247 - acc: 0.9535 - val_loss: 0.4162 - val_acc: 0.8750\n",
      "\n",
      "Epoch 00058: val_loss did not improve from 0.30660\n",
      "Epoch 59/400\n",
      "3378/3378 [==============================] - 1s 334us/step - loss: 0.1212 - acc: 0.9526 - val_loss: 0.4169 - val_acc: 0.8777\n",
      "\n",
      "Epoch 00059: val_loss did not improve from 0.30660\n",
      "Epoch 60/400\n",
      "3378/3378 [==============================] - 1s 298us/step - loss: 0.1208 - acc: 0.9520 - val_loss: 0.4105 - val_acc: 0.8883\n",
      "Restoring model weights from the end of the best epoch\n",
      "\n",
      "Epoch 00060: val_loss did not improve from 0.30660\n",
      "Epoch 00060: early stopping\n",
      "376/376 [==============================] - 0s 133us/step\n",
      "Loss: 0.4093599021434784, Accuracy: 0.8696808510638298\n",
      "Saved  ../ML/macro_TF.h5\n",
      "CPU times: user 10min 3s, sys: 2min 21s, total: 12min 24s\n",
      "Wall time: 1min 8s\n"
     ]
    }
   ],
   "source": [
    "%time train_ds(context)"
   ]
  },
  {
   "cell_type": "markdown",
   "metadata": {},
   "source": [
    "#### Predict"
   ]
  },
  {
   "cell_type": "code",
   "execution_count": 23,
   "metadata": {},
   "outputs": [
    {
     "name": "stdout",
     "output_type": "stream",
     "text": [
      "create_ds\n"
     ]
    },
    {
     "name": "stderr",
     "output_type": "stream",
     "text": [
      "/Users/vveiga/miniconda3/envs/inception/lib/python3.6/site-packages/ipykernel_launcher.py:21: FutureWarning: Sorting because non-concatenation axis is not aligned. A future version\n",
      "of pandas will change to not sort by default.\n",
      "\n",
      "To accept the future behavior, pass 'sort=False'.\n",
      "\n",
      "To retain the current behavior and silence the warning, pass 'sort=True'.\n",
      "\n",
      "/Users/vveiga/miniconda3/envs/inception/lib/python3.6/site-packages/sklearn/preprocessing/data.py:645: DataConversionWarning: Data with input dtype float32, float64 were all converted to float64 by StandardScaler.\n",
      "  return self.partial_fit(X, y)\n",
      "/Users/vveiga/miniconda3/envs/inception/lib/python3.6/site-packages/sklearn/base.py:464: DataConversionWarning: Data with input dtype float32, float64 were all converted to float64 by StandardScaler.\n",
      "  return self.fit(X, **fit_params).transform(X)\n"
     ]
    },
    {
     "name": "stdout",
     "output_type": "stream",
     "text": [
      "pre_process_ds\n",
      "pred_X.shape (252, 307)\n",
      "pred_X.shape (252, 307)\n",
      "Loaded ../ML/macro_TF.h5\n",
      "Saved recommend/macro_ML/2019-05-14.csv\n",
      "CPU times: user 3.55 s, sys: 1.93 s, total: 5.48 s\n",
      "Wall time: 3.43 s\n"
     ]
    }
   ],
   "source": [
    "%time pred_df = predict_ds(context)"
   ]
  },
  {
   "cell_type": "markdown",
   "metadata": {},
   "source": [
    "#### Store / Read S3"
   ]
  },
  {
   "cell_type": "code",
   "execution_count": 26,
   "metadata": {},
   "outputs": [],
   "source": [
    "s3_path = context['s3_path']"
   ]
  },
  {
   "cell_type": "code",
   "execution_count": 27,
   "metadata": {},
   "outputs": [],
   "source": [
    "# read from S3\n",
    "pred_df = pd.read_csv(\n",
    "    csv_load(f'{s3_path}{str(pred_df.index[-1])}'), \n",
    "    index_col='pred_date', parse_dates=True)"
   ]
  },
  {
   "cell_type": "code",
   "execution_count": null,
   "metadata": {},
   "outputs": [],
   "source": [
    "# store in S3\n",
    "s3_df = pred_df.reset_index(drop=False)\n",
    "rename_col(s3_df, 'index', 'pred_date')\n",
    "csv_store(s3_df, s3_path, csv_ext.format(str(pred_df.index[-1])))"
   ]
  },
  {
   "cell_type": "markdown",
   "metadata": {},
   "source": [
    "#### Visualize"
   ]
  },
  {
   "cell_type": "code",
   "execution_count": 28,
   "metadata": {},
   "outputs": [
    {
     "data": {
      "text/plain": [
       "Index(['^GSPC', 'pred_class', 'pred_label', 'confidence', 'bear', 'short',\n",
       "       'neutral', 'long', 'bull'],\n",
       "      dtype='object')"
      ]
     },
     "execution_count": 28,
     "metadata": {},
     "output_type": "execute_result"
    }
   ],
   "source": [
    "pred_df.columns"
   ]
  },
  {
   "cell_type": "code",
   "execution_count": 29,
   "metadata": {},
   "outputs": [
    {
     "data": {
      "text/plain": [
       "'Confidence Mean: 0.932, Median 0.992'"
      ]
     },
     "execution_count": 29,
     "metadata": {},
     "output_type": "execute_result"
    },
    {
     "data": {
      "image/png": "[encoded data removed]",
      "text/plain": [
       "<Figure size 1080x360 with 2 Axes>"
      ]
     },
     "metadata": {
      "needs_background": "light"
     },
     "output_type": "display_data"
    },
    {
     "data": {
      "image/png": "[encoded data removed]",
      "text/plain": [
       "<Figure size 1080x144 with 1 Axes>"
      ]
     },
     "metadata": {
      "needs_background": "light"
     },
     "output_type": "display_data"
    }
   ],
   "source": [
    "pre_class_cols = filter_cols(pred_df.columns, \"pred_class\")\n",
    "pred_df.loc[:,[bench] + pre_class_cols].plot(\n",
    "    secondary_y=pre_class_cols, figsize=(15, 5));\n",
    "pred_df[fwd_ret_labels].plot.area(\n",
    "        title='Prediction Probabilities',\n",
    "        figsize=(15, 2), ylim=(0, 1), cmap='RdYlGn');\n",
    "f'Confidence Mean: {pred_df[\"confidence\"].mean().round(3)}, Median {pred_df[\"confidence\"].median().round(3)}'"
   ]
  },
  {
   "cell_type": "markdown",
   "metadata": {
    "heading_collapsed": true
   },
   "source": [
    "### Old experiments"
   ]
  },
  {
   "cell_type": "markdown",
   "metadata": {
    "heading_collapsed": true,
    "hidden": true
   },
   "source": [
    "#### Dataset creation"
   ]
  },
  {
   "cell_type": "code",
   "execution_count": null,
   "metadata": {
    "hidden": true
   },
   "outputs": [],
   "source": [
    "# average the return of the next periods\n",
    "# select only rows where Y variable is not null\n",
    "train_idx = px_close.dropna(subset=[bench]).index\n",
    "Y = px_fwd_rets(px_close.loc[train_idx, bench], bench, pred_fwd_windows).mean(axis=1)\n",
    "Y.plot.hist(bins=50, title='Distribution of Forwards Returns')\n",
    "Y.shape"
   ]
  },
  {
   "cell_type": "code",
   "execution_count": null,
   "metadata": {
    "code_folding": [],
    "hidden": true
   },
   "outputs": [],
   "source": [
    "%%time\n",
    "df_large = pd.DataFrame()\n",
    "\n",
    "# rate transforms\n",
    "rate_ft_df = rate_feats(px_close[rateSL], rate_windows)\n",
    "df_large[rate_ft_df.columns] = rate_ft_df\n",
    "\n",
    "# price momentum transforms\n",
    "super_list = []\n",
    "for ticker in include:\n",
    "    inv = ticker in invert\n",
    "    incl_px = True if ticker in incl_price else False\n",
    "    df = px_close[ticker]\n",
    "    ft_df = px_mom_feats(df, ticker, stds, inv, incl_px, sec_windows)\n",
    "    super_list.append(ft_df.drop_duplicates())\n",
    "df_large = pd.concat(super_list, axis=1).sort_index()\n",
    "\n",
    "df_large[y_col] = Y\n",
    "\n",
    "# drop NAs before discretizing\n",
    "df_large = df_large.loc[train_idx, :]\n",
    "\n",
    "print(df_large.shape)"
   ]
  },
  {
   "cell_type": "code",
   "execution_count": null,
   "metadata": {
    "hidden": true
   },
   "outputs": [],
   "source": [
    "os.makedirs('tmp', exist_ok=True)\n",
    "df_large.to_parquet('tmp/macro-ds-large')"
   ]
  },
  {
   "cell_type": "markdown",
   "metadata": {
    "heading_collapsed": true,
    "hidden": true
   },
   "source": [
    "#### Metrics"
   ]
  },
  {
   "cell_type": "code",
   "execution_count": null,
   "metadata": {
    "hidden": true
   },
   "outputs": [],
   "source": [
    "draw_tree(clf1.estimators_[0], X, precision=3)"
   ]
  },
  {
   "cell_type": "code",
   "execution_count": null,
   "metadata": {
    "hidden": true
   },
   "outputs": [],
   "source": [
    "show_fi(clf1, X, 25)"
   ]
  },
  {
   "cell_type": "code",
   "execution_count": null,
   "metadata": {
    "hidden": true
   },
   "outputs": [],
   "source": [
    "log_loss(y_test, clf1.predict_proba(X_test))"
   ]
  },
  {
   "cell_type": "code",
   "execution_count": null,
   "metadata": {
    "hidden": true
   },
   "outputs": [],
   "source": [
    "print('Confussion Matrix\\n', confusion_matrix(clf.predict(X_test), y_test, labels=fwd_ret_labels))"
   ]
  },
  {
   "cell_type": "code",
   "execution_count": null,
   "metadata": {
    "hidden": true
   },
   "outputs": [],
   "source": [
    "print('Classificaton report\\n', classification_report(clf.predict(X_test), y_test, target_names=fwd_ret_labels))"
   ]
  },
  {
   "cell_type": "code",
   "execution_count": null,
   "metadata": {
    "hidden": true
   },
   "outputs": [],
   "source": [
    "fi = rf_feat_importance(clf1, pd.DataFrame(X)); fi[:10]"
   ]
  },
  {
   "cell_type": "code",
   "execution_count": null,
   "metadata": {
    "hidden": true
   },
   "outputs": [],
   "source": [
    "clf1.predict_proba(X_test)"
   ]
  },
  {
   "cell_type": "code",
   "execution_count": null,
   "metadata": {
    "hidden": true
   },
   "outputs": [],
   "source": [
    "[plt.plot(x.tolist(), alpha=0.1, color='b', marker='*', linewidth=0) for x in clf1.predict_proba(X_test)];"
   ]
  },
  {
   "cell_type": "markdown",
   "metadata": {
    "heading_collapsed": true,
    "hidden": true
   },
   "source": [
    "#### Feature construction"
   ]
  },
  {
   "cell_type": "code",
   "execution_count": null,
   "metadata": {
    "hidden": true
   },
   "outputs": [],
   "source": [
    "# FX\n",
    "FX = ['EURUSD=X', 'JPY=X', 'GBPUSD=X', 'CNY=X', 'CHF=X', 'DX-Y.NYB']\n",
    "invert = ['EURUSD=X', 'GBPUSD=X']\n",
    "df_raw = px_close[FX]\n",
    "df_raw.describe().T"
   ]
  },
  {
   "cell_type": "code",
   "execution_count": null,
   "metadata": {
    "hidden": true
   },
   "outputs": [],
   "source": [
    "fx_df = df_raw.copy()\n",
    "fx_df[invert] = (1 / df_raw[invert])\n",
    "fx_df.tail(252)\n",
    "fx_chg_df = fx_df.pct_change().rolling(60).sum()\n",
    "fx_chg_df.plot.kde()"
   ]
  },
  {
   "cell_type": "code",
   "execution_count": null,
   "metadata": {
    "hidden": true
   },
   "outputs": [],
   "source": [
    "rates = px_close[rateSL]\n",
    "rates.plot.kde(alpha=1, title='Yield Curve Rate Distribution')\n",
    "rate_feats(rates, [60]).plot.kde(title='10Yr - 3M Spread')"
   ]
  },
  {
   "cell_type": "code",
   "execution_count": null,
   "metadata": {
    "hidden": true
   },
   "outputs": [],
   "source": [
    "%%time\n",
    "# Uses px_mom_feats for FX transforms\n",
    "FX = ['EURUSD=X', 'JPY=X', 'GBPUSD=X', 'CNY=X', 'CHF=X', 'DX-Y.NYB']\n",
    "invert = ['EURUSD=X', 'GBPUSD=X']\n",
    "\n",
    "ndf = pd.DataFrame() \n",
    "for fx in FX:\n",
    "    inv = True if fx in invert else False\n",
    "    df = get_symbol_pricing(fx)\n",
    "    ft_df = px_mom_feats(df, fx, 1, inv, True)\n",
    "    ndf[ft_df.columns] = ft_df\n",
    "ndf.plot.hist(alpha=0.5, legend=False)"
   ]
  },
  {
   "cell_type": "code",
   "execution_count": null,
   "metadata": {
    "hidden": true
   },
   "outputs": [],
   "source": [
    "ft_df = px_mom_feats(get_symbol_pricing('^VIX'), '^VIX', 2, False, True, [20])\n",
    "print(ft_df.columns)\n",
    "ft_df.iloc[:,:].plot.hist()"
   ]
  },
  {
   "cell_type": "code",
   "execution_count": null,
   "metadata": {
    "hidden": true
   },
   "outputs": [],
   "source": [
    "symbol = '^GSPC'\n",
    "px_df = get_symbol_pricing(symbol)\n",
    "\n",
    "ft_df = px_mom_feats(px_df, symbol)\n",
    "# ft_df.plot(subplots=True, figsize=(10,15));\n",
    "ft_df.plot.hist(alpha=0.5);"
   ]
  },
  {
   "cell_type": "code",
   "execution_count": null,
   "metadata": {
    "hidden": true
   },
   "outputs": [],
   "source": [
    "ft_df = px_fwd_rets(px_df, symbol)\n",
    "ft_df.plot.hist(alpha=0.5);\n",
    "ft_df[symbol] = px_df['close']\n",
    "ft_df.tail(252*4).plot(secondary_y=symbol, figsize=(10,5));"
   ]
  },
  {
   "cell_type": "code",
   "execution_count": null,
   "metadata": {
    "code_folding": [
     0
    ],
    "hidden": true
   },
   "outputs": [],
   "source": [
    "%%time\n",
    "# average different time frames of fwd rets for all benchmarks\n",
    "# do we try to estimate the average of all benchmarks or just one?\n",
    "# do we try to estimate three type of fwd rets [20, 60, 120] or just one?\n",
    "\n",
    "# calculate forward returns for all bechmarks\n",
    "fwd_rets_df = pd.DataFrame()\n",
    "for s in benchSL:\n",
    "    px_df = get_symbol_pricing(s)\n",
    "    fwd_ret = px_fwd_rets(px_df, s)\n",
    "    fwd_rets_df[fwd_ret.columns] = fwd_ret\n",
    "fwd_rets_df.tail()\n",
    "\n",
    "[fwd_rets_df[[x for x in fwd_rets_df.columns if y in x]].mean(axis=1).plot.hist(alpha=0.5)\n",
    "     for y in ['g20', 'g60', 'g120']]"
   ]
  },
  {
   "cell_type": "markdown",
   "metadata": {
    "heading_collapsed": true,
    "hidden": true
   },
   "source": [
    "#### Visualizations"
   ]
  },
  {
   "cell_type": "code",
   "execution_count": null,
   "metadata": {
    "hidden": true
   },
   "outputs": [],
   "source": [
    "locs = [-int(x**3) for x in range(1, 7, 1)]\n",
    "px_close[rateSL].iloc[locs, :].T.plot(title='Historical Yield Curve');\n",
    "#f'Yield curve for the last {locs} days'"
   ]
  },
  {
   "cell_type": "code",
   "execution_count": null,
   "metadata": {
    "code_folding": [],
    "hidden": true
   },
   "outputs": [],
   "source": [
    "# show correlations with Y variables\n",
    "show = ['mktFwdChg1m', 'mktFwdChg3m', 'mktFwdChg6m']\n",
    "ml_ds_df.corr()[show]"
   ]
  },
  {
   "cell_type": "code",
   "execution_count": null,
   "metadata": {
    "hidden": true,
    "scrolled": true
   },
   "outputs": [],
   "source": [
    "# series distributions\n",
    "%time ml_ds_df.hist(figsize=(15,15));"
   ]
  },
  {
   "cell_type": "code",
   "execution_count": null,
   "metadata": {
    "hidden": true
   },
   "outputs": [],
   "source": [
    "# scatter plots\n",
    "%time pd.plotting.scatter_matrix(ml_ds_df, alpha=0.1, figsize=(40, 40));"
   ]
  },
  {
   "cell_type": "code",
   "execution_count": null,
   "metadata": {
    "hidden": true
   },
   "outputs": [],
   "source": [
    "# historical returns for 1, 3, and 6 months\n",
    "secpx['mktHistPctChgStds'] = SPY_pct_chg.apply(sign_compare, args=(SPY_pct_chg.std(),))\n",
    "secpx['mktHistPctChg1m'] = SPY_close.pct_change(periods=20)\n",
    "secpx['mktHistPctChg3m'] = SPY_close.pct_change(periods=60)\n",
    "secpx['mktHistPctChg6m'] = SPY_close.pct_change(periods=120)\n",
    "secpx['mktPerc52WkHigh'] = (SPY_close / SPY_close.rolling(252).max())\n",
    "secpx['mktPerc52WkLow'] = (SPY_close / SPY_close.rolling(252).min())\n",
    "\n",
    "show = ['mktHistPctChgStds', 'mktHistPctChg1m', 'mktHistPctChg3m', \n",
    "        'mktHistPctChg6m']\n",
    "secpx[show].hist();\n",
    "secpx[show].tail(252*4).plot(secondary_y='mktHistPctChgStds');\n",
    "show = ['mktPerc52WkLow']\n",
    "secpx[show].tail(252*4).plot();"
   ]
  },
  {
   "cell_type": "code",
   "execution_count": null,
   "metadata": {
    "hidden": true
   },
   "outputs": [],
   "source": [
    "# Forward returns, 1w, 1m, 3m\n",
    "SPY_close.pct_change(5).shift(-5)\n",
    "secpx['mktFwdChg1m'] = SPY_close.pct_change(20).shift(-20)\n",
    "secpx['mktFwdChg3m'] = SPY_close.pct_change(60).shift(-60)\n",
    "secpx['mktFwdChg6m'] = SPY_close.pct_change(120).shift(-120)\n",
    "\n",
    "show = ['mktFwdChg1m', 'mktFwdChg3m', 'mktFwdChg6m']\n",
    "secpx[show].hist();\n",
    "secpx[show].tail(252*4).plot();"
   ]
  },
  {
   "cell_type": "code",
   "execution_count": null,
   "metadata": {
    "hidden": true
   },
   "outputs": [],
   "source": [
    "show = [bench_symbol, 'mktFwdChg1m', 'mktFwdChg3m', 'mktFwdChg6m']\n",
    "secpx[show].tail(252*4).plot(secondary_y=bench_symbol, figsize=(12,5));"
   ]
  },
  {
   "cell_type": "code",
   "execution_count": null,
   "metadata": {
    "hidden": true
   },
   "outputs": [],
   "source": [
    "# cumulative deltas and gap analysis\n",
    "secpx['pctChgStds'] = pct_chg.apply(sign_compare, args=(pct_chg.std(),))\n",
    "secpx['openGap1m'] = (openpx - closepx.shift(1)).rolling(20).sum()\n",
    "secpx['hlDelta1m'] = (highpx - lowpx).rolling(20).sum()\n",
    "secpx['cumChg1m'] = (closepx - closepx.shift(1)).rolling(20).sum()\n",
    "secpx['cumChg3m'] = (closepx - closepx.shift(1)).rolling(60).sum()\n",
    "secpx['cumChg6m'] = (closepx - closepx.shift(1)).rolling(120).sum()\n",
    "secpx['perc52WkLow'] = (closepx / closepx.rolling(252).min())\n",
    "\n",
    "show = ['pctChgStds', 'openGap1m', 'hlDelta1m', \n",
    "        'cumChg1m', 'cumChg3m', 'cumChg6m']\n",
    "secpx[show].hist();\n",
    "secpx[show].tail(252*4).plot(secondary_y='pctChgStds');\n",
    "show = ['perc52WkLow']\n",
    "secpx[show].tail(252*4).plot();"
   ]
  },
  {
   "cell_type": "code",
   "execution_count": null,
   "metadata": {
    "hidden": true
   },
   "outputs": [],
   "source": [
    "show = ['pctChgStds', 'mktHistPctChgStds']\n",
    "secpx[show].hist();\n",
    "secpx[show].tail(252*4).plot();"
   ]
  },
  {
   "cell_type": "code",
   "execution_count": null,
   "metadata": {
    "hidden": true
   },
   "outputs": [],
   "source": [
    "# rolling SPY correlations\n",
    "secpx['crossCorr1m'] = closepx.pct_change().rolling(20).corr(SPY_pct_chg)\n",
    "secpx['crossCorr3m'] = closepx.pct_change().rolling(60).corr(SPY_pct_chg)\n",
    "\n",
    "show = [bench_symbol, 'crossCorr1m', 'crossCorr3m']\n",
    "secpx[show].tail(252*4).plot(secondary_y=bench_symbol);\n",
    "# closepx.pct_change().corr(SPY_pct_chg)"
   ]
  },
  {
   "cell_type": "markdown",
   "metadata": {
    "heading_collapsed": true,
    "hidden": true
   },
   "source": [
    "#### Missing values"
   ]
  },
  {
   "cell_type": "code",
   "execution_count": null,
   "metadata": {
    "hidden": true
   },
   "outputs": [],
   "source": [
    "# px_close.loc[pred_X.index, keep_bench].tail(20)\n",
    "# pred_X.tail()"
   ]
  },
  {
   "cell_type": "code",
   "execution_count": null,
   "metadata": {
    "hidden": true
   },
   "outputs": [],
   "source": [
    "# pred_X.fillna(method='ffill', inplace=True)\n",
    "# na = pred_X.tail(120).isna().any(0)\n",
    "# pred_X[na[na.values].index]"
   ]
  },
  {
   "cell_type": "markdown",
   "metadata": {
    "heading_collapsed": true,
    "hidden": true
   },
   "source": [
    "#### Fixing timeseries concatenation"
   ]
  },
  {
   "cell_type": "code",
   "execution_count": null,
   "metadata": {
    "code_folding": [],
    "hidden": true
   },
   "outputs": [],
   "source": [
    "super_list = []\n",
    "for n, t in enumerate(keep_sect):\n",
    "    try:\n",
    "        df = get_symbol_pricing(t, freq, cols=None)\n",
    "        rename_col(df, 'close', t)\n",
    "        print(\"Retrieving pricing: {0}, {1}\".format(t, df.shape))\n",
    "        df.index = df.index.strftime('%Y-%m-%d')\n",
    "        super_list.append(df[t])\n",
    "    except Exception as e:\n",
    "        print(\"Exception, get_mults_pricing: {0}\\n{1}\".format(t, e))"
   ]
  },
  {
   "cell_type": "code",
   "execution_count": null,
   "metadata": {
    "hidden": true
   },
   "outputs": [],
   "source": [
    "full_df = pd.DataFrame(super_list[0])\n",
    "if len(super_list[1:]):\n",
    "    for x in super_list[1:]: full_df = pd.merge(full_df, x, left_index=True, right_index=True, how='outer')\n",
    "full_df.index = pd.to_datetime(full_df.index)"
   ]
  },
  {
   "cell_type": "code",
   "execution_count": null,
   "metadata": {
    "hidden": true
   },
   "outputs": [],
   "source": [
    "full_df.tail(20)"
   ]
  },
  {
   "cell_type": "code",
   "execution_count": null,
   "metadata": {
    "hidden": true
   },
   "outputs": [],
   "source": [
    "super_list[0].tail(10)"
   ]
  },
  {
   "cell_type": "code",
   "execution_count": null,
   "metadata": {
    "hidden": true
   },
   "outputs": [],
   "source": [
    "super_list[1].tail(10)"
   ]
  },
  {
   "cell_type": "code",
   "execution_count": null,
   "metadata": {
    "hidden": true
   },
   "outputs": [],
   "source": [
    "super_list[2].tail(10)"
   ]
  },
  {
   "cell_type": "code",
   "execution_count": null,
   "metadata": {
    "hidden": true
   },
   "outputs": [],
   "source": [
    "get_symbol_pricing('JPY=X')"
   ]
  },
  {
   "cell_type": "code",
   "execution_count": null,
   "metadata": {
    "hidden": true
   },
   "outputs": [],
   "source": []
  },
  {
   "cell_type": "code",
   "execution_count": null,
   "metadata": {
    "hidden": true
   },
   "outputs": [],
   "source": [
    "full_df.tail(30).sort_index()"
   ]
  },
  {
   "cell_type": "code",
   "execution_count": null,
   "metadata": {
    "hidden": true
   },
   "outputs": [],
   "source": [
    "for d in super_list:\n",
    "    print(d.shape, d.drop_duplicates().shape)"
   ]
  },
  {
   "cell_type": "code",
   "execution_count": null,
   "metadata": {
    "hidden": true
   },
   "outputs": [],
   "source": [
    "super_list[1].duplicated().sort_values()"
   ]
  },
  {
   "cell_type": "code",
   "execution_count": null,
   "metadata": {
    "hidden": true
   },
   "outputs": [],
   "source": [
    "df = pd.concat(super_list, axis=1)"
   ]
  },
  {
   "cell_type": "code",
   "execution_count": null,
   "metadata": {
    "hidden": true
   },
   "outputs": [],
   "source": [
    "super_list[0].tail(10).index, \\\n",
    "super_list[1].tail(10).index, \\\n",
    "super_list[2].tail(10).index, \\\n",
    "super_list[3].tail(10).index"
   ]
  },
  {
   "cell_type": "code",
   "execution_count": null,
   "metadata": {
    "hidden": true
   },
   "outputs": [],
   "source": [
    "ss = get_symbol_pricing('DX-Y.NYB', freq).tail(20)"
   ]
  },
  {
   "cell_type": "code",
   "execution_count": null,
   "metadata": {
    "hidden": true
   },
   "outputs": [],
   "source": [
    "ss.index.strftime('%Y-%m-%d')"
   ]
  },
  {
   "cell_type": "code",
   "execution_count": null,
   "metadata": {
    "hidden": true
   },
   "outputs": [],
   "source": [
    "# pd.merge(super_list[1], super_list[2], left_index=True, right_index=True)\n",
    "# pd.concat(super_list, axis=1)\n",
    "init_df = pd.DataFrame(super_list[0])\n",
    "for x in super_list[1:]:\n",
    "    init_df = pd.merge(init_df, x, left_index=True, right_index=True)\n",
    "init_df.tail(60)"
   ]
  },
  {
   "cell_type": "code",
   "execution_count": null,
   "metadata": {
    "hidden": true
   },
   "outputs": [],
   "source": [
    "pd.concat(super_list, axis=1, ).tail(15)"
   ]
  },
  {
   "cell_type": "code",
   "execution_count": null,
   "metadata": {
    "hidden": true
   },
   "outputs": [],
   "source": [
    "for d in super_list: d.drop_duplicates(inplace=True)"
   ]
  },
  {
   "cell_type": "code",
   "execution_count": null,
   "metadata": {
    "hidden": true
   },
   "outputs": [],
   "source": [
    "df = pd.concat(super_list, axis=1, copy=False)"
   ]
  }
 ],
 "metadata": {
  "kernelspec": {
   "display_name": "Python 3",
   "language": "python",
   "name": "python3"
  },
  "language_info": {
   "codemirror_mode": {
    "name": "ipython",
    "version": 3
   },
   "file_extension": ".py",
   "mimetype": "text/x-python",
   "name": "python",
   "nbconvert_exporter": "python",
   "pygments_lexer": "ipython3",
   "version": "3.6.8"
  }
 },
 "nbformat": 4,
 "nbformat_minor": 2
}
