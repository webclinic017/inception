{
 "cells": [
  {
   "cell_type": "code",
   "execution_count": 136,
   "metadata": {
    "code_folding": []
   },
   "outputs": [],
   "source": [
    "# imports\n",
    "%reload_ext autoreload\n",
    "%autoreload 2\n",
    "%matplotlib inline \n",
    "\n",
    "import sys\n",
    "import os\n",
    "from utils.basic_utils import *\n",
    "from utils.pricing import *\n",
    "from utils.fundamental import *\n",
    "from utils.MacroDS import MacroDS\n",
    "from utils.BaseDS import BaseDS\n",
    "\n",
    "from sklearn import preprocessing\n",
    "from sklearn.preprocessing import StandardScaler\n",
    "from sklearn.impute import SimpleImputer\n",
    "from sklearn.model_selection import StratifiedShuffleSplit\n",
    "\n",
    "import keras\n",
    "from keras.models import Sequential, load_model\n",
    "from keras.layers import Dense, Activation\n",
    "from keras.optimizers import Adam\n",
    "from keras.callbacks import EarlyStopping, ModelCheckpoint\n",
    "from keras.callbacks import CSVLogger\n",
    "from keras.layers import BatchNormalization\n",
    "\n",
    "pd.options.display.float_format = '{:,.2f}'.format"
   ]
  },
  {
   "cell_type": "code",
   "execution_count": 85,
   "metadata": {},
   "outputs": [
    {
     "data": {
      "text/plain": [
       "[]"
      ]
     },
     "execution_count": 85,
     "metadata": {},
     "output_type": "execute_result"
    }
   ],
   "source": [
    "from keras import backend as K\n",
    "K.tensorflow_backend._get_available_gpus()"
   ]
  },
  {
   "cell_type": "code",
   "execution_count": 126,
   "metadata": {
    "code_folding": [
     0
    ]
   },
   "outputs": [],
   "source": [
    "def pre_process_ds(context):\n",
    "    \n",
    "    temp_path = context['tmp_path']\n",
    "    px_vol_fname = context['px_vol_ds']\n",
    "    \n",
    "    benchSL, sectorSL, riskSL, rateSL, bondSL, commSL, currSL = \\\n",
    "    (macro_ds.universe_dict[x] \n",
    "     for x in ('benchmarks', 'sectors', 'risk', 'rates', 'bonds', 'commodities', 'currencies'))\n",
    "\n",
    "    keep_bench = excl(benchSL, ['^STOXX50E', '^AXJO'])\n",
    "    keep_fx = excl(currSL, ['HKD=X', 'MXN=X', 'AUDUSD=X', 'NZDUSD=X', 'TWD=X', 'CLP=X', 'KRW=X'])\n",
    "    keep_sect = excl(sectorSL, ['SPY', 'QQQ', 'DIA', 'IWM', 'XLC', 'XLRE'])\n",
    "    keep_bonds = ['LQD', 'HYG']\n",
    "    include = riskSL + keep_bench + keep_sect + rateSL + keep_fx + keep_bonds\n",
    "    \n",
    "    raw_df = macro_ds.stitch_instruments(symbols=include, name=True, axis=1)\n",
    "\n",
    "    # clean up empty columns\n",
    "    empty_cols = raw_df.iloc[-1].loc[raw_df.iloc[-1].isna()].index\n",
    "    remove_cols = excl(empty_cols, [y_col])\n",
    "    raw_df.drop(columns=remove_cols, inplace=True)\n",
    "    print('Pre-clean up shape:', raw_df.shape)\n",
    "\n",
    "    slim_cols = raw_df.isna().where(raw_df.isna() == True).count().sort_values(ascending=False)\n",
    "    # keep columns with less than 400 NAs\n",
    "    keep_cols = list(slim_cols.loc[slim_cols < 400].index)\n",
    "    raw_df = raw_df[keep_cols]\n",
    "    print('Post-clean up shape:', raw_df.shape)\n",
    "    \n",
    "    fill_on = context['fill']\n",
    "    scaler_on = context['scale']\n",
    "\n",
    "    scaler = StandardScaler()\n",
    "    X_cols = excl(raw_df.columns, [y_col])\n",
    "    raw_df.replace([np.inf, -np.inf], np.nan, inplace=True)\n",
    "    \n",
    "    if scaler_on: raw_df[X_cols] = scaler.fit_transform(raw_df[X_cols])\n",
    "    if fill_on: raw_df.loc[:, X_cols] = raw_df.fillna(method=fill_on)\n",
    "\n",
    "    return raw_df"
   ]
  },
  {
   "cell_type": "code",
   "execution_count": 145,
   "metadata": {
    "code_folding": [
     0
    ]
   },
   "outputs": [],
   "source": [
    "def get_train_test_sets(context):\n",
    "    \n",
    "    raw_df = pre_process_ds(context)\n",
    "\n",
    "    # discretize forward returns into classes\n",
    "    cut_range = macro_ds.return_intervals()\n",
    "    BaseDS.labelize_ycol(raw_df, y_col, cut_range, labels)\n",
    "\n",
    "    X_cols = excl(raw_df.columns, [y_col])\n",
    "    \n",
    "    imputer_on = context['impute']\n",
    "    imputer = SimpleImputer(\n",
    "        missing_values=np.nan,\n",
    "        strategy='median', copy=False)\n",
    "    if imputer_on: raw_df.loc[:, X_cols] = imputer.fit_transform(raw_df[X_cols])\n",
    "    else: raw_df.dropna(inplace=True)\n",
    "        \n",
    "    test_sz = context['test_size']\n",
    "        # create training and test sets\n",
    "    X, y = raw_df.drop(columns=y_col), raw_df[y_col]\n",
    "    sss = StratifiedShuffleSplit(\n",
    "        n_splits=1, test_size=test_sz, random_state=42)\n",
    "    # just one split\n",
    "    for train_index, test_index in sss.split(X, y):\n",
    "        X_train, X_test = X.iloc[train_index], X.iloc[test_index]\n",
    "        y_train, y_test = y.iloc[train_index], y.iloc[test_index]\n",
    "        break\n",
    "        \n",
    "    return X_train, X_test, y_train, y_test"
   ]
  },
  {
   "cell_type": "code",
   "execution_count": 150,
   "metadata": {
    "code_folding": [
     0
    ]
   },
   "outputs": [],
   "source": [
    "def train_ds(context):\n",
    "\n",
    "    max_iter = context['max_iter']\n",
    "    l2_reg = context['l2_reg']\n",
    "    units = context['units']\n",
    "    trained_cols = context['trained_cols']\n",
    "    \n",
    "    X_train, X_test, y_train, y_test = get_train_test_sets(context)\n",
    "    y_train_oh = pd.get_dummies(y_train)[labels]\n",
    "    y_test_oh = pd.get_dummies(y_test)[labels]\n",
    "    \n",
    "    # Keras Model\n",
    "    y_train_oh = pd.get_dummies(y_train)[labels]\n",
    "    y_test_oh = pd.get_dummies(y_test)[labels]\n",
    "\n",
    "    model = Sequential()\n",
    "    model.add(Dense(units, input_dim=X_train.shape[1], use_bias=False))\n",
    "    model.add(BatchNormalization())\n",
    "    model.add(Activation(\"relu\"))\n",
    "    model.add(Dense(units, use_bias=False))\n",
    "    model.add(BatchNormalization())\n",
    "    model.add(Activation(\"relu\"))\n",
    "    model.add(Dense(units, use_bias=False))\n",
    "    model.add(BatchNormalization())\n",
    "    model.add(Activation(\"relu\"))\n",
    "    model.add(Dense(int(units/2), use_bias=False))\n",
    "    model.add(BatchNormalization())\n",
    "    model.add(Activation(\"relu\"))\n",
    "    model.add(Dense(len(pd.unique(y_train)), activation='softmax'))\n",
    "    keras.regularizers.l2(l2_reg)\n",
    "\n",
    "    ml_path, model_name = context['ml_path'], context['model_name']\n",
    "    fname = ml_path + model_name\n",
    "    \n",
    "    # save training columns\n",
    "    np.save(ml_path + trained_cols, X_train.columns) # save feature order\n",
    "    print(f'X_train.shape {X_train.shape}, columns: {list(X_train.columns)}')\n",
    "    print('Saved: ', ml_path + trained_cols)    \n",
    "\n",
    "    es = EarlyStopping(monitor='loss', patience=10, restore_best_weights=True, verbose=1)\n",
    "    checkpointer = ModelCheckpoint(filepath=fname, verbose=1, save_best_only=True)\n",
    "    csv_logger = CSVLogger('macro-train.log')\n",
    "    \n",
    "    opt = Adam()    \n",
    "    model.compile(loss='categorical_crossentropy', optimizer=opt, metrics=['accuracy'])\n",
    "\n",
    "    history = model.fit(\n",
    "        X_train, y_train_oh, validation_data=(X_test, y_test_oh),\n",
    "        epochs=max_iter, \n",
    "        batch_size=64, \n",
    "        callbacks=[es, checkpointer, csv_logger])\n",
    "\n",
    "    score = model.evaluate(X_test, y_test_oh)\n",
    "    print(f'Loss: {score[0]}, Accuracy: {score[1]}')"
   ]
  },
  {
   "cell_type": "code",
   "execution_count": 168,
   "metadata": {
    "code_folding": []
   },
   "outputs": [],
   "source": [
    "def predict_ds(context):\n",
    "\n",
    "    ml_path = context['ml_path']\n",
    "    model_name = context['model_name']\n",
    "    trained_cols = context['trained_cols']\n",
    "    look_back = context['look_back']\n",
    "\n",
    "    joined_df = pre_process_ds(context)\n",
    "    pred_X = joined_df.loc[joined_df.sort_index().index.unique()[-look_back:], :]\n",
    "    print('pred_X.shape', pred_X.shape)\n",
    "\n",
    "    # ensure prediction dataset is consistent with trained model\n",
    "    # save feature order\n",
    "    train_cols = np.load(ml_path + trained_cols, allow_pickle=True)\n",
    "    missing_cols = [x for x in train_cols if x not in pred_X.columns]\n",
    "    if len(missing_cols):\n",
    "        print(f'Warning missing columns: {missing_cols}')\n",
    "        for c in missing_cols:\n",
    "            pred_X[c] = 0\n",
    "\n",
    "    sorted_cols = list(train_cols)\n",
    "    print('pred_X.shape', pred_X[sorted_cols].shape)\n",
    "\n",
    "    pred_df = macro_ds.px_vol_df['close'].loc[pred_X.index, macro_ds.bench].to_frame()\n",
    "\n",
    "    # Load model\n",
    "    fname = ml_path + model_name\n",
    "    model = load_model(fname)\n",
    "    print('Loaded', fname)\n",
    "\n",
    "    preds = model.predict(pred_X[sorted_cols])\n",
    "    preds_classes = model.predict_classes(pred_X[sorted_cols])\n",
    "\n",
    "    pred_df['pred_class'] = preds_classes\n",
    "    pred_df['pred_label'] = list(map(lambda x: labels[x], preds_classes))\n",
    "    probs = np.round(preds, 3)\n",
    "    # higest prob\n",
    "    pred_df['confidence'] = [x[np.argmax(x)] for x in probs]\n",
    "    prob_df = pd.DataFrame(probs, index=pred_df.index, columns=labels)\n",
    "    pred_df = pd.concat([pred_df, prob_df[labels]], axis=1)\n",
    "    pred_df.index.name = 'pred_date'\n",
    "\n",
    "    # store in S3\n",
    "    s3_path = context['s3_path']\n",
    "    s3_df = pred_df.reset_index(drop=False)\n",
    "    rename_col(s3_df, 'index', 'pred_date')\n",
    "    csv_store(s3_df, s3_path, csv_ext.format(macro_ds.tgt_date))\n",
    "\n",
    "    return pred_df"
   ]
  },
  {
   "cell_type": "code",
   "execution_count": 156,
   "metadata": {
    "code_folding": [
     0
    ]
   },
   "outputs": [],
   "source": [
    "context = {\n",
    "    'portion': 100e-2,\n",
    "    'ml_path': '../ML/',\n",
    "    'model_name': 'macro_TF.h5',\n",
    "    'tmp_path': '../tmp/',\n",
    "    'px_vol_ds': 'universe-px-vol-ds.h5',\n",
    "    'trained_cols': 'macro_TF_train_cols.npy',\n",
    "    'look_ahead': 60,\n",
    "    'look_back': 252,\n",
    "    'smooth_window': 10,\n",
    "    'predict_batch': 252,\n",
    "    'load_ds': True,\n",
    "    'impute': True,\n",
    "    'fill': 'ffill',\n",
    "    'scale': True,\n",
    "    'test_size': .10,\n",
    "    's3_path': 'recommend/macro_ML/',\n",
    "    'verbose': 2,\n",
    "    'units': 300,\n",
    "    'hidden_layers': 4,\n",
    "    'max_iter': 50,\n",
    "    'l2_reg': 0.5,\n",
    "    'dropout': 0.5,\n",
    "}"
   ]
  },
  {
   "cell_type": "code",
   "execution_count": 124,
   "metadata": {
    "code_folding": [
     0
    ]
   },
   "outputs": [
    {
     "name": "stdout",
     "output_type": "stream",
     "text": [
      "<class 'pandas.core.frame.DataFrame'>\n",
      "DatetimeIndex: 4674 entries, 2004-05-30 to 2019-05-31\n",
      "Columns: 6380 entries, (high, 0700.HK) to (volume, ^VIX)\n",
      "dtypes: float32(6380)\n",
      "memory usage: 113.8 MB\n",
      "None\n",
      "Target date: 2019-05-31\n",
      "Loading file quote/csv/2019-05-31\n",
      "Loading file summary-categories/assetProfile\n",
      "OCLHV dataframes\n",
      "Inverting instruments\n",
      "Change dataframes\n",
      "Relative performance dataframes\n",
      "Relative volume and dollar value dataframes\n",
      "Realized volatility dataframe\n",
      "Percentage change stds dataframes\n",
      "Ranked returns dataframes\n",
      "Forward return dataframe\n",
      "CPU times: user 12 s, sys: 870 ms, total: 12.8 s\n",
      "Wall time: 13.5 s\n"
     ]
    }
   ],
   "source": [
    "%%time\n",
    "temp_path = context['tmp_path']\n",
    "px_vol_fname = context['px_vol_ds']\n",
    "\n",
    "macro_ds = MacroDS(\n",
    "    path=temp_path, fname=px_vol_fname, load_ds=True, \n",
    "    bench='^GSPC',\n",
    "    look_ahead=60, look_back=252,    \n",
    "    invert_list=['EURUSD=X', 'GBPUSD=X'], \n",
    "    include_list=['^VIX'],\n",
    "#     max_draw_on=True,\n",
    ")\n",
    "\n",
    "y_col = f'{macro_ds.bench}{macro_ds.ycol_name}'\n",
    "labels = macro_ds.forward_return_labels"
   ]
  },
  {
   "cell_type": "markdown",
   "metadata": {
    "heading_collapsed": true
   },
   "source": [
    "### Train"
   ]
  },
  {
   "cell_type": "code",
   "execution_count": 148,
   "metadata": {
    "hidden": true,
    "scrolled": false
   },
   "outputs": [
    {
     "name": "stdout",
     "output_type": "stream",
     "text": [
      "Pre-clean up shape: (3776, 697)\n",
      "Post-clean up shape: (3776, 614)\n"
     ]
    },
    {
     "name": "stderr",
     "output_type": "stream",
     "text": [
      "/Users/vveiga/miniconda3/envs/inception/lib/python3.6/site-packages/sklearn/preprocessing/data.py:645: DataConversionWarning: Data with input dtype float32, float64 were all converted to float64 by StandardScaler.\n",
      "  return self.partial_fit(X, y)\n",
      "/Users/vveiga/miniconda3/envs/inception/lib/python3.6/site-packages/sklearn/base.py:464: DataConversionWarning: Data with input dtype float32, float64 were all converted to float64 by StandardScaler.\n",
      "  return self.fit(X, **fit_params).transform(X)\n"
     ]
    },
    {
     "name": "stdout",
     "output_type": "stream",
     "text": [
      "Treshold distributions: [ -inf -0.08 -0.04  0.04  0.07   inf]\n",
      "neutral   0.50\n",
      "bull      0.18\n",
      "long      0.18\n",
      "short     0.07\n",
      "bear      0.07\n",
      "Name: ^GSPCfwdRet60, dtype: float64\n",
      "X_train.shape (3331, 613), columns: ['^HSIPct200MA', 'FXIPct52WH', 'FXIPct52WL', '^HSIOpenGap', '^GDAXIPct52WH', '^GDAXIPct52WL', '^FTSEPct52WH', '^FTSEPct52WL', 'FXIPerfRank200', 'FXIPctChgStds200', 'FXIPctChg200', 'FXIPct200MA', '^N225Pct50MA', '^N225PctVol50DA', '^FTSEPct200MA', '^GDAXIPct200MA', '^TYXPct52WH', '^TYXPct52WL', '^TNXPct52WH', '^TNXPct52WL', '^FVXPct52WL', '^FVXPct52WH', 'IJHPct52WH', 'XLYPct52WL', 'XLYPct52WH', 'XLVPct52WL', 'IJHPct52WL', 'IJRPct52WH', 'XLVPct52WH', 'XLUPct52WL', 'IJRPct52WL', 'XLIPct52WL', 'EEMPct52WH', 'EEMPct52WL', 'XLBPct52WH', 'XLPPct52WL', 'XLPPct52WH', 'XLEPct52WH', 'XLEPct52WL', 'XLFPct52WH', 'XLKPct52WL', 'XLKPct52WH', 'XLFPct52WL', 'XLUPct52WH', 'XLBPct52WL', 'XLIPct52WH', '^VIXPct52WL', '^RUTPct52WL', '^DJIPct52WH', '^IXICPct52WL', '^DJIPct52WL', '^IXICPct52WH', '^GSPCPct52WL', 'LQDPct52WH', '^RUTPct52WH', 'LQDPct52WL', '^GSPCPct52WH', '^VIXPct52WH', '^N225PctVol10DA', '^N225IntraDayChg', '^HSIPct50MA', '^HSIPctVol50DA', '^TYXPct200MA', '^FVXPct200MA', '^TNXPct200MA', 'XLVPctChgStds200', '^DJIPerfRank200', 'IJHPctChgStds200', 'IJHPerfRank200', 'CHF=XPerfRank200', 'XLVPerfRank200', '^FTSEPerfRank200', 'IJRPctChgStds200', 'IJHPctChg200', 'XLYPctChg200', 'IJRPerfRank200', 'CHF=XPctChgStds200', '^IXICPctChg200', 'IJRPctChg200', '^HSIPerfRank200', 'XLYPctChgStds200', '^HSIPctChgStds200', 'XLYPerfRank200', '^IRXPctChg200', 'CHF=XPctChg200', '^IXICPctChgStds200', 'CNY=XPerfRank200', '^DJIPctChgStds200', 'XLUPerfRank200', 'XLVPctChg200', 'XLEPctChg200', 'XLIPctChgStds200', 'XLIPctChg200', 'XLIPerfRank200', 'LQDPerfRank200', 'XLFPerfRank200', 'XLKPctChg200', 'XLFPctChgStds200', '^VIXPctChg200', 'LQDPctChgStds200', 'XLFPctChg200', 'XLEPerfRank200', 'XLEPctChgStds200', 'XLKPctChgStds200', 'XLKPerfRank200', 'XLPPctChg200', 'LQDPctChg200', 'XLBPerfRank200', 'XLBPctChgStds200', '^VIXPctChgStds200', '^VIXPerfRank200', 'XLBPctChg200', 'EEMPerfRank200', 'XLPPctChgStds200', 'EEMPctChgStds200', 'XLPPerfRank200', 'XLUPctChg200', 'EEMPctChg200', '^DJIPctChg200', 'XLUPctChgStds200', 'CNY=XPctChgStds200', '^IXICPerfRank200', '^GDAXIPctChgStds200', '^N225PctChg200', '^IRXPctChgStds200', '^GSPCPctChgStds200', 'GBPUSD=XPerfRank200', '^TNXPctChg200', '^GSPCPerfRank200', 'JPY=XPctChg200', 'GBPUSD=XPctChgStds200', '^GDAXIPerfRank200', '^TNXPctChgStds200', '^FTSEPctChg200', '^TNXPerfRank200', '^FVXPctChgStds200', '^RUTPctChg200', 'GBPUSD=XPctChg200', '^TYXPctChg200', '^RUTPerfRank200', 'JPY=XPctChgStds200', 'JPY=XPerfRank200', '^RUTPctChgStds200', '^TYXPerfRank200', '^GDAXIPctChg200', '^FVXPerfRank200', '^TYXPctChgStds200', 'EURUSD=XPerfRank200', 'EURUSD=XPctChgStds200', '^N225PerfRank200', '^FVXPctChg200', 'EURUSD=XPctChg200', '^HSIPctChg200', '^IRXPerfRank200', '^GSPCPctChg200', '^N225PctChgStds200', '^FTSEPctChgStds200', 'CNY=XPctChg200', 'XLIPct200MA', 'XLEPct200MA', 'XLPPct200MA', 'LQDPct200MA', 'XLUPct200MA', 'XLYPct200MA', '^RUTPct200MA', 'XLKPct200MA', 'EEMPct200MA', 'IJHPct200MA', 'XLVPct200MA', '^DJIPct200MA', '^IXICPct200MA', 'XLBPct200MA', '^GSPCPct200MA', 'IJRPct200MA', '^VIXPct200MA', 'XLFPct200MA', '^HSIPctVol10DA', '^HSIIntraDayChg', 'FXIPerfRank50', 'FXIPctChg50', 'FXIPctChgStds50', 'FXIPctDV50DA', 'FXIPct50MA', 'FXIPctVol50DA', '^FTSEOpenGap', '^GDAXIOpenGap', 'FXIRollRealVol30', '^FTSEPct50MA', '^FTSEPctVol50DA', '^GDAXIPct50MA', 'FXIPctChgStds20', 'FXIPerfRank20', 'FXIPctChg20', 'FXIPctVol10DA', 'FXIPctDV10DA', 'FXIOpenGap', 'FXIPctChgStds1', 'FXIPctChg1', 'FXIIntraDayChg', '^FTSEPctVol10DA', '^FTSEIntraDayChg', '^GDAXIIntraDayChg', '^TYXPct50MA', '^TNXPct50MA', '^FVXPct50MA', 'XLFPctChgStds50', '^VIXPctChg50', 'XLFPerfRank50', '^GDAXIPctChg50', 'XLEPctChg50', 'XLBPerfRank50', '^FTSEPctChg50', 'XLFPctChg50', '^FTSEPctChgStds50', 'XLEPerfRank50', 'XLEPctChgStds50', '^RUTPerfRank50', '^GSPCPctChg50', '^VIXPctChgStds50', 'XLBPctChgStds50', '^IXICPerfRank50', '^IXICPctChgStds50', '^HSIPctChg50', '^HSIPctChgStds50', '^N225PerfRank50', '^HSIPerfRank50', 'IJRPctChg50', '^N225PctChgStds50', 'IJRPctChgStds50', '^FTSEPerfRank50', '^GSPCPctChgStds50', 'IJRPerfRank50', 'IJHPctChg50', '^GSPCPerfRank50', '^DJIPerfRank50', 'IJHPctChgStds50', 'IJHPerfRank50', '^DJIPctChgStds50', '^N225PctChg50', '^GDAXIPerfRank50', '^RUTPctChg50', '^GDAXIPctChgStds50', 'EEMPctChg50', '^DJIPctChg50', 'EEMPctChgStds50', '^RUTPctChgStds50', 'EEMPerfRank50', 'XLBPctChg50', '^VIXPerfRank50', '^IXICPctChg50', 'XLIPctChg50', 'XLPPerfRank50', 'CHF=XPerfRank50', 'XLVPctChgStds50', '^FVXPerfRank50', 'CNY=XPctChg50', '^TNXPctChg50', 'XLVPctChg50', 'XLUPerfRank50', 'JPY=XPctChgStds50', 'XLKPctChgStds50', '^TNXPctChgStds50', 'XLUPctChgStds50', '^TNXPerfRank50', 'CNY=XPerfRank50', 'JPY=XPctChg50', 'XLKPerfRank50', 'XLUPctChg50', 'LQDPctChg50', 'XLPPctChg50', 'EURUSD=XPerfRank50', '^TYXPctChg50', 'EURUSD=XPctChgStds50', '^TYXPctChgStds50', 'XLYPerfRank50', '^TYXPerfRank50', 'XLPPctChgStds50', 'CNY=XPctChgStds50', '^FVXPctChgStds50', 'JPY=XPerfRank50', 'EURUSD=XPctChg50', 'GBPUSD=XPctChg50', 'GBPUSD=XPctChgStds50', 'LQDPerfRank50', '^IRXPctChgStds50', 'XLIPctChgStds50', 'GBPUSD=XPerfRank50', 'XLKPctChg50', '^IRXPerfRank50', 'CHF=XPctChg50', '^IRXPctChg50', 'LQDPctChgStds50', '^FVXPctChg50', 'XLYPctChgStds50', 'CHF=XPctChgStds50', 'XLYPctChg50', 'XLVPerfRank50', 'XLIPerfRank50', '^DJIPct50MA', 'IJRPctDV50DA', 'LQDPct50MA', 'IJRPct50MA', 'EEMPctDV50DA', 'XLBPct50MA', 'EEMPctVol50DA', 'XLYPctDV50DA', 'IJRPctVol50DA', 'IJHPctDV50DA', 'EEMPct50MA', '^DJIPctVol50DA', '^DJIPctDV50DA', 'IJHPctVol50DA', 'XLUPct50MA', 'XLUPctVol50DA', 'XLYPctVol50DA', 'XLUPctDV50DA', 'XLYPct50MA', '^IXICPctDV50DA', 'XLVPct50MA', 'XLPPctDV50DA', 'XLVPctVol50DA', 'XLVPctDV50DA', '^IXICPct50MA', 'IJHPct50MA', 'XLKPctDV50DA', '^RUTPctVol50DA', 'XLEPct50MA', 'XLEPctVol50DA', 'XLEPctDV50DA', 'XLPPctVol50DA', 'XLFPct50MA', 'XLKPctVol50DA', '^RUTPctDV50DA', 'XLKPct50MA', 'XLFPctVol50DA', '^GSPCPct50MA', 'XLFPctDV50DA', '^VIXPct50MA', '^RUTPct50MA', '^GSPCPctVol50DA', '^GSPCPctDV50DA', 'XLIPct50MA', 'XLIPctVol50DA', 'XLIPctDV50DA', 'LQDPctDV50DA', '^IXICPctVol50DA', 'XLBPctDV50DA', 'XLBPctVol50DA', 'LQDPctVol50DA', 'XLPPct50MA', 'XLPRollRealVol30', '^GSPCRollRealVol30', 'XLKRollRealVol30', '^VIXRollRealVol30', 'EEMRollRealVol30', 'XLVRollRealVol30', 'IJRRollRealVol30', '^RUTRollRealVol30', 'IJHRollRealVol30', '^IRXRollRealVol30', '^FTSERollRealVol30', '^N225RollRealVol30', 'GBPUSD=XRollRealVol30', 'XLBRollRealVol30', 'XLFRollRealVol30', '^FVXRollRealVol30', 'XLIRollRealVol30', '^TNXRollRealVol30', 'EURUSD=XRollRealVol30', 'XLERollRealVol30', '^GDAXIRollRealVol30', 'LQDRollRealVol30', 'JPY=XRollRealVol30', '^DJIRollRealVol30', '^TYXRollRealVol30', '^HSIRollRealVol30', 'XLYRollRealVol30', '^IXICRollRealVol30', 'XLURollRealVol30', 'CHF=XRollRealVol30', 'CNY=XRollRealVol30', 'GBPUSD=XPctChgStds20', '^GSPCPerfRank20', '^RUTPctChg20', '^IRXPctChgStds20', '^IRXPerfRank20', '^GSPCPctChg20', 'EURUSD=XPctChg20', 'GBPUSD=XPerfRank20', '^FVXPctChg20', 'GBPUSD=XPctChg20', '^HSIPctChgStds20', '^GDAXIPctChg20', '^IRXPctChg20', '^TYXPctChg20', '^HSIPctChg20', '^N225PerfRank20', 'EURUSD=XPerfRank20', 'CNY=XPerfRank20', '^GDAXIPctChgStds20', 'JPY=XPctChgStds20', 'EURUSD=XPctChgStds20', '^TNXPerfRank20', '^GDAXIPerfRank20', '^FTSEPctChg20', 'JPY=XPerfRank20', '^TNXPctChgStds20', '^IXICPerfRank20', '^RUTPerfRank20', '^N225PctChg20', '^TNXPctChg20', '^RUTPctChgStds20', 'CHF=XPctChg20', '^FVXPerfRank20', '^TYXPctChgStds20', '^FVXPctChgStds20', 'JPY=XPctChg20', '^TYXPerfRank20', 'CNY=XPctChgStds20', '^IXICPctChgStds20', '^FTSEPctChgStds20', '^N225PctChgStds20', '^FTSEPerfRank20', 'CNY=XPctChg20', '^HSIPerfRank20', 'XLVPctChgStds20', 'XLKPerfRank20', '^VIXPerfRank20', 'XLIPerfRank20', 'XLPPctChg20', 'LQDPctChg20', 'XLVPctChg20', '^DJIPctChgStds20', 'XLUPerfRank20', 'XLUPctChgStds20', '^VIXPctChg20', 'XLEPctChg20', 'EEMPctChg20', 'XLKPctChg20', 'XLBPerfRank20', 'XLUPctChg20', 'XLBPctChgStds20', 'XLIPctChg20', 'XLYPerfRank20', 'EEMPctChgStds20', 'XLPPerfRank20', 'EEMPerfRank20', 'XLPPctChgStds20', 'XLBPctChg20', 'LQDPerfRank20', '^DJIPctChg20', '^DJIPerfRank20', 'XLFPerfRank20', 'IJHPerfRank20', 'XLEPerfRank20', 'IJRPctChg20', 'XLYPctChgStds20', 'LQDPctChgStds20', 'XLFPctChgStds20', 'IJRPctChgStds20', 'IJRPerfRank20', 'XLFPctChg20', 'XLVPerfRank20', 'IJHPctChg20', '^IXICPctChg20', 'CHF=XPctChgStds20', 'XLKPctChgStds20', 'IJHPctChgStds20', '^GSPCPctChgStds20', 'XLYPctChg20', 'XLIPctChgStds20', 'CHF=XPerfRank20', 'XLEPctChgStds20', '^VIXPctChgStds20', '^TYXOpenGap', 'XLFPctVol10DA', '^RUTPctDV10DA', 'XLBPctVol10DA', 'XLEPctVol10DA', 'XLKPctVol10DA', 'XLKPctDV10DA', '^GSPCPctVol10DA', 'XLEPctDV10DA', 'XLPPctVol10DA', '^GSPCPctDV10DA', 'LQDPctDV10DA', 'XLBPctDV10DA', '^DJIPctDV10DA', 'XLPPctDV10DA', 'XLVPctDV10DA', '^IXICPctVol10DA', '^IXICPctDV10DA', 'XLYPctDV10DA', 'IJRPctVol10DA', 'IJRPctDV10DA', 'XLYPctVol10DA', 'XLIPctDV10DA', 'XLIPctVol10DA', '^FVXOpenGap', 'IJHPctVol10DA', 'LQDPctVol10DA', 'IJHPctDV10DA', 'XLVPctVol10DA', '^TNXOpenGap', 'XLUPctDV10DA', 'XLUPctVol10DA', 'XLFPctDV10DA', '^DJIPctVol10DA', 'EEMPctVol10DA', 'EEMPctDV10DA', '^RUTPctVol10DA', '^TYXIntraDayChg', '^TNXIntraDayChg', '^FVXIntraDayChg', '^VIXPctChg1', '^VIXOpenGap', '^GSPCPctChgStds1', 'LQDOpenGap', 'LQDPctChgStds1', '^VIXPctChgStds1', 'CNY=XPctChgStds1', '^DJIPctChg1', '^GSPCOpenGap', '^DJIOpenGap', '^GSPCPctChg1', '^DJIPctChgStds1', 'CHF=XPctChg1', 'LQDPctChg1', '^IXICPctChgStds1', '^IXICPctChg1', '^IXICOpenGap', 'CHF=XPctChgStds1', 'XLIPctChgStds1', '^IRXPctChgStds1', 'CNY=XPctChg1', 'XLYOpenGap', 'IJHOpenGap', 'XLYPctChg1', '^RUTPctChg1', 'XLVPctChgStds1', 'XLVOpenGap', 'XLVPctChg1', 'XLUPctChgStds1', 'EEMPctChg1', 'XLUOpenGap', 'EEMOpenGap', 'XLUPctChg1', 'EEMPctChgStds1', 'XLBPctChg1', 'XLPPctChgStds1', 'XLBOpenGap', 'XLBPctChgStds1', 'XLPOpenGap', 'XLEPctChg1', 'XLEOpenGap', 'XLPPctChg1', 'XLEPctChgStds1', 'XLKPctChgStds1', 'XLFPctChg1', 'XLFOpenGap', 'XLFPctChgStds1', 'XLKOpenGap', 'XLIPctChg1', 'XLKPctChg1', 'XLIOpenGap', 'IJHPctChg1', 'IJHPctChgStds1', '^N225PctChgStds1', 'JPY=XPctChg1', 'JPY=XPctChgStds1', '^FTSEPctChgStds1', 'EURUSD=XPctChg1', '^FTSEPctChg1', '^GDAXIPctChg1', '^TYXPctChgStds1', '^TYXPctChg1', 'IJRPctChgStds1', 'GBPUSD=XPctChg1', '^GDAXIPctChgStds1', '^N225PctChg1', '^TNXPctChgStds1', '^RUTPctChgStds1', '^TNXPctChg1', 'EURUSD=XPctChgStds1', '^FVXPctChgStds1', '^HSIPctChg1', '^FVXPctChg1', '^HSIPctChgStds1', '^RUTOpenGap', '^IRXPctChg1', 'IJRPctChg1', 'XLYPctChgStds1', 'IJROpenGap', 'GBPUSD=XPctChgStds1', 'XLKIntraDayChg', '^VIXIntraDayChg', '^RUTIntraDayChg', 'XLFIntraDayChg', 'XLIIntraDayChg', '^IXICIntraDayChg', 'XLBIntraDayChg', '^GSPCIntraDayChg', 'XLEIntraDayChg', 'XLPIntraDayChg', '^DJIIntraDayChg', 'LQDIntraDayChg', 'EEMIntraDayChg', 'XLUIntraDayChg', 'XLVIntraDayChg', 'IJRIntraDayChg', 'IJHIntraDayChg', 'XLYIntraDayChg', '^VIXClose']\n",
      "Saved:  ../ML/macro_TF_train_cols.npy\n",
      "WARNING:tensorflow:From /Users/vveiga/miniconda3/envs/inception/lib/python3.6/site-packages/tensorflow/python/ops/math_ops.py:3066: to_int32 (from tensorflow.python.ops.math_ops) is deprecated and will be removed in a future version.\n",
      "Instructions for updating:\n",
      "Use tf.cast instead.\n"
     ]
    },
    {
     "name": "stdout",
     "output_type": "stream",
     "text": [
      "Train on 3331 samples, validate on 371 samples\n",
      "Epoch 1/50\n",
      "3331/3331 [==============================] - 5s 1ms/step - loss: 0.9595 - acc: 0.6424 - val_loss: 0.5409 - val_acc: 0.7871\n",
      "\n",
      "Epoch 00001: val_loss improved from inf to 0.54086, saving model to ../ML/macro_TF.h5\n",
      "Epoch 2/50\n",
      "3331/3331 [==============================] - 1s 276us/step - loss: 0.3909 - acc: 0.8658 - val_loss: 0.3774 - val_acc: 0.8518\n",
      "\n",
      "Epoch 00002: val_loss improved from 0.54086 to 0.37742, saving model to ../ML/macro_TF.h5\n",
      "Epoch 3/50\n",
      "3331/3331 [==============================] - 1s 294us/step - loss: 0.2713 - acc: 0.9054 - val_loss: 0.3903 - val_acc: 0.8571\n",
      "\n",
      "Epoch 00003: val_loss did not improve from 0.37742\n",
      "Epoch 4/50\n",
      "3331/3331 [==============================] - 1s 279us/step - loss: 0.2646 - acc: 0.9183 - val_loss: 0.3409 - val_acc: 0.8976\n",
      "\n",
      "Epoch 00004: val_loss improved from 0.37742 to 0.34094, saving model to ../ML/macro_TF.h5\n",
      "Epoch 5/50\n",
      "3331/3331 [==============================] - 1s 288us/step - loss: 0.2060 - acc: 0.9358 - val_loss: 0.3452 - val_acc: 0.8814\n",
      "\n",
      "Epoch 00005: val_loss did not improve from 0.34094\n",
      "Epoch 6/50\n",
      "3331/3331 [==============================] - 1s 334us/step - loss: 0.1777 - acc: 0.9427 - val_loss: 0.3225 - val_acc: 0.8841\n",
      "\n",
      "Epoch 00006: val_loss improved from 0.34094 to 0.32250, saving model to ../ML/macro_TF.h5\n",
      "Epoch 7/50\n",
      "3331/3331 [==============================] - 1s 311us/step - loss: 0.1572 - acc: 0.9475 - val_loss: 0.3879 - val_acc: 0.8760\n",
      "\n",
      "Epoch 00007: val_loss did not improve from 0.32250\n",
      "Epoch 8/50\n",
      "3331/3331 [==============================] - 1s 352us/step - loss: 0.1513 - acc: 0.9436 - val_loss: 0.3395 - val_acc: 0.8706\n",
      "\n",
      "Epoch 00008: val_loss did not improve from 0.32250\n",
      "Epoch 9/50\n",
      "3331/3331 [==============================] - 1s 325us/step - loss: 0.0891 - acc: 0.9727 - val_loss: 0.2964 - val_acc: 0.8976\n",
      "\n",
      "Epoch 00009: val_loss improved from 0.32250 to 0.29644, saving model to ../ML/macro_TF.h5\n",
      "Epoch 10/50\n",
      "3331/3331 [==============================] - 1s 321us/step - loss: 0.1043 - acc: 0.9670 - val_loss: 0.3846 - val_acc: 0.8868\n",
      "\n",
      "Epoch 00010: val_loss did not improve from 0.29644\n",
      "Epoch 11/50\n",
      "3331/3331 [==============================] - 1s 320us/step - loss: 0.1076 - acc: 0.9652 - val_loss: 0.3427 - val_acc: 0.8841\n",
      "\n",
      "Epoch 00011: val_loss did not improve from 0.29644\n",
      "Epoch 12/50\n",
      "3331/3331 [==============================] - 1s 338us/step - loss: 0.2108 - acc: 0.9279 - val_loss: 0.3227 - val_acc: 0.8841\n",
      "\n",
      "Epoch 00012: val_loss did not improve from 0.29644\n",
      "Epoch 13/50\n",
      "3331/3331 [==============================] - 1s 308us/step - loss: 0.1443 - acc: 0.9484 - val_loss: 0.3011 - val_acc: 0.8868\n",
      "\n",
      "Epoch 00013: val_loss did not improve from 0.29644\n",
      "Epoch 14/50\n",
      "3331/3331 [==============================] - 1s 314us/step - loss: 0.1247 - acc: 0.9541 - val_loss: 0.2782 - val_acc: 0.8841\n",
      "\n",
      "Epoch 00014: val_loss improved from 0.29644 to 0.27818, saving model to ../ML/macro_TF.h5\n",
      "Epoch 15/50\n",
      "3331/3331 [==============================] - 1s 307us/step - loss: 0.0658 - acc: 0.9799 - val_loss: 0.2945 - val_acc: 0.8841\n",
      "\n",
      "Epoch 00015: val_loss did not improve from 0.27818\n",
      "Epoch 16/50\n",
      "3331/3331 [==============================] - 1s 331us/step - loss: 0.0826 - acc: 0.9757 - val_loss: 0.3290 - val_acc: 0.8814\n",
      "\n",
      "Epoch 00016: val_loss did not improve from 0.27818\n",
      "Epoch 17/50\n",
      "3331/3331 [==============================] - 1s 318us/step - loss: 0.0565 - acc: 0.9835 - val_loss: 0.3188 - val_acc: 0.9030\n",
      "\n",
      "Epoch 00017: val_loss did not improve from 0.27818\n",
      "Epoch 18/50\n",
      "3331/3331 [==============================] - 1s 301us/step - loss: 0.0884 - acc: 0.9706 - val_loss: 0.3250 - val_acc: 0.8976\n",
      "\n",
      "Epoch 00018: val_loss did not improve from 0.27818\n",
      "Epoch 19/50\n",
      "3331/3331 [==============================] - 1s 311us/step - loss: 0.1148 - acc: 0.9616 - val_loss: 0.3698 - val_acc: 0.8868\n",
      "\n",
      "Epoch 00019: val_loss did not improve from 0.27818\n",
      "Epoch 20/50\n",
      "3331/3331 [==============================] - 1s 340us/step - loss: 0.0987 - acc: 0.9664 - val_loss: 0.3012 - val_acc: 0.8949\n",
      "\n",
      "Epoch 00020: val_loss did not improve from 0.27818\n",
      "Epoch 21/50\n",
      "3331/3331 [==============================] - 1s 305us/step - loss: 0.1443 - acc: 0.9466 - val_loss: 0.3391 - val_acc: 0.9030\n",
      "\n",
      "Epoch 00021: val_loss did not improve from 0.27818\n",
      "Epoch 22/50\n",
      "3331/3331 [==============================] - 1s 340us/step - loss: 0.1253 - acc: 0.9565 - val_loss: 0.3462 - val_acc: 0.8949\n",
      "\n",
      "Epoch 00022: val_loss did not improve from 0.27818\n",
      "Epoch 23/50\n",
      "3331/3331 [==============================] - 1s 306us/step - loss: 0.1168 - acc: 0.9610 - val_loss: 0.2774 - val_acc: 0.9084\n",
      "\n",
      "Epoch 00023: val_loss improved from 0.27818 to 0.27745, saving model to ../ML/macro_TF.h5\n",
      "Epoch 24/50\n",
      "3331/3331 [==============================] - 1s 320us/step - loss: 0.1189 - acc: 0.9592 - val_loss: 0.3444 - val_acc: 0.8922\n",
      "\n",
      "Epoch 00024: val_loss did not improve from 0.27745\n",
      "Epoch 25/50\n",
      "3331/3331 [==============================] - 1s 305us/step - loss: 0.1501 - acc: 0.9442 - val_loss: 0.3515 - val_acc: 0.8895\n",
      "\n",
      "Epoch 00025: val_loss did not improve from 0.27745\n",
      "Epoch 26/50\n",
      "3331/3331 [==============================] - 1s 319us/step - loss: 0.1633 - acc: 0.9415 - val_loss: 0.3182 - val_acc: 0.8679\n",
      "\n",
      "Epoch 00026: val_loss did not improve from 0.27745\n",
      "Epoch 27/50\n",
      "3331/3331 [==============================] - 1s 307us/step - loss: 0.0996 - acc: 0.9670 - val_loss: 0.3035 - val_acc: 0.9164\n",
      "Restoring model weights from the end of the best epoch\n",
      "\n",
      "Epoch 00027: val_loss did not improve from 0.27745\n",
      "Epoch 00027: early stopping\n",
      "371/371 [==============================] - 0s 107us/step\n",
      "Loss: 0.3187512642932388, Accuracy: 0.9029649610146679\n"
     ]
    }
   ],
   "source": [
    "%%time\n",
    "train_ds(context)"
   ]
  },
  {
   "cell_type": "markdown",
   "metadata": {},
   "source": [
    "### Predict"
   ]
  },
  {
   "cell_type": "code",
   "execution_count": 169,
   "metadata": {},
   "outputs": [
    {
     "name": "stdout",
     "output_type": "stream",
     "text": [
      "Pre-clean up shape: (3776, 697)\n",
      "Post-clean up shape: (3776, 614)\n"
     ]
    },
    {
     "name": "stderr",
     "output_type": "stream",
     "text": [
      "/Users/vveiga/miniconda3/envs/inception/lib/python3.6/site-packages/sklearn/preprocessing/data.py:645: DataConversionWarning: Data with input dtype float32, float64 were all converted to float64 by StandardScaler.\n",
      "  return self.partial_fit(X, y)\n",
      "/Users/vveiga/miniconda3/envs/inception/lib/python3.6/site-packages/sklearn/base.py:464: DataConversionWarning: Data with input dtype float32, float64 were all converted to float64 by StandardScaler.\n",
      "  return self.fit(X, **fit_params).transform(X)\n"
     ]
    },
    {
     "name": "stdout",
     "output_type": "stream",
     "text": [
      "pred_X.shape (252, 614)\n",
      "pred_X.shape (252, 613)\n",
      "Loaded ../ML/macro_TF.h5\n",
      "Saved recommend/macro_ML/2019-05-31.csv\n",
      "CPU times: user 6.25 s, sys: 750 ms, total: 7 s\n",
      "Wall time: 6.63 s\n"
     ]
    }
   ],
   "source": [
    "%time pred_df = predict_ds(context)"
   ]
  },
  {
   "cell_type": "markdown",
   "metadata": {},
   "source": [
    "#### Store / Read S3"
   ]
  },
  {
   "cell_type": "code",
   "execution_count": 170,
   "metadata": {},
   "outputs": [],
   "source": [
    "# read from S3\n",
    "s3_path = context['s3_path']\n",
    "pred_df = pd.read_csv(\n",
    "    csv_load(f'{s3_path}{macro_ds.tgt_date}'),\n",
    "    index_col='pred_date', parse_dates=True)"
   ]
  },
  {
   "cell_type": "markdown",
   "metadata": {},
   "source": [
    "#### Visualize"
   ]
  },
  {
   "cell_type": "code",
   "execution_count": 172,
   "metadata": {},
   "outputs": [
    {
     "data": {
      "text/plain": [
       "Index(['^GSPC', 'pred_class', 'pred_label', 'confidence', 'bear', 'short',\n",
       "       'neutral', 'long', 'bull'],\n",
       "      dtype='object')"
      ]
     },
     "execution_count": 172,
     "metadata": {},
     "output_type": "execute_result"
    }
   ],
   "source": [
    "pred_df.columns"
   ]
  },
  {
   "cell_type": "code",
   "execution_count": 173,
   "metadata": {},
   "outputs": [
    {
     "name": "stdout",
     "output_type": "stream",
     "text": [
      "Prediction distribution\n"
     ]
    },
    {
     "data": {
      "text/plain": [
       "neutral   0.42\n",
       "long      0.23\n",
       "bull      0.15\n",
       "short     0.11\n",
       "bear      0.08\n",
       "Name: pred_label, dtype: float64"
      ]
     },
     "execution_count": 173,
     "metadata": {},
     "output_type": "execute_result"
    }
   ],
   "source": [
    "# recommendation distribution\n",
    "print('Prediction distribution')\n",
    "pd.value_counts(pred_df.pred_label) / pd.value_counts(pred_df.pred_label).sum()"
   ]
  },
  {
   "cell_type": "code",
   "execution_count": 176,
   "metadata": {},
   "outputs": [
    {
     "data": {
      "text/plain": [
       "'Confidence Mean: 0.924, Median 0.986'"
      ]
     },
     "execution_count": 176,
     "metadata": {},
     "output_type": "execute_result"
    },
    {
     "data": {
      "image/png": "[encoded data removed]",
      "text/plain": [
       "<Figure size 1080x360 with 2 Axes>"
      ]
     },
     "metadata": {
      "needs_background": "light"
     },
     "output_type": "display_data"
    },
    {
     "data": {
      "image/png": "[encoded data removed]",
      "text/plain": [
       "<Figure size 1080x144 with 1 Axes>"
      ]
     },
     "metadata": {
      "needs_background": "light"
     },
     "output_type": "display_data"
    }
   ],
   "source": [
    "pre_class_cols = filter_cols(pred_df.columns, \"pred_class\")\n",
    "pred_df.loc[:,[macro_ds.bench] + pre_class_cols].plot(\n",
    "    secondary_y=pre_class_cols, figsize=(15, 5));\n",
    "pred_df[labels].plot.area(\n",
    "        title='Prediction Probabilities',\n",
    "        figsize=(15, 2), ylim=(0, 1), cmap='RdYlGn');\n",
    "f'Confidence Mean: {pred_df[\"confidence\"].mean().round(3)}, Median {pred_df[\"confidence\"].median().round(3)}'"
   ]
  },
  {
   "cell_type": "markdown",
   "metadata": {
    "heading_collapsed": true
   },
   "source": [
    "### Sandbox code"
   ]
  },
  {
   "cell_type": "markdown",
   "metadata": {
    "hidden": true
   },
   "source": [
    "#### Dataset creation"
   ]
  },
  {
   "cell_type": "code",
   "execution_count": null,
   "metadata": {
    "hidden": true
   },
   "outputs": [],
   "source": [
    "# average the return of the next periods\n",
    "# select only rows where Y variable is not null\n",
    "train_idx = px_close.dropna(subset=[bench]).index\n",
    "Y = px_fwd_rets(px_close.loc[train_idx, bench], bench, pred_fwd_windows).mean(axis=1)\n",
    "Y.plot.hist(bins=50, title='Distribution of Forwards Returns')\n",
    "Y.shape"
   ]
  },
  {
   "cell_type": "code",
   "execution_count": null,
   "metadata": {
    "code_folding": [],
    "hidden": true
   },
   "outputs": [],
   "source": [
    "%%time\n",
    "df_large = pd.DataFrame()\n",
    "\n",
    "# rate transforms\n",
    "rate_ft_df = rate_feats(px_close[rateSL], rate_windows)\n",
    "df_large[rate_ft_df.columns] = rate_ft_df\n",
    "\n",
    "# price momentum transforms\n",
    "super_list = []\n",
    "for ticker in include:\n",
    "    inv = ticker in invert\n",
    "    incl_px = True if ticker in incl_price else False\n",
    "    df = px_close[ticker]\n",
    "    ft_df = px_mom_feats(df, ticker, stds, inv, incl_px, sec_windows)\n",
    "    super_list.append(ft_df.drop_duplicates())\n",
    "df_large = pd.concat(super_list, axis=1).sort_index()\n",
    "\n",
    "df_large[y_col] = Y\n",
    "\n",
    "# drop NAs before discretizing\n",
    "df_large = df_large.loc[train_idx, :]\n",
    "\n",
    "print(df_large.shape)"
   ]
  },
  {
   "cell_type": "code",
   "execution_count": null,
   "metadata": {
    "hidden": true
   },
   "outputs": [],
   "source": [
    "os.makedirs('tmp', exist_ok=True)\n",
    "df_large.to_parquet('tmp/macro-ds-large')"
   ]
  },
  {
   "cell_type": "markdown",
   "metadata": {
    "hidden": true
   },
   "source": [
    "#### Metrics"
   ]
  },
  {
   "cell_type": "code",
   "execution_count": null,
   "metadata": {
    "hidden": true
   },
   "outputs": [],
   "source": [
    "draw_tree(clf1.estimators_[0], X, precision=3)"
   ]
  },
  {
   "cell_type": "code",
   "execution_count": null,
   "metadata": {
    "hidden": true
   },
   "outputs": [],
   "source": [
    "show_fi(clf1, X, 25)"
   ]
  },
  {
   "cell_type": "code",
   "execution_count": null,
   "metadata": {
    "hidden": true
   },
   "outputs": [],
   "source": [
    "log_loss(y_test, clf1.predict_proba(X_test))"
   ]
  },
  {
   "cell_type": "code",
   "execution_count": null,
   "metadata": {
    "hidden": true
   },
   "outputs": [],
   "source": [
    "print('Confussion Matrix\\n', confusion_matrix(clf.predict(X_test), y_test, labels=fwd_ret_labels))"
   ]
  },
  {
   "cell_type": "code",
   "execution_count": null,
   "metadata": {
    "hidden": true
   },
   "outputs": [],
   "source": [
    "print('Classificaton report\\n', classification_report(clf.predict(X_test), y_test, target_names=fwd_ret_labels))"
   ]
  },
  {
   "cell_type": "code",
   "execution_count": null,
   "metadata": {
    "hidden": true
   },
   "outputs": [],
   "source": [
    "fi = rf_feat_importance(clf1, pd.DataFrame(X)); fi[:10]"
   ]
  },
  {
   "cell_type": "code",
   "execution_count": null,
   "metadata": {
    "hidden": true
   },
   "outputs": [],
   "source": [
    "clf1.predict_proba(X_test)"
   ]
  },
  {
   "cell_type": "code",
   "execution_count": null,
   "metadata": {
    "hidden": true
   },
   "outputs": [],
   "source": [
    "[plt.plot(x.tolist(), alpha=0.1, color='b', marker='*', linewidth=0) for x in clf1.predict_proba(X_test)];"
   ]
  },
  {
   "cell_type": "markdown",
   "metadata": {
    "hidden": true
   },
   "source": [
    "#### Feature construction"
   ]
  },
  {
   "cell_type": "code",
   "execution_count": null,
   "metadata": {
    "hidden": true
   },
   "outputs": [],
   "source": [
    "# FX\n",
    "FX = ['EURUSD=X', 'JPY=X', 'GBPUSD=X', 'CNY=X', 'CHF=X', 'DX-Y.NYB']\n",
    "invert = ['EURUSD=X', 'GBPUSD=X']\n",
    "df_raw = px_close[FX]\n",
    "df_raw.describe().T"
   ]
  },
  {
   "cell_type": "code",
   "execution_count": null,
   "metadata": {
    "hidden": true
   },
   "outputs": [],
   "source": [
    "fx_df = df_raw.copy()\n",
    "fx_df[invert] = (1 / df_raw[invert])\n",
    "fx_df.tail(252)\n",
    "fx_chg_df = fx_df.pct_change().rolling(60).sum()\n",
    "fx_chg_df.plot.kde()"
   ]
  },
  {
   "cell_type": "code",
   "execution_count": null,
   "metadata": {
    "hidden": true
   },
   "outputs": [],
   "source": [
    "rates = px_close[rateSL]\n",
    "rates.plot.kde(alpha=1, title='Yield Curve Rate Distribution')\n",
    "rate_feats(rates, [60]).plot.kde(title='10Yr - 3M Spread')"
   ]
  },
  {
   "cell_type": "code",
   "execution_count": null,
   "metadata": {
    "hidden": true
   },
   "outputs": [],
   "source": [
    "%%time\n",
    "# Uses px_mom_feats for FX transforms\n",
    "FX = ['EURUSD=X', 'JPY=X', 'GBPUSD=X', 'CNY=X', 'CHF=X', 'DX-Y.NYB']\n",
    "invert = ['EURUSD=X', 'GBPUSD=X']\n",
    "\n",
    "ndf = pd.DataFrame() \n",
    "for fx in FX:\n",
    "    inv = True if fx in invert else False\n",
    "    df = get_symbol_pricing(fx)\n",
    "    ft_df = px_mom_feats(df, fx, 1, inv, True)\n",
    "    ndf[ft_df.columns] = ft_df\n",
    "ndf.plot.hist(alpha=0.5, legend=False)"
   ]
  },
  {
   "cell_type": "code",
   "execution_count": null,
   "metadata": {
    "hidden": true
   },
   "outputs": [],
   "source": [
    "ft_df = px_mom_feats(get_symbol_pricing('^VIX'), '^VIX', 2, False, True, [20])\n",
    "print(ft_df.columns)\n",
    "ft_df.iloc[:,:].plot.hist()"
   ]
  },
  {
   "cell_type": "code",
   "execution_count": null,
   "metadata": {
    "hidden": true
   },
   "outputs": [],
   "source": [
    "symbol = '^GSPC'\n",
    "px_df = get_symbol_pricing(symbol)\n",
    "\n",
    "ft_df = px_mom_feats(px_df, symbol)\n",
    "# ft_df.plot(subplots=True, figsize=(10,15));\n",
    "ft_df.plot.hist(alpha=0.5);"
   ]
  },
  {
   "cell_type": "code",
   "execution_count": null,
   "metadata": {
    "hidden": true
   },
   "outputs": [],
   "source": [
    "ft_df = px_fwd_rets(px_df, symbol)\n",
    "ft_df.plot.hist(alpha=0.5);\n",
    "ft_df[symbol] = px_df['close']\n",
    "ft_df.tail(252*4).plot(secondary_y=symbol, figsize=(10,5));"
   ]
  },
  {
   "cell_type": "code",
   "execution_count": null,
   "metadata": {
    "code_folding": [
     0
    ],
    "hidden": true
   },
   "outputs": [],
   "source": [
    "%%time\n",
    "# average different time frames of fwd rets for all benchmarks\n",
    "# do we try to estimate the average of all benchmarks or just one?\n",
    "# do we try to estimate three type of fwd rets [20, 60, 120] or just one?\n",
    "\n",
    "# calculate forward returns for all bechmarks\n",
    "fwd_rets_df = pd.DataFrame()\n",
    "for s in benchSL:\n",
    "    px_df = get_symbol_pricing(s)\n",
    "    fwd_ret = px_fwd_rets(px_df, s)\n",
    "    fwd_rets_df[fwd_ret.columns] = fwd_ret\n",
    "fwd_rets_df.tail()\n",
    "\n",
    "[fwd_rets_df[[x for x in fwd_rets_df.columns if y in x]].mean(axis=1).plot.hist(alpha=0.5)\n",
    "     for y in ['g20', 'g60', 'g120']]"
   ]
  },
  {
   "cell_type": "markdown",
   "metadata": {
    "hidden": true
   },
   "source": [
    "#### Visualizations"
   ]
  },
  {
   "cell_type": "code",
   "execution_count": null,
   "metadata": {
    "hidden": true
   },
   "outputs": [],
   "source": [
    "locs = [-int(x**3) for x in range(1, 7, 1)]\n",
    "px_close[rateSL].iloc[locs, :].T.plot(title='Historical Yield Curve');\n",
    "#f'Yield curve for the last {locs} days'"
   ]
  },
  {
   "cell_type": "code",
   "execution_count": null,
   "metadata": {
    "code_folding": [],
    "hidden": true
   },
   "outputs": [],
   "source": [
    "# show correlations with Y variables\n",
    "show = ['mktFwdChg1m', 'mktFwdChg3m', 'mktFwdChg6m']\n",
    "ml_ds_df.corr()[show]"
   ]
  },
  {
   "cell_type": "code",
   "execution_count": null,
   "metadata": {
    "hidden": true,
    "scrolled": true
   },
   "outputs": [],
   "source": [
    "# series distributions\n",
    "%time ml_ds_df.hist(figsize=(15,15));"
   ]
  },
  {
   "cell_type": "code",
   "execution_count": null,
   "metadata": {
    "hidden": true
   },
   "outputs": [],
   "source": [
    "# scatter plots\n",
    "%time pd.plotting.scatter_matrix(ml_ds_df, alpha=0.1, figsize=(40, 40));"
   ]
  },
  {
   "cell_type": "code",
   "execution_count": null,
   "metadata": {
    "hidden": true
   },
   "outputs": [],
   "source": [
    "# historical returns for 1, 3, and 6 months\n",
    "secpx['mktHistPctChgStds'] = SPY_pct_chg.apply(sign_compare, args=(SPY_pct_chg.std(),))\n",
    "secpx['mktHistPctChg1m'] = SPY_close.pct_change(periods=20)\n",
    "secpx['mktHistPctChg3m'] = SPY_close.pct_change(periods=60)\n",
    "secpx['mktHistPctChg6m'] = SPY_close.pct_change(periods=120)\n",
    "secpx['mktPerc52WkHigh'] = (SPY_close / SPY_close.rolling(252).max())\n",
    "secpx['mktPerc52WkLow'] = (SPY_close / SPY_close.rolling(252).min())\n",
    "\n",
    "show = ['mktHistPctChgStds', 'mktHistPctChg1m', 'mktHistPctChg3m', \n",
    "        'mktHistPctChg6m']\n",
    "secpx[show].hist();\n",
    "secpx[show].tail(252*4).plot(secondary_y='mktHistPctChgStds');\n",
    "show = ['mktPerc52WkLow']\n",
    "secpx[show].tail(252*4).plot();"
   ]
  },
  {
   "cell_type": "code",
   "execution_count": null,
   "metadata": {
    "hidden": true
   },
   "outputs": [],
   "source": [
    "# Forward returns, 1w, 1m, 3m\n",
    "SPY_close.pct_change(5).shift(-5)\n",
    "secpx['mktFwdChg1m'] = SPY_close.pct_change(20).shift(-20)\n",
    "secpx['mktFwdChg3m'] = SPY_close.pct_change(60).shift(-60)\n",
    "secpx['mktFwdChg6m'] = SPY_close.pct_change(120).shift(-120)\n",
    "\n",
    "show = ['mktFwdChg1m', 'mktFwdChg3m', 'mktFwdChg6m']\n",
    "secpx[show].hist();\n",
    "secpx[show].tail(252*4).plot();"
   ]
  },
  {
   "cell_type": "code",
   "execution_count": null,
   "metadata": {
    "hidden": true
   },
   "outputs": [],
   "source": [
    "show = [bench_symbol, 'mktFwdChg1m', 'mktFwdChg3m', 'mktFwdChg6m']\n",
    "secpx[show].tail(252*4).plot(secondary_y=bench_symbol, figsize=(12,5));"
   ]
  },
  {
   "cell_type": "code",
   "execution_count": null,
   "metadata": {
    "hidden": true
   },
   "outputs": [],
   "source": [
    "# cumulative deltas and gap analysis\n",
    "secpx['pctChgStds'] = pct_chg.apply(sign_compare, args=(pct_chg.std(),))\n",
    "secpx['openGap1m'] = (openpx - closepx.shift(1)).rolling(20).sum()\n",
    "secpx['hlDelta1m'] = (highpx - lowpx).rolling(20).sum()\n",
    "secpx['cumChg1m'] = (closepx - closepx.shift(1)).rolling(20).sum()\n",
    "secpx['cumChg3m'] = (closepx - closepx.shift(1)).rolling(60).sum()\n",
    "secpx['cumChg6m'] = (closepx - closepx.shift(1)).rolling(120).sum()\n",
    "secpx['perc52WkLow'] = (closepx / closepx.rolling(252).min())\n",
    "\n",
    "show = ['pctChgStds', 'openGap1m', 'hlDelta1m', \n",
    "        'cumChg1m', 'cumChg3m', 'cumChg6m']\n",
    "secpx[show].hist();\n",
    "secpx[show].tail(252*4).plot(secondary_y='pctChgStds');\n",
    "show = ['perc52WkLow']\n",
    "secpx[show].tail(252*4).plot();"
   ]
  },
  {
   "cell_type": "code",
   "execution_count": null,
   "metadata": {
    "hidden": true
   },
   "outputs": [],
   "source": [
    "show = ['pctChgStds', 'mktHistPctChgStds']\n",
    "secpx[show].hist();\n",
    "secpx[show].tail(252*4).plot();"
   ]
  },
  {
   "cell_type": "code",
   "execution_count": null,
   "metadata": {
    "hidden": true
   },
   "outputs": [],
   "source": [
    "# rolling SPY correlations\n",
    "secpx['crossCorr1m'] = closepx.pct_change().rolling(20).corr(SPY_pct_chg)\n",
    "secpx['crossCorr3m'] = closepx.pct_change().rolling(60).corr(SPY_pct_chg)\n",
    "\n",
    "show = [bench_symbol, 'crossCorr1m', 'crossCorr3m']\n",
    "secpx[show].tail(252*4).plot(secondary_y=bench_symbol);\n",
    "# closepx.pct_change().corr(SPY_pct_chg)"
   ]
  },
  {
   "cell_type": "markdown",
   "metadata": {
    "hidden": true
   },
   "source": [
    "#### Missing values"
   ]
  },
  {
   "cell_type": "code",
   "execution_count": null,
   "metadata": {
    "hidden": true
   },
   "outputs": [],
   "source": [
    "# px_close.loc[pred_X.index, keep_bench].tail(20)\n",
    "# pred_X.tail()"
   ]
  },
  {
   "cell_type": "code",
   "execution_count": null,
   "metadata": {
    "hidden": true
   },
   "outputs": [],
   "source": [
    "# pred_X.fillna(method='ffill', inplace=True)\n",
    "# na = pred_X.tail(120).isna().any(0)\n",
    "# pred_X[na[na.values].index]"
   ]
  },
  {
   "cell_type": "markdown",
   "metadata": {
    "hidden": true
   },
   "source": [
    "#### Fixing timeseries concatenation"
   ]
  },
  {
   "cell_type": "code",
   "execution_count": null,
   "metadata": {
    "code_folding": [],
    "hidden": true
   },
   "outputs": [],
   "source": [
    "super_list = []\n",
    "for n, t in enumerate(keep_sect):\n",
    "    try:\n",
    "        df = get_symbol_pricing(t, freq, cols=None)\n",
    "        rename_col(df, 'close', t)\n",
    "        print(\"Retrieving pricing: {0}, {1}\".format(t, df.shape))\n",
    "        df.index = df.index.strftime('%Y-%m-%d')\n",
    "        super_list.append(df[t])\n",
    "    except Exception as e:\n",
    "        print(\"Exception, get_mults_pricing: {0}\\n{1}\".format(t, e))"
   ]
  },
  {
   "cell_type": "code",
   "execution_count": null,
   "metadata": {
    "hidden": true
   },
   "outputs": [],
   "source": [
    "full_df = pd.DataFrame(super_list[0])\n",
    "if len(super_list[1:]):\n",
    "    for x in super_list[1:]: full_df = pd.merge(full_df, x, left_index=True, right_index=True, how='outer')\n",
    "full_df.index = pd.to_datetime(full_df.index)"
   ]
  },
  {
   "cell_type": "code",
   "execution_count": null,
   "metadata": {
    "hidden": true
   },
   "outputs": [],
   "source": [
    "full_df.tail(20)"
   ]
  },
  {
   "cell_type": "code",
   "execution_count": null,
   "metadata": {
    "hidden": true
   },
   "outputs": [],
   "source": [
    "super_list[0].tail(10)"
   ]
  },
  {
   "cell_type": "code",
   "execution_count": null,
   "metadata": {
    "hidden": true
   },
   "outputs": [],
   "source": [
    "super_list[1].tail(10)"
   ]
  },
  {
   "cell_type": "code",
   "execution_count": null,
   "metadata": {
    "hidden": true
   },
   "outputs": [],
   "source": [
    "super_list[2].tail(10)"
   ]
  },
  {
   "cell_type": "code",
   "execution_count": null,
   "metadata": {
    "hidden": true
   },
   "outputs": [],
   "source": [
    "get_symbol_pricing('JPY=X')"
   ]
  },
  {
   "cell_type": "code",
   "execution_count": null,
   "metadata": {
    "hidden": true
   },
   "outputs": [],
   "source": []
  },
  {
   "cell_type": "code",
   "execution_count": null,
   "metadata": {
    "hidden": true
   },
   "outputs": [],
   "source": [
    "full_df.tail(30).sort_index()"
   ]
  },
  {
   "cell_type": "code",
   "execution_count": null,
   "metadata": {
    "hidden": true
   },
   "outputs": [],
   "source": [
    "for d in super_list:\n",
    "    print(d.shape, d.drop_duplicates().shape)"
   ]
  },
  {
   "cell_type": "code",
   "execution_count": null,
   "metadata": {
    "hidden": true
   },
   "outputs": [],
   "source": [
    "super_list[1].duplicated().sort_values()"
   ]
  },
  {
   "cell_type": "code",
   "execution_count": null,
   "metadata": {
    "hidden": true
   },
   "outputs": [],
   "source": [
    "df = pd.concat(super_list, axis=1)"
   ]
  },
  {
   "cell_type": "code",
   "execution_count": null,
   "metadata": {
    "hidden": true
   },
   "outputs": [],
   "source": [
    "super_list[0].tail(10).index, \\\n",
    "super_list[1].tail(10).index, \\\n",
    "super_list[2].tail(10).index, \\\n",
    "super_list[3].tail(10).index"
   ]
  },
  {
   "cell_type": "code",
   "execution_count": null,
   "metadata": {
    "hidden": true
   },
   "outputs": [],
   "source": [
    "ss = get_symbol_pricing('DX-Y.NYB', freq).tail(20)"
   ]
  },
  {
   "cell_type": "code",
   "execution_count": null,
   "metadata": {
    "hidden": true
   },
   "outputs": [],
   "source": [
    "ss.index.strftime('%Y-%m-%d')"
   ]
  },
  {
   "cell_type": "code",
   "execution_count": null,
   "metadata": {
    "hidden": true
   },
   "outputs": [],
   "source": [
    "# pd.merge(super_list[1], super_list[2], left_index=True, right_index=True)\n",
    "# pd.concat(super_list, axis=1)\n",
    "init_df = pd.DataFrame(super_list[0])\n",
    "for x in super_list[1:]:\n",
    "    init_df = pd.merge(init_df, x, left_index=True, right_index=True)\n",
    "init_df.tail(60)"
   ]
  },
  {
   "cell_type": "code",
   "execution_count": null,
   "metadata": {
    "hidden": true
   },
   "outputs": [],
   "source": [
    "pd.concat(super_list, axis=1, ).tail(15)"
   ]
  },
  {
   "cell_type": "code",
   "execution_count": null,
   "metadata": {
    "hidden": true
   },
   "outputs": [],
   "source": [
    "for d in super_list: d.drop_duplicates(inplace=True)"
   ]
  },
  {
   "cell_type": "code",
   "execution_count": null,
   "metadata": {
    "hidden": true
   },
   "outputs": [],
   "source": [
    "df = pd.concat(super_list, axis=1, copy=False)"
   ]
  }
 ],
 "metadata": {
  "kernelspec": {
   "display_name": "Python 3",
   "language": "python",
   "name": "python3"
  },
  "language_info": {
   "codemirror_mode": {
    "name": "ipython",
    "version": 3
   },
   "file_extension": ".py",
   "mimetype": "text/x-python",
   "name": "python",
   "nbconvert_exporter": "python",
   "pygments_lexer": "ipython3",
   "version": "3.6.8"
  }
 },
 "nbformat": 4,
 "nbformat_minor": 2
}
