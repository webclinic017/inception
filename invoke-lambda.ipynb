{
 "cells": [
  {
   "cell_type": "code",
   "execution_count": 78,
   "metadata": {
    "ExecuteTime": {
     "end_time": "2018-09-25T21:55:17.803616Z",
     "start_time": "2018-09-25T21:55:17.794661Z"
    }
   },
   "outputs": [],
   "source": [
    "import boto3, json\n",
    "\n",
    "lambda_client = boto3.client('lambda')\n",
    "\n",
    "test_event = { \"dataset\": 'quote/'}"
   ]
  },
  {
   "cell_type": "code",
   "execution_count": 79,
   "metadata": {
    "ExecuteTime": {
     "end_time": "2018-09-25T21:55:18.910167Z",
     "start_time": "2018-09-25T21:55:18.197408Z"
    }
   },
   "outputs": [],
   "source": [
    "result = lambda_client.invoke(\n",
    "  FunctionName='list-objects',\n",
    "  InvocationType='RequestResponse',\n",
    "  Payload=json.dumps(test_event),\n",
    ")\n",
    "response = json.loads(result['Payload'].read())"
   ]
  },
  {
   "cell_type": "code",
   "execution_count": 80,
   "metadata": {
    "ExecuteTime": {
     "end_time": "2018-09-25T21:55:19.104958Z",
     "start_time": "2018-09-25T21:55:19.098588Z"
    }
   },
   "outputs": [
    {
     "data": {
      "text/plain": [
       "['quote/',\n",
       " 'quote/2018-09-07.json',\n",
       " 'quote/2018-09-10.json',\n",
       " 'quote/2018-09-11.json',\n",
       " 'quote/2018-09-12.json',\n",
       " 'quote/2018-09-13.json',\n",
       " 'quote/2018-09-14.json',\n",
       " 'quote/2018-09-17.json',\n",
       " 'quote/2018-09-18.json',\n",
       " 'quote/2018-09-19.json',\n",
       " 'quote/2018-09-20.json',\n",
       " 'quote/2018-09-21.json',\n",
       " 'quote/2018-09-24.json',\n",
       " 'quote/2018-09-25.json',\n",
       " 'quote/csv/',\n",
       " 'quote/csv/2018-09-07.csv',\n",
       " 'quote/csv/2018-09-10.csv',\n",
       " 'quote/csv/2018-09-11.csv',\n",
       " 'quote/csv/2018-09-12.csv',\n",
       " 'quote/csv/2018-09-13.csv',\n",
       " 'quote/csv/2018-09-14.csv',\n",
       " 'quote/csv/2018-09-17.csv',\n",
       " 'quote/csv/2018-09-18.csv',\n",
       " 'quote/csv/2018-09-19.csv',\n",
       " 'quote/csv/2018-09-20.csv',\n",
       " 'quote/csv/2018-09-21.csv',\n",
       " 'quote/csv/2018-09-24.csv',\n",
       " 'quote/csv/2018-09-25.csv']"
      ]
     },
     "execution_count": 80,
     "metadata": {},
     "output_type": "execute_result"
    }
   ],
   "source": [
    "json.loads(response['body'])"
   ]
  },
  {
   "cell_type": "code",
   "execution_count": null,
   "metadata": {},
   "outputs": [],
   "source": []
  }
 ],
 "metadata": {
  "kernelspec": {
   "display_name": "Python 3",
   "language": "python",
   "name": "python3"
  },
  "language_info": {
   "codemirror_mode": {
    "name": "ipython",
    "version": 3
   },
   "file_extension": ".py",
   "mimetype": "text/x-python",
   "name": "python",
   "nbconvert_exporter": "python",
   "pygments_lexer": "ipython3",
   "version": "3.6.6"
  },
  "toc": {
   "base_numbering": 1,
   "nav_menu": {},
   "number_sections": true,
   "sideBar": true,
   "skip_h1_title": false,
   "title_cell": "Table of Contents",
   "title_sidebar": "Contents",
   "toc_cell": false,
   "toc_position": {},
   "toc_section_display": true,
   "toc_window_display": false
  }
 },
 "nbformat": 4,
 "nbformat_minor": 2
}
