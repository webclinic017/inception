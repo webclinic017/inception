{
 "cells": [
  {
   "cell_type": "markdown",
   "metadata": {
    "heading_collapsed": true
   },
   "source": [
    "### Imports and functions"
   ]
  },
  {
   "cell_type": "code",
   "execution_count": 59,
   "metadata": {
    "ExecuteTime": {
     "end_time": "2018-09-21T00:48:03.748278Z",
     "start_time": "2018-09-21T00:48:03.398130Z"
    },
    "code_folding": [],
    "hidden": true
   },
   "outputs": [],
   "source": [
    "# imports\n",
    "%reload_ext autoreload\n",
    "%autoreload 2\n",
    "%matplotlib inline\n",
    "\n",
    "# imports\n",
    "import json, time, random\n",
    "import os.path, urllib\n",
    "from io import StringIO\n",
    "from urllib.request import urlopen\n",
    "from datetime import datetime, date\n",
    "\n",
    "import numpy as np\n",
    "import pandas as pd\n",
    "from pandas.io.json import json_normalize\n",
    "import matplotlib.pyplot as plt\n",
    "import seaborn as sns\n",
    "\n",
    "from sklearn.model_selection import train_test_split\n",
    "from sklearn.preprocessing import StandardScaler, MinMaxScaler\n",
    "from sklearn.pipeline import make_pipeline\n",
    "from sklearn.externals import joblib\n",
    "from sklearn.metrics import mean_squared_error\n",
    "\n",
    "import boto3\n",
    "from basic_utils import *\n",
    "\n",
    "pd.set_option(\"display.max_rows\",50)\n",
    "sns.set()"
   ]
  },
  {
   "cell_type": "code",
   "execution_count": 60,
   "metadata": {
    "ExecuteTime": {
     "end_time": "2018-09-21T00:48:04.713509Z",
     "start_time": "2018-09-21T00:48:04.487121Z"
    },
    "code_folding": [],
    "hidden": true
   },
   "outputs": [
    {
     "name": "stdout",
     "output_type": "stream",
     "text": [
      "Loading config.json\n"
     ]
    }
   ],
   "source": [
    "# configs\n",
    "conf_file = 'config.json'\n",
    "config = load_config(conf_file)\n",
    "\n",
    "# set up options\n",
    "dataset = 'option'\n",
    "prefix = config[dataset + '_path']\n",
    "S3_store = config['s3_store']\n",
    "BUCKET_NAME = config['bucket_name']\n",
    "top_path = BUCKET_NAME if S3_store else './' + BUCKET_NAME + '/'\n",
    "ds_prefix = config['training_path']\n",
    "option_train_fmt = config['option_train_fmt']\n",
    "FIG_SIZE = (20,20)\n",
    "\n",
    "s3 = boto3.resource('s3', 'us-west-2')\n",
    "ml = boto3.client('machinelearning', 'us-east-1')\n",
    "bucket = s3.Bucket(BUCKET_NAME)"
   ]
  },
  {
   "cell_type": "code",
   "execution_count": 61,
   "metadata": {
    "ExecuteTime": {
     "end_time": "2018-09-21T00:48:05.872481Z",
     "start_time": "2018-09-21T00:48:05.761845Z"
    },
    "code_folding": [
     12,
     14
    ],
    "hidden": true
   },
   "outputs": [],
   "source": [
    "# format / clean up functions\n",
    "def clean_up_fmt(df):\n",
    "    fmt_cols = [x for x in df.columns.tolist() if str.lower(x).find('fmt') > 0]\n",
    "    raw_cols = [x for x in df.columns.tolist() if str.lower(x).find('raw') > 0]\n",
    "    rndm_map = { x: x[:x.index('.')] for x in raw_cols }\n",
    "    df.drop(fmt_cols, axis=1, inplace=True)\n",
    "    df.rename(rndm_map, axis=1, inplace=True)\n",
    "    return df\n",
    "def cols_to_date(df, cols):\n",
    "    for c in cols: \n",
    "        if c in df.columns:\n",
    "            df[c] = df[c].apply(date_lambda)\n",
    "def cols_to_bool(df, cols):\n",
    "    for c in cols: df[c] = df[c].apply(lambda x: pd.to_numeric(x))\n",
    "def divide_by(df, cols, tgt):\n",
    "    cols.extend([tgt])\n",
    "    res = (df[cols].T / df[cols][tgt]).T\n",
    "    cols.remove(tgt)\n",
    "    return res[cols]\n",
    "\n",
    "# lambdas\n",
    "date_lambda = lambda x: date.fromtimestamp(x)\n",
    "pd_datetime = lambda x: pd.to_datetime(x)\n",
    "# date_lambda = lambda x: date.fromtimestamp(x) if x > 0 else 0\n",
    "datetime_lambda = lambda x: datetime.fromtimestamp(x) if x > 0 else 0\n",
    "time_delta_to_years = lambda x: x / 365\n",
    "divide_by_mean = lambda x: x / x.median() #consider z-score\n",
    "cap_at_1q = lambda x: [max(y, 0) for y in x]\n",
    "z_score = lambda x: (x - x.mean()) / x.std()"
   ]
  },
  {
   "cell_type": "code",
   "execution_count": 62,
   "metadata": {
    "ExecuteTime": {
     "end_time": "2018-09-21T00:48:07.100043Z",
     "start_time": "2018-09-21T00:48:07.008902Z"
    },
    "code_folding": [
     0
    ],
    "hidden": true
   },
   "outputs": [],
   "source": [
    "# reading functions\n",
    "json.load_s3 = lambda f: json.load(bucket.Object(key=f).get()[\"Body\"])\n",
    "\n",
    "def read_dates():\n",
    "    if S3_store: \n",
    "        ds_list = [x.key for x in bucket.objects.filter(Prefix='option/')]\n",
    "        ds_list = list(set([x.split('/')[1] for x in ds_list if x.find('.json') > 0]))\n",
    "        return sorted(ds_list)\n",
    "    else:\n",
    "        return [x for x in \n",
    "             os.listdir('./' + BUCKET_NAME + '/' + prefix[:prefix.index('/')]) \n",
    "             if x.find('.') < 0]\n",
    "def get_path(d):\n",
    "    return prefix.format(d) if S3_store else top_path + prefix.format(d)\n",
    "def list_files(date):\n",
    "    return [x.key for x in bucket.objects.filter(Prefix=get_path(date))] \\\n",
    "        if S3_store else os.listdir(get_path(date))\n",
    "def load_file(date, fname):\n",
    "    if S3_store:\n",
    "        print('Loading S3 file:', fname)\n",
    "        return json.load_s3(fname) \n",
    "    else: return load_config(get_path(date) + fname)"
   ]
  },
  {
   "cell_type": "code",
   "execution_count": 63,
   "metadata": {
    "ExecuteTime": {
     "end_time": "2018-09-21T00:48:07.411782Z",
     "start_time": "2018-09-21T00:48:07.324668Z"
    },
    "code_folding": [
     0
    ],
    "hidden": true
   },
   "outputs": [],
   "source": [
    "# storage functions\n",
    "json.dump_s3 = lambda obj, f: bucket(key=f).put(Body=json.dumps(obj))\n",
    "\n",
    "def store_file(df, subset, headings=True):\n",
    "    if S3_store:\n",
    "        ds_fname = ds_prefix + option_train_fmt.format(subset)\n",
    "        buffer = StringIO()\n",
    "        df.to_csv(buffer, index=False, encoding='utf-8', header=headings)\n",
    "        bucket.put_object(Body=buffer.getvalue(), Key=ds_fname)\n",
    "    else:\n",
    "        ds_fname = top_path + ds_prefix + option_train_fmt.format(subset)\n",
    "        df.to_csv(ds_fname, index=False, header=headings)\n",
    "    print('Saved', ds_fname)"
   ]
  },
  {
   "cell_type": "code",
   "execution_count": 64,
   "metadata": {
    "ExecuteTime": {
     "end_time": "2018-09-21T00:48:07.707479Z",
     "start_time": "2018-09-21T00:48:07.592320Z"
    },
    "code_folding": [
     0
    ],
    "hidden": true
   },
   "outputs": [],
   "source": [
    "# AWS real time prediction function\n",
    "def realtime_predict(ml_model_id, record):\n",
    "    model = ml.get_ml_model(MLModelId=ml_model_id)\n",
    "    endpoint = model.get('EndpointInfo', {}).get('EndpointUrl', '')    \n",
    "    if endpoint: \n",
    "        pred = ml.predict(\n",
    "            MLModelId=ml_model_id, \n",
    "            Record=record, \n",
    "            PredictEndpoint=endpoint)\n",
    "    else: print('# Missing realtime endpoint(\"%s\")' % ml_model_id)\n",
    "    return pred"
   ]
  },
  {
   "cell_type": "code",
   "execution_count": 65,
   "metadata": {
    "ExecuteTime": {
     "end_time": "2018-09-21T00:48:08.600804Z",
     "start_time": "2018-09-21T00:48:08.475930Z"
    },
    "code_folding": [],
    "hidden": true,
    "scrolled": true
   },
   "outputs": [],
   "source": [
    "# load option files work-horse function\n",
    "def load_option_files(dates):\n",
    "    calls_df = pd.DataFrame()\n",
    "    quote_frame = pd.DataFrame()\n",
    "    puts_frame = pd.DataFrame()\n",
    "    quote_frame = pd.DataFrame()\n",
    "    for d in dates:\n",
    "        storeDate = datetime.strptime(d, '%Y-%m-%d').date()\n",
    "        path = get_path(d)\n",
    "        files = list_files(d)        \n",
    "        for f in files:\n",
    "            option_expirations = load_file(d, f)\n",
    "            updt_root_flag = True\n",
    "            for expiration in option_expirations:\n",
    "                if updt_root_flag:\n",
    "                    underlyingSymbol = expiration['underlyingSymbol']\n",
    "                    quote_frame = quote_frame.append(\n",
    "                        expiration['quote'], ignore_index=True)\n",
    "                    updt_root_flag = False\n",
    "                options = expiration['options'][0]\n",
    "                exp_date = options['expirationDate']\n",
    "                call_df = clean_up_fmt(json_normalize(options['calls']))\n",
    "                put_df = clean_up_fmt(json_normalize(options['puts']))\n",
    "                call_df['underlyingSymbol'] = underlyingSymbol\n",
    "                call_df['storeDate'] = storeDate\n",
    "                put_df['underlyingSymbol']  = underlyingSymbol\n",
    "                put_df['storeDate'] = storeDate\n",
    "                calls_df = calls_df.append(call_df, sort=False)\n",
    "                puts_frame = puts_frame.append(put_df, sort=False)\n",
    "    calls_df['type'] = 'call'\n",
    "    puts_frame['type'] = 'put'\n",
    "    full_set = calls_df.append(puts_frame).reset_index()\n",
    "    return full_set, quote_frame"
   ]
  },
  {
   "cell_type": "code",
   "execution_count": 75,
   "metadata": {
    "ExecuteTime": {
     "end_time": "2018-09-21T00:57:33.844643Z",
     "start_time": "2018-09-21T00:57:33.696308Z"
    },
    "code_folding": [
     42,
     53,
     58
    ],
    "hidden": true
   },
   "outputs": [],
   "source": [
    "# transforms and utilities\n",
    "def merge_ds(fs_df, q_df):\n",
    "    # data type conversions\n",
    "    date_cols = ['regularMarketTime', 'earningsTimestamp',\n",
    "        'earningsTimestampStart','expiration','lastTradeDate']\n",
    "    fs_df = fs_df.fillna(0)\n",
    "    q_df = q_df.fillna(0)\n",
    "    cols_to_date(fs_df, date_cols)\n",
    "    cols_to_date(q_df, date_cols)\n",
    "    \n",
    "    # merge options and quotes\n",
    "    merged_df = q_df.merge(fs_df, how='inner', \n",
    "                           left_on=['symbol', 'regularMarketTime'], \n",
    "                           right_on=['underlyingSymbol','lastTradeDate'])\n",
    "    return merged_df\n",
    "def transform_ds(df):\n",
    "    # consider passing common fields as a map (divide by, divide col, etc)\n",
    "    mod_df = df.copy()\n",
    "    \n",
    "    # transformation: divide by closing price (unit values to underlying price)\n",
    "    divide_cols = ['lastPrice', 'strike', 'epsForward', 'epsTrailingTwelveMonths',\n",
    "        'bookValue', 'regularMarketDayHigh',\n",
    "        'regularMarketDayLow', 'regularMarketOpen', 'regularMarketPreviousClose']\n",
    "    divided_by = 'regularMarketPrice'\n",
    "    mod_df[divide_cols] = divide_by(mod_df, divide_cols, divided_by).round(4)\n",
    "    mod_df.regularMarketVolume = divide_by(\n",
    "        mod_df, ['regularMarketVolume'], 'averageDailyVolume10Day').round(4)\n",
    "\n",
    "    # transformation: volume (liquidity) and size relative to the universe mean\n",
    "    scale_cols = ['regularMarketVolume','averageDailyVolume10Day',\n",
    "                  'averageDailyVolume3Month','marketCap']\n",
    "    scaler_pipe = make_pipeline(StandardScaler())\n",
    "    mod_df[scale_cols] = scaler_pipe.fit_transform(mod_df[scale_cols])\n",
    "    \n",
    "    # transformation: turn dates > days > years\n",
    "    \n",
    "#     cols_to_date(mod_df, ['storeDate'])\n",
    "    mod_df.regularMarketTime = pd.to_datetime(mod_df.regularMarketTime)\n",
    "    mod_df.expiration = pd.to_datetime(mod_df.expiration)\n",
    "    delta = (mod_df.expiration - mod_df.regularMarketTime).dt.days\n",
    "    mod_df.expiration = delta.apply(time_delta_to_years).round(4)\n",
    "\n",
    "    return mod_df\n",
    "\n",
    "def filter_ds(df):\n",
    "    # filter data by expiration, strike, liquidity and active contracts\n",
    "    oi_mask = df.openInterest > 20\n",
    "    vol_mask = df.volume > 10\n",
    "    itm_mask = (df.inTheMoney == False) & (\n",
    "        ((df.strike > 0.6) & (df.strike < 0.9)) |\n",
    "        ((df.strike > 1.1) & (df.strike < 1.4))\n",
    "    )\n",
    "    exp_mask = (df.expiration > 90/365)\n",
    "    return df[ oi_mask & vol_mask & itm_mask & exp_mask]\n",
    "\n",
    "def prepare_for_training(df, cols_to_keep, y_col):    \n",
    "    num_cols = df[cols_to_keep].select_dtypes(include=['float64'])\n",
    "    order_cols = [x for x in num_cols if x != y_col]\n",
    "    order_cols.extend([y_col])\n",
    "    return df[order_cols]\n",
    "def visualize_ds(df, bins=20, figsize=FIG_SIZE):\n",
    "    df.hist(figsize=figsize, bins=bins);    \n",
    "def shuffle_train_test(df):\n",
    "    df_idx = df.index.values\n",
    "    df_idx = np.random.randint(0, len(df_idx), size=len(df_idx))\n",
    "    shuffled_df = df.iloc[df_idx]\n",
    "    train_df, test_df = train_test_split(shuffled_df, random_state=1)\n",
    "    return train_df, test_df"
   ]
  },
  {
   "cell_type": "code",
   "execution_count": 23,
   "metadata": {
    "ExecuteTime": {
     "end_time": "2018-09-20T23:36:47.054945Z",
     "start_time": "2018-09-20T23:36:46.982335Z"
    },
    "code_folding": [
     11
    ],
    "hidden": true
   },
   "outputs": [],
   "source": [
    "# subset of columns we want to retain\n",
    "# quote columns\n",
    "to_keep = ['regularMarketTime', 'regularMarketVolume', \n",
    "    'epsForward', 'epsTrailingTwelveMonths', 'regularMarketDayHigh', \n",
    "    'regularMarketDayLow', 'regularMarketOpen', 'regularMarketPreviousClose', \n",
    "    'averageDailyVolume10Day', 'averageDailyVolume3Month', 'marketCap',\n",
    "    'bookValue', 'fiftyDayAverageChangePercent', 'fiftyTwoWeekHighChangePercent',\n",
    "    'fiftyTwoWeekLowChangePercent', 'trailingAnnualDividendYield',\n",
    "    'twoHundredDayAverageChangePercent']\n",
    "\n",
    "# option columns\n",
    "to_keep.extend(['underlyingSymbol', 'type', \n",
    "           'expiration','impliedVolatility', 'lastPrice', \n",
    "           'strike','contractSymbol']) \n",
    "\n",
    "target_col = 'lastPrice'"
   ]
  },
  {
   "cell_type": "markdown",
   "metadata": {
    "ExecuteTime": {
     "end_time": "2018-09-19T17:41:07.250040Z",
     "start_time": "2018-09-19T17:41:07.135125Z"
    },
    "heading_collapsed": true
   },
   "source": [
    "### Load / save option files"
   ]
  },
  {
   "cell_type": "code",
   "execution_count": 9,
   "metadata": {
    "ExecuteTime": {
     "end_time": "2018-09-19T16:24:59.793272Z",
     "start_time": "2018-09-19T16:24:58.042240Z"
    },
    "code_folding": [],
    "hidden": true
   },
   "outputs": [
    {
     "data": {
      "text/plain": [
       "(['2018-09-07',\n",
       "  '2018-09-10',\n",
       "  '2018-09-11',\n",
       "  '2018-09-12',\n",
       "  '2018-09-13',\n",
       "  '2018-09-14',\n",
       "  '2018-09-17'],\n",
       " ['2018-09-18'])"
      ]
     },
     "execution_count": 9,
     "metadata": {},
     "output_type": "execute_result"
    }
   ],
   "source": [
    "# Date ranges for analysis\n",
    "dates = read_dates()\n",
    "predict_days = -1\n",
    "predict_dates, train_dates = dates[predict_days:], dates[:predict_days]\n",
    "train_dates, predict_dates"
   ]
  },
  {
   "cell_type": "code",
   "execution_count": 17,
   "metadata": {
    "ExecuteTime": {
     "end_time": "2018-09-19T17:44:06.447552Z",
     "start_time": "2018-09-19T17:44:06.392676Z"
    },
    "code_folding": [],
    "hidden": true,
    "scrolled": true
   },
   "outputs": [],
   "source": [
    "# %time full_set, quote_frame = load_option_files(train_dates)"
   ]
  },
  {
   "cell_type": "code",
   "execution_count": 11,
   "metadata": {
    "ExecuteTime": {
     "end_time": "2018-09-19T17:23:26.142459Z",
     "start_time": "2018-09-19T17:23:17.303778Z"
    },
    "code_folding": [],
    "hidden": true
   },
   "outputs": [],
   "source": [
    "# Loads data from drive / S3\n",
    "# full_set = pd.read_csv('full_set.csv')\n",
    "# quote_frame = pd.read_csv('quote_frame.csv')\n",
    "# '{0} options'.format(full_set.underlyingSymbol.count()), \\\n",
    "# '{0} quotes'.format(quote_frame.symbol.count())"
   ]
  },
  {
   "cell_type": "code",
   "execution_count": null,
   "metadata": {
    "ExecuteTime": {
     "end_time": "2018-09-19T17:47:39.949142Z",
     "start_time": "2018-09-19T17:47:39.662178Z"
    },
    "code_folding": [],
    "hidden": true
   },
   "outputs": [],
   "source": [
    "# Saves large dataset to drive\n",
    "full_set.to_csv('full_set.csv', index=False)\n",
    "quote_frame.to_csv('quote_frame.csv', index=False)"
   ]
  },
  {
   "cell_type": "markdown",
   "metadata": {
    "heading_collapsed": true
   },
   "source": [
    "### Transformation Steps"
   ]
  },
  {
   "cell_type": "code",
   "execution_count": 597,
   "metadata": {
    "ExecuteTime": {
     "end_time": "2018-09-19T03:04:19.092218Z",
     "start_time": "2018-09-19T03:04:15.612585Z"
    },
    "hidden": true
   },
   "outputs": [
    {
     "name": "stdout",
     "output_type": "stream",
     "text": [
      "198513\n"
     ]
    }
   ],
   "source": [
    "# transformation: turn dates > days > years\n",
    "all_df = merge_ds(full_set, quote_frame)\n",
    "# all_df = all_df[all_df.inTheMoney == False]\n",
    "all_df = transform_ds(all_df)\n",
    "print(len(all_df))"
   ]
  },
  {
   "cell_type": "code",
   "execution_count": 598,
   "metadata": {
    "ExecuteTime": {
     "end_time": "2018-09-19T03:04:19.510409Z",
     "start_time": "2018-09-19T03:04:19.093949Z"
    },
    "hidden": true
   },
   "outputs": [
    {
     "name": "stdout",
     "output_type": "stream",
     "text": [
      "6525\n"
     ]
    }
   ],
   "source": [
    "all_df = filter_ds(all_df)\n",
    "print(len(all_df))"
   ]
  },
  {
   "cell_type": "code",
   "execution_count": 599,
   "metadata": {
    "ExecuteTime": {
     "end_time": "2018-09-19T03:04:19.848218Z",
     "start_time": "2018-09-19T03:04:19.513460Z"
    },
    "hidden": true
   },
   "outputs": [
    {
     "data": {
      "text/plain": [
       "Index(['regularMarketVolume', 'epsForward', 'epsTrailingTwelveMonths',\n",
       "       'regularMarketDayHigh', 'regularMarketDayLow', 'regularMarketOpen',\n",
       "       'regularMarketPreviousClose', 'averageDailyVolume10Day',\n",
       "       'averageDailyVolume3Month', 'marketCap', 'bookValue',\n",
       "       'fiftyDayAverageChangePercent', 'fiftyTwoWeekHighChangePercent',\n",
       "       'fiftyTwoWeekLowChangePercent', 'trailingAnnualDividendYield',\n",
       "       'twoHundredDayAverageChangePercent', 'expiration', 'impliedVolatility',\n",
       "       'strike', 'lastPrice'],\n",
       "      dtype='object')"
      ]
     },
     "execution_count": 599,
     "metadata": {},
     "output_type": "execute_result"
    }
   ],
   "source": [
    "ml_all_df.columns"
   ]
  },
  {
   "cell_type": "code",
   "execution_count": 602,
   "metadata": {
    "ExecuteTime": {
     "end_time": "2018-09-19T03:04:24.034856Z",
     "start_time": "2018-09-19T03:04:23.899416Z"
    },
    "hidden": true
   },
   "outputs": [
    {
     "name": "stdout",
     "output_type": "stream",
     "text": [
      "<class 'pandas.core.frame.DataFrame'>\n",
      "Int64Index: 6525 entries, 116 to 198494\n",
      "Data columns (total 24 columns):\n",
      "regularMarketTime                    6525 non-null object\n",
      "regularMarketVolume                  6525 non-null float64\n",
      "epsForward                           6525 non-null float64\n",
      "epsTrailingTwelveMonths              6525 non-null float64\n",
      "regularMarketDayHigh                 6525 non-null float64\n",
      "regularMarketDayLow                  6525 non-null float64\n",
      "regularMarketOpen                    6525 non-null float64\n",
      "regularMarketPreviousClose           6525 non-null float64\n",
      "averageDailyVolume10Day              6525 non-null float64\n",
      "averageDailyVolume3Month             6525 non-null float64\n",
      "marketCap                            6525 non-null float64\n",
      "bookValue                            6525 non-null float64\n",
      "fiftyDayAverageChangePercent         6525 non-null float64\n",
      "fiftyTwoWeekHighChangePercent        6525 non-null float64\n",
      "fiftyTwoWeekLowChangePercent         6525 non-null float64\n",
      "trailingAnnualDividendYield          6525 non-null float64\n",
      "twoHundredDayAverageChangePercent    6525 non-null float64\n",
      "underlyingSymbol                     6525 non-null object\n",
      "type                                 6525 non-null object\n",
      "expiration                           6525 non-null float64\n",
      "impliedVolatility                    6525 non-null float64\n",
      "lastPrice                            6525 non-null float64\n",
      "strike                               6525 non-null float64\n",
      "contractSymbol                       6525 non-null object\n",
      "dtypes: float64(20), object(4)\n",
      "memory usage: 1.2+ MB\n"
     ]
    }
   ],
   "source": [
    "all_df[to_keep].info()"
   ]
  },
  {
   "cell_type": "code",
   "execution_count": 603,
   "metadata": {
    "ExecuteTime": {
     "end_time": "2018-09-19T03:04:26.874164Z",
     "start_time": "2018-09-19T03:04:26.651758Z"
    },
    "hidden": true
   },
   "outputs": [
    {
     "data": {
      "text/html": [
       "<div>\n",
       "<style scoped>\n",
       "    .dataframe tbody tr th:only-of-type {\n",
       "        vertical-align: middle;\n",
       "    }\n",
       "\n",
       "    .dataframe tbody tr th {\n",
       "        vertical-align: top;\n",
       "    }\n",
       "\n",
       "    .dataframe thead th {\n",
       "        text-align: right;\n",
       "    }\n",
       "</style>\n",
       "<table border=\"1\" class=\"dataframe\">\n",
       "  <thead>\n",
       "    <tr style=\"text-align: right;\">\n",
       "      <th></th>\n",
       "      <th>count</th>\n",
       "      <th>mean</th>\n",
       "      <th>std</th>\n",
       "      <th>min</th>\n",
       "      <th>25%</th>\n",
       "      <th>50%</th>\n",
       "      <th>75%</th>\n",
       "      <th>max</th>\n",
       "    </tr>\n",
       "  </thead>\n",
       "  <tbody>\n",
       "    <tr>\n",
       "      <th>regularMarketVolume</th>\n",
       "      <td>6525.0</td>\n",
       "      <td>0.068023</td>\n",
       "      <td>0.883068</td>\n",
       "      <td>-1.242241</td>\n",
       "      <td>-0.366045</td>\n",
       "      <td>-0.104440</td>\n",
       "      <td>0.414727</td>\n",
       "      <td>31.111692</td>\n",
       "    </tr>\n",
       "    <tr>\n",
       "      <th>epsForward</th>\n",
       "      <td>6525.0</td>\n",
       "      <td>0.062076</td>\n",
       "      <td>0.055919</td>\n",
       "      <td>-0.102100</td>\n",
       "      <td>0.028900</td>\n",
       "      <td>0.050300</td>\n",
       "      <td>0.064400</td>\n",
       "      <td>0.277900</td>\n",
       "    </tr>\n",
       "    <tr>\n",
       "      <th>epsTrailingTwelveMonths</th>\n",
       "      <td>6525.0</td>\n",
       "      <td>0.031664</td>\n",
       "      <td>0.057814</td>\n",
       "      <td>-0.206200</td>\n",
       "      <td>0.010000</td>\n",
       "      <td>0.020500</td>\n",
       "      <td>0.048800</td>\n",
       "      <td>0.238900</td>\n",
       "    </tr>\n",
       "    <tr>\n",
       "      <th>regularMarketDayHigh</th>\n",
       "      <td>6525.0</td>\n",
       "      <td>1.011574</td>\n",
       "      <td>0.009796</td>\n",
       "      <td>1.000300</td>\n",
       "      <td>1.004800</td>\n",
       "      <td>1.009500</td>\n",
       "      <td>1.015300</td>\n",
       "      <td>1.084100</td>\n",
       "    </tr>\n",
       "    <tr>\n",
       "      <th>regularMarketDayLow</th>\n",
       "      <td>6525.0</td>\n",
       "      <td>0.986281</td>\n",
       "      <td>0.010040</td>\n",
       "      <td>0.926000</td>\n",
       "      <td>0.982300</td>\n",
       "      <td>0.989100</td>\n",
       "      <td>0.993600</td>\n",
       "      <td>0.999600</td>\n",
       "    </tr>\n",
       "    <tr>\n",
       "      <th>regularMarketOpen</th>\n",
       "      <td>6525.0</td>\n",
       "      <td>0.997501</td>\n",
       "      <td>0.015074</td>\n",
       "      <td>0.938000</td>\n",
       "      <td>0.989400</td>\n",
       "      <td>0.997300</td>\n",
       "      <td>1.006200</td>\n",
       "      <td>1.077300</td>\n",
       "    </tr>\n",
       "    <tr>\n",
       "      <th>regularMarketPreviousClose</th>\n",
       "      <td>6525.0</td>\n",
       "      <td>0.998439</td>\n",
       "      <td>0.018230</td>\n",
       "      <td>0.882500</td>\n",
       "      <td>0.989200</td>\n",
       "      <td>0.997300</td>\n",
       "      <td>1.008200</td>\n",
       "      <td>1.086300</td>\n",
       "    </tr>\n",
       "    <tr>\n",
       "      <th>averageDailyVolume10Day</th>\n",
       "      <td>6525.0</td>\n",
       "      <td>0.660796</td>\n",
       "      <td>1.283178</td>\n",
       "      <td>-0.649801</td>\n",
       "      <td>-0.451880</td>\n",
       "      <td>0.062829</td>\n",
       "      <td>1.743189</td>\n",
       "      <td>3.974574</td>\n",
       "    </tr>\n",
       "    <tr>\n",
       "      <th>averageDailyVolume3Month</th>\n",
       "      <td>6525.0</td>\n",
       "      <td>0.679099</td>\n",
       "      <td>1.254755</td>\n",
       "      <td>-0.684437</td>\n",
       "      <td>-0.481583</td>\n",
       "      <td>0.338546</td>\n",
       "      <td>1.988181</td>\n",
       "      <td>3.417274</td>\n",
       "    </tr>\n",
       "    <tr>\n",
       "      <th>marketCap</th>\n",
       "      <td>6525.0</td>\n",
       "      <td>0.417560</td>\n",
       "      <td>1.345413</td>\n",
       "      <td>-0.518821</td>\n",
       "      <td>-0.441106</td>\n",
       "      <td>-0.326198</td>\n",
       "      <td>0.332609</td>\n",
       "      <td>3.598843</td>\n",
       "    </tr>\n",
       "    <tr>\n",
       "      <th>bookValue</th>\n",
       "      <td>6525.0</td>\n",
       "      <td>0.202358</td>\n",
       "      <td>0.208017</td>\n",
       "      <td>0.009900</td>\n",
       "      <td>0.086800</td>\n",
       "      <td>0.124400</td>\n",
       "      <td>0.231500</td>\n",
       "      <td>1.263600</td>\n",
       "    </tr>\n",
       "    <tr>\n",
       "      <th>fiftyDayAverageChangePercent</th>\n",
       "      <td>6525.0</td>\n",
       "      <td>-0.000493</td>\n",
       "      <td>0.085953</td>\n",
       "      <td>-0.176782</td>\n",
       "      <td>-0.078282</td>\n",
       "      <td>0.016686</td>\n",
       "      <td>0.052128</td>\n",
       "      <td>0.261449</td>\n",
       "    </tr>\n",
       "    <tr>\n",
       "      <th>fiftyTwoWeekHighChangePercent</th>\n",
       "      <td>6525.0</td>\n",
       "      <td>-0.144248</td>\n",
       "      <td>0.134769</td>\n",
       "      <td>-0.486154</td>\n",
       "      <td>-0.258988</td>\n",
       "      <td>-0.079095</td>\n",
       "      <td>-0.025341</td>\n",
       "      <td>-0.000339</td>\n",
       "    </tr>\n",
       "    <tr>\n",
       "      <th>fiftyTwoWeekLowChangePercent</th>\n",
       "      <td>6525.0</td>\n",
       "      <td>0.517318</td>\n",
       "      <td>0.514764</td>\n",
       "      <td>0.002162</td>\n",
       "      <td>0.128209</td>\n",
       "      <td>0.475716</td>\n",
       "      <td>0.633826</td>\n",
       "      <td>3.165881</td>\n",
       "    </tr>\n",
       "    <tr>\n",
       "      <th>trailingAnnualDividendYield</th>\n",
       "      <td>6525.0</td>\n",
       "      <td>0.009028</td>\n",
       "      <td>0.013071</td>\n",
       "      <td>0.000000</td>\n",
       "      <td>0.000000</td>\n",
       "      <td>0.002163</td>\n",
       "      <td>0.014983</td>\n",
       "      <td>0.064725</td>\n",
       "    </tr>\n",
       "    <tr>\n",
       "      <th>twoHundredDayAverageChangePercent</th>\n",
       "      <td>6525.0</td>\n",
       "      <td>0.050645</td>\n",
       "      <td>0.176316</td>\n",
       "      <td>-0.298889</td>\n",
       "      <td>-0.106787</td>\n",
       "      <td>0.079381</td>\n",
       "      <td>0.161548</td>\n",
       "      <td>0.798812</td>\n",
       "    </tr>\n",
       "    <tr>\n",
       "      <th>expiration</th>\n",
       "      <td>6525.0</td>\n",
       "      <td>0.621379</td>\n",
       "      <td>0.423370</td>\n",
       "      <td>0.265800</td>\n",
       "      <td>0.345200</td>\n",
       "      <td>0.361600</td>\n",
       "      <td>0.769900</td>\n",
       "      <td>1.780800</td>\n",
       "    </tr>\n",
       "    <tr>\n",
       "      <th>impliedVolatility</th>\n",
       "      <td>6525.0</td>\n",
       "      <td>0.348574</td>\n",
       "      <td>0.092944</td>\n",
       "      <td>0.183480</td>\n",
       "      <td>0.274192</td>\n",
       "      <td>0.326850</td>\n",
       "      <td>0.408819</td>\n",
       "      <td>0.758669</td>\n",
       "    </tr>\n",
       "    <tr>\n",
       "      <th>lastPrice</th>\n",
       "      <td>6525.0</td>\n",
       "      <td>0.030909</td>\n",
       "      <td>0.031001</td>\n",
       "      <td>0.000400</td>\n",
       "      <td>0.009800</td>\n",
       "      <td>0.021000</td>\n",
       "      <td>0.041500</td>\n",
       "      <td>0.236400</td>\n",
       "    </tr>\n",
       "    <tr>\n",
       "      <th>strike</th>\n",
       "      <td>6525.0</td>\n",
       "      <td>1.000501</td>\n",
       "      <td>0.234795</td>\n",
       "      <td>0.600300</td>\n",
       "      <td>0.791200</td>\n",
       "      <td>1.101100</td>\n",
       "      <td>1.207200</td>\n",
       "      <td>1.399100</td>\n",
       "    </tr>\n",
       "  </tbody>\n",
       "</table>\n",
       "</div>"
      ],
      "text/plain": [
       "                                    count      mean       std       min  \\\n",
       "regularMarketVolume                6525.0  0.068023  0.883068 -1.242241   \n",
       "epsForward                         6525.0  0.062076  0.055919 -0.102100   \n",
       "epsTrailingTwelveMonths            6525.0  0.031664  0.057814 -0.206200   \n",
       "regularMarketDayHigh               6525.0  1.011574  0.009796  1.000300   \n",
       "regularMarketDayLow                6525.0  0.986281  0.010040  0.926000   \n",
       "regularMarketOpen                  6525.0  0.997501  0.015074  0.938000   \n",
       "regularMarketPreviousClose         6525.0  0.998439  0.018230  0.882500   \n",
       "averageDailyVolume10Day            6525.0  0.660796  1.283178 -0.649801   \n",
       "averageDailyVolume3Month           6525.0  0.679099  1.254755 -0.684437   \n",
       "marketCap                          6525.0  0.417560  1.345413 -0.518821   \n",
       "bookValue                          6525.0  0.202358  0.208017  0.009900   \n",
       "fiftyDayAverageChangePercent       6525.0 -0.000493  0.085953 -0.176782   \n",
       "fiftyTwoWeekHighChangePercent      6525.0 -0.144248  0.134769 -0.486154   \n",
       "fiftyTwoWeekLowChangePercent       6525.0  0.517318  0.514764  0.002162   \n",
       "trailingAnnualDividendYield        6525.0  0.009028  0.013071  0.000000   \n",
       "twoHundredDayAverageChangePercent  6525.0  0.050645  0.176316 -0.298889   \n",
       "expiration                         6525.0  0.621379  0.423370  0.265800   \n",
       "impliedVolatility                  6525.0  0.348574  0.092944  0.183480   \n",
       "lastPrice                          6525.0  0.030909  0.031001  0.000400   \n",
       "strike                             6525.0  1.000501  0.234795  0.600300   \n",
       "\n",
       "                                        25%       50%       75%        max  \n",
       "regularMarketVolume               -0.366045 -0.104440  0.414727  31.111692  \n",
       "epsForward                         0.028900  0.050300  0.064400   0.277900  \n",
       "epsTrailingTwelveMonths            0.010000  0.020500  0.048800   0.238900  \n",
       "regularMarketDayHigh               1.004800  1.009500  1.015300   1.084100  \n",
       "regularMarketDayLow                0.982300  0.989100  0.993600   0.999600  \n",
       "regularMarketOpen                  0.989400  0.997300  1.006200   1.077300  \n",
       "regularMarketPreviousClose         0.989200  0.997300  1.008200   1.086300  \n",
       "averageDailyVolume10Day           -0.451880  0.062829  1.743189   3.974574  \n",
       "averageDailyVolume3Month          -0.481583  0.338546  1.988181   3.417274  \n",
       "marketCap                         -0.441106 -0.326198  0.332609   3.598843  \n",
       "bookValue                          0.086800  0.124400  0.231500   1.263600  \n",
       "fiftyDayAverageChangePercent      -0.078282  0.016686  0.052128   0.261449  \n",
       "fiftyTwoWeekHighChangePercent     -0.258988 -0.079095 -0.025341  -0.000339  \n",
       "fiftyTwoWeekLowChangePercent       0.128209  0.475716  0.633826   3.165881  \n",
       "trailingAnnualDividendYield        0.000000  0.002163  0.014983   0.064725  \n",
       "twoHundredDayAverageChangePercent -0.106787  0.079381  0.161548   0.798812  \n",
       "expiration                         0.345200  0.361600  0.769900   1.780800  \n",
       "impliedVolatility                  0.274192  0.326850  0.408819   0.758669  \n",
       "lastPrice                          0.009800  0.021000  0.041500   0.236400  \n",
       "strike                             0.791200  1.101100  1.207200   1.399100  "
      ]
     },
     "execution_count": 603,
     "metadata": {},
     "output_type": "execute_result"
    }
   ],
   "source": [
    "all_df[to_keep].describe().T"
   ]
  },
  {
   "cell_type": "code",
   "execution_count": 604,
   "metadata": {
    "ExecuteTime": {
     "end_time": "2018-09-19T03:04:32.183423Z",
     "start_time": "2018-09-19T03:04:31.907550Z"
    },
    "hidden": true
   },
   "outputs": [
    {
     "data": {
      "text/plain": [
       "lastPrice                            1.000000\n",
       "expiration                           0.653310\n",
       "impliedVolatility                    0.563201\n",
       "regularMarketDayHigh                 0.207517\n",
       "fiftyTwoWeekLowChangePercent         0.168702\n",
       "epsTrailingTwelveMonths              0.147029\n",
       "epsForward                           0.085398\n",
       "averageDailyVolume3Month             0.082827\n",
       "averageDailyVolume10Day              0.074006\n",
       "regularMarketVolume                  0.021829\n",
       "regularMarketPreviousClose           0.006828\n",
       "bookValue                           -0.003783\n",
       "regularMarketOpen                   -0.011843\n",
       "twoHundredDayAverageChangePercent   -0.056365\n",
       "fiftyDayAverageChangePercent        -0.095661\n",
       "regularMarketDayLow                 -0.179887\n",
       "marketCap                           -0.192445\n",
       "strike                              -0.246676\n",
       "fiftyTwoWeekHighChangePercent       -0.247304\n",
       "trailingAnnualDividendYield         -0.269358\n",
       "Name: lastPrice, dtype: float64"
      ]
     },
     "execution_count": 604,
     "metadata": {},
     "output_type": "execute_result"
    }
   ],
   "source": [
    "all_df[all_df.type == 'call'][to_keep].corr()['lastPrice'].sort_values(ascending=False)"
   ]
  },
  {
   "cell_type": "markdown",
   "metadata": {
    "ExecuteTime": {
     "end_time": "2018-09-18T01:17:59.096917Z",
     "start_time": "2018-09-18T01:17:59.023121Z"
    },
    "hidden": true
   },
   "source": [
    "#### Sanity Visuals"
   ]
  },
  {
   "cell_type": "code",
   "execution_count": 605,
   "metadata": {
    "ExecuteTime": {
     "end_time": "2018-09-19T03:04:39.970374Z",
     "start_time": "2018-09-19T03:04:36.447167Z"
    },
    "code_folding": [],
    "hidden": true
   },
   "outputs": [
    {
     "data": {
      "image/png": "[encoded data removed]",
      "text/plain": [
       "<Figure size 1440x1440 with 20 Axes>"
      ]
     },
     "metadata": {},
     "output_type": "display_data"
    }
   ],
   "source": [
    "# plot histogram of feature distribution\n",
    "visualize_ds(ml_all_df, 20, (20,20))"
   ]
  },
  {
   "cell_type": "code",
   "execution_count": 606,
   "metadata": {
    "ExecuteTime": {
     "end_time": "2018-09-19T03:05:11.933448Z",
     "start_time": "2018-09-19T03:05:11.746355Z"
    },
    "hidden": true
   },
   "outputs": [
    {
     "name": "stdout",
     "output_type": "stream",
     "text": [
      "Total rows: 6525, 3278 calls and 3247 puts\n"
     ]
    }
   ],
   "source": [
    "calls_df = all_df[all_df.type == 'call']\n",
    "puts_df = all_df[all_df.type == 'put']\n",
    "ml_all_df = prepare_for_training(all_df, to_keep, target_col)\n",
    "ml_calls_df = prepare_for_training(calls_df, to_keep, target_col)\n",
    "ml_puts_df = prepare_for_training(puts_df, to_keep, target_col)\n",
    "# split into calls and puts\n",
    "print('Total rows: {0}, {1} calls and {2} puts'.format(\n",
    "    len(ml_all_df), len(ml_calls_df), len(ml_puts_df)))"
   ]
  },
  {
   "cell_type": "markdown",
   "metadata": {
    "heading_collapsed": true
   },
   "source": [
    "### Storage Steps"
   ]
  },
  {
   "cell_type": "code",
   "execution_count": 607,
   "metadata": {
    "ExecuteTime": {
     "end_time": "2018-09-19T03:05:28.773047Z",
     "start_time": "2018-09-19T03:05:18.636731Z"
    },
    "hidden": true
   },
   "outputs": [
    {
     "name": "stdout",
     "output_type": "stream",
     "text": [
      "Saved training/options_all.csv\n",
      "CPU times: user 237 ms, sys: 82.2 ms, total: 319 ms\n",
      "Wall time: 7.08 s\n",
      "Saved training/options_call.csv\n",
      "CPU times: user 105 ms, sys: 7.57 ms, total: 112 ms\n",
      "Wall time: 907 ms\n",
      "Saved training/options_put.csv\n",
      "CPU times: user 104 ms, sys: 5.16 ms, total: 110 ms\n",
      "Wall time: 785 ms\n",
      "Saved training/options_train.csv\n",
      "CPU times: user 150 ms, sys: 7.51 ms, total: 157 ms\n",
      "Wall time: 793 ms\n",
      "Saved training/options_test.csv\n",
      "CPU times: user 56.4 ms, sys: 5.87 ms, total: 62.3 ms\n",
      "Wall time: 376 ms\n"
     ]
    },
    {
     "data": {
      "text/plain": [
       "(4893, 1632)"
      ]
     },
     "execution_count": 607,
     "metadata": {},
     "output_type": "execute_result"
    }
   ],
   "source": [
    "# store files locally or in cloud depending on configuration\n",
    "%time store_file(ml_all_df, 'all')\n",
    "%time store_file(ml_calls_df, 'call')\n",
    "%time store_file(ml_puts_df, 'put')\n",
    "\n",
    "train_df, test_df = shuffle_train_test(ml_all_df)\n",
    "%time store_file(train_df, 'train', False)\n",
    "%time store_file(test_df, 'test', False)\n",
    "len(ml_all_df), len(ml_calls_df), len(ml_puts_df)\n",
    "len(train_df), len(test_df)"
   ]
  },
  {
   "cell_type": "markdown",
   "metadata": {},
   "source": [
    "### Training with local model"
   ]
  },
  {
   "cell_type": "code",
   "execution_count": 608,
   "metadata": {
    "ExecuteTime": {
     "end_time": "2018-09-19T03:05:42.495632Z",
     "start_time": "2018-09-19T03:05:40.593094Z"
    }
   },
   "outputs": [
    {
     "data": {
      "text/plain": [
       "('364999 options', '1170 quotes')"
      ]
     },
     "execution_count": 608,
     "metadata": {},
     "output_type": "execute_result"
    }
   ],
   "source": [
    "# Loads data from drive / S3\n",
    "train_full_set = pd.read_csv('full_set.csv')\n",
    "train_quote_frame = pd.read_csv('quote_frame.csv')\n",
    "'{0} options'.format(train_full_set.underlyingSymbol.count()), \\\n",
    "'{0} quotes'.format(train_quote_frame.symbol.count())"
   ]
  },
  {
   "cell_type": "code",
   "execution_count": 609,
   "metadata": {
    "ExecuteTime": {
     "end_time": "2018-09-19T03:05:48.499116Z",
     "start_time": "2018-09-19T03:05:44.635694Z"
    }
   },
   "outputs": [
    {
     "name": "stdout",
     "output_type": "stream",
     "text": [
      "198513\n",
      "198513\n",
      "6525\n",
      "Total rows: 6525, 3278 calls and 3247 puts\n"
     ]
    }
   ],
   "source": [
    "# transformation: turn dates > days > years\n",
    "train_all_df = merge_ds(train_full_set, train_quote_frame)\n",
    "print(len(train_all_df))\n",
    "train_all_df = transform_ds(train_all_df)\n",
    "print(len(train_all_df))\n",
    "train_all_df = filter_ds(train_all_df)\n",
    "print(len(train_all_df))\n",
    "train_calls_df = train_all_df[train_all_df.type == 'call']\n",
    "train_puts_df = train_all_df[train_all_df.type == 'put']\n",
    "print('Total rows: {0}, {1} calls and {2} puts'.format(\n",
    "    len(train_all_df), len(train_calls_df), len(train_puts_df)))"
   ]
  },
  {
   "cell_type": "code",
   "execution_count": 630,
   "metadata": {
    "ExecuteTime": {
     "end_time": "2018-09-19T03:11:47.696223Z",
     "start_time": "2018-09-19T03:11:47.560818Z"
    }
   },
   "outputs": [],
   "source": [
    "# CHANGE this line to select option type\n",
    "OPTION_TYPE = 'call'\n",
    "\n",
    "ml_df = (train_calls_df if OPTION_TYPE == 'call' else train_puts_df).copy()\n",
    "ml_train_df = prepare_for_training(ml_df, to_keep, target_col)\n",
    "\n",
    "X = ml_train_df.loc[:,ml_train_df.columns[:-1]].values\n",
    "Y = ml_train_df.loc[:,target_col].values\n",
    "\n",
    "# train_df, test_df = train_test_split(ml_df, random_state=1)\n",
    "# print('{}, {}'.format(train_df.shape, test_df.shape))\n",
    "# ml_train_df = prepare_for_training(train_df, to_keep, target_col)\n",
    "# ml_test_df = prepare_for_training(test_df, to_keep, target_col)"
   ]
  },
  {
   "cell_type": "code",
   "execution_count": 621,
   "metadata": {
    "ExecuteTime": {
     "end_time": "2018-09-19T03:09:48.386411Z",
     "start_time": "2018-09-19T03:09:48.259209Z"
    }
   },
   "outputs": [
    {
     "data": {
      "text/plain": [
       "0.011660948611483611"
      ]
     },
     "execution_count": 621,
     "metadata": {},
     "output_type": "execute_result"
    }
   ],
   "source": [
    "from sklearn.linear_model import LinearRegression\n",
    "from sklearn.metrics import mean_squared_error\n",
    "\n",
    "lin_reg = LinearRegression()\n",
    "lin_reg.fit(X, Y)\n",
    "predictions = lin_reg.predict(X)\n",
    "lin_mse = mean_squared_error(Y, predictions)\n",
    "lin_rmse = np.sqrt(lin_mse)\n",
    "lin_rmse"
   ]
  },
  {
   "cell_type": "code",
   "execution_count": 622,
   "metadata": {
    "ExecuteTime": {
     "end_time": "2018-09-19T03:09:49.394511Z",
     "start_time": "2018-09-19T03:09:48.851052Z"
    }
   },
   "outputs": [
    {
     "data": {
      "text/plain": [
       "(array([0.00730791, 0.00845641, 0.00858704, 0.00870922, 0.00641699,\n",
       "        0.00544679, 0.00627983, 0.0071508 , 0.00643175, 0.00827985]),\n",
       " 0.007306658418583729,\n",
       " 0.001094091128091823)"
      ]
     },
     "execution_count": 622,
     "metadata": {},
     "output_type": "execute_result"
    }
   ],
   "source": [
    "from sklearn.tree import DecisionTreeRegressor\n",
    "from sklearn.model_selection import cross_val_score\n",
    "\n",
    "tree_reg = DecisionTreeRegressor()\n",
    "tree_reg.fit(X, Y)\n",
    "predictions = tree_reg.predict(X)\n",
    "scores = cross_val_score(tree_reg, X, Y, scoring='neg_mean_squared_error', cv=10)\n",
    "scores = np.sqrt(-scores)\n",
    "scores, scores.mean(), scores.std()"
   ]
  },
  {
   "cell_type": "code",
   "execution_count": 623,
   "metadata": {
    "ExecuteTime": {
     "end_time": "2018-09-19T03:09:53.817219Z",
     "start_time": "2018-09-19T03:09:50.938896Z"
    }
   },
   "outputs": [
    {
     "data": {
      "text/plain": [
       "(array([0.00622667, 0.00529888, 0.0065689 , 0.0059745 , 0.00506789,\n",
       "        0.0046389 , 0.00465615, 0.00546644, 0.00497914, 0.00601549]),\n",
       " 0.0054892957819087955,\n",
       " 0.0006413661530488391)"
      ]
     },
     "execution_count": 623,
     "metadata": {},
     "output_type": "execute_result"
    }
   ],
   "source": [
    "from sklearn.ensemble import RandomForestRegressor\n",
    "\n",
    "forest_reg = RandomForestRegressor()\n",
    "forest_reg.fit(X, Y)\n",
    "\n",
    "scores = cross_val_score(forest_reg, X, Y, scoring='neg_mean_squared_error', cv=10)\n",
    "scores = np.sqrt(-scores)\n",
    "scores, scores.mean(), scores.std()"
   ]
  },
  {
   "cell_type": "code",
   "execution_count": 624,
   "metadata": {
    "ExecuteTime": {
     "end_time": "2018-09-19T03:10:02.851004Z",
     "start_time": "2018-09-19T03:09:53.828732Z"
    }
   },
   "outputs": [
    {
     "data": {
      "text/plain": [
       "GridSearchCV(cv=5, error_score='raise',\n",
       "       estimator=RandomForestRegressor(bootstrap=True, criterion='mse', max_depth=None,\n",
       "           max_features='auto', max_leaf_nodes=None,\n",
       "           min_impurity_decrease=0.0, min_impurity_split=None,\n",
       "           min_samples_leaf=1, min_samples_split=2,\n",
       "           min_weight_fraction_leaf=0.0, n_estimators=10, n_jobs=1,\n",
       "           oob_score=False, random_state=None, verbose=0, warm_start=False),\n",
       "       fit_params=None, iid=True, n_jobs=1,\n",
       "       param_grid=[{'n_estimators': [3, 10, 30], 'max_features': [2, 4, 6, 8]}, {'bootstrap': [False], 'n_estimators': [3, 10], 'max_features': [2, 3, 4]}],\n",
       "       pre_dispatch='2*n_jobs', refit=True, return_train_score='warn',\n",
       "       scoring='neg_mean_squared_error', verbose=0)"
      ]
     },
     "execution_count": 624,
     "metadata": {},
     "output_type": "execute_result"
    }
   ],
   "source": [
    "from sklearn.model_selection import GridSearchCV\n",
    "\n",
    "param_grid = [\n",
    "    {'n_estimators': [3, 10, 30], 'max_features': [2,4,6,8] },\n",
    "    {'bootstrap': [False], 'n_estimators': [3, 10], 'max_features': [2,3,4] }\n",
    "]\n",
    "\n",
    "forest_reg = RandomForestRegressor()\n",
    "grid_search = GridSearchCV(forest_reg, param_grid, cv=5, scoring='neg_mean_squared_error')\n",
    "grid_search.fit(X, Y)"
   ]
  },
  {
   "cell_type": "code",
   "execution_count": 627,
   "metadata": {
    "ExecuteTime": {
     "end_time": "2018-09-19T03:10:50.932658Z",
     "start_time": "2018-09-19T03:10:50.809340Z"
    }
   },
   "outputs": [
    {
     "data": {
      "text/plain": [
       "({'max_features': 8, 'n_estimators': 30},\n",
       " RandomForestRegressor(bootstrap=True, criterion='mse', max_depth=None,\n",
       "            max_features=8, max_leaf_nodes=None, min_impurity_decrease=0.0,\n",
       "            min_impurity_split=None, min_samples_leaf=1,\n",
       "            min_samples_split=2, min_weight_fraction_leaf=0.0,\n",
       "            n_estimators=30, n_jobs=1, oob_score=False, random_state=None,\n",
       "            verbose=0, warm_start=False))"
      ]
     },
     "execution_count": 627,
     "metadata": {},
     "output_type": "execute_result"
    }
   ],
   "source": [
    "grid_search.best_params_, grid_search.best_estimator_"
   ]
  },
  {
   "cell_type": "code",
   "execution_count": 628,
   "metadata": {
    "ExecuteTime": {
     "end_time": "2018-09-19T03:10:53.875752Z",
     "start_time": "2018-09-19T03:10:53.735933Z"
    }
   },
   "outputs": [
    {
     "name": "stdout",
     "output_type": "stream",
     "text": [
      "0.017117785199874502 {'max_features': 2, 'n_estimators': 3}\n",
      "0.01525901927102796 {'max_features': 2, 'n_estimators': 10}\n",
      "0.013084486984094411 {'max_features': 2, 'n_estimators': 30}\n",
      "0.013948142522956695 {'max_features': 4, 'n_estimators': 3}\n",
      "0.010456532213795496 {'max_features': 4, 'n_estimators': 10}\n",
      "0.008547605648102004 {'max_features': 4, 'n_estimators': 30}\n",
      "0.01011640269538052 {'max_features': 6, 'n_estimators': 3}\n",
      "0.007961586929199412 {'max_features': 6, 'n_estimators': 10}\n",
      "0.006669400327372701 {'max_features': 6, 'n_estimators': 30}\n",
      "0.00815591265352777 {'max_features': 8, 'n_estimators': 3}\n",
      "0.0068003788255181375 {'max_features': 8, 'n_estimators': 10}\n",
      "0.005821377661205383 {'max_features': 8, 'n_estimators': 30}\n",
      "0.01563452757373293 {'bootstrap': False, 'max_features': 2, 'n_estimators': 3}\n",
      "0.013581673869902697 {'bootstrap': False, 'max_features': 2, 'n_estimators': 10}\n",
      "0.01460438926595981 {'bootstrap': False, 'max_features': 3, 'n_estimators': 3}\n",
      "0.010086489570644116 {'bootstrap': False, 'max_features': 3, 'n_estimators': 10}\n",
      "0.012189667202692217 {'bootstrap': False, 'max_features': 4, 'n_estimators': 3}\n",
      "0.009447623202786483 {'bootstrap': False, 'max_features': 4, 'n_estimators': 10}\n"
     ]
    }
   ],
   "source": [
    "cvres = grid_search.cv_results_\n",
    "for mean_score, params in zip(cvres['mean_test_score'], cvres['params']):\n",
    "    print(np.sqrt(-mean_score), params)"
   ]
  },
  {
   "cell_type": "code",
   "execution_count": 629,
   "metadata": {
    "ExecuteTime": {
     "end_time": "2018-09-19T03:10:56.264054Z",
     "start_time": "2018-09-19T03:10:56.125603Z"
    }
   },
   "outputs": [
    {
     "data": {
      "text/plain": [
       "[(0.4558834187648738, 'expiration'),\n",
       " (0.2769383235348421, 'impliedVolatility'),\n",
       " (0.10730157758154243, 'strike'),\n",
       " (0.040736877004868235, 'trailingAnnualDividendYield'),\n",
       " (0.02382523608607216, 'fiftyTwoWeekHighChangePercent'),\n",
       " (0.01723087968403709, 'marketCap'),\n",
       " (0.011843380427682725, 'epsTrailingTwelveMonths'),\n",
       " (0.010215501320523086, 'averageDailyVolume3Month'),\n",
       " (0.009991077772444403, 'fiftyDayAverageChangePercent'),\n",
       " (0.009858588348010282, 'epsForward'),\n",
       " (0.008263599179389737, 'fiftyTwoWeekLowChangePercent'),\n",
       " (0.006356117267275339, 'regularMarketDayHigh'),\n",
       " (0.00435676081748819, 'averageDailyVolume10Day'),\n",
       " (0.004347870959707245, 'twoHundredDayAverageChangePercent'),\n",
       " (0.003164262278833679, 'bookValue'),\n",
       " (0.0030954012613916373, 'regularMarketDayLow'),\n",
       " (0.0025449926416483823, 'regularMarketVolume'),\n",
       " (0.0021467838289800207, 'regularMarketOpen'),\n",
       " (0.0018993512403894497, 'regularMarketPreviousClose')]"
      ]
     },
     "execution_count": 629,
     "metadata": {},
     "output_type": "execute_result"
    }
   ],
   "source": [
    "feature_importances = grid_search.best_estimator_.feature_importances_\n",
    "sorted(zip(feature_importances, ml_train_df.columns[:-1]), reverse=True)"
   ]
  },
  {
   "cell_type": "code",
   "execution_count": 633,
   "metadata": {
    "ExecuteTime": {
     "end_time": "2018-09-19T03:15:33.651485Z",
     "start_time": "2018-09-19T03:15:33.375864Z"
    }
   },
   "outputs": [
    {
     "name": "stdout",
     "output_type": "stream",
     "text": [
      "Saved call_ML_model.pkl\n"
     ]
    }
   ],
   "source": [
    "from sklearn.externals import joblib\n",
    "\n",
    "fname = \"{}_ML_model.pkl\".format(OPTION_TYPE)\n",
    "joblib.dump(grid_search.best_estimator_, fname)\n",
    "print('Saved', fname)"
   ]
  },
  {
   "cell_type": "code",
   "execution_count": 635,
   "metadata": {
    "ExecuteTime": {
     "end_time": "2018-09-19T03:16:06.108605Z",
     "start_time": "2018-09-19T03:16:04.200522Z"
    }
   },
   "outputs": [
    {
     "name": "stdout",
     "output_type": "stream",
     "text": [
      "Loaded call_ML_model.pkl\n",
      "Predicted call RMSE 0.0019627836749356482\n"
     ]
    },
    {
     "name": "stderr",
     "output_type": "stream",
     "text": [
      "/Users/vveiga/miniconda3/lib/python3.6/site-packages/matplotlib/collections.py:902: RuntimeWarning: invalid value encountered in sqrt\n",
      "  scale = np.sqrt(self._sizes) * dpi / 72.0 * self._factor\n"
     ]
    },
    {
     "data": {
      "text/plain": [
       "<Figure size 3000x3000 with 0 Axes>"
      ]
     },
     "metadata": {},
     "output_type": "display_data"
    },
    {
     "data": {
      "image/png": "[encoded data removed]",
      "text/plain": [
       "<Figure size 432x288 with 2 Axes>"
      ]
     },
     "metadata": {},
     "output_type": "display_data"
    },
    {
     "data": {
      "image/png": "[encoded data removed]",
      "text/plain": [
       "<Figure size 432x288 with 2 Axes>"
      ]
     },
     "metadata": {},
     "output_type": "display_data"
    }
   ],
   "source": [
    "loaded_model = joblib.load(fname)\n",
    "print('Loaded', fname)\n",
    "res = loaded_model.predict(X)\n",
    "print('Predicted {} RMSE {}'.format(option_type, np.sqrt(mean_squared_error(Y, res))))\n",
    "plot_deltas(ml_df, res)"
   ]
  },
  {
   "cell_type": "markdown",
   "metadata": {
    "heading_collapsed": true
   },
   "source": [
    "### Prediction Steps using AWS Model"
   ]
  },
  {
   "cell_type": "code",
   "execution_count": null,
   "metadata": {
    "hidden": true
   },
   "outputs": [],
   "source": [
    "# load dataset from friday\n",
    "# pre-process data\n",
    "# keep a copy of row with all labels (dsA)\n",
    "# produce an ML ready dataset (dsB)\n",
    "# for each row in dsB run predict\n",
    "# updated predicted column in dsA with ML output\n",
    "# understand where the variance is (strike, expiration, or IV)\n",
    "# ------\n",
    "# write script to check batch prediction completion\n",
    "# when finished load results from S3 and return results\n",
    "# update prediction in original dataset\n",
    "# run comparison to understand delta"
   ]
  },
  {
   "cell_type": "code",
   "execution_count": null,
   "metadata": {
    "ExecuteTime": {
     "end_time": "2018-09-18T15:16:53.621218Z",
     "start_time": "2018-09-18T15:16:51.835442Z"
    },
    "hidden": true
   },
   "outputs": [],
   "source": [
    "dates = read_dates()\n",
    "predict_days = -1\n",
    "predict_dates, train_dates = dates[predict_days:], dates[:predict_days]\n",
    "train_dates, predict_dates"
   ]
  },
  {
   "cell_type": "code",
   "execution_count": null,
   "metadata": {
    "ExecuteTime": {
     "end_time": "2018-09-18T15:34:40.900117Z",
     "start_time": "2018-09-18T15:32:09.807572Z"
    },
    "hidden": true
   },
   "outputs": [],
   "source": [
    "# load contracts for predict date\n",
    "%time full_set, quote_frame = load_option_files(predict_dates)"
   ]
  },
  {
   "cell_type": "code",
   "execution_count": null,
   "metadata": {
    "ExecuteTime": {
     "end_time": "2018-09-18T17:29:54.740589Z",
     "start_time": "2018-09-18T17:29:54.025098Z"
    },
    "hidden": true
   },
   "outputs": [],
   "source": [
    "# merge, filter and transform\n",
    "all_df = merge_ds(full_set, quote_frame)\n",
    "print(len(all_df))\n",
    "all_df = transform_ds(all_df)\n",
    "print(len(all_df))\n",
    "all_df = filter_ds(all_df)\n",
    "print(len(all_df))\n",
    "# split by type\n",
    "calls_df = all_df[all_df.type == 'call']\n",
    "puts_df = all_df[all_df.type == 'put']\n",
    "# process for ML\n",
    "ml_all_df = prepare_for_training(all_df, to_keep, target_col)\n",
    "ml_calls_df = prepare_for_training(calls_df, to_keep, target_col)\n",
    "ml_puts_df = prepare_for_training(puts_df, to_keep, target_col)\n",
    "# split into calls and puts\n",
    "print_fmt = 'Total rows: {0}, {1} calls and {2} puts'\n",
    "print(print_fmt.format(len(ml_all_df), len(ml_calls_df), len(ml_puts_df)))"
   ]
  },
  {
   "cell_type": "code",
   "execution_count": null,
   "metadata": {
    "ExecuteTime": {
     "end_time": "2018-09-18T16:53:15.444769Z",
     "start_time": "2018-09-18T16:51:56.985086Z"
    },
    "hidden": true,
    "scrolled": true
   },
   "outputs": [],
   "source": [
    "ml_model_id = 'ml-ro6h1x4MJIB'\n",
    "\n",
    "pre_ml_df, ml_df = all_df.copy(), ml_all_df.copy()\n",
    "size = len(ml_df)\n",
    "pre_ml_df['predicted'] = -1\n",
    "print(len(pre_ml_df), len(ml_df))\n",
    "\n",
    "for x in ml_df.index:\n",
    "    optn_row = ml_df.loc[x]\n",
    "    record = optn_row[:-1].astype(np.str).to_dict()\n",
    "    prediction = realtime_predict(ml_model_id, record)\n",
    "    predVal = prediction['Prediction']['predictedValue']\n",
    "    pre_ml_df.loc[x, 'predicted'] = predVal\n",
    "    print_fmt = '{:.3f}, {:.3f}, {:.3f}'\n",
    "    print(print_fmt.format(optn_row.lastPrice, predVal, predVal - optn_row.lastPrice))"
   ]
  },
  {
   "cell_type": "code",
   "execution_count": null,
   "metadata": {
    "ExecuteTime": {
     "end_time": "2018-09-18T20:58:37.088644Z",
     "start_time": "2018-09-18T20:58:35.923222Z"
    },
    "hidden": true
   },
   "outputs": [],
   "source": [
    "delta = abs((pre_ml_df['lastPrice'] - pre_ml_df['predicted']).round(3))\n",
    "pre_ml_df.plot.scatter(x='lastPrice', y='predicted', s=delta*1000)"
   ]
  },
  {
   "cell_type": "code",
   "execution_count": null,
   "metadata": {
    "ExecuteTime": {
     "end_time": "2018-09-18T17:57:09.765630Z",
     "start_time": "2018-09-18T17:57:09.686054Z"
    },
    "hidden": true
   },
   "outputs": [],
   "source": [
    "pre_ml_df['delta'] = delta"
   ]
  },
  {
   "cell_type": "code",
   "execution_count": null,
   "metadata": {
    "ExecuteTime": {
     "end_time": "2018-09-18T17:58:02.902219Z",
     "start_time": "2018-09-18T17:58:02.775592Z"
    },
    "hidden": true
   },
   "outputs": [],
   "source": [
    "# delta ranking analysis\n",
    "cols_show = ['strike', 'expiration', 'impliedVolatility', 'lastPrice', 'predicted', 'delta']\n",
    "pre_ml_df[cols_show].sort_values(by='delta')"
   ]
  },
  {
   "cell_type": "markdown",
   "metadata": {
    "ExecuteTime": {
     "end_time": "2018-09-18T23:37:01.180943Z",
     "start_time": "2018-09-18T23:37:01.049621Z"
    },
    "heading_collapsed": true
   },
   "source": [
    "### Prediction using Local Model"
   ]
  },
  {
   "cell_type": "code",
   "execution_count": 101,
   "metadata": {
    "ExecuteTime": {
     "end_time": "2018-09-21T23:22:57.621141Z",
     "start_time": "2018-09-21T23:22:54.401750Z"
    },
    "hidden": true
   },
   "outputs": [
    {
     "data": {
      "text/plain": [
       "(['2018-09-07',\n",
       "  '2018-09-10',\n",
       "  '2018-09-11',\n",
       "  '2018-09-12',\n",
       "  '2018-09-13',\n",
       "  '2018-09-14',\n",
       "  '2018-09-17',\n",
       "  '2018-09-18',\n",
       "  '2018-09-19',\n",
       "  '2018-09-20'],\n",
       " ['2018-09-21'])"
      ]
     },
     "execution_count": 101,
     "metadata": {},
     "output_type": "execute_result"
    }
   ],
   "source": [
    "# Date ranges for analysis\n",
    "dates = read_dates()\n",
    "predict_days = -1\n",
    "predict_dates, train_dates = dates[predict_days:], dates[:predict_days]\n",
    "train_dates, predict_dates"
   ]
  },
  {
   "cell_type": "code",
   "execution_count": 102,
   "metadata": {
    "ExecuteTime": {
     "end_time": "2018-09-21T23:23:08.030149Z",
     "start_time": "2018-09-21T23:23:00.683373Z"
    },
    "hidden": true,
    "scrolled": true
   },
   "outputs": [
    {
     "name": "stdout",
     "output_type": "stream",
     "text": [
      "Loading quotes for 2018-09-21\n",
      "Loading options for 2018-09-21\n"
     ]
    }
   ],
   "source": [
    "# load contracts for predict date\n",
    "# %time pred_full_set, pred_quote_frame = load_option_files(predict_dates)\n",
    "\n",
    "pred_quote_frame = load_consol_quotes(predict_dates)\n",
    "pred_full_set = load_consol_options(predict_dates)\n",
    "\n",
    "# pred_full_set.to_csv('pred_full_set.csv', index=False)\n",
    "# pred_quote_frame.to_csv('pred_quote_frame.csv', index=False)"
   ]
  },
  {
   "cell_type": "code",
   "execution_count": 103,
   "metadata": {
    "ExecuteTime": {
     "end_time": "2018-09-21T23:23:11.760372Z",
     "start_time": "2018-09-21T23:23:10.865824Z"
    },
    "hidden": true,
    "scrolled": true
   },
   "outputs": [
    {
     "name": "stdout",
     "output_type": "stream",
     "text": [
      "97176 options 325 quotes\n",
      "40230 left after merge\n",
      "40230 left after transform\n",
      "1427 left after filter\n",
      "1427: 764 calls, 663 puts\n"
     ]
    }
   ],
   "source": [
    "# load the prediction date data\n",
    "# pred_full_set = pd.read_csv('pred_full_set.csv')\n",
    "# pred_quote_frame = pd.read_csv('pred_quote_frame.csv')\n",
    "print('{0} options'.format(pred_full_set.underlyingSymbol.count()), \\\n",
    "'{0} quotes'.format(pred_quote_frame.symbol.count()))\n",
    "\n",
    "rows_left = lambda x, y: print('{} left after {}'.format(len(x), y))\n",
    "rows_left_by_type = lambda x, y, z: print('{}: {} calls, {} puts'.format(\n",
    "    len(x), len(y), len(z)))\n",
    "\n",
    "# merge, filter and transform\n",
    "pred_all_df = merge_ds(pred_full_set, pred_quote_frame)\n",
    "rows_left(pred_all_df, 'merge')\n",
    "pred_all_df = transform_ds(pred_all_df)\n",
    "rows_left(pred_all_df, 'transform')\n",
    "pred_all_df = filter_ds(pred_all_df)\n",
    "rows_left(pred_all_df, 'filter')\n",
    "# split by type\n",
    "pred_calls_df = pred_all_df[pred_all_df.type == 'call']\n",
    "pred_puts_df = pred_all_df[pred_all_df.type == 'put']\n",
    "# split into calls and puts\n",
    "rows_left_by_type(pred_all_df, pred_calls_df, pred_puts_df)"
   ]
  },
  {
   "cell_type": "code",
   "execution_count": 77,
   "metadata": {
    "ExecuteTime": {
     "end_time": "2018-09-21T00:57:42.795866Z",
     "start_time": "2018-09-21T00:57:42.697000Z"
    },
    "code_folding": [],
    "hidden": true
   },
   "outputs": [],
   "source": [
    "# prediction and analysis functions\n",
    "def update_deltas(ml_df, predictions, pred_col, var_col):\n",
    "    post_pred_df = ml_df.copy()\n",
    "    post_pred_df.loc[:,pred_col] = predictions\n",
    "    post_pred_df.loc[:,var_col] = post_pred_df[pred_col] - post_pred_df.lastPrice\n",
    "    return post_pred_df\n",
    "\n",
    "def plot_deltas(post_pred_df, pred_col, var_col):\n",
    "    fig = plt.figure(figsize=(10,10), dpi=300)\n",
    "    ax1 = post_pred_df.plot.scatter(x='lastPrice', y=pred_col, \n",
    "        s=post_pred_df[var_col]*10**4, alpha=0.5, c='impliedVolatility', \n",
    "        cmap=plt.get_cmap('jet'),\n",
    "        title='Predicted vs. Actual (bubble size=variance)')\n",
    "    plt.setp(ax1.get_xticklabels(), visible=True)\n",
    "    ax1.set_xlim(0,.15)\n",
    "    ax1.set_ylim(0,.15)\n",
    "    ax2 = post_pred_df.plot.scatter(\n",
    "        x='strike', y='expiration', s=post_pred_df[var_col]*10**4, alpha=0.5, \n",
    "        c='impliedVolatility', cmap=plt.get_cmap('jet'),\n",
    "        title='Expiration vs. Strikes (bubble size=variance)', sharex=ax1)\n",
    "    plt.setp(ax2.get_xticklabels(), visible=True)\n",
    "    plt.setp(ax2.get_xticklabels(), visible=True)\n",
    "    plt.show()"
   ]
  },
  {
   "cell_type": "code",
   "execution_count": 92,
   "metadata": {
    "ExecuteTime": {
     "end_time": "2018-09-21T00:59:26.103556Z",
     "start_time": "2018-09-21T00:59:25.959348Z"
    },
    "code_folding": [],
    "hidden": true
   },
   "outputs": [
    {
     "name": "stdout",
     "output_type": "stream",
     "text": [
      "Predicted call RMSE 0.0166739228495018\n"
     ]
    }
   ],
   "source": [
    "# compare and visualize\n",
    "OPTION_TYPE = 'call'\n",
    "ml_df = (pred_calls_df if OPTION_TYPE == 'call' else pred_puts_df).copy()\n",
    "ml_train_df = prepare_for_training(ml_df, to_keep, target_col)\n",
    "\n",
    "X = ml_train_df.loc[:,ml_train_df.columns[:-1]].values\n",
    "Y = ml_train_df.loc[:,target_col].values\n",
    "\n",
    "fname = \"{}_ML_model.pkl\".format(OPTION_TYPE)\n",
    "loaded_model = joblib.load(fname)\n",
    "\n",
    "res = loaded_model.predict(X)\n",
    "print('Predicted {} RMSE {}'.format(OPTION_TYPE, np.sqrt(mean_squared_error(Y, res))))\n",
    "\n",
    "PREDICTION_COL = 'prediction'\n",
    "DELTA_COL = 'predictionDelta'\n",
    "post_pred_df = update_deltas(ml_df, res, PREDICTION_COL, DELTA_COL)\n",
    "# plot_deltas(post_pred_df, PREDICTION_COL, DELTA_COL)"
   ]
  },
  {
   "cell_type": "code",
   "execution_count": 93,
   "metadata": {
    "ExecuteTime": {
     "end_time": "2018-09-21T00:59:26.977718Z",
     "start_time": "2018-09-21T00:59:26.873457Z"
    },
    "hidden": true
   },
   "outputs": [
    {
     "data": {
      "text/html": [
       "<div>\n",
       "<style scoped>\n",
       "    .dataframe tbody tr th:only-of-type {\n",
       "        vertical-align: middle;\n",
       "    }\n",
       "\n",
       "    .dataframe tbody tr th {\n",
       "        vertical-align: top;\n",
       "    }\n",
       "\n",
       "    .dataframe thead th {\n",
       "        text-align: right;\n",
       "    }\n",
       "</style>\n",
       "<table border=\"1\" class=\"dataframe\">\n",
       "  <thead>\n",
       "    <tr style=\"text-align: right;\">\n",
       "      <th></th>\n",
       "      <th>contractSymbol</th>\n",
       "      <th>type</th>\n",
       "      <th>underlyingSymbol</th>\n",
       "      <th>impliedVolatility</th>\n",
       "      <th>expiration</th>\n",
       "      <th>strike</th>\n",
       "      <th>lastPrice</th>\n",
       "      <th>prediction</th>\n",
       "      <th>predictionDelta</th>\n",
       "    </tr>\n",
       "  </thead>\n",
       "  <tbody>\n",
       "    <tr>\n",
       "      <th>4375</th>\n",
       "      <td>CI200117C00260000</td>\n",
       "      <td>call</td>\n",
       "      <td>CI</td>\n",
       "      <td>0.262</td>\n",
       "      <td>1.323</td>\n",
       "      <td>1.291</td>\n",
       "      <td>0.032</td>\n",
       "      <td>0.054</td>\n",
       "      <td>0.022</td>\n",
       "    </tr>\n",
       "    <tr>\n",
       "      <th>28739</th>\n",
       "      <td>ATHN200117C00160000</td>\n",
       "      <td>call</td>\n",
       "      <td>ATHN</td>\n",
       "      <td>0.252</td>\n",
       "      <td>1.323</td>\n",
       "      <td>1.154</td>\n",
       "      <td>0.050</td>\n",
       "      <td>0.073</td>\n",
       "      <td>0.023</td>\n",
       "    </tr>\n",
       "    <tr>\n",
       "      <th>38376</th>\n",
       "      <td>UPS200117C00135000</td>\n",
       "      <td>call</td>\n",
       "      <td>UPS</td>\n",
       "      <td>0.181</td>\n",
       "      <td>1.323</td>\n",
       "      <td>1.133</td>\n",
       "      <td>0.034</td>\n",
       "      <td>0.060</td>\n",
       "      <td>0.026</td>\n",
       "    </tr>\n",
       "    <tr>\n",
       "      <th>35576</th>\n",
       "      <td>SAND200117C00005000</td>\n",
       "      <td>call</td>\n",
       "      <td>SAND</td>\n",
       "      <td>0.490</td>\n",
       "      <td>1.323</td>\n",
       "      <td>1.306</td>\n",
       "      <td>0.104</td>\n",
       "      <td>0.142</td>\n",
       "      <td>0.037</td>\n",
       "    </tr>\n",
       "    <tr>\n",
       "      <th>19581</th>\n",
       "      <td>NWSA190418C00014000</td>\n",
       "      <td>call</td>\n",
       "      <td>NWSA</td>\n",
       "      <td>0.792</td>\n",
       "      <td>0.573</td>\n",
       "      <td>1.109</td>\n",
       "      <td>0.044</td>\n",
       "      <td>0.102</td>\n",
       "      <td>0.059</td>\n",
       "    </tr>\n",
       "  </tbody>\n",
       "</table>\n",
       "</div>"
      ],
      "text/plain": [
       "            contractSymbol  type underlyingSymbol  impliedVolatility  \\\n",
       "4375     CI200117C00260000  call               CI              0.262   \n",
       "28739  ATHN200117C00160000  call             ATHN              0.252   \n",
       "38376   UPS200117C00135000  call              UPS              0.181   \n",
       "35576  SAND200117C00005000  call             SAND              0.490   \n",
       "19581  NWSA190418C00014000  call             NWSA              0.792   \n",
       "\n",
       "       expiration  strike  lastPrice  prediction  predictionDelta  \n",
       "4375        1.323   1.291      0.032       0.054            0.022  \n",
       "28739       1.323   1.154      0.050       0.073            0.023  \n",
       "38376       1.323   1.133      0.034       0.060            0.026  \n",
       "35576       1.323   1.306      0.104       0.142            0.037  \n",
       "19581       0.573   1.109      0.044       0.102            0.059  "
      ]
     },
     "execution_count": 93,
     "metadata": {},
     "output_type": "execute_result"
    }
   ],
   "source": [
    "ANALYSIS_COLS = ['contractSymbol', 'type' ,'underlyingSymbol',\n",
    "                 'impliedVolatility', 'expiration', 'strike','lastPrice', \n",
    "                 'prediction', 'predictionDelta']\n",
    "post_pred_df[ANALYSIS_COLS].sort_values(by='predictionDelta', ascending=True).tail(5).round(3)"
   ]
  },
  {
   "cell_type": "code",
   "execution_count": 94,
   "metadata": {
    "ExecuteTime": {
     "end_time": "2018-09-21T00:59:29.750004Z",
     "start_time": "2018-09-21T00:59:29.420937Z"
    },
    "hidden": true
   },
   "outputs": [
    {
     "data": {
      "text/plain": [
       "<matplotlib.axes._subplots.AxesSubplot at 0x113ef67b8>"
      ]
     },
     "execution_count": 94,
     "metadata": {},
     "output_type": "execute_result"
    },
    {
     "data": {
      "image/png": "[encoded data removed]",
      "text/plain": [
       "<Figure size 432x288 with 1 Axes>"
      ]
     },
     "metadata": {},
     "output_type": "display_data"
    }
   ],
   "source": [
    "post_pred_df.predictionDelta.hist(bins=50)"
   ]
  },
  {
   "cell_type": "code",
   "execution_count": 95,
   "metadata": {
    "ExecuteTime": {
     "end_time": "2018-09-21T00:59:31.217001Z",
     "start_time": "2018-09-21T00:59:31.133005Z"
    },
    "hidden": true
   },
   "outputs": [],
   "source": [
    "# pred_all_df[pred_all_df.contractSymbol == 'CMG190118P00300000'].T"
   ]
  },
  {
   "cell_type": "code",
   "execution_count": 96,
   "metadata": {
    "ExecuteTime": {
     "end_time": "2018-09-21T00:59:35.537841Z",
     "start_time": "2018-09-21T00:59:35.437468Z"
    },
    "hidden": true
   },
   "outputs": [
    {
     "name": "stdout",
     "output_type": "stream",
     "text": [
      "Ranks by annualized return\n"
     ]
    }
   ],
   "source": [
    "print('Ranks by annualized return')\n",
    "pricingCols = ['lastPrice','prediction','predictionDelta']\n",
    "post_pred_df[pricingCols] = (post_pred_df[pricingCols].T * pred_all_df.loc[post_pred_df.index].regularMarketPrice).T.round(2)\n",
    "ranked_ann = ((post_pred_df[DELTA_COL] / post_pred_df.lastPrice) \\\n",
    "              / (post_pred_df.strike / post_pred_df.expiration) * 100).sort_values(ascending=False)\n",
    "ANN_RET = 'annReturn'\n",
    "post_pred_df[ANN_RET] = ranked_ann.round(1)\n",
    "ANALYSIS_COLS.extend([ANN_RET])\n",
    "final = post_pred_df[ANALYSIS_COLS].sort_values(by=ANN_RET, ascending=False).head(10)\n",
    "fname = '{}-option-{}.csv'.format(OPTION_TYPE, str(date.today()))\n",
    "final.to_csv(fname, index=False)"
   ]
  },
  {
   "cell_type": "code",
   "execution_count": 97,
   "metadata": {
    "ExecuteTime": {
     "end_time": "2018-09-21T00:59:36.707192Z",
     "start_time": "2018-09-21T00:59:36.367309Z"
    },
    "hidden": true
   },
   "outputs": [
    {
     "data": {
      "text/plain": [
       "<matplotlib.axes._subplots.AxesSubplot at 0x1145244a8>"
      ]
     },
     "execution_count": 97,
     "metadata": {},
     "output_type": "execute_result"
    },
    {
     "data": {
      "image/png": "[encoded data removed]",
      "text/plain": [
       "<Figure size 432x288 with 1 Axes>"
      ]
     },
     "metadata": {},
     "output_type": "display_data"
    }
   ],
   "source": [
    "post_pred_df.predictionDelta.hist(bins=50)"
   ]
  },
  {
   "cell_type": "code",
   "execution_count": 98,
   "metadata": {
    "ExecuteTime": {
     "end_time": "2018-09-21T00:59:37.965509Z",
     "start_time": "2018-09-21T00:59:37.867088Z"
    },
    "hidden": true
   },
   "outputs": [
    {
     "data": {
      "text/plain": [
       "(15.0, 24.97]      61\n",
       "(24.97, 34.84]     17\n",
       "(34.84, 44.71]     13\n",
       "(44.71, 54.58]      7\n",
       "(64.45, 74.32]      5\n",
       "(74.32, 84.19]      2\n",
       "(103.93, 113.8]     1\n",
       "(84.19, 94.06]      1\n",
       "(94.06, 103.93]     0\n",
       "(54.58, 64.45]      0\n",
       "Name: annReturn, dtype: int64"
      ]
     },
     "execution_count": 98,
     "metadata": {},
     "output_type": "execute_result"
    }
   ],
   "source": [
    "post_pred_df[(post_pred_df.annReturn > 15)].annReturn.value_counts(bins=10)"
   ]
  },
  {
   "cell_type": "markdown",
   "metadata": {
    "ExecuteTime": {
     "end_time": "2018-09-18T01:17:04.544194Z",
     "start_time": "2018-09-18T01:17:04.439096Z"
    },
    "heading_collapsed": true
   },
   "source": [
    "### Visualization Explorations"
   ]
  },
  {
   "cell_type": "code",
   "execution_count": 9,
   "metadata": {
    "ExecuteTime": {
     "end_time": "2018-09-20T23:31:12.809538Z",
     "start_time": "2018-09-20T23:31:12.528426Z"
    },
    "hidden": true
   },
   "outputs": [
    {
     "ename": "NameError",
     "evalue": "name 'full_set' is not defined",
     "output_type": "error",
     "traceback": [
      "\u001b[0;31m---------------------------------------------------------------------------\u001b[0m",
      "\u001b[0;31mNameError\u001b[0m                                 Traceback (most recent call last)",
      "\u001b[0;32m<ipython-input-9-e0f021b652f8>\u001b[0m in \u001b[0;36m<module>\u001b[0;34m()\u001b[0m\n\u001b[0;32m----> 1\u001b[0;31m \u001b[0mall_df\u001b[0m \u001b[0;34m=\u001b[0m \u001b[0mmerge_ds\u001b[0m\u001b[0;34m(\u001b[0m\u001b[0mfull_set\u001b[0m\u001b[0;34m,\u001b[0m \u001b[0mquote_frame\u001b[0m\u001b[0;34m)\u001b[0m\u001b[0;34m\u001b[0m\u001b[0m\n\u001b[0m\u001b[1;32m      2\u001b[0m \u001b[0mtest_df\u001b[0m \u001b[0;34m=\u001b[0m \u001b[0mall_df\u001b[0m\u001b[0;34m.\u001b[0m\u001b[0mcopy\u001b[0m\u001b[0;34m(\u001b[0m\u001b[0;34m)\u001b[0m\u001b[0;34m\u001b[0m\u001b[0m\n\u001b[1;32m      3\u001b[0m \u001b[0mtest_df\u001b[0m \u001b[0;34m=\u001b[0m \u001b[0mtest_df\u001b[0m\u001b[0;34m[\u001b[0m\u001b[0mtest_df\u001b[0m\u001b[0;34m.\u001b[0m\u001b[0minTheMoney\u001b[0m \u001b[0;34m==\u001b[0m \u001b[0;32mFalse\u001b[0m\u001b[0;34m]\u001b[0m\u001b[0;34m\u001b[0m\u001b[0m\n\u001b[1;32m      4\u001b[0m \u001b[0mprint\u001b[0m\u001b[0;34m(\u001b[0m\u001b[0mlen\u001b[0m\u001b[0;34m(\u001b[0m\u001b[0mtest_df\u001b[0m\u001b[0;34m)\u001b[0m\u001b[0;34m)\u001b[0m\u001b[0;34m\u001b[0m\u001b[0m\n",
      "\u001b[0;31mNameError\u001b[0m: name 'full_set' is not defined"
     ]
    }
   ],
   "source": [
    "all_df = merge_ds(full_set, quote_frame)\n",
    "test_df = all_df.copy()\n",
    "test_df = test_df[test_df.inTheMoney == False]\n",
    "print(len(test_df))"
   ]
  },
  {
   "cell_type": "code",
   "execution_count": null,
   "metadata": {
    "ExecuteTime": {
     "end_time": "2018-09-18T03:19:38.544241Z",
     "start_time": "2018-09-18T03:19:38.214318Z"
    },
    "hidden": true
   },
   "outputs": [],
   "source": [
    "# what's the distribution of strike prices?\n",
    "strikes = (test_df.strike / test_df.regularMarketPrice).round(2)\n",
    "viz_bins = strikes.value_counts(bins=12).sort_index()\n",
    "(viz_bins / viz_bins.sum()).plot.bar()"
   ]
  },
  {
   "cell_type": "code",
   "execution_count": null,
   "metadata": {
    "ExecuteTime": {
     "end_time": "2018-09-18T03:19:39.361918Z",
     "start_time": "2018-09-18T03:19:39.182048Z"
    },
    "hidden": true
   },
   "outputs": [],
   "source": [
    "print(len(test_df))\n",
    "test_df.strike = (test_df.strike / test_df.regularMarketPrice).round(2)\n",
    "test_df.expiration = (pd.to_datetime(all_df.expiration) - pd.to_datetime(all_df.storeDate)).dt.days\n",
    "test_df.lastPrice = (all_df.lastPrice / all_df.regularMarketPrice)\n",
    "test_df.impliedVolatility = test_df.impliedVolatility.round(2)"
   ]
  },
  {
   "cell_type": "code",
   "execution_count": null,
   "metadata": {
    "ExecuteTime": {
     "end_time": "2018-09-18T03:19:41.035180Z",
     "start_time": "2018-09-18T03:19:40.992377Z"
    },
    "hidden": true
   },
   "outputs": [],
   "source": [
    "test_df.expiration.value_counts().sort_index(ascending=False).head(40).tail(5)\n",
    "# test_df.expiration.hist(bins=50, cumulative=True)"
   ]
  },
  {
   "cell_type": "code",
   "execution_count": null,
   "metadata": {
    "ExecuteTime": {
     "end_time": "2018-09-18T03:19:41.552872Z",
     "start_time": "2018-09-18T03:19:41.485265Z"
    },
    "hidden": true
   },
   "outputs": [],
   "source": [
    "test_df = test_df[test_df.expiration > 125]\n",
    "print(len(test_df))"
   ]
  },
  {
   "cell_type": "code",
   "execution_count": null,
   "metadata": {
    "ExecuteTime": {
     "end_time": "2018-09-18T03:19:42.653211Z",
     "start_time": "2018-09-18T03:19:42.598825Z"
    },
    "hidden": true
   },
   "outputs": [],
   "source": [
    "mask = ((test_df.strike > 0.6) & (test_df.strike < 0.9)) | ((test_df.strike > 1.1) & (test_df.strike < 1.4))\n",
    "test_df = test_df[mask]\n",
    "print(len(test_df))\n",
    "test_df.strike.value_counts().sort_values().head(40).tail(5)"
   ]
  },
  {
   "cell_type": "code",
   "execution_count": null,
   "metadata": {
    "ExecuteTime": {
     "end_time": "2018-09-18T03:19:45.653299Z",
     "start_time": "2018-09-18T03:19:45.389687Z"
    },
    "hidden": true
   },
   "outputs": [],
   "source": [
    "# test_df[(test_df.openInterest > 50) & (test_df.openInterest < 1*10**3)].openInterest.value_counts(bins=50).sort_index()\n",
    "test_df[(test_df.openInterest > 50) & (test_df.openInterest < 1*10**3)].openInterest.hist(bins=10)"
   ]
  },
  {
   "cell_type": "code",
   "execution_count": null,
   "metadata": {
    "ExecuteTime": {
     "end_time": "2018-09-18T03:19:45.771021Z",
     "start_time": "2018-09-18T03:19:45.735268Z"
    },
    "hidden": true
   },
   "outputs": [],
   "source": [
    "test_df = test_df[(test_df.volume > 10) & (test_df.openInterest > 20)]\n",
    "print(len(test_df))"
   ]
  },
  {
   "cell_type": "code",
   "execution_count": null,
   "metadata": {
    "ExecuteTime": {
     "end_time": "2018-09-18T01:01:14.788497Z",
     "start_time": "2018-09-18T01:01:14.522452Z"
    },
    "hidden": true
   },
   "outputs": [],
   "source": [
    "test_df.marketCap = (test_df.marketCap / 10**9).round(0)"
   ]
  },
  {
   "cell_type": "code",
   "execution_count": null,
   "metadata": {
    "ExecuteTime": {
     "end_time": "2018-09-18T01:01:16.560303Z",
     "start_time": "2018-09-18T01:01:16.475469Z"
    },
    "hidden": true
   },
   "outputs": [],
   "source": [
    "test_df.groupby(by=['strike','expiration'], sort=True).lastPrice.count().sort_values(ascending=False)"
   ]
  },
  {
   "cell_type": "code",
   "execution_count": null,
   "metadata": {
    "ExecuteTime": {
     "end_time": "2018-09-18T01:03:14.104430Z",
     "start_time": "2018-09-18T01:03:12.986249Z"
    },
    "hidden": true,
    "scrolled": false
   },
   "outputs": [],
   "source": [
    "# test_df = test_df[(test_df.expiration == 126) & (test_df.strike == 1.11)]\n",
    "# cols_to_show = ['symbol','strike','expiration','marketCap','impliedVolatility','lastPrice']\n",
    "# chart_df = test_df[cols_to_show].sort_values(by='marketCap')\n",
    "# chart_df\n",
    "\n",
    "# chart_df.plot.scatter(x='lastPrice', y='impliedVolatility')\n",
    "# chart_df.plot.scatter(x='marketCap', y='impliedVolatility')\n",
    "# chart_df = test_df.groupby(['expiration','strike'])\n",
    "# chart_df.impliedVolatility.count().sort_values(ascending=False)\n",
    "# test_df.groupby(['symbol']).impliedVolatility.sum().sort_values(ascending=False)\n",
    "# print(len(test_df))\n",
    "chart_df = test_df.groupby(['expiration','strike']).impliedVolatility.mean().sort_values(ascending=False)\n",
    "# check_cols = ['symbol','expiration','strike','storeDate','impliedVolatility','contractSymbol']\n",
    "# test_df[['symbol','impliedVolatility']].sort_values(by='impliedVolatility')\n",
    "# test_df.impliedVolatility.round(2)\n",
    "# filter_df = test_df[(test_df.expiration == 129) & (test_df.strike == 0.8)]\n",
    "# filter_df.symbol.unique()\n",
    "# contracts = filter_df[filter_df.symbol == 'AAPL'].contractSymbol\n",
    "# full_set[full_set.contractSymbol.isin([contracts.values[1]])]\n",
    "# chart_df = chart_df.to_frame().unstack()\n",
    "# fig, ax = plt.subplots()\n",
    "# fig.set_figwidth(20)\n",
    "# fig.set_figheight(20)\n",
    "# ax.xaxis.set_label(chart_df.columns)\n",
    "# ax.yaxis.set_label(chart_df.index)\n",
    "# ax.imshow(chart_df, interpolation='nearest')"
   ]
  }
 ],
 "metadata": {
  "kernelspec": {
   "display_name": "Python 3",
   "language": "python",
   "name": "python3"
  },
  "language_info": {
   "codemirror_mode": {
    "name": "ipython",
    "version": 3
   },
   "file_extension": ".py",
   "mimetype": "text/x-python",
   "name": "python",
   "nbconvert_exporter": "python",
   "pygments_lexer": "ipython3",
   "version": "3.7.0"
  },
  "toc": {
   "base_numbering": 1,
   "nav_menu": {},
   "number_sections": true,
   "sideBar": true,
   "skip_h1_title": false,
   "title_cell": "Table of Contents",
   "title_sidebar": "Contents",
   "toc_cell": false,
   "toc_position": {},
   "toc_section_display": true,
   "toc_window_display": false
  }
 },
 "nbformat": 4,
 "nbformat_minor": 2
}
