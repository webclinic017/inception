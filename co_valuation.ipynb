{
 "cells": [
  {
   "cell_type": "code",
   "execution_count": 46,
   "metadata": {
    "ExecuteTime": {
     "end_time": "2018-10-08T01:36:51.815633Z",
     "start_time": "2018-10-08T01:36:50.219308Z"
    }
   },
   "outputs": [],
   "source": [
    "# imports\n",
    "%reload_ext autoreload\n",
    "%autoreload 2\n",
    "%matplotlib inline \n",
    "\n",
    "from basic_utils import *\n",
    "from valuation import *\n",
    "\n",
    "pd.set_option('display.max_rows', 20)"
   ]
  },
  {
   "cell_type": "code",
   "execution_count": 2,
   "metadata": {
    "ExecuteTime": {
     "end_time": "2018-10-08T01:36:52.340532Z",
     "start_time": "2018-10-08T01:36:51.819058Z"
    }
   },
   "outputs": [],
   "source": [
    "dates = read_dates('quote')\n",
    "UNIT_SCALE = 10**9\n",
    "date_cols = ['endDate', 'storeDate']\n",
    "excl_cols = ['maxAge', 'symbol', 'period', 'storeDate']"
   ]
  },
  {
   "cell_type": "code",
   "execution_count": 3,
   "metadata": {
    "ExecuteTime": {
     "end_time": "2018-10-08T01:36:52.374611Z",
     "start_time": "2018-10-08T01:36:52.343846Z"
    }
   },
   "outputs": [
    {
     "data": {
      "text/plain": [
       "['2019-02-15']"
      ]
     },
     "execution_count": 3,
     "metadata": {},
     "output_type": "execute_result"
    }
   ],
   "source": [
    "tgt_date = [dates[-1]] # hardcoded for now\n",
    "tgt_date"
   ]
  },
  {
   "cell_type": "markdown",
   "metadata": {},
   "source": [
    "### Load data from S3"
   ]
  },
  {
   "cell_type": "code",
   "execution_count": 107,
   "metadata": {
    "ExecuteTime": {
     "end_time": "2018-10-08T01:36:56.144122Z",
     "start_time": "2018-10-08T01:36:54.313254Z"
    },
    "scrolled": true
   },
   "outputs": [
    {
     "name": "stdout",
     "output_type": "stream",
     "text": [
      "Loading file quote/csv/2019-02-15\n",
      "Loading file summary-categories/assetProfile\n",
      "Loading file summary-categories/defaultKeyStatistics/2019-02-15\n",
      "Loading file summary-categories/financialData/2019-02-15\n"
     ]
    }
   ],
   "source": [
    "latest_quotes = load_csvs('quote_consol', tgt_date)\n",
    "latest_quotes.set_index('symbol', drop=False, inplace=True)\n",
    "profile = load_csvs('summary_detail', ['assetProfile'])\n",
    "latest_keystats = load_csvs('summary_detail', ['defaultKeyStatistics/' + str(tgt_date[0])])\n",
    "latest_finstats = load_csvs('summary_detail', ['financialData/' + str(tgt_date[0])])"
   ]
  },
  {
   "cell_type": "code",
   "execution_count": 112,
   "metadata": {},
   "outputs": [],
   "source": [
    "rates = [\"^IRX\", \"^FVX\", \"^TNX\", \"^TYX\"]\n",
    "FXs = latest_quotes[(latest_quotes.quoteType == 'CURRENCY')]\n",
    "base_rate_symbol = \"^TNX\"\n",
    "base_rate = latest_quotes.loc[base_rate_symbol,:].regularMarketPrice / 100\n",
    "risk_premium = 500 / 10000\n",
    "proj_increase = 50 / 10000\n",
    "growth_cap_factor = 0.3\n",
    "growth_discount_premium = 1\n",
    "discount_rate = base_rate + risk_premium + proj_increase"
   ]
  },
  {
   "cell_type": "code",
   "execution_count": 179,
   "metadata": {},
   "outputs": [],
   "source": [
    "key_cols = ['totalAssets','adjAssetBaseLessCash', 'netDebt',\n",
    "   'totalRevenue', 'steadyCF', 'steadyFCF', 'reinvCapital',\n",
    "   'ROA', 'ROE', 'AT', 'AAT']"
   ]
  },
  {
   "cell_type": "code",
   "execution_count": 108,
   "metadata": {},
   "outputs": [
    {
     "name": "stdout",
     "output_type": "stream",
     "text": [
      "Loading file summary-categories/financials-BS\n",
      "Loading file summary-categories/financials-IS\n",
      "Loading file summary-categories/financials-CF\n"
     ]
    }
   ],
   "source": [
    "latest_finBS = load_csvs('summary_detail', ['financials-BS'])\n",
    "latest_finIS = load_csvs('summary_detail', ['financials-IS'])\n",
    "latest_finCF = load_csvs('summary_detail', ['financials-CF'])"
   ]
  },
  {
   "cell_type": "code",
   "execution_count": 109,
   "metadata": {},
   "outputs": [],
   "source": [
    "# convert timestamps to dates\n",
    "latest_finBS = convert_dates(latest_finBS, date_cols, 'endDate')\n",
    "latest_finIS = convert_dates(latest_finIS, date_cols, 'endDate')\n",
    "latest_finCF = convert_dates(latest_finCF, date_cols, 'endDate')"
   ]
  },
  {
   "cell_type": "code",
   "execution_count": 110,
   "metadata": {},
   "outputs": [
    {
     "data": {
      "image/png": "[encoded data removed]",
      "text/plain": [
       "<Figure size 432x288 with 1 Axes>"
      ]
     },
     "metadata": {
      "needs_background": "light"
     },
     "output_type": "display_data"
    }
   ],
   "source": [
    "# show distribution of filling dates for the universe\n",
    "field = 'cash'\n",
    "fil_period = latest_finBS[(latest_finBS.period == 'Q')]\n",
    "date_count_df = fil_period.groupby(\n",
    "    fil_period.index).count().sort_values(\n",
    "        by=field, ascending=False).head(10)\n",
    "date_count_df[field].plot.barh();"
   ]
  },
  {
   "cell_type": "markdown",
   "metadata": {},
   "source": [
    "### Select company"
   ]
  },
  {
   "cell_type": "code",
   "execution_count": 206,
   "metadata": {},
   "outputs": [],
   "source": [
    "symbol = 'BABA'\n",
    "key_stats_df = latest_keystats[latest_keystats.symbol == symbol]\n",
    "fin_stats_df = latest_finstats[latest_finstats.symbol == symbol]\n",
    "quote_df = latest_quotes[latest_quotes.symbol == symbol]"
   ]
  },
  {
   "cell_type": "markdown",
   "metadata": {},
   "source": [
    "### Perform analysis"
   ]
  },
  {
   "cell_type": "code",
   "execution_count": 207,
   "metadata": {
    "code_folding": [
     0,
     3,
     10,
     14,
     34,
     54
    ]
   },
   "outputs": [],
   "source": [
    "# valuation utility functions\n",
    "non_empty = lambda df: df[[y for x, y in zip(~df.isna().iloc[0].values, df.columns.tolist()) if x == True]]\n",
    "\n",
    "def clean_ltm(ds, symbol, filterCol, isBs):\n",
    "    # appends most recent quarter or last four quarters to historical financials\n",
    "    df = ds[ds.symbol == symbol]\n",
    "    df = df.dropna(subset=[filterCol]).sort_index()\n",
    "    df = fs_append_ltm(df[df.period == 'A'], df[df.period == 'Q'], isBs, excl_cols)\n",
    "    return df    \n",
    "\n",
    "def cagr_series(val_df):\n",
    "    years = (val_df.index[-1] - val_df.index[0]).days / 365\n",
    "    return pow(val_df.iloc[-1] / val_df.iloc[0], (1 / years)) - 1    \n",
    "\n",
    "def get_BS_metrics(symbol):\n",
    "    # calculate adjusted asset base for valuation\n",
    "    df = clean_ltm(latest_finBS, symbol, 'cash', True)\n",
    "    # print_labels(\"BS\", df)\n",
    "    wc_assets = ['netReceivables', 'inventory']\n",
    "    wc_liabs = ['accountsPayable']\n",
    "    total_cash = ['cash', 'shortTermInvestments', 'longTermInvestments']\n",
    "    total_debt = ['shortLongTermDebt', 'longTermDebt']\n",
    "    summary = ['totalAssets', 'workingCapital', 'adjAssetBase',\n",
    "                  'totalCash', 'adjAssetBaseLessCash', 'netDebt']\n",
    "    \n",
    "    df.loc[:, 'workingCapital'] = fs_total_subset(df, wc_assets) - fs_total_subset(df, wc_liabs)\n",
    "    df.loc[:, 'adjAssetBase'] = df['totalAssets'] + df['workingCapital'].apply(min, args=(0,))\n",
    "    df.loc[:, 'totalCash'] = fs_total_subset(df, total_cash)\n",
    "    df.loc[:, 'totalDebt'] = fs_total_subset(df, total_debt)\n",
    "    df.loc[:, 'netDebt'] = df['totalDebt'] - df['totalCash']\n",
    "    df.loc[:, 'adjAssetBaseLessCash'] = df['adjAssetBase'] + df['netDebt'].apply(min, args=(0,))\n",
    "    \n",
    "    return (df[valid_cols(df, summary)])\n",
    "\n",
    "def get_CF_metrics(symbol):\n",
    "    # calculates steady CF and FCF\n",
    "    df = latest_finCF[latest_finCF.symbol == symbol]\n",
    "    df = df.dropna(subset=['totalCashFromOperatingActivities']).sort_index()\n",
    "    df = fs_append_ltm(df[df.period == 'A'], df[df.period == 'Q'], False, excl_cols)\n",
    "    # print_labels(\"CF\", df)\n",
    "\n",
    "    summary = ['totalCashFromOperatingActivities', 'depreciation', \n",
    "                  'steadyCF', 'capitalExpenditures', \n",
    "                  'netBorrowings', 'steadyFCF', 'growthCapex', \n",
    "                  'repurchaseOfStock', 'dividendsPaid', 'sbcAddbacks']\n",
    "\n",
    "    df.loc[:, 'steadyCF'] = df.totalCashFromOperatingActivities - df['depreciation']\n",
    "    df.loc[:, 'steadyFCF'] = df['steadyCF'] + df['netBorrowings'].apply(min, args=(0,))\n",
    "    df.loc[:, 'growthCapex'] = np.abs(df.capitalExpenditures) - df.depreciation\n",
    "    df.loc[:, 'sbcAddbacks'] = fs_total_subset(\n",
    "        df, ['changeToNetincome', 'changeToOperatingActivities'])\n",
    "    \n",
    "    return (df[valid_cols(df, summary)])\n",
    "\n",
    "def get_IS_metrics(symbol, cf_sum):\n",
    "    # calculates how much cost invested in growth\n",
    "    df = latest_finIS[latest_finIS.symbol == symbol]\n",
    "    df = df.dropna(subset=['totalOperatingExpenses']).sort_index()\n",
    "    df = fs_append_ltm(df[df.period == 'A'], df[df.period == 'Q'], False, excl_cols)\n",
    "    # print_labels(\"IS\", df)\n",
    "\n",
    "    cash_cost_growth = ['researchDevelopment',\n",
    "                        'sellingGeneralAdministrative']\n",
    "    summary = ['totalRevenue','growthCost']\n",
    "\n",
    "    cost_gr_df = fs_total_subset(df, cash_cost_growth)\n",
    "    df.loc[:, 'growthCost'] = (cost_gr_df - cost_gr_df.shift(1)) \\\n",
    "        - cf_sum.sbcAddbacks.apply(min, args=(0,))\n",
    "\n",
    "    return (df[valid_cols(df, summary)])\n",
    "\n",
    "def get_val_summary(bs_sum, cf_sum, is_sum):  \n",
    "    # calculate ROA, ROE and asset turnover\n",
    "    val_df = bs_sum.copy()\n",
    "    val_df[cf_sum.columns] = cf_sum\n",
    "    val_df[is_sum.columns] = is_sum\n",
    "    \n",
    "    val_df['avgTotalAssets'] = val_df['totalAssets'].rolling(2).mean() # avg asset base\n",
    "    val_df['avgAssetBaseLC'] = val_df['adjAssetBaseLessCash'].rolling(2).mean() # avg asset base\n",
    "    val_df.avgTotalAssets[0] = val_df.totalAssets[0]\n",
    "    val_df.avgAssetBaseLC[0] = val_df.adjAssetBaseLessCash[0]\n",
    "    val_df['reinvCapital'] = (val_df['growthCapex'] + val_df['growthCost']).apply(max, args=(0,))\n",
    "    val_df['ROA'] = (val_df.steadyCF / val_df.avgTotalAssets)\n",
    "    val_df['ROE'] = (val_df.steadyFCF / val_df.avgAssetBaseLC)\n",
    "    val_df['AT'] = (val_df.totalRevenue / val_df.avgTotalAssets)\n",
    "    val_df['AAT'] = (val_df.totalRevenue / val_df.avgAssetBaseLC)\n",
    "\n",
    "    return val_df"
   ]
  },
  {
   "cell_type": "code",
   "execution_count": 208,
   "metadata": {},
   "outputs": [],
   "source": [
    "# PENDING: need to add symbol and storeDate so we can save as an aggregate dataset\n",
    "bs_sum = get_BS_metrics(symbol)\n",
    "cf_sum = get_CF_metrics(symbol)\n",
    "is_sum = get_IS_metrics(symbol, cf_sum)\n",
    "\n",
    "val_df = get_val_summary(bs_sum, cf_sum, is_sum)"
   ]
  },
  {
   "cell_type": "code",
   "execution_count": 209,
   "metadata": {},
   "outputs": [
    {
     "data": {
      "text/html": [
       "<div>\n",
       "<style scoped>\n",
       "    .dataframe tbody tr th:only-of-type {\n",
       "        vertical-align: middle;\n",
       "    }\n",
       "\n",
       "    .dataframe tbody tr th {\n",
       "        vertical-align: top;\n",
       "    }\n",
       "\n",
       "    .dataframe thead th {\n",
       "        text-align: right;\n",
       "    }\n",
       "</style>\n",
       "<table border=\"1\" class=\"dataframe\">\n",
       "  <thead>\n",
       "    <tr style=\"text-align: right;\">\n",
       "      <th>endDate</th>\n",
       "      <th>2016-03-30</th>\n",
       "      <th>2017-03-30</th>\n",
       "      <th>2018-03-30</th>\n",
       "      <th>2018-12-30</th>\n",
       "    </tr>\n",
       "  </thead>\n",
       "  <tbody>\n",
       "    <tr>\n",
       "      <th>totalAssets</th>\n",
       "      <td>364.2</td>\n",
       "      <td>506.8</td>\n",
       "      <td>717.1</td>\n",
       "      <td>917.9</td>\n",
       "    </tr>\n",
       "    <tr>\n",
       "      <th>adjAssetBaseLessCash</th>\n",
       "      <td>181.0</td>\n",
       "      <td>280.6</td>\n",
       "      <td>448.0</td>\n",
       "      <td>602.8</td>\n",
       "    </tr>\n",
       "    <tr>\n",
       "      <th>netDebt</th>\n",
       "      <td>-183.3</td>\n",
       "      <td>-226.2</td>\n",
       "      <td>-269.1</td>\n",
       "      <td>-315.2</td>\n",
       "    </tr>\n",
       "    <tr>\n",
       "      <th>totalRevenue</th>\n",
       "      <td>101.1</td>\n",
       "      <td>158.3</td>\n",
       "      <td>250.3</td>\n",
       "      <td>345.3</td>\n",
       "    </tr>\n",
       "    <tr>\n",
       "      <th>steadyCF</th>\n",
       "      <td>49.9</td>\n",
       "      <td>66.1</td>\n",
       "      <td>103.3</td>\n",
       "      <td>118.6</td>\n",
       "    </tr>\n",
       "    <tr>\n",
       "      <th>steadyFCF</th>\n",
       "      <td>49.9</td>\n",
       "      <td>66.1</td>\n",
       "      <td>103.3</td>\n",
       "      <td>118.6</td>\n",
       "    </tr>\n",
       "    <tr>\n",
       "      <th>reinvCapital</th>\n",
       "      <td>NaN</td>\n",
       "      <td>14.7</td>\n",
       "      <td>28.6</td>\n",
       "      <td>64.3</td>\n",
       "    </tr>\n",
       "  </tbody>\n",
       "</table>\n",
       "</div>"
      ],
      "text/plain": [
       "endDate               2016-03-30  2017-03-30  2018-03-30  2018-12-30\n",
       "totalAssets                364.2       506.8       717.1       917.9\n",
       "adjAssetBaseLessCash       181.0       280.6       448.0       602.8\n",
       "netDebt                   -183.3      -226.2      -269.1      -315.2\n",
       "totalRevenue               101.1       158.3       250.3       345.3\n",
       "steadyCF                    49.9        66.1       103.3       118.6\n",
       "steadyFCF                   49.9        66.1       103.3       118.6\n",
       "reinvCapital                 NaN        14.7        28.6        64.3"
      ]
     },
     "execution_count": 209,
     "metadata": {},
     "output_type": "execute_result"
    }
   ],
   "source": [
    "(val_df[key_cols[:-4]] / UNIT_SCALE).T.round(1)"
   ]
  },
  {
   "cell_type": "code",
   "execution_count": 210,
   "metadata": {},
   "outputs": [
    {
     "data": {
      "text/html": [
       "<div>\n",
       "<style scoped>\n",
       "    .dataframe tbody tr th:only-of-type {\n",
       "        vertical-align: middle;\n",
       "    }\n",
       "\n",
       "    .dataframe tbody tr th {\n",
       "        vertical-align: top;\n",
       "    }\n",
       "\n",
       "    .dataframe thead th {\n",
       "        text-align: right;\n",
       "    }\n",
       "</style>\n",
       "<table border=\"1\" class=\"dataframe\">\n",
       "  <thead>\n",
       "    <tr style=\"text-align: right;\">\n",
       "      <th>endDate</th>\n",
       "      <th>2016-03-30</th>\n",
       "      <th>2017-03-30</th>\n",
       "      <th>2018-03-30</th>\n",
       "      <th>2018-12-30</th>\n",
       "    </tr>\n",
       "  </thead>\n",
       "  <tbody>\n",
       "    <tr>\n",
       "      <th>ROA</th>\n",
       "      <td>0.14</td>\n",
       "      <td>0.15</td>\n",
       "      <td>0.17</td>\n",
       "      <td>0.15</td>\n",
       "    </tr>\n",
       "    <tr>\n",
       "      <th>ROE</th>\n",
       "      <td>0.28</td>\n",
       "      <td>0.29</td>\n",
       "      <td>0.28</td>\n",
       "      <td>0.23</td>\n",
       "    </tr>\n",
       "    <tr>\n",
       "      <th>AT</th>\n",
       "      <td>0.28</td>\n",
       "      <td>0.36</td>\n",
       "      <td>0.41</td>\n",
       "      <td>0.42</td>\n",
       "    </tr>\n",
       "    <tr>\n",
       "      <th>AAT</th>\n",
       "      <td>0.56</td>\n",
       "      <td>0.69</td>\n",
       "      <td>0.69</td>\n",
       "      <td>0.66</td>\n",
       "    </tr>\n",
       "  </tbody>\n",
       "</table>\n",
       "</div>"
      ],
      "text/plain": [
       "endDate  2016-03-30  2017-03-30  2018-03-30  2018-12-30\n",
       "ROA            0.14        0.15        0.17        0.15\n",
       "ROE            0.28        0.29        0.28        0.23\n",
       "AT             0.28        0.36        0.41        0.42\n",
       "AAT            0.56        0.69        0.69        0.66"
      ]
     },
     "execution_count": 210,
     "metadata": {},
     "output_type": "execute_result"
    }
   ],
   "source": [
    "(val_df[val_df.columns[-4:]]).T.round(2)"
   ]
  },
  {
   "cell_type": "code",
   "execution_count": 211,
   "metadata": {
    "code_folding": []
   },
   "outputs": [
    {
     "data": {
      "text/plain": [
       "0.40484053480411475"
      ]
     },
     "execution_count": 211,
     "metadata": {},
     "output_type": "execute_result"
    }
   ],
   "source": [
    "# historical growth rates\n",
    "growth_cols = ['totalRevenue','totalAssets', 'totalCashFromOperatingActivities', 'steadyCF', 'steadyFCF', 'capitalExpenditures', 'reinvCapital']\n",
    "# growth_cols = ['steadyFCF']\n",
    "growth_rate = max(cagr_series(val_df[growth_cols]).median(), 0)\n",
    "growth_rate"
   ]
  },
  {
   "cell_type": "code",
   "execution_count": 212,
   "metadata": {},
   "outputs": [
    {
     "data": {
      "text/plain": [
       "ROA    0.150640\n",
       "ROE    0.267835\n",
       "AT     0.368094\n",
       "AAT    0.647235\n",
       "dtype: float64"
      ]
     },
     "execution_count": 212,
     "metadata": {},
     "output_type": "execute_result"
    }
   ],
   "source": [
    "ROIC_stats = val_df[['ROA', 'ROE','AT', 'AAT']].mean()\n",
    "ROE = ROIC_stats.ROE\n",
    "ROIC_stats"
   ]
  },
  {
   "cell_type": "code",
   "execution_count": 213,
   "metadata": {},
   "outputs": [
    {
     "data": {
      "text/plain": [
       "[0.026660000000000003,\n",
       " 0.05,\n",
       " 0.005,\n",
       " 0.08166000000000001,\n",
       " 12.25,\n",
       " 24.39521604412344]"
      ]
     },
     "execution_count": 213,
     "metadata": {},
     "output_type": "execute_result"
    }
   ],
   "source": [
    "# Calculate valuation multiples\n",
    "mult = round( 1 / discount_rate, 2)\n",
    "gr_mult = mult + (growth_rate * growth_cap_factor * 100)\n",
    "\n",
    "# save assumptions during daily computations\n",
    "[base_rate, risk_premium, proj_incr, discount, mult, gr_mult]"
   ]
  },
  {
   "cell_type": "code",
   "execution_count": 214,
   "metadata": {},
   "outputs": [],
   "source": [
    "# calculate intrinsic value of equity\n",
    "npv_CF = val_df.steadyCF[-1] * mult\n",
    "npv_GR = (val_df.reinvCapital.sum() * ROE * gr_mult) \\\n",
    "    if val_df.reinvCapital.sum() > 0 else 0"
   ]
  },
  {
   "cell_type": "code",
   "execution_count": 215,
   "metadata": {},
   "outputs": [],
   "source": [
    "# FX calcs\n",
    "curr = fin_stats_df.iloc[0].financialCurrency\n",
    "FX = 1 if curr == 'USD' else get_FX(FXs, curr)"
   ]
  },
  {
   "cell_type": "code",
   "execution_count": 216,
   "metadata": {},
   "outputs": [
    {
     "data": {
      "text/plain": [
       "[214615279481.0798, 46569984781.09901, 103858259385.3187, 365043523647.4975]"
      ]
     },
     "execution_count": 216,
     "metadata": {},
     "output_type": "execute_result"
    }
   ],
   "source": [
    "# given dual class shares we equity value only, not value per share (manual)\n",
    "components = [x * FX for x in [npv_CF, -val_df.netDebt[-1], npv_GR]]\n",
    "components.append(sum(components))\n",
    "equityVal = components[-1]\n",
    "components"
   ]
  },
  {
   "cell_type": "code",
   "execution_count": 217,
   "metadata": {},
   "outputs": [],
   "source": [
    "currentVal = quote_df.iloc[0].marketCap\n",
    "prem_disc = currentVal / equityVal"
   ]
  },
  {
   "cell_type": "code",
   "execution_count": 218,
   "metadata": {},
   "outputs": [
    {
     "name": "stdout",
     "output_type": "stream",
     "text": [
      "Current Market Cap: 430.5, Valuation: 365.0, Prem/Disc. 1.18\n"
     ]
    }
   ],
   "source": [
    "print_fmt = 'Current Market Cap: {}, Valuation: {}, Prem/Disc. {}'\n",
    "print(print_fmt.format(\n",
    "    round(currentVal / UNIT_SCALE, 1), \n",
    "    round(equityVal / UNIT_SCALE, 1),\n",
    "    round(prem_disc, 2)))"
   ]
  },
  {
   "cell_type": "code",
   "execution_count": null,
   "metadata": {},
   "outputs": [],
   "source": []
  }
 ],
 "metadata": {
  "kernelspec": {
   "display_name": "Python 3",
   "language": "python",
   "name": "python3"
  },
  "language_info": {
   "codemirror_mode": {
    "name": "ipython",
    "version": 3
   },
   "file_extension": ".py",
   "mimetype": "text/x-python",
   "name": "python",
   "nbconvert_exporter": "python",
   "pygments_lexer": "ipython3",
   "version": "3.7.0"
  },
  "toc": {
   "base_numbering": 1,
   "nav_menu": {},
   "number_sections": true,
   "sideBar": true,
   "skip_h1_title": false,
   "title_cell": "Table of Contents",
   "title_sidebar": "Contents",
   "toc_cell": false,
   "toc_position": {},
   "toc_section_display": true,
   "toc_window_display": false
  }
 },
 "nbformat": 4,
 "nbformat_minor": 2
}
