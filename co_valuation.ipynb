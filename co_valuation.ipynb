{
 "cells": [
  {
   "cell_type": "code",
   "execution_count": 1,
   "metadata": {
    "ExecuteTime": {
     "end_time": "2018-10-08T01:36:51.815633Z",
     "start_time": "2018-10-08T01:36:50.219308Z"
    }
   },
   "outputs": [
    {
     "name": "stdout",
     "output_type": "stream",
     "text": [
      "Loading config.json\n",
      "Loading file quote/csv/2019-02-15\n",
      "Loading file summary-categories/assetProfile\n",
      "Loading file summary-categories/defaultKeyStatistics/2019-02-15\n",
      "Loading file summary-categories/financialData/2019-02-15\n",
      "Loading file summary-categories/financials-BS\n",
      "Loading file summary-categories/financials-IS\n"
     ]
    },
    {
     "name": "stderr",
     "output_type": "stream",
     "text": [
      "/Users/vveiga/miniconda3/envs/inception/lib/python3.7/site-packages/pandas/core/generic.py:4405: SettingWithCopyWarning: \n",
      "A value is trying to be set on a copy of a slice from a DataFrame.\n",
      "Try using .loc[row_indexer,col_indexer] = value instead\n",
      "\n",
      "See the caveats in the documentation: http://pandas.pydata.org/pandas-docs/stable/indexing.html#indexing-view-versus-copy\n",
      "  self[name] = value\n"
     ]
    },
    {
     "name": "stdout",
     "output_type": "stream",
     "text": [
      "Loading file summary-categories/financials-CF\n"
     ]
    }
   ],
   "source": [
    "# imports\n",
    "%reload_ext autoreload\n",
    "%autoreload 2\n",
    "%matplotlib inline \n",
    "\n",
    "from basic_utils import *\n",
    "from valuation import *"
   ]
  },
  {
   "cell_type": "markdown",
   "metadata": {
    "heading_collapsed": true
   },
   "source": [
    "### Single company valuation using function"
   ]
  },
  {
   "cell_type": "code",
   "execution_count": 2,
   "metadata": {
    "hidden": true
   },
   "outputs": [
    {
     "name": "stderr",
     "output_type": "stream",
     "text": [
      "/Users/vveiga/miniconda3/envs/inception/lib/python3.7/site-packages/pandas/core/indexing.py:543: SettingWithCopyWarning: \n",
      "A value is trying to be set on a copy of a slice from a DataFrame.\n",
      "Try using .loc[row_indexer,col_indexer] = value instead\n",
      "\n",
      "See the caveats in the documentation: http://pandas.pydata.org/pandas-docs/stable/indexing.html#indexing-view-versus-copy\n",
      "  self.obj[item] = s\n"
     ]
    },
    {
     "data": {
      "text/plain": [
       "{'symbol': 'BABA',\n",
       " 'storeDate': 1550390400.0,\n",
       " 'baseRate': 0.026660000000000003,\n",
       " 'equityRiskPremium': 0.05,\n",
       " 'projFedFundsIncr': 0.005,\n",
       " 'discountRate': 0.08166000000000001,\n",
       " 'baseMult': 12.25,\n",
       " 'growthRate': 0.40484053480411475,\n",
       " 'growthMult': 24.39521604412344,\n",
       " 'ROA': 0.15063968649973725,\n",
       " 'ROE': 0.26783469744477406,\n",
       " 'AT': 0.3680942014130213,\n",
       " 'AAT': 0.6472352729865041,\n",
       " 'steadyCF': 1452494750000.0,\n",
       " 'totalReinvCapital': 107578000000.0,\n",
       " 'projCashROE': 28813121081.713905,\n",
       " 'npvGrowthCF': 702902313693.8984,\n",
       " 'npvSteadyCF': 214615279481.0798,\n",
       " 'netDebt': 46569984781.09901,\n",
       " 'npvGrowth': 103858259385.3187,\n",
       " 'equityValue': 365043523647.4975,\n",
       " 'currentValue': 430509260800.0,\n",
       " 'premDisc': 1.1793367993448343}"
      ]
     },
     "execution_count": 2,
     "metadata": {},
     "output_type": "execute_result"
    }
   ],
   "source": [
    "waterfall, val_df = value_equity('BABA')\n",
    "waterfall"
   ]
  },
  {
   "cell_type": "markdown",
   "metadata": {},
   "source": [
    "### Full universe loop"
   ]
  },
  {
   "cell_type": "code",
   "execution_count": 440,
   "metadata": {},
   "outputs": [],
   "source": [
    "eqty_symbols = latest_quotes[latest_quotes.quoteType == 'EQUITY'].symbol.unique().tolist()\n",
    "excl_list = ['TSM'] # one-time exclude because missing \n",
    "eqty_symbols = [x for x in eqty_symbols if x not in excl_list]"
   ]
  },
  {
   "cell_type": "code",
   "execution_count": 503,
   "metadata": {
    "scrolled": true
   },
   "outputs": [
    {
     "name": "stdout",
     "output_type": "stream",
     "text": [
      "Intrinsic value for 0700.HK\n"
     ]
    },
    {
     "name": "stderr",
     "output_type": "stream",
     "text": [
      "/Users/vveiga/miniconda3/envs/inception/lib/python3.7/site-packages/pandas/core/indexing.py:543: SettingWithCopyWarning: \n",
      "A value is trying to be set on a copy of a slice from a DataFrame.\n",
      "Try using .loc[row_indexer,col_indexer] = value instead\n",
      "\n",
      "See the caveats in the documentation: http://pandas.pydata.org/pandas-docs/stable/indexing.html#indexing-view-versus-copy\n",
      "  self.obj[item] = s\n"
     ]
    },
    {
     "name": "stdout",
     "output_type": "stream",
     "text": [
      "Intrinsic value for 1810.HK\n",
      "Intrinsic value for 3690.HK\n",
      "Intrinsic value for 9984.T\n",
      "Intrinsic value for A\n"
     ]
    },
    {
     "name": "stderr",
     "output_type": "stream",
     "text": [
      "/Users/vveiga/miniconda3/envs/inception/lib/python3.7/site-packages/ipykernel_launcher.py:80: SettingWithCopyWarning: \n",
      "A value is trying to be set on a copy of a slice from a DataFrame\n",
      "\n",
      "See the caveats in the documentation: http://pandas.pydata.org/pandas-docs/stable/indexing.html#indexing-view-versus-copy\n",
      "/Users/vveiga/miniconda3/envs/inception/lib/python3.7/site-packages/ipykernel_launcher.py:81: SettingWithCopyWarning: \n",
      "A value is trying to be set on a copy of a slice from a DataFrame\n",
      "\n",
      "See the caveats in the documentation: http://pandas.pydata.org/pandas-docs/stable/indexing.html#indexing-view-versus-copy\n"
     ]
    },
    {
     "name": "stdout",
     "output_type": "stream",
     "text": [
      "Intrinsic value for AAPL\n",
      "Intrinsic value for ABBV\n",
      "Intrinsic value for ABC\n",
      "Intrinsic value for ABT\n",
      "Intrinsic value for ADBE\n",
      "Intrinsic value for ADI\n",
      "Intrinsic value for ADSK\n",
      "Intrinsic value for AEIS\n",
      "Intrinsic value for AEO\n",
      "Intrinsic value for AGN\n",
      "Intrinsic value for AKAM\n",
      "Intrinsic value for ALGN\n",
      "Intrinsic value for ALLO\n"
     ]
    },
    {
     "name": "stderr",
     "output_type": "stream",
     "text": [
      "/Users/vveiga/miniconda3/envs/inception/lib/python3.7/site-packages/numpy/lib/nanfunctions.py:1019: RuntimeWarning: Mean of empty slice\n",
      "  return np.nanmean(a, axis, out=out, keepdims=keepdims)\n"
     ]
    },
    {
     "name": "stdout",
     "output_type": "stream",
     "text": [
      "Intrinsic value for ALRM\n",
      "Intrinsic value for ALXN\n",
      "Intrinsic value for AMAT\n",
      "Intrinsic value for AMD\n",
      "Intrinsic value for AMGN\n",
      "Intrinsic value for AMZN\n",
      "Intrinsic value for ANET\n",
      "Intrinsic value for ANSS\n",
      "Intrinsic value for ANTM\n",
      "Intrinsic value for APH\n",
      "Intrinsic value for APTV\n",
      "Intrinsic value for ATHN\n",
      "Intrinsic value for ATVI\n",
      "Intrinsic value for AVGO\n",
      "Intrinsic value for AVX\n",
      "Intrinsic value for AYX\n",
      "Intrinsic value for BABA\n",
      "Intrinsic value for BAX\n",
      "Intrinsic value for BBY\n",
      "Intrinsic value for BC\n",
      "Intrinsic value for BDX\n",
      "Intrinsic value for BGNE\n",
      "Intrinsic value for BIDU\n",
      "Intrinsic value for BIIB\n",
      "Intrinsic value for BKNG\n",
      "Intrinsic value for BL\n",
      "Intrinsic value for BLUE\n",
      "Intrinsic value for BMY\n",
      "Intrinsic value for BOX\n",
      "Intrinsic value for BRKR\n",
      "Intrinsic value for BRKS\n",
      "Intrinsic value for BSX\n",
      "Intrinsic value for BWA\n",
      "Intrinsic value for CAH\n",
      "Intrinsic value for CBM\n",
      "Intrinsic value for CCL\n",
      "Intrinsic value for CCMP\n",
      "Intrinsic value for CDNS\n",
      "Intrinsic value for CELG\n",
      "Intrinsic value for CERN\n",
      "Intrinsic value for CERS\n",
      "Intrinsic value for CGNX\n",
      "Intrinsic value for CHKP\n",
      "Intrinsic value for CI\n",
      "Intrinsic value for CLLS\n",
      "Intrinsic value for CLVS\n",
      "Intrinsic value for CNC\n",
      "Intrinsic value for COO\n",
      "Intrinsic value for COUP\n",
      "Intrinsic value for CREE\n",
      "Intrinsic value for CRM\n",
      "Intrinsic value for CRSP\n",
      "Intrinsic value for CRUS\n",
      "Intrinsic value for CSCO\n",
      "Intrinsic value for CSOD\n",
      "Intrinsic value for CTRP\n",
      "Intrinsic value for CTXS\n",
      "Intrinsic value for CVLT\n",
      "Intrinsic value for CVS\n",
      "Intrinsic value for CYBR\n",
      "Intrinsic value for DATA\n",
      "Intrinsic value for DBX\n",
      "Intrinsic value for DDD\n",
      "Intrinsic value for DECK\n",
      "Intrinsic value for DGX\n",
      "Intrinsic value for DHR\n",
      "Intrinsic value for DLB\n",
      "Intrinsic value for DLPH\n",
      "Intrinsic value for DMLRY\n",
      "Intrinsic value for DORM\n",
      "Intrinsic value for DOX\n",
      "Intrinsic value for DSW\n",
      "Intrinsic value for DVA\n",
      "Intrinsic value for DXCM\n",
      "Intrinsic value for EA\n",
      "Intrinsic value for EBAY\n",
      "Intrinsic value for EBS\n",
      "Intrinsic value for EDIT\n",
      "Intrinsic value for EDU\n",
      "Intrinsic value for ELLI\n",
      "Intrinsic value for ETSY\n",
      "Intrinsic value for EW\n",
      "Intrinsic value for EXEL\n",
      "Intrinsic value for EXPE\n",
      "Intrinsic value for F\n",
      "Intrinsic value for FB\n",
      "Intrinsic value for FFIV\n",
      "Intrinsic value for FIVE\n",
      "Intrinsic value for FIVN\n",
      "Intrinsic value for FL\n",
      "Intrinsic value for FLIR\n",
      "Intrinsic value for FTNT\n",
      "Intrinsic value for GILD\n",
      "Intrinsic value for GLW\n",
      "Intrinsic value for GM\n",
      "Intrinsic value for GMED\n",
      "Intrinsic value for GNTX\n",
      "Intrinsic value for GOOG\n",
      "Intrinsic value for GPC\n",
      "Intrinsic value for GPS\n",
      "Intrinsic value for GRMN\n",
      "Intrinsic value for GRUB\n",
      "Intrinsic value for GSKY\n",
      "Intrinsic value for GWRE\n",
      "Intrinsic value for HALO\n",
      "Intrinsic value for HCA\n",
      "Intrinsic value for HD\n",
      "Intrinsic value for HOLX\n",
      "Intrinsic value for HPE\n",
      "Intrinsic value for HPQ\n",
      "Intrinsic value for HQY\n",
      "Intrinsic value for HRS\n",
      "Intrinsic value for HSIC\n",
      "Intrinsic value for HUBS\n",
      "Intrinsic value for HUM\n",
      "Intrinsic value for HUYA\n",
      "Intrinsic value for ICE\n",
      "Intrinsic value for ICUI\n",
      "Intrinsic value for IDXX\n",
      "Intrinsic value for IFNNY\n",
      "Intrinsic value for ILMN\n",
      "Intrinsic value for INCY\n",
      "Intrinsic value for INTC\n",
      "Intrinsic value for INTU\n",
      "Intrinsic value for IONS\n",
      "Intrinsic value for IOVA\n",
      "Intrinsic value for IPGP\n",
      "Intrinsic value for IQ\n",
      "Intrinsic value for IQV\n",
      "Intrinsic value for IRBT\n",
      "Intrinsic value for ISRG\n",
      "Intrinsic value for JD\n",
      "Intrinsic value for JNJ\n",
      "Intrinsic value for JNPR\n",
      "Intrinsic value for KLAC\n",
      "Intrinsic value for LGND\n",
      "Intrinsic value for LH\n",
      "Intrinsic value for LKQ\n",
      "Intrinsic value for LLY\n",
      "Intrinsic value for LOGM\n",
      "Intrinsic value for LOW\n",
      "Intrinsic value for LULU\n",
      "Intrinsic value for MA\n",
      "Intrinsic value for MANH\n",
      "Intrinsic value for MASI\n",
      "Intrinsic value for MCHP\n",
      "Intrinsic value for MCK\n",
      "Intrinsic value for MDSO\n",
      "Intrinsic value for MDT\n",
      "Intrinsic value for MELI\n",
      "Intrinsic value for MIME\n",
      "Intrinsic value for MKSI\n",
      "Intrinsic value for MLNX\n",
      "Intrinsic value for MOH\n",
      "Intrinsic value for MOMO\n",
      "Intrinsic value for MPWR\n",
      "Intrinsic value for MRK\n",
      "Intrinsic value for MRVL\n",
      "Intrinsic value for MSFT\n",
      "Intrinsic value for MSG\n",
      "Intrinsic value for MSI\n",
      "Intrinsic value for MTD\n",
      "Intrinsic value for MTLS\n",
      "Intrinsic value for MU\n",
      "Intrinsic value for MXIM\n",
      "Intrinsic value for MYGN\n",
      "Intrinsic value for MYL\n",
      "Intrinsic value for NATI\n",
      "Intrinsic value for NCLH\n",
      "Intrinsic value for NEOG\n",
      "Intrinsic value for NEWR\n",
      "Intrinsic value for NFLX\n",
      "Intrinsic value for NICE\n",
      "Intrinsic value for NKE\n",
      "Intrinsic value for NKTR\n",
      "Intrinsic value for NOW\n",
      "Intrinsic value for NSTG\n",
      "Intrinsic value for NTAP\n",
      "Intrinsic value for NTGR\n",
      "Intrinsic value for NTLA\n",
      "Intrinsic value for NVDA\n",
      "Intrinsic value for NVTA\n",
      "Intrinsic value for NXPI\n",
      "Intrinsic value for OLED\n",
      "Intrinsic value for ONCE\n",
      "Intrinsic value for OPRA\n",
      "Intrinsic value for ORBK\n",
      "Intrinsic value for ORCL\n",
      "Intrinsic value for PACB\n",
      "Intrinsic value for PANW\n",
      "Intrinsic value for PAYC\n",
      "Intrinsic value for PCTY\n",
      "Intrinsic value for PEGA\n",
      "Intrinsic value for PFE\n",
      "Intrinsic value for PKI\n",
      "Intrinsic value for PLCE\n",
      "Intrinsic value for PLT\n",
      "Intrinsic value for POWI\n",
      "Intrinsic value for PRGO\n",
      "Intrinsic value for PSTG\n",
      "Intrinsic value for PTC\n",
      "Intrinsic value for PYPL\n",
      "Intrinsic value for QCOM\n",
      "Intrinsic value for QLYS\n",
      "Intrinsic value for QRVO\n",
      "Intrinsic value for RCL\n",
      "Intrinsic value for RDWR\n",
      "Intrinsic value for RGEN\n",
      "Intrinsic value for RHT\n",
      "Intrinsic value for RMD\n",
      "Intrinsic value for RNG\n",
      "Intrinsic value for ROG\n",
      "Intrinsic value for ROST\n",
      "Intrinsic value for RUBY\n",
      "Intrinsic value for SHOO\n",
      "Intrinsic value for SHOP\n",
      "Intrinsic value for SKX\n",
      "Intrinsic value for SLAB\n",
      "Intrinsic value for SMTC\n",
      "Intrinsic value for SNPS\n",
      "Intrinsic value for SOGO\n",
      "Intrinsic value for SPLK\n",
      "Intrinsic value for SPOT\n",
      "Intrinsic value for SQ\n",
      "Intrinsic value for SSYS\n",
      "Intrinsic value for STMP\n",
      "Intrinsic value for STX\n",
      "Intrinsic value for SUPN\n",
      "Intrinsic value for SWKS\n",
      "Intrinsic value for SYK\n",
      "Intrinsic value for TAL\n",
      "Intrinsic value for TCEHY\n",
      "Intrinsic value for TDC\n",
      "Intrinsic value for TDOC\n",
      "Intrinsic value for TEL\n",
      "Intrinsic value for TER\n",
      "Intrinsic value for TEVA\n",
      "Intrinsic value for TJX\n",
      "Intrinsic value for TM\n",
      "Intrinsic value for TME\n",
      "Intrinsic value for TMO\n",
      "Intrinsic value for TREE\n",
      "Intrinsic value for TRIP\n",
      "Intrinsic value for TRMB\n",
      "Intrinsic value for TSEM\n",
      "Intrinsic value for TSLA\n",
      "Intrinsic value for TSS\n",
      "Intrinsic value for TTD\n",
      "Intrinsic value for TTWO\n",
      "Intrinsic value for TWOU\n",
      "Intrinsic value for TWTR\n",
      "Intrinsic value for TXN\n",
      "Intrinsic value for TYL\n",
      "Intrinsic value for UBNT\n",
      "Intrinsic value for UHS\n",
      "Intrinsic value for ULTA\n",
      "Intrinsic value for ULTI\n",
      "Intrinsic value for UNH\n",
      "Intrinsic value for URBN\n",
      "Intrinsic value for URGN\n",
      "Intrinsic value for UTHR\n",
      "Intrinsic value for V\n",
      "Intrinsic value for VAR\n",
      "Intrinsic value for VC\n",
      "Intrinsic value for VCYT\n",
      "Intrinsic value for VEEV\n",
      "Intrinsic value for VIPS\n",
      "Intrinsic value for VRSK\n",
      "Intrinsic value for VRSN\n",
      "Intrinsic value for VRTX\n",
      "Intrinsic value for VSH\n",
      "Intrinsic value for WAT\n",
      "Intrinsic value for WB\n",
      "Intrinsic value for WCG\n",
      "Intrinsic value for WDAY\n",
      "Intrinsic value for WDC\n",
      "Intrinsic value for WIX\n",
      "Intrinsic value for WST\n",
      "Intrinsic value for WUBA\n",
      "Intrinsic value for WWE\n",
      "Intrinsic value for XLNX\n",
      "Intrinsic value for XRAY\n",
      "Intrinsic value for YELP\n",
      "Intrinsic value for YY\n",
      "Intrinsic value for ZBH\n",
      "Intrinsic value for ZEN\n",
      "Intrinsic value for ZTS\n",
      "Intrinsic value for ZUO\n"
     ]
    }
   ],
   "source": [
    "# full loop value each company\n",
    "waterfalls = pd.DataFrame() # key assumptions\n",
    "val_sheets = pd.DataFrame() # valuation datasets for each co\n",
    "\n",
    "for symbol in eqty_symbols:\n",
    "    print('Intrinsic value for {}'.format(symbol))\n",
    "    waterfall, val_df = value_equity(symbol)\n",
    "    val_sheets = val_sheets.append(val_df)\n",
    "    waterfalls = waterfalls.append(waterfall, ignore_index=True)\n",
    "waterfalls.set_index('symbol', inplace=True)\n",
    "\n",
    "# save the results to S3\n",
    "csv_store(waterfalls, 'valuation/waterfall/', csv_ext.format(str(today_date)))\n",
    "csv_store(val_sheets, 'valuation/backup/', csv_ext.format(str(today_date)))"
   ]
  },
  {
   "cell_type": "code",
   "execution_count": 510,
   "metadata": {},
   "outputs": [
    {
     "data": {
      "text/html": [
       "<div>\n",
       "<style scoped>\n",
       "    .dataframe tbody tr th:only-of-type {\n",
       "        vertical-align: middle;\n",
       "    }\n",
       "\n",
       "    .dataframe tbody tr th {\n",
       "        vertical-align: top;\n",
       "    }\n",
       "\n",
       "    .dataframe thead th {\n",
       "        text-align: right;\n",
       "    }\n",
       "</style>\n",
       "<table border=\"1\" class=\"dataframe\">\n",
       "  <thead>\n",
       "    <tr style=\"text-align: right;\">\n",
       "      <th></th>\n",
       "      <th>symbol</th>\n",
       "      <th>sector</th>\n",
       "      <th>industry</th>\n",
       "      <th>premDisc</th>\n",
       "    </tr>\n",
       "  </thead>\n",
       "  <tbody>\n",
       "    <tr>\n",
       "      <th>123</th>\n",
       "      <td>GPS</td>\n",
       "      <td>Consumer Cyclical</td>\n",
       "      <td>Apparel Stores</td>\n",
       "      <td>0.868393</td>\n",
       "    </tr>\n",
       "    <tr>\n",
       "      <th>280</th>\n",
       "      <td>TM</td>\n",
       "      <td>Consumer Cyclical</td>\n",
       "      <td>Auto Manufacturers</td>\n",
       "      <td>0.521518</td>\n",
       "    </tr>\n",
       "    <tr>\n",
       "      <th>203</th>\n",
       "      <td>NCLH</td>\n",
       "      <td>Consumer Cyclical</td>\n",
       "      <td>Leisure</td>\n",
       "      <td>0.812649</td>\n",
       "    </tr>\n",
       "    <tr>\n",
       "      <th>160</th>\n",
       "      <td>JD</td>\n",
       "      <td>Consumer Cyclical</td>\n",
       "      <td>Specialty Retail</td>\n",
       "      <td>0.708873</td>\n",
       "    </tr>\n",
       "    <tr>\n",
       "      <th>104</th>\n",
       "      <td>EXEL</td>\n",
       "      <td>Healthcare</td>\n",
       "      <td>Biotechnology</td>\n",
       "      <td>0.768923</td>\n",
       "    </tr>\n",
       "    <tr>\n",
       "      <th>209</th>\n",
       "      <td>NKTR</td>\n",
       "      <td>Healthcare</td>\n",
       "      <td>Biotechnology</td>\n",
       "      <td>0.581749</td>\n",
       "    </tr>\n",
       "    <tr>\n",
       "      <th>65</th>\n",
       "      <td>CNC</td>\n",
       "      <td>Healthcare</td>\n",
       "      <td>Health Care Plans</td>\n",
       "      <td>0.881086</td>\n",
       "    </tr>\n",
       "    <tr>\n",
       "      <th>133</th>\n",
       "      <td>HPQ</td>\n",
       "      <td>Technology</td>\n",
       "      <td>Computer Systems</td>\n",
       "      <td>0.696601</td>\n",
       "    </tr>\n",
       "    <tr>\n",
       "      <th>4</th>\n",
       "      <td>AAPL</td>\n",
       "      <td>Technology</td>\n",
       "      <td>Consumer Electronics</td>\n",
       "      <td>0.808809</td>\n",
       "    </tr>\n",
       "    <tr>\n",
       "      <th>266</th>\n",
       "      <td>STX</td>\n",
       "      <td>Technology</td>\n",
       "      <td>Data Storage</td>\n",
       "      <td>0.860319</td>\n",
       "    </tr>\n",
       "    <tr>\n",
       "      <th>291</th>\n",
       "      <td>TTWO</td>\n",
       "      <td>Technology</td>\n",
       "      <td>Electronic Gaming &amp; Multimedia</td>\n",
       "      <td>0.777056</td>\n",
       "    </tr>\n",
       "    <tr>\n",
       "      <th>39</th>\n",
       "      <td>BIDU</td>\n",
       "      <td>Technology</td>\n",
       "      <td>Internet Content &amp; Information</td>\n",
       "      <td>0.824172</td>\n",
       "    </tr>\n",
       "    <tr>\n",
       "      <th>107</th>\n",
       "      <td>FB</td>\n",
       "      <td>Technology</td>\n",
       "      <td>Internet Content &amp; Information</td>\n",
       "      <td>0.707896</td>\n",
       "    </tr>\n",
       "    <tr>\n",
       "      <th>120</th>\n",
       "      <td>GOOG</td>\n",
       "      <td>Technology</td>\n",
       "      <td>Internet Content &amp; Information</td>\n",
       "      <td>0.871409</td>\n",
       "    </tr>\n",
       "    <tr>\n",
       "      <th>319</th>\n",
       "      <td>WIX</td>\n",
       "      <td>Technology</td>\n",
       "      <td>Internet Content &amp; Information</td>\n",
       "      <td>0.570221</td>\n",
       "    </tr>\n",
       "    <tr>\n",
       "      <th>185</th>\n",
       "      <td>MKSI</td>\n",
       "      <td>Technology</td>\n",
       "      <td>Scientific &amp; Technical Instruments</td>\n",
       "      <td>0.886052</td>\n",
       "    </tr>\n",
       "    <tr>\n",
       "      <th>71</th>\n",
       "      <td>CRUS</td>\n",
       "      <td>Technology</td>\n",
       "      <td>Semiconductors</td>\n",
       "      <td>0.714399</td>\n",
       "    </tr>\n",
       "    <tr>\n",
       "      <th>150</th>\n",
       "      <td>INTC</td>\n",
       "      <td>Technology</td>\n",
       "      <td>Semiconductors</td>\n",
       "      <td>0.872226</td>\n",
       "    </tr>\n",
       "    <tr>\n",
       "      <th>268</th>\n",
       "      <td>SWKS</td>\n",
       "      <td>Technology</td>\n",
       "      <td>Semiconductors</td>\n",
       "      <td>0.831712</td>\n",
       "    </tr>\n",
       "  </tbody>\n",
       "</table>\n",
       "</div>"
      ],
      "text/plain": [
       "    symbol             sector                            industry  premDisc\n",
       "123    GPS  Consumer Cyclical                      Apparel Stores  0.868393\n",
       "280     TM  Consumer Cyclical                  Auto Manufacturers  0.521518\n",
       "203   NCLH  Consumer Cyclical                             Leisure  0.812649\n",
       "160     JD  Consumer Cyclical                    Specialty Retail  0.708873\n",
       "104   EXEL         Healthcare                       Biotechnology  0.768923\n",
       "209   NKTR         Healthcare                       Biotechnology  0.581749\n",
       "65     CNC         Healthcare                   Health Care Plans  0.881086\n",
       "133    HPQ         Technology                    Computer Systems  0.696601\n",
       "4     AAPL         Technology                Consumer Electronics  0.808809\n",
       "266    STX         Technology                        Data Storage  0.860319\n",
       "291   TTWO         Technology      Electronic Gaming & Multimedia  0.777056\n",
       "39    BIDU         Technology      Internet Content & Information  0.824172\n",
       "107     FB         Technology      Internet Content & Information  0.707896\n",
       "120   GOOG         Technology      Internet Content & Information  0.871409\n",
       "319    WIX         Technology      Internet Content & Information  0.570221\n",
       "185   MKSI         Technology  Scientific & Technical Instruments  0.886052\n",
       "71    CRUS         Technology                      Semiconductors  0.714399\n",
       "150   INTC         Technology                      Semiconductors  0.872226\n",
       "268   SWKS         Technology                      Semiconductors  0.831712"
      ]
     },
     "execution_count": 510,
     "metadata": {},
     "output_type": "execute_result"
    }
   ],
   "source": [
    "show = ['symbol', 'sector', 'industry', 'premDisc']\n",
    "mask = (waterfalls.premDisc > 0.5) & (waterfalls.premDisc < 0.9)\n",
    "# waterfalls[mask][show].sort_values(by='premDisc')\n",
    "val_pro_join = profile.join(waterfalls[mask], on='symbol', how='right', lsuffix='l_')\n",
    "val_pro_join[show].sort_values(by=['sector', 'industry'])"
   ]
  },
  {
   "cell_type": "markdown",
   "metadata": {
    "heading_collapsed": true
   },
   "source": [
    "### Single company analysis"
   ]
  },
  {
   "cell_type": "code",
   "execution_count": 6,
   "metadata": {
    "hidden": true
   },
   "outputs": [],
   "source": [
    "symbol = 'AAPL'\n",
    "waterfall = {}\n",
    "waterfall['symbol'] = symbol\n",
    "waterfall['storeDate'] = datetime.today()"
   ]
  },
  {
   "cell_type": "code",
   "execution_count": 7,
   "metadata": {
    "hidden": true
   },
   "outputs": [],
   "source": [
    "key_stats_df = latest_keystats[latest_keystats.symbol == symbol]\n",
    "fin_stats_df = latest_finstats[latest_finstats.symbol == symbol]\n",
    "quote_df = latest_quotes[latest_quotes.symbol == symbol]"
   ]
  },
  {
   "cell_type": "code",
   "execution_count": 8,
   "metadata": {
    "hidden": true
   },
   "outputs": [],
   "source": [
    "# PENDING: need to add symbol and storeDate so we can save as an aggregate dataset\n",
    "bs_sum = get_BS_metrics(symbol)\n",
    "cf_sum = get_CF_metrics(symbol)\n",
    "is_sum = get_IS_metrics(symbol, cf_sum)\n",
    "val_df = get_val_summary(bs_sum, cf_sum, is_sum)"
   ]
  },
  {
   "cell_type": "code",
   "execution_count": 9,
   "metadata": {
    "hidden": true
   },
   "outputs": [
    {
     "data": {
      "text/html": [
       "<div>\n",
       "<style scoped>\n",
       "    .dataframe tbody tr th:only-of-type {\n",
       "        vertical-align: middle;\n",
       "    }\n",
       "\n",
       "    .dataframe tbody tr th {\n",
       "        vertical-align: top;\n",
       "    }\n",
       "\n",
       "    .dataframe thead th {\n",
       "        text-align: right;\n",
       "    }\n",
       "</style>\n",
       "<table border=\"1\" class=\"dataframe\">\n",
       "  <thead>\n",
       "    <tr style=\"text-align: right;\">\n",
       "      <th>endDate</th>\n",
       "      <th>2016-09-23</th>\n",
       "      <th>2017-09-29</th>\n",
       "      <th>2018-09-28</th>\n",
       "      <th>2018-12-28</th>\n",
       "    </tr>\n",
       "  </thead>\n",
       "  <tbody>\n",
       "    <tr>\n",
       "      <th>totalAssets</th>\n",
       "      <td>321.7</td>\n",
       "      <td>375.3</td>\n",
       "      <td>365.7</td>\n",
       "      <td>373.7</td>\n",
       "    </tr>\n",
       "    <tr>\n",
       "      <th>adjAssetBaseLessCash</th>\n",
       "      <td>157.2</td>\n",
       "      <td>206.4</td>\n",
       "      <td>228.2</td>\n",
       "      <td>229.1</td>\n",
       "    </tr>\n",
       "    <tr>\n",
       "      <th>netDebt</th>\n",
       "      <td>-158.7</td>\n",
       "      <td>-165.2</td>\n",
       "      <td>-134.6</td>\n",
       "      <td>-142.3</td>\n",
       "    </tr>\n",
       "    <tr>\n",
       "      <th>totalRevenue</th>\n",
       "      <td>215.6</td>\n",
       "      <td>229.2</td>\n",
       "      <td>265.6</td>\n",
       "      <td>261.6</td>\n",
       "    </tr>\n",
       "    <tr>\n",
       "      <th>steadyCF</th>\n",
       "      <td>55.7</td>\n",
       "      <td>54.1</td>\n",
       "      <td>66.5</td>\n",
       "      <td>64.3</td>\n",
       "    </tr>\n",
       "    <tr>\n",
       "      <th>steadyFCF</th>\n",
       "      <td>55.7</td>\n",
       "      <td>54.1</td>\n",
       "      <td>66.5</td>\n",
       "      <td>57.7</td>\n",
       "    </tr>\n",
       "    <tr>\n",
       "      <th>reinvCapital</th>\n",
       "      <td>NaN</td>\n",
       "      <td>4.9</td>\n",
       "      <td>6.5</td>\n",
       "      <td>3.4</td>\n",
       "    </tr>\n",
       "  </tbody>\n",
       "</table>\n",
       "</div>"
      ],
      "text/plain": [
       "endDate               2016-09-23  2017-09-29  2018-09-28  2018-12-28\n",
       "totalAssets                321.7       375.3       365.7       373.7\n",
       "adjAssetBaseLessCash       157.2       206.4       228.2       229.1\n",
       "netDebt                   -158.7      -165.2      -134.6      -142.3\n",
       "totalRevenue               215.6       229.2       265.6       261.6\n",
       "steadyCF                    55.7        54.1        66.5        64.3\n",
       "steadyFCF                   55.7        54.1        66.5        57.7\n",
       "reinvCapital                 NaN         4.9         6.5         3.4"
      ]
     },
     "execution_count": 9,
     "metadata": {},
     "output_type": "execute_result"
    }
   ],
   "source": [
    "(val_df[key_cols[:-4]] / UNIT_SCALE).T.round(1)"
   ]
  },
  {
   "cell_type": "code",
   "execution_count": 10,
   "metadata": {
    "hidden": true
   },
   "outputs": [
    {
     "data": {
      "text/html": [
       "<div>\n",
       "<style scoped>\n",
       "    .dataframe tbody tr th:only-of-type {\n",
       "        vertical-align: middle;\n",
       "    }\n",
       "\n",
       "    .dataframe tbody tr th {\n",
       "        vertical-align: top;\n",
       "    }\n",
       "\n",
       "    .dataframe thead th {\n",
       "        text-align: right;\n",
       "    }\n",
       "</style>\n",
       "<table border=\"1\" class=\"dataframe\">\n",
       "  <thead>\n",
       "    <tr style=\"text-align: right;\">\n",
       "      <th>endDate</th>\n",
       "      <th>2016-09-23</th>\n",
       "      <th>2017-09-29</th>\n",
       "      <th>2018-09-28</th>\n",
       "      <th>2018-12-28</th>\n",
       "    </tr>\n",
       "  </thead>\n",
       "  <tbody>\n",
       "    <tr>\n",
       "      <th>ROA</th>\n",
       "      <td>0.17</td>\n",
       "      <td>0.16</td>\n",
       "      <td>0.18</td>\n",
       "      <td>0.17</td>\n",
       "    </tr>\n",
       "    <tr>\n",
       "      <th>ROE</th>\n",
       "      <td>0.35</td>\n",
       "      <td>0.30</td>\n",
       "      <td>0.31</td>\n",
       "      <td>0.25</td>\n",
       "    </tr>\n",
       "    <tr>\n",
       "      <th>AT</th>\n",
       "      <td>0.67</td>\n",
       "      <td>0.66</td>\n",
       "      <td>0.72</td>\n",
       "      <td>0.71</td>\n",
       "    </tr>\n",
       "    <tr>\n",
       "      <th>AAT</th>\n",
       "      <td>1.37</td>\n",
       "      <td>1.26</td>\n",
       "      <td>1.22</td>\n",
       "      <td>1.14</td>\n",
       "    </tr>\n",
       "  </tbody>\n",
       "</table>\n",
       "</div>"
      ],
      "text/plain": [
       "endDate  2016-09-23  2017-09-29  2018-09-28  2018-12-28\n",
       "ROA            0.17        0.16        0.18        0.17\n",
       "ROE            0.35        0.30        0.31        0.25\n",
       "AT             0.67        0.66        0.72        0.71\n",
       "AAT            1.37        1.26        1.22        1.14"
      ]
     },
     "execution_count": 10,
     "metadata": {},
     "output_type": "execute_result"
    }
   ],
   "source": [
    "(val_df[val_df.columns[-4:]]).T.round(2)"
   ]
  },
  {
   "cell_type": "code",
   "execution_count": 13,
   "metadata": {
    "hidden": true
   },
   "outputs": [],
   "source": [
    "# historical growth rates\n",
    "growth_rate = max(cagr_series(val_df[growth_cols]).median(), 0)\n",
    "ROIC_stats = val_df[['ROA', 'ROE','AT', 'AAT']].mean()\n",
    "ROE = ROIC_stats.ROE\n",
    "waterfall.update(ROIC_stats.to_dict())\n",
    "\n",
    "# Calculate valuation multiples\n",
    "mult = round( 1 / discount_rate, 2)\n",
    "gr_mult = mult + (growth_rate * growth_cap_factor * 100)\n",
    "\n",
    "# save assumptions during daily computations\n",
    "names = ['baseRate', 'equityRiskPremium', 'projFedFundsIncr', 'discountRate', 'baseMult', 'growthRate', 'growthMult']\n",
    "values = [base_rate, risk_premium, proj_increase, discount_rate, mult, growth_rate, gr_mult]\n",
    "waterfall.update({x: y for x, y in zip(names, values)})"
   ]
  },
  {
   "cell_type": "code",
   "execution_count": 14,
   "metadata": {
    "hidden": true
   },
   "outputs": [],
   "source": [
    "# calculate intrinsic value of equity\n",
    "steadyCF = val_df.steadyCF[-1]\n",
    "npv_CF = steadyCF * mult\n",
    "totalreinvCapital = val_df.reinvCapital.sum()\n",
    "projCashROE = totalreinvCapital * ROE\n",
    "npv_GR = projCashROE * gr_mult if val_df.reinvCapital.sum() > 0 else 0\n",
    "names = ['steadyCF', 'totalReinvCapital', 'projCashROE', 'npvGrowthCF']\n",
    "values = [npv_CF, totalreinvCapital, projCashROE, npv_GR]\n",
    "waterfall.update({x: y for x, y in zip(names, values)})"
   ]
  },
  {
   "cell_type": "code",
   "execution_count": 16,
   "metadata": {
    "hidden": true
   },
   "outputs": [],
   "source": [
    "# FX calcs\n",
    "curr = fin_stats_df.iloc[0].financialCurrency\n",
    "FX = 1 if curr == 'USD' else get_FX(FXs, curr)"
   ]
  },
  {
   "cell_type": "code",
   "execution_count": 18,
   "metadata": {
    "hidden": true
   },
   "outputs": [],
   "source": [
    "# given dual class shares we equity value only, not value per share (manual)\n",
    "values = [x * FX for x in [npv_CF, -val_df.netDebt[-1], npv_GR]]\n",
    "equityVal = sum(values)\n",
    "values.append(equityVal)\n",
    "currentVal = quote_df.iloc[0].marketCap\n",
    "prem_disc = currentVal / equityVal\n",
    "values.append(currentVal)\n",
    "values.append(prem_disc)\n",
    "names = ['npvSteadyCF', 'netDebt', 'npvGrowth', 'equityValue', 'currentValue', 'premDisc']\n",
    "waterfall.update({x: y for x, y in zip(names, values)})"
   ]
  },
  {
   "cell_type": "code",
   "execution_count": 19,
   "metadata": {
    "hidden": true
   },
   "outputs": [
    {
     "name": "stdout",
     "output_type": "stream",
     "text": [
      "Current Value: 803.1, Calculated Value: 992.9, Prem/Disc. 0.81\n"
     ]
    }
   ],
   "source": [
    "print_fmt = 'Current Value: {}, Calculated Value: {}, Prem/Disc. {}'\n",
    "print(print_fmt.format(\n",
    "    round(currentVal / UNIT_SCALE, 1), \n",
    "    round(equityVal / UNIT_SCALE, 1),\n",
    "    round(prem_disc, 2)))"
   ]
  },
  {
   "cell_type": "code",
   "execution_count": 20,
   "metadata": {
    "hidden": true
   },
   "outputs": [
    {
     "data": {
      "text/plain": [
       "{'symbol': 'AAPL',\n",
       " 'storeDate': datetime.datetime(2019, 2, 17, 20, 1, 11, 21195),\n",
       " 'ROA': 0.17044749282556537,\n",
       " 'ROE': 0.3026702440757734,\n",
       " 'AT': 0.6881281905966559,\n",
       " 'AAT': 1.2498318700260715,\n",
       " 'steadyCF': 787405500000.0,\n",
       " 'totalReinvCapital': 14758000000.0,\n",
       " 'projCashROE': 4466807462.070264,\n",
       " 'npvGrowthCF': 63211562011.39118,\n",
       " 'baseRate': 0.026660000000000003,\n",
       " 'equityRiskPremium': 0.05,\n",
       " 'projFedFundsIncr': 0.005,\n",
       " 'discountRate': 0.08166000000000001,\n",
       " 'baseMult': 12.25,\n",
       " 'growthRate': 0.06337987233723341,\n",
       " 'growthMult': 14.151396170117003,\n",
       " 'npvSteadyCF': 787405500000.0,\n",
       " 'netDebt': 142274000000.0,\n",
       " 'npvGrowth': 63211562011.39118,\n",
       " 'equityValue': 992891062011.3912,\n",
       " 'currentValue': 803059335168.0,\n",
       " 'premDisc': 0.8088091089682774}"
      ]
     },
     "execution_count": 20,
     "metadata": {},
     "output_type": "execute_result"
    }
   ],
   "source": [
    "waterfall"
   ]
  },
  {
   "cell_type": "markdown",
   "metadata": {
    "heading_collapsed": true
   },
   "source": [
    "### Other analysis"
   ]
  },
  {
   "cell_type": "code",
   "execution_count": 110,
   "metadata": {
    "hidden": true
   },
   "outputs": [
    {
     "data": {
      "image/png": "[encoded data removed]",
      "text/plain": [
       "<Figure size 432x288 with 1 Axes>"
      ]
     },
     "metadata": {
      "needs_background": "light"
     },
     "output_type": "display_data"
    }
   ],
   "source": [
    "# show distribution of filling dates for the universe\n",
    "field = 'cash'\n",
    "fil_period = latest_finBS[(latest_finBS.period == 'Q')]\n",
    "date_count_df = fil_period.groupby(\n",
    "    fil_period.index).count().sort_values(\n",
    "        by=field, ascending=False).head(10)\n",
    "date_count_df[field].plot.barh();"
   ]
  },
  {
   "cell_type": "code",
   "execution_count": null,
   "metadata": {
    "hidden": true
   },
   "outputs": [],
   "source": []
  }
 ],
 "metadata": {
  "kernelspec": {
   "display_name": "Python 3",
   "language": "python",
   "name": "python3"
  },
  "language_info": {
   "codemirror_mode": {
    "name": "ipython",
    "version": 3
   },
   "file_extension": ".py",
   "mimetype": "text/x-python",
   "name": "python",
   "nbconvert_exporter": "python",
   "pygments_lexer": "ipython3",
   "version": "3.7.0"
  },
  "toc": {
   "base_numbering": 1,
   "nav_menu": {},
   "number_sections": true,
   "sideBar": true,
   "skip_h1_title": false,
   "title_cell": "Table of Contents",
   "title_sidebar": "Contents",
   "toc_cell": false,
   "toc_position": {},
   "toc_section_display": true,
   "toc_window_display": false
  }
 },
 "nbformat": 4,
 "nbformat_minor": 2
}
