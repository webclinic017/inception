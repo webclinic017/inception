{
 "cells": [
  {
   "cell_type": "code",
   "execution_count": 4,
   "metadata": {
    "ExecuteTime": {
     "end_time": "2018-10-08T01:36:51.815633Z",
     "start_time": "2018-10-08T01:36:50.219308Z"
    }
   },
   "outputs": [],
   "source": [
    "# imports\n",
    "%reload_ext autoreload\n",
    "%autoreload 2\n",
    "%matplotlib inline \n",
    "\n",
    "from basic_utils import *\n",
    "from valuation import *\n",
    "\n",
    "pd.set_option('display.max_rows', 20)"
   ]
  },
  {
   "cell_type": "code",
   "execution_count": 5,
   "metadata": {
    "ExecuteTime": {
     "end_time": "2018-10-08T01:36:52.340532Z",
     "start_time": "2018-10-08T01:36:51.819058Z"
    }
   },
   "outputs": [],
   "source": [
    "dates = read_dates('quote')\n",
    "UNIT_SCALE = 10**9\n",
    "date_cols = ['endDate', 'storeDate']\n",
    "excl_cols = ['maxAge', 'symbol', 'period', 'storeDate']"
   ]
  },
  {
   "cell_type": "code",
   "execution_count": 6,
   "metadata": {
    "ExecuteTime": {
     "end_time": "2018-10-08T01:36:52.374611Z",
     "start_time": "2018-10-08T01:36:52.343846Z"
    }
   },
   "outputs": [
    {
     "data": {
      "text/plain": [
       "['2019-02-14']"
      ]
     },
     "execution_count": 6,
     "metadata": {},
     "output_type": "execute_result"
    }
   ],
   "source": [
    "tgt_date = [dates[-1]] # hardcoded for now\n",
    "tgt_date"
   ]
  },
  {
   "cell_type": "markdown",
   "metadata": {},
   "source": [
    "### Load data from S3"
   ]
  },
  {
   "cell_type": "code",
   "execution_count": 8,
   "metadata": {
    "ExecuteTime": {
     "end_time": "2018-10-08T01:36:56.144122Z",
     "start_time": "2018-10-08T01:36:54.313254Z"
    },
    "scrolled": true
   },
   "outputs": [
    {
     "name": "stdout",
     "output_type": "stream",
     "text": [
      "Loading file quote/csv/2019-02-14\n",
      "Loading file summary-categories/assetProfile\n",
      "Loading file summary-categories/defaultKeyStatistics/2019-02-14\n",
      "Loading file summary-categories/financialData/2019-02-14\n"
     ]
    }
   ],
   "source": [
    "latest_quotes = load_csvs('quote_consol', tgt_date)\n",
    "profile = load_csvs('summary_detail', ['assetProfile'])\n",
    "latest_keystats = load_csvs('summary_detail', ['defaultKeyStatistics/' + str(tgt_date[0])])\n",
    "latest_finstats = load_csvs('summary_detail', ['financialData/' + str(tgt_date[0])])"
   ]
  },
  {
   "cell_type": "code",
   "execution_count": 9,
   "metadata": {},
   "outputs": [
    {
     "name": "stdout",
     "output_type": "stream",
     "text": [
      "Loading file summary-categories/financials-BS\n",
      "Loading file summary-categories/financials-IS\n",
      "Loading file summary-categories/financials-CF\n"
     ]
    }
   ],
   "source": [
    "latest_finBS = load_csvs('summary_detail', ['financials-BS'])\n",
    "latest_finIS = load_csvs('summary_detail', ['financials-IS'])\n",
    "latest_finCF = load_csvs('summary_detail', ['financials-CF'])"
   ]
  },
  {
   "cell_type": "code",
   "execution_count": 10,
   "metadata": {},
   "outputs": [],
   "source": [
    "# convert timestamps to dates\n",
    "latest_finBS = convert_dates(latest_finBS, date_cols, 'endDate')\n",
    "latest_finIS = convert_dates(latest_finIS, date_cols, 'endDate')\n",
    "latest_finCF = convert_dates(latest_finCF, date_cols, 'endDate')"
   ]
  },
  {
   "cell_type": "code",
   "execution_count": 33,
   "metadata": {},
   "outputs": [
    {
     "data": {
      "image/png": "[encoded data removed]",
      "text/plain": [
       "<Figure size 432x288 with 1 Axes>"
      ]
     },
     "metadata": {
      "needs_background": "light"
     },
     "output_type": "display_data"
    }
   ],
   "source": [
    "# show distribution of filling dates for the universe\n",
    "field = 'cash'\n",
    "fil_period = latest_finBS[(latest_finBS.period == 'Q')]\n",
    "date_count_df = fil_period.groupby(\n",
    "    fil_period.index).count().sort_values(\n",
    "        by=field, ascending=False).head(10)\n",
    "date_count_df[field].plot.barh();"
   ]
  },
  {
   "cell_type": "markdown",
   "metadata": {},
   "source": [
    "### Select company"
   ]
  },
  {
   "cell_type": "code",
   "execution_count": 11,
   "metadata": {},
   "outputs": [],
   "source": [
    "symbol = 'AAPL'\n",
    "key_stats_df = latest_keystats[latest_keystats.symbol == symbol]\n",
    "fin_stats_df = latest_finstats[latest_finstats.symbol == symbol]\n",
    "quote_df = latest_quotes[latest_quotes.symbol == symbol]"
   ]
  },
  {
   "cell_type": "markdown",
   "metadata": {},
   "source": [
    "### Perform analysis"
   ]
  },
  {
   "cell_type": "code",
   "execution_count": 39,
   "metadata": {},
   "outputs": [],
   "source": [
    "def get_BS_metrics(latest_finBS, symbol, filterCol):\n",
    "    df = latest_finBS[latest_finBS.symbol == symbol]\n",
    "    df = df.dropna(subset=['cash']).sort_index()\n",
    "    df = fs_append_ltm(df[df.period == 'A'], df[df.period == 'Q'], True, excl_cols)\n",
    "    # print_labels(\"BS\", df)\n",
    "\n",
    "    wc_assets = ['netReceivables', 'inventory']\n",
    "    wc_liabs = ['accountsPayable']\n",
    "    total_cash = ['cash', 'shortTermInvestments', 'longTermInvestments']\n",
    "    total_debt = ['shortLongTermDebt', 'longTermDebt']\n",
    "    bs_summary = ['totalAssets', 'workingCapital', 'adjAssetBase',\n",
    "                  'totalCash', 'adjAssetBaseLessCash', 'netDebt']\n",
    "\n",
    "    df.loc[:, 'workingCapital'] = fs_total_subset(df, wc_assets) - fs_total_subset(df, wc_liabs)\n",
    "    df.loc[:, 'adjAssetBase'] = df['totalAssets'] + df['workingCapital'].apply(min, args=(0,))\n",
    "    df.loc[:, 'totalCash'] = fs_total_subset(df, total_cash)\n",
    "    df.loc[:, 'totalDebt'] = fs_total_subset(df, total_debt)\n",
    "    df.loc[:, 'netDebt'] = df['totalDebt'] - df['totalCash']\n",
    "    df.loc[:, 'adjAssetBaseLessCash'] = df['adjAssetBase'] + df['netDebt'].apply(min, args=(0,))\n",
    "    # bs_sum = (df[bs_summary] / UNIT_SCALE).T.round(1)\n",
    "    return (df[bs_summary] / UNIT_SCALE).T.round(1)"
   ]
  },
  {
   "cell_type": "code",
   "execution_count": 40,
   "metadata": {},
   "outputs": [
    {
     "data": {
      "text/html": [
       "<div>\n",
       "<style scoped>\n",
       "    .dataframe tbody tr th:only-of-type {\n",
       "        vertical-align: middle;\n",
       "    }\n",
       "\n",
       "    .dataframe tbody tr th {\n",
       "        vertical-align: top;\n",
       "    }\n",
       "\n",
       "    .dataframe thead th {\n",
       "        text-align: right;\n",
       "    }\n",
       "</style>\n",
       "<table border=\"1\" class=\"dataframe\">\n",
       "  <thead>\n",
       "    <tr style=\"text-align: right;\">\n",
       "      <th>endDate</th>\n",
       "      <th>2016-09-23</th>\n",
       "      <th>2017-09-29</th>\n",
       "      <th>2018-09-28</th>\n",
       "      <th>2018-12-28</th>\n",
       "    </tr>\n",
       "  </thead>\n",
       "  <tbody>\n",
       "    <tr>\n",
       "      <th>totalAssets</th>\n",
       "      <td>321.7</td>\n",
       "      <td>375.3</td>\n",
       "      <td>365.7</td>\n",
       "      <td>373.7</td>\n",
       "    </tr>\n",
       "    <tr>\n",
       "      <th>workingCapital</th>\n",
       "      <td>-5.9</td>\n",
       "      <td>-3.7</td>\n",
       "      <td>-2.9</td>\n",
       "      <td>-2.3</td>\n",
       "    </tr>\n",
       "    <tr>\n",
       "      <th>adjAssetBase</th>\n",
       "      <td>315.8</td>\n",
       "      <td>371.6</td>\n",
       "      <td>362.8</td>\n",
       "      <td>371.4</td>\n",
       "    </tr>\n",
       "    <tr>\n",
       "      <th>totalCash</th>\n",
       "      <td>237.6</td>\n",
       "      <td>268.9</td>\n",
       "      <td>237.1</td>\n",
       "      <td>245.0</td>\n",
       "    </tr>\n",
       "    <tr>\n",
       "      <th>adjAssetBaseLessCash</th>\n",
       "      <td>157.2</td>\n",
       "      <td>206.4</td>\n",
       "      <td>228.2</td>\n",
       "      <td>229.1</td>\n",
       "    </tr>\n",
       "    <tr>\n",
       "      <th>netDebt</th>\n",
       "      <td>-158.7</td>\n",
       "      <td>-165.2</td>\n",
       "      <td>-134.6</td>\n",
       "      <td>-142.3</td>\n",
       "    </tr>\n",
       "  </tbody>\n",
       "</table>\n",
       "</div>"
      ],
      "text/plain": [
       "endDate               2016-09-23  2017-09-29  2018-09-28  2018-12-28\n",
       "totalAssets                321.7       375.3       365.7       373.7\n",
       "workingCapital              -5.9        -3.7        -2.9        -2.3\n",
       "adjAssetBase               315.8       371.6       362.8       371.4\n",
       "totalCash                  237.6       268.9       237.1       245.0\n",
       "adjAssetBaseLessCash       157.2       206.4       228.2       229.1\n",
       "netDebt                   -158.7      -165.2      -134.6      -142.3"
      ]
     },
     "execution_count": 40,
     "metadata": {},
     "output_type": "execute_result"
    }
   ],
   "source": [
    "bs_sum = get_BS_metrics(latest_finBS, symbol, 'cash')\n",
    "bs_sum"
   ]
  },
  {
   "cell_type": "code",
   "execution_count": 38,
   "metadata": {
    "code_folding": []
   },
   "outputs": [
    {
     "name": "stdout",
     "output_type": "stream",
     "text": [
      "BS labels:\n",
      "['maxAge', 'cash', 'shortTermInvestments', 'netReceivables', 'inventory', 'otherCurrentAssets', 'totalCurrentAssets', 'longTermInvestments', 'propertyPlantEquipment', 'goodWill', 'intangibleAssets', 'otherAssets', 'deferredLongTermAssetCharges', 'totalAssets', 'accountsPayable', 'shortLongTermDebt', 'otherCurrentLiab', 'longTermDebt', 'otherLiab', 'minorityInterest', 'totalCurrentLiabilities', 'totalLiab', 'retainedEarnings', 'treasuryStock', 'capitalSurplus', 'otherStockholderEquity', 'totalStockholderEquity', 'netTangibleAssets', 'symbol', 'period', 'commonStock', 'deferredLongTermLiab', 'storeDate']\n"
     ]
    },
    {
     "data": {
      "text/html": [
       "<div>\n",
       "<style scoped>\n",
       "    .dataframe tbody tr th:only-of-type {\n",
       "        vertical-align: middle;\n",
       "    }\n",
       "\n",
       "    .dataframe tbody tr th {\n",
       "        vertical-align: top;\n",
       "    }\n",
       "\n",
       "    .dataframe thead th {\n",
       "        text-align: right;\n",
       "    }\n",
       "</style>\n",
       "<table border=\"1\" class=\"dataframe\">\n",
       "  <thead>\n",
       "    <tr style=\"text-align: right;\">\n",
       "      <th>endDate</th>\n",
       "      <th>2016-09-23</th>\n",
       "      <th>2017-09-29</th>\n",
       "      <th>2018-09-28</th>\n",
       "      <th>2018-12-28</th>\n",
       "    </tr>\n",
       "  </thead>\n",
       "  <tbody>\n",
       "    <tr>\n",
       "      <th>totalAssets</th>\n",
       "      <td>321.7</td>\n",
       "      <td>375.3</td>\n",
       "      <td>365.7</td>\n",
       "      <td>373.7</td>\n",
       "    </tr>\n",
       "    <tr>\n",
       "      <th>workingCapital</th>\n",
       "      <td>-5.9</td>\n",
       "      <td>-3.7</td>\n",
       "      <td>-2.9</td>\n",
       "      <td>-2.3</td>\n",
       "    </tr>\n",
       "    <tr>\n",
       "      <th>adjAssetBase</th>\n",
       "      <td>315.8</td>\n",
       "      <td>371.6</td>\n",
       "      <td>362.8</td>\n",
       "      <td>371.4</td>\n",
       "    </tr>\n",
       "    <tr>\n",
       "      <th>totalCash</th>\n",
       "      <td>237.6</td>\n",
       "      <td>268.9</td>\n",
       "      <td>237.1</td>\n",
       "      <td>245.0</td>\n",
       "    </tr>\n",
       "    <tr>\n",
       "      <th>adjAssetBaseLessCash</th>\n",
       "      <td>157.2</td>\n",
       "      <td>206.4</td>\n",
       "      <td>228.2</td>\n",
       "      <td>229.1</td>\n",
       "    </tr>\n",
       "    <tr>\n",
       "      <th>netDebt</th>\n",
       "      <td>-158.7</td>\n",
       "      <td>-165.2</td>\n",
       "      <td>-134.6</td>\n",
       "      <td>-142.3</td>\n",
       "    </tr>\n",
       "  </tbody>\n",
       "</table>\n",
       "</div>"
      ],
      "text/plain": [
       "endDate               2016-09-23  2017-09-29  2018-09-28  2018-12-28\n",
       "totalAssets                321.7       375.3       365.7       373.7\n",
       "workingCapital              -5.9        -3.7        -2.9        -2.3\n",
       "adjAssetBase               315.8       371.6       362.8       371.4\n",
       "totalCash                  237.6       268.9       237.1       245.0\n",
       "adjAssetBaseLessCash       157.2       206.4       228.2       229.1\n",
       "netDebt                   -158.7      -165.2      -134.6      -142.3"
      ]
     },
     "execution_count": 38,
     "metadata": {},
     "output_type": "execute_result"
    }
   ],
   "source": [
    "# Balance Sheet\n",
    "df = latest_finBS[latest_finBS.symbol == symbol]\n",
    "df = df.dropna(subset=['cash']).sort_index()\n",
    "# df[df.period == 'A'].iloc[-3:].append(df[df.period == 'Q'].iloc[-1:,:])\n",
    "df = fs_append_ltm(df[df.period == 'A'], df[df.period == 'Q'], True, excl_cols)\n",
    "print_labels(\"BS\", df)\n",
    "\n",
    "wc_assets = ['netReceivables', 'inventory']\n",
    "wc_liabs = ['accountsPayable']\n",
    "total_cash = ['cash', 'shortTermInvestments', 'longTermInvestments']\n",
    "total_debt = ['shortLongTermDebt', 'longTermDebt']\n",
    "bs_summary = ['totalAssets', 'workingCapital', 'adjAssetBase',\n",
    "              'totalCash', 'adjAssetBaseLessCash', 'netDebt']\n",
    "\n",
    "df.loc[:, 'workingCapital'] = fs_total_subset(df, wc_assets) - fs_total_subset(df, wc_liabs)\n",
    "df.loc[:, 'adjAssetBase'] = df['totalAssets'] + df['workingCapital'].apply(min, args=(0,))\n",
    "df.loc[:, 'totalCash'] = fs_total_subset(df, total_cash)\n",
    "df.loc[:, 'totalDebt'] = fs_total_subset(df, total_debt)\n",
    "df.loc[:, 'netDebt'] = df['totalDebt'] - df['totalCash']\n",
    "df.loc[:, 'adjAssetBaseLessCash'] = df['adjAssetBase'] + df['netDebt'].apply(min, args=(0,))\n",
    "bs_sum = df[bs_summary].copy()\n",
    "(bs_sum / UNIT_SCALE).T.round(1)"
   ]
  },
  {
   "cell_type": "code",
   "execution_count": 17,
   "metadata": {},
   "outputs": [
    {
     "name": "stdout",
     "output_type": "stream",
     "text": [
      "CF labels:\n",
      "['maxAge', 'netIncome', 'depreciation', 'changeToNetincome', 'changeToAccountReceivables', 'changeToLiabilities', 'changeToInventory', 'changeToOperatingActivities', 'totalCashFromOperatingActivities', 'capitalExpenditures', 'investments', 'otherCashflowsFromInvestingActivities', 'totalCashflowsFromInvestingActivities', 'dividendsPaid', 'netBorrowings', 'otherCashflowsFromFinancingActivities', 'totalCashFromFinancingActivities', 'effectOfExchangeRate', 'changeInCash', 'repurchaseOfStock', 'issuanceOfStock', 'symbol', 'period', 'storeDate']\n"
     ]
    },
    {
     "data": {
      "text/html": [
       "<div>\n",
       "<style scoped>\n",
       "    .dataframe tbody tr th:only-of-type {\n",
       "        vertical-align: middle;\n",
       "    }\n",
       "\n",
       "    .dataframe tbody tr th {\n",
       "        vertical-align: top;\n",
       "    }\n",
       "\n",
       "    .dataframe thead th {\n",
       "        text-align: right;\n",
       "    }\n",
       "</style>\n",
       "<table border=\"1\" class=\"dataframe\">\n",
       "  <thead>\n",
       "    <tr style=\"text-align: right;\">\n",
       "      <th>endDate</th>\n",
       "      <th>2016-09-23</th>\n",
       "      <th>2017-09-29</th>\n",
       "      <th>2018-09-28</th>\n",
       "      <th>2018-12-28</th>\n",
       "    </tr>\n",
       "  </thead>\n",
       "  <tbody>\n",
       "    <tr>\n",
       "      <th>depreciation</th>\n",
       "      <td>10.5</td>\n",
       "      <td>10.2</td>\n",
       "      <td>10.9</td>\n",
       "      <td>11.6</td>\n",
       "    </tr>\n",
       "    <tr>\n",
       "      <th>totalCashFromOperatingActivities</th>\n",
       "      <td>66.2</td>\n",
       "      <td>64.2</td>\n",
       "      <td>77.4</td>\n",
       "      <td>75.8</td>\n",
       "    </tr>\n",
       "    <tr>\n",
       "      <th>capitalExpenditures</th>\n",
       "      <td>-12.7</td>\n",
       "      <td>-12.5</td>\n",
       "      <td>-13.3</td>\n",
       "      <td>-13.9</td>\n",
       "    </tr>\n",
       "    <tr>\n",
       "      <th>dividendsPaid</th>\n",
       "      <td>-12.2</td>\n",
       "      <td>-12.8</td>\n",
       "      <td>-13.7</td>\n",
       "      <td>-13.9</td>\n",
       "    </tr>\n",
       "    <tr>\n",
       "      <th>netBorrowings</th>\n",
       "      <td>22.1</td>\n",
       "      <td>29.0</td>\n",
       "      <td>0.4</td>\n",
       "      <td>-6.5</td>\n",
       "    </tr>\n",
       "    <tr>\n",
       "      <th>repurchaseOfStock</th>\n",
       "      <td>-31.3</td>\n",
       "      <td>-34.8</td>\n",
       "      <td>-75.3</td>\n",
       "      <td>-74.2</td>\n",
       "    </tr>\n",
       "    <tr>\n",
       "      <th>steadyCF</th>\n",
       "      <td>55.7</td>\n",
       "      <td>54.1</td>\n",
       "      <td>66.5</td>\n",
       "      <td>64.3</td>\n",
       "    </tr>\n",
       "    <tr>\n",
       "      <th>steadyFCF</th>\n",
       "      <td>55.7</td>\n",
       "      <td>54.1</td>\n",
       "      <td>66.5</td>\n",
       "      <td>57.7</td>\n",
       "    </tr>\n",
       "    <tr>\n",
       "      <th>growthCapex</th>\n",
       "      <td>2.2</td>\n",
       "      <td>2.3</td>\n",
       "      <td>2.4</td>\n",
       "      <td>2.3</td>\n",
       "    </tr>\n",
       "    <tr>\n",
       "      <th>sbcAddbacks</th>\n",
       "      <td>8.7</td>\n",
       "      <td>2.2</td>\n",
       "      <td>2.4</td>\n",
       "      <td>15.3</td>\n",
       "    </tr>\n",
       "  </tbody>\n",
       "</table>\n",
       "</div>"
      ],
      "text/plain": [
       "endDate                           2016-09-23  2017-09-29  2018-09-28  \\\n",
       "depreciation                            10.5        10.2        10.9   \n",
       "totalCashFromOperatingActivities        66.2        64.2        77.4   \n",
       "capitalExpenditures                    -12.7       -12.5       -13.3   \n",
       "dividendsPaid                          -12.2       -12.8       -13.7   \n",
       "netBorrowings                           22.1        29.0         0.4   \n",
       "repurchaseOfStock                      -31.3       -34.8       -75.3   \n",
       "steadyCF                                55.7        54.1        66.5   \n",
       "steadyFCF                               55.7        54.1        66.5   \n",
       "growthCapex                              2.2         2.3         2.4   \n",
       "sbcAddbacks                              8.7         2.2         2.4   \n",
       "\n",
       "endDate                           2018-12-28  \n",
       "depreciation                            11.6  \n",
       "totalCashFromOperatingActivities        75.8  \n",
       "capitalExpenditures                    -13.9  \n",
       "dividendsPaid                          -13.9  \n",
       "netBorrowings                           -6.5  \n",
       "repurchaseOfStock                      -74.2  \n",
       "steadyCF                                64.3  \n",
       "steadyFCF                               57.7  \n",
       "growthCapex                              2.3  \n",
       "sbcAddbacks                             15.3  "
      ]
     },
     "execution_count": 17,
     "metadata": {},
     "output_type": "execute_result"
    }
   ],
   "source": [
    "# Cash flow items\n",
    "df = latest_finCF[latest_finCF.symbol == symbol]\n",
    "df = df.dropna(subset=['totalCashFromOperatingActivities']).sort_index()\n",
    "df = fs_append_ltm(df[df.period == 'A'], df[df.period == 'Q'], False, excl_cols)\n",
    "print_labels(\"CF\", df)\n",
    "\n",
    "cf_summary = ['totalCashFromOperatingActivities', 'depreciation', \n",
    "              'steadyCF', 'capitalExpenditures', \n",
    "              'netBorrowings', 'steadyFCF', 'growthCapex', \n",
    "              'repurchaseOfStock', 'dividendsPaid', 'sbcAddbacks']\n",
    "\n",
    "df.loc[:, 'steadyCF'] = df.totalCashFromOperatingActivities - df['depreciation']\n",
    "df.loc[:, 'steadyFCF'] = df['steadyCF'] + df['netBorrowings'].apply(min, args=(0,))\n",
    "df.loc[:, 'growthCapex'] = np.abs(df.capitalExpenditures) - df.depreciation\n",
    "df.loc[:, 'sbcAddbacks'] = fs_total_subset(\n",
    "    df, ['changeToNetincome', 'changeToOperatingActivities'])\n",
    "cf_sum = df[valid_cols(df, cf_summary)].copy()\n",
    "(cf_sum / UNIT_SCALE).T.round(1)"
   ]
  },
  {
   "cell_type": "code",
   "execution_count": 18,
   "metadata": {},
   "outputs": [
    {
     "name": "stdout",
     "output_type": "stream",
     "text": [
      "IS labels:\n",
      "['maxAge', 'totalRevenue', 'costOfRevenue', 'grossProfit', 'sellingGeneralAdministrative', 'otherOperatingExpenses', 'totalOperatingExpenses', 'operatingIncome', 'totalOtherIncomeExpenseNet', 'ebit', 'interestExpense', 'incomeBeforeTax', 'incomeTaxExpense', 'minorityInterest', 'netIncomeFromContinuingOps', 'netIncome', 'netIncomeApplicableToCommonShares', 'symbol', 'period', 'researchDevelopment', 'discontinuedOperations', 'storeDate']\n"
     ]
    },
    {
     "data": {
      "text/html": [
       "<div>\n",
       "<style scoped>\n",
       "    .dataframe tbody tr th:only-of-type {\n",
       "        vertical-align: middle;\n",
       "    }\n",
       "\n",
       "    .dataframe tbody tr th {\n",
       "        vertical-align: top;\n",
       "    }\n",
       "\n",
       "    .dataframe thead th {\n",
       "        text-align: right;\n",
       "    }\n",
       "</style>\n",
       "<table border=\"1\" class=\"dataframe\">\n",
       "  <thead>\n",
       "    <tr style=\"text-align: right;\">\n",
       "      <th>endDate</th>\n",
       "      <th>2016-09-23</th>\n",
       "      <th>2017-09-29</th>\n",
       "      <th>2018-09-28</th>\n",
       "      <th>2018-12-28</th>\n",
       "    </tr>\n",
       "  </thead>\n",
       "  <tbody>\n",
       "    <tr>\n",
       "      <th>totalRevenue</th>\n",
       "      <td>215.6</td>\n",
       "      <td>229.2</td>\n",
       "      <td>265.6</td>\n",
       "      <td>261.6</td>\n",
       "    </tr>\n",
       "    <tr>\n",
       "      <th>growthCost</th>\n",
       "      <td>NaN</td>\n",
       "      <td>2.6</td>\n",
       "      <td>4.1</td>\n",
       "      <td>1.0</td>\n",
       "    </tr>\n",
       "  </tbody>\n",
       "</table>\n",
       "</div>"
      ],
      "text/plain": [
       "endDate       2016-09-23  2017-09-29  2018-09-28  2018-12-28\n",
       "totalRevenue       215.6       229.2       265.6       261.6\n",
       "growthCost           NaN         2.6         4.1         1.0"
      ]
     },
     "execution_count": 18,
     "metadata": {},
     "output_type": "execute_result"
    }
   ],
   "source": [
    "# Income statement calcs\n",
    "df = latest_finIS[latest_finIS.symbol == symbol]\n",
    "df = df.dropna(subset=['totalOperatingExpenses']).sort_index()\n",
    "df = fs_append_ltm(df[df.period == 'A'], df[df.period == 'Q'], False, excl_cols)\n",
    "print_labels(\"IS\", df)\n",
    "\n",
    "cash_cost_growth = ['researchDevelopment',\n",
    "                    'sellingGeneralAdministrative']\n",
    "is_summary = ['totalRevenue','growthCost']\n",
    "\n",
    "cost_gr_df = fs_total_subset(df, cash_cost_growth)\n",
    "df.loc[:, 'growthCost'] = (cost_gr_df - cost_gr_df.shift(1)) \\\n",
    "    - cf_sum.sbcAddbacks.apply(min, args=(0,))\n",
    "\n",
    "is_sum = df[valid_cols(df, is_summary)].copy()\n",
    "(is_sum / UNIT_SCALE).T.round(1)"
   ]
  },
  {
   "cell_type": "code",
   "execution_count": 19,
   "metadata": {
    "code_folding": []
   },
   "outputs": [
    {
     "name": "stdout",
     "output_type": "stream",
     "text": [
      "IS labels:\n",
      "['maxAge', 'totalRevenue', 'costOfRevenue', 'grossProfit', 'sellingGeneralAdministrative', 'otherOperatingExpenses', 'totalOperatingExpenses', 'operatingIncome', 'totalOtherIncomeExpenseNet', 'ebit', 'interestExpense', 'incomeBeforeTax', 'incomeTaxExpense', 'minorityInterest', 'netIncomeFromContinuingOps', 'netIncome', 'netIncomeApplicableToCommonShares', 'symbol', 'period', 'researchDevelopment', 'discontinuedOperations', 'storeDate']\n"
     ]
    },
    {
     "data": {
      "text/html": [
       "<div>\n",
       "<style scoped>\n",
       "    .dataframe tbody tr th:only-of-type {\n",
       "        vertical-align: middle;\n",
       "    }\n",
       "\n",
       "    .dataframe tbody tr th {\n",
       "        vertical-align: top;\n",
       "    }\n",
       "\n",
       "    .dataframe thead th {\n",
       "        text-align: right;\n",
       "    }\n",
       "</style>\n",
       "<table border=\"1\" class=\"dataframe\">\n",
       "  <thead>\n",
       "    <tr style=\"text-align: right;\">\n",
       "      <th>endDate</th>\n",
       "      <th>2016-09-23</th>\n",
       "      <th>2017-09-29</th>\n",
       "      <th>2018-09-28</th>\n",
       "      <th>2018-12-28</th>\n",
       "    </tr>\n",
       "  </thead>\n",
       "  <tbody>\n",
       "    <tr>\n",
       "      <th>totalRevenue</th>\n",
       "      <td>215.6</td>\n",
       "      <td>229.2</td>\n",
       "      <td>265.6</td>\n",
       "      <td>261.6</td>\n",
       "    </tr>\n",
       "    <tr>\n",
       "      <th>growthCost</th>\n",
       "      <td>NaN</td>\n",
       "      <td>2.6</td>\n",
       "      <td>4.1</td>\n",
       "      <td>1.0</td>\n",
       "    </tr>\n",
       "  </tbody>\n",
       "</table>\n",
       "</div>"
      ],
      "text/plain": [
       "endDate       2016-09-23  2017-09-29  2018-09-28  2018-12-28\n",
       "totalRevenue       215.6       229.2       265.6       261.6\n",
       "growthCost           NaN         2.6         4.1         1.0"
      ]
     },
     "execution_count": 19,
     "metadata": {},
     "output_type": "execute_result"
    }
   ],
   "source": [
    "# Income statement calcs\n",
    "df = latest_finIS.copy()\n",
    "mask_symbol = (df.symbol == symbol) \n",
    "df = df[mask_symbol]\n",
    "print_labels(\"IS\", df)\n",
    "\n",
    "cash_cost_growth = ['researchDevelopment',\n",
    "                    'sellingGeneralAdministrative']\n",
    "is_summary = ['totalRevenue','growthCost']\n",
    "\n",
    "dfA = df[(df.period == 'A')]\n",
    "dfQ = df[(df.period == 'Q')]\n",
    "dfA = fs_append_ltm(dfA, dfQ, False, excl_cols)\n",
    "cost_gr_df = fs_total_subset(dfA, cash_cost_growth)\n",
    "dfA.loc[:, 'growthCost'] = (cost_gr_df - cost_gr_df.shift(1)) \\\n",
    "    - cf_sum.sbcAddbacks.apply(min, args=(0,))\n",
    "\n",
    "is_sum = dfA[valid_cols(dfA, is_summary)].copy()\n",
    "(is_sum / UNIT_SCALE).T.round(1)"
   ]
  },
  {
   "cell_type": "code",
   "execution_count": 20,
   "metadata": {
    "code_folding": [
     0
    ]
   },
   "outputs": [
    {
     "data": {
      "text/html": [
       "<div>\n",
       "<style scoped>\n",
       "    .dataframe tbody tr th:only-of-type {\n",
       "        vertical-align: middle;\n",
       "    }\n",
       "\n",
       "    .dataframe tbody tr th {\n",
       "        vertical-align: top;\n",
       "    }\n",
       "\n",
       "    .dataframe thead th {\n",
       "        text-align: right;\n",
       "    }\n",
       "</style>\n",
       "<table border=\"1\" class=\"dataframe\">\n",
       "  <thead>\n",
       "    <tr style=\"text-align: right;\">\n",
       "      <th>endDate</th>\n",
       "      <th>2016-09-23</th>\n",
       "      <th>2017-09-29</th>\n",
       "      <th>2018-09-28</th>\n",
       "      <th>2018-12-28</th>\n",
       "    </tr>\n",
       "  </thead>\n",
       "  <tbody>\n",
       "    <tr>\n",
       "      <th>totalAssets</th>\n",
       "      <td>321.7</td>\n",
       "      <td>375.3</td>\n",
       "      <td>365.7</td>\n",
       "      <td>373.7</td>\n",
       "    </tr>\n",
       "    <tr>\n",
       "      <th>adjAssetBaseLessCash</th>\n",
       "      <td>157.2</td>\n",
       "      <td>206.4</td>\n",
       "      <td>228.2</td>\n",
       "      <td>229.1</td>\n",
       "    </tr>\n",
       "    <tr>\n",
       "      <th>netDebt</th>\n",
       "      <td>-158.7</td>\n",
       "      <td>-165.2</td>\n",
       "      <td>-134.6</td>\n",
       "      <td>-142.3</td>\n",
       "    </tr>\n",
       "    <tr>\n",
       "      <th>totalRevenue</th>\n",
       "      <td>215.6</td>\n",
       "      <td>229.2</td>\n",
       "      <td>265.6</td>\n",
       "      <td>261.6</td>\n",
       "    </tr>\n",
       "    <tr>\n",
       "      <th>steadyCF</th>\n",
       "      <td>55.7</td>\n",
       "      <td>54.1</td>\n",
       "      <td>66.5</td>\n",
       "      <td>64.3</td>\n",
       "    </tr>\n",
       "    <tr>\n",
       "      <th>steadyFCF</th>\n",
       "      <td>55.7</td>\n",
       "      <td>54.1</td>\n",
       "      <td>66.5</td>\n",
       "      <td>57.7</td>\n",
       "    </tr>\n",
       "    <tr>\n",
       "      <th>reinvCapital</th>\n",
       "      <td>NaN</td>\n",
       "      <td>4.9</td>\n",
       "      <td>6.5</td>\n",
       "      <td>3.4</td>\n",
       "    </tr>\n",
       "  </tbody>\n",
       "</table>\n",
       "</div>"
      ],
      "text/plain": [
       "endDate               2016-09-23  2017-09-29  2018-09-28  2018-12-28\n",
       "totalAssets                321.7       375.3       365.7       373.7\n",
       "adjAssetBaseLessCash       157.2       206.4       228.2       229.1\n",
       "netDebt                   -158.7      -165.2      -134.6      -142.3\n",
       "totalRevenue               215.6       229.2       265.6       261.6\n",
       "steadyCF                    55.7        54.1        66.5        64.3\n",
       "steadyFCF                   55.7        54.1        66.5        57.7\n",
       "reinvCapital                 NaN         4.9         6.5         3.4"
      ]
     },
     "execution_count": 20,
     "metadata": {},
     "output_type": "execute_result"
    }
   ],
   "source": [
    "# Valuation calculations\n",
    "key_cols = ['totalAssets','adjAssetBaseLessCash', 'netDebt',\n",
    "           'totalRevenue', 'steadyCF', 'steadyFCF', 'reinvCapital',\n",
    "           'ROA', 'ROE', 'AT', 'AAT']\n",
    "\n",
    "val_df = bs_sum.copy()\n",
    "val_df[cf_sum.columns] = cf_sum\n",
    "val_df[is_sum.columns] = is_sum\n",
    "val_df['avgTotalAssets'] = val_df['totalAssets'].rolling(2).mean() # avg asset base\n",
    "val_df['avgAssetBaseLC'] = val_df['adjAssetBaseLessCash'].rolling(2).mean() # avg asset base\n",
    "val_df.avgTotalAssets[0] = val_df.totalAssets[0]\n",
    "val_df.avgAssetBaseLC[0] = val_df.adjAssetBaseLessCash[0]\n",
    "val_df['reinvCapital'] = (val_df['growthCapex'] + val_df['growthCost']).apply(max, args=(0,))\n",
    "val_df['ROA'] = (val_df.steadyCF / val_df.avgTotalAssets)\n",
    "val_df['ROE'] = (val_df.steadyFCF / val_df.avgAssetBaseLC)\n",
    "val_df['AT'] = (val_df.totalRevenue / val_df.avgTotalAssets)\n",
    "val_df['AAT'] = (val_df.totalRevenue / val_df.avgAssetBaseLC)\n",
    "# ROA.mean().round(2), ROE.mean().round(2), AT.mean().round(2), AAT.mean().round(2)\n",
    "(val_df[key_cols[:-4]] / UNIT_SCALE).T.round(1)"
   ]
  },
  {
   "cell_type": "code",
   "execution_count": 21,
   "metadata": {},
   "outputs": [
    {
     "data": {
      "text/plain": [
       "0.015851106800996773"
      ]
     },
     "execution_count": 21,
     "metadata": {},
     "output_type": "execute_result"
    }
   ],
   "source": [
    "years = (val_df.index[-1] -   val_df.index[0]).days / 365\n",
    "cagr_series = pow(val_df.iloc[-1] / val_df.iloc[0], (1 / years)) - 1\n",
    "cagr_series['steadyFCF']"
   ]
  },
  {
   "cell_type": "code",
   "execution_count": 22,
   "metadata": {},
   "outputs": [
    {
     "data": {
      "text/plain": [
       "(steadyFCF    0.015851\n",
       " dtype: float64, 0.015851106800996773)"
      ]
     },
     "execution_count": 22,
     "metadata": {},
     "output_type": "execute_result"
    }
   ],
   "source": [
    "# historical growth rates\n",
    "# growth_cols = ['totalRevenue','totalAssets', 'totalCashFromOperatingActivities', 'steadyCF', 'steadyFCF', 'capitalExpenditures', 'reinvCapital']\n",
    "growth_cols = ['steadyFCF']\n",
    "cagr_series[growth_cols].median()\n",
    "growth_rate = max(cagr_series[growth_cols].median(), 0)\n",
    "cagr_series[growth_cols], growth_rate"
   ]
  },
  {
   "cell_type": "code",
   "execution_count": 23,
   "metadata": {},
   "outputs": [
    {
     "data": {
      "text/html": [
       "<div>\n",
       "<style scoped>\n",
       "    .dataframe tbody tr th:only-of-type {\n",
       "        vertical-align: middle;\n",
       "    }\n",
       "\n",
       "    .dataframe tbody tr th {\n",
       "        vertical-align: top;\n",
       "    }\n",
       "\n",
       "    .dataframe thead th {\n",
       "        text-align: right;\n",
       "    }\n",
       "</style>\n",
       "<table border=\"1\" class=\"dataframe\">\n",
       "  <thead>\n",
       "    <tr style=\"text-align: right;\">\n",
       "      <th>endDate</th>\n",
       "      <th>2016-09-23</th>\n",
       "      <th>2017-09-29</th>\n",
       "      <th>2018-09-28</th>\n",
       "      <th>2018-12-28</th>\n",
       "    </tr>\n",
       "  </thead>\n",
       "  <tbody>\n",
       "    <tr>\n",
       "      <th>ROA</th>\n",
       "      <td>0.17</td>\n",
       "      <td>0.16</td>\n",
       "      <td>0.18</td>\n",
       "      <td>0.17</td>\n",
       "    </tr>\n",
       "    <tr>\n",
       "      <th>ROE</th>\n",
       "      <td>0.35</td>\n",
       "      <td>0.30</td>\n",
       "      <td>0.31</td>\n",
       "      <td>0.25</td>\n",
       "    </tr>\n",
       "    <tr>\n",
       "      <th>AT</th>\n",
       "      <td>0.67</td>\n",
       "      <td>0.66</td>\n",
       "      <td>0.72</td>\n",
       "      <td>0.71</td>\n",
       "    </tr>\n",
       "    <tr>\n",
       "      <th>AAT</th>\n",
       "      <td>1.37</td>\n",
       "      <td>1.26</td>\n",
       "      <td>1.22</td>\n",
       "      <td>1.14</td>\n",
       "    </tr>\n",
       "  </tbody>\n",
       "</table>\n",
       "</div>"
      ],
      "text/plain": [
       "endDate  2016-09-23  2017-09-29  2018-09-28  2018-12-28\n",
       "ROA            0.17        0.16        0.18        0.17\n",
       "ROE            0.35        0.30        0.31        0.25\n",
       "AT             0.67        0.66        0.72        0.71\n",
       "AAT            1.37        1.26        1.22        1.14"
      ]
     },
     "execution_count": 23,
     "metadata": {},
     "output_type": "execute_result"
    }
   ],
   "source": [
    "(val_df[val_df.columns[-4:]]).T.round(2)"
   ]
  },
  {
   "cell_type": "code",
   "execution_count": 24,
   "metadata": {},
   "outputs": [
    {
     "data": {
      "text/plain": [
       "ROA    0.170447\n",
       "ROE    0.302670\n",
       "AT     0.688128\n",
       "AAT    1.249832\n",
       "dtype: float64"
      ]
     },
     "execution_count": 24,
     "metadata": {},
     "output_type": "execute_result"
    }
   ],
   "source": [
    "ROIC_stats = val_df[['ROA', 'ROE','AT', 'AAT']].mean()\n",
    "ROE = ROIC_stats.ROE\n",
    "ROIC_stats"
   ]
  },
  {
   "cell_type": "code",
   "execution_count": 25,
   "metadata": {},
   "outputs": [
    {
     "data": {
      "text/plain": [
       "(12.05, 12.525533204029903)"
      ]
     },
     "execution_count": 25,
     "metadata": {},
     "output_type": "execute_result"
    }
   ],
   "source": [
    "discount = 0.028 + 0.05 + 0.005\n",
    "gr_discount = discount * 1\n",
    "# models fails to incorporate future growth\n",
    "# consider discount rate - actual growth * capitalization factor of [0.3] \n",
    "growth = growth_rate * 0.3\n",
    "mult = round(1/discount, 2)\n",
    "gr_mult = mult + growth * 100\n",
    "mult, gr_mult"
   ]
  },
  {
   "cell_type": "code",
   "execution_count": 26,
   "metadata": {},
   "outputs": [
    {
     "data": {
      "text/plain": [
       "[774.55, 142.27, 55.95]"
      ]
     },
     "execution_count": 26,
     "metadata": {},
     "output_type": "execute_result"
    }
   ],
   "source": [
    "npv_CF = val_df.steadyCF[-1] * mult\n",
    "npv_GR = (val_df.reinvCapital.sum() * ROE * gr_mult) \\\n",
    "    if val_df.reinvCapital.sum() > 0 else 0\n",
    "[round(x/UNIT_SCALE,2) for x in [npv_CF, -val_df.netDebt[-1], npv_GR]]"
   ]
  },
  {
   "cell_type": "code",
   "execution_count": 27,
   "metadata": {},
   "outputs": [],
   "source": [
    "fxes_df = latest_quotes[latest_quotes.quoteType == 'CURRENCY']\n",
    "tgt_FX = fin_stats_df.iloc[0].financialCurrency\n",
    "FX = 1 if tgt_FX == 'USD' else get_FX(fxes_df, tgt_FX)"
   ]
  },
  {
   "cell_type": "code",
   "execution_count": 28,
   "metadata": {},
   "outputs": [],
   "source": [
    "# challenge here with dual class companies\n",
    "sharesOut = key_stats_df.sharesOutstanding\n",
    "equityVal = (npv_CF - val_df.netDebt[-1] + npv_GR) * FX"
   ]
  },
  {
   "cell_type": "code",
   "execution_count": 29,
   "metadata": {},
   "outputs": [
    {
     "name": "stdout",
     "output_type": "stream",
     "text": [
      "Current Market Cap: 805.4, Valuation: 972.8, Prem/Disc. 0.83\n"
     ]
    }
   ],
   "source": [
    "prem_disc = (quote_df.iloc[0].marketCap / equityVal)\n",
    "print_fmt = 'Current Market Cap: {}, Valuation: {}, Prem/Disc. {}'\n",
    "print(print_fmt.format(\n",
    "    round(quote_df.iloc[0].marketCap / UNIT_SCALE, 1), \n",
    "    round(equityVal / UNIT_SCALE, 1),\n",
    "    round(prem_disc, 2)))"
   ]
  }
 ],
 "metadata": {
  "kernelspec": {
   "display_name": "Python 3",
   "language": "python",
   "name": "python3"
  },
  "language_info": {
   "codemirror_mode": {
    "name": "ipython",
    "version": 3
   },
   "file_extension": ".py",
   "mimetype": "text/x-python",
   "name": "python",
   "nbconvert_exporter": "python",
   "pygments_lexer": "ipython3",
   "version": "3.7.0"
  },
  "toc": {
   "base_numbering": 1,
   "nav_menu": {},
   "number_sections": true,
   "sideBar": true,
   "skip_h1_title": false,
   "title_cell": "Table of Contents",
   "title_sidebar": "Contents",
   "toc_cell": false,
   "toc_position": {},
   "toc_section_display": true,
   "toc_window_display": false
  }
 },
 "nbformat": 4,
 "nbformat_minor": 2
}
