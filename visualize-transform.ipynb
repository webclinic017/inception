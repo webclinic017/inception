{
 "cells": [
  {
   "cell_type": "code",
   "execution_count": 202,
   "metadata": {
    "ExecuteTime": {
     "end_time": "2018-09-22T00:02:25.932686Z",
     "start_time": "2018-09-22T00:02:25.915674Z"
    }
   },
   "outputs": [],
   "source": [
    "from basic_utils import *\n",
    "from datetime import date\n",
    "import pandas as pd\n",
    "import numpy as np"
   ]
  },
  {
   "cell_type": "code",
   "execution_count": 203,
   "metadata": {
    "ExecuteTime": {
     "end_time": "2018-09-22T00:02:26.135907Z",
     "start_time": "2018-09-22T00:02:26.130545Z"
    }
   },
   "outputs": [],
   "source": [
    "FIG_SIZE = (20,20)"
   ]
  },
  {
   "cell_type": "markdown",
   "metadata": {},
   "source": [
    "### Transformation functions"
   ]
  },
  {
   "cell_type": "code",
   "execution_count": 220,
   "metadata": {
    "ExecuteTime": {
     "end_time": "2018-09-22T00:07:32.607436Z",
     "start_time": "2018-09-22T00:07:32.599843Z"
    },
    "code_folding": [
     4,
     6
    ]
   },
   "outputs": [],
   "source": [
    "# format / clean up functions\n",
    "def cols_to_date(df, cols):\n",
    "    for c in cols: \n",
    "        if c in df.columns: df[c] = df[c].apply(date_lambda)\n",
    "def cols_to_bool(df, cols):\n",
    "    for c in cols: df[c] = df[c].apply(lambda x: pd.to_numeric(x))\n",
    "def divide_by(df, cols, tgt):\n",
    "    cols.extend([tgt])\n",
    "    res = (df[cols].T / df[cols][tgt]).T\n",
    "    cols.remove(tgt)\n",
    "    return res[cols]\n",
    "\n",
    "# lambdas\n",
    "# date_lambda = lambda x: date.fromtimestamp(x) if x > 0 else 0\n",
    "date_lambda = lambda x: date.fromtimestamp(x)\n",
    "pd_datetime = lambda x: pd.to_datetime(x)\n",
    "datetime_lambda = lambda x: datetime.fromtimestamp(x) if x > 0 else 0\n",
    "time_delta_to_years = lambda x: x / 365\n",
    "divide_by_mean = lambda x: x / x.median() #consider z-score\n",
    "cap_at_1q = lambda x: [max(y, 0) for y in x]\n",
    "z_score = lambda x: (x - x.mean()) / x.std()"
   ]
  },
  {
   "cell_type": "code",
   "execution_count": 205,
   "metadata": {
    "ExecuteTime": {
     "end_time": "2018-09-22T00:02:28.490376Z",
     "start_time": "2018-09-22T00:02:28.461632Z"
    },
    "code_folding": [
     42,
     52,
     57,
     59
    ]
   },
   "outputs": [],
   "source": [
    "col_dates = ['earningsTimestamp', 'earningsTimestampEnd',\n",
    "             'earningsTimestampStart', 'postMarketTime', 'regularMarketTime',\n",
    "             'dividendDate','expiration','lastTradeDate','postMarketTime',\n",
    "             'storeDate', 'lastTradeDate']\n",
    "\n",
    "# transforms and utilities\n",
    "def merge_ds(q_df, o_df):    \n",
    "    # merge options and quotes\n",
    "    merged_df = q_df.merge(o_df, how='inner', \n",
    "                           left_on=['symbol', 'regularMarketTime'], \n",
    "                           right_on=['underlyingSymbol','lastTradeDate'])\n",
    "    return merged_df\n",
    "\n",
    "divide_cols = ['lastPrice', 'strike', 'epsForward', 'epsTrailingTwelveMonths',\n",
    "    'bookValue', 'regularMarketDayHigh',\n",
    "    'regularMarketDayLow', 'regularMarketOpen', 'regularMarketPreviousClose']\n",
    "divided_by = 'regularMarketPrice'\n",
    "\n",
    "scale_cols = ['regularMarketVolume','averageDailyVolume10Day',\n",
    "              'averageDailyVolume3Month','marketCap']\n",
    "\n",
    "def transform_ds(df):\n",
    "    # consider passing common fields as a map (divide by, divide col, etc)\n",
    "    mod_df = df.copy()\n",
    "    \n",
    "    # transformation: divide by closing price (unit values to underlying price)\n",
    "    mod_df[divide_cols] = divide_by(mod_df, divide_cols, divided_by).round(4)\n",
    "    mod_df.regularMarketVolume = divide_by(mod_df, \n",
    "        ['regularMarketVolume'], 'averageDailyVolume10Day').round(4)\n",
    "\n",
    "    # transformation: volume (liquidity) and size relative to the universe mean\n",
    "    scaler_pipe = make_pipeline(StandardScaler())\n",
    "    mod_df[scale_cols] = scaler_pipe.fit_transform(mod_df[scale_cols])\n",
    "    \n",
    "    # transformation: turn dates > days > years    \n",
    "    mod_df.storeDate = pd.to_datetime(mod_df.storeDate)\n",
    "    mod_df.expiration = pd.to_datetime(mod_df.expiration)\n",
    "    delta = (mod_df.expiration - mod_df.storeDate).dt.days\n",
    "    mod_df.expiration = delta.apply(time_delta_to_years).round(4)\n",
    "    return mod_df\n",
    "\n",
    "def filter_ds(df):\n",
    "    # filter data by expiration, strike, liquidity and active contracts\n",
    "    oi_mask = df.openInterest > 20\n",
    "    vol_mask = df.volume > 10\n",
    "    itm_mask = (df.inTheMoney == False) & (\n",
    "        ((df.strike > 0.6) & (df.strike < 0.9)) |\n",
    "        ((df.strike > 1.1) & (df.strike < 1.4))\n",
    "    )\n",
    "    exp_mask = (df.expiration > 90/365)\n",
    "    return df[ oi_mask & vol_mask & itm_mask & exp_mask]\n",
    "\n",
    "def prepare_for_training(df, cols_to_keep, y_col):    \n",
    "    num_cols = df[cols_to_keep].select_dtypes(include=['float64'])\n",
    "    order_cols = [x for x in num_cols if x != y_col]\n",
    "    order_cols.extend([y_col])\n",
    "    return df[order_cols]\n",
    "\n",
    "def visualize_ds(df, bins=20, figsize=FIG_SIZE):\n",
    "    df.hist(figsize=figsize, bins=bins);    \n",
    "    \n",
    "def shuffle_train_test(df):\n",
    "    df_idx = df.index.values\n",
    "    df_idx = np.random.randint(0, len(df_idx), size=len(df_idx))\n",
    "    shuffled_df = df.iloc[df_idx]\n",
    "    train_df, test_df = train_test_split(shuffled_df, random_state=1)\n",
    "    return train_df, test_df"
   ]
  },
  {
   "cell_type": "markdown",
   "metadata": {},
   "source": [
    "### Data load"
   ]
  },
  {
   "cell_type": "code",
   "execution_count": 206,
   "metadata": {
    "ExecuteTime": {
     "end_time": "2018-09-22T00:02:34.582890Z",
     "start_time": "2018-09-22T00:02:31.919844Z"
    }
   },
   "outputs": [],
   "source": [
    "dates = read_dates('option')\n",
    "predict_days = -1\n",
    "predict_dates, train_dates = dates[predict_days:], dates[:predict_days]"
   ]
  },
  {
   "cell_type": "code",
   "execution_count": 207,
   "metadata": {
    "ExecuteTime": {
     "end_time": "2018-09-22T00:02:40.400987Z",
     "start_time": "2018-09-22T00:02:37.770264Z"
    }
   },
   "outputs": [
    {
     "name": "stdout",
     "output_type": "stream",
     "text": [
      "Loading quotes for 2018-09-07\n",
      "Loading quotes for 2018-09-10\n",
      "Loading quotes for 2018-09-11\n",
      "Loading quotes for 2018-09-12\n",
      "Loading quotes for 2018-09-13\n",
      "Loading quotes for 2018-09-14\n",
      "Loading quotes for 2018-09-17\n",
      "Loading quotes for 2018-09-18\n",
      "Loading quotes for 2018-09-19\n",
      "Loading quotes for 2018-09-20\n",
      "CPU times: user 400 ms, sys: 321 ms, total: 721 ms\n",
      "Wall time: 2.62 s\n"
     ]
    }
   ],
   "source": [
    "%time train_quotes = load_consol_quotes(train_dates)"
   ]
  },
  {
   "cell_type": "code",
   "execution_count": 208,
   "metadata": {
    "ExecuteTime": {
     "end_time": "2018-09-22T00:03:12.450022Z",
     "start_time": "2018-09-22T00:02:42.958781Z"
    }
   },
   "outputs": [
    {
     "name": "stdout",
     "output_type": "stream",
     "text": [
      "Loading options for 2018-09-07\n",
      "Loading options for 2018-09-10\n",
      "Loading options for 2018-09-11\n",
      "Loading options for 2018-09-12\n",
      "Loading options for 2018-09-13\n",
      "Loading options for 2018-09-14\n",
      "Loading options for 2018-09-17\n",
      "Loading options for 2018-09-18\n",
      "Loading options for 2018-09-19\n",
      "Loading options for 2018-09-20\n",
      "CPU times: user 4.75 s, sys: 1.97 s, total: 6.71 s\n",
      "Wall time: 29.5 s\n"
     ]
    }
   ],
   "source": [
    "%time train_options = load_consol_options(train_dates)"
   ]
  },
  {
   "cell_type": "code",
   "execution_count": 252,
   "metadata": {
    "ExecuteTime": {
     "end_time": "2018-09-22T00:16:48.802791Z",
     "start_time": "2018-09-22T00:16:48.681609Z"
    }
   },
   "outputs": [],
   "source": [
    "all_options = train_options.copy()\n",
    "all_quotes = train_quotes.copy()"
   ]
  },
  {
   "cell_type": "markdown",
   "metadata": {
    "ExecuteTime": {
     "end_time": "2018-09-20T22:08:52.279212Z",
     "start_time": "2018-09-20T22:08:52.276001Z"
    },
    "heading_collapsed": true
   },
   "source": [
    "### Visualize"
   ]
  },
  {
   "cell_type": "code",
   "execution_count": 129,
   "metadata": {
    "ExecuteTime": {
     "end_time": "2018-09-21T00:18:04.970659Z",
     "start_time": "2018-09-21T00:18:04.596792Z"
    },
    "hidden": true
   },
   "outputs": [
    {
     "name": "stdout",
     "output_type": "stream",
     "text": [
      "<class 'pandas.core.frame.DataFrame'>\n",
      "Int64Index: 620614 entries, 0 to 39535\n",
      "Data columns (total 18 columns):\n",
      "ask                  620614 non-null float64\n",
      "bid                  620614 non-null float64\n",
      "change               620614 non-null float64\n",
      "contractSize         620614 non-null object\n",
      "contractSymbol       620614 non-null object\n",
      "currency             620540 non-null object\n",
      "expiration           620614 non-null float64\n",
      "impliedVolatility    620614 non-null float64\n",
      "inTheMoney           620614 non-null bool\n",
      "lastPrice            620614 non-null float64\n",
      "lastTradeDate        620614 non-null float64\n",
      "openInterest         620614 non-null float64\n",
      "percentChange        620614 non-null float64\n",
      "strike               620614 non-null float64\n",
      "volume               620614 non-null float64\n",
      "underlyingSymbol     620614 non-null object\n",
      "storeDate            620614 non-null float64\n",
      "type                 620614 non-null object\n",
      "dtypes: bool(1), float64(12), object(5)\n",
      "memory usage: 85.8+ MB\n"
     ]
    }
   ],
   "source": [
    "all_options.info()"
   ]
  },
  {
   "cell_type": "code",
   "execution_count": 130,
   "metadata": {
    "ExecuteTime": {
     "end_time": "2018-09-21T00:18:09.019874Z",
     "start_time": "2018-09-21T00:18:08.998917Z"
    },
    "hidden": true
   },
   "outputs": [
    {
     "data": {
      "text/plain": [
       "ask                              5.75\n",
       "bid                              5.35\n",
       "change                              0\n",
       "contractSize                  REGULAR\n",
       "contractSymbol       A190215C00065000\n",
       "currency                          USD\n",
       "expiration                1.55019e+09\n",
       "impliedVolatility            0.255379\n",
       "inTheMoney                       True\n",
       "lastPrice                        5.36\n",
       "lastTradeDate             1.53617e+09\n",
       "openInterest                      106\n",
       "percentChange                       0\n",
       "strike                             65\n",
       "volume                              4\n",
       "underlyingSymbol                    A\n",
       "storeDate                 1.53628e+09\n",
       "type                             call\n",
       "Name: 6, dtype: object"
      ]
     },
     "execution_count": 130,
     "metadata": {},
     "output_type": "execute_result"
    }
   ],
   "source": [
    "idx = random.randint(0, all_options.shape[1]-1)\n",
    "all_options.iloc[idx][:]"
   ]
  },
  {
   "cell_type": "code",
   "execution_count": 131,
   "metadata": {
    "ExecuteTime": {
     "end_time": "2018-09-21T00:18:15.302394Z",
     "start_time": "2018-09-21T00:18:15.298288Z"
    },
    "hidden": true
   },
   "outputs": [],
   "source": [
    "date_cols = ['earningsTimestamp', 'earningsTimestampEnd',\n",
    "             'earningsTimestampStart', 'postMarketTime', 'regularMarketTime',\n",
    "             'dividendDate','expiration','lastTradeDate','postMarketTime','storeDate']"
   ]
  },
  {
   "cell_type": "code",
   "execution_count": 132,
   "metadata": {
    "ExecuteTime": {
     "end_time": "2018-09-21T00:18:16.833415Z",
     "start_time": "2018-09-21T00:18:16.813024Z"
    },
    "hidden": true
   },
   "outputs": [
    {
     "name": "stdout",
     "output_type": "stream",
     "text": [
      "<class 'pandas.core.frame.DataFrame'>\n",
      "Int64Index: 2235 entries, 0 to 324\n",
      "Data columns (total 69 columns):\n",
      "ask                                  2228 non-null float64\n",
      "askSize                              2228 non-null float64\n",
      "averageDailyVolume10Day              2232 non-null float64\n",
      "averageDailyVolume3Month             2232 non-null float64\n",
      "bid                                  2228 non-null float64\n",
      "bidSize                              2228 non-null float64\n",
      "bookValue                            2226 non-null float64\n",
      "currency                             2230 non-null object\n",
      "earningsTimestamp                    2136 non-null float64\n",
      "earningsTimestampEnd                 2052 non-null float64\n",
      "earningsTimestampStart               2052 non-null float64\n",
      "epsForward                           2198 non-null float64\n",
      "epsTrailingTwelveMonths              2226 non-null float64\n",
      "exchange                             2235 non-null object\n",
      "exchangeDataDelayedBy                2235 non-null int64\n",
      "exchangeTimezoneName                 2235 non-null object\n",
      "exchangeTimezoneShortName            2235 non-null object\n",
      "fiftyDayAverage                      2232 non-null float64\n",
      "fiftyDayAverageChange                2228 non-null float64\n",
      "fiftyDayAverageChangePercent         2228 non-null float64\n",
      "fiftyTwoWeekHigh                     2235 non-null float64\n",
      "fiftyTwoWeekHighChange               2230 non-null float64\n",
      "fiftyTwoWeekHighChangePercent        2228 non-null float64\n",
      "fiftyTwoWeekLow                      2235 non-null float64\n",
      "fiftyTwoWeekLowChange                2230 non-null float64\n",
      "fiftyTwoWeekLowChangePercent         2226 non-null float64\n",
      "fiftyTwoWeekRange                    2235 non-null object\n",
      "financialCurrency                    2226 non-null object\n",
      "forwardPE                            2198 non-null float64\n",
      "fullExchangeName                     2235 non-null object\n",
      "gmtOffSetMilliseconds                2235 non-null int64\n",
      "language                             2235 non-null object\n",
      "longName                             2228 non-null object\n",
      "market                               2235 non-null object\n",
      "marketCap                            2228 non-null float64\n",
      "marketState                          2235 non-null object\n",
      "messageBoardId                       2228 non-null object\n",
      "postMarketChange                     2163 non-null float64\n",
      "postMarketChangePercent              2163 non-null float64\n",
      "postMarketPrice                      2163 non-null float64\n",
      "postMarketTime                       2163 non-null float64\n",
      "priceHint                            2233 non-null float64\n",
      "priceToBook                          2226 non-null float64\n",
      "quoteSourceName                      2132 non-null object\n",
      "quoteType                            2235 non-null object\n",
      "region                               2235 non-null object\n",
      "regularMarketChange                  2230 non-null float64\n",
      "regularMarketChangePercent           2230 non-null float64\n",
      "regularMarketDayHigh                 2230 non-null float64\n",
      "regularMarketDayLow                  2230 non-null float64\n",
      "regularMarketDayRange                2230 non-null object\n",
      "regularMarketOpen                    2228 non-null float64\n",
      "regularMarketPreviousClose           2230 non-null float64\n",
      "regularMarketPrice                   2230 non-null float64\n",
      "regularMarketTime                    2230 non-null float64\n",
      "regularMarketVolume                  2230 non-null float64\n",
      "sharesOutstanding                    2228 non-null float64\n",
      "shortName                            2230 non-null object\n",
      "sourceInterval                       2235 non-null int64\n",
      "symbol                               2235 non-null object\n",
      "tradeable                            2235 non-null bool\n",
      "twoHundredDayAverage                 2232 non-null float64\n",
      "twoHundredDayAverageChange           2228 non-null float64\n",
      "twoHundredDayAverageChangePercent    2228 non-null float64\n",
      "storeDate                            2235 non-null float64\n",
      "dividendDate                         922 non-null float64\n",
      "trailingAnnualDividendRate           852 non-null float64\n",
      "trailingAnnualDividendYield          852 non-null float64\n",
      "trailingPE                           1712 non-null float64\n",
      "dtypes: bool(1), float64(47), int64(3), object(18)\n",
      "memory usage: 1.2+ MB\n"
     ]
    }
   ],
   "source": [
    "all_quotes.info()"
   ]
  },
  {
   "cell_type": "code",
   "execution_count": 133,
   "metadata": {
    "ExecuteTime": {
     "end_time": "2018-09-21T00:18:22.252558Z",
     "start_time": "2018-09-21T00:18:22.244951Z"
    },
    "hidden": true
   },
   "outputs": [
    {
     "data": {
      "text/plain": [
       "postMarketTime                              1.53635e+09\n",
       "priceHint                                             2\n",
       "priceToBook                                     7.50741\n",
       "quoteSourceName                           Delayed Quote\n",
       "quoteType                                        EQUITY\n",
       "region                                               US\n",
       "regularMarketChange                             0.76001\n",
       "regularMarketChangePercent                     0.396396\n",
       "regularMarketDayHigh                             193.82\n",
       "regularMarketDayLow                             191.175\n",
       "regularMarketDayRange                  191.175 - 193.82\n",
       "regularMarketOpen                                191.36\n",
       "regularMarketPreviousClose                       191.73\n",
       "regularMarketPrice                               192.49\n",
       "regularMarketTime                           1.53635e+09\n",
       "regularMarketVolume                              430680\n",
       "sharesOutstanding                            7.7067e+07\n",
       "shortName                            Waters Corporation\n",
       "sourceInterval                                       15\n",
       "symbol                                              WAT\n",
       "tradeable                                          True\n",
       "twoHundredDayAverage                            197.485\n",
       "twoHundredDayAverageChange                      -4.9951\n",
       "twoHundredDayAverageChangePercent            -0.0252936\n",
       "storeDate                                   1.53628e+09\n",
       "dividendDate                                        NaN\n",
       "trailingAnnualDividendRate                          NaN\n",
       "trailingAnnualDividendYield                         NaN\n",
       "trailingPE                                      303.134\n",
       "Name: 52, dtype: object"
      ]
     },
     "execution_count": 133,
     "metadata": {},
     "output_type": "execute_result"
    }
   ],
   "source": [
    "idx = random.randint(0, all_quotes.shape[1]-1)\n",
    "# all_quotes.iloc[idx][:20]\n",
    "# all_quotes.iloc[idx][20:40]\n",
    "all_quotes.iloc[idx][40:]"
   ]
  },
  {
   "cell_type": "markdown",
   "metadata": {},
   "source": [
    "### Transformations"
   ]
  },
  {
   "cell_type": "code",
   "execution_count": 223,
   "metadata": {
    "ExecuteTime": {
     "end_time": "2018-09-22T00:07:40.582197Z",
     "start_time": "2018-09-22T00:07:40.578634Z"
    }
   },
   "outputs": [],
   "source": [
    "def zerona_turn_2dates(df, cols):\n",
    "    df.fillna(0, inplace=True)\n",
    "    cols_to_date(df, cols)"
   ]
  },
  {
   "cell_type": "code",
   "execution_count": 224,
   "metadata": {
    "ExecuteTime": {
     "end_time": "2018-09-22T00:07:43.509494Z",
     "start_time": "2018-09-22T00:07:41.149533Z"
    }
   },
   "outputs": [
    {
     "ename": "TypeError",
     "evalue": "an integer is required (got type datetime.date)",
     "output_type": "error",
     "traceback": [
      "\u001b[0;31m---------------------------------------------------------------------------\u001b[0m",
      "\u001b[0;31mTypeError\u001b[0m                                 Traceback (most recent call last)",
      "\u001b[0;32m<ipython-input-224-750a28377132>\u001b[0m in \u001b[0;36m<module>\u001b[0;34m()\u001b[0m\n\u001b[1;32m      1\u001b[0m \u001b[0mzerona_turn_2dates\u001b[0m\u001b[0;34m(\u001b[0m\u001b[0mall_options\u001b[0m\u001b[0;34m,\u001b[0m \u001b[0;34m[\u001b[0m\u001b[0;34m'expiration'\u001b[0m\u001b[0;34m,\u001b[0m \u001b[0;34m'lastTradeDate'\u001b[0m\u001b[0;34m,\u001b[0m \u001b[0;34m'storeDate'\u001b[0m\u001b[0;34m]\u001b[0m\u001b[0;34m)\u001b[0m\u001b[0;34m\u001b[0m\u001b[0m\n\u001b[0;32m----> 2\u001b[0;31m \u001b[0mzerona_turn_2dates\u001b[0m\u001b[0;34m(\u001b[0m\u001b[0mall_quotes\u001b[0m\u001b[0;34m,\u001b[0m \u001b[0mcol_dates\u001b[0m\u001b[0;34m)\u001b[0m\u001b[0;34m\u001b[0m\u001b[0m\n\u001b[0m\u001b[1;32m      3\u001b[0m \u001b[0;34m\u001b[0m\u001b[0m\n\u001b[1;32m      4\u001b[0m \u001b[0;31m# all_quotes.fillna(0, inplace=True)\u001b[0m\u001b[0;34m\u001b[0m\u001b[0;34m\u001b[0m\u001b[0m\n\u001b[1;32m      5\u001b[0m \u001b[0;31m# all_options.fillna(0, inplace=True)\u001b[0m\u001b[0;34m\u001b[0m\u001b[0;34m\u001b[0m\u001b[0m\n",
      "\u001b[0;32m<ipython-input-223-19f0b823f21b>\u001b[0m in \u001b[0;36mzerona_turn_2dates\u001b[0;34m(df, cols)\u001b[0m\n\u001b[1;32m      1\u001b[0m \u001b[0;32mdef\u001b[0m \u001b[0mzerona_turn_2dates\u001b[0m\u001b[0;34m(\u001b[0m\u001b[0mdf\u001b[0m\u001b[0;34m,\u001b[0m \u001b[0mcols\u001b[0m\u001b[0;34m)\u001b[0m\u001b[0;34m:\u001b[0m\u001b[0;34m\u001b[0m\u001b[0m\n\u001b[1;32m      2\u001b[0m     \u001b[0mdf\u001b[0m\u001b[0;34m.\u001b[0m\u001b[0mfillna\u001b[0m\u001b[0;34m(\u001b[0m\u001b[0;36m0\u001b[0m\u001b[0;34m,\u001b[0m \u001b[0minplace\u001b[0m\u001b[0;34m=\u001b[0m\u001b[0;32mTrue\u001b[0m\u001b[0;34m)\u001b[0m\u001b[0;34m\u001b[0m\u001b[0m\n\u001b[0;32m----> 3\u001b[0;31m     \u001b[0mcols_to_date\u001b[0m\u001b[0;34m(\u001b[0m\u001b[0mdf\u001b[0m\u001b[0;34m,\u001b[0m \u001b[0mcols\u001b[0m\u001b[0;34m)\u001b[0m\u001b[0;34m\u001b[0m\u001b[0m\n\u001b[0m",
      "\u001b[0;32m<ipython-input-220-da6c0ad52320>\u001b[0m in \u001b[0;36mcols_to_date\u001b[0;34m(df, cols)\u001b[0m\n\u001b[1;32m      2\u001b[0m \u001b[0;32mdef\u001b[0m \u001b[0mcols_to_date\u001b[0m\u001b[0;34m(\u001b[0m\u001b[0mdf\u001b[0m\u001b[0;34m,\u001b[0m \u001b[0mcols\u001b[0m\u001b[0;34m)\u001b[0m\u001b[0;34m:\u001b[0m\u001b[0;34m\u001b[0m\u001b[0m\n\u001b[1;32m      3\u001b[0m     \u001b[0;32mfor\u001b[0m \u001b[0mc\u001b[0m \u001b[0;32min\u001b[0m \u001b[0mcols\u001b[0m\u001b[0;34m:\u001b[0m\u001b[0;34m\u001b[0m\u001b[0m\n\u001b[0;32m----> 4\u001b[0;31m         \u001b[0;32mif\u001b[0m \u001b[0mc\u001b[0m \u001b[0;32min\u001b[0m \u001b[0mdf\u001b[0m\u001b[0;34m.\u001b[0m\u001b[0mcolumns\u001b[0m\u001b[0;34m:\u001b[0m \u001b[0mdf\u001b[0m\u001b[0;34m[\u001b[0m\u001b[0mc\u001b[0m\u001b[0;34m]\u001b[0m \u001b[0;34m=\u001b[0m \u001b[0mdf\u001b[0m\u001b[0;34m[\u001b[0m\u001b[0mc\u001b[0m\u001b[0;34m]\u001b[0m\u001b[0;34m.\u001b[0m\u001b[0mapply\u001b[0m\u001b[0;34m(\u001b[0m\u001b[0mdate_lambda\u001b[0m\u001b[0;34m)\u001b[0m\u001b[0;34m\u001b[0m\u001b[0m\n\u001b[0m\u001b[1;32m      5\u001b[0m \u001b[0;32mdef\u001b[0m \u001b[0mcols_to_bool\u001b[0m\u001b[0;34m(\u001b[0m\u001b[0mdf\u001b[0m\u001b[0;34m,\u001b[0m \u001b[0mcols\u001b[0m\u001b[0;34m)\u001b[0m\u001b[0;34m:\u001b[0m\u001b[0;34m\u001b[0m\u001b[0m\n\u001b[1;32m      6\u001b[0m     \u001b[0;32mfor\u001b[0m \u001b[0mc\u001b[0m \u001b[0;32min\u001b[0m \u001b[0mcols\u001b[0m\u001b[0;34m:\u001b[0m \u001b[0mdf\u001b[0m\u001b[0;34m[\u001b[0m\u001b[0mc\u001b[0m\u001b[0;34m]\u001b[0m \u001b[0;34m=\u001b[0m \u001b[0mdf\u001b[0m\u001b[0;34m[\u001b[0m\u001b[0mc\u001b[0m\u001b[0;34m]\u001b[0m\u001b[0;34m.\u001b[0m\u001b[0mapply\u001b[0m\u001b[0;34m(\u001b[0m\u001b[0;32mlambda\u001b[0m \u001b[0mx\u001b[0m\u001b[0;34m:\u001b[0m \u001b[0mpd\u001b[0m\u001b[0;34m.\u001b[0m\u001b[0mto_numeric\u001b[0m\u001b[0;34m(\u001b[0m\u001b[0mx\u001b[0m\u001b[0;34m)\u001b[0m\u001b[0;34m)\u001b[0m\u001b[0;34m\u001b[0m\u001b[0m\n",
      "\u001b[0;32m~/miniconda3/lib/python3.6/site-packages/pandas/core/series.py\u001b[0m in \u001b[0;36mapply\u001b[0;34m(self, func, convert_dtype, args, **kwds)\u001b[0m\n\u001b[1;32m   3192\u001b[0m             \u001b[0;32melse\u001b[0m\u001b[0;34m:\u001b[0m\u001b[0;34m\u001b[0m\u001b[0m\n\u001b[1;32m   3193\u001b[0m                 \u001b[0mvalues\u001b[0m \u001b[0;34m=\u001b[0m \u001b[0mself\u001b[0m\u001b[0;34m.\u001b[0m\u001b[0mastype\u001b[0m\u001b[0;34m(\u001b[0m\u001b[0mobject\u001b[0m\u001b[0;34m)\u001b[0m\u001b[0;34m.\u001b[0m\u001b[0mvalues\u001b[0m\u001b[0;34m\u001b[0m\u001b[0m\n\u001b[0;32m-> 3194\u001b[0;31m                 \u001b[0mmapped\u001b[0m \u001b[0;34m=\u001b[0m \u001b[0mlib\u001b[0m\u001b[0;34m.\u001b[0m\u001b[0mmap_infer\u001b[0m\u001b[0;34m(\u001b[0m\u001b[0mvalues\u001b[0m\u001b[0;34m,\u001b[0m \u001b[0mf\u001b[0m\u001b[0;34m,\u001b[0m \u001b[0mconvert\u001b[0m\u001b[0;34m=\u001b[0m\u001b[0mconvert_dtype\u001b[0m\u001b[0;34m)\u001b[0m\u001b[0;34m\u001b[0m\u001b[0m\n\u001b[0m\u001b[1;32m   3195\u001b[0m \u001b[0;34m\u001b[0m\u001b[0m\n\u001b[1;32m   3196\u001b[0m         \u001b[0;32mif\u001b[0m \u001b[0mlen\u001b[0m\u001b[0;34m(\u001b[0m\u001b[0mmapped\u001b[0m\u001b[0;34m)\u001b[0m \u001b[0;32mand\u001b[0m \u001b[0misinstance\u001b[0m\u001b[0;34m(\u001b[0m\u001b[0mmapped\u001b[0m\u001b[0;34m[\u001b[0m\u001b[0;36m0\u001b[0m\u001b[0;34m]\u001b[0m\u001b[0;34m,\u001b[0m \u001b[0mSeries\u001b[0m\u001b[0;34m)\u001b[0m\u001b[0;34m:\u001b[0m\u001b[0;34m\u001b[0m\u001b[0m\n",
      "\u001b[0;32mpandas/_libs/src/inference.pyx\u001b[0m in \u001b[0;36mpandas._libs.lib.map_infer\u001b[0;34m()\u001b[0m\n",
      "\u001b[0;32m<ipython-input-220-da6c0ad52320>\u001b[0m in \u001b[0;36m<lambda>\u001b[0;34m(x)\u001b[0m\n\u001b[1;32m     13\u001b[0m \u001b[0;31m# lambdas\u001b[0m\u001b[0;34m\u001b[0m\u001b[0;34m\u001b[0m\u001b[0m\n\u001b[1;32m     14\u001b[0m \u001b[0;31m# date_lambda = lambda x: date.fromtimestamp(x) if x > 0 else 0\u001b[0m\u001b[0;34m\u001b[0m\u001b[0;34m\u001b[0m\u001b[0m\n\u001b[0;32m---> 15\u001b[0;31m \u001b[0mdate_lambda\u001b[0m \u001b[0;34m=\u001b[0m \u001b[0;32mlambda\u001b[0m \u001b[0mx\u001b[0m\u001b[0;34m:\u001b[0m \u001b[0mdate\u001b[0m\u001b[0;34m.\u001b[0m\u001b[0mfromtimestamp\u001b[0m\u001b[0;34m(\u001b[0m\u001b[0mx\u001b[0m\u001b[0;34m)\u001b[0m\u001b[0;34m\u001b[0m\u001b[0m\n\u001b[0m\u001b[1;32m     16\u001b[0m \u001b[0mpd_datetime\u001b[0m \u001b[0;34m=\u001b[0m \u001b[0;32mlambda\u001b[0m \u001b[0mx\u001b[0m\u001b[0;34m:\u001b[0m \u001b[0mpd\u001b[0m\u001b[0;34m.\u001b[0m\u001b[0mto_datetime\u001b[0m\u001b[0;34m(\u001b[0m\u001b[0mx\u001b[0m\u001b[0;34m)\u001b[0m\u001b[0;34m\u001b[0m\u001b[0m\n\u001b[1;32m     17\u001b[0m \u001b[0mdatetime_lambda\u001b[0m \u001b[0;34m=\u001b[0m \u001b[0;32mlambda\u001b[0m \u001b[0mx\u001b[0m\u001b[0;34m:\u001b[0m \u001b[0mdatetime\u001b[0m\u001b[0;34m.\u001b[0m\u001b[0mfromtimestamp\u001b[0m\u001b[0;34m(\u001b[0m\u001b[0mx\u001b[0m\u001b[0;34m)\u001b[0m \u001b[0;32mif\u001b[0m \u001b[0mx\u001b[0m \u001b[0;34m>\u001b[0m \u001b[0;36m0\u001b[0m \u001b[0;32melse\u001b[0m \u001b[0;36m0\u001b[0m\u001b[0;34m\u001b[0m\u001b[0m\n",
      "\u001b[0;31mTypeError\u001b[0m: an integer is required (got type datetime.date)"
     ]
    }
   ],
   "source": [
    "zerona_turn_2dates(all_options, ['expiration', 'lastTradeDate', 'storeDate'])\n",
    "zerona_turn_2dates(all_quotes, col_dates)\n",
    "    \n",
    "# all_quotes.fillna(0, inplace=True)\n",
    "# all_options.fillna(0, inplace=True)\n",
    "# cols_to_date(all_options, col_dates)\n",
    "# cols_to_date(all_quotes, col_dates)"
   ]
  },
  {
   "cell_type": "code",
   "execution_count": 182,
   "metadata": {
    "ExecuteTime": {
     "end_time": "2018-09-21T00:36:45.600581Z",
     "start_time": "2018-09-21T00:36:45.576610Z"
    }
   },
   "outputs": [
    {
     "ename": "ValueError",
     "evalue": "You are trying to merge on float64 and object columns. If you wish to proceed you should use pd.concat",
     "output_type": "error",
     "traceback": [
      "\u001b[0;31m---------------------------------------------------------------------------\u001b[0m",
      "\u001b[0;31mValueError\u001b[0m                                Traceback (most recent call last)",
      "\u001b[0;32m<ipython-input-182-f7578ad4cd65>\u001b[0m in \u001b[0;36m<module>\u001b[0;34m()\u001b[0m\n\u001b[0;32m----> 1\u001b[0;31m \u001b[0mmerged_df\u001b[0m \u001b[0;34m=\u001b[0m \u001b[0mmerge_ds\u001b[0m\u001b[0;34m(\u001b[0m\u001b[0mall_quotes\u001b[0m\u001b[0;34m,\u001b[0m \u001b[0mall_options\u001b[0m\u001b[0;34m)\u001b[0m\u001b[0;34m\u001b[0m\u001b[0m\n\u001b[0m",
      "\u001b[0;32m<ipython-input-176-a2f659bb79fc>\u001b[0m in \u001b[0;36mmerge_ds\u001b[0;34m(q_df, o_df)\u001b[0m\n\u001b[1;32m     13\u001b[0m     merged_df = q_df.merge(o_df, how='inner', \n\u001b[1;32m     14\u001b[0m                            \u001b[0mleft_on\u001b[0m\u001b[0;34m=\u001b[0m\u001b[0;34m[\u001b[0m\u001b[0;34m'symbol'\u001b[0m\u001b[0;34m,\u001b[0m \u001b[0;34m'regularMarketTime'\u001b[0m\u001b[0;34m]\u001b[0m\u001b[0;34m,\u001b[0m\u001b[0;34m\u001b[0m\u001b[0m\n\u001b[0;32m---> 15\u001b[0;31m                            right_on=['underlyingSymbol','lastTradeDate'])\n\u001b[0m\u001b[1;32m     16\u001b[0m     \u001b[0;32mreturn\u001b[0m \u001b[0mmerged_df\u001b[0m\u001b[0;34m\u001b[0m\u001b[0m\n\u001b[1;32m     17\u001b[0m \u001b[0;34m\u001b[0m\u001b[0m\n",
      "\u001b[0;32m~/miniconda3/lib/python3.6/site-packages/pandas/core/frame.py\u001b[0m in \u001b[0;36mmerge\u001b[0;34m(self, right, how, on, left_on, right_on, left_index, right_index, sort, suffixes, copy, indicator, validate)\u001b[0m\n\u001b[1;32m   6387\u001b[0m                      \u001b[0mright_on\u001b[0m\u001b[0;34m=\u001b[0m\u001b[0mright_on\u001b[0m\u001b[0;34m,\u001b[0m \u001b[0mleft_index\u001b[0m\u001b[0;34m=\u001b[0m\u001b[0mleft_index\u001b[0m\u001b[0;34m,\u001b[0m\u001b[0;34m\u001b[0m\u001b[0m\n\u001b[1;32m   6388\u001b[0m                      \u001b[0mright_index\u001b[0m\u001b[0;34m=\u001b[0m\u001b[0mright_index\u001b[0m\u001b[0;34m,\u001b[0m \u001b[0msort\u001b[0m\u001b[0;34m=\u001b[0m\u001b[0msort\u001b[0m\u001b[0;34m,\u001b[0m \u001b[0msuffixes\u001b[0m\u001b[0;34m=\u001b[0m\u001b[0msuffixes\u001b[0m\u001b[0;34m,\u001b[0m\u001b[0;34m\u001b[0m\u001b[0m\n\u001b[0;32m-> 6389\u001b[0;31m                      copy=copy, indicator=indicator, validate=validate)\n\u001b[0m\u001b[1;32m   6390\u001b[0m \u001b[0;34m\u001b[0m\u001b[0m\n\u001b[1;32m   6391\u001b[0m     \u001b[0;32mdef\u001b[0m \u001b[0mround\u001b[0m\u001b[0;34m(\u001b[0m\u001b[0mself\u001b[0m\u001b[0;34m,\u001b[0m \u001b[0mdecimals\u001b[0m\u001b[0;34m=\u001b[0m\u001b[0;36m0\u001b[0m\u001b[0;34m,\u001b[0m \u001b[0;34m*\u001b[0m\u001b[0margs\u001b[0m\u001b[0;34m,\u001b[0m \u001b[0;34m**\u001b[0m\u001b[0mkwargs\u001b[0m\u001b[0;34m)\u001b[0m\u001b[0;34m:\u001b[0m\u001b[0;34m\u001b[0m\u001b[0m\n",
      "\u001b[0;32m~/miniconda3/lib/python3.6/site-packages/pandas/core/reshape/merge.py\u001b[0m in \u001b[0;36mmerge\u001b[0;34m(left, right, how, on, left_on, right_on, left_index, right_index, sort, suffixes, copy, indicator, validate)\u001b[0m\n\u001b[1;32m     59\u001b[0m                          \u001b[0mright_index\u001b[0m\u001b[0;34m=\u001b[0m\u001b[0mright_index\u001b[0m\u001b[0;34m,\u001b[0m \u001b[0msort\u001b[0m\u001b[0;34m=\u001b[0m\u001b[0msort\u001b[0m\u001b[0;34m,\u001b[0m \u001b[0msuffixes\u001b[0m\u001b[0;34m=\u001b[0m\u001b[0msuffixes\u001b[0m\u001b[0;34m,\u001b[0m\u001b[0;34m\u001b[0m\u001b[0m\n\u001b[1;32m     60\u001b[0m                          \u001b[0mcopy\u001b[0m\u001b[0;34m=\u001b[0m\u001b[0mcopy\u001b[0m\u001b[0;34m,\u001b[0m \u001b[0mindicator\u001b[0m\u001b[0;34m=\u001b[0m\u001b[0mindicator\u001b[0m\u001b[0;34m,\u001b[0m\u001b[0;34m\u001b[0m\u001b[0m\n\u001b[0;32m---> 61\u001b[0;31m                          validate=validate)\n\u001b[0m\u001b[1;32m     62\u001b[0m     \u001b[0;32mreturn\u001b[0m \u001b[0mop\u001b[0m\u001b[0;34m.\u001b[0m\u001b[0mget_result\u001b[0m\u001b[0;34m(\u001b[0m\u001b[0;34m)\u001b[0m\u001b[0;34m\u001b[0m\u001b[0m\n\u001b[1;32m     63\u001b[0m \u001b[0;34m\u001b[0m\u001b[0m\n",
      "\u001b[0;32m~/miniconda3/lib/python3.6/site-packages/pandas/core/reshape/merge.py\u001b[0m in \u001b[0;36m__init__\u001b[0;34m(self, left, right, how, on, left_on, right_on, axis, left_index, right_index, sort, suffixes, copy, indicator, validate)\u001b[0m\n\u001b[1;32m    553\u001b[0m         \u001b[0;31m# validate the merge keys dtypes. We may need to coerce\u001b[0m\u001b[0;34m\u001b[0m\u001b[0;34m\u001b[0m\u001b[0m\n\u001b[1;32m    554\u001b[0m         \u001b[0;31m# to avoid incompat dtypes\u001b[0m\u001b[0;34m\u001b[0m\u001b[0;34m\u001b[0m\u001b[0m\n\u001b[0;32m--> 555\u001b[0;31m         \u001b[0mself\u001b[0m\u001b[0;34m.\u001b[0m\u001b[0m_maybe_coerce_merge_keys\u001b[0m\u001b[0;34m(\u001b[0m\u001b[0;34m)\u001b[0m\u001b[0;34m\u001b[0m\u001b[0m\n\u001b[0m\u001b[1;32m    556\u001b[0m \u001b[0;34m\u001b[0m\u001b[0m\n\u001b[1;32m    557\u001b[0m         \u001b[0;31m# If argument passed to validate,\u001b[0m\u001b[0;34m\u001b[0m\u001b[0;34m\u001b[0m\u001b[0m\n",
      "\u001b[0;32m~/miniconda3/lib/python3.6/site-packages/pandas/core/reshape/merge.py\u001b[0m in \u001b[0;36m_maybe_coerce_merge_keys\u001b[0;34m(self)\u001b[0m\n\u001b[1;32m    981\u001b[0m             elif ((is_numeric_dtype(lk) and not is_bool_dtype(lk))\n\u001b[1;32m    982\u001b[0m                     and not is_numeric_dtype(rk)):\n\u001b[0;32m--> 983\u001b[0;31m                 \u001b[0;32mraise\u001b[0m \u001b[0mValueError\u001b[0m\u001b[0;34m(\u001b[0m\u001b[0mmsg\u001b[0m\u001b[0;34m)\u001b[0m\u001b[0;34m\u001b[0m\u001b[0m\n\u001b[0m\u001b[1;32m    984\u001b[0m             elif (not is_numeric_dtype(lk)\n\u001b[1;32m    985\u001b[0m                     and (is_numeric_dtype(rk) and not is_bool_dtype(rk))):\n",
      "\u001b[0;31mValueError\u001b[0m: You are trying to merge on float64 and object columns. If you wish to proceed you should use pd.concat"
     ]
    }
   ],
   "source": [
    "merged_df = merge_ds(all_quotes, all_options)"
   ]
  },
  {
   "cell_type": "code",
   "execution_count": 96,
   "metadata": {
    "ExecuteTime": {
     "end_time": "2018-09-20T22:48:31.555113Z",
     "start_time": "2018-09-20T22:48:23.990340Z"
    }
   },
   "outputs": [
    {
     "name": "stdout",
     "output_type": "stream",
     "text": [
      "<class 'pandas.core.frame.DataFrame'>\n",
      "Int64Index: 343031 entries, 0 to 343030\n",
      "Data columns (total 87 columns):\n",
      "ask_x                                343031 non-null float64\n",
      "askSize                              343031 non-null float64\n",
      "averageDailyVolume10Day              343031 non-null float64\n",
      "averageDailyVolume3Month             343031 non-null float64\n",
      "bid_x                                343031 non-null float64\n",
      "bidSize                              343031 non-null float64\n",
      "bookValue                            343031 non-null float64\n",
      "currency_x                           343031 non-null object\n",
      "dividendDate                         343031 non-null object\n",
      "earningsTimestamp                    343031 non-null object\n",
      "earningsTimestampEnd                 343031 non-null object\n",
      "earningsTimestampStart               343031 non-null object\n",
      "epsForward                           343031 non-null float64\n",
      "epsTrailingTwelveMonths              343031 non-null float64\n",
      "exchange                             343031 non-null object\n",
      "exchangeDataDelayedBy                343031 non-null int64\n",
      "exchangeTimezoneName                 343031 non-null object\n",
      "exchangeTimezoneShortName            343031 non-null object\n",
      "fiftyDayAverage                      343031 non-null float64\n",
      "fiftyDayAverageChange                343031 non-null float64\n",
      "fiftyDayAverageChangePercent         343031 non-null float64\n",
      "fiftyTwoWeekHigh                     343031 non-null float64\n",
      "fiftyTwoWeekHighChange               343031 non-null float64\n",
      "fiftyTwoWeekHighChangePercent        343031 non-null float64\n",
      "fiftyTwoWeekLow                      343031 non-null float64\n",
      "fiftyTwoWeekLowChange                343031 non-null float64\n",
      "fiftyTwoWeekLowChangePercent         343031 non-null float64\n",
      "fiftyTwoWeekRange                    343031 non-null object\n",
      "financialCurrency                    343031 non-null object\n",
      "forwardPE                            343031 non-null float64\n",
      "fullExchangeName                     343031 non-null object\n",
      "gmtOffSetMilliseconds                343031 non-null int64\n",
      "language                             343031 non-null object\n",
      "longName                             343031 non-null object\n",
      "market                               343031 non-null object\n",
      "marketCap                            343031 non-null float64\n",
      "marketState                          343031 non-null object\n",
      "messageBoardId                       343031 non-null object\n",
      "postMarketChange                     343031 non-null float64\n",
      "postMarketChangePercent              343031 non-null float64\n",
      "postMarketPrice                      343031 non-null float64\n",
      "postMarketTime                       343031 non-null object\n",
      "priceHint                            343031 non-null float64\n",
      "priceToBook                          343031 non-null float64\n",
      "quoteSourceName                      343031 non-null object\n",
      "quoteType                            343031 non-null object\n",
      "region                               343031 non-null object\n",
      "regularMarketChange                  343031 non-null float64\n",
      "regularMarketChangePercent           343031 non-null float64\n",
      "regularMarketDayHigh                 343031 non-null float64\n",
      "regularMarketDayLow                  343031 non-null float64\n",
      "regularMarketDayRange                343031 non-null object\n",
      "regularMarketOpen                    343031 non-null float64\n",
      "regularMarketPreviousClose           343031 non-null float64\n",
      "regularMarketPrice                   343031 non-null float64\n",
      "regularMarketTime                    343031 non-null object\n",
      "regularMarketVolume                  343031 non-null float64\n",
      "sharesOutstanding                    343031 non-null float64\n",
      "shortName                            343031 non-null object\n",
      "sourceInterval                       343031 non-null int64\n",
      "storeDate_x                          343031 non-null object\n",
      "symbol                               343031 non-null object\n",
      "tradeable                            343031 non-null bool\n",
      "trailingAnnualDividendRate           343031 non-null float64\n",
      "trailingAnnualDividendYield          343031 non-null float64\n",
      "trailingPE                           343031 non-null float64\n",
      "twoHundredDayAverage                 343031 non-null float64\n",
      "twoHundredDayAverageChange           343031 non-null float64\n",
      "twoHundredDayAverageChangePercent    343031 non-null float64\n",
      "ask_y                                343031 non-null float64\n",
      "bid_y                                343031 non-null float64\n",
      "change                               343031 non-null float64\n",
      "contractSize                         343031 non-null object\n",
      "contractSymbol                       343031 non-null object\n",
      "currency_y                           343031 non-null object\n",
      "expiration                           343031 non-null object\n",
      "impliedVolatility                    343031 non-null float64\n",
      "inTheMoney                           343031 non-null bool\n",
      "lastPrice                            343031 non-null float64\n",
      "lastTradeDate                        343031 non-null object\n",
      "openInterest                         343031 non-null float64\n",
      "percentChange                        343031 non-null float64\n",
      "strike                               343031 non-null float64\n",
      "volume                               343031 non-null float64\n",
      "underlyingSymbol                     343031 non-null object\n",
      "storeDate_y                          343031 non-null object\n",
      "type                                 343031 non-null object\n",
      "dtypes: bool(2), float64(49), int64(3), object(33)\n",
      "memory usage: 225.7+ MB\n"
     ]
    }
   ],
   "source": [
    "merged_df.info()"
   ]
  },
  {
   "cell_type": "code",
   "execution_count": null,
   "metadata": {},
   "outputs": [],
   "source": []
  }
 ],
 "metadata": {
  "kernelspec": {
   "display_name": "Python 3",
   "language": "python",
   "name": "python3"
  },
  "language_info": {
   "codemirror_mode": {
    "name": "ipython",
    "version": 3
   },
   "file_extension": ".py",
   "mimetype": "text/x-python",
   "name": "python",
   "nbconvert_exporter": "python",
   "pygments_lexer": "ipython3",
   "version": "3.6.6"
  },
  "toc": {
   "base_numbering": 1,
   "nav_menu": {},
   "number_sections": true,
   "sideBar": true,
   "skip_h1_title": false,
   "title_cell": "Table of Contents",
   "title_sidebar": "Contents",
   "toc_cell": false,
   "toc_position": {},
   "toc_section_display": true,
   "toc_window_display": false
  }
 },
 "nbformat": 4,
 "nbformat_minor": 2
}
